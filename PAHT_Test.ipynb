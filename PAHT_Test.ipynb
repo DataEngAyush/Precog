{
 "cells": [
  {
   "cell_type": "code",
   "execution_count": 1,
   "id": "fe2b3162-a5c2-4c7e-ace1-894c365bda78",
   "metadata": {
    "execution": {
     "iopub.execute_input": "2022-09-23T13:11:41.226093Z",
     "iopub.status.busy": "2022-09-23T13:11:41.225831Z",
     "iopub.status.idle": "2022-09-23T13:12:06.080517Z",
     "shell.execute_reply": "2022-09-23T13:12:06.079870Z",
     "shell.execute_reply.started": "2022-09-23T13:11:41.226067Z"
    }
   },
   "outputs": [
    {
     "data": {
      "application/vnd.jupyter.widget-view+json": {
       "model_id": "cc45b37cefd943fba777405e67850e53",
       "version_major": 2,
       "version_minor": 0
      },
      "text/plain": [
       "VBox()"
      ]
     },
     "metadata": {},
     "output_type": "display_data"
    },
    {
     "name": "stdout",
     "output_type": "stream",
     "text": [
      "Starting Spark application\n"
     ]
    },
    {
     "data": {
      "text/html": [
       "<table>\n",
       "<tr><th>ID</th><th>YARN Application ID</th><th>Kind</th><th>State</th><th>Spark UI</th><th>Driver log</th><th>Current session?</th></tr><tr><td>2</td><td>application_1663909989453_0033</td><td>pyspark</td><td>idle</td><td><a target=\"_blank\" href=\"http://ip-20-0-4-215.ap-south-1.compute.internal:20888/proxy/application_1663909989453_0033/\" class=\"emr-proxy-link\" emr-resource=\"j-16WPF3DKOPHCK\n",
       "\" application-id=\"application_1663909989453_0033\">Link</a></td><td><a target=\"_blank\" href=\"http://ip-20-0-4-144.ap-south-1.compute.internal:8042/node/containerlogs/container_1663909989453_0033_01_000001/livy\" >Link</a></td><td>✔</td></tr></table>"
      ],
      "text/plain": [
       "<IPython.core.display.HTML object>"
      ]
     },
     "metadata": {},
     "output_type": "display_data"
    },
    {
     "data": {
      "application/vnd.jupyter.widget-view+json": {
       "model_id": "",
       "version_major": 2,
       "version_minor": 0
      },
      "text/plain": [
       "FloatProgress(value=0.0, bar_style='info', description='Progress:', layout=Layout(height='25px', width='50%'),…"
      ]
     },
     "metadata": {},
     "output_type": "display_data"
    },
    {
     "name": "stdout",
     "output_type": "stream",
     "text": [
      "SparkSession available as 'spark'.\n"
     ]
    },
    {
     "data": {
      "application/vnd.jupyter.widget-view+json": {
       "model_id": "",
       "version_major": 2,
       "version_minor": 0
      },
      "text/plain": [
       "FloatProgress(value=0.0, bar_style='info', description='Progress:', layout=Layout(height='25px', width='50%'),…"
      ]
     },
     "metadata": {},
     "output_type": "display_data"
    }
   ],
   "source": [
    "from pyspark import SparkConf\n",
    "from pyspark import SparkContext\n",
    "from pyspark.sql import SparkSession\n",
    "from pyspark.sql.types import *\n",
    "from pyspark.sql import functions as F\n",
    "import boto3\n",
    "import sys\n",
    "import re\n",
    "from datetime import datetime\n",
    "import configparser"
   ]
  },
  {
   "cell_type": "code",
   "execution_count": 2,
   "id": "bc02d346-a64d-4aa5-a182-2686e1123c8f",
   "metadata": {
    "execution": {
     "iopub.execute_input": "2022-09-23T13:12:06.082234Z",
     "iopub.status.busy": "2022-09-23T13:12:06.081773Z",
     "iopub.status.idle": "2022-09-23T13:12:17.433405Z",
     "shell.execute_reply": "2022-09-23T13:12:17.432703Z",
     "shell.execute_reply.started": "2022-09-23T13:12:06.082197Z"
    }
   },
   "outputs": [
    {
     "data": {
      "application/vnd.jupyter.widget-view+json": {
       "model_id": "579ee2ddd2044d61b31f7141da6f5bcf",
       "version_major": 2,
       "version_minor": 0
      },
      "text/plain": [
       "VBox()"
      ]
     },
     "metadata": {},
     "output_type": "display_data"
    },
    {
     "data": {
      "application/vnd.jupyter.widget-view+json": {
       "model_id": "",
       "version_major": 2,
       "version_minor": 0
      },
      "text/plain": [
       "FloatProgress(value=0.0, bar_style='info', description='Progress:', layout=Layout(height='25px', width='50%'),…"
      ]
     },
     "metadata": {},
     "output_type": "display_data"
    }
   ],
   "source": [
    "Q400Final = spark.read.csv('s3://sjet-datamart-bucket/PoC-Ayush/Test5/', header = True)"
   ]
  },
  {
   "cell_type": "code",
   "execution_count": 3,
   "id": "5acc792c-e51e-4bed-b474-1b6686173196",
   "metadata": {
    "execution": {
     "iopub.execute_input": "2022-09-23T13:12:44.420876Z",
     "iopub.status.busy": "2022-09-23T13:12:44.420644Z",
     "iopub.status.idle": "2022-09-23T13:12:44.682160Z",
     "shell.execute_reply": "2022-09-23T13:12:44.681505Z",
     "shell.execute_reply.started": "2022-09-23T13:12:44.420852Z"
    }
   },
   "outputs": [
    {
     "data": {
      "application/vnd.jupyter.widget-view+json": {
       "model_id": "e93fe61132214afbaa4142cddc446d63",
       "version_major": 2,
       "version_minor": 0
      },
      "text/plain": [
       "VBox()"
      ]
     },
     "metadata": {},
     "output_type": "display_data"
    },
    {
     "data": {
      "application/vnd.jupyter.widget-view+json": {
       "model_id": "",
       "version_major": 2,
       "version_minor": 0
      },
      "text/plain": [
       "FloatProgress(value=0.0, bar_style='info', description='Progress:', layout=Layout(height='25px', width='50%'),…"
      ]
     },
     "metadata": {},
     "output_type": "display_data"
    }
   ],
   "source": [
    "Q400_stage3_df = Q400Final.filter(~(F.col(\"Radio-Altitude\").like (\"*\")) \n",
    "                                                        & (F.col(\"Radio-Altitude\") != \" \"))"
   ]
  },
  {
   "cell_type": "code",
   "execution_count": 4,
   "id": "0fe491b9-746c-46ac-8e78-8daaddd29452",
   "metadata": {
    "execution": {
     "iopub.execute_input": "2022-09-23T13:12:50.983177Z",
     "iopub.status.busy": "2022-09-23T13:12:50.982947Z",
     "iopub.status.idle": "2022-09-23T13:12:56.277440Z",
     "shell.execute_reply": "2022-09-23T13:12:56.276763Z",
     "shell.execute_reply.started": "2022-09-23T13:12:50.983153Z"
    }
   },
   "outputs": [
    {
     "data": {
      "application/vnd.jupyter.widget-view+json": {
       "model_id": "f9b48856d7df4e4a96bc7ecbd39735c7",
       "version_major": 2,
       "version_minor": 0
      },
      "text/plain": [
       "VBox()"
      ]
     },
     "metadata": {},
     "output_type": "display_data"
    },
    {
     "data": {
      "application/vnd.jupyter.widget-view+json": {
       "model_id": "",
       "version_major": 2,
       "version_minor": 0
      },
      "text/plain": [
       "FloatProgress(value=0.0, bar_style='info', description='Progress:', layout=Layout(height='25px', width='50%'),…"
      ]
     },
     "metadata": {},
     "output_type": "display_data"
    },
    {
     "name": "stdout",
     "output_type": "stream",
     "text": [
      "171040"
     ]
    }
   ],
   "source": [
    "Q400Final.count()"
   ]
  },
  {
   "cell_type": "code",
   "execution_count": 6,
   "id": "0242a032-6377-4077-aad9-2ae17b2e776e",
   "metadata": {
    "execution": {
     "iopub.execute_input": "2022-09-23T13:13:34.306275Z",
     "iopub.status.busy": "2022-09-23T13:13:34.306038Z",
     "iopub.status.idle": "2022-09-23T13:13:35.078870Z",
     "shell.execute_reply": "2022-09-23T13:13:35.078114Z",
     "shell.execute_reply.started": "2022-09-23T13:13:34.306252Z"
    }
   },
   "outputs": [
    {
     "data": {
      "application/vnd.jupyter.widget-view+json": {
       "model_id": "fbd2c459da8d4c08b862a9f93a6d59d8",
       "version_major": 2,
       "version_minor": 0
      },
      "text/plain": [
       "VBox()"
      ]
     },
     "metadata": {},
     "output_type": "display_data"
    },
    {
     "data": {
      "application/vnd.jupyter.widget-view+json": {
       "model_id": "",
       "version_major": 2,
       "version_minor": 0
      },
      "text/plain": [
       "FloatProgress(value=0.0, bar_style='info', description='Progress:', layout=Layout(height='25px', width='50%'),…"
      ]
     },
     "metadata": {},
     "output_type": "display_data"
    }
   ],
   "source": [
    "Q400Interim = Q400_stage3_df.alias('ED').select(\n",
    "                                                        'ED.FlightID',\n",
    "                                                        'ED.DesigFlightNumber',\n",
    "                                                        'ED.FlightNumberARMS',\n",
    "                                                        'ED.FlightDate',\n",
    "                                                        'ED.FromCity',\n",
    "                                                        'ED.ToCity',\n",
    "                                                        'ED.BlockTime',\n",
    "                                                        'ED.ECN',\n",
    "                                                        'ED.EmployeeName',\n",
    "                                                        'ED.RANK',\n",
    "                                                        'ED.ChocksOff',\n",
    "                                                        'ED.ChocksOn',\n",
    "                                                        'ED.DOMINT',\n",
    "                                                        'ED.AircraftType',\n",
    "                                                        'ED.AircraftModel',  \n",
    "                                                        'ED.Payload',\n",
    "                                                        'ED.TailNo',\n",
    "                                                        'ED.Departure',\n",
    "                                                        'ED.Arrival',\n",
    "                                                        'ED.FlightNo',\n",
    "                                                        'ED.Date',\n",
    "                                                         F.regexp_replace(\n",
    "                                                               F.col('ED.Time-In-Secs'), '\\\\*', '').cast('Double').alias('Time-In-Secs'),\n",
    "                                                        'ED.Time-Per-Sec', \n",
    "                                                        'ED.BARO-CORRECTED-PALT-DERIVED', \n",
    "                                                        'ED.Altitude-BaroL', \n",
    "                                                        'ED.Magnetic-Heading', \n",
    "                                                        F.lit(F.regexp_replace(\n",
    "                                                        'ED.Pitch-Attitude', '\\\\*', '')).alias('Pitch-Attitude'),\n",
    "                                                        'ED.Roll-Attitude',  \n",
    "                                                        F.col('ED.Radio-Altitude').cast('Integer').alias('Radio-Altitude'),\n",
    "                                                        F.lit(F.regexp_replace('ED.Nose-WOW', '\\\\*', '')).alias('Nose-WOW'), \n",
    "                                                        F.lit(F.regexp_replace('ED.Main-WOW', '\\\\*', '')).alias('Main-WOW'),\n",
    "                                                        'ED.Normal-Acceleration', \n",
    "                                                        'ED.Lateral-Acceleration', \n",
    "                                                        'ED.Longitudinal-Acceleration', \n",
    "                                                        'ED.Calibrated-Airspeed-L', \n",
    "                                                        'ED.AFCS-Selected-Speed', \n",
    "                                                        'ED.Vertical-Speed-Derived', \n",
    "                                                        'ED.Ground-Speed', \n",
    "                                                        'ED.Flap-Control-Selection',\n",
    "                                                        F.regexp_replace(F.col('ED.FLAP-POSITION'), '\\\\*', '').alias('FLAP-POSITION'), \n",
    "                                                        'ED.Power-Lever-Pos-L', \n",
    "                                                        'ED.Power-Lever-Pos-R', \n",
    "                                                        'ED.Torque-TQ-Eng-L', \n",
    "                                                        'ED.Torque-TQ-Eng-R', \n",
    "                                                        'ED.Condition-Lever-L', \n",
    "                                                        'ED.Condition-Lever-R', \n",
    "                                                        'ED.Prop-RPM-Np-Eng-L', \n",
    "                                                        'ED.Prop-RPM-Np-Eng-R', \n",
    "                                                        'ED.GPWS-Alert/Warning', \n",
    "                                                        'ED.GPWS-Glideslope-Alert', \n",
    "                                                        F.regexp_replace(F.col('ED.AFCS-Glideslope-Active'), '\\\\*', '').alias(\"AFCS-Glideslope-Active\"),\n",
    "                                                        'ED.AFCS-LOC-Active', \n",
    "                                                        'ED.AFCS-VOR-Active', \n",
    "                                                        F.regexp_replace(F.col('ED.GLIDE-PATH-DEV-PILOT-ABOVE'), '\\\\*', '').alias(\"GLIDE-PATH-DEV-PILOT-ABOVE\"),  \n",
    "                                                        F.regexp_replace(F.col('ED.GLIDE-PATH-DEV-COPILOT-ABOVE'), '\\\\*', '').alias(\"GLIDE-PATH-DEV-COPILOT-ABOVE\"),\n",
    "                                                        'ED.DME-DISTANCE-1', \n",
    "                                                        'ED.DME-DISTANCE-2', \n",
    "                                                        'ED.VOR-1-SELECT-FREQ', \n",
    "                                                        'ED.VOR-2-SELECT-FREQ', \n",
    "                                                        'ED.WIND-ANGLE', \n",
    "                                                        'ED.WIND-SPEED', \n",
    "                                                        'ED.BRAKE-PRESS-LEFT', \n",
    "                                                        'ED.BRAKE-PRESS-RIGHT', \n",
    "                                                        'ED.Thrust-Rev-Low-Beta-Eng-L', \n",
    "                                                        'ED.Thrust-Rev-Low-Beta-Eng-R', \n",
    "                                                        'ED.AFCS-Autopilot-Engaged',\n",
    "                                                        'ED.FileName',\n",
    "                                                        'ED.LoadedDate',\n",
    "                                                        'ED.LoadedBy',\n",
    "                                                        'ED.DataFrameName',\n",
    "                                                        'ED.year',\n",
    "                                                        'ED.month' )\n"
   ]
  },
  {
   "cell_type": "code",
   "execution_count": 7,
   "id": "40b7dd4a-f941-414b-b970-1ba8f70998bd",
   "metadata": {
    "execution": {
     "iopub.execute_input": "2022-09-23T13:13:51.708387Z",
     "iopub.status.busy": "2022-09-23T13:13:51.708158Z",
     "iopub.status.idle": "2022-09-23T13:13:51.965976Z",
     "shell.execute_reply": "2022-09-23T13:13:51.965366Z",
     "shell.execute_reply.started": "2022-09-23T13:13:51.708364Z"
    }
   },
   "outputs": [
    {
     "data": {
      "application/vnd.jupyter.widget-view+json": {
       "model_id": "a6fc074319c649a58ca6b64ce15e8173",
       "version_major": 2,
       "version_minor": 0
      },
      "text/plain": [
       "VBox()"
      ]
     },
     "metadata": {},
     "output_type": "display_data"
    },
    {
     "data": {
      "application/vnd.jupyter.widget-view+json": {
       "model_id": "",
       "version_major": 2,
       "version_minor": 0
      },
      "text/plain": [
       "FloatProgress(value=0.0, bar_style='info', description='Progress:', layout=Layout(height='25px', width='50%'),…"
      ]
     },
     "metadata": {},
     "output_type": "display_data"
    }
   ],
   "source": [
    "Q400Interim.createOrReplaceTempView('Q400Interim')"
   ]
  },
  {
   "cell_type": "code",
   "execution_count": 12,
   "id": "b99feb7b-1a49-49b4-8b80-e105b83ad769",
   "metadata": {
    "execution": {
     "iopub.execute_input": "2022-09-23T13:17:25.131527Z",
     "iopub.status.busy": "2022-09-23T13:17:25.131249Z",
     "iopub.status.idle": "2022-09-23T13:17:25.918713Z",
     "shell.execute_reply": "2022-09-23T13:17:25.918119Z",
     "shell.execute_reply.started": "2022-09-23T13:17:25.131502Z"
    },
    "tags": []
   },
   "outputs": [
    {
     "data": {
      "application/vnd.jupyter.widget-view+json": {
       "model_id": "aefe8c3f1ac94340aeb62fb637a8abac",
       "version_major": 2,
       "version_minor": 0
      },
      "text/plain": [
       "VBox()"
      ]
     },
     "metadata": {},
     "output_type": "display_data"
    },
    {
     "data": {
      "application/vnd.jupyter.widget-view+json": {
       "model_id": "",
       "version_major": 2,
       "version_minor": 0
      },
      "text/plain": [
       "FloatProgress(value=0.0, bar_style='info', description='Progress:', layout=Layout(height='25px', width='50%'),…"
      ]
     },
     "metadata": {},
     "output_type": "display_data"
    }
   ],
   "source": [
    "FinalDF = spark.sql(f'''\n",
    "            \n",
    "            SELECT \n",
    "                    *\n",
    "            FROM\n",
    "                    (\n",
    "                        SELECT \n",
    "                                `Time-In-Secs` as `Time-In-Secs-EX`,\n",
    "                                `Radio-Altitude` AS `Radio-Altitude-EX` ,\n",
    "                                `Main-WOW` AS `Main-WOW-EX`,\n",
    "                                `Pitch-Attitude` AS `Pitch-Attitude-EX`,\n",
    "                                'PitchAttitudeHigh'  as ExceedanceName,\n",
    "                                DE.Phase,\n",
    "                                CASE\n",
    "                                    WHEN\n",
    "                                            CASE\n",
    "                                            WHEN\n",
    "                                                    `Pitch-Attitude` LIKE 'U%'\n",
    "                                            THEN\n",
    "                                                    CASE\n",
    "                                                    WHEN\n",
    "                                                            INSTR(`Pitch-Attitude`,' ')>0\n",
    "                                                    THEN\n",
    "                                                            SUBSTRING(`Pitch-Attitude`, INSTR(`Pitch-Attitude`,' ')+1, LENGTH(`Pitch-Attitude`))\n",
    "                                                    ELSE\n",
    "                                                            NULL\n",
    "                                                    END\n",
    "                                            END                     > 10.0 \n",
    "                                    THEN\n",
    "                                            'High'\n",
    "                                ELSE\n",
    "                                        'Low'\n",
    "                                END TriggerCondition,\n",
    "                                BC.*\n",
    "                                \n",
    "                                            \n",
    "                                            \n",
    "                        FROM\n",
    "                                Q400Interim BC\n",
    "                        \n",
    "                        INNER JOIN\n",
    "\n",
    "\n",
    "\n",
    "                                (\n",
    "                                    SELECT \n",
    "                                            FileName,\n",
    "                                            Phase,\n",
    "                                            MAX(`Time-In-Secs`) AS TriggerTime\n",
    "                                    FROM \n",
    "                                        (\n",
    "                                            SELECT \n",
    "\n",
    "                                                    CASE\n",
    "                                                        WHEN\n",
    "                                                                `Time-In-Secs` < DJ.MinTime\n",
    "                                                        THEN\n",
    "                                                                'TakeOff'\n",
    "                                                        WHEN\n",
    "                                                                `Time-In-Secs` between DJ.MinTime and DJ.MaxTime\n",
    "                                                        THEN\n",
    "                                                                'Airborne'\n",
    "                                                        WHEN\n",
    "                                                                `Time-In-Secs` >DJ.MaxTime\n",
    "                                                        THEN\n",
    "                                                                'Approach'\n",
    "                                                        END Phase,              \n",
    "\n",
    "                                                    BJ.*\n",
    "\n",
    "                                            FROM Q400Interim AS BJ\n",
    "\n",
    "                                            INNER JOIN(\n",
    "\n",
    "                                    SELECT \n",
    "\n",
    "                                    BI.FileName,\n",
    "                                    BI.`Radio-Altitude`,\n",
    "                                    MIN(`Time-In-Secs`) as MinTime,\n",
    "                                    MAX(`Time-In-Secs`) as MaxTime\n",
    "\n",
    "\n",
    "                                    FROM Q400Interim AS BI\n",
    "                                    INNER JOIN \n",
    "                                        (\n",
    "                                            SELECT \n",
    "                                                    FileName,\n",
    "                                                    MAX(`Radio-Altitude`) AS MaxRadioHeight\n",
    "                                            FROM Q400Interim\n",
    "\n",
    "                                            GROUP BY FileName) T1 \n",
    "                                    ON BI.FileName=T1.FileName \n",
    "                                    AND BI.`Radio-Altitude`=T1.MaxRadioHeight\n",
    "\n",
    "                                    GROUP BY \n",
    "                                        BI.FileName,\n",
    "                                        BI.`Radio-Altitude` ) DJ \n",
    "                        ON BJ.FileName=DJ.FileName ) DD\n",
    "\n",
    "                WHERE DD.Phase='TakeOff'\n",
    "                AND    DD.`Main-WOW` = 'Gnd (1)'\n",
    "                \n",
    "                GROUP BY\n",
    "                        DD.FileName,\n",
    "                        DD.Phase )DE\n",
    "                ON\n",
    "                        BC.FileName    = DE.FileName\n",
    "                AND     BC.`Time-In-Secs` =DE.TriggerTime) FNN\n",
    "                WHERE\n",
    "                    FNN.TriggerCondition='High'\n",
    "                                                            ''')"
   ]
  },
  {
   "cell_type": "code",
   "execution_count": 13,
   "id": "e18db4dd-3114-4555-9e58-3955f0bcd0e0",
   "metadata": {
    "execution": {
     "iopub.execute_input": "2022-09-23T13:17:26.584717Z",
     "iopub.status.busy": "2022-09-23T13:17:26.584485Z",
     "iopub.status.idle": "2022-09-23T13:17:32.164735Z",
     "shell.execute_reply": "2022-09-23T13:17:32.163947Z",
     "shell.execute_reply.started": "2022-09-23T13:17:26.584693Z"
    },
    "tags": []
   },
   "outputs": [
    {
     "data": {
      "application/vnd.jupyter.widget-view+json": {
       "model_id": "21f77e25d2474f91964c62dae133d79b",
       "version_major": 2,
       "version_minor": 0
      },
      "text/plain": [
       "VBox()"
      ]
     },
     "metadata": {},
     "output_type": "display_data"
    },
    {
     "data": {
      "application/vnd.jupyter.widget-view+json": {
       "model_id": "",
       "version_major": 2,
       "version_minor": 0
      },
      "text/plain": [
       "FloatProgress(value=0.0, bar_style='info', description='Progress:', layout=Layout(height='25px', width='50%'),…"
      ]
     },
     "metadata": {},
     "output_type": "display_data"
    },
    {
     "name": "stdout",
     "output_type": "stream",
     "text": [
      "+---------------+-----------------+-----------+-----------------+-----------------+-------+----------------+--------+-----------------+----------------+----------+--------+------+---------+------+----------------+-----+------------------------+------------------------+------+------------+-------------+-------+------+---------+-------+--------+---------+------------+------------+---------------------------+--------------+----------------+--------------+-------------+--------------+--------+--------+-------------------+--------------------+-------------------------+---------------------+-------------------+----------------------+------------+----------------------+-------------+-----------------+-----------------+---------------+---------------+-----------------+-----------------+-----------------+-----------------+------------------+---------------------+----------------------+---------------+---------------+--------------------------+----------------------------+--------------+--------------+-----------------+-----------------+----------+----------+----------------+-----------------+-------------------------+-------------------------+----------------------+--------------------------------------------------------+------------------------+------------+-------------+----+------+\n",
      "|Time-In-Secs-EX|Radio-Altitude-EX|Main-WOW-EX|Pitch-Attitude-EX|ExceedanceName   |Phase  |TriggerCondition|FlightID|DesigFlightNumber|FlightNumberARMS|FlightDate|FromCity|ToCity|BlockTime|ECN   |EmployeeName    |RANK |ChocksOff               |ChocksOn                |DOMINT|AircraftType|AircraftModel|Payload|TailNo|Departure|Arrival|FlightNo|Date     |Time-In-Secs|Time-Per-Sec|BARO-CORRECTED-PALT-DERIVED|Altitude-BaroL|Magnetic-Heading|Pitch-Attitude|Roll-Attitude|Radio-Altitude|Nose-WOW|Main-WOW|Normal-Acceleration|Lateral-Acceleration|Longitudinal-Acceleration|Calibrated-Airspeed-L|AFCS-Selected-Speed|Vertical-Speed-Derived|Ground-Speed|Flap-Control-Selection|FLAP-POSITION|Power-Lever-Pos-L|Power-Lever-Pos-R|Torque-TQ-Eng-L|Torque-TQ-Eng-R|Condition-Lever-L|Condition-Lever-R|Prop-RPM-Np-Eng-L|Prop-RPM-Np-Eng-R|GPWS-Alert/Warning|GPWS-Glideslope-Alert|AFCS-Glideslope-Active|AFCS-LOC-Active|AFCS-VOR-Active|GLIDE-PATH-DEV-PILOT-ABOVE|GLIDE-PATH-DEV-COPILOT-ABOVE|DME-DISTANCE-1|DME-DISTANCE-2|VOR-1-SELECT-FREQ|VOR-2-SELECT-FREQ|WIND-ANGLE|WIND-SPEED|BRAKE-PRESS-LEFT|BRAKE-PRESS-RIGHT|Thrust-Rev-Low-Beta-Eng-L|Thrust-Rev-Low-Beta-Eng-R|AFCS-Autopilot-Engaged|FileName                                                |LoadedDate              |LoadedBy    |DataFrameName|year|month |\n",
      "+---------------+-----------------+-----------+-----------------+-----------------+-------+----------------+--------+-----------------+----------------+----------+--------+------+---------+------+----------------+-----+------------------------+------------------------+------+------------+-------------+-------+------+---------+-------+--------+---------+------------+------------+---------------------------+--------------+----------------+--------------+-------------+--------------+--------+--------+-------------------+--------------------+-------------------------+---------------------+-------------------+----------------------+------------+----------------------+-------------+-----------------+-----------------+---------------+---------------+-----------------+-----------------+-----------------+-----------------+------------------+---------------------+----------------------+---------------+---------------+--------------------------+----------------------------+--------------+--------------+-----------------+-----------------+----------+----------+----------------+-----------------+-------------------------+-------------------------+----------------------+--------------------------------------------------------+------------------------+------------+-------------+----+------+\n",
      "|1193.0         |7                |Gnd (1)    |U 14.8           |PitchAttitudeHigh|TakeOff|High            |2869931 |SG 3323          |3323            |5/14/2022 |BOM     |IXY   |1:30:00  |118092|NIDHI  HANDA    |CAPT.|2022-05-14T11:34:00.000Z|2022-05-14T13:05:00.000Z|DOM   |DHC         |DHC-         |Pax    |VT-SUD|BOM      |IXY    |SG 3323 |5/14/2022|1193.0      |null        |44                         |232           |268.1           |U 14.8        |R 0.3        |7             |Air (0) |Gnd (1) |1.036              |R 0.02              |0.25                     |134                  |0                  |-720                  |131         |null                  |null         |81               |80.7             |83             |83             |95.3             |94.7             |1019             |1019             |No Warn (0)       |No Warn (0)          |NOT ACT (0)           |NOT ACT (0)    |NOT ACT (0)    |0                         |0                           |0.25          |0.25          |100              |null             |null      |null      |37.1            |37.1             |Normal (0)               |Normal (0)               |NOT EN (0)            |ALL ac=VT-SUD dep=BOM arr=IXY fn=SG 3323 dt=20220514.csv|2022-09-19T09:06:01.237Z|precog-spark|128 WPS      |2022|May   |\n",
      "|730.0          |6                |Gnd (1)    |U 13.8           |PitchAttitudeHigh|TakeOff|High            |2905129 |SG 3702          |3702            |8/19/2022 |GOI     |RAJ   |2:00:00  |118613|VISHAL  BHARDWAJ|CAPT.|2022-08-19T13:27:00.000Z|2022-08-19T15:27:00.000Z|DOM   |DHC         |DHC-         |Pax    |VT-SUG|GOI      |RAJ    |SG 3702 |8/19/2022|730.0       |null        |180                        |290           |261.8           |U 13.8        |L 0.7        |6             |Air (0) |Gnd (1) |0.966              |R 0.01              |0.24                     |131                  |0                  |-870                  |122         |10                    |9.9          |80.4             |80.9             |89.5           |90.5           |96.6             |95.9             |1019             |1020             |No Warn (0)       |No Warn (0)          |NOT ACT (0)           |NOT ACT (0)    |NOT ACT (0)    |0                         |0                           |null          |null          |null             |null             |0         |0         |52.7            |46.9             |Normal (0)               |Normal (0)               |NOT EN (0)            |ALL ac=VT-SUG dep=GOI arr=RAJ fn=SG 3702 dt=20220819.csv|2022-09-19T08:07:51.690Z|precog-spark|128 WPS      |2022|August|\n",
      "+---------------+-----------------+-----------+-----------------+-----------------+-------+----------------+--------+-----------------+----------------+----------+--------+------+---------+------+----------------+-----+------------------------+------------------------+------+------------+-------------+-------+------+---------+-------+--------+---------+------------+------------+---------------------------+--------------+----------------+--------------+-------------+--------------+--------+--------+-------------------+--------------------+-------------------------+---------------------+-------------------+----------------------+------------+----------------------+-------------+-----------------+-----------------+---------------+---------------+-----------------+-----------------+-----------------+-----------------+------------------+---------------------+----------------------+---------------+---------------+--------------------------+----------------------------+--------------+--------------+-----------------+-----------------+----------+----------+----------------+-----------------+-------------------------+-------------------------+----------------------+--------------------------------------------------------+------------------------+------------+-------------+----+------+"
     ]
    }
   ],
   "source": [
    "FinalDF.show(truncate=False)"
   ]
  },
  {
   "cell_type": "code",
   "execution_count": null,
   "id": "fe907a75-e018-405a-ad1d-b1644522b4d8",
   "metadata": {},
   "outputs": [],
   "source": []
  }
 ],
 "metadata": {
  "kernelspec": {
   "display_name": "PySpark",
   "language": "",
   "name": "pysparkkernel"
  },
  "language_info": {
   "codemirror_mode": {
    "name": "python",
    "version": 3
   },
   "mimetype": "text/x-python",
   "name": "pyspark",
   "pygments_lexer": "python3"
  }
 },
 "nbformat": 4,
 "nbformat_minor": 5
}
