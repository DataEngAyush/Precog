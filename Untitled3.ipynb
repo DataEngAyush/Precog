{
 "cells": [
  {
   "cell_type": "code",
   "execution_count": 1,
   "id": "cf24d368-c321-455b-be17-1c752e2c29d1",
   "metadata": {
    "execution": {
     "iopub.execute_input": "2022-10-06T09:42:17.407220Z",
     "iopub.status.busy": "2022-10-06T09:42:17.406995Z",
     "iopub.status.idle": "2022-10-06T09:42:38.181634Z",
     "shell.execute_reply": "2022-10-06T09:42:38.181118Z",
     "shell.execute_reply.started": "2022-10-06T09:42:17.407196Z"
    },
    "tags": []
   },
   "outputs": [
    {
     "data": {
      "application/vnd.jupyter.widget-view+json": {
       "model_id": "ac8b768493244481860a04fb3f64d7f8",
       "version_major": 2,
       "version_minor": 0
      },
      "text/plain": [
       "VBox()"
      ]
     },
     "metadata": {},
     "output_type": "display_data"
    },
    {
     "name": "stdout",
     "output_type": "stream",
     "text": [
      "Starting Spark application\n"
     ]
    },
    {
     "data": {
      "text/html": [
       "<table>\n",
       "<tr><th>ID</th><th>YARN Application ID</th><th>Kind</th><th>State</th><th>Spark UI</th><th>Driver log</th><th>Current session?</th></tr><tr><td>8</td><td>application_1665031505393_0086</td><td>pyspark</td><td>idle</td><td><a target=\"_blank\" href=\"http://ip-20-0-4-208.ap-south-1.compute.internal:20888/proxy/application_1665031505393_0086/\" class=\"emr-proxy-link\" emr-resource=\"j-20SBDBZOE36VX\n",
       "\" application-id=\"application_1665031505393_0086\">Link</a></td><td><a target=\"_blank\" href=\"http://ip-20-0-4-227.ap-south-1.compute.internal:8042/node/containerlogs/container_1665031505393_0086_01_000001/livy\" >Link</a></td><td>✔</td></tr></table>"
      ],
      "text/plain": [
       "<IPython.core.display.HTML object>"
      ]
     },
     "metadata": {},
     "output_type": "display_data"
    },
    {
     "data": {
      "application/vnd.jupyter.widget-view+json": {
       "model_id": "",
       "version_major": 2,
       "version_minor": 0
      },
      "text/plain": [
       "FloatProgress(value=0.0, bar_style='info', description='Progress:', layout=Layout(height='25px', width='50%'),…"
      ]
     },
     "metadata": {},
     "output_type": "display_data"
    },
    {
     "name": "stdout",
     "output_type": "stream",
     "text": [
      "SparkSession available as 'spark'.\n"
     ]
    },
    {
     "data": {
      "application/vnd.jupyter.widget-view+json": {
       "model_id": "",
       "version_major": 2,
       "version_minor": 0
      },
      "text/plain": [
       "FloatProgress(value=0.0, bar_style='info', description='Progress:', layout=Layout(height='25px', width='50%'),…"
      ]
     },
     "metadata": {},
     "output_type": "display_data"
    }
   ],
   "source": [
    "from pyspark import SparkConf\n",
    "from pyspark import SparkContext\n",
    "from pyspark.sql import SparkSession\n",
    "from pyspark.sql.types import *\n",
    "from pyspark.sql import functions as F\n",
    "import boto3\n",
    "import sys\n",
    "import re\n",
    "from datetime import datetime\n",
    "import configparser"
   ]
  },
  {
   "cell_type": "code",
   "execution_count": 2,
   "id": "ac728a73-b77e-4e76-916f-3ae5381b5684",
   "metadata": {
    "execution": {
     "iopub.execute_input": "2022-10-06T09:42:41.297197Z",
     "iopub.status.busy": "2022-10-06T09:42:41.296981Z",
     "iopub.status.idle": "2022-10-06T09:42:46.571222Z",
     "shell.execute_reply": "2022-10-06T09:42:46.570758Z",
     "shell.execute_reply.started": "2022-10-06T09:42:41.297172Z"
    }
   },
   "outputs": [
    {
     "data": {
      "application/vnd.jupyter.widget-view+json": {
       "model_id": "a2f907b7fae441c4b7c96645a1f25c7a",
       "version_major": 2,
       "version_minor": 0
      },
      "text/plain": [
       "VBox()"
      ]
     },
     "metadata": {},
     "output_type": "display_data"
    },
    {
     "data": {
      "application/vnd.jupyter.widget-view+json": {
       "model_id": "",
       "version_major": 2,
       "version_minor": 0
      },
      "text/plain": [
       "FloatProgress(value=0.0, bar_style='info', description='Progress:', layout=Layout(height='25px', width='50%'),…"
      ]
     },
     "metadata": {},
     "output_type": "display_data"
    }
   ],
   "source": [
    "Q400DAGS = spark.sql(f'''SELECT \n",
    "                                        * \n",
    "                                FROM precogdb.amber_512wps_deviation_above_gs\n",
    "                                WHERE Month IN ('June','July','August')\n",
    "                             ''')"
   ]
  },
  {
   "cell_type": "code",
   "execution_count": 3,
   "id": "94485731-4e5a-48ed-8848-0fbf24a28ab3",
   "metadata": {
    "execution": {
     "iopub.execute_input": "2022-10-06T09:43:07.801846Z",
     "iopub.status.busy": "2022-10-06T09:43:07.801631Z",
     "iopub.status.idle": "2022-10-06T09:43:08.969041Z",
     "shell.execute_reply": "2022-10-06T09:43:08.968371Z",
     "shell.execute_reply.started": "2022-10-06T09:43:07.801822Z"
    }
   },
   "outputs": [
    {
     "data": {
      "application/vnd.jupyter.widget-view+json": {
       "model_id": "8c6728af19ab46d9a9c1594cced98737",
       "version_major": 2,
       "version_minor": 0
      },
      "text/plain": [
       "VBox()"
      ]
     },
     "metadata": {},
     "output_type": "display_data"
    },
    {
     "data": {
      "application/vnd.jupyter.widget-view+json": {
       "model_id": "",
       "version_major": 2,
       "version_minor": 0
      },
      "text/plain": [
       "FloatProgress(value=0.0, bar_style='info', description='Progress:', layout=Layout(height='25px', width='50%'),…"
      ]
     },
     "metadata": {},
     "output_type": "display_data"
    }
   ],
   "source": [
    "Q400DAGS.createOrReplaceTempView('amber_512wps_deviation_above_gs')"
   ]
  },
  {
   "cell_type": "code",
   "execution_count": 4,
   "id": "57f0e90f-855d-456a-925e-4269ec6cb28d",
   "metadata": {
    "execution": {
     "iopub.execute_input": "2022-10-06T09:43:30.786862Z",
     "iopub.status.busy": "2022-10-06T09:43:30.786633Z",
     "iopub.status.idle": "2022-10-06T09:43:31.034902Z",
     "shell.execute_reply": "2022-10-06T09:43:31.034416Z",
     "shell.execute_reply.started": "2022-10-06T09:43:30.786837Z"
    }
   },
   "outputs": [
    {
     "data": {
      "application/vnd.jupyter.widget-view+json": {
       "model_id": "06fa6ea908e641e6b471f102104b9e01",
       "version_major": 2,
       "version_minor": 0
      },
      "text/plain": [
       "VBox()"
      ]
     },
     "metadata": {},
     "output_type": "display_data"
    },
    {
     "data": {
      "application/vnd.jupyter.widget-view+json": {
       "model_id": "",
       "version_major": 2,
       "version_minor": 0
      },
      "text/plain": [
       "FloatProgress(value=0.0, bar_style='info', description='Progress:', layout=Layout(height='25px', width='50%'),…"
      ]
     },
     "metadata": {},
     "output_type": "display_data"
    }
   ],
   "source": [
    "Q400DAGS_AG1 = spark.sql('''\n",
    "            SELECT \n",
    "                                                exceedancename as Exceedance,\n",
    "                                                phase,\n",
    "                                                ecn,\n",
    "                                                employeename,\n",
    "                                                rank,\n",
    "                                                tailno,\n",
    "                                                departure,\n",
    "                                                arrival,\n",
    "                                                flightno,\n",
    "                                                date,\n",
    "                                                chocksoff,\n",
    "                                                chockson,\n",
    "                                                domint,\n",
    "                                                dataframename,\n",
    "                                                aircrafttype,\n",
    "                                                aircraftmodel,\n",
    "                                                payload,\n",
    "                                                blocktime as blocktime_hrs,\n",
    "                                                'Yes' AS Occurance,\n",
    "                                                'Amber' AS `Flag`,\n",
    "                                                '' AS Trigger_Start_Hours,\n",
    "                                                '' AS Trigger_End_Hours,\n",
    "                                                MIN(`Time-In-Secs-Ex`) AS Occurence_Start_Hours,\n",
    "                                                MAX(`Time-In-Secs-Ex`) AS Occurence_End_Hours,\n",
    "                                                cast(Count(`Time-In-Secs-Ex`)/60.0 AS decimal(6,2)) AS Duration_Min,\n",
    "                                                MAX(`AFCS-GS-MODE`) AS `AFCS-GS-MODE`,\n",
    "                                                MAX(`ILS-GS-DEV-1-EX`) AS `ILS-GS-DEV-1`,\n",
    "                                                MAX(`ILS-GS-DEV-2-EX`) AS `ILS-GS-DEV-2`,\n",
    "                                                MAX(`WOW-MLG`) AS `WOW-MLG`,\n",
    "                                                MAX(`RAD-ALT`) AS `RAD-ALT`,\n",
    "                                                MAX(LoadedDate) AS LoadedDate,\n",
    "                                                filename, \n",
    "                                                year,\n",
    "                                                month\n",
    "                                        \n",
    "                                        FROM amber_512wps_deviation_above_gs\n",
    "                                        \n",
    "                                        \n",
    "                                        GROUP BY \n",
    "                                                exceedancename,\n",
    "                                                phase,\n",
    "                                                ecn,\n",
    "                                                employeename,\n",
    "                                                rank,\n",
    "                                                tailno,\n",
    "                                                departure,\n",
    "                                                arrival,\n",
    "                                                flightno,\n",
    "                                                date,\n",
    "                                                chocksoff,\n",
    "                                                chockson,\n",
    "                                                domint,\n",
    "                                                dataframename,\n",
    "                                                aircrafttype,\n",
    "                                                aircraftmodel,\n",
    "                                                payload,\n",
    "                                                blocktime,\n",
    "                                                filename,\n",
    "                                                year,\n",
    "                                                month\n",
    "                                                                \n",
    "                                                        ''')"
   ]
  },
  {
   "cell_type": "code",
   "execution_count": 5,
   "id": "16205026-95f3-4079-9c26-f200f36e28b9",
   "metadata": {
    "execution": {
     "iopub.execute_input": "2022-10-06T09:43:46.175126Z",
     "iopub.status.busy": "2022-10-06T09:43:46.174909Z",
     "iopub.status.idle": "2022-10-06T09:43:46.424773Z",
     "shell.execute_reply": "2022-10-06T09:43:46.424278Z",
     "shell.execute_reply.started": "2022-10-06T09:43:46.175103Z"
    }
   },
   "outputs": [
    {
     "data": {
      "application/vnd.jupyter.widget-view+json": {
       "model_id": "30c0521b1303419d8c1957eeb839cf15",
       "version_major": 2,
       "version_minor": 0
      },
      "text/plain": [
       "VBox()"
      ]
     },
     "metadata": {},
     "output_type": "display_data"
    },
    {
     "data": {
      "application/vnd.jupyter.widget-view+json": {
       "model_id": "",
       "version_major": 2,
       "version_minor": 0
      },
      "text/plain": [
       "FloatProgress(value=0.0, bar_style='info', description='Progress:', layout=Layout(height='25px', width='50%'),…"
      ]
     },
     "metadata": {},
     "output_type": "display_data"
    }
   ],
   "source": [
    "Q400DAGS_AG1.createOrReplaceTempView('Q400DAGS_AG1')"
   ]
  },
  {
   "cell_type": "code",
   "execution_count": 6,
   "id": "dca6f84d-46f0-41d0-9417-384e03efdca6",
   "metadata": {
    "execution": {
     "iopub.execute_input": "2022-10-06T09:44:40.197115Z",
     "iopub.status.busy": "2022-10-06T09:44:40.196886Z",
     "iopub.status.idle": "2022-10-06T09:44:42.465860Z",
     "shell.execute_reply": "2022-10-06T09:44:42.465391Z",
     "shell.execute_reply.started": "2022-10-06T09:44:40.197090Z"
    }
   },
   "outputs": [
    {
     "data": {
      "application/vnd.jupyter.widget-view+json": {
       "model_id": "d93199d25e6340828129a72fea5ab2cc",
       "version_major": 2,
       "version_minor": 0
      },
      "text/plain": [
       "VBox()"
      ]
     },
     "metadata": {},
     "output_type": "display_data"
    },
    {
     "data": {
      "application/vnd.jupyter.widget-view+json": {
       "model_id": "",
       "version_major": 2,
       "version_minor": 0
      },
      "text/plain": [
       "FloatProgress(value=0.0, bar_style='info', description='Progress:', layout=Layout(height='25px', width='50%'),…"
      ]
     },
     "metadata": {},
     "output_type": "display_data"
    }
   ],
   "source": [
    "Q400DAGS_AG2 = spark.sql('''\n",
    "                                        SELECT \n",
    "                                                ME.Id as ExceedanceId,\n",
    "                                                Exceedance,\n",
    "                                                MP.Id as PhaseId,\n",
    "                                                AG1.phase,\n",
    "                                                AG1.ecn,\n",
    "                                                AG1.employeename,\n",
    "                                                AG1.rank,\n",
    "                                                AG1.tailno,\n",
    "                                                AG1.departure,\n",
    "                                                AG1.arrival,\n",
    "                                                AG1.flightno,\n",
    "                                                AG1.date,\n",
    "                                                AG1.chocksoff,\n",
    "                                                AG1.chockson,\n",
    "                                                AG1.domint,\n",
    "                                                MM.Id AS ManufacturerId,\n",
    "                                                MM.name AS Manufacturer,\n",
    "                                                MD.Id AS DataFrameId,\n",
    "                                                AG1.dataframename AS DataFrame,\n",
    "                                                AG1.aircrafttype,\n",
    "                                                AG1.aircraftmodel,\n",
    "                                                AG1.payload,\n",
    "                                                AG1.blocktime_hrs,\n",
    "                                                AG1.Occurance,\n",
    "                                                MT.Id as TypeId,\n",
    "                                                AG1.`Flag`,\n",
    "                                                AG1.Trigger_Start_Hours,\n",
    "                                                AG1.Trigger_End_Hours,\n",
    "                                                AG1.Occurence_Start_Hours,\n",
    "                                                AG1.Occurence_End_Hours,\n",
    "                                                AG1.Duration_Min,\n",
    "                                                AG1.`AFCS-GS-MODE`,\n",
    "                                                AG1.`ILS-GS-DEV-1`,\n",
    "                                                AG1.`ILS-GS-DEV-2`,   \n",
    "                                                AG1.`WOW-MLG`,\n",
    "                                                AG1.`RAD-ALT`,\n",
    "                                                AG1.LoadedDate,\n",
    "                                                AG1.filename, \n",
    "                                                AG1.year,\n",
    "                                                AG1.month\n",
    "                                        \n",
    "                                        FROM Q400DAGS_AG1 AG1\n",
    "                                        INNER JOIN precogdb.master_dataframes MD ON AG1.dataframename = MD.name   \n",
    "                                        INNER JOIN precogdb.master_phase MP ON AG1.phase = MP.name\n",
    "                                        INNER JOIN precogdb.master_exceedance ME ON AG1.Exceedance = ME.name AND MP.Id=ME.phase\n",
    "                                        INNER JOIN precogdb.master_manufacturers MM ON MD.manufacturer=MM.Id\n",
    "                                        INNER JOIN precogdb.master_type MT ON AG1.`Flag` = MT.type\n",
    "\n",
    "                                        \n",
    "                                ''')"
   ]
  },
  {
   "cell_type": "code",
   "execution_count": 9,
   "id": "4bb6564a-520c-4c01-adf6-6b3ec5f64bf3",
   "metadata": {
    "execution": {
     "iopub.execute_input": "2022-10-06T09:52:40.891277Z",
     "iopub.status.busy": "2022-10-06T09:52:40.891030Z",
     "iopub.status.idle": "2022-10-06T09:52:41.142854Z",
     "shell.execute_reply": "2022-10-06T09:52:41.142270Z",
     "shell.execute_reply.started": "2022-10-06T09:52:40.891250Z"
    },
    "tags": []
   },
   "outputs": [
    {
     "data": {
      "application/vnd.jupyter.widget-view+json": {
       "model_id": "e742a191fab3405180805372f2d35cb7",
       "version_major": 2,
       "version_minor": 0
      },
      "text/plain": [
       "VBox()"
      ]
     },
     "metadata": {},
     "output_type": "display_data"
    },
    {
     "data": {
      "application/vnd.jupyter.widget-view+json": {
       "model_id": "",
       "version_major": 2,
       "version_minor": 0
      },
      "text/plain": [
       "FloatProgress(value=0.0, bar_style='info', description='Progress:', layout=Layout(height='25px', width='50%'),…"
      ]
     },
     "metadata": {},
     "output_type": "display_data"
    }
   ],
   "source": [
    "Q400DAGS_AG2.createOrReplaceTempView('test1')"
   ]
  },
  {
   "cell_type": "code",
   "execution_count": 10,
   "id": "ff1913f0-480d-45e5-9034-11dac27261d1",
   "metadata": {
    "execution": {
     "iopub.execute_input": "2022-10-06T09:53:25.745339Z",
     "iopub.status.busy": "2022-10-06T09:53:25.745111Z",
     "iopub.status.idle": "2022-10-06T09:53:59.226539Z",
     "shell.execute_reply": "2022-10-06T09:53:59.226041Z",
     "shell.execute_reply.started": "2022-10-06T09:53:25.745315Z"
    }
   },
   "outputs": [
    {
     "data": {
      "application/vnd.jupyter.widget-view+json": {
       "model_id": "4628a416c0a54e0a9f24eba3fa722aee",
       "version_major": 2,
       "version_minor": 0
      },
      "text/plain": [
       "VBox()"
      ]
     },
     "metadata": {},
     "output_type": "display_data"
    },
    {
     "data": {
      "application/vnd.jupyter.widget-view+json": {
       "model_id": "",
       "version_major": 2,
       "version_minor": 0
      },
      "text/plain": [
       "FloatProgress(value=0.0, bar_style='info', description='Progress:', layout=Layout(height='25px', width='50%'),…"
      ]
     },
     "metadata": {},
     "output_type": "display_data"
    },
    {
     "name": "stdout",
     "output_type": "stream",
     "text": [
      "+------+\n",
      "|TypeId|\n",
      "+------+\n",
      "|2     |\n",
      "+------+"
     ]
    }
   ],
   "source": [
    "spark.sql('''\n",
    "SELECT distinct(TypeId) FROM test1\n",
    "''').show(20,False)"
   ]
  },
  {
   "cell_type": "code",
   "execution_count": null,
   "id": "c63b1a31-bf4b-4d0c-b038-a4d656cf6626",
   "metadata": {},
   "outputs": [],
   "source": []
  }
 ],
 "metadata": {
  "kernelspec": {
   "display_name": "PySpark",
   "language": "",
   "name": "pysparkkernel"
  },
  "language_info": {
   "codemirror_mode": {
    "name": "python",
    "version": 3
   },
   "mimetype": "text/x-python",
   "name": "pyspark",
   "pygments_lexer": "python3"
  }
 },
 "nbformat": 4,
 "nbformat_minor": 5
}
