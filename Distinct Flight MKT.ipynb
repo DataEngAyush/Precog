{
 "cells": [
  {
   "cell_type": "code",
   "execution_count": 1,
   "id": "e06efaa0-03d7-411c-b504-d4c2649ad7c4",
   "metadata": {
    "execution": {
     "iopub.execute_input": "2023-01-13T07:16:00.147720Z",
     "iopub.status.busy": "2023-01-13T07:16:00.147469Z",
     "iopub.status.idle": "2023-01-13T07:16:24.944623Z",
     "shell.execute_reply": "2023-01-13T07:16:24.944146Z",
     "shell.execute_reply.started": "2023-01-13T07:16:00.147695Z"
    },
    "tags": []
   },
   "outputs": [
    {
     "data": {
      "application/vnd.jupyter.widget-view+json": {
       "model_id": "7f762103dd2a468abb2963cf193f0fba",
       "version_major": 2,
       "version_minor": 0
      },
      "text/plain": [
       "VBox()"
      ]
     },
     "metadata": {},
     "output_type": "display_data"
    },
    {
     "name": "stdout",
     "output_type": "stream",
     "text": [
      "Starting Spark application\n"
     ]
    },
    {
     "data": {
      "text/html": [
       "<table>\n",
       "<tr><th>ID</th><th>YARN Application ID</th><th>Kind</th><th>State</th><th>Spark UI</th><th>Driver log</th><th>Current session?</th></tr><tr><td>13</td><td>application_1673584856676_0015</td><td>pyspark</td><td>idle</td><td><a target=\"_blank\" href=\"http://ip-20-0-4-177.ap-south-1.compute.internal:20888/proxy/application_1673584856676_0015/\" class=\"emr-proxy-link\" emr-resource=\"j-39C2BFO2J772A\n",
       "\" application-id=\"application_1673584856676_0015\">Link</a></td><td><a target=\"_blank\" href=\"http://ip-20-0-4-214.ap-south-1.compute.internal:8042/node/containerlogs/container_1673584856676_0015_01_000001/livy\" >Link</a></td><td>✔</td></tr></table>"
      ],
      "text/plain": [
       "<IPython.core.display.HTML object>"
      ]
     },
     "metadata": {},
     "output_type": "display_data"
    },
    {
     "data": {
      "application/vnd.jupyter.widget-view+json": {
       "model_id": "",
       "version_major": 2,
       "version_minor": 0
      },
      "text/plain": [
       "FloatProgress(value=0.0, bar_style='info', description='Progress:', layout=Layout(height='25px', width='50%'),…"
      ]
     },
     "metadata": {},
     "output_type": "display_data"
    },
    {
     "name": "stdout",
     "output_type": "stream",
     "text": [
      "SparkSession available as 'spark'.\n"
     ]
    },
    {
     "data": {
      "application/vnd.jupyter.widget-view+json": {
       "model_id": "",
       "version_major": 2,
       "version_minor": 0
      },
      "text/plain": [
       "FloatProgress(value=0.0, bar_style='info', description='Progress:', layout=Layout(height='25px', width='50%'),…"
      ]
     },
     "metadata": {},
     "output_type": "display_data"
    }
   ],
   "source": [
    "from pyspark import SparkConf\n",
    "from pyspark import SparkContext\n",
    "from pyspark.sql import SparkSession\n",
    "from pyspark.sql.types import *\n",
    "from pyspark.sql import functions\n",
    "import boto3\n",
    "import sys\n",
    "import re\n",
    "from datetime import datetime\n",
    "import configparser\n",
    "from pyspark.sql.functions import col, datediff"
   ]
  },
  {
   "cell_type": "code",
   "execution_count": 2,
   "id": "c825a846-6559-4dc8-a84a-0af37abfac53",
   "metadata": {
    "execution": {
     "iopub.execute_input": "2023-01-13T07:16:24.945621Z",
     "iopub.status.busy": "2023-01-13T07:16:24.945452Z",
     "iopub.status.idle": "2023-01-13T07:16:30.224479Z",
     "shell.execute_reply": "2023-01-13T07:16:30.223979Z",
     "shell.execute_reply.started": "2023-01-13T07:16:24.945600Z"
    },
    "tags": []
   },
   "outputs": [
    {
     "data": {
      "application/vnd.jupyter.widget-view+json": {
       "model_id": "167de02dc3924c3c8769414fed21052e",
       "version_major": 2,
       "version_minor": 0
      },
      "text/plain": [
       "VBox()"
      ]
     },
     "metadata": {},
     "output_type": "display_data"
    },
    {
     "data": {
      "application/vnd.jupyter.widget-view+json": {
       "model_id": "",
       "version_major": 2,
       "version_minor": 0
      },
      "text/plain": [
       "FloatProgress(value=0.0, bar_style='info', description='Progress:', layout=Layout(height='25px', width='50%'),…"
      ]
     },
     "metadata": {},
     "output_type": "display_data"
    }
   ],
   "source": [
    "DistinctFile=spark.sql('''\n",
    "                            SELECT  \n",
    "                                    \n",
    "                                    ECN,\n",
    "                                    EmployeeName,\n",
    "                                    RANK,\n",
    "                                    TailNo,\n",
    "                                    Departure,\n",
    "                                    Arrival,\n",
    "                                    FlightNo,\n",
    "                                    flightDate as FlightDate,\n",
    "                                    ChocksOff,\n",
    "                                    ChocksOn,\n",
    "                                    DOMINT,\n",
    "                                    DataFrameName,\n",
    "                                    AircraftType,\n",
    "                                    AircraftModel,\n",
    "                                    Payload,\n",
    "                                    BlockTime,\n",
    "                                    LoadedDate,\n",
    "                                    FileName, \n",
    "                                    Year,\n",
    "                                    Month\n",
    "                            FROM precogdb.q400128wps\n",
    "                            WHERE `Radio-Altitude` NOT LIKE '%*%'\n",
    "                            AND `Radio-Altitude` <> ''\n",
    "                            GROUP BY ECN,\n",
    "                                    EmployeeName,\n",
    "                                    RANK,\n",
    "                                    TailNo,\n",
    "                                    Departure,\n",
    "                                    Arrival,\n",
    "                                    FlightNo,\n",
    "                                    flightdate,\n",
    "                                    ChocksOff,\n",
    "                                    ChocksOn,\n",
    "                                    DOMINT,\n",
    "                                    DataFrameName,\n",
    "                                    AircraftType,\n",
    "                                    AircraftModel,\n",
    "                                    Payload,\n",
    "                                    BlockTime,\n",
    "                                    LoadedDate,\n",
    "                                    FileName, \n",
    "                                    Year,\n",
    "                                    Month\n",
    "                            \n",
    "\n",
    "\n",
    "''')"
   ]
  },
  {
   "cell_type": "code",
   "execution_count": 3,
   "id": "800301b2-9d45-4217-8aa7-fab8d8f602f7",
   "metadata": {
    "execution": {
     "iopub.execute_input": "2023-01-13T07:16:30.231255Z",
     "iopub.status.busy": "2023-01-13T07:16:30.231079Z",
     "iopub.status.idle": "2023-01-13T07:18:05.795624Z",
     "shell.execute_reply": "2023-01-13T07:18:05.795000Z",
     "shell.execute_reply.started": "2023-01-13T07:16:30.231236Z"
    },
    "tags": []
   },
   "outputs": [
    {
     "data": {
      "application/vnd.jupyter.widget-view+json": {
       "model_id": "282b7c97613542de968bb3f83870f64e",
       "version_major": 2,
       "version_minor": 0
      },
      "text/plain": [
       "VBox()"
      ]
     },
     "metadata": {},
     "output_type": "display_data"
    },
    {
     "data": {
      "application/vnd.jupyter.widget-view+json": {
       "model_id": "",
       "version_major": 2,
       "version_minor": 0
      },
      "text/plain": [
       "FloatProgress(value=0.0, bar_style='info', description='Progress:', layout=Layout(height='25px', width='50%'),…"
      ]
     },
     "metadata": {},
     "output_type": "display_data"
    }
   ],
   "source": [
    "DistinctFile.write.mode(\"append\").partitionBy(\"year\", \"month\").parquet('s3://sjet-datamart-bucket/precog/precog-distinct-flightmkt/q400/q400128wps/')"
   ]
  },
  {
   "cell_type": "code",
   "execution_count": 4,
   "id": "e0fb89a1-01c2-4e5d-9618-c960f1ceb86b",
   "metadata": {
    "execution": {
     "iopub.execute_input": "2023-01-13T07:15:35.781910Z",
     "iopub.status.busy": "2023-01-13T07:15:35.781684Z",
     "iopub.status.idle": "2023-01-13T07:15:36.030789Z",
     "shell.execute_reply": "2023-01-13T07:15:36.030205Z",
     "shell.execute_reply.started": "2023-01-13T07:15:35.781884Z"
    },
    "tags": []
   },
   "outputs": [
    {
     "data": {
      "application/vnd.jupyter.widget-view+json": {
       "model_id": "292f6372f5004273a10d12a3a3b3377d",
       "version_major": 2,
       "version_minor": 0
      },
      "text/plain": [
       "VBox()"
      ]
     },
     "metadata": {},
     "output_type": "display_data"
    },
    {
     "data": {
      "application/vnd.jupyter.widget-view+json": {
       "model_id": "",
       "version_major": 2,
       "version_minor": 0
      },
      "text/plain": [
       "FloatProgress(value=0.0, bar_style='info', description='Progress:', layout=Layout(height='25px', width='50%'),…"
      ]
     },
     "metadata": {},
     "output_type": "display_data"
    }
   ],
   "source": [
    "spark.stop()"
   ]
  },
  {
   "cell_type": "code",
   "execution_count": null,
   "id": "09e97561-e0fe-448f-8f50-4d7aabd72cb4",
   "metadata": {},
   "outputs": [],
   "source": []
  }
 ],
 "metadata": {
  "kernelspec": {
   "display_name": "PySpark",
   "language": "",
   "name": "pysparkkernel"
  },
  "language_info": {
   "codemirror_mode": {
    "name": "python",
    "version": 3
   },
   "mimetype": "text/x-python",
   "name": "pyspark",
   "pygments_lexer": "python3"
  }
 },
 "nbformat": 4,
 "nbformat_minor": 5
}
