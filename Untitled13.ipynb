{
 "cells": [
  {
   "cell_type": "code",
   "execution_count": 1,
   "id": "d164f73a-64e1-402c-be3f-cb8d5dc4f0d7",
   "metadata": {
    "execution": {
     "iopub.execute_input": "2022-12-23T06:10:41.165601Z",
     "iopub.status.busy": "2022-12-23T06:10:41.165365Z",
     "iopub.status.idle": "2022-12-23T06:11:02.787124Z",
     "shell.execute_reply": "2022-12-23T06:11:02.786592Z",
     "shell.execute_reply.started": "2022-12-23T06:10:41.165571Z"
    }
   },
   "outputs": [
    {
     "data": {
      "application/vnd.jupyter.widget-view+json": {
       "model_id": "9b88de029e7f47358c80f8c44a46df6a",
       "version_major": 2,
       "version_minor": 0
      },
      "text/plain": [
       "VBox()"
      ]
     },
     "metadata": {},
     "output_type": "display_data"
    },
    {
     "name": "stdout",
     "output_type": "stream",
     "text": [
      "Starting Spark application\n"
     ]
    },
    {
     "data": {
      "text/html": [
       "<table>\n",
       "<tr><th>ID</th><th>YARN Application ID</th><th>Kind</th><th>State</th><th>Spark UI</th><th>Driver log</th><th>Current session?</th></tr><tr><td>0</td><td>application_1671771659802_0014</td><td>pyspark</td><td>idle</td><td><a target=\"_blank\" href=\"http://ip-20-0-4-16.ap-south-1.compute.internal:20888/proxy/application_1671771659802_0014/\" class=\"emr-proxy-link\" emr-resource=\"j-1Y47S6RDGU5NG\n",
       "\" application-id=\"application_1671771659802_0014\">Link</a></td><td><a target=\"_blank\" href=\"http://ip-20-0-4-177.ap-south-1.compute.internal:8042/node/containerlogs/container_1671771659802_0014_01_000001/livy\" >Link</a></td><td>✔</td></tr></table>"
      ],
      "text/plain": [
       "<IPython.core.display.HTML object>"
      ]
     },
     "metadata": {},
     "output_type": "display_data"
    },
    {
     "data": {
      "application/vnd.jupyter.widget-view+json": {
       "model_id": "",
       "version_major": 2,
       "version_minor": 0
      },
      "text/plain": [
       "FloatProgress(value=0.0, bar_style='info', description='Progress:', layout=Layout(height='25px', width='50%'),…"
      ]
     },
     "metadata": {},
     "output_type": "display_data"
    },
    {
     "name": "stdout",
     "output_type": "stream",
     "text": [
      "SparkSession available as 'spark'.\n"
     ]
    },
    {
     "data": {
      "application/vnd.jupyter.widget-view+json": {
       "model_id": "",
       "version_major": 2,
       "version_minor": 0
      },
      "text/plain": [
       "FloatProgress(value=0.0, bar_style='info', description='Progress:', layout=Layout(height='25px', width='50%'),…"
      ]
     },
     "metadata": {},
     "output_type": "display_data"
    }
   ],
   "source": [
    "from pyspark import SparkConf\n",
    "from pyspark import SparkContext\n",
    "from pyspark.sql import SparkSession\n",
    "from pyspark.sql.types import *\n",
    "from pyspark.sql import functions as F\n",
    "import boto3\n",
    "import sys\n",
    "import re\n",
    "from datetime import datetime\n",
    "import configparser"
   ]
  },
  {
   "cell_type": "code",
   "execution_count": 12,
   "id": "4ff24049-cd64-41bb-9a48-eba31ceb0edb",
   "metadata": {
    "execution": {
     "iopub.execute_input": "2022-12-23T06:17:13.079933Z",
     "iopub.status.busy": "2022-12-23T06:17:13.079699Z",
     "iopub.status.idle": "2022-12-23T06:18:02.311602Z",
     "shell.execute_reply": "2022-12-23T06:18:02.311132Z",
     "shell.execute_reply.started": "2022-12-23T06:17:13.079908Z"
    }
   },
   "outputs": [
    {
     "name": "stdout",
     "output_type": "stream",
     "text": [
      "Starting Spark application\n"
     ]
    },
    {
     "data": {
      "text/html": [
       "<table>\n",
       "<tr><th>ID</th><th>YARN Application ID</th><th>Kind</th><th>State</th><th>Spark UI</th><th>Driver log</th><th>Current session?</th></tr><tr><td>1</td><td>application_1671771659802_0015</td><td>pyspark</td><td>idle</td><td></td><td></td><td>✔</td></tr></table>"
      ],
      "text/plain": [
       "<IPython.core.display.HTML object>"
      ]
     },
     "metadata": {},
     "output_type": "display_data"
    },
    {
     "data": {
      "application/vnd.jupyter.widget-view+json": {
       "model_id": "",
       "version_major": 2,
       "version_minor": 0
      },
      "text/plain": [
       "FloatProgress(value=0.0, bar_style='info', description='Progress:', layout=Layout(height='25px', width='50%'),…"
      ]
     },
     "metadata": {},
     "output_type": "display_data"
    },
    {
     "name": "stdout",
     "output_type": "stream",
     "text": [
      "SparkSession available as 'spark'.\n"
     ]
    },
    {
     "data": {
      "text/html": [
       "Current session configs: <tt>{'conf': {'spark.jars': 's3://sjet-datamart-bucket/Jars/mssql-jdbc-6.1.0.jre8.jar', 'spark.sql.crossJoin.enabled': 'true'}, 'proxyUser': 'user_ayush_vaishnav', 'kind': 'pyspark'}</tt><br>"
      ],
      "text/plain": [
       "<IPython.core.display.HTML object>"
      ]
     },
     "metadata": {},
     "output_type": "display_data"
    },
    {
     "data": {
      "text/html": [
       "<table>\n",
       "<tr><th>ID</th><th>YARN Application ID</th><th>Kind</th><th>State</th><th>Spark UI</th><th>Driver log</th><th>Current session?</th></tr><tr><td>1</td><td>application_1671771659802_0015</td><td>pyspark</td><td>idle</td><td><a target=\"_blank\" href=\"http://ip-20-0-4-16.ap-south-1.compute.internal:20888/proxy/application_1671771659802_0015/\" class=\"emr-proxy-link\" emr-resource=\"j-1Y47S6RDGU5NG\n",
       "\" application-id=\"application_1671771659802_0015\">Link</a></td><td><a target=\"_blank\" href=\"http://ip-20-0-4-124.ap-south-1.compute.internal:8042/node/containerlogs/container_1671771659802_0015_01_000001/livy\" >Link</a></td><td>✔</td></tr></table>"
      ],
      "text/plain": [
       "<IPython.core.display.HTML object>"
      ]
     },
     "metadata": {},
     "output_type": "display_data"
    }
   ],
   "source": [
    "%%configure -f\n",
    "{\n",
    "    \"conf\": {\n",
    "        \"spark.jars\": \"s3://sjet-datamart-bucket/Jars/mssql-jdbc-6.1.0.jre8.jar\",\n",
    "        \"spark.sql.crossJoin.enabled\": \"true\"\n",
    "    }\n",
    "}"
   ]
  },
  {
   "cell_type": "code",
   "execution_count": 13,
   "id": "848296f9-b4f5-4871-90ff-0db02fefc9d0",
   "metadata": {
    "execution": {
     "iopub.execute_input": "2022-12-23T06:18:05.048056Z",
     "iopub.status.busy": "2022-12-23T06:18:05.047829Z",
     "iopub.status.idle": "2022-12-23T06:18:10.333257Z",
     "shell.execute_reply": "2022-12-23T06:18:10.332581Z",
     "shell.execute_reply.started": "2022-12-23T06:18:05.048030Z"
    },
    "tags": []
   },
   "outputs": [
    {
     "data": {
      "application/vnd.jupyter.widget-view+json": {
       "model_id": "f19ef5563820453499f39889f8c6ed26",
       "version_major": 2,
       "version_minor": 0
      },
      "text/plain": [
       "VBox()"
      ]
     },
     "metadata": {},
     "output_type": "display_data"
    },
    {
     "data": {
      "application/vnd.jupyter.widget-view+json": {
       "model_id": "",
       "version_major": 2,
       "version_minor": 0
      },
      "text/plain": [
       "FloatProgress(value=0.0, bar_style='info', description='Progress:', layout=Layout(height='25px', width='50%'),…"
      ]
     },
     "metadata": {},
     "output_type": "display_data"
    }
   ],
   "source": [
    "Q400_512WPS_1 = spark.sql('''\n",
    "                        SELECT\n",
    "                        \n",
    "                        ECN,\n",
    "                        \n",
    "                        UTC_TIMEDATE,\n",
    "                        \n",
    "                        FileName,\n",
    "\n",
    "                        CAST((MAX(`Time-In-Secs`) - MIN(`Time-In-Secs`)) / 60 AS INT) AS FlightTime\n",
    "             \n",
    "                        FROM precogdb.q400512wps\n",
    "                        \n",
    "                        WHERE FlightDate > '2022-10-31'\n",
    "                        \n",
    "                        AND `Rad-Alt` NOT LIKE '%*%'\n",
    "                        \n",
    "                        AND `Rad-Alt` <> ''\n",
    "                        \n",
    "                        AND `WOW-MAIN` = 'Air (0)'\n",
    "\n",
    "                        GROUP BY ECN, UTC_TIMEDATE, Filename\n",
    "                            ''')\n",
    "\n",
    "Q400_512WPS_1.createOrReplaceTempView('Q400_512WPS_1')"
   ]
  },
  {
   "cell_type": "code",
   "execution_count": 14,
   "id": "b47091e6-0f2d-4868-963c-d373734e9ff2",
   "metadata": {
    "execution": {
     "iopub.execute_input": "2022-12-23T06:18:11.851172Z",
     "iopub.status.busy": "2022-12-23T06:18:11.850951Z",
     "iopub.status.idle": "2022-12-23T06:18:12.616768Z",
     "shell.execute_reply": "2022-12-23T06:18:12.616262Z",
     "shell.execute_reply.started": "2022-12-23T06:18:11.851148Z"
    },
    "tags": []
   },
   "outputs": [
    {
     "data": {
      "application/vnd.jupyter.widget-view+json": {
       "model_id": "e63080bb5f154dca8de56c5fdc72ccc0",
       "version_major": 2,
       "version_minor": 0
      },
      "text/plain": [
       "VBox()"
      ]
     },
     "metadata": {},
     "output_type": "display_data"
    },
    {
     "data": {
      "application/vnd.jupyter.widget-view+json": {
       "model_id": "",
       "version_major": 2,
       "version_minor": 0
      },
      "text/plain": [
       "FloatProgress(value=0.0, bar_style='info', description='Progress:', layout=Layout(height='25px', width='50%'),…"
      ]
     },
     "metadata": {},
     "output_type": "display_data"
    }
   ],
   "source": [
    "Q400_Time = spark.sql('''\n",
    "\n",
    "                                SELECT CAST((MAX(CAST(`Time-in-secs` AS INT)) - MIN(CAST(`Time-in-secs` AS INT))) / 60 AS INT) AS BlockTime_DFDR, filename\n",
    "                                \n",
    "                                FROM precogdb.q400512wps\n",
    "                                \n",
    "                                WHERE FlightDate > '2022-10-31'\n",
    "                                \n",
    "                                group by filename\n",
    "                            ''')\n",
    "\n",
    "Q400_Time.createOrReplaceTempView('Q400_Time')"
   ]
  },
  {
   "cell_type": "code",
   "execution_count": 15,
   "id": "c3cd8578-bd0b-46f9-9fe6-b7c91aa1086f",
   "metadata": {
    "execution": {
     "iopub.execute_input": "2022-12-23T06:18:12.845125Z",
     "iopub.status.busy": "2022-12-23T06:18:12.844907Z",
     "iopub.status.idle": "2022-12-23T06:18:13.607744Z",
     "shell.execute_reply": "2022-12-23T06:18:13.607232Z",
     "shell.execute_reply.started": "2022-12-23T06:18:12.845101Z"
    },
    "tags": []
   },
   "outputs": [
    {
     "data": {
      "application/vnd.jupyter.widget-view+json": {
       "model_id": "4392dbfc78524cd5837934e3e1823262",
       "version_major": 2,
       "version_minor": 0
      },
      "text/plain": [
       "VBox()"
      ]
     },
     "metadata": {},
     "output_type": "display_data"
    },
    {
     "data": {
      "application/vnd.jupyter.widget-view+json": {
       "model_id": "",
       "version_major": 2,
       "version_minor": 0
      },
      "text/plain": [
       "FloatProgress(value=0.0, bar_style='info', description='Progress:', layout=Layout(height='25px', width='50%'),…"
      ]
     },
     "metadata": {},
     "output_type": "display_data"
    }
   ],
   "source": [
    "Q400_512WPS_2 = spark.sql('''\n",
    "\n",
    "                        SELECT \n",
    "                        \n",
    "                            DISTINCT\n",
    "                        \n",
    "                               Cast(ChocksOff as Date) AS FlightDate,\n",
    "                               \n",
    "                               TailNo,\n",
    "                               \n",
    "                               Departure,\n",
    "                               \n",
    "                               ChocksOff,\n",
    "                               \n",
    "                               date_format(ChocksOff, 'HH:mm:ss') AS Actual_DEP_Time,\n",
    "                               \n",
    "                               Arrival,\n",
    "                               \n",
    "                               date_format(ChocksOn, 'HH:mm:ss') AS Actual_ARR_Time,\n",
    "                               \n",
    "                               (bigint(to_timestamp(ChocksOn)) - bigint(to_timestamp(ChocksOff))) / 60 AS BlockTime_ARMS, \n",
    "                               \n",
    "                               CONCAT(Departure, '-', Arrival) AS Sector,\n",
    "                                                    \n",
    "                               FlightNo,\n",
    "                               \n",
    "                               Date,\n",
    "                               \n",
    "                               ECN,\n",
    "                               \n",
    "                               UTC_TIMEDATE,\n",
    "                               \n",
    "                               CAST(SUM((CAST (`fuel-flow-no-2-kg` AS INT) + CAST (`fuel-flow-no-1-kg` AS INT))) OVER (PARTITION BY ECN, UTC_TIMEDATE, Filename) / 3600 AS INT) AS FuelConsumed,\n",
    "                               \n",
    "                               FileName,\n",
    "                               \n",
    "                               loadeddate,\n",
    "                               \n",
    "                               year,\n",
    "                               \n",
    "                               month\n",
    "                               \n",
    "                              FROM precogdb.q400512wps\n",
    "                        \n",
    "                        WHERE FlightDate > '2022-10-31'\n",
    "                        \n",
    "                        AND `Rad-Alt` NOT LIKE '%*%'\n",
    "                        \n",
    "                        AND `Rad-Alt` <> ''\n",
    "                        \n",
    "                        AND UTC_TIMEDATE BETWEEN (ChocksOff - INTERVAL 360 MINUTES) AND (ChocksOff - INTERVAL 300 MINUTES)\n",
    "             \n",
    "                        ''')\n",
    "\n",
    "Q400_512WPS_2.createOrReplaceTempView('Q400_512WPS_2')"
   ]
  },
  {
   "cell_type": "code",
   "execution_count": 16,
   "id": "11167399-235e-440f-8b5a-81f9d831b755",
   "metadata": {
    "execution": {
     "iopub.execute_input": "2022-12-23T06:18:14.002775Z",
     "iopub.status.busy": "2022-12-23T06:18:14.002582Z",
     "iopub.status.idle": "2022-12-23T06:18:14.254032Z",
     "shell.execute_reply": "2022-12-23T06:18:14.253544Z",
     "shell.execute_reply.started": "2022-12-23T06:18:14.002753Z"
    },
    "tags": []
   },
   "outputs": [
    {
     "data": {
      "application/vnd.jupyter.widget-view+json": {
       "model_id": "e5176102d3434c58870aa0fe45169cc2",
       "version_major": 2,
       "version_minor": 0
      },
      "text/plain": [
       "VBox()"
      ]
     },
     "metadata": {},
     "output_type": "display_data"
    },
    {
     "data": {
      "application/vnd.jupyter.widget-view+json": {
       "model_id": "",
       "version_major": 2,
       "version_minor": 0
      },
      "text/plain": [
       "FloatProgress(value=0.0, bar_style='info', description='Progress:', layout=Layout(height='25px', width='50%'),…"
      ]
     },
     "metadata": {},
     "output_type": "display_data"
    }
   ],
   "source": [
    "Q400_512WPS_2_1 = spark.sql('''\n",
    "\n",
    "                        SELECT a.*,b.Blocktime_DFDR\n",
    "                        \n",
    "                        FROM Q400_512WPS_2 a \n",
    "                        \n",
    "                        left JOIN Q400_Time b\n",
    "                        \n",
    "                        ON a.filename = b.filename\n",
    "                    ''')\n",
    "\n",
    "Q400_512WPS_2_1.createOrReplaceTempView('Q400_512WPS_2_1')\n"
   ]
  },
  {
   "cell_type": "code",
   "execution_count": 6,
   "id": "0049bd4a-6c4f-43d9-b21c-80400c0bb40f",
   "metadata": {
    "execution": {
     "iopub.execute_input": "2022-12-23T06:12:49.899111Z",
     "iopub.status.busy": "2022-12-23T06:12:49.898875Z",
     "iopub.status.idle": "2022-12-23T06:13:25.317875Z",
     "shell.execute_reply": "2022-12-23T06:13:25.317381Z",
     "shell.execute_reply.started": "2022-12-23T06:12:49.899087Z"
    }
   },
   "outputs": [
    {
     "data": {
      "application/vnd.jupyter.widget-view+json": {
       "model_id": "8ec16ae93d0c458bb55240d5ef831b3e",
       "version_major": 2,
       "version_minor": 0
      },
      "text/plain": [
       "VBox()"
      ]
     },
     "metadata": {},
     "output_type": "display_data"
    },
    {
     "data": {
      "application/vnd.jupyter.widget-view+json": {
       "model_id": "",
       "version_major": 2,
       "version_minor": 0
      },
      "text/plain": [
       "FloatProgress(value=0.0, bar_style='info', description='Progress:', layout=Layout(height='25px', width='50%'),…"
      ]
     },
     "metadata": {},
     "output_type": "display_data"
    },
    {
     "name": "stdout",
     "output_type": "stream",
     "text": [
      "+---------------+\n",
      "|min(FlightDate)|\n",
      "+---------------+\n",
      "|     2022-11-01|\n",
      "+---------------+"
     ]
    }
   ],
   "source": [
    "spark.sql('''\n",
    "\n",
    "SELECT MIN(FlightDate) FROM Q400_512WPS_2_1\n",
    "\n",
    "''').show()"
   ]
  },
  {
   "cell_type": "code",
   "execution_count": 17,
   "id": "99e9aeea-0e3d-46f0-8ae9-a9593ac9d469",
   "metadata": {
    "execution": {
     "iopub.execute_input": "2022-12-23T06:18:16.159499Z",
     "iopub.status.busy": "2022-12-23T06:18:16.159269Z",
     "iopub.status.idle": "2022-12-23T06:18:16.414520Z",
     "shell.execute_reply": "2022-12-23T06:18:16.413988Z",
     "shell.execute_reply.started": "2022-12-23T06:18:16.159473Z"
    },
    "tags": []
   },
   "outputs": [
    {
     "data": {
      "application/vnd.jupyter.widget-view+json": {
       "model_id": "8eae9d2365bf42d49f3c2b57a08631a3",
       "version_major": 2,
       "version_minor": 0
      },
      "text/plain": [
       "VBox()"
      ]
     },
     "metadata": {},
     "output_type": "display_data"
    },
    {
     "data": {
      "application/vnd.jupyter.widget-view+json": {
       "model_id": "",
       "version_major": 2,
       "version_minor": 0
      },
      "text/plain": [
       "FloatProgress(value=0.0, bar_style='info', description='Progress:', layout=Layout(height='25px', width='50%'),…"
      ]
     },
     "metadata": {},
     "output_type": "display_data"
    }
   ],
   "source": [
    "Q400_FOB_1 = spark.sql('''\n",
    "\n",
    "                    SELECT \n",
    "                    \n",
    "                    b.flightdate,\n",
    "                               \n",
    "                               b.TailNo,\n",
    "                               \n",
    "                               b.Departure,\n",
    "                               \n",
    "                               b.Actual_DEP_Time,\n",
    "                               \n",
    "                               b.Arrival,\n",
    "                               \n",
    "                               b.Sector,\n",
    "                               \n",
    "                               b.Actual_ARR_Time,\n",
    "                               \n",
    "                               b.Blocktime_ARMS,\n",
    "                               \n",
    "                               b.Blocktime_DFDR,\n",
    "                               \n",
    "                               a.FlightTime,\n",
    "                                                    \n",
    "                               b.FlightNo,\n",
    "                               \n",
    "                               b.Date,\n",
    "                               \n",
    "                               b.FuelConsumed,\n",
    "                               \n",
    "                               b.FileName,\n",
    "                               \n",
    "                               b.loadeddate,\n",
    "                               \n",
    "                               b.year,\n",
    "                               \n",
    "                               b.month\n",
    "                               \n",
    "                               FROM Q400_512WPS_1 a\n",
    "                               \n",
    "                               INNER JOIN Q400_512WPS_2_1 b\n",
    "                               \n",
    "                               on a.filename = b.filename\n",
    "                               \n",
    "                               and a.ECN = b.ECN\n",
    "                               \n",
    "                               and a.UTC_TIMEDATE = b.UTC_TIMEDATE\n",
    "                               \n",
    "                               ''')\n",
    "\n",
    "Q400_FOB_1.createOrReplaceTempView('Q400_FOB_1')"
   ]
  },
  {
   "cell_type": "code",
   "execution_count": 8,
   "id": "a06aba79-d5e6-4e61-b107-dc4a9523c226",
   "metadata": {
    "execution": {
     "iopub.execute_input": "2022-12-23T06:14:04.089364Z",
     "iopub.status.busy": "2022-12-23T06:14:04.089130Z",
     "iopub.status.idle": "2022-12-23T06:14:21.440252Z",
     "shell.execute_reply": "2022-12-23T06:14:21.439750Z",
     "shell.execute_reply.started": "2022-12-23T06:14:04.089340Z"
    }
   },
   "outputs": [
    {
     "data": {
      "application/vnd.jupyter.widget-view+json": {
       "model_id": "924fbc37cea1497abb9446f3f18bf278",
       "version_major": 2,
       "version_minor": 0
      },
      "text/plain": [
       "VBox()"
      ]
     },
     "metadata": {},
     "output_type": "display_data"
    },
    {
     "data": {
      "application/vnd.jupyter.widget-view+json": {
       "model_id": "",
       "version_major": 2,
       "version_minor": 0
      },
      "text/plain": [
       "FloatProgress(value=0.0, bar_style='info', description='Progress:', layout=Layout(height='25px', width='50%'),…"
      ]
     },
     "metadata": {},
     "output_type": "display_data"
    },
    {
     "name": "stdout",
     "output_type": "stream",
     "text": [
      "+---------------+\n",
      "|min(FlightDate)|\n",
      "+---------------+\n",
      "|     2022-11-01|\n",
      "+---------------+"
     ]
    }
   ],
   "source": [
    "spark.sql('''\n",
    "\n",
    "SELECT MIN(FlightDate) FROM Q400_FOB_1\n",
    "\n",
    "''').show()"
   ]
  },
  {
   "cell_type": "code",
   "execution_count": 18,
   "id": "44cfd952-c92c-4bf2-87af-9e513c59ff5a",
   "metadata": {
    "execution": {
     "iopub.execute_input": "2022-12-23T06:18:17.977746Z",
     "iopub.status.busy": "2022-12-23T06:18:17.977523Z",
     "iopub.status.idle": "2022-12-23T06:18:18.241272Z",
     "shell.execute_reply": "2022-12-23T06:18:18.240632Z",
     "shell.execute_reply.started": "2022-12-23T06:18:17.977721Z"
    },
    "tags": []
   },
   "outputs": [
    {
     "data": {
      "application/vnd.jupyter.widget-view+json": {
       "model_id": "f5df1dd7910844038898bdf76ac76716",
       "version_major": 2,
       "version_minor": 0
      },
      "text/plain": [
       "VBox()"
      ]
     },
     "metadata": {},
     "output_type": "display_data"
    },
    {
     "data": {
      "application/vnd.jupyter.widget-view+json": {
       "model_id": "",
       "version_major": 2,
       "version_minor": 0
      },
      "text/plain": [
       "FloatProgress(value=0.0, bar_style='info', description='Progress:', layout=Layout(height='25px', width='50%'),…"
      ]
     },
     "metadata": {},
     "output_type": "display_data"
    }
   ],
   "source": [
    "Q400_FOB = spark.sql('''\n",
    "\n",
    "    SELECT \n",
    "                    \n",
    "                    flightdate,\n",
    "                               \n",
    "                               TailNo,\n",
    "                               \n",
    "                               Departure,\n",
    "                               \n",
    "                               Actual_DEP_Time,\n",
    "                               \n",
    "                               Arrival,\n",
    "                               \n",
    "                               Sector,\n",
    "                               \n",
    "                               Actual_ARR_Time,\n",
    "                               \n",
    "                               CONCAT( CASE \n",
    "                                    WHEN LENGTH ( CAST(CAST(Blocktime_ARMS / 60 AS INT) AS STRING)) =1\n",
    "                                    THEN CONCAT('0',CAST(CAST(Blocktime_ARMS / 60 AS INT) AS STRING))\n",
    "                                    ELSE CAST(CAST(Blocktime_ARMS / 60 AS INT) AS STRING)\n",
    "                                END,\n",
    "                                ':',\n",
    "                                CASE \n",
    "                                    WHEN LENGTH ( CAST(CAST(Blocktime_ARMS % 60 AS INT) AS STRING)) =1\n",
    "                                    THEN CONCAT('0',CAST(CAST(Blocktime_ARMS % 60 AS INT) AS STRING))\n",
    "                                    ELSE CAST(CAST(Blocktime_ARMS % 60 AS INT) AS STRING)\n",
    "                                END ) AS BlockTime_ARMS,\n",
    "                               \n",
    "                                CONCAT( CASE \n",
    "                                    WHEN LENGTH ( CAST(CAST(Blocktime_DFDR / 60 AS INT) AS STRING)) =1\n",
    "                                    THEN CONCAT('0',CAST(CAST(Blocktime_DFDR / 60 AS INT) AS STRING))\n",
    "                                    ELSE CAST(CAST(Blocktime_DFDR / 60 AS INT) AS STRING)\n",
    "                                END,\n",
    "                                ':',\n",
    "                                CASE \n",
    "                                    WHEN LENGTH ( CAST(CAST(Blocktime_DFDR % 60 AS INT) AS STRING)) =1\n",
    "                                    THEN CONCAT('0',CAST(CAST(Blocktime_DFDR % 60 AS INT) AS STRING))\n",
    "                                    ELSE CAST(CAST(Blocktime_DFDR % 60 AS INT) AS STRING)\n",
    "                                END ) AS BlockTime_DFDR,\n",
    "                               \n",
    "                                CONCAT( CASE \n",
    "                                    WHEN LENGTH ( CAST(CAST(FlightTime / 60 AS INT) AS STRING)) =1\n",
    "                                    THEN CONCAT('0',CAST(CAST(FlightTime / 60 AS INT) AS STRING))\n",
    "                                    ELSE CAST(CAST(FlightTime / 60 AS INT) AS STRING)\n",
    "                                END,\n",
    "                                ':',\n",
    "                                CASE \n",
    "                                    WHEN LENGTH ( CAST(CAST(FlightTime % 60 AS INT) AS STRING)) =1\n",
    "                                    THEN CONCAT('0',CAST(CAST(FlightTime % 60 AS INT) AS STRING))\n",
    "                                    ELSE CAST(CAST(FlightTime % 60 AS INT) AS STRING)\n",
    "                                END ) AS FlightTime,\n",
    "                                                    \n",
    "                                FlightNo,\n",
    "                               \n",
    "                                Date,\n",
    "                               \n",
    "                                FuelConsumed,\n",
    "                               \n",
    "                                FileName,\n",
    "                               \n",
    "                                loadeddate,\n",
    "                               \n",
    "                                year,\n",
    "                               \n",
    "                                month\n",
    "\n",
    "                                FROM Q400_FOB_1\n",
    "    \n",
    "\n",
    "    \n",
    "    \n",
    "    ''')\n",
    "\n",
    "    #Q400_FOB = Q400_FOB_1.withColumn('Blocktime_ARMS', F.expr('concat(div(CAST(Blocktime_ARMS AS INT), 60), \":\", mod(CAST(Blocktime_ARMS AS INT), 60))'))\\\n",
    "     #                   .withColumn('Blocktime_DFDR', F.expr('concat(div(CAST(Blocktime_DFDR AS INT), 60), \":\", mod(CAST(Blocktime_DFDR AS INT), 60))'))\n",
    "\n",
    "Q400_FOB.createOrReplaceTempView('Q400_FOB')"
   ]
  },
  {
   "cell_type": "code",
   "execution_count": 10,
   "id": "662ab80a-1f23-4145-b70e-1f349b92c23d",
   "metadata": {
    "execution": {
     "iopub.execute_input": "2022-12-23T06:15:06.857284Z",
     "iopub.status.busy": "2022-12-23T06:15:06.857064Z",
     "iopub.status.idle": "2022-12-23T06:15:18.169611Z",
     "shell.execute_reply": "2022-12-23T06:15:18.169132Z",
     "shell.execute_reply.started": "2022-12-23T06:15:06.857259Z"
    }
   },
   "outputs": [
    {
     "data": {
      "application/vnd.jupyter.widget-view+json": {
       "model_id": "d50f4fc732064dbeb84f9613d8c41b0b",
       "version_major": 2,
       "version_minor": 0
      },
      "text/plain": [
       "VBox()"
      ]
     },
     "metadata": {},
     "output_type": "display_data"
    },
    {
     "data": {
      "application/vnd.jupyter.widget-view+json": {
       "model_id": "",
       "version_major": 2,
       "version_minor": 0
      },
      "text/plain": [
       "FloatProgress(value=0.0, bar_style='info', description='Progress:', layout=Layout(height='25px', width='50%'),…"
      ]
     },
     "metadata": {},
     "output_type": "display_data"
    },
    {
     "name": "stdout",
     "output_type": "stream",
     "text": [
      "+---------------+\n",
      "|min(FlightDate)|\n",
      "+---------------+\n",
      "|     2022-11-01|\n",
      "+---------------+"
     ]
    }
   ],
   "source": [
    "spark.sql('''\n",
    "\n",
    "SELECT MIN(FlightDate) FROM Q400_FOB\n",
    "\n",
    "''').show()"
   ]
  },
  {
   "cell_type": "code",
   "execution_count": 19,
   "id": "12ec6ac0-9e74-41db-9a45-9448c73175cc",
   "metadata": {
    "execution": {
     "iopub.execute_input": "2022-12-23T06:18:20.120676Z",
     "iopub.status.busy": "2022-12-23T06:18:20.120454Z",
     "iopub.status.idle": "2022-12-23T06:18:21.384274Z",
     "shell.execute_reply": "2022-12-23T06:18:21.383710Z",
     "shell.execute_reply.started": "2022-12-23T06:18:20.120652Z"
    },
    "tags": []
   },
   "outputs": [
    {
     "data": {
      "application/vnd.jupyter.widget-view+json": {
       "model_id": "9ea925124de741f2be114f2c14d5bf9e",
       "version_major": 2,
       "version_minor": 0
      },
      "text/plain": [
       "VBox()"
      ]
     },
     "metadata": {},
     "output_type": "display_data"
    },
    {
     "data": {
      "application/vnd.jupyter.widget-view+json": {
       "model_id": "",
       "version_major": 2,
       "version_minor": 0
      },
      "text/plain": [
       "FloatProgress(value=0.0, bar_style='info', description='Progress:', layout=Layout(height='25px', width='50%'),…"
      ]
     },
     "metadata": {},
     "output_type": "display_data"
    }
   ],
   "source": [
    "Url = f\"jdbc:sqlserver://10.150.72.22:1433;databaseName=SALT;\"\n",
    "Driver = \"com.microsoft.sqlserver.jdbc.SQLServerDriver\"\n",
    "\n",
    "SALTDF = spark.read \\\n",
    "        .format(\"jdbc\") \\\n",
    "        .option(\"driver\", Driver) \\\n",
    "        .option(\"url\", Url) \\\n",
    "        .option(\"dbtable\", \"LoadAndTrimDetails\") \\\n",
    "        .option(\"user\", \"dmbigdata\") \\\n",
    "        .option(\"password\", \"$p!Ce@bigData$db\") \\\n",
    "        .load()\n",
    "\n",
    "SALTDF.createOrReplaceTempView('SALTDF')"
   ]
  },
  {
   "cell_type": "code",
   "execution_count": 20,
   "id": "4d9a0e53-756f-448d-b8ae-850b0787352e",
   "metadata": {
    "execution": {
     "iopub.execute_input": "2022-12-23T06:18:49.038847Z",
     "iopub.status.busy": "2022-12-23T06:18:49.038627Z",
     "iopub.status.idle": "2022-12-23T06:18:49.287308Z",
     "shell.execute_reply": "2022-12-23T06:18:49.286803Z",
     "shell.execute_reply.started": "2022-12-23T06:18:49.038823Z"
    }
   },
   "outputs": [
    {
     "data": {
      "application/vnd.jupyter.widget-view+json": {
       "model_id": "580bbe333710462db74ecc8870b78841",
       "version_major": 2,
       "version_minor": 0
      },
      "text/plain": [
       "VBox()"
      ]
     },
     "metadata": {},
     "output_type": "display_data"
    },
    {
     "data": {
      "application/vnd.jupyter.widget-view+json": {
       "model_id": "",
       "version_major": 2,
       "version_minor": 0
      },
      "text/plain": [
       "FloatProgress(value=0.0, bar_style='info', description='Progress:', layout=Layout(height='25px', width='50%'),…"
      ]
     },
     "metadata": {},
     "output_type": "display_data"
    }
   ],
   "source": [
    "Q400FinalFOBDF = spark.sql('''\n",
    "\n",
    "                SELECT a.flightdate,\n",
    "                               \n",
    "                               a.TailNo,\n",
    "                               \n",
    "                               a.FlightNo,\n",
    "                               \n",
    "                               a.Sector,\n",
    "                               \n",
    "                               a.Departure,\n",
    "                               \n",
    "                               a.Actual_DEP_Time,\n",
    "                               \n",
    "                               a.Arrival,\n",
    "                               \n",
    "                               a.Actual_ARR_Time,\n",
    "                               \n",
    "                               b.FOB,\n",
    "                               \n",
    "                               (CAST (b.FOB AS INT) + 105) AS DepartureFuel,\n",
    "                               \n",
    "                               a.FuelConsumed,\n",
    "                               \n",
    "                               a.BlockTime_ARMS,\n",
    "                               \n",
    "                               a.BlockTime_DFDR,\n",
    "                               \n",
    "                               a.FlightTime,\n",
    "                                                    \n",
    "                               ((CAST (b.FOB AS INT) + 105) - CAST (a.FuelConsumed AS INT)) AS ArrivalFuel,\n",
    "                               \n",
    "                               a.FileName,\n",
    "                               \n",
    "                               a.loadeddate,\n",
    "                               \n",
    "                               a.year,\n",
    "                               \n",
    "                               a.month,\n",
    "\n",
    "                               current_timestamp()   AS `ProcessedDate`\n",
    "\n",
    "                               \n",
    "                               \n",
    "                               \n",
    "                \n",
    "                FROM Q400_FOB a \n",
    "                \n",
    "                LEFT JOIN SALTDF b on a.FlightDate = CAST(b.FlightDate AS date)\n",
    "                \n",
    "                AND REPLACE(a.FlightNo,' ','') = b.FlightNo\n",
    "                \n",
    "                AND a.Departure = b.Source\n",
    "                \n",
    "                AND a.Arrival = b.Destination\n",
    "                \n",
    "                ''')"
   ]
  },
  {
   "cell_type": "code",
   "execution_count": 21,
   "id": "cb168826-944a-45ee-a439-9dfeb13dff81",
   "metadata": {
    "execution": {
     "iopub.execute_input": "2022-12-23T06:19:07.997802Z",
     "iopub.status.busy": "2022-12-23T06:19:07.997561Z",
     "iopub.status.idle": "2022-12-23T06:19:08.252118Z",
     "shell.execute_reply": "2022-12-23T06:19:08.251575Z",
     "shell.execute_reply.started": "2022-12-23T06:19:07.997776Z"
    }
   },
   "outputs": [
    {
     "data": {
      "application/vnd.jupyter.widget-view+json": {
       "model_id": "693448ce54f240b0ab45cab30b2bbd14",
       "version_major": 2,
       "version_minor": 0
      },
      "text/plain": [
       "VBox()"
      ]
     },
     "metadata": {},
     "output_type": "display_data"
    },
    {
     "data": {
      "application/vnd.jupyter.widget-view+json": {
       "model_id": "",
       "version_major": 2,
       "version_minor": 0
      },
      "text/plain": [
       "FloatProgress(value=0.0, bar_style='info', description='Progress:', layout=Layout(height='25px', width='50%'),…"
      ]
     },
     "metadata": {},
     "output_type": "display_data"
    }
   ],
   "source": [
    "Q400FinalFOBDF.createOrReplaceTempView('Q400FinalFOBDF')"
   ]
  },
  {
   "cell_type": "code",
   "execution_count": 22,
   "id": "f55adcc0-1b49-476d-abfb-b3c2423c5624",
   "metadata": {
    "execution": {
     "iopub.execute_input": "2022-12-23T06:19:28.998956Z",
     "iopub.status.busy": "2022-12-23T06:19:28.998717Z",
     "iopub.status.idle": "2022-12-23T06:20:14.439735Z",
     "shell.execute_reply": "2022-12-23T06:20:14.439088Z",
     "shell.execute_reply.started": "2022-12-23T06:19:28.998931Z"
    }
   },
   "outputs": [
    {
     "data": {
      "application/vnd.jupyter.widget-view+json": {
       "model_id": "72ac454326f04e7c9660b31be5aea4a2",
       "version_major": 2,
       "version_minor": 0
      },
      "text/plain": [
       "VBox()"
      ]
     },
     "metadata": {},
     "output_type": "display_data"
    },
    {
     "data": {
      "application/vnd.jupyter.widget-view+json": {
       "model_id": "",
       "version_major": 2,
       "version_minor": 0
      },
      "text/plain": [
       "FloatProgress(value=0.0, bar_style='info', description='Progress:', layout=Layout(height='25px', width='50%'),…"
      ]
     },
     "metadata": {},
     "output_type": "display_data"
    },
    {
     "name": "stdout",
     "output_type": "stream",
     "text": [
      "+---------------+\n",
      "|min(FlightDate)|\n",
      "+---------------+\n",
      "|     2022-11-01|\n",
      "+---------------+"
     ]
    }
   ],
   "source": [
    "spark.sql('''\n",
    "\n",
    "SELECT MIN(FlightDate) FROM Q400FinalFOBDF\n",
    "\n",
    "''').show()"
   ]
  },
  {
   "cell_type": "code",
   "execution_count": 23,
   "id": "4f2ee3af-5765-4443-8de3-4113ca36ea4d",
   "metadata": {
    "execution": {
     "iopub.execute_input": "2022-12-23T06:26:08.975058Z",
     "iopub.status.busy": "2022-12-23T06:26:08.974828Z",
     "iopub.status.idle": "2022-12-23T06:26:46.359015Z",
     "shell.execute_reply": "2022-12-23T06:26:46.358467Z",
     "shell.execute_reply.started": "2022-12-23T06:26:08.975033Z"
    }
   },
   "outputs": [
    {
     "data": {
      "application/vnd.jupyter.widget-view+json": {
       "model_id": "030b063314bf4d1fa824b558b46593ac",
       "version_major": 2,
       "version_minor": 0
      },
      "text/plain": [
       "VBox()"
      ]
     },
     "metadata": {},
     "output_type": "display_data"
    },
    {
     "data": {
      "application/vnd.jupyter.widget-view+json": {
       "model_id": "",
       "version_major": 2,
       "version_minor": 0
      },
      "text/plain": [
       "FloatProgress(value=0.0, bar_style='info', description='Progress:', layout=Layout(height='25px', width='50%'),…"
      ]
     },
     "metadata": {},
     "output_type": "display_data"
    }
   ],
   "source": [
    "Q400FinalFOBDF.write.mode(\"append\").partitionBy(\n",
    "        \"year\", \"month\").parquet('s3://sjet-datamart-bucket/FuelOnBoard/fuel-on-board-processed-q400/')"
   ]
  },
  {
   "cell_type": "code",
   "execution_count": null,
   "id": "63a77a30-ee17-4bc0-bdb4-7722395e276c",
   "metadata": {},
   "outputs": [],
   "source": []
  }
 ],
 "metadata": {
  "kernelspec": {
   "display_name": "PySpark",
   "language": "",
   "name": "pysparkkernel"
  },
  "language_info": {
   "codemirror_mode": {
    "name": "python",
    "version": 3
   },
   "mimetype": "text/x-python",
   "name": "pyspark",
   "pygments_lexer": "python3"
  }
 },
 "nbformat": 4,
 "nbformat_minor": 5
}
