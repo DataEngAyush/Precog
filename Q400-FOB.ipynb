{
 "cells": [
  {
   "cell_type": "code",
   "execution_count": 1,
   "id": "a016a666-7deb-4dee-a2da-e485adcb3672",
   "metadata": {
    "execution": {
     "iopub.execute_input": "2023-01-16T05:48:03.637792Z",
     "iopub.status.busy": "2023-01-16T05:48:03.637564Z",
     "iopub.status.idle": "2023-01-16T05:48:31.307604Z",
     "shell.execute_reply": "2023-01-16T05:48:31.307109Z",
     "shell.execute_reply.started": "2023-01-16T05:48:03.637766Z"
    },
    "tags": []
   },
   "outputs": [
    {
     "data": {
      "application/vnd.jupyter.widget-view+json": {
       "model_id": "4ff87eb358d54850b2442058ff2fe3a8",
       "version_major": 2,
       "version_minor": 0
      },
      "text/plain": [
       "VBox()"
      ]
     },
     "metadata": {},
     "output_type": "display_data"
    },
    {
     "name": "stdout",
     "output_type": "stream",
     "text": [
      "Starting Spark application\n"
     ]
    },
    {
     "data": {
      "text/html": [
       "<table>\n",
       "<tr><th>ID</th><th>YARN Application ID</th><th>Kind</th><th>State</th><th>Spark UI</th><th>Driver log</th><th>Current session?</th></tr><tr><td>0</td><td>application_1673844540205_0002</td><td>pyspark</td><td>idle</td><td><a target=\"_blank\" href=\"http://ip-20-0-4-70.ap-south-1.compute.internal:20888/proxy/application_1673844540205_0002/\" class=\"emr-proxy-link\" emr-resource=\"j-1ANMMX6U4HJF2\n",
       "\" application-id=\"application_1673844540205_0002\">Link</a></td><td><a target=\"_blank\" href=\"http://ip-20-0-4-216.ap-south-1.compute.internal:8042/node/containerlogs/container_1673844540205_0002_01_000001/livy\" >Link</a></td><td>✔</td></tr></table>"
      ],
      "text/plain": [
       "<IPython.core.display.HTML object>"
      ]
     },
     "metadata": {},
     "output_type": "display_data"
    },
    {
     "data": {
      "application/vnd.jupyter.widget-view+json": {
       "model_id": "",
       "version_major": 2,
       "version_minor": 0
      },
      "text/plain": [
       "FloatProgress(value=0.0, bar_style='info', description='Progress:', layout=Layout(height='25px', width='50%'),…"
      ]
     },
     "metadata": {},
     "output_type": "display_data"
    },
    {
     "name": "stdout",
     "output_type": "stream",
     "text": [
      "SparkSession available as 'spark'.\n"
     ]
    },
    {
     "data": {
      "application/vnd.jupyter.widget-view+json": {
       "model_id": "",
       "version_major": 2,
       "version_minor": 0
      },
      "text/plain": [
       "FloatProgress(value=0.0, bar_style='info', description='Progress:', layout=Layout(height='25px', width='50%'),…"
      ]
     },
     "metadata": {},
     "output_type": "display_data"
    }
   ],
   "source": [
    "from pyspark import SparkConf\n",
    "from pyspark import SparkContext\n",
    "from pyspark.sql import SparkSession\n",
    "from pyspark.sql.types import *\n",
    "from pyspark.sql import functions\n",
    "import boto3\n",
    "import sys\n",
    "import re\n",
    "from datetime import datetime\n",
    "import configparser\n",
    "from pyspark.sql.functions import *"
   ]
  },
  {
   "cell_type": "code",
   "execution_count": 2,
   "id": "6bc7f45e-9854-44d3-bf49-5c0a5b22a596",
   "metadata": {
    "execution": {
     "iopub.execute_input": "2023-01-16T05:48:31.308674Z",
     "iopub.status.busy": "2023-01-16T05:48:31.308503Z",
     "iopub.status.idle": "2023-01-16T05:48:56.611189Z",
     "shell.execute_reply": "2023-01-16T05:48:56.610534Z",
     "shell.execute_reply.started": "2023-01-16T05:48:31.308654Z"
    },
    "tags": []
   },
   "outputs": [
    {
     "name": "stdout",
     "output_type": "stream",
     "text": [
      "Starting Spark application\n"
     ]
    },
    {
     "data": {
      "text/html": [
       "<table>\n",
       "<tr><th>ID</th><th>YARN Application ID</th><th>Kind</th><th>State</th><th>Spark UI</th><th>Driver log</th><th>Current session?</th></tr><tr><td>1</td><td>application_1673844540205_0003</td><td>pyspark</td><td>idle</td><td><a target=\"_blank\" href=\"http://ip-20-0-4-70.ap-south-1.compute.internal:20888/proxy/application_1673844540205_0003/\" class=\"emr-proxy-link\" emr-resource=\"j-1ANMMX6U4HJF2\n",
       "\" application-id=\"application_1673844540205_0003\">Link</a></td><td><a target=\"_blank\" href=\"http://ip-20-0-4-216.ap-south-1.compute.internal:8042/node/containerlogs/container_1673844540205_0003_01_000001/livy\" >Link</a></td><td>✔</td></tr></table>"
      ],
      "text/plain": [
       "<IPython.core.display.HTML object>"
      ]
     },
     "metadata": {},
     "output_type": "display_data"
    },
    {
     "data": {
      "application/vnd.jupyter.widget-view+json": {
       "model_id": "",
       "version_major": 2,
       "version_minor": 0
      },
      "text/plain": [
       "FloatProgress(value=0.0, bar_style='info', description='Progress:', layout=Layout(height='25px', width='50%'),…"
      ]
     },
     "metadata": {},
     "output_type": "display_data"
    },
    {
     "name": "stdout",
     "output_type": "stream",
     "text": [
      "SparkSession available as 'spark'.\n"
     ]
    },
    {
     "data": {
      "text/html": [
       "Current session configs: <tt>{'conf': {'spark.jars': 's3://sjet-datamart-bucket/Jars/mssql-jdbc-6.1.0.jre8.jar', 'spark.sql.crossJoin.enabled': 'true'}, 'proxyUser': 'user_ayush_vaishnav', 'kind': 'pyspark'}</tt><br>"
      ],
      "text/plain": [
       "<IPython.core.display.HTML object>"
      ]
     },
     "metadata": {},
     "output_type": "display_data"
    },
    {
     "data": {
      "text/html": [
       "<table>\n",
       "<tr><th>ID</th><th>YARN Application ID</th><th>Kind</th><th>State</th><th>Spark UI</th><th>Driver log</th><th>Current session?</th></tr><tr><td>1</td><td>application_1673844540205_0003</td><td>pyspark</td><td>idle</td><td><a target=\"_blank\" href=\"http://ip-20-0-4-70.ap-south-1.compute.internal:20888/proxy/application_1673844540205_0003/\" class=\"emr-proxy-link\" emr-resource=\"j-1ANMMX6U4HJF2\n",
       "\" application-id=\"application_1673844540205_0003\">Link</a></td><td><a target=\"_blank\" href=\"http://ip-20-0-4-216.ap-south-1.compute.internal:8042/node/containerlogs/container_1673844540205_0003_01_000001/livy\" >Link</a></td><td>✔</td></tr></table>"
      ],
      "text/plain": [
       "<IPython.core.display.HTML object>"
      ]
     },
     "metadata": {},
     "output_type": "display_data"
    }
   ],
   "source": []
  },
  {
   "cell_type": "code",
   "execution_count": 10,
   "id": "319d037a-6eba-47f7-8e40-666c4a0cf54a",
   "metadata": {
    "execution": {
     "iopub.execute_input": "2022-12-21T07:01:07.007643Z",
     "iopub.status.busy": "2022-12-21T07:01:07.007430Z",
     "iopub.status.idle": "2022-12-21T07:01:07.764764Z",
     "shell.execute_reply": "2022-12-21T07:01:07.764258Z",
     "shell.execute_reply.started": "2022-12-21T07:01:07.007620Z"
    },
    "tags": []
   },
   "outputs": [
    {
     "data": {
      "application/vnd.jupyter.widget-view+json": {
       "model_id": "bd2ce6c777ca4abab70f2cf6b3b0c4a8",
       "version_major": 2,
       "version_minor": 0
      },
      "text/plain": [
       "VBox()"
      ]
     },
     "metadata": {},
     "output_type": "display_data"
    },
    {
     "data": {
      "application/vnd.jupyter.widget-view+json": {
       "model_id": "",
       "version_major": 2,
       "version_minor": 0
      },
      "text/plain": [
       "FloatProgress(value=0.0, bar_style='info', description='Progress:', layout=Layout(height='25px', width='50%'),…"
      ]
     },
     "metadata": {},
     "output_type": "display_data"
    }
   ],
   "source": [
    "Q400_128 = spark.sql('''\n",
    "                            SELECT *,\n",
    "        \n",
    "                                CASE\n",
    "                                \n",
    "                                    WHEN LENGTH(CAST(`Time-Per-Sec` as String)) = 1 THEN CONCAT('00000',CAST(`Time-Per-Sec` as String)) \n",
    "                                    \n",
    "                                    WHEN LENGTH(CAST(`Time-Per-Sec` as String)) = 2 THEN CONCAT('0000',CAST(`Time-Per-Sec` as String)) \n",
    "                                    \n",
    "                                    WHEN LENGTH(CAST(`Time-Per-Sec` as String)) = 3 THEN CONCAT('000',CAST(`Time-Per-Sec` as String))\n",
    "                                    \n",
    "                                    WHEN LENGTH(CAST(`Time-Per-Sec` as String)) = 4 THEN CONCAT('00',CAST(`Time-Per-Sec` as String)) \n",
    "                                    \n",
    "                                    WHEN LENGTH(CAST(`Time-Per-Sec` as String)) = 5 THEN CONCAT('0',CAST(`Time-Per-Sec` as String))\n",
    "                                    \n",
    "                                    ELSE `Time-Per-Sec`\n",
    "                                    \n",
    "                                END As Time\n",
    "                                \n",
    "                            FROM precogdb.q400128wps\n",
    "                            \n",
    "                            WHERE Filename = 'ALL ac=VT-SUG dep=HYD arr=GOI fn=SEJ4001 dt=20221121.csv'\n",
    "                            \n",
    "                            ''')"
   ]
  },
  {
   "cell_type": "code",
   "execution_count": 11,
   "id": "4916bd10-81af-438b-ba0e-e6c68623b418",
   "metadata": {
    "execution": {
     "iopub.execute_input": "2022-12-21T07:01:08.129622Z",
     "iopub.status.busy": "2022-12-21T07:01:08.129410Z",
     "iopub.status.idle": "2022-12-21T07:01:08.382973Z",
     "shell.execute_reply": "2022-12-21T07:01:08.382453Z",
     "shell.execute_reply.started": "2022-12-21T07:01:08.129598Z"
    },
    "tags": []
   },
   "outputs": [
    {
     "data": {
      "application/vnd.jupyter.widget-view+json": {
       "model_id": "a6793922a5fc43668486818ba1e50a99",
       "version_major": 2,
       "version_minor": 0
      },
      "text/plain": [
       "VBox()"
      ]
     },
     "metadata": {},
     "output_type": "display_data"
    },
    {
     "data": {
      "application/vnd.jupyter.widget-view+json": {
       "model_id": "",
       "version_major": 2,
       "version_minor": 0
      },
      "text/plain": [
       "FloatProgress(value=0.0, bar_style='info', description='Progress:', layout=Layout(height='25px', width='50%'),…"
      ]
     },
     "metadata": {},
     "output_type": "display_data"
    }
   ],
   "source": [
    "Q400_128.createOrReplaceTempView('Q400_128')"
   ]
  },
  {
   "cell_type": "code",
   "execution_count": 12,
   "id": "120d4020-b714-4c82-bff4-6474c2cbe2ab",
   "metadata": {
    "execution": {
     "iopub.execute_input": "2022-12-21T07:01:09.247816Z",
     "iopub.status.busy": "2022-12-21T07:01:09.247613Z",
     "iopub.status.idle": "2022-12-21T07:01:09.513582Z",
     "shell.execute_reply": "2022-12-21T07:01:09.513102Z",
     "shell.execute_reply.started": "2022-12-21T07:01:09.247793Z"
    },
    "tags": []
   },
   "outputs": [
    {
     "data": {
      "application/vnd.jupyter.widget-view+json": {
       "model_id": "e0d7ce7b64174d6ab4d7fdaf1599b29a",
       "version_major": 2,
       "version_minor": 0
      },
      "text/plain": [
       "VBox()"
      ]
     },
     "metadata": {},
     "output_type": "display_data"
    },
    {
     "data": {
      "application/vnd.jupyter.widget-view+json": {
       "model_id": "",
       "version_major": 2,
       "version_minor": 0
      },
      "text/plain": [
       "FloatProgress(value=0.0, bar_style='info', description='Progress:', layout=Layout(height='25px', width='50%'),…"
      ]
     },
     "metadata": {},
     "output_type": "display_data"
    }
   ],
   "source": [
    "Q400_128_1 = Q400_128.withColumn(\"Time-Per-Sec-1\", regexp_replace(col(\"Time\") , \"(\\\\d{2})(\\\\d{2})(\\\\d{2})\" , \"$1:$2:$3\" ))"
   ]
  },
  {
   "cell_type": "code",
   "execution_count": 13,
   "id": "0e362803-1ded-4ef3-a826-5a1ba3767b32",
   "metadata": {
    "execution": {
     "iopub.execute_input": "2022-12-21T07:01:10.922812Z",
     "iopub.status.busy": "2022-12-21T07:01:10.922600Z",
     "iopub.status.idle": "2022-12-21T07:01:11.180599Z",
     "shell.execute_reply": "2022-12-21T07:01:11.180025Z",
     "shell.execute_reply.started": "2022-12-21T07:01:10.922788Z"
    },
    "tags": []
   },
   "outputs": [
    {
     "data": {
      "application/vnd.jupyter.widget-view+json": {
       "model_id": "a69898cad82b4915af9549fb866ff82d",
       "version_major": 2,
       "version_minor": 0
      },
      "text/plain": [
       "VBox()"
      ]
     },
     "metadata": {},
     "output_type": "display_data"
    },
    {
     "data": {
      "application/vnd.jupyter.widget-view+json": {
       "model_id": "",
       "version_major": 2,
       "version_minor": 0
      },
      "text/plain": [
       "FloatProgress(value=0.0, bar_style='info', description='Progress:', layout=Layout(height='25px', width='50%'),…"
      ]
     },
     "metadata": {},
     "output_type": "display_data"
    }
   ],
   "source": [
    "Q400_128_1.createOrReplaceTempView('Q400_128_1')"
   ]
  },
  {
   "cell_type": "code",
   "execution_count": 14,
   "id": "36b61f73-b311-491b-a3bc-9bcf60a6e796",
   "metadata": {
    "execution": {
     "iopub.execute_input": "2022-12-21T07:01:11.670777Z",
     "iopub.status.busy": "2022-12-21T07:01:11.670579Z",
     "iopub.status.idle": "2022-12-21T07:01:11.713677Z",
     "shell.execute_reply": "2022-12-21T07:01:11.713216Z",
     "shell.execute_reply.started": "2022-12-21T07:01:11.670753Z"
    },
    "tags": []
   },
   "outputs": [
    {
     "data": {
      "application/vnd.jupyter.widget-view+json": {
       "model_id": "db23493110064f259be2cbe2d24941ef",
       "version_major": 2,
       "version_minor": 0
      },
      "text/plain": [
       "VBox()"
      ]
     },
     "metadata": {},
     "output_type": "display_data"
    },
    {
     "data": {
      "application/vnd.jupyter.widget-view+json": {
       "model_id": "",
       "version_major": 2,
       "version_minor": 0
      },
      "text/plain": [
       "FloatProgress(value=0.0, bar_style='info', description='Progress:', layout=Layout(height='25px', width='50%'),…"
      ]
     },
     "metadata": {},
     "output_type": "display_data"
    }
   ],
   "source": [
    "#Q400_128_2 = Q400_128_1.withColumn(\"Time-1\", regexp_replace(col(\"Time\") , \"(\\\\d{2})(\\\\d{2})(\\\\d{2})\" , \"$1:$2:$3\" ))"
   ]
  },
  {
   "cell_type": "code",
   "execution_count": 16,
   "id": "bedb2253-6f4c-48d8-95d5-e9b621b51d72",
   "metadata": {
    "execution": {
     "iopub.execute_input": "2022-12-21T07:03:42.369595Z",
     "iopub.status.busy": "2022-12-21T07:03:42.369363Z",
     "iopub.status.idle": "2022-12-21T07:03:42.417696Z",
     "shell.execute_reply": "2022-12-21T07:03:42.417206Z",
     "shell.execute_reply.started": "2022-12-21T07:03:42.369572Z"
    },
    "tags": []
   },
   "outputs": [
    {
     "data": {
      "application/vnd.jupyter.widget-view+json": {
       "model_id": "5d213299fa9242a2a891c66f18c2263b",
       "version_major": 2,
       "version_minor": 0
      },
      "text/plain": [
       "VBox()"
      ]
     },
     "metadata": {},
     "output_type": "display_data"
    },
    {
     "data": {
      "application/vnd.jupyter.widget-view+json": {
       "model_id": "",
       "version_major": 2,
       "version_minor": 0
      },
      "text/plain": [
       "FloatProgress(value=0.0, bar_style='info', description='Progress:', layout=Layout(height='25px', width='50%'),…"
      ]
     },
     "metadata": {},
     "output_type": "display_data"
    }
   ],
   "source": [
    "#Q400_128_1.show(20,False)"
   ]
  },
  {
   "cell_type": "code",
   "execution_count": null,
   "id": "d9fc6ce8-a4b6-4df6-8c06-3f1985a6011c",
   "metadata": {
    "execution": {
     "iopub.execute_input": "2022-12-05T05:35:52.014225Z",
     "iopub.status.busy": "2022-12-05T05:35:52.013986Z",
     "iopub.status.idle": "2022-12-05T05:35:52.264426Z",
     "shell.execute_reply": "2022-12-05T05:35:52.263925Z",
     "shell.execute_reply.started": "2022-12-05T05:35:52.014199Z"
    },
    "tags": []
   },
   "outputs": [
    {
     "data": {
      "application/vnd.jupyter.widget-view+json": {
       "model_id": "3658be8bb9ae408182b23a38965fbb3c",
       "version_major": 2,
       "version_minor": 0
      },
      "text/plain": [
       "VBox()"
      ]
     },
     "metadata": {},
     "output_type": "display_data"
    },
    {
     "data": {
      "application/vnd.jupyter.widget-view+json": {
       "model_id": "",
       "version_major": 2,
       "version_minor": 0
      },
      "text/plain": [
       "FloatProgress(value=0.0, bar_style='info', description='Progress:', layout=Layout(height='25px', width='50%'),…"
      ]
     },
     "metadata": {},
     "output_type": "display_data"
    }
   ],
   "source": [
    "Q400_512_3 = Q400_128_2.withColumn('LengthOfTimePerSec', length('Time-Per-Sec'))"
   ]
  },
  {
   "cell_type": "code",
   "execution_count": null,
   "id": "a5e0ac05-df9d-4688-8cf3-38ef910edab9",
   "metadata": {
    "execution": {
     "iopub.execute_input": "2022-12-05T10:23:29.224958Z",
     "iopub.status.busy": "2022-12-05T10:23:29.224724Z",
     "iopub.status.idle": "2022-12-05T10:23:34.497714Z",
     "shell.execute_reply": "2022-12-05T10:23:34.497238Z",
     "shell.execute_reply.started": "2022-12-05T10:23:29.224934Z"
    },
    "tags": []
   },
   "outputs": [
    {
     "data": {
      "application/vnd.jupyter.widget-view+json": {
       "model_id": "faeacd704e024efeaca78484729a2828",
       "version_major": 2,
       "version_minor": 0
      },
      "text/plain": [
       "VBox()"
      ]
     },
     "metadata": {},
     "output_type": "display_data"
    },
    {
     "data": {
      "application/vnd.jupyter.widget-view+json": {
       "model_id": "",
       "version_major": 2,
       "version_minor": 0
      },
      "text/plain": [
       "FloatProgress(value=0.0, bar_style='info', description='Progress:', layout=Layout(height='25px', width='50%'),…"
      ]
     },
     "metadata": {},
     "output_type": "display_data"
    },
    {
     "name": "stdout",
     "output_type": "stream",
     "text": [
      "+--------------------+------------------------------------------------------------+\n",
      "|length(time-per-sec)|filename                                                    |\n",
      "+--------------------+------------------------------------------------------------+\n",
      "|2                   |ALL ac=VT-SUQ dep=AMD arr=GOI fn=SG 2977 dt=20220323.csv    |\n",
      "|2                   |ALL _1_ ac=VT-SUQ dep=JAI arr=PNQ fn=SG 2964 dt=20220329.csv|\n",
      "|1                   |ALL ac=VT-SUE dep=BOM arr=HYD fn=SEJ7667 dt=20220512.csv    |\n",
      "|2                   |ALL ac=VT-SUF dep=JAI arr=PNQ fn=SEJ2964 dt=20220404.csv    |\n",
      "|2                   |ALL ac=VT-SUL dep=JAI arr=PNQ fn=SEJ2964 dt=20220522.csv    |\n",
      "|1                   |ALL ac=VT-SUB dep=BOM arr=BLR fn=SEJ7667 dt=20211223.csv    |\n",
      "|2                   |ALL ac=VT-SUH dep=BLR arr=BOM fn=SEJ7446 dt=20211106.csv    |\n",
      "|2                   |ALL ac=VT-SUO dep=HYD arr=KQH fn=SG 1006 dt=20220414.csv    |\n",
      "|1                   |ALL ac=VT-SUG dep=JAI arr=PNQ fn=SG 2964 dt=20220328.csv    |\n",
      "|2                   |ALL ac=VT-SUB dep=DEL arr=HYD fn=SG 7405 dt=20220130.csv    |\n",
      "|2                   |ALL ac=VT-SUQ dep=JAI arr=AMD fn=SG 3762 dt=20221202.csv    |\n",
      "|2                   |ALL ac=VT-SUB dep=HYD arr=BLR fn=SEJ7668 dt=20211210.csv    |\n",
      "|1                   |ALL ac=VT-SUB dep=JAI arr=AMD fn=SEJ3762 dt=20221118.csv    |\n",
      "|1                   |ALL ac=VT-SUH dep=DEL arr=CCU fn=SEJ7617 dt=20220119.csv    |\n",
      "|1                   |ALL ac=VT-SUF dep=JAI arr=PNQ fn=SEJ2964 dt=20220927.csv    |\n",
      "|1                   |ALL ac=VT-SUD dep=JAI arr=AMD fn=SEJ3762 dt=20221116.csv    |\n",
      "|2                   |ALL ac=VT-SUO dep=MAA arr=MAA fn=SG 9300 dt=20221127.csv    |\n",
      "|1                   |ALL _1_ ac=VT-SUQ dep=JAI arr=PNQ fn=SG 2964 dt=20220329.csv|\n",
      "|2                   |ALL ac=VT-SUG dep=JAI arr=PNQ fn=SEJ2964 dt=20220526.csv    |\n",
      "|2                   |ALL ac=VT-SUJ dep=JAI arr=PNQ fn=SEJ2964 dt=20220530.csv    |\n",
      "+--------------------+------------------------------------------------------------+\n",
      "only showing top 20 rows"
     ]
    }
   ],
   "source": [
    "spark.sql('''\n",
    "                \n",
    "                SELECT Distinct(length(`time-per-sec`)),filename\n",
    "                FROM \n",
    "                (\n",
    "                        SELECT `time-in-secs`,`time-per-sec`,filename from precogdb.q400128wps\n",
    "                        group by `time-in-secs`,`time-per-sec`, filename\n",
    "                        order by `time-in-secs` ASC\n",
    "                )\n",
    "                where length(`time-per-sec`) in ('1','2')\n",
    "\n",
    " \n",
    "\n",
    "''').show(truncate = False)"
   ]
  },
  {
   "cell_type": "code",
   "execution_count": null,
   "id": "8882f186-7d57-4411-bf24-8f99619ef2a8",
   "metadata": {
    "execution": {
     "iopub.execute_input": "2022-12-05T06:03:02.081498Z",
     "iopub.status.busy": "2022-12-05T06:03:02.081274Z",
     "iopub.status.idle": "2022-12-05T06:03:02.125980Z",
     "shell.execute_reply": "2022-12-05T06:03:02.125496Z",
     "shell.execute_reply.started": "2022-12-05T06:03:02.081475Z"
    },
    "tags": []
   },
   "outputs": [
    {
     "data": {
      "application/vnd.jupyter.widget-view+json": {
       "model_id": "ace0646527d8491ba84a73e9b1345b12",
       "version_major": 2,
       "version_minor": 0
      },
      "text/plain": [
       "VBox()"
      ]
     },
     "metadata": {},
     "output_type": "display_data"
    },
    {
     "data": {
      "application/vnd.jupyter.widget-view+json": {
       "model_id": "",
       "version_major": 2,
       "version_minor": 0
      },
      "text/plain": [
       "FloatProgress(value=0.0, bar_style='info', description='Progress:', layout=Layout(height='25px', width='50%'),…"
      ]
     },
     "metadata": {},
     "output_type": "display_data"
    }
   ],
   "source": [
    "#Q400_128_2.show(50,False)"
   ]
  },
  {
   "cell_type": "code",
   "execution_count": null,
   "id": "784096c1-0235-4716-bf51-314fcc04ab3b",
   "metadata": {
    "execution": {
     "iopub.execute_input": "2022-12-06T07:15:08.339070Z",
     "iopub.status.busy": "2022-12-06T07:15:08.338850Z",
     "iopub.status.idle": "2022-12-06T07:15:09.094249Z",
     "shell.execute_reply": "2022-12-06T07:15:09.093686Z",
     "shell.execute_reply.started": "2022-12-06T07:15:08.339047Z"
    },
    "tags": []
   },
   "outputs": [
    {
     "data": {
      "application/vnd.jupyter.widget-view+json": {
       "model_id": "6bc69d62581d4e739b98eadbdbd2d709",
       "version_major": 2,
       "version_minor": 0
      },
      "text/plain": [
       "VBox()"
      ]
     },
     "metadata": {},
     "output_type": "display_data"
    },
    {
     "data": {
      "application/vnd.jupyter.widget-view+json": {
       "model_id": "",
       "version_major": 2,
       "version_minor": 0
      },
      "text/plain": [
       "FloatProgress(value=0.0, bar_style='info', description='Progress:', layout=Layout(height='25px', width='50%'),…"
      ]
     },
     "metadata": {},
     "output_type": "display_data"
    }
   ],
   "source": [
    "Q400_test = spark.sql('''\n",
    "                                SELECT a.*, b.`time-per-sec` as `time-per-sec-1`\n",
    "                                \n",
    "                                from precogdb.q400128wps a\n",
    "                                \n",
    "                                CROSS JOIN\n",
    "                                \n",
    "                                (\n",
    "                                \n",
    "                                SELECT filename, `time-per-sec` from precogdb.q400128wps\n",
    "                                \n",
    "                                WHERE `time-in-secs` = 0\n",
    "                                \n",
    "                                ) b\n",
    "                                \n",
    "                                on a.filename = b.filename\n",
    "                            \n",
    "\n",
    "\n",
    "''')"
   ]
  },
  {
   "cell_type": "code",
   "execution_count": null,
   "id": "f9cd426a-36e5-4ea5-8bc0-f9ef69375e4d",
   "metadata": {
    "execution": {
     "iopub.execute_input": "2022-12-06T08:48:26.064284Z",
     "iopub.status.busy": "2022-12-06T08:48:26.064046Z",
     "iopub.status.idle": "2022-12-06T08:48:26.315385Z",
     "shell.execute_reply": "2022-12-06T08:48:26.314911Z",
     "shell.execute_reply.started": "2022-12-06T08:48:26.064252Z"
    },
    "tags": []
   },
   "outputs": [
    {
     "data": {
      "application/vnd.jupyter.widget-view+json": {
       "model_id": "93c325cf413447378cfabdc38e3031e2",
       "version_major": 2,
       "version_minor": 0
      },
      "text/plain": [
       "VBox()"
      ]
     },
     "metadata": {},
     "output_type": "display_data"
    },
    {
     "data": {
      "application/vnd.jupyter.widget-view+json": {
       "model_id": "",
       "version_major": 2,
       "version_minor": 0
      },
      "text/plain": [
       "FloatProgress(value=0.0, bar_style='info', description='Progress:', layout=Layout(height='25px', width='50%'),…"
      ]
     },
     "metadata": {},
     "output_type": "display_data"
    }
   ],
   "source": [
    "Q400_test_1 = Q400_test.withColumn(\"time-per-sec-2\", regexp_replace(col(\"time-per-sec-1\") ,  \"(\\\\d{2})(\\\\d{2})(\\\\d{2})\" , \"$1:$2:$3\" )) \\\n",
    "                    #.withColumn(\"time-per-sec-2\", regexp_replace(col(\"time-per-sec-1\") ,  \"(\\\\d{1})(\\\\d{2})(\\\\d{2})\" , \"$1:$2:$3\" )) \n",
    "                    #.withColumn(\"time-per-sec-2\", regexp_replace(col(\"time-per-sec-1\") ,  \"(\\\\d{0})(\\\\d{2})(\\\\d{2})\" , \"$1:$2:$3\" )) \\\n",
    "                    #.withColumn(\"time-per-sec-2\", regexp_replace(col(\"time-per-sec-1\") ,  \"(\\\\d{0})(\\\\d{1})(\\\\d{2})\" , \"$1:$2:$3\" )) \\\n",
    "#createOrReplaceTempView('Q400_Test')"
   ]
  },
  {
   "cell_type": "code",
   "execution_count": null,
   "id": "98470e57-e419-4a7a-9078-b0b09eae31d5",
   "metadata": {
    "execution": {
     "iopub.execute_input": "2022-12-06T08:48:26.626925Z",
     "iopub.status.busy": "2022-12-06T08:48:26.626713Z",
     "iopub.status.idle": "2022-12-06T08:48:26.874382Z",
     "shell.execute_reply": "2022-12-06T08:48:26.873893Z",
     "shell.execute_reply.started": "2022-12-06T08:48:26.626903Z"
    },
    "tags": []
   },
   "outputs": [
    {
     "data": {
      "application/vnd.jupyter.widget-view+json": {
       "model_id": "7ed1fcff3ae04c549368c38108eb722c",
       "version_major": 2,
       "version_minor": 0
      },
      "text/plain": [
       "VBox()"
      ]
     },
     "metadata": {},
     "output_type": "display_data"
    },
    {
     "data": {
      "application/vnd.jupyter.widget-view+json": {
       "model_id": "",
       "version_major": 2,
       "version_minor": 0
      },
      "text/plain": [
       "FloatProgress(value=0.0, bar_style='info', description='Progress:', layout=Layout(height='25px', width='50%'),…"
      ]
     },
     "metadata": {},
     "output_type": "display_data"
    }
   ],
   "source": [
    "Q400_test_1.createOrReplaceTempView('Q400_test_1')"
   ]
  },
  {
   "cell_type": "code",
   "execution_count": null,
   "id": "7dff948b-27d9-46fc-a5d2-c6b06a69f25f",
   "metadata": {
    "execution": {
     "iopub.execute_input": "2022-12-06T08:48:26.964817Z",
     "iopub.status.busy": "2022-12-06T08:48:26.964612Z",
     "iopub.status.idle": "2022-12-06T08:49:02.313508Z",
     "shell.execute_reply": "2022-12-06T08:49:02.312983Z",
     "shell.execute_reply.started": "2022-12-06T08:48:26.964794Z"
    },
    "tags": []
   },
   "outputs": [
    {
     "data": {
      "application/vnd.jupyter.widget-view+json": {
       "model_id": "ff6971b691af44db90ec56226fa492c4",
       "version_major": 2,
       "version_minor": 0
      },
      "text/plain": [
       "VBox()"
      ]
     },
     "metadata": {},
     "output_type": "display_data"
    },
    {
     "data": {
      "application/vnd.jupyter.widget-view+json": {
       "model_id": "",
       "version_major": 2,
       "version_minor": 0
      },
      "text/plain": [
       "FloatProgress(value=0.0, bar_style='info', description='Progress:', layout=Layout(height='25px', width='50%'),…"
      ]
     },
     "metadata": {},
     "output_type": "display_data"
    },
    {
     "name": "stdout",
     "output_type": "stream",
     "text": [
      "+--------------+--------------+------------------------------------------------------------+\n",
      "|time-per-sec-1|time-per-sec-2|filename                                                    |\n",
      "+--------------+--------------+------------------------------------------------------------+\n",
      "|150018        |1:50:018      |ALL ac=VT-SUO dep=HYD arr=GOI fn=SG 3736 dt=20220930.csv    |\n",
      "|143153        |1:43:153      |ALL ac=VT-SUF dep=GOI arr=STV fn=SG 3426 dt=20220622.csv    |\n",
      "|70951         |7:09:51       |ALL ac=VT-SUJ dep=JAI arr=JSA fn=SG 2975 dt=20220305.csv    |\n",
      "|140520        |1:40:520      |ALL ac=VT-SUO dep=DED arr=DEL fn=SG 2034 dt=20211213.csv    |\n",
      "|80557         |8:05:57       |ALL ac=VT-SUQ dep=JSA arr=AMD fn=SG 4021 dt=20221101.csv    |\n",
      "|112039        |1:12:039      |ALL ac=VT-SUQ dep=DEL arr=VNS fn=SG 3741 dt=20220210.csv    |\n",
      "|34612         |3:46:12       |ALL ac=VT-SUQ dep=GWL arr=BLR fn=SG 3326 dt=20220225.csv    |\n",
      "|123058        |1:23:058      |ALL _1_ ac=VT-SUQ dep=CCU arr=IXS fn=SG 3218 dt=20220227.csv|\n",
      "|21714         |2:17:14       |ALL ac=VT-SUG dep=PNQ arr=JAI fn=SEJ2965 dt=20220527.csv    |\n",
      "|142116        |1:42:116      |ALL ac=VT-SUJ dep=DEL arr=JAI fn=SG 2976 dt=20220309.csv    |\n",
      "|143844        |1:43:844      |ALL ac=VT-SUQ dep=HYD arr=GWL fn=SG 3731 dt=20220727.csv    |\n",
      "|205720        |2:05:720      |ALL ac=VT-SUE dep=BOM arr=DEL fn=SEJ7429 dt=20220704.csv    |\n",
      "|63013         |6:30:13       |ALL ac=VT-SUX dep=BOM arr=IXY fn=SG 3323 dt=20220913.csv    |\n",
      "|3513          |3513          |ALL ac=VT-SUF dep=JAI arr=AMD fn=SG 3762 dt=20220502.csv    |\n",
      "|4408          |4408          |ALL ac=VT-SUD dep=JAI arr=UDR fn=SEJ2973 dt=20211129.csv    |\n",
      "|4142          |4142          |ALL ac=VT-SUL dep=CCU arr=GWL fn=SEJ3564 dt=20220604.csv    |\n",
      "|40910         |4:09:10       |ALL ac=VT-SUD dep=KQH arr=HYD fn=SEJ1007 dt=20220606.csv    |\n",
      "|91435         |9:14:35       |ALL ac=VT-SUF dep=DEL arr=GOP fn=SG 2768 dt=20220317.csv    |\n",
      "|55812         |5:58:12       |ALL ac=VT-SUX dep=BOM arr=IXY fn=SG 3323 dt=20220829.csv    |\n",
      "|83919         |8:39:19       |ALL ac=VT-SUF dep=VNS arr=HJR fn=SG 2932 dt=20221116.csv    |\n",
      "+--------------+--------------+------------------------------------------------------------+\n",
      "only showing top 20 rows"
     ]
    }
   ],
   "source": [
    "spark.sql('''\n",
    "\n",
    "                SELECT `time-per-sec-1`, `time-per-sec-2`, filename\n",
    "                \n",
    "                FROM Q400_test_1\n",
    "                \n",
    "                Group by `time-per-sec-1`,`time-per-sec-2`, filename\n",
    "\n",
    "''').show(20,False)"
   ]
  },
  {
   "cell_type": "code",
   "execution_count": null,
   "id": "bd68ffb8-af38-46e7-85e5-5a90f6622c15",
   "metadata": {
    "execution": {
     "iopub.execute_input": "2022-12-06T07:20:19.506713Z",
     "iopub.status.busy": "2022-12-06T07:20:19.506498Z",
     "iopub.status.idle": "2022-12-06T07:20:19.551588Z",
     "shell.execute_reply": "2022-12-06T07:20:19.551109Z",
     "shell.execute_reply.started": "2022-12-06T07:20:19.506690Z"
    },
    "tags": []
   },
   "outputs": [
    {
     "data": {
      "application/vnd.jupyter.widget-view+json": {
       "model_id": "c5aa6f0c56c14c96a13c4a092c9c280f",
       "version_major": 2,
       "version_minor": 0
      },
      "text/plain": [
       "VBox()"
      ]
     },
     "metadata": {},
     "output_type": "display_data"
    },
    {
     "data": {
      "application/vnd.jupyter.widget-view+json": {
       "model_id": "",
       "version_major": 2,
       "version_minor": 0
      },
      "text/plain": [
       "FloatProgress(value=0.0, bar_style='info', description='Progress:', layout=Layout(height='25px', width='50%'),…"
      ]
     },
     "metadata": {},
     "output_type": "display_data"
    }
   ],
   "source": [
    "#Q400_test.show()"
   ]
  },
  {
   "cell_type": "code",
   "execution_count": 3,
   "id": "b9ede193-a3e4-4996-8cb5-ccfc30ef1255",
   "metadata": {
    "execution": {
     "iopub.execute_input": "2022-12-22T12:34:51.929985Z",
     "iopub.status.busy": "2022-12-22T12:34:51.929830Z",
     "iopub.status.idle": "2022-12-22T12:34:57.199539Z",
     "shell.execute_reply": "2022-12-22T12:34:57.199015Z",
     "shell.execute_reply.started": "2022-12-22T12:34:51.929964Z"
    },
    "tags": []
   },
   "outputs": [
    {
     "data": {
      "application/vnd.jupyter.widget-view+json": {
       "model_id": "6542432c4fe347c183b6804375313506",
       "version_major": 2,
       "version_minor": 0
      },
      "text/plain": [
       "VBox()"
      ]
     },
     "metadata": {},
     "output_type": "display_data"
    },
    {
     "data": {
      "application/vnd.jupyter.widget-view+json": {
       "model_id": "",
       "version_major": 2,
       "version_minor": 0
      },
      "text/plain": [
       "FloatProgress(value=0.0, bar_style='info', description='Progress:', layout=Layout(height='25px', width='50%'),…"
      ]
     },
     "metadata": {},
     "output_type": "display_data"
    }
   ],
   "source": [
    "Q400_128WPS_1 = spark.sql('''\n",
    "\n",
    "\n",
    "                        SELECT\n",
    "                        \n",
    "                        ECN,\n",
    "                        \n",
    "                        UTC_TIMEDATE,\n",
    "                        \n",
    "                        FileName,\n",
    "\n",
    "                        CAST((MAX(`Time-In-Secs`) - MIN(`Time-In-Secs`)) / 60 AS INT) AS FlightTime\n",
    "             \n",
    "                        FROM precogdb.q400128wps\n",
    "                        \n",
    "                        WHERE FlightDate > '2022-10-30'\n",
    "                        \n",
    "                        AND `Radio-Altitude` NOT LIKE '%*%'\n",
    "                        \n",
    "                        AND `Radio-Altitude` <> ''\n",
    "                        \n",
    "                        AND `Main-WOW` = 'Air (0)'\n",
    "                        \n",
    "                        GROUP BY ECN, UTC_TIMEDATE, Filename\n",
    "                        \n",
    "                        ''')"
   ]
  },
  {
   "cell_type": "code",
   "execution_count": 4,
   "id": "fa6dd54c-c117-4462-9d34-b057f7fd3512",
   "metadata": {
    "execution": {
     "iopub.execute_input": "2022-12-22T12:34:57.201082Z",
     "iopub.status.busy": "2022-12-22T12:34:57.200912Z",
     "iopub.status.idle": "2022-12-22T12:34:57.950634Z",
     "shell.execute_reply": "2022-12-22T12:34:57.950088Z",
     "shell.execute_reply.started": "2022-12-22T12:34:57.201060Z"
    },
    "tags": []
   },
   "outputs": [
    {
     "data": {
      "application/vnd.jupyter.widget-view+json": {
       "model_id": "0771d9a7cd1141f0a260403abf7c2023",
       "version_major": 2,
       "version_minor": 0
      },
      "text/plain": [
       "VBox()"
      ]
     },
     "metadata": {},
     "output_type": "display_data"
    },
    {
     "data": {
      "application/vnd.jupyter.widget-view+json": {
       "model_id": "",
       "version_major": 2,
       "version_minor": 0
      },
      "text/plain": [
       "FloatProgress(value=0.0, bar_style='info', description='Progress:', layout=Layout(height='25px', width='50%'),…"
      ]
     },
     "metadata": {},
     "output_type": "display_data"
    }
   ],
   "source": [
    "Q400_128WPS_1.createOrReplaceTempView('Q400_128WPS_1')"
   ]
  },
  {
   "cell_type": "code",
   "execution_count": 30,
   "id": "ba7d5274-29e9-4fec-81ec-e24ef6e6bf89",
   "metadata": {
    "execution": {
     "iopub.execute_input": "2022-12-22T09:54:37.945513Z",
     "iopub.status.busy": "2022-12-22T09:54:37.945290Z",
     "iopub.status.idle": "2022-12-22T09:54:49.239587Z",
     "shell.execute_reply": "2022-12-22T09:54:49.239087Z",
     "shell.execute_reply.started": "2022-12-22T09:54:37.945489Z"
    },
    "tags": []
   },
   "outputs": [
    {
     "data": {
      "application/vnd.jupyter.widget-view+json": {
       "model_id": "8b20f3dc062f420aa1484abe625d9799",
       "version_major": 2,
       "version_minor": 0
      },
      "text/plain": [
       "VBox()"
      ]
     },
     "metadata": {},
     "output_type": "display_data"
    },
    {
     "data": {
      "application/vnd.jupyter.widget-view+json": {
       "model_id": "",
       "version_major": 2,
       "version_minor": 0
      },
      "text/plain": [
       "FloatProgress(value=0.0, bar_style='info', description='Progress:', layout=Layout(height='25px', width='50%'),…"
      ]
     },
     "metadata": {},
     "output_type": "display_data"
    },
    {
     "name": "stdout",
     "output_type": "stream",
     "text": [
      "+------+-------------------+--------------------+----------+\n",
      "|   ECN|       UTC_TIMEDATE|            FileName|FlightTime|\n",
      "+------+-------------------+--------------------+----------+\n",
      "|115066|2022-11-21 23:52:46|ALL ac=VT-SUG dep...|        62|\n",
      "|121202|2022-11-21 23:52:46|ALL ac=VT-SUG dep...|        62|\n",
      "+------+-------------------+--------------------+----------+"
     ]
    }
   ],
   "source": [
    "Q400_128WPS_1.show()"
   ]
  },
  {
   "cell_type": "code",
   "execution_count": 5,
   "id": "6a065a91-b09f-4401-a527-17327f9dd9d3",
   "metadata": {
    "execution": {
     "iopub.execute_input": "2022-12-22T12:34:57.951900Z",
     "iopub.status.busy": "2022-12-22T12:34:57.951724Z",
     "iopub.status.idle": "2022-12-22T12:34:58.703145Z",
     "shell.execute_reply": "2022-12-22T12:34:58.702572Z",
     "shell.execute_reply.started": "2022-12-22T12:34:57.951872Z"
    },
    "tags": []
   },
   "outputs": [
    {
     "data": {
      "application/vnd.jupyter.widget-view+json": {
       "model_id": "5029aaf0c68347dc948b0c9a0232fb09",
       "version_major": 2,
       "version_minor": 0
      },
      "text/plain": [
       "VBox()"
      ]
     },
     "metadata": {},
     "output_type": "display_data"
    },
    {
     "data": {
      "application/vnd.jupyter.widget-view+json": {
       "model_id": "",
       "version_major": 2,
       "version_minor": 0
      },
      "text/plain": [
       "FloatProgress(value=0.0, bar_style='info', description='Progress:', layout=Layout(height='25px', width='50%'),…"
      ]
     },
     "metadata": {},
     "output_type": "display_data"
    }
   ],
   "source": [
    "Q400_Time = spark.sql('''\n",
    "\n",
    "                                SELECT CAST((MAX(CAST(`Time-in-secs` AS INT)) - MIN(CAST(`Time-in-secs` AS INT))) / 60 AS INT) AS BlockTime_DFDR, filename\n",
    "                                \n",
    "                                FROM precogdb.q400128wps\n",
    "                                \n",
    "                                WHERE FlightDate > '2022-10-30'\n",
    "                                \n",
    "                                \n",
    "                                \n",
    "                                group by filename\n",
    "\n",
    "\n",
    "\n",
    "''')"
   ]
  },
  {
   "cell_type": "code",
   "execution_count": 6,
   "id": "4ac76640-fac8-435a-bdaf-237de434d475",
   "metadata": {
    "execution": {
     "iopub.execute_input": "2022-12-22T12:34:58.704106Z",
     "iopub.status.busy": "2022-12-22T12:34:58.703934Z",
     "iopub.status.idle": "2022-12-22T12:34:58.953984Z",
     "shell.execute_reply": "2022-12-22T12:34:58.953474Z",
     "shell.execute_reply.started": "2022-12-22T12:34:58.704084Z"
    },
    "tags": []
   },
   "outputs": [
    {
     "data": {
      "application/vnd.jupyter.widget-view+json": {
       "model_id": "e4c7d1f2e0224461964edc0ddb76d56e",
       "version_major": 2,
       "version_minor": 0
      },
      "text/plain": [
       "VBox()"
      ]
     },
     "metadata": {},
     "output_type": "display_data"
    },
    {
     "data": {
      "application/vnd.jupyter.widget-view+json": {
       "model_id": "",
       "version_major": 2,
       "version_minor": 0
      },
      "text/plain": [
       "FloatProgress(value=0.0, bar_style='info', description='Progress:', layout=Layout(height='25px', width='50%'),…"
      ]
     },
     "metadata": {},
     "output_type": "display_data"
    }
   ],
   "source": [
    "Q400_Time.createOrReplaceTempView('Q400_Time')#count()"
   ]
  },
  {
   "cell_type": "code",
   "execution_count": 7,
   "id": "c7537517-1532-4baf-93c9-9171b9a767b3",
   "metadata": {
    "execution": {
     "iopub.execute_input": "2022-12-22T12:34:58.954936Z",
     "iopub.status.busy": "2022-12-22T12:34:58.954776Z",
     "iopub.status.idle": "2022-12-22T12:34:59.710818Z",
     "shell.execute_reply": "2022-12-22T12:34:59.710316Z",
     "shell.execute_reply.started": "2022-12-22T12:34:58.954916Z"
    },
    "tags": []
   },
   "outputs": [
    {
     "data": {
      "application/vnd.jupyter.widget-view+json": {
       "model_id": "ced84f333c8140ce96cd42a90e807344",
       "version_major": 2,
       "version_minor": 0
      },
      "text/plain": [
       "VBox()"
      ]
     },
     "metadata": {},
     "output_type": "display_data"
    },
    {
     "data": {
      "application/vnd.jupyter.widget-view+json": {
       "model_id": "",
       "version_major": 2,
       "version_minor": 0
      },
      "text/plain": [
       "FloatProgress(value=0.0, bar_style='info', description='Progress:', layout=Layout(height='25px', width='50%'),…"
      ]
     },
     "metadata": {},
     "output_type": "display_data"
    }
   ],
   "source": [
    "Q400_128WPS_2 = spark.sql('''\n",
    "                        SELECT \n",
    "                        \n",
    "                            DISTINCT\n",
    "                        \n",
    "                               Cast(ChocksOff as Date) AS FlightDate,\n",
    "                               \n",
    "                               TailNo,\n",
    "                               \n",
    "                               Departure,\n",
    "                               \n",
    "                               ChocksOff,\n",
    "                               \n",
    "                               date_format(ChocksOff, 'HH:mm:ss') AS Actual_DEP_Time,\n",
    "                               \n",
    "                               Arrival,\n",
    "                               \n",
    "                               date_format(ChocksOn, 'HH:mm:ss') AS Actual_ARR_Time,\n",
    "                               \n",
    "                               (bigint(to_timestamp(ChocksOn)) - bigint(to_timestamp(ChocksOff))) / 60 AS BlockTime_ARMS, \n",
    "                               \n",
    "                               CONCAT(Departure, '-', Arrival) AS Sector,\n",
    "                                                    \n",
    "                               FlightNo,\n",
    "                               \n",
    "                               Date,\n",
    "                               \n",
    "                               ECN,\n",
    "                               \n",
    "                               UTC_TIMEDATE,\n",
    "                               \n",
    "                               CAST(SUM((CAST (`fuel-flow-no-2-kg` AS INT) + CAST (`fuel-flow-no-1-kg` AS INT))) OVER (PARTITION BY ECN, UTC_TIMEDATE, Filename) / 3600 AS INT) AS FuelConsumed,\n",
    "                               \n",
    "                               \n",
    "                               FileName,\n",
    "                               \n",
    "                               loadeddate,\n",
    "                               \n",
    "                               year,\n",
    "                               \n",
    "                               month\n",
    "                               \n",
    "                               \n",
    "                                                   \n",
    "                                                   \n",
    "                               \n",
    "                               \n",
    "                        \n",
    "                        FROM precogdb.q400128wps\n",
    "                        \n",
    "                        WHERE FlightDate > '2022-10-30'\n",
    "                        \n",
    "                        AND `Radio-Altitude` NOT LIKE '%*%'\n",
    "                        \n",
    "                        AND `Radio-Altitude` <> ''\n",
    "                        \n",
    "                        AND UTC_TIMEDATE BETWEEN (ChocksOff - INTERVAL 360 MINUTES) AND (ChocksOff - INTERVAL 300 MINUTES)\n",
    "                        \n",
    "                        \n",
    "             \n",
    "                        \n",
    "                        \n",
    "                        \n",
    "                ''')"
   ]
  },
  {
   "cell_type": "code",
   "execution_count": 8,
   "id": "82cc3f55-6c56-40ff-b529-6044c09fc968",
   "metadata": {
    "execution": {
     "iopub.execute_input": "2022-12-22T12:34:59.711717Z",
     "iopub.status.busy": "2022-12-22T12:34:59.711555Z",
     "iopub.status.idle": "2022-12-22T12:34:59.962415Z",
     "shell.execute_reply": "2022-12-22T12:34:59.961870Z",
     "shell.execute_reply.started": "2022-12-22T12:34:59.711696Z"
    },
    "tags": []
   },
   "outputs": [
    {
     "data": {
      "application/vnd.jupyter.widget-view+json": {
       "model_id": "230ef65cced340f58a87b7b9577af629",
       "version_major": 2,
       "version_minor": 0
      },
      "text/plain": [
       "VBox()"
      ]
     },
     "metadata": {},
     "output_type": "display_data"
    },
    {
     "data": {
      "application/vnd.jupyter.widget-view+json": {
       "model_id": "",
       "version_major": 2,
       "version_minor": 0
      },
      "text/plain": [
       "FloatProgress(value=0.0, bar_style='info', description='Progress:', layout=Layout(height='25px', width='50%'),…"
      ]
     },
     "metadata": {},
     "output_type": "display_data"
    }
   ],
   "source": [
    "Q400_128WPS_2.createOrReplaceTempView('Q400_128WPS_2')"
   ]
  },
  {
   "cell_type": "code",
   "execution_count": 20,
   "id": "d7fc6183-3913-4d4a-a3f2-73859d297524",
   "metadata": {
    "execution": {
     "iopub.execute_input": "2022-12-22T10:38:12.603953Z",
     "iopub.status.busy": "2022-12-22T10:38:12.603731Z",
     "iopub.status.idle": "2022-12-22T10:38:33.916357Z",
     "shell.execute_reply": "2022-12-22T10:38:33.915809Z",
     "shell.execute_reply.started": "2022-12-22T10:38:12.603929Z"
    },
    "tags": []
   },
   "outputs": [
    {
     "data": {
      "application/vnd.jupyter.widget-view+json": {
       "model_id": "ebf42d9deff44c079a0ad9c1cba076ba",
       "version_major": 2,
       "version_minor": 0
      },
      "text/plain": [
       "VBox()"
      ]
     },
     "metadata": {},
     "output_type": "display_data"
    },
    {
     "data": {
      "application/vnd.jupyter.widget-view+json": {
       "model_id": "",
       "version_major": 2,
       "version_minor": 0
      },
      "text/plain": [
       "FloatProgress(value=0.0, bar_style='info', description='Progress:', layout=Layout(height='25px', width='50%'),…"
      ]
     },
     "metadata": {},
     "output_type": "display_data"
    },
    {
     "name": "stdout",
     "output_type": "stream",
     "text": [
      "+----------+------+---------+-------------------+---------------+-------+---------------+--------------+-------+--------+----------+------+-------------------+------------+--------------------------------------------------------+-----------------------+----+--------+\n",
      "|FlightDate|TailNo|Departure|ChocksOff          |Actual_DEP_Time|Arrival|Actual_ARR_Time|BlockTime_ARMS|Sector |FlightNo|Date      |ECN   |UTC_TIMEDATE       |FuelConsumed|FileName                                                |loadeddate             |year|month   |\n",
      "+----------+------+---------+-------------------+---------------+-------+---------------+--------------+-------+--------+----------+------+-------------------+------------+--------------------------------------------------------+-----------------------+----+--------+\n",
      "|2022-11-22|VT-SUG|HYD      |2022-11-22 05:10:00|05:10:00       |GOI    |06:35:00       |85.0          |HYD-GOI|SG 4001 |2022-11-21|115066|2022-11-21 23:52:46|1064        |ALL ac=VT-SUG dep=HYD arr=GOI fn=SEJ4001 dt=20221121.csv|2022-12-22 08:41:35.171|2022|November|\n",
      "+----------+------+---------+-------------------+---------------+-------+---------------+--------------+-------+--------+----------+------+-------------------+------------+--------------------------------------------------------+-----------------------+----+--------+"
     ]
    }
   ],
   "source": [
    "Q400_128WPS_2.show(10, False)"
   ]
  },
  {
   "cell_type": "code",
   "execution_count": 42,
   "id": "093f5ed4-41bd-4850-9cb9-2654319a38bb",
   "metadata": {
    "execution": {
     "iopub.execute_input": "2022-12-22T10:12:34.694346Z",
     "iopub.status.busy": "2022-12-22T10:12:34.694123Z",
     "iopub.status.idle": "2022-12-22T10:12:39.960632Z",
     "shell.execute_reply": "2022-12-22T10:12:39.960119Z",
     "shell.execute_reply.started": "2022-12-22T10:12:34.694321Z"
    }
   },
   "outputs": [
    {
     "data": {
      "application/vnd.jupyter.widget-view+json": {
       "model_id": "eed323aabea644689d0067c7c5f2cd38",
       "version_major": 2,
       "version_minor": 0
      },
      "text/plain": [
       "VBox()"
      ]
     },
     "metadata": {},
     "output_type": "display_data"
    },
    {
     "data": {
      "application/vnd.jupyter.widget-view+json": {
       "model_id": "",
       "version_major": 2,
       "version_minor": 0
      },
      "text/plain": [
       "FloatProgress(value=0.0, bar_style='info', description='Progress:', layout=Layout(height='25px', width='50%'),…"
      ]
     },
     "metadata": {},
     "output_type": "display_data"
    },
    {
     "name": "stdout",
     "output_type": "stream",
     "text": [
      "+----------+------+---------+---------------+-------+---------------+--------------+-------+--------+----------+------+-------------------+------------+--------------------------------------------------------+-----------------------+----+--------+\n",
      "|FlightDate|TailNo|Departure|Actual_DEP_Time|Arrival|Actual_ARR_Time|BlockTime_ARMS|Sector |FlightNo|Date      |ECN   |UTC_TIMEDATE       |FuelConsumed|FileName                                                |loadeddate             |year|month   |\n",
      "+----------+------+---------+---------------+-------+---------------+--------------+-------+--------+----------+------+-------------------+------------+--------------------------------------------------------+-----------------------+----+--------+\n",
      "|2022-11-22|VT-SUG|HYD      |05:10:00       |GOI    |06:35:00       |85.0          |HYD-GOI|SG 4001 |2022-11-21|115066|2022-11-21 23:52:46|1064        |ALL ac=VT-SUG dep=HYD arr=GOI fn=SEJ4001 dt=20221121.csv|2022-12-22 08:41:35.171|2022|November|\n",
      "|2022-11-21|VT-SUG|HYD      |05:16:00       |GOI    |06:46:00       |90.0          |HYD-GOI|SG 4001 |2022-11-21|121202|2022-11-21 23:52:46|1064        |ALL ac=VT-SUG dep=HYD arr=GOI fn=SEJ4001 dt=20221121.csv|2022-12-22 08:41:35.171|2022|November|\n",
      "+----------+------+---------+---------------+-------+---------------+--------------+-------+--------+----------+------+-------------------+------------+--------------------------------------------------------+-----------------------+----+--------+"
     ]
    }
   ],
   "source": [
    "Q400_128WPS_2.show(2, False)"
   ]
  },
  {
   "cell_type": "code",
   "execution_count": 9,
   "id": "e928c0a3-a3ba-4ba0-b73b-62a3d6abcb7b",
   "metadata": {
    "execution": {
     "iopub.execute_input": "2022-12-22T12:34:59.963440Z",
     "iopub.status.busy": "2022-12-22T12:34:59.963269Z",
     "iopub.status.idle": "2022-12-22T12:35:00.209958Z",
     "shell.execute_reply": "2022-12-22T12:35:00.209412Z",
     "shell.execute_reply.started": "2022-12-22T12:34:59.963418Z"
    },
    "tags": []
   },
   "outputs": [
    {
     "data": {
      "application/vnd.jupyter.widget-view+json": {
       "model_id": "e5634935c62942eebf4861325c53aacd",
       "version_major": 2,
       "version_minor": 0
      },
      "text/plain": [
       "VBox()"
      ]
     },
     "metadata": {},
     "output_type": "display_data"
    },
    {
     "data": {
      "application/vnd.jupyter.widget-view+json": {
       "model_id": "",
       "version_major": 2,
       "version_minor": 0
      },
      "text/plain": [
       "FloatProgress(value=0.0, bar_style='info', description='Progress:', layout=Layout(height='25px', width='50%'),…"
      ]
     },
     "metadata": {},
     "output_type": "display_data"
    }
   ],
   "source": [
    "Q400_128WPS_2_1 = spark.sql('''\n",
    "\n",
    "                        SELECT a.*,b.Blocktime_DFDR\n",
    "                        \n",
    "                        FROM Q400_128WPS_2 a \n",
    "                        \n",
    "                        left JOIN Q400_Time b\n",
    "                        \n",
    "                        ON a.filename = b.filename\n",
    "\n",
    "\n",
    "\n",
    "''')"
   ]
  },
  {
   "cell_type": "code",
   "execution_count": 10,
   "id": "46470476-2757-47c4-b48b-25519fd68524",
   "metadata": {
    "execution": {
     "iopub.execute_input": "2022-12-22T12:35:00.210903Z",
     "iopub.status.busy": "2022-12-22T12:35:00.210728Z",
     "iopub.status.idle": "2022-12-22T12:35:00.464613Z",
     "shell.execute_reply": "2022-12-22T12:35:00.464124Z",
     "shell.execute_reply.started": "2022-12-22T12:35:00.210881Z"
    },
    "tags": []
   },
   "outputs": [
    {
     "data": {
      "application/vnd.jupyter.widget-view+json": {
       "model_id": "cabc8d9843724886b5bac8d1804b2215",
       "version_major": 2,
       "version_minor": 0
      },
      "text/plain": [
       "VBox()"
      ]
     },
     "metadata": {},
     "output_type": "display_data"
    },
    {
     "data": {
      "application/vnd.jupyter.widget-view+json": {
       "model_id": "",
       "version_major": 2,
       "version_minor": 0
      },
      "text/plain": [
       "FloatProgress(value=0.0, bar_style='info', description='Progress:', layout=Layout(height='25px', width='50%'),…"
      ]
     },
     "metadata": {},
     "output_type": "display_data"
    }
   ],
   "source": [
    "Q400_128WPS_2_1.createOrReplaceTempView('Q400_128WPS_2_1')#show(20,False)"
   ]
  },
  {
   "cell_type": "code",
   "execution_count": 11,
   "id": "25a73920-c87f-4120-b95a-09132bd8c9f2",
   "metadata": {
    "execution": {
     "iopub.execute_input": "2022-12-22T12:35:00.465522Z",
     "iopub.status.busy": "2022-12-22T12:35:00.465362Z",
     "iopub.status.idle": "2022-12-22T12:35:00.710913Z",
     "shell.execute_reply": "2022-12-22T12:35:00.710319Z",
     "shell.execute_reply.started": "2022-12-22T12:35:00.465502Z"
    },
    "tags": []
   },
   "outputs": [
    {
     "data": {
      "application/vnd.jupyter.widget-view+json": {
       "model_id": "34af709cb1464f52bfeaf5b7683d4da4",
       "version_major": 2,
       "version_minor": 0
      },
      "text/plain": [
       "VBox()"
      ]
     },
     "metadata": {},
     "output_type": "display_data"
    },
    {
     "data": {
      "application/vnd.jupyter.widget-view+json": {
       "model_id": "",
       "version_major": 2,
       "version_minor": 0
      },
      "text/plain": [
       "FloatProgress(value=0.0, bar_style='info', description='Progress:', layout=Layout(height='25px', width='50%'),…"
      ]
     },
     "metadata": {},
     "output_type": "display_data"
    }
   ],
   "source": [
    "Q400_FOB_1 = spark.sql('''\n",
    "\n",
    "                    SELECT \n",
    "                    \n",
    "                    b.flightdate,\n",
    "                               \n",
    "                               b.TailNo,\n",
    "                               \n",
    "                               b.Departure,\n",
    "                               \n",
    "                               b.Actual_DEP_Time,\n",
    "                               \n",
    "                               b.Arrival,\n",
    "                               \n",
    "                               b.Sector,\n",
    "                               \n",
    "                               b.Blocktime_ARMS,\n",
    "                               \n",
    "                               b.Blocktime_DFDR,\n",
    "                               \n",
    "                               a.FlightTime,\n",
    "                                                    \n",
    "                               b.FlightNo,\n",
    "                               \n",
    "                               b.Date,\n",
    "                               \n",
    "                               b.FuelConsumed,\n",
    "                               \n",
    "                               b.FileName,\n",
    "                               \n",
    "                               b.loadeddate,\n",
    "                               \n",
    "                               b.year,\n",
    "                               \n",
    "                               b.month\n",
    "                               \n",
    "                               FROM Q400_128WPS_1 a\n",
    "                               \n",
    "                               INNER JOIN Q400_128WPS_2_1 b\n",
    "                               \n",
    "                               on a.filename = b.filename\n",
    "                               \n",
    "                               and a.ECN = b.ECN\n",
    "                               \n",
    "                               and a.UTC_TIMEDATE = b.UTC_TIMEDATE\n",
    "                               \n",
    "                               \n",
    "                               \n",
    "                               \n",
    "                               \n",
    "\n",
    "''')"
   ]
  },
  {
   "cell_type": "code",
   "execution_count": 12,
   "id": "48e8689a-edc5-42eb-a95f-ab04ab1097e0",
   "metadata": {
    "execution": {
     "iopub.execute_input": "2022-12-22T12:35:00.711882Z",
     "iopub.status.busy": "2022-12-22T12:35:00.711703Z",
     "iopub.status.idle": "2022-12-22T12:35:00.956955Z",
     "shell.execute_reply": "2022-12-22T12:35:00.956444Z",
     "shell.execute_reply.started": "2022-12-22T12:35:00.711861Z"
    },
    "tags": []
   },
   "outputs": [
    {
     "data": {
      "application/vnd.jupyter.widget-view+json": {
       "model_id": "cf62af0b2bf440068b707c5d8dd3bd33",
       "version_major": 2,
       "version_minor": 0
      },
      "text/plain": [
       "VBox()"
      ]
     },
     "metadata": {},
     "output_type": "display_data"
    },
    {
     "data": {
      "application/vnd.jupyter.widget-view+json": {
       "model_id": "",
       "version_major": 2,
       "version_minor": 0
      },
      "text/plain": [
       "FloatProgress(value=0.0, bar_style='info', description='Progress:', layout=Layout(height='25px', width='50%'),…"
      ]
     },
     "metadata": {},
     "output_type": "display_data"
    }
   ],
   "source": [
    "from pyspark.sql import functions as F\n",
    "Q400_FOB = Q400_FOB_1.withColumn('Blocktime_ARMS', F.expr('concat(div(CAST(Blocktime_ARMS AS INT), 60), \":\", mod(CAST(Blocktime_ARMS AS INT), 60))'))\\\n",
    "                        .withColumn('Blocktime_DFDR', F.expr('concat(div(CAST(Blocktime_DFDR AS INT), 60), \":\", mod(CAST(Blocktime_DFDR AS INT), 60))'))"
   ]
  },
  {
   "cell_type": "code",
   "execution_count": 13,
   "id": "e81e95e0-11cf-4a75-a162-c72dead887d2",
   "metadata": {
    "execution": {
     "iopub.execute_input": "2022-12-22T12:35:00.957888Z",
     "iopub.status.busy": "2022-12-22T12:35:00.957726Z",
     "iopub.status.idle": "2022-12-22T12:35:01.215733Z",
     "shell.execute_reply": "2022-12-22T12:35:01.215193Z",
     "shell.execute_reply.started": "2022-12-22T12:35:00.957867Z"
    },
    "tags": []
   },
   "outputs": [
    {
     "data": {
      "application/vnd.jupyter.widget-view+json": {
       "model_id": "ddd277b23f954242b4011080c3a0e320",
       "version_major": 2,
       "version_minor": 0
      },
      "text/plain": [
       "VBox()"
      ]
     },
     "metadata": {},
     "output_type": "display_data"
    },
    {
     "data": {
      "application/vnd.jupyter.widget-view+json": {
       "model_id": "",
       "version_major": 2,
       "version_minor": 0
      },
      "text/plain": [
       "FloatProgress(value=0.0, bar_style='info', description='Progress:', layout=Layout(height='25px', width='50%'),…"
      ]
     },
     "metadata": {},
     "output_type": "display_data"
    }
   ],
   "source": [
    "Q400_FOB.createOrReplaceTempView('Q400_FOB')"
   ]
  },
  {
   "cell_type": "code",
   "execution_count": 41,
   "id": "88af2d8b-488d-4c48-9d21-44eed498042f",
   "metadata": {
    "execution": {
     "iopub.execute_input": "2022-12-22T11:38:29.640437Z",
     "iopub.status.busy": "2022-12-22T11:38:29.640206Z",
     "iopub.status.idle": "2022-12-22T11:38:56.969863Z",
     "shell.execute_reply": "2022-12-22T11:38:56.969265Z",
     "shell.execute_reply.started": "2022-12-22T11:38:29.640413Z"
    },
    "tags": []
   },
   "outputs": [
    {
     "data": {
      "application/vnd.jupyter.widget-view+json": {
       "model_id": "915bc121e42243d9bd8531e133d1b2e4",
       "version_major": 2,
       "version_minor": 0
      },
      "text/plain": [
       "VBox()"
      ]
     },
     "metadata": {},
     "output_type": "display_data"
    },
    {
     "data": {
      "application/vnd.jupyter.widget-view+json": {
       "model_id": "",
       "version_major": 2,
       "version_minor": 0
      },
      "text/plain": [
       "FloatProgress(value=0.0, bar_style='info', description='Progress:', layout=Layout(height='25px', width='50%'),…"
      ]
     },
     "metadata": {},
     "output_type": "display_data"
    },
    {
     "name": "stdout",
     "output_type": "stream",
     "text": [
      "+----------+------+---------+---------------+-------+-------+--------------+--------------+----------+--------+----------+------------+--------------------+--------------------+----+--------+\n",
      "|flightdate|TailNo|Departure|Actual_DEP_Time|Arrival| Sector|Blocktime_ARMS|Blocktime_DFDR|FlightTime|FlightNo|      Date|FuelConsumed|            FileName|          loadeddate|year|   month|\n",
      "+----------+------+---------+---------------+-------+-------+--------------+--------------+----------+--------+----------+------------+--------------------+--------------------+----+--------+\n",
      "|2022-11-22|VT-SUG|      HYD|       05:10:00|    GOI|HYD-GOI|          1:25|          1:18|        62| SG 4001|2022-11-21|        1064|ALL ac=VT-SUG dep...|2022-12-22 08:41:...|2022|November|\n",
      "+----------+------+---------+---------------+-------+-------+--------------+--------------+----------+--------+----------+------------+--------------------+--------------------+----+--------+"
     ]
    }
   ],
   "source": [
    "spark.sql('''\n",
    "\n",
    "                SELECT * FROM Q400_FOB\n",
    "                \n",
    "                WHERE Filename = 'ALL ac=VT-SUG dep=HYD arr=GOI fn=SEJ4001 dt=20221121.csv'\n",
    "\n",
    "''').show()"
   ]
  },
  {
   "cell_type": "code",
   "execution_count": null,
   "id": "63e404ad-285e-4dcf-a2c6-2e7a24a23282",
   "metadata": {
    "tags": []
   },
   "outputs": [],
   "source": []
  },
  {
   "cell_type": "code",
   "execution_count": 14,
   "id": "b0ab250e-32f0-446d-b9c9-ef274ec23641",
   "metadata": {
    "execution": {
     "iopub.execute_input": "2022-12-22T12:35:01.216958Z",
     "iopub.status.busy": "2022-12-22T12:35:01.216711Z",
     "iopub.status.idle": "2022-12-22T12:35:01.472945Z",
     "shell.execute_reply": "2022-12-22T12:35:01.472421Z",
     "shell.execute_reply.started": "2022-12-22T12:35:01.216923Z"
    },
    "tags": []
   },
   "outputs": [
    {
     "data": {
      "application/vnd.jupyter.widget-view+json": {
       "model_id": "58b43e070c51475696ce13905ae8f451",
       "version_major": 2,
       "version_minor": 0
      },
      "text/plain": [
       "VBox()"
      ]
     },
     "metadata": {},
     "output_type": "display_data"
    },
    {
     "data": {
      "application/vnd.jupyter.widget-view+json": {
       "model_id": "",
       "version_major": 2,
       "version_minor": 0
      },
      "text/plain": [
       "FloatProgress(value=0.0, bar_style='info', description='Progress:', layout=Layout(height='25px', width='50%'),…"
      ]
     },
     "metadata": {},
     "output_type": "display_data"
    }
   ],
   "source": [
    "Q400_FOB.createOrReplaceTempView('Q400_FOB')"
   ]
  },
  {
   "cell_type": "code",
   "execution_count": 15,
   "id": "3e662123-13f8-4fa6-9bd2-581c11437fef",
   "metadata": {
    "execution": {
     "iopub.execute_input": "2022-12-22T12:35:01.475450Z",
     "iopub.status.busy": "2022-12-22T12:35:01.475203Z",
     "iopub.status.idle": "2022-12-22T12:35:02.246514Z",
     "shell.execute_reply": "2022-12-22T12:35:02.245917Z",
     "shell.execute_reply.started": "2022-12-22T12:35:01.475408Z"
    },
    "tags": []
   },
   "outputs": [
    {
     "data": {
      "application/vnd.jupyter.widget-view+json": {
       "model_id": "851414c7bd2b484094742d2924340988",
       "version_major": 2,
       "version_minor": 0
      },
      "text/plain": [
       "VBox()"
      ]
     },
     "metadata": {},
     "output_type": "display_data"
    },
    {
     "data": {
      "application/vnd.jupyter.widget-view+json": {
       "model_id": "",
       "version_major": 2,
       "version_minor": 0
      },
      "text/plain": [
       "FloatProgress(value=0.0, bar_style='info', description='Progress:', layout=Layout(height='25px', width='50%'),…"
      ]
     },
     "metadata": {},
     "output_type": "display_data"
    }
   ],
   "source": [
    "jdbcDF = spark.read \\\n",
    "  .format(\"jdbc\") \\\n",
    "  .option(\"driver\", \"com.microsoft.sqlserver.jdbc.SQLServerDriver\") \\\n",
    "  .option(\"url\", \"jdbc:sqlserver://10.150.72.22:1433;databaseName=SALT\") \\\n",
    "  .option(\"dbtable\", \"LoadAndTrimDetails\") \\\n",
    "  .option(\"user\", \"dmbigdata\") \\\n",
    "  .option(\"password\", \"$p!Ce@bigData$db\") \\\n",
    "  .load()"
   ]
  },
  {
   "cell_type": "code",
   "execution_count": 16,
   "id": "8f624f1c-dce1-44c4-855a-4d7f85dd650b",
   "metadata": {
    "execution": {
     "iopub.execute_input": "2022-12-22T12:35:02.247858Z",
     "iopub.status.busy": "2022-12-22T12:35:02.247677Z",
     "iopub.status.idle": "2022-12-22T12:35:02.290572Z",
     "shell.execute_reply": "2022-12-22T12:35:02.290101Z",
     "shell.execute_reply.started": "2022-12-22T12:35:02.247836Z"
    },
    "tags": []
   },
   "outputs": [
    {
     "data": {
      "application/vnd.jupyter.widget-view+json": {
       "model_id": "77fe2dc5cc694a959554bdc10e97ffe9",
       "version_major": 2,
       "version_minor": 0
      },
      "text/plain": [
       "VBox()"
      ]
     },
     "metadata": {},
     "output_type": "display_data"
    },
    {
     "data": {
      "application/vnd.jupyter.widget-view+json": {
       "model_id": "",
       "version_major": 2,
       "version_minor": 0
      },
      "text/plain": [
       "FloatProgress(value=0.0, bar_style='info', description='Progress:', layout=Layout(height='25px', width='50%'),…"
      ]
     },
     "metadata": {},
     "output_type": "display_data"
    }
   ],
   "source": [
    "jdbcDF.createOrReplaceTempView('jdbcDF')"
   ]
  },
  {
   "cell_type": "code",
   "execution_count": 17,
   "id": "fe5bebaa-1f8b-4d9b-8950-54ab42ee14f7",
   "metadata": {
    "execution": {
     "iopub.execute_input": "2022-12-22T12:35:02.291472Z",
     "iopub.status.busy": "2022-12-22T12:35:02.291315Z",
     "iopub.status.idle": "2022-12-22T12:35:03.045846Z",
     "shell.execute_reply": "2022-12-22T12:35:03.045285Z",
     "shell.execute_reply.started": "2022-12-22T12:35:02.291451Z"
    },
    "tags": []
   },
   "outputs": [
    {
     "data": {
      "application/vnd.jupyter.widget-view+json": {
       "model_id": "bac680c34c14412eab98ef249f1e74d9",
       "version_major": 2,
       "version_minor": 0
      },
      "text/plain": [
       "VBox()"
      ]
     },
     "metadata": {},
     "output_type": "display_data"
    },
    {
     "data": {
      "application/vnd.jupyter.widget-view+json": {
       "model_id": "",
       "version_major": 2,
       "version_minor": 0
      },
      "text/plain": [
       "FloatProgress(value=0.0, bar_style='info', description='Progress:', layout=Layout(height='25px', width='50%'),…"
      ]
     },
     "metadata": {},
     "output_type": "display_data"
    },
    {
     "name": "stderr",
     "output_type": "stream",
     "text": [
      "An error was encountered:\n",
      "cannot resolve '`a.Actual_ARR_Time`' given input columns: [b.AcftPurpose, b.AcftRegn, b.ActCabStr, b.ActCompStr, b.ActLoadDistStr, b.ActLoadDistStrV2, b.ActcrewStr, a.Actual_DEP_Time, b.AdjustStr, b.AdjustStrv2, b.AdultLDM, a.Arrival, b.BagLDM, a.Blocktime_ARMS, a.Blocktime_DFDR, b.CabStr, b.CaptEmpId, b.Captain, b.CargoLDM, b.CargoOnSeatAuto, b.CargoOnSeatStr, b.CompStr, b.CrewStr, a.Date, a.Departure, b.Destination, b.DeviationTOWMAC, b.EDNO, b.EZFW, b.EZFWupTime, b.FOB, a.FileName, b.FlightDate, a.FlightNo, b.FlightNo, a.FlightTime, a.FuelConsumed, b.Id, b.InfantLDM, b.LPLoginID, b.LTLoginID, b.LW, b.LWMAC, b.LWMACAFT, b.LWMACFWD, b.LWindex, b.LastCreatedTime, b.LastUpdateOn, b.LastUpdatedTime, b.LoadDistStr, b.LoadDistStrV2, b.LoadOfficer, b.LoadedBy, b.LoadedOn, b.OEW, b.OEW_Index, b.OLW, b.OTOW, b.OZFW, b.PalletsStr, b.PalletsStrAuto, b.RTOW, a.Sector, b.SectorLDM, b.Source, b.SpecialStr, b.TOW, b.TOWMAC, b.TOWMACAFT, b.TOWMACFWD, b.TOWindex, a.TailNo, b.TargetTOWMAC, b.TotalLDM, b.TrimGenTimeUTC, b.TrimOfficer, b.TrimPage, b.Trip_Fuel, b.UnderLoadLMC, b.ZFW, b.ZFWMAC, b.ZFWMACAFT, b.ZFWMACFWD, b.ZFWindex, b.ZFWupTime, b.bagSector1, b.bagSector2, b.bagSector3, b.bagSector4, b.cargoSector1, b.cargoSector2, b.cargoSector3, b.cargoSector4, b.cmpt1, b.cmpt2, b.cmpt3, b.cmpt4, a.flightdate, a.loadeddate, a.month, a.year]; line 17 pos 31;\n",
      "'Project [flightdate#237, TailNo#259, FlightNo#262, Sector#241, Departure#260, Actual_DEP_Time#238, Arrival#261, 'a.Actual_ARR_Time, FOB#417, (cast(FOB#417 as int) + 105) AS DepartureFuel#578, FuelConsumed#242, Blocktime_ARMS#374, Blocktime_DFDR#391, FlightTime#0, ((cast(FOB#417 as int) + 105) - cast(FuelConsumed#242 as int)) AS ArrivalFuel#579, FileName#311, loadeddate#312, year#316, month#317, current_timestamp() AS ProcessedDate#580]\n",
      "+- Join LeftOuter, (((FlightDate#237 = cast(FlightDate#409 as date)) AND (replace(FlightNo#262,  , ) = FlightNo#410)) AND ((Departure#260 = Source#411) AND (Arrival#261 = Destination#412)))\n",
      "   :- SubqueryAlias a\n",
      "   :  +- SubqueryAlias q400_fob\n",
      "   :     +- Project [flightdate#237, TailNo#259, Departure#260, Actual_DEP_Time#238, Arrival#261, Sector#241, Blocktime_ARMS#374, concat(cast((cast(cast(Blocktime_DFDR#157 as int) as bigint) div cast(60 as bigint)) as string), :, cast(mod(cast(Blocktime_DFDR#157 as int), 60) as string)) AS Blocktime_DFDR#391, FlightTime#0, FlightNo#262, Date#263, FuelConsumed#242, FileName#311, loadeddate#312, year#316, month#317]\n",
      "   :        +- Project [flightdate#237, TailNo#259, Departure#260, Actual_DEP_Time#238, Arrival#261, Sector#241, concat(cast((cast(cast(Blocktime_ARMS#240 as int) as bigint) div cast(60 as bigint)) as string), :, cast(mod(cast(Blocktime_ARMS#240 as int), 60) as string)) AS Blocktime_ARMS#374, Blocktime_DFDR#157, FlightTime#0, FlightNo#262, Date#263, FuelConsumed#242, FileName#311, loadeddate#312, year#316, month#317]\n",
      "   :           +- Project [flightdate#237, TailNo#259, Departure#260, Actual_DEP_Time#238, Arrival#261, Sector#241, Blocktime_ARMS#240, Blocktime_DFDR#157, FlightTime#0, FlightNo#262, Date#263, FuelConsumed#242, FileName#311, loadeddate#312, year#316, month#317]\n",
      "   :              +- Join Inner, (((filename#69 = filename#311) AND (ECN#8 = ECN#250)) AND (UTC_TIMEDATE#73 = UTC_TIMEDATE#315))\n",
      "   :                 :- SubqueryAlias a\n",
      "   :                 :  +- SubqueryAlias q400_128wps_1\n",
      "   :                 :     +- Aggregate [ECN#8, UTC_TIMEDATE#73, Filename#69], [ECN#8, UTC_TIMEDATE#73, FileName#69, cast(((max(Time-In-Secs#22) - min(Time-In-Secs#22)) / cast(60 as double)) as int) AS FlightTime#0]\n",
      "   :                 :        +- Filter (((FlightDate#4 > 2022-10-30) AND NOT Radio-Altitude#29 LIKE %*%) AND (NOT (Radio-Altitude#29 = ) AND (Main-WOW#31 = Air (0))))\n",
      "   :                 :           +- SubqueryAlias spark_catalog.precogdb.q400128wps\n",
      "   :                 :              +- Relation[flightid#1,desigflightnumber#2,flightnumberarms#3,flightdate#4,fromcity#5,tocity#6,blocktime#7,ecn#8,employeename#9,rank#10,chocksoff#11,chockson#12,domint#13,aircrafttype#14,aircraftmodel#15,payload#16,tailno#17,departure#18,arrival#19,flightno#20,date#21,time-in-secs#22,time-per-sec#23,baro-corrected-palt-derived#24,... 51 more fields] parquet\n",
      "   :                 +- SubqueryAlias b\n",
      "   :                    +- SubqueryAlias q400_128wps_2_1\n",
      "   :                       +- Project [FlightDate#237, TailNo#259, Departure#260, ChocksOff#253, Actual_DEP_Time#238, Arrival#261, Actual_ARR_Time#239, BlockTime_ARMS#240, Sector#241, FlightNo#262, Date#263, ECN#250, UTC_TIMEDATE#315, FuelConsumed#242, FileName#311, loadeddate#312, year#316, month#317, Blocktime_DFDR#157]\n",
      "   :                          +- Join LeftOuter, (filename#311 = filename#226)\n",
      "   :                             :- SubqueryAlias a\n",
      "   :                             :  +- SubqueryAlias q400_128wps_2\n",
      "   :                             :     +- Distinct\n",
      "   :                             :        +- Project [FlightDate#237, TailNo#259, Departure#260, ChocksOff#253, Actual_DEP_Time#238, Arrival#261, Actual_ARR_Time#239, BlockTime_ARMS#240, Sector#241, FlightNo#262, Date#263, ECN#250, UTC_TIMEDATE#315, FuelConsumed#242, FileName#311, loadeddate#312, year#316, month#317]\n",
      "   :                             :           +- Project [FlightDate#237, TailNo#259, Departure#260, ChocksOff#253, Actual_DEP_Time#238, Arrival#261, Actual_ARR_Time#239, BlockTime_ARMS#240, Sector#241, FlightNo#262, Date#263, ECN#250, UTC_TIMEDATE#315, FileName#311, loadeddate#312, year#316, month#317, _w0#319L, _we0#320L, cast((cast(_we0#320L as double) / cast(3600 as double)) as int) AS FuelConsumed#242]\n",
      "   :                             :              +- Window [sum(_w0#319L) windowspecdefinition(ECN#250, UTC_TIMEDATE#315, Filename#311, specifiedwindowframe(RowFrame, unboundedpreceding$(), unboundedfollowing$())) AS _we0#320L], [ECN#250, UTC_TIMEDATE#315, Filename#311]\n",
      "   :                             :                 +- Project [cast(ChocksOff#253 as date) AS FlightDate#237, TailNo#259, Departure#260, ChocksOff#253, date_format(ChocksOff#253, HH:mm:ss, Some(UTC)) AS Actual_DEP_Time#238, Arrival#261, date_format(ChocksOn#254, HH:mm:ss, Some(UTC)) AS Actual_ARR_Time#239, (cast((cast(to_timestamp(ChocksOn#254, None) as bigint) - cast(to_timestamp(ChocksOff#253, None) as bigint)) as double) / cast(60 as double)) AS BlockTime_ARMS#240, concat(Departure#260, -, Arrival#261) AS Sector#241, FlightNo#262, Date#263, ECN#250, UTC_TIMEDATE#315, FileName#311, loadeddate#312, year#316, month#317, cast((cast(fuel-flow-no-2-kg#306 as int) + cast(fuel-flow-no-1-kg#307 as int)) as bigint) AS _w0#319L]\n",
      "   :                             :                    +- Filter (((FlightDate#246 > 2022-10-30) AND NOT Radio-Altitude#271 LIKE %*%) AND (NOT (Radio-Altitude#271 = ) AND ((UTC_TIMEDATE#315 >= cast(ChocksOff#253 - 6 hours as timestamp)) AND (UTC_TIMEDATE#315 <= cast(ChocksOff#253 - 5 hours as timestamp)))))\n",
      "   :                             :                       +- SubqueryAlias spark_catalog.precogdb.q400128wps\n",
      "   :                             :                          +- Relation[flightid#243,desigflightnumber#244,flightnumberarms#245,flightdate#246,fromcity#247,tocity#248,blocktime#249,ecn#250,employeename#251,rank#252,chocksoff#253,chockson#254,domint#255,aircrafttype#256,aircraftmodel#257,payload#258,tailno#259,departure#260,arrival#261,flightno#262,date#263,time-in-secs#264,time-per-sec#265,baro-corrected-palt-derived#266,... 51 more fields] parquet\n",
      "   :                             +- SubqueryAlias b\n",
      "   :                                +- SubqueryAlias q400_time\n",
      "   :                                   +- Aggregate [filename#226], [cast((cast((max(cast(Time-in-secs#179 as int)) - min(cast(Time-in-secs#179 as int))) as double) / cast(60 as double)) as int) AS BlockTime_DFDR#157, filename#226]\n",
      "   :                                      +- Filter (FlightDate#161 > 2022-10-30)\n",
      "   :                                         +- SubqueryAlias spark_catalog.precogdb.q400128wps\n",
      "   :                                            +- Relation[flightid#158,desigflightnumber#159,flightnumberarms#160,flightdate#161,fromcity#162,tocity#163,blocktime#164,ecn#165,employeename#166,rank#167,chocksoff#168,chockson#169,domint#170,aircrafttype#171,aircraftmodel#172,payload#173,tailno#174,departure#175,arrival#176,flightno#177,date#178,time-in-secs#179,time-per-sec#180,baro-corrected-palt-derived#181,... 51 more fields] parquet\n",
      "   +- SubqueryAlias b\n",
      "      +- SubqueryAlias jdbcdf\n",
      "         +- Relation[Id#408L,FlightDate#409,FlightNo#410,Source#411,Destination#412,SpecialStr#413,LoadDistStr#414,Captain#415,Trip_Fuel#416,FOB#417,EDNO#418,AdjustStr#419,CabStr#420,CompStr#421,ActLoadDistStr#422,CrewStr#423,LoadOfficer#424,TrimOfficer#425,bagSector1#426,bagSector2#427,bagSector3#428,cargoSector1#429,cargoSector2#430,cargoSector3#431,... 61 more fields] JDBCRelation(LoadAndTrimDetails) [numPartitions=1]\n",
      "\n",
      "Traceback (most recent call last):\n",
      "  File \"/usr/lib/spark/python/lib/pyspark.zip/pyspark/sql/session.py\", line 723, in sql\n",
      "    return DataFrame(self._jsparkSession.sql(sqlQuery), self._wrapped)\n",
      "  File \"/usr/lib/spark/python/lib/py4j-0.10.9-src.zip/py4j/java_gateway.py\", line 1305, in __call__\n",
      "    answer, self.gateway_client, self.target_id, self.name)\n",
      "  File \"/usr/lib/spark/python/lib/pyspark.zip/pyspark/sql/utils.py\", line 117, in deco\n",
      "    raise converted from None\n",
      "pyspark.sql.utils.AnalysisException: cannot resolve '`a.Actual_ARR_Time`' given input columns: [b.AcftPurpose, b.AcftRegn, b.ActCabStr, b.ActCompStr, b.ActLoadDistStr, b.ActLoadDistStrV2, b.ActcrewStr, a.Actual_DEP_Time, b.AdjustStr, b.AdjustStrv2, b.AdultLDM, a.Arrival, b.BagLDM, a.Blocktime_ARMS, a.Blocktime_DFDR, b.CabStr, b.CaptEmpId, b.Captain, b.CargoLDM, b.CargoOnSeatAuto, b.CargoOnSeatStr, b.CompStr, b.CrewStr, a.Date, a.Departure, b.Destination, b.DeviationTOWMAC, b.EDNO, b.EZFW, b.EZFWupTime, b.FOB, a.FileName, b.FlightDate, a.FlightNo, b.FlightNo, a.FlightTime, a.FuelConsumed, b.Id, b.InfantLDM, b.LPLoginID, b.LTLoginID, b.LW, b.LWMAC, b.LWMACAFT, b.LWMACFWD, b.LWindex, b.LastCreatedTime, b.LastUpdateOn, b.LastUpdatedTime, b.LoadDistStr, b.LoadDistStrV2, b.LoadOfficer, b.LoadedBy, b.LoadedOn, b.OEW, b.OEW_Index, b.OLW, b.OTOW, b.OZFW, b.PalletsStr, b.PalletsStrAuto, b.RTOW, a.Sector, b.SectorLDM, b.Source, b.SpecialStr, b.TOW, b.TOWMAC, b.TOWMACAFT, b.TOWMACFWD, b.TOWindex, a.TailNo, b.TargetTOWMAC, b.TotalLDM, b.TrimGenTimeUTC, b.TrimOfficer, b.TrimPage, b.Trip_Fuel, b.UnderLoadLMC, b.ZFW, b.ZFWMAC, b.ZFWMACAFT, b.ZFWMACFWD, b.ZFWindex, b.ZFWupTime, b.bagSector1, b.bagSector2, b.bagSector3, b.bagSector4, b.cargoSector1, b.cargoSector2, b.cargoSector3, b.cargoSector4, b.cmpt1, b.cmpt2, b.cmpt3, b.cmpt4, a.flightdate, a.loadeddate, a.month, a.year]; line 17 pos 31;\n",
      "'Project [flightdate#237, TailNo#259, FlightNo#262, Sector#241, Departure#260, Actual_DEP_Time#238, Arrival#261, 'a.Actual_ARR_Time, FOB#417, (cast(FOB#417 as int) + 105) AS DepartureFuel#578, FuelConsumed#242, Blocktime_ARMS#374, Blocktime_DFDR#391, FlightTime#0, ((cast(FOB#417 as int) + 105) - cast(FuelConsumed#242 as int)) AS ArrivalFuel#579, FileName#311, loadeddate#312, year#316, month#317, current_timestamp() AS ProcessedDate#580]\n",
      "+- Join LeftOuter, (((FlightDate#237 = cast(FlightDate#409 as date)) AND (replace(FlightNo#262,  , ) = FlightNo#410)) AND ((Departure#260 = Source#411) AND (Arrival#261 = Destination#412)))\n",
      "   :- SubqueryAlias a\n",
      "   :  +- SubqueryAlias q400_fob\n",
      "   :     +- Project [flightdate#237, TailNo#259, Departure#260, Actual_DEP_Time#238, Arrival#261, Sector#241, Blocktime_ARMS#374, concat(cast((cast(cast(Blocktime_DFDR#157 as int) as bigint) div cast(60 as bigint)) as string), :, cast(mod(cast(Blocktime_DFDR#157 as int), 60) as string)) AS Blocktime_DFDR#391, FlightTime#0, FlightNo#262, Date#263, FuelConsumed#242, FileName#311, loadeddate#312, year#316, month#317]\n",
      "   :        +- Project [flightdate#237, TailNo#259, Departure#260, Actual_DEP_Time#238, Arrival#261, Sector#241, concat(cast((cast(cast(Blocktime_ARMS#240 as int) as bigint) div cast(60 as bigint)) as string), :, cast(mod(cast(Blocktime_ARMS#240 as int), 60) as string)) AS Blocktime_ARMS#374, Blocktime_DFDR#157, FlightTime#0, FlightNo#262, Date#263, FuelConsumed#242, FileName#311, loadeddate#312, year#316, month#317]\n",
      "   :           +- Project [flightdate#237, TailNo#259, Departure#260, Actual_DEP_Time#238, Arrival#261, Sector#241, Blocktime_ARMS#240, Blocktime_DFDR#157, FlightTime#0, FlightNo#262, Date#263, FuelConsumed#242, FileName#311, loadeddate#312, year#316, month#317]\n",
      "   :              +- Join Inner, (((filename#69 = filename#311) AND (ECN#8 = ECN#250)) AND (UTC_TIMEDATE#73 = UTC_TIMEDATE#315))\n",
      "   :                 :- SubqueryAlias a\n",
      "   :                 :  +- SubqueryAlias q400_128wps_1\n",
      "   :                 :     +- Aggregate [ECN#8, UTC_TIMEDATE#73, Filename#69], [ECN#8, UTC_TIMEDATE#73, FileName#69, cast(((max(Time-In-Secs#22) - min(Time-In-Secs#22)) / cast(60 as double)) as int) AS FlightTime#0]\n",
      "   :                 :        +- Filter (((FlightDate#4 > 2022-10-30) AND NOT Radio-Altitude#29 LIKE %*%) AND (NOT (Radio-Altitude#29 = ) AND (Main-WOW#31 = Air (0))))\n",
      "   :                 :           +- SubqueryAlias spark_catalog.precogdb.q400128wps\n",
      "   :                 :              +- Relation[flightid#1,desigflightnumber#2,flightnumberarms#3,flightdate#4,fromcity#5,tocity#6,blocktime#7,ecn#8,employeename#9,rank#10,chocksoff#11,chockson#12,domint#13,aircrafttype#14,aircraftmodel#15,payload#16,tailno#17,departure#18,arrival#19,flightno#20,date#21,time-in-secs#22,time-per-sec#23,baro-corrected-palt-derived#24,... 51 more fields] parquet\n",
      "   :                 +- SubqueryAlias b\n",
      "   :                    +- SubqueryAlias q400_128wps_2_1\n",
      "   :                       +- Project [FlightDate#237, TailNo#259, Departure#260, ChocksOff#253, Actual_DEP_Time#238, Arrival#261, Actual_ARR_Time#239, BlockTime_ARMS#240, Sector#241, FlightNo#262, Date#263, ECN#250, UTC_TIMEDATE#315, FuelConsumed#242, FileName#311, loadeddate#312, year#316, month#317, Blocktime_DFDR#157]\n",
      "   :                          +- Join LeftOuter, (filename#311 = filename#226)\n",
      "   :                             :- SubqueryAlias a\n",
      "   :                             :  +- SubqueryAlias q400_128wps_2\n",
      "   :                             :     +- Distinct\n",
      "   :                             :        +- Project [FlightDate#237, TailNo#259, Departure#260, ChocksOff#253, Actual_DEP_Time#238, Arrival#261, Actual_ARR_Time#239, BlockTime_ARMS#240, Sector#241, FlightNo#262, Date#263, ECN#250, UTC_TIMEDATE#315, FuelConsumed#242, FileName#311, loadeddate#312, year#316, month#317]\n",
      "   :                             :           +- Project [FlightDate#237, TailNo#259, Departure#260, ChocksOff#253, Actual_DEP_Time#238, Arrival#261, Actual_ARR_Time#239, BlockTime_ARMS#240, Sector#241, FlightNo#262, Date#263, ECN#250, UTC_TIMEDATE#315, FileName#311, loadeddate#312, year#316, month#317, _w0#319L, _we0#320L, cast((cast(_we0#320L as double) / cast(3600 as double)) as int) AS FuelConsumed#242]\n",
      "   :                             :              +- Window [sum(_w0#319L) windowspecdefinition(ECN#250, UTC_TIMEDATE#315, Filename#311, specifiedwindowframe(RowFrame, unboundedpreceding$(), unboundedfollowing$())) AS _we0#320L], [ECN#250, UTC_TIMEDATE#315, Filename#311]\n",
      "   :                             :                 +- Project [cast(ChocksOff#253 as date) AS FlightDate#237, TailNo#259, Departure#260, ChocksOff#253, date_format(ChocksOff#253, HH:mm:ss, Some(UTC)) AS Actual_DEP_Time#238, Arrival#261, date_format(ChocksOn#254, HH:mm:ss, Some(UTC)) AS Actual_ARR_Time#239, (cast((cast(to_timestamp(ChocksOn#254, None) as bigint) - cast(to_timestamp(ChocksOff#253, None) as bigint)) as double) / cast(60 as double)) AS BlockTime_ARMS#240, concat(Departure#260, -, Arrival#261) AS Sector#241, FlightNo#262, Date#263, ECN#250, UTC_TIMEDATE#315, FileName#311, loadeddate#312, year#316, month#317, cast((cast(fuel-flow-no-2-kg#306 as int) + cast(fuel-flow-no-1-kg#307 as int)) as bigint) AS _w0#319L]\n",
      "   :                             :                    +- Filter (((FlightDate#246 > 2022-10-30) AND NOT Radio-Altitude#271 LIKE %*%) AND (NOT (Radio-Altitude#271 = ) AND ((UTC_TIMEDATE#315 >= cast(ChocksOff#253 - 6 hours as timestamp)) AND (UTC_TIMEDATE#315 <= cast(ChocksOff#253 - 5 hours as timestamp)))))\n",
      "   :                             :                       +- SubqueryAlias spark_catalog.precogdb.q400128wps\n",
      "   :                             :                          +- Relation[flightid#243,desigflightnumber#244,flightnumberarms#245,flightdate#246,fromcity#247,tocity#248,blocktime#249,ecn#250,employeename#251,rank#252,chocksoff#253,chockson#254,domint#255,aircrafttype#256,aircraftmodel#257,payload#258,tailno#259,departure#260,arrival#261,flightno#262,date#263,time-in-secs#264,time-per-sec#265,baro-corrected-palt-derived#266,... 51 more fields] parquet\n",
      "   :                             +- SubqueryAlias b\n",
      "   :                                +- SubqueryAlias q400_time\n",
      "   :                                   +- Aggregate [filename#226], [cast((cast((max(cast(Time-in-secs#179 as int)) - min(cast(Time-in-secs#179 as int))) as double) / cast(60 as double)) as int) AS BlockTime_DFDR#157, filename#226]\n",
      "   :                                      +- Filter (FlightDate#161 > 2022-10-30)\n",
      "   :                                         +- SubqueryAlias spark_catalog.precogdb.q400128wps\n",
      "   :                                            +- Relation[flightid#158,desigflightnumber#159,flightnumberarms#160,flightdate#161,fromcity#162,tocity#163,blocktime#164,ecn#165,employeename#166,rank#167,chocksoff#168,chockson#169,domint#170,aircrafttype#171,aircraftmodel#172,payload#173,tailno#174,departure#175,arrival#176,flightno#177,date#178,time-in-secs#179,time-per-sec#180,baro-corrected-palt-derived#181,... 51 more fields] parquet\n",
      "   +- SubqueryAlias b\n",
      "      +- SubqueryAlias jdbcdf\n",
      "         +- Relation[Id#408L,FlightDate#409,FlightNo#410,Source#411,Destination#412,SpecialStr#413,LoadDistStr#414,Captain#415,Trip_Fuel#416,FOB#417,EDNO#418,AdjustStr#419,CabStr#420,CompStr#421,ActLoadDistStr#422,CrewStr#423,LoadOfficer#424,TrimOfficer#425,bagSector1#426,bagSector2#427,bagSector3#428,cargoSector1#429,cargoSector2#430,cargoSector3#431,... 61 more fields] JDBCRelation(LoadAndTrimDetails) [numPartitions=1]\n",
      "\n",
      "\n"
     ]
    }
   ],
   "source": [
    "loadDF = spark.sql('''\n",
    "\n",
    "                SELECT a.flightdate,\n",
    "                               \n",
    "                               a.TailNo,\n",
    "                               \n",
    "                               a.FlightNo,\n",
    "                               \n",
    "                               a.Sector,\n",
    "                               \n",
    "                               a.Departure,\n",
    "                               \n",
    "                               a.Actual_DEP_Time,\n",
    "                               \n",
    "                               a.Arrival,\n",
    "                               \n",
    "                               a.Actual_ARR_Time,\n",
    "                               \n",
    "                               b.FOB,\n",
    "                               \n",
    "                               (CAST (b.FOB AS INT) + 105) AS DepartureFuel,\n",
    "                               \n",
    "                               a.FuelConsumed,\n",
    "                               \n",
    "                               a.Blocktime_ARMS,\n",
    "                               \n",
    "                               a.Blocktime_DFDR,\n",
    "                               \n",
    "                               a.FlightTime,\n",
    "                                                    \n",
    "                               ((CAST (b.FOB AS INT) + 105) - CAST (a.FuelConsumed AS INT)) AS ArrivalFuel,\n",
    "                               \n",
    "                               a.FileName,\n",
    "                               \n",
    "                               a.loadeddate,\n",
    "                               \n",
    "                               a.year,\n",
    "                               \n",
    "                               a.month,\n",
    "                               \n",
    "                               current_timestamp()   AS `ProcessedDate`\n",
    "                               \n",
    "                               \n",
    "                \n",
    "                FROM Q400_FOB a \n",
    "                \n",
    "                LEFT JOIN jdbcDF b on a.FlightDate = CAST(b.FlightDate AS date)\n",
    "                \n",
    "                AND REPLACE(a.FlightNo,' ','') = b.FlightNo\n",
    "                \n",
    "                AND a.Departure = b.Source\n",
    "                \n",
    "                AND a.Arrival = b.Destination\n",
    "                \n",
    "                \n",
    "                                \n",
    "                \n",
    "                \n",
    "\n",
    "\n",
    "''')"
   ]
  },
  {
   "cell_type": "code",
   "execution_count": 13,
   "id": "12821fdd-4d57-4f8b-a711-fa827655f776",
   "metadata": {
    "execution": {
     "iopub.execute_input": "2022-12-01T09:51:58.109326Z",
     "iopub.status.busy": "2022-12-01T09:51:58.109101Z",
     "iopub.status.idle": "2022-12-01T09:52:31.477586Z",
     "shell.execute_reply": "2022-12-01T09:52:31.477015Z",
     "shell.execute_reply.started": "2022-12-01T09:51:58.109303Z"
    },
    "tags": []
   },
   "outputs": [
    {
     "data": {
      "application/vnd.jupyter.widget-view+json": {
       "model_id": "f86a536f97134e48a2a142bd57fbd4d5",
       "version_major": 2,
       "version_minor": 0
      },
      "text/plain": [
       "VBox()"
      ]
     },
     "metadata": {},
     "output_type": "display_data"
    },
    {
     "data": {
      "application/vnd.jupyter.widget-view+json": {
       "model_id": "",
       "version_major": 2,
       "version_minor": 0
      },
      "text/plain": [
       "FloatProgress(value=0.0, bar_style='info', description='Progress:', layout=Layout(height='25px', width='50%'),…"
      ]
     },
     "metadata": {},
     "output_type": "display_data"
    }
   ],
   "source": [
    "loadDF.write.mode('append').partitionBy(\"year\", \"month\").parquet('s3://sjet-datamart-bucket/FuelOnBoard/fuel-on-board-processed-q400/')"
   ]
  },
  {
   "cell_type": "code",
   "execution_count": 23,
   "id": "479264bb-f5cd-42f7-a390-ee7575c939ec",
   "metadata": {
    "execution": {
     "iopub.execute_input": "2022-12-22T11:02:18.177461Z",
     "iopub.status.busy": "2022-12-22T11:02:18.177233Z",
     "iopub.status.idle": "2022-12-22T11:02:18.423395Z",
     "shell.execute_reply": "2022-12-22T11:02:18.422898Z",
     "shell.execute_reply.started": "2022-12-22T11:02:18.177438Z"
    }
   },
   "outputs": [
    {
     "data": {
      "application/vnd.jupyter.widget-view+json": {
       "model_id": "92e04a3484244c008b4312d736f243a3",
       "version_major": 2,
       "version_minor": 0
      },
      "text/plain": [
       "VBox()"
      ]
     },
     "metadata": {},
     "output_type": "display_data"
    },
    {
     "data": {
      "application/vnd.jupyter.widget-view+json": {
       "model_id": "",
       "version_major": 2,
       "version_minor": 0
      },
      "text/plain": [
       "FloatProgress(value=0.0, bar_style='info', description='Progress:', layout=Layout(height='25px', width='50%'),…"
      ]
     },
     "metadata": {},
     "output_type": "display_data"
    },
    {
     "name": "stdout",
     "output_type": "stream",
     "text": [
      "root\n",
      " |-- flightdate: date (nullable = true)\n",
      " |-- TailNo: string (nullable = true)\n",
      " |-- FlightNo: string (nullable = true)\n",
      " |-- Sector: string (nullable = true)\n",
      " |-- Departure: string (nullable = true)\n",
      " |-- Actual_DEP_Time: string (nullable = true)\n",
      " |-- Arrival: string (nullable = true)\n",
      " |-- Actual_ARR_Time: string (nullable = true)\n",
      " |-- FOB: integer (nullable = true)\n",
      " |-- DepartureFuel: integer (nullable = true)\n",
      " |-- FuelConsumed: integer (nullable = true)\n",
      " |-- Blocktime_ARMS: string (nullable = true)\n",
      " |-- Blocktime_DFDR: string (nullable = true)\n",
      " |-- FlightTime: integer (nullable = true)\n",
      " |-- ArrivalFuel: integer (nullable = true)\n",
      " |-- FileName: string (nullable = true)\n",
      " |-- loadeddate: timestamp (nullable = true)\n",
      " |-- year: string (nullable = true)\n",
      " |-- month: string (nullable = true)"
     ]
    }
   ],
   "source": [
    "loadDF.printSchema()"
   ]
  },
  {
   "cell_type": "code",
   "execution_count": 24,
   "id": "af16e0bb-7937-425b-be93-32fc08a7c21e",
   "metadata": {
    "execution": {
     "iopub.execute_input": "2022-12-22T11:03:36.355436Z",
     "iopub.status.busy": "2022-12-22T11:03:36.355218Z",
     "iopub.status.idle": "2022-12-22T11:04:21.728817Z",
     "shell.execute_reply": "2022-12-22T11:04:21.728295Z",
     "shell.execute_reply.started": "2022-12-22T11:03:36.355413Z"
    },
    "tags": []
   },
   "outputs": [
    {
     "data": {
      "application/vnd.jupyter.widget-view+json": {
       "model_id": "27778b05a0f14bdbb3feb28d6170b752",
       "version_major": 2,
       "version_minor": 0
      },
      "text/plain": [
       "VBox()"
      ]
     },
     "metadata": {},
     "output_type": "display_data"
    },
    {
     "data": {
      "application/vnd.jupyter.widget-view+json": {
       "model_id": "",
       "version_major": 2,
       "version_minor": 0
      },
      "text/plain": [
       "FloatProgress(value=0.0, bar_style='info', description='Progress:', layout=Layout(height='25px', width='50%'),…"
      ]
     },
     "metadata": {},
     "output_type": "display_data"
    }
   ],
   "source": [
    "loadDF \\\n",
    "  .write \\\n",
    "  .format(\"jdbc\") \\\n",
    "  .mode(\"append\") \\\n",
    "  .option(\"driver\", \"com.microsoft.sqlserver.jdbc.SQLServerDriver\") \\\n",
    "  .option(\"url\", \"jdbc:sqlserver://10.150.72.22:1433;databaseName=precog_rnd\") \\\n",
    "  .option(\"dbtable\", \"FuelOnBoard_Q400\") \\\n",
    "  .option(\"user\", \"dmbigdata\") \\\n",
    "  .option(\"password\", \"$p!Ce@bigData$db\") \\\n",
    "  .save()"
   ]
  },
  {
   "cell_type": "code",
   "execution_count": 25,
   "id": "f0d4789d-a123-4f62-a8ea-30c5ca5dbc3f",
   "metadata": {
    "execution": {
     "iopub.execute_input": "2022-12-22T11:04:26.584906Z",
     "iopub.status.busy": "2022-12-22T11:04:26.584680Z",
     "iopub.status.idle": "2022-12-22T11:04:37.869229Z",
     "shell.execute_reply": "2022-12-22T11:04:37.868624Z",
     "shell.execute_reply.started": "2022-12-22T11:04:26.584883Z"
    },
    "tags": []
   },
   "outputs": [
    {
     "data": {
      "application/vnd.jupyter.widget-view+json": {
       "model_id": "ca7c2df7a51046b3ae29224b14fdb0f4",
       "version_major": 2,
       "version_minor": 0
      },
      "text/plain": [
       "VBox()"
      ]
     },
     "metadata": {},
     "output_type": "display_data"
    },
    {
     "data": {
      "application/vnd.jupyter.widget-view+json": {
       "model_id": "",
       "version_major": 2,
       "version_minor": 0
      },
      "text/plain": [
       "FloatProgress(value=0.0, bar_style='info', description='Progress:', layout=Layout(height='25px', width='50%'),…"
      ]
     },
     "metadata": {},
     "output_type": "display_data"
    },
    {
     "name": "stdout",
     "output_type": "stream",
     "text": [
      "1183"
     ]
    }
   ],
   "source": [
    "loadDF.count()"
   ]
  },
  {
   "cell_type": "code",
   "execution_count": null,
   "id": "10eb2468-45de-431a-b38b-89ca0a4af231",
   "metadata": {
    "tags": []
   },
   "outputs": [],
   "source": [
    "spark.stop()"
   ]
  },
  {
   "cell_type": "code",
   "execution_count": null,
   "id": "b2226e50-0829-474d-b297-271fb9e1d5b9",
   "metadata": {},
   "outputs": [],
   "source": []
  },
  {
   "cell_type": "code",
   "execution_count": null,
   "id": "904f75b5-39bc-4d27-916e-e11175fe9e45",
   "metadata": {},
   "outputs": [],
   "source": []
  }
 ],
 "metadata": {
  "kernelspec": {
   "display_name": "PySpark",
   "language": "",
   "name": "pysparkkernel"
  },
  "language_info": {
   "codemirror_mode": {
    "name": "python",
    "version": 3
   },
   "mimetype": "text/x-python",
   "name": "pyspark",
   "pygments_lexer": "python3"
  }
 },
 "nbformat": 4,
 "nbformat_minor": 5
}
