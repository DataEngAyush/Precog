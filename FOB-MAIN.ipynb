{
 "cells": [
  {
   "cell_type": "code",
   "execution_count": 1,
   "id": "86170816-f3fc-4c33-a3d7-f2747673ed42",
   "metadata": {
    "execution": {
     "iopub.execute_input": "2023-01-19T05:19:59.237299Z",
     "iopub.status.busy": "2023-01-19T05:19:59.237083Z",
     "iopub.status.idle": "2023-01-19T05:19:59.252634Z",
     "shell.execute_reply": "2023-01-19T05:19:59.252161Z",
     "shell.execute_reply.started": "2023-01-19T05:19:59.237274Z"
    },
    "tags": []
   },
   "outputs": [
    {
     "data": {
      "text/html": [
       "Current session configs: <tt>{'conf': {'spark.jars': 's3://sjet-datamart-bucket/Jars/mssql-jdbc-6.1.0.jre8.jar', 'spark.sql.crossJoin.enabled': 'true'}, 'proxyUser': 'user_ayush_vaishnav', 'kind': 'pyspark'}</tt><br>"
      ],
      "text/plain": [
       "<IPython.core.display.HTML object>"
      ]
     },
     "metadata": {},
     "output_type": "display_data"
    },
    {
     "data": {
      "text/html": [
       "No active sessions."
      ],
      "text/plain": [
       "<IPython.core.display.HTML object>"
      ]
     },
     "metadata": {},
     "output_type": "display_data"
    }
   ],
   "source": [
    "%%configure -f\n",
    "{\n",
    "    \"conf\": {\n",
    "        \"spark.jars\": \"s3://sjet-datamart-bucket/Jars/mssql-jdbc-6.1.0.jre8.jar\",\n",
    "        \"spark.sql.crossJoin.enabled\": \"true\"\n",
    "    }\n",
    "}"
   ]
  },
  {
   "cell_type": "code",
   "execution_count": 2,
   "id": "9f0c3d7b-80e6-4eb7-9388-c5cc5e5bd273",
   "metadata": {
    "execution": {
     "iopub.execute_input": "2023-01-19T05:19:59.672425Z",
     "iopub.status.busy": "2023-01-19T05:19:59.672201Z",
     "iopub.status.idle": "2023-01-19T05:20:19.992059Z",
     "shell.execute_reply": "2023-01-19T05:20:19.991557Z",
     "shell.execute_reply.started": "2023-01-19T05:19:59.672402Z"
    }
   },
   "outputs": [
    {
     "data": {
      "application/vnd.jupyter.widget-view+json": {
       "model_id": "58c2bec80c9c4a349f2e3636e1be9997",
       "version_major": 2,
       "version_minor": 0
      },
      "text/plain": [
       "VBox()"
      ]
     },
     "metadata": {},
     "output_type": "display_data"
    },
    {
     "name": "stdout",
     "output_type": "stream",
     "text": [
      "Starting Spark application\n"
     ]
    },
    {
     "data": {
      "text/html": [
       "<table>\n",
       "<tr><th>ID</th><th>YARN Application ID</th><th>Kind</th><th>State</th><th>Spark UI</th><th>Driver log</th><th>Current session?</th></tr><tr><td>2</td><td>application_1674104491510_0004</td><td>pyspark</td><td>idle</td><td></td><td></td><td>✔</td></tr></table>"
      ],
      "text/plain": [
       "<IPython.core.display.HTML object>"
      ]
     },
     "metadata": {},
     "output_type": "display_data"
    },
    {
     "data": {
      "application/vnd.jupyter.widget-view+json": {
       "model_id": "",
       "version_major": 2,
       "version_minor": 0
      },
      "text/plain": [
       "FloatProgress(value=0.0, bar_style='info', description='Progress:', layout=Layout(height='25px', width='50%'),…"
      ]
     },
     "metadata": {},
     "output_type": "display_data"
    },
    {
     "name": "stdout",
     "output_type": "stream",
     "text": [
      "SparkSession available as 'spark'.\n"
     ]
    },
    {
     "data": {
      "application/vnd.jupyter.widget-view+json": {
       "model_id": "",
       "version_major": 2,
       "version_minor": 0
      },
      "text/plain": [
       "FloatProgress(value=0.0, bar_style='info', description='Progress:', layout=Layout(height='25px', width='50%'),…"
      ]
     },
     "metadata": {},
     "output_type": "display_data"
    }
   ],
   "source": [
    "from pyspark import SparkConf\n",
    "from pyspark import SparkContext\n",
    "from pyspark.sql import SparkSession\n",
    "from pyspark.sql.types import *\n",
    "from pyspark.sql import functions as F\n",
    "import boto3\n",
    "import sys\n",
    "import re\n",
    "from datetime import datetime\n",
    "import configparser\n",
    "from pyspark.sql.functions import *"
   ]
  },
  {
   "cell_type": "code",
   "execution_count": 2,
   "id": "45cc503a-feda-4874-be45-f5f06234fd61",
   "metadata": {
    "execution": {
     "iopub.execute_input": "2023-01-19T05:16:59.066647Z",
     "iopub.status.busy": "2023-01-19T05:16:59.066485Z",
     "iopub.status.idle": "2023-01-19T05:17:26.360576Z",
     "shell.execute_reply": "2023-01-19T05:17:26.360100Z",
     "shell.execute_reply.started": "2023-01-19T05:16:59.066627Z"
    },
    "tags": []
   },
   "outputs": [
    {
     "name": "stdout",
     "output_type": "stream",
     "text": [
      "Starting Spark application\n"
     ]
    },
    {
     "data": {
      "text/html": [
       "<table>\n",
       "<tr><th>ID</th><th>YARN Application ID</th><th>Kind</th><th>State</th><th>Spark UI</th><th>Driver log</th><th>Current session?</th></tr><tr><td>1</td><td>application_1674104491510_0003</td><td>pyspark</td><td>idle</td><td></td><td></td><td>✔</td></tr></table>"
      ],
      "text/plain": [
       "<IPython.core.display.HTML object>"
      ]
     },
     "metadata": {},
     "output_type": "display_data"
    },
    {
     "data": {
      "application/vnd.jupyter.widget-view+json": {
       "model_id": "",
       "version_major": 2,
       "version_minor": 0
      },
      "text/plain": [
       "FloatProgress(value=0.0, bar_style='info', description='Progress:', layout=Layout(height='25px', width='50%'),…"
      ]
     },
     "metadata": {},
     "output_type": "display_data"
    },
    {
     "name": "stdout",
     "output_type": "stream",
     "text": [
      "SparkSession available as 'spark'.\n"
     ]
    },
    {
     "data": {
      "text/html": [
       "Current session configs: <tt>{'conf': {'spark.jars': 's3://sjet-datamart-bucket/Jars/mssql-jdbc-6.1.0.jre8.jar', 'spark.sql.crossJoin.enabled': 'true'}, 'proxyUser': 'user_ayush_vaishnav', 'kind': 'pyspark'}</tt><br>"
      ],
      "text/plain": [
       "<IPython.core.display.HTML object>"
      ]
     },
     "metadata": {},
     "output_type": "display_data"
    },
    {
     "data": {
      "text/html": [
       "<table>\n",
       "<tr><th>ID</th><th>YARN Application ID</th><th>Kind</th><th>State</th><th>Spark UI</th><th>Driver log</th><th>Current session?</th></tr><tr><td>1</td><td>application_1674104491510_0003</td><td>pyspark</td><td>idle</td><td><a target=\"_blank\" href=\"http://ip-20-0-4-226.ap-south-1.compute.internal:20888/proxy/application_1674104491510_0003/\" class=\"emr-proxy-link\" emr-resource=\"j-MO3CNPL45SHE\n",
       "\" application-id=\"application_1674104491510_0003\">Link</a></td><td><a target=\"_blank\" href=\"http://ip-20-0-4-74.ap-south-1.compute.internal:8042/node/containerlogs/container_1674104491510_0003_01_000001/livy\" >Link</a></td><td>✔</td></tr></table>"
      ],
      "text/plain": [
       "<IPython.core.display.HTML object>"
      ]
     },
     "metadata": {},
     "output_type": "display_data"
    }
   ],
   "source": []
  },
  {
   "cell_type": "code",
   "execution_count": 3,
   "id": "cbeb332a-d004-4c53-b5e3-ada8474c1b55",
   "metadata": {
    "execution": {
     "iopub.execute_input": "2023-01-19T05:20:19.993172Z",
     "iopub.status.busy": "2023-01-19T05:20:19.992980Z",
     "iopub.status.idle": "2023-01-19T05:20:25.283336Z",
     "shell.execute_reply": "2023-01-19T05:20:25.282785Z",
     "shell.execute_reply.started": "2023-01-19T05:20:19.993151Z"
    },
    "tags": []
   },
   "outputs": [
    {
     "data": {
      "application/vnd.jupyter.widget-view+json": {
       "model_id": "8e7160151a3345b2b6afc26698dba0d8",
       "version_major": 2,
       "version_minor": 0
      },
      "text/plain": [
       "VBox()"
      ]
     },
     "metadata": {},
     "output_type": "display_data"
    },
    {
     "data": {
      "application/vnd.jupyter.widget-view+json": {
       "model_id": "",
       "version_major": 2,
       "version_minor": 0
      },
      "text/plain": [
       "FloatProgress(value=0.0, bar_style='info', description='Progress:', layout=Layout(height='25px', width='50%'),…"
      ]
     },
     "metadata": {},
     "output_type": "display_data"
    }
   ],
   "source": [
    "Q400_512WPS_1 = spark.sql('''\n",
    "                        SELECT\n",
    "                        \n",
    "                        ECN,\n",
    "                        \n",
    "                        UTC_TIMEDATE,\n",
    "                        \n",
    "                        FileName,\n",
    "\n",
    "                        CAST((MAX(`Time-In-Secs`) - MIN(`Time-In-Secs`)) / 60 AS INT) AS FlightTime\n",
    "             \n",
    "                        FROM precogdb.q400512wps\n",
    "                        \n",
    "                        WHERE FlightDate > '2022-10-31'\n",
    "                        \n",
    "                        AND `Rad-Alt` NOT LIKE '%*%'\n",
    "                        \n",
    "                        AND `Rad-Alt` <> ''\n",
    "                        \n",
    "                        AND `WOW-MLG` = 'Air (0)'\n",
    "\n",
    "                        --AND  CAST(LoadedDate AS DATE) = CAST (current_timestamp AS DATE)\n",
    "\n",
    "                        GROUP BY ECN, UTC_TIMEDATE, Filename\n",
    "                            ''')\n",
    "\n",
    "Q400_512WPS_1.createOrReplaceTempView('Q400_512WPS_1')"
   ]
  },
  {
   "cell_type": "code",
   "execution_count": 4,
   "id": "a8c1373d-c7e0-415a-818f-6390df7f9bcb",
   "metadata": {
    "execution": {
     "iopub.execute_input": "2023-01-19T05:20:25.284571Z",
     "iopub.status.busy": "2023-01-19T05:20:25.284403Z",
     "iopub.status.idle": "2023-01-19T05:20:25.336720Z",
     "shell.execute_reply": "2023-01-19T05:20:25.336238Z",
     "shell.execute_reply.started": "2023-01-19T05:20:25.284550Z"
    },
    "tags": []
   },
   "outputs": [
    {
     "data": {
      "application/vnd.jupyter.widget-view+json": {
       "model_id": "c1d8290d20ac4eea98b080070236e867",
       "version_major": 2,
       "version_minor": 0
      },
      "text/plain": [
       "VBox()"
      ]
     },
     "metadata": {},
     "output_type": "display_data"
    },
    {
     "data": {
      "application/vnd.jupyter.widget-view+json": {
       "model_id": "",
       "version_major": 2,
       "version_minor": 0
      },
      "text/plain": [
       "FloatProgress(value=0.0, bar_style='info', description='Progress:', layout=Layout(height='25px', width='50%'),…"
      ]
     },
     "metadata": {},
     "output_type": "display_data"
    }
   ],
   "source": [
    "#Q400_512WPS_1.show(truncate = False)"
   ]
  },
  {
   "cell_type": "code",
   "execution_count": 5,
   "id": "e859564f-838b-46c8-aaa2-534b215e4dfb",
   "metadata": {
    "execution": {
     "iopub.execute_input": "2023-01-19T05:20:25.337871Z",
     "iopub.status.busy": "2023-01-19T05:20:25.337704Z",
     "iopub.status.idle": "2023-01-19T05:20:26.105075Z",
     "shell.execute_reply": "2023-01-19T05:20:26.104590Z",
     "shell.execute_reply.started": "2023-01-19T05:20:25.337851Z"
    },
    "tags": []
   },
   "outputs": [
    {
     "data": {
      "application/vnd.jupyter.widget-view+json": {
       "model_id": "4f6de63f478e4515af1ece9660e0adba",
       "version_major": 2,
       "version_minor": 0
      },
      "text/plain": [
       "VBox()"
      ]
     },
     "metadata": {},
     "output_type": "display_data"
    },
    {
     "data": {
      "application/vnd.jupyter.widget-view+json": {
       "model_id": "",
       "version_major": 2,
       "version_minor": 0
      },
      "text/plain": [
       "FloatProgress(value=0.0, bar_style='info', description='Progress:', layout=Layout(height='25px', width='50%'),…"
      ]
     },
     "metadata": {},
     "output_type": "display_data"
    }
   ],
   "source": [
    "Q400_Time = spark.sql('''\n",
    "\n",
    "                                SELECT CAST((MAX(CAST(`Time-in-secs` AS INT)) - MIN(CAST(`Time-in-secs` AS INT))) / 60 AS INT) AS BlockTime_DFDR, filename\n",
    "                                \n",
    "                                FROM precogdb.q400512wps\n",
    "                                \n",
    "                                WHERE FlightDate > '2022-10-31'\n",
    "\n",
    "                                --AND  CAST(LoadedDate AS DATE) = CAST (current_timestamp AS DATE)\n",
    "                                \n",
    "                                group by filename\n",
    "                                \n",
    "                            ''')\n",
    "\n",
    "Q400_Time.createOrReplaceTempView('Q400_Time')"
   ]
  },
  {
   "cell_type": "code",
   "execution_count": 6,
   "id": "fc00f7b6-2443-4d7f-9767-a855977a22e3",
   "metadata": {
    "execution": {
     "iopub.execute_input": "2023-01-19T05:20:26.106090Z",
     "iopub.status.busy": "2023-01-19T05:20:26.105928Z",
     "iopub.status.idle": "2023-01-19T05:20:26.872573Z",
     "shell.execute_reply": "2023-01-19T05:20:26.872060Z",
     "shell.execute_reply.started": "2023-01-19T05:20:26.106070Z"
    },
    "tags": []
   },
   "outputs": [
    {
     "data": {
      "application/vnd.jupyter.widget-view+json": {
       "model_id": "1b701662864e46439c437448d7452c5a",
       "version_major": 2,
       "version_minor": 0
      },
      "text/plain": [
       "VBox()"
      ]
     },
     "metadata": {},
     "output_type": "display_data"
    },
    {
     "data": {
      "application/vnd.jupyter.widget-view+json": {
       "model_id": "",
       "version_major": 2,
       "version_minor": 0
      },
      "text/plain": [
       "FloatProgress(value=0.0, bar_style='info', description='Progress:', layout=Layout(height='25px', width='50%'),…"
      ]
     },
     "metadata": {},
     "output_type": "display_data"
    }
   ],
   "source": [
    "Q400_512WPS_2 = spark.sql('''\n",
    "\n",
    "                        SELECT \n",
    "                        \n",
    "                            DISTINCT\n",
    "                        \n",
    "                               Cast(ChocksOff as Date) AS FlightDate,\n",
    "                               \n",
    "                               TailNo,\n",
    "                               \n",
    "                               Departure,\n",
    "                               \n",
    "                               ChocksOff,\n",
    "                               \n",
    "                               date_format(ChocksOff, 'HH:mm:ss') AS Actual_DEP_Time,\n",
    "                               \n",
    "                               Arrival,\n",
    "                               \n",
    "                               date_format(ChocksOn, 'HH:mm:ss') AS Actual_ARR_Time,\n",
    "                               \n",
    "                               (bigint(to_timestamp(ChocksOn)) - bigint(to_timestamp(ChocksOff))) / 60 AS BlockTime_ARMS, \n",
    "                               \n",
    "                               CONCAT(Departure, '-', Arrival) AS Sector,\n",
    "                                                    \n",
    "                               desigflightnumber AS FlightNo,\n",
    "                               \n",
    "                               Date,\n",
    "                               \n",
    "                               ECN,\n",
    "                               \n",
    "                               UTC_TIMEDATE,\n",
    "                               \n",
    "                               CAST(SUM((CAST (`FUEL-FLOW-2-kg-h` AS INT) + CAST (`FUEL-FLOW-1-kg-h` AS INT))) OVER (PARTITION BY ECN, UTC_TIMEDATE, Filename) / 3600 AS INT) AS FuelConsumed,\n",
    "                               \n",
    "                               FileName,\n",
    "                               \n",
    "                               loadeddate,\n",
    "                               \n",
    "                               year,\n",
    "                               \n",
    "                               month\n",
    "                               \n",
    "                              FROM precogdb.q400512wps\n",
    "                        \n",
    "                        WHERE FlightDate > '2022-10-31'\n",
    "                        \n",
    "                        --AND  CAST(LoadedDate AS DATE) = CAST (current_timestamp AS DATE)\n",
    "                        \n",
    "                        AND `Rad-Alt` NOT LIKE '%*%'\n",
    "                        \n",
    "                        AND `Rad-Alt` <> ''\n",
    "                        \n",
    "                        AND UTC_TIMEDATE BETWEEN (ChocksOff - INTERVAL 360 MINUTES) AND (ChocksOff - INTERVAL 300 MINUTES)\n",
    "             \n",
    "                        ''')\n",
    "\n",
    "Q400_512WPS_2.createOrReplaceTempView('Q400_512WPS_2')"
   ]
  },
  {
   "cell_type": "code",
   "execution_count": 7,
   "id": "b018d389-8e47-487e-bb5a-c5ffbb56b377",
   "metadata": {
    "execution": {
     "iopub.execute_input": "2023-01-19T05:20:26.873574Z",
     "iopub.status.busy": "2023-01-19T05:20:26.873408Z",
     "iopub.status.idle": "2023-01-19T05:20:26.923524Z",
     "shell.execute_reply": "2023-01-19T05:20:26.923065Z",
     "shell.execute_reply.started": "2023-01-19T05:20:26.873554Z"
    },
    "tags": []
   },
   "outputs": [
    {
     "data": {
      "application/vnd.jupyter.widget-view+json": {
       "model_id": "e4f1d38d0fba4fc6b6ca7d38327b4bc7",
       "version_major": 2,
       "version_minor": 0
      },
      "text/plain": [
       "VBox()"
      ]
     },
     "metadata": {},
     "output_type": "display_data"
    },
    {
     "data": {
      "application/vnd.jupyter.widget-view+json": {
       "model_id": "",
       "version_major": 2,
       "version_minor": 0
      },
      "text/plain": [
       "FloatProgress(value=0.0, bar_style='info', description='Progress:', layout=Layout(height='25px', width='50%'),…"
      ]
     },
     "metadata": {},
     "output_type": "display_data"
    }
   ],
   "source": [
    "#Q400_512WPS_2.show(truncate = False)"
   ]
  },
  {
   "cell_type": "code",
   "execution_count": 8,
   "id": "57d39f8b-7cc5-4cd4-af78-bca6c5771794",
   "metadata": {
    "execution": {
     "iopub.execute_input": "2023-01-19T05:20:26.924378Z",
     "iopub.status.busy": "2023-01-19T05:20:26.924223Z",
     "iopub.status.idle": "2023-01-19T05:20:27.180331Z",
     "shell.execute_reply": "2023-01-19T05:20:27.179771Z",
     "shell.execute_reply.started": "2023-01-19T05:20:26.924359Z"
    },
    "tags": []
   },
   "outputs": [
    {
     "data": {
      "application/vnd.jupyter.widget-view+json": {
       "model_id": "8bf7ee34ce404ed893a7608096663fd3",
       "version_major": 2,
       "version_minor": 0
      },
      "text/plain": [
       "VBox()"
      ]
     },
     "metadata": {},
     "output_type": "display_data"
    },
    {
     "data": {
      "application/vnd.jupyter.widget-view+json": {
       "model_id": "",
       "version_major": 2,
       "version_minor": 0
      },
      "text/plain": [
       "FloatProgress(value=0.0, bar_style='info', description='Progress:', layout=Layout(height='25px', width='50%'),…"
      ]
     },
     "metadata": {},
     "output_type": "display_data"
    }
   ],
   "source": [
    "Q400_512WPS_2_1 = spark.sql('''\n",
    "\n",
    "                        SELECT a.*,b.Blocktime_DFDR\n",
    "                        \n",
    "                        FROM Q400_512WPS_2 a \n",
    "                        \n",
    "                        left JOIN Q400_Time b\n",
    "                        \n",
    "                        ON a.filename = b.filename\n",
    "                    ''')\n",
    "\n",
    "Q400_512WPS_2_1.createOrReplaceTempView('Q400_512WPS_2_1')"
   ]
  },
  {
   "cell_type": "code",
   "execution_count": 9,
   "id": "403f17fb-cc67-4480-9cb9-4bb693d07c4f",
   "metadata": {
    "execution": {
     "iopub.execute_input": "2023-01-19T05:20:27.181645Z",
     "iopub.status.busy": "2023-01-19T05:20:27.181484Z",
     "iopub.status.idle": "2023-01-19T05:20:27.228927Z",
     "shell.execute_reply": "2023-01-19T05:20:27.228466Z",
     "shell.execute_reply.started": "2023-01-19T05:20:27.181625Z"
    },
    "tags": []
   },
   "outputs": [
    {
     "data": {
      "application/vnd.jupyter.widget-view+json": {
       "model_id": "c30c2ab06ba04e898383751f8a84a975",
       "version_major": 2,
       "version_minor": 0
      },
      "text/plain": [
       "VBox()"
      ]
     },
     "metadata": {},
     "output_type": "display_data"
    },
    {
     "data": {
      "application/vnd.jupyter.widget-view+json": {
       "model_id": "",
       "version_major": 2,
       "version_minor": 0
      },
      "text/plain": [
       "FloatProgress(value=0.0, bar_style='info', description='Progress:', layout=Layout(height='25px', width='50%'),…"
      ]
     },
     "metadata": {},
     "output_type": "display_data"
    }
   ],
   "source": [
    "#Q400_512WPS_2_1.show(truncate = False)"
   ]
  },
  {
   "cell_type": "code",
   "execution_count": 10,
   "id": "0cb7da3e-b172-45e2-b19f-4211842811a7",
   "metadata": {
    "execution": {
     "iopub.execute_input": "2023-01-19T05:20:32.230022Z",
     "iopub.status.busy": "2023-01-19T05:20:32.229798Z",
     "iopub.status.idle": "2023-01-19T05:22:05.967169Z",
     "shell.execute_reply": "2023-01-19T05:22:05.966540Z",
     "shell.execute_reply.started": "2023-01-19T05:20:32.229999Z"
    },
    "tags": []
   },
   "outputs": [
    {
     "data": {
      "application/vnd.jupyter.widget-view+json": {
       "model_id": "3ed2276ae97f42229e69fff1ed6b3fbb",
       "version_major": 2,
       "version_minor": 0
      },
      "text/plain": [
       "VBox()"
      ]
     },
     "metadata": {},
     "output_type": "display_data"
    },
    {
     "data": {
      "application/vnd.jupyter.widget-view+json": {
       "model_id": "",
       "version_major": 2,
       "version_minor": 0
      },
      "text/plain": [
       "FloatProgress(value=0.0, bar_style='info', description='Progress:', layout=Layout(height='25px', width='50%'),…"
      ]
     },
     "metadata": {},
     "output_type": "display_data"
    },
    {
     "name": "stdout",
     "output_type": "stream",
     "text": [
      "+-------------+----------+------+-------------------+--------------------------------------------------------+\n",
      "|TouchDownTime|flightdate|ECN   |UTC_TIMEDATE       |Filename                                                |\n",
      "+-------------+----------+------+-------------------+--------------------------------------------------------+\n",
      "|92852        |2022-11-02|105317|2022-11-02 07:39:38|ALL ac=VT-SQJ dep=BLR arr=SAG fn=SG 4005 dt=20221102.csv|\n",
      "|130119       |2023-01-03|105317|2023-01-03 11:25:40|ALL ac=VT-SUR dep=SAG arr=BLR fn=SG 4004 dt=20230103.csv|\n",
      "|73529        |2022-12-09|106102|2022-12-09 06:47:32|ALL ac=VT-SUR dep=HJR arr=VNS fn=SG 2931 dt=20221209.csv|\n",
      "|94727        |2022-11-01|106235|2022-11-01 08:30:20|ALL ac=VT-SQG dep=DEL arr=JDH fn=SG 2905 dt=20221101.csv|\n",
      "|92420        |2023-01-12|106869|2023-01-12 08:19:08|ALL ac=VT-SQG dep=DHM arr=DEL fn=SG 3236 dt=20230112.csv|\n",
      "|55443        |2023-01-13|107167|2023-01-13 04:34:24|ALL ac=VT-SUR dep=HYD arr=SAG fn=SG 4003 dt=20230113.csv|\n",
      "|20811        |2023-01-01|107278|2023-01-01 00:49:08|ALL ac=VT-SQC dep=DEL arr=JDH fn=SG 2905 dt=20230101.csv|\n",
      "|100459       |2023-01-08|107278|2023-01-08 08:51:04|ALL ac=VT-SQC dep=DHM arr=DEL fn=SG 2346 dt=20230108.csv|\n",
      "|113041       |2022-11-09|108277|2022-11-09 10:19:29|ALL ac=VT-SQA dep=DHM arr=DEL fn=SG 3236 dt=20221109.csv|\n",
      "|93321        |2022-11-26|108277|2022-11-26 08:20:57|ALL ac=VT-SQG dep=DHM arr=DEL fn=SG 3236 dt=20221126.csv|\n",
      "|35419        |2022-12-08|108315|2022-12-08 03:56:18|ALL ac=VT-SQC dep=DEL arr=VNS fn=SG 2950 dt=20221208.csv|\n",
      "|101728       |2022-11-07|108515|2022-11-07 09:25:03|ALL ac=VT-SQJ dep=PNY arr=BLR fn=SG 3999 dt=20221107.csv|\n",
      "|100305       |2022-11-24|108515|2022-11-24 08:40:41|ALL ac=VT-SQJ dep=HYD arr=SAG fn=SG 4003 dt=20221124.csv|\n",
      "|0            |2022-12-25|108515|2022-12-25 14:25:34|ALL ac=VT-SQB dep=HYD arr=ISK fn=SG 1006 dt=20221225.csv|\n",
      "|52543        |2022-11-25|108518|2022-11-25 04:26:07|ALL ac=VT-SUR dep=DEL arr=KNU fn=SG 2745 dt=20221125.csv|\n",
      "|113533       |2023-01-10|108518|2023-01-10 09:55:47|ALL ac=VT-SQA dep=DEL arr=JSA fn=SG 3757 dt=20230110.csv|\n",
      "|135149       |2022-11-04|108527|2022-11-04 11:59:39|ALL ac=VT-SQG dep=IXY arr=DEL fn=SG 2349 dt=20221104.csv|\n",
      "|141336       |2022-11-23|108527|2022-11-23 14:17:59|ALL ac=VT-SQB dep=VNS arr=DEL fn=SG 2990 dt=20221123.csv|\n",
      "|35720        |2022-12-19|108530|2022-12-19 01:59:58|ALL ac=VT-SQE dep=TIR arr=BOM fn=SG 2697 dt=20221219.csv|\n",
      "|64107        |2022-12-02|109603|2022-12-02 05:12:52|ALL ac=VT-SUR dep=DEL arr=HJR fn=SG 2931 dt=20221202.csv|\n",
      "+-------------+----------+------+-------------------+--------------------------------------------------------+\n",
      "only showing top 20 rows\n",
      "\n",
      "+----------+------+---------+---------------+-------------+--------------+-------+-------+---------------+--------------+--------------+----------+--------+----------+------------+------------------------------------------------------------+-----------------------+----+--------+\n",
      "|flightdate|TailNo|Departure|Actual_DEP_Time|Airborne_Time|Touchdown_Time|Arrival|Sector |Actual_ARR_Time|Blocktime_ARMS|Blocktime_DFDR|FlightTime|FlightNo|Date      |FuelConsumed|FileName                                                    |loadeddate             |year|month   |\n",
      "+----------+------+---------+---------------+-------------+--------------+-------+-------+---------------+--------------+--------------+----------+--------+----------+------------+------------------------------------------------------------+-----------------------+----+--------+\n",
      "|2022-11-04|VT-SQG|IXY      |13:32:00       |13:43:14     |14:53:34      |BOM    |IXY-BOM|15:02:00       |90.0          |83            |70        |SG 2904 |2022-11-04|1269        |ALL ac=VT-SQG dep=IXY arr=BOM fn=SG 2904 dt=20221104.csv    |2022-12-22 11:39:39.882|2022|November|\n",
      "|2022-11-25|VT-SQB|JSA      |20:25:00       |20:28:47     |21:49:23      |DEL    |JSA-DEL|22:05:00       |100.0         |92            |80        |SG 3758 |2022-11-25|1474        |ALL ac=VT-SQB dep=JSA arr=DEL fn=SG 3758 dt=20221125.csv    |2022-12-22 11:48:52.4  |2022|November|\n",
      "|2023-01-12|VT-SQA|DEL      |13:10:00       |13:22:18     |14:10:36      |KNU    |DEL-KNU|14:15:00       |65.0          |58            |48        |SG 2745 |2023-01-12|919         |ALL ac=VT-SQA dep=DEL arr=KNU fn=SG 2745 dt=20230112.csv    |2023-01-14 00:43:57.806|2023|January |\n",
      "|2022-11-27|VT-SQE|PNQ      |19:25:00       |19:43:04     |21:17:34      |TIR    |PNQ-TIR|21:25:00       |120.0         |109           |94        |SG 4052 |2022-11-27|1508        |ALL ac=VT-SQE dep=PNQ arr=TIR fn=SG 4052 dt=20221127.csv    |2022-12-22 11:49:40.554|2022|November|\n",
      "|2022-11-19|VT-SUR|UDR      |08:15:00       |08:23:23     |09:30:15      |DEL    |UDR-DEL|09:40:00       |85.0          |75            |66        |SG 2242 |2022-11-19|1187        |ALL ac=VT-SUR dep=UDR arr=DEL fn=SG 2242 dt=20221119.csv    |2022-12-22 11:46:17.475|2022|November|\n",
      "|2023-01-17|VT-SQA|DEL      |12:05:00       |12:22:30     |13:32:30      |KBK    |DEL-KBK|13:35:00       |90.0          |85            |70        |SG 2987 |2023-01-17|1267        |ALL ac=VT-SQA dep=DEL arr=KBK fn=SG 2987 dt=20230117.csv    |2023-01-19 00:42:35.199|2023|January |\n",
      "|2022-11-12|VT-SQJ|TIR      |16:45:00       |16:54:37     |17:52:02      |HYD    |TIR-HYD|18:00:00       |75.0          |70            |57        |SG 4051 |2022-11-12|1038        |ALL ac=VT-SQJ dep=TIR arr=HYD fn=SG 4051 dt=20221112.csv    |2022-12-22 11:43:24.01 |2022|November|\n",
      "|2022-12-16|VT-SQB|HYD      |18:20:00       |18:41:28     |19:36:25      |TIR    |HYD-TIR|19:40:00       |80.0          |76            |55        |SG 2917 |2022-12-16|1017        |ALL ac=VT-SQB dep=HYD arr=TIR fn=SG 2917 dt=20221216.csv    |2022-12-22 11:57:47.908|2022|December|\n",
      "|2023-01-05|VT-SQC|DEL      |17:05:00       |17:19:51     |19:08:28      |RAJ    |DEL-RAJ|19:20:00       |135.0         |128           |108       |SG 3755 |2023-01-05|1879        |ALL ac=VT-SQC dep=DEL arr=RAJ fn=SG 3755 dt=20230105.csv    |2023-01-14 00:43:57.806|2023|January |\n",
      "|2022-12-24|VT-SQG|JLR      |08:30:00       |08:40:22     |10:23:59      |BOM    |JLR-BOM|10:35:00       |125.0         |119           |103       |SG 3440 |2022-12-24|1805        |ALL ac=VT-SQG dep=JLR arr=BOM fn=SG 3440 dt=20221224.csv    |2022-12-26 01:42:48.516|2022|December|\n",
      "|2023-01-02|VT-SQG|BOM      |14:05:00       |15:30:00     |16:13:20      |TIR    |BOM-TIR|16:17:00       |132.0         |131           |103       |SG 3749 |2023-01-02|1794        |ALL ac=VT-SQG dep=BOM arr=TIR fn=SG 3749 dt=20230102.csv    |2023-01-04 00:41:40.031|2023|January |\n",
      "|2022-12-19|VT-SQG|JAI      |06:00:00       |06:30:03     |07:16:00      |AMD    |JAI-AMD|07:25:00       |85.0          |78            |64        |SG 3762 |2022-12-19|1163        |ALL ac=VT-SQG dep=JAI arr=AMD fn=SEJ3J62 dt=20221219.csv    |2022-12-22 11:58:39.055|2022|December|\n",
      "|2022-12-13|VT-SQB|SAG      |11:50:00       |12:06:43     |14:00:16      |TIR    |SAG-TIR|14:05:00       |135.0         |132           |113       |SG 4006 |2022-12-13|1845        |ALL ac=VT-SQB dep=SAG arr=TIR fn=SG 4006 dt=20221213.csv    |2022-12-22 11:56:39.045|2022|December|\n",
      "|2022-12-14|VT-SUR|AMD      |08:15:00       |08:20:02     |09:18:39      |JAI    |AMD-JAI|09:25:00       |70.0          |68            |58        |SG 9977 |2022-12-14|992         |ALL ac=VT-SUR dep=AMD arr=JAI fn=SG 9977 dt=20221214.csv    |2022-12-22 11:56:59.919|2022|December|\n",
      "|2022-11-03|VT-SQG|DHM      |14:00:00       |14:17:56     |15:23:08      |DEL    |DHM-DEL|15:30:00       |90.0          |77            |65        |SG 3236 |2022-11-03|1202        |ALL ac=VT-SQG dep=DHM arr=DEL fn=SG 3236 dt=20221103.csv    |2022-12-22 11:39:13.706|2022|November|\n",
      "|2023-01-16|VT-SUR|GOI      |18:25:00       |18:49:55     |20:20:10      |HYD    |GOI-HYD|20:35:00       |130.0         |114           |90        |SG 4008 |2023-01-16|1375        |ALL ac=VT-SUR dep=GOI arr=HYD fn=SG 4008 dt=20230116.csv    |2023-01-18 00:42:41.591|2023|January |\n",
      "|2022-12-04|VT-SQA|HYD      |06:05:00       |06:30:03     |07:16:53      |TIR    |HYD-TIR|07:20:00       |75.0          |73            |56        |SG 2696 |2022-12-04|1009        |ALL ac=VT-SQA dep=HYD arr=TIR fn=SEJ2J96 dt=20221204.csv    |2022-12-22 11:52:13.308|2022|December|\n",
      "|2022-12-18|VT-SQG|GOI      |14:34:00       |15:30:03     |16:14:57      |RAJ    |GOI-RAJ|16:19:00       |105.0         |102           |94        |SG 3702 |2022-12-18|1564        |ALL ac=VT-SQG dep=GOI arr=RAJ fn=SEJ3J02 dt=20221218.csv    |2022-12-22 11:58:39.055|2022|December|\n",
      "|2023-01-02|VT-SQB|JLR      |17:40:00       |17:46:09     |19:13:12      |PNQ    |JLR-PNQ|19:20:00       |100.0         |97            |87        |SG 3013 |2023-01-02|1665        |ALL _1_ ac=VT-SQB dep=JLR arr=PNQ fn=SG 3013 dt=20230102.csv|2023-01-04 00:41:40.031|2023|January |\n",
      "|2022-11-28|VT-SQA|UDR      |08:35:00       |08:44:56     |09:54:44      |DEL    |UDR-DEL|10:00:00       |85.0          |80            |69        |SG 2242 |2022-11-28|1214        |ALL ac=VT-SQA dep=UDR arr=DEL fn=SG 2242 dt=20221128.csv    |2022-12-22 11:50:04.974|2022|November|\n",
      "+----------+------+---------+---------------+-------------+--------------+-------+-------+---------------+--------------+--------------+----------+--------+----------+------------+------------------------------------------------------------+-----------------------+----+--------+\n",
      "only showing top 20 rows"
     ]
    }
   ],
   "source": [
    "Q400_512WPS_3 = spark.sql('''\n",
    "\n",
    "                SELECT MIN(`Time-Per-Sec`) AS AirborneTime,\n",
    "                \n",
    "                ECN,\n",
    "                        \n",
    "                UTC_TIMEDATE,\n",
    "                \n",
    "                flightdate,\n",
    "                \n",
    "                Filename\n",
    "                \n",
    "                FROM precogdb.q400512wps\n",
    "                \n",
    "                WHERE FlightDate > '2022-10-31'\n",
    "                        \n",
    "                AND `Rad-Alt` NOT LIKE '%*%'\n",
    "                        \n",
    "                AND `Rad-Alt` <> ''\n",
    "                        \n",
    "                AND `WOW-MLG` = 'Air (0)'\n",
    "\n",
    "                --AND  CAST(LoadedDate AS DATE) = CAST (current_timestamp AS DATE)\n",
    "\n",
    "                GROUP BY ECN,\n",
    "                        \n",
    "                        UTC_TIMEDATE,flightdate,Filename\n",
    "''')\n",
    "\n",
    "Q400_512WPS_3.createOrReplaceTempView('Q400_512WPS_3')\n",
    "\n",
    "Q400_512WPS_3_1 = spark.sql('''SELECT MIN(`Time-Per-Sec`) AS TouchDownTime,\n",
    "                \n",
    "                flightdate,\n",
    "                \n",
    "                ECN,\n",
    "                        \n",
    "                UTC_TIMEDATE,\n",
    "                \n",
    "                Filename\n",
    "                \n",
    "                FROM precogdb.q400512wps\n",
    "                \n",
    "                WHERE FlightDate > '2022-10-31'\n",
    "                        \n",
    "                AND `Rad-Alt` NOT LIKE '%*%'\n",
    "                        \n",
    "                AND `Rad-Alt` <> ''\n",
    "                \n",
    "                AND `WOW-MLG` = 'GROUND (1)'\n",
    "                \n",
    "                AND `time-per-sec` NOT LIKE '%*%'\n",
    "                \n",
    "                AND `time-in-secs` > 2500\n",
    "                        \n",
    "                --AND  CAST(LoadedDate AS DATE) = CAST (current_timestamp AS DATE)\n",
    "\n",
    "                GROUP BY ECN,\n",
    "                        \n",
    "                        UTC_TIMEDATE,flightdate,Filename ''')\n",
    "\n",
    "Q400_512WPS_3_1.createOrReplaceTempView('Q400_512WPS_3_1')\n",
    "\n",
    "Q400_512WPS_3_2 = spark.sql('''\n",
    "\n",
    "            SELECT a.ECN, a.UTC_TIMEDATE, a.AirborneTime, b.TouchDownTime, a.Filename, a.Flightdate\n",
    "            FROM Q400_512WPS_3 a \n",
    "            JOIN Q400_512WPS_3_1 b on a.Filename = b.Filename\n",
    "            AND a.Flightdate = b.Flightdate\n",
    "''')\n",
    "\n",
    "Q400_512WPS_3_2.createOrReplaceTempView('Q400_512WPS_3_2')\n",
    "\n",
    "Q400_512WPS_4 = spark.sql('''\n",
    "\n",
    "                            SELECT ECN, UTC_TIMEDATE, filename, flightdate,\n",
    "                            \n",
    "                            CASE \n",
    "                                WHEN LENGTH(CAST(`AirborneTime` as String)) = 1 THEN CONCAT('00000',CAST(`AirborneTime` as String)) \n",
    "                                WHEN LENGTH(CAST(`AirborneTime` as String)) = 2 THEN CONCAT('0000',CAST(`AirborneTime` as String)) \n",
    "                                WHEN LENGTH(CAST(`AirborneTime` as String)) = 3 THEN CONCAT('000',CAST(`AirborneTime` as String))\n",
    "                                WHEN LENGTH(CAST(`AirborneTime` as String)) = 4 THEN CONCAT('00',CAST(`AirborneTime` as String)) \n",
    "                                WHEN LENGTH(CAST(`AirborneTime` as String)) = 5 THEN CONCAT('0',CAST(`AirborneTime` as String))\n",
    "                                ELSE `AirborneTime`\n",
    "                            END As AirborneTime,\n",
    "                            CASE \n",
    "                                WHEN LENGTH(CAST(`TouchdownTime` as String)) = 1 THEN CONCAT('00000',CAST(`TouchdownTime` as String)) \n",
    "                                WHEN LENGTH(CAST(`TouchdownTime` as String)) = 2 THEN CONCAT('0000',CAST(`TouchdownTime` as String)) \n",
    "                                WHEN LENGTH(CAST(`TouchdownTime` as String)) = 3 THEN CONCAT('000',CAST(`TouchdownTime` as String))\n",
    "                                WHEN LENGTH(CAST(`TouchdownTime` as String)) = 4 THEN CONCAT('00',CAST(`TouchdownTime` as String)) \n",
    "                                WHEN LENGTH(CAST(`TouchdownTime` as String)) = 5 THEN CONCAT('0',CAST(`TouchdownTime` as String))\n",
    "                                ELSE `TouchdownTime`\n",
    "                            END As TouchdownTime\n",
    "                            \n",
    "                                                                \n",
    "                            FROM Q400_512WPS_3_2\n",
    "                                                \n",
    "                    ''')\n",
    "\n",
    "Q400_512WPS_4.createOrReplaceTempView('Q400_512WPS_4')\n",
    "\n",
    "Q400_512WPS_5 = Q400_512WPS_4.withColumn(\"AirborneTime\", regexp_replace(col(\"AirborneTime\") , \"(\\\\d{2})(\\\\d{2})(\\\\d{2})\" , \"$1:$2:$3\" )) \\\n",
    "                            .withColumn(\"TouchdownTime\", regexp_replace(col(\"TouchdownTime\") , \"(\\\\d{2})(\\\\d{2})(\\\\d{2})\" , \"$1:$2:$3\" ))\n",
    "\n",
    "Q400_512WPS_5.createOrReplaceTempView('Q400_512WPS_5')\n",
    "\n",
    "Q400_512WPS_6 = spark.sql('''\n",
    "\n",
    "                SELECT to_timestamp(concat(flightdate,' ',AirborneTime)) AS Airborne_Time,\n",
    "                \n",
    "                to_timestamp(concat(flightdate,' ',TouchdownTime)) AS Touchdown_Time,\n",
    "                \n",
    "                Filename,\n",
    "                \n",
    "                ECN, \n",
    "                \n",
    "                UTC_TIMEDATE\n",
    "                \n",
    "                FROM Q400_512WPS_5\n",
    "\n",
    "\n",
    "''')\n",
    "\n",
    "Q400_512WPS_6.createOrReplaceTempView('Q400_512WPS_6')\n",
    "\n",
    "Q400_512WPS_3_1.show(truncate = False)\n",
    "\n",
    "Q400_512WPS_7 = spark.sql('''\n",
    "\n",
    "                SELECT (Airborne_Time + INTERVAL 330 MINUTES) AS AirborneTime, \n",
    "                \n",
    "                (Touchdown_Time + INTERVAL 330 MINUTES) AS TouchdownTime,\n",
    "                \n",
    "                Filename,\n",
    "                \n",
    "                ECN, UTC_TIMEDATE\n",
    "                \n",
    "                FROM Q400_512WPS_6\n",
    "                \n",
    "                ''')\n",
    "\n",
    "Q400_512WPS_8 = Q400_512WPS_7.withColumn('Airborne_Time', date_format('AirborneTime', 'HH:mm:ss')) \\\n",
    "                            .withColumn('Touchdown_Time', date_format('TouchdownTime', 'HH:mm:ss'))\n",
    "\n",
    "Q400_512WPS_8.createOrReplaceTempView('Q400_512WPS_8')#show(truncate = False)\n",
    "\n",
    "Q400_FOB_1 = spark.sql('''\n",
    "\n",
    "                    SELECT \n",
    "                    \n",
    "                    b.flightdate,\n",
    "                               \n",
    "                               b.TailNo,\n",
    "                               \n",
    "                               b.Departure,\n",
    "                               \n",
    "                               b.Actual_DEP_Time,\n",
    "                               \n",
    "                               c.Airborne_Time,\n",
    "                               \n",
    "                               c.Touchdown_Time,\n",
    "                               \n",
    "                               b.Arrival,\n",
    "                               \n",
    "                               b.Sector,\n",
    "                               \n",
    "                               b.Actual_ARR_Time,\n",
    "                               \n",
    "                               b.Blocktime_ARMS,\n",
    "                               \n",
    "                               b.Blocktime_DFDR,\n",
    "                               \n",
    "                               a.FlightTime,\n",
    "                                                    \n",
    "                               b.FlightNo,\n",
    "                               \n",
    "                               b.Date,\n",
    "                               \n",
    "                               b.FuelConsumed,\n",
    "                               \n",
    "                               b.FileName,\n",
    "                               \n",
    "                               b.loadeddate,\n",
    "                               \n",
    "                               b.year,\n",
    "                               \n",
    "                               b.month\n",
    "                               \n",
    "                               FROM Q400_512WPS_1 a\n",
    "                               \n",
    "                               INNER JOIN Q400_512WPS_2_1 b\n",
    "                               \n",
    "                               INNER JOIN Q400_512WPS_8 c\n",
    "                               \n",
    "                               on a.filename = b.filename\n",
    "                               \n",
    "                               and a.ECN = b.ECN\n",
    "                               \n",
    "                               and a.UTC_TIMEDATE = b.UTC_TIMEDATE\n",
    "                               \n",
    "                               and a.filename = c.filename\n",
    "                               \n",
    "                               and a.ECN = c.ECN\n",
    "                               \n",
    "                               and a.UTC_TIMEDATE = c.UTC_TIMEDATE\n",
    "                               \n",
    "                               --where a.filename = 'ALL ac=VT-SUQ dep=PNY arr=HYD fn=SG 3997 dt=20221122.csv'\n",
    "                               \n",
    "                               \n",
    "                               \n",
    "                               ''')\n",
    "\n",
    "Q400_FOB_1.createOrReplaceTempView('Q400_FOB_1')\n",
    "\n",
    "Q400_FOB_1.show(truncate=False)\n",
    "\n",
    "Q400_FOB = spark.sql('''\n",
    "\n",
    "    SELECT \n",
    "                    \n",
    "                    flightdate,\n",
    "                               \n",
    "                               TailNo,\n",
    "                               \n",
    "                               Departure,\n",
    "                               \n",
    "                               Actual_DEP_Time,\n",
    "                               \n",
    "                               Airborne_Time,\n",
    "                               \n",
    "                               Touchdown_Time,\n",
    "                               \n",
    "                               Arrival,\n",
    "                               \n",
    "                               Sector,\n",
    "                               \n",
    "                               Actual_ARR_Time,\n",
    "                               \n",
    "                               CONCAT( CASE \n",
    "                                    WHEN LENGTH ( CAST(CAST(Blocktime_ARMS / 60 AS INT) AS STRING)) =1\n",
    "                                    THEN CONCAT('0',CAST(CAST(Blocktime_ARMS / 60 AS INT) AS STRING))\n",
    "                                    ELSE CAST(CAST(Blocktime_ARMS / 60 AS INT) AS STRING)\n",
    "                                END,\n",
    "                                ':',\n",
    "                                CASE \n",
    "                                    WHEN LENGTH ( CAST(CAST(Blocktime_ARMS % 60 AS INT) AS STRING)) =1\n",
    "                                    THEN CONCAT('0',CAST(CAST(Blocktime_ARMS % 60 AS INT) AS STRING))\n",
    "                                    ELSE CAST(CAST(Blocktime_ARMS % 60 AS INT) AS STRING)\n",
    "                                END ) AS BlockTime_ARMS,\n",
    "                               \n",
    "                                CONCAT( CASE \n",
    "                                    WHEN LENGTH ( CAST(CAST(Blocktime_DFDR / 60 AS INT) AS STRING)) =1\n",
    "                                    THEN CONCAT('0',CAST(CAST(Blocktime_DFDR / 60 AS INT) AS STRING))\n",
    "                                    ELSE CAST(CAST(Blocktime_DFDR / 60 AS INT) AS STRING)\n",
    "                                END,\n",
    "                                ':',\n",
    "                                CASE \n",
    "                                    WHEN LENGTH ( CAST(CAST(Blocktime_DFDR % 60 AS INT) AS STRING)) =1\n",
    "                                    THEN CONCAT('0',CAST(CAST(Blocktime_DFDR % 60 AS INT) AS STRING))\n",
    "                                    ELSE CAST(CAST(Blocktime_DFDR % 60 AS INT) AS STRING)\n",
    "                                END ) AS BlockTime_DFDR,\n",
    "                               \n",
    "                                CONCAT( CASE \n",
    "                                    WHEN LENGTH ( CAST(CAST(FlightTime / 60 AS INT) AS STRING)) =1\n",
    "                                    THEN CONCAT('0',CAST(CAST(FlightTime / 60 AS INT) AS STRING))\n",
    "                                    ELSE CAST(CAST(FlightTime / 60 AS INT) AS STRING)\n",
    "                                END,\n",
    "                                ':',\n",
    "                                CASE \n",
    "                                    WHEN LENGTH ( CAST(CAST(FlightTime % 60 AS INT) AS STRING)) =1\n",
    "                                    THEN CONCAT('0',CAST(CAST(FlightTime % 60 AS INT) AS STRING))\n",
    "                                    ELSE CAST(CAST(FlightTime % 60 AS INT) AS STRING)\n",
    "                                END ) AS FlightTime,\n",
    "                                                    \n",
    "                                FlightNo,\n",
    "                               \n",
    "                                Date,\n",
    "                               \n",
    "                                FuelConsumed,\n",
    "                               \n",
    "                                FileName,\n",
    "                               \n",
    "                                loadeddate,\n",
    "                               \n",
    "                                year,\n",
    "                               \n",
    "                                month\n",
    "\n",
    "                                FROM Q400_FOB_1\n",
    "    \n",
    "\n",
    "    \n",
    "    \n",
    "    ''')\n",
    "\n",
    "Q400_FOB.createOrReplaceTempView('Q400_FOB')\n",
    "\n",
    "SALTDF = spark.read \\\n",
    "  .format(\"jdbc\") \\\n",
    "  .option(\"driver\", \"com.microsoft.sqlserver.jdbc.SQLServerDriver\") \\\n",
    "  .option(\"url\", \"jdbc:sqlserver://10.150.72.22:1433;databaseName=SALT\") \\\n",
    "  .option(\"dbtable\", \"LoadAndTrimDetails\") \\\n",
    "  .option(\"user\", \"dmbigdata\") \\\n",
    "  .option(\"password\", \"$p!Ce@bigData$db\") \\\n",
    "  .load()\n",
    "\n",
    "SALTDF.createOrReplaceTempView('SALTDF')\n",
    "\n",
    "Q400FinalFOBDF = spark.sql('''\n",
    "\n",
    "                SELECT a.flightdate,\n",
    "                               \n",
    "                               a.TailNo,\n",
    "                               \n",
    "                               a.FlightNo,\n",
    "                               \n",
    "                               a.Sector,\n",
    "                               \n",
    "                               a.Departure,\n",
    "                               \n",
    "                               a.Actual_DEP_Time,\n",
    "                               \n",
    "                               a.Airborne_Time,\n",
    "                               \n",
    "                               a.Touchdown_Time,\n",
    "                               \n",
    "                               a.Arrival,\n",
    "                               \n",
    "                               a.Actual_ARR_Time,\n",
    "                               \n",
    "                               b.FOB,\n",
    "                               \n",
    "                               (CAST (b.FOB AS INT) + 105) AS DepartureFuel,\n",
    "                               \n",
    "                               a.FuelConsumed,\n",
    "                               \n",
    "                               a.BlockTime_ARMS,\n",
    "                               \n",
    "                               a.BlockTime_DFDR,\n",
    "                               \n",
    "                               a.FlightTime,\n",
    "                                                    \n",
    "                               ((CAST (b.FOB AS INT) + 105) - CAST (a.FuelConsumed AS INT)) AS ArrivalFuel,\n",
    "                               \n",
    "                               a.FileName,\n",
    "                               \n",
    "                               a.loadeddate,\n",
    "                               \n",
    "                               a.year,\n",
    "                               \n",
    "                               a.month,\n",
    "\n",
    "                               current_timestamp()   AS `ProcessedDate`\n",
    "\n",
    "                               \n",
    "                               \n",
    "                               \n",
    "                \n",
    "                FROM Q400_FOB a \n",
    "                \n",
    "                LEFT JOIN SALTDF b on a.FlightDate = CAST(b.FlightDate AS date)\n",
    "                \n",
    "                AND REPLACE(a.FlightNo,' ','') = b.FlightNo\n",
    "                \n",
    "                AND a.Departure = b.Source\n",
    "                \n",
    "                AND a.Arrival = b.Destination\n",
    "                \n",
    "                ''')"
   ]
  },
  {
   "cell_type": "code",
   "execution_count": 11,
   "id": "d4f049a7-40e2-4bfe-a5e6-474d2795dc69",
   "metadata": {
    "execution": {
     "iopub.execute_input": "2023-01-19T05:22:05.968283Z",
     "iopub.status.busy": "2023-01-19T05:22:05.968123Z",
     "iopub.status.idle": "2023-01-19T05:22:06.227519Z",
     "shell.execute_reply": "2023-01-19T05:22:06.226962Z",
     "shell.execute_reply.started": "2023-01-19T05:22:05.968263Z"
    },
    "tags": []
   },
   "outputs": [
    {
     "data": {
      "application/vnd.jupyter.widget-view+json": {
       "model_id": "de7b202591fd42bea5f6f1029f1db0d2",
       "version_major": 2,
       "version_minor": 0
      },
      "text/plain": [
       "VBox()"
      ]
     },
     "metadata": {},
     "output_type": "display_data"
    },
    {
     "data": {
      "application/vnd.jupyter.widget-view+json": {
       "model_id": "",
       "version_major": 2,
       "version_minor": 0
      },
      "text/plain": [
       "FloatProgress(value=0.0, bar_style='info', description='Progress:', layout=Layout(height='25px', width='50%'),…"
      ]
     },
     "metadata": {},
     "output_type": "display_data"
    }
   ],
   "source": [
    "Q400FinalFOBDF.createOrReplaceTempView('Q400FinalFOBDF')"
   ]
  },
  {
   "cell_type": "code",
   "execution_count": 12,
   "id": "df6d3d8f-4266-4ec0-851a-aa00d98bb978",
   "metadata": {
    "execution": {
     "iopub.execute_input": "2023-01-19T05:22:06.228822Z",
     "iopub.status.busy": "2023-01-19T05:22:06.228659Z",
     "iopub.status.idle": "2023-01-19T05:22:06.273334Z",
     "shell.execute_reply": "2023-01-19T05:22:06.272827Z",
     "shell.execute_reply.started": "2023-01-19T05:22:06.228802Z"
    },
    "tags": []
   },
   "outputs": [
    {
     "data": {
      "application/vnd.jupyter.widget-view+json": {
       "model_id": "d91ec62294ff45dd8a1f1dc7c542aa31",
       "version_major": 2,
       "version_minor": 0
      },
      "text/plain": [
       "VBox()"
      ]
     },
     "metadata": {},
     "output_type": "display_data"
    },
    {
     "data": {
      "application/vnd.jupyter.widget-view+json": {
       "model_id": "",
       "version_major": 2,
       "version_minor": 0
      },
      "text/plain": [
       "FloatProgress(value=0.0, bar_style='info', description='Progress:', layout=Layout(height='25px', width='50%'),…"
      ]
     },
     "metadata": {},
     "output_type": "display_data"
    }
   ],
   "source": [
    "#Q400FinalFOBDF.show(truncate = False)"
   ]
  },
  {
   "cell_type": "code",
   "execution_count": 13,
   "id": "a183f4c9-ea68-42c3-81c2-a946e93a78f7",
   "metadata": {
    "execution": {
     "iopub.execute_input": "2023-01-19T05:22:06.274463Z",
     "iopub.status.busy": "2023-01-19T05:22:06.274301Z",
     "iopub.status.idle": "2023-01-19T05:22:06.318656Z",
     "shell.execute_reply": "2023-01-19T05:22:06.318183Z",
     "shell.execute_reply.started": "2023-01-19T05:22:06.274441Z"
    },
    "tags": []
   },
   "outputs": [
    {
     "data": {
      "application/vnd.jupyter.widget-view+json": {
       "model_id": "4dfb596b66554438bac2923efa21edee",
       "version_major": 2,
       "version_minor": 0
      },
      "text/plain": [
       "VBox()"
      ]
     },
     "metadata": {},
     "output_type": "display_data"
    },
    {
     "data": {
      "application/vnd.jupyter.widget-view+json": {
       "model_id": "",
       "version_major": 2,
       "version_minor": 0
      },
      "text/plain": [
       "FloatProgress(value=0.0, bar_style='info', description='Progress:', layout=Layout(height='25px', width='50%'),…"
      ]
     },
     "metadata": {},
     "output_type": "display_data"
    }
   ],
   "source": [
    "FuelOnBoardFinal = spark.sql(''' SELECT \n",
    "                                       FlightDate\n",
    "                                      ,TailNo\n",
    "                                      ,FlightNo\n",
    "                                      ,Sector\n",
    "                                      ,Departure\n",
    "                                      ,Actual_DEP_time\n",
    "                                      ,Airborne_Time\n",
    "                                      ,Touchdown_Time\n",
    "                                      ,Arrival\n",
    "                                      ,Actual_ARR_time\n",
    "                                      ,fob\n",
    "                                      ,DepartureFuel\n",
    "                                      ,FuelConsumed\n",
    "                                      ,Blocktime_ARMS\n",
    "                                      ,Blocktime_DFDR\n",
    "                                      ,FlightTime\n",
    "                                      ,ArrivalFuel\n",
    "                                      ,FileName\n",
    "                                      ,LoadedDate\n",
    "                                      ,current_timestamp() AS `ProcessedDate`\n",
    "                                      ,Year\n",
    "                                      ,Month\n",
    "                                FROM Q400FinalFOBDF ''')"
   ]
  },
  {
   "cell_type": "code",
   "execution_count": 14,
   "id": "d4d8470c-a830-4af8-8919-9ae3e4f7b560",
   "metadata": {
    "execution": {
     "iopub.execute_input": "2023-01-19T05:22:06.319577Z",
     "iopub.status.busy": "2023-01-19T05:22:06.319418Z",
     "iopub.status.idle": "2023-01-19T05:23:45.938861Z",
     "shell.execute_reply": "2023-01-19T05:23:45.938374Z",
     "shell.execute_reply.started": "2023-01-19T05:22:06.319557Z"
    },
    "tags": []
   },
   "outputs": [
    {
     "data": {
      "application/vnd.jupyter.widget-view+json": {
       "model_id": "9dbeccbdf6094f3db04f8d867fcb725f",
       "version_major": 2,
       "version_minor": 0
      },
      "text/plain": [
       "VBox()"
      ]
     },
     "metadata": {},
     "output_type": "display_data"
    },
    {
     "data": {
      "application/vnd.jupyter.widget-view+json": {
       "model_id": "",
       "version_major": 2,
       "version_minor": 0
      },
      "text/plain": [
       "FloatProgress(value=0.0, bar_style='info', description='Progress:', layout=Layout(height='25px', width='50%'),…"
      ]
     },
     "metadata": {},
     "output_type": "display_data"
    }
   ],
   "source": [
    "FuelOnBoardFinal.write.mode('append').partitionBy(\"year\", \"month\").parquet('s3://sjet-datamart-bucket/FuelOnBoard/fuel-on-board-processed-q400/')"
   ]
  },
  {
   "cell_type": "code",
   "execution_count": 15,
   "id": "9d336995-cbeb-4fa0-b7d7-21f371507f5b",
   "metadata": {
    "execution": {
     "iopub.execute_input": "2023-01-19T05:23:45.939821Z",
     "iopub.status.busy": "2023-01-19T05:23:45.939659Z",
     "iopub.status.idle": "2023-01-19T05:24:47.404638Z",
     "shell.execute_reply": "2023-01-19T05:24:47.403882Z",
     "shell.execute_reply.started": "2023-01-19T05:23:45.939801Z"
    },
    "tags": []
   },
   "outputs": [
    {
     "data": {
      "application/vnd.jupyter.widget-view+json": {
       "model_id": "ef002330bd4646c5a014bf0a9172dc05",
       "version_major": 2,
       "version_minor": 0
      },
      "text/plain": [
       "VBox()"
      ]
     },
     "metadata": {},
     "output_type": "display_data"
    },
    {
     "data": {
      "application/vnd.jupyter.widget-view+json": {
       "model_id": "",
       "version_major": 2,
       "version_minor": 0
      },
      "text/plain": [
       "FloatProgress(value=0.0, bar_style='info', description='Progress:', layout=Layout(height='25px', width='50%'),…"
      ]
     },
     "metadata": {},
     "output_type": "display_data"
    }
   ],
   "source": [
    "FuelOnBoardFinal \\\n",
    "  .write \\\n",
    "  .format(\"jdbc\") \\\n",
    "  .mode(\"append\") \\\n",
    "  .option(\"driver\", \"com.microsoft.sqlserver.jdbc.SQLServerDriver\") \\\n",
    "  .option(\"url\", \"jdbc:sqlserver://10.150.72.22:1433;databaseName=FuelDashBoard\") \\\n",
    "  .option(\"dbtable\", \"FuelOnBoard_Q400STG\") \\\n",
    "  .option(\"user\", \"dmbigdata\") \\\n",
    "  .option(\"password\", \"$p!Ce@bigData$db\") \\\n",
    "  .save()"
   ]
  },
  {
   "cell_type": "code",
   "execution_count": 16,
   "id": "e7788e70-17a4-41b9-99e9-52837342946c",
   "metadata": {
    "execution": {
     "iopub.execute_input": "2023-01-19T05:24:47.405730Z",
     "iopub.status.busy": "2023-01-19T05:24:47.405562Z",
     "iopub.status.idle": "2023-01-19T05:25:30.833927Z",
     "shell.execute_reply": "2023-01-19T05:25:30.833376Z",
     "shell.execute_reply.started": "2023-01-19T05:24:47.405709Z"
    },
    "tags": []
   },
   "outputs": [
    {
     "data": {
      "application/vnd.jupyter.widget-view+json": {
       "model_id": "29420118fbe443ba8becc93a44c7137e",
       "version_major": 2,
       "version_minor": 0
      },
      "text/plain": [
       "VBox()"
      ]
     },
     "metadata": {},
     "output_type": "display_data"
    },
    {
     "data": {
      "application/vnd.jupyter.widget-view+json": {
       "model_id": "",
       "version_major": 2,
       "version_minor": 0
      },
      "text/plain": [
       "FloatProgress(value=0.0, bar_style='info', description='Progress:', layout=Layout(height='25px', width='50%'),…"
      ]
     },
     "metadata": {},
     "output_type": "display_data"
    },
    {
     "name": "stdout",
     "output_type": "stream",
     "text": [
      "2783"
     ]
    }
   ],
   "source": [
    "FuelOnBoardFinal.count()"
   ]
  },
  {
   "cell_type": "code",
   "execution_count": null,
   "id": "8b3659d3-48ee-444e-9227-2beecb1c0ecf",
   "metadata": {
    "tags": []
   },
   "outputs": [],
   "source": []
  },
  {
   "cell_type": "code",
   "execution_count": 17,
   "id": "178e65c5-50ba-4f6a-84ef-01b74a95b97e",
   "metadata": {
    "execution": {
     "iopub.execute_input": "2023-01-19T05:26:04.926080Z",
     "iopub.status.busy": "2023-01-19T05:26:04.925848Z",
     "iopub.status.idle": "2023-01-19T05:26:05.683852Z",
     "shell.execute_reply": "2023-01-19T05:26:05.683184Z",
     "shell.execute_reply.started": "2023-01-19T05:26:04.926056Z"
    },
    "tags": []
   },
   "outputs": [
    {
     "data": {
      "application/vnd.jupyter.widget-view+json": {
       "model_id": "06a03f1b5e69471a904da94a712f3698",
       "version_major": 2,
       "version_minor": 0
      },
      "text/plain": [
       "VBox()"
      ]
     },
     "metadata": {},
     "output_type": "display_data"
    },
    {
     "data": {
      "application/vnd.jupyter.widget-view+json": {
       "model_id": "",
       "version_major": 2,
       "version_minor": 0
      },
      "text/plain": [
       "FloatProgress(value=0.0, bar_style='info', description='Progress:', layout=Layout(height='25px', width='50%'),…"
      ]
     },
     "metadata": {},
     "output_type": "display_data"
    }
   ],
   "source": [
    "spark.stop()"
   ]
  },
  {
   "cell_type": "code",
   "execution_count": 1,
   "id": "d9f3cae7-dc06-4e28-be9c-8c26ea8749d5",
   "metadata": {
    "execution": {
     "iopub.execute_input": "2023-01-18T06:25:16.194209Z",
     "iopub.status.busy": "2023-01-18T06:25:16.193980Z",
     "iopub.status.idle": "2023-01-18T06:25:46.884272Z",
     "shell.execute_reply": "2023-01-18T06:25:46.883769Z",
     "shell.execute_reply.started": "2023-01-18T06:25:16.194183Z"
    }
   },
   "outputs": [
    {
     "data": {
      "application/vnd.jupyter.widget-view+json": {
       "model_id": "d1b4e4b9d9ed47d08fadd9d2c80ea726",
       "version_major": 2,
       "version_minor": 0
      },
      "text/plain": [
       "VBox()"
      ]
     },
     "metadata": {},
     "output_type": "display_data"
    },
    {
     "name": "stdout",
     "output_type": "stream",
     "text": [
      "Starting Spark application\n"
     ]
    },
    {
     "data": {
      "text/html": [
       "<table>\n",
       "<tr><th>ID</th><th>YARN Application ID</th><th>Kind</th><th>State</th><th>Spark UI</th><th>Driver log</th><th>Current session?</th></tr><tr><td>0</td><td>application_1674017527261_0029</td><td>pyspark</td><td>idle</td><td><a target=\"_blank\" href=\"http://ip-20-0-4-63.ap-south-1.compute.internal:20888/proxy/application_1674017527261_0029/\" class=\"emr-proxy-link\" emr-resource=\"j-ALEHMCQ9W5MR\n",
       "\" application-id=\"application_1674017527261_0029\">Link</a></td><td><a target=\"_blank\" href=\"http://ip-20-0-4-89.ap-south-1.compute.internal:8042/node/containerlogs/container_1674017527261_0029_01_000001/livy\" >Link</a></td><td>✔</td></tr></table>"
      ],
      "text/plain": [
       "<IPython.core.display.HTML object>"
      ]
     },
     "metadata": {},
     "output_type": "display_data"
    },
    {
     "data": {
      "application/vnd.jupyter.widget-view+json": {
       "model_id": "",
       "version_major": 2,
       "version_minor": 0
      },
      "text/plain": [
       "FloatProgress(value=0.0, bar_style='info', description='Progress:', layout=Layout(height='25px', width='50%'),…"
      ]
     },
     "metadata": {},
     "output_type": "display_data"
    },
    {
     "name": "stdout",
     "output_type": "stream",
     "text": [
      "SparkSession available as 'spark'.\n"
     ]
    },
    {
     "data": {
      "application/vnd.jupyter.widget-view+json": {
       "model_id": "",
       "version_major": 2,
       "version_minor": 0
      },
      "text/plain": [
       "FloatProgress(value=0.0, bar_style='info', description='Progress:', layout=Layout(height='25px', width='50%'),…"
      ]
     },
     "metadata": {},
     "output_type": "display_data"
    }
   ],
   "source": [
    "df1 = spark.read.parquet('s3://sjet-datamart-bucket/FuelOnBoard/fuel-on-board-processed-q400/year=2023/month=January/part-00000-700249a6-092a-4129-b110-06215f322b1f.c000.snappy.parquet')"
   ]
  },
  {
   "cell_type": "code",
   "execution_count": 2,
   "id": "1dc70536-e9e3-4af6-987b-6e136e754da5",
   "metadata": {
    "execution": {
     "iopub.execute_input": "2023-01-18T06:25:48.563634Z",
     "iopub.status.busy": "2023-01-18T06:25:48.563419Z",
     "iopub.status.idle": "2023-01-18T06:25:53.876202Z",
     "shell.execute_reply": "2023-01-18T06:25:53.875728Z",
     "shell.execute_reply.started": "2023-01-18T06:25:48.563613Z"
    }
   },
   "outputs": [
    {
     "data": {
      "application/vnd.jupyter.widget-view+json": {
       "model_id": "6971d2e957a54ec989e86fdd8be4dfdb",
       "version_major": 2,
       "version_minor": 0
      },
      "text/plain": [
       "VBox()"
      ]
     },
     "metadata": {},
     "output_type": "display_data"
    },
    {
     "data": {
      "application/vnd.jupyter.widget-view+json": {
       "model_id": "",
       "version_major": 2,
       "version_minor": 0
      },
      "text/plain": [
       "FloatProgress(value=0.0, bar_style='info', description='Progress:', layout=Layout(height='25px', width='50%'),…"
      ]
     },
     "metadata": {},
     "output_type": "display_data"
    },
    {
     "name": "stdout",
     "output_type": "stream",
     "text": [
      "+----------+------+--------+-------+---------+---------------+-------------+--------------+-------+---------------+--------+-------------+------------+--------------+--------------+----------+-----------+---------------------------------------------------------+-----------------------+-----------------------+\n",
      "|flightdate|tailno|flightno|sector |departure|actual_dep_time|airborne_time|touchdown_time|arrival|actual_arr_time|salt_fob|departurefuel|fuelconsumed|blocktime_arms|blocktime_dfdr|flighttime|arrivalfuel|filename                                                 |loadeddate             |processeddate          |\n",
      "+----------+------+--------+-------+---------+---------------+-------------+--------------+-------+---------------+--------+-------------+------------+--------------+--------------+----------+-----------+---------------------------------------------------------+-----------------------+-----------------------+\n",
      "|2023-01-13|VT-SUR|SG 1006 |HYD-ISK|HYD      |06:10:00       |06:32:08     |07:45:23      |ISK    |07:50:00       |4295    |4400         |1314        |01:40         |01:29         |01:13     |3086       |ALL ac=VT-SUR dep=HYD arr=ISK fn=SG 1006 dt=20230113.csv |2023-01-15 00:43:03.098|2023-01-17 09:12:18.462|\n",
      "|2023-01-09|VT-SUB|SG 1077 |AMD-PNQ|AMD      |05:55:00       |06:30:00     |07:04:16      |PNQ    |07:10:00       |2695    |2800         |1122        |01:15         |01:10         |01:00     |1678       |ALL ac=VT-SUB dep=AMD arr=PNQ fn=SEJ1077 dt=20230109.csv |2023-01-10 00:42:07.803|2023-01-17 07:14:48.043|\n",
      "|2023-01-16|VT-SQG|SG 1077 |AMD-PNQ|AMD      |05:50:00       |06:30:01     |06:59:28      |PNQ    |07:05:00       |null    |null         |1089        |01:15         |01:12         |01:00     |null       |ALL ac=VT-SQG dep=AMD arr=PNQ fn=SEJ1J77 dt=20230116.csv |2023-01-17 00:42:40.075|2023-01-17 09:12:18.462|\n",
      "|2023-01-06|VT-SUQ|SG 1078 |PNQ-AMD|PNQ      |21:40:00       |21:55:49     |23:03:04      |AMD    |23:15:00       |3395    |3500         |1270        |01:35         |01:27         |01:07     |2230       |ALL ac=VT-SUQ dep=PNQ arr=AMD fn=SG 1078 dt=20230106.csv |2023-01-08 00:41:08.035|2023-01-17 07:14:48.043|\n",
      "|2023-01-02|VT-SUQ|SG 1081 |BHU-BOM|BHU      |09:11:00       |09:20:56     |10:10:04      |BOM    |10:16:00       |2495    |2600         |880         |01:05         |01:03         |00:49     |1720       |ALL ac=VT-SUQ dep=BHU arr=BOM fn=SG 1081 dt=20230102.csv |2023-01-06 00:42:09.806|2023-01-17 07:14:48.043|\n",
      "|2023-01-12|VT-SQA|SG 2346 |DHM-DEL|DHM      |11:20:00       |11:25:10     |12:30:26      |DEL    |12:33:00       |2795    |2900         |1093        |01:13         |01:13         |01:05     |1807       |ALL ac=VT-SQA dep=DHM arr=DEL fn=SG 2346 dt=20230112.csv |2023-01-14 00:43:57.806|2023-01-17 09:12:18.462|\n",
      "|2023-01-16|VT-SQB|SG 2696 |HYD-TIR|HYD      |05:53:00       |06:30:00     |06:58:35      |TIR    |07:03:00       |null    |null         |961         |01:10         |01:04         |00:52     |null       |ALL ac=VT-SQB dep=HYD arr=TIR fn=SEJ2J96 dt=20230116.csv |2023-01-17 00:42:40.075|2023-01-17 09:12:18.462|\n",
      "|2023-01-10|VT-SQE|SG 2696 |HYD-TIR|HYD      |05:58:00       |06:30:01     |07:02:31      |TIR    |07:08:00       |3195    |3300         |977         |01:10         |01:05         |00:50     |2323       |ALL ac=VT-SQE dep=HYD arr=TIR fn=SG 2696 dt=20230110.csv |2023-01-12 00:42:35.982|2023-01-17 09:12:18.462|\n",
      "|2023-01-01|VT-SQC|SG 2905 |DEL-JDH|DEL      |06:18:00       |06:30:03     |07:38:11      |JDH    |07:43:00       |2695    |2800         |1248        |01:25         |01:23         |01:09     |1552       |ALL ac=VT-SQC dep=DEL arr=JDH fn=SG 2905 dt=20230101.csv |2023-01-03 00:41:07.42 |2023-01-17 09:12:18.462|\n",
      "|2023-01-03|VT-SQB|SG 2918 |TIR-HYD|TIR      |19:58:00       |20:05:40     |20:58:29      |HYD    |21:05:00       |2645    |2750         |990         |01:07         |01:03         |00:52     |1760       |ALL ac=VT-SQB dep=TIR arr=HYD fn=SG 2918 dt=20230103.csv |2023-01-05 00:42:14.23 |2023-01-17 09:12:18.462|\n",
      "|2023-01-05|VT-SUG|SG 2928 |GWL-BLR|GWL      |15:45:00       |15:58:28     |18:35:12      |BLR    |18:40:00       |4345    |4450         |2647        |02:55         |02:50         |02:36     |1803       |ALL ac=VT-SUG dep=GWL arr=BLR fn=SG 2928 dt=20230105.csv |2023-01-07 00:41:41.116|2023-01-17 07:14:48.043|\n",
      "|2023-01-14|VT-SQA|SG 2954 |DEL-JLR|DEL      |07:27:00       |07:35:34     |08:50:14      |JLR    |08:55:00       |3595    |3700         |1418        |01:28         |01:24         |01:14     |2282       |ALL ac=VT-SQA dep=DEL arr=JLR fn=SEJ2J54 dt=20230114.csv |2023-01-15 00:43:03.098|2023-01-17 09:12:18.462|\n",
      "|2023-01-10|VT-SQJ|SG 2954 |DEL-JLR|DEL      |07:30:00       |07:54:15     |09:16:21      |JLR    |09:23:00       |3795    |3900         |1434        |01:53         |01:41         |01:22     |2466       |ALL ac=VT-SQJ dep=DEL arr=JLR fn=SEJ2J54 dt=20230110.csv |2023-01-11 00:43:12.713|2023-01-17 09:12:18.462|\n",
      "|2023-01-03|VT-SQC|SG 2954D|DEL-VNS|DEL      |09:40:00       |09:52:51     |13:53:57      |VNS    |14:00:00       |null    |null         |3608        |04:20         |04:15         |04:01     |null       |ALL ac=VT-SQC dep=DEL arr=VNS fn=SG 2954D dt=20230103.csv|2023-01-05 00:42:14.23 |2023-01-17 09:12:18.462|\n",
      "|2023-01-11|VT-SQJ|SG 2955 |JLR-DEL|JLR      |20:00:00       |20:08:02     |21:39:56      |DEL    |21:45:00       |3395    |3500         |1685        |01:45         |01:40         |01:31     |1815       |ALL ac=VT-SQJ dep=JLR arr=DEL fn=SG 2955 dt=20230111.csv |2023-01-13 00:45:11.11 |2023-01-17 09:12:18.462|\n",
      "|2023-01-10|VT-SQC|SG 2976 |DEL-JAI|DEL      |20:13:00       |20:24:56     |21:00:10      |JAI    |21:03:00       |2695    |2800         |666         |00:50         |00:44         |00:34     |2134       |ALL ac=VT-SQC dep=DEL arr=JAI fn=SG 2976 dt=20230110.csv |2023-01-12 00:42:35.982|2023-01-17 09:12:18.462|\n",
      "|2023-01-08|VT-SQJ|SG 2976 |DEL-JAI|DEL      |20:14:00       |20:28:55     |21:01:13      |JAI    |21:09:00       |2995    |3100         |670         |00:55         |00:44         |00:32     |2430       |ALL ac=VT-SQJ dep=DEL arr=JAI fn=SG 2976 dt=20230108.csv |2023-01-11 00:43:12.713|2023-01-17 09:12:18.462|\n",
      "|2023-01-06|VT-SQE|SG 3003 |TIR-HYD|TIR      |21:25:00       |21:34:48     |22:29:29      |HYD    |22:40:00       |2845    |2950         |984         |01:15         |01:08         |00:54     |1966       |ALL ac=VT-SQE dep=TIR arr=HYD fn=SG 3003 dt=20230106.csv |2023-01-08 00:42:01.057|2023-01-17 09:12:18.462|\n",
      "|2023-01-09|VT-SUR|SG 3082 |GWL-BOM|GWL      |12:45:00       |13:03:38     |15:59:15      |BOM    |15:25:00       |3495    |3600         |2252        |02:40         |02:34         |02:12     |1348       |ALL ac=VT-SUR dep=GWL arr=BOM fn=SEJ3J82 dt=20230109.csv |2023-01-11 00:43:12.713|2023-01-17 09:12:18.462|\n",
      "|2023-01-16|VT-SUQ|SG 3082 |GWL-BOM|GWL      |10:10:00       |10:28:32     |12:34:43      |BOM    |12:45:00       |null    |3650         |2070        |02:35         |02:31         |02:06     |1580       |ALL ac=VT-SUQ dep=GWL arr=BOM fn=SG 3082 dt=20230116.csv |2023-01-18 00:41:45.832|2023-01-18 06:09:55.991|\n",
      "+----------+------+--------+-------+---------+---------------+-------------+--------------+-------+---------------+--------+-------------+------------+--------------+--------------+----------+-----------+---------------------------------------------------------+-----------------------+-----------------------+\n",
      "only showing top 20 rows"
     ]
    }
   ],
   "source": [
    "df1.show(truncate = False)"
   ]
  },
  {
   "cell_type": "code",
   "execution_count": null,
   "id": "374f133d-862a-4a68-bd21-79f5e74f943c",
   "metadata": {
    "execution": {
     "iopub.execute_input": "2023-01-18T11:30:21.879460Z",
     "iopub.status.busy": "2023-01-18T11:30:21.879226Z"
    }
   },
   "outputs": [
    {
     "data": {
      "application/vnd.jupyter.widget-view+json": {
       "model_id": "ae877c81073845f8a17b2c11f4117c72",
       "version_major": 2,
       "version_minor": 0
      },
      "text/plain": [
       "VBox()"
      ]
     },
     "metadata": {},
     "output_type": "display_data"
    },
    {
     "data": {
      "application/vnd.jupyter.widget-view+json": {
       "model_id": "",
       "version_major": 2,
       "version_minor": 0
      },
      "text/plain": [
       "FloatProgress(value=0.0, bar_style='info', description='Progress:', layout=Layout(height='25px', width='50%'),…"
      ]
     },
     "metadata": {},
     "output_type": "display_data"
    }
   ],
   "source": []
  }
 ],
 "metadata": {
  "kernelspec": {
   "display_name": "PySpark",
   "language": "",
   "name": "pysparkkernel"
  },
  "language_info": {
   "codemirror_mode": {
    "name": "python",
    "version": 3
   },
   "mimetype": "text/x-python",
   "name": "pyspark",
   "pygments_lexer": "python3"
  }
 },
 "nbformat": 4,
 "nbformat_minor": 5
}
