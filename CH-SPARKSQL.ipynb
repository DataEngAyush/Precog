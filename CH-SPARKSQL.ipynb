{
 "cells": [
  {
   "cell_type": "code",
   "execution_count": 1,
   "id": "9eb0897e-2c18-4937-ab1b-83a15c9fba7c",
   "metadata": {
    "execution": {
     "iopub.execute_input": "2022-11-14T08:33:22.786393Z",
     "iopub.status.busy": "2022-11-14T08:33:22.786171Z",
     "iopub.status.idle": "2022-11-14T08:33:43.578732Z",
     "shell.execute_reply": "2022-11-14T08:33:43.578137Z",
     "shell.execute_reply.started": "2022-11-14T08:33:22.786367Z"
    },
    "tags": []
   },
   "outputs": [
    {
     "data": {
      "application/vnd.jupyter.widget-view+json": {
       "model_id": "836a628550d542fcad6fbde2b3309f7a",
       "version_major": 2,
       "version_minor": 0
      },
      "text/plain": [
       "VBox()"
      ]
     },
     "metadata": {},
     "output_type": "display_data"
    },
    {
     "name": "stdout",
     "output_type": "stream",
     "text": [
      "Starting Spark application\n"
     ]
    },
    {
     "data": {
      "text/html": [
       "<table>\n",
       "<tr><th>ID</th><th>YARN Application ID</th><th>Kind</th><th>State</th><th>Spark UI</th><th>Driver log</th><th>Current session?</th></tr><tr><td>3</td><td>application_1668401719806_0005</td><td>pyspark</td><td>idle</td><td><a target=\"_blank\" href=\"http://ip-20-0-4-178.ap-south-1.compute.internal:20888/proxy/application_1668401719806_0005/\" class=\"emr-proxy-link\" emr-resource=\"j-1J77R4VGU8QHI\n",
       "\" application-id=\"application_1668401719806_0005\">Link</a></td><td><a target=\"_blank\" href=\"http://ip-20-0-4-52.ap-south-1.compute.internal:8042/node/containerlogs/container_1668401719806_0005_01_000001/livy\" >Link</a></td><td>✔</td></tr></table>"
      ],
      "text/plain": [
       "<IPython.core.display.HTML object>"
      ]
     },
     "metadata": {},
     "output_type": "display_data"
    },
    {
     "data": {
      "application/vnd.jupyter.widget-view+json": {
       "model_id": "",
       "version_major": 2,
       "version_minor": 0
      },
      "text/plain": [
       "FloatProgress(value=0.0, bar_style='info', description='Progress:', layout=Layout(height='25px', width='50%'),…"
      ]
     },
     "metadata": {},
     "output_type": "display_data"
    },
    {
     "name": "stdout",
     "output_type": "stream",
     "text": [
      "SparkSession available as 'spark'.\n"
     ]
    },
    {
     "data": {
      "application/vnd.jupyter.widget-view+json": {
       "model_id": "",
       "version_major": 2,
       "version_minor": 0
      },
      "text/plain": [
       "FloatProgress(value=0.0, bar_style='info', description='Progress:', layout=Layout(height='25px', width='50%'),…"
      ]
     },
     "metadata": {},
     "output_type": "display_data"
    }
   ],
   "source": [
    "from pyspark import SparkConf\n",
    "from pyspark import SparkContext\n",
    "from pyspark.sql import SparkSession\n",
    "from pyspark.sql.types import *\n",
    "from pyspark.sql import functions as F\n",
    "import boto3\n",
    "import sys\n",
    "import re\n",
    "from datetime import datetime\n",
    "import configparser"
   ]
  },
  {
   "cell_type": "code",
   "execution_count": 2,
   "id": "685ff87f-68f0-4e9e-b80a-27034022f815",
   "metadata": {
    "execution": {
     "iopub.execute_input": "2022-11-11T05:33:23.808587Z",
     "iopub.status.busy": "2022-11-11T05:33:23.808426Z",
     "iopub.status.idle": "2022-11-11T05:33:53.151462Z",
     "shell.execute_reply": "2022-11-11T05:33:53.150877Z",
     "shell.execute_reply.started": "2022-11-11T05:33:23.808566Z"
    }
   },
   "outputs": [
    {
     "name": "stdout",
     "output_type": "stream",
     "text": [
      "Starting Spark application\n"
     ]
    },
    {
     "data": {
      "text/html": [
       "<table>\n",
       "<tr><th>ID</th><th>YARN Application ID</th><th>Kind</th><th>State</th><th>Spark UI</th><th>Driver log</th><th>Current session?</th></tr><tr><td>6</td><td>application_1668141925435_0008</td><td>pyspark</td><td>idle</td><td></td><td></td><td>✔</td></tr></table>"
      ],
      "text/plain": [
       "<IPython.core.display.HTML object>"
      ]
     },
     "metadata": {},
     "output_type": "display_data"
    },
    {
     "data": {
      "application/vnd.jupyter.widget-view+json": {
       "model_id": "",
       "version_major": 2,
       "version_minor": 0
      },
      "text/plain": [
       "FloatProgress(value=0.0, bar_style='info', description='Progress:', layout=Layout(height='25px', width='50%'),…"
      ]
     },
     "metadata": {},
     "output_type": "display_data"
    },
    {
     "name": "stdout",
     "output_type": "stream",
     "text": [
      "SparkSession available as 'spark'.\n"
     ]
    },
    {
     "data": {
      "text/html": [
       "Current session configs: <tt>{'conf': {'spark.jars': 's3://sjet-datamart-bucket/Jars/mssql-jdbc-6.1.0.jre8.jar', 'spark.sql.legacy.parquet.int96RebaseModeInWrite': 'CORRECTED'}, 'proxyUser': 'user_ayush_vaishnav', 'kind': 'pyspark'}</tt><br>"
      ],
      "text/plain": [
       "<IPython.core.display.HTML object>"
      ]
     },
     "metadata": {},
     "output_type": "display_data"
    },
    {
     "data": {
      "text/html": [
       "<table>\n",
       "<tr><th>ID</th><th>YARN Application ID</th><th>Kind</th><th>State</th><th>Spark UI</th><th>Driver log</th><th>Current session?</th></tr><tr><td>4</td><td>application_1668141925435_0006</td><td>pyspark</td><td>idle</td><td><a target=\"_blank\" href=\"http://ip-20-0-4-122.ap-south-1.compute.internal:20888/proxy/application_1668141925435_0006/\" class=\"emr-proxy-link\" emr-resource=\"j-6BFLWY86001\n",
       "\" application-id=\"application_1668141925435_0006\">Link</a></td><td><a target=\"_blank\" href=\"http://ip-20-0-4-234.ap-south-1.compute.internal:8042/node/containerlogs/container_1668141925435_0006_01_000001/livy\" >Link</a></td><td></td></tr><tr><td>6</td><td>application_1668141925435_0008</td><td>pyspark</td><td>idle</td><td><a target=\"_blank\" href=\"http://ip-20-0-4-122.ap-south-1.compute.internal:20888/proxy/application_1668141925435_0008/\" class=\"emr-proxy-link\" emr-resource=\"j-6BFLWY86001\n",
       "\" application-id=\"application_1668141925435_0008\">Link</a></td><td><a target=\"_blank\" href=\"http://ip-20-0-4-213.ap-south-1.compute.internal:8042/node/containerlogs/container_1668141925435_0008_01_000001/livy\" >Link</a></td><td>✔</td></tr></table>"
      ],
      "text/plain": [
       "<IPython.core.display.HTML object>"
      ]
     },
     "metadata": {},
     "output_type": "display_data"
    }
   ],
   "source": [
    "%%configure -f\n",
    "{\n",
    "    \"conf\": {\n",
    "        \"spark.jars\": \"s3://sjet-datamart-bucket/Jars/mssql-jdbc-6.1.0.jre8.jar\",\n",
    "        \"spark.sql.legacy.parquet.int96RebaseModeInWrite\": \"CORRECTED\"\n",
    "    }\n",
    "}"
   ]
  },
  {
   "cell_type": "code",
   "execution_count": 3,
   "id": "49d8b6a6-684e-449b-bcd8-8d9939146803",
   "metadata": {
    "execution": {
     "iopub.execute_input": "2022-11-15T09:39:24.353806Z",
     "iopub.status.busy": "2022-11-15T09:39:24.353594Z",
     "iopub.status.idle": "2022-11-15T09:39:28.058902Z",
     "shell.execute_reply": "2022-11-15T09:39:28.058429Z",
     "shell.execute_reply.started": "2022-11-15T09:39:24.353784Z"
    },
    "tags": []
   },
   "outputs": [
    {
     "data": {
      "application/vnd.jupyter.widget-view+json": {
       "model_id": "46601a237e9c4cfbaa0e72013cc35825",
       "version_major": 2,
       "version_minor": 0
      },
      "text/plain": [
       "VBox()"
      ]
     },
     "metadata": {},
     "output_type": "display_data"
    },
    {
     "data": {
      "application/vnd.jupyter.widget-view+json": {
       "model_id": "",
       "version_major": 2,
       "version_minor": 0
      },
      "text/plain": [
       "FloatProgress(value=0.0, bar_style='info', description='Progress:', layout=Layout(height='25px', width='50%'),…"
      ]
     },
     "metadata": {},
     "output_type": "display_data"
    }
   ],
   "source": [
    "GoldenRecordISPINC_fact = spark.sql('''\n",
    "                                        SELECT * FROM \n",
    "                                        22_customerhub.goldenrecordispinc_fact\n",
    "''')"
   ]
  },
  {
   "cell_type": "code",
   "execution_count": 4,
   "id": "19fd30d0-bbd1-412c-8323-8ae3016d34f1",
   "metadata": {
    "execution": {
     "iopub.execute_input": "2022-11-15T09:39:28.060067Z",
     "iopub.status.busy": "2022-11-15T09:39:28.059778Z",
     "iopub.status.idle": "2022-11-15T09:39:28.817303Z",
     "shell.execute_reply": "2022-11-15T09:39:28.816667Z",
     "shell.execute_reply.started": "2022-11-15T09:39:28.060034Z"
    },
    "tags": []
   },
   "outputs": [
    {
     "data": {
      "application/vnd.jupyter.widget-view+json": {
       "model_id": "c210237eb5104b89b5b7bce4b236cb31",
       "version_major": 2,
       "version_minor": 0
      },
      "text/plain": [
       "VBox()"
      ]
     },
     "metadata": {},
     "output_type": "display_data"
    },
    {
     "data": {
      "application/vnd.jupyter.widget-view+json": {
       "model_id": "",
       "version_major": 2,
       "version_minor": 0
      },
      "text/plain": [
       "FloatProgress(value=0.0, bar_style='info', description='Progress:', layout=Layout(height='25px', width='50%'),…"
      ]
     },
     "metadata": {},
     "output_type": "display_data"
    }
   ],
   "source": [
    "GoldenRecordISPINC_fact.createOrReplaceTempView('GoldenRecordISPINC_fact')"
   ]
  },
  {
   "cell_type": "code",
   "execution_count": 6,
   "id": "02d770a4-12ef-4d32-90f0-ed1c5426e972",
   "metadata": {
    "execution": {
     "iopub.execute_input": "2022-11-14T08:34:31.540910Z",
     "iopub.status.busy": "2022-11-14T08:34:31.540750Z",
     "iopub.status.idle": "2022-11-14T08:34:31.795711Z",
     "shell.execute_reply": "2022-11-14T08:34:31.795218Z",
     "shell.execute_reply.started": "2022-11-14T08:34:31.540891Z"
    },
    "tags": []
   },
   "outputs": [
    {
     "data": {
      "application/vnd.jupyter.widget-view+json": {
       "model_id": "e826c9cf48094a569ebcf5a92b64ea07",
       "version_major": 2,
       "version_minor": 0
      },
      "text/plain": [
       "VBox()"
      ]
     },
     "metadata": {},
     "output_type": "display_data"
    },
    {
     "data": {
      "application/vnd.jupyter.widget-view+json": {
       "model_id": "",
       "version_major": 2,
       "version_minor": 0
      },
      "text/plain": [
       "FloatProgress(value=0.0, bar_style='info', description='Progress:', layout=Layout(height='25px', width='50%'),…"
      ]
     },
     "metadata": {},
     "output_type": "display_data"
    }
   ],
   "source": [
    "tmpBookingdate = spark.sql('''\n",
    "                            SELECT DISTINCT cast(max(bookingdate) AS DATE) AS MAXBookingDate\n",
    "\n",
    "                            ,org_uid\n",
    "\n",
    "                            FROM GoldenRecordISPINC_fact\n",
    "\n",
    "                            GROUP BY org_uid \n",
    "                            \n",
    "                            ''')"
   ]
  },
  {
   "cell_type": "code",
   "execution_count": 7,
   "id": "558b5e1d-65e9-4cf8-8da6-1b0b8d611cbb",
   "metadata": {
    "execution": {
     "iopub.execute_input": "2022-11-14T08:34:34.633435Z",
     "iopub.status.busy": "2022-11-14T08:34:34.633211Z",
     "iopub.status.idle": "2022-11-14T08:34:34.883783Z",
     "shell.execute_reply": "2022-11-14T08:34:34.883126Z",
     "shell.execute_reply.started": "2022-11-14T08:34:34.633412Z"
    },
    "tags": []
   },
   "outputs": [
    {
     "data": {
      "application/vnd.jupyter.widget-view+json": {
       "model_id": "8a4c9836644746efb097e35a5315095a",
       "version_major": 2,
       "version_minor": 0
      },
      "text/plain": [
       "VBox()"
      ]
     },
     "metadata": {},
     "output_type": "display_data"
    },
    {
     "data": {
      "application/vnd.jupyter.widget-view+json": {
       "model_id": "",
       "version_major": 2,
       "version_minor": 0
      },
      "text/plain": [
       "FloatProgress(value=0.0, bar_style='info', description='Progress:', layout=Layout(height='25px', width='50%'),…"
      ]
     },
     "metadata": {},
     "output_type": "display_data"
    }
   ],
   "source": [
    "tmpBookingdate.createOrReplaceTempView('tmpBookingdate')"
   ]
  },
  {
   "cell_type": "code",
   "execution_count": 5,
   "id": "17352725-b883-4cf4-9ee7-532663fb38fd",
   "metadata": {
    "execution": {
     "iopub.execute_input": "2022-11-15T09:39:32.259798Z",
     "iopub.status.busy": "2022-11-15T09:39:32.259542Z",
     "iopub.status.idle": "2022-11-15T09:39:32.509594Z",
     "shell.execute_reply": "2022-11-15T09:39:32.509065Z",
     "shell.execute_reply.started": "2022-11-15T09:39:32.259774Z"
    },
    "tags": []
   },
   "outputs": [
    {
     "data": {
      "application/vnd.jupyter.widget-view+json": {
       "model_id": "b0c01f65cd0d43bcb2f5de7a773a5235",
       "version_major": 2,
       "version_minor": 0
      },
      "text/plain": [
       "VBox()"
      ]
     },
     "metadata": {},
     "output_type": "display_data"
    },
    {
     "data": {
      "application/vnd.jupyter.widget-view+json": {
       "model_id": "",
       "version_major": 2,
       "version_minor": 0
      },
      "text/plain": [
       "FloatProgress(value=0.0, bar_style='info', description='Progress:', layout=Layout(height='25px', width='50%'),…"
      ]
     },
     "metadata": {},
     "output_type": "display_data"
    }
   ],
   "source": [
    "tmpDepartureDate = spark.sql('''\n",
    "\n",
    "                SELECT DISTINCT cast(max(DepartureDate_PS) AS DATE) AS MAXDepartureDate, org_uid\n",
    "\n",
    "                FROM GoldenRecordISPINC_fact \n",
    "\n",
    "                GROUP BY org_uid\n",
    "                \n",
    "                ''')"
   ]
  },
  {
   "cell_type": "code",
   "execution_count": 6,
   "id": "69594910-c3d5-424c-bc0f-6d6bd7f05b6e",
   "metadata": {
    "execution": {
     "iopub.execute_input": "2022-11-15T09:39:33.866158Z",
     "iopub.status.busy": "2022-11-15T09:39:33.865936Z",
     "iopub.status.idle": "2022-11-15T09:39:34.114683Z",
     "shell.execute_reply": "2022-11-15T09:39:34.114199Z",
     "shell.execute_reply.started": "2022-11-15T09:39:33.866134Z"
    },
    "tags": []
   },
   "outputs": [
    {
     "data": {
      "application/vnd.jupyter.widget-view+json": {
       "model_id": "77aa540e1bae4c36a4cd73df57c9a666",
       "version_major": 2,
       "version_minor": 0
      },
      "text/plain": [
       "VBox()"
      ]
     },
     "metadata": {},
     "output_type": "display_data"
    },
    {
     "data": {
      "application/vnd.jupyter.widget-view+json": {
       "model_id": "",
       "version_major": 2,
       "version_minor": 0
      },
      "text/plain": [
       "FloatProgress(value=0.0, bar_style='info', description='Progress:', layout=Layout(height='25px', width='50%'),…"
      ]
     },
     "metadata": {},
     "output_type": "display_data"
    }
   ],
   "source": [
    "tmpDepartureDate.createOrReplaceTempView('tmpDepartureDate_PS')"
   ]
  },
  {
   "cell_type": "code",
   "execution_count": 11,
   "id": "ad7d49dc-fbe2-4744-b4b4-a66c879bd67e",
   "metadata": {
    "execution": {
     "iopub.execute_input": "2022-11-15T10:14:08.999509Z",
     "iopub.status.busy": "2022-11-15T10:14:08.999283Z",
     "iopub.status.idle": "2022-11-15T10:14:34.318085Z",
     "shell.execute_reply": "2022-11-15T10:14:34.317468Z",
     "shell.execute_reply.started": "2022-11-15T10:14:08.999486Z"
    },
    "tags": []
   },
   "outputs": [
    {
     "data": {
      "application/vnd.jupyter.widget-view+json": {
       "model_id": "a7fa2dca642748978083cb149b674273",
       "version_major": 2,
       "version_minor": 0
      },
      "text/plain": [
       "VBox()"
      ]
     },
     "metadata": {},
     "output_type": "display_data"
    },
    {
     "data": {
      "application/vnd.jupyter.widget-view+json": {
       "model_id": "",
       "version_major": 2,
       "version_minor": 0
      },
      "text/plain": [
       "FloatProgress(value=0.0, bar_style='info', description='Progress:', layout=Layout(height='25px', width='50%'),…"
      ]
     },
     "metadata": {},
     "output_type": "display_data"
    },
    {
     "name": "stdout",
     "output_type": "stream",
     "text": [
      "+----------+\n",
      "|      Date|\n",
      "+----------+\n",
      "|2014-10-01|\n",
      "|2014-10-01|\n",
      "|2014-11-01|\n",
      "|2014-11-01|\n",
      "|2014-11-01|\n",
      "|2014-11-01|\n",
      "|2014-11-01|\n",
      "|      null|\n",
      "|2014-11-01|\n",
      "|2014-11-01|\n",
      "|2014-11-01|\n",
      "|2014-12-01|\n",
      "|2014-12-01|\n",
      "|      null|\n",
      "|2014-11-01|\n",
      "|2014-11-01|\n",
      "|2015-01-01|\n",
      "|2015-01-01|\n",
      "|2015-01-01|\n",
      "|2015-01-01|\n",
      "+----------+\n",
      "only showing top 20 rows"
     ]
    }
   ],
   "source": [
    "#SELECT cast(dateadd(month, datediff(month, 0, MAXBookingDate) - 12, 0) AS DATE) FROM ##tmpBookingdate where org_uid = '16116833142100000003'\n",
    "\n",
    "spark.sql('''\n",
    "                SELECT add_months('1900-01-01', CAST(months_between(tdd.MAXDepartureDate, '1900-01-01') AS INT) -12) AS Date\n",
    "                            \n",
    "                            FROM GoldenRecordISPINC_fact g\n",
    "                            \n",
    "                            left join tmpDepartureDate_PS tdd on tdd.org_uid = g.org_uid\n",
    "            ''').show()"
   ]
  },
  {
   "cell_type": "code",
   "execution_count": 89,
   "id": "9cc38a9d-f263-4637-886c-35672bb71c22",
   "metadata": {
    "execution": {
     "iopub.execute_input": "2022-11-11T09:00:48.927622Z",
     "iopub.status.busy": "2022-11-11T09:00:48.927404Z",
     "iopub.status.idle": "2022-11-11T09:00:49.017059Z",
     "shell.execute_reply": "2022-11-11T09:00:49.016581Z",
     "shell.execute_reply.started": "2022-11-11T09:00:48.927600Z"
    },
    "tags": []
   },
   "outputs": [
    {
     "data": {
      "application/vnd.jupyter.widget-view+json": {
       "model_id": "857609bf2dae44b8aed04fc982dc00b4",
       "version_major": 2,
       "version_minor": 0
      },
      "text/plain": [
       "VBox()"
      ]
     },
     "metadata": {},
     "output_type": "display_data"
    },
    {
     "data": {
      "application/vnd.jupyter.widget-view+json": {
       "model_id": "",
       "version_major": 2,
       "version_minor": 0
      },
      "text/plain": [
       "FloatProgress(value=0.0, bar_style='info', description='Progress:', layout=Layout(height='25px', width='50%'),…"
      ]
     },
     "metadata": {},
     "output_type": "display_data"
    }
   ],
   "source": [
    "df1 = spark.sql('''\n",
    "                    SELECT max(DepartureDate_PS) AS MaxDepartureDate_PS FROM GoldenRecordISPINC_fact\n",
    "''')"
   ]
  },
  {
   "cell_type": "code",
   "execution_count": 90,
   "id": "cdba1908-65ad-4ef3-a218-91fcb1956167",
   "metadata": {
    "execution": {
     "iopub.execute_input": "2022-11-11T09:01:06.975629Z",
     "iopub.status.busy": "2022-11-11T09:01:06.975408Z",
     "iopub.status.idle": "2022-11-11T09:01:07.017805Z",
     "shell.execute_reply": "2022-11-11T09:01:07.017348Z",
     "shell.execute_reply.started": "2022-11-11T09:01:06.975605Z"
    }
   },
   "outputs": [
    {
     "data": {
      "application/vnd.jupyter.widget-view+json": {
       "model_id": "b509c9c5b0e04ad6ac64a31bad96e7dc",
       "version_major": 2,
       "version_minor": 0
      },
      "text/plain": [
       "VBox()"
      ]
     },
     "metadata": {},
     "output_type": "display_data"
    },
    {
     "data": {
      "application/vnd.jupyter.widget-view+json": {
       "model_id": "",
       "version_major": 2,
       "version_minor": 0
      },
      "text/plain": [
       "FloatProgress(value=0.0, bar_style='info', description='Progress:', layout=Layout(height='25px', width='50%'),…"
      ]
     },
     "metadata": {},
     "output_type": "display_data"
    }
   ],
   "source": [
    "df1.createOrReplaceTempView('c')"
   ]
  },
  {
   "cell_type": "code",
   "execution_count": 10,
   "id": "e765f486-9885-4eb3-8fa3-18f91080b3b5",
   "metadata": {
    "execution": {
     "iopub.execute_input": "2022-11-14T08:35:55.598989Z",
     "iopub.status.busy": "2022-11-14T08:35:55.598752Z",
     "iopub.status.idle": "2022-11-14T08:36:10.910094Z",
     "shell.execute_reply": "2022-11-14T08:36:10.909603Z",
     "shell.execute_reply.started": "2022-11-14T08:35:55.598963Z"
    },
    "tags": []
   },
   "outputs": [
    {
     "data": {
      "application/vnd.jupyter.widget-view+json": {
       "model_id": "efcafd5b7bf74e349885ee2689ea7677",
       "version_major": 2,
       "version_minor": 0
      },
      "text/plain": [
       "VBox()"
      ]
     },
     "metadata": {},
     "output_type": "display_data"
    },
    {
     "data": {
      "application/vnd.jupyter.widget-view+json": {
       "model_id": "",
       "version_major": 2,
       "version_minor": 0
      },
      "text/plain": [
       "FloatProgress(value=0.0, bar_style='info', description='Progress:', layout=Layout(height='25px', width='50%'),…"
      ]
     },
     "metadata": {},
     "output_type": "display_data"
    },
    {
     "name": "stdout",
     "output_type": "stream",
     "text": [
      "+--------------+\n",
      "|MaxBookingDate|\n",
      "+--------------+\n",
      "|    2017-05-01|\n",
      "|    2017-05-01|\n",
      "|    2017-05-01|\n",
      "+--------------+"
     ]
    }
   ],
   "source": [
    "#SELECT dateadd(month, datediff(month, 0, (SELECT max(DepartureDate_PS) FROM CUSTOMERHUB.DBO.GoldenRecordISPINC_fact)) - 12, 0)\n",
    "\n",
    "spark.sql('''\n",
    "                SELECT add_months('1900-01-01', \n",
    "                CAST(months_between(\n",
    "                                (SELECT max(DepartureDate_PS) \n",
    "                                FROM GoldenRecordISPINC_fact t2 WHERE t2.ORG_UID = g.org_uid), '1900-01-01') AS INT) -12)  \n",
    "                \n",
    "                FROM GoldenRecordISPINC_fact g\n",
    "\n",
    "''').show()"
   ]
  },
  {
   "cell_type": "code",
   "execution_count": null,
   "id": "3197be3d-9752-4eaa-b3e1-30063fc74ca7",
   "metadata": {
    "tags": []
   },
   "outputs": [],
   "source": []
  },
  {
   "cell_type": "code",
   "execution_count": null,
   "id": "1dd25314-92b5-40b1-90fc-f1f7d5e3ed36",
   "metadata": {},
   "outputs": [],
   "source": []
  }
 ],
 "metadata": {
  "kernelspec": {
   "display_name": "PySpark",
   "language": "",
   "name": "pysparkkernel"
  },
  "language_info": {
   "codemirror_mode": {
    "name": "python",
    "version": 3
   },
   "mimetype": "text/x-python",
   "name": "pyspark",
   "pygments_lexer": "python3"
  }
 },
 "nbformat": 4,
 "nbformat_minor": 5
}
