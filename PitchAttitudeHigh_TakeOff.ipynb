{
 "cells": [
  {
   "cell_type": "code",
   "execution_count": 1,
   "id": "08bc0164-26a2-4e9d-a4c1-dcdea28f78b1",
   "metadata": {
    "execution": {
     "iopub.execute_input": "2023-01-12T09:21:53.310765Z",
     "iopub.status.busy": "2023-01-12T09:21:53.310544Z",
     "iopub.status.idle": "2023-01-12T09:21:53.336094Z",
     "shell.execute_reply": "2023-01-12T09:21:53.335607Z",
     "shell.execute_reply.started": "2023-01-12T09:21:53.310741Z"
    },
    "tags": []
   },
   "outputs": [
    {
     "data": {
      "text/html": [
       "Current session configs: <tt>{'conf': {'spark.jars': 's3://sjet-datamart-bucket/Jars/mssql-jdbc-6.1.0.jre8.jar'}, 'proxyUser': 'user_ayush_vaishnav', 'kind': 'pyspark'}</tt><br>"
      ],
      "text/plain": [
       "<IPython.core.display.HTML object>"
      ]
     },
     "metadata": {},
     "output_type": "display_data"
    },
    {
     "data": {
      "text/html": [
       "<table>\n",
       "<tr><th>ID</th><th>YARN Application ID</th><th>Kind</th><th>State</th><th>Spark UI</th><th>Driver log</th><th>Current session?</th></tr><tr><td>9</td><td>application_1673498272080_0030</td><td>pyspark</td><td>idle</td><td><a target=\"_blank\" href=\"http://ip-20-0-4-210.ap-south-1.compute.internal:20888/proxy/application_1673498272080_0030/\" class=\"emr-proxy-link\" emr-resource=\"j-1DD9O1Q2DH5EX\n",
       "\" application-id=\"application_1673498272080_0030\">Link</a></td><td><a target=\"_blank\" href=\"http://ip-20-0-4-28.ap-south-1.compute.internal:8042/node/containerlogs/container_1673498272080_0030_01_000001/livy\" >Link</a></td><td></td></tr></table>"
      ],
      "text/plain": [
       "<IPython.core.display.HTML object>"
      ]
     },
     "metadata": {},
     "output_type": "display_data"
    }
   ],
   "source": [
    "%%configure -f\n",
    "{\n",
    "    \"conf\": {\n",
    "        \n",
    "        \"spark.jars\": \"s3://sjet-datamart-bucket/Jars/mssql-jdbc-6.1.0.jre8.jar\"        \n",
    "    }\n",
    "}"
   ]
  },
  {
   "cell_type": "code",
   "execution_count": 2,
   "id": "2c7979ec-5676-4064-b5b4-dce81b8ac0c9",
   "metadata": {
    "execution": {
     "iopub.execute_input": "2023-01-12T09:21:55.729701Z",
     "iopub.status.busy": "2023-01-12T09:21:55.729478Z",
     "iopub.status.idle": "2023-01-12T09:22:25.021895Z",
     "shell.execute_reply": "2023-01-12T09:22:25.021379Z",
     "shell.execute_reply.started": "2023-01-12T09:21:55.729675Z"
    },
    "tags": []
   },
   "outputs": [
    {
     "data": {
      "application/vnd.jupyter.widget-view+json": {
       "model_id": "990e3bc642ea4634aab628c48a424651",
       "version_major": 2,
       "version_minor": 0
      },
      "text/plain": [
       "VBox()"
      ]
     },
     "metadata": {},
     "output_type": "display_data"
    },
    {
     "name": "stdout",
     "output_type": "stream",
     "text": [
      "Starting Spark application\n"
     ]
    },
    {
     "data": {
      "text/html": [
       "<table>\n",
       "<tr><th>ID</th><th>YARN Application ID</th><th>Kind</th><th>State</th><th>Spark UI</th><th>Driver log</th><th>Current session?</th></tr><tr><td>10</td><td>application_1673498272080_0031</td><td>pyspark</td><td>idle</td><td><a target=\"_blank\" href=\"http://ip-20-0-4-210.ap-south-1.compute.internal:20888/proxy/application_1673498272080_0031/\" class=\"emr-proxy-link\" emr-resource=\"j-1DD9O1Q2DH5EX\n",
       "\" application-id=\"application_1673498272080_0031\">Link</a></td><td><a target=\"_blank\" href=\"http://ip-20-0-4-116.ap-south-1.compute.internal:8042/node/containerlogs/container_1673498272080_0031_01_000001/livy\" >Link</a></td><td>✔</td></tr></table>"
      ],
      "text/plain": [
       "<IPython.core.display.HTML object>"
      ]
     },
     "metadata": {},
     "output_type": "display_data"
    },
    {
     "data": {
      "application/vnd.jupyter.widget-view+json": {
       "model_id": "",
       "version_major": 2,
       "version_minor": 0
      },
      "text/plain": [
       "FloatProgress(value=0.0, bar_style='info', description='Progress:', layout=Layout(height='25px', width='50%'),…"
      ]
     },
     "metadata": {},
     "output_type": "display_data"
    },
    {
     "name": "stdout",
     "output_type": "stream",
     "text": [
      "SparkSession available as 'spark'.\n"
     ]
    },
    {
     "data": {
      "application/vnd.jupyter.widget-view+json": {
       "model_id": "",
       "version_major": 2,
       "version_minor": 0
      },
      "text/plain": [
       "FloatProgress(value=0.0, bar_style='info', description='Progress:', layout=Layout(height='25px', width='50%'),…"
      ]
     },
     "metadata": {},
     "output_type": "display_data"
    }
   ],
   "source": [
    "UNION_DF = spark.sql('''\n",
    "\n",
    "                        SELECT * FROM precogdb.df5_red_pitch_attitude_high_takeoff\n",
    "                        where date > '2021-10-31'\n",
    "                        UNION\n",
    "                        SELECT * FROM precogdb.df5_amber_pitch_attitude_high_takeoff\n",
    "                        where date > '2021-10-31'\n",
    "                        UNION\n",
    "                        SELECT * FROM precogdb.df5_green_pitch_attitude_high_takeoff\n",
    "                        where flightdate > '2021-10-31'\n",
    "                        \n",
    "                        ''')"
   ]
  },
  {
   "cell_type": "code",
   "execution_count": 3,
   "id": "ca683674-0e5c-4ac8-9815-2650cdb0f3a3",
   "metadata": {
    "execution": {
     "iopub.execute_input": "2023-01-12T09:22:30.223667Z",
     "iopub.status.busy": "2023-01-12T09:22:30.223443Z",
     "iopub.status.idle": "2023-01-12T09:22:30.980382Z",
     "shell.execute_reply": "2023-01-12T09:22:30.979776Z",
     "shell.execute_reply.started": "2023-01-12T09:22:30.223643Z"
    },
    "tags": []
   },
   "outputs": [
    {
     "data": {
      "application/vnd.jupyter.widget-view+json": {
       "model_id": "b9b7f66d91ae44ee9deffb1223e54152",
       "version_major": 2,
       "version_minor": 0
      },
      "text/plain": [
       "VBox()"
      ]
     },
     "metadata": {},
     "output_type": "display_data"
    },
    {
     "data": {
      "application/vnd.jupyter.widget-view+json": {
       "model_id": "",
       "version_major": 2,
       "version_minor": 0
      },
      "text/plain": [
       "FloatProgress(value=0.0, bar_style='info', description='Progress:', layout=Layout(height='25px', width='50%'),…"
      ]
     },
     "metadata": {},
     "output_type": "display_data"
    }
   ],
   "source": [
    "UNION_DF.createOrReplaceTempView('union_df')"
   ]
  },
  {
   "cell_type": "code",
   "execution_count": 4,
   "id": "843f95c1-629d-4cfc-87b9-69f23a1819b8",
   "metadata": {
    "execution": {
     "iopub.execute_input": "2022-10-14T16:31:57.546577Z",
     "iopub.status.busy": "2022-10-14T16:31:57.546322Z",
     "iopub.status.idle": "2022-10-14T16:32:10.845404Z",
     "shell.execute_reply": "2022-10-14T16:32:10.844919Z",
     "shell.execute_reply.started": "2022-10-14T16:31:57.546551Z"
    }
   },
   "outputs": [
    {
     "data": {
      "application/vnd.jupyter.widget-view+json": {
       "model_id": "46d204ea44624e159cc796803f4b4cb2",
       "version_major": 2,
       "version_minor": 0
      },
      "text/plain": [
       "VBox()"
      ]
     },
     "metadata": {},
     "output_type": "display_data"
    },
    {
     "data": {
      "application/vnd.jupyter.widget-view+json": {
       "model_id": "",
       "version_major": 2,
       "version_minor": 0
      },
      "text/plain": [
       "FloatProgress(value=0.0, bar_style='info', description='Progress:', layout=Layout(height='25px', width='50%'),…"
      ]
     },
     "metadata": {},
     "output_type": "display_data"
    }
   ],
   "source": [
    "PilotInfoDF = spark.read.csv('s3://sjet-datamart-bucket/precog/pilot-info/', header=True)"
   ]
  },
  {
   "cell_type": "code",
   "execution_count": 5,
   "id": "cba0758b-926b-409a-89a2-c0bf4ef0e4c0",
   "metadata": {
    "execution": {
     "iopub.execute_input": "2022-10-14T16:32:10.846421Z",
     "iopub.status.busy": "2022-10-14T16:32:10.846237Z",
     "iopub.status.idle": "2022-10-14T16:32:10.893411Z",
     "shell.execute_reply": "2022-10-14T16:32:10.892946Z",
     "shell.execute_reply.started": "2022-10-14T16:32:10.846400Z"
    }
   },
   "outputs": [
    {
     "data": {
      "application/vnd.jupyter.widget-view+json": {
       "model_id": "cde51bb81ee34c9bb623d72d59689c3f",
       "version_major": 2,
       "version_minor": 0
      },
      "text/plain": [
       "VBox()"
      ]
     },
     "metadata": {},
     "output_type": "display_data"
    },
    {
     "data": {
      "application/vnd.jupyter.widget-view+json": {
       "model_id": "",
       "version_major": 2,
       "version_minor": 0
      },
      "text/plain": [
       "FloatProgress(value=0.0, bar_style='info', description='Progress:', layout=Layout(height='25px', width='50%'),…"
      ]
     },
     "metadata": {},
     "output_type": "display_data"
    }
   ],
   "source": [
    "PilotInfoDF.createOrReplaceTempView('PilotInfoDF')"
   ]
  },
  {
   "cell_type": "code",
   "execution_count": 4,
   "id": "5b9b968f-6bcd-40a7-bbaa-d2d8f379f536",
   "metadata": {
    "execution": {
     "iopub.execute_input": "2023-01-12T09:22:32.763223Z",
     "iopub.status.busy": "2023-01-12T09:22:32.763001Z",
     "iopub.status.idle": "2023-01-12T09:22:33.017753Z",
     "shell.execute_reply": "2023-01-12T09:22:33.017086Z",
     "shell.execute_reply.started": "2023-01-12T09:22:32.763199Z"
    },
    "tags": []
   },
   "outputs": [
    {
     "data": {
      "application/vnd.jupyter.widget-view+json": {
       "model_id": "bb16ae207e33405d9e6b9bffad56b3e2",
       "version_major": 2,
       "version_minor": 0
      },
      "text/plain": [
       "VBox()"
      ]
     },
     "metadata": {},
     "output_type": "display_data"
    },
    {
     "data": {
      "application/vnd.jupyter.widget-view+json": {
       "model_id": "",
       "version_major": 2,
       "version_minor": 0
      },
      "text/plain": [
       "FloatProgress(value=0.0, bar_style='info', description='Progress:', layout=Layout(height='25px', width='50%'),…"
      ]
     },
     "metadata": {},
     "output_type": "display_data"
    }
   ],
   "source": [
    "final_df_df5 = spark.sql('''\n",
    "                            SELECT \n",
    "                            CAST(ud.exceedanceid AS INT),\n",
    "                            ud.exceedance,\n",
    "                            CAST(ud.phaseid AS INT),\n",
    "                            ud.phase,\n",
    "                            ud.ecn,\n",
    "                            ud.employeename,\n",
    "                            ud.rank,\n",
    "                            ud.tailno,\n",
    "                            ud.departure,\n",
    "                            ud.arrival,\n",
    "                            ud.flightno AS FlightNumber,\n",
    "                            ud.date as FLightDate ,\n",
    "                            ud.chocksoff,\n",
    "                            ud.chockson,\n",
    "                            ud.domint,\n",
    "                            CAST(ud.manufacturerid AS INT),\n",
    "                            ud.manufacturer,\n",
    "                            CAST(ud.dataframeid AS INT),\n",
    "                            ud.dataframe,\n",
    "                            ud.aircrafttype,\n",
    "                            ud.aircraftmodel,\n",
    "                            ud.payload,\n",
    "                            ud.blocktime_hrs as `Block time`,\n",
    "                            occurance as occurence,\n",
    "                            CAST(typeid AS INT),\n",
    "                            flag as type,\n",
    "                            CAST(trigger_hours AS DECIMAL(8,2)) AS `Trigger Hours`,\n",
    "                            CAST(occurence_hours AS DECIMAL(8,2)) AS `Occurence Hours`,\n",
    "                            CAST(duration_min AS INT) AS  `Duration(Sec)`,\n",
    "                            CAST(`BARO_COR_ALT` AS INT) AS `BARO COR ALT`,\n",
    "                            CAST(`RADIO_HEIGHT` AS INT) AS `RADIO HEIGHT`,\n",
    "                            CAST(`COMPUTED_AIRSPEED` AS FLOAT) AS `COMPUTED AIRSPEED`,\n",
    "                            CAPT_DISPLAY_PITCH_ATTIUDE AS `CAPT. DISPLAY PITCH ATTIUDE`,\n",
    "                            CAST(`CAPT_DISPLAY_HEADING` AS FLOAT) AS `CAPT. DISPLAY HEADING`,\n",
    "                            CAST(`GROUNDSPEED` AS FLOAT) AS `GROUND SPEED`,\n",
    "                            CAST(`VERTICAL_SPEED` AS INT) AS `VERTICAL SPEED`,\n",
    "                            CAST(`FLAP_HANDLE_POSITION` AS INT) AS `FLAP HANDLE POSITION`,\n",
    "                            CAST(`TORQUE_ENG_L` AS FLOAT) AS `LEFT ENGINE N1 \\ TORQUE ENG L`,\n",
    "                            CAST(`TORQUE_ENG_R` AS FLOAT) AS `RIGHT ENGINE N1 \\ TORQUE ENG R`,\n",
    "                            CAST('' AS INT) AS `VREF SPEED`,\n",
    "                            MAIN_WOW AS `LEFT MAIN GEAR AIR/GND`,\n",
    "                            '' AS `RIGHT MAIN GEAR AIR/GND`,\n",
    "                            loadeddate AS LoadDate,\n",
    "                            filename\n",
    "                    FROM union_df ud\n",
    "                    \n",
    "                ''')"
   ]
  },
  {
   "cell_type": "code",
   "execution_count": 5,
   "id": "9c3f93db-3c3a-4f90-bde1-daecdd4e01ac",
   "metadata": {
    "execution": {
     "iopub.execute_input": "2023-01-12T09:22:38.480414Z",
     "iopub.status.busy": "2023-01-12T09:22:38.480183Z",
     "iopub.status.idle": "2023-01-12T09:22:59.809439Z",
     "shell.execute_reply": "2023-01-12T09:22:59.808913Z",
     "shell.execute_reply.started": "2023-01-12T09:22:38.480390Z"
    },
    "tags": []
   },
   "outputs": [
    {
     "data": {
      "application/vnd.jupyter.widget-view+json": {
       "model_id": "0c53d3aa46044dd5a1d91a675c3640b3",
       "version_major": 2,
       "version_minor": 0
      },
      "text/plain": [
       "VBox()"
      ]
     },
     "metadata": {},
     "output_type": "display_data"
    },
    {
     "data": {
      "application/vnd.jupyter.widget-view+json": {
       "model_id": "",
       "version_major": 2,
       "version_minor": 0
      },
      "text/plain": [
       "FloatProgress(value=0.0, bar_style='info', description='Progress:', layout=Layout(height='25px', width='50%'),…"
      ]
     },
     "metadata": {},
     "output_type": "display_data"
    }
   ],
   "source": [
    "final_df_df5 \\\n",
    "  .write \\\n",
    "  .format(\"jdbc\") \\\n",
    "  .mode(\"append\") \\\n",
    "  .option(\"driver\", \"com.microsoft.sqlserver.jdbc.SQLServerDriver\") \\\n",
    "  .option(\"url\", \"jdbc:sqlserver://10.150.72.22:1433;databaseName=precog\") \\\n",
    "  .option(\"dbtable\", \"PitchAttitudeHighSTG\") \\\n",
    "  .option(\"user\", \"dmbigdata\") \\\n",
    "  .option(\"password\", \"$p!Ce@bigData$db\") \\\n",
    "  .save()"
   ]
  },
  {
   "cell_type": "code",
   "execution_count": null,
   "id": "23df047c-b475-4632-b503-88747b74fdaa",
   "metadata": {},
   "outputs": [],
   "source": []
  },
  {
   "cell_type": "code",
   "execution_count": 8,
   "id": "0735d970-8a63-4530-bba4-e36436afb31c",
   "metadata": {
    "execution": {
     "iopub.execute_input": "2023-01-12T09:25:55.562715Z",
     "iopub.status.busy": "2023-01-12T09:25:55.562498Z",
     "iopub.status.idle": "2023-01-12T09:25:56.819141Z",
     "shell.execute_reply": "2023-01-12T09:25:56.818627Z",
     "shell.execute_reply.started": "2023-01-12T09:25:55.562691Z"
    },
    "tags": []
   },
   "outputs": [
    {
     "data": {
      "application/vnd.jupyter.widget-view+json": {
       "model_id": "0b41c9c65e574786ac21e1d414227dfb",
       "version_major": 2,
       "version_minor": 0
      },
      "text/plain": [
       "VBox()"
      ]
     },
     "metadata": {},
     "output_type": "display_data"
    },
    {
     "data": {
      "application/vnd.jupyter.widget-view+json": {
       "model_id": "",
       "version_major": 2,
       "version_minor": 0
      },
      "text/plain": [
       "FloatProgress(value=0.0, bar_style='info', description='Progress:', layout=Layout(height='25px', width='50%'),…"
      ]
     },
     "metadata": {},
     "output_type": "display_data"
    }
   ],
   "source": [
    "UNION_DF_1 = spark.sql('''\n",
    "\n",
    "                        SELECT * FROM precogdb.df6_red_pitch_attitude_high_takeoff\n",
    "                        where date > '2021-10-31'\n",
    "                        UNION\n",
    "                        SELECT * FROM precogdb.df6_amber_pitch_attitude_high_takeoff\n",
    "                        where date > '2021-10-31'\n",
    "                        UNION\n",
    "                        SELECT * FROM precogdb.df6_green_pitch_attitude_high_takeoff\n",
    "                        where flightdate > '2021-10-31'\n",
    "                        \n",
    "                        ''')"
   ]
  },
  {
   "cell_type": "code",
   "execution_count": 9,
   "id": "c6213afc-afef-4d6e-918f-43a2c67abcc3",
   "metadata": {
    "execution": {
     "iopub.execute_input": "2023-01-12T09:25:57.261902Z",
     "iopub.status.busy": "2023-01-12T09:25:57.261672Z",
     "iopub.status.idle": "2023-01-12T09:25:57.508754Z",
     "shell.execute_reply": "2023-01-12T09:25:57.508226Z",
     "shell.execute_reply.started": "2023-01-12T09:25:57.261877Z"
    },
    "tags": []
   },
   "outputs": [
    {
     "data": {
      "application/vnd.jupyter.widget-view+json": {
       "model_id": "38d6e3dd5ab54303a99dd445a05d4bd8",
       "version_major": 2,
       "version_minor": 0
      },
      "text/plain": [
       "VBox()"
      ]
     },
     "metadata": {},
     "output_type": "display_data"
    },
    {
     "data": {
      "application/vnd.jupyter.widget-view+json": {
       "model_id": "",
       "version_major": 2,
       "version_minor": 0
      },
      "text/plain": [
       "FloatProgress(value=0.0, bar_style='info', description='Progress:', layout=Layout(height='25px', width='50%'),…"
      ]
     },
     "metadata": {},
     "output_type": "display_data"
    }
   ],
   "source": [
    "UNION_DF_1.createOrReplaceTempView('union_df_1')"
   ]
  },
  {
   "cell_type": "code",
   "execution_count": 10,
   "id": "ad65ecd1-5e67-4a82-977e-0b5cb0dfc705",
   "metadata": {
    "execution": {
     "iopub.execute_input": "2023-01-12T09:26:18.476702Z",
     "iopub.status.busy": "2023-01-12T09:26:18.476471Z",
     "iopub.status.idle": "2023-01-12T09:26:18.727454Z",
     "shell.execute_reply": "2023-01-12T09:26:18.726888Z",
     "shell.execute_reply.started": "2023-01-12T09:26:18.476679Z"
    },
    "tags": []
   },
   "outputs": [
    {
     "data": {
      "application/vnd.jupyter.widget-view+json": {
       "model_id": "021af41428544f778b53c83f70d1b43f",
       "version_major": 2,
       "version_minor": 0
      },
      "text/plain": [
       "VBox()"
      ]
     },
     "metadata": {},
     "output_type": "display_data"
    },
    {
     "data": {
      "application/vnd.jupyter.widget-view+json": {
       "model_id": "",
       "version_major": 2,
       "version_minor": 0
      },
      "text/plain": [
       "FloatProgress(value=0.0, bar_style='info', description='Progress:', layout=Layout(height='25px', width='50%'),…"
      ]
     },
     "metadata": {},
     "output_type": "display_data"
    }
   ],
   "source": [
    "final_df_df6 = spark.sql('''\n",
    "                            SELECT \n",
    "                            CAST(ud.exceedanceid AS INT),\n",
    "                            ud.exceedance,\n",
    "                            CAST(ud.phaseid AS INT),\n",
    "                            ud.phase,\n",
    "                            ud.ecn,\n",
    "                            ud.employeename,\n",
    "                            ud.rank,\n",
    "                            ud.tailno,\n",
    "                            ud.departure,\n",
    "                            ud.arrival,\n",
    "                            ud.flightno AS FlightNumber,\n",
    "                            ud.date as FLightDate ,\n",
    "                            ud.chocksoff,\n",
    "                            ud.chockson,\n",
    "                            ud.domint,\n",
    "                            CAST(ud.manufacturerid AS INT),\n",
    "                            ud.manufacturer,\n",
    "                            CAST(ud.dataframeid AS INT),\n",
    "                            ud.dataframe,\n",
    "                            ud.aircrafttype,\n",
    "                            ud.aircraftmodel,\n",
    "                            ud.payload,\n",
    "                            ud.blocktime_hrs as `Block time`,\n",
    "                            occurance as occurence,\n",
    "                            CAST(typeid AS INT),\n",
    "                            flag as type,\n",
    "                            CAST(trigger_hours AS DECIMAL(8,2)) AS `Trigger Hours`,\n",
    "                            CAST(occurence_hours AS DECIMAL(8,2)) AS `Occurence Hours`,\n",
    "                            CAST(duration_min AS INT) AS  `Duration(Sec)`,\n",
    "                            CAST(`BARO_COR_ALT` AS INT) AS `BARO COR ALT`,\n",
    "                            CAST(`RADIO_HEIGHT` AS INT) AS `RADIO HEIGHT`,\n",
    "                            CAST(`COMPUTED_AIRSPEED` AS FLOAT) AS `COMPUTED AIRSPEED`,\n",
    "                            CAPT_DISPLAY_PITCH_ATTIUDE AS `CAPT. DISPLAY PITCH ATTIUDE`,\n",
    "                            CAST(`CAPT_DISPLAY_HEADING` AS FLOAT) AS `CAPT. DISPLAY HEADING`,\n",
    "                            CAST(`GROUNDSPEED` AS FLOAT) AS `GROUND SPEED`,\n",
    "                            CAST(`VERTICAL_SPEED` AS INT) AS `VERTICAL SPEED`,\n",
    "                            CAST(`FLAP_HANDLE_POSITION` AS INT) AS `FLAP HANDLE POSITION`,\n",
    "                            CAST(`TORQUE_ENG_L` AS FLOAT) AS `LEFT ENGINE N1 \\ TORQUE ENG L`,\n",
    "                            CAST(`TORQUE_ENG_R` AS FLOAT) AS `RIGHT ENGINE N1 \\ TORQUE ENG R`,\n",
    "                            CAST('' AS INT) AS `VREF SPEED`,\n",
    "                            WOW_MLG AS `LEFT MAIN GEAR AIR/GND`,\n",
    "                            '' AS `RIGHT MAIN GEAR AIR/GND`,\n",
    "                            loadeddate AS LoadDate,\n",
    "                            filename\n",
    "                    FROM union_df_1 ud\n",
    "                    \n",
    "                    \n",
    "                ''')"
   ]
  },
  {
   "cell_type": "code",
   "execution_count": 11,
   "id": "e9d71a83-22b8-4aa1-85c9-7291322bfa68",
   "metadata": {
    "execution": {
     "iopub.execute_input": "2023-01-12T09:26:24.371351Z",
     "iopub.status.busy": "2023-01-12T09:26:24.371130Z",
     "iopub.status.idle": "2023-01-12T09:27:05.744015Z",
     "shell.execute_reply": "2023-01-12T09:27:05.743453Z",
     "shell.execute_reply.started": "2023-01-12T09:26:24.371328Z"
    },
    "tags": []
   },
   "outputs": [
    {
     "data": {
      "application/vnd.jupyter.widget-view+json": {
       "model_id": "771e625bd8c74ea4a72f447cd2c17198",
       "version_major": 2,
       "version_minor": 0
      },
      "text/plain": [
       "VBox()"
      ]
     },
     "metadata": {},
     "output_type": "display_data"
    },
    {
     "data": {
      "application/vnd.jupyter.widget-view+json": {
       "model_id": "",
       "version_major": 2,
       "version_minor": 0
      },
      "text/plain": [
       "FloatProgress(value=0.0, bar_style='info', description='Progress:', layout=Layout(height='25px', width='50%'),…"
      ]
     },
     "metadata": {},
     "output_type": "display_data"
    }
   ],
   "source": [
    "final_df_df6 \\\n",
    "  .write \\\n",
    "  .format(\"jdbc\") \\\n",
    "  .mode(\"append\") \\\n",
    "  .option(\"driver\", \"com.microsoft.sqlserver.jdbc.SQLServerDriver\") \\\n",
    "  .option(\"url\", \"jdbc:sqlserver://10.150.72.22:1433;databaseName=precog\") \\\n",
    "  .option(\"dbtable\", \"PitchAttitudeHighSTG\") \\\n",
    "  .option(\"user\", \"dmbigdata\") \\\n",
    "  .option(\"password\", \"$p!Ce@bigData$db\") \\\n",
    "  .save()"
   ]
  },
  {
   "cell_type": "raw",
   "id": "39165bd8-04ee-421d-9f33-3c8f476465e6",
   "metadata": {},
   "source": []
  },
  {
   "cell_type": "code",
   "execution_count": 12,
   "id": "703e6b77-9fbe-4b30-a8d8-f53e68a5a435",
   "metadata": {
    "execution": {
     "iopub.execute_input": "2023-01-12T09:27:15.761704Z",
     "iopub.status.busy": "2023-01-12T09:27:15.761468Z",
     "iopub.status.idle": "2023-01-12T09:27:16.511812Z",
     "shell.execute_reply": "2023-01-12T09:27:16.511219Z",
     "shell.execute_reply.started": "2023-01-12T09:27:15.761677Z"
    }
   },
   "outputs": [
    {
     "data": {
      "application/vnd.jupyter.widget-view+json": {
       "model_id": "93820b2c7651487283b973f3412d1969",
       "version_major": 2,
       "version_minor": 0
      },
      "text/plain": [
       "VBox()"
      ]
     },
     "metadata": {},
     "output_type": "display_data"
    },
    {
     "data": {
      "application/vnd.jupyter.widget-view+json": {
       "model_id": "",
       "version_major": 2,
       "version_minor": 0
      },
      "text/plain": [
       "FloatProgress(value=0.0, bar_style='info', description='Progress:', layout=Layout(height='25px', width='50%'),…"
      ]
     },
     "metadata": {},
     "output_type": "display_data"
    }
   ],
   "source": [
    "spark.stop()"
   ]
  },
  {
   "cell_type": "code",
   "execution_count": null,
   "id": "b51ea273-b072-4288-bfdc-d9f8c430ded5",
   "metadata": {},
   "outputs": [],
   "source": []
  }
 ],
 "metadata": {
  "kernelspec": {
   "display_name": "PySpark",
   "language": "",
   "name": "pysparkkernel"
  },
  "language_info": {
   "codemirror_mode": {
    "name": "python",
    "version": 3
   },
   "mimetype": "text/x-python",
   "name": "pyspark",
   "pygments_lexer": "python3"
  }
 },
 "nbformat": 4,
 "nbformat_minor": 5
}
