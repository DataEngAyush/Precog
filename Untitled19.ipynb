{
 "cells": [
  {
   "cell_type": "code",
   "execution_count": 1,
   "id": "d3f2f7da-e35a-4af4-8f46-915c7b4684d5",
   "metadata": {
    "execution": {
     "iopub.execute_input": "2023-01-19T05:29:31.963509Z",
     "iopub.status.busy": "2023-01-19T05:29:31.963251Z",
     "iopub.status.idle": "2023-01-19T05:29:31.989689Z",
     "shell.execute_reply": "2023-01-19T05:29:31.989136Z",
     "shell.execute_reply.started": "2023-01-19T05:29:31.963483Z"
    },
    "tags": []
   },
   "outputs": [
    {
     "data": {
      "text/html": [
       "Current session configs: <tt>{'conf': {'spark.jars': 's3://sjet-datamart-bucket/Jars/mssql-jdbc-6.1.0.jre8.jar', 'spark.sql.crossJoin.enabled': 'true'}, 'proxyUser': 'user_ayush_vaishnav', 'kind': 'pyspark'}</tt><br>"
      ],
      "text/plain": [
       "<IPython.core.display.HTML object>"
      ]
     },
     "metadata": {},
     "output_type": "display_data"
    },
    {
     "data": {
      "text/html": [
       "<table>\n",
       "<tr><th>ID</th><th>YARN Application ID</th><th>Kind</th><th>State</th><th>Spark UI</th><th>Driver log</th><th>Current session?</th></tr><tr><td>2</td><td>application_1674104491510_0004</td><td>pyspark</td><td>dead</td><td><a target=\"_blank\" href=\"http://ip-20-0-4-226.ap-south-1.compute.internal:20888/proxy/application_1674104491510_0004/\" class=\"emr-proxy-link\" emr-resource=\"j-MO3CNPL45SHE\n",
       "\" application-id=\"application_1674104491510_0004\">Link</a></td><td><a target=\"_blank\" href=\"http://ip-20-0-4-226.ap-south-1.compute.internal:8188/applicationhistory/logs/ip-20-0-4-206.ap-south-1.compute.internal:8041/container_1674104491510_0004_01_000001/container_1674104491510_0004_01_000001/livy\" >Link</a></td><td></td></tr></table>"
      ],
      "text/plain": [
       "<IPython.core.display.HTML object>"
      ]
     },
     "metadata": {},
     "output_type": "display_data"
    }
   ],
   "source": [
    "%%configure -f\n",
    "{\n",
    "    \"conf\": {\n",
    "        \"spark.jars\": \"s3://sjet-datamart-bucket/Jars/mssql-jdbc-6.1.0.jre8.jar\",\n",
    "        \"spark.sql.crossJoin.enabled\": \"true\"\n",
    "    }\n",
    "}"
   ]
  },
  {
   "cell_type": "code",
   "execution_count": 2,
   "id": "ea7d9ac5-b636-43e6-a32c-291335abff1f",
   "metadata": {
    "execution": {
     "iopub.execute_input": "2023-01-19T05:29:33.075479Z",
     "iopub.status.busy": "2023-01-19T05:29:33.075260Z",
     "iopub.status.idle": "2023-01-19T05:29:53.368197Z",
     "shell.execute_reply": "2023-01-19T05:29:53.367492Z",
     "shell.execute_reply.started": "2023-01-19T05:29:33.075456Z"
    },
    "tags": []
   },
   "outputs": [
    {
     "data": {
      "application/vnd.jupyter.widget-view+json": {
       "model_id": "e0503d660de84261921668f1001be985",
       "version_major": 2,
       "version_minor": 0
      },
      "text/plain": [
       "VBox()"
      ]
     },
     "metadata": {},
     "output_type": "display_data"
    },
    {
     "name": "stdout",
     "output_type": "stream",
     "text": [
      "Starting Spark application\n"
     ]
    },
    {
     "data": {
      "text/html": [
       "<table>\n",
       "<tr><th>ID</th><th>YARN Application ID</th><th>Kind</th><th>State</th><th>Spark UI</th><th>Driver log</th><th>Current session?</th></tr><tr><td>3</td><td>application_1674104491510_0005</td><td>pyspark</td><td>idle</td><td></td><td></td><td>✔</td></tr></table>"
      ],
      "text/plain": [
       "<IPython.core.display.HTML object>"
      ]
     },
     "metadata": {},
     "output_type": "display_data"
    },
    {
     "data": {
      "application/vnd.jupyter.widget-view+json": {
       "model_id": "",
       "version_major": 2,
       "version_minor": 0
      },
      "text/plain": [
       "FloatProgress(value=0.0, bar_style='info', description='Progress:', layout=Layout(height='25px', width='50%'),…"
      ]
     },
     "metadata": {},
     "output_type": "display_data"
    },
    {
     "name": "stdout",
     "output_type": "stream",
     "text": [
      "SparkSession available as 'spark'.\n"
     ]
    },
    {
     "data": {
      "application/vnd.jupyter.widget-view+json": {
       "model_id": "",
       "version_major": 2,
       "version_minor": 0
      },
      "text/plain": [
       "FloatProgress(value=0.0, bar_style='info', description='Progress:', layout=Layout(height='25px', width='50%'),…"
      ]
     },
     "metadata": {},
     "output_type": "display_data"
    }
   ],
   "source": [
    "from pyspark import SparkConf\n",
    "from pyspark import SparkContext\n",
    "from pyspark.sql import SparkSession\n",
    "from pyspark.sql.types import *\n",
    "from pyspark.sql import functions as F\n",
    "import boto3\n",
    "import sys\n",
    "import re\n",
    "from datetime import datetime\n",
    "import configparser\n",
    "from pyspark.sql.functions import *"
   ]
  },
  {
   "cell_type": "code",
   "execution_count": null,
   "id": "1f835b58-0288-48ba-bf3a-9e75d3893ff8",
   "metadata": {},
   "outputs": [],
   "source": []
  },
  {
   "cell_type": "code",
   "execution_count": 3,
   "id": "7b2e20c7-05a6-4f38-a55b-0fa9b263dae6",
   "metadata": {
    "execution": {
     "iopub.execute_input": "2023-01-19T05:32:38.680052Z",
     "iopub.status.busy": "2023-01-19T05:32:38.679832Z",
     "iopub.status.idle": "2023-01-19T05:32:50.005820Z",
     "shell.execute_reply": "2023-01-19T05:32:50.005306Z",
     "shell.execute_reply.started": "2023-01-19T05:32:38.680028Z"
    },
    "tags": []
   },
   "outputs": [
    {
     "data": {
      "application/vnd.jupyter.widget-view+json": {
       "model_id": "4e4ff5d0232d453190bd1c3b2a11bcc5",
       "version_major": 2,
       "version_minor": 0
      },
      "text/plain": [
       "VBox()"
      ]
     },
     "metadata": {},
     "output_type": "display_data"
    },
    {
     "data": {
      "application/vnd.jupyter.widget-view+json": {
       "model_id": "",
       "version_major": 2,
       "version_minor": 0
      },
      "text/plain": [
       "FloatProgress(value=0.0, bar_style='info', description='Progress:', layout=Layout(height='25px', width='50%'),…"
      ]
     },
     "metadata": {},
     "output_type": "display_data"
    }
   ],
   "source": [
    "Q400_128WPS_1 = spark.sql('''\n",
    "                        SELECT\n",
    "                        \n",
    "                        ECN,\n",
    "                        \n",
    "                        UTC_TIMEDATE,\n",
    "                        \n",
    "                        FileName,\n",
    "\n",
    "                        CAST((MAX(`Time-In-Secs`) - MIN(`Time-In-Secs`)) / 60 AS INT) AS FlightTime\n",
    "             \n",
    "                        FROM precogdb.q400128wps\n",
    "                        \n",
    "                        WHERE FlightDate > '2022-10-31'\n",
    "                        \n",
    "                        AND `Radio-Altitude` NOT LIKE '%*%'\n",
    "                        \n",
    "                        AND `Radio-Altitude` <> ''\n",
    "                        \n",
    "                        AND `Main-WOW` = 'Air (0)'\n",
    "\n",
    "                        --AND  CAST(LoadedDate AS DATE) = CAST (current_timestamp AS DATE)\n",
    "\n",
    "                        GROUP BY ECN, UTC_TIMEDATE, Filename\n",
    "                            ''')\n",
    "\n",
    "Q400_128WPS_1.createOrReplaceTempView('Q400_128WPS_1')\n",
    "\n",
    "Q400_Time = spark.sql('''\n",
    "\n",
    "                                    SELECT CAST((MAX(CAST(`Time-in-secs` AS INT)) - MIN(CAST(`Time-in-secs` AS INT))) / 60 AS INT) AS BlockTime_DFDR, filename\n",
    "                                    \n",
    "                                    FROM precogdb.q400128wps\n",
    "                                    \n",
    "                                    WHERE FlightDate > '2022-10-31'\n",
    "\n",
    "                                    --AND  CAST(LoadedDate AS DATE) = CAST (current_timestamp AS DATE)\n",
    "                                    \n",
    "                                    group by filename\n",
    "                                ''')\n",
    "\n",
    "Q400_Time.createOrReplaceTempView('Q400_Time')\n",
    "\n",
    "Q400_128WPS_2 = spark.sql('''\n",
    "\n",
    "                            SELECT \n",
    "                            \n",
    "                                DISTINCT\n",
    "                            \n",
    "                                Cast(ChocksOff as Date) AS FlightDate,\n",
    "                                \n",
    "                                TailNo,\n",
    "                                \n",
    "                                Departure,\n",
    "                                \n",
    "                                ChocksOff,\n",
    "                                \n",
    "                                date_format(ChocksOff, 'HH:mm:ss') AS Actual_DEP_Time,\n",
    "                                \n",
    "                                Arrival,\n",
    "                                \n",
    "                                date_format(ChocksOn, 'HH:mm:ss') AS Actual_ARR_Time,\n",
    "                                \n",
    "                                (bigint(to_timestamp(ChocksOn)) - bigint(to_timestamp(ChocksOff))) / 60 AS BlockTime_ARMS, \n",
    "                                \n",
    "                                CONCAT(Departure, '-', Arrival) AS Sector,\n",
    "                                                        \n",
    "                                desigflightnumber AS FlightNo,\n",
    "                                \n",
    "                                Date,\n",
    "                                \n",
    "                                ECN,\n",
    "                                \n",
    "                                UTC_TIMEDATE,\n",
    "                                \n",
    "                                CAST(SUM((CAST (`fuel-flow-no-2-kg` AS INT) + CAST (`fuel-flow-no-1-kg` AS INT))) OVER (PARTITION BY ECN, UTC_TIMEDATE, Filename) / 3600 AS INT) AS FuelConsumed,\n",
    "                                \n",
    "                                FileName,\n",
    "                                \n",
    "                                loadeddate,\n",
    "                                \n",
    "                                year,\n",
    "                                \n",
    "                                month\n",
    "                                \n",
    "                                FROM precogdb.q400128wps\n",
    "                            \n",
    "                            WHERE FlightDate > '2022-10-31'\n",
    "                            \n",
    "                            --AND  CAST(LoadedDate AS DATE) = CAST (current_timestamp AS DATE)\n",
    "                            \n",
    "                            AND `Radio-Altitude` NOT LIKE '%*%'\n",
    "                            \n",
    "                            AND `Radio-Altitude` <> ''\n",
    "                            \n",
    "                            AND UTC_TIMEDATE BETWEEN (ChocksOff - INTERVAL 360 MINUTES) AND (ChocksOff - INTERVAL 300 MINUTES)\n",
    "                \n",
    "                            ''')\n",
    "\n",
    "Q400_128WPS_2.createOrReplaceTempView('Q400_128WPS_2')\n",
    "\n",
    "Q400_128WPS_2_1 = spark.sql('''\n",
    "\n",
    "                            SELECT a.*,b.Blocktime_DFDR\n",
    "                            \n",
    "                            FROM Q400_128WPS_2 a \n",
    "                            \n",
    "                            left JOIN Q400_Time b\n",
    "                            \n",
    "                            ON a.filename = b.filename\n",
    "                        ''')\n",
    "\n",
    "Q400_128WPS_2_1.createOrReplaceTempView('Q400_128WPS_2_1')\n",
    "\n",
    "Q400_128WPS_3 = spark.sql('''\n",
    "\n",
    "                    SELECT MIN(`Time-Per-Sec`) AS AirborneTime,\n",
    "                    \n",
    "                    ECN,\n",
    "                            \n",
    "                    UTC_TIMEDATE,\n",
    "                    \n",
    "                    flightdate,\n",
    "                    \n",
    "                    Filename\n",
    "                    \n",
    "                    FROM precogdb.q400128wps\n",
    "                    \n",
    "                    WHERE FlightDate > '2022-10-31'\n",
    "                            \n",
    "                    AND `Radio-Altitude` NOT LIKE '%*%'\n",
    "                            \n",
    "                    AND `Radio-Altitude` <> ''\n",
    "                            \n",
    "                    AND `Main-WOW` = 'Air (0)'\n",
    "\n",
    "                    --AND  CAST(LoadedDate AS DATE) = CAST (current_timestamp AS DATE)\n",
    "\n",
    "                    GROUP BY ECN,\n",
    "                            \n",
    "                            UTC_TIMEDATE,flightdate,Filename\n",
    "                ''')\n",
    "\n",
    "Q400_128WPS_3.createOrReplaceTempView('Q400_128WPS_3')\n",
    "\n",
    "Q400_128WPS_3_1 = spark.sql('''SELECT MIN(`Time-Per-Sec`) AS TouchDownTime,\n",
    "                        \n",
    "                        flightdate,\n",
    "                        \n",
    "                        ECN,\n",
    "                                \n",
    "                        UTC_TIMEDATE,\n",
    "                        \n",
    "                        Filename\n",
    "                        \n",
    "                        FROM precogdb.q400128wps\n",
    "                        \n",
    "                        WHERE FlightDate > '2022-10-31'\n",
    "                                \n",
    "                        AND `Radio-Altitude` NOT LIKE '%*%'\n",
    "                                \n",
    "                        AND `Radio-Altitude` <> ''\n",
    "                        \n",
    "                        AND `Main-WOW` = 'Gnd (1)'\n",
    "                        \n",
    "                        AND `time-per-sec` NOT LIKE '%*%'\n",
    "                        \n",
    "                        AND `time-in-secs` > 2500\n",
    "                                \n",
    "                        --AND  CAST(LoadedDate AS DATE) = CAST (current_timestamp AS DATE)\n",
    "\n",
    "                        GROUP BY ECN,\n",
    "                                \n",
    "                                UTC_TIMEDATE,flightdate,Filename ''')\n",
    "\n",
    "Q400_128WPS_3_1.createOrReplaceTempView('Q400_128WPS_3_1')\n",
    "\n",
    "Q400_128WPS_3_2 = spark.sql('''\n",
    "\n",
    "                    SELECT a.ECN, a.UTC_TIMEDATE, a.AirborneTime, b.TouchDownTime, a.Filename, a.Flightdate\n",
    "                    \n",
    "                    FROM Q400_128WPS_3 a \n",
    "                    \n",
    "                    JOIN Q400_128WPS_3_1 b on a.Filename = b.Filename\n",
    "                    \n",
    "                    AND a.Flightdate = b.Flightdate\n",
    "        ''')\n",
    "\n",
    "Q400_128WPS_3_2.createOrReplaceTempView('Q400_128WPS_3_2')\n",
    "\n",
    "Q400_128WPS_4 = spark.sql('''\n",
    "\n",
    "                                    SELECT ECN, UTC_TIMEDATE, filename, flightdate,\n",
    "                                    \n",
    "                                    CASE \n",
    "                                        WHEN LENGTH(CAST(`AirborneTime` as String)) = 1 THEN CONCAT('00000',CAST(`AirborneTime` as String)) \n",
    "                                        WHEN LENGTH(CAST(`AirborneTime` as String)) = 2 THEN CONCAT('0000',CAST(`AirborneTime` as String)) \n",
    "                                        WHEN LENGTH(CAST(`AirborneTime` as String)) = 3 THEN CONCAT('000',CAST(`AirborneTime` as String))\n",
    "                                        WHEN LENGTH(CAST(`AirborneTime` as String)) = 4 THEN CONCAT('00',CAST(`AirborneTime` as String)) \n",
    "                                        WHEN LENGTH(CAST(`AirborneTime` as String)) = 5 THEN CONCAT('0',CAST(`AirborneTime` as String))\n",
    "                                        ELSE `AirborneTime`\n",
    "                                    END As AirborneTime,\n",
    "                                    CASE \n",
    "                                        WHEN LENGTH(CAST(`TouchdownTime` as String)) = 1 THEN CONCAT('00000',CAST(`TouchdownTime` as String)) \n",
    "                                        WHEN LENGTH(CAST(`TouchdownTime` as String)) = 2 THEN CONCAT('0000',CAST(`TouchdownTime` as String)) \n",
    "                                        WHEN LENGTH(CAST(`TouchdownTime` as String)) = 3 THEN CONCAT('000',CAST(`TouchdownTime` as String))\n",
    "                                        WHEN LENGTH(CAST(`TouchdownTime` as String)) = 4 THEN CONCAT('00',CAST(`TouchdownTime` as String)) \n",
    "                                        WHEN LENGTH(CAST(`TouchdownTime` as String)) = 5 THEN CONCAT('0',CAST(`TouchdownTime` as String))\n",
    "                                        ELSE `TouchdownTime`\n",
    "                                    END As TouchdownTime\n",
    "                                    \n",
    "                                                                        \n",
    "                                    FROM Q400_128WPS_3_2\n",
    "                                                        \n",
    "                            ''')\n",
    "\n",
    "Q400_128WPS_4.createOrReplaceTempView('Q400_128WPS_4')\n",
    "\n",
    "Q400_128WPS_5 = Q400_128WPS_4.withColumn(\"AirborneTime\", F.regexp_replace(F.col(\"AirborneTime\") , \"(\\\\d{2})(\\\\d{2})(\\\\d{2})\" , \"$1:$2:$3\" )) \\\n",
    "                                    .withColumn(\"TouchdownTime\", F.regexp_replace(F.col(\"TouchdownTime\") , \"(\\\\d{2})(\\\\d{2})(\\\\d{2})\" , \"$1:$2:$3\" ))\n",
    "\n",
    "Q400_128WPS_5.createOrReplaceTempView('Q400_128WPS_5')\n",
    "\n",
    "Q400_128WPS_6 = spark.sql('''\n",
    "\n",
    "                        SELECT to_timestamp(concat(flightdate,' ',AirborneTime)) AS Airborne_Time,\n",
    "                        \n",
    "                        to_timestamp(concat(flightdate,' ',TouchdownTime)) AS Touchdown_Time,\n",
    "                        \n",
    "                        Filename,\n",
    "                        \n",
    "                        ECN, \n",
    "                        \n",
    "                        UTC_TIMEDATE\n",
    "                        \n",
    "                        FROM Q400_128WPS_5\n",
    "\n",
    "\n",
    "        ''')\n",
    "\n",
    "Q400_128WPS_6.createOrReplaceTempView('Q400_128WPS_6')\n",
    "\n",
    "Q400_128WPS_7 = spark.sql('''\n",
    "\n",
    "                        SELECT (Airborne_Time + INTERVAL 330 MINUTES) AS AirborneTime, \n",
    "                        \n",
    "                        (Touchdown_Time + INTERVAL 330 MINUTES) AS TouchdownTime,\n",
    "                        \n",
    "                        Filename,\n",
    "                        \n",
    "                        ECN, UTC_TIMEDATE\n",
    "                        \n",
    "                        FROM Q400_128WPS_6\n",
    "                        \n",
    "                        ''')\n",
    "\n",
    "Q400_128WPS_8 = Q400_128WPS_7.withColumn('Airborne_Time', F.date_format('AirborneTime', 'HH:mm:ss')) \\\n",
    "                                    .withColumn('Touchdown_Time', F.date_format('TouchdownTime', 'HH:mm:ss'))\n",
    "\n",
    "Q400_128WPS_8.createOrReplaceTempView('Q400_128WPS_8')\n",
    "\n",
    "Q400_FOB_1 = spark.sql('''\n",
    "\n",
    "                            SELECT \n",
    "                            \n",
    "                            b.flightdate,\n",
    "                                    \n",
    "                                    b.TailNo,\n",
    "                                    \n",
    "                                    b.Departure,\n",
    "                                    \n",
    "                                    b.Actual_DEP_Time,\n",
    "                                    \n",
    "                                    c.Airborne_Time,\n",
    "                                    \n",
    "                                    c.Touchdown_Time,\n",
    "                                    \n",
    "                                    b.Arrival,\n",
    "                                    \n",
    "                                    b.Sector,\n",
    "                                    \n",
    "                                    b.Actual_ARR_Time,\n",
    "                                    \n",
    "                                    b.Blocktime_ARMS,\n",
    "                                    \n",
    "                                    b.Blocktime_DFDR,\n",
    "                                    \n",
    "                                    a.FlightTime,\n",
    "                                                            \n",
    "                                    b.FlightNo,\n",
    "                                    \n",
    "                                    b.Date,\n",
    "                                    \n",
    "                                    b.FuelConsumed,\n",
    "                                    \n",
    "                                    b.FileName,\n",
    "                                    \n",
    "                                    b.loadeddate,\n",
    "                                    \n",
    "                                    b.year,\n",
    "                                    \n",
    "                                    b.month\n",
    "                                    \n",
    "                                    FROM Q400_128WPS_1 a\n",
    "                                    \n",
    "                                    INNER JOIN Q400_128WPS_2_1 b\n",
    "                                    \n",
    "                                    INNER JOIN Q400_128WPS_8 c\n",
    "                                    \n",
    "                                    on a.filename = b.filename\n",
    "                                    \n",
    "                                    and a.ECN = b.ECN\n",
    "                                    \n",
    "                                    and a.UTC_TIMEDATE = b.UTC_TIMEDATE\n",
    "                                    \n",
    "                                    and a.filename = c.filename\n",
    "                                    \n",
    "                                    and a.ECN = c.ECN\n",
    "                                    \n",
    "                                    and a.UTC_TIMEDATE = c.UTC_TIMEDATE\n",
    "                                    \n",
    "                                ''')\n",
    "\n",
    "Q400_FOB_1.createOrReplaceTempView('Q400_FOB_1')\n",
    "\n",
    "Q400_FOB = spark.sql('''\n",
    "\n",
    "            SELECT \n",
    "                            \n",
    "                            flightdate,\n",
    "                                    \n",
    "                                    TailNo,\n",
    "                                    \n",
    "                                    Departure,\n",
    "                                    \n",
    "                                    Actual_DEP_Time,\n",
    "                                    \n",
    "                                    Airborne_Time,\n",
    "                                    \n",
    "                                    Touchdown_Time,\n",
    "                                    \n",
    "                                    Arrival,\n",
    "                                    \n",
    "                                    Sector,\n",
    "                                    \n",
    "                                    Actual_ARR_Time,\n",
    "                                    \n",
    "                                    CONCAT( CASE \n",
    "                                            WHEN LENGTH ( CAST(CAST(Blocktime_ARMS / 60 AS INT) AS STRING)) =1\n",
    "                                            THEN CONCAT('0',CAST(CAST(Blocktime_ARMS / 60 AS INT) AS STRING))\n",
    "                                            ELSE CAST(CAST(Blocktime_ARMS / 60 AS INT) AS STRING)\n",
    "                                        END,\n",
    "                                        ':',\n",
    "                                        CASE \n",
    "                                            WHEN LENGTH ( CAST(CAST(Blocktime_ARMS % 60 AS INT) AS STRING)) =1\n",
    "                                            THEN CONCAT('0',CAST(CAST(Blocktime_ARMS % 60 AS INT) AS STRING))\n",
    "                                            ELSE CAST(CAST(Blocktime_ARMS % 60 AS INT) AS STRING)\n",
    "                                        END ) AS BlockTime_ARMS,\n",
    "                                    \n",
    "                                        CONCAT( CASE \n",
    "                                            WHEN LENGTH ( CAST(CAST(Blocktime_DFDR / 60 AS INT) AS STRING)) =1\n",
    "                                            THEN CONCAT('0',CAST(CAST(Blocktime_DFDR / 60 AS INT) AS STRING))\n",
    "                                            ELSE CAST(CAST(Blocktime_DFDR / 60 AS INT) AS STRING)\n",
    "                                        END,\n",
    "                                        ':',\n",
    "                                        CASE \n",
    "                                            WHEN LENGTH ( CAST(CAST(Blocktime_DFDR % 60 AS INT) AS STRING)) =1\n",
    "                                            THEN CONCAT('0',CAST(CAST(Blocktime_DFDR % 60 AS INT) AS STRING))\n",
    "                                            ELSE CAST(CAST(Blocktime_DFDR % 60 AS INT) AS STRING)\n",
    "                                        END ) AS BlockTime_DFDR,\n",
    "                                    \n",
    "                                        CONCAT( CASE \n",
    "                                            WHEN LENGTH ( CAST(CAST(FlightTime / 60 AS INT) AS STRING)) =1\n",
    "                                            THEN CONCAT('0',CAST(CAST(FlightTime / 60 AS INT) AS STRING))\n",
    "                                            ELSE CAST(CAST(FlightTime / 60 AS INT) AS STRING)\n",
    "                                        END,\n",
    "                                        ':',\n",
    "                                        CASE \n",
    "                                            WHEN LENGTH ( CAST(CAST(FlightTime % 60 AS INT) AS STRING)) =1\n",
    "                                            THEN CONCAT('0',CAST(CAST(FlightTime % 60 AS INT) AS STRING))\n",
    "                                            ELSE CAST(CAST(FlightTime % 60 AS INT) AS STRING)\n",
    "                                        END ) AS FlightTime,\n",
    "                                                            \n",
    "                                        FlightNo,\n",
    "                                    \n",
    "                                        Date,\n",
    "                                    \n",
    "                                        FuelConsumed,\n",
    "                                    \n",
    "                                        FileName,\n",
    "                                    \n",
    "                                        loadeddate,\n",
    "                                    \n",
    "                                        year,\n",
    "                                    \n",
    "                                        month\n",
    "\n",
    "                                        FROM Q400_FOB_1\n",
    "            \n",
    "\n",
    "            \n",
    "            \n",
    "            ''')\n",
    "\n",
    "Q400_FOB.createOrReplaceTempView('Q400_FOB')\n",
    "\n",
    "SALTDF = spark.read \\\n",
    "  .format(\"jdbc\") \\\n",
    "  .option(\"driver\", \"com.microsoft.sqlserver.jdbc.SQLServerDriver\") \\\n",
    "  .option(\"url\", \"jdbc:sqlserver://10.150.72.22:1433;databaseName=SALT\") \\\n",
    "  .option(\"dbtable\", \"LoadAndTrimDetails\") \\\n",
    "  .option(\"user\", \"dmbigdata\") \\\n",
    "  .option(\"password\", \"$p!Ce@bigData$db\") \\\n",
    "  .load()\n",
    "\n",
    "SALTDF.createOrReplaceTempView('SALTDF')"
   ]
  },
  {
   "cell_type": "code",
   "execution_count": 4,
   "id": "e2b68ab3-f9d7-4cbc-a792-8d554a1795be",
   "metadata": {
    "execution": {
     "iopub.execute_input": "2023-01-19T05:32:50.006877Z",
     "iopub.status.busy": "2023-01-19T05:32:50.006710Z",
     "iopub.status.idle": "2023-01-19T05:32:50.259196Z",
     "shell.execute_reply": "2023-01-19T05:32:50.258708Z",
     "shell.execute_reply.started": "2023-01-19T05:32:50.006855Z"
    },
    "tags": []
   },
   "outputs": [
    {
     "data": {
      "application/vnd.jupyter.widget-view+json": {
       "model_id": "570f030484fc4a2eaa3ec48849d3a98d",
       "version_major": 2,
       "version_minor": 0
      },
      "text/plain": [
       "VBox()"
      ]
     },
     "metadata": {},
     "output_type": "display_data"
    },
    {
     "data": {
      "application/vnd.jupyter.widget-view+json": {
       "model_id": "",
       "version_major": 2,
       "version_minor": 0
      },
      "text/plain": [
       "FloatProgress(value=0.0, bar_style='info', description='Progress:', layout=Layout(height='25px', width='50%'),…"
      ]
     },
     "metadata": {},
     "output_type": "display_data"
    }
   ],
   "source": [
    "Q400FinalFOBDF = spark.sql('''\n",
    "\n",
    "                SELECT a.flightdate,\n",
    "                               \n",
    "                               a.TailNo,\n",
    "                               \n",
    "                               a.FlightNo,\n",
    "                               \n",
    "                               a.Sector,\n",
    "                               \n",
    "                               a.Departure,\n",
    "                               \n",
    "                               a.Actual_DEP_Time,\n",
    "                               \n",
    "                               a.Airborne_Time,\n",
    "                               \n",
    "                               a.Touchdown_Time,\n",
    "                               \n",
    "                               a.Arrival,\n",
    "                               \n",
    "                               a.Actual_ARR_Time,\n",
    "                               \n",
    "                               b.FOB,\n",
    "                               \n",
    "                               (CAST (b.FOB AS INT) + 105) AS DepartureFuel,\n",
    "                               \n",
    "                               a.FuelConsumed,\n",
    "                               \n",
    "                               a.BlockTime_ARMS,\n",
    "                               \n",
    "                               a.BlockTime_DFDR,\n",
    "                               \n",
    "                               a.FlightTime,\n",
    "                                                    \n",
    "                               ((CAST (b.FOB AS INT) + 105) - CAST (a.FuelConsumed AS INT)) AS ArrivalFuel,\n",
    "                               \n",
    "                               a.FileName,\n",
    "                               \n",
    "                               a.loadeddate,\n",
    "                               \n",
    "                               a.year,\n",
    "                               \n",
    "                               a.month,\n",
    "\n",
    "                               current_timestamp()   AS `ProcessedDate`\n",
    "\n",
    "                               FROM Q400_FOB a \n",
    "                \n",
    "                LEFT JOIN SALTDF b on a.FlightDate = CAST(b.FlightDate AS date)\n",
    "                \n",
    "                AND REPLACE(a.FlightNo,' ','') = b.FlightNo\n",
    "                \n",
    "                AND a.Departure = b.Source\n",
    "                \n",
    "                AND a.Arrival = b.Destination\n",
    "                \n",
    "                ''')"
   ]
  },
  {
   "cell_type": "code",
   "execution_count": 5,
   "id": "84a877c0-c1d2-4d55-bf95-174ce8ebfaac",
   "metadata": {
    "execution": {
     "iopub.execute_input": "2023-01-19T05:32:50.260376Z",
     "iopub.status.busy": "2023-01-19T05:32:50.260130Z",
     "iopub.status.idle": "2023-01-19T05:32:50.511251Z",
     "shell.execute_reply": "2023-01-19T05:32:50.510737Z",
     "shell.execute_reply.started": "2023-01-19T05:32:50.260355Z"
    },
    "tags": []
   },
   "outputs": [
    {
     "data": {
      "application/vnd.jupyter.widget-view+json": {
       "model_id": "cb0138972fa141cd99ca812b3a742625",
       "version_major": 2,
       "version_minor": 0
      },
      "text/plain": [
       "VBox()"
      ]
     },
     "metadata": {},
     "output_type": "display_data"
    },
    {
     "data": {
      "application/vnd.jupyter.widget-view+json": {
       "model_id": "",
       "version_major": 2,
       "version_minor": 0
      },
      "text/plain": [
       "FloatProgress(value=0.0, bar_style='info', description='Progress:', layout=Layout(height='25px', width='50%'),…"
      ]
     },
     "metadata": {},
     "output_type": "display_data"
    }
   ],
   "source": [
    "Q400FinalFOBDF.createOrReplaceTempView('Q400FinalFOBDF')"
   ]
  },
  {
   "cell_type": "code",
   "execution_count": 6,
   "id": "129c3666-9684-40a7-b7d8-f4907e3b09fa",
   "metadata": {
    "execution": {
     "iopub.execute_input": "2023-01-19T05:33:00.432268Z",
     "iopub.status.busy": "2023-01-19T05:33:00.432047Z",
     "iopub.status.idle": "2023-01-19T05:33:00.480197Z",
     "shell.execute_reply": "2023-01-19T05:33:00.479725Z",
     "shell.execute_reply.started": "2023-01-19T05:33:00.432244Z"
    },
    "tags": []
   },
   "outputs": [
    {
     "data": {
      "application/vnd.jupyter.widget-view+json": {
       "model_id": "f330b709c7be415a8e0172347f59bd6a",
       "version_major": 2,
       "version_minor": 0
      },
      "text/plain": [
       "VBox()"
      ]
     },
     "metadata": {},
     "output_type": "display_data"
    },
    {
     "data": {
      "application/vnd.jupyter.widget-view+json": {
       "model_id": "",
       "version_major": 2,
       "version_minor": 0
      },
      "text/plain": [
       "FloatProgress(value=0.0, bar_style='info', description='Progress:', layout=Layout(height='25px', width='50%'),…"
      ]
     },
     "metadata": {},
     "output_type": "display_data"
    }
   ],
   "source": [
    "FuelOnBoardFinal = spark.sql(''' SELECT \n",
    "                                       FlightDate\n",
    "                                      ,TailNo\n",
    "                                      ,FlightNo\n",
    "                                      ,Sector\n",
    "                                      ,Departure\n",
    "                                      ,Actual_DEP_time\n",
    "                                      ,Airborne_Time\n",
    "                                      ,Touchdown_Time\n",
    "                                      ,Arrival\n",
    "                                      ,Actual_ARR_time\n",
    "                                      ,fob\n",
    "                                      ,DepartureFuel\n",
    "                                      ,FuelConsumed\n",
    "                                      ,Blocktime_ARMS\n",
    "                                      ,Blocktime_DFDR\n",
    "                                      ,FlightTime\n",
    "                                      ,ArrivalFuel\n",
    "                                      ,FileName\n",
    "                                      ,LoadedDate\n",
    "                                      ,current_timestamp() AS `ProcessedDate`\n",
    "                                      ,Year\n",
    "                                      ,Month\n",
    "                                FROM Q400FinalFOBDF ''')"
   ]
  },
  {
   "cell_type": "code",
   "execution_count": 7,
   "id": "c25248a8-80e8-4a5b-8c0c-1184c638a50f",
   "metadata": {
    "execution": {
     "iopub.execute_input": "2023-01-19T05:33:08.032415Z",
     "iopub.status.busy": "2023-01-19T05:33:08.032195Z",
     "iopub.status.idle": "2023-01-19T05:34:25.612958Z",
     "shell.execute_reply": "2023-01-19T05:34:25.612457Z",
     "shell.execute_reply.started": "2023-01-19T05:33:08.032391Z"
    },
    "tags": []
   },
   "outputs": [
    {
     "data": {
      "application/vnd.jupyter.widget-view+json": {
       "model_id": "fa614ed109d14e27a19079ce0f89945f",
       "version_major": 2,
       "version_minor": 0
      },
      "text/plain": [
       "VBox()"
      ]
     },
     "metadata": {},
     "output_type": "display_data"
    },
    {
     "data": {
      "application/vnd.jupyter.widget-view+json": {
       "model_id": "",
       "version_major": 2,
       "version_minor": 0
      },
      "text/plain": [
       "FloatProgress(value=0.0, bar_style='info', description='Progress:', layout=Layout(height='25px', width='50%'),…"
      ]
     },
     "metadata": {},
     "output_type": "display_data"
    }
   ],
   "source": [
    "FuelOnBoardFinal.write.mode('append').partitionBy(\"year\", \"month\").parquet('s3://sjet-datamart-bucket/FuelOnBoard/fuel-on-board-processed-q400/')"
   ]
  },
  {
   "cell_type": "code",
   "execution_count": 8,
   "id": "d3b514fc-ce43-4f81-86ca-566a5deb40f4",
   "metadata": {
    "execution": {
     "iopub.execute_input": "2023-01-19T05:34:25.614119Z",
     "iopub.status.busy": "2023-01-19T05:34:25.613949Z",
     "iopub.status.idle": "2023-01-19T05:35:23.059312Z",
     "shell.execute_reply": "2023-01-19T05:35:23.058817Z",
     "shell.execute_reply.started": "2023-01-19T05:34:25.614099Z"
    },
    "tags": []
   },
   "outputs": [
    {
     "data": {
      "application/vnd.jupyter.widget-view+json": {
       "model_id": "8cdff2dc1aeb458a9fd94900f185f82e",
       "version_major": 2,
       "version_minor": 0
      },
      "text/plain": [
       "VBox()"
      ]
     },
     "metadata": {},
     "output_type": "display_data"
    },
    {
     "data": {
      "application/vnd.jupyter.widget-view+json": {
       "model_id": "",
       "version_major": 2,
       "version_minor": 0
      },
      "text/plain": [
       "FloatProgress(value=0.0, bar_style='info', description='Progress:', layout=Layout(height='25px', width='50%'),…"
      ]
     },
     "metadata": {},
     "output_type": "display_data"
    }
   ],
   "source": [
    "FuelOnBoardFinal \\\n",
    "  .write \\\n",
    "  .format(\"jdbc\") \\\n",
    "  .mode(\"append\") \\\n",
    "  .option(\"driver\", \"com.microsoft.sqlserver.jdbc.SQLServerDriver\") \\\n",
    "  .option(\"url\", \"jdbc:sqlserver://10.150.72.22:1433;databaseName=FuelDashBoard\") \\\n",
    "  .option(\"dbtable\", \"FuelOnBoard_Q400STG\") \\\n",
    "  .option(\"user\", \"dmbigdata\") \\\n",
    "  .option(\"password\", \"$p!Ce@bigData$db\") \\\n",
    "  .save()"
   ]
  },
  {
   "cell_type": "code",
   "execution_count": 9,
   "id": "852c7a6b-2310-4a0d-9a29-d2ee8b823b0b",
   "metadata": {
    "execution": {
     "iopub.execute_input": "2023-01-19T05:35:23.060482Z",
     "iopub.status.busy": "2023-01-19T05:35:23.060317Z",
     "iopub.status.idle": "2023-01-19T05:36:02.461907Z",
     "shell.execute_reply": "2023-01-19T05:36:02.461381Z",
     "shell.execute_reply.started": "2023-01-19T05:35:23.060461Z"
    },
    "tags": []
   },
   "outputs": [
    {
     "data": {
      "application/vnd.jupyter.widget-view+json": {
       "model_id": "fcca39ca2d9b45bf98200d4e769e70a3",
       "version_major": 2,
       "version_minor": 0
      },
      "text/plain": [
       "VBox()"
      ]
     },
     "metadata": {},
     "output_type": "display_data"
    },
    {
     "data": {
      "application/vnd.jupyter.widget-view+json": {
       "model_id": "",
       "version_major": 2,
       "version_minor": 0
      },
      "text/plain": [
       "FloatProgress(value=0.0, bar_style='info', description='Progress:', layout=Layout(height='25px', width='50%'),…"
      ]
     },
     "metadata": {},
     "output_type": "display_data"
    },
    {
     "name": "stdout",
     "output_type": "stream",
     "text": [
      "1834"
     ]
    }
   ],
   "source": [
    "FuelOnBoardFinal.count()"
   ]
  },
  {
   "cell_type": "code",
   "execution_count": 18,
   "id": "1f5c20ce-9bdf-40e4-9d94-27f49bd2c02c",
   "metadata": {
    "execution": {
     "iopub.execute_input": "2023-01-18T12:34:06.086433Z",
     "iopub.status.busy": "2023-01-18T12:34:06.086210Z",
     "iopub.status.idle": "2023-01-18T12:34:06.336191Z",
     "shell.execute_reply": "2023-01-18T12:34:06.335610Z",
     "shell.execute_reply.started": "2023-01-18T12:34:06.086411Z"
    }
   },
   "outputs": [
    {
     "data": {
      "application/vnd.jupyter.widget-view+json": {
       "model_id": "8d30bdd5e762490593df24e0a040a274",
       "version_major": 2,
       "version_minor": 0
      },
      "text/plain": [
       "VBox()"
      ]
     },
     "metadata": {},
     "output_type": "display_data"
    },
    {
     "data": {
      "application/vnd.jupyter.widget-view+json": {
       "model_id": "",
       "version_major": 2,
       "version_minor": 0
      },
      "text/plain": [
       "FloatProgress(value=0.0, bar_style='info', description='Progress:', layout=Layout(height='25px', width='50%'),…"
      ]
     },
     "metadata": {},
     "output_type": "display_data"
    }
   ],
   "source": [
    "spark.stop()"
   ]
  },
  {
   "cell_type": "code",
   "execution_count": null,
   "id": "fbd154fc-00f3-4270-923f-444886d69f7f",
   "metadata": {},
   "outputs": [],
   "source": []
  }
 ],
 "metadata": {
  "kernelspec": {
   "display_name": "PySpark",
   "language": "",
   "name": "pysparkkernel"
  },
  "language_info": {
   "codemirror_mode": {
    "name": "python",
    "version": 3
   },
   "mimetype": "text/x-python",
   "name": "pyspark",
   "pygments_lexer": "python3"
  }
 },
 "nbformat": 4,
 "nbformat_minor": 5
}
