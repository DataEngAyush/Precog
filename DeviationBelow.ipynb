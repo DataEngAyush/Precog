{
 "cells": [
  {
   "cell_type": "code",
   "execution_count": 1,
   "id": "6431aa04-58aa-4967-9ddd-ad38be921662",
   "metadata": {
    "execution": {
     "iopub.execute_input": "2022-09-20T10:31:18.130207Z",
     "iopub.status.busy": "2022-09-20T10:31:18.129978Z",
     "iopub.status.idle": "2022-09-20T10:31:46.977342Z",
     "shell.execute_reply": "2022-09-20T10:31:46.976705Z",
     "shell.execute_reply.started": "2022-09-20T10:31:18.130182Z"
    },
    "tags": []
   },
   "outputs": [
    {
     "data": {
      "application/vnd.jupyter.widget-view+json": {
       "model_id": "2fc4390908634113b984d6abf5ac3fd1",
       "version_major": 2,
       "version_minor": 0
      },
      "text/plain": [
       "VBox()"
      ]
     },
     "metadata": {},
     "output_type": "display_data"
    },
    {
     "name": "stdout",
     "output_type": "stream",
     "text": [
      "Starting Spark application\n"
     ]
    },
    {
     "data": {
      "text/html": [
       "<table>\n",
       "<tr><th>ID</th><th>YARN Application ID</th><th>Kind</th><th>State</th><th>Spark UI</th><th>Driver log</th><th>Current session?</th></tr><tr><td>6</td><td>application_1663652353215_0008</td><td>pyspark</td><td>idle</td><td><a target=\"_blank\" href=\"http://ip-20-0-4-138.ap-south-1.compute.internal:20888/proxy/application_1663652353215_0008/\" class=\"emr-proxy-link\" emr-resource=\"j-1ZOE1IGVONN9R\n",
       "\" application-id=\"application_1663652353215_0008\">Link</a></td><td><a target=\"_blank\" href=\"http://ip-20-0-4-45.ap-south-1.compute.internal:8042/node/containerlogs/container_1663652353215_0008_01_000001/livy\" >Link</a></td><td>✔</td></tr></table>"
      ],
      "text/plain": [
       "<IPython.core.display.HTML object>"
      ]
     },
     "metadata": {},
     "output_type": "display_data"
    },
    {
     "data": {
      "application/vnd.jupyter.widget-view+json": {
       "model_id": "",
       "version_major": 2,
       "version_minor": 0
      },
      "text/plain": [
       "FloatProgress(value=0.0, bar_style='info', description='Progress:', layout=Layout(height='25px', width='50%'),…"
      ]
     },
     "metadata": {},
     "output_type": "display_data"
    },
    {
     "name": "stdout",
     "output_type": "stream",
     "text": [
      "SparkSession available as 'spark'.\n"
     ]
    },
    {
     "data": {
      "application/vnd.jupyter.widget-view+json": {
       "model_id": "",
       "version_major": 2,
       "version_minor": 0
      },
      "text/plain": [
       "FloatProgress(value=0.0, bar_style='info', description='Progress:', layout=Layout(height='25px', width='50%'),…"
      ]
     },
     "metadata": {},
     "output_type": "display_data"
    }
   ],
   "source": [
    "from pyspark import SparkConf\n",
    "from pyspark import SparkContext\n",
    "from pyspark.sql import SparkSession\n",
    "from pyspark.sql.types import *\n",
    "from pyspark.sql import functions as F\n",
    "import boto3\n",
    "import sys\n",
    "import re\n",
    "from datetime import datetime\n",
    "import configparser"
   ]
  },
  {
   "cell_type": "code",
   "execution_count": 2,
   "id": "e600a35b-90a9-4393-8902-c10950d04410",
   "metadata": {
    "execution": {
     "iopub.execute_input": "2022-09-20T08:42:16.512274Z",
     "iopub.status.busy": "2022-09-20T08:42:16.511931Z",
     "iopub.status.idle": "2022-09-20T08:42:21.827644Z",
     "shell.execute_reply": "2022-09-20T08:42:21.827055Z",
     "shell.execute_reply.started": "2022-09-20T08:42:16.512237Z"
    },
    "tags": []
   },
   "outputs": [
    {
     "data": {
      "application/vnd.jupyter.widget-view+json": {
       "model_id": "f63f686d291143acbab20e859240bb49",
       "version_major": 2,
       "version_minor": 0
      },
      "text/plain": [
       "VBox()"
      ]
     },
     "metadata": {},
     "output_type": "display_data"
    },
    {
     "data": {
      "application/vnd.jupyter.widget-view+json": {
       "model_id": "",
       "version_major": 2,
       "version_minor": 0
      },
      "text/plain": [
       "FloatProgress(value=0.0, bar_style='info', description='Progress:', layout=Layout(height='25px', width='50%'),…"
      ]
     },
     "metadata": {},
     "output_type": "display_data"
    }
   ],
   "source": [
    "Q400Final = spark.sql('''\n",
    "                    SELECT * \n",
    "                        From precogdb.q400512wps where filename = 'ALL ac=VT-SQB dep=AMD arr=DED fn=SG 3761 dt=20220814.csv' \n",
    "                ''')"
   ]
  },
  {
   "cell_type": "code",
   "execution_count": 3,
   "id": "8456789a-5418-4fa3-a063-889ff7fcbda5",
   "metadata": {
    "execution": {
     "iopub.execute_input": "2022-09-20T08:42:21.829099Z",
     "iopub.status.busy": "2022-09-20T08:42:21.828894Z",
     "iopub.status.idle": "2022-09-20T08:42:22.103205Z",
     "shell.execute_reply": "2022-09-20T08:42:22.102429Z",
     "shell.execute_reply.started": "2022-09-20T08:42:21.829077Z"
    },
    "tags": []
   },
   "outputs": [
    {
     "data": {
      "application/vnd.jupyter.widget-view+json": {
       "model_id": "ad3dfccba4c440da8ff25a978469c40f",
       "version_major": 2,
       "version_minor": 0
      },
      "text/plain": [
       "VBox()"
      ]
     },
     "metadata": {},
     "output_type": "display_data"
    },
    {
     "data": {
      "application/vnd.jupyter.widget-view+json": {
       "model_id": "",
       "version_major": 2,
       "version_minor": 0
      },
      "text/plain": [
       "FloatProgress(value=0.0, bar_style='info', description='Progress:', layout=Layout(height='25px', width='50%'),…"
      ]
     },
     "metadata": {},
     "output_type": "display_data"
    }
   ],
   "source": [
    "Q400_stage3_df = Q400Final.filter(~(F.col(\"RAD-ALT\").like (\"*\")) \n",
    "                                                        & (F.col(\"RAD-ALT\") != \" \"))"
   ]
  },
  {
   "cell_type": "code",
   "execution_count": 4,
   "id": "3afd8ca8-4f76-4a80-8e2c-f412b14b5a09",
   "metadata": {
    "execution": {
     "iopub.execute_input": "2022-09-20T08:42:22.105009Z",
     "iopub.status.busy": "2022-09-20T08:42:22.104591Z",
     "iopub.status.idle": "2022-09-20T08:42:23.585753Z",
     "shell.execute_reply": "2022-09-20T08:42:23.585171Z",
     "shell.execute_reply.started": "2022-09-20T08:42:22.104970Z"
    },
    "tags": []
   },
   "outputs": [
    {
     "data": {
      "application/vnd.jupyter.widget-view+json": {
       "model_id": "c522eb3587724abfacb20950012bb15a",
       "version_major": 2,
       "version_minor": 0
      },
      "text/plain": [
       "VBox()"
      ]
     },
     "metadata": {},
     "output_type": "display_data"
    },
    {
     "data": {
      "application/vnd.jupyter.widget-view+json": {
       "model_id": "",
       "version_major": 2,
       "version_minor": 0
      },
      "text/plain": [
       "FloatProgress(value=0.0, bar_style='info', description='Progress:', layout=Layout(height='25px', width='50%'),…"
      ]
     },
     "metadata": {},
     "output_type": "display_data"
    }
   ],
   "source": [
    "Q400_stage3_df.createOrReplaceTempView(\"Q400Final\")"
   ]
  },
  {
   "cell_type": "code",
   "execution_count": 5,
   "id": "d3bc23ff-abb5-4db0-b306-668b9a1a6b6c",
   "metadata": {
    "execution": {
     "iopub.execute_input": "2022-09-20T08:42:23.597171Z",
     "iopub.status.busy": "2022-09-20T08:42:23.596902Z",
     "iopub.status.idle": "2022-09-20T08:45:53.498368Z",
     "shell.execute_reply": "2022-09-20T08:45:53.497520Z",
     "shell.execute_reply.started": "2022-09-20T08:42:23.597138Z"
    },
    "tags": []
   },
   "outputs": [
    {
     "data": {
      "application/vnd.jupyter.widget-view+json": {
       "model_id": "4bcc3334a8d84bb1abdd8b9c2c752416",
       "version_major": 2,
       "version_minor": 0
      },
      "text/plain": [
       "VBox()"
      ]
     },
     "metadata": {},
     "output_type": "display_data"
    },
    {
     "data": {
      "application/vnd.jupyter.widget-view+json": {
       "model_id": "",
       "version_major": 2,
       "version_minor": 0
      },
      "text/plain": [
       "FloatProgress(value=0.0, bar_style='info', description='Progress:', layout=Layout(height='25px', width='50%'),…"
      ]
     },
     "metadata": {},
     "output_type": "display_data"
    }
   ],
   "source": [
    "Q400_stage3_df.coalesce(1).write.csv('s3://sjet-datamart-bucket/PoC-Ayush/Test1-512/', header=True)"
   ]
  },
  {
   "cell_type": "code",
   "execution_count": 6,
   "id": "f7b615e8-0fe4-483f-bf19-b9a08b9ecd07",
   "metadata": {
    "execution": {
     "iopub.execute_input": "2022-09-20T08:33:43.701224Z",
     "iopub.status.busy": "2022-09-20T08:33:43.700986Z",
     "iopub.status.idle": "2022-09-20T08:33:44.484799Z",
     "shell.execute_reply": "2022-09-20T08:33:44.484227Z",
     "shell.execute_reply.started": "2022-09-20T08:33:43.701201Z"
    },
    "tags": []
   },
   "outputs": [
    {
     "data": {
      "application/vnd.jupyter.widget-view+json": {
       "model_id": "ab30d264bf384474a663228a86f1eb3c",
       "version_major": 2,
       "version_minor": 0
      },
      "text/plain": [
       "VBox()"
      ]
     },
     "metadata": {},
     "output_type": "display_data"
    },
    {
     "data": {
      "application/vnd.jupyter.widget-view+json": {
       "model_id": "",
       "version_major": 2,
       "version_minor": 0
      },
      "text/plain": [
       "FloatProgress(value=0.0, bar_style='info', description='Progress:', layout=Layout(height='25px', width='50%'),…"
      ]
     },
     "metadata": {},
     "output_type": "display_data"
    }
   ],
   "source": [
    "Q400Interim = Q400_stage3_df.alias('ED').select('ED.FlightID',\n",
    "                                                            'ED.DesigFlightNumber',\n",
    "                                                            'ED.FlightNumberARMS',\n",
    "                                                            'ED.FlightDate',\n",
    "                                                            'ED.FromCity',\n",
    "                                                            'ED.ToCity',\n",
    "                                                            'ED.BlockTime',\n",
    "                                                            'ED.ECN',\n",
    "                                                            'ED.EmployeeName',\n",
    "                                                            'ED.RANK',\n",
    "                                                            'ED.ChocksOff',\n",
    "                                                            'ED.ChocksOn',\n",
    "                                                            'ED.DOMINT',\n",
    "                                                            'ED.AircraftType',\n",
    "                                                            'ED.AircraftModel',  \n",
    "                                                            'ED.Payload',\n",
    "                                                            'ED.TailNo',\n",
    "                                                            'ED.Departure',\n",
    "                                                            'ED.Arrival',\n",
    "                                                            'ED.FlightNo',\n",
    "                                                            'ED.Date',\n",
    "                                                            'ED.Time-In-Secs', \n",
    "                                                            'ED.Time-Per-Sec', \n",
    "                                                            'ED.BARO-CORRECTED-PALT-DERIVED', \n",
    "                                                            'ED.Altitude-BaroL', \n",
    "                                                            'ED.HEADING-MAGNETIC', \n",
    "                                                            'ED.PITCH-ANGLE', \n",
    "                                                            'ED.ROLL-ANGLE',\n",
    "                                                            F.col('ED.RAD-ALT').cast('Integer').alias('RAD-ALT'), \n",
    "                                                            F.lit(F.regexp_replace('ED.WOW-NLG', '\\\\*', '')).alias('WOW-NLG'), \n",
    "                                                            F.lit(F.regexp_replace('ED.WOW-MLG', '\\\\*', '')).alias('WOW-MLG'),\n",
    "                                                            'ED.ACCN-NORMAL', \n",
    "                                                            'ED.ACCN-LATERAL', \n",
    "                                                            'ED.ACCN-LONGITUDINAL', \n",
    "                                                            'ED.AIRSPEED-CAS-L', \n",
    "                                                            'ED.AFCS-SEL-AIRSPEED', \n",
    "                                                            'ED.VERTICAL-SPEED-Derived', \n",
    "                                                            'ED.FMS-GROUNDSPEED', \n",
    "                                                            'ED.FLAP-CONTROL-POS-Gated', \n",
    "                                                            'ED.FLAP-POSITION', \n",
    "                                                            'ED.PLA-1', \n",
    "                                                            'ED.PLA-2', \n",
    "                                                            'ED.TORQUE-1', \n",
    "                                                            'ED.TORQUE-2', \n",
    "                                                            'ED.CLA-1', \n",
    "                                                            'ED.CLA-2', \n",
    "                                                            'ED.NP-1', \n",
    "                                                            'ED.NP-2', \n",
    "                                                            'ED.EGPWS-ALERT-WARNING', \n",
    "                                                            'ED.EGPWS-GS-ALERT', \n",
    "                                                            F.regexp_replace(F.col('ED.AFCS-GS-MODE'), '\\\\*', '').alias('AFCS-GS-MODE'),\n",
    "                                                            'ED.AFCS-LOC-MODE', \n",
    "                                                            'ED.AFCS-VOR-MODE', \n",
    "                                                            F.regexp_replace(F.col('ED.ILS-GS-DEV-1'), '\\\\*', '').alias('ILS-GS-DEV-1'),  \n",
    "                                                            F.regexp_replace(F.col('ED.ILS-GS-DEV-2'), '\\\\*', '').alias('ILS-GS-DEV-2'),\n",
    "                                                            'ED.DME-DISTANCE-1', \n",
    "                                                            'ED.DME-DISTANCE-2', \n",
    "                                                            'ED.VOR-FREQ-1', \n",
    "                                                            'ED.VOR-FREQ-2', \n",
    "                                                            'ED.FMS-WIND-ANGLE', \n",
    "                                                            'ED.FMS-WIND-SPEED', \n",
    "                                                            'ED.BRAKE-PRESS-LEFT', \n",
    "                                                            'ED.BRAKE-PRESS-RIGHT', \n",
    "                                                            'ED.PROP-BETA-RANGE-1', \n",
    "                                                            'ED.PROP-BETA-RANGE-2', \n",
    "                                                            'ED.AP-ENGAGED', \n",
    "                                                            'ED.FileName',\n",
    "                                                            'ED.LoadedDate',\n",
    "                                                            'ED.LoadedBy',\n",
    "                                                            'ED.DataFrameName',\n",
    "                                                            'ED.year',\n",
    "                                                            'ED.month')\n"
   ]
  },
  {
   "cell_type": "code",
   "execution_count": 7,
   "id": "c75c6973-aa2b-42c1-ae4f-1b92d0632e54",
   "metadata": {
    "execution": {
     "iopub.execute_input": "2022-09-20T08:33:44.992213Z",
     "iopub.status.busy": "2022-09-20T08:33:44.991982Z",
     "iopub.status.idle": "2022-09-20T08:33:45.259602Z",
     "shell.execute_reply": "2022-09-20T08:33:45.258626Z",
     "shell.execute_reply.started": "2022-09-20T08:33:44.992187Z"
    },
    "tags": []
   },
   "outputs": [
    {
     "data": {
      "application/vnd.jupyter.widget-view+json": {
       "model_id": "1f8e0d64ed1e430784462355c0087376",
       "version_major": 2,
       "version_minor": 0
      },
      "text/plain": [
       "VBox()"
      ]
     },
     "metadata": {},
     "output_type": "display_data"
    },
    {
     "data": {
      "application/vnd.jupyter.widget-view+json": {
       "model_id": "",
       "version_major": 2,
       "version_minor": 0
      },
      "text/plain": [
       "FloatProgress(value=0.0, bar_style='info', description='Progress:', layout=Layout(height='25px', width='50%'),…"
      ]
     },
     "metadata": {},
     "output_type": "display_data"
    }
   ],
   "source": [
    "Q400Interim.na.fill(0).createOrReplaceTempView(\"Q400Interim\")"
   ]
  },
  {
   "cell_type": "code",
   "execution_count": 8,
   "id": "d65503fe-4581-456c-93e5-5dab6cb1c057",
   "metadata": {
    "execution": {
     "iopub.execute_input": "2022-09-20T08:33:45.697108Z",
     "iopub.status.busy": "2022-09-20T08:33:45.696844Z",
     "iopub.status.idle": "2022-09-20T08:33:47.002447Z",
     "shell.execute_reply": "2022-09-20T08:33:47.001821Z",
     "shell.execute_reply.started": "2022-09-20T08:33:45.697082Z"
    },
    "tags": []
   },
   "outputs": [
    {
     "data": {
      "application/vnd.jupyter.widget-view+json": {
       "model_id": "409974d2cdd34f9c917e8532a0a3018e",
       "version_major": 2,
       "version_minor": 0
      },
      "text/plain": [
       "VBox()"
      ]
     },
     "metadata": {},
     "output_type": "display_data"
    },
    {
     "data": {
      "application/vnd.jupyter.widget-view+json": {
       "model_id": "",
       "version_major": 2,
       "version_minor": 0
      },
      "text/plain": [
       "FloatProgress(value=0.0, bar_style='info', description='Progress:', layout=Layout(height='25px', width='50%'),…"
      ]
     },
     "metadata": {},
     "output_type": "display_data"
    }
   ],
   "source": [
    "Q400GSD = spark.sql(f'''\n",
    "                                 SELECT  \n",
    "                                        'FU 0.8' Limit,\n",
    "                                        `Time-In-Secs` as `Time-In-Secs-EX`,\n",
    "                                        `BARO-CORRECTED-PALT-DERIVED` as `BARO-CORRECTED-PALT-DERIVED-EX`,\n",
    "                                        `RAD-ALT` AS `RAD-ALT-EX` ,\n",
    "                                        `ILS-GS-DEV-1` `ILS-GS-DEV-1-EX`,\n",
    "                                        `ILS-GS-DEV-2` `ILS-GS-DEV-2-EX`,\n",
    "                                        'DeviationBelowG/S' as ExceedanceName,\n",
    "                                         FN.*\n",
    "\n",
    "                                FROM (\n",
    "                                        SELECT \n",
    "                                            case\n",
    "                                                    when\n",
    "                                                            `Time-In-Secs`<DJ.MinTime\n",
    "                                                    Then\n",
    "                                                            'TakeOff'\n",
    "                                                    when\n",
    "                                                            `Time-In-Secs` between DJ.MinTime and DJ.MaxTime\n",
    "                                                    Then\n",
    "                                                            'Airborne'\n",
    "                                                    when\n",
    "                                                            `Time-In-Secs`>DJ.MaxTime\n",
    "                                                    Then\n",
    "                                                            'Approach'\n",
    "                                                    end Phase,\n",
    "                                            case\n",
    "                                                when\n",
    "                                                        case\n",
    "                                                            when\n",
    "                                                                `ILS-GS-DEV-1` like 'FU%'\n",
    "                                                            then\n",
    "                                                                    CASE\n",
    "                                                                    WHEN\n",
    "                                                                            instr(`ILS-GS-DEV-1`,' ')>0\n",
    "                                                                    THEN\n",
    "                                                                            SUBSTRING(`ILS-GS-DEV-1`, instr(`ILS-GS-DEV-1`,' ')+1, LENGTH(`ILS-GS-DEV-1`))\n",
    "                                                                    ELSE\n",
    "                                                                            NULL\n",
    "                                                                    END\n",
    "                                                            END      > 0.8\n",
    "                                                            AND     `Time-In-Secs` > DJ.MaxTime\n",
    "                                                Then\n",
    "                                                        'High'\n",
    "                                                else\n",
    "                                                        'Low'\n",
    "                                                end TriggerCondition1,\n",
    "\n",
    "\n",
    "                                            case\n",
    "                                                when\n",
    "                                                        case\n",
    "                                                            when\n",
    "                                                                `ILS-GS-DEV-2` like 'FU%'\n",
    "                                                            then\n",
    "                                                                    CASE\n",
    "                                                                    WHEN\n",
    "                                                                            instr(`ILS-GS-DEV-2`,' ')>0\n",
    "                                                                    THEN\n",
    "                                                                            SUBSTRING(`ILS-GS-DEV-2`, instr(`ILS-GS-DEV-2`,' ')+1, LENGTH(`ILS-GS-DEV-2`))\n",
    "                                                                    ELSE\n",
    "                                                                            NULL\n",
    "                                                                    END\n",
    "                                                            end   > 0.8\n",
    "                                                            AND   `Time-In-Secs` > DJ.MaxTime\n",
    "                                                Then\n",
    "                                                        'High'\n",
    "                                                else\n",
    "                                                        'Low'\n",
    "                                            END TriggerCondition2,\n",
    "                                                                        \n",
    "                                            BJ.*\n",
    "\n",
    "                                        FROM Q400Interim AS BJ\n",
    "\n",
    "                            INNER JOIN(\n",
    "\n",
    "                                        SELECT \n",
    "\n",
    "                                                BI.FileName,\n",
    "                                                BI.`RAD-ALT`,\n",
    "                                                MIN(`Time-In-Secs`) as MinTime,\n",
    "                                                MAX(`Time-In-Secs`) as MaxTime\n",
    "\n",
    "                                        FROM Q400Interim AS BI\n",
    "                                        INNER JOIN \n",
    "                                                    (  SELECT \n",
    "                                                            FileName,\n",
    "                                                            MAX(`RAD-ALT` ) AS MaxRadioHeight\n",
    "                                                    FROM Q400Interim\n",
    "\n",
    "                                                    GROUP BY FileName) T1 ON BI.FileName=T1.FileName \n",
    "                                                    AND BI.`RAD-ALT`=T1.MaxRadioHeight\n",
    "\n",
    "                            GROUP BY \n",
    "                                    BI.FileName,\n",
    "                                    BI.`RAD-ALT` ) DJ ON BJ.FileName=DJ.FileName ) FN\n",
    "\n",
    "                        WHERE FN.Phase='Approach'\n",
    "\n",
    "                        AND FN.`AFCS-GS-MODE` = 'Active (1)'\n",
    "                        AND FN.`RAD-ALT` < 1000\n",
    "                        AND FN.`RAD-ALT` > 200\n",
    "                        \n",
    "                        AND ( FN.TriggerCondition1='High' OR\n",
    "                            FN.TriggerCondition2='High' )\n",
    "                        AND    FN.`WOW-MLG`='Air (0)' \n",
    "                        \n",
    "                 ''')"
   ]
  },
  {
   "cell_type": "code",
   "execution_count": 9,
   "id": "277e9ece-1a98-4deb-8c36-42f941b60c30",
   "metadata": {
    "execution": {
     "iopub.execute_input": "2022-09-20T08:33:47.955535Z",
     "iopub.status.busy": "2022-09-20T08:33:47.955197Z",
     "iopub.status.idle": "2022-09-20T08:33:48.254560Z",
     "shell.execute_reply": "2022-09-20T08:33:48.253804Z",
     "shell.execute_reply.started": "2022-09-20T08:33:47.955495Z"
    },
    "tags": []
   },
   "outputs": [
    {
     "data": {
      "application/vnd.jupyter.widget-view+json": {
       "model_id": "3c04275a827449518a3f1173dbe93130",
       "version_major": 2,
       "version_minor": 0
      },
      "text/plain": [
       "VBox()"
      ]
     },
     "metadata": {},
     "output_type": "display_data"
    },
    {
     "data": {
      "application/vnd.jupyter.widget-view+json": {
       "model_id": "",
       "version_major": 2,
       "version_minor": 0
      },
      "text/plain": [
       "FloatProgress(value=0.0, bar_style='info', description='Progress:', layout=Layout(height='25px', width='50%'),…"
      ]
     },
     "metadata": {},
     "output_type": "display_data"
    }
   ],
   "source": [
    "Q400GSD.createOrReplaceTempView('Q400GSD')"
   ]
  },
  {
   "cell_type": "code",
   "execution_count": 10,
   "id": "39b222d0-ae1e-4001-b9b1-5bdf31d901b4",
   "metadata": {
    "execution": {
     "iopub.execute_input": "2022-09-20T08:33:48.444067Z",
     "iopub.status.busy": "2022-09-20T08:33:48.443835Z",
     "iopub.status.idle": "2022-09-20T08:35:14.048772Z",
     "shell.execute_reply": "2022-09-20T08:35:14.048149Z",
     "shell.execute_reply.started": "2022-09-20T08:33:48.444043Z"
    },
    "tags": []
   },
   "outputs": [
    {
     "data": {
      "application/vnd.jupyter.widget-view+json": {
       "model_id": "4b09e0a4bcc444f1b7d685af5ca86f19",
       "version_major": 2,
       "version_minor": 0
      },
      "text/plain": [
       "VBox()"
      ]
     },
     "metadata": {},
     "output_type": "display_data"
    },
    {
     "data": {
      "application/vnd.jupyter.widget-view+json": {
       "model_id": "",
       "version_major": 2,
       "version_minor": 0
      },
      "text/plain": [
       "FloatProgress(value=0.0, bar_style='info', description='Progress:', layout=Layout(height='25px', width='50%'),…"
      ]
     },
     "metadata": {},
     "output_type": "display_data"
    },
    {
     "name": "stdout",
     "output_type": "stream",
     "text": [
      "0"
     ]
    }
   ],
   "source": [
    "Q400GSD.count()"
   ]
  },
  {
   "cell_type": "code",
   "execution_count": 19,
   "id": "017e3c4b-0487-4f20-9275-dc393c18aa04",
   "metadata": {
    "execution": {
     "iopub.execute_input": "2022-09-16T10:43:04.341689Z",
     "iopub.status.busy": "2022-09-16T10:43:04.341484Z",
     "iopub.status.idle": "2022-09-16T10:43:07.190583Z",
     "shell.execute_reply": "2022-09-16T10:43:07.189775Z",
     "shell.execute_reply.started": "2022-09-16T10:43:04.341658Z"
    },
    "tags": []
   },
   "outputs": [
    {
     "data": {
      "application/vnd.jupyter.widget-view+json": {
       "model_id": "f8f9def04a1543428a0d2d38659d56d0",
       "version_major": 2,
       "version_minor": 0
      },
      "text/plain": [
       "VBox()"
      ]
     },
     "metadata": {},
     "output_type": "display_data"
    },
    {
     "data": {
      "application/vnd.jupyter.widget-view+json": {
       "model_id": "",
       "version_major": 2,
       "version_minor": 0
      },
      "text/plain": [
       "FloatProgress(value=0.0, bar_style='info', description='Progress:', layout=Layout(height='25px', width='50%'),…"
      ]
     },
     "metadata": {},
     "output_type": "display_data"
    },
    {
     "name": "stdout",
     "output_type": "stream",
     "text": [
      "+-------+---------------+------------------------------+----------+---------------+---------------+-----------------+--------+-----------------+-----------------+--------+-----------------+----------------+----------+--------+------+---------+------+----------------+-----+--------------------+--------------------+------+------------+-------------+-------+------+---------+-------+--------+--------+------------+------------+---------------------------+--------------+----------------+-----------+----------+-------+-------+-------+-----------+------------+-----------------+--------------+-----------------+----------------------+---------------+----------------------+-------------+-----+-----+--------+--------+-----+-----+----+----+-------------------+--------------+------------+-------------+--------------+------------+------------+--------------+--------------+----------+----------+--------------+--------------+----------------+-----------------+-----------------+-----------------+--------------+--------------------+--------------------+------------+-------------+----+-----+\n",
      "|  Limit|Time-In-Secs-EX|BARO-CORRECTED-PALT-DERIVED-EX|RAD-ALT-EX|ILS-GS-DEV-1-EX|ILS-GS-DEV-2-EX|   ExceedanceName|   Phase|TriggerCondition1|TriggerCondition2|FlightID|DesigFlightNumber|FlightNumberARMS|FlightDate|FromCity|ToCity|BlockTime|   ECN|    EmployeeName| RANK|           ChocksOff|            ChocksOn|DOMINT|AircraftType|AircraftModel|Payload|TailNo|Departure|Arrival|FlightNo|    Date|Time-In-Secs|Time-Per-Sec|BARO-CORRECTED-PALT-DERIVED|Altitude-BaroL|HEADING-MAGNETIC|PITCH-ANGLE|ROLL-ANGLE|RAD-ALT|WOW-NLG|WOW-MLG|ACCN-NORMAL|ACCN-LATERAL|ACCN-LONGITUDINAL|AIRSPEED-CAS-L|AFCS-SEL-AIRSPEED|VERTICAL-SPEED-Derived|FMS-GROUNDSPEED|FLAP-CONTROL-POS-Gated|FLAP-POSITION|PLA-1|PLA-2|TORQUE-1|TORQUE-2|CLA-1|CLA-2|NP-1|NP-2|EGPWS-ALERT-WARNING|EGPWS-GS-ALERT|AFCS-GS-MODE|AFCS-LOC-MODE| AFCS-VOR-MODE|ILS-GS-DEV-1|ILS-GS-DEV-2|DME-DISTANCE-1|DME-DISTANCE-2|VOR-FREQ-1|VOR-FREQ-2|FMS-WIND-ANGLE|FMS-WIND-SPEED|BRAKE-PRESS-LEFT|BRAKE-PRESS-RIGHT|PROP-BETA-RANGE-1|PROP-BETA-RANGE-2|    AP-ENGAGED|            FileName|          LoadedDate|    LoadedBy|DataFrameName|year|month|\n",
      "+-------+---------------+------------------------------+----------+---------------+---------------+-----------------+--------+-----------------+-----------------+--------+-----------------+----------------+----------+--------+------+---------+------+----------------+-----+--------------------+--------------------+------+------------+-------------+-------+------+---------+-------+--------+--------+------------+------------+---------------------------+--------------+----------------+-----------+----------+-------+-------+-------+-----------+------------+-----------------+--------------+-----------------+----------------------+---------------+----------------------+-------------+-----+-----+--------+--------+-----+-----+----+----+-------------------+--------------+------------+-------------+--------------+------------+------------+--------------+--------------+----------+----------+--------------+--------------+----------------+-----------------+-----------------+-----------------+--------------+--------------------+--------------------+------------+-------------+----+-----+\n",
      "|FU 1.00|           9898|                          3145|       292|        FD 2.06|        FD 0.03|DeviationBelowG/S|Approach|             High|              Low| 2856177|          SG 3326|            3326|  4/7/2022|     GWL|   BLR|  2:55:00|118612|ARUNENDRA  PATEL|CAPT.|2022-04-07T09:00:...|2022-04-07T12:00:...|   DOM|         DHC|         DHC-|    Pax|VT-SUV|      GWL|    BLR| SG 3326|4/7/2022|        9898|        null|                       3145|          3042|             275|      U 0.8|         0|    292|Air (0)|Air (0)|      0.942|      R 0.01|             0.01|         133.5|                0|                  -820|            153|                    15|         14.9| 44.9| 45.2|      14|      15|   96|   95|1019|1019|       NO ALERT (0)|  NO ALERT (0)|  Active (1)|   Active (1)|Not Active (0)|     FD 2.06|     FD 0.03|          null|          null|      null|      null|            52|            11|              57|               51|      FORWARD (0)|      FORWARD (0)|DISENGAGED (0)|ALL ac=VT-SUV dep...|2022-09-09T10:12:...|precog-spark|      512 WPS|2022|April|\n",
      "|FU 1.00|           9891|                          3233|       428|        FD 3.21|        FD 0.24|DeviationBelowG/S|Approach|             High|              Low| 2856177|          SG 3326|            3326|  4/7/2022|     GWL|   BLR|  2:55:00|118612|ARUNENDRA  PATEL|CAPT.|2022-04-07T09:00:...|2022-04-07T12:00:...|   DOM|         DHC|         DHC-|    Pax|VT-SUV|      GWL|    BLR| SG 3326|4/7/2022|        9891|        null|                       3233|          3130|             275|      U 1.1|     L 0.3|    428|Air (0)|Air (0)|      1.071|      R 0.01|             0.02|           136|                0|                  -800|            153|                  null|         null| 44.8| 45.2|      14|      15|   96|   95|1018|1020|       NO ALERT (0)|  NO ALERT (0)|  Active (1)|   Active (1)|Not Active (0)|     FD 3.21|     FD 0.24|          null|          null|      null|    108.29|          null|          null|              57|               51|      FORWARD (0)|      FORWARD (0)|DISENGAGED (0)|ALL ac=VT-SUV dep...|2022-09-09T10:12:...|precog-spark|      512 WPS|2022|April|\n",
      "+-------+---------------+------------------------------+----------+---------------+---------------+-----------------+--------+-----------------+-----------------+--------+-----------------+----------------+----------+--------+------+---------+------+----------------+-----+--------------------+--------------------+------+------------+-------------+-------+------+---------+-------+--------+--------+------------+------------+---------------------------+--------------+----------------+-----------+----------+-------+-------+-------+-----------+------------+-----------------+--------------+-----------------+----------------------+---------------+----------------------+-------------+-----+-----+--------+--------+-----+-----+----+----+-------------------+--------------+------------+-------------+--------------+------------+------------+--------------+--------------+----------+----------+--------------+--------------+----------------+-----------------+-----------------+-----------------+--------------+--------------------+--------------------+------------+-------------+----+-----+"
     ]
    }
   ],
   "source": [
    "Q400GSD.show()"
   ]
  },
  {
   "cell_type": "code",
   "execution_count": null,
   "id": "aae980db-d359-4597-97fa-63bbea1e3265",
   "metadata": {
    "tags": []
   },
   "outputs": [],
   "source": []
  },
  {
   "cell_type": "code",
   "execution_count": 14,
   "id": "d7cab75d-821b-4888-863a-4158acd60399",
   "metadata": {
    "execution": {
     "iopub.execute_input": "2022-09-15T09:38:57.699638Z",
     "iopub.status.busy": "2022-09-15T09:38:57.699411Z",
     "iopub.status.idle": "2022-09-15T09:38:57.962491Z",
     "shell.execute_reply": "2022-09-15T09:38:57.961942Z",
     "shell.execute_reply.started": "2022-09-15T09:38:57.699613Z"
    },
    "tags": []
   },
   "outputs": [
    {
     "data": {
      "application/vnd.jupyter.widget-view+json": {
       "model_id": "52e8fa2432744fe08f85758bec7491e3",
       "version_major": 2,
       "version_minor": 0
      },
      "text/plain": [
       "VBox()"
      ]
     },
     "metadata": {},
     "output_type": "display_data"
    },
    {
     "data": {
      "application/vnd.jupyter.widget-view+json": {
       "model_id": "",
       "version_major": 2,
       "version_minor": 0
      },
      "text/plain": [
       "FloatProgress(value=0.0, bar_style='info', description='Progress:', layout=Layout(height='25px', width='50%'),…"
      ]
     },
     "metadata": {},
     "output_type": "display_data"
    }
   ],
   "source": []
  },
  {
   "cell_type": "code",
   "execution_count": 15,
   "id": "d6ec835a-5024-486f-b19c-9cb230b302c7",
   "metadata": {
    "execution": {
     "iopub.execute_input": "2022-09-15T09:38:59.029805Z",
     "iopub.status.busy": "2022-09-15T09:38:59.029584Z",
     "iopub.status.idle": "2022-09-15T09:39:42.420828Z",
     "shell.execute_reply": "2022-09-15T09:39:42.420149Z",
     "shell.execute_reply.started": "2022-09-15T09:38:59.029780Z"
    },
    "tags": []
   },
   "outputs": [
    {
     "data": {
      "application/vnd.jupyter.widget-view+json": {
       "model_id": "ef04dd5064c74745993444ee8547bdf8",
       "version_major": 2,
       "version_minor": 0
      },
      "text/plain": [
       "VBox()"
      ]
     },
     "metadata": {},
     "output_type": "display_data"
    },
    {
     "data": {
      "application/vnd.jupyter.widget-view+json": {
       "model_id": "",
       "version_major": 2,
       "version_minor": 0
      },
      "text/plain": [
       "FloatProgress(value=0.0, bar_style='info', description='Progress:', layout=Layout(height='25px', width='50%'),…"
      ]
     },
     "metadata": {},
     "output_type": "display_data"
    },
    {
     "name": "stdout",
     "output_type": "stream",
     "text": [
      "+---------------+------------------------------+-----------------+-------------------------------+-----------------------------+--------------+-------------------+--------+-----------------+-----------------+--------+-----------------+----------------+----------+--------+------+---------+------+----------------+-----+-------------------+-------------------+------+------------+-------------+-------+------+---------+-------+--------+----------+------------+------------+---------------------------+--------------+----------------+--------------+-------------+--------------+--------+--------+-------------------+--------------------+-------------------------+---------------------+-------------------+----------------------+------------+----------------------+-------------+-----------------+-----------------+---------------+---------------+-----------------+-----------------+-----------------+-----------------+------------------+---------------------+----------------------+---------------+---------------+--------------------------+----------------------------+--------------+--------------+-----------------+-----------------+----------+----------+----------------+-----------------+-------------------------+-------------------------+----------------------+--------------------+--------------------+------------+-------------+----+-----+\n",
      "|Time-In-Secs-EX|BARO-CORRECTED-PALT-DERIVED-EX|Radio-Altitude-EX|GLIDE-PATH-DEV-COPILOT-ABOVE-EX|GLIDE-PATH-DEV-PILOT-ABOVE-EX|ExceedanceName|      OccurenceTime|   Phase|TriggerCondition1|TriggerCondition2|flightid|desigflightnumber|flightnumberarms|flightdate|fromcity|tocity|blocktime|   ecn|    employeename| rank|          chocksoff|           chockson|domint|aircrafttype|aircraftmodel|payload|tailno|departure|arrival|flightno|      date|time-in-secs|time-per-sec|baro-corrected-palt-derived|altitude-barol|magnetic-heading|pitch-attitude|roll-attitude|radio-altitude|nose-wow|main-wow|normal-acceleration|lateral-acceleration|longitudinal-acceleration|calibrated-airspeed-l|afcs-selected-speed|vertical-speed-derived|ground-speed|flap-control-selection|flap-position|power-lever-pos-l|power-lever-pos-r|torque-tq-eng-l|torque-tq-eng-r|condition-lever-l|condition-lever-r|prop-rpm-np-eng-l|prop-rpm-np-eng-r|gpws-alert/warning|gpws-glideslope-alert|afcs-glideslope-active|afcs-loc-active|afcs-vor-active|glide-path-dev-pilot-above|glide-path-dev-copilot-above|dme-distance-1|dme-distance-2|vor-1-select-freq|vor-2-select-freq|wind-angle|wind-speed|brake-press-left|brake-press-right|thrust-rev-low-beta-eng-l|thrust-rev-low-beta-eng-r|afcs-autopilot-engaged|            filename|          loadeddate|    loadedby|dataframename|year|month|\n",
      "+---------------+------------------------------+-----------------+-------------------------------+-----------------------------+--------------+-------------------+--------+-----------------+-----------------+--------+-----------------+----------------+----------+--------+------+---------+------+----------------+-----+-------------------+-------------------+------+------------+-------------+-------+------+---------+-------+--------+----------+------------+------------+---------------------------+--------------+----------------+--------------+-------------+--------------+--------+--------+-------------------+--------------------+-------------------------+---------------------+-------------------+----------------------+------------+----------------------+-------------+-----------------+-----------------+---------------+---------------+-----------------+-----------------+-----------------+-----------------+------------------+---------------------+----------------------+---------------+---------------+--------------------------+----------------------------+--------------+--------------+-----------------+-----------------+----------+----------+----------------+-----------------+-------------------------+-------------------------+----------------------+--------------------+--------------------+------------+-------------+----+-----+\n",
      "|         8791.0|                           758|               26|                        -1.2679|                      FU 1.23|  G/SDeviation|2022-03-13 08:46:31|Approach|              Low|             High| 2811429|          SG 7402|            7402|2022-03-13|     BOM|   DEL|  2:40:00|126810|VIRENDER  SEJWAL|CAPT.|2022-03-13 06:20:00|2022-03-13 09:10:00|   DOM|         DHC|         DHC-|  Cargo|VT-SUB|      BOM|    DEL| SG 7402|2022-03-13|      8791.0|        null|                        758|           764|           272.2|         U 2.9|        R 0.7|            26| Air (0)| Air (0)|              1.075|              R 0.03|                     0.05|                126.5|                0.0|                  -660|         125|                  null|         null|             45.6|             45.4|           16.0|           15.5|             95.5|             95.7|             1019|             1019|       No Warn (0)|          No Warn (0)|            Active (1)|     Active (1)|    NOT ACT (0)|                   FU 1.23|                     -1.2679|          null|          null|             null|            110.5|      null|      null|            60.5|             37.1|               Normal (0)|               Normal (0)|            NOT EN (0)|ALL ac=VT-SUB dep...|2022-09-09 10:01:...|precog-spark|      128 WPS|2022|March|\n",
      "|         8792.0|                           748|               20|                         -0.768|                      FU 1.09|  G/SDeviation|2022-03-13 08:46:32|Approach|              Low|             High| 2811429|          SG 7402|            7402|2022-03-13|     BOM|   DEL|  2:40:00|126810|VIRENDER  SEJWAL|CAPT.|2022-03-13 06:20:00|2022-03-13 09:10:00|   DOM|         DHC|         DHC-|  Cargo|VT-SUB|      BOM|    DEL| SG 7402|2022-03-13|      8792.0|       31952|                        748|           754|           272.1|         U 3.1|        R 1.7|            20| Air (0)| Air (0)|              1.110|              L 0.03|                     0.04|                125.5|                0.0|                  -570|         125|                  15.0|         14.9|             45.6|             45.4|           16.0|           15.5|             95.5|             95.7|             1018|             1018|       No Warn (0)|          No Warn (0)|            Active (1)|     Active (1)|    NOT ACT (0)|                   FU 1.09|                      -0.768|          null|          null|             null|             null|      null|      null|            60.5|             37.1|               Normal (0)|               Normal (0)|            NOT EN (0)|ALL ac=VT-SUB dep...|2022-09-09 10:01:...|precog-spark|      128 WPS|2022|March|\n",
      "|         8795.0|                           736|                6|                        -1.8929|                      FU 2.11|  G/SDeviation|2022-03-13 08:46:35|Approach|              Low|             High| 2811429|          SG 7402|            7402|2022-03-13|     BOM|   DEL|  2:40:00|126810|VIRENDER  SEJWAL|CAPT.|2022-03-13 06:20:00|2022-03-13 09:10:00|   DOM|         DHC|         DHC-|  Cargo|VT-SUB|      BOM|    DEL| SG 7402|2022-03-13|      8795.0|        null|                        736|           742|           272.4|         U 2.9|        R 2.4|             6| Air (0)| Air (0)|              0.970|              R 0.02|                     0.05|                125.5|                0.0|                  -180|         125|                  null|         null|             45.6|             45.4|           15.5|           15.0|             95.4|             95.8|             1019|             1019|       No Warn (0)|          No Warn (0)|            Active (1)|     Active (1)|    NOT ACT (0)|                   FU 2.11|                     -1.8929|          null|          null|             null|            110.5|      null|      null|            56.6|             33.2|               Normal (0)|               Normal (0)|            NOT EN (0)|ALL ac=VT-SUB dep...|2022-09-09 10:01:...|precog-spark|      128 WPS|2022|March|\n",
      "|         8797.0|                           732|                0|                        -2.8393|                      FU 3.05|  G/SDeviation|2022-03-13 08:46:37|Approach|              Low|             High| 2811429|          SG 7402|            7402|2022-03-13|     BOM|   DEL|  2:40:00|126810|VIRENDER  SEJWAL|CAPT.|2022-03-13 06:20:00|2022-03-13 09:10:00|   DOM|         DHC|         DHC-|  Cargo|VT-SUB|      BOM|    DEL| SG 7402|2022-03-13|      8797.0|        null|                        732|           738|           272.7|         U 3.2|        R 0.3|             0| Air (0)| Air (0)|              0.962|              R 0.03|                     0.05|                124.5|                0.0|                   210|         124|                  null|         null|             45.6|             45.4|           15.0|           15.5|             95.5|             95.7|             1020|             1019|       No Warn (0)|          No Warn (0)|            Active (1)|     Active (1)|    NOT ACT (0)|                  *FU 3.05|                     -2.8393|         0.125|         0.125|            110.5|             null|      null|      null|            56.6|             37.1|               Normal (0)|               Normal (0)|            NOT EN (0)|ALL ac=VT-SUB dep...|2022-09-09 10:01:...|precog-spark|      128 WPS|2022|March|\n",
      "|         8798.0|                           738|                0|                         -0.393|                      FU 1.46|  G/SDeviation|2022-03-13 08:46:38|Approach|              Low|             High| 2811429|          SG 7402|            7402|2022-03-13|     BOM|   DEL|  2:40:00|126810|VIRENDER  SEJWAL|CAPT.|2022-03-13 06:20:00|2022-03-13 09:10:00|   DOM|         DHC|         DHC-|  Cargo|VT-SUB|      BOM|    DEL| SG 7402|2022-03-13|      8798.0|        null|                        738|           744|           272.7|         U 1.6|        R 0.6|             0| Air (0)| Air (0)|              0.907|              R 0.12|                     0.02|                124.5|                0.0|                   540|         124|                  15.0|         14.9|             45.5|             45.4|           15.0|           15.0|             95.5|             95.7|             1019|             1020|       No Warn (0)|          No Warn (0)|            Active (1)|     Active (1)|    NOT ACT (0)|                   FU 1.46|                      -0.393|          null|          null|             null|             null|     306.6|         5|            56.6|             37.1|               Normal (0)|               Normal (0)|            NOT EN (0)|ALL ac=VT-SUB dep...|2022-09-09 10:01:...|precog-spark|      128 WPS|2022|March|\n",
      "+---------------+------------------------------+-----------------+-------------------------------+-----------------------------+--------------+-------------------+--------+-----------------+-----------------+--------+-----------------+----------------+----------+--------+------+---------+------+----------------+-----+-------------------+-------------------+------+------------+-------------+-------+------+---------+-------+--------+----------+------------+------------+---------------------------+--------------+----------------+--------------+-------------+--------------+--------+--------+-------------------+--------------------+-------------------------+---------------------+-------------------+----------------------+------------+----------------------+-------------+-----------------+-----------------+---------------+---------------+-----------------+-----------------+-----------------+-----------------+------------------+---------------------+----------------------+---------------+---------------+--------------------------+----------------------------+--------------+--------------+-----------------+-----------------+----------+----------+----------------+-----------------+-------------------------+-------------------------+----------------------+--------------------+--------------------+------------+-------------+----+-----+"
     ]
    }
   ],
   "source": []
  },
  {
   "cell_type": "code",
   "execution_count": 16,
   "id": "24caf2f1-a513-429b-80b1-c1e25ee21a72",
   "metadata": {
    "execution": {
     "iopub.execute_input": "2022-09-15T09:42:34.848440Z",
     "iopub.status.busy": "2022-09-15T09:42:34.848202Z",
     "iopub.status.idle": "2022-09-15T09:43:26.274572Z",
     "shell.execute_reply": "2022-09-15T09:43:26.273596Z",
     "shell.execute_reply.started": "2022-09-15T09:42:34.848416Z"
    },
    "tags": []
   },
   "outputs": [
    {
     "data": {
      "application/vnd.jupyter.widget-view+json": {
       "model_id": "3134618be690440ea5ecd94a62138f91",
       "version_major": 2,
       "version_minor": 0
      },
      "text/plain": [
       "VBox()"
      ]
     },
     "metadata": {},
     "output_type": "display_data"
    },
    {
     "data": {
      "application/vnd.jupyter.widget-view+json": {
       "model_id": "",
       "version_major": 2,
       "version_minor": 0
      },
      "text/plain": [
       "FloatProgress(value=0.0, bar_style='info', description='Progress:', layout=Layout(height='25px', width='50%'),…"
      ]
     },
     "metadata": {},
     "output_type": "display_data"
    }
   ],
   "source": []
  },
  {
   "cell_type": "code",
   "execution_count": null,
   "id": "4654af31-c92a-412f-82fb-93e38620ad4a",
   "metadata": {},
   "outputs": [],
   "source": []
  },
  {
   "cell_type": "code",
   "execution_count": null,
   "id": "2b81bb4f-301e-40b7-a6a9-413755fcffee",
   "metadata": {},
   "outputs": [],
   "source": []
  },
  {
   "cell_type": "code",
   "execution_count": null,
   "id": "6af76c70-20f4-424a-84d7-0309e40c06c9",
   "metadata": {},
   "outputs": [],
   "source": []
  },
  {
   "cell_type": "code",
   "execution_count": null,
   "id": "4714e452-15a6-4258-ac3e-179d18b13b6e",
   "metadata": {},
   "outputs": [],
   "source": []
  },
  {
   "cell_type": "code",
   "execution_count": 22,
   "id": "52c56070-eedf-422d-adb7-b0e0231459ba",
   "metadata": {
    "execution": {
     "iopub.execute_input": "2022-09-15T05:46:45.264804Z",
     "iopub.status.busy": "2022-09-15T05:46:45.264574Z",
     "iopub.status.idle": "2022-09-15T05:46:45.541648Z",
     "shell.execute_reply": "2022-09-15T05:46:45.538577Z",
     "shell.execute_reply.started": "2022-09-15T05:46:45.264781Z"
    },
    "tags": []
   },
   "outputs": [
    {
     "data": {
      "application/vnd.jupyter.widget-view+json": {
       "model_id": "bf867e8ef9f949e0beb94ee46f50580b",
       "version_major": 2,
       "version_minor": 0
      },
      "text/plain": [
       "VBox()"
      ]
     },
     "metadata": {},
     "output_type": "display_data"
    },
    {
     "data": {
      "application/vnd.jupyter.widget-view+json": {
       "model_id": "",
       "version_major": 2,
       "version_minor": 0
      },
      "text/plain": [
       "FloatProgress(value=0.0, bar_style='info', description='Progress:', layout=Layout(height='25px', width='50%'),…"
      ]
     },
     "metadata": {},
     "output_type": "display_data"
    }
   ],
   "source": []
  },
  {
   "cell_type": "code",
   "execution_count": 23,
   "id": "7efe146c-8571-4f34-bede-067c7a9ec4e5",
   "metadata": {
    "execution": {
     "iopub.execute_input": "2022-09-15T05:47:10.979060Z",
     "iopub.status.busy": "2022-09-15T05:47:10.978840Z",
     "iopub.status.idle": "2022-09-15T05:47:36.339060Z",
     "shell.execute_reply": "2022-09-15T05:47:36.338454Z",
     "shell.execute_reply.started": "2022-09-15T05:47:10.979037Z"
    }
   },
   "outputs": [
    {
     "data": {
      "application/vnd.jupyter.widget-view+json": {
       "model_id": "edb7b5110ac84b6eae69380fa680981d",
       "version_major": 2,
       "version_minor": 0
      },
      "text/plain": [
       "VBox()"
      ]
     },
     "metadata": {},
     "output_type": "display_data"
    },
    {
     "data": {
      "application/vnd.jupyter.widget-view+json": {
       "model_id": "",
       "version_major": 2,
       "version_minor": 0
      },
      "text/plain": [
       "FloatProgress(value=0.0, bar_style='info', description='Progress:', layout=Layout(height='25px', width='50%'),…"
      ]
     },
     "metadata": {},
     "output_type": "display_data"
    },
    {
     "name": "stdout",
     "output_type": "stream",
     "text": [
      "+--------+-----------------+----------------+----------+--------+------+---------+------+-------------------+-----+-------------------+-------------------+-------------------+------+------------+-------------+-------+------+---------+-------+--------+----------+------------+------------+---------------------------+--------------+----------------+--------------+-------------+--------------+--------+--------+-------------------+--------------------+-------------------------+---------------------+-------------------+----------------------+------------+----------------------+-------------+-----------------+-----------------+---------------+---------------+-----------------+-----------------+-----------------+-----------------+------------------+---------------------+----------------------+---------------+---------------+--------------------------+----------------------------+--------------+--------------+-----------------+-----------------+----------+----------+----------------+-----------------+-------------------------+-------------------------+----------------------+------------------------------------------------------+-----------------------+------------+-------------+----+-----+\n",
      "|FlightID|DesigFlightNumber|FlightNumberARMS|FlightDate|FromCity|ToCity|BlockTime|ECN   |EmployeeName       |RANK |ChocksOff          |ChocksOn           |CurrentTime        |DOMINT|AircraftType|AircraftModel|Payload|TailNo|Departure|Arrival|FlightNo|Date      |Time-In-Secs|Time-Per-Sec|BARO-CORRECTED-PALT-DERIVED|Altitude-BaroL|Magnetic-Heading|Pitch-Attitude|Roll-Attitude|Radio-Altitude|Nose-WOW|Main-WOW|Normal-Acceleration|Lateral-Acceleration|Longitudinal-Acceleration|Calibrated-Airspeed-L|AFCS-Selected-Speed|Vertical-Speed-Derived|Ground-Speed|Flap-Control-Selection|FLAP-POSITION|Power-Lever-Pos-L|Power-Lever-Pos-R|Torque-TQ-Eng-L|Torque-TQ-Eng-R|Condition-Lever-L|Condition-Lever-R|Prop-RPM-Np-Eng-L|Prop-RPM-Np-Eng-R|GPWS-Alert/Warning|GPWS-Glideslope-Alert|AFCS-Glideslope-Active|AFCS-LOC-Active|AFCS-VOR-Active|GLIDE-PATH-DEV-PILOT-ABOVE|GLIDE-PATH-DEV-COPILOT-ABOVE|DME-DISTANCE-1|DME-DISTANCE-2|VOR-1-SELECT-FREQ|VOR-2-SELECT-FREQ|WIND-ANGLE|WIND-SPEED|BRAKE-PRESS-LEFT|BRAKE-PRESS-RIGHT|Thrust-Rev-Low-Beta-Eng-L|Thrust-Rev-Low-Beta-Eng-R|AFCS-Autopilot-Engaged|FileName                                              |LoadedDate             |LoadedBy    |DataFrameName|year|month|\n",
      "+--------+-----------------+----------------+----------+--------+------+---------+------+-------------------+-----+-------------------+-------------------+-------------------+------+------------+-------------+-------+------+---------+-------+--------+----------+------------+------------+---------------------------+--------------+----------------+--------------+-------------+--------------+--------+--------+-------------------+--------------------+-------------------------+---------------------+-------------------+----------------------+------------+----------------------+-------------+-----------------+-----------------+---------------+---------------+-----------------+-----------------+-----------------+-----------------+------------------+---------------------+----------------------+---------------+---------------+--------------------------+----------------------------+--------------+--------------+-----------------+-----------------+----------+----------+----------------+-----------------+-------------------------+-------------------------+----------------------+------------------------------------------------------+-----------------------+------------+-------------+----+-----+\n",
      "|2891404 |SG 77            |77              |2022-07-17|DAC     |CCU   |1:0:00   |118229|HARSHA NAND BAHADUR|CAPT.|2022-07-17 15:25:00|2022-07-17 16:25:00|2022-07-17 15:25:00|INTL  |DHC         |DHC-         |Pax    |VT-SUO|DAC      |CCU    |SG 77   |2022-07-17|0.0         |95940       |0                          |320           |54.1            |D 0.9         |R 0.1        |1             |Gnd (1) |Gnd (1) |0.997              | 0.00               |-0.01                    |0.0                  |0.0                |320                   |0           |0.0                   |0.0          |19.8             |19.7             |0.0            |0.0            |-1.1426          |34.2             |0                |0                |No Warn (0)       |No Warn (0)          |NOT ACT (0)           |NOT ACT (0)    |NOT ACT (0)    | 0.00                     |0                           |null          |null          |null             |null             |null      |null      |3.906           |0                |Normal (0)               |Normal (0)               |NOT EN (0)            |ALL ac=VT-SUO dep=DAC arr=CCU fn=SG 77 dt=20220717.csv|2022-09-09 10:44:16.535|precog-spark|128 WPS      |2022|July |\n",
      "|2891404 |SG 77            |77              |2022-07-17|DAC     |CCU   |1:0:00   |118229|HARSHA NAND BAHADUR|CAPT.|2022-07-17 15:25:00|2022-07-17 16:25:00|2022-07-17 15:25:01|INTL  |DHC         |DHC-         |Pax    |VT-SUO|DAC      |CCU    |SG 77   |2022-07-17|1.0         |null        |0                          |322           |54.1            |D 0.9         |R 0.1        |1             |Gnd (1) |Gnd (1) |0.997              | 0.00               |-0.01                    |0.0                  |0.0                |322                   |0           |null                  |null         |19.8             |19.7             |0.0            |0.0            |-1.4063          |34.2             |0                |0                |No Warn (0)       |No Warn (0)          |NOT ACT (0)           |NOT ACT (0)    |NOT ACT (0)    | 0.00                     |0                           |2.375         |2.375         |112.7            |null             |null      |null      |3.906           |-3.906           |Normal (0)               |Normal (0)               |NOT EN (0)            |ALL ac=VT-SUO dep=DAC arr=CCU fn=SG 77 dt=20220717.csv|2022-09-09 10:44:16.535|precog-spark|128 WPS      |2022|July |\n",
      "|2891404 |SG 77            |77              |2022-07-17|DAC     |CCU   |1:0:00   |118229|HARSHA NAND BAHADUR|CAPT.|2022-07-17 15:25:00|2022-07-17 16:25:00|2022-07-17 15:25:02|INTL  |DHC         |DHC-         |Pax    |VT-SUO|DAC      |CCU    |SG 77   |2022-07-17|2.0         |null        |55                         |320           |54.1            |D 0.9         |R 0.1        |1             |Gnd (1) |Gnd (1) |1.001              | 0.00               |-0.01                    |0.0                  |0.0                |0                     |0           |0.0                   |0.0          |19.8             |19.7             |0.0            |0.0            |-1.1426          |34.2             |0                |0                |No Warn (0)       |No Warn (0)          |NOT ACT (0)           |NOT ACT (0)    |NOT ACT (0)    | 0.00                     |0                           |null          |null          |null             |null             |0.0       |0         |3.906           |0                |Normal (0)               |Normal (0)               |NOT EN (0)            |ALL ac=VT-SUO dep=DAC arr=CCU fn=SG 77 dt=20220717.csv|2022-09-09 10:44:16.535|precog-spark|128 WPS      |2022|July |\n",
      "|2891404 |SG 77            |77              |2022-07-17|DAC     |CCU   |1:0:00   |118229|HARSHA NAND BAHADUR|CAPT.|2022-07-17 15:25:00|2022-07-17 16:25:00|2022-07-17 15:25:03|INTL  |DHC         |DHC-         |Pax    |VT-SUO|DAC      |CCU    |SG 77   |2022-07-17|3.0         |null        |55                         |320           |54.1            |D 0.9         |R 0.1        |1             |Gnd (1) |Gnd (1) |1.001              |L 0.00              |-0.01                    |0.0                  |0.0                |-30                   |0           |null                  |null         |19.8             |19.7             |0.0            |0.0            |-1.2305          |34.2             |0                |0                |No Warn (0)       |No Warn (0)          |NOT ACT (0)           |NOT ACT (0)    |NOT ACT (0)    | 0.00                     |0                           |null          |null          |null             |100              |null      |null      |3.906           |0                |Normal (0)               |Normal (0)               |NOT EN (0)            |ALL ac=VT-SUO dep=DAC arr=CCU fn=SG 77 dt=20220717.csv|2022-09-09 10:44:16.535|precog-spark|128 WPS      |2022|July |\n",
      "|2891404 |SG 77            |77              |2022-07-17|DAC     |CCU   |1:0:00   |118229|HARSHA NAND BAHADUR|CAPT.|2022-07-17 15:25:00|2022-07-17 16:25:00|2022-07-17 15:25:04|INTL  |DHC         |DHC-         |Pax    |VT-SUO|DAC      |CCU    |SG 77   |2022-07-17|4.0         |95944       |55                         |320           |54.1            |D 0.9         |R 0.1        |1             |Gnd (1) |Gnd (1) |0.997              | 0.00               |-0.01                    |0.0                  |0.0                |0                     |0           |0.0                   |-0.1         |19.8             |19.7             |0.0            |0.0            |-1.4063          |34.2             |0                |0                |No Warn (0)       |No Warn (0)          |NOT ACT (0)           |NOT ACT (0)    |NOT ACT (0)    | 0.00                     |0                           |null          |null          |null             |null             |null      |null      |3.906           |0                |Normal (0)               |Normal (0)               |NOT EN (0)            |ALL ac=VT-SUO dep=DAC arr=CCU fn=SG 77 dt=20220717.csv|2022-09-09 10:44:16.535|precog-spark|128 WPS      |2022|July |\n",
      "+--------+-----------------+----------------+----------+--------+------+---------+------+-------------------+-----+-------------------+-------------------+-------------------+------+------------+-------------+-------+------+---------+-------+--------+----------+------------+------------+---------------------------+--------------+----------------+--------------+-------------+--------------+--------+--------+-------------------+--------------------+-------------------------+---------------------+-------------------+----------------------+------------+----------------------+-------------+-----------------+-----------------+---------------+---------------+-----------------+-----------------+-----------------+-----------------+------------------+---------------------+----------------------+---------------+---------------+--------------------------+----------------------------+--------------+--------------+-----------------+-----------------+----------+----------+----------------+-----------------+-------------------------+-------------------------+----------------------+------------------------------------------------------+-----------------------+------------+-------------+----+-----+\n",
      "only showing top 5 rows"
     ]
    }
   ],
   "source": []
  },
  {
   "cell_type": "code",
   "execution_count": 30,
   "id": "64e25f45-ac0e-4bee-bc72-648e1db2e60d",
   "metadata": {
    "execution": {
     "iopub.execute_input": "2022-09-15T05:55:51.300357Z",
     "iopub.status.busy": "2022-09-15T05:55:51.300133Z",
     "iopub.status.idle": "2022-09-15T05:55:51.572949Z",
     "shell.execute_reply": "2022-09-15T05:55:51.572219Z",
     "shell.execute_reply.started": "2022-09-15T05:55:51.300333Z"
    },
    "tags": []
   },
   "outputs": [
    {
     "data": {
      "application/vnd.jupyter.widget-view+json": {
       "model_id": "a214d7634e6349f8a5feb6832998e621",
       "version_major": 2,
       "version_minor": 0
      },
      "text/plain": [
       "VBox()"
      ]
     },
     "metadata": {},
     "output_type": "display_data"
    },
    {
     "data": {
      "application/vnd.jupyter.widget-view+json": {
       "model_id": "",
       "version_major": 2,
       "version_minor": 0
      },
      "text/plain": [
       "FloatProgress(value=0.0, bar_style='info', description='Progress:', layout=Layout(height='25px', width='50%'),…"
      ]
     },
     "metadata": {},
     "output_type": "display_data"
    }
   ],
   "source": [
    "Q400GSD = spark.sql(f'''\n",
    "                                SELECT  \n",
    "                                        'FU 1.00' Limit,\n",
    "                                        `Time-In-Secs` as `Time-In-Secs-EX`,\n",
    "                                        `BARO-CORRECTED-PALT-DERIVED` as `BARO-CORRECTED-PALT-DERIVED-EX`,\n",
    "                                        `Radio-Altitude` AS `Radio-Altitude-EX` ,\n",
    "                                        `GLIDE-PATH-DEV-COPILOT-ABOVE` `GLIDE-PATH-DEV-COPILOT-ABOVE-EX`,\n",
    "                                        `GLIDE-PATH-DEV-PILOT-ABOVE` `GLIDE-PATH-DEV-PILOT-ABOVE-EX`,\n",
    "                                        'G/SDeviation' as ExceedanceName,\n",
    "                                         FN.*\n",
    "\n",
    "                                FROM (\n",
    "\n",
    "                                        SELECT \n",
    "\n",
    "                                            case\n",
    "                                                    when\n",
    "                                                            `Time-In-Secs`<DJ.MinTime\n",
    "                                                    Then\n",
    "                                                            'TakeOff'\n",
    "                                                    when\n",
    "                                                            `Time-In-Secs` between DJ.MinTime and DJ.MaxTime\n",
    "                                                    Then\n",
    "                                                            'Airborne'\n",
    "                                                    when\n",
    "                                                            `Time-In-Secs`>DJ.MaxTime\n",
    "                                                    Then\n",
    "                                                            'Approach'\n",
    "                                                    end Phase,\n",
    "                                            case\n",
    "                                                when\n",
    "                                                        case\n",
    "                                                            when\n",
    "                                                                `GLIDE-PATH-DEV-COPILOT-ABOVE` like 'FU%'\n",
    "                                                            then\n",
    "                                                                    CASE\n",
    "                                                                    WHEN\n",
    "                                                                            instr(`GLIDE-PATH-DEV-COPILOT-ABOVE`,' ')>0\n",
    "                                                                    THEN\n",
    "                                                                            SUBSTRING(`GLIDE-PATH-DEV-COPILOT-ABOVE`, instr(`GLIDE-PATH-DEV-COPILOT-ABOVE`,' ')+1, LENGTH(`GLIDE-PATH-DEV-COPILOT-ABOVE`))\n",
    "                                                                    ELSE\n",
    "                                                                            NULL\n",
    "                                                                    END\n",
    "                                                            END      > 1.00\n",
    "                                                            AND     `Time-In-Secs` > DJ.MaxTime\n",
    "                                                Then\n",
    "                                                        'High'\n",
    "                                                else\n",
    "                                                        'Low'\n",
    "                                                end TriggerCondition1,\n",
    "\n",
    "\n",
    "                                            case\n",
    "                                                when\n",
    "                                                        case\n",
    "                                                            when\n",
    "                                                                `GLIDE-PATH-DEV-PILOT-ABOVE` like 'FU%'\n",
    "                                                            then\n",
    "                                                                    CASE\n",
    "                                                                    WHEN\n",
    "                                                                            instr(`GLIDE-PATH-DEV-PILOT-ABOVE`,' ')>0\n",
    "                                                                    THEN\n",
    "                                                                            SUBSTRING(`GLIDE-PATH-DEV-PILOT-ABOVE`, instr(`GLIDE-PATH-DEV-PILOT-ABOVE`,' ')+1, LENGTH(`GLIDE-PATH-DEV-PILOT-ABOVE`))\n",
    "                                                                    ELSE\n",
    "                                                                            NULL\n",
    "                                                                    END\n",
    "                                                            end   > 1.00\n",
    "                                                            AND   `Time-In-Secs` > DJ.MaxTime\n",
    "                                                Then\n",
    "                                                        'High'\n",
    "                                                else\n",
    "                                                        'Low'\n",
    "                                            END TriggerCondition2,\n",
    "                                                                        \n",
    "                                            BJ.*\n",
    "\n",
    "                                        FROM Q400Interim AS BJ\n",
    "\n",
    "                            INNER JOIN(\n",
    "\n",
    "                                        SELECT \n",
    "\n",
    "                                                BI.FileName,\n",
    "                                                BI.`Radio-Altitude`,\n",
    "                                                MIN(`Time-In-Secs`) as MinTime,\n",
    "                                                MAX(`Time-In-Secs`) as MaxTime\n",
    "\n",
    "                                        FROM Q400Interim AS BI\n",
    "                                        INNER JOIN \n",
    "                                                    (  SELECT \n",
    "                                                            FileName,\n",
    "                                                            MAX(`Radio-Altitude` ) AS MaxRadioHeight\n",
    "                                                    FROM Q400Interim\n",
    "\n",
    "                                                    GROUP BY FileName) T1 ON BI.FileName=T1.FileName \n",
    "                                                    AND BI.`Radio-Altitude` =T1.MaxRadioHeight\n",
    "\n",
    "                            GROUP BY \n",
    "                                    BI.FileName,\n",
    "                                    BI.`Radio-Altitude` ) DJ ON BJ.FileName=DJ.FileName ) FN\n",
    "\n",
    "                        WHERE FN.Phase='Approach'\n",
    "                        AND FN.`AFCS-Glideslope-Active` = 'Active (1)'\n",
    "                        AND FN.`Radio-Altitude` < 1000\n",
    "                        AND FN.`Radio-Altitude` > 200 \n",
    "                        AND ( FN.TriggerCondition1='High' OR\n",
    "                            FN.TriggerCondition2='High' )\n",
    "                        AND    FN.`Main-WOW`='Air (0)' \n",
    "                        \n",
    "                 ''')"
   ]
  },
  {
   "cell_type": "code",
   "execution_count": 31,
   "id": "0d51b3e0-3a9b-4ff4-867b-e054d9f2bf8b",
   "metadata": {
    "execution": {
     "iopub.execute_input": "2022-09-15T05:55:53.788339Z",
     "iopub.status.busy": "2022-09-15T05:55:53.788120Z",
     "iopub.status.idle": "2022-09-15T05:56:23.187117Z",
     "shell.execute_reply": "2022-09-15T05:56:23.186438Z",
     "shell.execute_reply.started": "2022-09-15T05:55:53.788315Z"
    },
    "tags": []
   },
   "outputs": [
    {
     "data": {
      "application/vnd.jupyter.widget-view+json": {
       "model_id": "81cc0326f2bf41bbb6dc88622d203ef7",
       "version_major": 2,
       "version_minor": 0
      },
      "text/plain": [
       "VBox()"
      ]
     },
     "metadata": {},
     "output_type": "display_data"
    },
    {
     "data": {
      "application/vnd.jupyter.widget-view+json": {
       "model_id": "",
       "version_major": 2,
       "version_minor": 0
      },
      "text/plain": [
       "FloatProgress(value=0.0, bar_style='info', description='Progress:', layout=Layout(height='25px', width='50%'),…"
      ]
     },
     "metadata": {},
     "output_type": "display_data"
    },
    {
     "name": "stdout",
     "output_type": "stream",
     "text": [
      "0"
     ]
    }
   ],
   "source": [
    "Q400GSD.count()"
   ]
  },
  {
   "cell_type": "code",
   "execution_count": 28,
   "id": "48cbd0db-3100-4573-b4f1-5aa71fa0c89d",
   "metadata": {
    "execution": {
     "iopub.execute_input": "2022-09-12T11:09:36.442402Z",
     "iopub.status.busy": "2022-09-12T11:09:36.442139Z",
     "iopub.status.idle": "2022-09-12T11:09:36.708306Z",
     "shell.execute_reply": "2022-09-12T11:09:36.707694Z",
     "shell.execute_reply.started": "2022-09-12T11:09:36.442376Z"
    },
    "tags": []
   },
   "outputs": [
    {
     "data": {
      "application/vnd.jupyter.widget-view+json": {
       "model_id": "b3431d132e504a62bff020849d1bb097",
       "version_major": 2,
       "version_minor": 0
      },
      "text/plain": [
       "VBox()"
      ]
     },
     "metadata": {},
     "output_type": "display_data"
    },
    {
     "data": {
      "application/vnd.jupyter.widget-view+json": {
       "model_id": "",
       "version_major": 2,
       "version_minor": 0
      },
      "text/plain": [
       "FloatProgress(value=0.0, bar_style='info', description='Progress:', layout=Layout(height='25px', width='50%'),…"
      ]
     },
     "metadata": {},
     "output_type": "display_data"
    }
   ],
   "source": [
    "Q400GSD = spark.sql(f'''\n",
    "                                SELECT  \n",
    "                                        'FU 1.00' Limit,\n",
    "                                        `Time-In-Secs` as `Time-In-Secs-EX`,\n",
    "                                        `BARO-CORRECTED-PALT-DERIVED` as `BARO-CORRECTED-PALT-DERIVED-EX`,\n",
    "                                        `Radio-Altitude` AS `Radio-Altitude-EX` ,\n",
    "                                        `GLIDE-PATH-DEV-COPILOT-ABOVE` `GLIDE-PATH-DEV-COPILOT-ABOVE-EX`,\n",
    "                                        `GLIDE-PATH-DEV-PILOT-ABOVE` `GLIDE-PATH-DEV-PILOT-ABOVE-EX`,\n",
    "                                        'G/SDeviation' as ExceedanceName,\n",
    "                                         FN.*\n",
    "\n",
    "                                FROM (\n",
    "\n",
    "                                        SELECT \n",
    "\n",
    "                                            case\n",
    "                                                    when\n",
    "                                                            `Time-In-Secs`<DJ.MinTime\n",
    "                                                    Then\n",
    "                                                            'TakeOff'\n",
    "                                                    when\n",
    "                                                            `Time-In-Secs` between DJ.MinTime and DJ.MaxTime\n",
    "                                                    Then\n",
    "                                                            'Airborne'\n",
    "                                                    when\n",
    "                                                            `Time-In-Secs`>DJ.MaxTime\n",
    "                                                    Then\n",
    "                                                            'Approach'\n",
    "                                                    end Phase,\n",
    "                                            case\n",
    "                                                when\n",
    "                                                        case\n",
    "                                                            when\n",
    "                                                                `GLIDE-PATH-DEV-COPILOT-ABOVE` like 'FU%'\n",
    "                                                            then\n",
    "                                                                    CASE\n",
    "                                                                    WHEN\n",
    "                                                                            instr(`GLIDE-PATH-DEV-COPILOT-ABOVE`,' ')>0\n",
    "                                                                    THEN\n",
    "                                                                            SUBSTRING(`GLIDE-PATH-DEV-COPILOT-ABOVE`, instr(`GLIDE-PATH-DEV-COPILOT-ABOVE`,' ')+1, LENGTH(`GLIDE-PATH-DEV-COPILOT-ABOVE`))\n",
    "                                                                    ELSE\n",
    "                                                                            NULL\n",
    "                                                                    END\n",
    "                                                            END      > 1.00\n",
    "                                                            AND     `Time-In-Secs` > DJ.MaxTime\n",
    "                                                Then\n",
    "                                                        'High'\n",
    "                                                else\n",
    "                                                        'Low'\n",
    "                                                end TriggerCondition1,\n",
    "\n",
    "\n",
    "                                            case\n",
    "                                                when\n",
    "                                                    case\n",
    "                                                        when\n",
    "                                                                `GLIDE-PATH-DEV-PILOT-ABOVE` like 'FU%'\n",
    "                                                        then\n",
    "                                                                CASE\n",
    "                                                                WHEN\n",
    "                                                                        instr(`GLIDE-PATH-DEV-PILOT-ABOVE`,' ')>0\n",
    "                                                                THEN\n",
    "                                                                        SUBSTRING(`GLIDE-PATH-DEV-PILOT-ABOVE`, instr(`GLIDE-PATH-DEV-PILOT-ABOVE`,' ')+1, LENGTH(`GLIDE-PATH-DEV-PILOT-ABOVE`))\n",
    "                                                                ELSE\n",
    "                                                                        NULL\n",
    "                                                                END\n",
    "                                                        end   > 1.00\n",
    "                                                        AND   `Time-In-Secs` > DJ.MaxTime\n",
    "                                                Then\n",
    "                                                        'High'\n",
    "                                                else\n",
    "                                                        'Low'\n",
    "                                            END TriggerCondition2,\n",
    "                                                                        \n",
    "                                            BJ.*\n",
    "\n",
    "                                        FROM Q400Interim AS BJ\n",
    "\n",
    "                            INNER JOIN(\n",
    "\n",
    "                                        SELECT \n",
    "\n",
    "                                                BI.FileName,\n",
    "                                                BI.`Radio-Altitude`,\n",
    "                                                MIN(`Time-In-Secs`) as MinTime,\n",
    "                                                MAX(`Time-In-Secs`) as MaxTime\n",
    "\n",
    "                                        FROM Q400Interim AS BI\n",
    "                                        INNER JOIN \n",
    "                                                    (  SELECT \n",
    "                                                            FileName,\n",
    "                                                            MAX(`Radio-Altitude` ) AS MaxRadioHeight\n",
    "                                                    FROM Q400Interim\n",
    "\n",
    "                                                    GROUP BY FileName) T1 ON BI.FileName=T1.FileName \n",
    "                                                    AND BI.`Radio-Altitude` =T1.MaxRadioHeight\n",
    "\n",
    "                            GROUP BY \n",
    "                                    BI.FileName,\n",
    "                                    BI.`Radio-Altitude` ) DJ ON BJ.FileName=DJ.FileName ) FN\n",
    "\n",
    "                        WHERE FN.Phase='{Phase}'\n",
    "                        AND FN.`Radio-Altitude` <{RadioHeight}\n",
    "                        AND ( FN.TriggerCondition1='{TriggerConditionL}' OR\n",
    "                            FN.TriggerCondition2='{TriggerConditionR}' )\n",
    "                        AND    FN.`Main-WOW`='Air (0)' \n",
    "                        \n",
    "                    \n",
    "                ''')"
   ]
  },
  {
   "cell_type": "code",
   "execution_count": 29,
   "id": "f44214ad-989a-4921-a8a9-0098ffab429d",
   "metadata": {
    "execution": {
     "iopub.execute_input": "2022-09-12T11:09:52.711354Z",
     "iopub.status.busy": "2022-09-12T11:09:52.711120Z",
     "iopub.status.idle": "2022-09-12T11:09:52.976471Z",
     "shell.execute_reply": "2022-09-12T11:09:52.975692Z",
     "shell.execute_reply.started": "2022-09-12T11:09:52.711329Z"
    }
   },
   "outputs": [
    {
     "data": {
      "application/vnd.jupyter.widget-view+json": {
       "model_id": "29de8c0046314d33b8e5f296501cda4d",
       "version_major": 2,
       "version_minor": 0
      },
      "text/plain": [
       "VBox()"
      ]
     },
     "metadata": {},
     "output_type": "display_data"
    },
    {
     "data": {
      "application/vnd.jupyter.widget-view+json": {
       "model_id": "",
       "version_major": 2,
       "version_minor": 0
      },
      "text/plain": [
       "FloatProgress(value=0.0, bar_style='info', description='Progress:', layout=Layout(height='25px', width='50%'),…"
      ]
     },
     "metadata": {},
     "output_type": "display_data"
    }
   ],
   "source": [
    "FourthQuery.createOrReplaceTempView(\"E\")"
   ]
  },
  {
   "cell_type": "code",
   "execution_count": 32,
   "id": "f19e0fb4-672c-4b62-8328-281236a42f7f",
   "metadata": {
    "execution": {
     "iopub.execute_input": "2022-09-12T11:12:06.204361Z",
     "iopub.status.busy": "2022-09-12T11:12:06.204123Z",
     "iopub.status.idle": "2022-09-12T11:12:13.543996Z",
     "shell.execute_reply": "2022-09-12T11:12:13.534880Z",
     "shell.execute_reply.started": "2022-09-12T11:12:06.204332Z"
    }
   },
   "outputs": [
    {
     "data": {
      "application/vnd.jupyter.widget-view+json": {
       "model_id": "742ae4e648d84c3d98097f9294f58d29",
       "version_major": 2,
       "version_minor": 0
      },
      "text/plain": [
       "VBox()"
      ]
     },
     "metadata": {},
     "output_type": "display_data"
    },
    {
     "data": {
      "application/vnd.jupyter.widget-view+json": {
       "model_id": "",
       "version_major": 2,
       "version_minor": 0
      },
      "text/plain": [
       "FloatProgress(value=0.0, bar_style='info', description='Progress:', layout=Layout(height='25px', width='50%'),…"
      ]
     },
     "metadata": {},
     "output_type": "display_data"
    },
    {
     "name": "stdout",
     "output_type": "stream",
     "text": [
      "+---------------+------------------------------+-----------------+-------------------------------+-----------------------------+--------------+-------------+-----+-----------------+-----------------+--------+-----------------+----------------+----------+--------+------+---------+---+------------+----+---------+--------+------+------------+-------------+-------+------+---------+-------+--------+----+------------+------------+---------------------------+--------------+----------------+--------------+-------------+--------------+--------+--------+-------------------+--------------------+-------------------------+---------------------+-------------------+----------------------+------------+----------------------+-------------+-----------------+-----------------+---------------+---------------+-----------------+-----------------+-----------------+-----------------+------------------+---------------------+----------------------+---------------+---------------+--------------------------+----------------------------+--------------+--------------+-----------------+-----------------+----------+----------+----------------+-----------------+-------------------------+-------------------------+----------------------+--------+----------+--------+-------------+----+-----+\n",
      "|Time-In-Secs-EX|BARO-CORRECTED-PALT-DERIVED-EX|Radio-Altitude-EX|GLIDE-PATH-DEV-COPILOT-ABOVE-EX|GLIDE-PATH-DEV-PILOT-ABOVE-EX|ExceedanceName|OccurenceTime|Phase|TriggerCondition1|TriggerCondition2|flightid|desigflightnumber|flightnumberarms|flightdate|fromcity|tocity|blocktime|ecn|employeename|rank|chocksoff|chockson|domint|aircrafttype|aircraftmodel|payload|tailno|departure|arrival|flightno|date|time-in-secs|time-per-sec|baro-corrected-palt-derived|altitude-barol|magnetic-heading|pitch-attitude|roll-attitude|radio-altitude|nose-wow|main-wow|normal-acceleration|lateral-acceleration|longitudinal-acceleration|calibrated-airspeed-l|afcs-selected-speed|vertical-speed-derived|ground-speed|flap-control-selection|flap-position|power-lever-pos-l|power-lever-pos-r|torque-tq-eng-l|torque-tq-eng-r|condition-lever-l|condition-lever-r|prop-rpm-np-eng-l|prop-rpm-np-eng-r|gpws-alert/warning|gpws-glideslope-alert|afcs-glideslope-active|afcs-loc-active|afcs-vor-active|glide-path-dev-pilot-above|glide-path-dev-copilot-above|dme-distance-1|dme-distance-2|vor-1-select-freq|vor-2-select-freq|wind-angle|wind-speed|brake-press-left|brake-press-right|thrust-rev-low-beta-eng-l|thrust-rev-low-beta-eng-r|afcs-autopilot-engaged|filename|loadeddate|loadedby|dataframename|year|month|\n",
      "+---------------+------------------------------+-----------------+-------------------------------+-----------------------------+--------------+-------------+-----+-----------------+-----------------+--------+-----------------+----------------+----------+--------+------+---------+---+------------+----+---------+--------+------+------------+-------------+-------+------+---------+-------+--------+----+------------+------------+---------------------------+--------------+----------------+--------------+-------------+--------------+--------+--------+-------------------+--------------------+-------------------------+---------------------+-------------------+----------------------+------------+----------------------+-------------+-----------------+-----------------+---------------+---------------+-----------------+-----------------+-----------------+-----------------+------------------+---------------------+----------------------+---------------+---------------+--------------------------+----------------------------+--------------+--------------+-----------------+-----------------+----------+----------+----------------+-----------------+-------------------------+-------------------------+----------------------+--------+----------+--------+-------------+----+-----+\n",
      "+---------------+------------------------------+-----------------+-------------------------------+-----------------------------+--------------+-------------+-----+-----------------+-----------------+--------+-----------------+----------------+----------+--------+------+---------+---+------------+----+---------+--------+------+------------+-------------+-------+------+---------+-------+--------+----+------------+------------+---------------------------+--------------+----------------+--------------+-------------+--------------+--------+--------+-------------------+--------------------+-------------------------+---------------------+-------------------+----------------------+------------+----------------------+-------------+-----------------+-----------------+---------------+---------------+-----------------+-----------------+-----------------+-----------------+------------------+---------------------+----------------------+---------------+---------------+--------------------------+----------------------------+--------------+--------------+-----------------+-----------------+----------+----------+----------------+-----------------+-------------------------+-------------------------+----------------------+--------+----------+--------+-------------+----+-----+"
     ]
    }
   ],
   "source": [
    "FourthQuery.show(5, False)"
   ]
  },
  {
   "cell_type": "code",
   "execution_count": 30,
   "id": "af4a706e-0d05-4100-bcea-d628611cd1c4",
   "metadata": {
    "execution": {
     "iopub.execute_input": "2022-09-12T11:10:28.632102Z",
     "iopub.status.busy": "2022-09-12T11:10:28.631868Z",
     "iopub.status.idle": "2022-09-12T11:10:28.901961Z",
     "shell.execute_reply": "2022-09-12T11:10:28.901356Z",
     "shell.execute_reply.started": "2022-09-12T11:10:28.632075Z"
    },
    "tags": []
   },
   "outputs": [
    {
     "data": {
      "application/vnd.jupyter.widget-view+json": {
       "model_id": "2969d6d207d3405cba2e456997abf721",
       "version_major": 2,
       "version_minor": 0
      },
      "text/plain": [
       "VBox()"
      ]
     },
     "metadata": {},
     "output_type": "display_data"
    },
    {
     "data": {
      "application/vnd.jupyter.widget-view+json": {
       "model_id": "",
       "version_major": 2,
       "version_minor": 0
      },
      "text/plain": [
       "FloatProgress(value=0.0, bar_style='info', description='Progress:', layout=Layout(height='25px', width='50%'),…"
      ]
     },
     "metadata": {},
     "output_type": "display_data"
    }
   ],
   "source": [
    "FifthQuery = spark.sql(''' select * FROM E WHERE TriggerCondition1 = 'High' OR TriggerCondition2 = 'High' and  `AFCS-Autopilot-Engaged` = 'Engaged (1)' and Phase = 'Approach' ''')\n",
    "\n",
    "FifthQuery.createOrReplaceTempView(\"F\")\n"
   ]
  },
  {
   "cell_type": "code",
   "execution_count": 31,
   "id": "d96c6b3c-bd8a-4ea6-ba5f-d9fb0d520106",
   "metadata": {
    "execution": {
     "iopub.execute_input": "2022-09-12T11:11:01.939637Z",
     "iopub.status.busy": "2022-09-12T11:11:01.939409Z",
     "iopub.status.idle": "2022-09-12T11:11:29.301985Z",
     "shell.execute_reply": "2022-09-12T11:11:29.301383Z",
     "shell.execute_reply.started": "2022-09-12T11:11:01.939613Z"
    },
    "tags": []
   },
   "outputs": [
    {
     "data": {
      "application/vnd.jupyter.widget-view+json": {
       "model_id": "9307b9ee2dcd4407aa25b884cbd69970",
       "version_major": 2,
       "version_minor": 0
      },
      "text/plain": [
       "VBox()"
      ]
     },
     "metadata": {},
     "output_type": "display_data"
    },
    {
     "data": {
      "application/vnd.jupyter.widget-view+json": {
       "model_id": "",
       "version_major": 2,
       "version_minor": 0
      },
      "text/plain": [
       "FloatProgress(value=0.0, bar_style='info', description='Progress:', layout=Layout(height='25px', width='50%'),…"
      ]
     },
     "metadata": {},
     "output_type": "display_data"
    },
    {
     "name": "stdout",
     "output_type": "stream",
     "text": [
      "0"
     ]
    }
   ],
   "source": [
    "FifthQuery.count()"
   ]
  },
  {
   "cell_type": "code",
   "execution_count": 16,
   "id": "9da1438d-0ef1-4dc8-8b21-212917f2a008",
   "metadata": {
    "execution": {
     "iopub.execute_input": "2022-09-12T10:46:30.258879Z",
     "iopub.status.busy": "2022-09-12T10:46:30.258650Z",
     "iopub.status.idle": "2022-09-12T10:47:00.402777Z",
     "shell.execute_reply": "2022-09-12T10:47:00.402057Z",
     "shell.execute_reply.started": "2022-09-12T10:46:30.258853Z"
    }
   },
   "outputs": [
    {
     "data": {
      "application/vnd.jupyter.widget-view+json": {
       "model_id": "eda8d57289fd4c4b9971b0ed9b629ee2",
       "version_major": 2,
       "version_minor": 0
      },
      "text/plain": [
       "VBox()"
      ]
     },
     "metadata": {},
     "output_type": "display_data"
    },
    {
     "data": {
      "application/vnd.jupyter.widget-view+json": {
       "model_id": "",
       "version_major": 2,
       "version_minor": 0
      },
      "text/plain": [
       "FloatProgress(value=0.0, bar_style='info', description='Progress:', layout=Layout(height='25px', width='50%'),…"
      ]
     },
     "metadata": {},
     "output_type": "display_data"
    },
    {
     "name": "stdout",
     "output_type": "stream",
     "text": [
      "0"
     ]
    }
   ],
   "source": []
  },
  {
   "cell_type": "code",
   "execution_count": null,
   "id": "b6e323ff-95c2-4ada-9f03-602d2a0b5e0d",
   "metadata": {},
   "outputs": [],
   "source": []
  }
 ],
 "metadata": {
  "kernelspec": {
   "display_name": "PySpark",
   "language": "",
   "name": "pysparkkernel"
  },
  "language_info": {
   "codemirror_mode": {
    "name": "python",
    "version": 3
   },
   "mimetype": "text/x-python",
   "name": "pyspark",
   "pygments_lexer": "python3"
  }
 },
 "nbformat": 4,
 "nbformat_minor": 5
}
