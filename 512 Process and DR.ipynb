{
 "cells": [
  {
   "cell_type": "code",
   "execution_count": 1,
   "id": "72e55626-3aa0-406d-95a5-b3ffb297713a",
   "metadata": {
    "execution": {
     "iopub.execute_input": "2023-01-06T06:26:07.395402Z",
     "iopub.status.busy": "2023-01-06T06:26:07.395175Z",
     "iopub.status.idle": "2023-01-06T06:26:30.216853Z",
     "shell.execute_reply": "2023-01-06T06:26:30.216200Z",
     "shell.execute_reply.started": "2023-01-06T06:26:07.395376Z"
    },
    "tags": []
   },
   "outputs": [
    {
     "data": {
      "application/vnd.jupyter.widget-view+json": {
       "model_id": "8948a699b85749c19691629abe552ab6",
       "version_major": 2,
       "version_minor": 0
      },
      "text/plain": [
       "VBox()"
      ]
     },
     "metadata": {},
     "output_type": "display_data"
    },
    {
     "name": "stdout",
     "output_type": "stream",
     "text": [
      "Starting Spark application\n"
     ]
    },
    {
     "data": {
      "text/html": [
       "<table>\n",
       "<tr><th>ID</th><th>YARN Application ID</th><th>Kind</th><th>State</th><th>Spark UI</th><th>Driver log</th><th>Current session?</th></tr><tr><td>1</td><td>application_1672984118101_0003</td><td>pyspark</td><td>idle</td><td><a target=\"_blank\" href=\"http://ip-20-0-4-78.ap-south-1.compute.internal:20888/proxy/application_1672984118101_0003/\" class=\"emr-proxy-link\" emr-resource=\"j-2F4O5NQ8J67T4\n",
       "\" application-id=\"application_1672984118101_0003\">Link</a></td><td><a target=\"_blank\" href=\"http://ip-20-0-4-70.ap-south-1.compute.internal:8042/node/containerlogs/container_1672984118101_0003_01_000001/livy\" >Link</a></td><td>✔</td></tr></table>"
      ],
      "text/plain": [
       "<IPython.core.display.HTML object>"
      ]
     },
     "metadata": {},
     "output_type": "display_data"
    },
    {
     "data": {
      "application/vnd.jupyter.widget-view+json": {
       "model_id": "",
       "version_major": 2,
       "version_minor": 0
      },
      "text/plain": [
       "FloatProgress(value=0.0, bar_style='info', description='Progress:', layout=Layout(height='25px', width='50%'),…"
      ]
     },
     "metadata": {},
     "output_type": "display_data"
    },
    {
     "name": "stdout",
     "output_type": "stream",
     "text": [
      "SparkSession available as 'spark'.\n"
     ]
    },
    {
     "data": {
      "application/vnd.jupyter.widget-view+json": {
       "model_id": "",
       "version_major": 2,
       "version_minor": 0
      },
      "text/plain": [
       "FloatProgress(value=0.0, bar_style='info', description='Progress:', layout=Layout(height='25px', width='50%'),…"
      ]
     },
     "metadata": {},
     "output_type": "display_data"
    }
   ],
   "source": [
    "from pyspark.sql.functions import input_file_name, regexp_extract, regexp_replace, col, lit, current_timestamp\n",
    "from pyspark.sql.types import StructType, StringType\n",
    "from pyspark.sql.functions import input_file_name\n",
    "from pyspark.sql.types import *\n",
    "from pyspark.sql import functions as F\n",
    "from pyspark.sql import SparkSession\n",
    "from pyspark import SparkConf, SparkContext\n",
    "from datetime import datetime, timedelta\n",
    "import configparser\n",
    "import boto3\n",
    "import sys\n",
    "import re"
   ]
  },
  {
   "cell_type": "code",
   "execution_count": 2,
   "id": "4c546b63-d88c-4f73-94c0-b0d9c3622b00",
   "metadata": {
    "execution": {
     "iopub.execute_input": "2023-01-06T06:26:30.218380Z",
     "iopub.status.busy": "2023-01-06T06:26:30.218091Z",
     "iopub.status.idle": "2023-01-06T06:26:30.269913Z",
     "shell.execute_reply": "2023-01-06T06:26:30.269425Z",
     "shell.execute_reply.started": "2023-01-06T06:26:30.218346Z"
    },
    "tags": []
   },
   "outputs": [
    {
     "data": {
      "application/vnd.jupyter.widget-view+json": {
       "model_id": "7ace6580912c4a658f384e9495752e55",
       "version_major": 2,
       "version_minor": 0
      },
      "text/plain": [
       "VBox()"
      ]
     },
     "metadata": {},
     "output_type": "display_data"
    },
    {
     "data": {
      "application/vnd.jupyter.widget-view+json": {
       "model_id": "",
       "version_major": 2,
       "version_minor": 0
      },
      "text/plain": [
       "FloatProgress(value=0.0, bar_style='info', description='Progress:', layout=Layout(height='25px', width='50%'),…"
      ]
     },
     "metadata": {},
     "output_type": "display_data"
    }
   ],
   "source": [
    "RawSchema = StructType([\n",
    "        StructField(\"Time-In-Secs\", DoubleType(), nullable=True),\n",
    "        StructField(\"Time-Per-Sec\", StringType(), nullable=True),\n",
    "        StructField(\"BARO-CORRECTED-PALT-DERIVED\",\n",
    "                    StringType(), nullable=True),\n",
    "        StructField(\"Altitude-BaroL\", StringType(), nullable=True),\n",
    "        StructField(\"HEADING-MAGNETIC\", StringType(), nullable=True),\n",
    "        StructField(\"PITCH-ANGLE\", StringType(), nullable=True),\n",
    "        StructField(\"ROLL-ANGLE\", StringType(), nullable=True),\n",
    "        StructField(\"RAD-ALT\", StringType(), nullable=True),\n",
    "        StructField(\"WOW-NLG\", StringType(), nullable=True),\n",
    "        StructField(\"WOW-MLG\", StringType(), nullable=True),\n",
    "        StructField(\"ACCN-NORMAL\", StringType(), nullable=True),\n",
    "        StructField(\"ACCN-LATERAL\", StringType(), nullable=True),\n",
    "        StructField(\"ACCN-LONGITUDINAL\", StringType(), nullable=True),\n",
    "        StructField(\"AIRSPEED-CAS-L\", StringType(), nullable=True),\n",
    "        StructField(\"AFCS-SEL-AIRSPEED\", StringType(), nullable=True),\n",
    "        StructField(\"VERTICAL-SPEED-Derived\", StringType(), nullable=True),\n",
    "        StructField(\"FMS-GROUNDSPEED\", StringType(), nullable=True),\n",
    "        StructField(\"FLAP-CONTROL-POS-Gated\", StringType(), nullable=True),\n",
    "        StructField(\"FLAP-POSITION\", StringType(), nullable=True),\n",
    "        StructField(\"PLA-1\", StringType(), nullable=True),\n",
    "        StructField(\"PLA-2\", StringType(), nullable=True),\n",
    "        StructField(\"TORQUE-1\", StringType(), nullable=True),\n",
    "        StructField(\"TORQUE-2\", StringType(), nullable=True),\n",
    "        StructField(\"CLA-1\", StringType(), nullable=True),\n",
    "        StructField(\"CLA-2\", StringType(), nullable=True),\n",
    "        StructField(\"NP-1\", StringType(), nullable=True),\n",
    "        StructField(\"NP-2\", StringType(), nullable=True),\n",
    "        StructField(\"EGPWS-ALERT-WARNING\", StringType(), nullable=True),\n",
    "        StructField(\"EGPWS-GS-ALERT\", StringType(), nullable=True),\n",
    "        StructField(\"AFCS-GS-MODE\", StringType(), nullable=True),\n",
    "        StructField(\"AFCS-LOC-MODE\", StringType(), nullable=True),\n",
    "        StructField(\"AFCS-VOR-MODE\", StringType(), nullable=True),\n",
    "        StructField(\"ILS-GS-DEV-1\", StringType(), nullable=True),\n",
    "        StructField(\"ILS-GS-DEV-2\", StringType(), nullable=True),\n",
    "        StructField(\"FUEL-FLOW-2-kg-h\", StringType(), nullable=True),\n",
    "        StructField(\"FUEL-FLOW-1-kg-h\", StringType(), nullable=True),\n",
    "        StructField(\"DME-DISTANCE-1\", StringType(), nullable=True),\n",
    "        StructField(\"DME-DISTANCE-2\", StringType(), nullable=True),\n",
    "        StructField(\"VOR-FREQ-1\", StringType(), nullable=True),\n",
    "        StructField(\"VOR-FREQ-2\", StringType(), nullable=True),\n",
    "        StructField(\"FMS-WIND-ANGLE\", StringType(), nullable=True),\n",
    "        StructField(\"FMS-WIND-SPEED\", StringType(), nullable=True),\n",
    "        StructField(\"BRAKE-PRESS-LEFT\", StringType(), nullable=True),\n",
    "        StructField(\"BRAKE-PRESS-RIGHT\", StringType(), nullable=True),\n",
    "        StructField(\"PROP-BETA-RANGE-1\", StringType(), nullable=True),\n",
    "        StructField(\"PROP-BETA-RANGE-2\", StringType(), nullable=True),\n",
    "        StructField(\"AP-ENGAGED\", StringType(), nullable=True),\n",
    "    ])"
   ]
  },
  {
   "cell_type": "code",
   "execution_count": 15,
   "id": "5312882c-941c-43f5-99b3-63768a1d591a",
   "metadata": {
    "execution": {
     "iopub.execute_input": "2023-01-06T06:30:59.116863Z",
     "iopub.status.busy": "2023-01-06T06:30:59.116644Z",
     "iopub.status.idle": "2023-01-06T06:30:59.873937Z",
     "shell.execute_reply": "2023-01-06T06:30:59.873447Z",
     "shell.execute_reply.started": "2023-01-06T06:30:59.116840Z"
    },
    "tags": []
   },
   "outputs": [
    {
     "data": {
      "application/vnd.jupyter.widget-view+json": {
       "model_id": "50e3299109cc4b159c23c9fb56c94f20",
       "version_major": 2,
       "version_minor": 0
      },
      "text/plain": [
       "VBox()"
      ]
     },
     "metadata": {},
     "output_type": "display_data"
    },
    {
     "data": {
      "application/vnd.jupyter.widget-view+json": {
       "model_id": "",
       "version_major": 2,
       "version_minor": 0
      },
      "text/plain": [
       "FloatProgress(value=0.0, bar_style='info', description='Progress:', layout=Layout(height='25px', width='50%'),…"
      ]
     },
     "metadata": {},
     "output_type": "display_data"
    }
   ],
   "source": [
    "raw_df = spark.read.csv(\n",
    "        's3://sjet-datamart-bucket/PrecogFiles/Q400/512 WPS/20230104/', header=True, schema=RawSchema)"
   ]
  },
  {
   "cell_type": "code",
   "execution_count": 16,
   "id": "28d069d2-990d-4f7f-b0ef-c880c3cdac9b",
   "metadata": {
    "execution": {
     "iopub.execute_input": "2023-01-06T06:31:00.714874Z",
     "iopub.status.busy": "2023-01-06T06:31:00.714659Z",
     "iopub.status.idle": "2023-01-06T06:31:14.016335Z",
     "shell.execute_reply": "2023-01-06T06:31:14.015847Z",
     "shell.execute_reply.started": "2023-01-06T06:31:00.714852Z"
    },
    "tags": []
   },
   "outputs": [
    {
     "data": {
      "application/vnd.jupyter.widget-view+json": {
       "model_id": "6a1e2a9d39824818aab6328e0539c763",
       "version_major": 2,
       "version_minor": 0
      },
      "text/plain": [
       "VBox()"
      ]
     },
     "metadata": {},
     "output_type": "display_data"
    },
    {
     "data": {
      "application/vnd.jupyter.widget-view+json": {
       "model_id": "",
       "version_major": 2,
       "version_minor": 0
      },
      "text/plain": [
       "FloatProgress(value=0.0, bar_style='info', description='Progress:', layout=Layout(height='25px', width='50%'),…"
      ]
     },
     "metadata": {},
     "output_type": "display_data"
    },
    {
     "name": "stdout",
     "output_type": "stream",
     "text": [
      "5419936"
     ]
    }
   ],
   "source": [
    "raw_df.count()"
   ]
  },
  {
   "cell_type": "code",
   "execution_count": 17,
   "id": "3ad97aad-7f2a-4543-87b7-9f2c72784fba",
   "metadata": {
    "execution": {
     "iopub.execute_input": "2023-01-06T06:31:18.375021Z",
     "iopub.status.busy": "2023-01-06T06:31:18.374798Z",
     "iopub.status.idle": "2023-01-06T06:31:18.646334Z",
     "shell.execute_reply": "2023-01-06T06:31:18.645797Z",
     "shell.execute_reply.started": "2023-01-06T06:31:18.374998Z"
    },
    "tags": []
   },
   "outputs": [
    {
     "data": {
      "application/vnd.jupyter.widget-view+json": {
       "model_id": "8e6ceb8444ee47f78c78eac239d751da",
       "version_major": 2,
       "version_minor": 0
      },
      "text/plain": [
       "VBox()"
      ]
     },
     "metadata": {},
     "output_type": "display_data"
    },
    {
     "data": {
      "application/vnd.jupyter.widget-view+json": {
       "model_id": "",
       "version_major": 2,
       "version_minor": 0
      },
      "text/plain": [
       "FloatProgress(value=0.0, bar_style='info', description='Progress:', layout=Layout(height='25px', width='50%'),…"
      ]
     },
     "metadata": {},
     "output_type": "display_data"
    }
   ],
   "source": [
    "raw_df_withfilename_1 = raw_df.withColumn(\"FileName\", regexp_extract(\n",
    "                    regexp_replace(input_file_name(), '%20', ' '), \"ALL\\s(.*?)\\.(\\w+)$\", 0))"
   ]
  },
  {
   "cell_type": "code",
   "execution_count": 18,
   "id": "ef48fddc-5f3c-4ed0-b4f3-10fe5fa7547d",
   "metadata": {
    "execution": {
     "iopub.execute_input": "2023-01-06T06:31:20.205764Z",
     "iopub.status.busy": "2023-01-06T06:31:20.205541Z",
     "iopub.status.idle": "2023-01-06T06:31:23.479103Z",
     "shell.execute_reply": "2023-01-06T06:31:23.478533Z",
     "shell.execute_reply.started": "2023-01-06T06:31:20.205741Z"
    },
    "tags": []
   },
   "outputs": [
    {
     "data": {
      "application/vnd.jupyter.widget-view+json": {
       "model_id": "791198f3b91a4893ace9213871819f95",
       "version_major": 2,
       "version_minor": 0
      },
      "text/plain": [
       "VBox()"
      ]
     },
     "metadata": {},
     "output_type": "display_data"
    },
    {
     "data": {
      "application/vnd.jupyter.widget-view+json": {
       "model_id": "",
       "version_major": 2,
       "version_minor": 0
      },
      "text/plain": [
       "FloatProgress(value=0.0, bar_style='info', description='Progress:', layout=Layout(height='25px', width='50%'),…"
      ]
     },
     "metadata": {},
     "output_type": "display_data"
    },
    {
     "name": "stdout",
     "output_type": "stream",
     "text": [
      "5419936"
     ]
    }
   ],
   "source": [
    "raw_df_withfilename_1.count()"
   ]
  },
  {
   "cell_type": "code",
   "execution_count": 19,
   "id": "3aa11c56-ae70-4897-8d5c-3d2f3ebe449e",
   "metadata": {
    "execution": {
     "iopub.execute_input": "2023-01-06T06:31:24.528919Z",
     "iopub.status.busy": "2023-01-06T06:31:24.528698Z",
     "iopub.status.idle": "2023-01-06T06:31:25.305739Z",
     "shell.execute_reply": "2023-01-06T06:31:25.305115Z",
     "shell.execute_reply.started": "2023-01-06T06:31:24.528893Z"
    },
    "tags": []
   },
   "outputs": [
    {
     "data": {
      "application/vnd.jupyter.widget-view+json": {
       "model_id": "987ed3c002754d74b74d5f1d809bb798",
       "version_major": 2,
       "version_minor": 0
      },
      "text/plain": [
       "VBox()"
      ]
     },
     "metadata": {},
     "output_type": "display_data"
    },
    {
     "data": {
      "application/vnd.jupyter.widget-view+json": {
       "model_id": "",
       "version_major": 2,
       "version_minor": 0
      },
      "text/plain": [
       "FloatProgress(value=0.0, bar_style='info', description='Progress:', layout=Layout(height='25px', width='50%'),…"
      ]
     },
     "metadata": {},
     "output_type": "display_data"
    }
   ],
   "source": [
    "flight_data_info = spark.read \\\n",
    "                            .format(\"csv\") \\\n",
    "                            .option(\"header\", \"true\") \\\n",
    "                            .load('s3://sjet-datamart-bucket/precog/precog-file-info/q400/512-wps/20230104/FileInfo_20230104.csv')"
   ]
  },
  {
   "cell_type": "code",
   "execution_count": 20,
   "id": "04a1e922-a57c-4459-92cf-c50c8da3c9a0",
   "metadata": {
    "execution": {
     "iopub.execute_input": "2023-01-06T06:31:29.482987Z",
     "iopub.status.busy": "2023-01-06T06:31:29.482709Z",
     "iopub.status.idle": "2023-01-06T06:31:29.736527Z",
     "shell.execute_reply": "2023-01-06T06:31:29.736039Z",
     "shell.execute_reply.started": "2023-01-06T06:31:29.482950Z"
    },
    "tags": []
   },
   "outputs": [
    {
     "data": {
      "application/vnd.jupyter.widget-view+json": {
       "model_id": "b76bdf20fbf14802a609e32a39887424",
       "version_major": 2,
       "version_minor": 0
      },
      "text/plain": [
       "VBox()"
      ]
     },
     "metadata": {},
     "output_type": "display_data"
    },
    {
     "data": {
      "application/vnd.jupyter.widget-view+json": {
       "model_id": "",
       "version_major": 2,
       "version_minor": 0
      },
      "text/plain": [
       "FloatProgress(value=0.0, bar_style='info', description='Progress:', layout=Layout(height='25px', width='50%'),…"
      ]
     },
     "metadata": {},
     "output_type": "display_data"
    }
   ],
   "source": [
    "raw_df_withfilename_1.createOrReplaceTempView(\"RawData_1\")\n",
    "flight_data_info.dropDuplicates().createOrReplaceTempView(\"FlightInfo\")"
   ]
  },
  {
   "cell_type": "code",
   "execution_count": 21,
   "id": "3f754884-5e76-4a15-a722-a71c3f0812e6",
   "metadata": {
    "execution": {
     "iopub.execute_input": "2023-01-06T06:31:30.441312Z",
     "iopub.status.busy": "2023-01-06T06:31:30.441086Z",
     "iopub.status.idle": "2023-01-06T06:31:30.692679Z",
     "shell.execute_reply": "2023-01-06T06:31:30.692185Z",
     "shell.execute_reply.started": "2023-01-06T06:31:30.441288Z"
    },
    "tags": []
   },
   "outputs": [
    {
     "data": {
      "application/vnd.jupyter.widget-view+json": {
       "model_id": "5b08280971d34e77921a42ef3b53d018",
       "version_major": 2,
       "version_minor": 0
      },
      "text/plain": [
       "VBox()"
      ]
     },
     "metadata": {},
     "output_type": "display_data"
    },
    {
     "data": {
      "application/vnd.jupyter.widget-view+json": {
       "model_id": "",
       "version_major": 2,
       "version_minor": 0
      },
      "text/plain": [
       "FloatProgress(value=0.0, bar_style='info', description='Progress:', layout=Layout(height='25px', width='50%'),…"
      ]
     },
     "metadata": {},
     "output_type": "display_data"
    }
   ],
   "source": [
    "raw_df_withfilename_2 = spark.sql('''\n",
    "\n",
    "                            SELECT *,\n",
    "                            \n",
    "                            CASE \n",
    "                                WHEN LENGTH(CAST(`Time-Per-Sec` as String)) = 1 THEN CONCAT('00000',CAST(`Time-Per-Sec` as String)) \n",
    "                                WHEN LENGTH(CAST(`Time-Per-Sec` as String)) = 2 THEN CONCAT('0000',CAST(`Time-Per-Sec` as String)) \n",
    "                                WHEN LENGTH(CAST(`Time-Per-Sec` as String)) = 3 THEN CONCAT('000',CAST(`Time-Per-Sec` as String))\n",
    "                                WHEN LENGTH(CAST(`Time-Per-Sec` as String)) = 4 THEN CONCAT('00',CAST(`Time-Per-Sec` as String)) \n",
    "                                WHEN LENGTH(CAST(`Time-Per-Sec` as String)) = 5 THEN CONCAT('0',CAST(`Time-Per-Sec` as String))\n",
    "                                ELSE `Time-Per-Sec`\n",
    "                            END As Time\n",
    "                                                                \n",
    "                            FROM RawData_1\n",
    "                                                \n",
    "                    ''')"
   ]
  },
  {
   "cell_type": "code",
   "execution_count": 22,
   "id": "afc12cb0-e0d6-4259-9f4f-b34a3e3221da",
   "metadata": {
    "execution": {
     "iopub.execute_input": "2023-01-06T06:31:31.166457Z",
     "iopub.status.busy": "2023-01-06T06:31:31.166238Z",
     "iopub.status.idle": "2023-01-06T06:31:31.415671Z",
     "shell.execute_reply": "2023-01-06T06:31:31.415155Z",
     "shell.execute_reply.started": "2023-01-06T06:31:31.166435Z"
    },
    "tags": []
   },
   "outputs": [
    {
     "data": {
      "application/vnd.jupyter.widget-view+json": {
       "model_id": "f200898fd52a44bcb77509b73027c086",
       "version_major": 2,
       "version_minor": 0
      },
      "text/plain": [
       "VBox()"
      ]
     },
     "metadata": {},
     "output_type": "display_data"
    },
    {
     "data": {
      "application/vnd.jupyter.widget-view+json": {
       "model_id": "",
       "version_major": 2,
       "version_minor": 0
      },
      "text/plain": [
       "FloatProgress(value=0.0, bar_style='info', description='Progress:', layout=Layout(height='25px', width='50%'),…"
      ]
     },
     "metadata": {},
     "output_type": "display_data"
    }
   ],
   "source": [
    "raw_df_withfilename_3 = raw_df_withfilename_2.withColumn(\"Time-Per-Sec-1\", regexp_replace(col(\"Time\") , \"(\\\\d{2})(\\\\d{2})(\\\\d{2})\" , \"$1:$2:$3\" ))"
   ]
  },
  {
   "cell_type": "code",
   "execution_count": 23,
   "id": "71b11979-59eb-4015-886f-ea5180ab925c",
   "metadata": {
    "execution": {
     "iopub.execute_input": "2023-01-06T06:31:31.894350Z",
     "iopub.status.busy": "2023-01-06T06:31:31.894097Z",
     "iopub.status.idle": "2023-01-06T06:31:32.143316Z",
     "shell.execute_reply": "2023-01-06T06:31:32.142809Z",
     "shell.execute_reply.started": "2023-01-06T06:31:31.894327Z"
    },
    "tags": []
   },
   "outputs": [
    {
     "data": {
      "application/vnd.jupyter.widget-view+json": {
       "model_id": "2187d7b046f64cf280e5769d91f27779",
       "version_major": 2,
       "version_minor": 0
      },
      "text/plain": [
       "VBox()"
      ]
     },
     "metadata": {},
     "output_type": "display_data"
    },
    {
     "data": {
      "application/vnd.jupyter.widget-view+json": {
       "model_id": "",
       "version_major": 2,
       "version_minor": 0
      },
      "text/plain": [
       "FloatProgress(value=0.0, bar_style='info', description='Progress:', layout=Layout(height='25px', width='50%'),…"
      ]
     },
     "metadata": {},
     "output_type": "display_data"
    }
   ],
   "source": [
    "raw_df_withfilename_3.createOrReplaceTempView('RawData_2')"
   ]
  },
  {
   "cell_type": "code",
   "execution_count": 24,
   "id": "20234768-c19e-4b79-9233-ded4c61b3d79",
   "metadata": {
    "execution": {
     "iopub.execute_input": "2023-01-06T06:31:32.480768Z",
     "iopub.status.busy": "2023-01-06T06:31:32.480547Z",
     "iopub.status.idle": "2023-01-06T06:31:34.749474Z",
     "shell.execute_reply": "2023-01-06T06:31:34.748982Z",
     "shell.execute_reply.started": "2023-01-06T06:31:32.480745Z"
    },
    "tags": []
   },
   "outputs": [
    {
     "data": {
      "application/vnd.jupyter.widget-view+json": {
       "model_id": "2c778b03e6784332ac09d8bcc3e388f3",
       "version_major": 2,
       "version_minor": 0
      },
      "text/plain": [
       "VBox()"
      ]
     },
     "metadata": {},
     "output_type": "display_data"
    },
    {
     "data": {
      "application/vnd.jupyter.widget-view+json": {
       "model_id": "",
       "version_major": 2,
       "version_minor": 0
      },
      "text/plain": [
       "FloatProgress(value=0.0, bar_style='info', description='Progress:', layout=Layout(height='25px', width='50%'),…"
      ]
     },
     "metadata": {},
     "output_type": "display_data"
    },
    {
     "name": "stdout",
     "output_type": "stream",
     "text": [
      "5419936"
     ]
    }
   ],
   "source": [
    "raw_df_withfilename_3.count()"
   ]
  },
  {
   "cell_type": "code",
   "execution_count": 25,
   "id": "3697527c-00b1-4c13-95be-fecb8164d14c",
   "metadata": {
    "execution": {
     "iopub.execute_input": "2023-01-06T06:31:36.558799Z",
     "iopub.status.busy": "2023-01-06T06:31:36.558450Z",
     "iopub.status.idle": "2023-01-06T06:31:36.812164Z",
     "shell.execute_reply": "2023-01-06T06:31:36.811631Z",
     "shell.execute_reply.started": "2023-01-06T06:31:36.558773Z"
    },
    "tags": []
   },
   "outputs": [
    {
     "data": {
      "application/vnd.jupyter.widget-view+json": {
       "model_id": "7d78fddb314c46a38c97a8e73055a670",
       "version_major": 2,
       "version_minor": 0
      },
      "text/plain": [
       "VBox()"
      ]
     },
     "metadata": {},
     "output_type": "display_data"
    },
    {
     "data": {
      "application/vnd.jupyter.widget-view+json": {
       "model_id": "",
       "version_major": 2,
       "version_minor": 0
      },
      "text/plain": [
       "FloatProgress(value=0.0, bar_style='info', description='Progress:', layout=Layout(height='25px', width='50%'),…"
      ]
     },
     "metadata": {},
     "output_type": "display_data"
    }
   ],
   "source": [
    "flight_data_info_With_J = spark.sql('''\n",
    "\n",
    "                                        SELECT * FROM FlightInfo\n",
    "                                        \n",
    "                                        Where Filename Like ('%SEJ%J%')\n",
    "                                                ''')\n",
    "\n",
    "flight_data_info_With_J.createOrReplaceTempView('flight_data_info_With_J')"
   ]
  },
  {
   "cell_type": "code",
   "execution_count": 26,
   "id": "9c45d4ba-ed87-48fb-873a-b1926c29b2f3",
   "metadata": {
    "execution": {
     "iopub.execute_input": "2023-01-06T06:31:37.239585Z",
     "iopub.status.busy": "2023-01-06T06:31:37.239383Z",
     "iopub.status.idle": "2023-01-06T06:31:38.501078Z",
     "shell.execute_reply": "2023-01-06T06:31:38.500581Z",
     "shell.execute_reply.started": "2023-01-06T06:31:37.239563Z"
    },
    "tags": []
   },
   "outputs": [
    {
     "data": {
      "application/vnd.jupyter.widget-view+json": {
       "model_id": "11ca00bad2094c29935d2bdd613fbfde",
       "version_major": 2,
       "version_minor": 0
      },
      "text/plain": [
       "VBox()"
      ]
     },
     "metadata": {},
     "output_type": "display_data"
    },
    {
     "data": {
      "application/vnd.jupyter.widget-view+json": {
       "model_id": "",
       "version_major": 2,
       "version_minor": 0
      },
      "text/plain": [
       "FloatProgress(value=0.0, bar_style='info', description='Progress:', layout=Layout(height='25px', width='50%'),…"
      ]
     },
     "metadata": {},
     "output_type": "display_data"
    },
    {
     "name": "stdout",
     "output_type": "stream",
     "text": [
      "13"
     ]
    }
   ],
   "source": [
    "flight_data_info_With_J.count()"
   ]
  },
  {
   "cell_type": "code",
   "execution_count": 27,
   "id": "ac1c7088-5dbf-4d68-a6bf-4670ccd5197e",
   "metadata": {
    "execution": {
     "iopub.execute_input": "2023-01-06T06:31:39.298015Z",
     "iopub.status.busy": "2023-01-06T06:31:39.297795Z",
     "iopub.status.idle": "2023-01-06T06:31:40.063259Z",
     "shell.execute_reply": "2023-01-06T06:31:39.641548Z",
     "shell.execute_reply.started": "2023-01-06T06:31:39.297993Z"
    },
    "tags": []
   },
   "outputs": [
    {
     "data": {
      "application/vnd.jupyter.widget-view+json": {
       "model_id": "98d66228fa6c4f0f88f4ae8ba82e0f26",
       "version_major": 2,
       "version_minor": 0
      },
      "text/plain": [
       "VBox()"
      ]
     },
     "metadata": {},
     "output_type": "display_data"
    },
    {
     "data": {
      "application/vnd.jupyter.widget-view+json": {
       "model_id": "",
       "version_major": 2,
       "version_minor": 0
      },
      "text/plain": [
       "FloatProgress(value=0.0, bar_style='info', description='Progress:', layout=Layout(height='25px', width='50%'),…"
      ]
     },
     "metadata": {},
     "output_type": "display_data"
    }
   ],
   "source": [
    "flight_data_info_Without_J = spark.sql('''\n",
    "                                            \n",
    "                                            SELECT * FROM FlightInfo\n",
    "                                            \n",
    "                                            WHERE Filename NOT LIKE ('%SEJ%J%')\n",
    "\n",
    "                                                    ''')\n",
    "\n",
    "flight_data_info_Without_J.createOrReplaceTempView('flight_data_info_Without_J')"
   ]
  },
  {
   "cell_type": "code",
   "execution_count": 28,
   "id": "72f53abb-24cb-4f49-adec-f6c0f1d86caa",
   "metadata": {
    "execution": {
     "iopub.execute_input": "2023-01-06T06:31:40.064497Z",
     "iopub.status.busy": "2023-01-06T06:31:40.064305Z",
     "iopub.status.idle": "2023-01-06T06:31:40.835797Z",
     "shell.execute_reply": "2023-01-06T06:31:40.835222Z",
     "shell.execute_reply.started": "2023-01-06T06:31:40.064476Z"
    },
    "tags": []
   },
   "outputs": [
    {
     "data": {
      "application/vnd.jupyter.widget-view+json": {
       "model_id": "b9ce4a506e10442bb128f0faa9e679d5",
       "version_major": 2,
       "version_minor": 0
      },
      "text/plain": [
       "VBox()"
      ]
     },
     "metadata": {},
     "output_type": "display_data"
    },
    {
     "data": {
      "application/vnd.jupyter.widget-view+json": {
       "model_id": "",
       "version_major": 2,
       "version_minor": 0
      },
      "text/plain": [
       "FloatProgress(value=0.0, bar_style='info', description='Progress:', layout=Layout(height='25px', width='50%'),…"
      ]
     },
     "metadata": {},
     "output_type": "display_data"
    },
    {
     "name": "stdout",
     "output_type": "stream",
     "text": [
      "106"
     ]
    }
   ],
   "source": [
    "flight_data_info_Without_J.count()"
   ]
  },
  {
   "cell_type": "code",
   "execution_count": 29,
   "id": "4e42747e-9eb0-4f67-b480-a3f111bf609d",
   "metadata": {
    "execution": {
     "iopub.execute_input": "2023-01-06T06:31:41.654262Z",
     "iopub.status.busy": "2023-01-06T06:31:41.654013Z",
     "iopub.status.idle": "2023-01-06T06:31:41.905289Z",
     "shell.execute_reply": "2023-01-06T06:31:41.904727Z",
     "shell.execute_reply.started": "2023-01-06T06:31:41.654236Z"
    },
    "tags": []
   },
   "outputs": [
    {
     "data": {
      "application/vnd.jupyter.widget-view+json": {
       "model_id": "5225b96dfdb0457d907a7d6aa1d549ee",
       "version_major": 2,
       "version_minor": 0
      },
      "text/plain": [
       "VBox()"
      ]
     },
     "metadata": {},
     "output_type": "display_data"
    },
    {
     "data": {
      "application/vnd.jupyter.widget-view+json": {
       "model_id": "",
       "version_major": 2,
       "version_minor": 0
      },
      "text/plain": [
       "FloatProgress(value=0.0, bar_style='info', description='Progress:', layout=Layout(height='25px', width='50%'),…"
      ]
     },
     "metadata": {},
     "output_type": "display_data"
    }
   ],
   "source": [
    "flight_data_join_df_Without_J = spark.sql(f'''\n",
    "\n",
    "                            \n",
    "                            SELECT\n",
    "                            \n",
    "                                fi.TailNo,\n",
    "\n",
    "                                fi.Departure,\n",
    "\n",
    "                                fi.Arrival,\n",
    "\n",
    "                                fi.FlightNo,\n",
    "\n",
    "                                fi.FlightDate as `Date`,\n",
    "\n",
    "                                rw.*,\n",
    "\n",
    "                                current_timestamp() as `LoadedDate`,\n",
    "\n",
    "                                'precog-spark' as `LoadedBy`,\n",
    "\n",
    "                                '512 WPS' as `DataFrameName`,\n",
    "\n",
    "                                fi.year,\n",
    "\n",
    "                                fi.month\n",
    "\n",
    "                            FROM RawData_2 rw\n",
    "\n",
    "                            JOIN flight_data_info_Without_J fi \n",
    "                            \n",
    "                            ON fi.FileName = rw.FileName\n",
    "            \n",
    "                                        ''')\n",
    "\n",
    "                \n",
    "flight_data_join_df_Without_J.createOrReplaceTempView('flight_data_join_df_Without_J')"
   ]
  },
  {
   "cell_type": "code",
   "execution_count": 31,
   "id": "1f319bbe-0c66-4657-8b2e-c6733c591c4c",
   "metadata": {
    "execution": {
     "iopub.execute_input": "2023-01-06T06:32:33.020919Z",
     "iopub.status.busy": "2023-01-06T06:32:33.020682Z",
     "iopub.status.idle": "2023-01-06T06:32:42.309297Z",
     "shell.execute_reply": "2023-01-06T06:32:42.308796Z",
     "shell.execute_reply.started": "2023-01-06T06:32:33.020896Z"
    },
    "tags": []
   },
   "outputs": [
    {
     "data": {
      "application/vnd.jupyter.widget-view+json": {
       "model_id": "acd1c8638bc34bd7884e5bc436f688e6",
       "version_major": 2,
       "version_minor": 0
      },
      "text/plain": [
       "VBox()"
      ]
     },
     "metadata": {},
     "output_type": "display_data"
    },
    {
     "data": {
      "application/vnd.jupyter.widget-view+json": {
       "model_id": "",
       "version_major": 2,
       "version_minor": 0
      },
      "text/plain": [
       "FloatProgress(value=0.0, bar_style='info', description='Progress:', layout=Layout(height='25px', width='50%'),…"
      ]
     },
     "metadata": {},
     "output_type": "display_data"
    },
    {
     "name": "stdout",
     "output_type": "stream",
     "text": [
      "+------------------------+\n",
      "|count(DISTINCT filename)|\n",
      "+------------------------+\n",
      "|                     106|\n",
      "+------------------------+"
     ]
    }
   ],
   "source": [
    "spark.sql('''\n",
    "\n",
    "SELECT count(distinct(filename)) FROM flight_data_join_df_Without_J\n",
    "\n",
    "''').show()"
   ]
  },
  {
   "cell_type": "code",
   "execution_count": 32,
   "id": "7562d21d-e92b-49ba-9af7-65bdb59f0ce5",
   "metadata": {
    "execution": {
     "iopub.execute_input": "2023-01-06T06:34:15.268954Z",
     "iopub.status.busy": "2023-01-06T06:34:15.268724Z",
     "iopub.status.idle": "2023-01-06T06:34:15.519902Z",
     "shell.execute_reply": "2023-01-06T06:34:15.519422Z",
     "shell.execute_reply.started": "2023-01-06T06:34:15.268930Z"
    },
    "tags": []
   },
   "outputs": [
    {
     "data": {
      "application/vnd.jupyter.widget-view+json": {
       "model_id": "2c67074b4e1747299243da05e76dbb3d",
       "version_major": 2,
       "version_minor": 0
      },
      "text/plain": [
       "VBox()"
      ]
     },
     "metadata": {},
     "output_type": "display_data"
    },
    {
     "data": {
      "application/vnd.jupyter.widget-view+json": {
       "model_id": "",
       "version_major": 2,
       "version_minor": 0
      },
      "text/plain": [
       "FloatProgress(value=0.0, bar_style='info', description='Progress:', layout=Layout(height='25px', width='50%'),…"
      ]
     },
     "metadata": {},
     "output_type": "display_data"
    }
   ],
   "source": [
    "flight_data_join_df_With_J = spark.sql(f'''\n",
    "\n",
    "                            \n",
    "                            SELECT\n",
    "                            \n",
    "                            fi.TailNo,\n",
    "                            \n",
    "                            fi.Departure,\n",
    "                            \n",
    "                            fi.Arrival,\n",
    "                            \n",
    "                            fi.FlightNo,\n",
    "                            \n",
    "                            fi.FlightDate as `Date`,\n",
    "                            \n",
    "                            rw.*,\n",
    "                            \n",
    "                            current_timestamp() as `LoadedDate`,\n",
    "                            \n",
    "                            'precog-spark' as `LoadedBy`,\n",
    "                            \n",
    "                            '512 WPS' as `DataFrameName`,\n",
    "                            \n",
    "                            fi.year,\n",
    "                            \n",
    "                            fi.month\n",
    "\n",
    "                            FROM RawData_2 rw\n",
    "\n",
    "                            JOIN flight_data_info_With_J fi \n",
    "                            \n",
    "                            ON fi.FileName = rw.FileName\n",
    "                            \n",
    "                            \n",
    "            \n",
    "                                        ''')\n",
    "\n",
    "flight_data_join_df_With_J.createOrReplaceTempView('flight_data_join_df_With_J')"
   ]
  },
  {
   "cell_type": "code",
   "execution_count": 33,
   "id": "f7b0d2aa-548f-478a-8663-0dfc77055a49",
   "metadata": {
    "execution": {
     "iopub.execute_input": "2023-01-06T06:34:29.553370Z",
     "iopub.status.busy": "2023-01-06T06:34:29.553145Z",
     "iopub.status.idle": "2023-01-06T06:34:48.873054Z",
     "shell.execute_reply": "2023-01-06T06:34:48.872517Z",
     "shell.execute_reply.started": "2023-01-06T06:34:29.553347Z"
    },
    "tags": []
   },
   "outputs": [
    {
     "data": {
      "application/vnd.jupyter.widget-view+json": {
       "model_id": "05790e3c87d640b4b3bcdfe6b53bd902",
       "version_major": 2,
       "version_minor": 0
      },
      "text/plain": [
       "VBox()"
      ]
     },
     "metadata": {},
     "output_type": "display_data"
    },
    {
     "data": {
      "application/vnd.jupyter.widget-view+json": {
       "model_id": "",
       "version_major": 2,
       "version_minor": 0
      },
      "text/plain": [
       "FloatProgress(value=0.0, bar_style='info', description='Progress:', layout=Layout(height='25px', width='50%'),…"
      ]
     },
     "metadata": {},
     "output_type": "display_data"
    },
    {
     "name": "stdout",
     "output_type": "stream",
     "text": [
      "+------------------------+\n",
      "|count(DISTINCT filename)|\n",
      "+------------------------+\n",
      "|                      13|\n",
      "+------------------------+"
     ]
    }
   ],
   "source": [
    "spark.sql('''\n",
    "\n",
    "SELECT count(distinct(filename)) FROM flight_data_join_df_With_J\n",
    "\n",
    "''').show()"
   ]
  },
  {
   "cell_type": "code",
   "execution_count": 34,
   "id": "bc0d77b1-58ab-4203-8572-365dec1461c7",
   "metadata": {
    "execution": {
     "iopub.execute_input": "2023-01-06T06:35:12.743933Z",
     "iopub.status.busy": "2023-01-06T06:35:12.743698Z",
     "iopub.status.idle": "2023-01-06T06:35:12.997243Z",
     "shell.execute_reply": "2023-01-06T06:35:12.996739Z",
     "shell.execute_reply.started": "2023-01-06T06:35:12.743910Z"
    }
   },
   "outputs": [
    {
     "data": {
      "application/vnd.jupyter.widget-view+json": {
       "model_id": "7e3eb5630d1a47c7b3469ccc6c89d045",
       "version_major": 2,
       "version_minor": 0
      },
      "text/plain": [
       "VBox()"
      ]
     },
     "metadata": {},
     "output_type": "display_data"
    },
    {
     "data": {
      "application/vnd.jupyter.widget-view+json": {
       "model_id": "",
       "version_major": 2,
       "version_minor": 0
      },
      "text/plain": [
       "FloatProgress(value=0.0, bar_style='info', description='Progress:', layout=Layout(height='25px', width='50%'),…"
      ]
     },
     "metadata": {},
     "output_type": "display_data"
    }
   ],
   "source": [
    "UTC_Without_J = spark.sql('''\n",
    "\n",
    "                    SELECT TailNo, Departure, Arrival, FlightNo, Date, Filename, to_timestamp(concat(Date,' ',first_value(`Time-Per-Sec-1`,true))) AS UTC_TIMEDATE\n",
    "                    \n",
    "                    FROM flight_data_join_df_Without_J\n",
    "                    \n",
    "                    Group By TailNo, Departure, Arrival, FlightNo, Date, Filename\n",
    "\n",
    "                            ''')\n",
    "\n",
    "UTC_Without_J.createOrReplaceTempView('UTC_Without_J')"
   ]
  },
  {
   "cell_type": "code",
   "execution_count": 35,
   "id": "11df5687-de72-4f54-ae1b-f736f006b5ec",
   "metadata": {
    "execution": {
     "iopub.execute_input": "2023-01-06T06:35:31.805592Z",
     "iopub.status.busy": "2023-01-06T06:35:31.805358Z",
     "iopub.status.idle": "2023-01-06T06:35:39.085862Z",
     "shell.execute_reply": "2023-01-06T06:35:39.085243Z",
     "shell.execute_reply.started": "2023-01-06T06:35:31.805569Z"
    }
   },
   "outputs": [
    {
     "data": {
      "application/vnd.jupyter.widget-view+json": {
       "model_id": "e56eff7ea16a4339ad0b403fe8ab47a5",
       "version_major": 2,
       "version_minor": 0
      },
      "text/plain": [
       "VBox()"
      ]
     },
     "metadata": {},
     "output_type": "display_data"
    },
    {
     "data": {
      "application/vnd.jupyter.widget-view+json": {
       "model_id": "",
       "version_major": 2,
       "version_minor": 0
      },
      "text/plain": [
       "FloatProgress(value=0.0, bar_style='info', description='Progress:', layout=Layout(height='25px', width='50%'),…"
      ]
     },
     "metadata": {},
     "output_type": "display_data"
    },
    {
     "name": "stdout",
     "output_type": "stream",
     "text": [
      "106"
     ]
    }
   ],
   "source": [
    "UTC_Without_J.count()"
   ]
  },
  {
   "cell_type": "code",
   "execution_count": 36,
   "id": "0061b1b1-073f-4756-bd56-338bebb8cea8",
   "metadata": {
    "execution": {
     "iopub.execute_input": "2023-01-06T06:35:58.147750Z",
     "iopub.status.busy": "2023-01-06T06:35:58.147520Z",
     "iopub.status.idle": "2023-01-06T06:35:58.398112Z",
     "shell.execute_reply": "2023-01-06T06:35:58.397595Z",
     "shell.execute_reply.started": "2023-01-06T06:35:58.147726Z"
    }
   },
   "outputs": [
    {
     "data": {
      "application/vnd.jupyter.widget-view+json": {
       "model_id": "5093c0fcc64e40be89bc0c0cf385ca72",
       "version_major": 2,
       "version_minor": 0
      },
      "text/plain": [
       "VBox()"
      ]
     },
     "metadata": {},
     "output_type": "display_data"
    },
    {
     "data": {
      "application/vnd.jupyter.widget-view+json": {
       "model_id": "",
       "version_major": 2,
       "version_minor": 0
      },
      "text/plain": [
       "FloatProgress(value=0.0, bar_style='info', description='Progress:', layout=Layout(height='25px', width='50%'),…"
      ]
     },
     "metadata": {},
     "output_type": "display_data"
    }
   ],
   "source": [
    "UTC_With_J = spark.sql('''\n",
    "\n",
    "                    SELECT TailNo, Departure, Arrival, FlightNo, Date, Filename, to_timestamp(concat(Date,' ',first_value(`Time-Per-Sec-1`,true))) AS UTC_TIMEDATE\n",
    "                    \n",
    "                    FROM flight_data_join_df_With_J\n",
    "                    \n",
    "                    Group By TailNo, Departure, Arrival, FlightNo, Date, Filename\n",
    "\n",
    "                            ''')\n",
    "\n",
    "UTC_With_J.createOrReplaceTempView('UTC_With_J')"
   ]
  },
  {
   "cell_type": "code",
   "execution_count": 37,
   "id": "6bee5485-2f4c-4c97-87b3-0de32fa55c18",
   "metadata": {
    "execution": {
     "iopub.execute_input": "2023-01-06T06:36:09.527054Z",
     "iopub.status.busy": "2023-01-06T06:36:09.526830Z",
     "iopub.status.idle": "2023-01-06T06:36:16.893325Z",
     "shell.execute_reply": "2023-01-06T06:36:16.892822Z",
     "shell.execute_reply.started": "2023-01-06T06:36:09.527031Z"
    }
   },
   "outputs": [
    {
     "data": {
      "application/vnd.jupyter.widget-view+json": {
       "model_id": "2db6da723cfe483ba00b3ae6d9292c17",
       "version_major": 2,
       "version_minor": 0
      },
      "text/plain": [
       "VBox()"
      ]
     },
     "metadata": {},
     "output_type": "display_data"
    },
    {
     "data": {
      "application/vnd.jupyter.widget-view+json": {
       "model_id": "",
       "version_major": 2,
       "version_minor": 0
      },
      "text/plain": [
       "FloatProgress(value=0.0, bar_style='info', description='Progress:', layout=Layout(height='25px', width='50%'),…"
      ]
     },
     "metadata": {},
     "output_type": "display_data"
    },
    {
     "name": "stdout",
     "output_type": "stream",
     "text": [
      "13"
     ]
    }
   ],
   "source": [
    "UTC_With_J.count()"
   ]
  },
  {
   "cell_type": "code",
   "execution_count": 38,
   "id": "9cf356fa-548b-4515-9269-fef4a4297c6e",
   "metadata": {
    "execution": {
     "iopub.execute_input": "2023-01-06T06:36:34.253653Z",
     "iopub.status.busy": "2023-01-06T06:36:34.253406Z",
     "iopub.status.idle": "2023-01-06T06:36:34.515901Z",
     "shell.execute_reply": "2023-01-06T06:36:34.515301Z",
     "shell.execute_reply.started": "2023-01-06T06:36:34.253629Z"
    }
   },
   "outputs": [
    {
     "data": {
      "application/vnd.jupyter.widget-view+json": {
       "model_id": "bb45748495984b839e8ca360a47ac144",
       "version_major": 2,
       "version_minor": 0
      },
      "text/plain": [
       "VBox()"
      ]
     },
     "metadata": {},
     "output_type": "display_data"
    },
    {
     "data": {
      "application/vnd.jupyter.widget-view+json": {
       "model_id": "",
       "version_major": 2,
       "version_minor": 0
      },
      "text/plain": [
       "FloatProgress(value=0.0, bar_style='info', description='Progress:', layout=Layout(height='25px', width='50%'),…"
      ]
     },
     "metadata": {},
     "output_type": "display_data"
    }
   ],
   "source": [
    "UTC_TIMEDATE_Without_J = spark.sql('''\n",
    "\n",
    "                SELECT\n",
    "                            \n",
    "                            \n",
    "                            \n",
    "                            rw.*,\n",
    "                            \n",
    "                            fi.UTC_TIMEDATE\n",
    "                            \n",
    "                            FROM flight_data_join_df_Without_J rw\n",
    "\n",
    "                            JOIN UTC_Without_J fi \n",
    "                            \n",
    "                            ON fi.FileName = rw.FileName\n",
    "\n",
    "\n",
    "\n",
    "                            ''')\n",
    "\n",
    "UTC_TIMEDATE_Without_J.createOrReplaceTempView('UTC_TIMEDATE_Without_J')"
   ]
  },
  {
   "cell_type": "code",
   "execution_count": 40,
   "id": "a528ff77-f29f-4450-935a-d468adfa3f2e",
   "metadata": {
    "execution": {
     "iopub.execute_input": "2023-01-06T06:37:47.918511Z",
     "iopub.status.busy": "2023-01-06T06:37:47.918288Z",
     "iopub.status.idle": "2023-01-06T06:38:03.236769Z",
     "shell.execute_reply": "2023-01-06T06:38:03.236279Z",
     "shell.execute_reply.started": "2023-01-06T06:37:47.918488Z"
    },
    "tags": []
   },
   "outputs": [
    {
     "data": {
      "application/vnd.jupyter.widget-view+json": {
       "model_id": "b5af594ba0ac4b5389b34e072e62a3ee",
       "version_major": 2,
       "version_minor": 0
      },
      "text/plain": [
       "VBox()"
      ]
     },
     "metadata": {},
     "output_type": "display_data"
    },
    {
     "data": {
      "application/vnd.jupyter.widget-view+json": {
       "model_id": "",
       "version_major": 2,
       "version_minor": 0
      },
      "text/plain": [
       "FloatProgress(value=0.0, bar_style='info', description='Progress:', layout=Layout(height='25px', width='50%'),…"
      ]
     },
     "metadata": {},
     "output_type": "display_data"
    },
    {
     "name": "stdout",
     "output_type": "stream",
     "text": [
      "+------------------------+\n",
      "|count(DISTINCT filename)|\n",
      "+------------------------+\n",
      "|                     106|\n",
      "+------------------------+"
     ]
    }
   ],
   "source": [
    "spark.sql('''\n",
    "\n",
    "SELECT count(distinct(filename)) from UTC_TIMEDATE_Without_J\n",
    "\n",
    "''').show()"
   ]
  },
  {
   "cell_type": "code",
   "execution_count": 41,
   "id": "8a476afe-f3a3-4a77-9e7a-4424f6d65923",
   "metadata": {
    "execution": {
     "iopub.execute_input": "2023-01-06T06:42:47.482860Z",
     "iopub.status.busy": "2023-01-06T06:42:47.482629Z",
     "iopub.status.idle": "2023-01-06T06:42:47.733008Z",
     "shell.execute_reply": "2023-01-06T06:42:47.732523Z",
     "shell.execute_reply.started": "2023-01-06T06:42:47.482836Z"
    }
   },
   "outputs": [
    {
     "data": {
      "application/vnd.jupyter.widget-view+json": {
       "model_id": "2e1a60906b6a45efb83f6423e830c4dd",
       "version_major": 2,
       "version_minor": 0
      },
      "text/plain": [
       "VBox()"
      ]
     },
     "metadata": {},
     "output_type": "display_data"
    },
    {
     "data": {
      "application/vnd.jupyter.widget-view+json": {
       "model_id": "",
       "version_major": 2,
       "version_minor": 0
      },
      "text/plain": [
       "FloatProgress(value=0.0, bar_style='info', description='Progress:', layout=Layout(height='25px', width='50%'),…"
      ]
     },
     "metadata": {},
     "output_type": "display_data"
    }
   ],
   "source": [
    "UTC_TIMEDATE_With_J = spark.sql('''\n",
    "\n",
    "                SELECT\n",
    "                            \n",
    "                            \n",
    "                            \n",
    "                            rw.*,\n",
    "                            \n",
    "                            fi.UTC_TIMEDATE\n",
    "                            \n",
    "                            FROM flight_data_join_df_With_J rw\n",
    "\n",
    "                            JOIN UTC_With_J fi \n",
    "                            \n",
    "                            ON fi.FileName = rw.FileName\n",
    "\n",
    "\n",
    "\n",
    "                            ''')\n",
    "\n",
    "UTC_TIMEDATE_With_J.createOrReplaceTempView('UTC_TIMEDATE_With_J')"
   ]
  },
  {
   "cell_type": "code",
   "execution_count": 42,
   "id": "5c4daf92-94a7-47eb-a586-36a1937c6230",
   "metadata": {
    "execution": {
     "iopub.execute_input": "2023-01-06T06:44:13.497392Z",
     "iopub.status.busy": "2023-01-06T06:44:13.497161Z",
     "iopub.status.idle": "2023-01-06T06:44:36.830677Z",
     "shell.execute_reply": "2023-01-06T06:44:36.829988Z",
     "shell.execute_reply.started": "2023-01-06T06:44:13.497369Z"
    }
   },
   "outputs": [
    {
     "data": {
      "application/vnd.jupyter.widget-view+json": {
       "model_id": "8cedef6e7dfb45fd9ae7732cf6ee503c",
       "version_major": 2,
       "version_minor": 0
      },
      "text/plain": [
       "VBox()"
      ]
     },
     "metadata": {},
     "output_type": "display_data"
    },
    {
     "data": {
      "application/vnd.jupyter.widget-view+json": {
       "model_id": "",
       "version_major": 2,
       "version_minor": 0
      },
      "text/plain": [
       "FloatProgress(value=0.0, bar_style='info', description='Progress:', layout=Layout(height='25px', width='50%'),…"
      ]
     },
     "metadata": {},
     "output_type": "display_data"
    },
    {
     "name": "stdout",
     "output_type": "stream",
     "text": [
      "+------------------------+\n",
      "|count(DISTINCT filename)|\n",
      "+------------------------+\n",
      "|                      13|\n",
      "+------------------------+"
     ]
    }
   ],
   "source": [
    "spark.sql('''\n",
    "\n",
    "SELECT count(distinct(filename)) from UTC_TIMEDATE_With_J\n",
    "\n",
    "''').show()"
   ]
  },
  {
   "cell_type": "code",
   "execution_count": 43,
   "id": "9156f188-a897-4b98-8198-eed8f94fa7b3",
   "metadata": {
    "execution": {
     "iopub.execute_input": "2023-01-06T06:45:06.943324Z",
     "iopub.status.busy": "2023-01-06T06:45:06.943091Z",
     "iopub.status.idle": "2023-01-06T06:45:07.195210Z",
     "shell.execute_reply": "2023-01-06T06:45:07.194698Z",
     "shell.execute_reply.started": "2023-01-06T06:45:06.943301Z"
    }
   },
   "outputs": [
    {
     "data": {
      "application/vnd.jupyter.widget-view+json": {
       "model_id": "38a8de0ea77049e3b3da07f968199c56",
       "version_major": 2,
       "version_minor": 0
      },
      "text/plain": [
       "VBox()"
      ]
     },
     "metadata": {},
     "output_type": "display_data"
    },
    {
     "data": {
      "application/vnd.jupyter.widget-view+json": {
       "model_id": "",
       "version_major": 2,
       "version_minor": 0
      },
      "text/plain": [
       "FloatProgress(value=0.0, bar_style='info', description='Progress:', layout=Layout(height='25px', width='50%'),…"
      ]
     },
     "metadata": {},
     "output_type": "display_data"
    }
   ],
   "source": [
    "flight_data_join_df = spark.sql('''\n",
    "                \n",
    "                SELECT * FROM flight_data_join_df_Without_J\n",
    "\n",
    "                UNION\n",
    "\n",
    "                SELECT * FROM flight_data_join_df_With_J\n",
    "                \n",
    "                \n",
    "                ''')\n",
    "\n",
    "flight_data_join_df.createOrReplaceTempView('flight_data_join_df')"
   ]
  },
  {
   "cell_type": "code",
   "execution_count": 44,
   "id": "10a5cb75-8927-40e0-9dac-e3ad96af7e89",
   "metadata": {
    "execution": {
     "iopub.execute_input": "2023-01-06T06:45:36.148205Z",
     "iopub.status.busy": "2023-01-06T06:45:36.147984Z",
     "iopub.status.idle": "2023-01-06T06:46:23.556634Z",
     "shell.execute_reply": "2023-01-06T06:46:23.556061Z",
     "shell.execute_reply.started": "2023-01-06T06:45:36.148182Z"
    }
   },
   "outputs": [
    {
     "data": {
      "application/vnd.jupyter.widget-view+json": {
       "model_id": "a2523382a071497382871751b5e5dc84",
       "version_major": 2,
       "version_minor": 0
      },
      "text/plain": [
       "VBox()"
      ]
     },
     "metadata": {},
     "output_type": "display_data"
    },
    {
     "data": {
      "application/vnd.jupyter.widget-view+json": {
       "model_id": "",
       "version_major": 2,
       "version_minor": 0
      },
      "text/plain": [
       "FloatProgress(value=0.0, bar_style='info', description='Progress:', layout=Layout(height='25px', width='50%'),…"
      ]
     },
     "metadata": {},
     "output_type": "display_data"
    },
    {
     "name": "stdout",
     "output_type": "stream",
     "text": [
      "+------------------------+\n",
      "|count(DISTINCT filename)|\n",
      "+------------------------+\n",
      "|                     119|\n",
      "+------------------------+"
     ]
    }
   ],
   "source": [
    "spark.sql('''\n",
    "\n",
    "SELECT count(distinct(filename)) from flight_data_join_df\n",
    "\n",
    "''').show()"
   ]
  },
  {
   "cell_type": "code",
   "execution_count": 45,
   "id": "42b6ceeb-514e-4d69-91f1-86819176339c",
   "metadata": {
    "execution": {
     "iopub.execute_input": "2023-01-06T06:46:42.419366Z",
     "iopub.status.busy": "2023-01-06T06:46:42.419132Z",
     "iopub.status.idle": "2023-01-06T06:46:43.680456Z",
     "shell.execute_reply": "2023-01-06T06:46:43.679981Z",
     "shell.execute_reply.started": "2023-01-06T06:46:42.419343Z"
    }
   },
   "outputs": [
    {
     "data": {
      "application/vnd.jupyter.widget-view+json": {
       "model_id": "7c6741917dc54cee87cecc1bf9ff460f",
       "version_major": 2,
       "version_minor": 0
      },
      "text/plain": [
       "VBox()"
      ]
     },
     "metadata": {},
     "output_type": "display_data"
    },
    {
     "data": {
      "application/vnd.jupyter.widget-view+json": {
       "model_id": "",
       "version_major": 2,
       "version_minor": 0
      },
      "text/plain": [
       "FloatProgress(value=0.0, bar_style='info', description='Progress:', layout=Layout(height='25px', width='50%'),…"
      ]
     },
     "metadata": {},
     "output_type": "display_data"
    }
   ],
   "source": [
    "MainQueryDF1 = spark.read.csv('s3://sjet-datamart-bucket/precog/pilot-info/', header = True)\n",
    "\n",
    "MainQueryDF1.dropDuplicates().createOrReplaceTempView('MainQueryDF1')"
   ]
  },
  {
   "cell_type": "code",
   "execution_count": 46,
   "id": "fb0b993c-73c7-4eef-b7c7-0332993971db",
   "metadata": {
    "execution": {
     "iopub.execute_input": "2023-01-06T06:47:13.082021Z",
     "iopub.status.busy": "2023-01-06T06:47:13.081792Z",
     "iopub.status.idle": "2023-01-06T06:47:13.334281Z",
     "shell.execute_reply": "2023-01-06T06:47:13.333745Z",
     "shell.execute_reply.started": "2023-01-06T06:47:13.081999Z"
    }
   },
   "outputs": [
    {
     "data": {
      "application/vnd.jupyter.widget-view+json": {
       "model_id": "33896f758f3441c083db283419754cba",
       "version_major": 2,
       "version_minor": 0
      },
      "text/plain": [
       "VBox()"
      ]
     },
     "metadata": {},
     "output_type": "display_data"
    },
    {
     "data": {
      "application/vnd.jupyter.widget-view+json": {
       "model_id": "",
       "version_major": 2,
       "version_minor": 0
      },
      "text/plain": [
       "FloatProgress(value=0.0, bar_style='info', description='Progress:', layout=Layout(height='25px', width='50%'),…"
      ]
     },
     "metadata": {},
     "output_type": "display_data"
    }
   ],
   "source": [
    "MainQueryDF = spark.sql('''\n",
    "\n",
    "                            SELECT \n",
    "                                    \n",
    "                                    FlightID,\n",
    "                                    \n",
    "                                    DesigFlightNumber,\n",
    "                                    \n",
    "                                    AcRegNo\n",
    "                                    \n",
    "                                    ,FlightNumber\n",
    "                                    \n",
    "                                    ,FlightDate\n",
    "                                    \n",
    "                                    ,UTCFlightDate\n",
    "                                    \n",
    "                                    ,FromCity\n",
    "                                    \n",
    "                                    ,ToCity\n",
    "                                    \n",
    "                                    ,BlockTime\n",
    "                                    \n",
    "                                    ,ECN\n",
    "                                    \n",
    "                                    ,EmployeeName\n",
    "                                    \n",
    "                                    ,CAST (ChocksOff AS Timestamp)\n",
    "                                    \n",
    "                                    ,CAST (ChocksOn AS Timestamp)\n",
    "                                    \n",
    "                                    ,RANK\n",
    "                                    \n",
    "                                    ,DOMINT\n",
    "                                    \n",
    "                                    ,Payload\n",
    "                                    \n",
    "                                    ,AircraftType\n",
    "                                    \n",
    "                                    ,AircraftModel\n",
    "\n",
    "                            FROM MainQueryDF1\n",
    "\n",
    "                            ''')\n",
    "\n",
    "MainQueryDF.dropDuplicates().createOrReplaceTempView('MainQueryDF')"
   ]
  },
  {
   "cell_type": "code",
   "execution_count": 47,
   "id": "574cd461-3c11-407b-ad57-b3ea429d142a",
   "metadata": {
    "execution": {
     "iopub.execute_input": "2023-01-06T06:47:33.515180Z",
     "iopub.status.busy": "2023-01-06T06:47:33.514957Z",
     "iopub.status.idle": "2023-01-06T06:47:33.770562Z",
     "shell.execute_reply": "2023-01-06T06:47:33.770008Z",
     "shell.execute_reply.started": "2023-01-06T06:47:33.515157Z"
    }
   },
   "outputs": [
    {
     "data": {
      "application/vnd.jupyter.widget-view+json": {
       "model_id": "d265f051478346e289ab6bf4f570a9dc",
       "version_major": 2,
       "version_minor": 0
      },
      "text/plain": [
       "VBox()"
      ]
     },
     "metadata": {},
     "output_type": "display_data"
    },
    {
     "data": {
      "application/vnd.jupyter.widget-view+json": {
       "model_id": "",
       "version_major": 2,
       "version_minor": 0
      },
      "text/plain": [
       "FloatProgress(value=0.0, bar_style='info', description='Progress:', layout=Layout(height='25px', width='50%'),…"
      ]
     },
     "metadata": {},
     "output_type": "display_data"
    }
   ],
   "source": [
    "Arms_Join_DF_Without_J = spark.sql('''\n",
    "                                            \n",
    "                                            SELECT\n",
    "                                                    \n",
    "                                                    AD.FlightID,\n",
    "                                                    \n",
    "                                                    AD.DesigFlightNumber,\n",
    "                                                    \n",
    "                                                    AD.FlightNumber AS `FlightNumberARMS`,\n",
    "                                                    \n",
    "                                                    AD.FlightDate,\n",
    "                                                    \n",
    "                                                    AD.FromCity,\n",
    "                                                    \n",
    "                                                    AD.ToCity,\n",
    "                                                    \n",
    "                                                    AD.BlockTime,\n",
    "                                                    \n",
    "                                                    AD.ECN,\n",
    "                                                    \n",
    "                                                    AD.EmployeeName,\n",
    "                                                    \n",
    "                                                    AD.RANK,\n",
    "                                                    \n",
    "                                                    CAST(AD.ChocksOff AS timestamp) AS ChocksOff,\n",
    "                                                    \n",
    "                                                    CAST(AD.ChocksOn AS timestamp) AS ChocksOn,\n",
    "                                                    \n",
    "                                                    AD.DOMINT,\n",
    "                                                    \n",
    "                                                    AD.AircraftType,\n",
    "                                                    \n",
    "                                                    AD.AircraftModel,  \n",
    "                                                    \n",
    "                                                    AD.Payload,\n",
    "                                                    \n",
    "                                                    RDF.*\n",
    "                                                    \n",
    "                                                    FROM UTC_TIMEDATE_Without_J RDF\n",
    "                                                    \n",
    "                                                    LEFT JOIN MainQueryDF AD ON RDF.FlightNo=AD.DesigFlightNumber\n",
    "                                                    \n",
    "                                                    AND RDF.TailNo = AD.AcRegNo\n",
    "                                                    \n",
    "                                                    AND RDF.Date=AD.UTCFlightDate\n",
    "                                                    \n",
    "                                                    AND RDF.Departure=AD.FromCity\n",
    "                                                    \n",
    "                                                    AND RDF.Arrival=AD.Tocity\n",
    "                                                    \n",
    "                                                    ''')\n",
    "\n",
    "Arms_Join_DF_Without_J.createOrReplaceTempView('Arms_Join_DF_Without_J')"
   ]
  },
  {
   "cell_type": "code",
   "execution_count": 48,
   "id": "775cee99-b094-4551-9e46-4d70411b3839",
   "metadata": {
    "execution": {
     "iopub.execute_input": "2023-01-06T06:47:54.026974Z",
     "iopub.status.busy": "2023-01-06T06:47:54.026746Z",
     "iopub.status.idle": "2023-01-06T06:48:27.416879Z",
     "shell.execute_reply": "2023-01-06T06:48:27.416343Z",
     "shell.execute_reply.started": "2023-01-06T06:47:54.026952Z"
    }
   },
   "outputs": [
    {
     "data": {
      "application/vnd.jupyter.widget-view+json": {
       "model_id": "9d8313e8756e458a966a104b92089e8d",
       "version_major": 2,
       "version_minor": 0
      },
      "text/plain": [
       "VBox()"
      ]
     },
     "metadata": {},
     "output_type": "display_data"
    },
    {
     "data": {
      "application/vnd.jupyter.widget-view+json": {
       "model_id": "",
       "version_major": 2,
       "version_minor": 0
      },
      "text/plain": [
       "FloatProgress(value=0.0, bar_style='info', description='Progress:', layout=Layout(height='25px', width='50%'),…"
      ]
     },
     "metadata": {},
     "output_type": "display_data"
    },
    {
     "name": "stdout",
     "output_type": "stream",
     "text": [
      "+------------------------+\n",
      "|count(DISTINCT filename)|\n",
      "+------------------------+\n",
      "|                     106|\n",
      "+------------------------+"
     ]
    }
   ],
   "source": [
    "spark.sql('''\n",
    "\n",
    "SELECT count(distinct(filename)) from Arms_Join_DF_Without_J\n",
    "\n",
    "''').show()"
   ]
  },
  {
   "cell_type": "code",
   "execution_count": 49,
   "id": "405234e2-541f-44bb-bc82-7d78151b35df",
   "metadata": {
    "execution": {
     "iopub.execute_input": "2023-01-06T06:49:21.774883Z",
     "iopub.status.busy": "2023-01-06T06:49:21.774650Z",
     "iopub.status.idle": "2023-01-06T06:49:22.030053Z",
     "shell.execute_reply": "2023-01-06T06:49:22.029505Z",
     "shell.execute_reply.started": "2023-01-06T06:49:21.774860Z"
    }
   },
   "outputs": [
    {
     "data": {
      "application/vnd.jupyter.widget-view+json": {
       "model_id": "1440db2973ac4f4c898e5795f791e9cc",
       "version_major": 2,
       "version_minor": 0
      },
      "text/plain": [
       "VBox()"
      ]
     },
     "metadata": {},
     "output_type": "display_data"
    },
    {
     "data": {
      "application/vnd.jupyter.widget-view+json": {
       "model_id": "",
       "version_major": 2,
       "version_minor": 0
      },
      "text/plain": [
       "FloatProgress(value=0.0, bar_style='info', description='Progress:', layout=Layout(height='25px', width='50%'),…"
      ]
     },
     "metadata": {},
     "output_type": "display_data"
    }
   ],
   "source": [
    "Arms_Join_DF_With_J_1 = spark.sql('''\n",
    "\n",
    "                                           SELECT\n",
    "                                                    \n",
    "                                                    AD.FlightID,\n",
    "                                                    \n",
    "                                                    AD.DesigFlightNumber,\n",
    "                                                    \n",
    "                                                    AD.FlightNumber AS `FlightNumberARMS`,\n",
    "                                                    \n",
    "                                                    AD.FlightDate,\n",
    "                                                    \n",
    "                                                    AD.FromCity,\n",
    "                                                    \n",
    "                                                    AD.ToCity,\n",
    "                                                    \n",
    "                                                    AD.BlockTime,\n",
    "                                                    \n",
    "                                                    AD.ECN,\n",
    "                                                    \n",
    "                                                    AD.EmployeeName,\n",
    "                                                    \n",
    "                                                    AD.RANK,\n",
    "                                                    \n",
    "                                                    CAST(AD.ChocksOff AS timestamp) AS ChocksOff,\n",
    "                                                    \n",
    "                                                    CAST(AD.ChocksOn AS timestamp) AS ChocksOn,\n",
    "                                                    \n",
    "                                                    AD.DOMINT,\n",
    "                                                    \n",
    "                                                    AD.AircraftType,\n",
    "                                                    \n",
    "                                                    AD.AircraftModel,  \n",
    "                                                    \n",
    "                                                    AD.Payload,\n",
    "                                                    \n",
    "                                                    RDF.*\n",
    "                                                    \n",
    "                                                    FROM UTC_TIMEDATE_With_J RDF\n",
    "                                                    \n",
    "                                                    LEFT JOIN MainQueryDF AD ON \n",
    "                                                    \n",
    "                                                    RDF.TailNo = AD.AcRegNo\n",
    "                                                    \n",
    "                                                    AND RDF.Date = AD.UTCFlightDate\n",
    "                                                    \n",
    "                                                    AND RDF.UTC_TIMEDATE BETWEEN (AD.ChocksOff - INTERVAL 345 MINUTES) AND (AD.ChocksOff - INTERVAL 315 MINUTES)\n",
    "                                                    \n",
    "                                                    AND RDF.Departure=AD.FromCity\n",
    "                                                    \n",
    "                                                    AND RDF.Arrival=AD.Tocity\n",
    "                                                                        \n",
    "                                                ''')\n",
    "\n",
    "Arms_Join_DF_With_J_1.createOrReplaceTempView('Arms_Join_DF_With_J_1')"
   ]
  },
  {
   "cell_type": "code",
   "execution_count": 50,
   "id": "04ecc21d-7651-4b5e-857d-311923382bbc",
   "metadata": {
    "execution": {
     "iopub.execute_input": "2023-01-06T06:49:35.864937Z",
     "iopub.status.busy": "2023-01-06T06:49:35.864715Z",
     "iopub.status.idle": "2023-01-06T06:50:09.432418Z",
     "shell.execute_reply": "2023-01-06T06:50:09.431854Z",
     "shell.execute_reply.started": "2023-01-06T06:49:35.864914Z"
    }
   },
   "outputs": [
    {
     "data": {
      "application/vnd.jupyter.widget-view+json": {
       "model_id": "dbfed4a09a22468da390da389e840326",
       "version_major": 2,
       "version_minor": 0
      },
      "text/plain": [
       "VBox()"
      ]
     },
     "metadata": {},
     "output_type": "display_data"
    },
    {
     "data": {
      "application/vnd.jupyter.widget-view+json": {
       "model_id": "",
       "version_major": 2,
       "version_minor": 0
      },
      "text/plain": [
       "FloatProgress(value=0.0, bar_style='info', description='Progress:', layout=Layout(height='25px', width='50%'),…"
      ]
     },
     "metadata": {},
     "output_type": "display_data"
    },
    {
     "name": "stdout",
     "output_type": "stream",
     "text": [
      "+------------------------+\n",
      "|count(DISTINCT filename)|\n",
      "+------------------------+\n",
      "|                      13|\n",
      "+------------------------+"
     ]
    }
   ],
   "source": [
    "spark.sql('''\n",
    "\n",
    "SELECT count(distinct(filename)) from Arms_Join_DF_With_J_1\n",
    "\n",
    "''').show()"
   ]
  },
  {
   "cell_type": "code",
   "execution_count": 51,
   "id": "823aba90-3d48-428d-b165-0e53019a4a6e",
   "metadata": {
    "execution": {
     "iopub.execute_input": "2023-01-06T06:50:28.891977Z",
     "iopub.status.busy": "2023-01-06T06:50:28.891744Z",
     "iopub.status.idle": "2023-01-06T06:50:29.147896Z",
     "shell.execute_reply": "2023-01-06T06:50:29.147391Z",
     "shell.execute_reply.started": "2023-01-06T06:50:28.891954Z"
    }
   },
   "outputs": [
    {
     "data": {
      "application/vnd.jupyter.widget-view+json": {
       "model_id": "1dde4bd6522f41ddb4688f469ac1fb7b",
       "version_major": 2,
       "version_minor": 0
      },
      "text/plain": [
       "VBox()"
      ]
     },
     "metadata": {},
     "output_type": "display_data"
    },
    {
     "data": {
      "application/vnd.jupyter.widget-view+json": {
       "model_id": "",
       "version_major": 2,
       "version_minor": 0
      },
      "text/plain": [
       "FloatProgress(value=0.0, bar_style='info', description='Progress:', layout=Layout(height='25px', width='50%'),…"
      ]
     },
     "metadata": {},
     "output_type": "display_data"
    }
   ],
   "source": [
    "Arms_Join_DF_With_J = spark.sql('''\n",
    "                                                SELECT \n",
    "                                                    FlightID, \n",
    "                                                    DesigFlightNumber, \n",
    "                                                    FlightNumberARMS, \n",
    "                                                    FlightDate, \n",
    "                                                    FromCity, \n",
    "                                                    ToCity, \n",
    "                                                    BlockTime, \n",
    "                                                    ECN, \n",
    "                                                    EmployeeName, \n",
    "                                                    RANK, \n",
    "                                                    ChocksOff, \n",
    "                                                    ChocksOn, \n",
    "                                                    DOMINT, \n",
    "                                                    AircraftType, \n",
    "                                                    AircraftModel, \n",
    "                                                    Payload, \n",
    "                                                    TailNo, \n",
    "                                                    Departure, \n",
    "                                                    Arrival, \n",
    "                                                    FlightNo, \n",
    "                                                    Date, \n",
    "                                                    `Time-In-Secs`,\n",
    "                                                    `Time-Per-Sec`, \n",
    "                                                    `BARO-CORRECTED-PALT-DERIVED`, \n",
    "                                                    `Altitude-BaroL`, \n",
    "                                                    `HEADING-MAGNETIC`, \n",
    "                                                    `PITCH-ANGLE`, \n",
    "                                                    `ROLL-ANGLE`, \n",
    "                                                    `RAD-ALT`, \n",
    "                                                    `WOW-NLG`, \n",
    "                                                    `WOW-MLG`, \n",
    "                                                    `ACCN-NORMAL`, \n",
    "                                                    `ACCN-LATERAL`, \n",
    "                                                    `ACCN-LONGITUDINAL`, \n",
    "                                                    `AIRSPEED-CAS-L`, \n",
    "                                                    `AFCS-SEL-AIRSPEED`, \n",
    "                                                    `VERTICAL-SPEED-Derived`, \n",
    "                                                    `FMS-GROUNDSPEED`, \n",
    "                                                    `FLAP-CONTROL-POS-Gated`, \n",
    "                                                    `FLAP-POSITION`, \n",
    "                                                    `PLA-1`, \n",
    "                                                    `PLA-2`, \n",
    "                                                    `TORQUE-1`, \n",
    "                                                    `TORQUE-2`, \n",
    "                                                    `CLA-1`, \n",
    "                                                    `CLA-2`, \n",
    "                                                    `NP-1`, \n",
    "                                                    `NP-2`, \n",
    "                                                    `EGPWS-ALERT-WARNING`, \n",
    "                                                    `EGPWS-GS-ALERT`, \n",
    "                                                    `AFCS-GS-MODE`, \n",
    "                                                    `AFCS-LOC-MODE`, \n",
    "                                                    `AFCS-VOR-MODE`, \n",
    "                                                    `ILS-GS-DEV-1`, \n",
    "                                                    `ILS-GS-DEV-2`, \n",
    "                                                    `FUEL-FLOW-2-kg-h`, \n",
    "                                                    `FUEL-FLOW-1-kg-h`, \n",
    "                                                    `DME-DISTANCE-1`, \n",
    "                                                    `DME-DISTANCE-2`, \n",
    "                                                    `VOR-FREQ-1`, \n",
    "                                                    `VOR-FREQ-2`, \n",
    "                                                    `FMS-WIND-ANGLE`, \n",
    "                                                    `FMS-WIND-SPEED`, \n",
    "                                                    `BRAKE-PRESS-LEFT`, \n",
    "                                                    `BRAKE-PRESS-RIGHT`, \n",
    "                                                    `PROP-BETA-RANGE-1`, \n",
    "                                                    `PROP-BETA-RANGE-2`, \n",
    "                                                    `AP-ENGAGED`, \n",
    "                                                    FileName, \n",
    "                                                    Time, \n",
    "                                                    `Time-Per-Sec-1`, \n",
    "                                                    LoadedDate,\n",
    "                                                    LoadedBy, \n",
    "                                                    DataFrameName, \n",
    "                                                    year, \n",
    "                                                    month,\n",
    "                                                    UTC_TIMEDATE\n",
    "\n",
    "                                                    FROM Arms_Join_DF_With_J_1\n",
    "\n",
    "                                            ''')\n",
    "\n",
    "Arms_Join_DF_With_J.createOrReplaceTempView('Arms_Join_DF_With_J')"
   ]
  },
  {
   "cell_type": "code",
   "execution_count": 52,
   "id": "a85f0c46-d57a-4ba5-9132-e2220a9b0028",
   "metadata": {
    "execution": {
     "iopub.execute_input": "2023-01-06T06:50:45.858107Z",
     "iopub.status.busy": "2023-01-06T06:50:45.857883Z",
     "iopub.status.idle": "2023-01-06T06:51:04.473856Z",
     "shell.execute_reply": "2023-01-06T06:51:04.466371Z",
     "shell.execute_reply.started": "2023-01-06T06:50:45.858084Z"
    }
   },
   "outputs": [
    {
     "data": {
      "application/vnd.jupyter.widget-view+json": {
       "model_id": "0f81a6664d374eb3874d2456b388a823",
       "version_major": 2,
       "version_minor": 0
      },
      "text/plain": [
       "VBox()"
      ]
     },
     "metadata": {},
     "output_type": "display_data"
    },
    {
     "data": {
      "application/vnd.jupyter.widget-view+json": {
       "model_id": "",
       "version_major": 2,
       "version_minor": 0
      },
      "text/plain": [
       "FloatProgress(value=0.0, bar_style='info', description='Progress:', layout=Layout(height='25px', width='50%'),…"
      ]
     },
     "metadata": {},
     "output_type": "display_data"
    },
    {
     "name": "stdout",
     "output_type": "stream",
     "text": [
      "+------------------------+\n",
      "|count(DISTINCT filename)|\n",
      "+------------------------+\n",
      "|                      13|\n",
      "+------------------------+"
     ]
    }
   ],
   "source": [
    "spark.sql('''\n",
    "\n",
    "SELECT count(distinct(filename)) from Arms_Join_DF_With_J\n",
    "\n",
    "''').show()"
   ]
  },
  {
   "cell_type": "code",
   "execution_count": 53,
   "id": "4665039f-4021-484a-9fa4-f02e116e5700",
   "metadata": {
    "execution": {
     "iopub.execute_input": "2023-01-06T06:51:08.600665Z",
     "iopub.status.busy": "2023-01-06T06:51:08.600423Z",
     "iopub.status.idle": "2023-01-06T06:51:08.851227Z",
     "shell.execute_reply": "2023-01-06T06:51:08.850696Z",
     "shell.execute_reply.started": "2023-01-06T06:51:08.600638Z"
    }
   },
   "outputs": [
    {
     "data": {
      "application/vnd.jupyter.widget-view+json": {
       "model_id": "14a07b08af63487ca34c4107d67005bf",
       "version_major": 2,
       "version_minor": 0
      },
      "text/plain": [
       "VBox()"
      ]
     },
     "metadata": {},
     "output_type": "display_data"
    },
    {
     "data": {
      "application/vnd.jupyter.widget-view+json": {
       "model_id": "",
       "version_major": 2,
       "version_minor": 0
      },
      "text/plain": [
       "FloatProgress(value=0.0, bar_style='info', description='Progress:', layout=Layout(height='25px', width='50%'),…"
      ]
     },
     "metadata": {},
     "output_type": "display_data"
    }
   ],
   "source": [
    "Arms_Join_DF = spark.sql('''\n",
    "\n",
    "                                SELECT * FROM Arms_Join_DF_Without_J\n",
    "                                \n",
    "                                UNION\n",
    "                                \n",
    "                                SELECT * FROM Arms_Join_DF_With_J\n",
    "                \n",
    "\n",
    "                    ''')\n",
    "\n",
    "Arms_Join_DF.createOrReplaceTempView('Arms_Join_DF')"
   ]
  },
  {
   "cell_type": "code",
   "execution_count": 99,
   "id": "90a8b06c-3bda-4eb4-bdc9-9f47b50ce6b3",
   "metadata": {
    "execution": {
     "iopub.execute_input": "2023-01-06T09:37:36.239812Z",
     "iopub.status.busy": "2023-01-06T09:37:36.239589Z",
     "iopub.status.idle": "2023-01-06T09:38:11.789117Z",
     "shell.execute_reply": "2023-01-06T09:38:11.788631Z",
     "shell.execute_reply.started": "2023-01-06T09:37:36.239789Z"
    }
   },
   "outputs": [
    {
     "data": {
      "application/vnd.jupyter.widget-view+json": {
       "model_id": "4232b2ece29148babc5372f7a6191862",
       "version_major": 2,
       "version_minor": 0
      },
      "text/plain": [
       "VBox()"
      ]
     },
     "metadata": {},
     "output_type": "display_data"
    },
    {
     "data": {
      "application/vnd.jupyter.widget-view+json": {
       "model_id": "",
       "version_major": 2,
       "version_minor": 0
      },
      "text/plain": [
       "FloatProgress(value=0.0, bar_style='info', description='Progress:', layout=Layout(height='25px', width='50%'),…"
      ]
     },
     "metadata": {},
     "output_type": "display_data"
    },
    {
     "name": "stdout",
     "output_type": "stream",
     "text": [
      "+--------------------+\n",
      "|          LoadedDate|\n",
      "+--------------------+\n",
      "|2023-01-06 09:37:...|\n",
      "+--------------------+"
     ]
    }
   ],
   "source": [
    "spark.sql('''\n",
    "\n",
    "SELECT distinct(LoadedDate) FROM Arms_Join_DF where filename = 'ALL ac=VT-SQB dep=BOM arr=IXY fn=SG 2903 dt=20230104.csv'\n",
    "\n",
    "\n",
    "''').show()"
   ]
  },
  {
   "cell_type": "code",
   "execution_count": 57,
   "id": "c4e88fee-f5bf-4d49-abd1-39f5e36f88ad",
   "metadata": {
    "execution": {
     "iopub.execute_input": "2023-01-06T07:34:48.847135Z",
     "iopub.status.busy": "2023-01-06T07:34:48.846914Z",
     "iopub.status.idle": "2023-01-06T07:34:49.097560Z",
     "shell.execute_reply": "2023-01-06T07:34:49.096924Z",
     "shell.execute_reply.started": "2023-01-06T07:34:48.847112Z"
    },
    "tags": []
   },
   "outputs": [
    {
     "data": {
      "application/vnd.jupyter.widget-view+json": {
       "model_id": "79f19f5e3252458f8d70b66d43e6a07a",
       "version_major": 2,
       "version_minor": 0
      },
      "text/plain": [
       "VBox()"
      ]
     },
     "metadata": {},
     "output_type": "display_data"
    },
    {
     "data": {
      "application/vnd.jupyter.widget-view+json": {
       "model_id": "",
       "version_major": 2,
       "version_minor": 0
      },
      "text/plain": [
       "FloatProgress(value=0.0, bar_style='info', description='Progress:', layout=Layout(height='25px', width='50%'),…"
      ]
     },
     "metadata": {},
     "output_type": "display_data"
    }
   ],
   "source": [
    "flight_data_info.select('Year', 'Month').distinct().createOrReplaceTempView('flight_data_info')"
   ]
  },
  {
   "cell_type": "code",
   "execution_count": 58,
   "id": "26f0fba8-5d05-4efa-b06f-5d5623896f5a",
   "metadata": {
    "execution": {
     "iopub.execute_input": "2023-01-06T07:34:49.969083Z",
     "iopub.status.busy": "2023-01-06T07:34:49.968846Z",
     "iopub.status.idle": "2023-01-06T07:34:59.248161Z",
     "shell.execute_reply": "2023-01-06T07:34:59.247667Z",
     "shell.execute_reply.started": "2023-01-06T07:34:49.969059Z"
    },
    "tags": []
   },
   "outputs": [
    {
     "data": {
      "application/vnd.jupyter.widget-view+json": {
       "model_id": "14e6847a49434649b84e966b8ea17d34",
       "version_major": 2,
       "version_minor": 0
      },
      "text/plain": [
       "VBox()"
      ]
     },
     "metadata": {},
     "output_type": "display_data"
    },
    {
     "data": {
      "application/vnd.jupyter.widget-view+json": {
       "model_id": "",
       "version_major": 2,
       "version_minor": 0
      },
      "text/plain": [
       "FloatProgress(value=0.0, bar_style='info', description='Progress:', layout=Layout(height='25px', width='50%'),…"
      ]
     },
     "metadata": {},
     "output_type": "display_data"
    }
   ],
   "source": [
    "PartitionList=spark.sql(''' SELECT CONCAT(Year,Month) AS YearMonth FROM flight_data_info ''').rdd.flatMap(lambda x: x).collect()"
   ]
  },
  {
   "cell_type": "code",
   "execution_count": 59,
   "id": "de417517-c672-4050-aa08-a3c088407a67",
   "metadata": {
    "execution": {
     "iopub.execute_input": "2023-01-06T07:35:02.584280Z",
     "iopub.status.busy": "2023-01-06T07:35:02.584055Z",
     "iopub.status.idle": "2023-01-06T07:35:02.631481Z",
     "shell.execute_reply": "2023-01-06T07:35:02.631001Z",
     "shell.execute_reply.started": "2023-01-06T07:35:02.584256Z"
    }
   },
   "outputs": [
    {
     "data": {
      "application/vnd.jupyter.widget-view+json": {
       "model_id": "3b1bc452121e4d6199297c49d2318c2a",
       "version_major": 2,
       "version_minor": 0
      },
      "text/plain": [
       "VBox()"
      ]
     },
     "metadata": {},
     "output_type": "display_data"
    },
    {
     "data": {
      "application/vnd.jupyter.widget-view+json": {
       "model_id": "",
       "version_major": 2,
       "version_minor": 0
      },
      "text/plain": [
       "FloatProgress(value=0.0, bar_style='info', description='Progress:', layout=Layout(height='25px', width='50%'),…"
      ]
     },
     "metadata": {},
     "output_type": "display_data"
    }
   ],
   "source": [
    "Partition=str(PartitionList)[1:len(str(PartitionList))-1]"
   ]
  },
  {
   "cell_type": "code",
   "execution_count": 60,
   "id": "467bbae5-8ec8-441b-b861-0988f0196676",
   "metadata": {
    "execution": {
     "iopub.execute_input": "2023-01-06T07:35:26.583830Z",
     "iopub.status.busy": "2023-01-06T07:35:26.583610Z",
     "iopub.status.idle": "2023-01-06T07:35:26.832248Z",
     "shell.execute_reply": "2023-01-06T07:35:26.831771Z",
     "shell.execute_reply.started": "2023-01-06T07:35:26.583807Z"
    }
   },
   "outputs": [
    {
     "data": {
      "application/vnd.jupyter.widget-view+json": {
       "model_id": "24466295ca2145379820bd7986d8373d",
       "version_major": 2,
       "version_minor": 0
      },
      "text/plain": [
       "VBox()"
      ]
     },
     "metadata": {},
     "output_type": "display_data"
    },
    {
     "data": {
      "application/vnd.jupyter.widget-view+json": {
       "model_id": "",
       "version_major": 2,
       "version_minor": 0
      },
      "text/plain": [
       "FloatProgress(value=0.0, bar_style='info', description='Progress:', layout=Layout(height='25px', width='50%'),…"
      ]
     },
     "metadata": {},
     "output_type": "display_data"
    }
   ],
   "source": [
    "ExistingDataDF = spark.sql(f'''\n",
    "\n",
    "                                SELECT   *\n",
    "                                FROM Arms_Join_DF\n",
    "                                WHERE CONCAT(Year,Month) \n",
    "                                IN ({Partition})\n",
    "                                                                    ''')"
   ]
  },
  {
   "cell_type": "code",
   "execution_count": 61,
   "id": "4c9ef80f-1af6-4cee-86ff-0fa00559c2f3",
   "metadata": {
    "execution": {
     "iopub.execute_input": "2023-01-06T07:35:35.604562Z",
     "iopub.status.busy": "2023-01-06T07:35:35.604343Z",
     "iopub.status.idle": "2023-01-06T07:35:35.850481Z",
     "shell.execute_reply": "2023-01-06T07:35:35.849953Z",
     "shell.execute_reply.started": "2023-01-06T07:35:35.604539Z"
    }
   },
   "outputs": [
    {
     "data": {
      "application/vnd.jupyter.widget-view+json": {
       "model_id": "be2eda03e2644b509b48438e944709d1",
       "version_major": 2,
       "version_minor": 0
      },
      "text/plain": [
       "VBox()"
      ]
     },
     "metadata": {},
     "output_type": "display_data"
    },
    {
     "data": {
      "application/vnd.jupyter.widget-view+json": {
       "model_id": "",
       "version_major": 2,
       "version_minor": 0
      },
      "text/plain": [
       "FloatProgress(value=0.0, bar_style='info', description='Progress:', layout=Layout(height='25px', width='50%'),…"
      ]
     },
     "metadata": {},
     "output_type": "display_data"
    }
   ],
   "source": [
    "ExistingDataDF.createOrReplaceTempView('ExistingDataDF')"
   ]
  },
  {
   "cell_type": "code",
   "execution_count": 62,
   "id": "a9abd603-aaa8-4047-8be1-09da473ad4a0",
   "metadata": {
    "execution": {
     "iopub.execute_input": "2023-01-06T07:35:44.130838Z",
     "iopub.status.busy": "2023-01-06T07:35:44.130614Z",
     "iopub.status.idle": "2023-01-06T07:36:17.544761Z",
     "shell.execute_reply": "2023-01-06T07:36:17.544251Z",
     "shell.execute_reply.started": "2023-01-06T07:35:44.130816Z"
    }
   },
   "outputs": [
    {
     "data": {
      "application/vnd.jupyter.widget-view+json": {
       "model_id": "cbef557f239d4772834a660091dc5d6e",
       "version_major": 2,
       "version_minor": 0
      },
      "text/plain": [
       "VBox()"
      ]
     },
     "metadata": {},
     "output_type": "display_data"
    },
    {
     "data": {
      "application/vnd.jupyter.widget-view+json": {
       "model_id": "",
       "version_major": 2,
       "version_minor": 0
      },
      "text/plain": [
       "FloatProgress(value=0.0, bar_style='info', description='Progress:', layout=Layout(height='25px', width='50%'),…"
      ]
     },
     "metadata": {},
     "output_type": "display_data"
    },
    {
     "name": "stdout",
     "output_type": "stream",
     "text": [
      "+--------+-----------------+----------------+----------+--------+------+---------+------+-----------------+-----+-------------------+-------------------+------+------------+-------------+-------+------+---------+-------+--------+----------+------------+------------+---------------------------+--------------+----------------+-----------+----------+-------+----------+----------+-----------+------------+-----------------+--------------+-----------------+----------------------+---------------+----------------------+-------------+-----+-----+--------+--------+-----+-----+----+----+-------------------+--------------+--------------+--------------+--------------+------------+------------+----------------+----------------+--------------+--------------+----------+----------+--------------+--------------+----------------+-----------------+-----------------+-----------------+--------------+--------------------+------+--------------+--------------------+------------+-------------+----+-------+-------------------+\n",
      "|FlightID|DesigFlightNumber|FlightNumberARMS|FlightDate|FromCity|ToCity|BlockTime|   ECN|     EmployeeName| RANK|          ChocksOff|           ChocksOn|DOMINT|AircraftType|AircraftModel|Payload|TailNo|Departure|Arrival|FlightNo|      Date|Time-In-Secs|Time-Per-Sec|BARO-CORRECTED-PALT-DERIVED|Altitude-BaroL|HEADING-MAGNETIC|PITCH-ANGLE|ROLL-ANGLE|RAD-ALT|   WOW-NLG|   WOW-MLG|ACCN-NORMAL|ACCN-LATERAL|ACCN-LONGITUDINAL|AIRSPEED-CAS-L|AFCS-SEL-AIRSPEED|VERTICAL-SPEED-Derived|FMS-GROUNDSPEED|FLAP-CONTROL-POS-Gated|FLAP-POSITION|PLA-1|PLA-2|TORQUE-1|TORQUE-2|CLA-1|CLA-2|NP-1|NP-2|EGPWS-ALERT-WARNING|EGPWS-GS-ALERT|  AFCS-GS-MODE| AFCS-LOC-MODE| AFCS-VOR-MODE|ILS-GS-DEV-1|ILS-GS-DEV-2|FUEL-FLOW-2-kg-h|FUEL-FLOW-1-kg-h|DME-DISTANCE-1|DME-DISTANCE-2|VOR-FREQ-1|VOR-FREQ-2|FMS-WIND-ANGLE|FMS-WIND-SPEED|BRAKE-PRESS-LEFT|BRAKE-PRESS-RIGHT|PROP-BETA-RANGE-1|PROP-BETA-RANGE-2|    AP-ENGAGED|            FileName|  Time|Time-Per-Sec-1|          LoadedDate|    LoadedBy|DataFrameName|year|  month|       UTC_TIMEDATE|\n",
      "+--------+-----------------+----------------+----------+--------+------+---------+------+-----------------+-----+-------------------+-------------------+------+------------+-------------+-------+------+---------+-------+--------+----------+------------+------------+---------------------------+--------------+----------------+-----------+----------+-------+----------+----------+-----------+------------+-----------------+--------------+-----------------+----------------------+---------------+----------------------+-------------+-----+-----+--------+--------+-----+-----+----+----+-------------------+--------------+--------------+--------------+--------------+------------+------------+----------------+----------------+--------------+--------------+----------+----------+--------------+--------------+----------------+-----------------+-----------------+-----------------+--------------+--------------------+------+--------------+--------------------+------------+-------------+----+-------+-------------------+\n",
      "| 2988523|          SG 2903|            2903|2023-01-04|     BOM|   IXY| 01:20:00|115045|ISHA HARISH KHADE|CAPT.|2023-01-04 10:20:00|2023-01-04 11:40:00|   DOM|         DHC|         DHC-|    Pax|VT-SQB|      BOM|    IXY| SG 2903|2023-01-04|        72.5|        null|                       null|          null|            null|      D 1.6|     L 0.3|   null|      null|GROUND (1)|      0.997|      R 0.00|            -0.02|          null|             null|                  null|              0|                  null|         null| null| null|    null|    null| null| null|null|null|               null|          null|          null|          null|          null|        null|        null|            null|            null|          null|          null|      null|      null|          null|          null|            null|             null|             null|             null|          null|ALL ac=VT-SQB dep...|  null|          null|2023-01-06 07:35:...|precog-spark|      512 WPS|2023|January|2023-01-04 04:53:31|\n",
      "| 2988523|          SG 2903|            2903|2023-01-04|     BOM|   IXY| 01:20:00|115045|ISHA HARISH KHADE|CAPT.|2023-01-04 10:20:00|2023-01-04 11:40:00|   DOM|         DHC|         DHC-|    Pax|VT-SQB|      BOM|    IXY| SG 2903|2023-01-04|      150.25|        null|                       null|          null|            null|      D 1.4|      null|   null|      null|GROUND (1)|      0.958|      L 0.00|            -0.01|          null|             null|                  null|           null|                  null|         null| null| null|    null|    null| null| null|null|null|               null|          null|          null|          null|          null|        null|        null|            null|            null|          null|          null|      null|      null|          null|          null|            null|             null|             null|             null|          null|ALL ac=VT-SQB dep...|  null|          null|2023-01-06 07:35:...|precog-spark|      512 WPS|2023|January|2023-01-04 04:53:31|\n",
      "| 2988523|          SG 2903|            2903|2023-01-04|     BOM|   IXY| 01:20:00|115045|ISHA HARISH KHADE|CAPT.|2023-01-04 10:20:00|2023-01-04 11:40:00|   DOM|         DHC|         DHC-|    Pax|VT-SQB|      BOM|    IXY| SG 2903|2023-01-04|     163.125|        null|                       null|          null|            null|       null|      null|   null|      null|      null|      0.974|        null|             null|          null|             null|                  null|           null|                  null|         null| null| null|    null|    null| null| null|null|null|               null|          null|          null|          null|          null|        null|        null|            null|            null|          null|          null|      null|      null|          null|          null|            null|             null|             null|             null|          null|ALL ac=VT-SQB dep...|  null|          null|2023-01-06 07:35:...|precog-spark|      512 WPS|2023|January|2023-01-04 04:53:31|\n",
      "| 2988523|          SG 2903|            2903|2023-01-04|     BOM|   IXY| 01:20:00|115045|ISHA HARISH KHADE|CAPT.|2023-01-04 10:20:00|2023-01-04 11:40:00|   DOM|         DHC|         DHC-|    Pax|VT-SQB|      BOM|    IXY| SG 2903|2023-01-04|       170.5|        null|                       null|          null|            null|      D 0.9|     L 0.7|   null|      null|GROUND (1)|      0.978|      R 0.03|            -0.03|          null|             null|                  null|             12|                  null|         null| null| null|    null|    null| null| null|null|null|               null|          null|          null|          null|          null|        null|        null|            null|            null|          null|          null|      null|      null|          null|          null|            null|             null|             null|             null|          null|ALL ac=VT-SQB dep...|  null|          null|2023-01-06 07:35:...|precog-spark|      512 WPS|2023|January|2023-01-04 04:53:31|\n",
      "| 2988523|          SG 2903|            2903|2023-01-04|     BOM|   IXY| 01:20:00|115045|ISHA HARISH KHADE|CAPT.|2023-01-04 10:20:00|2023-01-04 11:40:00|   DOM|         DHC|         DHC-|    Pax|VT-SQB|      BOM|    IXY| SG 2903|2023-01-04|       275.0|        null|                         42|           -36|             101|      D 0.9|     L 0.4|      0|GROUND (1)|GROUND (1)|      0.985|      R 0.04|            -0.02|           0.0|                0|                     0|              8|                  null|         null| 24.3| 24.2|       3|       1|   95|   95| 659| 660|       NO ALERT (0)|  NO ALERT (0)|Not Active (0)|Not Active (0)|Not Active (0)|      * 0.00|      * 0.00|             182|             185|          null|          null|      null|    100.00|          null|          null|              57|               57|   BETA Range (1)|   BETA Range (1)|DISENGAGED (0)|ALL ac=VT-SQB dep...|  null|          null|2023-01-06 07:35:...|precog-spark|      512 WPS|2023|January|2023-01-04 04:53:31|\n",
      "| 2988523|          SG 2903|            2903|2023-01-04|     BOM|   IXY| 01:20:00|115045|ISHA HARISH KHADE|CAPT.|2023-01-04 10:20:00|2023-01-04 11:40:00|   DOM|         DHC|         DHC-|    Pax|VT-SQB|      BOM|    IXY| SG 2903|2023-01-04|     281.375|        null|                       null|          null|            null|       null|      null|   null|      null|      null|      1.028|        null|             null|          null|             null|                  null|           null|                  null|         null| null| null|    null|    null| null| null|null|null|               null|          null|          null|          null|          null|        null|        null|            null|            null|          null|          null|      null|      null|          null|          null|            null|             null|             null|             null|          null|ALL ac=VT-SQB dep...|  null|          null|2023-01-06 07:35:...|precog-spark|      512 WPS|2023|January|2023-01-04 04:53:31|\n",
      "| 2988523|          SG 2903|            2903|2023-01-04|     BOM|   IXY| 01:20:00|115045|ISHA HARISH KHADE|CAPT.|2023-01-04 10:20:00|2023-01-04 11:40:00|   DOM|         DHC|         DHC-|    Pax|VT-SQB|      BOM|    IXY| SG 2903|2023-01-04|       298.5|        null|                       null|          null|            null|      D 0.6|     L 0.3|   null|      null|GROUND (1)|      1.005|      L 0.00|            -0.04|          null|             null|                  null|              2|                  null|         null| null| null|    null|    null| null| null|null|null|               null|          null|          null|          null|          null|        null|        null|            null|            null|          null|          null|      null|      null|          null|          null|            null|             null|             null|             null|          null|ALL ac=VT-SQB dep...|  null|          null|2023-01-06 07:35:...|precog-spark|      512 WPS|2023|January|2023-01-04 04:53:31|\n",
      "| 2988523|          SG 2903|            2903|2023-01-04|     BOM|   IXY| 01:20:00|115045|ISHA HARISH KHADE|CAPT.|2023-01-04 10:20:00|2023-01-04 11:40:00|   DOM|         DHC|         DHC-|    Pax|VT-SQB|      BOM|    IXY| SG 2903|2023-01-04|      298.75|        null|                       null|          null|            null|      D 0.6|      null|   null|      null|GROUND (1)|      0.985|        0.00|            -0.04|          null|             null|                  null|           null|                  null|         null| null| null|    null|    null| null| null|null|null|               null|          null|          null|          null|          null|        null|        null|            null|            null|          null|          null|      null|      null|          null|          null|            null|             null|             null|             null|          null|ALL ac=VT-SQB dep...|  null|          null|2023-01-06 07:35:...|precog-spark|      512 WPS|2023|January|2023-01-04 04:53:31|\n",
      "| 2988523|          SG 2903|            2903|2023-01-04|     BOM|   IXY| 01:20:00|115045|ISHA HARISH KHADE|CAPT.|2023-01-04 10:20:00|2023-01-04 11:40:00|   DOM|         DHC|         DHC-|    Pax|VT-SQB|      BOM|    IXY| SG 2903|2023-01-04|     311.625|        null|                       null|          null|            null|       null|      null|   null|      null|      null|      0.997|        null|             null|          null|             null|                  null|           null|                  null|         null| null| null|    null|    null| null| null|null|null|               null|          null|          null|          null|          null|        null|        null|            null|            null|          null|          null|      null|      null|          null|          null|            null|             null|             null|             null|          null|ALL ac=VT-SQB dep...|  null|          null|2023-01-06 07:35:...|precog-spark|      512 WPS|2023|January|2023-01-04 04:53:31|\n",
      "| 2988523|          SG 2903|            2903|2023-01-04|     BOM|   IXY| 01:20:00|115045|ISHA HARISH KHADE|CAPT.|2023-01-04 10:20:00|2023-01-04 11:40:00|   DOM|         DHC|         DHC-|    Pax|VT-SQB|      BOM|    IXY| SG 2903|2023-01-04|     332.375|        null|                       null|          null|            null|       null|      null|   null|      null|      null|      0.993|        null|             null|          null|             null|                  null|           null|                  null|         null| null| null|    null|    null| null| null|null|null|               null|          null|          null|          null|          null|        null|        null|            null|            null|          null|          null|      null|      null|          null|          null|            null|             null|             null|             null|          null|ALL ac=VT-SQB dep...|  null|          null|2023-01-06 07:35:...|precog-spark|      512 WPS|2023|January|2023-01-04 04:53:31|\n",
      "| 2988523|          SG 2903|            2903|2023-01-04|     BOM|   IXY| 01:20:00|115045|ISHA HARISH KHADE|CAPT.|2023-01-04 10:20:00|2023-01-04 11:40:00|   DOM|         DHC|         DHC-|    Pax|VT-SQB|      BOM|    IXY| SG 2903|2023-01-04|      438.75|        null|                       null|          null|            null|      D 1.1|      null|   null|      null|GROUND (1)|      0.978|      R 0.01|             0.25|          null|             null|                  null|           null|                  null|         null| null| null|    null|    null| null| null|null|null|               null|          null|          null|          null|          null|        null|        null|            null|            null|          null|          null|      null|      null|          null|          null|            null|             null|             null|             null|          null|ALL ac=VT-SQB dep...|  null|          null|2023-01-06 07:35:...|precog-spark|      512 WPS|2023|January|2023-01-04 04:53:31|\n",
      "| 2988523|          SG 2903|            2903|2023-01-04|     BOM|   IXY| 01:20:00|115045|ISHA HARISH KHADE|CAPT.|2023-01-04 10:20:00|2023-01-04 11:40:00|   DOM|         DHC|         DHC-|    Pax|VT-SQB|      BOM|    IXY| SG 2903|2023-01-04|     459.375|        null|                       null|          null|            null|       null|      null|   null|      null|      null|      1.009|        null|             null|          null|             null|                  null|           null|                  null|         null| null| null|    null|    null| null| null|null|null|               null|          null|          null|          null|          null|        null|        null|            null|            null|          null|          null|      null|      null|          null|          null|            null|             null|             null|             null|          null|ALL ac=VT-SQB dep...|  null|          null|2023-01-06 07:35:...|precog-spark|      512 WPS|2023|January|2023-01-04 04:53:31|\n",
      "| 2988523|          SG 2903|            2903|2023-01-04|     BOM|   IXY| 01:20:00|115045|ISHA HARISH KHADE|CAPT.|2023-01-04 10:20:00|2023-01-04 11:40:00|   DOM|         DHC|         DHC-|    Pax|VT-SQB|      BOM|    IXY| SG 2903|2023-01-04|     559.875|        null|                       null|          null|            null|       null|      null|   null|      null|      null|      1.009|        null|             null|          null|             null|                  null|           null|                  null|         null| null| null|    null|    null| null| null|null|null|               null|          null|          null|          null|          null|        null|        null|            null|            null|          null|          null|      null|      null|          null|          null|            null|             null|             null|             null|          null|ALL ac=VT-SQB dep...|  null|          null|2023-01-06 07:35:...|precog-spark|      512 WPS|2023|January|2023-01-04 04:53:31|\n",
      "| 2988523|          SG 2903|            2903|2023-01-04|     BOM|   IXY| 01:20:00|115045|ISHA HARISH KHADE|CAPT.|2023-01-04 10:20:00|2023-01-04 11:40:00|   DOM|         DHC|         DHC-|    Pax|VT-SQB|      BOM|    IXY| SG 2903|2023-01-04|       623.0|        null|                       5248|          5248|             324|      U 7.5|    R 25.2|      0|   Air (0)|   Air (0)|      0.981|      L 0.01|             0.18|         183.5|              198|                  1180|            209|                  null|         null| 80.5| 80.7|      89|      89|   75|   75| 900| 902|       NO ALERT (0)|  NO ALERT (0)|Not Active (0)|Not Active (0)|Not Active (0)|      * 0.00|      * 0.00|             871|             864|          null|          null|      null|    100.00|          null|          null|              51|               57|      FORWARD (0)|      FORWARD (0)|   Engaged (1)|ALL ac=VT-SQB dep...|  null|          null|2023-01-06 07:35:...|precog-spark|      512 WPS|2023|January|2023-01-04 04:53:31|\n",
      "| 2988523|          SG 2903|            2903|2023-01-04|     BOM|   IXY| 01:20:00|115045|ISHA HARISH KHADE|CAPT.|2023-01-04 10:20:00|2023-01-04 11:40:00|   DOM|         DHC|         DHC-|    Pax|VT-SQB|      BOM|    IXY| SG 2903|2023-01-04|       732.0|       50542|                       8706|          8706|             331|      U 9.7|     L 1.2|      0|   Air (0)|   Air (0)|      0.981|      R 0.01|             0.15|         191.5|                0|                  2200|            225|                     0|         -0.1| 80.5| 80.7|      84|      84|   75|   75| 899| 899|       NO ALERT (0)|  NO ALERT (0)|Not Active (0)|Not Active (0)|Not Active (0)|      * 0.00|      * 0.00|             802|             791|          null|          null|      null|      null|          null|          null|              51|               51|      FORWARD (0)|      FORWARD (0)|   Engaged (1)|ALL ac=VT-SQB dep...|050542|      05:05:42|2023-01-06 07:35:...|precog-spark|      512 WPS|2023|January|2023-01-04 04:53:31|\n",
      "| 2988523|          SG 2903|            2903|2023-01-04|     BOM|   IXY| 01:20:00|115045|ISHA HARISH KHADE|CAPT.|2023-01-04 10:20:00|2023-01-04 11:40:00|   DOM|         DHC|         DHC-|    Pax|VT-SQB|      BOM|    IXY| SG 2903|2023-01-04|       934.5|        null|                       null|          null|            null|      U 5.2|     L 1.3|   null|      null|   Air (0)|      0.978|      R 0.02|             0.10|          null|             null|                  null|            252|                  null|         null| null| null|    null|    null| null| null|null|null|               null|          null|          null|          null|          null|        null|        null|            null|            null|          null|          null|      null|      null|          null|          null|            null|             null|             null|             null|          null|ALL ac=VT-SQB dep...|  null|          null|2023-01-06 07:35:...|precog-spark|      512 WPS|2023|January|2023-01-04 04:53:31|\n",
      "| 2988523|          SG 2903|            2903|2023-01-04|     BOM|   IXY| 01:20:00|115045|ISHA HARISH KHADE|CAPT.|2023-01-04 10:20:00|2023-01-04 11:40:00|   DOM|         DHC|         DHC-|    Pax|VT-SQB|      BOM|    IXY| SG 2903|2023-01-04|     992.875|        null|                       null|          null|            null|       null|      null|   null|      null|      null|      0.989|        null|             null|          null|             null|                  null|           null|                  null|         null| null| null|    null|    null| null| null|null|null|               null|          null|          null|          null|          null|        null|        null|            null|            null|          null|          null|      null|      null|          null|          null|            null|             null|             null|             null|          null|ALL ac=VT-SQB dep...|  null|          null|2023-01-06 07:35:...|precog-spark|      512 WPS|2023|January|2023-01-04 04:53:31|\n",
      "| 2988523|          SG 2903|            2903|2023-01-04|     BOM|   IXY| 01:20:00|115045|ISHA HARISH KHADE|CAPT.|2023-01-04 10:20:00|2023-01-04 11:40:00|   DOM|         DHC|         DHC-|    Pax|VT-SQB|      BOM|    IXY| SG 2903|2023-01-04|      1184.0|       51314|                      17784|         17784|             326|      U 5.3|       0.0|      0|   Air (0)|   Air (0)|      1.005|      L 0.00|             0.09|         202.0|                0|                   880|            260|                     0|         -0.1| 80.5| 80.7|      66|      66|   75|   76| 900| 899|       NO ALERT (0)|  NO ALERT (0)|Not Active (0)|Not Active (0)|Not Active (0)|      * 0.00|      * 0.00|             613|             603|          null|          null|      null|      null|          null|          null|              47|               47|      FORWARD (0)|      FORWARD (0)|   Engaged (1)|ALL ac=VT-SQB dep...|051314|      05:13:14|2023-01-06 07:35:...|precog-spark|      512 WPS|2023|January|2023-01-04 04:53:31|\n",
      "| 2988523|          SG 2903|            2903|2023-01-04|     BOM|   IXY| 01:20:00|115045|ISHA HARISH KHADE|CAPT.|2023-01-04 10:20:00|2023-01-04 11:40:00|   DOM|         DHC|         DHC-|    Pax|VT-SQB|      BOM|    IXY| SG 2903|2023-01-04|     1261.75|        null|                       null|          null|            null|      U 5.2|      null|   null|      null|   Air (0)|      0.993|      R 0.00|             0.09|          null|             null|                  null|           null|                  null|         null| null| null|    null|    null| null| null|null|null|               null|          null|          null|          null|          null|        null|        null|            null|            null|          null|          null|      null|      null|          null|          null|            null|             null|             null|             null|          null|ALL ac=VT-SQB dep...|  null|          null|2023-01-06 07:35:...|precog-spark|      512 WPS|2023|January|2023-01-04 04:53:31|\n",
      "| 2988523|          SG 2903|            2903|2023-01-04|     BOM|   IXY| 01:20:00|115045|ISHA HARISH KHADE|CAPT.|2023-01-04 10:20:00|2023-01-04 11:40:00|   DOM|         DHC|         DHC-|    Pax|VT-SQB|      BOM|    IXY| SG 2903|2023-01-04|      1358.5|        null|                       null|          null|            null|      U 5.5|     L 1.5|   null|      null|   Air (0)|      1.001|      R 0.01|             0.10|          null|             null|                  null|            260|                  null|         null| null| null|    null|    null| null| null|null|null|               null|          null|          null|          null|          null|        null|        null|            null|            null|          null|          null|      null|      null|          null|          null|            null|             null|             null|             null|          null|ALL ac=VT-SQB dep...|  null|          null|2023-01-06 07:35:...|precog-spark|      512 WPS|2023|January|2023-01-04 04:53:31|\n",
      "+--------+-----------------+----------------+----------+--------+------+---------+------+-----------------+-----+-------------------+-------------------+------+------------+-------------+-------+------+---------+-------+--------+----------+------------+------------+---------------------------+--------------+----------------+-----------+----------+-------+----------+----------+-----------+------------+-----------------+--------------+-----------------+----------------------+---------------+----------------------+-------------+-----+-----+--------+--------+-----+-----+----+----+-------------------+--------------+--------------+--------------+--------------+------------+------------+----------------+----------------+--------------+--------------+----------+----------+--------------+--------------+----------------+-----------------+-----------------+-----------------+--------------+--------------------+------+--------------+--------------------+------------+-------------+----+-------+-------------------+\n",
      "only showing top 20 rows"
     ]
    }
   ],
   "source": [
    "spark.sql('''\n",
    "\n",
    "SELECT * FROM ExistingDataDF where filename = 'ALL ac=VT-SQB dep=BOM arr=IXY fn=SG 2903 dt=20230104.csv'\n",
    "\n",
    "\n",
    "\n",
    "''').show()"
   ]
  },
  {
   "cell_type": "code",
   "execution_count": null,
   "id": "427aab0d-e9f9-41f0-bc1e-398bd8c82797",
   "metadata": {
    "execution": {
     "iopub.execute_input": "2023-01-06T09:26:22.133701Z",
     "iopub.status.busy": "2023-01-06T09:26:22.133470Z"
    },
    "tags": []
   },
   "outputs": [
    {
     "data": {
      "application/vnd.jupyter.widget-view+json": {
       "model_id": "5a734144f9104f88a12b254c7a62db38",
       "version_major": 2,
       "version_minor": 0
      },
      "text/plain": [
       "VBox()"
      ]
     },
     "metadata": {},
     "output_type": "display_data"
    },
    {
     "data": {
      "application/vnd.jupyter.widget-view+json": {
       "model_id": "",
       "version_major": 2,
       "version_minor": 0
      },
      "text/plain": [
       "FloatProgress(value=0.0, bar_style='info', description='Progress:', layout=Layout(height='25px', width='50%'),…"
      ]
     },
     "metadata": {},
     "output_type": "display_data"
    }
   ],
   "source": [
    "FileLPD = spark.sql('''\n",
    "                            SELECT TailNo,\n",
    "                                FlightNumberARMS,\n",
    "                                Date,\n",
    "                                Departure,\n",
    "                                Arrival,\n",
    "                                LoadedDate,\n",
    "                                FileName, \n",
    "                                Count,\n",
    "                                ROW_NUMBER() OVER(PARTITION BY TailNo,\n",
    "                                                                FlightNumberARMS,\n",
    "                                                                Date,\n",
    "                                                                Departure,\n",
    "                                                                Arrival\n",
    "                                                                ORDER BY count DESC,\n",
    "                                                                LoadedDate DESC) AS RN\n",
    "                            FROM(\n",
    "                                SELECT \n",
    "                                        TailNo,\n",
    "                                        FlightNumberARMS,\n",
    "                                        Date,\n",
    "                                        Departure,\n",
    "                                        Arrival,\n",
    "                                        LoadedDate,\n",
    "                                        FileName,\n",
    "                                        Count(*) AS Count\n",
    "\n",
    "                                FROM ExistingDataDF\n",
    "                                WHERE FileName NOT LIKE '%(_).csv'\n",
    "                                GROUP BY TailNo,\n",
    "                                            FlightNumberARMS,\n",
    "                                            Date,\n",
    "                                            Departure,\n",
    "                                            Arrival,\n",
    "                                            FileName,\n",
    "                                            LoadedDate)\n",
    "                        \n",
    "                                                    ''')"
   ]
  },
  {
   "cell_type": "code",
   "execution_count": 98,
   "id": "5ab27dc8-2569-4605-a3a5-c7092a445f87",
   "metadata": {
    "execution": {
     "iopub.execute_input": "2023-01-06T09:35:18.183015Z",
     "iopub.status.busy": "2023-01-06T09:35:18.182712Z",
     "iopub.status.idle": "2023-01-06T09:35:59.839846Z",
     "shell.execute_reply": "2023-01-06T09:35:59.839342Z",
     "shell.execute_reply.started": "2023-01-06T09:35:18.182982Z"
    },
    "tags": []
   },
   "outputs": [
    {
     "data": {
      "application/vnd.jupyter.widget-view+json": {
       "model_id": "57e862111def496da57bbebdb3952773",
       "version_major": 2,
       "version_minor": 0
      },
      "text/plain": [
       "VBox()"
      ]
     },
     "metadata": {},
     "output_type": "display_data"
    },
    {
     "data": {
      "application/vnd.jupyter.widget-view+json": {
       "model_id": "",
       "version_major": 2,
       "version_minor": 0
      },
      "text/plain": [
       "FloatProgress(value=0.0, bar_style='info', description='Progress:', layout=Layout(height='25px', width='50%'),…"
      ]
     },
     "metadata": {},
     "output_type": "display_data"
    },
    {
     "name": "stdout",
     "output_type": "stream",
     "text": [
      "+------+----------------+----------+---------+-------+---------------------+--------------------------------------------------------+-----+\n",
      "|TailNo|FlightNumberARMS|Date      |Departure|Arrival|LoadedDate           |FileName                                                |Count|\n",
      "+------+----------------+----------+---------+-------+---------------------+--------------------------------------------------------+-----+\n",
      "|VT-SQB|2903            |2023-01-04|BOM      |IXY    |2023-01-06 09:35:18.3|ALL ac=VT-SQB dep=BOM arr=IXY fn=SG 2903 dt=20230104.csv|37600|\n",
      "+------+----------------+----------+---------+-------+---------------------+--------------------------------------------------------+-----+"
     ]
    }
   ],
   "source": [
    "spark.sql('''\n",
    "SELECT \n",
    "                                        TailNo,\n",
    "                                        FlightNumberARMS,\n",
    "                                        Date,\n",
    "                                        Departure,\n",
    "                                        Arrival,\n",
    "                                        LoadedDate,\n",
    "                                        FileName,\n",
    "                                        Count(*) AS Count\n",
    "\n",
    "                                FROM ExistingDataDF\n",
    "                                WHERE FileName NOT LIKE '%(_).csv'\n",
    "                                GROUP BY TailNo,\n",
    "                                            FlightNumberARMS,\n",
    "                                            Date,\n",
    "                                            Departure,\n",
    "                                            Arrival,\n",
    "                                            FileName,\n",
    "                                            LoadedDate \n",
    "                                            ''').where(col('Filename') == 'ALL ac=VT-SQB dep=BOM arr=IXY fn=SG 2903 dt=20230104.csv').show(truncate=False)"
   ]
  },
  {
   "cell_type": "code",
   "execution_count": 93,
   "id": "0736bc01-a887-4360-8e4b-61dfefd4be38",
   "metadata": {
    "execution": {
     "iopub.execute_input": "2023-01-06T08:50:52.381067Z",
     "iopub.status.busy": "2023-01-06T08:50:52.380866Z",
     "iopub.status.idle": "2023-01-06T08:50:54.222433Z",
     "shell.execute_reply": "2023-01-06T08:50:54.221908Z",
     "shell.execute_reply.started": "2023-01-06T08:50:52.381044Z"
    },
    "tags": []
   },
   "outputs": [
    {
     "data": {
      "application/vnd.jupyter.widget-view+json": {
       "model_id": "b74aa76b9fb5462e8a4f0854e5eb2262",
       "version_major": 2,
       "version_minor": 0
      },
      "text/plain": [
       "VBox()"
      ]
     },
     "metadata": {},
     "output_type": "display_data"
    },
    {
     "data": {
      "application/vnd.jupyter.widget-view+json": {
       "model_id": "",
       "version_major": 2,
       "version_minor": 0
      },
      "text/plain": [
       "FloatProgress(value=0.0, bar_style='info', description='Progress:', layout=Layout(height='25px', width='50%'),…"
      ]
     },
     "metadata": {},
     "output_type": "display_data"
    }
   ],
   "source": [
    "FileLPD.createOrReplaceTempView('FileLPD')\n",
    "\n",
    "NoDupDF = FileLPD.where(FileLPD.RN == 1)\n",
    "\n",
    "NoDupDF.createOrReplaceTempView('NoDupDF')"
   ]
  },
  {
   "cell_type": "code",
   "execution_count": 94,
   "id": "33937e78-d4e8-4c14-bb18-5b308d72b3a3",
   "metadata": {
    "execution": {
     "iopub.execute_input": "2023-01-06T08:50:54.223520Z",
     "iopub.status.busy": "2023-01-06T08:50:54.223358Z",
     "iopub.status.idle": "2023-01-06T08:52:04.019295Z",
     "shell.execute_reply": "2023-01-06T08:52:04.018805Z",
     "shell.execute_reply.started": "2023-01-06T08:50:54.223500Z"
    },
    "tags": []
   },
   "outputs": [
    {
     "data": {
      "application/vnd.jupyter.widget-view+json": {
       "model_id": "dd403ed76d6f4f9eac64017054e8360d",
       "version_major": 2,
       "version_minor": 0
      },
      "text/plain": [
       "VBox()"
      ]
     },
     "metadata": {},
     "output_type": "display_data"
    },
    {
     "data": {
      "application/vnd.jupyter.widget-view+json": {
       "model_id": "",
       "version_major": 2,
       "version_minor": 0
      },
      "text/plain": [
       "FloatProgress(value=0.0, bar_style='info', description='Progress:', layout=Layout(height='25px', width='50%'),…"
      ]
     },
     "metadata": {},
     "output_type": "display_data"
    },
    {
     "name": "stdout",
     "output_type": "stream",
     "text": [
      "+------+----------------+----------+---------+-------+--------------------+--------------------+-----+---+\n",
      "|TailNo|FlightNumberARMS|      Date|Departure|Arrival|          LoadedDate|            FileName|Count| RN|\n",
      "+------+----------------+----------+---------+-------+--------------------+--------------------+-----+---+\n",
      "|VT-SQB|            2903|2023-01-04|      BOM|    IXY|2023-01-06 09:26:...|ALL ac=VT-SQB dep...|37600|  2|\n",
      "+------+----------------+----------+---------+-------+--------------------+--------------------+-----+---+"
     ]
    }
   ],
   "source": [
    "spark.sql('''\n",
    "\n",
    "SELECT * FROM FileLPD where filename = 'ALL ac=VT-SQB dep=BOM arr=IXY fn=SG 2903 dt=20230104.csv'\n",
    "\n",
    "''').show()"
   ]
  },
  {
   "cell_type": "code",
   "execution_count": null,
   "id": "64dd35fa-51fe-46c4-8a15-fbe3b1a3c076",
   "metadata": {},
   "outputs": [],
   "source": []
  }
 ],
 "metadata": {
  "kernelspec": {
   "display_name": "PySpark",
   "language": "",
   "name": "pysparkkernel"
  },
  "language_info": {
   "codemirror_mode": {
    "name": "python",
    "version": 3
   },
   "mimetype": "text/x-python",
   "name": "pyspark",
   "pygments_lexer": "python3"
  }
 },
 "nbformat": 4,
 "nbformat_minor": 5
}
