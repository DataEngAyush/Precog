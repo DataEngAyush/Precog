{
 "cells": [
  {
   "cell_type": "code",
   "execution_count": null,
   "id": "f2804168-481c-406a-b72f-def1524b046a",
   "metadata": {},
   "outputs": [],
   "source": [
    "UNION_DF = spark.sql('''\n",
    "\n",
    "                        SELECT * FROM precogdb.df5_red_deviation_above_gs\n",
    "                        UNION\n",
    "                        SELECT * FROM precogdb.df5_amber_deviation_above_gs\n",
    "                        UNION\n",
    "                        SELECT * FROM precogdb.df5_green_deviation_above_gs\n",
    "                        \n",
    "                        ''')"
   ]
  },
  {
   "cell_type": "code",
   "execution_count": 1,
   "id": "ebe079c2-721f-437c-85c0-67ca96a8c5fa",
   "metadata": {
    "execution": {
     "iopub.execute_input": "2022-10-14T15:03:54.863117Z",
     "iopub.status.busy": "2022-10-14T15:03:54.862897Z",
     "iopub.status.idle": "2022-10-14T15:04:20.731903Z",
     "shell.execute_reply": "2022-10-14T15:04:20.731395Z",
     "shell.execute_reply.started": "2022-10-14T15:03:54.863093Z"
    }
   },
   "outputs": [
    {
     "data": {
      "application/vnd.jupyter.widget-view+json": {
       "model_id": "2d1259a9494647ca9ed1dc63007be04e",
       "version_major": 2,
       "version_minor": 0
      },
      "text/plain": [
       "VBox()"
      ]
     },
     "metadata": {},
     "output_type": "display_data"
    },
    {
     "name": "stdout",
     "output_type": "stream",
     "text": [
      "Starting Spark application\n"
     ]
    },
    {
     "data": {
      "text/html": [
       "<table>\n",
       "<tr><th>ID</th><th>YARN Application ID</th><th>Kind</th><th>State</th><th>Spark UI</th><th>Driver log</th><th>Current session?</th></tr><tr><td>2</td><td>application_1665755642068_0052</td><td>pyspark</td><td>idle</td><td><a target=\"_blank\" href=\"http://ip-20-0-4-117.ap-south-1.compute.internal:20888/proxy/application_1665755642068_0052/\" class=\"emr-proxy-link\" emr-resource=\"j-20M2ULMX9DNQQ\n",
       "\" application-id=\"application_1665755642068_0052\">Link</a></td><td><a target=\"_blank\" href=\"http://ip-20-0-4-25.ap-south-1.compute.internal:8042/node/containerlogs/container_1665755642068_0052_01_000001/livy\" >Link</a></td><td>✔</td></tr></table>"
      ],
      "text/plain": [
       "<IPython.core.display.HTML object>"
      ]
     },
     "metadata": {},
     "output_type": "display_data"
    },
    {
     "data": {
      "application/vnd.jupyter.widget-view+json": {
       "model_id": "",
       "version_major": 2,
       "version_minor": 0
      },
      "text/plain": [
       "FloatProgress(value=0.0, bar_style='info', description='Progress:', layout=Layout(height='25px', width='50%'),…"
      ]
     },
     "metadata": {},
     "output_type": "display_data"
    },
    {
     "name": "stdout",
     "output_type": "stream",
     "text": [
      "SparkSession available as 'spark'.\n"
     ]
    },
    {
     "data": {
      "application/vnd.jupyter.widget-view+json": {
       "model_id": "",
       "version_major": 2,
       "version_minor": 0
      },
      "text/plain": [
       "FloatProgress(value=0.0, bar_style='info', description='Progress:', layout=Layout(height='25px', width='50%'),…"
      ]
     },
     "metadata": {},
     "output_type": "display_data"
    }
   ],
   "source": [
    "DF1 = spark.sql('''\n",
    "SELECT * FROM precogdb.df5_red_deviation_above_gs\n",
    "''')"
   ]
  },
  {
   "cell_type": "code",
   "execution_count": 14,
   "id": "df6ff780-fe0d-43fd-a3fb-6cbf423d66da",
   "metadata": {
    "execution": {
     "iopub.execute_input": "2022-10-14T15:10:16.772817Z",
     "iopub.status.busy": "2022-10-14T15:10:16.772600Z",
     "iopub.status.idle": "2022-10-14T15:10:16.818681Z",
     "shell.execute_reply": "2022-10-14T15:10:16.818189Z",
     "shell.execute_reply.started": "2022-10-14T15:10:16.772794Z"
    },
    "tags": []
   },
   "outputs": [
    {
     "data": {
      "application/vnd.jupyter.widget-view+json": {
       "model_id": "659d9ce1c9d049e89f21116e3e22f11a",
       "version_major": 2,
       "version_minor": 0
      },
      "text/plain": [
       "VBox()"
      ]
     },
     "metadata": {},
     "output_type": "display_data"
    },
    {
     "data": {
      "application/vnd.jupyter.widget-view+json": {
       "model_id": "",
       "version_major": 2,
       "version_minor": 0
      },
      "text/plain": [
       "FloatProgress(value=0.0, bar_style='info', description='Progress:', layout=Layout(height='25px', width='50%'),…"
      ]
     },
     "metadata": {},
     "output_type": "display_data"
    },
    {
     "name": "stdout",
     "output_type": "stream",
     "text": [
      "40"
     ]
    }
   ],
   "source": [
    "len(DF2.columns)"
   ]
  },
  {
   "cell_type": "code",
   "execution_count": 3,
   "id": "cdedfcd7-37cd-464c-aaac-325ccd283707",
   "metadata": {
    "execution": {
     "iopub.execute_input": "2022-10-14T15:04:34.400039Z",
     "iopub.status.busy": "2022-10-14T15:04:34.399807Z",
     "iopub.status.idle": "2022-10-14T15:04:34.447842Z",
     "shell.execute_reply": "2022-10-14T15:04:34.447345Z",
     "shell.execute_reply.started": "2022-10-14T15:04:34.400015Z"
    },
    "tags": []
   },
   "outputs": [
    {
     "data": {
      "application/vnd.jupyter.widget-view+json": {
       "model_id": "29502e3fa8424b4e96264395ced99c2f",
       "version_major": 2,
       "version_minor": 0
      },
      "text/plain": [
       "VBox()"
      ]
     },
     "metadata": {},
     "output_type": "display_data"
    },
    {
     "data": {
      "application/vnd.jupyter.widget-view+json": {
       "model_id": "",
       "version_major": 2,
       "version_minor": 0
      },
      "text/plain": [
       "FloatProgress(value=0.0, bar_style='info', description='Progress:', layout=Layout(height='25px', width='50%'),…"
      ]
     },
     "metadata": {},
     "output_type": "display_data"
    },
    {
     "name": "stdout",
     "output_type": "stream",
     "text": [
      "root\n",
      " |-- exceedanceid: long (nullable = true)\n",
      " |-- exceedance: string (nullable = true)\n",
      " |-- phaseid: long (nullable = true)\n",
      " |-- phase: string (nullable = true)\n",
      " |-- ecn: string (nullable = true)\n",
      " |-- employeename: string (nullable = true)\n",
      " |-- rank: string (nullable = true)\n",
      " |-- tailno: string (nullable = true)\n",
      " |-- departure: string (nullable = true)\n",
      " |-- arrival: string (nullable = true)\n",
      " |-- flightno: string (nullable = true)\n",
      " |-- date: string (nullable = true)\n",
      " |-- chocksoff: timestamp (nullable = true)\n",
      " |-- chockson: timestamp (nullable = true)\n",
      " |-- domint: string (nullable = true)\n",
      " |-- manufacturerid: long (nullable = true)\n",
      " |-- manufacturer: string (nullable = true)\n",
      " |-- dataframeid: long (nullable = true)\n",
      " |-- dataframe: string (nullable = true)\n",
      " |-- aircrafttype: string (nullable = true)\n",
      " |-- aircraftmodel: string (nullable = true)\n",
      " |-- payload: string (nullable = true)\n",
      " |-- blocktime_hrs: string (nullable = true)\n",
      " |-- occurance: string (nullable = true)\n",
      " |-- typeid: long (nullable = true)\n",
      " |-- flag: string (nullable = true)\n",
      " |-- trigger_start_hours: string (nullable = true)\n",
      " |-- trigger_end_hours: string (nullable = true)\n",
      " |-- occurence_start_hours: double (nullable = true)\n",
      " |-- occurence_end_hours: double (nullable = true)\n",
      " |-- duration_min: decimal(6,2) (nullable = true)\n",
      " |-- afcs-glideslope-active: string (nullable = true)\n",
      " |-- glide-path-dev-copilot-above: string (nullable = true)\n",
      " |-- glide-path-dev-pilot-above: string (nullable = true)\n",
      " |-- main-wow: string (nullable = true)\n",
      " |-- radio-altitude: integer (nullable = true)\n",
      " |-- loadeddate: timestamp (nullable = true)\n",
      " |-- filename: string (nullable = true)\n",
      " |-- year: string (nullable = true)\n",
      " |-- month: string (nullable = true)"
     ]
    }
   ],
   "source": [
    "DF1.printSchema()"
   ]
  },
  {
   "cell_type": "code",
   "execution_count": 13,
   "id": "d77bba3f-65c8-4a55-88cb-2ffca0babf67",
   "metadata": {
    "execution": {
     "iopub.execute_input": "2022-10-14T15:10:11.288541Z",
     "iopub.status.busy": "2022-10-14T15:10:11.288318Z",
     "iopub.status.idle": "2022-10-14T15:10:12.044419Z",
     "shell.execute_reply": "2022-10-14T15:10:12.043851Z",
     "shell.execute_reply.started": "2022-10-14T15:10:11.288516Z"
    },
    "tags": []
   },
   "outputs": [
    {
     "data": {
      "application/vnd.jupyter.widget-view+json": {
       "model_id": "abbc2f81d3dd4323a779bec6d69d68b6",
       "version_major": 2,
       "version_minor": 0
      },
      "text/plain": [
       "VBox()"
      ]
     },
     "metadata": {},
     "output_type": "display_data"
    },
    {
     "data": {
      "application/vnd.jupyter.widget-view+json": {
       "model_id": "",
       "version_major": 2,
       "version_minor": 0
      },
      "text/plain": [
       "FloatProgress(value=0.0, bar_style='info', description='Progress:', layout=Layout(height='25px', width='50%'),…"
      ]
     },
     "metadata": {},
     "output_type": "display_data"
    }
   ],
   "source": [
    "DF2 = spark.sql('''\n",
    "SELECT * FROM precogdb.df5_amber_deviation_above_gs\n",
    "''')"
   ]
  },
  {
   "cell_type": "code",
   "execution_count": 5,
   "id": "5fb19117-a15d-4609-87a5-a21937951b35",
   "metadata": {
    "execution": {
     "iopub.execute_input": "2022-10-14T15:05:04.921485Z",
     "iopub.status.busy": "2022-10-14T15:05:04.921266Z",
     "iopub.status.idle": "2022-10-14T15:05:04.971463Z",
     "shell.execute_reply": "2022-10-14T15:05:04.970907Z",
     "shell.execute_reply.started": "2022-10-14T15:05:04.921461Z"
    }
   },
   "outputs": [
    {
     "data": {
      "application/vnd.jupyter.widget-view+json": {
       "model_id": "753f174fec434e76946243fa6b034ad0",
       "version_major": 2,
       "version_minor": 0
      },
      "text/plain": [
       "VBox()"
      ]
     },
     "metadata": {},
     "output_type": "display_data"
    },
    {
     "data": {
      "application/vnd.jupyter.widget-view+json": {
       "model_id": "",
       "version_major": 2,
       "version_minor": 0
      },
      "text/plain": [
       "FloatProgress(value=0.0, bar_style='info', description='Progress:', layout=Layout(height='25px', width='50%'),…"
      ]
     },
     "metadata": {},
     "output_type": "display_data"
    },
    {
     "name": "stdout",
     "output_type": "stream",
     "text": [
      "root\n",
      " |-- exceedanceid: long (nullable = true)\n",
      " |-- exceedance: string (nullable = true)\n",
      " |-- phaseid: long (nullable = true)\n",
      " |-- phase: string (nullable = true)\n",
      " |-- ecn: string (nullable = true)\n",
      " |-- employeename: string (nullable = true)\n",
      " |-- rank: string (nullable = true)\n",
      " |-- tailno: string (nullable = true)\n",
      " |-- departure: string (nullable = true)\n",
      " |-- arrival: string (nullable = true)\n",
      " |-- flightno: string (nullable = true)\n",
      " |-- date: string (nullable = true)\n",
      " |-- chocksoff: timestamp (nullable = true)\n",
      " |-- chockson: timestamp (nullable = true)\n",
      " |-- domint: string (nullable = true)\n",
      " |-- manufacturerid: long (nullable = true)\n",
      " |-- manufacturer: string (nullable = true)\n",
      " |-- dataframeid: long (nullable = true)\n",
      " |-- dataframe: string (nullable = true)\n",
      " |-- aircrafttype: string (nullable = true)\n",
      " |-- aircraftmodel: string (nullable = true)\n",
      " |-- payload: string (nullable = true)\n",
      " |-- blocktime_hrs: string (nullable = true)\n",
      " |-- occurance: string (nullable = true)\n",
      " |-- typeid: long (nullable = true)\n",
      " |-- flag: string (nullable = true)\n",
      " |-- trigger_start_hours: string (nullable = true)\n",
      " |-- trigger_end_hours: string (nullable = true)\n",
      " |-- occurence_start_hours: double (nullable = true)\n",
      " |-- occurence_end_hours: double (nullable = true)\n",
      " |-- duration_min: decimal(6,2) (nullable = true)\n",
      " |-- afcs-glideslope-active: string (nullable = true)\n",
      " |-- glide-path-dev-copilot-above: string (nullable = true)\n",
      " |-- glide-path-dev-pilot-above: string (nullable = true)\n",
      " |-- main-wow: string (nullable = true)\n",
      " |-- radio-altitude: integer (nullable = true)\n",
      " |-- loadeddate: timestamp (nullable = true)\n",
      " |-- filename: string (nullable = true)\n",
      " |-- year: string (nullable = true)\n",
      " |-- month: string (nullable = true)"
     ]
    }
   ],
   "source": [
    "DF2.printSchema()"
   ]
  },
  {
   "cell_type": "code",
   "execution_count": 11,
   "id": "5033648a-1f68-4ccc-85c7-af02e132071d",
   "metadata": {
    "execution": {
     "iopub.execute_input": "2022-10-14T15:09:57.019582Z",
     "iopub.status.busy": "2022-10-14T15:09:57.019339Z",
     "iopub.status.idle": "2022-10-14T15:09:57.776096Z",
     "shell.execute_reply": "2022-10-14T15:09:57.775459Z",
     "shell.execute_reply.started": "2022-10-14T15:09:57.019544Z"
    },
    "tags": []
   },
   "outputs": [
    {
     "data": {
      "application/vnd.jupyter.widget-view+json": {
       "model_id": "95ee0285f0544addb3ad0614f0d622d1",
       "version_major": 2,
       "version_minor": 0
      },
      "text/plain": [
       "VBox()"
      ]
     },
     "metadata": {},
     "output_type": "display_data"
    },
    {
     "data": {
      "application/vnd.jupyter.widget-view+json": {
       "model_id": "",
       "version_major": 2,
       "version_minor": 0
      },
      "text/plain": [
       "FloatProgress(value=0.0, bar_style='info', description='Progress:', layout=Layout(height='25px', width='50%'),…"
      ]
     },
     "metadata": {},
     "output_type": "display_data"
    }
   ],
   "source": [
    "DF3 = spark.sql('''\n",
    "SELECT * FROM precogdb.df5_green_deviation_above_gs\n",
    "''')"
   ]
  },
  {
   "cell_type": "code",
   "execution_count": 15,
   "id": "b6600257-cf79-4efc-a48a-2ad60b702da7",
   "metadata": {
    "execution": {
     "iopub.execute_input": "2022-10-14T15:10:26.767626Z",
     "iopub.status.busy": "2022-10-14T15:10:26.767406Z",
     "iopub.status.idle": "2022-10-14T15:10:26.814326Z",
     "shell.execute_reply": "2022-10-14T15:10:26.813844Z",
     "shell.execute_reply.started": "2022-10-14T15:10:26.767601Z"
    },
    "tags": []
   },
   "outputs": [
    {
     "data": {
      "application/vnd.jupyter.widget-view+json": {
       "model_id": "72497175304642aaad007b2b7c77363d",
       "version_major": 2,
       "version_minor": 0
      },
      "text/plain": [
       "VBox()"
      ]
     },
     "metadata": {},
     "output_type": "display_data"
    },
    {
     "data": {
      "application/vnd.jupyter.widget-view+json": {
       "model_id": "",
       "version_major": 2,
       "version_minor": 0
      },
      "text/plain": [
       "FloatProgress(value=0.0, bar_style='info', description='Progress:', layout=Layout(height='25px', width='50%'),…"
      ]
     },
     "metadata": {},
     "output_type": "display_data"
    },
    {
     "name": "stdout",
     "output_type": "stream",
     "text": [
      "root\n",
      " |-- exceedanceid: long (nullable = true)\n",
      " |-- exceedance: string (nullable = true)\n",
      " |-- phaseid: long (nullable = true)\n",
      " |-- phase: string (nullable = true)\n",
      " |-- ecn: string (nullable = true)\n",
      " |-- employeename: string (nullable = true)\n",
      " |-- rank: string (nullable = true)\n",
      " |-- tailno: string (nullable = true)\n",
      " |-- departure: string (nullable = true)\n",
      " |-- arrival: string (nullable = true)\n",
      " |-- flightno: string (nullable = true)\n",
      " |-- flightdate: string (nullable = true)\n",
      " |-- chocksoff: timestamp (nullable = true)\n",
      " |-- chockson: timestamp (nullable = true)\n",
      " |-- domint: string (nullable = true)\n",
      " |-- manufacturerid: long (nullable = true)\n",
      " |-- manufacturer: string (nullable = true)\n",
      " |-- dataframeid: long (nullable = true)\n",
      " |-- dataframe: string (nullable = true)\n",
      " |-- aircrafttype: string (nullable = true)\n",
      " |-- aircraftmodel: string (nullable = true)\n",
      " |-- payload: string (nullable = true)\n",
      " |-- blocktime_hrs: string (nullable = true)\n",
      " |-- occurance: string (nullable = true)\n",
      " |-- flag: string (nullable = true)\n",
      " |-- trigger_start_hours: string (nullable = true)\n",
      " |-- trigger_end_hours: string (nullable = true)\n",
      " |-- occurence_start_hours: string (nullable = true)\n",
      " |-- occurence_end_hours: string (nullable = true)\n",
      " |-- duration_min: string (nullable = true)\n",
      " |-- afcs-glideslope-active: string (nullable = true)\n",
      " |-- glide-path-dev-copilot-above: string (nullable = true)\n",
      " |-- glide-path-dev-pilot-above: string (nullable = true)\n",
      " |-- main-wow: string (nullable = true)\n",
      " |-- radio-altitude: string (nullable = true)\n",
      " |-- loadeddate: timestamp (nullable = true)\n",
      " |-- filename: string (nullable = true)\n",
      " |-- year: string (nullable = true)\n",
      " |-- month: string (nullable = true)"
     ]
    }
   ],
   "source": [
    "DF3.printSchema()"
   ]
  },
  {
   "cell_type": "code",
   "execution_count": null,
   "id": "bc3b267a-083e-45d3-99f6-0de5b06f9f22",
   "metadata": {},
   "outputs": [],
   "source": []
  },
  {
   "cell_type": "code",
   "execution_count": null,
   "id": "339275fb-0761-4c7b-9b31-3b527edf78e6",
   "metadata": {},
   "outputs": [],
   "source": []
  }
 ],
 "metadata": {
  "kernelspec": {
   "display_name": "PySpark",
   "language": "",
   "name": "pysparkkernel"
  },
  "language_info": {
   "codemirror_mode": {
    "name": "python",
    "version": 3
   },
   "mimetype": "text/x-python",
   "name": "pyspark",
   "pygments_lexer": "python3"
  }
 },
 "nbformat": 4,
 "nbformat_minor": 5
}
