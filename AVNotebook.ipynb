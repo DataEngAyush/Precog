{
 "cells": [
  {
   "cell_type": "code",
   "execution_count": 1,
   "id": "936b3bc3-3d21-4892-a965-b796dde96048",
   "metadata": {
    "execution": {
     "iopub.execute_input": "2022-09-19T05:57:11.167114Z",
     "iopub.status.busy": "2022-09-19T05:57:11.166822Z",
     "iopub.status.idle": "2022-09-19T05:57:40.085587Z",
     "shell.execute_reply": "2022-09-19T05:57:40.084972Z",
     "shell.execute_reply.started": "2022-09-19T05:57:11.167088Z"
    },
    "tags": []
   },
   "outputs": [
    {
     "data": {
      "application/vnd.jupyter.widget-view+json": {
       "model_id": "907a346a84554f3fb6c4f998c3b3be1f",
       "version_major": 2,
       "version_minor": 0
      },
      "text/plain": [
       "VBox()"
      ]
     },
     "metadata": {},
     "output_type": "display_data"
    },
    {
     "name": "stdout",
     "output_type": "stream",
     "text": [
      "Starting Spark application\n"
     ]
    },
    {
     "data": {
      "text/html": [
       "<table>\n",
       "<tr><th>ID</th><th>YARN Application ID</th><th>Kind</th><th>State</th><th>Spark UI</th><th>Driver log</th><th>Current session?</th></tr><tr><td>1</td><td>application_1663562373676_0003</td><td>pyspark</td><td>idle</td><td><a target=\"_blank\" href=\"http://ip-20-0-4-164.ap-south-1.compute.internal:20888/proxy/application_1663562373676_0003/\" class=\"emr-proxy-link\" emr-resource=\"j-MZJLK745WVPX\n",
       "\" application-id=\"application_1663562373676_0003\">Link</a></td><td><a target=\"_blank\" href=\"http://ip-20-0-4-177.ap-south-1.compute.internal:8042/node/containerlogs/container_1663562373676_0003_01_000001/livy\" >Link</a></td><td>✔</td></tr></table>"
      ],
      "text/plain": [
       "<IPython.core.display.HTML object>"
      ]
     },
     "metadata": {},
     "output_type": "display_data"
    },
    {
     "data": {
      "application/vnd.jupyter.widget-view+json": {
       "model_id": "",
       "version_major": 2,
       "version_minor": 0
      },
      "text/plain": [
       "FloatProgress(value=0.0, bar_style='info', description='Progress:', layout=Layout(height='25px', width='50%'),…"
      ]
     },
     "metadata": {},
     "output_type": "display_data"
    },
    {
     "name": "stdout",
     "output_type": "stream",
     "text": [
      "SparkSession available as 'spark'.\n"
     ]
    },
    {
     "data": {
      "application/vnd.jupyter.widget-view+json": {
       "model_id": "",
       "version_major": 2,
       "version_minor": 0
      },
      "text/plain": [
       "FloatProgress(value=0.0, bar_style='info', description='Progress:', layout=Layout(height='25px', width='50%'),…"
      ]
     },
     "metadata": {},
     "output_type": "display_data"
    }
   ],
   "source": [
    "from pyspark import SparkConf\n",
    "from pyspark import SparkContext\n",
    "from pyspark.sql import SparkSession\n",
    "from pyspark.sql.types import *\n",
    "from pyspark.sql import functions as *\n",
    "import boto3\n",
    "import sys\n",
    "import re\n",
    "from datetime import datetime\n",
    "import configparser"
   ]
  },
  {
   "cell_type": "code",
   "execution_count": 2,
   "id": "e22b47c3-d237-44d6-9f03-72ec9a15ed91",
   "metadata": {
    "execution": {
     "iopub.execute_input": "2022-09-19T05:57:40.087218Z",
     "iopub.status.busy": "2022-09-19T05:57:40.086973Z",
     "iopub.status.idle": "2022-09-19T05:57:40.157625Z",
     "shell.execute_reply": "2022-09-19T05:57:40.156971Z",
     "shell.execute_reply.started": "2022-09-19T05:57:40.087186Z"
    },
    "tags": []
   },
   "outputs": [
    {
     "data": {
      "application/vnd.jupyter.widget-view+json": {
       "model_id": "7db466b9b24348918660563141fd3ab6",
       "version_major": 2,
       "version_minor": 0
      },
      "text/plain": [
       "VBox()"
      ]
     },
     "metadata": {},
     "output_type": "display_data"
    },
    {
     "data": {
      "application/vnd.jupyter.widget-view+json": {
       "model_id": "",
       "version_major": 2,
       "version_minor": 0
      },
      "text/plain": [
       "FloatProgress(value=0.0, bar_style='info', description='Progress:', layout=Layout(height='25px', width='50%'),…"
      ]
     },
     "metadata": {},
     "output_type": "display_data"
    }
   ],
   "source": [
    "conf = SparkConf()"
   ]
  },
  {
   "cell_type": "code",
   "execution_count": null,
   "id": "9b99c468-72d5-4dd3-bbbf-1b4305a9fc0c",
   "metadata": {
    "execution": {
     "iopub.status.idle": "2022-09-19T05:57:41.781290Z"
    },
    "tags": []
   },
   "outputs": [],
   "source": [
    "spark = SparkSession.builder.config(\n",
    "            conf=conf).enableHiveSupport().getOrCreate()"
   ]
  },
  {
   "cell_type": "code",
   "execution_count": null,
   "id": "11b28aed-e3ca-4880-8f6c-c327e485fd88",
   "metadata": {
    "execution": {
     "iopub.execute_input": "2022-09-19T05:57:41.782798Z",
     "iopub.status.busy": "2022-09-19T05:57:41.782546Z",
     "iopub.status.idle": "2022-09-19T05:57:49.138759Z"
    },
    "tags": []
   },
   "outputs": [
    {
     "data": {
      "application/vnd.jupyter.widget-view+json": {
       "model_id": "8df1974129f34313b665eef4418aadea",
       "version_major": 2,
       "version_minor": 0
      },
      "text/plain": [
       "VBox()"
      ]
     },
     "metadata": {},
     "output_type": "display_data"
    },
    {
     "data": {
      "application/vnd.jupyter.widget-view+json": {
       "model_id": "",
       "version_major": 2,
       "version_minor": 0
      },
      "text/plain": [
       "FloatProgress(value=0.0, bar_style='info', description='Progress:', layout=Layout(height='25px', width='50%'),…"
      ]
     },
     "metadata": {},
     "output_type": "display_data"
    }
   ],
   "source": [
    "DF1 = spark.read.parquet(\"s3://sjet-datamart-bucket/precog/precog-processed-data/q400/q400128wps/year=2021/month=November/part-00000-4a51bf39-28ee-4a6e-9856-b777f9c41630.c000.snappy.parquet\")"
   ]
  },
  {
   "cell_type": "code",
   "execution_count": null,
   "id": "46eee31f-2bd3-4d25-834c-2e3edffa974b",
   "metadata": {
    "execution": {
     "iopub.execute_input": "2022-09-19T05:57:49.139862Z",
     "iopub.status.busy": "2022-09-19T05:57:49.139635Z",
     "iopub.status.idle": "2022-09-19T05:57:52.467411Z"
    },
    "tags": []
   },
   "outputs": [
    {
     "data": {
      "application/vnd.jupyter.widget-view+json": {
       "model_id": "7a426a374d34436ab051624702cf2f68",
       "version_major": 2,
       "version_minor": 0
      },
      "text/plain": [
       "VBox()"
      ]
     },
     "metadata": {},
     "output_type": "display_data"
    },
    {
     "data": {
      "application/vnd.jupyter.widget-view+json": {
       "model_id": "",
       "version_major": 2,
       "version_minor": 0
      },
      "text/plain": [
       "FloatProgress(value=0.0, bar_style='info', description='Progress:', layout=Layout(height='25px', width='50%'),…"
      ]
     },
     "metadata": {},
     "output_type": "display_data"
    },
    {
     "name": "stdout",
     "output_type": "stream",
     "text": [
      "+--------+-----------------+----------------+----------+--------+------+---------+------+-----------------+-----+-------------------+-------------------+------+------------+-------------+-------+------+---------+-------+--------+----------+------------+------------+---------------------------+--------------+----------------+--------------+-------------+--------------+--------+--------+-------------------+--------------------+-------------------------+---------------------+-------------------+----------------------+------------+----------------------+-------------+-----------------+-----------------+---------------+---------------+-----------------+-----------------+-----------------+-----------------+------------------+---------------------+----------------------+---------------+---------------+--------------------------+----------------------------+--------------+--------------+-----------------+-----------------+----------+----------+----------------+-----------------+-------------------------+-------------------------+----------------------+--------------------+--------------------+------------+-------------+\n",
      "|FlightID|DesigFlightNumber|FlightNumberARMS|FlightDate|FromCity|ToCity|BlockTime|   ECN|     EmployeeName| RANK|          ChocksOff|           ChocksOn|DOMINT|AircraftType|AircraftModel|Payload|TailNo|Departure|Arrival|FlightNo|      Date|Time-In-Secs|Time-Per-Sec|BARO-CORRECTED-PALT-DERIVED|Altitude-BaroL|Magnetic-Heading|Pitch-Attitude|Roll-Attitude|Radio-Altitude|Nose-WOW|Main-WOW|Normal-Acceleration|Lateral-Acceleration|Longitudinal-Acceleration|Calibrated-Airspeed-L|AFCS-Selected-Speed|Vertical-Speed-Derived|Ground-Speed|Flap-Control-Selection|FLAP-POSITION|Power-Lever-Pos-L|Power-Lever-Pos-R|Torque-TQ-Eng-L|Torque-TQ-Eng-R|Condition-Lever-L|Condition-Lever-R|Prop-RPM-Np-Eng-L|Prop-RPM-Np-Eng-R|GPWS-Alert/Warning|GPWS-Glideslope-Alert|AFCS-Glideslope-Active|AFCS-LOC-Active|AFCS-VOR-Active|GLIDE-PATH-DEV-PILOT-ABOVE|GLIDE-PATH-DEV-COPILOT-ABOVE|DME-DISTANCE-1|DME-DISTANCE-2|VOR-1-SELECT-FREQ|VOR-2-SELECT-FREQ|WIND-ANGLE|WIND-SPEED|BRAKE-PRESS-LEFT|BRAKE-PRESS-RIGHT|Thrust-Rev-Low-Beta-Eng-L|Thrust-Rev-Low-Beta-Eng-R|AFCS-Autopilot-Engaged|            FileName|          LoadedDate|    LoadedBy|DataFrameName|\n",
      "+--------+-----------------+----------------+----------+--------+------+---------+------+-----------------+-----+-------------------+-------------------+------+------------+-------------+-------+------+---------+-------+--------+----------+------------+------------+---------------------------+--------------+----------------+--------------+-------------+--------------+--------+--------+-------------------+--------------------+-------------------------+---------------------+-------------------+----------------------+------------+----------------------+-------------+-----------------+-----------------+---------------+---------------+-----------------+-----------------+-----------------+-----------------+------------------+---------------------+----------------------+---------------+---------------+--------------------------+----------------------------+--------------+--------------+-----------------+-----------------+----------+----------+----------------+-----------------+-------------------------+-------------------------+----------------------+--------------------+--------------------+------------+-------------+\n",
      "| 2787492|          SG 3282|            3282|2021-11-03|     JRG|   CCU|  1:25:00|122582|SRIRAM  PARAMGURU|CAPT.|2021-11-03 15:00:00|2021-11-03 16:20:00|   DOM|         DHC|         DHC-|    Pax|VT-SUD|      JRG|    CCU| SG 3282|2021-11-03|         0.0|       93510|                          0|           782|           332.2|         D 1.9|        L 0.5|             4| Gnd (1)| Gnd (1)|              0.993|              R 0.01|                    -0.03|                  0.0|                0.0|                   782|           0|                   0.0|         -0.1|             20.0|             20.0|            0.0|            0.0|           -0.879|            0.176|                0|                0|       No Warn (0)|          No Warn (0)|           NOT ACT (0)|    NOT ACT (0)|    NOT ACT (0)|                      0.00|                           0|          null|          null|             null|             null|      null|      null|               0|                0|               Normal (0)|               Normal (0)|            NOT EN (0)|ALL ac=VT-SUD dep...|2022-09-19 05:55:...|precog-spark|      128 WPS|\n",
      "| 2787492|          SG 3282|            3282|2021-11-03|     JRG|   CCU|  1:25:00|122582|SRIRAM  PARAMGURU|CAPT.|2021-11-03 15:00:00|2021-11-03 16:20:00|   DOM|         DHC|         DHC-|    Pax|VT-SUD|      JRG|    CCU| SG 3282|2021-11-03|       0.125|        null|                       null|          null|            null|          null|         null|          null|    null|    null|              0.996|                null|                     null|                 null|               null|                  null|        null|                  null|         null|             null|             null|           null|           null|             null|             null|             null|             null|              null|                 null|                  null|           null|           null|                      null|                        null|          null|          null|             null|             null|      null|      null|            null|             null|                     null|                     null|                  null|ALL ac=VT-SUD dep...|2022-09-19 05:55:...|precog-spark|      128 WPS|\n",
      "| 2787492|          SG 3282|            3282|2021-11-03|     JRG|   CCU|  1:25:00|122582|SRIRAM  PARAMGURU|CAPT.|2021-11-03 15:00:00|2021-11-03 16:20:00|   DOM|         DHC|         DHC-|    Pax|VT-SUD|      JRG|    CCU| SG 3282|2021-11-03|        0.25|        null|                       null|          null|            null|         D 1.9|         null|          null|    null| Gnd (1)|              0.996|              R 0.01|                    -0.03|                 null|               null|                  null|        null|                  null|         null|             null|             null|           null|           null|             null|             null|             null|             null|              null|                 null|                  null|           null|           null|                      null|                        null|          null|          null|             null|             null|      null|      null|            null|             null|                     null|                     null|                  null|ALL ac=VT-SUD dep...|2022-09-19 05:55:...|precog-spark|      128 WPS|\n",
      "| 2787492|          SG 3282|            3282|2021-11-03|     JRG|   CCU|  1:25:00|122582|SRIRAM  PARAMGURU|CAPT.|2021-11-03 15:00:00|2021-11-03 16:20:00|   DOM|         DHC|         DHC-|    Pax|VT-SUD|      JRG|    CCU| SG 3282|2021-11-03|       0.375|        null|                       null|          null|            null|          null|         null|          null|    null|    null|              0.992|                null|                     null|                 null|               null|                  null|        null|                  null|         null|             null|             null|           null|           null|             null|             null|             null|             null|              null|                 null|                  null|           null|           null|                      null|                        null|          null|          null|             null|             null|      null|      null|            null|             null|                     null|                     null|                  null|ALL ac=VT-SUD dep...|2022-09-19 05:55:...|precog-spark|      128 WPS|\n",
      "| 2787492|          SG 3282|            3282|2021-11-03|     JRG|   CCU|  1:25:00|122582|SRIRAM  PARAMGURU|CAPT.|2021-11-03 15:00:00|2021-11-03 16:20:00|   DOM|         DHC|         DHC-|    Pax|VT-SUD|      JRG|    CCU| SG 3282|2021-11-03|         0.5|        null|                       null|          null|            null|         D 1.9|        L 0.5|          null|    null| Gnd (1)|              0.988|              R 0.01|                    -0.03|                 null|               null|                  null|        null|                  null|         null|             null|             null|           null|           null|             null|             null|             null|             null|              null|                 null|                  null|           null|           null|                      null|                        null|          null|          null|             null|             null|      null|      null|            null|             null|                     null|                     null|                  null|ALL ac=VT-SUD dep...|2022-09-19 05:55:...|precog-spark|      128 WPS|\n",
      "+--------+-----------------+----------------+----------+--------+------+---------+------+-----------------+-----+-------------------+-------------------+------+------------+-------------+-------+------+---------+-------+--------+----------+------------+------------+---------------------------+--------------+----------------+--------------+-------------+--------------+--------+--------+-------------------+--------------------+-------------------------+---------------------+-------------------+----------------------+------------+----------------------+-------------+-----------------+-----------------+---------------+---------------+-----------------+-----------------+-----------------+-----------------+------------------+---------------------+----------------------+---------------+---------------+--------------------------+----------------------------+--------------+--------------+-----------------+-----------------+----------+----------+----------------+-----------------+-------------------------+-------------------------+----------------------+--------------------+--------------------+------------+-------------+\n",
      "only showing top 5 rows"
     ]
    }
   ],
   "source": [
    "DF1.show(5)#createOrReplaceTempView('DF1')"
   ]
  },
  {
   "cell_type": "code",
   "execution_count": null,
   "id": "2efa71cf-9539-4280-b8ac-aa646b991ff9",
   "metadata": {},
   "outputs": [],
   "source": []
  },
  {
   "cell_type": "code",
   "execution_count": null,
   "id": "6064d4d7-dbad-43ff-8fbf-5d6266f77e47",
   "metadata": {},
   "outputs": [],
   "source": []
  },
  {
   "cell_type": "code",
   "execution_count": null,
   "id": "eb6b95c2-191e-4511-99c0-183767dd706c",
   "metadata": {},
   "outputs": [],
   "source": []
  },
  {
   "cell_type": "code",
   "execution_count": null,
   "id": "c0767d05-f8ed-424a-8f4c-f466cc6b8515",
   "metadata": {},
   "outputs": [],
   "source": []
  },
  {
   "cell_type": "code",
   "execution_count": null,
   "id": "1c3e372a-e732-4f6e-8065-0fceda44f1f6",
   "metadata": {},
   "outputs": [],
   "source": []
  },
  {
   "cell_type": "code",
   "execution_count": null,
   "id": "361ab538-972a-43f3-9619-77aa4d2b5549",
   "metadata": {},
   "outputs": [],
   "source": []
  },
  {
   "cell_type": "code",
   "execution_count": null,
   "id": "d5214ce0-de2d-4928-9d1e-b437742d7bab",
   "metadata": {},
   "outputs": [],
   "source": []
  },
  {
   "cell_type": "code",
   "execution_count": null,
   "id": "a9731ec1-79b2-46eb-868c-ee3c926bbe28",
   "metadata": {},
   "outputs": [],
   "source": []
  },
  {
   "cell_type": "code",
   "execution_count": null,
   "id": "4370dcdb-95ef-41e2-8840-dfd46f8065c0",
   "metadata": {},
   "outputs": [],
   "source": []
  },
  {
   "cell_type": "code",
   "execution_count": null,
   "id": "506f9260-ed23-4435-b349-99be8c7f7e59",
   "metadata": {},
   "outputs": [],
   "source": []
  },
  {
   "cell_type": "code",
   "execution_count": null,
   "id": "be756727-5482-4be3-8942-24175d281430",
   "metadata": {},
   "outputs": [],
   "source": []
  },
  {
   "cell_type": "code",
   "execution_count": null,
   "id": "ec347a86-f974-4652-a56d-232b5d879a88",
   "metadata": {},
   "outputs": [],
   "source": []
  },
  {
   "cell_type": "code",
   "execution_count": null,
   "id": "26462433-da0e-4866-940a-dfa11d55366e",
   "metadata": {},
   "outputs": [],
   "source": []
  },
  {
   "cell_type": "code",
   "execution_count": null,
   "id": "754365ff-fd3c-4608-b1bd-dbf70706c48e",
   "metadata": {},
   "outputs": [],
   "source": []
  },
  {
   "cell_type": "code",
   "execution_count": null,
   "id": "f3df6ad7-828b-4d0a-9a2e-281893844db3",
   "metadata": {},
   "outputs": [],
   "source": []
  },
  {
   "cell_type": "code",
   "execution_count": null,
   "id": "2fafbddd-c6cc-4ca8-88db-23baef643d6d",
   "metadata": {},
   "outputs": [],
   "source": []
  },
  {
   "cell_type": "code",
   "execution_count": null,
   "id": "31fd797f-5c8f-434b-834a-ca3590f85d55",
   "metadata": {},
   "outputs": [],
   "source": []
  },
  {
   "cell_type": "code",
   "execution_count": null,
   "id": "6e74837e-563d-47e2-b0c0-74661bf2df53",
   "metadata": {},
   "outputs": [],
   "source": []
  },
  {
   "cell_type": "code",
   "execution_count": null,
   "id": "1c5cb66e-cea3-4f35-963f-e738e1e3390e",
   "metadata": {},
   "outputs": [],
   "source": []
  },
  {
   "cell_type": "code",
   "execution_count": null,
   "id": "501eff74-f6e4-477a-b76e-c1ea400ced27",
   "metadata": {},
   "outputs": [],
   "source": []
  },
  {
   "cell_type": "code",
   "execution_count": null,
   "id": "ca8eea6d-4576-40b8-be44-6b3dfdbda8a3",
   "metadata": {},
   "outputs": [],
   "source": []
  },
  {
   "cell_type": "code",
   "execution_count": null,
   "id": "18bacc5b-0dc5-4827-bf73-667c7016f8fe",
   "metadata": {},
   "outputs": [],
   "source": []
  },
  {
   "cell_type": "code",
   "execution_count": null,
   "id": "86fef726-5f0a-4b16-bc6b-1b81c165f6da",
   "metadata": {},
   "outputs": [],
   "source": []
  },
  {
   "cell_type": "code",
   "execution_count": null,
   "id": "c66aeefe-343a-431d-bca6-9f10f9e2d3da",
   "metadata": {},
   "outputs": [],
   "source": []
  },
  {
   "cell_type": "code",
   "execution_count": 7,
   "id": "20896ed0-f152-4355-8ec5-e13afb54b567",
   "metadata": {
    "execution": {
     "iopub.execute_input": "2022-08-29T07:21:55.490634Z",
     "iopub.status.busy": "2022-08-29T07:21:55.490300Z",
     "iopub.status.idle": "2022-08-29T07:21:56.276648Z",
     "shell.execute_reply": "2022-08-29T07:21:56.276048Z",
     "shell.execute_reply.started": "2022-08-29T07:21:55.490577Z"
    },
    "tags": []
   },
   "outputs": [
    {
     "data": {
      "application/vnd.jupyter.widget-view+json": {
       "model_id": "4a7537a66f2e44f6bc47c91ae08dfbd9",
       "version_major": 2,
       "version_minor": 0
      },
      "text/plain": [
       "VBox()"
      ]
     },
     "metadata": {},
     "output_type": "display_data"
    },
    {
     "data": {
      "application/vnd.jupyter.widget-view+json": {
       "model_id": "",
       "version_major": 2,
       "version_minor": 0
      },
      "text/plain": [
       "FloatProgress(value=0.0, bar_style='info', description='Progress:', layout=Layout(height='25px', width='50%'),…"
      ]
     },
     "metadata": {},
     "output_type": "display_data"
    }
   ],
   "source": [
    "FirstQuery  = \"(select FileName, max(cast(`Radio-Altitude` as int)) as RadioAltitude from Q400Interim group by FileName);\"\n",
    "\n",
    "spark.sql(FirstQuery).createOrReplaceTempView(\"B\")\n",
    "\n",
    "SecondQuery = \"(select a.*, B.RadioAltitude from Q400Interim a inner join B on a.FileName = B.FileName and a.`Radio-Altitude` = B.RadioAltitude)\"\n",
    "\n",
    "spark.sql(SecondQuery).createOrReplaceTempView(\"C\")\n",
    "\n",
    "ThirdQuery = \"(select FileName, RadioAltitude, max(`Time-In-Secs`) as MaxTime, min(`Time-In-Secs`) as MinTime from C group by FileName, RadioAltitude)\"\n",
    "\n",
    "spark.sql(ThirdQuery).createOrReplaceTempView(\"D\")"
   ]
  },
  {
   "cell_type": "code",
   "execution_count": 11,
   "id": "56ac668a-fd3a-4511-a425-e2eebdef0ec4",
   "metadata": {
    "execution": {
     "iopub.execute_input": "2022-08-29T07:37:45.481832Z",
     "iopub.status.busy": "2022-08-29T07:37:45.481604Z",
     "iopub.status.idle": "2022-08-29T07:37:45.542234Z",
     "shell.execute_reply": "2022-08-29T07:37:45.541575Z",
     "shell.execute_reply.started": "2022-08-29T07:37:45.481807Z"
    },
    "tags": []
   },
   "outputs": [
    {
     "data": {
      "application/vnd.jupyter.widget-view+json": {
       "model_id": "5d3d274bcbac43929afd472763c5eeeb",
       "version_major": 2,
       "version_minor": 0
      },
      "text/plain": [
       "VBox()"
      ]
     },
     "metadata": {},
     "output_type": "display_data"
    },
    {
     "data": {
      "application/vnd.jupyter.widget-view+json": {
       "model_id": "",
       "version_major": 2,
       "version_minor": 0
      },
      "text/plain": [
       "FloatProgress(value=0.0, bar_style='info', description='Progress:', layout=Layout(height='25px', width='50%'),…"
      ]
     },
     "metadata": {},
     "output_type": "display_data"
    }
   ],
   "source": [
    "FourthQuery = '''(select a.`Time-In-Secs` as `Time-In-Secs-EX`,\n",
    "                    a.`BARO-CORRECTED-PALT-DERIVED` as `BARO-CORRECTED-PALT-DERIVED-EX`,\n",
    "                    a.`Radio-Altitude` as `Radio-Altitude-EX`,\n",
    "                    REPLACE(a.`GLIDE-PATH-DEV-COPILOT-ABOVE`,'*','') as `GLIDE-PATH-DEV-COPILOT-ABOVE-EX`,\n",
    "                    REPLACE(a.`GLIDE-PATH-DEV-PILOT-ABOVE`,'*','') as `GLIDE-PATH-DEV-PILOT-ABOVE-EX`,\n",
    "                    'G/SDeviation' as ExceedanceName,\n",
    "                    case \n",
    "                    when Cast(`Time-In-Secs` as int)<D.MinTime Then 'TakeOff'\n",
    "                    when Cast(`Time-In-Secs` as int) between D.MinTime and D.MaxTime Then 'Airborne'\n",
    "                    when Cast(`Time-In-Secs` as int)>D.MaxTime Then 'Approach' end Phase,\n",
    "                     \n",
    "                    case when\n",
    "                    case when replace(`GLIDE-PATH-DEV-COPILOT-ABOVE`,'*','') like 'FU%' then \n",
    "                    CASE WHEN instr(replace(`GLIDE-PATH-DEV-COPILOT-ABOVE`,'*',''),' ')>0 \n",
    "                             THEN SUBSTRING(replace(`GLIDE-PATH-DEV-COPILOT-ABOVE`,'*',''),\n",
    "                             instr(replace(`GLIDE-PATH-DEV-COPILOT-ABOVE`,'*',''),' ')+1,\n",
    "                             LENGTH(replace(`GLIDE-PATH-DEV-COPILOT-ABOVE`,'*','')))  \n",
    "                             ELSE NULL END end > 1.00 and \n",
    "                    Cast(`Time-In-Secs` as int)>D.MaxTime Then 'High' else 'Low' end TriggerCondition1,\n",
    "                    \n",
    "                    case when\n",
    "                    case when replace(`GLIDE-PATH-DEV-PILOT-ABOVE`,'*','') like 'FU%' then \n",
    "                    CASE WHEN instr(replace(`GLIDE-PATH-DEV-PILOT-ABOVE`,'*',''),' ')>0 \n",
    "                             THEN SUBSTRING(replace(`GLIDE-PATH-DEV-PILOT-ABOVE`,'*',''),\n",
    "                             instr(replace(`GLIDE-PATH-DEV-PILOT-ABOVE`,'*',''),' ')+1,\n",
    "                             LENGTH(replace(`GLIDE-PATH-DEV-PILOT-ABOVE`,'*',''))) \n",
    "                             ELSE NULL END end > 1.00 and \n",
    "                    Cast(`Time-In-Secs` as int)>D.MaxTime Then 'High' else 'Low' end TriggerCondition2,\n",
    "        \n",
    "                    a.* from Q400Interim a\n",
    "                    inner join D  \n",
    "                    on a.FileName = D.FileName\n",
    "                    where Cast(`Time-In-Secs` as float)>D.MaxTime and`Main-WOW` = 'Air (0)')'''"
   ]
  },
  {
   "cell_type": "code",
   "execution_count": 12,
   "id": "c4497bfa-4bb1-4a09-8d7d-4034040e1356",
   "metadata": {
    "execution": {
     "iopub.execute_input": "2022-08-29T07:37:46.360680Z",
     "iopub.status.busy": "2022-08-29T07:37:46.360376Z",
     "iopub.status.idle": "2022-08-29T07:37:47.150232Z",
     "shell.execute_reply": "2022-08-29T07:37:47.149612Z",
     "shell.execute_reply.started": "2022-08-29T07:37:46.360645Z"
    },
    "tags": []
   },
   "outputs": [
    {
     "data": {
      "application/vnd.jupyter.widget-view+json": {
       "model_id": "1d0a9da00b5c4558bb72a327b9194de4",
       "version_major": 2,
       "version_minor": 0
      },
      "text/plain": [
       "VBox()"
      ]
     },
     "metadata": {},
     "output_type": "display_data"
    },
    {
     "data": {
      "application/vnd.jupyter.widget-view+json": {
       "model_id": "",
       "version_major": 2,
       "version_minor": 0
      },
      "text/plain": [
       "FloatProgress(value=0.0, bar_style='info', description='Progress:', layout=Layout(height='25px', width='50%'),…"
      ]
     },
     "metadata": {},
     "output_type": "display_data"
    }
   ],
   "source": [
    "spark.sql(FourthQuery).createOrReplaceTempView(\"E\")\n",
    "\n",
    "FifthQuery = f'''(select * FROM E WHERE TriggerCondition1 = 'High' OR TriggerCondition2 = 'High' and `Radio-Altitude` < '1200' and Phase = 'Approach' )'''\n",
    "\n",
    "spark.sql(FifthQuery).createOrReplaceTempView(\"F\")\n",
    "\n",
    "Q400SQLDF4 = spark.sql('''SELECT * FROM F''')\n",
    "\n",
    "Q400SQLDF4.createOrReplaceTempView(\"FinalQ400\")"
   ]
  },
  {
   "cell_type": "code",
   "execution_count": 17,
   "id": "e19d519f-501a-4242-994b-baf7fa58b744",
   "metadata": {
    "execution": {
     "iopub.execute_input": "2022-08-29T07:39:50.642683Z",
     "iopub.status.busy": "2022-08-29T07:39:50.642451Z",
     "iopub.status.idle": "2022-08-29T07:39:50.900101Z",
     "shell.execute_reply": "2022-08-29T07:39:50.899463Z",
     "shell.execute_reply.started": "2022-08-29T07:39:50.642659Z"
    },
    "tags": []
   },
   "outputs": [
    {
     "data": {
      "application/vnd.jupyter.widget-view+json": {
       "model_id": "db2d76494ef14246bd8b71963cc9951c",
       "version_major": 2,
       "version_minor": 0
      },
      "text/plain": [
       "VBox()"
      ]
     },
     "metadata": {},
     "output_type": "display_data"
    },
    {
     "data": {
      "application/vnd.jupyter.widget-view+json": {
       "model_id": "",
       "version_major": 2,
       "version_minor": 0
      },
      "text/plain": [
       "FloatProgress(value=0.0, bar_style='info', description='Progress:', layout=Layout(height='25px', width='50%'),…"
      ]
     },
     "metadata": {},
     "output_type": "display_data"
    }
   ],
   "source": [
    "Q400SQLDF5 = spark.sql('''select * from FinalQ400 where dataframename = '128 WPS' and 'GLIDE-PATH-DEV-COPILOT-ABOVE-EX' LIKE '%*%' ''')"
   ]
  },
  {
   "cell_type": "code",
   "execution_count": 18,
   "id": "01d64407-2d3c-4a5f-9558-a4f71e2eeaa0",
   "metadata": {
    "execution": {
     "iopub.execute_input": "2022-08-29T07:40:05.973630Z",
     "iopub.status.busy": "2022-08-29T07:40:05.973375Z",
     "iopub.status.idle": "2022-08-29T07:40:06.744431Z",
     "shell.execute_reply": "2022-08-29T07:40:06.743727Z",
     "shell.execute_reply.started": "2022-08-29T07:40:05.973587Z"
    },
    "tags": []
   },
   "outputs": [
    {
     "data": {
      "application/vnd.jupyter.widget-view+json": {
       "model_id": "95319647394143c3a9b0b25e89fbc802",
       "version_major": 2,
       "version_minor": 0
      },
      "text/plain": [
       "VBox()"
      ]
     },
     "metadata": {},
     "output_type": "display_data"
    },
    {
     "data": {
      "application/vnd.jupyter.widget-view+json": {
       "model_id": "",
       "version_major": 2,
       "version_minor": 0
      },
      "text/plain": [
       "FloatProgress(value=0.0, bar_style='info', description='Progress:', layout=Layout(height='25px', width='50%'),…"
      ]
     },
     "metadata": {},
     "output_type": "display_data"
    },
    {
     "name": "stdout",
     "output_type": "stream",
     "text": [
      "+---------------+------------------------------+-----------------+-------------------------------+-----------------------------+--------------+-----+-----------------+-----------------+--------+-----------------+----------------+----------+--------+------+---------+---+------------+----+------+---------+-------+--------+----+------------+------------+---------------------------+--------------+----------------+--------------+-------------+--------------+--------+--------+-------------------+--------------------+-------------------------+---------------------+-------------------+----------------------+------------+----------------------+-------------+-----------------+-----------------+---------------+---------------+-----------------+-----------------+-----------------+-----------------+------------------+---------------------+----------------------+---------------+---------------+--------------------------+----------------------------+--------------+--------------+-----------------+-----------------+----------+----------+----------------+-----------------+-------------------------+-------------------------+----------------------+--------+----------+--------+-------------+\n",
      "|Time-In-Secs-EX|BARO-CORRECTED-PALT-DERIVED-EX|Radio-Altitude-EX|GLIDE-PATH-DEV-COPILOT-ABOVE-EX|GLIDE-PATH-DEV-PILOT-ABOVE-EX|ExceedanceName|Phase|TriggerCondition1|TriggerCondition2|flightid|desigflightnumber|flightnumberarms|flightdate|fromcity|tocity|blocktime|ecn|employeename|rank|tailno|departure|arrival|flightno|date|time-in-secs|time-per-sec|baro-corrected-palt-derived|altitude-barol|magnetic-heading|pitch-attitude|roll-attitude|radio-altitude|nose-wow|main-wow|normal-acceleration|lateral-acceleration|longitudinal-acceleration|calibrated-airspeed-l|afcs-selected-speed|vertical-speed-derived|ground-speed|flap-control-selection|flap-position|power-lever-pos-l|power-lever-pos-r|torque-tq-eng-l|torque-tq-eng-r|condition-lever-l|condition-lever-r|prop-rpm-np-eng-l|prop-rpm-np-eng-r|gpws-alert/warning|gpws-glideslope-alert|afcs-glideslope-active|afcs-loc-active|afcs-vor-active|glide-path-dev-pilot-above|glide-path-dev-copilot-above|dme-distance-1|dme-distance-2|vor-1-select-freq|vor-2-select-freq|wind-angle|wind-speed|brake-press-left|brake-press-right|thrust-rev-low-beta-eng-l|thrust-rev-low-beta-eng-r|afcs-autopilot-engaged|filename|loadeddate|loadedby|dataframename|\n",
      "+---------------+------------------------------+-----------------+-------------------------------+-----------------------------+--------------+-----+-----------------+-----------------+--------+-----------------+----------------+----------+--------+------+---------+---+------------+----+------+---------+-------+--------+----+------------+------------+---------------------------+--------------+----------------+--------------+-------------+--------------+--------+--------+-------------------+--------------------+-------------------------+---------------------+-------------------+----------------------+------------+----------------------+-------------+-----------------+-----------------+---------------+---------------+-----------------+-----------------+-----------------+-----------------+------------------+---------------------+----------------------+---------------+---------------+--------------------------+----------------------------+--------------+--------------+-----------------+-----------------+----------+----------+----------------+-----------------+-------------------------+-------------------------+----------------------+--------+----------+--------+-------------+\n",
      "+---------------+------------------------------+-----------------+-------------------------------+-----------------------------+--------------+-----+-----------------+-----------------+--------+-----------------+----------------+----------+--------+------+---------+---+------------+----+------+---------+-------+--------+----+------------+------------+---------------------------+--------------+----------------+--------------+-------------+--------------+--------+--------+-------------------+--------------------+-------------------------+---------------------+-------------------+----------------------+------------+----------------------+-------------+-----------------+-----------------+---------------+---------------+-----------------+-----------------+-----------------+-----------------+------------------+---------------------+----------------------+---------------+---------------+--------------------------+----------------------------+--------------+--------------+-----------------+-----------------+----------+----------+----------------+-----------------+-------------------------+-------------------------+----------------------+--------+----------+--------+-------------+"
     ]
    }
   ],
   "source": [
    "Q400SQLDF5.show()"
   ]
  },
  {
   "cell_type": "code",
   "execution_count": 11,
   "id": "4f13bf70-2f13-4a1f-8b27-42c86a8f0530",
   "metadata": {
    "execution": {
     "iopub.execute_input": "2022-08-26T09:22:10.115004Z",
     "iopub.status.busy": "2022-08-26T09:22:10.114769Z",
     "iopub.status.idle": "2022-08-26T09:22:10.375989Z",
     "shell.execute_reply": "2022-08-26T09:22:10.375306Z",
     "shell.execute_reply.started": "2022-08-26T09:22:10.114979Z"
    },
    "tags": []
   },
   "outputs": [
    {
     "data": {
      "application/vnd.jupyter.widget-view+json": {
       "model_id": "6efa138bc5b747e58d54d84f8a28c793",
       "version_major": 2,
       "version_minor": 0
      },
      "text/plain": [
       "VBox()"
      ]
     },
     "metadata": {},
     "output_type": "display_data"
    },
    {
     "data": {
      "application/vnd.jupyter.widget-view+json": {
       "model_id": "",
       "version_major": 2,
       "version_minor": 0
      },
      "text/plain": [
       "FloatProgress(value=0.0, bar_style='info', description='Progress:', layout=Layout(height='25px', width='50%'),…"
      ]
     },
     "metadata": {},
     "output_type": "display_data"
    }
   ],
   "source": []
  },
  {
   "cell_type": "code",
   "execution_count": 14,
   "id": "d654a344-b1ff-4092-8008-45153a133e91",
   "metadata": {
    "execution": {
     "iopub.execute_input": "2022-08-26T09:22:43.831950Z",
     "iopub.status.busy": "2022-08-26T09:22:43.831719Z",
     "iopub.status.idle": "2022-08-26T09:22:47.121369Z",
     "shell.execute_reply": "2022-08-26T09:22:47.120695Z",
     "shell.execute_reply.started": "2022-08-26T09:22:43.831927Z"
    }
   },
   "outputs": [
    {
     "data": {
      "application/vnd.jupyter.widget-view+json": {
       "model_id": "a79c65a0225b48babb2505b782346566",
       "version_major": 2,
       "version_minor": 0
      },
      "text/plain": [
       "VBox()"
      ]
     },
     "metadata": {},
     "output_type": "display_data"
    },
    {
     "data": {
      "application/vnd.jupyter.widget-view+json": {
       "model_id": "",
       "version_major": 2,
       "version_minor": 0
      },
      "text/plain": [
       "FloatProgress(value=0.0, bar_style='info', description='Progress:', layout=Layout(height='25px', width='50%'),…"
      ]
     },
     "metadata": {},
     "output_type": "display_data"
    },
    {
     "name": "stdout",
     "output_type": "stream",
     "text": [
      "+--------+-----------------+----------------+----------+--------+------+---------+------+-------------------------------+-----+------+---------+-------+--------+----------+------------+------------+---------------------------+--------------+----------------+--------------+-------------+--------------+--------+--------+-------------------+--------------------+-------------------------+---------------------+-------------------+----------------------+------------+----------------------+-------------+-----------------+-----------------+---------------+---------------+-----------------+-----------------+-----------------+-----------------+------------------+---------------------+----------------------+---------------+---------------+--------------------------+----------------------------+--------------+--------------+-----------------+-----------------+----------+----------+----------------+-----------------+-------------------------+-------------------------+----------------------+--------------------------------------------------------+-----------------------+------------+-------------+\n",
      "|FlightID|DesigFlightNumber|FlightNumberARMS|FlightDate|FromCity|ToCity|BlockTime|ECN   |EmployeeName                   |RANK |TailNo|Departure|Arrival|FlightNo|Date      |Time-In-Secs|Time-Per-Sec|BARO-CORRECTED-PALT-DERIVED|Altitude-BaroL|Magnetic-Heading|Pitch-Attitude|Roll-Attitude|Radio-Altitude|Nose-WOW|Main-WOW|Normal-Acceleration|Lateral-Acceleration|Longitudinal-Acceleration|Calibrated-Airspeed-L|AFCS-Selected-Speed|Vertical-Speed-Derived|Ground-Speed|Flap-Control-Selection|FLAP-POSITION|Power-Lever-Pos-L|Power-Lever-Pos-R|Torque-TQ-Eng-L|Torque-TQ-Eng-R|Condition-Lever-L|Condition-Lever-R|Prop-RPM-Np-Eng-L|Prop-RPM-Np-Eng-R|GPWS-Alert/Warning|GPWS-Glideslope-Alert|AFCS-Glideslope-Active|AFCS-LOC-Active|AFCS-VOR-Active|GLIDE-PATH-DEV-PILOT-ABOVE|GLIDE-PATH-DEV-COPILOT-ABOVE|DME-DISTANCE-1|DME-DISTANCE-2|VOR-1-SELECT-FREQ|VOR-2-SELECT-FREQ|WIND-ANGLE|WIND-SPEED|BRAKE-PRESS-LEFT|BRAKE-PRESS-RIGHT|Thrust-Rev-Low-Beta-Eng-L|Thrust-Rev-Low-Beta-Eng-R|AFCS-Autopilot-Engaged|FileName                                                |LoadedDate             |LoadedBy    |DataFrameName|\n",
      "+--------+-----------------+----------------+----------+--------+------+---------+------+-------------------------------+-----+------+---------+-------+--------+----------+------------+------------+---------------------------+--------------+----------------+--------------+-------------+--------------+--------+--------+-------------------+--------------------+-------------------------+---------------------+-------------------+----------------------+------------+----------------------+-------------+-----------------+-----------------+---------------+---------------+-----------------+-----------------+-----------------+-----------------+------------------+---------------------+----------------------+---------------+---------------+--------------------------+----------------------------+--------------+--------------+-----------------+-----------------+----------+----------+----------------+-----------------+-------------------------+-------------------------+----------------------+--------------------------------------------------------+-----------------------+------------+-------------+\n",
      "|2802258 |SG 3222          |3222            |2021-12-06|CCU     |PYG   |1:10:00  |127237|KRUBHAKAR  RAJASEKARAN KARIAPPA|CAPT.|VT-SUG|CCU      |PYG    |SG 3222 |2021-12-06|0.0         |52313       |0                          |40            |359.9           |D 0.5         |L 0.1        |4             |Gnd (1) |Gnd (1) |-0.004             |L 0.00              |-0.00                    |0.0                  |0.0                |40                    |0           |0.0                   |0.0          |19.7             |19.7             |0.0            |0.0            |-0.088           |-1.2305          |4095             |0                |No Warn (0)       |No Warn (0)          |Active (1)            |NOT ACT (0)    |NOT ACT (0)    | 0.00                     |0                           |null          |null          |null             |null             |null      |null      |0               |0                |Normal (0)               |Normal (0)               |Engaged (1)           |ALL ac=VT-SUG dep=CCU arr=PYG fn=SG 3222 dt=20211206.csv|2022-08-26 05:46:11.771|precog-spark|128 WPS      |\n",
      "|2802258 |SG 3222          |3222            |2021-12-06|CCU     |PYG   |1:10:00  |127237|KRUBHAKAR  RAJASEKARAN KARIAPPA|CAPT.|VT-SUG|CCU      |PYG    |SG 3222 |2021-12-06|1.0         |null        |0                          |40            |96.9            |D 0.5         |L 0.1        |4             |Gnd (1) |Gnd (1) |0.997              | 0.00               |-0.01                    |0.0                  |0.0                |40                    |0           |null                  |null         |19.7             |19.7             |0.0            |0.0            |-1.4063          |-1.2305          |0                |0                |No Warn (0)       |No Warn (0)          |NOT ACT (0)           |NOT ACT (0)    |NOT ACT (0)    | 0.00                     |0                           |2.125         |2.125         |100              |null             |null      |null      |0               |0                |Normal (0)               |Normal (0)               |NOT EN (0)            |ALL ac=VT-SUG dep=CCU arr=PYG fn=SG 3222 dt=20211206.csv|2022-08-26 05:46:11.771|precog-spark|128 WPS      |\n",
      "|2802258 |SG 3222          |3222            |2021-12-06|CCU     |PYG   |1:10:00  |127237|KRUBHAKAR  RAJASEKARAN KARIAPPA|CAPT.|VT-SUG|CCU      |PYG    |SG 3222 |2021-12-06|2.0         |null        |8                          |40            |96.9            |D 0.5         |L 0.1        |3             |Gnd (1) |Gnd (1) |0.997              | 0.00               |-0.01                    |0.0                  |0.0                |0                     |0           |0.0                   |0.0          |19.7             |19.7             |0.0            |0.0            |-1.2305          |-1.2305          |0                |0                |No Warn (0)       |No Warn (0)          |NOT ACT (0)           |NOT ACT (0)    |NOT ACT (0)    | 0.00                     |0                           |null          |null          |null             |null             |0.0       |0         |0               |0                |Normal (0)               |Normal (0)               |NOT EN (0)            |ALL ac=VT-SUG dep=CCU arr=PYG fn=SG 3222 dt=20211206.csv|2022-08-26 05:46:11.771|precog-spark|128 WPS      |\n",
      "|2802258 |SG 3222          |3222            |2021-12-06|CCU     |PYG   |1:10:00  |127237|KRUBHAKAR  RAJASEKARAN KARIAPPA|CAPT.|VT-SUG|CCU      |PYG    |SG 3222 |2021-12-06|3.0         |null        |8                          |40            |96.9            |D 0.5         |L 0.1        |4             |Gnd (1) |Gnd (1) |0.993              | 0.00               |-0.01                    |0.0                  |0.0                |0                     |0           |null                  |null         |19.7             |19.7             |0.0            |0.0            |-1.3184          |-1.3184          |0                |0                |No Warn (0)       |No Warn (0)          |NOT ACT (0)           |NOT ACT (0)    |NOT ACT (0)    | 0.00                     |0                           |null          |null          |null             |100              |null      |null      |0               |0                |Normal (0)               |Normal (0)               |NOT EN (0)            |ALL ac=VT-SUG dep=CCU arr=PYG fn=SG 3222 dt=20211206.csv|2022-08-26 05:46:11.771|precog-spark|128 WPS      |\n",
      "|2802258 |SG 3222          |3222            |2021-12-06|CCU     |PYG   |1:10:00  |127237|KRUBHAKAR  RAJASEKARAN KARIAPPA|CAPT.|VT-SUG|CCU      |PYG    |SG 3222 |2021-12-06|4.0         |52317       |8                          |40            |96.9            |D 0.5         |L 0.1        |4             |Gnd (1) |Gnd (1) |0.993              | 0.00               |-0.01                    |0.0                  |0.0                |0                     |0           |0.0                   |0.0          |19.7             |19.7             |0.0            |0.0            |-1.2305          |-1.2305          |0                |0                |No Warn (0)       |No Warn (0)          |NOT ACT (0)           |NOT ACT (0)    |NOT ACT (0)    | 0.00                     |0                           |null          |null          |null             |null             |null      |null      |0               |0                |Normal (0)               |Normal (0)               |NOT EN (0)            |ALL ac=VT-SUG dep=CCU arr=PYG fn=SG 3222 dt=20211206.csv|2022-08-26 05:46:11.771|precog-spark|128 WPS      |\n",
      "|2802258 |SG 3222          |3222            |2021-12-06|CCU     |PYG   |1:10:00  |127237|KRUBHAKAR  RAJASEKARAN KARIAPPA|CAPT.|VT-SUG|CCU      |PYG    |SG 3222 |2021-12-06|5.0         |null        |8                          |40            |96.9            |D 0.5         |L 0.1        |3             |Gnd (1) |Gnd (1) |0.993              |L 0.00              |-0.01                    |0.0                  |0.0                |0                     |0           |null                  |null         |19.7             |19.7             |0.0            |0.0            |-1.4063          |-1.2305          |0                |0                |No Warn (0)       |No Warn (0)          |NOT ACT (0)           |NOT ACT (0)    |NOT ACT (0)    | 0.00                     |0                           |2.125         |2.125         |100              |null             |null      |null      |0               |0                |Normal (0)               |Normal (0)               |NOT EN (0)            |ALL ac=VT-SUG dep=CCU arr=PYG fn=SG 3222 dt=20211206.csv|2022-08-26 05:46:11.771|precog-spark|128 WPS      |\n",
      "|2802258 |SG 3222          |3222            |2021-12-06|CCU     |PYG   |1:10:00  |127237|KRUBHAKAR  RAJASEKARAN KARIAPPA|CAPT.|VT-SUG|CCU      |PYG    |SG 3222 |2021-12-06|6.0         |null        |8                          |40            |96.9            |D 0.5         |L 0.1        |4             |Gnd (1) |Gnd (1) |0.997              | 0.00               |-0.01                    |0.0                  |0.0                |0                     |0           |0.0                   |0.0          |19.7             |19.7             |0.0            |0.0            |-1.4063          |-1.2305          |0                |0                |No Warn (0)       |No Warn (0)          |NOT ACT (0)           |NOT ACT (0)    |NOT ACT (0)    | 0.00                     |0                           |null          |null          |null             |null             |0.0       |0         |0               |0                |Normal (0)               |Normal (0)               |NOT EN (0)            |ALL ac=VT-SUG dep=CCU arr=PYG fn=SG 3222 dt=20211206.csv|2022-08-26 05:46:11.771|precog-spark|128 WPS      |\n",
      "|2802258 |SG 3222          |3222            |2021-12-06|CCU     |PYG   |1:10:00  |127237|KRUBHAKAR  RAJASEKARAN KARIAPPA|CAPT.|VT-SUG|CCU      |PYG    |SG 3222 |2021-12-06|7.0         |null        |8                          |40            |96.9            |D 0.5         |L 0.1        |4             |Gnd (1) |Gnd (1) |0.997              | 0.00               |-0.01                    |0.0                  |0.0                |0                     |0           |null                  |null         |19.7             |19.7             |0.0            |0.0            |-1.1426          |-1.2305          |0                |0                |No Warn (0)       |No Warn (0)          |NOT ACT (0)           |NOT ACT (0)    |NOT ACT (0)    | 0.00                     |0                           |null          |null          |null             |100              |null      |null      |0               |0                |Normal (0)               |Normal (0)               |NOT EN (0)            |ALL ac=VT-SUG dep=CCU arr=PYG fn=SG 3222 dt=20211206.csv|2022-08-26 05:46:11.771|precog-spark|128 WPS      |\n",
      "|2802258 |SG 3222          |3222            |2021-12-06|CCU     |PYG   |1:10:00  |127237|KRUBHAKAR  RAJASEKARAN KARIAPPA|CAPT.|VT-SUG|CCU      |PYG    |SG 3222 |2021-12-06|8.0         |52321       |8                          |40            |96.9            |D 0.5         |L 0.1        |4             |Gnd (1) |Gnd (1) |0.997              | 0.00               |-0.01                    |0.0                  |0.0                |0                     |0           |0.0                   |0.0          |19.7             |19.7             |0.0            |0.0            |-1.3184          |-1.3184          |0                |0                |No Warn (0)       |No Warn (0)          |NOT ACT (0)           |NOT ACT (0)    |NOT ACT (0)    | 0.00                     |0                           |null          |null          |null             |null             |null      |null      |0               |0                |Normal (0)               |Normal (0)               |NOT EN (0)            |ALL ac=VT-SUG dep=CCU arr=PYG fn=SG 3222 dt=20211206.csv|2022-08-26 05:46:11.771|precog-spark|128 WPS      |\n",
      "|2802258 |SG 3222          |3222            |2021-12-06|CCU     |PYG   |1:10:00  |127237|KRUBHAKAR  RAJASEKARAN KARIAPPA|CAPT.|VT-SUG|CCU      |PYG    |SG 3222 |2021-12-06|9.0         |null        |8                          |40            |96.9            |D 0.5         |L 0.1        |4             |Gnd (1) |Gnd (1) |0.993              | 0.00               |-0.01                    |0.0                  |0.0                |0                     |0           |null                  |null         |19.7             |19.7             |0.0            |0.0            |-1.1426          |-1.2305          |0                |0                |No Warn (0)       |No Warn (0)          |NOT ACT (0)           |NOT ACT (0)    |NOT ACT (0)    | 0.00                     |0                           |2.125         |2.125         |100              |null             |null      |null      |0               |0                |Normal (0)               |Normal (0)               |NOT EN (0)            |ALL ac=VT-SUG dep=CCU arr=PYG fn=SG 3222 dt=20211206.csv|2022-08-26 05:46:11.771|precog-spark|128 WPS      |\n",
      "|2802258 |SG 3222          |3222            |2021-12-06|CCU     |PYG   |1:10:00  |127237|KRUBHAKAR  RAJASEKARAN KARIAPPA|CAPT.|VT-SUG|CCU      |PYG    |SG 3222 |2021-12-06|10.0        |null        |8                          |40            |96.9            |D 0.5         |L 0.1        |4             |Gnd (1) |Gnd (1) |0.997              |L 0.00              |-0.01                    |0.0                  |0.0                |0                     |0           |0.0                   |0.0          |19.7             |19.7             |0.0            |0.0            |-1.4063          |-1.2305          |0                |0                |No Warn (0)       |No Warn (0)          |NOT ACT (0)           |NOT ACT (0)    |NOT ACT (0)    | 0.00                     |0                           |null          |null          |null             |null             |0.0       |0         |0               |0                |Normal (0)               |Normal (0)               |NOT EN (0)            |ALL ac=VT-SUG dep=CCU arr=PYG fn=SG 3222 dt=20211206.csv|2022-08-26 05:46:11.771|precog-spark|128 WPS      |\n",
      "|2802258 |SG 3222          |3222            |2021-12-06|CCU     |PYG   |1:10:00  |127237|KRUBHAKAR  RAJASEKARAN KARIAPPA|CAPT.|VT-SUG|CCU      |PYG    |SG 3222 |2021-12-06|11.0        |null        |8                          |40            |96.9            |D 0.5         |L 0.1        |5             |Gnd (1) |Gnd (1) |0.997              |L 0.00              |-0.01                    |0.0                  |0.0                |0                     |0           |null                  |null         |19.7             |19.7             |0.0            |0.0            |-1.4063          |-1.3184          |0                |0                |No Warn (0)       |No Warn (0)          |NOT ACT (0)           |NOT ACT (0)    |NOT ACT (0)    | 0.00                     |0                           |null          |null          |null             |100              |null      |null      |0               |0                |Normal (0)               |Normal (0)               |NOT EN (0)            |ALL ac=VT-SUG dep=CCU arr=PYG fn=SG 3222 dt=20211206.csv|2022-08-26 05:46:11.771|precog-spark|128 WPS      |\n",
      "|2802258 |SG 3222          |3222            |2021-12-06|CCU     |PYG   |1:10:00  |127237|KRUBHAKAR  RAJASEKARAN KARIAPPA|CAPT.|VT-SUG|CCU      |PYG    |SG 3222 |2021-12-06|12.0        |52325       |8                          |40            |96.9            |D 0.5         |L 0.1        |5             |Gnd (1) |Gnd (1) |0.997              | 0.00               |-0.01                    |0.0                  |0.0                |0                     |0           |0.0                   |0.0          |19.7             |19.7             |0.0            |0.0            |-1.2305          |-1.2305          |0                |0                |No Warn (0)       |No Warn (0)          |NOT ACT (0)           |NOT ACT (0)    |NOT ACT (0)    | 0.00                     |0                           |null          |null          |null             |null             |null      |null      |0               |0                |Normal (0)               |Normal (0)               |NOT EN (0)            |ALL ac=VT-SUG dep=CCU arr=PYG fn=SG 3222 dt=20211206.csv|2022-08-26 05:46:11.771|precog-spark|128 WPS      |\n",
      "|2802258 |SG 3222          |3222            |2021-12-06|CCU     |PYG   |1:10:00  |127237|KRUBHAKAR  RAJASEKARAN KARIAPPA|CAPT.|VT-SUG|CCU      |PYG    |SG 3222 |2021-12-06|13.0        |null        |8                          |40            |96.9            |D 0.5         |L 0.1        |4             |Gnd (1) |Gnd (1) |0.993              | 0.00               |-0.01                    |0.0                  |0.0                |0                     |0           |null                  |null         |19.7             |19.7             |0.0            |0.0            |-1.4063          |-1.2305          |0                |0                |No Warn (0)       |No Warn (0)          |NOT ACT (0)           |NOT ACT (0)    |NOT ACT (0)    | 0.00                     |0                           |2.125         |2.125         |100              |null             |null      |null      |0               |0                |Normal (0)               |Normal (0)               |NOT EN (0)            |ALL ac=VT-SUG dep=CCU arr=PYG fn=SG 3222 dt=20211206.csv|2022-08-26 05:46:11.771|precog-spark|128 WPS      |\n",
      "|2802258 |SG 3222          |3222            |2021-12-06|CCU     |PYG   |1:10:00  |127237|KRUBHAKAR  RAJASEKARAN KARIAPPA|CAPT.|VT-SUG|CCU      |PYG    |SG 3222 |2021-12-06|14.0        |null        |8                          |40            |96.9            |D 0.5         |L 0.1        |4             |Gnd (1) |Gnd (1) |0.993              |L 0.00              |-0.01                    |0.0                  |0.0                |0                     |0           |0.0                   |0.0          |19.7             |19.7             |0.0            |0.0            |-1.4063          |-1.0547          |0                |0                |No Warn (0)       |No Warn (0)          |NOT ACT (0)           |NOT ACT (0)    |NOT ACT (0)    | 0.00                     |0                           |null          |null          |null             |null             |0.0       |0         |0               |0                |Normal (0)               |Normal (0)               |NOT EN (0)            |ALL ac=VT-SUG dep=CCU arr=PYG fn=SG 3222 dt=20211206.csv|2022-08-26 05:46:11.771|precog-spark|128 WPS      |\n",
      "|2802258 |SG 3222          |3222            |2021-12-06|CCU     |PYG   |1:10:00  |127237|KRUBHAKAR  RAJASEKARAN KARIAPPA|CAPT.|VT-SUG|CCU      |PYG    |SG 3222 |2021-12-06|15.0        |null        |8                          |40            |96.9            |D 0.5         |L 0.1        |4             |Gnd (1) |Gnd (1) |0.997              | 0.00               |-0.01                    |0.0                  |0.0                |0                     |0           |null                  |null         |19.7             |19.7             |0.0            |0.0            |-1.4063          |-1.2305          |0                |0                |No Warn (0)       |No Warn (0)          |NOT ACT (0)           |NOT ACT (0)    |NOT ACT (0)    | 0.00                     |0                           |null          |null          |null             |100              |null      |null      |0               |0                |Normal (0)               |Normal (0)               |NOT EN (0)            |ALL ac=VT-SUG dep=CCU arr=PYG fn=SG 3222 dt=20211206.csv|2022-08-26 05:46:11.771|precog-spark|128 WPS      |\n",
      "|2802258 |SG 3222          |3222            |2021-12-06|CCU     |PYG   |1:10:00  |127237|KRUBHAKAR  RAJASEKARAN KARIAPPA|CAPT.|VT-SUG|CCU      |PYG    |SG 3222 |2021-12-06|16.0        |52329       |8                          |40            |96.9            |D 0.5         |L 0.1        |4             |Gnd (1) |Gnd (1) |0.997              | 0.00               |-0.01                    |0.0                  |0.0                |0                     |0           |0.0                   |0.0          |19.7             |19.7             |0.0            |0.0            |-1.4063          |-1.3184          |0                |0                |No Warn (0)       |No Warn (0)          |NOT ACT (0)           |NOT ACT (0)    |NOT ACT (0)    | 0.00                     |0                           |null          |null          |null             |null             |null      |null      |0               |0                |Normal (0)               |Normal (0)               |NOT EN (0)            |ALL ac=VT-SUG dep=CCU arr=PYG fn=SG 3222 dt=20211206.csv|2022-08-26 05:46:11.771|precog-spark|128 WPS      |\n",
      "|2802258 |SG 3222          |3222            |2021-12-06|CCU     |PYG   |1:10:00  |127237|KRUBHAKAR  RAJASEKARAN KARIAPPA|CAPT.|VT-SUG|CCU      |PYG    |SG 3222 |2021-12-06|17.0        |null        |8                          |40            |96.9            |D 0.5         |L 0.1        |4             |Gnd (1) |Gnd (1) |0.997              | 0.00               |-0.01                    |0.0                  |0.0                |0                     |0           |null                  |null         |19.7             |19.7             |0.0            |0.0            |-1.2305          |-1.2305          |0                |0                |No Warn (0)       |No Warn (0)          |NOT ACT (0)           |NOT ACT (0)    |NOT ACT (0)    | 0.00                     |0                           |2.125         |2.125         |100              |null             |null      |null      |0               |0                |Normal (0)               |Normal (0)               |NOT EN (0)            |ALL ac=VT-SUG dep=CCU arr=PYG fn=SG 3222 dt=20211206.csv|2022-08-26 05:46:11.771|precog-spark|128 WPS      |\n",
      "|2802258 |SG 3222          |3222            |2021-12-06|CCU     |PYG   |1:10:00  |127237|KRUBHAKAR  RAJASEKARAN KARIAPPA|CAPT.|VT-SUG|CCU      |PYG    |SG 3222 |2021-12-06|18.0        |null        |8                          |40            |96.9            |D 0.5         |L 0.1        |4             |Gnd (1) |Gnd (1) |0.997              | 0.00               |-0.01                    |0.0                  |0.0                |0                     |0           |0.0                   |0.0          |19.7             |19.7             |0.0            |0.0            |-1.2305          |-1.2305          |0                |0                |No Warn (0)       |No Warn (0)          |NOT ACT (0)           |NOT ACT (0)    |NOT ACT (0)    | 0.00                     |0                           |null          |null          |null             |null             |0.0       |0         |0               |0                |Normal (0)               |Normal (0)               |NOT EN (0)            |ALL ac=VT-SUG dep=CCU arr=PYG fn=SG 3222 dt=20211206.csv|2022-08-26 05:46:11.771|precog-spark|128 WPS      |\n",
      "|2802258 |SG 3222          |3222            |2021-12-06|CCU     |PYG   |1:10:00  |127237|KRUBHAKAR  RAJASEKARAN KARIAPPA|CAPT.|VT-SUG|CCU      |PYG    |SG 3222 |2021-12-06|19.0        |null        |8                          |40            |96.9            |D 0.5         |L 0.1        |4             |Gnd (1) |Gnd (1) |0.993              | 0.00               |-0.01                    |0.0                  |0.0                |0                     |0           |null                  |null         |19.7             |19.7             |0.0            |0.0            |-1.4063          |-1.2305          |0                |0                |No Warn (0)       |No Warn (0)          |NOT ACT (0)           |NOT ACT (0)    |NOT ACT (0)    | 0.00                     |0                           |null          |null          |null             |100              |null      |null      |0               |0                |Normal (0)               |Normal (0)               |NOT EN (0)            |ALL ac=VT-SUG dep=CCU arr=PYG fn=SG 3222 dt=20211206.csv|2022-08-26 05:46:11.771|precog-spark|128 WPS      |\n",
      "+--------+-----------------+----------------+----------+--------+------+---------+------+-------------------------------+-----+------+---------+-------+--------+----------+------------+------------+---------------------------+--------------+----------------+--------------+-------------+--------------+--------+--------+-------------------+--------------------+-------------------------+---------------------+-------------------+----------------------+------------+----------------------+-------------+-----------------+-----------------+---------------+---------------+-----------------+-----------------+-----------------+-----------------+------------------+---------------------+----------------------+---------------+---------------+--------------------------+----------------------------+--------------+--------------+-----------------+-----------------+----------+----------+----------------+-----------------+-------------------------+-------------------------+----------------------+--------------------------------------------------------+-----------------------+------------+-------------+\n",
      "only showing top 20 rows"
     ]
    }
   ],
   "source": []
  },
  {
   "cell_type": "code",
   "execution_count": 12,
   "id": "25021add-4f58-41d7-86b6-7dd5d4dd5e15",
   "metadata": {
    "execution": {
     "iopub.execute_input": "2022-08-26T09:22:13.868491Z",
     "iopub.status.busy": "2022-08-26T09:22:13.868260Z",
     "iopub.status.idle": "2022-08-26T09:22:14.149050Z",
     "shell.execute_reply": "2022-08-26T09:22:14.148271Z",
     "shell.execute_reply.started": "2022-08-26T09:22:13.868466Z"
    },
    "tags": []
   },
   "outputs": [
    {
     "data": {
      "application/vnd.jupyter.widget-view+json": {
       "model_id": "7a750d48dc5d4b838f75c69827f0b4af",
       "version_major": 2,
       "version_minor": 0
      },
      "text/plain": [
       "VBox()"
      ]
     },
     "metadata": {},
     "output_type": "display_data"
    },
    {
     "data": {
      "application/vnd.jupyter.widget-view+json": {
       "model_id": "",
       "version_major": 2,
       "version_minor": 0
      },
      "text/plain": [
       "FloatProgress(value=0.0, bar_style='info', description='Progress:', layout=Layout(height='25px', width='50%'),…"
      ]
     },
     "metadata": {},
     "output_type": "display_data"
    }
   ],
   "source": [
    "df3.createOrReplaceTempView('DF3')"
   ]
  },
  {
   "cell_type": "code",
   "execution_count": 13,
   "id": "e25f9dda-3d68-41b2-8705-08fbb853f58e",
   "metadata": {
    "execution": {
     "iopub.execute_input": "2022-08-26T09:22:14.755321Z",
     "iopub.status.busy": "2022-08-26T09:22:14.754998Z",
     "iopub.status.idle": "2022-08-26T09:22:20.144340Z",
     "shell.execute_reply": "2022-08-26T09:22:20.111149Z",
     "shell.execute_reply.started": "2022-08-26T09:22:14.755284Z"
    },
    "tags": []
   },
   "outputs": [
    {
     "data": {
      "application/vnd.jupyter.widget-view+json": {
       "model_id": "425e8477bc45477e9f0b962875b8c1d3",
       "version_major": 2,
       "version_minor": 0
      },
      "text/plain": [
       "VBox()"
      ]
     },
     "metadata": {},
     "output_type": "display_data"
    },
    {
     "data": {
      "application/vnd.jupyter.widget-view+json": {
       "model_id": "",
       "version_major": 2,
       "version_minor": 0
      },
      "text/plain": [
       "FloatProgress(value=0.0, bar_style='info', description='Progress:', layout=Layout(height='25px', width='50%'),…"
      ]
     },
     "metadata": {},
     "output_type": "display_data"
    },
    {
     "name": "stdout",
     "output_type": "stream",
     "text": [
      "271"
     ]
    }
   ],
   "source": [
    "df3.select('FileName').distinct().count()"
   ]
  },
  {
   "cell_type": "code",
   "execution_count": 104,
   "id": "2877b556-a9bb-4638-88be-052ef943ab3c",
   "metadata": {
    "execution": {
     "iopub.execute_input": "2022-08-26T07:57:32.489175Z",
     "iopub.status.busy": "2022-08-26T07:57:32.488925Z",
     "iopub.status.idle": "2022-08-26T07:57:42.584415Z",
     "shell.execute_reply": "2022-08-26T07:57:42.580267Z",
     "shell.execute_reply.started": "2022-08-26T07:57:32.489151Z"
    },
    "tags": []
   },
   "outputs": [
    {
     "data": {
      "application/vnd.jupyter.widget-view+json": {
       "model_id": "093643f3e59b4cc28930bd7127e2b370",
       "version_major": 2,
       "version_minor": 0
      },
      "text/plain": [
       "VBox()"
      ]
     },
     "metadata": {},
     "output_type": "display_data"
    },
    {
     "data": {
      "application/vnd.jupyter.widget-view+json": {
       "model_id": "",
       "version_major": 2,
       "version_minor": 0
      },
      "text/plain": [
       "FloatProgress(value=0.0, bar_style='info', description='Progress:', layout=Layout(height='25px', width='50%'),…"
      ]
     },
     "metadata": {},
     "output_type": "display_data"
    },
    {
     "name": "stdout",
     "output_type": "stream",
     "text": [
      "+------------------------------------------------------------+\n",
      "|FileName                                                    |\n",
      "+------------------------------------------------------------+\n",
      "|ALL ac=VT-SUG dep=BOM arr=STV fn=SG 2697 dt=20211230.csv    |\n",
      "|ALL ac=VT-SUJ dep=JSA arr=JAI fn=SG 3759 dt=20211230.csv    |\n",
      "|ALL ac=VT-SUG dep=BOM arr=IXY fn=SG 3327 dt=20211219.csv    |\n",
      "|ALL ac=VT-SUO dep=CCU arr=IXB fn=SG 4027 dt=20211225.csv    |\n",
      "|ALL ac=VT-SUJ dep=GOP arr=DEL fn=SG 2954 dt=20211225.csv    |\n",
      "|ALL ac=VT-SUF dep=STV arr=BOM fn=SEJ2696 dt=20211225.csv    |\n",
      "|ALL ac=VT-SUG dep=BOM arr=IXG fn=SG 3746 dt=20211221.csv    |\n",
      "|ALL ac=VT-SUG dep=DEL arr=DED fn=SG 2033 dt=20211214.csv    |\n",
      "|ALL ac=VT-SUX dep=DED arr=DEL fn=SG 2034 dt=20211231.csv    |\n",
      "|ALL ac=VT-SUQ dep=DEL arr=DED fn=SG 2033 dt=20211224.csv    |\n",
      "|ALL ac=VT-SUQ dep=DED arr=DEL fn=SG 2034 dt=20211223.csv    |\n",
      "|ALL ac=VT-SUQ dep=DEL arr=DHM fn=SG 2345 dt=20211228.csv    |\n",
      "|ALL ac=VT-SUO dep=IXB arr=CCU fn=SG 4028 dt=20211225.csv    |\n",
      "|ALL ac=VT-SUJ dep=VNS arr=DEL fn=SG 3756 dt=20211225.csv    |\n",
      "|ALL ac=VT-SUG dep=GWL arr=BOM fn=SG 3439 dt=20211225.csv    |\n",
      "|ALL ac=VT-SUL dep=GAU arr=CCU fn=SG 4032 dt=20211230.csv    |\n",
      "|ALL ac=VT-SUG dep=DEL arr=JDH fn=SG 2277 dt=20211215.csv    |\n",
      "|ALL ac=VT-SUG dep=PAT arr=GAU fn=SG 3724 dt=20211210.csv    |\n",
      "|ALL ac=VT-SUL dep=CCU arr=GWL fn=SG 3564 dt=20211225.csv    |\n",
      "|ALL ac=VT-SUX dep=SAG arr=HYD fn=SG 4006 dt=20211225 (2).csv|\n",
      "|ALL ac=VT-SUG dep=GAU arr=PAT fn=SG 3723 dt=20211210.csv    |\n",
      "|ALL ac=VT-SUJ dep=AMD arr=JAI fn=SG 2975 dt=20211230.csv    |\n",
      "|ALL ac=VT-SUG dep=IXG arr=BOM fn=SG 3745 dt=20211217.csv    |\n",
      "|ALL ac=VT-SUD dep=AMD arr=JAI fn=SG 2975 dt=20211225.csv    |\n",
      "|ALL ac=VT-SUG dep=DEL arr=KQH fn=SG 2768 dt=20211214.csv    |\n",
      "|ALL ac=VT-SUQ dep=DHM arr=DEL fn=SG 2346 dt=20211228.csv    |\n",
      "|ALL ac=VT-SUO dep=GAU arr=PAT fn=SG 3723 dt=20211230.csv    |\n",
      "|ALL ac=VT-SUG dep=IXB arr=CCU fn=SG 3230 dt=20211203.csv    |\n",
      "|ALL ac=VT-SUX dep=KQH arr=DEL fn=SG 2769 dt=20211231.csv    |\n",
      "|ALL ac=VT-SUG dep=BHU arr=BOM fn=SG 3001 dt=20211218.csv    |\n",
      "|ALL ac=VT-SUF dep=BOM arr=BHU fn=SG 3004 dt=20211225.csv    |\n",
      "|ALL _1_ ac=VT-SUX dep=KQH arr=DEL fn=SG 2769 dt=20211231.csv|\n",
      "|ALL ac=VT-SUG dep=STV arr=BOM fn=SEJ2696 dt=20211231.csv    |\n",
      "|ALL ac=VT-SUG dep=CCU arr=IXB fn=SG 3229 dt=20211201.csv    |\n",
      "|ALL ac=VT-SUF dep=STV arr=BHU fn=SG 3642 dt=20211225.csv    |\n",
      "|ALL ac=VT-SUO dep=PAT arr=GAU fn=SG 3724 dt=20211231.csv    |\n",
      "|ALL ac=VT-SUO dep=ATQ arr=PAT fn=SG 3724 dt=20211231.csv    |\n",
      "|ALL ac=VT-SUX dep=DEL arr=DED fn=SG 2033 dt=20211231.csv    |\n",
      "|ALL ac=VT-SUF dep=BLR arr=IXE fn=SG 3008 dt=20211231.csv    |\n",
      "|ALL ac=VT-SUQ dep=VNS arr=DEL fn=SG 2951 dt=20211227.csv    |\n",
      "|ALL ac=VT-SUH dep=DEL arr=BOM fn=SEJ7401 dt=20211230.csv    |\n",
      "|ALL ac=VT-SUG dep=IXG arr=BOM fn=SG 3745 dt=20211231.csv    |\n",
      "|ALL ac=VT-SUG dep=BOM arr=GWL fn=SG 3440 dt=20211225.csv    |\n",
      "|ALL _1_ ac=VT-SUX dep=DEL arr=DHM fn=SG 3239 dt=20211231.csv|\n",
      "|ALL ac=VT-SUX dep=DEL arr=KQH fn=SG 2768 dt=20211231.csv    |\n",
      "|ALL ac=VT-SUF dep=BLR arr=IXE fn=SG 3008 dt=20211230.csv    |\n",
      "|ALL ac=VT-SUG dep=IXG arr=BOM fn=SG 3745 dt=20211219.csv    |\n",
      "|ALL ac=VT-SUD dep=JAI arr=AMD fn=SG 2948 dt=20211231.csv    |\n",
      "|ALL ac=VT-SUG dep=BOM arr=IXY fn=SG 3323 dt=20211230.csv    |\n",
      "|ALL ac=VT-SUL dep=GWL arr=CCU fn=SG 3565 dt=20211225.csv    |\n",
      "|ALL ac=VT-SUF dep=BOM arr=IXG fn=SG 3746 dt=20211225.csv    |\n",
      "|ALL ac=VT-SUG dep=CCU arr=IXB fn=SG 3229 dt=20211203.csv    |\n",
      "|ALL ac=VT-SUD dep=UDR arr=AMD fn=SG 3019 dt=20211231.csv    |\n",
      "|ALL ac=VT-SUE dep=BLR arr=HYD fn=SEJ7668 dt=20211230.csv    |\n",
      "|ALL ac=VT-SUQ dep=DEL arr=KQH fn=SG 2768 dt=20211229.csv    |\n",
      "|ALL ac=VT-SUQ dep=DED arr=DEL fn=SG 2034 dt=20211225.csv    |\n",
      "|ALL ac=VT-SUG dep=ATQ arr=PAT fn=SG 3724 dt=20211210.csv    |\n",
      "|ALL ac=VT-SUO dep=CCU arr=GAU fn=SG 4031 dt=20211225.csv    |\n",
      "|ALL ac=VT-SUQ dep=DEL arr=RAJ fn=SG 3701 dt=20211226.csv    |\n",
      "|ALL ac=VT-SUQ dep=DEL arr=DHM fn=SG 3239 dt=20211219.csv    |\n",
      "|ALL ac=VT-SUL dep=GAU arr=CCU fn=SG 4032 dt=20211231.csv    |\n",
      "|ALL ac=VT-SUL dep=CCU arr=GAU fn=SG 4031 dt=20211231.csv    |\n",
      "|ALL ac=VT-SUE dep=BOM arr=BLR fn=SEJ7667 dt=20211231.csv    |\n",
      "|ALL ac=VT-SUQ dep=DEL arr=KNU fn=SG 2745 dt=20211223.csv    |\n",
      "|ALL ac=VT-SUQ dep=DEL arr=VNS fn=SG 2745D dt=20211228.csv   |\n",
      "|ALL ac=VT-SUG dep=GOI arr=AMD fn=SG 2978 dt=20211226.csv    |\n",
      "|ALL ac=VT-SUG dep=BOM arr=IXY fn=SG 3323 dt=20211231.csv    |\n",
      "|ALL ac=VT-SUD dep=JAI arr=ATQ fn=SG 3759 dt=20211225.csv    |\n",
      "|ALL ac=VT-SUQ dep=JDH arr=DEL fn=SG 2278 dt=20211219.csv    |\n",
      "|ALL ac=VT-SUJ dep=GOI arr=AMD fn=SG 2978 dt=20211230.csv    |\n",
      "|ALL ac=VT-SUG dep=IXY arr=BOM fn=SG 3328 dt=20211220.csv    |\n",
      "|ALL ac=VT-SUO dep=PAT arr=GAU fn=SG 3724 dt=20211230.csv    |\n",
      "|ALL ac=VT-SUG dep=AMD arr=ATQ fn=SG 3724 dt=20211213.csv    |\n",
      "|ALL ac=VT-SUD dep=GWL arr=AMD fn=SG 3438 dt=20211231.csv    |\n",
      "|ALL ac=VT-SUG dep=CCU arr=PYG fn=SG 3222 dt=20211201.csv    |\n",
      "|ALL ac=VT-SUQ dep=DEL arr=DHM fn=SG 2345 dt=20211223.csv    |\n",
      "|ALL ac=VT-SUX dep=DHM arr=DEL fn=SG 3240 dt=20211231.csv    |\n",
      "|ALL ac=VT-SUG dep=STV arr=BOM fn=SG 2696 dt=20211221.csv    |\n",
      "|ALL ac=VT-SUG dep=PYG arr=CCU fn=SG 3223 dt=20211208.csv    |\n",
      "|ALL ac=VT-SUQ dep=KQH arr=DEL fn=SG 2769 dt=20211225.csv    |\n",
      "|ALL ac=VT-SUG dep=CCU arr=PYG fn=SG 3222 dt=20211206.csv    |\n",
      "|ALL ac=VT-SUE dep=HYD arr=BOM fn=SEJ7669 dt=20211231.csv    |\n",
      "|ALL ac=VT-SUG dep=GAU arr=PAT fn=SG 3723 dt=20211212.csv    |\n",
      "|ALL ac=VT-SUQ dep=KNU arr=DEL fn=SG 2746 dt=20211225.csv    |\n",
      "|ALL ac=VT-SUG dep=BOM arr=STV fn=SG 2697 dt=20211219.csv    |\n",
      "|ALL ac=VT-SUD dep=DHM arr=DEL fn=SG 3240 dt=20211230.csv    |\n",
      "|ALL ac=VT-SUJ dep=JAI arr=DEL fn=SG 2974 dt=20211231.csv    |\n",
      "|ALL ac=VT-SUG dep=BOM arr=STV fn=SG 2697 dt=20211216.csv    |\n",
      "|ALL ac=VT-SUD dep=DEL arr=DHM fn=SG 3239 dt=20211230.csv    |\n",
      "|ALL ac=VT-SUQ dep=DEL arr=DHM fn=SG 2345 dt=20211229.csv    |\n",
      "|ALL ac=VT-SUQ dep=DEL arr=KQH fn=SG 2768 dt=20211224.csv    |\n",
      "|ALL ac=VT-SUD dep=DEL arr=JAI fn=SG 2976 dt=20211230.csv    |\n",
      "|ALL ac=VT-SUG dep=STV arr=BOM fn=SG 2696 dt=20211218.csv    |\n",
      "|ALL ac=VT-SUD dep=AMD arr=UDR fn=SG 3018 dt=20211231.csv    |\n",
      "|ALL ac=VT-SUG dep=RAJ arr=DEL fn=SG 3703 dt=20211223.csv    |\n",
      "|ALL _1_ ac=VT-SUX dep=GOP arr=DEL fn=SG 2954 dt=20211230.csv|\n",
      "|ALL ac=VT-SUG dep=DHM arr=DEL fn=SG 3240 dt=20211224.csv    |\n",
      "|ALL ac=VT-SUG dep=BOM arr=IXG fn=SG 3746 dt=20211219.csv    |\n",
      "|ALL ac=VT-SUO dep=GAU arr=PAT fn=SG 3723 dt=20211231.csv    |\n",
      "|ALL ac=VT-SUG dep=IXS arr=CCU fn=SG 3219 dt=20211208.csv    |\n",
      "+------------------------------------------------------------+\n",
      "only showing top 100 rows"
     ]
    }
   ],
   "source": [
    "spark.sql('''SELECT distinct(FileName) \n",
    "                FROM DF1 WHERE FileName IN (SELECT distinct FileName FROM DF3) ''').show(100,False)"
   ]
  },
  {
   "cell_type": "code",
   "execution_count": 16,
   "id": "f8933440-d3ba-476e-8ace-aacfb9a0c3d5",
   "metadata": {
    "execution": {
     "iopub.execute_input": "2022-08-26T09:24:46.391258Z",
     "iopub.status.busy": "2022-08-26T09:24:46.391030Z",
     "iopub.status.idle": "2022-08-26T09:24:56.379956Z",
     "shell.execute_reply": "2022-08-26T09:24:56.378478Z",
     "shell.execute_reply.started": "2022-08-26T09:24:46.391235Z"
    },
    "tags": []
   },
   "outputs": [
    {
     "data": {
      "application/vnd.jupyter.widget-view+json": {
       "model_id": "b9d03ecc0e9d431787afb8417d6bfeab",
       "version_major": 2,
       "version_minor": 0
      },
      "text/plain": [
       "VBox()"
      ]
     },
     "metadata": {},
     "output_type": "display_data"
    },
    {
     "data": {
      "application/vnd.jupyter.widget-view+json": {
       "model_id": "",
       "version_major": 2,
       "version_minor": 0
      },
      "text/plain": [
       "FloatProgress(value=0.0, bar_style='info', description='Progress:', layout=Layout(height='25px', width='50%'),…"
      ]
     },
     "metadata": {},
     "output_type": "display_data"
    },
    {
     "name": "stdout",
     "output_type": "stream",
     "text": [
      "+------------------------------------------------------------+\n",
      "|FileName                                                    |\n",
      "+------------------------------------------------------------+\n",
      "|ALL ac=VT-SUG dep=BOM arr=IXG fn=SG 3746 dt=20211221.csv    |\n",
      "|ALL ac=VT-SUG dep=DEL arr=DED fn=SG 2033 dt=20211214.csv    |\n",
      "|ALL ac=VT-SUX dep=DED arr=DEL fn=SG 2034 dt=20211231.csv    |\n",
      "|ALL ac=VT-SUQ dep=DEL arr=DED fn=SG 2033 dt=20211224.csv    |\n",
      "|ALL ac=VT-SUQ dep=DED arr=DEL fn=SG 2034 dt=20211223.csv    |\n",
      "|ALL ac=VT-SUF dep=STV arr=BOM fn=SEJ2696 dt=20211225.csv    |\n",
      "|ALL ac=VT-SUG dep=BOM arr=STV fn=SG 2697 dt=20211230.csv    |\n",
      "|ALL ac=VT-SUJ dep=JSA arr=JAI fn=SG 3759 dt=20211230.csv    |\n",
      "|ALL ac=VT-SUG dep=BOM arr=IXY fn=SG 3327 dt=20211219.csv    |\n",
      "|ALL ac=VT-SUO dep=CCU arr=IXB fn=SG 4027 dt=20211225.csv    |\n",
      "|ALL ac=VT-SUJ dep=GOP arr=DEL fn=SG 2954 dt=20211225.csv    |\n",
      "|ALL ac=VT-SUQ dep=DEL arr=DHM fn=SG 2345 dt=20211228.csv    |\n",
      "|ALL ac=VT-SUO dep=IXB arr=CCU fn=SG 4028 dt=20211225.csv    |\n",
      "|ALL ac=VT-SUJ dep=VNS arr=DEL fn=SG 3756 dt=20211225.csv    |\n",
      "|ALL ac=VT-SUG dep=GWL arr=BOM fn=SG 3439 dt=20211225.csv    |\n",
      "|ALL ac=VT-SUL dep=GAU arr=CCU fn=SG 4032 dt=20211230.csv    |\n",
      "|ALL ac=VT-SUG dep=DEL arr=JDH fn=SG 2277 dt=20211215.csv    |\n",
      "|ALL ac=VT-SUG dep=PAT arr=GAU fn=SG 3724 dt=20211210.csv    |\n",
      "|ALL ac=VT-SUL dep=CCU arr=GWL fn=SG 3564 dt=20211225.csv    |\n",
      "|ALL ac=VT-SUX dep=SAG arr=HYD fn=SG 4006 dt=20211225 (2).csv|\n",
      "|ALL ac=VT-SUG dep=GAU arr=PAT fn=SG 3723 dt=20211210.csv    |\n",
      "|ALL ac=VT-SUJ dep=AMD arr=JAI fn=SG 2975 dt=20211230.csv    |\n",
      "|ALL ac=VT-SUG dep=IXG arr=BOM fn=SG 3745 dt=20211217.csv    |\n",
      "|ALL ac=VT-SUD dep=AMD arr=JAI fn=SG 2975 dt=20211225.csv    |\n",
      "|ALL ac=VT-SUF dep=BOM arr=BHU fn=SG 3004 dt=20211225.csv    |\n",
      "|ALL ac=VT-SUG dep=DEL arr=KQH fn=SG 2768 dt=20211214.csv    |\n",
      "|ALL ac=VT-SUQ dep=DHM arr=DEL fn=SG 2346 dt=20211228.csv    |\n",
      "|ALL ac=VT-SUO dep=GAU arr=PAT fn=SG 3723 dt=20211230.csv    |\n",
      "|ALL ac=VT-SUG dep=IXB arr=CCU fn=SG 3230 dt=20211203.csv    |\n",
      "|ALL ac=VT-SUX dep=KQH arr=DEL fn=SG 2769 dt=20211231.csv    |\n",
      "|ALL ac=VT-SUG dep=BHU arr=BOM fn=SG 3001 dt=20211218.csv    |\n",
      "|ALL _1_ ac=VT-SUX dep=KQH arr=DEL fn=SG 2769 dt=20211231.csv|\n",
      "|ALL ac=VT-SUG dep=STV arr=BOM fn=SEJ2696 dt=20211231.csv    |\n",
      "|ALL ac=VT-SUG dep=CCU arr=IXB fn=SG 3229 dt=20211201.csv    |\n",
      "|ALL ac=VT-SUF dep=STV arr=BHU fn=SG 3642 dt=20211225.csv    |\n",
      "|ALL ac=VT-SUO dep=PAT arr=GAU fn=SG 3724 dt=20211231.csv    |\n",
      "|ALL ac=VT-SUO dep=ATQ arr=PAT fn=SG 3724 dt=20211231.csv    |\n",
      "|ALL ac=VT-SUX dep=DEL arr=DED fn=SG 2033 dt=20211231.csv    |\n",
      "|ALL ac=VT-SUG dep=BOM arr=GWL fn=SG 3440 dt=20211225.csv    |\n",
      "|ALL _1_ ac=VT-SUX dep=DEL arr=DHM fn=SG 3239 dt=20211231.csv|\n",
      "|ALL ac=VT-SUX dep=DEL arr=KQH fn=SG 2768 dt=20211231.csv    |\n",
      "|ALL ac=VT-SUF dep=BLR arr=IXE fn=SG 3008 dt=20211230.csv    |\n",
      "|ALL ac=VT-SUG dep=IXG arr=BOM fn=SG 3745 dt=20211219.csv    |\n",
      "|ALL ac=VT-SUF dep=BLR arr=IXE fn=SG 3008 dt=20211231.csv    |\n",
      "|ALL ac=VT-SUQ dep=VNS arr=DEL fn=SG 2951 dt=20211227.csv    |\n",
      "|ALL ac=VT-SUH dep=DEL arr=BOM fn=SEJ7401 dt=20211230.csv    |\n",
      "|ALL ac=VT-SUG dep=IXG arr=BOM fn=SG 3745 dt=20211231.csv    |\n",
      "|ALL ac=VT-SUG dep=CCU arr=IXB fn=SG 3229 dt=20211203.csv    |\n",
      "|ALL ac=VT-SUD dep=UDR arr=AMD fn=SG 3019 dt=20211231.csv    |\n",
      "|ALL ac=VT-SUE dep=BLR arr=HYD fn=SEJ7668 dt=20211230.csv    |\n",
      "|ALL ac=VT-SUQ dep=DEL arr=KQH fn=SG 2768 dt=20211229.csv    |\n",
      "|ALL ac=VT-SUQ dep=DED arr=DEL fn=SG 2034 dt=20211225.csv    |\n",
      "|ALL ac=VT-SUG dep=ATQ arr=PAT fn=SG 3724 dt=20211210.csv    |\n",
      "|ALL ac=VT-SUO dep=CCU arr=GAU fn=SG 4031 dt=20211225.csv    |\n",
      "|ALL ac=VT-SUD dep=JAI arr=AMD fn=SG 2948 dt=20211231.csv    |\n",
      "|ALL ac=VT-SUG dep=BOM arr=IXY fn=SG 3323 dt=20211230.csv    |\n",
      "|ALL ac=VT-SUL dep=GWL arr=CCU fn=SG 3565 dt=20211225.csv    |\n",
      "|ALL ac=VT-SUF dep=BOM arr=IXG fn=SG 3746 dt=20211225.csv    |\n",
      "|ALL ac=VT-SUQ dep=DEL arr=VNS fn=SG 2745D dt=20211228.csv   |\n",
      "|ALL ac=VT-SUG dep=GOI arr=AMD fn=SG 2978 dt=20211226.csv    |\n",
      "|ALL ac=VT-SUG dep=BOM arr=IXY fn=SG 3323 dt=20211231.csv    |\n",
      "|ALL ac=VT-SUQ dep=DEL arr=RAJ fn=SG 3701 dt=20211226.csv    |\n",
      "|ALL ac=VT-SUQ dep=DEL arr=DHM fn=SG 3239 dt=20211219.csv    |\n",
      "|ALL ac=VT-SUL dep=GAU arr=CCU fn=SG 4032 dt=20211231.csv    |\n",
      "|ALL ac=VT-SUL dep=CCU arr=GAU fn=SG 4031 dt=20211231.csv    |\n",
      "|ALL ac=VT-SUE dep=BOM arr=BLR fn=SEJ7667 dt=20211231.csv    |\n",
      "|ALL ac=VT-SUQ dep=DEL arr=KNU fn=SG 2745 dt=20211223.csv    |\n",
      "|ALL ac=VT-SUD dep=JAI arr=ATQ fn=SG 3759 dt=20211225.csv    |\n",
      "|ALL ac=VT-SUQ dep=JDH arr=DEL fn=SG 2278 dt=20211219.csv    |\n",
      "|ALL ac=VT-SUJ dep=GOI arr=AMD fn=SG 2978 dt=20211230.csv    |\n",
      "|ALL ac=VT-SUG dep=IXY arr=BOM fn=SG 3328 dt=20211220.csv    |\n",
      "|ALL ac=VT-SUO dep=PAT arr=GAU fn=SG 3724 dt=20211230.csv    |\n",
      "|ALL ac=VT-SUG dep=AMD arr=ATQ fn=SG 3724 dt=20211213.csv    |\n",
      "|ALL ac=VT-SUD dep=GWL arr=AMD fn=SG 3438 dt=20211231.csv    |\n",
      "|ALL ac=VT-SUG dep=CCU arr=PYG fn=SG 3222 dt=20211201.csv    |\n",
      "|ALL ac=VT-SUQ dep=DEL arr=DHM fn=SG 2345 dt=20211223.csv    |\n",
      "|ALL ac=VT-SUX dep=DHM arr=DEL fn=SG 3240 dt=20211231.csv    |\n",
      "|ALL ac=VT-SUG dep=STV arr=BOM fn=SG 2696 dt=20211221.csv    |\n",
      "|ALL ac=VT-SUG dep=PYG arr=CCU fn=SG 3223 dt=20211208.csv    |\n",
      "|ALL ac=VT-SUD dep=DHM arr=DEL fn=SG 3240 dt=20211230.csv    |\n",
      "|ALL ac=VT-SUJ dep=JAI arr=DEL fn=SG 2974 dt=20211231.csv    |\n",
      "|ALL ac=VT-SUG dep=BOM arr=STV fn=SG 2697 dt=20211216.csv    |\n",
      "|ALL ac=VT-SUD dep=DEL arr=DHM fn=SG 3239 dt=20211230.csv    |\n",
      "|ALL ac=VT-SUQ dep=DEL arr=DHM fn=SG 2345 dt=20211229.csv    |\n",
      "|ALL ac=VT-SUQ dep=KQH arr=DEL fn=SG 2769 dt=20211225.csv    |\n",
      "|ALL ac=VT-SUG dep=CCU arr=PYG fn=SG 3222 dt=20211206.csv    |\n",
      "|ALL ac=VT-SUE dep=HYD arr=BOM fn=SEJ7669 dt=20211231.csv    |\n",
      "|ALL ac=VT-SUG dep=GAU arr=PAT fn=SG 3723 dt=20211212.csv    |\n",
      "|ALL ac=VT-SUQ dep=KNU arr=DEL fn=SG 2746 dt=20211225.csv    |\n",
      "|ALL ac=VT-SUG dep=BOM arr=STV fn=SG 2697 dt=20211219.csv    |\n",
      "|ALL ac=VT-SUG dep=RAJ arr=DEL fn=SG 3703 dt=20211223.csv    |\n",
      "|ALL _1_ ac=VT-SUX dep=GOP arr=DEL fn=SG 2954 dt=20211230.csv|\n",
      "|ALL ac=VT-SUG dep=DHM arr=DEL fn=SG 3240 dt=20211224.csv    |\n",
      "|ALL ac=VT-SUG dep=BOM arr=IXG fn=SG 3746 dt=20211219.csv    |\n",
      "|ALL ac=VT-SUO dep=GAU arr=PAT fn=SG 3723 dt=20211231.csv    |\n",
      "|ALL ac=VT-SUG dep=IXS arr=CCU fn=SG 3219 dt=20211208.csv    |\n",
      "|ALL ac=VT-SUQ dep=DEL arr=KQH fn=SG 2768 dt=20211224.csv    |\n",
      "|ALL ac=VT-SUD dep=DEL arr=JAI fn=SG 2976 dt=20211230.csv    |\n",
      "|ALL ac=VT-SUG dep=STV arr=BOM fn=SG 2696 dt=20211218.csv    |\n",
      "|ALL ac=VT-SUD dep=AMD arr=UDR fn=SG 3018 dt=20211231.csv    |\n",
      "|ALL ac=VT-SUG dep=AMD arr=JAI fn=SG 2975 dt=20211226.csv    |\n",
      "|ALL ac=VT-SUG dep=CCU arr=IXS fn=SG 3218 dt=20211203.csv    |\n",
      "|ALL ac=VT-SUF dep=GWL arr=BLR fn=SG 3326 dt=20211231.csv    |\n",
      "|ALL ac=VT-SUQ dep=DEL arr=KQH fn=SG 2768 dt=20211225.csv    |\n",
      "|ALL ac=VT-SUQ dep=DED arr=DEL fn=SG 2034 dt=20211226.csv    |\n",
      "|ALL ac=VT-SUJ dep=DEL arr=VNS fn=SG 3741 dt=20211225.csv    |\n",
      "|ALL ac=VT-SUG dep=BOM arr=STV fn=SG 2697 dt=20211231.csv    |\n",
      "|ALL ac=VT-SUJ dep=ATQ arr=JAI fn=SG 3764 dt=20211230.csv    |\n",
      "|ALL ac=VT-SUO dep=CCU arr=GAU fn=SEJ4025 dt=20211225.csv    |\n",
      "|ALL ac=VT-SUF dep=BHU arr=STV fn=SG 3641 dt=20211225.csv    |\n",
      "|ALL ac=VT-SUD dep=ATQ arr=JAI fn=SG 3764 dt=20211225.csv    |\n",
      "|ALL ac=VT-SUQ dep=VNS arr=DEL fn=SG 2951 dt=20211228.csv    |\n",
      "|ALL ac=VT-SUL dep=IXB arr=CCU fn=SG 4028 dt=20211231.csv    |\n",
      "|ALL ac=VT-SUO dep=PAT arr=ATQ fn=SG 3723 dt=20211231.csv    |\n",
      "|ALL ac=VT-SUG dep=JDH arr=DEL fn=SG 2278 dt=20211215.csv    |\n",
      "|ALL ac=VT-SUQ dep=DEL arr=DED fn=SG 2033 dt=20211229.csv    |\n",
      "|ALL ac=VT-SUG dep=CCU arr=IXB fn=SG 3229 dt=20211209.csv    |\n",
      "|ALL ac=VT-SUJ dep=DEL arr=GOP fn=SG 2953 dt=20211225.csv    |\n",
      "|ALL ac=VT-SUQ dep=KNU arr=DEL fn=SG 2746 dt=20211223.csv    |\n",
      "|ALL ac=VT-SUF dep=IXE arr=BLR fn=SG 4010 dt=20211230.csv    |\n",
      "|ALL ac=VT-SUD dep=JAI arr=DEL fn=SG 2974 dt=20211230.csv    |\n",
      "|ALL ac=VT-SUG dep=UDR arr=JAI fn=SG 2974 dt=20211214.csv    |\n",
      "|ALL ac=VT-SUQ dep=DHM arr=DEL fn=SG 2346 dt=20211225.csv    |\n",
      "|ALL ac=VT-SUO dep=PAT arr=ATQ fn=SG 3723 dt=20211230.csv    |\n",
      "|ALL ac=VT-SUJ dep=JAI arr=UDR fn=SEJ2973 dt=20211231.csv    |\n",
      "|ALL ac=VT-SUQ dep=DHM arr=DEL fn=SG 3240 dt=20211219.csv    |\n",
      "|ALL ac=VT-SUG dep=IXG arr=BOM fn=SG 3745 dt=20211220.csv    |\n",
      "|ALL ac=VT-SUG dep=IXY arr=BOM fn=SG 3324 dt=20211231.csv    |\n",
      "|ALL ac=VT-SUG dep=PYG arr=CCU fn=SG 3223 dt=20211207.csv    |\n",
      "|ALL ac=VT-SUG dep=IXY arr=BOM fn=SG 3324 dt=20211221.csv    |\n",
      "|ALL ac=VT-SUB dep=BOM arr=BLR fn=SEJ7667 dt=20211225.csv    |\n",
      "|ALL ac=VT-SUD dep=JSA arr=JAI fn=SG 3759 dt=20211225.csv    |\n",
      "|ALL ac=VT-SUJ dep=JAI arr=UDR fn=SEJ2973 dt=20211225.csv    |\n",
      "|ALL ac=VT-SUG dep=IXS arr=CCU fn=SG 3219 dt=20211202.csv    |\n",
      "|ALL ac=VT-SUQ dep=DEL arr=RAJ fn=SG 3701 dt=20211222.csv    |\n",
      "|ALL ac=VT-SUQ dep=DEL arr=KNU fn=SG 2745 dt=20211225.csv    |\n",
      "|ALL ac=VT-SUG dep=IXY arr=BOM fn=SG 3324 dt=20211220.csv    |\n",
      "|ALL ac=VT-SUX dep=HYD arr=SAG fn=SG 4003 dt=20211225 (2).csv|\n",
      "|ALL ac=VT-SUX dep=HYD arr=SAG fn=SG 4003 dt=20211225.csv    |\n",
      "|ALL ac=VT-SUF dep=BHU arr=BOM fn=SG 3001 dt=20211225.csv    |\n",
      "|ALL ac=VT-SUQ dep=KQH arr=DEL fn=SG 2769 dt=20211229.csv    |\n",
      "|ALL ac=VT-SUG dep=BOM arr=IXY fn=SG 3327 dt=20211231.csv    |\n",
      "|ALL ac=VT-SUG dep=GWL arr=BOM fn=SG 3439 dt=20211216.csv    |\n",
      "|ALL ac=VT-SUG dep=UDR arr=AMD fn=SG 3019 dt=20211225.csv    |\n",
      "|ALL ac=VT-SUQ dep=DED arr=DEL fn=SG 2034 dt=20211224.csv    |\n",
      "|ALL ac=VT-SUL dep=CCU arr=GAU fn=SEJ4025 dt=20211231.csv    |\n",
      "|ALL ac=VT-SUQ dep=DEL arr=VNS fn=SG 2950 dt=20211227.csv    |\n",
      "|ALL ac=VT-SUQ dep=DEL arr=VNS fn=SG 3741 dt=20211220.csv    |\n",
      "|ALL ac=VT-SUD dep=AMD arr=GWL fn=SG 3435 dt=20211231.csv    |\n",
      "|ALL ac=VT-SUG dep=IXG arr=BOM fn=SG 3745 dt=20211216.csv    |\n",
      "|ALL ac=VT-SUQ dep=IXE arr=BLR fn=SG 4010 dt=20211218.csv    |\n",
      "|ALL ac=VT-SUG dep=JAI arr=AMD fn=SG 2948 dt=20211225.csv    |\n",
      "|ALL ac=VT-SUH dep=BOM arr=DEL fn=SG 7402 dt=20211225.csv    |\n",
      "|ALL ac=VT-SUQ dep=VNS arr=DEL fn=SG 2745A dt=20211228.csv   |\n",
      "|ALL ac=VT-SUG dep=JAI arr=DEL fn=SG 2974 dt=20211222.csv    |\n",
      "|ALL ac=VT-SUL dep=GAU arr=CCU fn=SG 4026 dt=20211231.csv    |\n",
      "|ALL ac=VT-SUL dep=GAU arr=CCU fn=SG 4026 dt=20211230.csv    |\n",
      "|ALL ac=VT-SUG dep=BOM arr=IXG fn=SG 3746 dt=20211231.csv    |\n",
      "|ALL ac=VT-SUG dep=IXY arr=BOM fn=SG 3324 dt=20211230.csv    |\n",
      "|ALL ac=VT-SUX dep=DEL arr=GOP fn=SG 2953 dt=20211230.csv    |\n",
      "|ALL ac=VT-SUG dep=IXG arr=BOM fn=SG 3745 dt=20211230.csv    |\n",
      "|ALL ac=VT-SUQ dep=VNS arr=DEL fn=SG 2951 dt=20211222.csv    |\n",
      "|ALL ac=VT-SUG dep=PYG arr=CCU fn=SG 3223 dt=20211201.csv    |\n",
      "|ALL ac=VT-SUL dep=CCU arr=GAU fn=SG 4031 dt=20211230.csv    |\n",
      "|ALL ac=VT-SUJ dep=DEL arr=KNU fn=SG 2745 dt=20211231.csv    |\n",
      "|ALL ac=VT-SUG dep=PYG arr=CCU fn=SG 3223 dt=20211202.csv    |\n",
      "|ALL ac=VT-SUG dep=BOM arr=IXY fn=SG 3327 dt=20211220.csv    |\n",
      "|ALL ac=VT-SUH dep=DEL arr=BOM fn=SEJ7401 dt=20211231.csv    |\n",
      "|ALL ac=VT-SUG dep=PAT arr=GAU fn=SG 3724 dt=20211212.csv    |\n",
      "|ALL ac=VT-SUL dep=IXB arr=CCU fn=SG 4028 dt=20211230.csv    |\n",
      "|ALL ac=VT-SUQ dep=DEL arr=KQH fn=SG 2768 dt=20211226.csv    |\n",
      "|ALL ac=VT-SUG dep=CCU arr=PYG fn=SG 3222 dt=20211202.csv    |\n",
      "|ALL ac=VT-SUQ dep=DED arr=DEL fn=SG 2034 dt=20211227.csv    |\n",
      "|ALL ac=VT-SUG dep=BHU arr=STV fn=SG 3641 dt=20211230.csv    |\n",
      "|ALL ac=VT-SUF dep=IXG arr=BOM fn=SG 3745 dt=20211225.csv    |\n",
      "|ALL ac=VT-SUQ dep=DEL arr=DHM fn=SG 3239 dt=20211221.csv    |\n",
      "|ALL ac=VT-SUF dep=IXE arr=BLR fn=SG 4010 dt=20211231.csv    |\n",
      "|ALL ac=VT-SUG dep=AMD arr=GWL fn=SG 3435 dt=20211225.csv    |\n",
      "|ALL ac=VT-SUG dep=JAI arr=ATQ fn=SG 3759 dt=20211226.csv    |\n",
      "|ALL ac=VT-SUO dep=GAU arr=CCU fn=SG 4026 dt=20211225.csv    |\n",
      "|ALL ac=VT-SUJ dep=UDR arr=JAI fn=SEJ2974 dt=20211225.csv    |\n",
      "|ALL ac=VT-SUO dep=ATQ arr=PAT fn=SG 3724 dt=20211230.csv    |\n",
      "|ALL ac=VT-SUF dep=BLR arr=GWL fn=SG 3325 dt=20211231.csv    |\n",
      "|ALL ac=VT-SUG dep=CCU arr=IXS fn=SG 3218 dt=20211205.csv    |\n",
      "|ALL ac=VT-SUD dep=JAI arr=JSA fn=SG 2975 dt=20211225.csv    |\n",
      "|ALL ac=VT-SUX dep=GOP arr=DEL fn=SG 2954 dt=20211230.csv    |\n",
      "|ALL ac=VT-SUG dep=ATQ arr=PAT fn=SG 3724 dt=20211211.csv    |\n",
      "|ALL _1_ ac=VT-SUX dep=DEL arr=DED fn=SG 2033 dt=20211231.csv|\n",
      "|ALL ac=VT-SUG dep=IXY arr=BOM fn=SG 3324 dt=20211219.csv    |\n",
      "|ALL ac=VT-SUG dep=STV arr=BOM fn=SG 2696 dt=20211219.csv    |\n",
      "|ALL ac=VT-SUG dep=ATQ arr=JAI fn=SG 3764 dt=20211213.csv    |\n",
      "|ALL ac=VT-SUQ dep=DEL arr=VNS fn=SG 2950 dt=20211228.csv    |\n",
      "|ALL ac=VT-SUG dep=CCU arr=GAU fn=SG 4031 dt=20211209.csv    |\n",
      "|ALL ac=VT-SUH dep=DEL arr=BOM fn=SEJ7401 dt=20211225.csv    |\n",
      "|ALL ac=VT-SUQ dep=BLR arr=IXE fn=SG 4009 dt=20211218.csv    |\n",
      "|ALL ac=VT-SUG dep=BOM arr=IXY fn=SG 3323 dt=20211219.csv    |\n",
      "|ALL ac=VT-SUG dep=AMD arr=UDR fn=SG 3018 dt=20211225.csv    |\n",
      "|ALL ac=VT-SUG dep=IXS arr=CCU fn=SG 3219 dt=20211201.csv    |\n",
      "|ALL ac=VT-SUE dep=BLR arr=HYD fn=SEJ7668 dt=20211231.csv    |\n",
      "|ALL ac=VT-SUQ dep=KQH arr=DEL fn=SG 2769 dt=20211226.csv    |\n",
      "|ALL ac=VT-SUQ dep=KNU arr=DEL fn=SG 2746 dt=20211229.csv    |\n",
      "|ALL ac=VT-SUG dep=STV arr=BHU fn=SG 3642 dt=20211230.csv    |\n",
      "|ALL ac=VT-SUQ dep=DHM arr=DEL fn=SG 2346 dt=20211229.csv    |\n",
      "|ALL ac=VT-SUG dep=PYG arr=CCU fn=SG 3223 dt=20211203.csv    |\n",
      "|ALL ac=VT-SUG dep=BHU arr=BOM fn=SG 3001 dt=20211230.csv    |\n",
      "|ALL ac=VT-SUJ dep=KNU arr=DEL fn=SG 2746 dt=20211231.csv    |\n",
      "|ALL ac=VT-SUJ dep=JAI arr=ATQ fn=SG 3759 dt=20211230.csv    |\n",
      "|ALL ac=VT-SUG dep=IXG arr=BOM fn=SG 3745 dt=20211221.csv    |\n",
      "|ALL ac=VT-SUB dep=BLR arr=HYD fn=SEJ7668 dt=20211225.csv    |\n",
      "|ALL ac=VT-SUL dep=CCU arr=IXB fn=SG 4027 dt=20211230.csv    |\n",
      "|ALL ac=VT-SUQ dep=DED arr=DEL fn=SG 2034 dt=20211229.csv    |\n",
      "|ALL ac=VT-SUG dep=BOM arr=IXY fn=SG 3327 dt=20211217.csv    |\n",
      "|ALL ac=VT-SUG dep=BOM arr=IXG fn=SG 3746 dt=20211230.csv    |\n",
      "|ALL ac=VT-SUG dep=IXB arr=CCU fn=SG 3230 dt=20211204.csv    |\n",
      "|ALL ac=VT-SUQ dep=KQH arr=DEL fn=SG 2769 dt=20211224.csv    |\n",
      "|ALL ac=VT-SUF dep=BLR arr=IXE fn=SEJ4009 dt=20211231.csv    |\n",
      "|ALL ac=VT-SUG dep=IXS arr=CCU fn=SG 3219 dt=20211209.csv    |\n",
      "|ALL ac=VT-SUG dep=IXY arr=BOM fn=SG 3324 dt=20211216.csv    |\n",
      "|ALL _1_ ac=VT-SUX dep=DEL arr=KQH fn=SG 2768 dt=20211231.csv|\n",
      "|ALL ac=VT-SUL dep=IXJ arr=GWL fn=SG 3225 dt=20211225.csv    |\n",
      "|ALL ac=VT-SUJ dep=DEL arr=JAI fn=SG 2976 dt=20211231.csv    |\n",
      "|ALL ac=VT-SUG dep=IXS arr=CCU fn=SG 3219 dt=20211207.csv    |\n",
      "|ALL ac=VT-SUH dep=BOM arr=DEL fn=SEJ7402 dt=20211231.csv    |\n",
      "|ALL ac=VT-SUQ dep=DEL arr=RAJ fn=SG 3701 dt=20211227.csv    |\n",
      "|ALL ac=VT-SUJ dep=UDR arr=JAI fn=SEJ2974 dt=20211231.csv    |\n",
      "|ALL ac=VT-SUG dep=IXY arr=BOM fn=SG 3328 dt=20211231.csv    |\n",
      "|ALL ac=VT-SUG dep=JAI arr=UDR fn=SG 2973 dt=20211222.csv    |\n",
      "|ALL ac=VT-SUQ dep=DEL arr=DED fn=SG 2033 dt=20211226.csv    |\n",
      "|ALL ac=VT-SUG dep=IXB arr=CCU fn=SG 3230 dt=20211201.csv    |\n",
      "|ALL ac=VT-SUF dep=IXE arr=BLR fn=SG 3009 dt=20211231.csv    |\n",
      "|ALL ac=VT-SUQ dep=DEL arr=DED fn=SG 2033 dt=20211227.csv    |\n",
      "|ALL ac=VT-SUG dep=GAU arr=PAT fn=SG 3723 dt=20211213.csv    |\n",
      "|ALL ac=VT-SUQ dep=DEL arr=DED fn=SG 2033 dt=20211225.csv    |\n",
      "|ALL ac=VT-SUJ dep=JAI arr=DEL fn=SG 2974 dt=20211225.csv    |\n",
      "|ALL _1_ ac=VT-SUX dep=DHM arr=DEL fn=SG 3240 dt=20211231.csv|\n",
      "|ALL ac=VT-SUG dep=DHM arr=DEL fn=SG 3240 dt=20211215.csv    |\n",
      "|ALL ac=VT-SUG dep=DED arr=DEL fn=SG 2034 dt=20211214.csv    |\n",
      "|ALL ac=VT-SUG dep=BOM arr=BHU fn=SG 3004 dt=20211230.csv    |\n",
      "|ALL ac=VT-SUG dep=BOM arr=STV fn=SG 2697 dt=20211218.csv    |\n",
      "|ALL ac=VT-SUF dep=GWL arr=BLR fn=SG 3326 dt=20211230.csv    |\n",
      "|ALL ac=VT-SUG dep=ATQ arr=AMD fn=SG 3723 dt=20211210.csv    |\n",
      "|ALL ac=VT-SUQ dep=RAJ arr=DEL fn=SG 3703 dt=20211227.csv    |\n",
      "|ALL ac=VT-SUQ dep=GWL arr=DEL fn=SG 9777 dt=20211218.csv    |\n",
      "|ALL ac=VT-SUG dep=DEL arr=DHM fn=SG 3239 dt=20211215.csv    |\n",
      "|ALL ac=VT-SUL dep=GWL arr=IXJ fn=SG 3224 dt=20211225.csv    |\n",
      "|ALL ac=VT-SUG dep=STV arr=BOM fn=SG 2696 dt=20211220.csv    |\n",
      "|ALL ac=VT-SUF dep=IXE arr=BLR fn=SG 3009 dt=20211230.csv    |\n",
      "|ALL ac=VT-SUB dep=BOM arr=DEL fn=SG 7182 dt=20211230.csv    |\n",
      "|ALL ac=VT-SUJ dep=JAI arr=JSA fn=SG 2975 dt=20211230.csv    |\n",
      "|ALL ac=VT-SUG dep=STV arr=BOM fn=SG 2696 dt=20211217.csv    |\n",
      "|ALL ac=VT-SUQ dep=BLR arr=GWL fn=SG 3325 dt=20211218.csv    |\n",
      "|ALL _1_ ac=VT-SUX dep=DEL arr=GOP fn=SG 2953 dt=20211230.csv|\n",
      "|ALL ac=VT-SUX dep=SAG arr=HYD fn=SG 4006 dt=20211225.csv    |\n",
      "|ALL ac=VT-SUQ dep=DEL arr=KNU fn=SG 2745 dt=20211229.csv    |\n",
      "|ALL ac=VT-SUG dep=IXY arr=BOM fn=SG 3324 dt=20211217.csv    |\n",
      "|ALL ac=VT-SUG dep=IXS arr=CCU fn=SG 3219 dt=20211203.csv    |\n",
      "|ALL ac=VT-SUQ dep=RAJ arr=DEL fn=SG 3703 dt=20211226.csv    |\n",
      "|ALL ac=VT-SUX dep=DEL arr=DHM fn=SG 3239 dt=20211231.csv    |\n",
      "|ALL ac=VT-SUL dep=CCU arr=IXB fn=SG 4027 dt=20211231.csv    |\n",
      "|ALL ac=VT-SUQ dep=DEL arr=JAI fn=SG 2976 dt=20211219.csv    |\n",
      "|ALL ac=VT-SUG dep=IXB arr=CCU fn=SG 3230 dt=20211209.csv    |\n",
      "|ALL ac=VT-SUO dep=PAT arr=GAU fn=SG 3724 dt=20211229.csv    |\n",
      "|ALL ac=VT-SUD dep=DEL arr=JDH fn=SG 2277 dt=20211230.csv    |\n",
      "|ALL ac=VT-SUF dep=BOM arr=STV fn=SG 2697 dt=20211225.csv    |\n",
      "|ALL ac=VT-SUG dep=GWL arr=AMD fn=SG 3438 dt=20211225.csv    |\n",
      "|ALL ac=VT-SUF dep=BLR arr=GWL fn=SG 3325 dt=20211230.csv    |\n",
      "|ALL ac=VT-SUQ dep=DEL arr=DHM fn=SG 2345 dt=20211225.csv    |\n",
      "|ALL ac=VT-SUG dep=DEL arr=KNU fn=SG 2745 dt=20211214.csv    |\n",
      "|ALL ac=VT-SUB dep=HYD arr=BOM fn=SEJ7669 dt=20211225.csv    |\n",
      "|ALL ac=VT-SUB dep=DEL arr=HYD fn=SG 7403 dt=20211231.csv    |\n",
      "|ALL ac=VT-SUD dep=JDH arr=DEL fn=SG 2278 dt=20211230.csv    |\n",
      "+------------------------------------------------------------+"
     ]
    }
   ],
   "source": [
    "spark.sql('''SELECT distinct(FileName) FROM DF1 a\n",
    "                LEFT JOIN DF2 b\n",
    "                on a.TailNo = b.TailNo AND\n",
    "                a.FlightNo = b.FlightNo AND\n",
    "                a.Departure = b.Departure AND\n",
    "                a.Arrival = b.Arrival AND \n",
    "                a.Date = b.Date AND \n",
    "                a.LoadedDate = b.MaxLoadDate''').show(500,False)"
   ]
  },
  {
   "cell_type": "code",
   "execution_count": null,
   "id": "a931a35f-66d4-4505-b351-d9fca2fbb70c",
   "metadata": {},
   "outputs": [],
   "source": []
  },
  {
   "cell_type": "code",
   "execution_count": 108,
   "id": "84409e7c-b94b-4b63-9167-90f28f69de43",
   "metadata": {
    "execution": {
     "iopub.execute_input": "2022-08-26T08:02:20.518753Z",
     "iopub.status.busy": "2022-08-26T08:02:20.518465Z",
     "iopub.status.idle": "2022-08-26T08:02:23.822149Z",
     "shell.execute_reply": "2022-08-26T08:02:23.821455Z",
     "shell.execute_reply.started": "2022-08-26T08:02:20.518726Z"
    },
    "tags": []
   },
   "outputs": [
    {
     "data": {
      "application/vnd.jupyter.widget-view+json": {
       "model_id": "440040f4dbea41b8a87de1620d90327e",
       "version_major": 2,
       "version_minor": 0
      },
      "text/plain": [
       "VBox()"
      ]
     },
     "metadata": {},
     "output_type": "display_data"
    },
    {
     "data": {
      "application/vnd.jupyter.widget-view+json": {
       "model_id": "",
       "version_major": 2,
       "version_minor": 0
      },
      "text/plain": [
       "FloatProgress(value=0.0, bar_style='info', description='Progress:', layout=Layout(height='25px', width='50%'),…"
      ]
     },
     "metadata": {},
     "output_type": "display_data"
    },
    {
     "name": "stdout",
     "output_type": "stream",
     "text": [
      "+--------------------------------------------------------+\n",
      "|FileName                                                |\n",
      "+--------------------------------------------------------+\n",
      "|ALL ac=VT-SUX dep=SAG arr=HYD fn=SG 4006 dt=20211225.csv|\n",
      "+--------------------------------------------------------+"
     ]
    }
   ],
   "source": [
    "spark.sql('''SELECT distinct FileName FROM DF3 where FileName = 'ALL ac=VT-SUX dep=SAG arr=HYD fn=SG 4006 dt=20211225.csv' ''').show(100,truncate = False)"
   ]
  },
  {
   "cell_type": "code",
   "execution_count": 52,
   "id": "56363cd1-49be-47fc-a1c9-338f414143e0",
   "metadata": {
    "execution": {
     "iopub.execute_input": "2022-08-26T06:43:45.370346Z",
     "iopub.status.busy": "2022-08-26T06:43:45.370080Z",
     "iopub.status.idle": "2022-08-26T06:43:45.453696Z",
     "shell.execute_reply": "2022-08-26T06:43:45.452704Z",
     "shell.execute_reply.started": "2022-08-26T06:43:45.370320Z"
    },
    "tags": []
   },
   "outputs": [
    {
     "data": {
      "application/vnd.jupyter.widget-view+json": {
       "model_id": "c919134b24e148b4bcd9eb052bf0cdc2",
       "version_major": 2,
       "version_minor": 0
      },
      "text/plain": [
       "VBox()"
      ]
     },
     "metadata": {},
     "output_type": "display_data"
    },
    {
     "data": {
      "application/vnd.jupyter.widget-view+json": {
       "model_id": "",
       "version_major": 2,
       "version_minor": 0
      },
      "text/plain": [
       "FloatProgress(value=0.0, bar_style='info', description='Progress:', layout=Layout(height='25px', width='50%'),…"
      ]
     },
     "metadata": {},
     "output_type": "display_data"
    }
   ],
   "source": []
  },
  {
   "cell_type": "code",
   "execution_count": 53,
   "id": "7c55e0de-f576-4890-914c-8b7d72d4963b",
   "metadata": {
    "execution": {
     "iopub.execute_input": "2022-08-26T06:43:47.474837Z",
     "iopub.status.busy": "2022-08-26T06:43:47.474607Z",
     "iopub.status.idle": "2022-08-26T06:44:00.838317Z",
     "shell.execute_reply": "2022-08-26T06:44:00.833543Z",
     "shell.execute_reply.started": "2022-08-26T06:43:47.474813Z"
    },
    "tags": []
   },
   "outputs": [
    {
     "data": {
      "application/vnd.jupyter.widget-view+json": {
       "model_id": "564e838c05bb405993d6986b72679142",
       "version_major": 2,
       "version_minor": 0
      },
      "text/plain": [
       "VBox()"
      ]
     },
     "metadata": {},
     "output_type": "display_data"
    },
    {
     "data": {
      "application/vnd.jupyter.widget-view+json": {
       "model_id": "",
       "version_major": 2,
       "version_minor": 0
      },
      "text/plain": [
       "FloatProgress(value=0.0, bar_style='info', description='Progress:', layout=Layout(height='25px', width='50%'),…"
      ]
     },
     "metadata": {},
     "output_type": "display_data"
    },
    {
     "name": "stdout",
     "output_type": "stream",
     "text": [
      "262"
     ]
    }
   ],
   "source": [
    " #ALL ac=VT-SUX dep=HYD arr=SAG fn=SG 4003 dt=20211225 (2).csv"
   ]
  },
  {
   "cell_type": "code",
   "execution_count": 96,
   "id": "66fb8a44-e316-4074-abd0-d152933be4bf",
   "metadata": {
    "execution": {
     "iopub.execute_input": "2022-08-26T07:37:42.991121Z",
     "iopub.status.busy": "2022-08-26T07:37:42.990897Z",
     "iopub.status.idle": "2022-08-26T07:37:44.268397Z",
     "shell.execute_reply": "2022-08-26T07:37:44.267675Z",
     "shell.execute_reply.started": "2022-08-26T07:37:42.991097Z"
    },
    "tags": []
   },
   "outputs": [
    {
     "data": {
      "application/vnd.jupyter.widget-view+json": {
       "model_id": "cf23adce12dc49e588a340d1d56257ab",
       "version_major": 2,
       "version_minor": 0
      },
      "text/plain": [
       "VBox()"
      ]
     },
     "metadata": {},
     "output_type": "display_data"
    },
    {
     "data": {
      "application/vnd.jupyter.widget-view+json": {
       "model_id": "",
       "version_major": 2,
       "version_minor": 0
      },
      "text/plain": [
       "FloatProgress(value=0.0, bar_style='info', description='Progress:', layout=Layout(height='25px', width='50%'),…"
      ]
     },
     "metadata": {},
     "output_type": "display_data"
    },
    {
     "name": "stdout",
     "output_type": "stream",
     "text": [
      "+------+--------+---------+-------+----------+--------------------+\n",
      "|TailNo|FlightNo|Departure|Arrival|      Date|         MaxLoadDate|\n",
      "+------+--------+---------+-------+----------+--------------------+\n",
      "|VT-SUG| SG 3439|      GWL|    BOM|2021-12-25|2022-08-26 05:46:...|\n",
      "+------+--------+---------+-------+----------+--------------------+"
     ]
    }
   ],
   "source": [
    "df2.filter((F.col('TailNo') == 'VT-SUG') & (F.col('FlightNo') == 'SG 3439') & (F.col('Departure') == 'GWL') & (F.col('Arrival') == 'BOM') & (F.col('Date') == '2021-12-25')).show()"
   ]
  },
  {
   "cell_type": "code",
   "execution_count": 55,
   "id": "c3a6ddeb-bf6a-4dd3-a2d0-f122eb341409",
   "metadata": {
    "execution": {
     "iopub.execute_input": "2022-08-26T06:45:26.245690Z",
     "iopub.status.busy": "2022-08-26T06:45:26.245453Z",
     "iopub.status.idle": "2022-08-26T06:45:26.516939Z",
     "shell.execute_reply": "2022-08-26T06:45:26.516146Z",
     "shell.execute_reply.started": "2022-08-26T06:45:26.245666Z"
    }
   },
   "outputs": [
    {
     "data": {
      "application/vnd.jupyter.widget-view+json": {
       "model_id": "453e014180f04faa97a9cc011139b0c5",
       "version_major": 2,
       "version_minor": 0
      },
      "text/plain": [
       "VBox()"
      ]
     },
     "metadata": {},
     "output_type": "display_data"
    },
    {
     "data": {
      "application/vnd.jupyter.widget-view+json": {
       "model_id": "",
       "version_major": 2,
       "version_minor": 0
      },
      "text/plain": [
       "FloatProgress(value=0.0, bar_style='info', description='Progress:', layout=Layout(height='25px', width='50%'),…"
      ]
     },
     "metadata": {},
     "output_type": "display_data"
    },
    {
     "name": "stderr",
     "output_type": "stream",
     "text": [
      "An error was encountered:\n",
      "cannot resolve '`FileName`' given input columns: [df2.Arrival, df2.Date, df2.Departure, df2.FlightNo, df2.MaxLoadDate, df2.TailNo]; line 4 pos 18;\n",
      "'Aggregate ['TailNo, 'FlightNo, 'Departure, 'Arrival, 'Date], ['TailNo, 'FlightNo, 'Departure, 'Arrival, 'Date, 'MAX('LoadedDate) AS MaxLoadDate#874]\n",
      "+- 'Filter 'FileName LIKE %(_).csv\n",
      "   +- SubqueryAlias df2\n",
      "      +- Aggregate [TailNo#10, FlightNo#13, Departure#11, Arrival#12, Date#14], [TailNo#10, FlightNo#13, Departure#11, Arrival#12, Date#14, max(LoadedDate#61) AS MaxLoadDate#803]\n",
      "         +- Filter NOT FileName#60 LIKE %(_).csv\n",
      "            +- SubqueryAlias df1\n",
      "               +- Relation[FlightID#0,DesigFlightNumber#1,FlightNumberARMS#2,FlightDate#3,FromCity#4,ToCity#5,BlockTime#6,ECN#7,EmployeeName#8,RANK#9,TailNo#10,Departure#11,Arrival#12,FlightNo#13,Date#14,Time-In-Secs#15,Time-Per-Sec#16,BARO-CORRECTED-PALT-DERIVED#17,Altitude-BaroL#18,Magnetic-Heading#19,Pitch-Attitude#20,Roll-Attitude#21,Radio-Altitude#22,Nose-WOW#23,... 40 more fields] parquet\n",
      "\n",
      "Traceback (most recent call last):\n",
      "  File \"/usr/lib/spark/python/lib/pyspark.zip/pyspark/sql/session.py\", line 723, in sql\n",
      "    return DataFrame(self._jsparkSession.sql(sqlQuery), self._wrapped)\n",
      "  File \"/usr/lib/spark/python/lib/py4j-0.10.9-src.zip/py4j/java_gateway.py\", line 1305, in __call__\n",
      "    answer, self.gateway_client, self.target_id, self.name)\n",
      "  File \"/usr/lib/spark/python/lib/pyspark.zip/pyspark/sql/utils.py\", line 117, in deco\n",
      "    raise converted from None\n",
      "pyspark.sql.utils.AnalysisException: cannot resolve '`FileName`' given input columns: [df2.Arrival, df2.Date, df2.Departure, df2.FlightNo, df2.MaxLoadDate, df2.TailNo]; line 4 pos 18;\n",
      "'Aggregate ['TailNo, 'FlightNo, 'Departure, 'Arrival, 'Date], ['TailNo, 'FlightNo, 'Departure, 'Arrival, 'Date, 'MAX('LoadedDate) AS MaxLoadDate#874]\n",
      "+- 'Filter 'FileName LIKE %(_).csv\n",
      "   +- SubqueryAlias df2\n",
      "      +- Aggregate [TailNo#10, FlightNo#13, Departure#11, Arrival#12, Date#14], [TailNo#10, FlightNo#13, Departure#11, Arrival#12, Date#14, max(LoadedDate#61) AS MaxLoadDate#803]\n",
      "         +- Filter NOT FileName#60 LIKE %(_).csv\n",
      "            +- SubqueryAlias df1\n",
      "               +- Relation[FlightID#0,DesigFlightNumber#1,FlightNumberARMS#2,FlightDate#3,FromCity#4,ToCity#5,BlockTime#6,ECN#7,EmployeeName#8,RANK#9,TailNo#10,Departure#11,Arrival#12,FlightNo#13,Date#14,Time-In-Secs#15,Time-Per-Sec#16,BARO-CORRECTED-PALT-DERIVED#17,Altitude-BaroL#18,Magnetic-Heading#19,Pitch-Attitude#20,Roll-Attitude#21,Radio-Altitude#22,Nose-WOW#23,... 40 more fields] parquet\n",
      "\n",
      "\n"
     ]
    }
   ],
   "source": []
  },
  {
   "cell_type": "code",
   "execution_count": null,
   "id": "93bbc0c2-25e7-4d7c-8bac-de4c1b8fbcac",
   "metadata": {},
   "outputs": [],
   "source": []
  }
 ],
 "metadata": {
  "kernelspec": {
   "display_name": "PySpark",
   "language": "",
   "name": "pysparkkernel"
  },
  "language_info": {
   "codemirror_mode": {
    "name": "python",
    "version": 3
   },
   "mimetype": "text/x-python",
   "name": "pyspark",
   "pygments_lexer": "python3"
  }
 },
 "nbformat": 4,
 "nbformat_minor": 5
}
