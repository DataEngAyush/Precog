{
 "cells": [
  {
   "cell_type": "code",
   "execution_count": 4,
   "id": "fb7510f0-0a4d-4ffe-8b6a-132e49634c1c",
   "metadata": {
    "execution": {
     "iopub.execute_input": "2022-11-03T10:17:30.691069Z",
     "iopub.status.busy": "2022-11-03T10:17:30.690828Z",
     "iopub.status.idle": "2022-11-03T10:17:31.966951Z",
     "shell.execute_reply": "2022-11-03T10:17:31.966332Z",
     "shell.execute_reply.started": "2022-11-03T10:17:30.691045Z"
    },
    "tags": []
   },
   "outputs": [
    {
     "data": {
      "application/vnd.jupyter.widget-view+json": {
       "model_id": "ac98af5d91734750bfefeb4025a03835",
       "version_major": 2,
       "version_minor": 0
      },
      "text/plain": [
       "VBox()"
      ]
     },
     "metadata": {},
     "output_type": "display_data"
    },
    {
     "data": {
      "application/vnd.jupyter.widget-view+json": {
       "model_id": "",
       "version_major": 2,
       "version_minor": 0
      },
      "text/plain": [
       "FloatProgress(value=0.0, bar_style='info', description='Progress:', layout=Layout(height='25px', width='50%'),…"
      ]
     },
     "metadata": {},
     "output_type": "display_data"
    }
   ],
   "source": [
    "AllFiles = spark.sql(f''' \n",
    "                                SELECT \n",
    "                                        Concat(tailno,departure,arrival,flightno,flightdate) as UKey,\n",
    "                                        * \n",
    "                                FROM precogdb.distinct_q400512wps\n",
    "                                \n",
    "                            ''')\n",
    "\n",
    "AllFiles.createOrReplaceTempView('AllFiles')\n",
    "\n",
    "RedExceedanceFiles = spark.sql(f''' \n",
    "                                            SELECT \n",
    "                                                    Concat(tailno,departure,arrival,flightno,date) as RKey,\n",
    "                                                    * \n",
    "                                            FROM precogdb.df6_red_late_landing_flap\n",
    "                                            \n",
    "                                            ''')\n",
    "\n",
    "RedExceedanceFiles.createOrReplaceTempView(\"RedExceedanceFiles\")\n",
    "\n",
    "GreenExceedanceFiles = spark.sql(''' \n",
    "                                            SELECT   *,\n",
    "                                                    'Late Landing Flap'  as Exceedance,\n",
    "                                                    'Approach' as Phase \n",
    "                                            FROM AllFiles WHERE Ukey NOT IN ( SELECT \n",
    "                                                                                    Rkey \n",
    "                                                                            FROM RedExceedanceFiles) ''')\n",
    "\n",
    "GreenExceedanceFiles.createOrReplaceTempView(\"GreenExceedanceFiles\")"
   ]
  },
  {
   "cell_type": "code",
   "execution_count": 5,
   "id": "f441fbed-ae02-4836-b1d8-e56e5acfb9ac",
   "metadata": {
    "execution": {
     "iopub.execute_input": "2022-11-03T10:17:32.721224Z",
     "iopub.status.busy": "2022-11-03T10:17:32.720980Z",
     "iopub.status.idle": "2022-11-03T10:17:35.012290Z",
     "shell.execute_reply": "2022-11-03T10:17:35.011721Z",
     "shell.execute_reply.started": "2022-11-03T10:17:32.721199Z"
    },
    "tags": []
   },
   "outputs": [
    {
     "data": {
      "application/vnd.jupyter.widget-view+json": {
       "model_id": "c72f67446dcd40aaab582416faf6b2f6",
       "version_major": 2,
       "version_minor": 0
      },
      "text/plain": [
       "VBox()"
      ]
     },
     "metadata": {},
     "output_type": "display_data"
    },
    {
     "data": {
      "application/vnd.jupyter.widget-view+json": {
       "model_id": "",
       "version_major": 2,
       "version_minor": 0
      },
      "text/plain": [
       "FloatProgress(value=0.0, bar_style='info', description='Progress:', layout=Layout(height='25px', width='50%'),…"
      ]
     },
     "metadata": {},
     "output_type": "display_data"
    }
   ],
   "source": [
    "GreenExceedanceFinal = spark.sql('''SELECT \n",
    "                                                ME.Id as ExceedanceId,\n",
    "                                                Exceedance,\n",
    "                                                MP.Id as PhaseId,\n",
    "                                                AG1.phase,\n",
    "                                                AG1.ecn,\n",
    "                                                AG1.employeename,\n",
    "                                                AG1.rank,\n",
    "                                                AG1.tailno,\n",
    "                                                AG1.departure,\n",
    "                                                AG1.arrival,\n",
    "                                                AG1.flightno,\n",
    "                                                AG1.flightdate,\n",
    "                                                AG1.chocksoff,\n",
    "                                                AG1.chockson,\n",
    "                                                AG1.domint,\n",
    "                                                MM.Id AS ManufacturerId,\n",
    "                                                MM.name AS Manufacturer,\n",
    "                                                MD.Id AS DataFrameId,\n",
    "                                                AG1.dataframename AS DataFrame,\n",
    "                                                AG1.aircrafttype,\n",
    "                                                AG1.aircraftmodel,\n",
    "                                                AG1.payload,\n",
    "                                                AG1.blocktime AS blocktime_hrs,\n",
    "                                                'No' AS Occurance,\n",
    "                                                MT.Id as TypeId,\n",
    "                                                'Green' AS Flag,\n",
    "                                                '' AS Trigger_Hours,\n",
    "                                                '' AS Occurence_Hours,\n",
    "                                                '' AS Duration_Min,\n",
    "                                                '' AS FlapType,\n",
    "                                                '' AS `Flap-Position`, \n",
    "                                                '' AS `Radio-Altitude`, \n",
    "                                                '' AS `Main-WOW`,\n",
    "                                                AG1.loadeddate,\n",
    "                                                AG1.filename, \n",
    "                                                AG1.year,\n",
    "                                                AG1.month\n",
    "                                        \n",
    "                                        FROM GreenExceedanceFiles AG1\n",
    "                                        INNER JOIN precogdb.master_dataframes MD ON AG1.dataframename = MD.name   \n",
    "                                        INNER JOIN precogdb.master_phase MP ON AG1.phase = MP.name\n",
    "                                        INNER JOIN precogdb.master_exceedance ME ON AG1.Exceedance = ME.name AND MP.Id=ME.phase\n",
    "                                        INNER JOIN precogdb.master_manufacturers MM ON MD.manufacturer=MM.Id\n",
    "                                        INNER JOIN precogdb.master_type MT ON MT.type = 'Green'\n",
    "                                        \n",
    "                                            ''')"
   ]
  },
  {
   "cell_type": "code",
   "execution_count": 6,
   "id": "f4b8f84f-9060-4363-8b69-34ddb6dda08e",
   "metadata": {
    "execution": {
     "iopub.execute_input": "2022-11-03T10:17:35.771663Z",
     "iopub.status.busy": "2022-11-03T10:17:35.771433Z",
     "iopub.status.idle": "2022-11-03T10:18:23.339031Z",
     "shell.execute_reply": "2022-11-03T10:18:23.338504Z",
     "shell.execute_reply.started": "2022-11-03T10:17:35.771639Z"
    },
    "tags": []
   },
   "outputs": [
    {
     "data": {
      "application/vnd.jupyter.widget-view+json": {
       "model_id": "1c6b9ffd544546808b0b55102b11f285",
       "version_major": 2,
       "version_minor": 0
      },
      "text/plain": [
       "VBox()"
      ]
     },
     "metadata": {},
     "output_type": "display_data"
    },
    {
     "data": {
      "application/vnd.jupyter.widget-view+json": {
       "model_id": "",
       "version_major": 2,
       "version_minor": 0
      },
      "text/plain": [
       "FloatProgress(value=0.0, bar_style='info', description='Progress:', layout=Layout(height='25px', width='50%'),…"
      ]
     },
     "metadata": {},
     "output_type": "display_data"
    },
    {
     "name": "stdout",
     "output_type": "stream",
     "text": [
      "+------------+-----------------+-------+--------+------+--------------------+-----+------+---------+-------+--------+----------+-------------------+-------------------+------+--------------+------------+-----------+---------+------------+-------------+-------+-------------+---------+------+-----+-------------+---------------+------------+--------+-------------+--------------+--------+--------------------+--------------------+----+-----+\n",
      "|ExceedanceId|       Exceedance|PhaseId|   phase|   ecn|        employeename| rank|tailno|departure|arrival|flightno|flightdate|          chocksoff|           chockson|domint|ManufacturerId|Manufacturer|DataFrameId|DataFrame|aircrafttype|aircraftmodel|payload|blocktime_hrs|Occurance|TypeId| Flag|Trigger_Hours|Occurence_Hours|Duration_Min|FlapType|Flap-Position|Radio-Altitude|Main-WOW|          loadeddate|            filename|year|month|\n",
      "+------------+-----------------+-------+--------+------+--------------------+-----+------+---------+-------+--------+----------+-------------------+-------------------+------+--------------+------------+-----------+---------+------------+-------------+-------+-------------+---------+------+-----+-------------+---------------+------------+--------+-------------+--------------+--------+--------------------+--------------------+----+-----+\n",
      "|           8|Late Landing Flap|      3|Approach|115608| PARIMAL PRANAV DAVE|CAPT.|VT-SUU|      VNS|    GAU| SG 3761|2022-04-18|2022-04-18 12:30:00|2022-04-18 14:30:00|   DOM|             2|        Q400|          6|  512 WPS|         DHC|         DHC-|    Pax|     02:10:00|       No|     1|Green|             |               |            |        |             |              |        |2022-10-13 09:48:...|ALL ac=VT-SUU dep...|2022|April|\n",
      "|           8|Late Landing Flap|      3|Approach|115052|     SARATH  MOHANAN|CAPT.|VT-SQE|      JLR|    PNQ| SG 3013|2022-04-05|2022-04-05 12:10:00|2022-04-05 14:08:00|   DOM|             2|        Q400|          6|  512 WPS|         DHC|         DHC-|    Pax|     01:55:00|       No|     1|Green|             |               |            |        |             |              |        |2022-10-13 09:47:...|ALL _1_ ac=VT-SQE...|2022|April|\n",
      "|           8|Late Landing Flap|      3|Approach|113058|        VIVEK  YADAV|CAPT.|VT-SUV|      DEL|    DHM| SG 2970|2022-04-23|2022-04-23 07:49:00|2022-04-23 09:04:00|   DOM|             2|        Q400|          6|  512 WPS|         DHC|         DHC-|    Pax|     01:35:00|       No|     1|Green|             |               |            |        |             |              |        |2022-10-13 09:51:...|ALL ac=VT-SUV dep...|2022|April|\n",
      "|           8|Late Landing Flap|      3|Approach|119048|       NIKHIL  ARORA|CAPT.|VT-SQJ|      VTZ|    HYD| SG 4011|2022-04-25|2022-04-25 21:20:00|2022-04-25 22:55:00|   DOM|             2|        Q400|          6|  512 WPS|         DHC|         DHC-|    Pax|     01:40:00|       No|     1|Green|             |               |            |        |             |              |        |2022-10-13 09:52:...|ALL ac=VT-SQJ dep...|2022|April|\n",
      "|           8|Late Landing Flap|      3|Approach|127265|       IRA  PESTONJI|CAPT.|VT-SUR|      JLR|    BOM| SG 3002|2022-04-23|2022-04-23 08:15:00|2022-04-23 10:30:00|   DOM|             2|        Q400|          6|  512 WPS|         DHC|         DHC-|    Pax|     02:00:00|       No|     1|Green|             |               |            |        |             |              |        |2022-10-13 09:51:...|ALL ac=VT-SUR dep...|2022|April|\n",
      "|           8|Late Landing Flap|      3|Approach|119830|AJAY SHIVAJI SALUNKE|CAPT.|VT-SUW|      VNS|    GOP| SG 2949|2022-04-20|2022-04-20 08:15:00|2022-04-20 09:05:00|   DOM|             2|        Q400|          6|  512 WPS|         DHC|         DHC-|    Pax|     00:55:00|       No|     1|Green|             |               |            |        |             |              |        |2022-10-13 09:49:...|ALL ac=VT-SUW dep...|2022|April|\n",
      "|           8|Late Landing Flap|      3|Approach|113342|JACOB SUDHAKAR RAJAN|CAPT.|VT-SUU|      DHM|    DEL| SG 2973|2022-04-20|2022-04-20 13:31:00|2022-04-20 15:01:00|   DOM|             2|        Q400|          6|  512 WPS|         DHC|         DHC-|    Pax|     01:40:00|       No|     1|Green|             |               |            |        |             |              |        |2022-10-13 09:49:...|ALL ac=VT-SUU dep...|2022|April|\n",
      "|           8|Late Landing Flap|      3|Approach|115051|      RAINER  CREADO|CAPT.|VT-SQF|      IXG|    HYD| SG 3734|2022-04-30|2022-04-30 14:45:00|2022-04-30 16:10:00|   DOM|             2|        Q400|          6|  512 WPS|         DHC|         DHC-|    Pax|     01:25:00|       No|     1|Green|             |               |            |        |             |              |        |2022-10-13 10:12:...|ALL ac=VT-SQF dep...|2022|April|\n",
      "|           8|Late Landing Flap|      3|Approach|127055|UTKARSH RAMESH LO...|CAPT.|VT-SQI|      GOI|    STV| SG 3426|2022-04-06|2022-04-06 18:45:00|2022-04-06 20:25:00|   DOM|             2|        Q400|          6|  512 WPS|         DHC|         DHC-|    Pax|     01:25:00|       No|     1|Green|             |               |            |        |             |              |        |2022-10-13 09:40:...|ALL ac=VT-SQI dep...|2022|April|\n",
      "|           8|Late Landing Flap|      3|Approach|126281|       VIVEK  SHUKLA|CAPT.|VT-SQG|      BLR|    GWL| SG 3325|2022-04-24|2022-04-24 13:10:00|2022-04-24 16:20:00|   DOM|             2|        Q400|          6|  512 WPS|         DHC|         DHC-|    Pax|     03:05:00|       No|     1|Green|             |               |            |        |             |              |        |2022-10-13 09:51:...|ALL ac=VT-SQG dep...|2022|April|\n",
      "|           8|Late Landing Flap|      3|Approach|118616|   SHAILENDER  HOODA|CAPT.|VT-SUU|      STV|    GOI| SG 3419|2022-04-17|2022-04-17 12:20:00|2022-04-17 14:00:00|   DOM|             2|        Q400|          6|  512 WPS|         DHC|         DHC-|    Pax|     01:45:00|       No|     1|Green|             |               |            |        |             |              |        |2022-10-13 09:48:...|ALL ac=VT-SUU dep...|2022|April|\n",
      "|           8|Late Landing Flap|      3|Approach|113342|JACOB SUDHAKAR RAJAN|CAPT.|VT-SQA|      JLR|    DEL| SG 2955|2022-04-20|2022-04-20 08:55:00|2022-04-20 10:40:00|   DOM|             2|        Q400|          6|  512 WPS|         DHC|         DHC-|    Pax|     01:45:00|       No|     1|Green|             |               |            |        |             |              |        |2022-10-13 09:53:...|ALL _1_ ac=VT-SQA...|2022|April|\n",
      "|           8|Late Landing Flap|      3|Approach|119567|      SANDEEP  TOMAR|CAPT.|VT-SUV|      DEL|    JAI| SG 2978|2022-04-15|2022-04-15 19:50:00|2022-04-15 20:45:00|   DOM|             2|        Q400|          6|  512 WPS|         DHC|         DHC-|    Pax|     01:15:00|       No|     1|Green|             |               |            |        |             |              |        |2022-10-13 09:47:...|ALL ac=VT-SUV dep...|2022|April|\n",
      "|           8|Late Landing Flap|      3|Approach|126799|DARPAN SINGH  RAG...|CAPT.|VT-SQF|      GWL|    HYD| SG 3732|2022-04-13|2022-04-13 08:35:00|2022-04-13 11:05:00|   DOM|             2|        Q400|          6|  512 WPS|         DHC|         DHC-|    Pax|     02:45:00|       No|     1|Green|             |               |            |        |             |              |        |2022-10-13 09:45:...|ALL ac=VT-SQF dep...|2022|April|\n",
      "|           8|Late Landing Flap|      3|Approach|109605|MANONMANI VEERAPA...|CAPT.|VT-SQJ|      PNQ|    JLR| SG 3012|2022-04-18|2022-04-18 14:38:00|2022-04-18 16:43:00|   DOM|             2|        Q400|          6|  512 WPS|         DHC|         DHC-|    Pax|     01:45:00|       No|     1|Green|             |               |            |        |             |              |        |2022-10-13 09:48:...|ALL ac=VT-SQJ dep...|2022|April|\n",
      "|           8|Late Landing Flap|      3|Approach|126726|      SAHIL  DURGANI|CAPT.|VT-SUU|      VNS|    DEL| SG 2951|2022-04-24|2022-04-24 10:50:00|2022-04-24 12:45:00|   DOM|             2|        Q400|          6|  512 WPS|         DHC|         DHC-|    Pax|     02:00:00|       No|     1|Green|             |               |            |        |             |              |        |2022-10-13 09:51:...|ALL ac=VT-SUU dep...|2022|April|\n",
      "|           8|Late Landing Flap|      3|Approach|116491|SIDDHARTHA  JOHN ...|CAPT.|VT-SQJ|      HYD|    SAG| SG 4003|2022-04-10|2022-04-10 10:00:00|2022-04-10 11:55:00|   DOM|             2|        Q400|          6|  512 WPS|         DHC|         DHC-|    Pax|     01:55:00|       No|     1|Green|             |               |            |        |             |              |        |2022-10-13 09:42:...|ALL ac=VT-SQJ dep...|2022|April|\n",
      "|           8|Late Landing Flap|      3|Approach|119218| VAIBHAV  MAHESHWARI|CAPT.|VT-SUT|      CCU|    JRG| SG 3281|2022-04-07|2022-04-07 17:32:00|2022-04-07 18:57:00|   DOM|             2|        Q400|          6|  512 WPS|         DHC|         DHC-|    Pax|     01:20:00|       No|     1|Green|             |               |            |        |             |              |        |2022-10-13 09:41:...|ALL ac=VT-SUT dep...|2022|April|\n",
      "|           8|Late Landing Flap|      3|Approach|114962|YASHWANTH BHARADW...|CAPT.|VT-SQG|      PNY|    HYD| SG 3997|2022-04-30|2022-04-30 16:47:00|2022-04-30 18:22:00|   DOM|             2|        Q400|          6|  512 WPS|         DHC|         DHC-|    Pax|     01:45:00|       No|     1|Green|             |               |            |        |             |              |        |2022-10-13 10:13:...|ALL _1_ ac=VT-SQG...|2022|April|\n",
      "|           8|Late Landing Flap|      3|Approach|117634|   BHUPESH  BHARDWAJ|CAPT.|VT-SUV|      DEL|    PGH| SG 2956|2022-04-20|2022-04-20 13:50:00|2022-04-20 15:00:00|  INTL|             2|        Q400|          6|  512 WPS|         DHC|         DHC-|    Pax|     01:00:00|       No|     1|Green|             |               |            |        |             |              |        |2022-10-13 09:49:...|ALL ac=VT-SUV dep...|2022|April|\n",
      "+------------+-----------------+-------+--------+------+--------------------+-----+------+---------+-------+--------+----------+-------------------+-------------------+------+--------------+------------+-----------+---------+------------+-------------+-------+-------------+---------+------+-----+-------------+---------------+------------+--------+-------------+--------------+--------+--------------------+--------------------+----+-----+\n",
      "only showing top 20 rows"
     ]
    }
   ],
   "source": [
    "GreenExceedanceFinal.show()"
   ]
  },
  {
   "cell_type": "code",
   "execution_count": null,
   "id": "45664e90-48ef-4f11-8ce6-5dd3553337a2",
   "metadata": {},
   "outputs": [],
   "source": []
  }
 ],
 "metadata": {
  "kernelspec": {
   "display_name": "PySpark",
   "language": "",
   "name": "pysparkkernel"
  },
  "language_info": {
   "codemirror_mode": {
    "name": "python",
    "version": 3
   },
   "mimetype": "text/x-python",
   "name": "pyspark",
   "pygments_lexer": "python3"
  }
 },
 "nbformat": 4,
 "nbformat_minor": 5
}
