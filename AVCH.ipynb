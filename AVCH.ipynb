{
 "cells": [
  {
   "cell_type": "code",
   "execution_count": 1,
   "id": "2e3e7ed7-18bc-4c78-8a13-367b37f4e8fe",
   "metadata": {
    "execution": {
     "iopub.execute_input": "2022-12-04T09:34:44.949283Z",
     "iopub.status.busy": "2022-12-04T09:34:44.949054Z",
     "iopub.status.idle": "2022-12-04T09:35:05.865095Z",
     "shell.execute_reply": "2022-12-04T09:35:05.864398Z",
     "shell.execute_reply.started": "2022-12-04T09:34:44.949257Z"
    },
    "tags": []
   },
   "outputs": [
    {
     "data": {
      "application/vnd.jupyter.widget-view+json": {
       "model_id": "a476cc59e267458986348694079a1aed",
       "version_major": 2,
       "version_minor": 0
      },
      "text/plain": [
       "VBox()"
      ]
     },
     "metadata": {},
     "output_type": "display_data"
    },
    {
     "name": "stdout",
     "output_type": "stream",
     "text": [
      "Starting Spark application\n"
     ]
    },
    {
     "data": {
      "text/html": [
       "<table>\n",
       "<tr><th>ID</th><th>YARN Application ID</th><th>Kind</th><th>State</th><th>Spark UI</th><th>Driver log</th><th>Current session?</th></tr><tr><td>1</td><td>application_1670142421074_0003</td><td>pyspark</td><td>idle</td><td><a target=\"_blank\" href=\"http://ip-20-0-4-149.ap-south-1.compute.internal:20888/proxy/application_1670142421074_0003/\" class=\"emr-proxy-link\" emr-resource=\"j-1IALAIDIOR717\n",
       "\" application-id=\"application_1670142421074_0003\">Link</a></td><td><a target=\"_blank\" href=\"http://ip-20-0-4-232.ap-south-1.compute.internal:8042/node/containerlogs/container_1670142421074_0003_01_000001/livy\" >Link</a></td><td>✔</td></tr></table>"
      ],
      "text/plain": [
       "<IPython.core.display.HTML object>"
      ]
     },
     "metadata": {},
     "output_type": "display_data"
    },
    {
     "data": {
      "application/vnd.jupyter.widget-view+json": {
       "model_id": "",
       "version_major": 2,
       "version_minor": 0
      },
      "text/plain": [
       "FloatProgress(value=0.0, bar_style='info', description='Progress:', layout=Layout(height='25px', width='50%'),…"
      ]
     },
     "metadata": {},
     "output_type": "display_data"
    },
    {
     "name": "stdout",
     "output_type": "stream",
     "text": [
      "SparkSession available as 'spark'.\n"
     ]
    },
    {
     "data": {
      "application/vnd.jupyter.widget-view+json": {
       "model_id": "",
       "version_major": 2,
       "version_minor": 0
      },
      "text/plain": [
       "FloatProgress(value=0.0, bar_style='info', description='Progress:', layout=Layout(height='25px', width='50%'),…"
      ]
     },
     "metadata": {},
     "output_type": "display_data"
    }
   ],
   "source": [
    "from pyspark import SparkConf\n",
    "from pyspark import SparkContext\n",
    "from pyspark.sql import SparkSession\n",
    "from pyspark.sql.types import *\n",
    "from pyspark.sql import functions\n",
    "import boto3\n",
    "import sys\n",
    "import re\n",
    "from datetime import datetime\n",
    "import configparser\n",
    "from pyspark.sql.functions import col, datediff"
   ]
  },
  {
   "cell_type": "code",
   "execution_count": null,
   "id": "a36a1077-6c42-468c-b5d6-2fd5a391c3fe",
   "metadata": {
    "tags": []
   },
   "outputs": [],
   "source": []
  },
  {
   "cell_type": "code",
   "execution_count": 2,
   "id": "d888cbb8-c564-4e16-97dd-675fb36df136",
   "metadata": {
    "execution": {
     "iopub.execute_input": "2022-12-04T09:35:11.169784Z",
     "iopub.status.busy": "2022-12-04T09:35:11.169560Z",
     "iopub.status.idle": "2022-12-04T09:35:18.477478Z",
     "shell.execute_reply": "2022-12-04T09:35:18.476903Z",
     "shell.execute_reply.started": "2022-12-04T09:35:11.169761Z"
    },
    "tags": []
   },
   "outputs": [
    {
     "data": {
      "application/vnd.jupyter.widget-view+json": {
       "model_id": "e52b574e760e4c199e14f7baf487e912",
       "version_major": 2,
       "version_minor": 0
      },
      "text/plain": [
       "VBox()"
      ]
     },
     "metadata": {},
     "output_type": "display_data"
    },
    {
     "data": {
      "application/vnd.jupyter.widget-view+json": {
       "model_id": "",
       "version_major": 2,
       "version_minor": 0
      },
      "text/plain": [
       "FloatProgress(value=0.0, bar_style='info', description='Progress:', layout=Layout(height='25px', width='50%'),…"
      ]
     },
     "metadata": {},
     "output_type": "display_data"
    }
   ],
   "source": [
    "GoldenRecordISPINC_fact = spark.sql('''\n",
    "                                        SELECT * FROM \n",
    "                                        22_customerhub.goldenrecordispinc_fact\n",
    "''').repartition(100)"
   ]
  },
  {
   "cell_type": "code",
   "execution_count": 3,
   "id": "32a6d4b0-4534-4b20-9032-3cf500352ade",
   "metadata": {
    "execution": {
     "iopub.execute_input": "2022-12-04T09:35:18.478562Z",
     "iopub.status.busy": "2022-12-04T09:35:18.478395Z",
     "iopub.status.idle": "2022-12-04T09:35:19.241561Z",
     "shell.execute_reply": "2022-12-04T09:35:19.240907Z",
     "shell.execute_reply.started": "2022-12-04T09:35:18.478541Z"
    },
    "tags": []
   },
   "outputs": [
    {
     "data": {
      "application/vnd.jupyter.widget-view+json": {
       "model_id": "3b335c99b5694afc896f8ea942d5d792",
       "version_major": 2,
       "version_minor": 0
      },
      "text/plain": [
       "VBox()"
      ]
     },
     "metadata": {},
     "output_type": "display_data"
    },
    {
     "data": {
      "application/vnd.jupyter.widget-view+json": {
       "model_id": "",
       "version_major": 2,
       "version_minor": 0
      },
      "text/plain": [
       "FloatProgress(value=0.0, bar_style='info', description='Progress:', layout=Layout(height='25px', width='50%'),…"
      ]
     },
     "metadata": {},
     "output_type": "display_data"
    }
   ],
   "source": [
    "GoldenRecordISPINC_fact.createOrReplaceTempView('GoldenRecordISPINC_fact')\n",
    "\n"
   ]
  },
  {
   "cell_type": "code",
   "execution_count": 4,
   "id": "ea4fce03-e4f9-4bef-b944-9028b16c2e06",
   "metadata": {
    "execution": {
     "iopub.execute_input": "2022-12-04T09:35:22.554477Z",
     "iopub.status.busy": "2022-12-04T09:35:22.554259Z",
     "iopub.status.idle": "2022-12-04T09:35:23.319755Z",
     "shell.execute_reply": "2022-12-04T09:35:23.319222Z",
     "shell.execute_reply.started": "2022-12-04T09:35:22.554453Z"
    },
    "tags": []
   },
   "outputs": [
    {
     "data": {
      "application/vnd.jupyter.widget-view+json": {
       "model_id": "8ab9a0135f2748068ad6faebb2bb3285",
       "version_major": 2,
       "version_minor": 0
      },
      "text/plain": [
       "VBox()"
      ]
     },
     "metadata": {},
     "output_type": "display_data"
    },
    {
     "data": {
      "application/vnd.jupyter.widget-view+json": {
       "model_id": "",
       "version_major": 2,
       "version_minor": 0
      },
      "text/plain": [
       "FloatProgress(value=0.0, bar_style='info', description='Progress:', layout=Layout(height='25px', width='50%'),…"
      ]
     },
     "metadata": {},
     "output_type": "display_data"
    }
   ],
   "source": [
    "CustomerMatchMerge_SFLTYRW_PAX = spark.sql('''\n",
    "                                                SELECT * FROM \n",
    "                                                22_customerhub.customermatchmerge_sfltyrw_pax\n",
    "                                                \n",
    "\n",
    "''')\n",
    "\n",
    "CustomerMatchMerge_SFLTYRW_PAX.createOrReplaceTempView(\n",
    "    'CustomerMatchMerge_SFLTYRW_PAX')"
   ]
  },
  {
   "cell_type": "code",
   "execution_count": 5,
   "id": "8c154838-0df2-4772-98ba-dd8cf5305b1c",
   "metadata": {
    "execution": {
     "iopub.execute_input": "2022-12-04T09:35:23.321140Z",
     "iopub.status.busy": "2022-12-04T09:35:23.320889Z",
     "iopub.status.idle": "2022-12-04T09:35:24.088430Z",
     "shell.execute_reply": "2022-12-04T09:35:24.087870Z",
     "shell.execute_reply.started": "2022-12-04T09:35:23.321107Z"
    }
   },
   "outputs": [
    {
     "data": {
      "application/vnd.jupyter.widget-view+json": {
       "model_id": "1353c2310e67433c833f3574f319d1f5",
       "version_major": 2,
       "version_minor": 0
      },
      "text/plain": [
       "VBox()"
      ]
     },
     "metadata": {},
     "output_type": "display_data"
    },
    {
     "data": {
      "application/vnd.jupyter.widget-view+json": {
       "model_id": "",
       "version_major": 2,
       "version_minor": 0
      },
      "text/plain": [
       "FloatProgress(value=0.0, bar_style='info', description='Progress:', layout=Layout(height='25px', width='50%'),…"
      ]
     },
     "metadata": {},
     "output_type": "display_data"
    }
   ],
   "source": [
    "ContactProfileHubProcessing_fact = spark.sql('''\n",
    "                                                    SELECT * FROM \n",
    "                                                    22_loyalty.contactprofilehubprocessing_fact\n",
    "''')\n",
    "\n",
    "ContactProfileHubProcessing_fact.createOrReplaceTempView(\n",
    "    'ContactProfileHubProcessing_fact')"
   ]
  },
  {
   "cell_type": "code",
   "execution_count": 6,
   "id": "60147d7c-7569-4ea4-8bc3-f7e3c24d24d3",
   "metadata": {
    "execution": {
     "iopub.execute_input": "2022-12-04T09:35:24.089703Z",
     "iopub.status.busy": "2022-12-04T09:35:24.089529Z",
     "iopub.status.idle": "2022-12-04T09:35:24.854696Z",
     "shell.execute_reply": "2022-12-04T09:35:24.854164Z",
     "shell.execute_reply.started": "2022-12-04T09:35:24.089682Z"
    }
   },
   "outputs": [
    {
     "data": {
      "application/vnd.jupyter.widget-view+json": {
       "model_id": "742099c52f694a80902d8713e0c245b1",
       "version_major": 2,
       "version_minor": 0
      },
      "text/plain": [
       "VBox()"
      ]
     },
     "metadata": {},
     "output_type": "display_data"
    },
    {
     "data": {
      "application/vnd.jupyter.widget-view+json": {
       "model_id": "",
       "version_major": 2,
       "version_minor": 0
      },
      "text/plain": [
       "FloatProgress(value=0.0, bar_style='info', description='Progress:', layout=Layout(height='25px', width='50%'),…"
      ]
     },
     "metadata": {},
     "output_type": "display_data"
    }
   ],
   "source": [
    "\n",
    "member_fact = spark.sql('''\n",
    "                                                    SELECT * FROM \n",
    "                                                    22_loyalty.member_fact\n",
    "''')\n",
    "\n",
    "member_fact.createOrReplaceTempView('member_fact')"
   ]
  },
  {
   "cell_type": "code",
   "execution_count": 7,
   "id": "df1bff10-4d2d-4d15-9f4f-8f70afbb145a",
   "metadata": {
    "execution": {
     "iopub.execute_input": "2022-12-04T09:35:24.855751Z",
     "iopub.status.busy": "2022-12-04T09:35:24.855588Z",
     "iopub.status.idle": "2022-12-04T09:35:25.617145Z",
     "shell.execute_reply": "2022-12-04T09:35:25.616577Z",
     "shell.execute_reply.started": "2022-12-04T09:35:24.855731Z"
    }
   },
   "outputs": [
    {
     "data": {
      "application/vnd.jupyter.widget-view+json": {
       "model_id": "df969e1894124313b30f2d7b86d1cedf",
       "version_major": 2,
       "version_minor": 0
      },
      "text/plain": [
       "VBox()"
      ]
     },
     "metadata": {},
     "output_type": "display_data"
    },
    {
     "data": {
      "application/vnd.jupyter.widget-view+json": {
       "model_id": "",
       "version_major": 2,
       "version_minor": 0
      },
      "text/plain": [
       "FloatProgress(value=0.0, bar_style='info', description='Progress:', layout=Layout(height='25px', width='50%'),…"
      ]
     },
     "metadata": {},
     "output_type": "display_data"
    }
   ],
   "source": [
    "points_fact1 = spark.sql('''\n",
    "                                SELECT * FROM \n",
    "                                22_loyalty.points_fact\n",
    "''')\n",
    "\n",
    "#points_fact1.count()\n",
    "\n",
    "points_fact1.createOrReplaceTempView('points_fact1')"
   ]
  },
  {
   "cell_type": "code",
   "execution_count": 8,
   "id": "f1adff0d-7c03-4f35-8b5a-df2ab4c53f8c",
   "metadata": {
    "execution": {
     "iopub.execute_input": "2022-12-04T09:35:25.858787Z",
     "iopub.status.busy": "2022-12-04T09:35:25.858569Z",
     "iopub.status.idle": "2022-12-04T09:35:26.124602Z",
     "shell.execute_reply": "2022-12-04T09:35:26.123936Z",
     "shell.execute_reply.started": "2022-12-04T09:35:25.858764Z"
    }
   },
   "outputs": [
    {
     "data": {
      "application/vnd.jupyter.widget-view+json": {
       "model_id": "0910a6567f654c17981ada28e1e3879d",
       "version_major": 2,
       "version_minor": 0
      },
      "text/plain": [
       "VBox()"
      ]
     },
     "metadata": {},
     "output_type": "display_data"
    },
    {
     "data": {
      "application/vnd.jupyter.widget-view+json": {
       "model_id": "",
       "version_major": 2,
       "version_minor": 0
      },
      "text/plain": [
       "FloatProgress(value=0.0, bar_style='info', description='Progress:', layout=Layout(height='25px', width='50%'),…"
      ]
     },
     "metadata": {},
     "output_type": "display_data"
    }
   ],
   "source": [
    "\n",
    "points_fact2 = points_fact1.na.fill(value=0, subset=[\"isdeleted\"])\n",
    "points_fact2.createOrReplaceTempView('points_fact2')\n",
    "points_fact3 = points_fact2.na.fill(value=0, subset=[\"ishistoricalpoint\"])\n",
    "points_fact2.createOrReplaceTempView('points_fact3')\n",
    "points_fact4 = points_fact3.na.fill(value=\"Credit Points\",\n",
    "                                    subset=[\"reconciliationstatus\"])\n",
    "points_fact = points_fact4.na.fill(value='Points', subset=[\"pointtypename\"])\n",
    "points_fact.createOrReplaceTempView('points_fact')"
   ]
  },
  {
   "cell_type": "code",
   "execution_count": 9,
   "id": "12619a51-fb2d-4617-aeda-c49d2093d256",
   "metadata": {
    "execution": {
     "iopub.execute_input": "2022-12-04T09:35:26.604517Z",
     "iopub.status.busy": "2022-12-04T09:35:26.604283Z",
     "iopub.status.idle": "2022-12-04T09:35:27.380900Z",
     "shell.execute_reply": "2022-12-04T09:35:27.380386Z",
     "shell.execute_reply.started": "2022-12-04T09:35:26.604479Z"
    }
   },
   "outputs": [
    {
     "data": {
      "application/vnd.jupyter.widget-view+json": {
       "model_id": "237d47cc890b45d78d500ed8970517d9",
       "version_major": 2,
       "version_minor": 0
      },
      "text/plain": [
       "VBox()"
      ]
     },
     "metadata": {},
     "output_type": "display_data"
    },
    {
     "data": {
      "application/vnd.jupyter.widget-view+json": {
       "model_id": "",
       "version_major": 2,
       "version_minor": 0
      },
      "text/plain": [
       "FloatProgress(value=0.0, bar_style='info', description='Progress:', layout=Layout(height='25px', width='50%'),…"
      ]
     },
     "metadata": {},
     "output_type": "display_data"
    }
   ],
   "source": [
    "memberredemption_fact = spark.sql('''\n",
    "                                        SELECT * FROM \n",
    "                                        22_loyalty.memberredemption_fact\n",
    "                                    ''')\n",
    "\n",
    "memberredemption_fact.createOrReplaceTempView('memberredemption_fact')"
   ]
  },
  {
   "cell_type": "code",
   "execution_count": 10,
   "id": "f382fdac-8f8d-42e4-bd43-0ddac901bc65",
   "metadata": {
    "execution": {
     "iopub.execute_input": "2022-12-04T09:35:27.808652Z",
     "iopub.status.busy": "2022-12-04T09:35:27.808433Z",
     "iopub.status.idle": "2022-12-04T09:35:28.572608Z",
     "shell.execute_reply": "2022-12-04T09:35:28.572121Z",
     "shell.execute_reply.started": "2022-12-04T09:35:27.808629Z"
    }
   },
   "outputs": [
    {
     "data": {
      "application/vnd.jupyter.widget-view+json": {
       "model_id": "3eaf0f7712744ab8a860f3b03f88bdcd",
       "version_major": 2,
       "version_minor": 0
      },
      "text/plain": [
       "VBox()"
      ]
     },
     "metadata": {},
     "output_type": "display_data"
    },
    {
     "data": {
      "application/vnd.jupyter.widget-view+json": {
       "model_id": "",
       "version_major": 2,
       "version_minor": 0
      },
      "text/plain": [
       "FloatProgress(value=0.0, bar_style='info', description='Progress:', layout=Layout(height='25px', width='50%'),…"
      ]
     },
     "metadata": {},
     "output_type": "display_data"
    }
   ],
   "source": [
    "\n",
    "tier_fact = spark.sql('''\n",
    "                                        SELECT * FROM \n",
    "                                        22_loyalty.tier_fact\n",
    "                                    ''')\n",
    "\n",
    "tier_fact.createOrReplaceTempView('tier_fact')"
   ]
  },
  {
   "cell_type": "code",
   "execution_count": 11,
   "id": "5506ef4b-e9c6-498b-9ab1-854b8f58c948",
   "metadata": {
    "execution": {
     "iopub.execute_input": "2022-12-04T09:35:28.573675Z",
     "iopub.status.busy": "2022-12-04T09:35:28.573510Z",
     "iopub.status.idle": "2022-12-04T09:35:29.333798Z",
     "shell.execute_reply": "2022-12-04T09:35:29.333273Z",
     "shell.execute_reply.started": "2022-12-04T09:35:28.573655Z"
    }
   },
   "outputs": [
    {
     "data": {
      "application/vnd.jupyter.widget-view+json": {
       "model_id": "01bed03853304d5488475d4d627bf75e",
       "version_major": 2,
       "version_minor": 0
      },
      "text/plain": [
       "VBox()"
      ]
     },
     "metadata": {},
     "output_type": "display_data"
    },
    {
     "data": {
      "application/vnd.jupyter.widget-view+json": {
       "model_id": "",
       "version_major": 2,
       "version_minor": 0
      },
      "text/plain": [
       "FloatProgress(value=0.0, bar_style='info', description='Progress:', layout=Layout(height='25px', width='50%'),…"
      ]
     },
     "metadata": {},
     "output_type": "display_data"
    }
   ],
   "source": [
    "AncillaryRevenueChargeCodes = spark.sql('''\n",
    "                                            SELECT * FROM \n",
    "                                            22_spicejetdatamart.ancillaryrevenuechargecodes\n",
    "\n",
    "''')\n",
    "\n",
    "AncillaryRevenueChargeCodes.createOrReplaceTempView(\n",
    "    'AncillaryRevenueChargeCodes')"
   ]
  },
  {
   "cell_type": "code",
   "execution_count": 12,
   "id": "ec593e3a-2927-477d-b21c-6f82a0d7bb55",
   "metadata": {
    "execution": {
     "iopub.execute_input": "2022-12-04T09:35:29.335017Z",
     "iopub.status.busy": "2022-12-04T09:35:29.334847Z",
     "iopub.status.idle": "2022-12-04T09:35:30.096369Z",
     "shell.execute_reply": "2022-12-04T09:35:30.095545Z",
     "shell.execute_reply.started": "2022-12-04T09:35:29.334996Z"
    }
   },
   "outputs": [
    {
     "data": {
      "application/vnd.jupyter.widget-view+json": {
       "model_id": "d92deb118b134fff9dc653b5b8625b1e",
       "version_major": 2,
       "version_minor": 0
      },
      "text/plain": [
       "VBox()"
      ]
     },
     "metadata": {},
     "output_type": "display_data"
    },
    {
     "data": {
      "application/vnd.jupyter.widget-view+json": {
       "model_id": "",
       "version_major": 2,
       "version_minor": 0
      },
      "text/plain": [
       "FloatProgress(value=0.0, bar_style='info', description='Progress:', layout=Layout(height='25px', width='50%'),…"
      ]
     },
     "metadata": {},
     "output_type": "display_data"
    }
   ],
   "source": [
    "\n",
    "bookingpassenger_split1 = spark.sql('''\n",
    "                                            SELECT * FROM \n",
    "                                            22_spicejetdatamart.bookingpassenger_split1\n",
    "\n",
    "''').repartition(100)\n",
    "\n",
    "bookingpassenger_split1.createOrReplaceTempView('bookingpassenger_split1')"
   ]
  },
  {
   "cell_type": "code",
   "execution_count": 13,
   "id": "df8657e8-af6a-4457-b4ef-530f5b1c0143",
   "metadata": {
    "execution": {
     "iopub.execute_input": "2022-12-04T09:35:30.098399Z",
     "iopub.status.busy": "2022-12-04T09:35:30.097652Z",
     "iopub.status.idle": "2022-12-04T09:35:30.862382Z",
     "shell.execute_reply": "2022-12-04T09:35:30.861863Z",
     "shell.execute_reply.started": "2022-12-04T09:35:30.098370Z"
    }
   },
   "outputs": [
    {
     "data": {
      "application/vnd.jupyter.widget-view+json": {
       "model_id": "2686994517524150874f106effefbf90",
       "version_major": 2,
       "version_minor": 0
      },
      "text/plain": [
       "VBox()"
      ]
     },
     "metadata": {},
     "output_type": "display_data"
    },
    {
     "data": {
      "application/vnd.jupyter.widget-view+json": {
       "model_id": "",
       "version_major": 2,
       "version_minor": 0
      },
      "text/plain": [
       "FloatProgress(value=0.0, bar_style='info', description='Progress:', layout=Layout(height='25px', width='50%'),…"
      ]
     },
     "metadata": {},
     "output_type": "display_data"
    }
   ],
   "source": [
    "PassengerFee = spark.sql('''\n",
    "                                            SELECT * FROM \n",
    "                                            22_spicejetdatamart.passengerfee\n",
    "\n",
    "''')\n",
    "\n",
    "PassengerFee.createOrReplaceTempView('PassengerFee')"
   ]
  },
  {
   "cell_type": "code",
   "execution_count": 14,
   "id": "7232734c-dff2-44d4-bd32-f670587a2501",
   "metadata": {
    "execution": {
     "iopub.execute_input": "2022-12-04T09:35:30.863393Z",
     "iopub.status.busy": "2022-12-04T09:35:30.863207Z",
     "iopub.status.idle": "2022-12-04T09:35:31.623627Z",
     "shell.execute_reply": "2022-12-04T09:35:31.623093Z",
     "shell.execute_reply.started": "2022-12-04T09:35:30.863372Z"
    }
   },
   "outputs": [
    {
     "data": {
      "application/vnd.jupyter.widget-view+json": {
       "model_id": "cc10cc8b89de4381a6fa1b17d10f47b1",
       "version_major": 2,
       "version_minor": 0
      },
      "text/plain": [
       "VBox()"
      ]
     },
     "metadata": {},
     "output_type": "display_data"
    },
    {
     "data": {
      "application/vnd.jupyter.widget-view+json": {
       "model_id": "",
       "version_major": 2,
       "version_minor": 0
      },
      "text/plain": [
       "FloatProgress(value=0.0, bar_style='info', description='Progress:', layout=Layout(height='25px', width='50%'),…"
      ]
     },
     "metadata": {},
     "output_type": "display_data"
    }
   ],
   "source": [
    "\n",
    "DimDate = spark.sql('''\n",
    "                                            SELECT * FROM \n",
    "                                            22_spicejetdatamart.DimDate\n",
    "\n",
    "''')\n",
    "\n",
    "DimDate.createOrReplaceTempView('DimDate')"
   ]
  },
  {
   "cell_type": "code",
   "execution_count": 15,
   "id": "3b02817d-28f8-42b7-b0be-5047fbea65df",
   "metadata": {
    "execution": {
     "iopub.execute_input": "2022-12-04T09:35:31.624919Z",
     "iopub.status.busy": "2022-12-04T09:35:31.624745Z",
     "iopub.status.idle": "2022-12-04T09:35:31.890109Z",
     "shell.execute_reply": "2022-12-04T09:35:31.889537Z",
     "shell.execute_reply.started": "2022-12-04T09:35:31.624898Z"
    }
   },
   "outputs": [
    {
     "data": {
      "application/vnd.jupyter.widget-view+json": {
       "model_id": "fc6f8ecc7d4c4945a722c600a6266997",
       "version_major": 2,
       "version_minor": 0
      },
      "text/plain": [
       "VBox()"
      ]
     },
     "metadata": {},
     "output_type": "display_data"
    },
    {
     "data": {
      "application/vnd.jupyter.widget-view+json": {
       "model_id": "",
       "version_major": 2,
       "version_minor": 0
      },
      "text/plain": [
       "FloatProgress(value=0.0, bar_style='info', description='Progress:', layout=Layout(height='25px', width='50%'),…"
      ]
     },
     "metadata": {},
     "output_type": "display_data"
    }
   ],
   "source": [
    "\n",
    "tmp_pointsissued = spark.sql('''\n",
    "                                SELECT sum(pointsissued) AS pointsissued\n",
    "\n",
    "                                     ,p.member\n",
    "\n",
    "                                FROM points_fact p \n",
    "\n",
    "                                WHERE p.isdeleted  = 0 \n",
    "\n",
    "                                     AND reconciliationstatus  = 'Credit Points'\n",
    "\n",
    "                                     AND ishistoricalpoint  = 0\n",
    "\n",
    "                                     AND pointtypename = 'Points'\n",
    "\n",
    "                                --and p.member=scm.uniqueid\n",
    "\n",
    "                                GROUP BY P.MEMBER\n",
    "\n",
    "''')\n",
    "\n",
    "#tmp_pointsissued.show(truncate=False)\n",
    "tmp_pointsissued.createOrReplaceTempView('tmp_pointsissued')"
   ]
  },
  {
   "cell_type": "code",
   "execution_count": 16,
   "id": "1c423c01-ee5d-405f-b8fd-055fe9f1e390",
   "metadata": {
    "execution": {
     "iopub.execute_input": "2022-12-04T09:35:31.891309Z",
     "iopub.status.busy": "2022-12-04T09:35:31.891129Z",
     "iopub.status.idle": "2022-12-04T09:35:32.153831Z",
     "shell.execute_reply": "2022-12-04T09:35:32.153347Z",
     "shell.execute_reply.started": "2022-12-04T09:35:31.891288Z"
    }
   },
   "outputs": [
    {
     "data": {
      "application/vnd.jupyter.widget-view+json": {
       "model_id": "84fda17ace37410f93bf699c4ff4b41c",
       "version_major": 2,
       "version_minor": 0
      },
      "text/plain": [
       "VBox()"
      ]
     },
     "metadata": {},
     "output_type": "display_data"
    },
    {
     "data": {
      "application/vnd.jupyter.widget-view+json": {
       "model_id": "",
       "version_major": 2,
       "version_minor": 0
      },
      "text/plain": [
       "FloatProgress(value=0.0, bar_style='info', description='Progress:', layout=Layout(height='25px', width='50%'),…"
      ]
     },
     "metadata": {},
     "output_type": "display_data"
    }
   ],
   "source": [
    "\n",
    "tmppointsredeemed = spark.sql('''\n",
    "                                    SELECT sum(pointstoredeem - pointsreverted) AS pointsredeemed\n",
    "\n",
    "                                         ,mr.member\n",
    "\n",
    "                                    FROM memberredemption_fact mr \n",
    "\n",
    "                                    WHERE mr.STATUS NOT IN (\n",
    "\n",
    "                                              'Cancelled'\n",
    "\n",
    "                                              ,'Transaction Reverted'\n",
    "\n",
    "                                              )\n",
    "\n",
    "                                    --and mr.member=scm.uniqueid\n",
    "\n",
    "                                    GROUP BY mr.member\n",
    "                                ''')\n",
    "\n",
    "tmppointsredeemed.createOrReplaceTempView('tmppointsredeemed')"
   ]
  },
  {
   "cell_type": "code",
   "execution_count": 17,
   "id": "b850bcbb-0bf0-4c71-bb9c-d8acd954da72",
   "metadata": {
    "execution": {
     "iopub.execute_input": "2022-12-04T09:35:32.154750Z",
     "iopub.status.busy": "2022-12-04T09:35:32.154592Z",
     "iopub.status.idle": "2022-12-04T09:35:32.414590Z",
     "shell.execute_reply": "2022-12-04T09:35:32.414025Z",
     "shell.execute_reply.started": "2022-12-04T09:35:32.154730Z"
    }
   },
   "outputs": [
    {
     "data": {
      "application/vnd.jupyter.widget-view+json": {
       "model_id": "52687a008b6f42c6b4ab453a142fbe72",
       "version_major": 2,
       "version_minor": 0
      },
      "text/plain": [
       "VBox()"
      ]
     },
     "metadata": {},
     "output_type": "display_data"
    },
    {
     "data": {
      "application/vnd.jupyter.widget-view+json": {
       "model_id": "",
       "version_major": 2,
       "version_minor": 0
      },
      "text/plain": [
       "FloatProgress(value=0.0, bar_style='info', description='Progress:', layout=Layout(height='25px', width='50%'),…"
      ]
     },
     "metadata": {},
     "output_type": "display_data"
    }
   ],
   "source": [
    "\n",
    "\n",
    "tmp_pointsUsed = spark.sql('''\n",
    "                                SELECT SUM(mp.PointsUsed) * 100 AS pointused\n",
    "\n",
    "                                     ,mp.member\n",
    "\n",
    "                                FROM points_fact mp\n",
    "\n",
    "                                --where mp.Member=scm.uniqueID\n",
    "\n",
    "                                GROUP BY mp.member\n",
    "\n",
    "                            ''')\n",
    "\n",
    "tmp_pointsUsed.createOrReplaceTempView('tmp_pointsUsed')"
   ]
  },
  {
   "cell_type": "code",
   "execution_count": 18,
   "id": "794ad4c8-3ef0-4009-937d-cfc31c3ee27e",
   "metadata": {
    "execution": {
     "iopub.execute_input": "2022-12-04T09:35:32.415798Z",
     "iopub.status.busy": "2022-12-04T09:35:32.415628Z",
     "iopub.status.idle": "2022-12-04T09:35:32.672944Z",
     "shell.execute_reply": "2022-12-04T09:35:32.672395Z",
     "shell.execute_reply.started": "2022-12-04T09:35:32.415777Z"
    },
    "tags": []
   },
   "outputs": [
    {
     "data": {
      "application/vnd.jupyter.widget-view+json": {
       "model_id": "911cfecfe8154cd8b6b6867db7b19b96",
       "version_major": 2,
       "version_minor": 0
      },
      "text/plain": [
       "VBox()"
      ]
     },
     "metadata": {},
     "output_type": "display_data"
    },
    {
     "data": {
      "application/vnd.jupyter.widget-view+json": {
       "model_id": "",
       "version_major": 2,
       "version_minor": 0
      },
      "text/plain": [
       "FloatProgress(value=0.0, bar_style='info', description='Progress:', layout=Layout(height='25px', width='50%'),…"
      ]
     },
     "metadata": {},
     "output_type": "display_data"
    }
   ],
   "source": [
    "tmpBookingdate = spark.sql('''\n",
    "                            SELECT DISTINCT cast(max(bookingdate) AS DATE) AS MAXBookingDate\n",
    "\n",
    "                            ,org_uid\n",
    "\n",
    "                            FROM GoldenRecordISPINC_fact\n",
    "\n",
    "                            GROUP BY org_uid \n",
    "                            \n",
    "                            ''')\n",
    "\n",
    "tmpBookingdate.createOrReplaceTempView('tmpBookingdate')"
   ]
  },
  {
   "cell_type": "code",
   "execution_count": null,
   "id": "0390b351-e911-4791-93af-89cce142b686",
   "metadata": {
    "tags": []
   },
   "outputs": [],
   "source": []
  },
  {
   "cell_type": "code",
   "execution_count": 19,
   "id": "fba6c6c6-ff54-4970-a3ab-94d99ccc4f22",
   "metadata": {
    "execution": {
     "iopub.execute_input": "2022-12-04T09:35:33.748538Z",
     "iopub.status.busy": "2022-12-04T09:35:33.748317Z",
     "iopub.status.idle": "2022-12-04T09:35:34.004407Z",
     "shell.execute_reply": "2022-12-04T09:35:34.003895Z",
     "shell.execute_reply.started": "2022-12-04T09:35:33.748514Z"
    },
    "tags": []
   },
   "outputs": [
    {
     "data": {
      "application/vnd.jupyter.widget-view+json": {
       "model_id": "32f7bc675ca8486ab54c3415ed0e6fd8",
       "version_major": 2,
       "version_minor": 0
      },
      "text/plain": [
       "VBox()"
      ]
     },
     "metadata": {},
     "output_type": "display_data"
    },
    {
     "data": {
      "application/vnd.jupyter.widget-view+json": {
       "model_id": "",
       "version_major": 2,
       "version_minor": 0
      },
      "text/plain": [
       "FloatProgress(value=0.0, bar_style='info', description='Progress:', layout=Layout(height='25px', width='50%'),…"
      ]
     },
     "metadata": {},
     "output_type": "display_data"
    }
   ],
   "source": [
    "tmpDepartureDate = spark.sql('''\n",
    "\n",
    "                SELECT DISTINCT cast(max(DepartureDate_PS) AS DATE) AS MAXDepartureDate, org_uid\n",
    "\n",
    "                FROM GoldenRecordISPINC_fact g\n",
    "                \n",
    "                --where g.org_uid = '16127626142100316277'\n",
    "\n",
    "                GROUP BY org_uid\n",
    "                \n",
    "                ''')\n",
    "\n",
    "#tmpDepartureDate.show()\n",
    "\n",
    "tmpDepartureDate.createOrReplaceTempView('tmpDepartureDate_PS')"
   ]
  },
  {
   "cell_type": "code",
   "execution_count": null,
   "id": "8d61f335-dcf1-4009-ba27-c86e413924fd",
   "metadata": {
    "tags": []
   },
   "outputs": [],
   "source": []
  },
  {
   "cell_type": "code",
   "execution_count": 20,
   "id": "7344c46c-32ee-40a1-aa5c-4546040e73ca",
   "metadata": {
    "execution": {
     "iopub.execute_input": "2022-12-04T09:35:35.299163Z",
     "iopub.status.busy": "2022-12-04T09:35:35.298946Z",
     "iopub.status.idle": "2022-12-04T09:35:35.553100Z",
     "shell.execute_reply": "2022-12-04T09:35:35.552625Z",
     "shell.execute_reply.started": "2022-12-04T09:35:35.299141Z"
    },
    "tags": []
   },
   "outputs": [
    {
     "data": {
      "application/vnd.jupyter.widget-view+json": {
       "model_id": "627186d6280c4f619be0de21dd5019a0",
       "version_major": 2,
       "version_minor": 0
      },
      "text/plain": [
       "VBox()"
      ]
     },
     "metadata": {},
     "output_type": "display_data"
    },
    {
     "data": {
      "application/vnd.jupyter.widget-view+json": {
       "model_id": "",
       "version_major": 2,
       "version_minor": 0
      },
      "text/plain": [
       "FloatProgress(value=0.0, bar_style='info', description='Progress:', layout=Layout(height='25px', width='50%'),…"
      ]
     },
     "metadata": {},
     "output_type": "display_data"
    }
   ],
   "source": [
    "################ LastDepartureDate - START ######################\n",
    "\n",
    "LastDepartureDate = spark.sql('''\n",
    "            select DISTINCT g.ORG_UID,\n",
    "         (\n",
    "            SELECT Max(DepartureDate_PS)\n",
    "            \n",
    "            FROM GoldenRecordISPINC_fact T2 \n",
    "            \n",
    "            WHERE G.Org_Uid = T2.Org_Uid\n",
    "            \n",
    "                AND Liftstatus = 2\n",
    "                \n",
    "            ) LastDepartureDate\n",
    "            \n",
    "            FROM GoldenRecordISPINC_fact g  \n",
    "            \n",
    "            ''')\n",
    "\n",
    "LastDepartureDate.createOrReplaceTempView('LastDepartureDate')"
   ]
  },
  {
   "cell_type": "code",
   "execution_count": 21,
   "id": "5dfb701b-5e18-4fb3-be8a-a91a41542201",
   "metadata": {
    "execution": {
     "iopub.execute_input": "2022-12-04T09:35:36.833049Z",
     "iopub.status.busy": "2022-12-04T09:35:36.832845Z",
     "iopub.status.idle": "2022-12-04T09:35:36.878150Z",
     "shell.execute_reply": "2022-12-04T09:35:36.877684Z",
     "shell.execute_reply.started": "2022-12-04T09:35:36.833026Z"
    },
    "tags": []
   },
   "outputs": [
    {
     "data": {
      "application/vnd.jupyter.widget-view+json": {
       "model_id": "abc92840103c44489387c0769d1d08d6",
       "version_major": 2,
       "version_minor": 0
      },
      "text/plain": [
       "VBox()"
      ]
     },
     "metadata": {},
     "output_type": "display_data"
    },
    {
     "data": {
      "application/vnd.jupyter.widget-view+json": {
       "model_id": "",
       "version_major": 2,
       "version_minor": 0
      },
      "text/plain": [
       "FloatProgress(value=0.0, bar_style='info', description='Progress:', layout=Layout(height='25px', width='50%'),…"
      ]
     },
     "metadata": {},
     "output_type": "display_data"
    }
   ],
   "source": [
    "#LastDepartureDate.show()"
   ]
  },
  {
   "cell_type": "code",
   "execution_count": 22,
   "id": "cb52aec3-95de-4f0a-a658-07476efd731c",
   "metadata": {
    "execution": {
     "iopub.execute_input": "2022-12-04T09:35:37.759450Z",
     "iopub.status.busy": "2022-12-04T09:35:37.759229Z",
     "iopub.status.idle": "2022-12-04T09:35:38.020240Z",
     "shell.execute_reply": "2022-12-04T09:35:38.019663Z",
     "shell.execute_reply.started": "2022-12-04T09:35:37.759426Z"
    },
    "tags": []
   },
   "outputs": [
    {
     "data": {
      "application/vnd.jupyter.widget-view+json": {
       "model_id": "97b961b5d47241029ec2d982c3dbb4c0",
       "version_major": 2,
       "version_minor": 0
      },
      "text/plain": [
       "VBox()"
      ]
     },
     "metadata": {},
     "output_type": "display_data"
    },
    {
     "data": {
      "application/vnd.jupyter.widget-view+json": {
       "model_id": "",
       "version_major": 2,
       "version_minor": 0
      },
      "text/plain": [
       "FloatProgress(value=0.0, bar_style='info', description='Progress:', layout=Layout(height='25px', width='50%'),…"
      ]
     },
     "metadata": {},
     "output_type": "display_data"
    }
   ],
   "source": [
    "LastDepartureDate = spark.sql('''\n",
    "                              SELECT DISTINCT g.ORG_UID\n",
    "\n",
    "                              ,t1.pointsissued AS TotalPointsAccrued_12M\n",
    "\n",
    "                              ,t8.pointsredeemed AS TotalPointsRedeemed_12M\n",
    "\n",
    "                              ,t3.pointused AS RedemptionRatio\n",
    "\n",
    "                              ,tg.LastDepartureDate\n",
    "                                  \n",
    "                                FROM GoldenRecordISPINC_fact G \n",
    "                                \n",
    "                                 LEFT JOIN LastDepartureDate tg ON tg.ORG_UID = g.ORG_UID\n",
    "\n",
    "                                 LEFT JOIN CustomerMatchMerge_SFLTYRW_PAX cl ON cl.UID = g.ORG_UID\n",
    "\n",
    "                                 LEFT JOIN ContactProfileHubProcessing_fact m ON m.MobilePhone = g.Homephonecode --addedby amreen  ---doubt\n",
    "\n",
    "                                 LEFT JOIN Member_fact Scm ON Scm.contact = m.uniqueid --added by amreen\n",
    "\n",
    "                                 LEFT JOIN tier_fact t ON t.uniqueid = scm.loyaltytier --added by amreen to display tiername\n",
    "\n",
    "                                 LEFT JOIN tmp_pointsissued t1 ON t1.member = scm.uniqueid\n",
    "\n",
    "                                 LEFT JOIN tmppointsredeemed t8 ON t8.member = scm.uniqueid\n",
    "\n",
    "                                 LEFT JOIN tmp_pointsUsed t3 ON t3.member = scm.uniqueid\n",
    "\n",
    "                                 LEFT JOIN tmpBookingdate tb ON tb.org_uid = g.org_uid\n",
    "\n",
    "                                 --WHERE g.org_uid = '16116833142100004052'\n",
    "\n",
    "                                 GROUP BY G.ORG_UID\n",
    "\n",
    "                                      ,cl.uid\n",
    "\n",
    "                                      ,t1.pointsissued\n",
    "\n",
    "                                      ,t8.pointsredeemed\n",
    "\n",
    "                                      ,t3.pointused\n",
    "\n",
    "                                      ,tb.MAXBookingDate\n",
    "                                      \n",
    "                                      ,tg.LastDepartureDate\n",
    "                                      \n",
    "                                      \n",
    "                                      \n",
    "''')\n",
    "\n",
    "LastDepartureDate.createOrReplaceTempView('LastDepartureDate')"
   ]
  },
  {
   "cell_type": "code",
   "execution_count": 23,
   "id": "3cfbda16-c62c-426e-a222-5d983359fccf",
   "metadata": {
    "execution": {
     "iopub.execute_input": "2022-12-04T09:35:38.650324Z",
     "iopub.status.busy": "2022-12-04T09:35:38.650108Z",
     "iopub.status.idle": "2022-12-04T09:35:38.704612Z",
     "shell.execute_reply": "2022-12-04T09:35:38.704128Z",
     "shell.execute_reply.started": "2022-12-04T09:35:38.650301Z"
    },
    "tags": []
   },
   "outputs": [
    {
     "data": {
      "application/vnd.jupyter.widget-view+json": {
       "model_id": "8a9990f9d3a74ad2b4edd4af57658957",
       "version_major": 2,
       "version_minor": 0
      },
      "text/plain": [
       "VBox()"
      ]
     },
     "metadata": {},
     "output_type": "display_data"
    },
    {
     "data": {
      "application/vnd.jupyter.widget-view+json": {
       "model_id": "",
       "version_major": 2,
       "version_minor": 0
      },
      "text/plain": [
       "FloatProgress(value=0.0, bar_style='info', description='Progress:', layout=Layout(height='25px', width='50%'),…"
      ]
     },
     "metadata": {},
     "output_type": "display_data"
    }
   ],
   "source": [
    "################ LastDepartureDate - END ######################\n",
    "\n",
    "#mainQuery.count()"
   ]
  },
  {
   "cell_type": "code",
   "execution_count": 24,
   "id": "50c1aaaf-eecd-4446-a44c-4b5e1eaf993d",
   "metadata": {
    "execution": {
     "iopub.execute_input": "2022-12-04T09:35:39.050514Z",
     "iopub.status.busy": "2022-12-04T09:35:39.050308Z",
     "iopub.status.idle": "2022-12-04T09:35:39.305576Z",
     "shell.execute_reply": "2022-12-04T09:35:39.305079Z",
     "shell.execute_reply.started": "2022-12-04T09:35:39.050492Z"
    },
    "tags": []
   },
   "outputs": [
    {
     "data": {
      "application/vnd.jupyter.widget-view+json": {
       "model_id": "8a5923cd50b341bdbdcec03ee3a6d314",
       "version_major": 2,
       "version_minor": 0
      },
      "text/plain": [
       "VBox()"
      ]
     },
     "metadata": {},
     "output_type": "display_data"
    },
    {
     "data": {
      "application/vnd.jupyter.widget-view+json": {
       "model_id": "",
       "version_major": 2,
       "version_minor": 0
      },
      "text/plain": [
       "FloatProgress(value=0.0, bar_style='info', description='Progress:', layout=Layout(height='25px', width='50%'),…"
      ]
     },
     "metadata": {},
     "output_type": "display_data"
    }
   ],
   "source": [
    "Months_12 = spark.sql('''\n",
    "                SELECT g.org_uid, add_months('1900-01-01', CAST(months_between(g.MAXDepartureDate, '1900-01-01') AS INT) -12) AS Date\n",
    "                            \n",
    "                            FROM tmpDepartureDate_PS g\n",
    "                            \n",
    "                            --where g.org_uid = '16127626142100316277'\n",
    "                            \n",
    "            ''')\n",
    "\n",
    "#Months_12.show()\n",
    "\n",
    "Months_12.createOrReplaceTempView('Months_12')\n",
    "\n",
    "Months_3 = spark.sql('''\n",
    "                SELECT g.org_uid, add_months('1900-01-01', CAST(months_between(g.MAXDepartureDate, '1900-01-01') AS INT) -3) AS Date\n",
    "                            \n",
    "                            FROM tmpDepartureDate_PS g\n",
    "                            \n",
    "                            --where g.org_uid = '16127626142100316277'\n",
    "                            \n",
    "            ''')\n",
    "\n",
    "Months_3.createOrReplaceTempView('Months_3')\n",
    "\n",
    "Months_6 = spark.sql('''\n",
    "                SELECT g.org_uid, add_months('1900-01-01', CAST(months_between(g.MAXDepartureDate, '1900-01-01') AS INT) -6) AS Date\n",
    "                            \n",
    "                            FROM tmpDepartureDate_PS g\n",
    "                            \n",
    "                            --where g.org_uid = '16127626142100316277'\n",
    "                            \n",
    "            ''')\n",
    "\n",
    "Months_6.createOrReplaceTempView('Months_6')"
   ]
  },
  {
   "cell_type": "code",
   "execution_count": null,
   "id": "f6ac1562-6543-4b33-ba5d-5b01ca6c5064",
   "metadata": {
    "tags": []
   },
   "outputs": [],
   "source": []
  },
  {
   "cell_type": "code",
   "execution_count": 25,
   "id": "fa3fc667-3912-424f-b7e8-fbad0a8382f4",
   "metadata": {
    "execution": {
     "iopub.execute_input": "2022-12-04T09:35:39.749421Z",
     "iopub.status.busy": "2022-12-04T09:35:39.749194Z",
     "iopub.status.idle": "2022-12-04T09:35:40.004603Z",
     "shell.execute_reply": "2022-12-04T09:35:40.004088Z",
     "shell.execute_reply.started": "2022-12-04T09:35:39.749398Z"
    },
    "tags": []
   },
   "outputs": [
    {
     "data": {
      "application/vnd.jupyter.widget-view+json": {
       "model_id": "662cacf2462546fbb8a692a4a947ead9",
       "version_major": 2,
       "version_minor": 0
      },
      "text/plain": [
       "VBox()"
      ]
     },
     "metadata": {},
     "output_type": "display_data"
    },
    {
     "data": {
      "application/vnd.jupyter.widget-view+json": {
       "model_id": "",
       "version_major": 2,
       "version_minor": 0
      },
      "text/plain": [
       "FloatProgress(value=0.0, bar_style='info', description='Progress:', layout=Layout(height='25px', width='50%'),…"
      ]
     },
     "metadata": {},
     "output_type": "display_data"
    }
   ],
   "source": [
    "########### DomFlightFreq-START ############\n",
    "\n",
    "DomFlightFreq_1 = spark.sql('''\n",
    "\n",
    "    WITH CTE_1\n",
    "    AS (\n",
    "        SELECT DISTINCT (t2.segmentid) AS DSegmentId, t2.org_uid, t2.liftstatus, t2.International, t2.DepartureDate_PS\n",
    "\n",
    "                FROM GoldenRecordISPINC_fact t2 \n",
    "                \n",
    "                 --WHERE t2.AlternateKey Between '1' AND '1000'\n",
    "                  \n",
    "                 \n",
    "                 --t2.org_uid = '16116833142100115739'\n",
    "        )\n",
    "    SELECT * FROM CTE_1\n",
    "    \n",
    "    ''')"
   ]
  },
  {
   "cell_type": "code",
   "execution_count": null,
   "id": "861169c7-050b-498a-86ea-914015c847d3",
   "metadata": {
    "tags": []
   },
   "outputs": [],
   "source": []
  },
  {
   "cell_type": "code",
   "execution_count": 26,
   "id": "fe877167-0152-4257-a4b1-8cdc776291ae",
   "metadata": {
    "execution": {
     "iopub.execute_input": "2022-12-04T09:35:41.519069Z",
     "iopub.status.busy": "2022-12-04T09:35:41.518810Z",
     "iopub.status.idle": "2022-12-04T09:35:41.569069Z",
     "shell.execute_reply": "2022-12-04T09:35:41.568475Z",
     "shell.execute_reply.started": "2022-12-04T09:35:41.519045Z"
    },
    "tags": []
   },
   "outputs": [
    {
     "data": {
      "application/vnd.jupyter.widget-view+json": {
       "model_id": "ca1ee8ee6ae74785a7b3fb5338f964eb",
       "version_major": 2,
       "version_minor": 0
      },
      "text/plain": [
       "VBox()"
      ]
     },
     "metadata": {},
     "output_type": "display_data"
    },
    {
     "data": {
      "application/vnd.jupyter.widget-view+json": {
       "model_id": "",
       "version_major": 2,
       "version_minor": 0
      },
      "text/plain": [
       "FloatProgress(value=0.0, bar_style='info', description='Progress:', layout=Layout(height='25px', width='50%'),…"
      ]
     },
     "metadata": {},
     "output_type": "display_data"
    }
   ],
   "source": [
    "DomFlightFreq_1.createOrReplaceTempView('DomFlightFreq_1')"
   ]
  },
  {
   "cell_type": "code",
   "execution_count": null,
   "id": "ec8b1763-b10e-4b08-ace2-a85df9a9efac",
   "metadata": {
    "tags": []
   },
   "outputs": [],
   "source": []
  },
  {
   "cell_type": "code",
   "execution_count": 27,
   "id": "0dd145b6-a642-4c0a-8e5b-b1b8356bf50c",
   "metadata": {
    "execution": {
     "iopub.execute_input": "2022-12-04T09:35:42.439163Z",
     "iopub.status.busy": "2022-12-04T09:35:42.438943Z",
     "iopub.status.idle": "2022-12-04T09:35:42.692216Z",
     "shell.execute_reply": "2022-12-04T09:35:42.691706Z",
     "shell.execute_reply.started": "2022-12-04T09:35:42.439141Z"
    },
    "tags": []
   },
   "outputs": [
    {
     "data": {
      "application/vnd.jupyter.widget-view+json": {
       "model_id": "7fae70d442f5446babf6d70e35bdf792",
       "version_major": 2,
       "version_minor": 0
      },
      "text/plain": [
       "VBox()"
      ]
     },
     "metadata": {},
     "output_type": "display_data"
    },
    {
     "data": {
      "application/vnd.jupyter.widget-view+json": {
       "model_id": "",
       "version_major": 2,
       "version_minor": 0
      },
      "text/plain": [
       "FloatProgress(value=0.0, bar_style='info', description='Progress:', layout=Layout(height='25px', width='50%'),…"
      ]
     },
     "metadata": {},
     "output_type": "display_data"
    }
   ],
   "source": [
    "DomFlightFreq_2 = spark.sql('''\n",
    "\n",
    "                SELECT count(DSegmentId), org_uid \n",
    "                \n",
    "                FROM DomFlightFreq_1 WHERE DSegmentId IS NOT NULL \n",
    "                \n",
    "                group by Org_uid\n",
    "\n",
    "''')\n",
    "\n",
    "DomFlightFreq_2.createOrReplaceTempView('DomFlightFreq_2')"
   ]
  },
  {
   "cell_type": "code",
   "execution_count": null,
   "id": "5938e111-992b-454c-904d-3444eea66008",
   "metadata": {
    "tags": []
   },
   "outputs": [],
   "source": []
  },
  {
   "cell_type": "code",
   "execution_count": 28,
   "id": "80b97079-ca50-44c9-ae8e-dc3bea311828",
   "metadata": {
    "execution": {
     "iopub.execute_input": "2022-12-04T09:35:43.269403Z",
     "iopub.status.busy": "2022-12-04T09:35:43.269187Z",
     "iopub.status.idle": "2022-12-04T09:35:43.522891Z",
     "shell.execute_reply": "2022-12-04T09:35:43.522351Z",
     "shell.execute_reply.started": "2022-12-04T09:35:43.269379Z"
    },
    "tags": []
   },
   "outputs": [
    {
     "data": {
      "application/vnd.jupyter.widget-view+json": {
       "model_id": "c8ba16ec7ebc4c58b81e2579a7d9293b",
       "version_major": 2,
       "version_minor": 0
      },
      "text/plain": [
       "VBox()"
      ]
     },
     "metadata": {},
     "output_type": "display_data"
    },
    {
     "data": {
      "application/vnd.jupyter.widget-view+json": {
       "model_id": "",
       "version_major": 2,
       "version_minor": 0
      },
      "text/plain": [
       "FloatProgress(value=0.0, bar_style='info', description='Progress:', layout=Layout(height='25px', width='50%'),…"
      ]
     },
     "metadata": {},
     "output_type": "display_data"
    }
   ],
   "source": [
    "DomFlightFreq = spark.sql('''\n",
    "\n",
    "    \n",
    "\n",
    "    WITH CTE_3\n",
    "    \n",
    "            AS \n",
    "            \n",
    "            (\n",
    "                SELECT count(DSegmentId) AS DomFlightFreq, c.org_uid\n",
    "\n",
    "                FROM DomFlightFreq_1 c\n",
    "\n",
    "                left join tmpDepartureDate_PS td on td.org_uid = c.org_uid\n",
    "\n",
    "                left join Months_12 m on m.org_uid = c.org_uid\n",
    "                \n",
    "                left join DomFlightFreq_2 c2 on c2.org_uid = c.org_uid\n",
    "\n",
    "                WHERE --c.org_uid = '16116833142100003433'\n",
    "\n",
    "                        --c.segmentid IS NULL\n",
    "                        \n",
    "                        --c.DepartureDate_PS2 = '1900-01-01'\n",
    "\n",
    "                        --AND\n",
    "\n",
    "                        (c.liftstatus = 2\n",
    "                        \n",
    "                        OR c.liftstatus IS NULL)\n",
    "                        \n",
    "                        AND (CAST(c.International AS VARCHAR(10)) = 'false'\n",
    "                        \n",
    "                        OR c.International IS NULL)\n",
    "\n",
    "                        AND\n",
    "\n",
    "                        (\n",
    "                        \n",
    "                        (c.DepartureDate_PS BETWEEN \n",
    "\n",
    "                                    m.date\n",
    "\n",
    "                                    AND\n",
    "\n",
    "                                    td.MAXDepartureDate)\n",
    "                                    \n",
    "                                    OR\n",
    "                                    \n",
    "                                    (c.DepartureDate_PS IS NULL)\n",
    "                                    \n",
    "                                    )\n",
    "\n",
    "                    GROUP BY c.org_uid\n",
    "                    \n",
    "                        )\n",
    "\n",
    "            SELECT *\n",
    "            FROM CTE_3\n",
    "   ''')\n",
    "\n",
    "#DomFlightFreq.count()\n",
    "\n",
    "DomFlightFreq.createOrReplaceTempView('DomFlightFreq')"
   ]
  },
  {
   "cell_type": "code",
   "execution_count": null,
   "id": "7b6d716f-b07e-4c45-a2fd-22090740707c",
   "metadata": {
    "tags": []
   },
   "outputs": [],
   "source": []
  },
  {
   "cell_type": "code",
   "execution_count": 29,
   "id": "8bd4ba37-bb55-4394-ace2-de2ac01824d3",
   "metadata": {
    "execution": {
     "iopub.execute_input": "2022-12-04T09:35:44.019484Z",
     "iopub.status.busy": "2022-12-04T09:35:44.019272Z",
     "iopub.status.idle": "2022-12-04T09:35:44.272986Z",
     "shell.execute_reply": "2022-12-04T09:35:44.272466Z",
     "shell.execute_reply.started": "2022-12-04T09:35:44.019461Z"
    },
    "tags": []
   },
   "outputs": [
    {
     "data": {
      "application/vnd.jupyter.widget-view+json": {
       "model_id": "68c8e5db49af4d309ab788c76481b922",
       "version_major": 2,
       "version_minor": 0
      },
      "text/plain": [
       "VBox()"
      ]
     },
     "metadata": {},
     "output_type": "display_data"
    },
    {
     "data": {
      "application/vnd.jupyter.widget-view+json": {
       "model_id": "",
       "version_major": 2,
       "version_minor": 0
      },
      "text/plain": [
       "FloatProgress(value=0.0, bar_style='info', description='Progress:', layout=Layout(height='25px', width='50%'),…"
      ]
     },
     "metadata": {},
     "output_type": "display_data"
    }
   ],
   "source": [
    "IntFlightFreq_1 = spark.sql('''\n",
    "\n",
    "    WITH CTE_1\n",
    "    AS (\n",
    "        SELECT DISTINCT (t2.segmentid) AS DSegmentId, t2.org_uid, t2.liftstatus, t2.International, t2.DepartureDate_PS\n",
    "\n",
    "                FROM GoldenRecordISPINC_fact t2 \n",
    "                \n",
    "                 --WHERE t2.AlternateKey Between '1' AND '1000'\n",
    "                  \n",
    "                 \n",
    "                 --t2.org_uid = '16116833142100003433'\n",
    "        )\n",
    "    SELECT * FROM CTE_1\n",
    "    \n",
    "    ''')\n",
    "\n",
    "IntFlightFreq_1.createOrReplaceTempView('IntFlightFreq_1')"
   ]
  },
  {
   "cell_type": "code",
   "execution_count": null,
   "id": "480f3302-1d0f-4456-b6ef-a96b68f15793",
   "metadata": {
    "tags": []
   },
   "outputs": [],
   "source": []
  },
  {
   "cell_type": "code",
   "execution_count": 30,
   "id": "9fe3a79a-517d-4509-8d99-3f2890e2759d",
   "metadata": {
    "execution": {
     "iopub.execute_input": "2022-12-04T09:35:44.729487Z",
     "iopub.status.busy": "2022-12-04T09:35:44.729200Z",
     "iopub.status.idle": "2022-12-04T09:35:45.011939Z",
     "shell.execute_reply": "2022-12-04T09:35:45.011351Z",
     "shell.execute_reply.started": "2022-12-04T09:35:44.729453Z"
    },
    "tags": []
   },
   "outputs": [
    {
     "data": {
      "application/vnd.jupyter.widget-view+json": {
       "model_id": "b360bc249ef94344b75b8a0d4d008c8a",
       "version_major": 2,
       "version_minor": 0
      },
      "text/plain": [
       "VBox()"
      ]
     },
     "metadata": {},
     "output_type": "display_data"
    },
    {
     "data": {
      "application/vnd.jupyter.widget-view+json": {
       "model_id": "",
       "version_major": 2,
       "version_minor": 0
      },
      "text/plain": [
       "FloatProgress(value=0.0, bar_style='info', description='Progress:', layout=Layout(height='25px', width='50%'),…"
      ]
     },
     "metadata": {},
     "output_type": "display_data"
    }
   ],
   "source": [
    "IntFlightFreq_2 = spark.sql('''\n",
    "\n",
    "                SELECT count(DSegmentId), org_uid \n",
    "                \n",
    "                FROM IntFlightFreq_1 WHERE DSegmentId IS NOT NULL \n",
    "                \n",
    "                group by Org_uid\n",
    "\n",
    "''')\n",
    "\n",
    "IntFlightFreq_2.createOrReplaceTempView('IntFlightFreq_2')"
   ]
  },
  {
   "cell_type": "code",
   "execution_count": null,
   "id": "f639b500-2feb-4872-90d1-e22bb9b28af4",
   "metadata": {
    "tags": []
   },
   "outputs": [],
   "source": []
  },
  {
   "cell_type": "code",
   "execution_count": 31,
   "id": "651d290c-2242-46bd-b3c2-dcf7e6dd7ac6",
   "metadata": {
    "execution": {
     "iopub.execute_input": "2022-12-04T09:35:45.549160Z",
     "iopub.status.busy": "2022-12-04T09:35:45.548909Z",
     "iopub.status.idle": "2022-12-04T09:35:45.824010Z",
     "shell.execute_reply": "2022-12-04T09:35:45.823413Z",
     "shell.execute_reply.started": "2022-12-04T09:35:45.549124Z"
    },
    "tags": []
   },
   "outputs": [
    {
     "data": {
      "application/vnd.jupyter.widget-view+json": {
       "model_id": "c16683f64cf3425e8f1fbf2d1ab0f1eb",
       "version_major": 2,
       "version_minor": 0
      },
      "text/plain": [
       "VBox()"
      ]
     },
     "metadata": {},
     "output_type": "display_data"
    },
    {
     "data": {
      "application/vnd.jupyter.widget-view+json": {
       "model_id": "",
       "version_major": 2,
       "version_minor": 0
      },
      "text/plain": [
       "FloatProgress(value=0.0, bar_style='info', description='Progress:', layout=Layout(height='25px', width='50%'),…"
      ]
     },
     "metadata": {},
     "output_type": "display_data"
    }
   ],
   "source": [
    "IntFlightFreq = spark.sql('''\n",
    "\n",
    "    \n",
    "\n",
    "    WITH CTE_3\n",
    "    \n",
    "            AS \n",
    "            \n",
    "            (\n",
    "                SELECT count(DSegmentId) AS IntFlightFreq, c.org_uid\n",
    "\n",
    "                FROM DomFlightFreq_1 c\n",
    "\n",
    "                left join tmpDepartureDate_PS td on td.org_uid = c.org_uid\n",
    "\n",
    "                left join Months_12 m on m.org_uid = c.org_uid\n",
    "                \n",
    "                left join DomFlightFreq_2 c2 on c2.org_uid = c.org_uid\n",
    "\n",
    "                WHERE --c.org_uid = '16116833142100003433'\n",
    "\n",
    "                        --c.segmentid IS NULL\n",
    "                        \n",
    "                        --c.DepartureDate_PS2 = '1900-01-01'\n",
    "\n",
    "                        --AND\n",
    "\n",
    "                        (c.liftstatus = 2\n",
    "                        \n",
    "                        OR c.liftstatus IS NULL)\n",
    "                        \n",
    "                        AND (CAST(c.International AS VARCHAR(10)) = 'true'\n",
    "                        \n",
    "                        OR c.International IS NULL)\n",
    "\n",
    "                        AND\n",
    "\n",
    "                        (\n",
    "                        \n",
    "                        (c.DepartureDate_PS BETWEEN \n",
    "\n",
    "                                    m.date\n",
    "\n",
    "                                    AND\n",
    "\n",
    "                                    td.MAXDepartureDate)\n",
    "                                    \n",
    "                                    OR\n",
    "                                    \n",
    "                                    (c.DepartureDate_PS IS NULL)\n",
    "                                    \n",
    "                                    )\n",
    "\n",
    "                    GROUP BY c.org_uid\n",
    "                    \n",
    "                        )\n",
    "\n",
    "            SELECT *\n",
    "            FROM CTE_3 \n",
    "   ''')\n",
    "\n",
    "IntFlightFreq.createOrReplaceTempView('IntFlightFreq')"
   ]
  },
  {
   "cell_type": "code",
   "execution_count": 32,
   "id": "31a2063e-f778-4638-9592-e670a99196e8",
   "metadata": {
    "execution": {
     "iopub.execute_input": "2022-12-04T09:35:46.198678Z",
     "iopub.status.busy": "2022-12-04T09:35:46.198457Z",
     "iopub.status.idle": "2022-12-04T09:35:46.245344Z",
     "shell.execute_reply": "2022-12-04T09:35:46.244788Z",
     "shell.execute_reply.started": "2022-12-04T09:35:46.198654Z"
    },
    "tags": []
   },
   "outputs": [
    {
     "data": {
      "application/vnd.jupyter.widget-view+json": {
       "model_id": "c7effcb6994e48cfa394de706c47d0e3",
       "version_major": 2,
       "version_minor": 0
      },
      "text/plain": [
       "VBox()"
      ]
     },
     "metadata": {},
     "output_type": "display_data"
    },
    {
     "data": {
      "application/vnd.jupyter.widget-view+json": {
       "model_id": "",
       "version_major": 2,
       "version_minor": 0
      },
      "text/plain": [
       "FloatProgress(value=0.0, bar_style='info', description='Progress:', layout=Layout(height='25px', width='50%'),…"
      ]
     },
     "metadata": {},
     "output_type": "display_data"
    }
   ],
   "source": [
    "#IntFlightFreq.count()\n",
    "\n",
    "########## IntFlightFreq - END ###########\n",
    "\n",
    "############# OverallFlightFreq - START #############"
   ]
  },
  {
   "cell_type": "code",
   "execution_count": 33,
   "id": "33fc0670-66a0-4306-8d35-a021f9cf928e",
   "metadata": {
    "execution": {
     "iopub.execute_input": "2022-12-04T09:35:46.563512Z",
     "iopub.status.busy": "2022-12-04T09:35:46.563279Z",
     "iopub.status.idle": "2022-12-04T09:35:46.819981Z",
     "shell.execute_reply": "2022-12-04T09:35:46.819229Z",
     "shell.execute_reply.started": "2022-12-04T09:35:46.563487Z"
    },
    "tags": []
   },
   "outputs": [
    {
     "data": {
      "application/vnd.jupyter.widget-view+json": {
       "model_id": "f4bf99f07ac14f3482a20abdf799e707",
       "version_major": 2,
       "version_minor": 0
      },
      "text/plain": [
       "VBox()"
      ]
     },
     "metadata": {},
     "output_type": "display_data"
    },
    {
     "data": {
      "application/vnd.jupyter.widget-view+json": {
       "model_id": "",
       "version_major": 2,
       "version_minor": 0
      },
      "text/plain": [
       "FloatProgress(value=0.0, bar_style='info', description='Progress:', layout=Layout(height='25px', width='50%'),…"
      ]
     },
     "metadata": {},
     "output_type": "display_data"
    }
   ],
   "source": [
    "OverallFlightFreq_1 = spark.sql('''\n",
    "                    SELECT c.org_uid, c.DomFlightFreq, d.IntFlightFreq\n",
    "                    \n",
    "                    FROM DomFlightFreq c\n",
    "                    \n",
    "                    left join IntFlightFreq d on c.org_uid = d.org_uid\n",
    "                    \n",
    "                    \n",
    "\n",
    "\n",
    "''')\n",
    "\n",
    "OverallFlightFreq_1.createOrReplaceTempView('OverallFlightFreq_1')"
   ]
  },
  {
   "cell_type": "code",
   "execution_count": null,
   "id": "6b492995-79c0-4658-982d-7c700c2e06e5",
   "metadata": {
    "tags": []
   },
   "outputs": [],
   "source": []
  },
  {
   "cell_type": "code",
   "execution_count": 34,
   "id": "80b843fb-4653-4ae6-ac6e-4efd332a2654",
   "metadata": {
    "execution": {
     "iopub.execute_input": "2022-12-04T09:35:47.574375Z",
     "iopub.status.busy": "2022-12-04T09:35:47.574128Z",
     "iopub.status.idle": "2022-12-04T09:35:47.827818Z",
     "shell.execute_reply": "2022-12-04T09:35:47.827297Z",
     "shell.execute_reply.started": "2022-12-04T09:35:47.574350Z"
    },
    "tags": []
   },
   "outputs": [
    {
     "data": {
      "application/vnd.jupyter.widget-view+json": {
       "model_id": "984064f8c1b24f10b4032a3c91e18d38",
       "version_major": 2,
       "version_minor": 0
      },
      "text/plain": [
       "VBox()"
      ]
     },
     "metadata": {},
     "output_type": "display_data"
    },
    {
     "data": {
      "application/vnd.jupyter.widget-view+json": {
       "model_id": "",
       "version_major": 2,
       "version_minor": 0
      },
      "text/plain": [
       "FloatProgress(value=0.0, bar_style='info', description='Progress:', layout=Layout(height='25px', width='50%'),…"
      ]
     },
     "metadata": {},
     "output_type": "display_data"
    }
   ],
   "source": [
    "OverallFlightFreq_2 = OverallFlightFreq_1.na.fill({'IntFlightFreq': 0})\n",
    "\n",
    "OverallFlightFreq_2.createOrReplaceTempView('OverallFlightFreq_2')\n",
    "\n",
    "#OverallFlightFreq_2.show()\n",
    "\n",
    "OverallFlightFreq = spark.sql('''\n",
    "\n",
    "                SELECT org_uid, DomFlightFreq, IntFlightFreq, \n",
    "                \n",
    "                (DomFlightFreq + IntFlightFreq) AS OverallFlightFreq\n",
    "                \n",
    "                FROM OverallFlightFreq_2\n",
    "\n",
    "''')\n",
    "\n",
    "OverallFlightFreq.createOrReplaceTempView('OverallFlightFreq')"
   ]
  },
  {
   "cell_type": "code",
   "execution_count": 35,
   "id": "364a6e6c-cbba-4cbf-859d-d0875c26ffd1",
   "metadata": {
    "execution": {
     "iopub.execute_input": "2022-12-04T09:35:48.014732Z",
     "iopub.status.busy": "2022-12-04T09:35:48.014481Z",
     "iopub.status.idle": "2022-12-04T09:35:48.063224Z",
     "shell.execute_reply": "2022-12-04T09:35:48.062564Z",
     "shell.execute_reply.started": "2022-12-04T09:35:48.014707Z"
    },
    "tags": []
   },
   "outputs": [
    {
     "data": {
      "application/vnd.jupyter.widget-view+json": {
       "model_id": "7037c508fd4647ca869301378d733c1f",
       "version_major": 2,
       "version_minor": 0
      },
      "text/plain": [
       "VBox()"
      ]
     },
     "metadata": {},
     "output_type": "display_data"
    },
    {
     "data": {
      "application/vnd.jupyter.widget-view+json": {
       "model_id": "",
       "version_major": 2,
       "version_minor": 0
      },
      "text/plain": [
       "FloatProgress(value=0.0, bar_style='info', description='Progress:', layout=Layout(height='25px', width='50%'),…"
      ]
     },
     "metadata": {},
     "output_type": "display_data"
    }
   ],
   "source": [
    "#OverallFlightFreq.count()\n",
    "\n",
    "############# OverallFlightFreq - END #############"
   ]
  },
  {
   "cell_type": "code",
   "execution_count": 36,
   "id": "a2b7ad32-72b2-4649-9279-b684b33668a0",
   "metadata": {
    "execution": {
     "iopub.execute_input": "2022-12-04T09:35:48.502665Z",
     "iopub.status.busy": "2022-12-04T09:35:48.502450Z",
     "iopub.status.idle": "2022-12-04T09:35:49.270301Z",
     "shell.execute_reply": "2022-12-04T09:35:49.269798Z",
     "shell.execute_reply.started": "2022-12-04T09:35:48.502641Z"
    },
    "tags": []
   },
   "outputs": [
    {
     "data": {
      "application/vnd.jupyter.widget-view+json": {
       "model_id": "28b079c2e46e4a898689f7b44e14c170",
       "version_major": 2,
       "version_minor": 0
      },
      "text/plain": [
       "VBox()"
      ]
     },
     "metadata": {},
     "output_type": "display_data"
    },
    {
     "data": {
      "application/vnd.jupyter.widget-view+json": {
       "model_id": "",
       "version_major": 2,
       "version_minor": 0
      },
      "text/plain": [
       "FloatProgress(value=0.0, bar_style='info', description='Progress:', layout=Layout(height='25px', width='50%'),…"
      ]
     },
     "metadata": {},
     "output_type": "display_data"
    }
   ],
   "source": [
    "############ MemberTravelCount_3M - START ##################\n",
    "\n",
    "MemberTravelCount_3M_1 = spark.sql('''\n",
    "\n",
    "    WITH CTE_1\n",
    "    AS (\n",
    "        SELECT DISTINCT (t2.segmentid) AS DSegmentId, t2.org_uid, t2.liftstatus, t2.DepartureDate_PS, t2.lineage\n",
    "\n",
    "                FROM GoldenRecordISPINC_fact t2 \n",
    "                \n",
    "                 --WHERE t2.AlternateKey Between '1' AND '1000'\n",
    "                  \n",
    "                 --t2.org_uid = '16116833142100115739'\n",
    "                             \n",
    "                 --t2.org_uid = '16116833142100003433'\n",
    "        )\n",
    "    SELECT * FROM CTE_1\n",
    "    \n",
    "                    ''')\n",
    "\n",
    "#MemberTravelCount_3M_1.show()\n",
    "\n",
    "MemberTravelCount_3M_1.createOrReplaceTempView('MemberTravelCount_3M_1')\n",
    "\n",
    "MemberTravelCount_3M_2 = spark.sql('''\n",
    "\n",
    "                SELECT count(DSegmentId), org_uid \n",
    "                \n",
    "                FROM MemberTravelCount_3M_1 WHERE DSegmentId IS NOT NULL \n",
    "                \n",
    "                group by Org_uid\n",
    "\n",
    "''')\n",
    "\n",
    "MemberTravelCount_3M_2.createOrReplaceTempView('MemberTravelCount_3M_2')\n",
    "\n",
    "MemberTravelCount_3M_3 = spark.sql('''\n",
    "\n",
    "    \n",
    "\n",
    "    WITH CTE_3\n",
    "    \n",
    "            AS \n",
    "            \n",
    "            (\n",
    "                SELECT count(DSegmentId) AS MemberTravelCount_3M, c.org_uid\n",
    "\n",
    "                FROM MemberTravelCount_3M_1 c\n",
    "\n",
    "                left join tmpDepartureDate_PS td on td.org_uid = c.org_uid\n",
    "\n",
    "                left join Months_3 m on m.org_uid = c.org_uid\n",
    "                \n",
    "                left join MemberTravelCount_3M_2 c2 on c2.org_uid = c.org_uid\n",
    "\n",
    "                WHERE --c.org_uid = '16116833142100003433'\n",
    "\n",
    "                        --c.segmentid IS NULL\n",
    "                        \n",
    "                        --c.DepartureDate_PS2 = '1900-01-01'\n",
    "\n",
    "                        --AND\n",
    "\n",
    "                        (c.liftstatus = 2\n",
    "                        \n",
    "                        OR c.liftstatus IS NULL)\n",
    "                        \n",
    "                        AND (c.lineage  = 'SFLTY'\n",
    "                        \n",
    "                        OR c.lineage IS NULL)\n",
    "\n",
    "                        AND\n",
    "\n",
    "                        (\n",
    "                        \n",
    "                        (c.DepartureDate_PS BETWEEN \n",
    "\n",
    "                                    m.date\n",
    "\n",
    "                                    AND\n",
    "\n",
    "                                    td.MAXDepartureDate)\n",
    "                                    \n",
    "                                    OR\n",
    "                                    \n",
    "                                    (c.DepartureDate_PS IS NULL)\n",
    "                                    \n",
    "                                    )\n",
    "\n",
    "                    GROUP BY c.org_uid\n",
    "                    \n",
    "                        )\n",
    "\n",
    "            SELECT *\n",
    "            FROM CTE_3\n",
    "   ''')\n",
    "\n",
    "MemberTravelCount_3M_3.createOrReplaceTempView('MemberTravelCount_3M_3')\n",
    "\n",
    "MemberTravelCount_3M_4 = spark.sql('''\n",
    "\n",
    "                SELECT c.org_uid, c.DomFlightFreq, c.IntFlightFreq, c.OverallFlightFreq, d.MemberTravelCount_3M\n",
    "                \n",
    "                FROM OverallFlightFreq c\n",
    "                \n",
    "                left join MemberTravelCount_3M_3 d on c.org_uid = d.org_uid\n",
    "                \n",
    "                ''')\n",
    "\n",
    "MemberTravelCount_3M_4.createOrReplaceTempView('MemberTravelCount_3M_4')\n",
    "\n",
    "MemberTravelCount_3M = MemberTravelCount_3M_4.na.fill(\n",
    "    {'MemberTravelCount_3M': 0})\n",
    "\n",
    "MemberTravelCount_3M.createOrReplaceTempView('MemberTravelCount_3M')\n",
    "\n",
    "#MemberTravelCount_3M.count()\n",
    "\n",
    "########### MemberTravelCount_3M - END ##############\n",
    "\n",
    "########### MemberTravelCount_6M - START ##############\n",
    "\n",
    "MemberTravelCount_6M_1 = spark.sql('''\n",
    "\n",
    "    WITH CTE_1\n",
    "    AS (\n",
    "        SELECT DISTINCT (t2.segmentid) AS DSegmentId, t2.org_uid, t2.liftstatus, t2.DepartureDate_PS, t2.lineage\n",
    "\n",
    "                FROM GoldenRecordISPINC_fact t2 \n",
    "                \n",
    "                 --WHERE t2.AlternateKey Between '1' AND '1000'\n",
    "                  \n",
    "                 --t2.org_uid = '16116833142100115739'\n",
    "                             \n",
    "                 --t2.org_uid = '16116833142100003433'\n",
    "        )\n",
    "    SELECT * FROM CTE_1\n",
    "    \n",
    "                    ''')\n",
    "\n",
    "#MemberTravelCount_6M_1.count()\n",
    "\n",
    "MemberTravelCount_6M_1.createOrReplaceTempView('MemberTravelCount_6M_1')\n",
    "\n",
    "MemberTravelCount_6M_2 = spark.sql('''\n",
    "\n",
    "                SELECT count(DSegmentId), org_uid \n",
    "                \n",
    "                FROM MemberTravelCount_6M_1 WHERE DSegmentId IS NOT NULL \n",
    "                \n",
    "                group by Org_uid\n",
    "\n",
    "''')\n",
    "\n",
    "#MemberTravelCount_6M_2.count()\n",
    "\n",
    "MemberTravelCount_6M_2.createOrReplaceTempView('MemberTravelCount_6M_2')\n",
    "\n",
    "MemberTravelCount_6M_3 = spark.sql('''\n",
    "\n",
    "    \n",
    "\n",
    "    WITH CTE_3\n",
    "    \n",
    "            AS \n",
    "            \n",
    "            (\n",
    "                SELECT count(DSegmentId) AS MemberTravelCount_6M, c.org_uid\n",
    "\n",
    "                FROM MemberTravelCount_6M_1 c\n",
    "\n",
    "                left join tmpDepartureDate_PS td on td.org_uid = c.org_uid\n",
    "\n",
    "                left join Months_6 m on m.org_uid = c.org_uid\n",
    "                \n",
    "                left join MemberTravelCount_6M_2 c2 on c2.org_uid = c.org_uid\n",
    "\n",
    "                WHERE --c.org_uid = '16116833142100003433'\n",
    "\n",
    "                        --c.segmentid IS NULL\n",
    "                        \n",
    "                        --c.DepartureDate_PS2 = '1900-01-01'\n",
    "\n",
    "                        --AND\n",
    "\n",
    "                        (c.liftstatus = 2\n",
    "                        \n",
    "                        OR c.liftstatus IS NULL)\n",
    "                        \n",
    "                        AND (c.lineage  = 'SFLTY'\n",
    "                        \n",
    "                        OR c.lineage IS NULL)\n",
    "\n",
    "                        AND\n",
    "\n",
    "                        (\n",
    "                        \n",
    "                        (c.DepartureDate_PS BETWEEN \n",
    "\n",
    "                                    m.date\n",
    "\n",
    "                                    AND\n",
    "\n",
    "                                    td.MAXDepartureDate)\n",
    "                                    \n",
    "                                    OR\n",
    "                                    \n",
    "                                    (c.DepartureDate_PS IS NULL)\n",
    "                                    \n",
    "                                    )\n",
    "\n",
    "                    GROUP BY c.org_uid\n",
    "                    \n",
    "                        )\n",
    "\n",
    "            SELECT *\n",
    "            FROM CTE_3\n",
    "   ''')\n",
    "\n",
    "MemberTravelCount_6M_3.createOrReplaceTempView('MemberTravelCount_6M_3')\n",
    "\n",
    "MemberTravelCount_6M_4 = spark.sql('''\n",
    "\n",
    "                SELECT c.org_uid, c.DomFlightFreq, c.IntFlightFreq, c.OverallFlightFreq, c.MemberTravelCount_3M, d.MemberTravelCount_6M\n",
    "                \n",
    "                FROM MemberTravelCount_3M c\n",
    "                \n",
    "                left join MemberTravelCount_6M_3 d on c.org_uid = d.org_uid\n",
    "                \n",
    "                ''')\n",
    "\n",
    "#MemberTravelCount_6M_4.count()#createOrReplaceTempView('MemberTravelCount_6M_4')\n",
    "\n",
    "MemberTravelCount_6M = MemberTravelCount_6M_4.na.fill(\n",
    "    {'MemberTravelCount_6M': 0})\n",
    "\n",
    "MemberTravelCount_6M.createOrReplaceTempView('MemberTravelCount_6M')\n",
    "\n",
    "#MemberTravelCount_6M.count()\n",
    "\n",
    "########### MemberTravelCount_6M - END ##############\n",
    "\n",
    "########### MemberTravelCount_12M - START ##############\n",
    "\n",
    "MemberTravelCount_12M_1 = spark.sql('''\n",
    "\n",
    "    WITH CTE_1\n",
    "    AS (\n",
    "        SELECT DISTINCT (t2.segmentid) AS DSegmentId, t2.org_uid, t2.liftstatus, t2.DepartureDate_PS, t2.lineage\n",
    "\n",
    "                FROM GoldenRecordISPINC_fact t2 \n",
    "                \n",
    "                 --WHERE t2.AlternateKey Between '1' AND '1000'\n",
    "                  \n",
    "                 --t2.org_uid = '16116833142100115739'\n",
    "                             \n",
    "                 --t2.org_uid = '16116833142100003433'\n",
    "        )\n",
    "    SELECT * FROM CTE_1\n",
    "    \n",
    "                    ''')\n",
    "\n",
    "#MemberTravelCount_3M_1.show()\n",
    "\n",
    "MemberTravelCount_12M_1.createOrReplaceTempView('MemberTravelCount_12M_1')\n",
    "\n",
    "MemberTravelCount_12M_2 = spark.sql('''\n",
    "\n",
    "                SELECT count(DSegmentId), org_uid \n",
    "                \n",
    "                FROM MemberTravelCount_12M_1 WHERE DSegmentId IS NOT NULL \n",
    "                \n",
    "                group by Org_uid\n",
    "\n",
    "''')\n",
    "\n",
    "MemberTravelCount_12M_2.createOrReplaceTempView('MemberTravelCount_12M_2')\n",
    "\n",
    "MemberTravelCount_12M_3 = spark.sql('''\n",
    "\n",
    "    \n",
    "\n",
    "    WITH CTE_3\n",
    "    \n",
    "            AS \n",
    "            \n",
    "            (\n",
    "                SELECT count(DSegmentId) AS MemberTravelCount_12M, c.org_uid\n",
    "\n",
    "                FROM MemberTravelCount_12M_1 c\n",
    "\n",
    "                left join tmpDepartureDate_PS td on td.org_uid = c.org_uid\n",
    "\n",
    "                left join Months_12 m on m.org_uid = c.org_uid\n",
    "                \n",
    "                left join MemberTravelCount_12M_2 c2 on c2.org_uid = c.org_uid\n",
    "\n",
    "                WHERE --c.org_uid = '16116833142100003433'\n",
    "\n",
    "                        --c.segmentid IS NULL\n",
    "                        \n",
    "                        --c.DepartureDate_PS2 = '1900-01-01'\n",
    "\n",
    "                        --AND\n",
    "\n",
    "                        (c.liftstatus = 2\n",
    "                        \n",
    "                        OR c.liftstatus IS NULL)\n",
    "                        \n",
    "                        AND (c.lineage  = 'SFLTY'\n",
    "                        \n",
    "                        OR c.lineage IS NULL)\n",
    "\n",
    "                        AND\n",
    "\n",
    "                        (\n",
    "                        \n",
    "                        (c.DepartureDate_PS BETWEEN \n",
    "\n",
    "                                    m.date\n",
    "\n",
    "                                    AND\n",
    "\n",
    "                                    td.MAXDepartureDate)\n",
    "                                    \n",
    "                                    OR\n",
    "                                    \n",
    "                                    (c.DepartureDate_PS IS NULL)\n",
    "                                    \n",
    "                                    )\n",
    "\n",
    "                    GROUP BY c.org_uid\n",
    "                    \n",
    "                        )\n",
    "\n",
    "            SELECT *\n",
    "            FROM CTE_3\n",
    "   ''')\n",
    "\n",
    "MemberTravelCount_12M_3.createOrReplaceTempView('MemberTravelCount_12M_3')\n",
    "\n",
    "MemberTravelCount_12M_4 = spark.sql('''\n",
    "\n",
    "                SELECT c.org_uid, c.DomFlightFreq, c.IntFlightFreq, c.OverallFlightFreq, c.MemberTravelCount_3M, c.MemberTravelCount_6M, d.MemberTravelCount_12M \n",
    "                \n",
    "                FROM MemberTravelCount_6M c\n",
    "                \n",
    "                left join MemberTravelCount_12M_3 d on c.org_uid = d.org_uid\n",
    "                \n",
    "                ''')\n",
    "\n",
    "MemberTravelCount_12M_4.createOrReplaceTempView('MemberTravelCount_12M_4')\n",
    "\n",
    "MemberTravelCount_12M = MemberTravelCount_12M_4.na.fill(\n",
    "    {'MemberTravelCount_12M': 0})\n",
    "\n",
    "MemberTravelCount_12M.createOrReplaceTempView('MemberTravelCount_12M')\n",
    "\n",
    "#MemberTravelCount_12M.count()\n",
    "\n",
    "########### MemberTravelCount_12M - END ##############"
   ]
  },
  {
   "cell_type": "code",
   "execution_count": null,
   "id": "bbebcc74-d384-4ec4-ab74-f9af89160ebd",
   "metadata": {
    "tags": []
   },
   "outputs": [],
   "source": []
  },
  {
   "cell_type": "code",
   "execution_count": 37,
   "id": "3fb71cac-3ece-4f9a-b2d3-e3610ba8a687",
   "metadata": {
    "execution": {
     "iopub.execute_input": "2022-12-04T09:35:49.564682Z",
     "iopub.status.busy": "2022-12-04T09:35:49.564458Z",
     "iopub.status.idle": "2022-12-04T09:35:49.818442Z",
     "shell.execute_reply": "2022-12-04T09:35:49.817955Z",
     "shell.execute_reply.started": "2022-12-04T09:35:49.564655Z"
    },
    "tags": []
   },
   "outputs": [
    {
     "data": {
      "application/vnd.jupyter.widget-view+json": {
       "model_id": "3f5a3a31d7644124b2ba138f54f09997",
       "version_major": 2,
       "version_minor": 0
      },
      "text/plain": [
       "VBox()"
      ]
     },
     "metadata": {},
     "output_type": "display_data"
    },
    {
     "data": {
      "application/vnd.jupyter.widget-view+json": {
       "model_id": "",
       "version_major": 2,
       "version_minor": 0
      },
      "text/plain": [
       "FloatProgress(value=0.0, bar_style='info', description='Progress:', layout=Layout(height='25px', width='50%'),…"
      ]
     },
     "metadata": {},
     "output_type": "display_data"
    }
   ],
   "source": [
    "########## AvgDaysBkgDep - START ############\n",
    "\n",
    "AvgDaysBkgDep = spark.sql('''\n",
    "\n",
    "            SELECT g.ORG_UID , cast(avg(DateDif) AS INT) AvgDaysBkgDep\n",
    "\n",
    "                     FROM (\n",
    "\n",
    "                SELECT b.ORG_UID\n",
    "\n",
    "                        ,segmentid\n",
    "\n",
    "                        ,cast(bookingdate AS Date)\n",
    "                        \n",
    "                        ,cast(departuredate_ps AS Date)\n",
    "                        \n",
    "                        ,DATEDIFF(cast(departuredate_ps AS DATE), cast(bookingdate AS DATE)) DateDif\n",
    "\n",
    "                FROM GoldenRecordISPINC_fact b\n",
    "                \n",
    "                --Where AlternateKey Between '1' AND '100'\n",
    "\n",
    "                           GROUP BY b.ORG_UID\n",
    "\n",
    "                                  ,segmentid\n",
    "\n",
    "                                  ,bookingdate\n",
    "\n",
    "                                  ,departuredate_ps\n",
    "                                  \n",
    "                                  ) aa\n",
    "\n",
    "                     \n",
    "                     \n",
    "                     left join GoldenRecordISPINC_fact g\n",
    "                     \n",
    "                     on aa.ORG_UID = g.org_uid\n",
    "                     \n",
    "                     WHERE aa.ORG_UID = g.org_uid\n",
    "\n",
    "                     GROUP BY g.ORG_UID\n",
    "\n",
    "''')\n",
    "\n",
    "AvgDaysBkgDep.createOrReplaceTempView('AvgDaysBkgDep')"
   ]
  },
  {
   "cell_type": "code",
   "execution_count": 38,
   "id": "499f8b1a-8b68-4e95-96d6-2fe2cc8993fa",
   "metadata": {
    "execution": {
     "iopub.execute_input": "2022-12-04T09:35:50.300648Z",
     "iopub.status.busy": "2022-12-04T09:35:50.300436Z",
     "iopub.status.idle": "2022-12-04T09:35:50.345039Z",
     "shell.execute_reply": "2022-12-04T09:35:50.344560Z",
     "shell.execute_reply.started": "2022-12-04T09:35:50.300625Z"
    },
    "tags": []
   },
   "outputs": [
    {
     "data": {
      "application/vnd.jupyter.widget-view+json": {
       "model_id": "2a18ad1245dc4f4198b2208c6fa9978d",
       "version_major": 2,
       "version_minor": 0
      },
      "text/plain": [
       "VBox()"
      ]
     },
     "metadata": {},
     "output_type": "display_data"
    },
    {
     "data": {
      "application/vnd.jupyter.widget-view+json": {
       "model_id": "",
       "version_major": 2,
       "version_minor": 0
      },
      "text/plain": [
       "FloatProgress(value=0.0, bar_style='info', description='Progress:', layout=Layout(height='25px', width='50%'),…"
      ]
     },
     "metadata": {},
     "output_type": "display_data"
    }
   ],
   "source": [
    "########## AvgDaysBkgDep - End ############"
   ]
  },
  {
   "cell_type": "code",
   "execution_count": 39,
   "id": "422fd154-2e96-463a-9594-667647f2d13c",
   "metadata": {
    "execution": {
     "iopub.execute_input": "2022-12-04T09:35:50.844639Z",
     "iopub.status.busy": "2022-12-04T09:35:50.844412Z",
     "iopub.status.idle": "2022-12-04T09:35:51.103535Z",
     "shell.execute_reply": "2022-12-04T09:35:51.102973Z",
     "shell.execute_reply.started": "2022-12-04T09:35:50.844615Z"
    },
    "tags": []
   },
   "outputs": [
    {
     "data": {
      "application/vnd.jupyter.widget-view+json": {
       "model_id": "62b2f90c5b054b5b80546016f47f4338",
       "version_major": 2,
       "version_minor": 0
      },
      "text/plain": [
       "VBox()"
      ]
     },
     "metadata": {},
     "output_type": "display_data"
    },
    {
     "data": {
      "application/vnd.jupyter.widget-view+json": {
       "model_id": "",
       "version_major": 2,
       "version_minor": 0
      },
      "text/plain": [
       "FloatProgress(value=0.0, bar_style='info', description='Progress:', layout=Layout(height='25px', width='50%'),…"
      ]
     },
     "metadata": {},
     "output_type": "display_data"
    }
   ],
   "source": [
    "########## WeekendBookingCount - START ############\n",
    "\n",
    "WeekendBookingCount_1 = spark.sql('''\n",
    "                SELECT g.org_uid, count(DISTINCT b.bookingid) AS WeekendBookingCount\n",
    "\n",
    "                     FROM GoldenRecordISPINC_fact b \n",
    "\n",
    "                     JOIN DimDate dd ON cast(b.bookingdate AS DATE) = cast(dd.DATE AS DATE)\n",
    "                     \n",
    "                     left join GoldenRecordISPINC_fact g\n",
    "                     \n",
    "                     on b.ORG_UID = g.org_uid\n",
    "\n",
    "                     WHERE b.org_uid = g.org_uid\n",
    "\n",
    "                           AND IsWeekday = false\n",
    "                           \n",
    "                           --AND g.AlternateKey BETWEEN '1' AND '100'\n",
    "                           \n",
    "                    GROUP BY g.ORG_UID\n",
    "                \n",
    "\n",
    "\n",
    "''')#show()#count()\n",
    "\n",
    "\n",
    "WeekendBookingCount_1.createOrReplaceTempView('WeekendBookingCount_1')"
   ]
  },
  {
   "cell_type": "code",
   "execution_count": null,
   "id": "b5f26852-d8a0-4179-9138-039de81b4fea",
   "metadata": {
    "tags": []
   },
   "outputs": [],
   "source": []
  },
  {
   "cell_type": "code",
   "execution_count": 40,
   "id": "769c2665-e547-4cba-aa7e-7fc06f5d6cb4",
   "metadata": {
    "execution": {
     "iopub.execute_input": "2022-12-04T09:35:52.124265Z",
     "iopub.status.busy": "2022-12-04T09:35:52.124036Z",
     "iopub.status.idle": "2022-12-04T09:35:52.377997Z",
     "shell.execute_reply": "2022-12-04T09:35:52.377395Z",
     "shell.execute_reply.started": "2022-12-04T09:35:52.124241Z"
    },
    "tags": []
   },
   "outputs": [
    {
     "data": {
      "application/vnd.jupyter.widget-view+json": {
       "model_id": "9e15e7199818482ba633c39d4238dbdc",
       "version_major": 2,
       "version_minor": 0
      },
      "text/plain": [
       "VBox()"
      ]
     },
     "metadata": {},
     "output_type": "display_data"
    },
    {
     "data": {
      "application/vnd.jupyter.widget-view+json": {
       "model_id": "",
       "version_major": 2,
       "version_minor": 0
      },
      "text/plain": [
       "FloatProgress(value=0.0, bar_style='info', description='Progress:', layout=Layout(height='25px', width='50%'),…"
      ]
     },
     "metadata": {},
     "output_type": "display_data"
    }
   ],
   "source": [
    "WeekendBookingCount_2 = spark.sql('''\n",
    "\n",
    "                    SELECT a.org_uid, a.AvgDaysBkgDep, w.WeekendBookingCount\n",
    "                    \n",
    "                    FROM AvgDaysBkgDep a\n",
    "                    \n",
    "                    left join WeekendBookingCount_1 w on w.org_uid = a.org_uid\n",
    "\n",
    "''')\n",
    "\n",
    "WeekendBookingCount = WeekendBookingCount_2.na.fill(\n",
    "    {'WeekendBookingCount': 0})\n",
    "\n",
    "WeekendBookingCount.createOrReplaceTempView('WeekendBookingCount')"
   ]
  },
  {
   "cell_type": "code",
   "execution_count": 41,
   "id": "b68dd36d-8542-45f2-b2cd-f55578a71ce0",
   "metadata": {
    "execution": {
     "iopub.execute_input": "2022-12-04T09:35:53.054659Z",
     "iopub.status.busy": "2022-12-04T09:35:53.054440Z",
     "iopub.status.idle": "2022-12-04T09:35:53.102431Z",
     "shell.execute_reply": "2022-12-04T09:35:53.101952Z",
     "shell.execute_reply.started": "2022-12-04T09:35:53.054636Z"
    },
    "tags": []
   },
   "outputs": [
    {
     "data": {
      "application/vnd.jupyter.widget-view+json": {
       "model_id": "aac8679a86284f5cad618b654c0b13e3",
       "version_major": 2,
       "version_minor": 0
      },
      "text/plain": [
       "VBox()"
      ]
     },
     "metadata": {},
     "output_type": "display_data"
    },
    {
     "data": {
      "application/vnd.jupyter.widget-view+json": {
       "model_id": "",
       "version_major": 2,
       "version_minor": 0
      },
      "text/plain": [
       "FloatProgress(value=0.0, bar_style='info', description='Progress:', layout=Layout(height='25px', width='50%'),…"
      ]
     },
     "metadata": {},
     "output_type": "display_data"
    }
   ],
   "source": [
    "########## WeekendBookingCount - END ############"
   ]
  },
  {
   "cell_type": "code",
   "execution_count": 42,
   "id": "0bb55e18-836f-4bff-898e-300f3201c1ab",
   "metadata": {
    "execution": {
     "iopub.execute_input": "2022-12-04T09:35:53.444573Z",
     "iopub.status.busy": "2022-12-04T09:35:53.444326Z",
     "iopub.status.idle": "2022-12-04T09:35:53.699015Z",
     "shell.execute_reply": "2022-12-04T09:35:53.698502Z",
     "shell.execute_reply.started": "2022-12-04T09:35:53.444546Z"
    },
    "tags": []
   },
   "outputs": [
    {
     "data": {
      "application/vnd.jupyter.widget-view+json": {
       "model_id": "7948e71900b74a4291a52a736a837453",
       "version_major": 2,
       "version_minor": 0
      },
      "text/plain": [
       "VBox()"
      ]
     },
     "metadata": {},
     "output_type": "display_data"
    },
    {
     "data": {
      "application/vnd.jupyter.widget-view+json": {
       "model_id": "",
       "version_major": 2,
       "version_minor": 0
      },
      "text/plain": [
       "FloatProgress(value=0.0, bar_style='info', description='Progress:', layout=Layout(height='25px', width='50%'),…"
      ]
     },
     "metadata": {},
     "output_type": "display_data"
    }
   ],
   "source": [
    "########## WeekdayBookingCount - START ############\n",
    "\n",
    "WeekdayBookingCount_1 = spark.sql('''\n",
    "                SELECT g.org_uid, count(DISTINCT b.bookingid) AS WeekdayBookingCount\n",
    "\n",
    "                     FROM GoldenRecordISPINC_fact b \n",
    "\n",
    "                     JOIN DimDate dd ON cast(b.bookingdate AS DATE) = cast(dd.DATE AS DATE)\n",
    "                     \n",
    "                     left join GoldenRecordISPINC_fact g\n",
    "                     \n",
    "                     on b.ORG_UID = g.org_uid\n",
    "\n",
    "                     WHERE b.org_uid = g.org_uid\n",
    "\n",
    "                           AND IsWeekday = true\n",
    "                           \n",
    "                           --AND g.AlternateKey BETWEEN '1' AND '100'\n",
    "                           \n",
    "                    GROUP BY g.ORG_UID\n",
    "                \n",
    "\n",
    "\n",
    "''')#show()#count()\n",
    "\n",
    "\n",
    "WeekdayBookingCount_1.createOrReplaceTempView('WeekdayBookingCount_1')"
   ]
  },
  {
   "cell_type": "code",
   "execution_count": null,
   "id": "71918fdc-98bd-492e-ab45-84598972f1d3",
   "metadata": {
    "tags": []
   },
   "outputs": [],
   "source": []
  },
  {
   "cell_type": "code",
   "execution_count": 43,
   "id": "cc7f0dba-4bee-4e2f-a4a8-37d40bf52864",
   "metadata": {
    "execution": {
     "iopub.execute_input": "2022-12-04T09:35:54.624292Z",
     "iopub.status.busy": "2022-12-04T09:35:54.624080Z",
     "iopub.status.idle": "2022-12-04T09:35:54.876433Z",
     "shell.execute_reply": "2022-12-04T09:35:54.875916Z",
     "shell.execute_reply.started": "2022-12-04T09:35:54.624269Z"
    },
    "tags": []
   },
   "outputs": [
    {
     "data": {
      "application/vnd.jupyter.widget-view+json": {
       "model_id": "a5f3b365a2c34514b29ce5da225ec763",
       "version_major": 2,
       "version_minor": 0
      },
      "text/plain": [
       "VBox()"
      ]
     },
     "metadata": {},
     "output_type": "display_data"
    },
    {
     "data": {
      "application/vnd.jupyter.widget-view+json": {
       "model_id": "",
       "version_major": 2,
       "version_minor": 0
      },
      "text/plain": [
       "FloatProgress(value=0.0, bar_style='info', description='Progress:', layout=Layout(height='25px', width='50%'),…"
      ]
     },
     "metadata": {},
     "output_type": "display_data"
    }
   ],
   "source": [
    "WeekdayBookingCount_2 = spark.sql('''\n",
    "\n",
    "                    SELECT a.org_uid, a.AvgDaysBkgDep, a.WeekendBookingCount, w.WeekdayBookingCount\n",
    "                    \n",
    "                    FROM WeekendBookingCount a\n",
    "                    \n",
    "                    left join WeekdayBookingCount_1 w on w.org_uid = a.org_uid\n",
    "\n",
    "''')\n",
    "\n",
    "WeekdayBookingCount = WeekdayBookingCount_2.na.fill(\n",
    "    {'WeekdayBookingCount': 0})\n",
    "\n",
    "WeekdayBookingCount.createOrReplaceTempView('WeekdayBookingCount')"
   ]
  },
  {
   "cell_type": "code",
   "execution_count": 44,
   "id": "f8973611-5fa9-45cb-bb3e-d3964b2a5b77",
   "metadata": {
    "execution": {
     "iopub.execute_input": "2022-12-04T09:35:55.193923Z",
     "iopub.status.busy": "2022-12-04T09:35:55.193715Z",
     "iopub.status.idle": "2022-12-04T09:35:55.249503Z",
     "shell.execute_reply": "2022-12-04T09:35:55.249033Z",
     "shell.execute_reply.started": "2022-12-04T09:35:55.193900Z"
    },
    "tags": []
   },
   "outputs": [
    {
     "data": {
      "application/vnd.jupyter.widget-view+json": {
       "model_id": "31c76d2e958840ac849cdd192624c22a",
       "version_major": 2,
       "version_minor": 0
      },
      "text/plain": [
       "VBox()"
      ]
     },
     "metadata": {},
     "output_type": "display_data"
    },
    {
     "data": {
      "application/vnd.jupyter.widget-view+json": {
       "model_id": "",
       "version_major": 2,
       "version_minor": 0
      },
      "text/plain": [
       "FloatProgress(value=0.0, bar_style='info', description='Progress:', layout=Layout(height='25px', width='50%'),…"
      ]
     },
     "metadata": {},
     "output_type": "display_data"
    }
   ],
   "source": [
    "########## WeekdayBookingCount - END ############"
   ]
  },
  {
   "cell_type": "code",
   "execution_count": 45,
   "id": "56127991-c13d-4936-8674-56eae8891708",
   "metadata": {
    "execution": {
     "iopub.execute_input": "2022-12-04T09:35:55.805087Z",
     "iopub.status.busy": "2022-12-04T09:35:55.804767Z",
     "iopub.status.idle": "2022-12-04T09:35:56.071231Z",
     "shell.execute_reply": "2022-12-04T09:35:56.070706Z",
     "shell.execute_reply.started": "2022-12-04T09:35:55.805050Z"
    },
    "tags": []
   },
   "outputs": [
    {
     "data": {
      "application/vnd.jupyter.widget-view+json": {
       "model_id": "6a134d9fb4db47fd8afaecbbfe6bb61d",
       "version_major": 2,
       "version_minor": 0
      },
      "text/plain": [
       "VBox()"
      ]
     },
     "metadata": {},
     "output_type": "display_data"
    },
    {
     "data": {
      "application/vnd.jupyter.widget-view+json": {
       "model_id": "",
       "version_major": 2,
       "version_minor": 0
      },
      "text/plain": [
       "FloatProgress(value=0.0, bar_style='info', description='Progress:', layout=Layout(height='25px', width='50%'),…"
      ]
     },
     "metadata": {},
     "output_type": "display_data"
    }
   ],
   "source": [
    "########## AveragePAXBooking - START ###########\n",
    "\n",
    "AveragePAXBooking_1 = spark.sql('''\n",
    "\n",
    "                SELECT b.org_uid, count(DISTINCT b.BookingID) AS AveragePAXBooking\n",
    "\n",
    "                     FROM GoldenRecordISPINC_fact b \n",
    "\n",
    "                     JOIN BookingPassenger_split1 bp ON b.BookingID = bp.BookingID\n",
    "\n",
    "                     WHERE bp.PassengerID != b.PassengerID_BP \n",
    "                           \n",
    "                     GROUP BY b.ORG_UID\n",
    "                \n",
    "''')\n",
    "\n",
    "#AveragePAXBooking_1.count()#explain()\n",
    "\n",
    "AveragePAXBooking_1.createOrReplaceTempView('AveragePAXBooking_1')\n",
    "\n",
    "AveragePAXBooking_2 = spark.sql('''\n",
    "\n",
    "                    SELECT a.org_uid, a.AvgDaysBkgDep, a.WeekendBookingCount, a.WeekdayBookingCount, w.AveragePAXBooking\n",
    "                    \n",
    "                    FROM WeekdayBookingCount a\n",
    "                    \n",
    "                    left join AveragePAXBooking_1 w on w.org_uid = a.org_uid\n",
    "\n",
    "''')\n",
    "\n",
    "AveragePAXBooking = AveragePAXBooking_2.na.fill(\n",
    "    {'AveragePAXBooking': 0})\n",
    "\n",
    "AveragePAXBooking.createOrReplaceTempView('AveragePAXBooking')"
   ]
  },
  {
   "cell_type": "code",
   "execution_count": 46,
   "id": "22d506fc-4d34-427b-b260-32d5f49ecfec",
   "metadata": {
    "execution": {
     "iopub.execute_input": "2022-12-04T09:35:56.624089Z",
     "iopub.status.busy": "2022-12-04T09:35:56.623866Z",
     "iopub.status.idle": "2022-12-04T09:35:56.671975Z",
     "shell.execute_reply": "2022-12-04T09:35:56.671481Z",
     "shell.execute_reply.started": "2022-12-04T09:35:56.624066Z"
    },
    "tags": []
   },
   "outputs": [
    {
     "data": {
      "application/vnd.jupyter.widget-view+json": {
       "model_id": "9bcfac40bb9b49b29adb17ad115d5ed1",
       "version_major": 2,
       "version_minor": 0
      },
      "text/plain": [
       "VBox()"
      ]
     },
     "metadata": {},
     "output_type": "display_data"
    },
    {
     "data": {
      "application/vnd.jupyter.widget-view+json": {
       "model_id": "",
       "version_major": 2,
       "version_minor": 0
      },
      "text/plain": [
       "FloatProgress(value=0.0, bar_style='info', description='Progress:', layout=Layout(height='25px', width='50%'),…"
      ]
     },
     "metadata": {},
     "output_type": "display_data"
    }
   ],
   "source": [
    "########## AveragePAXBooking - END ###########"
   ]
  },
  {
   "cell_type": "code",
   "execution_count": 47,
   "id": "ccdad4a4-0fdb-4419-a16d-fd0048890a23",
   "metadata": {
    "execution": {
     "iopub.execute_input": "2022-12-04T09:35:57.343930Z",
     "iopub.status.busy": "2022-12-04T09:35:57.343697Z",
     "iopub.status.idle": "2022-12-04T09:35:57.597053Z",
     "shell.execute_reply": "2022-12-04T09:35:57.596528Z",
     "shell.execute_reply.started": "2022-12-04T09:35:57.343905Z"
    },
    "tags": []
   },
   "outputs": [
    {
     "data": {
      "application/vnd.jupyter.widget-view+json": {
       "model_id": "6702e5c2396a49239b1c0209cf4308c7",
       "version_major": 2,
       "version_minor": 0
      },
      "text/plain": [
       "VBox()"
      ]
     },
     "metadata": {},
     "output_type": "display_data"
    },
    {
     "data": {
      "application/vnd.jupyter.widget-view+json": {
       "model_id": "",
       "version_major": 2,
       "version_minor": 0
      },
      "text/plain": [
       "FloatProgress(value=0.0, bar_style='info', description='Progress:', layout=Layout(height='25px', width='50%'),…"
      ]
     },
     "metadata": {},
     "output_type": "display_data"
    }
   ],
   "source": [
    "########## LastBookedDate - START ############\n",
    "\n",
    "LastBookedDate_1 = spark.sql('''\n",
    "                \n",
    "                SELECT g.org_uid, max(cast(t2.bookingdate AS DATE)) AS LastBookedDate\n",
    "\n",
    "                FROM GoldenRecordISPINC_fact t2 \n",
    "                \n",
    "                left join GoldenRecordISPINC_fact g\n",
    "\n",
    "                WHERE g.ORG_UID = t2.ORG_UID\n",
    "                \n",
    "                --AND g.AlternateKey BETWEEN '1' AND '100'\n",
    "                \n",
    "                GROUP BY g.ORG_UID\n",
    "\n",
    "''')\n",
    "\n",
    "LastBookedDate_1.createOrReplaceTempView('LastBookedDate_1')\n",
    "\n",
    "LastBookedDate = spark.sql('''\n",
    "\n",
    "                    SELECT a.org_uid, a.AvgDaysBkgDep, a.WeekendBookingCount, a.WeekdayBookingCount, a.AveragePAXBooking, w.LastBookedDate\n",
    "                    \n",
    "                    FROM AveragePAXBooking a\n",
    "                    \n",
    "                    left join LastBookedDate_1 w on w.org_uid = a.org_uid\n",
    "\n",
    "''')\n",
    "\n",
    "LastBookedDate.createOrReplaceTempView('LastBookedDate')#show()\n",
    "\n",
    "########## LastBookedDate - END ############"
   ]
  },
  {
   "cell_type": "code",
   "execution_count": null,
   "id": "6f46fe68-ad5b-4ab1-909b-01a421a4834b",
   "metadata": {
    "tags": []
   },
   "outputs": [],
   "source": []
  },
  {
   "cell_type": "code",
   "execution_count": 48,
   "id": "e896586c-2e34-4346-b41f-6dd5c2ac42fe",
   "metadata": {
    "execution": {
     "iopub.execute_input": "2022-12-04T09:35:58.874747Z",
     "iopub.status.busy": "2022-12-04T09:35:58.874528Z",
     "iopub.status.idle": "2022-12-04T09:35:59.138218Z",
     "shell.execute_reply": "2022-12-04T09:35:59.137727Z",
     "shell.execute_reply.started": "2022-12-04T09:35:58.874723Z"
    },
    "tags": []
   },
   "outputs": [
    {
     "data": {
      "application/vnd.jupyter.widget-view+json": {
       "model_id": "8bd86feafb2844af92f7c64e59dfd949",
       "version_major": 2,
       "version_minor": 0
      },
      "text/plain": [
       "VBox()"
      ]
     },
     "metadata": {},
     "output_type": "display_data"
    },
    {
     "data": {
      "application/vnd.jupyter.widget-view+json": {
       "model_id": "",
       "version_major": 2,
       "version_minor": 0
      },
      "text/plain": [
       "FloatProgress(value=0.0, bar_style='info', description='Progress:', layout=Layout(height='25px', width='50%'),…"
      ]
     },
     "metadata": {},
     "output_type": "display_data"
    }
   ],
   "source": [
    "########## UpcomingTravelDate - START #############\n",
    "\n",
    "UpcomingTravelDate_1  = spark.sql('''\n",
    "                SELECT g.org_uid,\n",
    "                \n",
    "                CASE\n",
    "\n",
    "                     WHEN min(g.liftstatus) = 0\n",
    "\n",
    "                           AND max(cast(g.DepartureDate_PS AS DATE)) > cast(current_date() AS DATE)\n",
    "\n",
    "                           THEN max(g.DepartureDate_PS)\n",
    "\n",
    "                     ELSE NULL\n",
    "\n",
    "                     END UpcomingTravelDate\n",
    "                \n",
    "                FROM GoldenRecordISPINC_fact t2 \n",
    "                \n",
    "                left join GoldenRecordISPINC_fact g\n",
    "                \n",
    "                \n",
    "                \n",
    "                WHERE g.ORG_UID = t2.ORG_UID\n",
    "                \n",
    "                GROUP BY g.ORG_UID\n",
    "\n",
    "''')\n",
    "\n",
    "UpcomingTravelDate_1.createOrReplaceTempView('UpcomingTravelDate_1')\n",
    "\n",
    "UpcomingTravelDate = spark.sql('''\n",
    "\n",
    "                    SELECT a.org_uid, a.AvgDaysBkgDep, a.WeekendBookingCount, a.WeekdayBookingCount, a.AveragePAXBooking, \n",
    "                    \n",
    "                    a.LastBookedDate, w.UpcomingTravelDate\n",
    "                    \n",
    "                    FROM LastBookedDate a\n",
    "                    \n",
    "                    left join UpcomingTravelDate_1 w on w.org_uid = a.org_uid\n",
    "\n",
    "''')\n",
    "\n",
    "UpcomingTravelDate.createOrReplaceTempView('UpcomingTravelDate')#show()\n",
    "\n",
    "########## UpcomingTravelDate - END #############"
   ]
  },
  {
   "cell_type": "code",
   "execution_count": null,
   "id": "24199d69-bf83-44e4-be9e-cde8ab979310",
   "metadata": {
    "tags": []
   },
   "outputs": [],
   "source": []
  },
  {
   "cell_type": "code",
   "execution_count": 49,
   "id": "3c50f6f7-d404-43ba-bcfb-575ce8d0be2f",
   "metadata": {
    "execution": {
     "iopub.execute_input": "2022-12-04T09:36:00.016918Z",
     "iopub.status.busy": "2022-12-04T09:36:00.016693Z",
     "iopub.status.idle": "2022-12-04T09:36:00.269231Z",
     "shell.execute_reply": "2022-12-04T09:36:00.268658Z",
     "shell.execute_reply.started": "2022-12-04T09:36:00.016893Z"
    },
    "tags": []
   },
   "outputs": [
    {
     "data": {
      "application/vnd.jupyter.widget-view+json": {
       "model_id": "a2fc42acb12b4cbdbd9b721578fa24f0",
       "version_major": 2,
       "version_minor": 0
      },
      "text/plain": [
       "VBox()"
      ]
     },
     "metadata": {},
     "output_type": "display_data"
    },
    {
     "data": {
      "application/vnd.jupyter.widget-view+json": {
       "model_id": "",
       "version_major": 2,
       "version_minor": 0
      },
      "text/plain": [
       "FloatProgress(value=0.0, bar_style='info', description='Progress:', layout=Layout(height='25px', width='50%'),…"
      ]
     },
     "metadata": {},
     "output_type": "display_data"
    }
   ],
   "source": [
    "########### DomFlightSpend_NAV_12M - START ###############\n",
    "\n",
    "Months_12_BD = spark.sql('''\n",
    "                SELECT g.org_uid, add_months('1900-01-01', CAST(months_between(g.MAXBookingDate, '1900-01-01') AS INT) -12) AS Date\n",
    "                            \n",
    "                            FROM tmpBookingDate g\n",
    "                            \n",
    "                            --where g.org_uid = '16127626142100316277'\n",
    "                            \n",
    "            ''')\n",
    "\n",
    "Months_12_BD.createOrReplaceTempView('Months_12_BD')\n",
    "\n",
    "########## DomFlightSpend_NAV_12M ##########"
   ]
  },
  {
   "cell_type": "code",
   "execution_count": null,
   "id": "502f1232-9b83-48e4-b105-a6203ee333db",
   "metadata": {
    "tags": []
   },
   "outputs": [],
   "source": []
  },
  {
   "cell_type": "code",
   "execution_count": 69,
   "id": "195ac86a-baed-4c32-8bc9-580664ccaec5",
   "metadata": {
    "execution": {
     "iopub.execute_input": "2022-12-04T10:08:45.745235Z",
     "iopub.status.busy": "2022-12-04T10:08:45.745005Z",
     "iopub.status.idle": "2022-12-04T10:08:45.994596Z",
     "shell.execute_reply": "2022-12-04T10:08:45.994101Z",
     "shell.execute_reply.started": "2022-12-04T10:08:45.745210Z"
    },
    "tags": []
   },
   "outputs": [
    {
     "data": {
      "application/vnd.jupyter.widget-view+json": {
       "model_id": "48ab2324ea124293ad21f86f37bfa722",
       "version_major": 2,
       "version_minor": 0
      },
      "text/plain": [
       "VBox()"
      ]
     },
     "metadata": {},
     "output_type": "display_data"
    },
    {
     "data": {
      "application/vnd.jupyter.widget-view+json": {
       "model_id": "",
       "version_major": 2,
       "version_minor": 0
      },
      "text/plain": [
       "FloatProgress(value=0.0, bar_style='info', description='Progress:', layout=Layout(height='25px', width='50%'),…"
      ]
     },
     "metadata": {},
     "output_type": "display_data"
    }
   ],
   "source": [
    "DomFlightSpend_NAV_12M = spark.sql('''\n",
    "                \n",
    "            SELECT sum(DiscountedBasefare) AS DomFlightSpend_NAV_12M, c.org_uid\n",
    "\n",
    "                FROM GoldenRecordISPINC_fact c\n",
    "\n",
    "                left join tmpBookingdate td on td.org_uid = c.org_uid\n",
    "\n",
    "                left join Months_12_BD m on m.org_uid = c.org_uid\n",
    "\n",
    "                WHERE\n",
    "                \n",
    "                       --c.org_uid = '16121934962100992431'\n",
    "                       \n",
    "                       --AND\n",
    "                            \n",
    "                       (CAST(c.International AS VARCHAR(10)) = 'false'\n",
    "                        \n",
    "                        OR c.International IS NULL)\n",
    "\n",
    "                        AND\n",
    "                        \n",
    "                        (c.lineage = 'NAV' OR c.lineage IS NULL)\n",
    "                        \n",
    "                        AND\n",
    "\n",
    "                        (\n",
    "                        \n",
    "                        (c.BookingDate BETWEEN \n",
    "\n",
    "                                    m.date\n",
    "\n",
    "                                    AND\n",
    "\n",
    "                                    td.MAXBookingDate)\n",
    "                                    \n",
    "                                    OR\n",
    "                                    \n",
    "                                    (c.BookingDate IS NULL)\n",
    "                                    \n",
    "                                    )\n",
    "\n",
    "                    GROUP BY c.org_uid\n",
    "\n",
    "\n",
    "''')#.show(50)\n",
    "\n",
    "#DomFlightSpend_NAV_12M.count()\n",
    "\n",
    "DomFlightSpend_NAV_12M.createOrReplaceTempView('DomFlightSpend_NAV_12M')"
   ]
  },
  {
   "cell_type": "code",
   "execution_count": null,
   "id": "3a69e218-5035-46e8-a7fd-d8cd6cb7e18e",
   "metadata": {
    "tags": []
   },
   "outputs": [],
   "source": []
  },
  {
   "cell_type": "code",
   "execution_count": 70,
   "id": "a6bababb-98b1-414d-9005-1c771256f590",
   "metadata": {
    "execution": {
     "iopub.execute_input": "2022-12-04T10:08:46.956984Z",
     "iopub.status.busy": "2022-12-04T10:08:46.956772Z",
     "iopub.status.idle": "2022-12-04T10:08:47.203537Z",
     "shell.execute_reply": "2022-12-04T10:08:47.203036Z",
     "shell.execute_reply.started": "2022-12-04T10:08:46.956961Z"
    },
    "tags": []
   },
   "outputs": [
    {
     "data": {
      "application/vnd.jupyter.widget-view+json": {
       "model_id": "ca2a11ec63354560a3eced865530f6d2",
       "version_major": 2,
       "version_minor": 0
      },
      "text/plain": [
       "VBox()"
      ]
     },
     "metadata": {},
     "output_type": "display_data"
    },
    {
     "data": {
      "application/vnd.jupyter.widget-view+json": {
       "model_id": "",
       "version_major": 2,
       "version_minor": 0
      },
      "text/plain": [
       "FloatProgress(value=0.0, bar_style='info', description='Progress:', layout=Layout(height='25px', width='50%'),…"
      ]
     },
     "metadata": {},
     "output_type": "display_data"
    }
   ],
   "source": [
    "########### DomFlightSpend_NAV_12M - END ###############\n",
    "\n",
    "########### DomFlightSpend_lty_12M - START ###############\n",
    "\n",
    "DomFlightSpend_lty_12M_1 = spark.sql('''\n",
    "                \n",
    "            SELECT sum(DiscountedBasefare) AS DomFlightSpend_lty_12M, c.org_uid\n",
    "\n",
    "                FROM GoldenRecordISPINC_fact c\n",
    "\n",
    "                left join tmpBookingdate td on td.org_uid = c.org_uid\n",
    "\n",
    "                left join Months_12_BD m on m.org_uid = c.org_uid\n",
    "\n",
    "                WHERE\n",
    "                \n",
    "                       \n",
    "                       --c.org_uid = '16121934962100992431'\n",
    "                       --AND\n",
    "                       \n",
    "                            \n",
    "                       (CAST(c.International AS VARCHAR(10)) = 'false'\n",
    "                        \n",
    "                        OR c.International IS NULL)\n",
    "\n",
    "                        AND\n",
    "                        \n",
    "                        (c.lineage = 'SFLTY' OR c.lineage IS NULL)\n",
    "                        \n",
    "                        AND\n",
    "\n",
    "                        (\n",
    "                        \n",
    "                        (c.BookingDate BETWEEN \n",
    "\n",
    "                                    m.date\n",
    "\n",
    "                                    AND\n",
    "\n",
    "                                    td.MAXBookingDate)\n",
    "                                    \n",
    "                                    OR\n",
    "                                    \n",
    "                                    (c.BookingDate IS NULL)\n",
    "                                    \n",
    "                                    )\n",
    "\n",
    "                    GROUP BY c.org_uid\n",
    "\n",
    "\n",
    "''')#.show(50)\n",
    "\n",
    "DomFlightSpend_lty_12M_1.createOrReplaceTempView('DomFlightSpend_lty_12M_1')"
   ]
  },
  {
   "cell_type": "code",
   "execution_count": 71,
   "id": "8292a98b-84cb-4cf4-8006-59c616b9bed2",
   "metadata": {
    "execution": {
     "iopub.execute_input": "2022-12-04T10:08:47.438566Z",
     "iopub.status.busy": "2022-12-04T10:08:47.438367Z",
     "iopub.status.idle": "2022-12-04T10:08:47.481945Z",
     "shell.execute_reply": "2022-12-04T10:08:47.481476Z",
     "shell.execute_reply.started": "2022-12-04T10:08:47.438544Z"
    },
    "tags": []
   },
   "outputs": [
    {
     "data": {
      "application/vnd.jupyter.widget-view+json": {
       "model_id": "15be296b98764dcf934cd971025a6c4a",
       "version_major": 2,
       "version_minor": 0
      },
      "text/plain": [
       "VBox()"
      ]
     },
     "metadata": {},
     "output_type": "display_data"
    },
    {
     "data": {
      "application/vnd.jupyter.widget-view+json": {
       "model_id": "",
       "version_major": 2,
       "version_minor": 0
      },
      "text/plain": [
       "FloatProgress(value=0.0, bar_style='info', description='Progress:', layout=Layout(height='25px', width='50%'),…"
      ]
     },
     "metadata": {},
     "output_type": "display_data"
    }
   ],
   "source": [
    "#DomFlightSpend_lty_12M_1.show()"
   ]
  },
  {
   "cell_type": "code",
   "execution_count": 75,
   "id": "2e75b37b-7cb2-4b51-982e-cf0ffa2d85c5",
   "metadata": {
    "execution": {
     "iopub.execute_input": "2022-12-04T10:09:10.787301Z",
     "iopub.status.busy": "2022-12-04T10:09:10.787070Z",
     "iopub.status.idle": "2022-12-04T10:09:11.035603Z",
     "shell.execute_reply": "2022-12-04T10:09:11.035084Z",
     "shell.execute_reply.started": "2022-12-04T10:09:10.787277Z"
    },
    "tags": []
   },
   "outputs": [
    {
     "data": {
      "application/vnd.jupyter.widget-view+json": {
       "model_id": "94244f50341f4e3a8285cfeebd29b57e",
       "version_major": 2,
       "version_minor": 0
      },
      "text/plain": [
       "VBox()"
      ]
     },
     "metadata": {},
     "output_type": "display_data"
    },
    {
     "data": {
      "application/vnd.jupyter.widget-view+json": {
       "model_id": "",
       "version_major": 2,
       "version_minor": 0
      },
      "text/plain": [
       "FloatProgress(value=0.0, bar_style='info', description='Progress:', layout=Layout(height='25px', width='50%'),…"
      ]
     },
     "metadata": {},
     "output_type": "display_data"
    }
   ],
   "source": [
    "DomFlightSpend_lty_12M = spark.sql('''\n",
    "                                        SELECT a.org_uid, a.DomFlightSpend_NAV_12M, w.DomFlightSpend_lty_12M\n",
    "                                        \n",
    "                                        FROM DomFlightSpend_NAV_12M a \n",
    "                                        \n",
    "                                        left join DomFlightSpend_lty_12M_1 w on w.org_uid = a.org_uid\n",
    "\n",
    "''')\n",
    "\n",
    "DomFlightSpend_lty_12M.createOrReplaceTempView('DomFlightSpend_lty_12M')#show(50)"
   ]
  },
  {
   "cell_type": "code",
   "execution_count": 76,
   "id": "dced6233-54d0-46f8-9dff-fe929c6976a8",
   "metadata": {
    "execution": {
     "iopub.execute_input": "2022-12-04T10:09:28.545002Z",
     "iopub.status.busy": "2022-12-04T10:09:28.544770Z",
     "iopub.status.idle": "2022-12-04T10:09:59.897863Z",
     "shell.execute_reply": "2022-12-04T10:09:59.897228Z",
     "shell.execute_reply.started": "2022-12-04T10:09:28.544979Z"
    }
   },
   "outputs": [
    {
     "data": {
      "application/vnd.jupyter.widget-view+json": {
       "model_id": "76ab69b0de454b7d9f2782ea4f6bd213",
       "version_major": 2,
       "version_minor": 0
      },
      "text/plain": [
       "VBox()"
      ]
     },
     "metadata": {},
     "output_type": "display_data"
    },
    {
     "data": {
      "application/vnd.jupyter.widget-view+json": {
       "model_id": "",
       "version_major": 2,
       "version_minor": 0
      },
      "text/plain": [
       "FloatProgress(value=0.0, bar_style='info', description='Progress:', layout=Layout(height='25px', width='50%'),…"
      ]
     },
     "metadata": {},
     "output_type": "display_data"
    },
    {
     "name": "stdout",
     "output_type": "stream",
     "text": [
      "+--------------------+----------------------+----------------------+\n",
      "|org_uid             |DomFlightSpend_NAV_12M|DomFlightSpend_lty_12M|\n",
      "+--------------------+----------------------+----------------------+\n",
      "|16116833142100001901|0.00                  |null                  |\n",
      "|16116833142100003584|0.00                  |null                  |\n",
      "|16116833142100004719|0.00                  |null                  |\n",
      "|16116833142100006328|3950.00               |null                  |\n",
      "|16116833142100009495|0.00                  |null                  |\n",
      "|16116833142100010128|3296.00               |null                  |\n",
      "|16116833142100012404|4713.00               |null                  |\n",
      "|16116833142100012639|4589.00               |null                  |\n",
      "|16116833142100013587|2589.00               |null                  |\n",
      "|16116833142100013744|12955.00              |null                  |\n",
      "|16116833142100013990|9843.00               |null                  |\n",
      "|16116833142100022668|13427.00              |null                  |\n",
      "|16116833142100023370|8583.00               |null                  |\n",
      "|16116833142100023670|0.00                  |null                  |\n",
      "|16116833142100024443|0.00                  |null                  |\n",
      "|16116833142100024446|0.00                  |null                  |\n",
      "|16116833142100028578|0.00                  |null                  |\n",
      "|16116833142100030438|0.00                  |null                  |\n",
      "|16116833142100031022|0.00                  |null                  |\n",
      "|16116833142100033180|0.00                  |null                  |\n",
      "+--------------------+----------------------+----------------------+\n",
      "only showing top 20 rows"
     ]
    }
   ],
   "source": [
    "DomFlightSpend_lty_12M.show(20,False)"
   ]
  },
  {
   "cell_type": "code",
   "execution_count": 73,
   "id": "030e6cf5-b1b4-466e-b7ed-f1ab959f16a3",
   "metadata": {
    "execution": {
     "iopub.execute_input": "2022-12-04T10:08:48.692162Z",
     "iopub.status.busy": "2022-12-04T10:08:48.691968Z",
     "iopub.status.idle": "2022-12-04T10:08:48.734036Z",
     "shell.execute_reply": "2022-12-04T10:08:48.733568Z",
     "shell.execute_reply.started": "2022-12-04T10:08:48.692139Z"
    },
    "tags": []
   },
   "outputs": [
    {
     "data": {
      "application/vnd.jupyter.widget-view+json": {
       "model_id": "7d5702ae390c4f76b4b9ddbd30f34016",
       "version_major": 2,
       "version_minor": 0
      },
      "text/plain": [
       "VBox()"
      ]
     },
     "metadata": {},
     "output_type": "display_data"
    },
    {
     "data": {
      "application/vnd.jupyter.widget-view+json": {
       "model_id": "",
       "version_major": 2,
       "version_minor": 0
      },
      "text/plain": [
       "FloatProgress(value=0.0, bar_style='info', description='Progress:', layout=Layout(height='25px', width='50%'),…"
      ]
     },
     "metadata": {},
     "output_type": "display_data"
    }
   ],
   "source": [
    "########### DomFlightSpend_lty_12M - END ###############"
   ]
  },
  {
   "cell_type": "code",
   "execution_count": 74,
   "id": "5597b5be-d835-4307-b8cf-7f32a32633e6",
   "metadata": {
    "execution": {
     "iopub.execute_input": "2022-12-04T10:08:48.921114Z",
     "iopub.status.busy": "2022-12-04T10:08:48.920904Z",
     "iopub.status.idle": "2022-12-04T10:08:49.171233Z",
     "shell.execute_reply": "2022-12-04T10:08:49.170707Z",
     "shell.execute_reply.started": "2022-12-04T10:08:48.921092Z"
    },
    "tags": []
   },
   "outputs": [
    {
     "data": {
      "application/vnd.jupyter.widget-view+json": {
       "model_id": "2c6e458509be4503a91c5366f7b05431",
       "version_major": 2,
       "version_minor": 0
      },
      "text/plain": [
       "VBox()"
      ]
     },
     "metadata": {},
     "output_type": "display_data"
    },
    {
     "data": {
      "application/vnd.jupyter.widget-view+json": {
       "model_id": "",
       "version_major": 2,
       "version_minor": 0
      },
      "text/plain": [
       "FloatProgress(value=0.0, bar_style='info', description='Progress:', layout=Layout(height='25px', width='50%'),…"
      ]
     },
     "metadata": {},
     "output_type": "display_data"
    }
   ],
   "source": [
    "########### IntFlightSpend_NAV_12M - START ###############\n",
    "\n",
    "IntFlightSpend_NAV_12M_1 = spark.sql('''\n",
    "                \n",
    "            SELECT sum(DiscountedBasefare) AS IntFlightSpend_NAV_12M, c.org_uid\n",
    "\n",
    "                FROM GoldenRecordISPINC_fact c\n",
    "\n",
    "                left join tmpBookingdate td on td.org_uid = c.org_uid\n",
    "\n",
    "                left join Months_12_BD m on m.org_uid = c.org_uid\n",
    "\n",
    "                WHERE\n",
    "                \n",
    "                       \n",
    "                       \n",
    "                       --c.org_uid = '16116833142100000128'\n",
    "                       \n",
    "                       \n",
    "                            \n",
    "                       (CAST(c.International AS VARCHAR(10)) = 'true'\n",
    "                        \n",
    "                        OR c.International IS NULL)\n",
    "\n",
    "                        AND\n",
    "                        \n",
    "                        (c.lineage = 'NAV' OR c.lineage IS NULL)\n",
    "                        \n",
    "                        AND\n",
    "\n",
    "                        (\n",
    "                        \n",
    "                        (c.BookingDate BETWEEN \n",
    "\n",
    "                                    m.date\n",
    "\n",
    "                                    AND\n",
    "\n",
    "                                    td.MAXBookingDate)\n",
    "                                    \n",
    "                                    OR\n",
    "                                    \n",
    "                                    (c.BookingDate IS NULL)\n",
    "                                    \n",
    "                                    )\n",
    "\n",
    "                    GROUP BY c.org_uid\n",
    "\n",
    "\n",
    "''')#.show(50)\n",
    "\n",
    "#IntFlightSpend_NAV_12M_1.count()\n",
    "\n",
    "#IntFlightSpend_NAV_12M_2= IntFlightSpend_NAV_12M_1.na.fill(\n",
    "    #{'IntFlightSpend_NAV_12M': 0.00})\n",
    "\n",
    "#IntFlightSpend_NAV_12M_2.show(50)\n",
    "\n",
    "IntFlightSpend_NAV_12M_1.createOrReplaceTempView('IntFlightSpend_NAV_12M_1')"
   ]
  },
  {
   "cell_type": "code",
   "execution_count": null,
   "id": "f241bfb5-efbd-4b33-b8b1-ed349de66bcb",
   "metadata": {
    "tags": []
   },
   "outputs": [],
   "source": []
  },
  {
   "cell_type": "code",
   "execution_count": 62,
   "id": "7f0e236b-3e4c-4b1f-8ee0-37eebff9cfb1",
   "metadata": {
    "execution": {
     "iopub.execute_input": "2022-12-04T09:39:25.569177Z",
     "iopub.status.busy": "2022-12-04T09:39:25.568963Z",
     "iopub.status.idle": "2022-12-04T09:39:25.821586Z",
     "shell.execute_reply": "2022-12-04T09:39:25.821093Z",
     "shell.execute_reply.started": "2022-12-04T09:39:25.569154Z"
    },
    "tags": []
   },
   "outputs": [
    {
     "data": {
      "application/vnd.jupyter.widget-view+json": {
       "model_id": "8b38d9a2227949a4aa34308483e945f5",
       "version_major": 2,
       "version_minor": 0
      },
      "text/plain": [
       "VBox()"
      ]
     },
     "metadata": {},
     "output_type": "display_data"
    },
    {
     "data": {
      "application/vnd.jupyter.widget-view+json": {
       "model_id": "",
       "version_major": 2,
       "version_minor": 0
      },
      "text/plain": [
       "FloatProgress(value=0.0, bar_style='info', description='Progress:', layout=Layout(height='25px', width='50%'),…"
      ]
     },
     "metadata": {},
     "output_type": "display_data"
    }
   ],
   "source": [
    "IntFlightSpend_NAV_12M = spark.sql('''\n",
    "\n",
    "                                    SELECT a.*, w.IntFlightSpend_NAV_12M\n",
    "                                        \n",
    "                                        FROM DomFlightSpend_lty_12M a \n",
    "                                        \n",
    "                                        left join IntFlightSpend_NAV_12M_1 w on w.org_uid = a.org_uid\n",
    "\n",
    "''')\n",
    "\n",
    "IntFlightSpend_NAV_12M.createOrReplaceTempView('IntFlightSpend_NAV_12M')"
   ]
  },
  {
   "cell_type": "code",
   "execution_count": 63,
   "id": "36806918-8120-499c-9e3f-5f7282f4410c",
   "metadata": {
    "execution": {
     "iopub.execute_input": "2022-12-04T09:39:27.504475Z",
     "iopub.status.busy": "2022-12-04T09:39:27.504250Z",
     "iopub.status.idle": "2022-12-04T09:39:27.551834Z",
     "shell.execute_reply": "2022-12-04T09:39:27.551062Z",
     "shell.execute_reply.started": "2022-12-04T09:39:27.504450Z"
    },
    "tags": []
   },
   "outputs": [
    {
     "data": {
      "application/vnd.jupyter.widget-view+json": {
       "model_id": "a55811d616e345b69df2c799f5c2e62a",
       "version_major": 2,
       "version_minor": 0
      },
      "text/plain": [
       "VBox()"
      ]
     },
     "metadata": {},
     "output_type": "display_data"
    },
    {
     "data": {
      "application/vnd.jupyter.widget-view+json": {
       "model_id": "",
       "version_major": 2,
       "version_minor": 0
      },
      "text/plain": [
       "FloatProgress(value=0.0, bar_style='info', description='Progress:', layout=Layout(height='25px', width='50%'),…"
      ]
     },
     "metadata": {},
     "output_type": "display_data"
    }
   ],
   "source": [
    "#IntFlightSpend_NAV_12M.show()\n",
    "\n",
    "########### IntFlightSpend_NAV_12M - END ###############"
   ]
  },
  {
   "cell_type": "code",
   "execution_count": 64,
   "id": "9e60f997-ad42-4aea-95ea-f37523d771f4",
   "metadata": {
    "execution": {
     "iopub.execute_input": "2022-12-04T09:39:27.919825Z",
     "iopub.status.busy": "2022-12-04T09:39:27.919499Z",
     "iopub.status.idle": "2022-12-04T09:39:28.177456Z",
     "shell.execute_reply": "2022-12-04T09:39:28.176973Z",
     "shell.execute_reply.started": "2022-12-04T09:39:27.919786Z"
    },
    "tags": []
   },
   "outputs": [
    {
     "data": {
      "application/vnd.jupyter.widget-view+json": {
       "model_id": "33fbe26ce6664ce6bc68d1a2557a57cc",
       "version_major": 2,
       "version_minor": 0
      },
      "text/plain": [
       "VBox()"
      ]
     },
     "metadata": {},
     "output_type": "display_data"
    },
    {
     "data": {
      "application/vnd.jupyter.widget-view+json": {
       "model_id": "",
       "version_major": 2,
       "version_minor": 0
      },
      "text/plain": [
       "FloatProgress(value=0.0, bar_style='info', description='Progress:', layout=Layout(height='25px', width='50%'),…"
      ]
     },
     "metadata": {},
     "output_type": "display_data"
    }
   ],
   "source": [
    "########### IntFlightSpend_lty_12M - START ###############\n",
    "\n",
    "IntFlightSpend_lty_12M_1 = spark.sql('''\n",
    "                \n",
    "            SELECT sum(DiscountedBasefare) AS IntFlightSpend_lty_12M, c.org_uid\n",
    "\n",
    "                FROM GoldenRecordISPINC_fact c\n",
    "\n",
    "                left join tmpBookingdate td on td.org_uid = c.org_uid\n",
    "\n",
    "                left join Months_12_BD m on m.org_uid = c.org_uid\n",
    "\n",
    "                WHERE\n",
    "                \n",
    "                      \n",
    "                       \n",
    "                       \n",
    "                            \n",
    "                       (CAST(c.International AS VARCHAR(10)) = 'true'\n",
    "                        \n",
    "                        OR c.International IS NULL)\n",
    "\n",
    "                        AND\n",
    "                        \n",
    "                        (c.lineage = 'SFLTY' OR c.lineage IS NULL)\n",
    "                        \n",
    "                        AND\n",
    "\n",
    "                        (\n",
    "                        \n",
    "                        (c.BookingDate BETWEEN \n",
    "\n",
    "                                    m.date\n",
    "\n",
    "                                    AND\n",
    "\n",
    "                                    td.MAXBookingDate)\n",
    "                                    \n",
    "                                    OR\n",
    "                                    \n",
    "                                    (c.BookingDate IS NULL)\n",
    "                                    \n",
    "                                    )\n",
    "\n",
    "                    GROUP BY c.org_uid\n",
    "\n",
    "\n",
    "''')#.show(50)\n",
    "\n",
    "#IntFlightSpend_lty_12M_2= IntFlightSpend_lty_12M_1.na.fill(\n",
    "    #{'IntFlightSpend_lty_12M': 0.00})\n",
    "\n",
    "IntFlightSpend_lty_12M_1.createOrReplaceTempView('IntFlightSpend_lty_12M_1')"
   ]
  },
  {
   "cell_type": "code",
   "execution_count": null,
   "id": "4963dec2-cc75-415c-aaf4-0512f54ed0fa",
   "metadata": {
    "tags": []
   },
   "outputs": [],
   "source": []
  },
  {
   "cell_type": "code",
   "execution_count": 65,
   "id": "e9b8115e-6f6b-4845-a10b-b8c0bc14e3ac",
   "metadata": {
    "execution": {
     "iopub.execute_input": "2022-12-04T09:39:32.728984Z",
     "iopub.status.busy": "2022-12-04T09:39:32.728753Z",
     "iopub.status.idle": "2022-12-04T09:39:32.979506Z",
     "shell.execute_reply": "2022-12-04T09:39:32.978981Z",
     "shell.execute_reply.started": "2022-12-04T09:39:32.728960Z"
    },
    "tags": []
   },
   "outputs": [
    {
     "data": {
      "application/vnd.jupyter.widget-view+json": {
       "model_id": "8f912c4eebc04631894c413e9c526131",
       "version_major": 2,
       "version_minor": 0
      },
      "text/plain": [
       "VBox()"
      ]
     },
     "metadata": {},
     "output_type": "display_data"
    },
    {
     "data": {
      "application/vnd.jupyter.widget-view+json": {
       "model_id": "",
       "version_major": 2,
       "version_minor": 0
      },
      "text/plain": [
       "FloatProgress(value=0.0, bar_style='info', description='Progress:', layout=Layout(height='25px', width='50%'),…"
      ]
     },
     "metadata": {},
     "output_type": "display_data"
    }
   ],
   "source": [
    "IntFlightSpend_lty_12M = spark.sql('''\n",
    "                                        SELECT a.*, w.IntFlightSpend_lty_12M\n",
    "                                        \n",
    "                                        FROM IntFlightSpend_NAV_12M a \n",
    "                                        \n",
    "                                        left join IntFlightSpend_lty_12M_1 w on w.org_uid = a.org_uid\n",
    "\n",
    "''')"
   ]
  },
  {
   "cell_type": "code",
   "execution_count": 77,
   "id": "0a913e52-b7d4-4a13-9054-7385e6a8d594",
   "metadata": {
    "execution": {
     "iopub.execute_input": "2022-12-04T10:12:03.406150Z",
     "iopub.status.busy": "2022-12-04T10:12:03.405918Z",
     "iopub.status.idle": "2022-12-04T10:12:36.775461Z",
     "shell.execute_reply": "2022-12-04T10:12:36.774922Z",
     "shell.execute_reply.started": "2022-12-04T10:12:03.406121Z"
    }
   },
   "outputs": [
    {
     "data": {
      "application/vnd.jupyter.widget-view+json": {
       "model_id": "2f3a8f22b856450e98b84cff2d7d2437",
       "version_major": 2,
       "version_minor": 0
      },
      "text/plain": [
       "VBox()"
      ]
     },
     "metadata": {},
     "output_type": "display_data"
    },
    {
     "data": {
      "application/vnd.jupyter.widget-view+json": {
       "model_id": "",
       "version_major": 2,
       "version_minor": 0
      },
      "text/plain": [
       "FloatProgress(value=0.0, bar_style='info', description='Progress:', layout=Layout(height='25px', width='50%'),…"
      ]
     },
     "metadata": {},
     "output_type": "display_data"
    },
    {
     "name": "stdout",
     "output_type": "stream",
     "text": [
      "+--------------------+----------------------+----------------------+----------------------+----------------------+\n",
      "|org_uid             |DomFlightSpend_NAV_12M|DomFlightSpend_lty_12M|IntFlightSpend_NAV_12M|IntFlightSpend_lty_12M|\n",
      "+--------------------+----------------------+----------------------+----------------------+----------------------+\n",
      "|16116833142100001901|0.00                  |null                  |null                  |null                  |\n",
      "|16116833142100003584|0.00                  |null                  |null                  |null                  |\n",
      "|16116833142100004719|0.00                  |null                  |null                  |null                  |\n",
      "|16116833142100006328|3950.00               |null                  |null                  |null                  |\n",
      "|16116833142100009495|0.00                  |null                  |0.00                  |null                  |\n",
      "|16116833142100010128|3296.00               |null                  |null                  |null                  |\n",
      "|16116833142100012404|4713.00               |null                  |null                  |null                  |\n",
      "|16116833142100012639|4589.00               |null                  |null                  |null                  |\n",
      "|16116833142100013587|2589.00               |null                  |null                  |null                  |\n",
      "|16116833142100013744|12955.00              |null                  |null                  |null                  |\n",
      "|16116833142100013990|9843.00               |null                  |null                  |null                  |\n",
      "|16116833142100022668|13427.00              |null                  |null                  |null                  |\n",
      "|16116833142100023370|8583.00               |null                  |null                  |null                  |\n",
      "|16116833142100023670|0.00                  |null                  |null                  |null                  |\n",
      "|16116833142100024443|0.00                  |null                  |0.00                  |null                  |\n",
      "|16116833142100024446|0.00                  |null                  |null                  |null                  |\n",
      "|16116833142100028578|0.00                  |null                  |null                  |null                  |\n",
      "|16116833142100030438|0.00                  |null                  |null                  |null                  |\n",
      "|16116833142100031022|0.00                  |null                  |null                  |null                  |\n",
      "|16116833142100033180|0.00                  |null                  |null                  |null                  |\n",
      "+--------------------+----------------------+----------------------+----------------------+----------------------+\n",
      "only showing top 20 rows"
     ]
    }
   ],
   "source": [
    "IntFlightSpend_lty_12M.show(20,False)"
   ]
  },
  {
   "cell_type": "code",
   "execution_count": 66,
   "id": "ec3037e6-f4d1-43f5-923e-9e2988c19ec2",
   "metadata": {
    "execution": {
     "iopub.execute_input": "2022-12-04T09:39:36.844251Z",
     "iopub.status.busy": "2022-12-04T09:39:36.844033Z",
     "iopub.status.idle": "2022-12-04T09:39:36.888325Z",
     "shell.execute_reply": "2022-12-04T09:39:36.887830Z",
     "shell.execute_reply.started": "2022-12-04T09:39:36.844228Z"
    },
    "tags": []
   },
   "outputs": [
    {
     "data": {
      "application/vnd.jupyter.widget-view+json": {
       "model_id": "13e5f946603141c88a5f8448c03a9919",
       "version_major": 2,
       "version_minor": 0
      },
      "text/plain": [
       "VBox()"
      ]
     },
     "metadata": {},
     "output_type": "display_data"
    },
    {
     "data": {
      "application/vnd.jupyter.widget-view+json": {
       "model_id": "",
       "version_major": 2,
       "version_minor": 0
      },
      "text/plain": [
       "FloatProgress(value=0.0, bar_style='info', description='Progress:', layout=Layout(height='25px', width='50%'),…"
      ]
     },
     "metadata": {},
     "output_type": "display_data"
    }
   ],
   "source": [
    "########### IntFlightSpend_lty_12M - END ###############"
   ]
  },
  {
   "cell_type": "code",
   "execution_count": null,
   "id": "91aebfcb-634b-4d80-9a34-32b1c292d3da",
   "metadata": {
    "execution": {
     "iopub.execute_input": "2022-11-22T05:34:55.651623Z",
     "iopub.status.busy": "2022-11-22T05:34:55.651399Z"
    },
    "tags": []
   },
   "outputs": [],
   "source": [
    "#IntFlightNavLty = IntFlightSpend_lty_12M.na.fill({'DomFlightSpend_lty_12M': 0.00}) \\\n",
    "#.na.fill({'IntFlightSpend_lty_12M': 0.00}).na.fill({'IntFlightSpend_NAV_12M': 0.00}) "
   ]
  },
  {
   "cell_type": "code",
   "execution_count": 79,
   "id": "486a0ca5-fecf-4074-8b3d-167e2f7a59f2",
   "metadata": {
    "execution": {
     "iopub.execute_input": "2022-12-04T10:14:37.282071Z",
     "iopub.status.busy": "2022-12-04T10:14:37.281843Z",
     "iopub.status.idle": "2022-12-04T10:14:37.537679Z",
     "shell.execute_reply": "2022-12-04T10:14:37.537032Z",
     "shell.execute_reply.started": "2022-12-04T10:14:37.282048Z"
    },
    "tags": []
   },
   "outputs": [
    {
     "data": {
      "application/vnd.jupyter.widget-view+json": {
       "model_id": "4a59e9ac433f4551bd7493ad2db048ac",
       "version_major": 2,
       "version_minor": 0
      },
      "text/plain": [
       "VBox()"
      ]
     },
     "metadata": {},
     "output_type": "display_data"
    },
    {
     "data": {
      "application/vnd.jupyter.widget-view+json": {
       "model_id": "",
       "version_major": 2,
       "version_minor": 0
      },
      "text/plain": [
       "FloatProgress(value=0.0, bar_style='info', description='Progress:', layout=Layout(height='25px', width='50%'),…"
      ]
     },
     "metadata": {},
     "output_type": "display_data"
    }
   ],
   "source": [
    "IntFlightSpend_lty_12M.createOrReplaceTempView('IntFlightSpend_lty_12M')#show(50)\n",
    "\n",
    "########## Both INTFLIGHTSPEND OF NAV & LTY ############"
   ]
  },
  {
   "cell_type": "code",
   "execution_count": 80,
   "id": "37262086-b2c5-40e3-ba61-42c601f7c361",
   "metadata": {
    "execution": {
     "iopub.execute_input": "2022-12-04T10:14:39.679221Z",
     "iopub.status.busy": "2022-12-04T10:14:39.678997Z",
     "iopub.status.idle": "2022-12-04T10:14:39.723299Z",
     "shell.execute_reply": "2022-12-04T10:14:39.722793Z",
     "shell.execute_reply.started": "2022-12-04T10:14:39.679197Z"
    },
    "tags": []
   },
   "outputs": [
    {
     "data": {
      "application/vnd.jupyter.widget-view+json": {
       "model_id": "9c02d999f1844876ba876da0bb4a1266",
       "version_major": 2,
       "version_minor": 0
      },
      "text/plain": [
       "VBox()"
      ]
     },
     "metadata": {},
     "output_type": "display_data"
    },
    {
     "data": {
      "application/vnd.jupyter.widget-view+json": {
       "model_id": "",
       "version_major": 2,
       "version_minor": 0
      },
      "text/plain": [
       "FloatProgress(value=0.0, bar_style='info', description='Progress:', layout=Layout(height='25px', width='50%'),…"
      ]
     },
     "metadata": {},
     "output_type": "display_data"
    }
   ],
   "source": [
    "#IntFlightNavLty.createOrReplaceTempView('IntFlightNavLty')"
   ]
  },
  {
   "cell_type": "code",
   "execution_count": 81,
   "id": "2c0f8dcb-f158-454a-b853-063679ac08da",
   "metadata": {
    "execution": {
     "iopub.execute_input": "2022-12-04T10:14:40.113612Z",
     "iopub.status.busy": "2022-12-04T10:14:40.113391Z",
     "iopub.status.idle": "2022-12-04T10:14:40.158702Z",
     "shell.execute_reply": "2022-12-04T10:14:40.158216Z",
     "shell.execute_reply.started": "2022-12-04T10:14:40.113589Z"
    },
    "tags": []
   },
   "outputs": [
    {
     "data": {
      "application/vnd.jupyter.widget-view+json": {
       "model_id": "501a8cb6dd634cb58e3bba6e57b92ad3",
       "version_major": 2,
       "version_minor": 0
      },
      "text/plain": [
       "VBox()"
      ]
     },
     "metadata": {},
     "output_type": "display_data"
    },
    {
     "data": {
      "application/vnd.jupyter.widget-view+json": {
       "model_id": "",
       "version_major": 2,
       "version_minor": 0
      },
      "text/plain": [
       "FloatProgress(value=0.0, bar_style='info', description='Progress:', layout=Layout(height='25px', width='50%'),…"
      ]
     },
     "metadata": {},
     "output_type": "display_data"
    }
   ],
   "source": [
    "#IntFlightNavLty.show()"
   ]
  },
  {
   "cell_type": "code",
   "execution_count": 82,
   "id": "cae771bf-bf3c-4e0b-8e65-d1fe16d545a6",
   "metadata": {
    "execution": {
     "iopub.execute_input": "2022-12-04T10:14:51.283265Z",
     "iopub.status.busy": "2022-12-04T10:14:51.283031Z",
     "iopub.status.idle": "2022-12-04T10:14:51.533796Z",
     "shell.execute_reply": "2022-12-04T10:14:51.533303Z",
     "shell.execute_reply.started": "2022-12-04T10:14:51.283242Z"
    },
    "tags": []
   },
   "outputs": [
    {
     "data": {
      "application/vnd.jupyter.widget-view+json": {
       "model_id": "e76c4a602b8c4873b78bcf4a15932f0a",
       "version_major": 2,
       "version_minor": 0
      },
      "text/plain": [
       "VBox()"
      ]
     },
     "metadata": {},
     "output_type": "display_data"
    },
    {
     "data": {
      "application/vnd.jupyter.widget-view+json": {
       "model_id": "",
       "version_major": 2,
       "version_minor": 0
      },
      "text/plain": [
       "FloatProgress(value=0.0, bar_style='info', description='Progress:', layout=Layout(height='25px', width='50%'),…"
      ]
     },
     "metadata": {},
     "output_type": "display_data"
    }
   ],
   "source": [
    "########## OverallFlightSpend_12 - START ##########\n",
    "\n",
    "OverallFlightSpend_12 = spark.sql('''\n",
    "                                            SELECT \n",
    "                                            \n",
    "                                            g.org_uid,\n",
    "                                            \n",
    "                                            g.DomFlightSpend_NAV_12M,\n",
    "                                            \n",
    "                                            g.DomFlightSpend_lty_12M,\n",
    "                                            \n",
    "                                            g.IntFlightSpend_NAV_12M,\n",
    "                                            \n",
    "                                            g.IntFlightSpend_lty_12M\n",
    "                                            \n",
    "                                            ,(g.DomFlightSpend_NAV_12M + g.IntFlightSpend_NAV_12M) AS OverallFlightSpend_12_NAV\n",
    "                                            \n",
    "                                            ,(g.DomFlightSpend_lty_12M + g.IntFlightSpend_lty_12M) AS OverallFlightSpend_12_LTY\n",
    "                                            \n",
    "                                            FROM IntFlightSpend_lty_12M g\n",
    "\n",
    "''')\n",
    "\n",
    "OverallFlightSpend_12.createOrReplaceTempView('OverallFlightSpend_12')"
   ]
  },
  {
   "cell_type": "code",
   "execution_count": 83,
   "id": "7a5bdb07-f8b7-4065-b3ad-0d464f8b88c2",
   "metadata": {
    "execution": {
     "iopub.execute_input": "2022-12-04T10:15:11.337004Z",
     "iopub.status.busy": "2022-12-04T10:15:11.336773Z",
     "iopub.status.idle": "2022-12-04T10:15:46.727583Z",
     "shell.execute_reply": "2022-12-04T10:15:46.726894Z",
     "shell.execute_reply.started": "2022-12-04T10:15:11.336981Z"
    }
   },
   "outputs": [
    {
     "data": {
      "application/vnd.jupyter.widget-view+json": {
       "model_id": "8a1ae46db5b9422fbc5413b506f96ff4",
       "version_major": 2,
       "version_minor": 0
      },
      "text/plain": [
       "VBox()"
      ]
     },
     "metadata": {},
     "output_type": "display_data"
    },
    {
     "data": {
      "application/vnd.jupyter.widget-view+json": {
       "model_id": "",
       "version_major": 2,
       "version_minor": 0
      },
      "text/plain": [
       "FloatProgress(value=0.0, bar_style='info', description='Progress:', layout=Layout(height='25px', width='50%'),…"
      ]
     },
     "metadata": {},
     "output_type": "display_data"
    },
    {
     "name": "stdout",
     "output_type": "stream",
     "text": [
      "+--------------------+----------------------+----------------------+----------------------+----------------------+-------------------------+-------------------------+\n",
      "|org_uid             |DomFlightSpend_NAV_12M|DomFlightSpend_lty_12M|IntFlightSpend_NAV_12M|IntFlightSpend_lty_12M|OverallFlightSpend_12_NAV|OverallFlightSpend_12_LTY|\n",
      "+--------------------+----------------------+----------------------+----------------------+----------------------+-------------------------+-------------------------+\n",
      "|16116833142100001901|0.00                  |null                  |null                  |null                  |null                     |null                     |\n",
      "|16116833142100003584|0.00                  |null                  |null                  |null                  |null                     |null                     |\n",
      "|16116833142100004719|0.00                  |null                  |null                  |null                  |null                     |null                     |\n",
      "|16116833142100006328|3950.00               |null                  |null                  |null                  |null                     |null                     |\n",
      "|16116833142100009495|0.00                  |null                  |0.00                  |null                  |0.00                     |null                     |\n",
      "|16116833142100010128|3296.00               |null                  |null                  |null                  |null                     |null                     |\n",
      "|16116833142100012404|4713.00               |null                  |null                  |null                  |null                     |null                     |\n",
      "|16116833142100012639|4589.00               |null                  |null                  |null                  |null                     |null                     |\n",
      "|16116833142100013587|2589.00               |null                  |null                  |null                  |null                     |null                     |\n",
      "|16116833142100013744|12955.00              |null                  |null                  |null                  |null                     |null                     |\n",
      "|16116833142100013990|9843.00               |null                  |null                  |null                  |null                     |null                     |\n",
      "|16116833142100022668|13427.00              |null                  |null                  |null                  |null                     |null                     |\n",
      "|16116833142100023370|8583.00               |null                  |null                  |null                  |null                     |null                     |\n",
      "|16116833142100023670|0.00                  |null                  |null                  |null                  |null                     |null                     |\n",
      "|16116833142100024443|0.00                  |null                  |0.00                  |null                  |0.00                     |null                     |\n",
      "|16116833142100024446|0.00                  |null                  |null                  |null                  |null                     |null                     |\n",
      "|16116833142100028578|0.00                  |null                  |null                  |null                  |null                     |null                     |\n",
      "|16116833142100030438|0.00                  |null                  |null                  |null                  |null                     |null                     |\n",
      "|16116833142100031022|0.00                  |null                  |null                  |null                  |null                     |null                     |\n",
      "|16116833142100033180|0.00                  |null                  |null                  |null                  |null                     |null                     |\n",
      "+--------------------+----------------------+----------------------+----------------------+----------------------+-------------------------+-------------------------+\n",
      "only showing top 20 rows"
     ]
    }
   ],
   "source": [
    "OverallFlightSpend_12.show(20,False)"
   ]
  },
  {
   "cell_type": "code",
   "execution_count": 84,
   "id": "d6ce9284-06d5-4699-8db6-c79902cff451",
   "metadata": {
    "execution": {
     "iopub.execute_input": "2022-12-04T10:16:05.390290Z",
     "iopub.status.busy": "2022-12-04T10:16:05.390057Z",
     "iopub.status.idle": "2022-12-04T10:16:05.434961Z",
     "shell.execute_reply": "2022-12-04T10:16:05.434454Z",
     "shell.execute_reply.started": "2022-12-04T10:16:05.390265Z"
    },
    "tags": []
   },
   "outputs": [
    {
     "data": {
      "application/vnd.jupyter.widget-view+json": {
       "model_id": "bae89f18681648d7b8d06158e790c029",
       "version_major": 2,
       "version_minor": 0
      },
      "text/plain": [
       "VBox()"
      ]
     },
     "metadata": {},
     "output_type": "display_data"
    },
    {
     "data": {
      "application/vnd.jupyter.widget-view+json": {
       "model_id": "",
       "version_major": 2,
       "version_minor": 0
      },
      "text/plain": [
       "FloatProgress(value=0.0, bar_style='info', description='Progress:', layout=Layout(height='25px', width='50%'),…"
      ]
     },
     "metadata": {},
     "output_type": "display_data"
    }
   ],
   "source": [
    "########## OverallFlightSpend_12 - END ##########"
   ]
  },
  {
   "cell_type": "code",
   "execution_count": 85,
   "id": "ce7d87c8-0f18-4af3-8d48-a584c0a86c84",
   "metadata": {
    "execution": {
     "iopub.execute_input": "2022-12-04T10:16:06.174468Z",
     "iopub.status.busy": "2022-12-04T10:16:06.174225Z",
     "iopub.status.idle": "2022-12-04T10:16:06.928655Z",
     "shell.execute_reply": "2022-12-04T10:16:06.928150Z",
     "shell.execute_reply.started": "2022-12-04T10:16:06.174444Z"
    },
    "tags": []
   },
   "outputs": [
    {
     "data": {
      "application/vnd.jupyter.widget-view+json": {
       "model_id": "21d729ad06c341b594761d56d7733f78",
       "version_major": 2,
       "version_minor": 0
      },
      "text/plain": [
       "VBox()"
      ]
     },
     "metadata": {},
     "output_type": "display_data"
    },
    {
     "data": {
      "application/vnd.jupyter.widget-view+json": {
       "model_id": "",
       "version_major": 2,
       "version_minor": 0
      },
      "text/plain": [
       "FloatProgress(value=0.0, bar_style='info', description='Progress:', layout=Layout(height='25px', width='50%'),…"
      ]
     },
     "metadata": {},
     "output_type": "display_data"
    }
   ],
   "source": [
    "########### TicketValueWebApp ##############\n",
    "\n",
    "TicketValueWebApp_DOM_1 = spark.sql('''\n",
    "\n",
    "            \n",
    "            SELECT sum(DiscountedBasefare) AS TicketValueWebApp_DOM, c.org_uid\n",
    "\n",
    "                FROM GoldenRecordISPINC_fact c\n",
    "\n",
    "                left join tmpBookingdate td on td.org_uid = c.org_uid\n",
    "\n",
    "                left join Months_12_BD m on m.org_uid = c.org_uid\n",
    "\n",
    "                WHERE\n",
    "                \n",
    "                       \n",
    "                            \n",
    "                       (CAST(c.International AS VARCHAR(10)) = 'false'\n",
    "                        \n",
    "                        OR c.International IS NULL)\n",
    "\n",
    "                        AND\n",
    "                        \n",
    "                        (c.ChannelType = 2 OR c.ChannelType IS NULL)\n",
    "                        \n",
    "                        AND\n",
    "\n",
    "                        (\n",
    "                        \n",
    "                        (c.BookingDate BETWEEN \n",
    "\n",
    "                                    m.date\n",
    "\n",
    "                                    AND\n",
    "\n",
    "                                    td.MAXBookingDate)\n",
    "                                    \n",
    "                                    OR\n",
    "                                    \n",
    "                                    (c.BookingDate IS NULL)\n",
    "                                    \n",
    "                                    )\n",
    "\n",
    "                    GROUP BY c.org_uid\n",
    "                    \n",
    "                    \n",
    "                    \n",
    "                    \n",
    "\n",
    "\n",
    "''')\n",
    "\n",
    "#TicketValueWebApp_DOM_1.count()\n",
    "\n",
    "TicketValueWebApp_DOM = TicketValueWebApp_DOM_1.na.fill({'TicketValueWebApp_DOM': 0.00})\n",
    "\n",
    "TicketValueWebApp_DOM.createOrReplaceTempView('TicketValueWebApp_DOM')\n",
    "\n",
    "TicketValueWebApp_INT_1 = spark.sql('''\n",
    "\n",
    "            \n",
    "            SELECT sum(DiscountedBasefare) AS TicketValueWebApp_INT, c.org_uid\n",
    "\n",
    "                FROM GoldenRecordISPINC_fact c\n",
    "\n",
    "                left join tmpBookingdate td on td.org_uid = c.org_uid\n",
    "\n",
    "                left join Months_12_BD m on m.org_uid = c.org_uid\n",
    "\n",
    "                WHERE\n",
    "                \n",
    "                       \n",
    "                            \n",
    "                       (CAST(c.International AS VARCHAR(10)) = 'true'\n",
    "                        \n",
    "                        OR c.International IS NULL)\n",
    "\n",
    "                        AND\n",
    "                        \n",
    "                        (c.ChannelType = 2 OR c.ChannelType IS NULL)\n",
    "                        \n",
    "                        AND\n",
    "\n",
    "                        (\n",
    "                        \n",
    "                        (c.BookingDate BETWEEN \n",
    "\n",
    "                                    m.date\n",
    "\n",
    "                                    AND\n",
    "\n",
    "                                    td.MAXBookingDate)\n",
    "                                    \n",
    "                                    OR\n",
    "                                    \n",
    "                                    (c.BookingDate IS NULL)\n",
    "                                    \n",
    "                                    )\n",
    "\n",
    "                    GROUP BY c.org_uid\n",
    "                    \n",
    "                    \n",
    "                    \n",
    "                    \n",
    "\n",
    "\n",
    "''')\n",
    "\n",
    "#TicketValueWebApp_INT_1.count()\n",
    "\n",
    "TicketValueWebApp_INT = TicketValueWebApp_INT_1.na.fill({'TicketValueWebApp_INT': 0.00})\n",
    "\n",
    "#TicketValueWebApp_INT.show()\n",
    "\n",
    "TicketValueWebApp_INT.createOrReplaceTempView('TicketValueWebApp_INT')\n",
    "\n",
    "TicketValueWebApp_1 = spark.sql('''\n",
    "\n",
    "            SELECT c.org_uid, c.TicketValueWebApp_DOM, w.TicketValueWebApp_INT\n",
    "            \n",
    "            FROM TicketValueWebApp_DOM c\n",
    "            \n",
    "            LEFT JOIN TicketValueWebApp_INT w on c.org_uid = w.org_uid\n",
    "\n",
    "\n",
    "''')\n",
    "\n",
    "#TicketValueWebApp_1.show()\n",
    "\n",
    "TicketValueWebApp_2 = TicketValueWebApp_1.na.fill({'TicketValueWebApp_DOM': 0.00}) \\\n",
    ".na.fill({'TicketValueWebApp_INT': 0.00})\n",
    "\n",
    "TicketValueWebApp_2.createOrReplaceTempView('TicketValueWebApp_2')\n",
    "\n",
    "TicketValueWebApp_3 = spark.sql('''\n",
    "\n",
    "          SELECT a.*, (TicketValueWebApp_DOM + TicketValueWebApp_INT) AS TicketValueWebApp\n",
    "          \n",
    "          FROM TicketValueWebApp_2 a\n",
    "          \n",
    "          ''')\n",
    "\n",
    "TicketValueWebApp_3.createOrReplaceTempView('TicketValueWebApp_3')\n",
    "\n",
    "TicketValueWebApp = spark.sql('''\n",
    "                                    SELECT a.*, w.TicketValueWebApp \n",
    "                                    \n",
    "                                    FROM OverallFlightSpend_12 a\n",
    "                                    \n",
    "                                    LEFT JOIN TicketValueWebApp_3 w on w.org_uid = a.org_uid\n",
    "\n",
    "\n",
    "''')\n",
    "\n",
    "#TicketValueWebApp.count()\n",
    "\n",
    "TicketValueWebApp.createOrReplaceTempView('TicketValueWebApp')\n",
    "\n",
    "########### TicketValueWebApp ##############"
   ]
  },
  {
   "cell_type": "code",
   "execution_count": null,
   "id": "d33f712b-cfec-42bc-96c0-6eaf158dec71",
   "metadata": {
    "execution": {
     "iopub.execute_input": "2022-11-22T05:34:55.651623Z",
     "iopub.status.busy": "2022-11-22T05:34:55.651399Z"
    },
    "tags": []
   },
   "outputs": [],
   "source": []
  },
  {
   "cell_type": "code",
   "execution_count": null,
   "id": "2232c4da-4c7d-4b86-8c98-b55c87444dec",
   "metadata": {
    "execution": {
     "iopub.execute_input": "2022-11-22T05:34:55.651623Z",
     "iopub.status.busy": "2022-11-22T05:34:55.651399Z"
    },
    "tags": []
   },
   "outputs": [],
   "source": [
    "############ AncilliarySpend_NAV_12M ##############\n",
    "\n",
    "AncilliarySpend_NAV_12M = spark.sql('''\n",
    "\n",
    "                SELECT c.org_uid, sum(ancillaryamount) AS AncilliarySpend_NAV_12M \n",
    "\n",
    "                FROM GoldenRecordISPINC_fact c\n",
    "\n",
    "                left join tmpBookingdate td on td.org_uid = c.org_uid\n",
    "\n",
    "                left join Months_12_BD m on m.org_uid = c.org_uid\n",
    "\n",
    "                WHERE              \n",
    "                                             \n",
    "                        (c.lineage = 'NAV' OR c.lineage IS NULL)\n",
    "                        \n",
    "                        AND\n",
    "\n",
    "                        (\n",
    "                        \n",
    "                        (c.BookingDate BETWEEN \n",
    "\n",
    "                                    m.date\n",
    "\n",
    "                                    AND\n",
    "\n",
    "                                    td.MAXBookingDate)\n",
    "                                    \n",
    "                                    OR\n",
    "                                    \n",
    "                                    (c.BookingDate IS NULL)\n",
    "                                    \n",
    "                                    )\n",
    "\n",
    "                    GROUP BY c.org_uid\n",
    "\n",
    "\n",
    "''')\n",
    "\n",
    "#AncilliarySpend_NAV_12M.count()\n",
    "\n",
    "AncilliarySpend_NAV_12M.createOrReplaceTempView('AncilliarySpend_NAV_12M')"
   ]
  },
  {
   "cell_type": "code",
   "execution_count": null,
   "id": "891f362f-7461-42f3-aeb1-33b13c4ebe9e",
   "metadata": {
    "execution": {
     "iopub.execute_input": "2022-11-22T05:34:55.651623Z",
     "iopub.status.busy": "2022-11-22T05:34:55.651399Z"
    },
    "tags": []
   },
   "outputs": [],
   "source": [
    "############ AncilliarySpend_NAV_12M ##############"
   ]
  },
  {
   "cell_type": "code",
   "execution_count": null,
   "id": "2150cdad-52a3-415b-81e8-799eab584c1f",
   "metadata": {
    "execution": {
     "iopub.execute_input": "2022-11-22T05:34:55.651623Z",
     "iopub.status.busy": "2022-11-22T05:34:55.651399Z"
    },
    "tags": []
   },
   "outputs": [],
   "source": [
    "############ AncilliarySpend_Lty_12M ##############\n",
    "\n",
    "AncilliarySpend_Lty_12M = spark.sql('''\n",
    "                SELECT c.org_uid, sum(ancillaryamount) AS AncilliarySpend_Lty_12M \n",
    "\n",
    "                FROM GoldenRecordISPINC_fact c\n",
    "\n",
    "                left join tmpBookingdate td on td.org_uid = c.org_uid\n",
    "\n",
    "                left join Months_12_BD m on m.org_uid = c.org_uid\n",
    "\n",
    "                WHERE\n",
    "                \n",
    "                    --c.org_uid IN ('16116833142100004052','16116833142100003433')\n",
    "                \n",
    "                       \n",
    "                        \n",
    "                        (c.lineage = 'SFLTY' OR c.lineage IS NULL)\n",
    "                        \n",
    "                        AND\n",
    "\n",
    "                        (\n",
    "                        \n",
    "                        (c.BookingDate BETWEEN \n",
    "\n",
    "                                    m.date\n",
    "\n",
    "                                    AND\n",
    "\n",
    "                                    td.MAXBookingDate)\n",
    "                                    \n",
    "                                    OR\n",
    "                                    \n",
    "                                    (c.BookingDate IS NULL)\n",
    "                                    \n",
    "                                    )\n",
    "\n",
    "                    GROUP BY c.org_uid\n",
    "\n",
    "\n",
    "''')\n",
    "\n",
    "#AncilliarySpend_Lty_12M.count()\n",
    "\n",
    "AncilliarySpend_Lty_12M.createOrReplaceTempView('AncilliarySpend_Lty_12M')\n",
    "\n",
    "############ AncilliarySpend_Lty_12M ##############"
   ]
  },
  {
   "cell_type": "code",
   "execution_count": null,
   "id": "70271c09-5ade-4bac-8ad1-58c74db5f629",
   "metadata": {
    "execution": {
     "iopub.execute_input": "2022-11-22T05:34:55.651623Z",
     "iopub.status.busy": "2022-11-22T05:34:55.651399Z"
    },
    "tags": []
   },
   "outputs": [],
   "source": []
  },
  {
   "cell_type": "code",
   "execution_count": null,
   "id": "cbe1038d-d421-4192-bf5f-80cfc091706e",
   "metadata": {
    "execution": {
     "iopub.execute_input": "2022-11-22T05:34:55.651623Z",
     "iopub.status.busy": "2022-11-22T05:34:55.651399Z"
    },
    "tags": []
   },
   "outputs": [],
   "source": [
    "############ AncilliarySpend ##############\n",
    "\n",
    "AncilliarySpend_1 = spark.sql('''\n",
    "                                SELECT a.org_uid, a.AncilliarySpend_NAV_12M, w.AncilliarySpend_Lty_12M\n",
    "                                \n",
    "                                FROM AncilliarySpend_NAV_12M a\n",
    "                                \n",
    "                                LEFT JOIN AncilliarySpend_Lty_12M w on a.org_uid = w.org_uid\n",
    "                                \n",
    "                                \n",
    "\n",
    "\n",
    "''')\n",
    "\n",
    "AncilliarySpend_1.createOrReplaceTempView('AncilliarySpend_1')\n",
    "\n",
    "#AncilliarySpend_2 = AncilliarySpend_1.na.fill({'AncilliarySpend_NAV_12M': 0.00}) \\\n",
    "#.na.fill({'AncilliarySpend_Lty_12M': 0.00})\n",
    "\n",
    "#AncilliarySpend_2.createOrReplaceTempView('AncilliarySpend_2')\n",
    "\n",
    "AncilliarySpend = spark.sql('''\n",
    "                    SELECT a.*, b.AncilliarySpend_NAV_12M, b.AncilliarySpend_Lty_12M\n",
    "                    \n",
    "                    FROM TicketValueWebApp a\n",
    "                    \n",
    "                    LEFT JOIN AncilliarySpend_1 b on b.org_uid = a.org_uid\n",
    "                    \n",
    "                    ''')\n",
    "\n",
    "AncilliarySpend.createOrReplaceTempView('AncilliarySpend') "
   ]
  },
  {
   "cell_type": "code",
   "execution_count": null,
   "id": "685a3b27-587f-4cfc-aca7-e8ee8e802cbe",
   "metadata": {
    "execution": {
     "iopub.execute_input": "2022-11-22T05:34:55.651623Z",
     "iopub.status.busy": "2022-11-22T05:34:55.651399Z"
    },
    "tags": []
   },
   "outputs": [],
   "source": [
    "#AncilliarySpend.show()"
   ]
  },
  {
   "cell_type": "code",
   "execution_count": null,
   "id": "6763c58d-2daf-4003-9044-82b7c4543b09",
   "metadata": {
    "execution": {
     "iopub.execute_input": "2022-11-22T05:34:55.651623Z",
     "iopub.status.busy": "2022-11-22T05:34:55.651399Z"
    },
    "tags": []
   },
   "outputs": [],
   "source": [
    "############### OverallFlightSpend_12 ###############\n",
    "\n",
    "OverallFlightSpend_12 = spark.sql('''\n",
    "\n",
    "                \n",
    "                SELECT a.*,\n",
    "                \n",
    "                (a.DomFlightSpend_NAV_12M + a.IntFlightSpend_NAV_12M + a.AncilliarySpend_NAV_12M) AS OverallAirtravelSpend_NAV_12M,\n",
    "                \n",
    "                (a.DomFlightSpend_Lty_12M + a.IntFlightSpend_Lty_12M + a.AncilliarySpend_Lty_12M) AS OverallAirtravelSpend_Lty_12M\n",
    "                \n",
    "                FROM AncilliarySpend a\n",
    "                \n",
    "                LEFT JOIN AncilliarySpend_1 b on a.org_uid = b.org_uid\n",
    "\n",
    "\n",
    "''')\n",
    "\n",
    "OverallFlightSpend_12.createOrReplaceTempView('OverallFlightSpend_12')"
   ]
  },
  {
   "cell_type": "code",
   "execution_count": null,
   "id": "240a4229-e1c3-49b4-9e40-ffc711289f18",
   "metadata": {
    "execution": {
     "iopub.execute_input": "2022-11-22T05:34:55.651623Z",
     "iopub.status.busy": "2022-11-22T05:34:55.651399Z"
    },
    "tags": []
   },
   "outputs": [],
   "source": [
    "############### OverallFlightSpend_12 - END ###############\n",
    "\n",
    "############### AncillaryPurchaseCount - END ###############"
   ]
  },
  {
   "cell_type": "code",
   "execution_count": null,
   "id": "d2404944-2e99-47ec-b5fb-be26c8d7c1e5",
   "metadata": {
    "execution": {
     "iopub.execute_input": "2022-11-22T05:34:55.651623Z",
     "iopub.status.busy": "2022-11-22T05:34:55.651399Z"
    },
    "tags": []
   },
   "outputs": [],
   "source": [
    "AncillaryPurchaseCount_NAV_12 = spark.sql('''\n",
    "            SELECT org_uid, count(Counts) AS AncillaryPurchaseCount_NAV_12M\n",
    "            \n",
    "            FROM \n",
    "            (\n",
    "            \n",
    "            SELECT c.org_uid, count(*) AS Counts\n",
    "\n",
    "                FROM GoldenRecordISPINC_fact c\n",
    "                \n",
    "                left join tmpBookingdate td on td.org_uid = c.org_uid\n",
    "\n",
    "                left join Months_12_BD m on m.org_uid = c.org_uid\n",
    "\n",
    "                join PassengerFee pf on pf.PassengerID = c.PassengerID_BP\n",
    "\n",
    "                join AncillaryRevenueChargeCodes a on pf.FeeCode = a.Chargecode\n",
    "                \n",
    "                AND AncillaryRevenueFlag = 1\n",
    "\n",
    "                WHERE\n",
    "                \n",
    "                       \n",
    "                        \n",
    "                        (c.lineage = 'NAV' OR c.lineage IS NULL)\n",
    "                        \n",
    "                        AND\n",
    "\n",
    "                        (\n",
    "                        \n",
    "                        (c.BookingDate BETWEEN \n",
    "\n",
    "                                    m.date\n",
    "\n",
    "                                    AND\n",
    "\n",
    "                                    td.MAXBookingDate)\n",
    "                                    \n",
    "                                    OR\n",
    "                                    \n",
    "                                    (c.BookingDate IS NULL)\n",
    "                                    \n",
    "                                    )\n",
    "\n",
    "                    GROUP BY c.org_uid\n",
    "                    \n",
    "                                ,PassengerID\n",
    "\n",
    "                                  ,FeeNumber\n",
    "\n",
    "                                  ,FeeCode\n",
    "                                  \n",
    "                                  ) aa\n",
    "                                  \n",
    "                                 \n",
    "                                  \n",
    "                                 GROUP BY \n",
    "                                  \n",
    "                                 org_uid\n",
    "                                  \n",
    "                                  \n",
    "                                  \n",
    "                                  \n",
    "\n",
    "\n",
    "\n",
    "''')\n",
    "\n",
    "#AncillaryPurchaseCount_NAV_12.count()\n",
    "\n",
    "AncillaryPurchaseCount_NAV_12.createOrReplaceTempView('AncillaryPurchaseCount_NAV_12')"
   ]
  },
  {
   "cell_type": "code",
   "execution_count": null,
   "id": "af9f1176-3b3c-4df4-9641-a1c46c1a6a56",
   "metadata": {
    "execution": {
     "iopub.execute_input": "2022-11-22T05:34:55.651623Z",
     "iopub.status.busy": "2022-11-22T05:34:55.651399Z"
    },
    "tags": []
   },
   "outputs": [],
   "source": []
  },
  {
   "cell_type": "code",
   "execution_count": null,
   "id": "38100640-474b-4549-9e7a-524f492d93ee",
   "metadata": {
    "execution": {
     "iopub.execute_input": "2022-11-22T05:34:55.651623Z",
     "iopub.status.busy": "2022-11-22T05:34:55.651399Z"
    },
    "tags": []
   },
   "outputs": [],
   "source": [
    "AncillaryPurchaseCount_Lty_12 = spark.sql('''\n",
    "            SELECT org_uid, count(Counts) AS AncillaryPurchaseCount_Lty_12M\n",
    "            \n",
    "            FROM \n",
    "            (\n",
    "            \n",
    "            SELECT c.org_uid, count(*) AS Counts\n",
    "\n",
    "                FROM GoldenRecordISPINC_fact c\n",
    "                \n",
    "                left join tmpBookingdate td on td.org_uid = c.org_uid\n",
    "\n",
    "                left join Months_12_BD m on m.org_uid = c.org_uid\n",
    "\n",
    "                join PassengerFee pf on pf.PassengerID = c.PassengerID_BP\n",
    "\n",
    "                join AncillaryRevenueChargeCodes a on pf.FeeCode = a.Chargecode\n",
    "                \n",
    "                AND AncillaryRevenueFlag = 1\n",
    "\n",
    "                WHERE\n",
    "                \n",
    "                       \n",
    "                        \n",
    "                        (c.lineage = 'SFLTY' OR c.lineage IS NULL)\n",
    "                        \n",
    "                        AND\n",
    "\n",
    "                        (\n",
    "                        \n",
    "                        (c.BookingDate BETWEEN \n",
    "\n",
    "                                    m.date\n",
    "\n",
    "                                    AND\n",
    "\n",
    "                                    td.MAXBookingDate)\n",
    "                                    \n",
    "                                    OR\n",
    "                                    \n",
    "                                    (c.BookingDate IS NULL)\n",
    "                                    \n",
    "                                    )\n",
    "\n",
    "                    GROUP BY c.org_uid\n",
    "                    \n",
    "                                ,PassengerID\n",
    "\n",
    "                                  ,FeeNumber\n",
    "\n",
    "                                  ,FeeCode\n",
    "                                  \n",
    "                                  ) aa\n",
    "                                  \n",
    "                                  GROUP BY \n",
    "                                  \n",
    "                                 org_uid\n",
    "                                 \n",
    "                                 ''')\n",
    "                                  \n",
    "                                 \n",
    "                                  \n",
    "                          "
   ]
  },
  {
   "cell_type": "code",
   "execution_count": null,
   "id": "2351019b-1c3e-4f05-a50f-2aa6110d0ab3",
   "metadata": {
    "execution": {
     "iopub.execute_input": "2022-11-22T05:34:55.651623Z",
     "iopub.status.busy": "2022-11-22T05:34:55.651399Z"
    },
    "tags": []
   },
   "outputs": [],
   "source": [
    "AncillaryPurchaseCount_Lty_12.createOrReplaceTempView('AncillaryPurchaseCount_Lty_12')\n",
    "\n",
    "AncillaryPurchaseCount = spark.sql('''\n",
    "\n",
    "                SELECT a.*, b.AncillaryPurchaseCount_NAV_12M, c.AncillaryPurchaseCount_Lty_12M\n",
    "                \n",
    "                FROM OverallFlightSpend_12 a \n",
    "                \n",
    "                LEFT JOIN AncillaryPurchaseCount_NAV_12 b on b.org_uid = a.org_uid\n",
    "                \n",
    "                LEFT JOIN AncillaryPurchaseCount_Lty_12 c on c.org_uid = a.org_uid\n",
    "\n",
    "\n",
    "''')\n",
    "\n",
    "AncillaryPurchaseCount.createOrReplaceTempView('AncillaryPurchaseCount')"
   ]
  },
  {
   "cell_type": "code",
   "execution_count": null,
   "id": "ce4bc472-ff21-4d6d-8a06-71f7002e6d27",
   "metadata": {},
   "outputs": [],
   "source": []
  },
  {
   "cell_type": "code",
   "execution_count": null,
   "id": "21373f6c-10c9-4e7b-be85-885b0e8b3832",
   "metadata": {},
   "outputs": [],
   "source": []
  },
  {
   "cell_type": "code",
   "execution_count": null,
   "id": "f4725fac-7b33-45f7-b632-de6b6318f657",
   "metadata": {},
   "outputs": [],
   "source": []
  },
  {
   "cell_type": "code",
   "execution_count": null,
   "id": "11442cba-6106-4b65-8195-50461f24b8b7",
   "metadata": {},
   "outputs": [],
   "source": []
  },
  {
   "cell_type": "code",
   "execution_count": null,
   "id": "1d38823f-8e6a-4a55-87ab-c7adeb38ccd1",
   "metadata": {},
   "outputs": [],
   "source": []
  },
  {
   "cell_type": "code",
   "execution_count": null,
   "id": "71adee6c-cd6d-469b-b038-6179ffcc7b25",
   "metadata": {},
   "outputs": [],
   "source": []
  },
  {
   "cell_type": "code",
   "execution_count": null,
   "id": "cf28e5ca-0441-440d-8193-081f63e06132",
   "metadata": {},
   "outputs": [],
   "source": []
  },
  {
   "cell_type": "code",
   "execution_count": null,
   "id": "e7c5e31c-814f-4952-9c0b-faeb23177539",
   "metadata": {},
   "outputs": [],
   "source": []
  },
  {
   "cell_type": "code",
   "execution_count": null,
   "id": "eddcdb6e-56cd-49e3-baea-2faac39f2443",
   "metadata": {},
   "outputs": [],
   "source": []
  },
  {
   "cell_type": "code",
   "execution_count": null,
   "id": "ddcb4dbd-5ae6-4766-9a93-01f92cdc0d28",
   "metadata": {},
   "outputs": [],
   "source": []
  },
  {
   "cell_type": "code",
   "execution_count": null,
   "id": "816825c4-80ff-41d1-8c18-4825a65aa74c",
   "metadata": {},
   "outputs": [],
   "source": []
  },
  {
   "cell_type": "code",
   "execution_count": null,
   "id": "57c79363-daea-4e56-8731-c8a4f7cd5c0d",
   "metadata": {},
   "outputs": [],
   "source": []
  },
  {
   "cell_type": "code",
   "execution_count": null,
   "id": "4f6e18e0-6506-4d4b-bec5-379dcbc6cdb8",
   "metadata": {},
   "outputs": [],
   "source": []
  },
  {
   "cell_type": "code",
   "execution_count": null,
   "id": "a7266ad7-686a-4ac6-badf-8fb4e2e44e36",
   "metadata": {},
   "outputs": [],
   "source": []
  }
 ],
 "metadata": {
  "kernelspec": {
   "display_name": "PySpark",
   "language": "",
   "name": "pysparkkernel"
  },
  "language_info": {
   "codemirror_mode": {
    "name": "python",
    "version": 3
   },
   "mimetype": "text/x-python",
   "name": "pyspark",
   "pygments_lexer": "python3"
  }
 },
 "nbformat": 4,
 "nbformat_minor": 5
}
