{
 "cells": [
  {
   "cell_type": "code",
   "execution_count": 1,
   "id": "6f622bf4-680e-472e-847d-81ad8b7d5054",
   "metadata": {
    "execution": {
     "iopub.execute_input": "2022-10-20T05:34:05.370016Z",
     "iopub.status.busy": "2022-10-20T05:34:05.369701Z",
     "iopub.status.idle": "2022-10-20T05:34:29.052642Z",
     "shell.execute_reply": "2022-10-20T05:34:29.052125Z",
     "shell.execute_reply.started": "2022-10-20T05:34:05.369975Z"
    }
   },
   "outputs": [
    {
     "data": {
      "application/vnd.jupyter.widget-view+json": {
       "model_id": "a441cd41a49247aa99f1c1b33c4a6791",
       "version_major": 2,
       "version_minor": 0
      },
      "text/plain": [
       "VBox()"
      ]
     },
     "metadata": {},
     "output_type": "display_data"
    },
    {
     "name": "stdout",
     "output_type": "stream",
     "text": [
      "Starting Spark application\n"
     ]
    },
    {
     "data": {
      "text/html": [
       "<table>\n",
       "<tr><th>ID</th><th>YARN Application ID</th><th>Kind</th><th>State</th><th>Spark UI</th><th>Driver log</th><th>Current session?</th></tr><tr><td>0</td><td>application_1666243839308_0002</td><td>pyspark</td><td>idle</td><td><a target=\"_blank\" href=\"http://ip-20-0-4-130.ap-south-1.compute.internal:20888/proxy/application_1666243839308_0002/\" class=\"emr-proxy-link\" emr-resource=\"j-3ORBA8000TTJB\n",
       "\" application-id=\"application_1666243839308_0002\">Link</a></td><td><a target=\"_blank\" href=\"http://ip-20-0-4-57.ap-south-1.compute.internal:8042/node/containerlogs/container_1666243839308_0002_01_000001/livy\" >Link</a></td><td>✔</td></tr></table>"
      ],
      "text/plain": [
       "<IPython.core.display.HTML object>"
      ]
     },
     "metadata": {},
     "output_type": "display_data"
    },
    {
     "data": {
      "application/vnd.jupyter.widget-view+json": {
       "model_id": "",
       "version_major": 2,
       "version_minor": 0
      },
      "text/plain": [
       "FloatProgress(value=0.0, bar_style='info', description='Progress:', layout=Layout(height='25px', width='50%'),…"
      ]
     },
     "metadata": {},
     "output_type": "display_data"
    },
    {
     "name": "stdout",
     "output_type": "stream",
     "text": [
      "SparkSession available as 'spark'.\n"
     ]
    },
    {
     "data": {
      "application/vnd.jupyter.widget-view+json": {
       "model_id": "",
       "version_major": 2,
       "version_minor": 0
      },
      "text/plain": [
       "FloatProgress(value=0.0, bar_style='info', description='Progress:', layout=Layout(height='25px', width='50%'),…"
      ]
     },
     "metadata": {},
     "output_type": "display_data"
    }
   ],
   "source": [
    "from pyspark import SparkConf\n",
    "from pyspark import SparkContext\n",
    "from pyspark.sql import SparkSession\n",
    "from pyspark.sql.types import *\n",
    "from pyspark.sql import functions as F\n",
    "import boto3\n",
    "import sys\n",
    "import re\n",
    "from datetime import datetime\n",
    "import configparser"
   ]
  },
  {
   "cell_type": "code",
   "execution_count": 2,
   "id": "45248128-8852-420f-b3ef-cfa49d7f957a",
   "metadata": {
    "execution": {
     "iopub.execute_input": "2022-10-20T05:34:51.764137Z",
     "iopub.status.busy": "2022-10-20T05:34:51.763909Z",
     "iopub.status.idle": "2022-10-20T05:34:57.062779Z",
     "shell.execute_reply": "2022-10-20T05:34:57.062268Z",
     "shell.execute_reply.started": "2022-10-20T05:34:51.764113Z"
    }
   },
   "outputs": [
    {
     "data": {
      "application/vnd.jupyter.widget-view+json": {
       "model_id": "9825e4bcd37d47c6bd882500b4e40589",
       "version_major": 2,
       "version_minor": 0
      },
      "text/plain": [
       "VBox()"
      ]
     },
     "metadata": {},
     "output_type": "display_data"
    },
    {
     "data": {
      "application/vnd.jupyter.widget-view+json": {
       "model_id": "",
       "version_major": 2,
       "version_minor": 0
      },
      "text/plain": [
       "FloatProgress(value=0.0, bar_style='info', description='Progress:', layout=Layout(height='25px', width='50%'),…"
      ]
     },
     "metadata": {},
     "output_type": "display_data"
    }
   ],
   "source": [
    "Q400Final = spark.sql(f'''\n",
    "\n",
    "                            SELECT   *\n",
    "                                        FROM precogdb.q400128wps\n",
    "                                        WHERE filename = 'ALL ac=VT-SUG dep=BOM arr=IXG fn=SG 3746 dt=20211219.csv'\n",
    "                      ''')\n"
   ]
  },
  {
   "cell_type": "code",
   "execution_count": 36,
   "id": "6f92aabd-2def-4002-b249-31b2cf56eaef",
   "metadata": {
    "execution": {
     "iopub.execute_input": "2022-10-20T05:48:53.137906Z",
     "iopub.status.busy": "2022-10-20T05:48:53.137621Z",
     "iopub.status.idle": "2022-10-20T05:48:53.185875Z",
     "shell.execute_reply": "2022-10-20T05:48:53.185295Z",
     "shell.execute_reply.started": "2022-10-20T05:48:53.137875Z"
    },
    "tags": []
   },
   "outputs": [
    {
     "data": {
      "application/vnd.jupyter.widget-view+json": {
       "model_id": "2d71a8bab0144855bf77f000f5bcf7e8",
       "version_major": 2,
       "version_minor": 0
      },
      "text/plain": [
       "VBox()"
      ]
     },
     "metadata": {},
     "output_type": "display_data"
    },
    {
     "data": {
      "application/vnd.jupyter.widget-view+json": {
       "model_id": "",
       "version_major": 2,
       "version_minor": 0
      },
      "text/plain": [
       "FloatProgress(value=0.0, bar_style='info', description='Progress:', layout=Layout(height='25px', width='50%'),…"
      ]
     },
     "metadata": {},
     "output_type": "display_data"
    }
   ],
   "source": [
    "Q400_stage3_df = Q400Final.filter(~(F.col(\"Radio-Altitude\").like (\"%*%\")) \n",
    "                                                        & (F.col(\"Radio-Altitude\") != \" \"))"
   ]
  },
  {
   "cell_type": "code",
   "execution_count": 37,
   "id": "9e2fa9a7-1667-478e-865f-dddf4dc866d6",
   "metadata": {
    "execution": {
     "iopub.execute_input": "2022-10-20T05:48:53.932748Z",
     "iopub.status.busy": "2022-10-20T05:48:53.932515Z",
     "iopub.status.idle": "2022-10-20T05:48:54.181393Z",
     "shell.execute_reply": "2022-10-20T05:48:54.180916Z",
     "shell.execute_reply.started": "2022-10-20T05:48:53.932722Z"
    },
    "tags": []
   },
   "outputs": [
    {
     "data": {
      "application/vnd.jupyter.widget-view+json": {
       "model_id": "3ca7dda872ef4be4a45f743726e9258b",
       "version_major": 2,
       "version_minor": 0
      },
      "text/plain": [
       "VBox()"
      ]
     },
     "metadata": {},
     "output_type": "display_data"
    },
    {
     "data": {
      "application/vnd.jupyter.widget-view+json": {
       "model_id": "",
       "version_major": 2,
       "version_minor": 0
      },
      "text/plain": [
       "FloatProgress(value=0.0, bar_style='info', description='Progress:', layout=Layout(height='25px', width='50%'),…"
      ]
     },
     "metadata": {},
     "output_type": "display_data"
    }
   ],
   "source": [
    "Q400_stage3_df.createOrReplaceTempView('DF')"
   ]
  },
  {
   "cell_type": "code",
   "execution_count": 38,
   "id": "7c2b0ec1-1012-4aed-b9e7-942567f35f7a",
   "metadata": {
    "execution": {
     "iopub.execute_input": "2022-10-20T05:48:55.324232Z",
     "iopub.status.busy": "2022-10-20T05:48:55.324018Z",
     "iopub.status.idle": "2022-10-20T05:49:24.669397Z",
     "shell.execute_reply": "2022-10-20T05:49:24.668910Z",
     "shell.execute_reply.started": "2022-10-20T05:48:55.324209Z"
    },
    "tags": []
   },
   "outputs": [
    {
     "data": {
      "application/vnd.jupyter.widget-view+json": {
       "model_id": "40d64a14f1dd427a9c6642bf52d1b6e2",
       "version_major": 2,
       "version_minor": 0
      },
      "text/plain": [
       "VBox()"
      ]
     },
     "metadata": {},
     "output_type": "display_data"
    },
    {
     "data": {
      "application/vnd.jupyter.widget-view+json": {
       "model_id": "",
       "version_major": 2,
       "version_minor": 0
      },
      "text/plain": [
       "FloatProgress(value=0.0, bar_style='info', description='Progress:', layout=Layout(height='25px', width='50%'),…"
      ]
     },
     "metadata": {},
     "output_type": "display_data"
    },
    {
     "name": "stdout",
     "output_type": "stream",
     "text": [
      "+--------+-----------------+----------------+----------+--------+------+---------+---+------------+----+---------+--------+------+------------+-------------+-------+------+---------+-------+--------+----+------------+------------+---------------------------+--------------+----------------+--------------+-------------+--------------+--------+--------+-------------------+--------------------+-------------------------+---------------------+-------------------+----------------------+------------+----------------------+-------------+-----------------+-----------------+---------------+---------------+-----------------+-----------------+-----------------+-----------------+------------------+---------------------+----------------------+---------------+---------------+--------------------------+----------------------------+--------------+--------------+-----------------+-----------------+----------+----------+----------------+-----------------+-------------------------+-------------------------+----------------------+--------+----------+--------+-------------+----+-----+\n",
      "|flightid|desigflightnumber|flightnumberarms|flightdate|fromcity|tocity|blocktime|ecn|employeename|rank|chocksoff|chockson|domint|aircrafttype|aircraftmodel|payload|tailno|departure|arrival|flightno|date|time-in-secs|time-per-sec|baro-corrected-palt-derived|altitude-barol|magnetic-heading|pitch-attitude|roll-attitude|radio-altitude|nose-wow|main-wow|normal-acceleration|lateral-acceleration|longitudinal-acceleration|calibrated-airspeed-l|afcs-selected-speed|vertical-speed-derived|ground-speed|flap-control-selection|flap-position|power-lever-pos-l|power-lever-pos-r|torque-tq-eng-l|torque-tq-eng-r|condition-lever-l|condition-lever-r|prop-rpm-np-eng-l|prop-rpm-np-eng-r|gpws-alert/warning|gpws-glideslope-alert|afcs-glideslope-active|afcs-loc-active|afcs-vor-active|glide-path-dev-pilot-above|glide-path-dev-copilot-above|dme-distance-1|dme-distance-2|vor-1-select-freq|vor-2-select-freq|wind-angle|wind-speed|brake-press-left|brake-press-right|thrust-rev-low-beta-eng-l|thrust-rev-low-beta-eng-r|afcs-autopilot-engaged|filename|loadeddate|loadedby|dataframename|year|month|\n",
      "+--------+-----------------+----------------+----------+--------+------+---------+---+------------+----+---------+--------+------+------------+-------------+-------+------+---------+-------+--------+----+------------+------------+---------------------------+--------------+----------------+--------------+-------------+--------------+--------+--------+-------------------+--------------------+-------------------------+---------------------+-------------------+----------------------+------------+----------------------+-------------+-----------------+-----------------+---------------+---------------+-----------------+-----------------+-----------------+-----------------+------------------+---------------------+----------------------+---------------+---------------+--------------------------+----------------------------+--------------+--------------+-----------------+-----------------+----------+----------+----------------+-----------------+-------------------------+-------------------------+----------------------+--------+----------+--------+-------------+----+-----+\n",
      "+--------+-----------------+----------------+----------+--------+------+---------+---+------------+----+---------+--------+------+------------+-------------+-------+------+---------+-------+--------+----+------------+------------+---------------------------+--------------+----------------+--------------+-------------+--------------+--------+--------+-------------------+--------------------+-------------------------+---------------------+-------------------+----------------------+------------+----------------------+-------------+-----------------+-----------------+---------------+---------------+-----------------+-----------------+-----------------+-----------------+------------------+---------------------+----------------------+---------------+---------------+--------------------------+----------------------------+--------------+--------------+-----------------+-----------------+----------+----------+----------------+-----------------+-------------------------+-------------------------+----------------------+--------+----------+--------+-------------+----+-----+"
     ]
    }
   ],
   "source": [
    "spark.sql('''\n",
    "SELECT * FROM DF Where `Time-In-Secs` = 3971.00\n",
    "''').show()"
   ]
  },
  {
   "cell_type": "code",
   "execution_count": 39,
   "id": "1d52e64a-412f-4b3b-8a84-5180ff18b961",
   "metadata": {
    "execution": {
     "iopub.execute_input": "2022-10-20T05:49:37.871821Z",
     "iopub.status.busy": "2022-10-20T05:49:37.871602Z",
     "iopub.status.idle": "2022-10-20T05:49:38.123803Z",
     "shell.execute_reply": "2022-10-20T05:49:38.123134Z",
     "shell.execute_reply.started": "2022-10-20T05:49:37.871797Z"
    },
    "tags": []
   },
   "outputs": [
    {
     "data": {
      "application/vnd.jupyter.widget-view+json": {
       "model_id": "1767edb5ac4c496e835159c4206b8026",
       "version_major": 2,
       "version_minor": 0
      },
      "text/plain": [
       "VBox()"
      ]
     },
     "metadata": {},
     "output_type": "display_data"
    },
    {
     "data": {
      "application/vnd.jupyter.widget-view+json": {
       "model_id": "",
       "version_major": 2,
       "version_minor": 0
      },
      "text/plain": [
       "FloatProgress(value=0.0, bar_style='info', description='Progress:', layout=Layout(height='25px', width='50%'),…"
      ]
     },
     "metadata": {},
     "output_type": "display_data"
    }
   ],
   "source": [
    "Q400Interim = Q400_stage3_df.alias('ED').select(\n",
    "                                                        'ED.FlightID',\n",
    "                                                        'ED.DesigFlightNumber',\n",
    "                                                        'ED.FlightNumberARMS',\n",
    "                                                        'ED.FlightDate',\n",
    "                                                        'ED.FromCity',\n",
    "                                                        'ED.ToCity',\n",
    "                                                        'ED.BlockTime',\n",
    "                                                        'ED.ECN',\n",
    "                                                        'ED.EmployeeName',\n",
    "                                                        'ED.RANK',\n",
    "                                                        'ED.ChocksOff',\n",
    "                                                        'ED.ChocksOn',\n",
    "                                                        'ED.DOMINT',\n",
    "                                                        'ED.AircraftType',\n",
    "                                                        'ED.AircraftModel',  \n",
    "                                                        'ED.Payload',\n",
    "                                                        'ED.TailNo',\n",
    "                                                        'ED.Departure',\n",
    "                                                        'ED.Arrival',\n",
    "                                                        'ED.FlightNo',\n",
    "                                                        'ED.Date',\n",
    "                                                        'ED.Time-In-Secs',\n",
    "                                                        'ED.Time-Per-Sec', \n",
    "                                                        'ED.BARO-CORRECTED-PALT-DERIVED', \n",
    "                                                        'ED.Altitude-BaroL', \n",
    "                                                        'ED.Magnetic-Heading', \n",
    "                                                        F.lit(F.regexp_replace(\n",
    "                                                        'ED.Pitch-Attitude', '\\\\*', '')).alias('Pitch-Attitude'),\n",
    "                                                        'ED.Roll-Attitude',  \n",
    "                                                        F.col('ED.Radio-Altitude').cast('Integer').alias('Radio-Altitude'),\n",
    "                                                        F.lit(F.regexp_replace('ED.Nose-WOW', '\\\\*', '')).alias('Nose-WOW'), \n",
    "                                                        F.lit(F.regexp_replace('ED.Main-WOW', '\\\\*', '')).alias('Main-WOW'),\n",
    "                                                        'ED.Normal-Acceleration', \n",
    "                                                        'ED.Lateral-Acceleration', \n",
    "                                                        'ED.Longitudinal-Acceleration', \n",
    "                                                        'ED.Calibrated-Airspeed-L', \n",
    "                                                        'ED.AFCS-Selected-Speed', \n",
    "                                                        'ED.Vertical-Speed-Derived', \n",
    "                                                        'ED.Ground-Speed', \n",
    "                                                        'ED.Flap-Control-Selection', \n",
    "                                                        'ED.FLAP-POSITION', \n",
    "                                                        'ED.Power-Lever-Pos-L', \n",
    "                                                        'ED.Power-Lever-Pos-R', \n",
    "                                                        'ED.Torque-TQ-Eng-L', \n",
    "                                                        'ED.Torque-TQ-Eng-R', \n",
    "                                                        'ED.Condition-Lever-L', \n",
    "                                                        'ED.Condition-Lever-R', \n",
    "                                                        'ED.Prop-RPM-Np-Eng-L', \n",
    "                                                        'ED.Prop-RPM-Np-Eng-R', \n",
    "                                                        'ED.GPWS-Alert/Warning', \n",
    "                                                        'ED.GPWS-Glideslope-Alert', \n",
    "                                                        F.regexp_replace(F.col('ED.AFCS-Glideslope-Active'), '\\\\*', '').alias(\"AFCS-Glideslope-Active\"),\n",
    "                                                        'ED.AFCS-LOC-Active', \n",
    "                                                        'ED.AFCS-VOR-Active', \n",
    "                                                        F.regexp_replace(F.col('ED.GLIDE-PATH-DEV-PILOT-ABOVE'), '\\\\*', '').alias(\"GLIDE-PATH-DEV-PILOT-ABOVE\"),  \n",
    "                                                        F.regexp_replace(F.col('ED.GLIDE-PATH-DEV-COPILOT-ABOVE'), '\\\\*', '').alias(\"GLIDE-PATH-DEV-COPILOT-ABOVE\"),\n",
    "                                                        'ED.DME-DISTANCE-1', \n",
    "                                                        'ED.DME-DISTANCE-2', \n",
    "                                                        'ED.VOR-1-SELECT-FREQ', \n",
    "                                                        'ED.VOR-2-SELECT-FREQ', \n",
    "                                                        'ED.WIND-ANGLE', \n",
    "                                                        'ED.WIND-SPEED', \n",
    "                                                        'ED.BRAKE-PRESS-LEFT', \n",
    "                                                        'ED.BRAKE-PRESS-RIGHT', \n",
    "                                                        'ED.Thrust-Rev-Low-Beta-Eng-L', \n",
    "                                                        'ED.Thrust-Rev-Low-Beta-Eng-R', \n",
    "                                                        'ED.AFCS-Autopilot-Engaged',\n",
    "                                                        'ED.FileName',\n",
    "                                                        'ED.LoadedDate',\n",
    "                                                        'ED.LoadedBy',\n",
    "                                                        'ED.DataFrameName',\n",
    "                                                        'ED.year',\n",
    "                                                        'ED.month' )"
   ]
  },
  {
   "cell_type": "code",
   "execution_count": 40,
   "id": "efd598c9-ca96-47f0-9774-5afac80de0f5",
   "metadata": {
    "execution": {
     "iopub.execute_input": "2022-10-20T05:49:38.780522Z",
     "iopub.status.busy": "2022-10-20T05:49:38.780306Z",
     "iopub.status.idle": "2022-10-20T05:49:39.028380Z",
     "shell.execute_reply": "2022-10-20T05:49:39.027896Z",
     "shell.execute_reply.started": "2022-10-20T05:49:38.780499Z"
    },
    "tags": []
   },
   "outputs": [
    {
     "data": {
      "application/vnd.jupyter.widget-view+json": {
       "model_id": "b425a830e07d468c8138408ead1ad3f6",
       "version_major": 2,
       "version_minor": 0
      },
      "text/plain": [
       "VBox()"
      ]
     },
     "metadata": {},
     "output_type": "display_data"
    },
    {
     "data": {
      "application/vnd.jupyter.widget-view+json": {
       "model_id": "",
       "version_major": 2,
       "version_minor": 0
      },
      "text/plain": [
       "FloatProgress(value=0.0, bar_style='info', description='Progress:', layout=Layout(height='25px', width='50%'),…"
      ]
     },
     "metadata": {},
     "output_type": "display_data"
    }
   ],
   "source": [
    "Q400Interim.na.fill(0).createOrReplaceTempView('Q400Interim')"
   ]
  },
  {
   "cell_type": "code",
   "execution_count": 41,
   "id": "47e00db4-505d-470e-901b-423157181655",
   "metadata": {
    "execution": {
     "iopub.execute_input": "2022-10-20T05:49:40.083998Z",
     "iopub.status.busy": "2022-10-20T05:49:40.083782Z",
     "iopub.status.idle": "2022-10-20T05:49:40.331734Z",
     "shell.execute_reply": "2022-10-20T05:49:40.331230Z",
     "shell.execute_reply.started": "2022-10-20T05:49:40.083974Z"
    },
    "tags": []
   },
   "outputs": [
    {
     "data": {
      "application/vnd.jupyter.widget-view+json": {
       "model_id": "fecafbaa7a824021b3833ec71cee2a41",
       "version_major": 2,
       "version_minor": 0
      },
      "text/plain": [
       "VBox()"
      ]
     },
     "metadata": {},
     "output_type": "display_data"
    },
    {
     "data": {
      "application/vnd.jupyter.widget-view+json": {
       "model_id": "",
       "version_major": 2,
       "version_minor": 0
      },
      "text/plain": [
       "FloatProgress(value=0.0, bar_style='info', description='Progress:', layout=Layout(height='25px', width='50%'),…"
      ]
     },
     "metadata": {},
     "output_type": "display_data"
    }
   ],
   "source": [
    "FirstQuery  = \"(SELECT FileName, max(cast(`Radio-Altitude` as int)) as RadioAltitude from Q400Interim group by FileName);\"\n",
    "\n",
    "spark.sql(FirstQuery).createOrReplaceTempView(\"B\")\n",
    "\n",
    "SecondQuery = \"(SELECT a.*, B.RadioAltitude from Q400Interim a inner join B on a.FileName = B.FileName and a.`Radio-Altitude` = B.RadioAltitude)\"\n",
    "\n",
    "spark.sql(SecondQuery).createOrReplaceTempView(\"C\")\n",
    "\n",
    "ThirdQuery = \"(SELECT FileName, RadioAltitude, max(`Time-In-Secs`) as MaxTime, min(`Time-In-Secs`) as MinTime from C group by FileName, RadioAltitude)\"\n",
    "\n",
    "spark.sql(ThirdQuery).createOrReplaceTempView(\"D\")"
   ]
  },
  {
   "cell_type": "code",
   "execution_count": 42,
   "id": "8c81463f-9630-481b-b45e-084efd155697",
   "metadata": {
    "execution": {
     "iopub.execute_input": "2022-10-20T05:49:41.320048Z",
     "iopub.status.busy": "2022-10-20T05:49:41.319839Z",
     "iopub.status.idle": "2022-10-20T05:49:41.569359Z",
     "shell.execute_reply": "2022-10-20T05:49:41.568882Z",
     "shell.execute_reply.started": "2022-10-20T05:49:41.320025Z"
    },
    "tags": []
   },
   "outputs": [
    {
     "data": {
      "application/vnd.jupyter.widget-view+json": {
       "model_id": "49044378c68f46a1b3298d8e9ae7f715",
       "version_major": 2,
       "version_minor": 0
      },
      "text/plain": [
       "VBox()"
      ]
     },
     "metadata": {},
     "output_type": "display_data"
    },
    {
     "data": {
      "application/vnd.jupyter.widget-view+json": {
       "model_id": "",
       "version_major": 2,
       "version_minor": 0
      },
      "text/plain": [
       "FloatProgress(value=0.0, bar_style='info', description='Progress:', layout=Layout(height='25px', width='50%'),…"
      ]
     },
     "metadata": {},
     "output_type": "display_data"
    }
   ],
   "source": [
    "FourthQuery = spark.sql('''\n",
    "                    SELECT a.`Time-In-Secs` as `Time-In-Secs-EX`,\n",
    "                    a.`BARO-CORRECTED-PALT-DERIVED` as `BARO-CORRECTED-PALT-DERIVED-EX`,\n",
    "                    a.`Radio-Altitude` as `Radio-Altitude-EX`,\n",
    "                    a.`Vertical-Speed-Derived` as `Vertical-Speed-Derived-EX`,\n",
    "                    'Pitch Attitude High' as ExceedanceName,\n",
    "                    \n",
    "                    case \n",
    "                    when Cast(`Time-In-Secs` as int)<D.MinTime Then 'TakeOff'\n",
    "                    when Cast(`Time-In-Secs` as int) between D.MinTime and D.MaxTime Then 'Airborne'\n",
    "                    when Cast(`Time-In-Secs` as int)>D.MaxTime Then 'Approach' end Phase,\n",
    "                    \n",
    "                    case when\n",
    "                    case when replace(`Pitch-Attitude`,'*','') like 'U%' then \n",
    "                    CASE WHEN instr(replace(`Pitch-Attitude`,'*',''), ' ')>0 \n",
    "                             THEN SUBSTRING(replace(`Pitch-Attitude`,'*',''),\n",
    "                             instr(replace(`Pitch-Attitude`,'*',''), ' ')+1,\n",
    "                             LENGTH(replace(`Pitch-Attitude`,'*','')))  \n",
    "                             ELSE NULL END end > 10.0 and \n",
    "                    Cast(`Time-In-Secs` as int)>D.MaxTime Then 'High' else 'Low' end TriggerCondition,\n",
    "        \n",
    "                    a.* from Q400Interim a\n",
    "                    inner join D  \n",
    "                    on a.FileName = D.FileName\n",
    "                    where Cast(`Time-In-Secs` as float)>D.MaxTime and `Main-WOW` = 'Gnd (1)' \n",
    "                    ''')"
   ]
  },
  {
   "cell_type": "code",
   "execution_count": 43,
   "id": "331993f4-fe13-480e-bb10-848201ff2670",
   "metadata": {
    "execution": {
     "iopub.execute_input": "2022-10-20T05:49:42.726413Z",
     "iopub.status.busy": "2022-10-20T05:49:42.726192Z",
     "iopub.status.idle": "2022-10-20T05:49:42.973606Z",
     "shell.execute_reply": "2022-10-20T05:49:42.972939Z",
     "shell.execute_reply.started": "2022-10-20T05:49:42.726389Z"
    },
    "tags": []
   },
   "outputs": [
    {
     "data": {
      "application/vnd.jupyter.widget-view+json": {
       "model_id": "60fd2e5347184ecea5ff4dc39f64597e",
       "version_major": 2,
       "version_minor": 0
      },
      "text/plain": [
       "VBox()"
      ]
     },
     "metadata": {},
     "output_type": "display_data"
    },
    {
     "data": {
      "application/vnd.jupyter.widget-view+json": {
       "model_id": "",
       "version_major": 2,
       "version_minor": 0
      },
      "text/plain": [
       "FloatProgress(value=0.0, bar_style='info', description='Progress:', layout=Layout(height='25px', width='50%'),…"
      ]
     },
     "metadata": {},
     "output_type": "display_data"
    }
   ],
   "source": [
    "FourthQuery.createOrReplaceTempView('E')"
   ]
  },
  {
   "cell_type": "code",
   "execution_count": 44,
   "id": "f85d9771-7213-4b14-81cb-5f3620f84ed5",
   "metadata": {
    "execution": {
     "iopub.execute_input": "2022-10-20T05:49:43.379874Z",
     "iopub.status.busy": "2022-10-20T05:49:43.379658Z",
     "iopub.status.idle": "2022-10-20T05:49:43.624778Z",
     "shell.execute_reply": "2022-10-20T05:49:43.624310Z",
     "shell.execute_reply.started": "2022-10-20T05:49:43.379850Z"
    },
    "tags": []
   },
   "outputs": [
    {
     "data": {
      "application/vnd.jupyter.widget-view+json": {
       "model_id": "42d6ea71b597479bb8f9c70f1c2bacff",
       "version_major": 2,
       "version_minor": 0
      },
      "text/plain": [
       "VBox()"
      ]
     },
     "metadata": {},
     "output_type": "display_data"
    },
    {
     "data": {
      "application/vnd.jupyter.widget-view+json": {
       "model_id": "",
       "version_major": 2,
       "version_minor": 0
      },
      "text/plain": [
       "FloatProgress(value=0.0, bar_style='info', description='Progress:', layout=Layout(height='25px', width='50%'),…"
      ]
     },
     "metadata": {},
     "output_type": "display_data"
    }
   ],
   "source": [
    "FifthQuery = spark.sql(f'''\n",
    "\n",
    "                        SELECT * FROM E \n",
    "                        WHERE TriggerCondition = 'High' and \n",
    "                        `Radio-Altitude` < 1000 \n",
    "                        and `Phase` = 'Approach' \n",
    "                                \n",
    "                                ''')"
   ]
  },
  {
   "cell_type": "code",
   "execution_count": 45,
   "id": "0a3cef56-3e7b-4962-a308-468f82f702ae",
   "metadata": {
    "execution": {
     "iopub.execute_input": "2022-10-20T05:49:44.794068Z",
     "iopub.status.busy": "2022-10-20T05:49:44.793843Z",
     "iopub.status.idle": "2022-10-20T05:49:45.040699Z",
     "shell.execute_reply": "2022-10-20T05:49:45.040126Z",
     "shell.execute_reply.started": "2022-10-20T05:49:44.794045Z"
    },
    "tags": []
   },
   "outputs": [
    {
     "data": {
      "application/vnd.jupyter.widget-view+json": {
       "model_id": "ac6ce2b5b3114d5a82b039976fc15f4e",
       "version_major": 2,
       "version_minor": 0
      },
      "text/plain": [
       "VBox()"
      ]
     },
     "metadata": {},
     "output_type": "display_data"
    },
    {
     "data": {
      "application/vnd.jupyter.widget-view+json": {
       "model_id": "",
       "version_major": 2,
       "version_minor": 0
      },
      "text/plain": [
       "FloatProgress(value=0.0, bar_style='info', description='Progress:', layout=Layout(height='25px', width='50%'),…"
      ]
     },
     "metadata": {},
     "output_type": "display_data"
    }
   ],
   "source": [
    "FifthQuery.createOrReplaceTempView(\"F\")\n",
    "\n",
    "Q400SQLDF4 = spark.sql('''SELECT * FROM F''')"
   ]
  },
  {
   "cell_type": "code",
   "execution_count": 46,
   "id": "e8867ce1-2595-4438-852b-336a6e44f2ce",
   "metadata": {
    "execution": {
     "iopub.execute_input": "2022-10-20T05:49:45.661706Z",
     "iopub.status.busy": "2022-10-20T05:49:45.661485Z",
     "iopub.status.idle": "2022-10-20T05:50:04.997392Z",
     "shell.execute_reply": "2022-10-20T05:50:04.996916Z",
     "shell.execute_reply.started": "2022-10-20T05:49:45.661682Z"
    },
    "tags": []
   },
   "outputs": [
    {
     "data": {
      "application/vnd.jupyter.widget-view+json": {
       "model_id": "c04dc80e0cdf4af39b210f0e4f292595",
       "version_major": 2,
       "version_minor": 0
      },
      "text/plain": [
       "VBox()"
      ]
     },
     "metadata": {},
     "output_type": "display_data"
    },
    {
     "data": {
      "application/vnd.jupyter.widget-view+json": {
       "model_id": "",
       "version_major": 2,
       "version_minor": 0
      },
      "text/plain": [
       "FloatProgress(value=0.0, bar_style='info', description='Progress:', layout=Layout(height='25px', width='50%'),…"
      ]
     },
     "metadata": {},
     "output_type": "display_data"
    },
    {
     "name": "stdout",
     "output_type": "stream",
     "text": [
      "+---------------+------------------------------+-----------------+-------------------------+--------------+-----+----------------+--------+-----------------+----------------+----------+--------+------+---------+---+------------+----+---------+--------+------+------------+-------------+-------+------+---------+-------+--------+----+------------+------------+---------------------------+--------------+----------------+--------------+-------------+--------------+--------+--------+-------------------+--------------------+-------------------------+---------------------+-------------------+----------------------+------------+----------------------+-------------+-----------------+-----------------+---------------+---------------+-----------------+-----------------+-----------------+-----------------+------------------+---------------------+----------------------+---------------+---------------+--------------------------+----------------------------+--------------+--------------+-----------------+-----------------+----------+----------+----------------+-----------------+-------------------------+-------------------------+----------------------+--------+----------+--------+-------------+----+-----+\n",
      "|Time-In-Secs-EX|BARO-CORRECTED-PALT-DERIVED-EX|Radio-Altitude-EX|Vertical-Speed-Derived-EX|ExceedanceName|Phase|TriggerCondition|FlightID|DesigFlightNumber|FlightNumberARMS|FlightDate|FromCity|ToCity|BlockTime|ECN|EmployeeName|RANK|ChocksOff|ChocksOn|DOMINT|AircraftType|AircraftModel|Payload|TailNo|Departure|Arrival|FlightNo|Date|Time-In-Secs|Time-Per-Sec|BARO-CORRECTED-PALT-DERIVED|Altitude-BaroL|Magnetic-Heading|Pitch-Attitude|Roll-Attitude|Radio-Altitude|Nose-WOW|Main-WOW|Normal-Acceleration|Lateral-Acceleration|Longitudinal-Acceleration|Calibrated-Airspeed-L|AFCS-Selected-Speed|Vertical-Speed-Derived|Ground-Speed|Flap-Control-Selection|FLAP-POSITION|Power-Lever-Pos-L|Power-Lever-Pos-R|Torque-TQ-Eng-L|Torque-TQ-Eng-R|Condition-Lever-L|Condition-Lever-R|Prop-RPM-Np-Eng-L|Prop-RPM-Np-Eng-R|GPWS-Alert/Warning|GPWS-Glideslope-Alert|AFCS-Glideslope-Active|AFCS-LOC-Active|AFCS-VOR-Active|GLIDE-PATH-DEV-PILOT-ABOVE|GLIDE-PATH-DEV-COPILOT-ABOVE|DME-DISTANCE-1|DME-DISTANCE-2|VOR-1-SELECT-FREQ|VOR-2-SELECT-FREQ|WIND-ANGLE|WIND-SPEED|BRAKE-PRESS-LEFT|BRAKE-PRESS-RIGHT|Thrust-Rev-Low-Beta-Eng-L|Thrust-Rev-Low-Beta-Eng-R|AFCS-Autopilot-Engaged|FileName|LoadedDate|LoadedBy|DataFrameName|year|month|\n",
      "+---------------+------------------------------+-----------------+-------------------------+--------------+-----+----------------+--------+-----------------+----------------+----------+--------+------+---------+---+------------+----+---------+--------+------+------------+-------------+-------+------+---------+-------+--------+----+------------+------------+---------------------------+--------------+----------------+--------------+-------------+--------------+--------+--------+-------------------+--------------------+-------------------------+---------------------+-------------------+----------------------+------------+----------------------+-------------+-----------------+-----------------+---------------+---------------+-----------------+-----------------+-----------------+-----------------+------------------+---------------------+----------------------+---------------+---------------+--------------------------+----------------------------+--------------+--------------+-----------------+-----------------+----------+----------+----------------+-----------------+-------------------------+-------------------------+----------------------+--------+----------+--------+-------------+----+-----+\n",
      "+---------------+------------------------------+-----------------+-------------------------+--------------+-----+----------------+--------+-----------------+----------------+----------+--------+------+---------+---+------------+----+---------+--------+------+------------+-------------+-------+------+---------+-------+--------+----+------------+------------+---------------------------+--------------+----------------+--------------+-------------+--------------+--------+--------+-------------------+--------------------+-------------------------+---------------------+-------------------+----------------------+------------+----------------------+-------------+-----------------+-----------------+---------------+---------------+-----------------+-----------------+-----------------+-----------------+------------------+---------------------+----------------------+---------------+---------------+--------------------------+----------------------------+--------------+--------------+-----------------+-----------------+----------+----------+----------------+-----------------+-------------------------+-------------------------+----------------------+--------+----------+--------+-------------+----+-----+"
     ]
    }
   ],
   "source": [
    "Q400SQLDF4.show(truncate = False)"
   ]
  },
  {
   "cell_type": "code",
   "execution_count": null,
   "id": "bc99a0db-3470-4edc-9303-cfa0d064b533",
   "metadata": {},
   "outputs": [],
   "source": []
  },
  {
   "cell_type": "code",
   "execution_count": null,
   "id": "f11312ab-22bf-4c77-8c61-60be11f7ddf4",
   "metadata": {},
   "outputs": [],
   "source": []
  }
 ],
 "metadata": {
  "kernelspec": {
   "display_name": "PySpark",
   "language": "",
   "name": "pysparkkernel"
  },
  "language_info": {
   "codemirror_mode": {
    "name": "python",
    "version": 3
   },
   "mimetype": "text/x-python",
   "name": "pyspark",
   "pygments_lexer": "python3"
  }
 },
 "nbformat": 4,
 "nbformat_minor": 5
}
