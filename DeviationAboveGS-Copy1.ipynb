{
 "cells": [
  {
   "cell_type": "code",
   "execution_count": 1,
   "id": "08bc0164-26a2-4e9d-a4c1-dcdea28f78b1",
   "metadata": {
    "execution": {
     "iopub.execute_input": "2023-01-12T04:56:00.303908Z",
     "iopub.status.busy": "2023-01-12T04:56:00.303685Z",
     "iopub.status.idle": "2023-01-12T04:56:00.672517Z",
     "shell.execute_reply": "2023-01-12T04:56:00.671994Z",
     "shell.execute_reply.started": "2023-01-12T04:56:00.303883Z"
    },
    "tags": []
   },
   "outputs": [
    {
     "data": {
      "text/html": [
       "Current session configs: <tt>{'conf': {'spark.jars': 's3://sjet-datamart-bucket/Jars/mssql-jdbc-6.1.0.jre8.jar'}, 'proxyUser': 'user_ayush_vaishnav', 'kind': 'pyspark'}</tt><br>"
      ],
      "text/plain": [
       "<IPython.core.display.HTML object>"
      ]
     },
     "metadata": {},
     "output_type": "display_data"
    },
    {
     "data": {
      "text/html": [
       "No active sessions."
      ],
      "text/plain": [
       "<IPython.core.display.HTML object>"
      ]
     },
     "metadata": {},
     "output_type": "display_data"
    }
   ],
   "source": [
    "%%configure -f\n",
    "{\n",
    "    \"conf\": {\n",
    "        \"spark.jars\": \"s3://sjet-datamart-bucket/Jars/mssql-jdbc-6.1.0.jre8.jar\"        \n",
    "    }\n",
    "}"
   ]
  },
  {
   "cell_type": "code",
   "execution_count": 13,
   "id": "2c7979ec-5676-4064-b5b4-dce81b8ac0c9",
   "metadata": {
    "execution": {
     "iopub.execute_input": "2023-01-12T05:33:03.202657Z",
     "iopub.status.busy": "2023-01-12T05:33:03.202433Z",
     "iopub.status.idle": "2023-01-12T05:33:04.514527Z",
     "shell.execute_reply": "2023-01-12T05:33:04.513997Z",
     "shell.execute_reply.started": "2023-01-12T05:33:03.202634Z"
    },
    "tags": []
   },
   "outputs": [
    {
     "data": {
      "application/vnd.jupyter.widget-view+json": {
       "model_id": "8e1a6afcac664e8bb39492e1d65ad4d3",
       "version_major": 2,
       "version_minor": 0
      },
      "text/plain": [
       "VBox()"
      ]
     },
     "metadata": {},
     "output_type": "display_data"
    },
    {
     "data": {
      "application/vnd.jupyter.widget-view+json": {
       "model_id": "",
       "version_major": 2,
       "version_minor": 0
      },
      "text/plain": [
       "FloatProgress(value=0.0, bar_style='info', description='Progress:', layout=Layout(height='25px', width='50%'),…"
      ]
     },
     "metadata": {},
     "output_type": "display_data"
    }
   ],
   "source": [
    "UNION_DF = spark.sql('''\n",
    "\n",
    "                        SELECT * FROM precogdb.df5_red_deviation_above_gs\n",
    "                        where date > '2021-10-31'\n",
    "                        --WHERE CAST(loadeddate AS DATE) = CAST(current_timestamp() AS DATE)\n",
    "                        \n",
    "                        UNION\n",
    "                        SELECT * FROM precogdb.df5_amber_deviation_above_gs\n",
    "                        where date > '2021-10-31'\n",
    "                        --WHERE CAST(loadeddate AS DATE) = CAST(current_timestamp() AS DATE)\n",
    "                        \n",
    "                        UNION\n",
    "                        SELECT * FROM precogdb.df5_green_deviation_above_gs\n",
    "                        where flightdate > '2021-10-31'\n",
    "                        --WHERE CAST(loadeddate AS DATE) = CAST(current_timestamp() AS DATE)\n",
    "                        \n",
    "                        ''')"
   ]
  },
  {
   "cell_type": "code",
   "execution_count": 6,
   "id": "ab935677-11db-4a58-b102-882e113a300c",
   "metadata": {
    "execution": {
     "iopub.execute_input": "2023-01-12T05:14:01.385888Z",
     "iopub.status.busy": "2023-01-12T05:14:01.385659Z",
     "iopub.status.idle": "2023-01-12T05:14:16.719674Z",
     "shell.execute_reply": "2023-01-12T05:14:16.719162Z",
     "shell.execute_reply.started": "2023-01-12T05:14:01.385864Z"
    },
    "tags": []
   },
   "outputs": [
    {
     "data": {
      "application/vnd.jupyter.widget-view+json": {
       "model_id": "841eff2c037e42f394badb06dfb3107b",
       "version_major": 2,
       "version_minor": 0
      },
      "text/plain": [
       "VBox()"
      ]
     },
     "metadata": {},
     "output_type": "display_data"
    },
    {
     "data": {
      "application/vnd.jupyter.widget-view+json": {
       "model_id": "",
       "version_major": 2,
       "version_minor": 0
      },
      "text/plain": [
       "FloatProgress(value=0.0, bar_style='info', description='Progress:', layout=Layout(height='25px', width='50%'),…"
      ]
     },
     "metadata": {},
     "output_type": "display_data"
    },
    {
     "name": "stdout",
     "output_type": "stream",
     "text": [
      "+------------+-------------------+-------+--------+------+--------------------+-----+------+---------+-------+--------+----------+-------------------+-------------------+------+--------------+------------+-----------+---------+------------+-------------+-------+-------------+---------+------+-----+-------------------+-----------------+---------------------+-------------------+------------+------------+------------+-----------------+--------------------------+--------------------+-----------+--------------+--------------------+------------+------------+--------+----------------------+----------------------------+--------------------------+--------------------+--------------------+----+---------+\n",
      "|exceedanceid|         exceedance|phaseid|   phase|   ecn|        employeename| rank|tailno|departure|arrival|flightno|      date|          chocksoff|           chockson|domint|manufacturerid|manufacturer|dataframeid|dataframe|aircrafttype|aircraftmodel|payload|blocktime_hrs|occurance|typeid| flag|trigger_start_hours|trigger_end_hours|occurence_start_hours|occurence_end_hours|duration_min|baro_cor_alt|radio_height|computed_airspeed|capt_display_pitch_attiude|capt_display_heading|groundspeed|vertical_speed|flap_handle_position|torque_eng_l|torque_eng_r|main_wow|afcs_glideslope_active|glide_path_dev_copilot_above|glide_path_dev_pilot_above|          loadeddate|            filename|year|    month|\n",
      "+------------+-------------------+-------+--------+------+--------------------+-----+------+---------+-------+--------+----------+-------------------+-------------------+------+--------------+------------+-----------+---------+------------+-------------+-------+-------------+---------+------+-----+-------------------+-----------------+---------------------+-------------------+------------+------------+------------+-----------------+--------------------------+--------------------+-----------+--------------+--------------------+------------+------------+--------+----------------------+----------------------------+--------------------------+--------------------+--------------------+----+---------+\n",
      "|           4|Deviation Above G/S|      3|Approach|116580|   NIKHIL  CHAUDHARY|CAPT.|VT-SUD|      DED|    JAI| SG 2967|2022-04-08|2022-04-08 15:31:00|2022-04-08 16:36:00|   DOM|             2|        Q400|          5|  128 WPS|         DHC|         DHC-|    Pax|     01:10:00|       No|     1|Green|                   |                 |                     |                   |            |            |            |                 |                          |                    |           |              |                    |            |            |        |                      |                            |                          |2022-12-22 07:18:...|ALL ac=VT-SUD dep...|2022|    April|\n",
      "|           4|Deviation Above G/S|      3|Approach|126815|      RAHUL  SAHARAN|CAPT.|VT-SUG|      BHU|    PNQ| SG 1080|2022-05-23|2022-05-23 14:35:00|2022-05-23 15:50:00|   DOM|             2|        Q400|          5|  128 WPS|         DHC|         DHC-|    Pax|     01:15:00|       No|     1|Green|                   |                 |                     |                   |            |            |            |                 |                          |                    |           |              |                    |            |            |        |                      |                            |                          |2022-12-22 07:26:...|ALL ac=VT-SUG dep...|2022|      May|\n",
      "|           4|Deviation Above G/S|      3|Approach|113255|  NEERAJ SINGH YADAV|CAPT.|VT-SUF|      DED|    DEL| SG 2034|2022-05-17|2022-05-17 19:10:00|2022-05-17 20:05:00|   DOM|             2|        Q400|          5|  128 WPS|         DHC|         DHC-|    Pax|     01:05:00|       No|     1|Green|                   |                 |                     |                   |            |            |            |                 |                          |                    |           |              |                    |            |            |        |                      |                            |                          |2022-12-22 07:25:...|ALL ac=VT-SUF dep...|2022|      May|\n",
      "|           4|Deviation Above G/S|      3|Approach|115045|   ISHA HARISH KHADE|CAPT.|VT-SUO|      KQH|    BOM| SG 2872|2022-04-05|2022-04-05 14:05:00|2022-04-05 16:10:00|   DOM|             2|        Q400|          5|  128 WPS|         DHC|         DHC-|    Pax|     02:00:00|       No|     1|Green|                   |                 |                     |                   |            |            |            |                 |                          |                    |           |              |                    |            |            |        |                      |                            |                          |2022-12-22 07:21:...|ALL ac=VT-SUO dep...|2022|    April|\n",
      "|           4|Deviation Above G/S|      3|Approach|129533|  TAMIL SELVAN  BALU|CAPT.|VT-SUJ|      BLR|    GWL| SG 3325|2022-05-04|2022-05-04 13:10:00|2022-05-04 16:20:00|   DOM|             2|        Q400|          5|  128 WPS|         DHC|         DHC-|    Pax|     03:05:00|       No|     1|Green|                   |                 |                     |                   |            |            |            |                 |                          |                    |           |              |                    |            |            |        |                      |                            |                          |2022-12-22 07:22:...|ALL ac=VT-SUJ dep...|2022|      May|\n",
      "|           4|Deviation Above G/S|      3|Approach|115067|RITESH RADHEYRAMA...|CAPT.|VT-SUD|      JRG|    CCU| SG 3282|2022-05-19|2022-05-19 20:40:00|2022-05-19 22:00:00|   DOM|             2|        Q400|          5|  128 WPS|         DHC|         DHC-|    Pax|     01:20:00|       No|     1|Green|                   |                 |                     |                   |            |            |            |                 |                          |                    |           |              |                    |            |            |        |                      |                            |                          |2022-12-22 07:25:...|ALL ac=VT-SUD dep...|2022|      May|\n",
      "|           4|Deviation Above G/S|      3|Approach|119567|      SANDEEP  TOMAR|CAPT.|VT-SUF|      STV|    JAI| SG 3426|2022-04-30|2022-04-30 21:22:00|2022-04-30 23:17:00|   DOM|             2|        Q400|          5|  128 WPS|         DHC|         DHC-|    Pax|     02:05:00|       No|     1|Green|                   |                 |                     |                   |            |            |            |                 |                          |                    |           |              |                    |            |            |        |                      |                            |                          |2022-12-22 07:22:...|ALL ac=VT-SUF dep...|2022|    April|\n",
      "|           4|Deviation Above G/S|      3|Approach|106235|       JITESH  BOHRA|CAPT.|VT-SUF|      DEL|    ATQ| SG 3788|2022-03-13|2022-03-13 19:30:00|2022-03-13 20:45:00|   DOM|             2|        Q400|          5|  128 WPS|         DHC|         DHC-|    Pax|     01:10:00|       No|     1|Green|                   |                 |                     |                   |            |            |            |                 |                          |                    |           |              |                    |            |            |        |                      |                            |                          |2022-12-22 07:14:...|ALL ac=VT-SUF dep...|2022|    March|\n",
      "|           4|Deviation Above G/S|      3|Approach|114947|       GAUTAM  SINGH|CAPT.|VT-SUO|      JRG|    CCU| SG 3282|2022-03-03|2022-03-03 17:10:00|2022-03-03 18:35:00|   DOM|             2|        Q400|          5|  128 WPS|         DHC|         DHC-|    Pax|     01:15:00|       No|     1|Green|                   |                 |                     |                   |            |            |            |                 |                          |                    |           |              |                    |            |            |        |                      |                            |                          |2022-12-22 07:12:...|ALL ac=VT-SUO dep...|2022|    March|\n",
      "|           4|Deviation Above G/S|      3|Approach|119216|SANDEEP VALSALA S...|CAPT.|VT-SUB|      GAU|    RDP| SG 3724|2022-04-16|2022-04-16 19:36:00|2022-04-16 21:11:00|   DOM|             2|        Q400|          5|  128 WPS|         DHC|         DHC-|    Pax|     01:35:00|       No|     1|Green|                   |                 |                     |                   |            |            |            |                 |                          |                    |           |              |                    |            |            |        |                      |                            |                          |2022-12-22 07:19:...|ALL ac=VT-SUB dep...|2022|    April|\n",
      "|           4|Deviation Above G/S|      3|Approach|127067|     SHREYA  SHEKHAR|CAPT.|VT-SUG|      DED|    DEL| SG 2968|2022-06-05|2022-06-05 12:40:00|2022-06-05 13:35:00|   DOM|             2|        Q400|          5|  128 WPS|         DHC|         DHC-|    Pax|     01:05:00|       No|     1|Green|                   |                 |                     |                   |            |            |            |                 |                          |                    |           |              |                    |            |            |        |                      |                            |                          |2022-12-22 07:28:...|ALL ac=VT-SUG dep...|2022|     June|\n",
      "|           4|Deviation Above G/S|      3|Approach|115423|NOEL FREDERICK MOTHA|CAPT.|VT-SUH|      CCU|    PYG| SG 3222|2022-04-12|2022-04-12 11:00:00|2022-04-12 12:15:00|   DOM|             2|        Q400|          5|  128 WPS|         DHC|         DHC-|    Pax|     01:10:00|       No|     1|Green|                   |                 |                     |                   |            |            |            |                 |                          |                    |           |              |                    |            |            |        |                      |                            |                          |2022-12-22 07:18:...|ALL ac=VT-SUH dep...|2022|    April|\n",
      "|           4|Deviation Above G/S|      3|Approach|113255|  NEERAJ SINGH YADAV|CAPT.|VT-SUF|      DHM|    JAI| SG 3442|2022-05-04|2022-05-04 11:14:00|2022-05-04 12:46:00|   DOM|             2|        Q400|          5|  128 WPS|         DHC|         DHC-|    Pax|     01:40:00|       No|     1|Green|                   |                 |                     |                   |            |            |            |                 |                          |                    |           |              |                    |            |            |        |                      |                            |                          |2022-12-22 07:22:...|ALL ac=VT-SUF dep...|2022|      May|\n",
      "|           4|Deviation Above G/S|      3|Approach|127988|        UJJWAL  JAIN|CAPT.|VT-SUF|      AMD|    ATQ| SG 3790|2022-05-03|2022-05-03 19:55:00|2022-05-03 22:15:00|   DOM|             2|        Q400|          5|  128 WPS|         DHC|         DHC-|    Pax|     02:00:00|       No|     1|Green|                   |                 |                     |                   |            |            |            |                 |                          |                    |           |              |                    |            |            |        |                      |                            |                          |2022-12-22 07:22:...|ALL ac=VT-SUF dep...|2022|      May|\n",
      "|           4|Deviation Above G/S|      3|Approach|118616|   SHAILENDER  HOODA|CAPT.|VT-SUF|      JAI|    DED| SG 2966|2022-05-24|2022-05-24 13:20:00|2022-05-24 14:30:00|   DOM|             2|        Q400|          5|  128 WPS|         DHC|         DHC-|    Pax|     01:15:00|       No|     1|Green|                   |                 |                     |                   |            |            |            |                 |                          |                    |           |              |                    |            |            |        |                      |                            |                          |2022-12-22 07:26:...|ALL ac=VT-SUF dep...|2022|      May|\n",
      "|           4|Deviation Above G/S|      3|Approach|119567|      SANDEEP  TOMAR|CAPT.|VT-SUJ|      JDH|    DEL| SG 2278|2021-12-16|2021-12-16 17:50:00|2021-12-16 19:13:00|   DOM|             2|        Q400|          5|  128 WPS|         DHC|         DHC-|    Pax|     01:05:00|       No|     1|Green|                   |                 |                     |                   |            |            |            |                 |                          |                    |           |              |                    |            |            |        |                      |                            |                          |2022-12-22 06:59:...|ALL ac=VT-SUJ dep...|2021| December|\n",
      "|           4|Deviation Above G/S|      3|Approach|108530|      KAARTIK  SWAMY|CAPT.|VT-SUF|      IXY|    BOM| SG 3324|2022-03-05|2022-03-05 15:30:00|2022-03-05 17:05:00|   DOM|             2|        Q400|          5|  128 WPS|         DHC|         DHC-|    Pax|     01:20:00|       No|     1|Green|                   |                 |                     |                   |            |            |            |                 |                          |                    |           |              |                    |            |            |        |                      |                            |                          |2022-12-22 07:12:...|ALL ac=VT-SUF dep...|2022|    March|\n",
      "|           4|Deviation Above G/S|      3|Approach|121664|          ARJUN SETH|CAPT.|VT-SUE|      STV|    BOM| SG 7020|2022-03-29|2022-03-29 18:25:00|2022-03-29 19:40:00|   DOM|             2|        Q400|          5|  128 WPS|         DHC|         DHC-|  Cargo|     01:00:00|       No|     1|Green|                   |                 |                     |                   |            |            |            |                 |                          |                    |           |              |                    |            |            |        |                      |                            |                          |2022-12-22 07:16:...|ALL ac=VT-SUE dep...|2022|    March|\n",
      "|           4|Deviation Above G/S|      3|Approach|113759|POOJA NARAIN CHOD...|CAPT.|VT-SUQ|      AMD|    BOM| SG 9901|2022-09-14|2022-09-14 18:17:00|2022-09-14 19:47:00|   DOM|             2|        Q400|          5|  128 WPS|         DHC|         DHC-|    Pax|     01:30:00|       No|     1|Green|                   |                 |                     |                   |            |            |            |                 |                          |                    |           |              |                    |            |            |        |                      |                            |                          |2022-12-22 07:46:...|ALL ac=VT-SUQ dep...|2022|September|\n",
      "|           4|Deviation Above G/S|      3|Approach|113054|     AMOOLYA  SAXENA|CAPT.|VT-SUD|      DED|    DEL| SG 2034|2022-09-18|2022-09-18 19:05:00|2022-09-18 19:55:00|   DOM|             2|        Q400|          5|  128 WPS|         DHC|         DHC-|    Pax|     01:05:00|       No|     1|Green|                   |                 |                     |                   |            |            |            |                 |                          |                    |           |              |                    |            |            |        |                      |                            |                          |2022-12-22 07:45:...|ALL ac=VT-SUD dep...|2022|September|\n",
      "+------------+-------------------+-------+--------+------+--------------------+-----+------+---------+-------+--------+----------+-------------------+-------------------+------+--------------+------------+-----------+---------+------------+-------------+-------+-------------+---------+------+-----+-------------------+-----------------+---------------------+-------------------+------------+------------+------------+-----------------+--------------------------+--------------------+-----------+--------------+--------------------+------------+------------+--------+----------------------+----------------------------+--------------------------+--------------------+--------------------+----+---------+\n",
      "only showing top 20 rows"
     ]
    }
   ],
   "source": [
    "UNION_DF.show()"
   ]
  },
  {
   "cell_type": "code",
   "execution_count": 5,
   "id": "ca683674-0e5c-4ac8-9815-2650cdb0f3a3",
   "metadata": {
    "execution": {
     "iopub.execute_input": "2023-01-12T04:59:32.235515Z",
     "iopub.status.busy": "2023-01-12T04:59:32.235291Z",
     "iopub.status.idle": "2023-01-12T04:59:32.494290Z",
     "shell.execute_reply": "2023-01-12T04:59:32.493787Z",
     "shell.execute_reply.started": "2023-01-12T04:59:32.235491Z"
    },
    "tags": []
   },
   "outputs": [
    {
     "data": {
      "application/vnd.jupyter.widget-view+json": {
       "model_id": "ea555b6426384c8cbee841ff25208f7a",
       "version_major": 2,
       "version_minor": 0
      },
      "text/plain": [
       "VBox()"
      ]
     },
     "metadata": {},
     "output_type": "display_data"
    },
    {
     "data": {
      "application/vnd.jupyter.widget-view+json": {
       "model_id": "",
       "version_major": 2,
       "version_minor": 0
      },
      "text/plain": [
       "FloatProgress(value=0.0, bar_style='info', description='Progress:', layout=Layout(height='25px', width='50%'),…"
      ]
     },
     "metadata": {},
     "output_type": "display_data"
    }
   ],
   "source": [
    "UNION_DF.createOrReplaceTempView('union_df_1')"
   ]
  },
  {
   "cell_type": "code",
   "execution_count": 14,
   "id": "effe0c8b-253d-4541-83fc-9468f4fcb801",
   "metadata": {
    "execution": {
     "iopub.execute_input": "2023-01-12T05:33:10.459986Z",
     "iopub.status.busy": "2023-01-12T05:33:10.459701Z",
     "iopub.status.idle": "2023-01-12T05:33:35.831358Z",
     "shell.execute_reply": "2023-01-12T05:33:35.830848Z",
     "shell.execute_reply.started": "2023-01-12T05:33:10.459953Z"
    },
    "tags": []
   },
   "outputs": [
    {
     "data": {
      "application/vnd.jupyter.widget-view+json": {
       "model_id": "8556f1c80f734a599063eabad3d1a980",
       "version_major": 2,
       "version_minor": 0
      },
      "text/plain": [
       "VBox()"
      ]
     },
     "metadata": {},
     "output_type": "display_data"
    },
    {
     "data": {
      "application/vnd.jupyter.widget-view+json": {
       "model_id": "",
       "version_major": 2,
       "version_minor": 0
      },
      "text/plain": [
       "FloatProgress(value=0.0, bar_style='info', description='Progress:', layout=Layout(height='25px', width='50%'),…"
      ]
     },
     "metadata": {},
     "output_type": "display_data"
    },
    {
     "name": "stdout",
     "output_type": "stream",
     "text": [
      "17892"
     ]
    }
   ],
   "source": [
    "UNION_DF.count()"
   ]
  },
  {
   "cell_type": "code",
   "execution_count": 6,
   "id": "843f95c1-629d-4cfc-87b9-69f23a1819b8",
   "metadata": {
    "execution": {
     "iopub.execute_input": "2022-10-14T15:23:09.844872Z",
     "iopub.status.busy": "2022-10-14T15:23:09.844635Z",
     "iopub.status.idle": "2022-10-14T15:23:15.137580Z",
     "shell.execute_reply": "2022-10-14T15:23:15.136995Z",
     "shell.execute_reply.started": "2022-10-14T15:23:09.844848Z"
    }
   },
   "outputs": [
    {
     "data": {
      "application/vnd.jupyter.widget-view+json": {
       "model_id": "6854859ce7ee49cf9c706d78d48a9d87",
       "version_major": 2,
       "version_minor": 0
      },
      "text/plain": [
       "VBox()"
      ]
     },
     "metadata": {},
     "output_type": "display_data"
    },
    {
     "data": {
      "application/vnd.jupyter.widget-view+json": {
       "model_id": "",
       "version_major": 2,
       "version_minor": 0
      },
      "text/plain": [
       "FloatProgress(value=0.0, bar_style='info', description='Progress:', layout=Layout(height='25px', width='50%'),…"
      ]
     },
     "metadata": {},
     "output_type": "display_data"
    }
   ],
   "source": [
    "PilotInfoDF = spark.read.csv('s3://sjet-datamart-bucket/precog/pilot-info/', header=True)"
   ]
  },
  {
   "cell_type": "code",
   "execution_count": 7,
   "id": "cba0758b-926b-409a-89a2-c0bf4ef0e4c0",
   "metadata": {
    "execution": {
     "iopub.execute_input": "2022-10-14T15:23:16.596775Z",
     "iopub.status.busy": "2022-10-14T15:23:16.596546Z",
     "iopub.status.idle": "2022-10-14T15:23:16.645098Z",
     "shell.execute_reply": "2022-10-14T15:23:16.644470Z",
     "shell.execute_reply.started": "2022-10-14T15:23:16.596751Z"
    }
   },
   "outputs": [
    {
     "data": {
      "application/vnd.jupyter.widget-view+json": {
       "model_id": "986fdfcaebf64306acaf042d9d96efc0",
       "version_major": 2,
       "version_minor": 0
      },
      "text/plain": [
       "VBox()"
      ]
     },
     "metadata": {},
     "output_type": "display_data"
    },
    {
     "data": {
      "application/vnd.jupyter.widget-view+json": {
       "model_id": "",
       "version_major": 2,
       "version_minor": 0
      },
      "text/plain": [
       "FloatProgress(value=0.0, bar_style='info', description='Progress:', layout=Layout(height='25px', width='50%'),…"
      ]
     },
     "metadata": {},
     "output_type": "display_data"
    }
   ],
   "source": [
    "PilotInfoDF.createOrReplaceTempView('PilotInfoDF')"
   ]
  },
  {
   "cell_type": "code",
   "execution_count": 20,
   "id": "5b9b968f-6bcd-40a7-bbaa-d2d8f379f536",
   "metadata": {
    "execution": {
     "iopub.execute_input": "2023-01-12T05:39:57.841897Z",
     "iopub.status.busy": "2023-01-12T05:39:57.841659Z",
     "iopub.status.idle": "2023-01-12T05:39:58.097449Z",
     "shell.execute_reply": "2023-01-12T05:39:58.096933Z",
     "shell.execute_reply.started": "2023-01-12T05:39:57.841872Z"
    },
    "tags": []
   },
   "outputs": [
    {
     "data": {
      "application/vnd.jupyter.widget-view+json": {
       "model_id": "12c762998ac54827915adc940e45f53b",
       "version_major": 2,
       "version_minor": 0
      },
      "text/plain": [
       "VBox()"
      ]
     },
     "metadata": {},
     "output_type": "display_data"
    },
    {
     "data": {
      "application/vnd.jupyter.widget-view+json": {
       "model_id": "",
       "version_major": 2,
       "version_minor": 0
      },
      "text/plain": [
       "FloatProgress(value=0.0, bar_style='info', description='Progress:', layout=Layout(height='25px', width='50%'),…"
      ]
     },
     "metadata": {},
     "output_type": "display_data"
    }
   ],
   "source": [
    "final_df_df5 = spark.sql('''\n",
    "                            SELECT \n",
    "                            CAST(ud.exceedanceid AS INT),\n",
    "                            ud.exceedance,\n",
    "                            CAST(ud.phaseid AS INT),\n",
    "                            ud.phase,\n",
    "                            ud.ecn,\n",
    "                            ud.employeename,\n",
    "                            ud.rank,\n",
    "                            ud.tailno,\n",
    "                            ud.departure,\n",
    "                            ud.arrival,\n",
    "                            ud.flightno AS FlightNumber,\n",
    "                            ud.date as FLightDate ,\n",
    "                            ud.chocksoff,\n",
    "                            ud.chockson,\n",
    "                            ud.domint,\n",
    "                            CAST(ud.manufacturerid AS INT),\n",
    "                            ud.manufacturer,\n",
    "                            CAST(ud.dataframeid AS INT),\n",
    "                            ud.dataframe,\n",
    "                            ud.aircrafttype,\n",
    "                            ud.aircraftmodel,\n",
    "                            ud.payload,\n",
    "                            ud.blocktime_hrs as `Block time`,\n",
    "                            occurance as occurence,\n",
    "                            CAST(typeid AS INT),\n",
    "                            flag as type,\n",
    "                            CAST(trigger_start_hours AS DECIMAL(8,2)) AS `Trigger Start Hours`,\n",
    "                            CAST(trigger_end_hours AS DECIMAL(8,2)) AS `Trigger End Hours`,\n",
    "                            CAST(occurence_start_hours AS DECIMAL(8,2)) AS `Occurence Start Hours`,\n",
    "                            CAST(occurence_end_hours AS DECIMAL(8,2)) AS `Occurence End Hours`,\n",
    "                            CAST(duration_min AS INT) AS `Duration(Sec)`,\n",
    "                            CAST(`BARO_COR_ALT` AS INT) AS `BARO COR ALT`,\n",
    "                            CAST(`RADIO_HEIGHT` AS INT) AS `RADIO HEIGHT`,\n",
    "                            CAST(`COMPUTED_AIRSPEED` AS FLOAT) AS `COMPUTED AIRSPEED`,\n",
    "                            CAPT_DISPLAY_PITCH_ATTIUDE AS `CAPT. DISPLAY PITCH ATTIUDE`,\n",
    "                            CAST(`CAPT_DISPLAY_HEADING` AS FLOAT) AS `CAPT. DISPLAY HEADING`,\n",
    "                            CAST(`GROUNDSPEED` AS FLOAT) AS `GROUND SPEED`,\n",
    "                            CAST(`VERTICAL_SPEED` AS INT) AS `VERTICAL SPEED`,\n",
    "                            CAST(`FLAP_HANDLE_POSITION` AS INT) AS `FLAP HANDLE POSITION`,\n",
    "                            CAST(`TORQUE_ENG_L` AS FLOAT) AS `LEFT ENGINE N1 \\ TORQUE ENG L`,\n",
    "                            CAST(`TORQUE_ENG_R` AS FLOAT) AS `RIGHT ENGINE N1 \\ TORQUE ENG R`,\n",
    "                            CAST('' AS INT) AS `VREF SPEED`,\n",
    "                            AFCS_Glideslope_Active AS `G/S ENGAGE`,\n",
    "                            GLIDE_PATH_DEV_PILOT_ABOVE AS `GLIDESLOPE DEVIATION - L`,\n",
    "                            GLIDE_PATH_DEV_COPILOT_ABOVE AS `GLIDESLOPE DEVIATION - R`,\n",
    "                            MAIN_WOW AS `LEFT MAIN GEAR AIR/GND`,\n",
    "                            '' AS `RIGHT MAIN GEAR AIR/GND`,\n",
    "                            loadeddate AS LoadDate,\n",
    "                            filename\n",
    "                        FROM union_df_1 ud\n",
    "                    \n",
    "                    \n",
    "                ''')"
   ]
  },
  {
   "cell_type": "code",
   "execution_count": 16,
   "id": "48ad5410-7619-4284-a348-da97933ba2a4",
   "metadata": {
    "execution": {
     "iopub.execute_input": "2023-01-12T05:34:10.439788Z",
     "iopub.status.busy": "2023-01-12T05:34:10.439516Z",
     "iopub.status.idle": "2023-01-12T05:34:21.762551Z",
     "shell.execute_reply": "2023-01-12T05:34:21.762025Z",
     "shell.execute_reply.started": "2023-01-12T05:34:10.439748Z"
    },
    "tags": []
   },
   "outputs": [
    {
     "data": {
      "application/vnd.jupyter.widget-view+json": {
       "model_id": "74894b879d6e4c419dcf1d8e3db4abb5",
       "version_major": 2,
       "version_minor": 0
      },
      "text/plain": [
       "VBox()"
      ]
     },
     "metadata": {},
     "output_type": "display_data"
    },
    {
     "data": {
      "application/vnd.jupyter.widget-view+json": {
       "model_id": "",
       "version_major": 2,
       "version_minor": 0
      },
      "text/plain": [
       "FloatProgress(value=0.0, bar_style='info', description='Progress:', layout=Layout(height='25px', width='50%'),…"
      ]
     },
     "metadata": {},
     "output_type": "display_data"
    },
    {
     "name": "stdout",
     "output_type": "stream",
     "text": [
      "17894"
     ]
    }
   ],
   "source": [
    "final_df_df5.count()"
   ]
  },
  {
   "cell_type": "code",
   "execution_count": 21,
   "id": "3b41ca43-3acc-41e7-b33c-52af314c3467",
   "metadata": {
    "execution": {
     "iopub.execute_input": "2023-01-12T05:40:00.865836Z",
     "iopub.status.busy": "2023-01-12T05:40:00.865614Z",
     "iopub.status.idle": "2023-01-12T05:40:48.286850Z",
     "shell.execute_reply": "2023-01-12T05:40:48.286318Z",
     "shell.execute_reply.started": "2023-01-12T05:40:00.865812Z"
    },
    "tags": []
   },
   "outputs": [
    {
     "data": {
      "application/vnd.jupyter.widget-view+json": {
       "model_id": "067f3d1db1864857bb9cd373d9bc923d",
       "version_major": 2,
       "version_minor": 0
      },
      "text/plain": [
       "VBox()"
      ]
     },
     "metadata": {},
     "output_type": "display_data"
    },
    {
     "data": {
      "application/vnd.jupyter.widget-view+json": {
       "model_id": "",
       "version_major": 2,
       "version_minor": 0
      },
      "text/plain": [
       "FloatProgress(value=0.0, bar_style='info', description='Progress:', layout=Layout(height='25px', width='50%'),…"
      ]
     },
     "metadata": {},
     "output_type": "display_data"
    }
   ],
   "source": [
    "final_df_df5 \\\n",
    "  .write \\\n",
    "  .format(\"jdbc\") \\\n",
    "  .mode(\"append\") \\\n",
    "  .option(\"driver\", \"com.microsoft.sqlserver.jdbc.SQLServerDriver\") \\\n",
    "  .option(\"url\", \"jdbc:sqlserver://10.150.72.22:1433;databaseName=precog\") \\\n",
    "  .option(\"dbtable\", \"DeviationAboveGSSTG\") \\\n",
    "  .option(\"user\", \"dmbigdata\") \\\n",
    "  .option(\"password\", \"$p!Ce@bigData$db\") \\\n",
    "  .save()"
   ]
  },
  {
   "cell_type": "code",
   "execution_count": null,
   "id": "23df047c-b475-4632-b503-88747b74fdaa",
   "metadata": {},
   "outputs": [],
   "source": []
  },
  {
   "cell_type": "code",
   "execution_count": 22,
   "id": "0735d970-8a63-4530-bba4-e36436afb31c",
   "metadata": {
    "execution": {
     "iopub.execute_input": "2023-01-12T05:40:50.158740Z",
     "iopub.status.busy": "2023-01-12T05:40:50.158500Z",
     "iopub.status.idle": "2023-01-12T05:40:51.417003Z",
     "shell.execute_reply": "2023-01-12T05:40:51.416515Z",
     "shell.execute_reply.started": "2023-01-12T05:40:50.158712Z"
    },
    "tags": []
   },
   "outputs": [
    {
     "data": {
      "application/vnd.jupyter.widget-view+json": {
       "model_id": "e27aa3445e5a42b28a75730a0be54874",
       "version_major": 2,
       "version_minor": 0
      },
      "text/plain": [
       "VBox()"
      ]
     },
     "metadata": {},
     "output_type": "display_data"
    },
    {
     "data": {
      "application/vnd.jupyter.widget-view+json": {
       "model_id": "",
       "version_major": 2,
       "version_minor": 0
      },
      "text/plain": [
       "FloatProgress(value=0.0, bar_style='info', description='Progress:', layout=Layout(height='25px', width='50%'),…"
      ]
     },
     "metadata": {},
     "output_type": "display_data"
    }
   ],
   "source": [
    "UNION_DF_1 = spark.sql('''\n",
    "\n",
    "                        SELECT * FROM precogdb.df6_red_deviation_above_gs\n",
    "                        where date > '2021-10-31'\n",
    "                        UNION\n",
    "                        SELECT * FROM precogdb.df6_amber_deviation_above_gs\n",
    "                        where date > '2021-10-31'\n",
    "                        UNION\n",
    "                        SELECT * FROM precogdb.df6_green_deviation_above_gs\n",
    "                        where flightdate > '2021-10-31'\n",
    "                        \n",
    "                        ''')"
   ]
  },
  {
   "cell_type": "code",
   "execution_count": 23,
   "id": "c6213afc-afef-4d6e-918f-43a2c67abcc3",
   "metadata": {
    "execution": {
     "iopub.execute_input": "2023-01-12T05:40:52.204941Z",
     "iopub.status.busy": "2023-01-12T05:40:52.204716Z",
     "iopub.status.idle": "2023-01-12T05:40:52.457037Z",
     "shell.execute_reply": "2023-01-12T05:40:52.456425Z",
     "shell.execute_reply.started": "2023-01-12T05:40:52.204917Z"
    },
    "tags": []
   },
   "outputs": [
    {
     "data": {
      "application/vnd.jupyter.widget-view+json": {
       "model_id": "da2ab4ceb5464534ba555bb6f39cccdd",
       "version_major": 2,
       "version_minor": 0
      },
      "text/plain": [
       "VBox()"
      ]
     },
     "metadata": {},
     "output_type": "display_data"
    },
    {
     "data": {
      "application/vnd.jupyter.widget-view+json": {
       "model_id": "",
       "version_major": 2,
       "version_minor": 0
      },
      "text/plain": [
       "FloatProgress(value=0.0, bar_style='info', description='Progress:', layout=Layout(height='25px', width='50%'),…"
      ]
     },
     "metadata": {},
     "output_type": "display_data"
    }
   ],
   "source": [
    "UNION_DF_1.createOrReplaceTempView('union_df_1')"
   ]
  },
  {
   "cell_type": "code",
   "execution_count": 24,
   "id": "ad65ecd1-5e67-4a82-977e-0b5cb0dfc705",
   "metadata": {
    "execution": {
     "iopub.execute_input": "2023-01-12T05:40:54.852320Z",
     "iopub.status.busy": "2023-01-12T05:40:54.852052Z",
     "iopub.status.idle": "2023-01-12T05:40:55.104644Z",
     "shell.execute_reply": "2023-01-12T05:40:55.104079Z",
     "shell.execute_reply.started": "2023-01-12T05:40:54.852293Z"
    },
    "tags": []
   },
   "outputs": [
    {
     "data": {
      "application/vnd.jupyter.widget-view+json": {
       "model_id": "75e952ecbe3c41778cfa8df3a1cec3d8",
       "version_major": 2,
       "version_minor": 0
      },
      "text/plain": [
       "VBox()"
      ]
     },
     "metadata": {},
     "output_type": "display_data"
    },
    {
     "data": {
      "application/vnd.jupyter.widget-view+json": {
       "model_id": "",
       "version_major": 2,
       "version_minor": 0
      },
      "text/plain": [
       "FloatProgress(value=0.0, bar_style='info', description='Progress:', layout=Layout(height='25px', width='50%'),…"
      ]
     },
     "metadata": {},
     "output_type": "display_data"
    }
   ],
   "source": [
    "final_df_df6 = spark.sql('''\n",
    "                            SELECT \n",
    "                            CAST(ud.exceedanceid AS INT),\n",
    "                            ud.exceedance,\n",
    "                            CAST(ud.phaseid AS INT),\n",
    "                            ud.phase,\n",
    "                            ud.ecn,\n",
    "                            ud.employeename,\n",
    "                            ud.rank,\n",
    "                            ud.tailno,\n",
    "                            ud.departure,\n",
    "                            ud.arrival,\n",
    "                            ud.flightno AS FlightNumber,\n",
    "                            ud.date as FLightDate ,\n",
    "                            ud.chocksoff,\n",
    "                            ud.chockson,\n",
    "                            ud.domint,\n",
    "                            CAST(ud.manufacturerid AS INT),\n",
    "                            ud.manufacturer,\n",
    "                            CAST(ud.dataframeid AS INT),\n",
    "                            ud.dataframe,\n",
    "                            ud.aircrafttype,\n",
    "                            ud.aircraftmodel,\n",
    "                            ud.payload,\n",
    "                            ud.blocktime_hrs as `Block time`,\n",
    "                            occurance as occurence,\n",
    "                            CAST(typeid AS INT),\n",
    "                            flag as type,\n",
    "                            CAST(trigger_start_hours AS DECIMAL(8,2)) AS `Trigger Start Hours`,\n",
    "                            CAST(trigger_end_hours AS DECIMAL(8,2)) AS `Trigger End Hours`,\n",
    "                            CAST(occurence_start_hours AS DECIMAL(8,2)) AS `Occurence Start Hours`,\n",
    "                            CAST(occurence_end_hours AS DECIMAL(8,2)) AS `Occurence End Hours`,\n",
    "                            CAST(duration_min AS INT) AS `Duration(Sec)`,\n",
    "                            CAST(`BARO_COR_ALT` AS INT) AS `BARO COR ALT`,\n",
    "                            CAST(`RADIO_HEIGHT` AS INT) AS `RADIO HEIGHT`,\n",
    "                            CAST(`COMPUTED_AIRSPEED` AS FLOAT) AS `COMPUTED AIRSPEED`,\n",
    "                            CAPT_DISPLAY_PITCH_ATTIUDE AS `CAPT. DISPLAY PITCH ATTIUDE`,\n",
    "                            CAST(`CAPT_DISPLAY_HEADING` AS FLOAT) AS `CAPT. DISPLAY HEADING`,\n",
    "                            CAST(`GROUNDSPEED` AS FLOAT) AS `GROUND SPEED`,\n",
    "                            CAST(`VERTICAL_SPEED` AS INT) AS `VERTICAL SPEED`,\n",
    "                            CAST(`FLAP_HANDLE_POSITION` AS INT) AS `FLAP HANDLE POSITION`,\n",
    "                            CAST(`TORQUE_ENG_L` AS FLOAT) AS `LEFT ENGINE N1 \\ TORQUE ENG L`,\n",
    "                            CAST(`TORQUE_ENG_R` AS FLOAT) AS `RIGHT ENGINE N1 \\ TORQUE ENG R`,\n",
    "                            CAST('' AS INT) AS `VREF SPEED`,\n",
    "                            AFCS_GS_MODE AS `G/S ENGAGE`,\n",
    "                            ILS_GS_DEV_1 AS `GLIDESLOPE DEVIATION - L`,\n",
    "                            ILS_GS_DEV_2 AS `GLIDESLOPE DEVIATION - R`,\n",
    "                            WOW_MLG AS `LEFT MAIN GEAR AIR/GND`,\n",
    "                            '' AS `RIGHT MAIN GEAR AIR/GND`,\n",
    "                            loadeddate AS LoadDate,\n",
    "                            filename\n",
    "                    FROM union_df_1 ud\n",
    "                    \n",
    "                    \n",
    "                ''')"
   ]
  },
  {
   "cell_type": "code",
   "execution_count": 25,
   "id": "e9d71a83-22b8-4aa1-85c9-7291322bfa68",
   "metadata": {
    "execution": {
     "iopub.execute_input": "2023-01-12T05:41:02.287566Z",
     "iopub.status.busy": "2023-01-12T05:41:02.287336Z",
     "iopub.status.idle": "2023-01-12T05:41:59.727421Z",
     "shell.execute_reply": "2023-01-12T05:41:59.726937Z",
     "shell.execute_reply.started": "2023-01-12T05:41:02.287542Z"
    },
    "tags": []
   },
   "outputs": [
    {
     "data": {
      "application/vnd.jupyter.widget-view+json": {
       "model_id": "b323907760d7487287d07bf23a3465e6",
       "version_major": 2,
       "version_minor": 0
      },
      "text/plain": [
       "VBox()"
      ]
     },
     "metadata": {},
     "output_type": "display_data"
    },
    {
     "data": {
      "application/vnd.jupyter.widget-view+json": {
       "model_id": "",
       "version_major": 2,
       "version_minor": 0
      },
      "text/plain": [
       "FloatProgress(value=0.0, bar_style='info', description='Progress:', layout=Layout(height='25px', width='50%'),…"
      ]
     },
     "metadata": {},
     "output_type": "display_data"
    }
   ],
   "source": [
    "final_df_df6 \\\n",
    "  .write \\\n",
    "  .format(\"jdbc\") \\\n",
    "  .mode(\"append\") \\\n",
    "  .option(\"driver\", \"com.microsoft.sqlserver.jdbc.SQLServerDriver\") \\\n",
    "  .option(\"url\", \"jdbc:sqlserver://10.150.72.22:1433;databaseName=precog\") \\\n",
    "  .option(\"dbtable\", \"DeviationAboveGSSTG\") \\\n",
    "  .option(\"user\", \"dmbigdata\") \\\n",
    "  .option(\"password\", \"$p!Ce@bigData$db\") \\\n",
    "  .save()"
   ]
  },
  {
   "cell_type": "code",
   "execution_count": 26,
   "id": "703e6b77-9fbe-4b30-a8d8-f53e68a5a435",
   "metadata": {
    "execution": {
     "iopub.execute_input": "2023-01-12T05:42:02.090161Z",
     "iopub.status.busy": "2023-01-12T05:42:02.089931Z",
     "iopub.status.idle": "2023-01-12T05:42:02.338768Z",
     "shell.execute_reply": "2023-01-12T05:42:02.338204Z",
     "shell.execute_reply.started": "2023-01-12T05:42:02.090136Z"
    },
    "tags": []
   },
   "outputs": [
    {
     "data": {
      "application/vnd.jupyter.widget-view+json": {
       "model_id": "6f253ac382fb4abaa70b6b90c9e33a64",
       "version_major": 2,
       "version_minor": 0
      },
      "text/plain": [
       "VBox()"
      ]
     },
     "metadata": {},
     "output_type": "display_data"
    },
    {
     "data": {
      "application/vnd.jupyter.widget-view+json": {
       "model_id": "",
       "version_major": 2,
       "version_minor": 0
      },
      "text/plain": [
       "FloatProgress(value=0.0, bar_style='info', description='Progress:', layout=Layout(height='25px', width='50%'),…"
      ]
     },
     "metadata": {},
     "output_type": "display_data"
    }
   ],
   "source": [
    "spark.stop()"
   ]
  },
  {
   "cell_type": "code",
   "execution_count": null,
   "id": "0f1328f5-3f2b-4f97-9b2b-09ca07454a32",
   "metadata": {},
   "outputs": [],
   "source": []
  }
 ],
 "metadata": {
  "kernelspec": {
   "display_name": "PySpark",
   "language": "",
   "name": "pysparkkernel"
  },
  "language_info": {
   "codemirror_mode": {
    "name": "python",
    "version": 3
   },
   "mimetype": "text/x-python",
   "name": "pyspark",
   "pygments_lexer": "python3"
  }
 },
 "nbformat": 4,
 "nbformat_minor": 5
}
