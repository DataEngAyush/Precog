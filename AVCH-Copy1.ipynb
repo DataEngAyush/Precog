{
 "cells": [
  {
   "cell_type": "code",
   "execution_count": 1,
   "id": "2e3e7ed7-18bc-4c78-8a13-367b37f4e8fe",
   "metadata": {
    "execution": {
     "iopub.execute_input": "2022-11-28T10:45:41.230964Z",
     "iopub.status.busy": "2022-11-28T10:45:41.230773Z",
     "iopub.status.idle": "2022-11-28T10:46:08.910282Z",
     "shell.execute_reply": "2022-11-28T10:46:08.909555Z",
     "shell.execute_reply.started": "2022-11-28T10:45:41.230940Z"
    },
    "tags": []
   },
   "outputs": [
    {
     "data": {
      "application/vnd.jupyter.widget-view+json": {
       "model_id": "390322889bb843459b76f4394c532995",
       "version_major": 2,
       "version_minor": 0
      },
      "text/plain": [
       "VBox()"
      ]
     },
     "metadata": {},
     "output_type": "display_data"
    },
    {
     "name": "stdout",
     "output_type": "stream",
     "text": [
      "Starting Spark application\n"
     ]
    },
    {
     "data": {
      "text/html": [
       "<table>\n",
       "<tr><th>ID</th><th>YARN Application ID</th><th>Kind</th><th>State</th><th>Spark UI</th><th>Driver log</th><th>Current session?</th></tr><tr><td>0</td><td>application_1669632077933_0002</td><td>pyspark</td><td>idle</td><td><a target=\"_blank\" href=\"http://ip-20-0-4-214.ap-south-1.compute.internal:20888/proxy/application_1669632077933_0002/\" class=\"emr-proxy-link\" emr-resource=\"j-1AJ3HMI20P0UU\n",
       "\" application-id=\"application_1669632077933_0002\">Link</a></td><td><a target=\"_blank\" href=\"http://ip-20-0-4-160.ap-south-1.compute.internal:8042/node/containerlogs/container_1669632077933_0002_01_000001/livy\" >Link</a></td><td>✔</td></tr></table>"
      ],
      "text/plain": [
       "<IPython.core.display.HTML object>"
      ]
     },
     "metadata": {},
     "output_type": "display_data"
    },
    {
     "data": {
      "application/vnd.jupyter.widget-view+json": {
       "model_id": "",
       "version_major": 2,
       "version_minor": 0
      },
      "text/plain": [
       "FloatProgress(value=0.0, bar_style='info', description='Progress:', layout=Layout(height='25px', width='50%'),…"
      ]
     },
     "metadata": {},
     "output_type": "display_data"
    },
    {
     "name": "stdout",
     "output_type": "stream",
     "text": [
      "SparkSession available as 'spark'.\n"
     ]
    },
    {
     "data": {
      "application/vnd.jupyter.widget-view+json": {
       "model_id": "",
       "version_major": 2,
       "version_minor": 0
      },
      "text/plain": [
       "FloatProgress(value=0.0, bar_style='info', description='Progress:', layout=Layout(height='25px', width='50%'),…"
      ]
     },
     "metadata": {},
     "output_type": "display_data"
    }
   ],
   "source": [
    "from pyspark import SparkConf\n",
    "from pyspark import SparkContext\n",
    "from pyspark.sql import SparkSession\n",
    "from pyspark.sql.types import *\n",
    "from pyspark.sql import functions\n",
    "import boto3\n",
    "import sys\n",
    "import re\n",
    "from datetime import datetime\n",
    "import configparser\n",
    "from pyspark.sql.functions import col, datediff"
   ]
  },
  {
   "cell_type": "code",
   "execution_count": 2,
   "id": "6ff2194a-2e2d-4e9f-a955-5e05d354a001",
   "metadata": {
    "execution": {
     "iopub.execute_input": "2022-11-28T10:46:08.911917Z",
     "iopub.status.busy": "2022-11-28T10:46:08.911669Z",
     "iopub.status.idle": "2022-11-28T10:46:38.231656Z",
     "shell.execute_reply": "2022-11-28T10:46:38.231161Z",
     "shell.execute_reply.started": "2022-11-28T10:46:08.911883Z"
    },
    "tags": []
   },
   "outputs": [
    {
     "name": "stdout",
     "output_type": "stream",
     "text": [
      "Starting Spark application\n"
     ]
    },
    {
     "data": {
      "text/html": [
       "<table>\n",
       "<tr><th>ID</th><th>YARN Application ID</th><th>Kind</th><th>State</th><th>Spark UI</th><th>Driver log</th><th>Current session?</th></tr><tr><td>1</td><td>application_1669632077933_0003</td><td>pyspark</td><td>idle</td><td><a target=\"_blank\" href=\"http://ip-20-0-4-214.ap-south-1.compute.internal:20888/proxy/application_1669632077933_0003/\" class=\"emr-proxy-link\" emr-resource=\"j-1AJ3HMI20P0UU\n",
       "\" application-id=\"application_1669632077933_0003\">Link</a></td><td><a target=\"_blank\" href=\"http://ip-20-0-4-160.ap-south-1.compute.internal:8042/node/containerlogs/container_1669632077933_0003_01_000001/livy\" >Link</a></td><td>✔</td></tr></table>"
      ],
      "text/plain": [
       "<IPython.core.display.HTML object>"
      ]
     },
     "metadata": {},
     "output_type": "display_data"
    },
    {
     "data": {
      "application/vnd.jupyter.widget-view+json": {
       "model_id": "",
       "version_major": 2,
       "version_minor": 0
      },
      "text/plain": [
       "FloatProgress(value=0.0, bar_style='info', description='Progress:', layout=Layout(height='25px', width='50%'),…"
      ]
     },
     "metadata": {},
     "output_type": "display_data"
    },
    {
     "name": "stdout",
     "output_type": "stream",
     "text": [
      "SparkSession available as 'spark'.\n"
     ]
    },
    {
     "data": {
      "text/html": [
       "Current session configs: <tt>{'conf': {'spark.jars': 's3://sjet-datamart-bucket/Jars/mssql-jdbc-6.1.0.jre8.jar'}, 'proxyUser': 'user_ayush_vaishnav', 'kind': 'pyspark'}</tt><br>"
      ],
      "text/plain": [
       "<IPython.core.display.HTML object>"
      ]
     },
     "metadata": {},
     "output_type": "display_data"
    },
    {
     "data": {
      "text/html": [
       "<table>\n",
       "<tr><th>ID</th><th>YARN Application ID</th><th>Kind</th><th>State</th><th>Spark UI</th><th>Driver log</th><th>Current session?</th></tr><tr><td>1</td><td>application_1669632077933_0003</td><td>pyspark</td><td>idle</td><td><a target=\"_blank\" href=\"http://ip-20-0-4-214.ap-south-1.compute.internal:20888/proxy/application_1669632077933_0003/\" class=\"emr-proxy-link\" emr-resource=\"j-1AJ3HMI20P0UU\n",
       "\" application-id=\"application_1669632077933_0003\">Link</a></td><td><a target=\"_blank\" href=\"http://ip-20-0-4-160.ap-south-1.compute.internal:8042/node/containerlogs/container_1669632077933_0003_01_000001/livy\" >Link</a></td><td>✔</td></tr></table>"
      ],
      "text/plain": [
       "<IPython.core.display.HTML object>"
      ]
     },
     "metadata": {},
     "output_type": "display_data"
    }
   ],
   "source": [
    "%%configure -f\n",
    "{\n",
    "    \"conf\": {\n",
    "        \"spark.jars\": \"s3://sjet-datamart-bucket/Jars/mssql-jdbc-6.1.0.jre8.jar\"        \n",
    "    }\n",
    "}"
   ]
  },
  {
   "cell_type": "code",
   "execution_count": 5,
   "id": "ecd4184d-8ebf-4c46-85f6-02f380976108",
   "metadata": {
    "execution": {
     "iopub.execute_input": "2022-11-28T11:08:45.247960Z",
     "iopub.status.busy": "2022-11-28T11:08:45.247733Z",
     "iopub.status.idle": "2022-11-28T11:08:47.526483Z",
     "shell.execute_reply": "2022-11-28T11:08:47.519383Z",
     "shell.execute_reply.started": "2022-11-28T11:08:45.247935Z"
    },
    "tags": []
   },
   "outputs": [
    {
     "data": {
      "application/vnd.jupyter.widget-view+json": {
       "model_id": "ccfccd2cc94a4bc79ba4f6d2ba222edb",
       "version_major": 2,
       "version_minor": 0
      },
      "text/plain": [
       "VBox()"
      ]
     },
     "metadata": {},
     "output_type": "display_data"
    },
    {
     "data": {
      "application/vnd.jupyter.widget-view+json": {
       "model_id": "",
       "version_major": 2,
       "version_minor": 0
      },
      "text/plain": [
       "FloatProgress(value=0.0, bar_style='info', description='Progress:', layout=Layout(height='25px', width='50%'),…"
      ]
     },
     "metadata": {},
     "output_type": "display_data"
    },
    {
     "name": "stdout",
     "output_type": "stream",
     "text": [
      "'\\nFACT_TABLE   .write   .format(\"jdbc\")   .mode(\"append\")   .option(\"driver\", \"com.microsoft.sqlserver.jdbc.SQLServerDriver\")   .option(\"url\", \"jdbc:sqlserver://10.150.72.22:1433;databaseName=precog_rnd\")   .option(\"dbtable\", \"CH_FactTable\")   .option(\"user\", \"dmbigdata\")   .option(\"password\", \"$p!Ce@bigData$db\")   .save()\\n'"
     ]
    }
   ],
   "source": [
    "DF1 = spark.sql('''\n",
    "\n",
    "                    SELECT * FROM \n",
    "                    22_customerhub.fact_test\n",
    "\n",
    "''')\n",
    "\n",
    "DF1.createOrReplaceTempView('DF1')\n",
    "\n",
    "DF2 = spark.sql('''\n",
    "\n",
    "                    SELECT * FROM \n",
    "                    22_customerhub.membertravelcount_12m\n",
    "\n",
    "''')\n",
    "\n",
    "DF2.createOrReplaceTempView('DF2')\n",
    "\n",
    "DF3 = spark.sql('''\n",
    "\n",
    "                    SELECT * FROM \n",
    "                    22_customerhub.upcomingtraveldate\n",
    "\n",
    "''')\n",
    "\n",
    "DF3.createOrReplaceTempView('DF3')\n",
    "\n",
    "DF4 = spark.sql('''\n",
    "\n",
    "                    SELECT * FROM \n",
    "                    22_customerhub.ancillarypurchasecount\n",
    "\n",
    "''')\n",
    "\n",
    "DF4.createOrReplaceTempView('DF4')\n",
    "\n",
    "FACT_TABLE = spark.sql('''\n",
    "\n",
    "                            SELECT a.ORG_UID\n",
    "\n",
    "               ,a.TotalPointsAccrued_12M\n",
    "\n",
    "               ,a.TotalPointsRedeemed_12M\n",
    "\n",
    "               ,a.RedemptionRatio\n",
    "\n",
    "               ,a.LastDepartureDate\n",
    "\n",
    "               ,b.DomFlightFreq\n",
    "\n",
    "               ,b.IntFlightFreq\n",
    "\n",
    "               ,b.OverallFlightFreq\n",
    "\n",
    "               ,b.MemberTravelCount_3M\n",
    "\n",
    "               ,b.MemberTravelCount_6M\n",
    "\n",
    "               ,b.MemberTravelCount_12M\n",
    "\n",
    "               ,c.WeekendBookingCount\n",
    "\n",
    "               ,c.WeekdayBookingCount\n",
    "\n",
    "               ,c.AveragePAXBooking\n",
    "\n",
    "               ,c.AvgDaysBkgDep\n",
    "\n",
    "               ,c.LastBookedDate\n",
    "\n",
    "               ,c.UpcomingTravelDate\n",
    "\n",
    "               ,d.DomFlightSpend_NAV_12M\n",
    "\n",
    "               ,d.DomFlightSpend_lty_12M\n",
    "\n",
    "               ,d.IntFlightSpend_NAV_12M\n",
    "\n",
    "               ,d.IntFlightSpend_LTY_12M\n",
    "\n",
    "               ,d.OverallFlightSpend_12_NAV\n",
    "\n",
    "               ,d.OverallFlightSpend_12_LTY\n",
    "\n",
    "               ,d.TicketValueWebApp\n",
    "\n",
    "               ,d.AncilliarySpend_NAV_12M\n",
    "\n",
    "               ,d.AncilliarySpend_LTY_12M\n",
    "\n",
    "               ,d.OverallAirtravelSpend_NAV_12M\n",
    "\n",
    "               ,d.OverallAirtravelSpend_LTY_12M\n",
    "\n",
    "               ,d.AncillaryPurchaseCount_NAV_12M\n",
    "\n",
    "               ,d.AncillaryPurchaseCount_LTY_12M\n",
    "                        \n",
    "                        ,CASE\n",
    "\n",
    "                          WHEN b.OverallFlightFreq = 0\n",
    "\n",
    "                                 THEN d.OverallAirtravelSpend_NAV_12M\n",
    "\n",
    "                          ELSE (d.OverallAirtravelSpend_NAV_12M) / (b.OverallFlightFreq)\n",
    "\n",
    "                          END AverageticketSize_NAV_12M\n",
    "              \n",
    "                        ,cast(current_date() AS DATE) AS LoadedOn\n",
    "                            \n",
    "                            FROM DF1 a\n",
    "                            \n",
    "                            LEFT JOIN DF2 b on a.org_uid = b.org_uid\n",
    "                            \n",
    "                            LEFT JOIN DF3 c on a.org_uid = c.org_uid\n",
    "                            \n",
    "                            LEFT JOIN DF4 d on a.org_uid = d.org_uid\n",
    "                            \n",
    "                            WHERE a.ORG_UID = '16510171692111089818'\n",
    "                            \n",
    "\n",
    "\n",
    "''')\n",
    "\n",
    "#FACT_TABLE.show(truncate=False)\n",
    "\n",
    "\n",
    "#FACT_TABLE.write.mode('append').parquet('s3://sjet-datamart-bucket/CH-Requirement1/FACT-TABLE')\n",
    "\n",
    "\"\"\"\n",
    "FACT_TABLE \\\n",
    "  .write \\\n",
    "  .format(\"jdbc\") \\\n",
    "  .mode(\"append\") \\\n",
    "  .option(\"driver\", \"com.microsoft.sqlserver.jdbc.SQLServerDriver\") \\\n",
    "  .option(\"url\", \"jdbc:sqlserver://10.150.72.22:1433;databaseName=precog_rnd\") \\\n",
    "  .option(\"dbtable\", \"CH_FactTable\") \\\n",
    "  .option(\"user\", \"dmbigdata\") \\\n",
    "  .option(\"password\", \"$p!Ce@bigData$db\") \\\n",
    "  .save()\n",
    "\"\"\""
   ]
  },
  {
   "cell_type": "code",
   "execution_count": 6,
   "id": "eddcdb6e-56cd-49e3-baea-2faac39f2443",
   "metadata": {
    "execution": {
     "iopub.execute_input": "2022-11-28T11:08:49.735475Z",
     "iopub.status.busy": "2022-11-28T11:08:49.735256Z",
     "iopub.status.idle": "2022-11-28T11:08:49.987661Z",
     "shell.execute_reply": "2022-11-28T11:08:49.987083Z",
     "shell.execute_reply.started": "2022-11-28T11:08:49.735451Z"
    },
    "tags": []
   },
   "outputs": [
    {
     "data": {
      "application/vnd.jupyter.widget-view+json": {
       "model_id": "0775ce55829d4d2e80d45334a7ae09d8",
       "version_major": 2,
       "version_minor": 0
      },
      "text/plain": [
       "VBox()"
      ]
     },
     "metadata": {},
     "output_type": "display_data"
    },
    {
     "data": {
      "application/vnd.jupyter.widget-view+json": {
       "model_id": "",
       "version_major": 2,
       "version_minor": 0
      },
      "text/plain": [
       "FloatProgress(value=0.0, bar_style='info', description='Progress:', layout=Layout(height='25px', width='50%'),…"
      ]
     },
     "metadata": {},
     "output_type": "display_data"
    }
   ],
   "source": [
    "FACT_TABLE.createOrReplaceTempView('FACT_TABLE')"
   ]
  },
  {
   "cell_type": "code",
   "execution_count": null,
   "id": "ddcb4dbd-5ae6-4766-9a93-01f92cdc0d28",
   "metadata": {},
   "outputs": [],
   "source": [
    "Fact_Table_1 = spark.sql('''\n",
    "\n",
    "                            UPDATE FACT_TABLE \n",
    "                            \n",
    "                            SET TotalPointsAccrued_12M = \n",
    "\n",
    "\n",
    "''')"
   ]
  },
  {
   "cell_type": "code",
   "execution_count": null,
   "id": "816825c4-80ff-41d1-8c18-4825a65aa74c",
   "metadata": {},
   "outputs": [],
   "source": []
  },
  {
   "cell_type": "code",
   "execution_count": null,
   "id": "57c79363-daea-4e56-8731-c8a4f7cd5c0d",
   "metadata": {},
   "outputs": [],
   "source": []
  },
  {
   "cell_type": "code",
   "execution_count": null,
   "id": "4f6e18e0-6506-4d4b-bec5-379dcbc6cdb8",
   "metadata": {},
   "outputs": [],
   "source": []
  },
  {
   "cell_type": "code",
   "execution_count": null,
   "id": "a7266ad7-686a-4ac6-badf-8fb4e2e44e36",
   "metadata": {},
   "outputs": [],
   "source": []
  }
 ],
 "metadata": {
  "kernelspec": {
   "display_name": "PySpark",
   "language": "",
   "name": "pysparkkernel"
  },
  "language_info": {
   "codemirror_mode": {
    "name": "python",
    "version": 3
   },
   "mimetype": "text/x-python",
   "name": "pyspark",
   "pygments_lexer": "python3"
  }
 },
 "nbformat": 4,
 "nbformat_minor": 5
}
