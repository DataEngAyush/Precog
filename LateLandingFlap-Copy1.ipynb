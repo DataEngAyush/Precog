{
 "cells": [
  {
   "cell_type": "code",
   "execution_count": 1,
   "id": "08bc0164-26a2-4e9d-a4c1-dcdea28f78b1",
   "metadata": {
    "execution": {
     "iopub.execute_input": "2023-01-12T06:38:00.508111Z",
     "iopub.status.busy": "2023-01-12T06:38:00.507880Z",
     "iopub.status.idle": "2023-01-12T06:38:00.542025Z",
     "shell.execute_reply": "2023-01-12T06:38:00.541507Z",
     "shell.execute_reply.started": "2023-01-12T06:38:00.508089Z"
    },
    "tags": []
   },
   "outputs": [
    {
     "data": {
      "text/html": [
       "Current session configs: <tt>{'conf': {'spark.jars': 's3://sjet-datamart-bucket/Jars/mssql-jdbc-6.1.0.jre8.jar'}, 'proxyUser': 'user_ayush_vaishnav', 'kind': 'pyspark'}</tt><br>"
      ],
      "text/plain": [
       "<IPython.core.display.HTML object>"
      ]
     },
     "metadata": {},
     "output_type": "display_data"
    },
    {
     "data": {
      "text/html": [
       "<table>\n",
       "<tr><th>ID</th><th>YARN Application ID</th><th>Kind</th><th>State</th><th>Spark UI</th><th>Driver log</th><th>Current session?</th></tr><tr><td>4</td><td>application_1673498272080_0025</td><td>pyspark</td><td>dead</td><td><a target=\"_blank\" href=\"http://ip-20-0-4-210.ap-south-1.compute.internal:20888/proxy/application_1673498272080_0025/\" class=\"emr-proxy-link\" emr-resource=\"j-1DD9O1Q2DH5EX\n",
       "\" application-id=\"application_1673498272080_0025\">Link</a></td><td><a target=\"_blank\" href=\"http://ip-20-0-4-210.ap-south-1.compute.internal:8188/applicationhistory/logs/ip-20-0-4-116.ap-south-1.compute.internal:8041/container_1673498272080_0025_01_000001/container_1673498272080_0025_01_000001/livy\" >Link</a></td><td></td></tr><tr><td>5</td><td>application_1673498272080_0026</td><td>pyspark</td><td>dead</td><td><a target=\"_blank\" href=\"http://ip-20-0-4-210.ap-south-1.compute.internal:20888/proxy/application_1673498272080_0026/\" class=\"emr-proxy-link\" emr-resource=\"j-1DD9O1Q2DH5EX\n",
       "\" application-id=\"application_1673498272080_0026\">Link</a></td><td><a target=\"_blank\" href=\"http://ip-20-0-4-210.ap-south-1.compute.internal:8188/applicationhistory/logs/ip-20-0-4-116.ap-south-1.compute.internal:8041/container_1673498272080_0026_01_000001/container_1673498272080_0026_01_000001/livy\" >Link</a></td><td></td></tr></table>"
      ],
      "text/plain": [
       "<IPython.core.display.HTML object>"
      ]
     },
     "metadata": {},
     "output_type": "display_data"
    }
   ],
   "source": [
    "%%configure -f\n",
    "{\n",
    "    \"conf\": {\n",
    "        \"spark.jars\": \"s3://sjet-datamart-bucket/Jars/mssql-jdbc-6.1.0.jre8.jar\"        \n",
    "    }\n",
    "}"
   ]
  },
  {
   "cell_type": "code",
   "execution_count": 21,
   "id": "2c7979ec-5676-4064-b5b4-dce81b8ac0c9",
   "metadata": {
    "execution": {
     "iopub.execute_input": "2023-01-12T07:38:53.614165Z",
     "iopub.status.busy": "2023-01-12T07:38:53.613921Z",
     "iopub.status.idle": "2023-01-12T07:38:54.361081Z",
     "shell.execute_reply": "2023-01-12T07:38:54.360572Z",
     "shell.execute_reply.started": "2023-01-12T07:38:53.614140Z"
    },
    "tags": []
   },
   "outputs": [
    {
     "data": {
      "application/vnd.jupyter.widget-view+json": {
       "model_id": "4f5654e818b34bd5bd92a9425266d8a2",
       "version_major": 2,
       "version_minor": 0
      },
      "text/plain": [
       "VBox()"
      ]
     },
     "metadata": {},
     "output_type": "display_data"
    },
    {
     "data": {
      "application/vnd.jupyter.widget-view+json": {
       "model_id": "",
       "version_major": 2,
       "version_minor": 0
      },
      "text/plain": [
       "FloatProgress(value=0.0, bar_style='info', description='Progress:', layout=Layout(height='25px', width='50%'),…"
      ]
     },
     "metadata": {},
     "output_type": "display_data"
    }
   ],
   "source": [
    "UNION_DF = spark.sql('''\n",
    "                        SELECT * FROM precogdb.df5_red_late_landing_flap\n",
    "                        where date > '2021-10-31'\n",
    "                        UNION\n",
    "                        SELECT * FROM precogdb.df5_green_late_landing_flap\n",
    "                        where flightdate > '2021-10-31'\n",
    "                        \n",
    "                        ''')"
   ]
  },
  {
   "cell_type": "code",
   "execution_count": 3,
   "id": "16ec092b-bec3-487f-9954-f3e88aa0e1c5",
   "metadata": {
    "execution": {
     "iopub.execute_input": "2023-01-04T07:29:22.875753Z",
     "iopub.status.busy": "2023-01-04T07:29:22.875392Z",
     "iopub.status.idle": "2023-01-04T07:29:36.180050Z",
     "shell.execute_reply": "2023-01-04T07:29:36.179497Z",
     "shell.execute_reply.started": "2023-01-04T07:29:22.875725Z"
    },
    "tags": []
   },
   "outputs": [
    {
     "data": {
      "application/vnd.jupyter.widget-view+json": {
       "model_id": "b606c4ee44694a7b8b27b12338cef63a",
       "version_major": 2,
       "version_minor": 0
      },
      "text/plain": [
       "VBox()"
      ]
     },
     "metadata": {},
     "output_type": "display_data"
    },
    {
     "data": {
      "application/vnd.jupyter.widget-view+json": {
       "model_id": "",
       "version_major": 2,
       "version_minor": 0
      },
      "text/plain": [
       "FloatProgress(value=0.0, bar_style='info', description='Progress:', layout=Layout(height='25px', width='50%'),…"
      ]
     },
     "metadata": {},
     "output_type": "display_data"
    },
    {
     "name": "stdout",
     "output_type": "stream",
     "text": [
      "17608"
     ]
    }
   ],
   "source": [
    "UNION_DF.count()"
   ]
  },
  {
   "cell_type": "code",
   "execution_count": 22,
   "id": "ca683674-0e5c-4ac8-9815-2650cdb0f3a3",
   "metadata": {
    "execution": {
     "iopub.execute_input": "2023-01-12T07:38:58.039349Z",
     "iopub.status.busy": "2023-01-12T07:38:58.039126Z",
     "iopub.status.idle": "2023-01-12T07:38:58.285366Z",
     "shell.execute_reply": "2023-01-12T07:38:58.284869Z",
     "shell.execute_reply.started": "2023-01-12T07:38:58.039326Z"
    },
    "tags": []
   },
   "outputs": [
    {
     "data": {
      "application/vnd.jupyter.widget-view+json": {
       "model_id": "220f91ad66904c82bd2c9de61cc4e070",
       "version_major": 2,
       "version_minor": 0
      },
      "text/plain": [
       "VBox()"
      ]
     },
     "metadata": {},
     "output_type": "display_data"
    },
    {
     "data": {
      "application/vnd.jupyter.widget-view+json": {
       "model_id": "",
       "version_major": 2,
       "version_minor": 0
      },
      "text/plain": [
       "FloatProgress(value=0.0, bar_style='info', description='Progress:', layout=Layout(height='25px', width='50%'),…"
      ]
     },
     "metadata": {},
     "output_type": "display_data"
    }
   ],
   "source": [
    "UNION_DF.createOrReplaceTempView('union_df')"
   ]
  },
  {
   "cell_type": "code",
   "execution_count": 8,
   "id": "843f95c1-629d-4cfc-87b9-69f23a1819b8",
   "metadata": {
    "execution": {
     "iopub.execute_input": "2022-10-14T16:13:52.904345Z",
     "iopub.status.busy": "2022-10-14T16:13:52.904130Z",
     "iopub.status.idle": "2022-10-14T16:13:56.174433Z",
     "shell.execute_reply": "2022-10-14T16:13:56.173689Z",
     "shell.execute_reply.started": "2022-10-14T16:13:52.904321Z"
    },
    "tags": []
   },
   "outputs": [
    {
     "data": {
      "application/vnd.jupyter.widget-view+json": {
       "model_id": "416ee702ad7e4c0fb886d2b2c0f1af17",
       "version_major": 2,
       "version_minor": 0
      },
      "text/plain": [
       "VBox()"
      ]
     },
     "metadata": {},
     "output_type": "display_data"
    },
    {
     "data": {
      "application/vnd.jupyter.widget-view+json": {
       "model_id": "",
       "version_major": 2,
       "version_minor": 0
      },
      "text/plain": [
       "FloatProgress(value=0.0, bar_style='info', description='Progress:', layout=Layout(height='25px', width='50%'),…"
      ]
     },
     "metadata": {},
     "output_type": "display_data"
    }
   ],
   "source": [
    "PilotInfoDF = spark.read.csv('s3://sjet-datamart-bucket/precog/pilot-info/', header=True)"
   ]
  },
  {
   "cell_type": "code",
   "execution_count": 9,
   "id": "cba0758b-926b-409a-89a2-c0bf4ef0e4c0",
   "metadata": {
    "execution": {
     "iopub.execute_input": "2022-10-14T16:13:56.799858Z",
     "iopub.status.busy": "2022-10-14T16:13:56.799626Z",
     "iopub.status.idle": "2022-10-14T16:13:56.844690Z",
     "shell.execute_reply": "2022-10-14T16:13:56.844223Z",
     "shell.execute_reply.started": "2022-10-14T16:13:56.799834Z"
    },
    "tags": []
   },
   "outputs": [
    {
     "data": {
      "application/vnd.jupyter.widget-view+json": {
       "model_id": "f2c7c9572226413d8185c740c61e1328",
       "version_major": 2,
       "version_minor": 0
      },
      "text/plain": [
       "VBox()"
      ]
     },
     "metadata": {},
     "output_type": "display_data"
    },
    {
     "data": {
      "application/vnd.jupyter.widget-view+json": {
       "model_id": "",
       "version_major": 2,
       "version_minor": 0
      },
      "text/plain": [
       "FloatProgress(value=0.0, bar_style='info', description='Progress:', layout=Layout(height='25px', width='50%'),…"
      ]
     },
     "metadata": {},
     "output_type": "display_data"
    }
   ],
   "source": [
    "PilotInfoDF.createOrReplaceTempView('PilotInfoDF')"
   ]
  },
  {
   "cell_type": "code",
   "execution_count": 23,
   "id": "5b9b968f-6bcd-40a7-bbaa-d2d8f379f536",
   "metadata": {
    "execution": {
     "iopub.execute_input": "2023-01-12T07:39:00.224183Z",
     "iopub.status.busy": "2023-01-12T07:39:00.223929Z",
     "iopub.status.idle": "2023-01-12T07:39:00.472371Z",
     "shell.execute_reply": "2023-01-12T07:39:00.471849Z",
     "shell.execute_reply.started": "2023-01-12T07:39:00.224131Z"
    },
    "tags": []
   },
   "outputs": [
    {
     "data": {
      "application/vnd.jupyter.widget-view+json": {
       "model_id": "52054ecba27d437d95d245a1d2776c6c",
       "version_major": 2,
       "version_minor": 0
      },
      "text/plain": [
       "VBox()"
      ]
     },
     "metadata": {},
     "output_type": "display_data"
    },
    {
     "data": {
      "application/vnd.jupyter.widget-view+json": {
       "model_id": "",
       "version_major": 2,
       "version_minor": 0
      },
      "text/plain": [
       "FloatProgress(value=0.0, bar_style='info', description='Progress:', layout=Layout(height='25px', width='50%'),…"
      ]
     },
     "metadata": {},
     "output_type": "display_data"
    }
   ],
   "source": [
    "final_df_df5 = spark.sql('''\n",
    "                            SELECT \n",
    "                            CAST(ud.exceedanceid AS INT),\n",
    "                            ud.exceedance,\n",
    "                            CAST(ud.phaseid AS INT),\n",
    "                            ud.phase,\n",
    "                            ud.ecn,\n",
    "                            ud.employeename,\n",
    "                            ud.rank,\n",
    "                            ud.tailno,\n",
    "                            ud.departure,\n",
    "                            ud.arrival,\n",
    "                            ud.flightno AS FlightNumber,\n",
    "                            ud.date as FLightDate ,\n",
    "                            ud.chocksoff,\n",
    "                            ud.chockson,\n",
    "                            ud.domint,\n",
    "                            CAST(ud.manufacturerid AS INT),\n",
    "                            ud.manufacturer,\n",
    "                            CAST(ud.dataframeid AS INT),\n",
    "                            ud.dataframe,\n",
    "                            ud.aircrafttype,\n",
    "                            ud.aircraftmodel,\n",
    "                            ud.payload,\n",
    "                            ud.blocktime_hrs as `Block time`,\n",
    "                            occurance as occurence,\n",
    "                            CAST(typeid AS INT),\n",
    "                            flag as type,\n",
    "                            CAST(trigger_hours AS DECIMAL(8,2)) AS `Trigger Hours`,\n",
    "                            CAST(occurence_hours AS DECIMAL(8,2)) AS `Occurence Hours`,\n",
    "                            CAST(duration_min AS String) AS  `Duration(Sec)`,\n",
    "                            CAST(`BARO_COR_ALT` AS INT) AS `BARO COR ALT`,\n",
    "                            CAST(`RADIO_HEIGHT` AS INT) AS `RADIO HEIGHT`,\n",
    "                            CAST(`COMPUTED_AIRSPEED` AS FLOAT) AS `COMPUTED AIRSPEED`,\n",
    "                            CAPT_DISPLAY_PITCH_ATTIUDE AS `CAPT. DISPLAY PITCH ATTIUDE`,\n",
    "                            CAST(`CAPT_DISPLAY_HEADING` AS FLOAT) AS `CAPT. DISPLAY HEADING`,\n",
    "                            CAST(`GROUNDSPEED` AS FLOAT) AS `GROUND SPEED`,\n",
    "                            CAST(`VERTICAL_SPEED` AS INT) AS `VERTICAL SPEED`,\n",
    "                            CAST(`FLAP_HANDLE_POSITION` AS INT) AS `FLAP HANDLE POSITION`,\n",
    "                            CAST(`TORQUE_ENG_L` AS FLOAT) AS `LEFT ENGINE N1 \\ TORQUE ENG L`,\n",
    "                            CAST(`TORQUE_ENG_R` AS FLOAT) AS `RIGHT ENGINE N1 \\ TORQUE ENG R`,\n",
    "                            CAST('' AS INT) AS `VREF SPEED`,\n",
    "                            CAST(FlapType AS INT) AS FlapType,\n",
    "                            CAST('' AS DECIMAL(6,2)) AS `TE FLAP POSN - LEFT`,\n",
    "                            CAST('' AS DECIMAL(6,2)) AS `TE FLAP POSN - RIGHT`,\n",
    "                            MAIN_WOW AS `LEFT MAIN GEAR AIR/GND`,\n",
    "                            '' AS `RIGHT MAIN GEAR AIR/GND`,\n",
    "                            loadeddate AS LoadDate,\n",
    "                            filename\n",
    "                    FROM union_df ud\n",
    "                    \n",
    "                ''')"
   ]
  },
  {
   "cell_type": "code",
   "execution_count": 24,
   "id": "3be359f7-83cf-4864-8d89-b865411dba0a",
   "metadata": {
    "execution": {
     "iopub.execute_input": "2023-01-12T07:39:03.553686Z",
     "iopub.status.busy": "2023-01-12T07:39:03.553466Z",
     "iopub.status.idle": "2023-01-12T07:39:03.596369Z",
     "shell.execute_reply": "2023-01-12T07:39:03.595802Z",
     "shell.execute_reply.started": "2023-01-12T07:39:03.553664Z"
    },
    "tags": []
   },
   "outputs": [
    {
     "data": {
      "application/vnd.jupyter.widget-view+json": {
       "model_id": "3a6c12400deb4497ac90be7f4c7337c7",
       "version_major": 2,
       "version_minor": 0
      },
      "text/plain": [
       "VBox()"
      ]
     },
     "metadata": {},
     "output_type": "display_data"
    },
    {
     "data": {
      "application/vnd.jupyter.widget-view+json": {
       "model_id": "",
       "version_major": 2,
       "version_minor": 0
      },
      "text/plain": [
       "FloatProgress(value=0.0, bar_style='info', description='Progress:', layout=Layout(height='25px', width='50%'),…"
      ]
     },
     "metadata": {},
     "output_type": "display_data"
    },
    {
     "name": "stdout",
     "output_type": "stream",
     "text": [
      "root\n",
      " |-- exceedanceid: integer (nullable = true)\n",
      " |-- exceedance: string (nullable = true)\n",
      " |-- phaseid: integer (nullable = true)\n",
      " |-- phase: string (nullable = true)\n",
      " |-- ecn: string (nullable = true)\n",
      " |-- employeename: string (nullable = true)\n",
      " |-- rank: string (nullable = true)\n",
      " |-- tailno: string (nullable = true)\n",
      " |-- departure: string (nullable = true)\n",
      " |-- arrival: string (nullable = true)\n",
      " |-- FlightNumber: string (nullable = true)\n",
      " |-- FLightDate: string (nullable = true)\n",
      " |-- chocksoff: timestamp (nullable = true)\n",
      " |-- chockson: timestamp (nullable = true)\n",
      " |-- domint: string (nullable = true)\n",
      " |-- manufacturerid: integer (nullable = true)\n",
      " |-- manufacturer: string (nullable = true)\n",
      " |-- dataframeid: integer (nullable = true)\n",
      " |-- dataframe: string (nullable = true)\n",
      " |-- aircrafttype: string (nullable = true)\n",
      " |-- aircraftmodel: string (nullable = true)\n",
      " |-- payload: string (nullable = true)\n",
      " |-- Block time: string (nullable = true)\n",
      " |-- occurence: string (nullable = true)\n",
      " |-- typeid: integer (nullable = true)\n",
      " |-- type: string (nullable = true)\n",
      " |-- Trigger Hours: decimal(8,2) (nullable = true)\n",
      " |-- Occurence Hours: decimal(8,2) (nullable = true)\n",
      " |-- Duration(Sec): string (nullable = true)\n",
      " |-- BARO COR ALT: integer (nullable = true)\n",
      " |-- RADIO HEIGHT: integer (nullable = true)\n",
      " |-- COMPUTED AIRSPEED: float (nullable = true)\n",
      " |-- CAPT. DISPLAY PITCH ATTIUDE: string (nullable = true)\n",
      " |-- CAPT. DISPLAY HEADING: float (nullable = true)\n",
      " |-- GROUND SPEED: float (nullable = true)\n",
      " |-- VERTICAL SPEED: integer (nullable = true)\n",
      " |-- FLAP HANDLE POSITION: integer (nullable = true)\n",
      " |-- LEFT ENGINE N1 \\ TORQUE ENG L: float (nullable = true)\n",
      " |-- RIGHT ENGINE N1 \\ TORQUE ENG R: float (nullable = true)\n",
      " |-- VREF SPEED: integer (nullable = true)\n",
      " |-- FlapType: integer (nullable = true)\n",
      " |-- TE FLAP POSN - LEFT: decimal(6,2) (nullable = true)\n",
      " |-- TE FLAP POSN - RIGHT: decimal(6,2) (nullable = true)\n",
      " |-- LEFT MAIN GEAR AIR/GND: string (nullable = true)\n",
      " |-- RIGHT MAIN GEAR AIR/GND: string (nullable = false)\n",
      " |-- LoadDate: timestamp (nullable = true)\n",
      " |-- filename: string (nullable = true)"
     ]
    }
   ],
   "source": [
    "final_df_df5.printSchema()"
   ]
  },
  {
   "cell_type": "code",
   "execution_count": 13,
   "id": "9c3f93db-3c3a-4f90-bde1-daecdd4e01ac",
   "metadata": {
    "execution": {
     "iopub.execute_input": "2023-01-12T06:47:31.496565Z",
     "iopub.status.busy": "2023-01-12T06:47:31.496336Z",
     "iopub.status.idle": "2023-01-12T06:48:02.835941Z",
     "shell.execute_reply": "2023-01-12T06:48:02.835365Z",
     "shell.execute_reply.started": "2023-01-12T06:47:31.496541Z"
    },
    "tags": []
   },
   "outputs": [
    {
     "data": {
      "application/vnd.jupyter.widget-view+json": {
       "model_id": "4399e60b68b44adf8fa3ddcab7206f61",
       "version_major": 2,
       "version_minor": 0
      },
      "text/plain": [
       "VBox()"
      ]
     },
     "metadata": {},
     "output_type": "display_data"
    },
    {
     "data": {
      "application/vnd.jupyter.widget-view+json": {
       "model_id": "",
       "version_major": 2,
       "version_minor": 0
      },
      "text/plain": [
       "FloatProgress(value=0.0, bar_style='info', description='Progress:', layout=Layout(height='25px', width='50%'),…"
      ]
     },
     "metadata": {},
     "output_type": "display_data"
    }
   ],
   "source": [
    "final_df_df5 \\\n",
    "  .write \\\n",
    "  .format(\"jdbc\") \\\n",
    "  .mode(\"append\") \\\n",
    "  .option(\"driver\", \"com.microsoft.sqlserver.jdbc.SQLServerDriver\") \\\n",
    "  .option(\"url\", \"jdbc:sqlserver://10.150.72.22:1433;databaseName=precog\") \\\n",
    "  .option(\"dbtable\", \"LateLandingFlapSTG\") \\\n",
    "  .option(\"user\", \"dmbigdata\") \\\n",
    "  .option(\"password\", \"$p!Ce@bigData$db\") \\\n",
    "  .save()"
   ]
  },
  {
   "cell_type": "code",
   "execution_count": null,
   "id": "23df047c-b475-4632-b503-88747b74fdaa",
   "metadata": {},
   "outputs": [],
   "source": []
  },
  {
   "cell_type": "code",
   "execution_count": 25,
   "id": "0735d970-8a63-4530-bba4-e36436afb31c",
   "metadata": {
    "execution": {
     "iopub.execute_input": "2023-01-12T07:39:11.739618Z",
     "iopub.status.busy": "2023-01-12T07:39:11.739390Z",
     "iopub.status.idle": "2023-01-12T07:39:12.491768Z",
     "shell.execute_reply": "2023-01-12T07:39:12.491223Z",
     "shell.execute_reply.started": "2023-01-12T07:39:11.739594Z"
    },
    "tags": []
   },
   "outputs": [
    {
     "data": {
      "application/vnd.jupyter.widget-view+json": {
       "model_id": "24081244669c462cae0ea8097378ef2d",
       "version_major": 2,
       "version_minor": 0
      },
      "text/plain": [
       "VBox()"
      ]
     },
     "metadata": {},
     "output_type": "display_data"
    },
    {
     "data": {
      "application/vnd.jupyter.widget-view+json": {
       "model_id": "",
       "version_major": 2,
       "version_minor": 0
      },
      "text/plain": [
       "FloatProgress(value=0.0, bar_style='info', description='Progress:', layout=Layout(height='25px', width='50%'),…"
      ]
     },
     "metadata": {},
     "output_type": "display_data"
    }
   ],
   "source": [
    "UNION_DF_1 = spark.sql('''\n",
    "\n",
    "                        SELECT * FROM precogdb.df6_red_late_landing_flap\n",
    "                        where date > '2021-10-31'\n",
    "                        UNION\n",
    "                        SELECT * FROM precogdb.df6_green_late_landing_flap\n",
    "                        where flightdate > '2021-10-31'\n",
    "                        \n",
    "                        \n",
    "                        ''')"
   ]
  },
  {
   "cell_type": "code",
   "execution_count": 26,
   "id": "c6213afc-afef-4d6e-918f-43a2c67abcc3",
   "metadata": {
    "execution": {
     "iopub.execute_input": "2023-01-12T07:39:13.174429Z",
     "iopub.status.busy": "2023-01-12T07:39:13.174197Z",
     "iopub.status.idle": "2023-01-12T07:39:13.420219Z",
     "shell.execute_reply": "2023-01-12T07:39:13.419698Z",
     "shell.execute_reply.started": "2023-01-12T07:39:13.174406Z"
    },
    "tags": []
   },
   "outputs": [
    {
     "data": {
      "application/vnd.jupyter.widget-view+json": {
       "model_id": "4ee16046aed6406da941b9fbb72e9ab1",
       "version_major": 2,
       "version_minor": 0
      },
      "text/plain": [
       "VBox()"
      ]
     },
     "metadata": {},
     "output_type": "display_data"
    },
    {
     "data": {
      "application/vnd.jupyter.widget-view+json": {
       "model_id": "",
       "version_major": 2,
       "version_minor": 0
      },
      "text/plain": [
       "FloatProgress(value=0.0, bar_style='info', description='Progress:', layout=Layout(height='25px', width='50%'),…"
      ]
     },
     "metadata": {},
     "output_type": "display_data"
    }
   ],
   "source": [
    "UNION_DF_1.createOrReplaceTempView('union_df_1')"
   ]
  },
  {
   "cell_type": "code",
   "execution_count": 27,
   "id": "7df075e4-43c0-4365-aa85-5db2e27d58f2",
   "metadata": {
    "execution": {
     "iopub.execute_input": "2023-01-12T07:39:14.192660Z",
     "iopub.status.busy": "2023-01-12T07:39:14.192445Z",
     "iopub.status.idle": "2023-01-12T07:39:14.235777Z",
     "shell.execute_reply": "2023-01-12T07:39:14.235272Z",
     "shell.execute_reply.started": "2023-01-12T07:39:14.192636Z"
    },
    "tags": []
   },
   "outputs": [
    {
     "data": {
      "application/vnd.jupyter.widget-view+json": {
       "model_id": "bc0c142640ff489a9733f9e0f4dee7d4",
       "version_major": 2,
       "version_minor": 0
      },
      "text/plain": [
       "VBox()"
      ]
     },
     "metadata": {},
     "output_type": "display_data"
    },
    {
     "data": {
      "application/vnd.jupyter.widget-view+json": {
       "model_id": "",
       "version_major": 2,
       "version_minor": 0
      },
      "text/plain": [
       "FloatProgress(value=0.0, bar_style='info', description='Progress:', layout=Layout(height='25px', width='50%'),…"
      ]
     },
     "metadata": {},
     "output_type": "display_data"
    },
    {
     "name": "stdout",
     "output_type": "stream",
     "text": [
      "root\n",
      " |-- exceedanceid: long (nullable = true)\n",
      " |-- exceedance: string (nullable = true)\n",
      " |-- phaseid: long (nullable = true)\n",
      " |-- phase: string (nullable = true)\n",
      " |-- ecn: string (nullable = true)\n",
      " |-- employeename: string (nullable = true)\n",
      " |-- rank: string (nullable = true)\n",
      " |-- tailno: string (nullable = true)\n",
      " |-- departure: string (nullable = true)\n",
      " |-- arrival: string (nullable = true)\n",
      " |-- flightno: string (nullable = true)\n",
      " |-- date: string (nullable = true)\n",
      " |-- chocksoff: timestamp (nullable = true)\n",
      " |-- chockson: timestamp (nullable = true)\n",
      " |-- domint: string (nullable = true)\n",
      " |-- manufacturerid: long (nullable = true)\n",
      " |-- manufacturer: string (nullable = true)\n",
      " |-- dataframeid: long (nullable = true)\n",
      " |-- dataframe: string (nullable = true)\n",
      " |-- aircrafttype: string (nullable = true)\n",
      " |-- aircraftmodel: string (nullable = true)\n",
      " |-- payload: string (nullable = true)\n",
      " |-- blocktime_hrs: string (nullable = true)\n",
      " |-- occurance: string (nullable = true)\n",
      " |-- typeid: long (nullable = true)\n",
      " |-- flag: string (nullable = true)\n",
      " |-- trigger_hours: string (nullable = true)\n",
      " |-- occurence_hours: string (nullable = true)\n",
      " |-- duration_min: string (nullable = true)\n",
      " |-- flaptype: string (nullable = true)\n",
      " |-- baro_cor_alt: string (nullable = true)\n",
      " |-- radio_height: string (nullable = true)\n",
      " |-- computed_airspeed: string (nullable = true)\n",
      " |-- capt_display_pitch_attiude: string (nullable = true)\n",
      " |-- capt_display_heading: string (nullable = true)\n",
      " |-- groundspeed: string (nullable = true)\n",
      " |-- vertical_speed: string (nullable = true)\n",
      " |-- flap_handle_position: string (nullable = true)\n",
      " |-- torque_eng_l: string (nullable = true)\n",
      " |-- torque_eng_r: string (nullable = true)\n",
      " |-- wow_mlg: string (nullable = true)\n",
      " |-- loadeddate: timestamp (nullable = true)\n",
      " |-- filename: string (nullable = true)\n",
      " |-- year: string (nullable = true)\n",
      " |-- month: string (nullable = true)"
     ]
    }
   ],
   "source": [
    "UNION_DF_1.printSchema()"
   ]
  },
  {
   "cell_type": "code",
   "execution_count": 28,
   "id": "ad65ecd1-5e67-4a82-977e-0b5cb0dfc705",
   "metadata": {
    "execution": {
     "iopub.execute_input": "2023-01-12T07:39:17.827983Z",
     "iopub.status.busy": "2023-01-12T07:39:17.827757Z",
     "iopub.status.idle": "2023-01-12T07:39:18.082936Z",
     "shell.execute_reply": "2023-01-12T07:39:18.082229Z",
     "shell.execute_reply.started": "2023-01-12T07:39:17.827959Z"
    },
    "tags": []
   },
   "outputs": [
    {
     "data": {
      "application/vnd.jupyter.widget-view+json": {
       "model_id": "ca5b3dea3b9a41d08c630025ca27b618",
       "version_major": 2,
       "version_minor": 0
      },
      "text/plain": [
       "VBox()"
      ]
     },
     "metadata": {},
     "output_type": "display_data"
    },
    {
     "data": {
      "application/vnd.jupyter.widget-view+json": {
       "model_id": "",
       "version_major": 2,
       "version_minor": 0
      },
      "text/plain": [
       "FloatProgress(value=0.0, bar_style='info', description='Progress:', layout=Layout(height='25px', width='50%'),…"
      ]
     },
     "metadata": {},
     "output_type": "display_data"
    }
   ],
   "source": [
    "final_df_df6 = spark.sql('''\n",
    "                            SELECT \n",
    "                            CAST(ud.exceedanceid AS INT),\n",
    "                            ud.exceedance,\n",
    "                            CAST(ud.phaseid AS INT),\n",
    "                            ud.phase,\n",
    "                            ud.ecn,\n",
    "                            ud.employeename,\n",
    "                            ud.rank,\n",
    "                            ud.tailno,\n",
    "                            ud.departure,\n",
    "                            ud.arrival,\n",
    "                            ud.flightno AS FlightNumber,\n",
    "                            ud.date as FLightDate ,\n",
    "                            ud.chocksoff,\n",
    "                            ud.chockson,\n",
    "                            ud.domint,\n",
    "                            CAST(ud.manufacturerid AS INT),\n",
    "                            ud.manufacturer,\n",
    "                            CAST(ud.dataframeid AS INT),\n",
    "                            ud.dataframe,\n",
    "                            ud.aircrafttype,\n",
    "                            ud.aircraftmodel,\n",
    "                            ud.payload,\n",
    "                            ud.blocktime_hrs as `Block time`,\n",
    "                            occurance as occurence,\n",
    "                            CAST(typeid AS INT),\n",
    "                            flag as type,\n",
    "                            CAST(trigger_hours AS DECIMAL(8,2)) AS `Trigger Hours`,\n",
    "                            CAST(occurence_hours AS DECIMAL(8,2)) AS `Occurence Hours`,\n",
    "                            CAST(duration_min AS INT) AS  `Duration(Sec)`,\n",
    "                            CAST(`BARO_COR_ALT` AS INT) AS `BARO COR ALT`,\n",
    "                            CAST(`RADIO_HEIGHT` AS INT) AS `RADIO HEIGHT`,\n",
    "                            CAST(`COMPUTED_AIRSPEED` AS FLOAT) AS `COMPUTED AIRSPEED`,\n",
    "                            CAPT_DISPLAY_PITCH_ATTIUDE AS `CAPT. DISPLAY PITCH ATTIUDE`,\n",
    "                            CAST(`CAPT_DISPLAY_HEADING` AS FLOAT) AS `CAPT. DISPLAY HEADING`,\n",
    "                            CAST(`GROUNDSPEED` AS FLOAT) AS `GROUND SPEED`,\n",
    "                            CAST(`VERTICAL_SPEED` AS INT) AS `VERTICAL SPEED`,\n",
    "                            CAST(`FLAP_HANDLE_POSITION` AS INT) AS `FLAP HANDLE POSITION`,\n",
    "                            CAST(`TORQUE_ENG_L` AS FLOAT) AS `LEFT ENGINE N1 \\ TORQUE ENG L`,\n",
    "                            CAST(`TORQUE_ENG_R` AS FLOAT) AS `RIGHT ENGINE N1 \\ TORQUE ENG R`,\n",
    "                            CAST('' AS INT) AS `VREF SPEED`,\n",
    "                            CAST(FlapType AS INT) AS FlapType,\n",
    "                            CAST('' AS DECIMAL(6,2)) AS `TE FLAP POSN - LEFT`,\n",
    "                            CAST('' AS DECIMAL(6,2)) AS `TE FLAP POSN - RIGHT`,\n",
    "                            WOW_MLG AS `LEFT MAIN GEAR AIR/GND`,\n",
    "                            '' AS `RIGHT MAIN GEAR AIR/GND`,\n",
    "                            loadeddate AS LoadDate,\n",
    "                            filename\n",
    "                    FROM union_df_1 ud\n",
    "                    \n",
    "                ''')"
   ]
  },
  {
   "cell_type": "code",
   "execution_count": 30,
   "id": "e9d71a83-22b8-4aa1-85c9-7291322bfa68",
   "metadata": {
    "execution": {
     "iopub.execute_input": "2023-01-12T07:39:24.315968Z",
     "iopub.status.busy": "2023-01-12T07:39:24.315749Z",
     "iopub.status.idle": "2023-01-12T07:39:59.662982Z",
     "shell.execute_reply": "2023-01-12T07:39:59.662305Z",
     "shell.execute_reply.started": "2023-01-12T07:39:24.315944Z"
    },
    "tags": []
   },
   "outputs": [
    {
     "data": {
      "application/vnd.jupyter.widget-view+json": {
       "model_id": "6bed3626423146b8b26069b926cb8b2d",
       "version_major": 2,
       "version_minor": 0
      },
      "text/plain": [
       "VBox()"
      ]
     },
     "metadata": {},
     "output_type": "display_data"
    },
    {
     "data": {
      "application/vnd.jupyter.widget-view+json": {
       "model_id": "",
       "version_major": 2,
       "version_minor": 0
      },
      "text/plain": [
       "FloatProgress(value=0.0, bar_style='info', description='Progress:', layout=Layout(height='25px', width='50%'),…"
      ]
     },
     "metadata": {},
     "output_type": "display_data"
    }
   ],
   "source": [
    "final_df_df6 \\\n",
    "  .write \\\n",
    "  .format(\"jdbc\") \\\n",
    "  .mode(\"append\") \\\n",
    "  .option(\"driver\", \"com.microsoft.sqlserver.jdbc.SQLServerDriver\") \\\n",
    "  .option(\"url\", \"jdbc:sqlserver://10.150.72.22:1433;databaseName=precog\") \\\n",
    "  .option(\"dbtable\", \"LateLandingFlapSTG\") \\\n",
    "  .option(\"user\", \"dmbigdata\") \\\n",
    "  .option(\"password\", \"$p!Ce@bigData$db\") \\\n",
    "  .save()"
   ]
  },
  {
   "cell_type": "code",
   "execution_count": 31,
   "id": "703e6b77-9fbe-4b30-a8d8-f53e68a5a435",
   "metadata": {
    "execution": {
     "iopub.execute_input": "2023-01-12T07:39:59.664522Z",
     "iopub.status.busy": "2023-01-12T07:39:59.664288Z",
     "iopub.status.idle": "2023-01-12T07:40:00.419436Z",
     "shell.execute_reply": "2023-01-12T07:40:00.418843Z",
     "shell.execute_reply.started": "2023-01-12T07:39:59.664488Z"
    },
    "tags": []
   },
   "outputs": [
    {
     "data": {
      "application/vnd.jupyter.widget-view+json": {
       "model_id": "48f46b7357b348c180e6181a0c68ca42",
       "version_major": 2,
       "version_minor": 0
      },
      "text/plain": [
       "VBox()"
      ]
     },
     "metadata": {},
     "output_type": "display_data"
    },
    {
     "data": {
      "application/vnd.jupyter.widget-view+json": {
       "model_id": "",
       "version_major": 2,
       "version_minor": 0
      },
      "text/plain": [
       "FloatProgress(value=0.0, bar_style='info', description='Progress:', layout=Layout(height='25px', width='50%'),…"
      ]
     },
     "metadata": {},
     "output_type": "display_data"
    }
   ],
   "source": [
    "spark.stop()"
   ]
  },
  {
   "cell_type": "code",
   "execution_count": null,
   "id": "6312a54e-fd29-4296-a25c-982dd73308c6",
   "metadata": {},
   "outputs": [],
   "source": []
  }
 ],
 "metadata": {
  "kernelspec": {
   "display_name": "PySpark",
   "language": "",
   "name": "pysparkkernel"
  },
  "language_info": {
   "codemirror_mode": {
    "name": "python",
    "version": 3
   },
   "mimetype": "text/x-python",
   "name": "pyspark",
   "pygments_lexer": "python3"
  }
 },
 "nbformat": 4,
 "nbformat_minor": 5
}
