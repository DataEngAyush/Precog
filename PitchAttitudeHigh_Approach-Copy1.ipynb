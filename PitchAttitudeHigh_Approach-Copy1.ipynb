{
 "cells": [
  {
   "cell_type": "code",
   "execution_count": 1,
   "id": "08bc0164-26a2-4e9d-a4c1-dcdea28f78b1",
   "metadata": {
    "execution": {
     "iopub.execute_input": "2023-01-12T09:12:58.078050Z",
     "iopub.status.busy": "2023-01-12T09:12:58.077810Z",
     "iopub.status.idle": "2023-01-12T09:12:58.092033Z",
     "shell.execute_reply": "2023-01-12T09:12:58.091578Z",
     "shell.execute_reply.started": "2023-01-12T09:12:58.078026Z"
    },
    "tags": []
   },
   "outputs": [
    {
     "data": {
      "text/html": [
       "Current session configs: <tt>{'conf': {'spark.jars': 's3://sjet-datamart-bucket/Jars/mssql-jdbc-6.1.0.jre8.jar'}, 'proxyUser': 'user_ayush_vaishnav', 'kind': 'pyspark'}</tt><br>"
      ],
      "text/plain": [
       "<IPython.core.display.HTML object>"
      ]
     },
     "metadata": {},
     "output_type": "display_data"
    },
    {
     "data": {
      "text/html": [
       "No active sessions."
      ],
      "text/plain": [
       "<IPython.core.display.HTML object>"
      ]
     },
     "metadata": {},
     "output_type": "display_data"
    }
   ],
   "source": [
    "%%configure -f\n",
    "{\n",
    "    \"conf\": {\n",
    "        \"spark.jars\": \"s3://sjet-datamart-bucket/Jars/mssql-jdbc-6.1.0.jre8.jar\"        \n",
    "    }\n",
    "}"
   ]
  },
  {
   "cell_type": "code",
   "execution_count": 4,
   "id": "2c7979ec-5676-4064-b5b4-dce81b8ac0c9",
   "metadata": {
    "execution": {
     "iopub.execute_input": "2023-01-12T09:14:12.971405Z",
     "iopub.status.busy": "2023-01-12T09:14:12.971181Z",
     "iopub.status.idle": "2023-01-12T09:14:14.231584Z",
     "shell.execute_reply": "2023-01-12T09:14:14.231054Z",
     "shell.execute_reply.started": "2023-01-12T09:14:12.971381Z"
    },
    "tags": []
   },
   "outputs": [
    {
     "data": {
      "application/vnd.jupyter.widget-view+json": {
       "model_id": "cdfac8e28b404329be3320886959ff0c",
       "version_major": 2,
       "version_minor": 0
      },
      "text/plain": [
       "VBox()"
      ]
     },
     "metadata": {},
     "output_type": "display_data"
    },
    {
     "data": {
      "application/vnd.jupyter.widget-view+json": {
       "model_id": "",
       "version_major": 2,
       "version_minor": 0
      },
      "text/plain": [
       "FloatProgress(value=0.0, bar_style='info', description='Progress:', layout=Layout(height='25px', width='50%'),…"
      ]
     },
     "metadata": {},
     "output_type": "display_data"
    }
   ],
   "source": [
    "UNION_DF = spark.sql('''\n",
    "\n",
    "                        SELECT * FROM precogdb.df5_red_pitch_attitude_high_approach\n",
    "                        where date > '2021-10-31'\n",
    "                        UNION\n",
    "                        SELECT * FROM precogdb.df5_amber_pitch_attitude_high_approach\n",
    "                        where date > '2021-10-31'\n",
    "                        UNION\n",
    "                        SELECT * FROM precogdb.df5_green_pitch_attitude_high_approach\n",
    "                        where flightdate > '2021-10-31'\n",
    "                        \n",
    "                        ''')"
   ]
  },
  {
   "cell_type": "code",
   "execution_count": 5,
   "id": "ca683674-0e5c-4ac8-9815-2650cdb0f3a3",
   "metadata": {
    "execution": {
     "iopub.execute_input": "2023-01-12T09:14:15.087057Z",
     "iopub.status.busy": "2023-01-12T09:14:15.086832Z",
     "iopub.status.idle": "2023-01-12T09:14:15.337965Z",
     "shell.execute_reply": "2023-01-12T09:14:15.337459Z",
     "shell.execute_reply.started": "2023-01-12T09:14:15.087034Z"
    },
    "tags": []
   },
   "outputs": [
    {
     "data": {
      "application/vnd.jupyter.widget-view+json": {
       "model_id": "8a1559e71e1c43cf9939153ef15a8fd5",
       "version_major": 2,
       "version_minor": 0
      },
      "text/plain": [
       "VBox()"
      ]
     },
     "metadata": {},
     "output_type": "display_data"
    },
    {
     "data": {
      "application/vnd.jupyter.widget-view+json": {
       "model_id": "",
       "version_major": 2,
       "version_minor": 0
      },
      "text/plain": [
       "FloatProgress(value=0.0, bar_style='info', description='Progress:', layout=Layout(height='25px', width='50%'),…"
      ]
     },
     "metadata": {},
     "output_type": "display_data"
    }
   ],
   "source": [
    "UNION_DF.createOrReplaceTempView('union_df')"
   ]
  },
  {
   "cell_type": "code",
   "execution_count": 4,
   "id": "843f95c1-629d-4cfc-87b9-69f23a1819b8",
   "metadata": {
    "execution": {
     "iopub.execute_input": "2022-10-14T16:26:37.221673Z",
     "iopub.status.busy": "2022-10-14T16:26:37.221482Z",
     "iopub.status.idle": "2022-10-14T16:26:42.498355Z",
     "shell.execute_reply": "2022-10-14T16:26:42.497779Z",
     "shell.execute_reply.started": "2022-10-14T16:26:37.221651Z"
    }
   },
   "outputs": [
    {
     "data": {
      "application/vnd.jupyter.widget-view+json": {
       "model_id": "c9042de431dc4dff9ae4dda5297dca8c",
       "version_major": 2,
       "version_minor": 0
      },
      "text/plain": [
       "VBox()"
      ]
     },
     "metadata": {},
     "output_type": "display_data"
    },
    {
     "data": {
      "application/vnd.jupyter.widget-view+json": {
       "model_id": "",
       "version_major": 2,
       "version_minor": 0
      },
      "text/plain": [
       "FloatProgress(value=0.0, bar_style='info', description='Progress:', layout=Layout(height='25px', width='50%'),…"
      ]
     },
     "metadata": {},
     "output_type": "display_data"
    }
   ],
   "source": [
    "PilotInfoDF = spark.read.csv('s3://sjet-datamart-bucket/precog/pilot-info/', header=True)"
   ]
  },
  {
   "cell_type": "code",
   "execution_count": 5,
   "id": "cba0758b-926b-409a-89a2-c0bf4ef0e4c0",
   "metadata": {
    "execution": {
     "iopub.execute_input": "2022-10-14T16:26:42.499413Z",
     "iopub.status.busy": "2022-10-14T16:26:42.499252Z",
     "iopub.status.idle": "2022-10-14T16:26:42.544082Z",
     "shell.execute_reply": "2022-10-14T16:26:42.543558Z",
     "shell.execute_reply.started": "2022-10-14T16:26:42.499393Z"
    }
   },
   "outputs": [
    {
     "data": {
      "application/vnd.jupyter.widget-view+json": {
       "model_id": "a694372842114e9d93ca1a2df79c8e92",
       "version_major": 2,
       "version_minor": 0
      },
      "text/plain": [
       "VBox()"
      ]
     },
     "metadata": {},
     "output_type": "display_data"
    },
    {
     "data": {
      "application/vnd.jupyter.widget-view+json": {
       "model_id": "",
       "version_major": 2,
       "version_minor": 0
      },
      "text/plain": [
       "FloatProgress(value=0.0, bar_style='info', description='Progress:', layout=Layout(height='25px', width='50%'),…"
      ]
     },
     "metadata": {},
     "output_type": "display_data"
    }
   ],
   "source": [
    "PilotInfoDF.createOrReplaceTempView('PilotInfoDF')"
   ]
  },
  {
   "cell_type": "code",
   "execution_count": 6,
   "id": "5b9b968f-6bcd-40a7-bbaa-d2d8f379f536",
   "metadata": {
    "execution": {
     "iopub.execute_input": "2023-01-12T09:14:19.587321Z",
     "iopub.status.busy": "2023-01-12T09:14:19.587096Z",
     "iopub.status.idle": "2023-01-12T09:14:19.840186Z",
     "shell.execute_reply": "2023-01-12T09:14:19.839456Z",
     "shell.execute_reply.started": "2023-01-12T09:14:19.587298Z"
    },
    "tags": []
   },
   "outputs": [
    {
     "data": {
      "application/vnd.jupyter.widget-view+json": {
       "model_id": "5c1376752a0a4ef59cf2b9c665046a2a",
       "version_major": 2,
       "version_minor": 0
      },
      "text/plain": [
       "VBox()"
      ]
     },
     "metadata": {},
     "output_type": "display_data"
    },
    {
     "data": {
      "application/vnd.jupyter.widget-view+json": {
       "model_id": "",
       "version_major": 2,
       "version_minor": 0
      },
      "text/plain": [
       "FloatProgress(value=0.0, bar_style='info', description='Progress:', layout=Layout(height='25px', width='50%'),…"
      ]
     },
     "metadata": {},
     "output_type": "display_data"
    }
   ],
   "source": [
    "final_df_df5 = spark.sql('''\n",
    "                            SELECT \n",
    "                            CAST(ud.exceedanceid AS INT),\n",
    "                            ud.exceedance,\n",
    "                            CAST(ud.phaseid AS INT),\n",
    "                            ud.phase,\n",
    "                            ud.ecn,\n",
    "                            ud.employeename,\n",
    "                            ud.rank,\n",
    "                            ud.tailno,\n",
    "                            ud.departure,\n",
    "                            ud.arrival,\n",
    "                            ud.flightno AS FlightNumber,\n",
    "                            ud.date as FLightDate ,\n",
    "                            ud.chocksoff,\n",
    "                            ud.chockson,\n",
    "                            ud.domint,\n",
    "                            CAST(ud.manufacturerid AS INT),\n",
    "                            ud.manufacturer,\n",
    "                            CAST(ud.dataframeid AS INT),\n",
    "                            ud.dataframe,\n",
    "                            ud.aircrafttype,\n",
    "                            ud.aircraftmodel,\n",
    "                            ud.payload,\n",
    "                            ud.blocktime_hrs as `Block time`,\n",
    "                            occurance as occurence,\n",
    "                            CAST(typeid AS INT),\n",
    "                            flag as type,\n",
    "                            CAST(trigger_hours AS DECIMAL(8,2)) AS `Trigger Hours`,\n",
    "                            CAST(occurence_hours AS DECIMAL(8,2)) AS `Occurence Hours`,\n",
    "                            CAST(duration_min AS INT) AS  `Duration(Sec)`,\n",
    "                            CAST(`BARO_COR_ALT` AS INT) AS `BARO COR ALT`,\n",
    "                            CAST(`RADIO_HEIGHT` AS INT) AS `RADIO HEIGHT`,\n",
    "                            CAST(`COMPUTED_AIRSPEED` AS FLOAT) AS `COMPUTED AIRSPEED`,\n",
    "                            CAPT_DISPLAY_PITCH_ATTIUDE AS `CAPT. DISPLAY PITCH ATTIUDE`,\n",
    "                            CAST(`CAPT_DISPLAY_HEADING` AS FLOAT) AS `CAPT. DISPLAY HEADING`,\n",
    "                            CAST(`GROUNDSPEED` AS FLOAT) AS `GROUND SPEED`,\n",
    "                            CAST(`VERTICAL_SPEED` AS INT) AS `VERTICAL SPEED`,\n",
    "                            CAST(`FLAP_HANDLE_POSITION` AS INT) AS `FLAP HANDLE POSITION`,\n",
    "                            CAST(`TORQUE_ENG_L` AS FLOAT) AS `LEFT ENGINE N1 \\ TORQUE ENG L`,\n",
    "                            CAST(`TORQUE_ENG_R` AS FLOAT) AS `RIGHT ENGINE N1 \\ TORQUE ENG R`,\n",
    "                            CAST('' AS INT) AS `VREF SPEED`,\n",
    "                            MAIN_WOW AS `LEFT MAIN GEAR AIR/GND`,\n",
    "                            '' AS `RIGHT MAIN GEAR AIR/GND`,\n",
    "                            loadeddate AS LoadDate,\n",
    "                            filename\n",
    "                    FROM union_df ud\n",
    "                    \n",
    "                ''')"
   ]
  },
  {
   "cell_type": "code",
   "execution_count": 7,
   "id": "9c3f93db-3c3a-4f90-bde1-daecdd4e01ac",
   "metadata": {
    "execution": {
     "iopub.execute_input": "2023-01-12T09:14:25.373562Z",
     "iopub.status.busy": "2023-01-12T09:14:25.373282Z",
     "iopub.status.idle": "2023-01-12T09:14:58.730436Z",
     "shell.execute_reply": "2023-01-12T09:14:58.729920Z",
     "shell.execute_reply.started": "2023-01-12T09:14:25.373529Z"
    },
    "tags": []
   },
   "outputs": [
    {
     "data": {
      "application/vnd.jupyter.widget-view+json": {
       "model_id": "6d33dfc4034a408c848ca0aa38dfa037",
       "version_major": 2,
       "version_minor": 0
      },
      "text/plain": [
       "VBox()"
      ]
     },
     "metadata": {},
     "output_type": "display_data"
    },
    {
     "data": {
      "application/vnd.jupyter.widget-view+json": {
       "model_id": "",
       "version_major": 2,
       "version_minor": 0
      },
      "text/plain": [
       "FloatProgress(value=0.0, bar_style='info', description='Progress:', layout=Layout(height='25px', width='50%'),…"
      ]
     },
     "metadata": {},
     "output_type": "display_data"
    }
   ],
   "source": [
    "final_df_df5 \\\n",
    "  .write \\\n",
    "  .format(\"jdbc\") \\\n",
    "  .mode(\"append\") \\\n",
    "  .option(\"driver\", \"com.microsoft.sqlserver.jdbc.SQLServerDriver\") \\\n",
    "  .option(\"url\", \"jdbc:sqlserver://10.150.72.22:1433;databaseName=precog\") \\\n",
    "  .option(\"dbtable\", \"PitchAttitudeHighSTG\") \\\n",
    "  .option(\"user\", \"dmbigdata\") \\\n",
    "  .option(\"password\", \"$p!Ce@bigData$db\") \\\n",
    "  .save()"
   ]
  },
  {
   "cell_type": "code",
   "execution_count": null,
   "id": "23df047c-b475-4632-b503-88747b74fdaa",
   "metadata": {},
   "outputs": [],
   "source": []
  },
  {
   "cell_type": "code",
   "execution_count": 10,
   "id": "0735d970-8a63-4530-bba4-e36436afb31c",
   "metadata": {
    "execution": {
     "iopub.execute_input": "2023-01-12T09:19:14.023817Z",
     "iopub.status.busy": "2023-01-12T09:19:14.023592Z",
     "iopub.status.idle": "2023-01-12T09:19:15.278871Z",
     "shell.execute_reply": "2023-01-12T09:19:15.278390Z",
     "shell.execute_reply.started": "2023-01-12T09:19:14.023794Z"
    },
    "tags": []
   },
   "outputs": [
    {
     "data": {
      "application/vnd.jupyter.widget-view+json": {
       "model_id": "b84cb033470144a1ad394c7fef131419",
       "version_major": 2,
       "version_minor": 0
      },
      "text/plain": [
       "VBox()"
      ]
     },
     "metadata": {},
     "output_type": "display_data"
    },
    {
     "data": {
      "application/vnd.jupyter.widget-view+json": {
       "model_id": "",
       "version_major": 2,
       "version_minor": 0
      },
      "text/plain": [
       "FloatProgress(value=0.0, bar_style='info', description='Progress:', layout=Layout(height='25px', width='50%'),…"
      ]
     },
     "metadata": {},
     "output_type": "display_data"
    }
   ],
   "source": [
    "UNION_DF_1 = spark.sql('''\n",
    "\n",
    "                        SELECT * FROM precogdb.df6_red_pitch_attitude_high_approach\n",
    "                        where date > '2021-10-31'\n",
    "                        UNION\n",
    "                        SELECT * FROM precogdb.df6_amber_pitch_attitude_high_approach\n",
    "                        where date > '2021-10-31'\n",
    "                        UNION\n",
    "                        SELECT * FROM precogdb.df6_green_pitch_attitude_high_approach\n",
    "                        where flightdate > '2021-10-31'\n",
    "                        \n",
    "                        ''')"
   ]
  },
  {
   "cell_type": "code",
   "execution_count": 11,
   "id": "c6213afc-afef-4d6e-918f-43a2c67abcc3",
   "metadata": {
    "execution": {
     "iopub.execute_input": "2023-01-12T09:19:16.295803Z",
     "iopub.status.busy": "2023-01-12T09:19:16.295580Z",
     "iopub.status.idle": "2023-01-12T09:19:16.551705Z",
     "shell.execute_reply": "2023-01-12T09:19:16.551233Z",
     "shell.execute_reply.started": "2023-01-12T09:19:16.295779Z"
    },
    "tags": []
   },
   "outputs": [
    {
     "data": {
      "application/vnd.jupyter.widget-view+json": {
       "model_id": "909efab141cb43c8b71b71afeec1f870",
       "version_major": 2,
       "version_minor": 0
      },
      "text/plain": [
       "VBox()"
      ]
     },
     "metadata": {},
     "output_type": "display_data"
    },
    {
     "data": {
      "application/vnd.jupyter.widget-view+json": {
       "model_id": "",
       "version_major": 2,
       "version_minor": 0
      },
      "text/plain": [
       "FloatProgress(value=0.0, bar_style='info', description='Progress:', layout=Layout(height='25px', width='50%'),…"
      ]
     },
     "metadata": {},
     "output_type": "display_data"
    }
   ],
   "source": [
    "UNION_DF_1.createOrReplaceTempView('union_df_1')"
   ]
  },
  {
   "cell_type": "code",
   "execution_count": 16,
   "id": "ad65ecd1-5e67-4a82-977e-0b5cb0dfc705",
   "metadata": {
    "execution": {
     "iopub.execute_input": "2023-01-12T09:20:21.202509Z",
     "iopub.status.busy": "2023-01-12T09:20:21.202282Z",
     "iopub.status.idle": "2023-01-12T09:20:21.454815Z",
     "shell.execute_reply": "2023-01-12T09:20:21.454327Z",
     "shell.execute_reply.started": "2023-01-12T09:20:21.202486Z"
    },
    "tags": []
   },
   "outputs": [
    {
     "data": {
      "application/vnd.jupyter.widget-view+json": {
       "model_id": "3cb572af881b4cc7ab5d6e0797015880",
       "version_major": 2,
       "version_minor": 0
      },
      "text/plain": [
       "VBox()"
      ]
     },
     "metadata": {},
     "output_type": "display_data"
    },
    {
     "data": {
      "application/vnd.jupyter.widget-view+json": {
       "model_id": "",
       "version_major": 2,
       "version_minor": 0
      },
      "text/plain": [
       "FloatProgress(value=0.0, bar_style='info', description='Progress:', layout=Layout(height='25px', width='50%'),…"
      ]
     },
     "metadata": {},
     "output_type": "display_data"
    }
   ],
   "source": [
    "final_df_df6 = spark.sql('''\n",
    "                            SELECT \n",
    "                            CAST(ud.exceedanceid AS INT),\n",
    "                            ud.exceedance,\n",
    "                            CAST(ud.phaseid AS INT),\n",
    "                            ud.phase,\n",
    "                            ud.ecn,\n",
    "                            ud.employeename,\n",
    "                            ud.rank,\n",
    "                            ud.tailno,\n",
    "                            ud.departure,\n",
    "                            ud.arrival,\n",
    "                            ud.flightno AS FlightNumber,\n",
    "                            ud.date as FLightDate ,\n",
    "                            ud.chocksoff,\n",
    "                            ud.chockson,\n",
    "                            ud.domint,\n",
    "                            CAST(ud.manufacturerid AS INT),\n",
    "                            ud.manufacturer,\n",
    "                            CAST(ud.dataframeid AS INT),\n",
    "                            ud.dataframe,\n",
    "                            ud.aircrafttype,\n",
    "                            ud.aircraftmodel,\n",
    "                            ud.payload,\n",
    "                            ud.blocktime_hrs as `Block time`,\n",
    "                            occurance as occurence,\n",
    "                            CAST(typeid AS INT),\n",
    "                            flag as type,\n",
    "                            CAST(trigger_hours AS DECIMAL(8,2)) AS `Trigger Hours`,\n",
    "                            CAST(occurence_hours AS DECIMAL(8,2)) AS `Occurence Hours`,\n",
    "                            CAST(duration_min AS INT) AS  `Duration(Sec)`,\n",
    "                            CAST(`BARO_COR_ALT` AS INT) AS `BARO COR ALT`,\n",
    "                            CAST(`RADIO_HEIGHT` AS INT) AS `RADIO HEIGHT`,\n",
    "                            CAST(`COMPUTED_AIRSPEED` AS FLOAT) AS `COMPUTED AIRSPEED`,\n",
    "                            CAPT_DISPLAY_PITCH_ATTIUDE AS `CAPT. DISPLAY PITCH ATTIUDE`,\n",
    "                            CAST(`CAPT_DISPLAY_HEADING` AS FLOAT) AS `CAPT. DISPLAY HEADING`,\n",
    "                            CAST(`GROUNDSPEED` AS FLOAT) AS `GROUND SPEED`,\n",
    "                            CAST(`VERTICAL_SPEED` AS INT) AS `VERTICAL SPEED`,\n",
    "                            CAST(`FLAP_HANDLE_POSITION` AS INT) AS `FLAP HANDLE POSITION`,\n",
    "                            CAST(`TORQUE_ENG_L` AS FLOAT) AS `LEFT ENGINE N1 \\ TORQUE ENG L`,\n",
    "                            CAST(`TORQUE_ENG_R` AS FLOAT) AS `RIGHT ENGINE N1 \\ TORQUE ENG R`,\n",
    "                            CAST('' AS INT) AS `VREF SPEED`,\n",
    "                            WOW_MLG AS `LEFT MAIN GEAR AIR/GND`,\n",
    "                            '' AS `RIGHT MAIN GEAR AIR/GND`,\n",
    "                            loadeddate AS LoadDate,\n",
    "                            filename\n",
    "                    FROM union_df_1 ud\n",
    "                    \n",
    "                ''')"
   ]
  },
  {
   "cell_type": "code",
   "execution_count": 17,
   "id": "e9d71a83-22b8-4aa1-85c9-7291322bfa68",
   "metadata": {
    "execution": {
     "iopub.execute_input": "2023-01-12T09:20:22.069011Z",
     "iopub.status.busy": "2023-01-12T09:20:22.068788Z",
     "iopub.status.idle": "2023-01-12T09:20:51.403174Z",
     "shell.execute_reply": "2023-01-12T09:20:51.402673Z",
     "shell.execute_reply.started": "2023-01-12T09:20:22.068988Z"
    },
    "tags": []
   },
   "outputs": [
    {
     "data": {
      "application/vnd.jupyter.widget-view+json": {
       "model_id": "fff4ebfea4f8471cb91d71e97cbd7502",
       "version_major": 2,
       "version_minor": 0
      },
      "text/plain": [
       "VBox()"
      ]
     },
     "metadata": {},
     "output_type": "display_data"
    },
    {
     "data": {
      "application/vnd.jupyter.widget-view+json": {
       "model_id": "",
       "version_major": 2,
       "version_minor": 0
      },
      "text/plain": [
       "FloatProgress(value=0.0, bar_style='info', description='Progress:', layout=Layout(height='25px', width='50%'),…"
      ]
     },
     "metadata": {},
     "output_type": "display_data"
    }
   ],
   "source": [
    "final_df_df6 \\\n",
    "  .write \\\n",
    "  .format(\"jdbc\") \\\n",
    "  .mode(\"append\") \\\n",
    "  .option(\"driver\", \"com.microsoft.sqlserver.jdbc.SQLServerDriver\") \\\n",
    "  .option(\"url\", \"jdbc:sqlserver://10.150.72.22:1433;databaseName=precog\") \\\n",
    "  .option(\"dbtable\", \"PitchAttitudeHighSTG\") \\\n",
    "  .option(\"user\", \"dmbigdata\") \\\n",
    "  .option(\"password\", \"$p!Ce@bigData$db\") \\\n",
    "  .save()"
   ]
  },
  {
   "cell_type": "raw",
   "id": "4a438a84-f9a3-4689-9c25-d0a55b58fc1f",
   "metadata": {},
   "source": []
  },
  {
   "cell_type": "code",
   "execution_count": 10,
   "id": "703e6b77-9fbe-4b30-a8d8-f53e68a5a435",
   "metadata": {
    "execution": {
     "iopub.execute_input": "2022-12-29T09:03:50.371541Z",
     "iopub.status.busy": "2022-12-29T09:03:50.371306Z",
     "iopub.status.idle": "2022-12-29T09:03:51.125348Z",
     "shell.execute_reply": "2022-12-29T09:03:51.124708Z",
     "shell.execute_reply.started": "2022-12-29T09:03:50.371515Z"
    }
   },
   "outputs": [
    {
     "data": {
      "application/vnd.jupyter.widget-view+json": {
       "model_id": "207cdacadd174cd8b7283a84fb75ef91",
       "version_major": 2,
       "version_minor": 0
      },
      "text/plain": [
       "VBox()"
      ]
     },
     "metadata": {},
     "output_type": "display_data"
    },
    {
     "data": {
      "application/vnd.jupyter.widget-view+json": {
       "model_id": "",
       "version_major": 2,
       "version_minor": 0
      },
      "text/plain": [
       "FloatProgress(value=0.0, bar_style='info', description='Progress:', layout=Layout(height='25px', width='50%'),…"
      ]
     },
     "metadata": {},
     "output_type": "display_data"
    }
   ],
   "source": [
    "spark.stop()"
   ]
  },
  {
   "cell_type": "code",
   "execution_count": null,
   "id": "2ae3ec5f-d28f-41c9-a2cb-278e62ef4061",
   "metadata": {},
   "outputs": [],
   "source": []
  }
 ],
 "metadata": {
  "kernelspec": {
   "display_name": "PySpark",
   "language": "",
   "name": "pysparkkernel"
  },
  "language_info": {
   "codemirror_mode": {
    "name": "python",
    "version": 3
   },
   "mimetype": "text/x-python",
   "name": "pyspark",
   "pygments_lexer": "python3"
  }
 },
 "nbformat": 4,
 "nbformat_minor": 5
}
