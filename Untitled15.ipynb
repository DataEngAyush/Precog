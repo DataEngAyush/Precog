{
 "cells": [
  {
   "cell_type": "code",
   "execution_count": 3,
   "id": "852d85a1-3bb0-4293-9a61-c4436fdc9f39",
   "metadata": {
    "execution": {
     "iopub.execute_input": "2023-01-03T05:00:08.287964Z",
     "iopub.status.busy": "2023-01-03T05:00:08.287744Z",
     "iopub.status.idle": "2023-01-03T05:00:47.857352Z",
     "shell.execute_reply": "2023-01-03T05:00:47.856864Z",
     "shell.execute_reply.started": "2023-01-03T05:00:08.287940Z"
    },
    "tags": []
   },
   "outputs": [
    {
     "data": {
      "application/vnd.jupyter.widget-view+json": {
       "model_id": "05074033f51c4ab780204a7064c60ef9",
       "version_major": 2,
       "version_minor": 0
      },
      "text/plain": [
       "VBox()"
      ]
     },
     "metadata": {},
     "output_type": "display_data"
    },
    {
     "data": {
      "application/vnd.jupyter.widget-view+json": {
       "model_id": "",
       "version_major": 2,
       "version_minor": 0
      },
      "text/plain": [
       "FloatProgress(value=0.0, bar_style='info', description='Progress:', layout=Layout(height='25px', width='50%'),…"
      ]
     },
     "metadata": {},
     "output_type": "display_data"
    }
   ],
   "source": [
    "FlightDataInfo = spark \\\n",
    "        .read \\\n",
    "        .format(\"csv\") \\\n",
    "        .option(\"header\", \"true\") \\\n",
    "        .load('s3://sjet-datamart-bucket/precog/precog-file-info/q400/512-wps/20230101/')\n",
    "\n",
    "FlightDataInfo.select('Year', 'Month').distinct().createOrReplaceTempView('FlightDataInfo')"
   ]
  },
  {
   "cell_type": "code",
   "execution_count": 4,
   "id": "58d4091c-b3cd-4c05-a33f-d40398cd3950",
   "metadata": {
    "execution": {
     "iopub.execute_input": "2023-01-03T05:00:48.737155Z",
     "iopub.status.busy": "2023-01-03T05:00:48.736929Z",
     "iopub.status.idle": "2023-01-03T05:00:54.025705Z",
     "shell.execute_reply": "2023-01-03T05:00:54.025188Z",
     "shell.execute_reply.started": "2023-01-03T05:00:48.737130Z"
    },
    "tags": []
   },
   "outputs": [
    {
     "data": {
      "application/vnd.jupyter.widget-view+json": {
       "model_id": "bad61578602745dbbc1aa8ddeec8492a",
       "version_major": 2,
       "version_minor": 0
      },
      "text/plain": [
       "VBox()"
      ]
     },
     "metadata": {},
     "output_type": "display_data"
    },
    {
     "data": {
      "application/vnd.jupyter.widget-view+json": {
       "model_id": "",
       "version_major": 2,
       "version_minor": 0
      },
      "text/plain": [
       "FloatProgress(value=0.0, bar_style='info', description='Progress:', layout=Layout(height='25px', width='50%'),…"
      ]
     },
     "metadata": {},
     "output_type": "display_data"
    }
   ],
   "source": [
    "PartitionList=spark.sql('''SELECT CONCAT(Year,Month) AS YearMonth  FROM FlightDataInfo''').rdd.flatMap(lambda x: x).collect()"
   ]
  },
  {
   "cell_type": "code",
   "execution_count": 12,
   "id": "cbf5e066-1ca2-4ee7-83a7-f6bf78657851",
   "metadata": {
    "execution": {
     "iopub.execute_input": "2023-01-03T05:23:18.644819Z",
     "iopub.status.busy": "2023-01-03T05:23:18.644601Z",
     "iopub.status.idle": "2023-01-03T05:23:18.693032Z",
     "shell.execute_reply": "2023-01-03T05:23:18.692508Z",
     "shell.execute_reply.started": "2023-01-03T05:23:18.644796Z"
    },
    "tags": []
   },
   "outputs": [
    {
     "data": {
      "application/vnd.jupyter.widget-view+json": {
       "model_id": "d75e009219af402194e4b37cc0f6d468",
       "version_major": 2,
       "version_minor": 0
      },
      "text/plain": [
       "VBox()"
      ]
     },
     "metadata": {},
     "output_type": "display_data"
    },
    {
     "data": {
      "application/vnd.jupyter.widget-view+json": {
       "model_id": "",
       "version_major": 2,
       "version_minor": 0
      },
      "text/plain": [
       "FloatProgress(value=0.0, bar_style='info', description='Progress:', layout=Layout(height='25px', width='50%'),…"
      ]
     },
     "metadata": {},
     "output_type": "display_data"
    },
    {
     "name": "stderr",
     "output_type": "stream",
     "text": [
      "An error was encountered:\n",
      "\n",
      "mismatched input 'IN' expecting {<EOF>, ';'}(line 5, pos 57)\n",
      "\n",
      "== SQL ==\n",
      "\n",
      "\n",
      "                                SELECT   *\n",
      "                                FROM precogdb.q400512wps\n",
      "                                WHERE CONCAT(Year,Month) IN ('2023January',).replace(\",\",\"\")\n",
      "---------------------------------------------------------^^^\n",
      "                                                                    \n",
      "\n",
      "Traceback (most recent call last):\n",
      "  File \"/usr/lib/spark/python/lib/pyspark.zip/pyspark/sql/session.py\", line 723, in sql\n",
      "    return DataFrame(self._jsparkSession.sql(sqlQuery), self._wrapped)\n",
      "  File \"/usr/lib/spark/python/lib/py4j-0.10.9-src.zip/py4j/java_gateway.py\", line 1305, in __call__\n",
      "    answer, self.gateway_client, self.target_id, self.name)\n",
      "  File \"/usr/lib/spark/python/lib/pyspark.zip/pyspark/sql/utils.py\", line 117, in deco\n",
      "    raise converted from None\n",
      "pyspark.sql.utils.ParseException: \n",
      "mismatched input 'IN' expecting {<EOF>, ';'}(line 5, pos 57)\n",
      "\n",
      "== SQL ==\n",
      "\n",
      "\n",
      "                                SELECT   *\n",
      "                                FROM precogdb.q400512wps\n",
      "                                WHERE CONCAT(Year,Month) IN ('2023January',).replace(\",\",\"\")\n",
      "---------------------------------------------------------^^^\n",
      "                                                                    \n",
      "\n",
      "\n"
     ]
    }
   ],
   "source": [
    "ExistingDataDF = spark.sql(f'''\n",
    "\n",
    "                                SELECT   *\n",
    "                                FROM precogdb.q400512wps\n",
    "                                WHERE CONCAT(Year,Month) IN {tuple(PartitionList)}\n",
    "                                                                    ''')"
   ]
  },
  {
   "cell_type": "code",
   "execution_count": null,
   "id": "f0843997-d8b3-4b93-9c5e-366c9b4f03d3",
   "metadata": {},
   "outputs": [],
   "source": []
  }
 ],
 "metadata": {
  "kernelspec": {
   "display_name": "PySpark",
   "language": "",
   "name": "pysparkkernel"
  },
  "language_info": {
   "codemirror_mode": {
    "name": "python",
    "version": 3
   },
   "mimetype": "text/x-python",
   "name": "pyspark",
   "pygments_lexer": "python3"
  }
 },
 "nbformat": 4,
 "nbformat_minor": 5
}
