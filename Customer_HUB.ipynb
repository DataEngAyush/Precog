{
 "cells": [
  {
   "cell_type": "code",
   "execution_count": 2,
   "id": "03790734-05ab-4b50-b86e-e812ed085a7e",
   "metadata": {
    "execution": {
     "iopub.execute_input": "2023-01-24T11:17:54.604967Z",
     "iopub.status.busy": "2023-01-24T11:17:54.604730Z",
     "iopub.status.idle": "2023-01-24T11:18:21.506985Z",
     "shell.execute_reply": "2023-01-24T11:18:21.506479Z",
     "shell.execute_reply.started": "2023-01-24T11:17:54.604940Z"
    },
    "tags": []
   },
   "outputs": [
    {
     "data": {
      "application/vnd.jupyter.widget-view+json": {
       "model_id": "4c010065ba4e4af1930f3bb7a3b0bcda",
       "version_major": 2,
       "version_minor": 0
      },
      "text/plain": [
       "VBox()"
      ]
     },
     "metadata": {},
     "output_type": "display_data"
    },
    {
     "name": "stdout",
     "output_type": "stream",
     "text": [
      "Starting Spark application\n"
     ]
    },
    {
     "data": {
      "text/html": [
       "<table>\n",
       "<tr><th>ID</th><th>YARN Application ID</th><th>Kind</th><th>State</th><th>Spark UI</th><th>Driver log</th><th>Current session?</th></tr><tr><td>0</td><td>application_1674557496153_0002</td><td>pyspark</td><td>idle</td><td><a target=\"_blank\" href=\"http://ip-20-0-4-45.ap-south-1.compute.internal:20888/proxy/application_1674557496153_0002/\" class=\"emr-proxy-link\" emr-resource=\"j-2ACVHXUNCXMUU\n",
       "\" application-id=\"application_1674557496153_0002\">Link</a></td><td><a target=\"_blank\" href=\"http://ip-20-0-4-184.ap-south-1.compute.internal:8042/node/containerlogs/container_1674557496153_0002_01_000001/livy\" >Link</a></td><td>✔</td></tr></table>"
      ],
      "text/plain": [
       "<IPython.core.display.HTML object>"
      ]
     },
     "metadata": {},
     "output_type": "display_data"
    },
    {
     "data": {
      "application/vnd.jupyter.widget-view+json": {
       "model_id": "",
       "version_major": 2,
       "version_minor": 0
      },
      "text/plain": [
       "FloatProgress(value=0.0, bar_style='info', description='Progress:', layout=Layout(height='25px', width='50%'),…"
      ]
     },
     "metadata": {},
     "output_type": "display_data"
    },
    {
     "name": "stdout",
     "output_type": "stream",
     "text": [
      "SparkSession available as 'spark'.\n"
     ]
    },
    {
     "data": {
      "application/vnd.jupyter.widget-view+json": {
       "model_id": "",
       "version_major": 2,
       "version_minor": 0
      },
      "text/plain": [
       "FloatProgress(value=0.0, bar_style='info', description='Progress:', layout=Layout(height='25px', width='50%'),…"
      ]
     },
     "metadata": {},
     "output_type": "display_data"
    }
   ],
   "source": [
    "from pyspark import SparkConf\n",
    "from pyspark import SparkContext\n",
    "from pyspark.sql import SparkSession\n",
    "from pyspark.sql.types import *\n",
    "from pyspark.sql import functions as F\n",
    "import boto3\n",
    "import sys\n",
    "import re\n",
    "from datetime import datetime\n",
    "import configparser"
   ]
  },
  {
   "cell_type": "code",
   "execution_count": 1,
   "id": "611a2f0d-e49d-4e64-bbcf-fe9ccd07e067",
   "metadata": {
    "execution": {
     "iopub.execute_input": "2023-01-24T11:17:52.639678Z",
     "iopub.status.busy": "2023-01-24T11:17:52.639428Z",
     "iopub.status.idle": "2023-01-24T11:17:53.039971Z",
     "shell.execute_reply": "2023-01-24T11:17:53.039360Z",
     "shell.execute_reply.started": "2023-01-24T11:17:52.639652Z"
    },
    "tags": []
   },
   "outputs": [
    {
     "data": {
      "text/html": [
       "Current session configs: <tt>{'conf': {'spark.jars': 's3://sjet-datamart-bucket/Jars/mssql-jdbc-6.1.0.jre8.jar', 'spark.sql.legacy.parquet.int96RebaseModeInWrite': 'CORRECTED'}, 'proxyUser': 'user_ayush_vaishnav', 'kind': 'pyspark'}</tt><br>"
      ],
      "text/plain": [
       "<IPython.core.display.HTML object>"
      ]
     },
     "metadata": {},
     "output_type": "display_data"
    },
    {
     "data": {
      "text/html": [
       "No active sessions."
      ],
      "text/plain": [
       "<IPython.core.display.HTML object>"
      ]
     },
     "metadata": {},
     "output_type": "display_data"
    }
   ],
   "source": [
    "%%configure -f\n",
    "{\n",
    "    \"conf\": {\n",
    "        \"spark.jars\": \"s3://sjet-datamart-bucket/Jars/mssql-jdbc-6.1.0.jre8.jar\",\n",
    "        \"spark.sql.legacy.parquet.int96RebaseModeInWrite\": \"CORRECTED\"\n",
    "    }\n",
    "}"
   ]
  },
  {
   "cell_type": "code",
   "execution_count": 3,
   "id": "d823d62d-4d29-4bfd-ab38-fe2b23258c6a",
   "metadata": {
    "execution": {
     "iopub.execute_input": "2023-01-03T09:58:13.883870Z",
     "iopub.status.busy": "2023-01-03T09:58:13.883708Z",
     "iopub.status.idle": "2023-01-03T09:58:16.147368Z",
     "shell.execute_reply": "2023-01-03T09:58:16.146878Z",
     "shell.execute_reply.started": "2023-01-03T09:58:13.883849Z"
    },
    "tags": []
   },
   "outputs": [
    {
     "data": {
      "application/vnd.jupyter.widget-view+json": {
       "model_id": "2fbafa325db744298d6df4ba411d14d2",
       "version_major": 2,
       "version_minor": 0
      },
      "text/plain": [
       "VBox()"
      ]
     },
     "metadata": {},
     "output_type": "display_data"
    },
    {
     "data": {
      "application/vnd.jupyter.widget-view+json": {
       "model_id": "",
       "version_major": 2,
       "version_minor": 0
      },
      "text/plain": [
       "FloatProgress(value=0.0, bar_style='info', description='Progress:', layout=Layout(height='25px', width='50%'),…"
      ]
     },
     "metadata": {},
     "output_type": "display_data"
    }
   ],
   "source": [
    "CH_Fact = spark.read.format(\"jdbc\")\\\n",
    "        .option(\"url\", \"jdbc:sqlserver://10.150.72.22:1433;databaseName=precog_rnd;\")\\\n",
    "        .option(\"query\",\"SELECT * FROM dbo.CH_FactTable\")\\\n",
    "        .option(\"user\", \"dmbigdata\")\\\n",
    "        .option(\"password\", \"$p!Ce@bigData$db\")\\\n",
    "        .option(\"driver\", \"com.microsoft.sqlserver.jdbc.SQLServerDriver\")\\\n",
    "        .load()"
   ]
  },
  {
   "cell_type": "code",
   "execution_count": 4,
   "id": "a1353b4f-604c-44bf-bca0-315d160660db",
   "metadata": {
    "execution": {
     "iopub.execute_input": "2023-01-03T09:58:16.148423Z",
     "iopub.status.busy": "2023-01-03T09:58:16.148258Z",
     "iopub.status.idle": "2023-01-03T09:58:16.903620Z",
     "shell.execute_reply": "2023-01-03T09:58:16.902787Z",
     "shell.execute_reply.started": "2023-01-03T09:58:16.148402Z"
    },
    "tags": []
   },
   "outputs": [
    {
     "data": {
      "application/vnd.jupyter.widget-view+json": {
       "model_id": "cda1a8c916874182936761a52f2ceb61",
       "version_major": 2,
       "version_minor": 0
      },
      "text/plain": [
       "VBox()"
      ]
     },
     "metadata": {},
     "output_type": "display_data"
    },
    {
     "data": {
      "application/vnd.jupyter.widget-view+json": {
       "model_id": "",
       "version_major": 2,
       "version_minor": 0
      },
      "text/plain": [
       "FloatProgress(value=0.0, bar_style='info', description='Progress:', layout=Layout(height='25px', width='50%'),…"
      ]
     },
     "metadata": {},
     "output_type": "display_data"
    }
   ],
   "source": [
    "CH_Fact.createOrReplaceTempView('CH_Fact')"
   ]
  },
  {
   "cell_type": "code",
   "execution_count": 5,
   "id": "c3143490-c590-48ee-aa67-f9203b317810",
   "metadata": {
    "execution": {
     "iopub.execute_input": "2023-01-03T09:58:16.904718Z",
     "iopub.status.busy": "2023-01-03T09:58:16.904551Z",
     "iopub.status.idle": "2023-01-03T09:58:17.167623Z",
     "shell.execute_reply": "2023-01-03T09:58:17.167098Z",
     "shell.execute_reply.started": "2023-01-03T09:58:16.904697Z"
    },
    "tags": []
   },
   "outputs": [
    {
     "data": {
      "application/vnd.jupyter.widget-view+json": {
       "model_id": "d88544df5b884c1b89878b5b6e3474d8",
       "version_major": 2,
       "version_minor": 0
      },
      "text/plain": [
       "VBox()"
      ]
     },
     "metadata": {},
     "output_type": "display_data"
    },
    {
     "data": {
      "application/vnd.jupyter.widget-view+json": {
       "model_id": "",
       "version_major": 2,
       "version_minor": 0
      },
      "text/plain": [
       "FloatProgress(value=0.0, bar_style='info', description='Progress:', layout=Layout(height='25px', width='50%'),…"
      ]
     },
     "metadata": {},
     "output_type": "display_data"
    }
   ],
   "source": [
    "CH_Fact1 = spark.sql('''\n",
    "\n",
    "SELECT org_uid, count(*) FROM CH_Fact group by org_uid having count(*) > 1\n",
    "\n",
    "''')"
   ]
  },
  {
   "cell_type": "code",
   "execution_count": 6,
   "id": "0920dd16-3ebc-4972-9b9d-83968652218a",
   "metadata": {
    "execution": {
     "iopub.execute_input": "2023-01-03T09:58:17.168736Z",
     "iopub.status.busy": "2023-01-03T09:58:17.168566Z",
     "iopub.status.idle": "2023-01-03T10:04:53.850856Z",
     "shell.execute_reply": "2023-01-03T10:04:53.850370Z",
     "shell.execute_reply.started": "2023-01-03T09:58:17.168715Z"
    },
    "tags": []
   },
   "outputs": [
    {
     "data": {
      "application/vnd.jupyter.widget-view+json": {
       "model_id": "40433daf99be43b9a7469f6176ab2593",
       "version_major": 2,
       "version_minor": 0
      },
      "text/plain": [
       "VBox()"
      ]
     },
     "metadata": {},
     "output_type": "display_data"
    },
    {
     "data": {
      "application/vnd.jupyter.widget-view+json": {
       "model_id": "",
       "version_major": 2,
       "version_minor": 0
      },
      "text/plain": [
       "FloatProgress(value=0.0, bar_style='info', description='Progress:', layout=Layout(height='25px', width='50%'),…"
      ]
     },
     "metadata": {},
     "output_type": "display_data"
    }
   ],
   "source": [
    "CH_Fact1.write.mode('append').csv('s3://sjet-datamart-bucket/22-CustomerHub/test99/', header = True)"
   ]
  },
  {
   "cell_type": "code",
   "execution_count": 5,
   "id": "42f7af8b-71eb-446d-9686-e0bc973502d2",
   "metadata": {
    "execution": {
     "iopub.execute_input": "2023-01-24T11:51:48.450980Z",
     "iopub.status.busy": "2023-01-24T11:51:48.450755Z",
     "iopub.status.idle": "2023-01-24T11:51:49.215620Z",
     "shell.execute_reply": "2023-01-24T11:51:49.215123Z",
     "shell.execute_reply.started": "2023-01-24T11:51:48.450957Z"
    }
   },
   "outputs": [
    {
     "data": {
      "application/vnd.jupyter.widget-view+json": {
       "model_id": "4292c0b4648b41f3a7628bfe6aaee692",
       "version_major": 2,
       "version_minor": 0
      },
      "text/plain": [
       "VBox()"
      ]
     },
     "metadata": {},
     "output_type": "display_data"
    },
    {
     "data": {
      "application/vnd.jupyter.widget-view+json": {
       "model_id": "",
       "version_major": 2,
       "version_minor": 0
      },
      "text/plain": [
       "FloatProgress(value=0.0, bar_style='info', description='Progress:', layout=Layout(height='25px', width='50%'),…"
      ]
     },
     "metadata": {},
     "output_type": "display_data"
    }
   ],
   "source": [
    "ContactProfileHubProcessing = spark.read.format(\"jdbc\")\\\n",
    "        .option(\"url\", \"jdbc:sqlserver://10.150.72.22:1433;databaseName=Loyalty;\")\\\n",
    "        .option(\"query\",\"SELECT * FROM dbo.ContactProfileHubProcessing\")\\\n",
    "        .option(\"user\", \"dmobjects1.prod.etl\")\\\n",
    "        .option(\"password\", \"G>F3e!3vT8w4\")\\\n",
    "        .option(\"driver\", \"com.microsoft.sqlserver.jdbc.SQLServerDriver\")\\\n",
    "        .load()"
   ]
  },
  {
   "cell_type": "code",
   "execution_count": 6,
   "id": "a40fbf29-8ec0-4d1c-a8ea-bd6c7cddef0d",
   "metadata": {
    "execution": {
     "iopub.execute_input": "2023-01-24T11:51:54.471023Z",
     "iopub.status.busy": "2023-01-24T11:51:54.470798Z",
     "iopub.status.idle": "2023-01-24T11:53:12.030019Z",
     "shell.execute_reply": "2023-01-24T11:53:12.029411Z",
     "shell.execute_reply.started": "2023-01-24T11:51:54.470998Z"
    },
    "tags": []
   },
   "outputs": [
    {
     "data": {
      "application/vnd.jupyter.widget-view+json": {
       "model_id": "0636fe4b952a4b0ea327c7874c142731",
       "version_major": 2,
       "version_minor": 0
      },
      "text/plain": [
       "VBox()"
      ]
     },
     "metadata": {},
     "output_type": "display_data"
    },
    {
     "data": {
      "application/vnd.jupyter.widget-view+json": {
       "model_id": "",
       "version_major": 2,
       "version_minor": 0
      },
      "text/plain": [
       "FloatProgress(value=0.0, bar_style='info', description='Progress:', layout=Layout(height='25px', width='50%'),…"
      ]
     },
     "metadata": {},
     "output_type": "display_data"
    }
   ],
   "source": [
    "ContactProfileHubProcessing.write.parquet(\n",
    "                \"s3://sjet-datamart-bucket/22-Loyalty/ContactProfileHubProcessing/\")"
   ]
  },
  {
   "cell_type": "code",
   "execution_count": 14,
   "id": "f125001d-a8fd-4911-bd42-0650361202ef",
   "metadata": {
    "execution": {
     "iopub.execute_input": "2022-11-09T10:16:50.984859Z",
     "iopub.status.busy": "2022-11-09T10:16:50.984502Z",
     "iopub.status.idle": "2022-11-09T10:17:02.641833Z",
     "shell.execute_reply": "2022-11-09T10:17:02.641149Z",
     "shell.execute_reply.started": "2022-11-09T10:16:50.984829Z"
    },
    "tags": []
   },
   "outputs": [
    {
     "data": {
      "application/vnd.jupyter.widget-view+json": {
       "model_id": "0a745957c47c4246944acc30cbfd6f52",
       "version_major": 2,
       "version_minor": 0
      },
      "text/plain": [
       "VBox()"
      ]
     },
     "metadata": {},
     "output_type": "display_data"
    },
    {
     "data": {
      "application/vnd.jupyter.widget-view+json": {
       "model_id": "",
       "version_major": 2,
       "version_minor": 0
      },
      "text/plain": [
       "FloatProgress(value=0.0, bar_style='info', description='Progress:', layout=Layout(height='25px', width='50%'),…"
      ]
     },
     "metadata": {},
     "output_type": "display_data"
    },
    {
     "name": "stdout",
     "output_type": "stream",
     "text": [
      "1464171"
     ]
    }
   ],
   "source": [
    "ContactProfileHubProcessing_Fact.count()"
   ]
  },
  {
   "cell_type": "code",
   "execution_count": 6,
   "id": "5658ab0d-c014-4708-8fdc-6e87c92715cc",
   "metadata": {
    "execution": {
     "iopub.execute_input": "2022-11-10T05:13:55.925278Z",
     "iopub.status.busy": "2022-11-10T05:13:55.925036Z",
     "iopub.status.idle": "2022-11-10T05:13:56.684139Z",
     "shell.execute_reply": "2022-11-10T05:13:56.683594Z",
     "shell.execute_reply.started": "2022-11-10T05:13:55.925253Z"
    },
    "tags": []
   },
   "outputs": [
    {
     "data": {
      "application/vnd.jupyter.widget-view+json": {
       "model_id": "468c3f42ed994784a72bd90602e3d9bd",
       "version_major": 2,
       "version_minor": 0
      },
      "text/plain": [
       "VBox()"
      ]
     },
     "metadata": {},
     "output_type": "display_data"
    },
    {
     "data": {
      "application/vnd.jupyter.widget-view+json": {
       "model_id": "",
       "version_major": 2,
       "version_minor": 0
      },
      "text/plain": [
       "FloatProgress(value=0.0, bar_style='info', description='Progress:', layout=Layout(height='25px', width='50%'),…"
      ]
     },
     "metadata": {},
     "output_type": "display_data"
    }
   ],
   "source": [
    "Member_fact = spark.read.format(\"jdbc\")\\\n",
    "        .option(\"url\", \"jdbc:sqlserver://10.150.72.22:1433;databaseName=Loyalty;\")\\\n",
    "        .option(\"query\",\"SELECT * FROM dbo.Member_fact\")\\\n",
    "        .option(\"user\", \"dmbigdata\")\\\n",
    "        .option(\"password\", \"$p!Ce@bigData$db\")\\\n",
    "        .option(\"driver\", \"com.microsoft.sqlserver.jdbc.SQLServerDriver\")\\\n",
    "        .load()"
   ]
  },
  {
   "cell_type": "code",
   "execution_count": 7,
   "id": "8328dd6e-e671-4ae6-a8be-1922100978ea",
   "metadata": {
    "execution": {
     "iopub.execute_input": "2022-11-10T05:13:57.845898Z",
     "iopub.status.busy": "2022-11-10T05:13:57.845677Z",
     "iopub.status.idle": "2022-11-10T05:15:39.420472Z",
     "shell.execute_reply": "2022-11-10T05:15:39.419909Z",
     "shell.execute_reply.started": "2022-11-10T05:13:57.845876Z"
    }
   },
   "outputs": [
    {
     "data": {
      "application/vnd.jupyter.widget-view+json": {
       "model_id": "381d2a962c3a43caaf3cef6ecf2fee27",
       "version_major": 2,
       "version_minor": 0
      },
      "text/plain": [
       "VBox()"
      ]
     },
     "metadata": {},
     "output_type": "display_data"
    },
    {
     "data": {
      "application/vnd.jupyter.widget-view+json": {
       "model_id": "",
       "version_major": 2,
       "version_minor": 0
      },
      "text/plain": [
       "FloatProgress(value=0.0, bar_style='info', description='Progress:', layout=Layout(height='25px', width='50%'),…"
      ]
     },
     "metadata": {},
     "output_type": "display_data"
    }
   ],
   "source": [
    "Member_fact.write.mode(\"append\").parquet(\n",
    "                \"s3://sjet-datamart-bucket/22-Loyalty/Member_fact/\")"
   ]
  },
  {
   "cell_type": "code",
   "execution_count": 3,
   "id": "f126d011-4f26-4538-9f0d-2f469abb600f",
   "metadata": {
    "execution": {
     "iopub.execute_input": "2023-01-24T11:18:23.861990Z",
     "iopub.status.busy": "2023-01-24T11:18:23.861762Z",
     "iopub.status.idle": "2023-01-24T11:18:26.155673Z",
     "shell.execute_reply": "2023-01-24T11:18:26.155182Z",
     "shell.execute_reply.started": "2023-01-24T11:18:23.861966Z"
    },
    "tags": []
   },
   "outputs": [
    {
     "data": {
      "application/vnd.jupyter.widget-view+json": {
       "model_id": "673966e426fe477490d67536e25174b9",
       "version_major": 2,
       "version_minor": 0
      },
      "text/plain": [
       "VBox()"
      ]
     },
     "metadata": {},
     "output_type": "display_data"
    },
    {
     "data": {
      "application/vnd.jupyter.widget-view+json": {
       "model_id": "",
       "version_major": 2,
       "version_minor": 0
      },
      "text/plain": [
       "FloatProgress(value=0.0, bar_style='info', description='Progress:', layout=Layout(height='25px', width='50%'),…"
      ]
     },
     "metadata": {},
     "output_type": "display_data"
    }
   ],
   "source": [
    "tier_fact = spark.read.format(\"jdbc\")\\\n",
    "        .option(\"url\", \"jdbc:sqlserver://10.150.72.22:1433;databaseName=Loyalty;\")\\\n",
    "        .option(\"query\",\"SELECT * FROM dbo.tier\")\\\n",
    "        .option(\"user\", \"dmbigdata\")\\\n",
    "        .option(\"password\", \"$p!Ce@bigData$db\")\\\n",
    "        .option(\"driver\", \"com.microsoft.sqlserver.jdbc.SQLServerDriver\")\\\n",
    "        .load()"
   ]
  },
  {
   "cell_type": "code",
   "execution_count": 4,
   "id": "ee3dafb5-9f16-4217-9841-b4350be646e4",
   "metadata": {
    "execution": {
     "iopub.execute_input": "2023-01-24T11:19:28.964907Z",
     "iopub.status.busy": "2023-01-24T11:19:28.964678Z",
     "iopub.status.idle": "2023-01-24T11:19:38.453605Z",
     "shell.execute_reply": "2023-01-24T11:19:38.453047Z",
     "shell.execute_reply.started": "2023-01-24T11:19:28.964882Z"
    },
    "tags": []
   },
   "outputs": [
    {
     "data": {
      "application/vnd.jupyter.widget-view+json": {
       "model_id": "bb24393d80ff4207bed58e963b92868c",
       "version_major": 2,
       "version_minor": 0
      },
      "text/plain": [
       "VBox()"
      ]
     },
     "metadata": {},
     "output_type": "display_data"
    },
    {
     "data": {
      "application/vnd.jupyter.widget-view+json": {
       "model_id": "",
       "version_major": 2,
       "version_minor": 0
      },
      "text/plain": [
       "FloatProgress(value=0.0, bar_style='info', description='Progress:', layout=Layout(height='25px', width='50%'),…"
      ]
     },
     "metadata": {},
     "output_type": "display_data"
    }
   ],
   "source": [
    "tier_fact.write.mode(\"append\").parquet(\n",
    "                \"s3://sjet-datamart-bucket/22-Loyalty/tier/\")"
   ]
  },
  {
   "cell_type": "code",
   "execution_count": 8,
   "id": "c5250a70-d347-4c57-8259-49519d46c087",
   "metadata": {
    "execution": {
     "iopub.execute_input": "2022-11-10T05:16:44.127363Z",
     "iopub.status.busy": "2022-11-10T05:16:44.127110Z",
     "iopub.status.idle": "2022-11-10T05:16:44.885255Z",
     "shell.execute_reply": "2022-11-10T05:16:44.884762Z",
     "shell.execute_reply.started": "2022-11-10T05:16:44.127339Z"
    },
    "tags": []
   },
   "outputs": [
    {
     "data": {
      "application/vnd.jupyter.widget-view+json": {
       "model_id": "209a055b650d4a238c609fca3fd2a442",
       "version_major": 2,
       "version_minor": 0
      },
      "text/plain": [
       "VBox()"
      ]
     },
     "metadata": {},
     "output_type": "display_data"
    },
    {
     "data": {
      "application/vnd.jupyter.widget-view+json": {
       "model_id": "",
       "version_major": 2,
       "version_minor": 0
      },
      "text/plain": [
       "FloatProgress(value=0.0, bar_style='info', description='Progress:', layout=Layout(height='25px', width='50%'),…"
      ]
     },
     "metadata": {},
     "output_type": "display_data"
    }
   ],
   "source": [
    "points_fact = spark.read.format(\"jdbc\")\\\n",
    "        .option(\"url\", \"jdbc:sqlserver://10.150.72.22:1433;databaseName=Loyalty;\")\\\n",
    "        .option(\"query\",\"SELECT * FROM dbo.points_fact\")\\\n",
    "        .option(\"user\", \"dmbigdata\")\\\n",
    "        .option(\"password\", \"$p!Ce@bigData$db\")\\\n",
    "        .option(\"driver\", \"com.microsoft.sqlserver.jdbc.SQLServerDriver\")\\\n",
    "        .load()"
   ]
  },
  {
   "cell_type": "code",
   "execution_count": 9,
   "id": "db596b5e-90d8-4b93-aec2-cc87327b3849",
   "metadata": {
    "execution": {
     "iopub.execute_input": "2022-11-10T05:17:08.909915Z",
     "iopub.status.busy": "2022-11-10T05:17:08.909696Z",
     "iopub.status.idle": "2022-11-10T05:18:20.379877Z",
     "shell.execute_reply": "2022-11-10T05:18:20.379275Z",
     "shell.execute_reply.started": "2022-11-10T05:17:08.909893Z"
    }
   },
   "outputs": [
    {
     "data": {
      "application/vnd.jupyter.widget-view+json": {
       "model_id": "0966fe7d87124865b6029dc6fc6e8a02",
       "version_major": 2,
       "version_minor": 0
      },
      "text/plain": [
       "VBox()"
      ]
     },
     "metadata": {},
     "output_type": "display_data"
    },
    {
     "data": {
      "application/vnd.jupyter.widget-view+json": {
       "model_id": "",
       "version_major": 2,
       "version_minor": 0
      },
      "text/plain": [
       "FloatProgress(value=0.0, bar_style='info', description='Progress:', layout=Layout(height='25px', width='50%'),…"
      ]
     },
     "metadata": {},
     "output_type": "display_data"
    }
   ],
   "source": [
    "points_fact.write.mode(\"append\").parquet(\n",
    "                \"s3://sjet-datamart-bucket/22-Loyalty/points_fact/\")"
   ]
  },
  {
   "cell_type": "code",
   "execution_count": 10,
   "id": "1d910941-ffad-417a-a407-aa7dd9c87a1a",
   "metadata": {
    "execution": {
     "iopub.execute_input": "2022-11-10T05:21:05.959839Z",
     "iopub.status.busy": "2022-11-10T05:21:05.959617Z",
     "iopub.status.idle": "2022-11-10T05:21:06.712794Z",
     "shell.execute_reply": "2022-11-10T05:21:06.712283Z",
     "shell.execute_reply.started": "2022-11-10T05:21:05.959817Z"
    },
    "tags": []
   },
   "outputs": [
    {
     "data": {
      "application/vnd.jupyter.widget-view+json": {
       "model_id": "4e3979f7a7a04c3b95eb0c7464796d17",
       "version_major": 2,
       "version_minor": 0
      },
      "text/plain": [
       "VBox()"
      ]
     },
     "metadata": {},
     "output_type": "display_data"
    },
    {
     "data": {
      "application/vnd.jupyter.widget-view+json": {
       "model_id": "",
       "version_major": 2,
       "version_minor": 0
      },
      "text/plain": [
       "FloatProgress(value=0.0, bar_style='info', description='Progress:', layout=Layout(height='25px', width='50%'),…"
      ]
     },
     "metadata": {},
     "output_type": "display_data"
    }
   ],
   "source": [
    "memberredemption_fact = spark.read.format(\"jdbc\")\\\n",
    "        .option(\"url\", \"jdbc:sqlserver://10.150.72.22:1433;databaseName=Loyalty;\")\\\n",
    "        .option(\"query\",\"SELECT * FROM dbo.memberredemption_fact\")\\\n",
    "        .option(\"user\", \"dmbigdata\")\\\n",
    "        .option(\"password\", \"$p!Ce@bigData$db\")\\\n",
    "        .option(\"driver\", \"com.microsoft.sqlserver.jdbc.SQLServerDriver\")\\\n",
    "        .load()"
   ]
  },
  {
   "cell_type": "code",
   "execution_count": 11,
   "id": "dad189b2-5d1e-4b87-a2af-90a5a3024fa9",
   "metadata": {
    "execution": {
     "iopub.execute_input": "2022-11-10T05:21:07.866452Z",
     "iopub.status.busy": "2022-11-10T05:21:07.866235Z",
     "iopub.status.idle": "2022-11-10T05:21:19.160334Z",
     "shell.execute_reply": "2022-11-10T05:21:19.159713Z",
     "shell.execute_reply.started": "2022-11-10T05:21:07.866430Z"
    }
   },
   "outputs": [
    {
     "data": {
      "application/vnd.jupyter.widget-view+json": {
       "model_id": "04186663f67e4280acebc7ea010819fd",
       "version_major": 2,
       "version_minor": 0
      },
      "text/plain": [
       "VBox()"
      ]
     },
     "metadata": {},
     "output_type": "display_data"
    },
    {
     "data": {
      "application/vnd.jupyter.widget-view+json": {
       "model_id": "",
       "version_major": 2,
       "version_minor": 0
      },
      "text/plain": [
       "FloatProgress(value=0.0, bar_style='info', description='Progress:', layout=Layout(height='25px', width='50%'),…"
      ]
     },
     "metadata": {},
     "output_type": "display_data"
    }
   ],
   "source": [
    "memberredemption_fact.write.mode(\"append\").parquet(\n",
    "                \"s3://sjet-datamart-bucket/22-Loyalty/memberredemption_fact/\")"
   ]
  },
  {
   "cell_type": "code",
   "execution_count": 13,
   "id": "764cb7fc-0b9b-4c4a-91fe-c66dc27c7619",
   "metadata": {
    "execution": {
     "iopub.execute_input": "2022-11-10T05:24:12.861206Z",
     "iopub.status.busy": "2022-11-10T05:24:12.860957Z",
     "iopub.status.idle": "2022-11-10T05:24:13.619231Z",
     "shell.execute_reply": "2022-11-10T05:24:13.618748Z",
     "shell.execute_reply.started": "2022-11-10T05:24:12.861182Z"
    },
    "tags": []
   },
   "outputs": [
    {
     "data": {
      "application/vnd.jupyter.widget-view+json": {
       "model_id": "e8dbd71f9bf348e0829823dfe0eeeaee",
       "version_major": 2,
       "version_minor": 0
      },
      "text/plain": [
       "VBox()"
      ]
     },
     "metadata": {},
     "output_type": "display_data"
    },
    {
     "data": {
      "application/vnd.jupyter.widget-view+json": {
       "model_id": "",
       "version_major": 2,
       "version_minor": 0
      },
      "text/plain": [
       "FloatProgress(value=0.0, bar_style='info', description='Progress:', layout=Layout(height='25px', width='50%'),…"
      ]
     },
     "metadata": {},
     "output_type": "display_data"
    }
   ],
   "source": [
    "CustomerMatchMerge_SFLTYRW_PAX = spark.read.format(\"jdbc\")\\\n",
    "        .option(\"url\", \"jdbc:sqlserver://10.150.72.22:1433;databaseName=CustomerHub;\")\\\n",
    "        .option(\"query\",\"SELECT * FROM dbo.CustomerMatchMerge_SFLTYRW_PAX\")\\\n",
    "        .option(\"user\", \"dmbigdata\")\\\n",
    "        .option(\"password\", \"$p!Ce@bigData$db\")\\\n",
    "        .option(\"driver\", \"com.microsoft.sqlserver.jdbc.SQLServerDriver\")\\\n",
    "        .load()"
   ]
  },
  {
   "cell_type": "code",
   "execution_count": 14,
   "id": "7cde0fc8-f279-4df6-9c27-87b28dac511f",
   "metadata": {
    "execution": {
     "iopub.execute_input": "2022-11-10T05:24:14.716199Z",
     "iopub.status.busy": "2022-11-10T05:24:14.715982Z",
     "iopub.status.idle": "2022-11-10T05:26:28.356618Z",
     "shell.execute_reply": "2022-11-10T05:26:28.356106Z",
     "shell.execute_reply.started": "2022-11-10T05:24:14.716178Z"
    },
    "tags": []
   },
   "outputs": [
    {
     "data": {
      "application/vnd.jupyter.widget-view+json": {
       "model_id": "39764adef232496c84e2a66b163ad81b",
       "version_major": 2,
       "version_minor": 0
      },
      "text/plain": [
       "VBox()"
      ]
     },
     "metadata": {},
     "output_type": "display_data"
    },
    {
     "data": {
      "application/vnd.jupyter.widget-view+json": {
       "model_id": "",
       "version_major": 2,
       "version_minor": 0
      },
      "text/plain": [
       "FloatProgress(value=0.0, bar_style='info', description='Progress:', layout=Layout(height='25px', width='50%'),…"
      ]
     },
     "metadata": {},
     "output_type": "display_data"
    }
   ],
   "source": [
    "CustomerMatchMerge_SFLTYRW_PAX.write.mode(\"append\").parquet(\n",
    "                \"s3://sjet-datamart-bucket/22-CustomerHub/CustomerMatchMerge_SFLTYRW_PAX/\")"
   ]
  },
  {
   "cell_type": "code",
   "execution_count": 10,
   "id": "fa91e45a-ff64-43b1-9c94-da4f2767c79d",
   "metadata": {
    "execution": {
     "iopub.execute_input": "2022-11-10T07:33:43.561016Z",
     "iopub.status.busy": "2022-11-10T07:33:43.560793Z",
     "iopub.status.idle": "2022-11-10T07:33:44.307875Z",
     "shell.execute_reply": "2022-11-10T07:33:44.307365Z",
     "shell.execute_reply.started": "2022-11-10T07:33:43.560992Z"
    },
    "tags": []
   },
   "outputs": [
    {
     "data": {
      "application/vnd.jupyter.widget-view+json": {
       "model_id": "9df0d95d236548fd93504099fc9c812f",
       "version_major": 2,
       "version_minor": 0
      },
      "text/plain": [
       "VBox()"
      ]
     },
     "metadata": {},
     "output_type": "display_data"
    },
    {
     "data": {
      "application/vnd.jupyter.widget-view+json": {
       "model_id": "",
       "version_major": 2,
       "version_minor": 0
      },
      "text/plain": [
       "FloatProgress(value=0.0, bar_style='info', description='Progress:', layout=Layout(height='25px', width='50%'),…"
      ]
     },
     "metadata": {},
     "output_type": "display_data"
    }
   ],
   "source": [
    "GoldenRecordISPINC_fact = spark.read.format(\"jdbc\")\\\n",
    "        .option(\"url\", \"jdbc:sqlserver://10.150.72.22:1433;databaseName=CustomerHub;\")\\\n",
    "        .option(\"query\",\"SELECT * FROM dbo.GoldenRecordISPINC_fact where AlternateKey between '108260381' and '120289311' \")\\\n",
    "        .option(\"user\", \"dmbigdata\")\\\n",
    "        .option(\"password\", \"$p!Ce@bigData$db\")\\\n",
    "        .option(\"driver\", \"com.microsoft.sqlserver.jdbc.SQLServerDriver\")\\\n",
    "        .load()"
   ]
  },
  {
   "cell_type": "code",
   "execution_count": 11,
   "id": "2909281b-7c7a-4243-8570-34e4b419b47d",
   "metadata": {
    "execution": {
     "iopub.execute_input": "2022-11-10T07:33:45.498651Z",
     "iopub.status.busy": "2022-11-10T07:33:45.498408Z",
     "iopub.status.idle": "2022-11-10T07:49:12.905514Z",
     "shell.execute_reply": "2022-11-10T07:49:12.905023Z",
     "shell.execute_reply.started": "2022-11-10T07:33:45.498627Z"
    },
    "tags": []
   },
   "outputs": [
    {
     "data": {
      "application/vnd.jupyter.widget-view+json": {
       "model_id": "613e997ff0d94e259902d1fe6c3fdb9e",
       "version_major": 2,
       "version_minor": 0
      },
      "text/plain": [
       "VBox()"
      ]
     },
     "metadata": {},
     "output_type": "display_data"
    },
    {
     "data": {
      "application/vnd.jupyter.widget-view+json": {
       "model_id": "",
       "version_major": 2,
       "version_minor": 0
      },
      "text/plain": [
       "FloatProgress(value=0.0, bar_style='info', description='Progress:', layout=Layout(height='25px', width='50%'),…"
      ]
     },
     "metadata": {},
     "output_type": "display_data"
    }
   ],
   "source": [
    "GoldenRecordISPINC_fact.write.mode(\"append\").parquet(\n",
    "                \"s3://sjet-datamart-bucket/22-CustomerHub/GoldenRecordISPINC_fact/\")"
   ]
  },
  {
   "cell_type": "code",
   "execution_count": 21,
   "id": "e775d482-dd49-4a96-abc8-ef3130a157d7",
   "metadata": {
    "execution": {
     "iopub.execute_input": "2022-11-09T10:34:33.041302Z",
     "iopub.status.busy": "2022-11-09T10:34:33.041076Z",
     "iopub.status.idle": "2022-11-09T10:34:33.819949Z",
     "shell.execute_reply": "2022-11-09T10:34:33.819201Z",
     "shell.execute_reply.started": "2022-11-09T10:34:33.041280Z"
    }
   },
   "outputs": [
    {
     "data": {
      "application/vnd.jupyter.widget-view+json": {
       "model_id": "2802ed65c675456399e67a22d24bf8e8",
       "version_major": 2,
       "version_minor": 0
      },
      "text/plain": [
       "VBox()"
      ]
     },
     "metadata": {},
     "output_type": "display_data"
    },
    {
     "data": {
      "application/vnd.jupyter.widget-view+json": {
       "model_id": "",
       "version_major": 2,
       "version_minor": 0
      },
      "text/plain": [
       "FloatProgress(value=0.0, bar_style='info', description='Progress:', layout=Layout(height='25px', width='50%'),…"
      ]
     },
     "metadata": {},
     "output_type": "display_data"
    }
   ],
   "source": [
    "GoldenRecordISPINC_fact_Split1 = spark.read.format(\"jdbc\")\\\n",
    "        .option(\"url\", \"jdbc:sqlserver://10.150.72.22:1433;databaseName=CustomerHub;\")\\\n",
    "        .option(\"query\",\"SELECT * FROM dbo.GoldenRecordISPINC_fact_Split1\")\\\n",
    "        .option(\"user\", \"dmbigdata\")\\\n",
    "        .option(\"password\", \"$p!Ce@bigData$db\")\\\n",
    "        .option(\"driver\", \"com.microsoft.sqlserver.jdbc.SQLServerDriver\")\\\n",
    "        .load()"
   ]
  },
  {
   "cell_type": "code",
   "execution_count": 44,
   "id": "ee5a5d8a-60ab-4524-bc2e-99058fe5a694",
   "metadata": {
    "execution": {
     "iopub.execute_input": "2022-11-12T12:06:56.786539Z",
     "iopub.status.busy": "2022-11-12T12:06:56.786313Z",
     "iopub.status.idle": "2022-11-12T12:06:57.538234Z",
     "shell.execute_reply": "2022-11-12T12:06:57.537714Z",
     "shell.execute_reply.started": "2022-11-12T12:06:56.786516Z"
    },
    "tags": []
   },
   "outputs": [
    {
     "data": {
      "application/vnd.jupyter.widget-view+json": {
       "model_id": "0ee59c00c3b8418daee3216eac345e0e",
       "version_major": 2,
       "version_minor": 0
      },
      "text/plain": [
       "VBox()"
      ]
     },
     "metadata": {},
     "output_type": "display_data"
    },
    {
     "data": {
      "application/vnd.jupyter.widget-view+json": {
       "model_id": "",
       "version_major": 2,
       "version_minor": 0
      },
      "text/plain": [
       "FloatProgress(value=0.0, bar_style='info', description='Progress:', layout=Layout(height='25px', width='50%'),…"
      ]
     },
     "metadata": {},
     "output_type": "display_data"
    }
   ],
   "source": [
    "PassengerFee = spark.read.format(\"jdbc\")\\\n",
    "        .option(\"url\", \"jdbc:sqlserver://10.150.72.22:1433;databaseName=CustomerHub;\")\\\n",
    "        .option(\"query\",\"SELECT * FROM dbo.passengerfee_Split1 where rownumber between '90042961' and '100429599' \")\\\n",
    "        .option(\"user\", \"dmbigdata\")\\\n",
    "        .option(\"password\", \"$p!Ce@bigData$db\")\\\n",
    "        .option(\"driver\", \"com.microsoft.sqlserver.jdbc.SQLServerDriver\")\\\n",
    "        .load()"
   ]
  },
  {
   "cell_type": "code",
   "execution_count": 45,
   "id": "86231723-adcd-4aa7-a0dc-219805e947bc",
   "metadata": {
    "execution": {
     "iopub.execute_input": "2022-11-12T12:06:57.986515Z",
     "iopub.status.busy": "2022-11-12T12:06:57.986269Z",
     "iopub.status.idle": "2022-11-12T12:09:33.596159Z",
     "shell.execute_reply": "2022-11-12T12:09:33.595658Z",
     "shell.execute_reply.started": "2022-11-12T12:06:57.986492Z"
    },
    "tags": []
   },
   "outputs": [
    {
     "data": {
      "application/vnd.jupyter.widget-view+json": {
       "model_id": "a37d58be1bbd4adcbc2a4c5cb4409700",
       "version_major": 2,
       "version_minor": 0
      },
      "text/plain": [
       "VBox()"
      ]
     },
     "metadata": {},
     "output_type": "display_data"
    },
    {
     "data": {
      "application/vnd.jupyter.widget-view+json": {
       "model_id": "",
       "version_major": 2,
       "version_minor": 0
      },
      "text/plain": [
       "FloatProgress(value=0.0, bar_style='info', description='Progress:', layout=Layout(height='25px', width='50%'),…"
      ]
     },
     "metadata": {},
     "output_type": "display_data"
    }
   ],
   "source": [
    "PassengerFee.write.mode(\"append\").parquet(\n",
    "                \"s3://sjet-datamart-bucket/22-SpicejetDataMart/PassengerFee/\")"
   ]
  },
  {
   "cell_type": "code",
   "execution_count": 3,
   "id": "a79d2bb3-9ec3-46e1-a87b-70cfec943f18",
   "metadata": {
    "execution": {
     "iopub.execute_input": "2022-11-11T05:30:22.970639Z",
     "iopub.status.busy": "2022-11-11T05:30:22.970413Z",
     "iopub.status.idle": "2022-11-11T05:30:25.235653Z",
     "shell.execute_reply": "2022-11-11T05:30:25.235176Z",
     "shell.execute_reply.started": "2022-11-11T05:30:22.970615Z"
    },
    "tags": []
   },
   "outputs": [
    {
     "data": {
      "application/vnd.jupyter.widget-view+json": {
       "model_id": "066b5f9ee98148ddad712b4b05cf007e",
       "version_major": 2,
       "version_minor": 0
      },
      "text/plain": [
       "VBox()"
      ]
     },
     "metadata": {},
     "output_type": "display_data"
    },
    {
     "data": {
      "application/vnd.jupyter.widget-view+json": {
       "model_id": "",
       "version_major": 2,
       "version_minor": 0
      },
      "text/plain": [
       "FloatProgress(value=0.0, bar_style='info', description='Progress:', layout=Layout(height='25px', width='50%'),…"
      ]
     },
     "metadata": {},
     "output_type": "display_data"
    }
   ],
   "source": [
    "AncillaryRevenueChargeCodes = spark.read.format(\"jdbc\")\\\n",
    "        .option(\"url\", \"jdbc:sqlserver://10.150.72.22:1433;databaseName=SpicejetDataMart;\")\\\n",
    "        .option(\"query\",\"SELECT * FROM dbo.AncillaryRevenueChargeCodes\")\\\n",
    "        .option(\"user\", \"dmbigdata\")\\\n",
    "        .option(\"password\", \"$p!Ce@bigData$db\")\\\n",
    "        .option(\"driver\", \"com.microsoft.sqlserver.jdbc.SQLServerDriver\")\\\n",
    "        .load()"
   ]
  },
  {
   "cell_type": "code",
   "execution_count": 4,
   "id": "ca2bca44-0824-4997-bcec-a976e49f2550",
   "metadata": {
    "execution": {
     "iopub.execute_input": "2022-11-11T05:30:25.236692Z",
     "iopub.status.busy": "2022-11-11T05:30:25.236530Z",
     "iopub.status.idle": "2022-11-11T05:30:30.661125Z",
     "shell.execute_reply": "2022-11-11T05:30:30.660559Z",
     "shell.execute_reply.started": "2022-11-11T05:30:25.236672Z"
    }
   },
   "outputs": [
    {
     "data": {
      "application/vnd.jupyter.widget-view+json": {
       "model_id": "7220ddad910d44669f5761b41b4724e3",
       "version_major": 2,
       "version_minor": 0
      },
      "text/plain": [
       "VBox()"
      ]
     },
     "metadata": {},
     "output_type": "display_data"
    },
    {
     "data": {
      "application/vnd.jupyter.widget-view+json": {
       "model_id": "",
       "version_major": 2,
       "version_minor": 0
      },
      "text/plain": [
       "FloatProgress(value=0.0, bar_style='info', description='Progress:', layout=Layout(height='25px', width='50%'),…"
      ]
     },
     "metadata": {},
     "output_type": "display_data"
    }
   ],
   "source": [
    "AncillaryRevenueChargeCodes.write.parquet(\n",
    "                \"s3://sjet-datamart-bucket/22-SpicejetDataMart/AncillaryRevenueChargeCodes/\")"
   ]
  },
  {
   "cell_type": "code",
   "execution_count": 3,
   "id": "1ca31cd0-8195-4918-86a7-82c07f305b61",
   "metadata": {
    "execution": {
     "iopub.execute_input": "2022-11-17T06:09:54.469887Z",
     "iopub.status.busy": "2022-11-17T06:09:54.469724Z",
     "iopub.status.idle": "2022-11-17T06:09:56.733558Z",
     "shell.execute_reply": "2022-11-17T06:09:56.733076Z",
     "shell.execute_reply.started": "2022-11-17T06:09:54.469866Z"
    }
   },
   "outputs": [
    {
     "data": {
      "application/vnd.jupyter.widget-view+json": {
       "model_id": "90d8d18774594e89ae0d89f634d5876b",
       "version_major": 2,
       "version_minor": 0
      },
      "text/plain": [
       "VBox()"
      ]
     },
     "metadata": {},
     "output_type": "display_data"
    },
    {
     "data": {
      "application/vnd.jupyter.widget-view+json": {
       "model_id": "",
       "version_major": 2,
       "version_minor": 0
      },
      "text/plain": [
       "FloatProgress(value=0.0, bar_style='info', description='Progress:', layout=Layout(height='25px', width='50%'),…"
      ]
     },
     "metadata": {},
     "output_type": "display_data"
    }
   ],
   "source": [
    "DimDate = spark.read.format(\"jdbc\")\\\n",
    "        .option(\"url\", \"jdbc:sqlserver://10.150.72.22:1433;databaseName=SpicejetDataMart;\")\\\n",
    "        .option(\"query\",\"SELECT * FROM dbo.DimDate\")\\\n",
    "        .option(\"user\", \"dmbigdata\")\\\n",
    "        .option(\"password\", \"$p!Ce@bigData$db\")\\\n",
    "        .option(\"driver\", \"com.microsoft.sqlserver.jdbc.SQLServerDriver\")\\\n",
    "        .load()"
   ]
  },
  {
   "cell_type": "code",
   "execution_count": 5,
   "id": "e10d4c23-6761-4feb-ad65-8c8c67a0a8ba",
   "metadata": {
    "execution": {
     "iopub.execute_input": "2022-11-17T06:10:19.877842Z",
     "iopub.status.busy": "2022-11-17T06:10:19.877613Z",
     "iopub.status.idle": "2022-11-17T06:10:27.337137Z",
     "shell.execute_reply": "2022-11-17T06:10:27.336625Z",
     "shell.execute_reply.started": "2022-11-17T06:10:19.877818Z"
    },
    "tags": []
   },
   "outputs": [
    {
     "data": {
      "application/vnd.jupyter.widget-view+json": {
       "model_id": "8f67e5ce805b4e9c806ee1172ec282e4",
       "version_major": 2,
       "version_minor": 0
      },
      "text/plain": [
       "VBox()"
      ]
     },
     "metadata": {},
     "output_type": "display_data"
    },
    {
     "data": {
      "application/vnd.jupyter.widget-view+json": {
       "model_id": "",
       "version_major": 2,
       "version_minor": 0
      },
      "text/plain": [
       "FloatProgress(value=0.0, bar_style='info', description='Progress:', layout=Layout(height='25px', width='50%'),…"
      ]
     },
     "metadata": {},
     "output_type": "display_data"
    }
   ],
   "source": [
    "DimDate.write.parquet(\n",
    "                \"s3://sjet-datamart-bucket/22-SpicejetDataMart/DimDate/\")"
   ]
  },
  {
   "cell_type": "code",
   "execution_count": 6,
   "id": "e5fe0541-6cdb-47e5-8005-7f639a93f584",
   "metadata": {
    "execution": {
     "iopub.execute_input": "2022-11-17T06:15:42.610707Z",
     "iopub.status.busy": "2022-11-17T06:15:42.610471Z",
     "iopub.status.idle": "2022-11-17T06:15:43.363977Z",
     "shell.execute_reply": "2022-11-17T06:15:43.363487Z",
     "shell.execute_reply.started": "2022-11-17T06:15:42.610680Z"
    }
   },
   "outputs": [
    {
     "data": {
      "application/vnd.jupyter.widget-view+json": {
       "model_id": "021b70afddc94f1eb328c6e5704a9af7",
       "version_major": 2,
       "version_minor": 0
      },
      "text/plain": [
       "VBox()"
      ]
     },
     "metadata": {},
     "output_type": "display_data"
    },
    {
     "data": {
      "application/vnd.jupyter.widget-view+json": {
       "model_id": "",
       "version_major": 2,
       "version_minor": 0
      },
      "text/plain": [
       "FloatProgress(value=0.0, bar_style='info', description='Progress:', layout=Layout(height='25px', width='50%'),…"
      ]
     },
     "metadata": {},
     "output_type": "display_data"
    }
   ],
   "source": [
    "spark.stop()"
   ]
  },
  {
   "cell_type": "code",
   "execution_count": 24,
   "id": "e1b3145b-c775-48cf-9464-c72cab7e6510",
   "metadata": {
    "execution": {
     "iopub.execute_input": "2022-11-09T10:44:14.955142Z",
     "iopub.status.busy": "2022-11-09T10:44:14.954815Z",
     "iopub.status.idle": "2022-11-09T10:46:36.712154Z",
     "shell.execute_reply": "2022-11-09T10:46:36.711453Z",
     "shell.execute_reply.started": "2022-11-09T10:44:14.955101Z"
    }
   },
   "outputs": [
    {
     "data": {
      "application/vnd.jupyter.widget-view+json": {
       "model_id": "f98084d0ab384979b5959cf61b9ff64d",
       "version_major": 2,
       "version_minor": 0
      },
      "text/plain": [
       "VBox()"
      ]
     },
     "metadata": {},
     "output_type": "display_data"
    },
    {
     "data": {
      "application/vnd.jupyter.widget-view+json": {
       "model_id": "",
       "version_major": 2,
       "version_minor": 0
      },
      "text/plain": [
       "FloatProgress(value=0.0, bar_style='info', description='Progress:', layout=Layout(height='25px', width='50%'),…"
      ]
     },
     "metadata": {},
     "output_type": "display_data"
    },
    {
     "name": "stdout",
     "output_type": "stream",
     "text": [
      "+--------------+--------------------+--------------------+--------------------+--------------------+----------+---------+--------------------+---------+------+--------------------+-----------+--------------+--------------------+-----------+\n",
      "|MemberNumberID|          MemberName|             EmailId| LoadDateSourceTable|           FirstName|MiddleName| LastName|                 UID|IsMatched|Source|            FileName|ISPROCESSED|PROCESSINGDATE|            LoadDate|Passengerid|\n",
      "+--------------+--------------------+--------------------+--------------------+--------------------+----------+---------+--------------------+---------+------+--------------------+-----------+--------------+--------------------+-----------+\n",
      "|  916006349129|         SACHINGUPTA|GUPTA8803006072@G...|2022-08-09 11:06:...|              Sachin|          |    Gupta|16440040032100238394|        0| SFLTY|2022-02-05_increm...|       null|          null|2022-08-09 11:06:...|       null|\n",
      "|  917008151845|     DEBASISHMOHANTY|DR.DMOHANTY.2010@...|2022-08-09 11:06:...|            Debasish|          |  Mohanty|16440040032100402778|        0| SFLTY|2022-02-05_increm...|       null|          null|2022-08-09 11:06:...|  182334065|\n",
      "|  917008151845|     DEBASISHMOHANTY|DR.DMOHANTY.2010@...|2022-08-09 11:06:...|            Debasish|          |  Mohanty|16440040032100402778|        0| SFLTY|2022-02-05_increm...|       null|          null|2022-08-09 11:06:...|  182334066|\n",
      "|  917428976297|           ASHULGARG|ASHUL.GARG.AG@GMA...|2022-08-09 11:06:...|               Ashul|          |     Garg|16128618242105562859|        1| SFLTY|2022-02-05_increm...|       null|          null|2022-08-09 11:06:...|  126465106|\n",
      "|  917428976297|           ASHULGARG|ASHUL.GARG.AG@GMA...|2022-08-09 11:06:...|               Ashul|          |     Garg|16128618242105562859|        1| SFLTY|2022-02-05_increm...|       null|          null|2022-08-09 11:06:...|  126804435|\n",
      "|  917738352036|       GAJENDRAKINGE|GAJENDRARKINGE@GM...|2022-08-09 11:06:...|            Gajendra|          |    Kinge|16134470502105924180|        1| SFLTY|2022-02-05_increm...|       null|          null|2022-08-09 11:06:...|       null|\n",
      "|  917827390203|        NAJIBULSHEKH|NAJIBULSHEKH@GMAI...|2022-08-09 11:06:...|             NAJIBUL|          |    SHEKH|16440040032100537459|        0| SFLTY|2022-02-05_increm...|       null|          null|2022-08-09 11:06:...|       null|\n",
      "|  917999891966|          PANKAJJAIN|PANKAJ080593@GMAI...|2022-08-09 11:06:...|              Pankaj|          |     Jain|16440040032100233792|        0| SFLTY|2022-02-05_increm...|       null|          null|2022-08-09 11:06:...|       null|\n",
      "|  918122305305|       VIJAYAGANESHD|VIJAYAGANESH.D@HO...|2022-08-09 11:06:...|        VijayAganesh|          |        D|16440040022100023425|        0| SFLTY|2022-02-05_increm...|       null|          null|2022-08-09 11:06:...|       null|\n",
      "|  918435101024|      SAURABHBAGADIA|SAURABH.BAGADIA@A...|2022-08-09 11:06:...|             Saurabh|          |  bagadia|16135459462101675429|        1| SFLTY|2022-02-05_increm...|       null|          null|2022-08-09 11:06:...|  151366156|\n",
      "|  918435101024|      SAURABHBAGADIA|SAURABH.BAGADIA@A...|2022-08-09 11:06:...|             Saurabh|          |  bagadia|16135459462101675429|        1| SFLTY|2022-02-05_increm...|       null|          null|2022-08-09 11:06:...|  151366157|\n",
      "|  918435101024|      SAURABHBAGADIA|SAURABH.BAGADIA@A...|2022-08-09 11:06:...|             Saurabh|          |  bagadia|16135459462101675429|        1| SFLTY|2022-02-05_increm...|       null|          null|2022-08-09 11:06:...|  151366158|\n",
      "|  918435101024|      SAURABHBAGADIA|SAURABH.BAGADIA@A...|2022-08-09 11:06:...|             Saurabh|          |  bagadia|16135459462101675429|        1| SFLTY|2022-02-05_increm...|       null|          null|2022-08-09 11:06:...|  151366159|\n",
      "|  918767178849|       ABHIJITPALKAR|ABHIJITPALKAR@HOT...|2022-08-09 11:06:...|             ABHIJIT|          |   PALKAR|16134672432103739952|        1| SFLTY|2022-02-05_increm...|       null|          null|2022-08-09 11:06:...|       null|\n",
      "|  918790691290|        SAILESHKUMAR|VISIONSAILESH@GMA...|2022-08-09 11:06:...|             SAILESH|          |    KUMAR|16440040032100405056|        0| SFLTY|2022-02-05_increm...|       null|          null|2022-08-09 11:06:...|       null|\n",
      "|  918928155239|           ASGARKHAN| ASGAR2102@GMAIL.COM|2022-08-09 11:06:...|               Asgar|          |     Khan|16440040032100510464|        0| SFLTY|2022-02-05_increm...|       null|          null|2022-08-09 11:06:...|       null|\n",
      "|  918962474256|     AKSHAYPACHAUREY|AKSPACHOURI074@GM...|2022-08-09 11:06:...|              Akshay|          |Pachaurey|16440040032100438618|        0| SFLTY|2022-02-05_increm...|       null|          null|2022-08-09 11:06:...|       null|\n",
      "|  919033266353|          VAKILSAHNI|                  \"\"|2022-08-09 11:06:...|               Vakil|          |    Sahni|16136407962105141720|        1| SFLTY|2022-02-05_increm...|       null|          null|2022-08-09 11:06:...|       null|\n",
      "|  919106135860|SVARUPKUMARSURESH...|SVARUPKUMARSOLANK...|2022-08-09 11:06:...|SVARUPKUMAR SURES...|          |  SOLANKI|16134672432100803654|        1| SFLTY|2022-02-05_increm...|       null|          null|2022-08-09 11:06:...|  144003791|\n",
      "|  919106135860|SVARUPKUMARSURESH...|SVARUPKUMARSOLANK...|2022-08-09 11:06:...|SVARUPKUMAR SURES...|          |  SOLANKI|16134672432100803654|        1| SFLTY|2022-02-05_increm...|       null|          null|2022-08-09 11:06:...|  144003792|\n",
      "+--------------+--------------------+--------------------+--------------------+--------------------+----------+---------+--------------------+---------+------+--------------------+-----------+--------------+--------------------+-----------+\n",
      "only showing top 20 rows"
     ]
    }
   ],
   "source": [
    "CustomerMatchMerge_SFLTYRW_PAX.show()"
   ]
  },
  {
   "cell_type": "code",
   "execution_count": null,
   "id": "4e4481b0-37bc-4631-ad4e-242b65a2472b",
   "metadata": {
    "execution": {
     "iopub.execute_input": "2022-11-09T10:47:18.359290Z",
     "iopub.status.busy": "2022-11-09T10:47:18.359036Z"
    }
   },
   "outputs": [
    {
     "data": {
      "application/vnd.jupyter.widget-view+json": {
       "model_id": "8efe6d4a8937497faf2ef5c31ab15263",
       "version_major": 2,
       "version_minor": 0
      },
      "text/plain": [
       "VBox()"
      ]
     },
     "metadata": {},
     "output_type": "display_data"
    },
    {
     "data": {
      "application/vnd.jupyter.widget-view+json": {
       "model_id": "e9fb2c697bc343fe9c9845fae87c20d1",
       "version_major": 2,
       "version_minor": 0
      },
      "text/plain": [
       "FloatProgress(value=0.0, bar_style='info', description='Progress:', layout=Layout(height='25px', width='50%'),…"
      ]
     },
     "metadata": {},
     "output_type": "display_data"
    }
   ],
   "source": [
    "GoldenRecordISPINC_fact_Split1.show()"
   ]
  },
  {
   "cell_type": "code",
   "execution_count": 20,
   "id": "656baec7-55b3-4670-b909-e0f01f6c447a",
   "metadata": {
    "execution": {
     "iopub.execute_input": "2022-11-10T05:42:44.952897Z",
     "iopub.status.busy": "2022-11-10T05:42:44.952656Z",
     "iopub.status.idle": "2022-11-10T05:42:45.706137Z",
     "shell.execute_reply": "2022-11-10T05:42:45.705625Z",
     "shell.execute_reply.started": "2022-11-10T05:42:44.952873Z"
    }
   },
   "outputs": [
    {
     "data": {
      "application/vnd.jupyter.widget-view+json": {
       "model_id": "4a5d8064704245f1987bef1c88cdca56",
       "version_major": 2,
       "version_minor": 0
      },
      "text/plain": [
       "VBox()"
      ]
     },
     "metadata": {},
     "output_type": "display_data"
    },
    {
     "data": {
      "application/vnd.jupyter.widget-view+json": {
       "model_id": "",
       "version_major": 2,
       "version_minor": 0
      },
      "text/plain": [
       "FloatProgress(value=0.0, bar_style='info', description='Progress:', layout=Layout(height='25px', width='50%'),…"
      ]
     },
     "metadata": {},
     "output_type": "display_data"
    }
   ],
   "source": [
    "spark.stop()"
   ]
  },
  {
   "cell_type": "code",
   "execution_count": 22,
   "id": "01e0a7a4-a7c1-4f40-b5eb-14e9e4bdf935",
   "metadata": {
    "execution": {
     "iopub.execute_input": "2022-11-12T11:00:00.256289Z",
     "iopub.status.busy": "2022-11-12T11:00:00.256072Z",
     "iopub.status.idle": "2022-11-12T11:00:01.005850Z",
     "shell.execute_reply": "2022-11-12T11:00:01.005369Z",
     "shell.execute_reply.started": "2022-11-12T11:00:00.256264Z"
    },
    "tags": []
   },
   "outputs": [
    {
     "data": {
      "application/vnd.jupyter.widget-view+json": {
       "model_id": "e628f446653e46559e6efa9734a65077",
       "version_major": 2,
       "version_minor": 0
      },
      "text/plain": [
       "VBox()"
      ]
     },
     "metadata": {},
     "output_type": "display_data"
    },
    {
     "data": {
      "application/vnd.jupyter.widget-view+json": {
       "model_id": "",
       "version_major": 2,
       "version_minor": 0
      },
      "text/plain": [
       "FloatProgress(value=0.0, bar_style='info', description='Progress:', layout=Layout(height='25px', width='50%'),…"
      ]
     },
     "metadata": {},
     "output_type": "display_data"
    }
   ],
   "source": [
    "BookingPassenger_Split1 = spark.read.format(\"jdbc\")\\\n",
    "        .option(\"url\", \"jdbc:sqlserver://10.150.72.22:1433;databaseName=CustomerHub;\")\\\n",
    "        .option(\"query\",\"SELECT * FROM dbo.BookingPassenger_Split1 where rownumber between '113688145' and '126320159' \")\\\n",
    "        .option(\"user\", \"dmbigdata\")\\\n",
    "        .option(\"password\", \"$p!Ce@bigData$db\")\\\n",
    "        .option(\"driver\", \"com.microsoft.sqlserver.jdbc.SQLServerDriver\")\\\n",
    "        .load()"
   ]
  },
  {
   "cell_type": "code",
   "execution_count": 23,
   "id": "e72e3e2f-ee2a-459f-8d40-46fe1a43f658",
   "metadata": {
    "execution": {
     "iopub.execute_input": "2022-11-12T11:00:01.645935Z",
     "iopub.status.busy": "2022-11-12T11:00:01.645717Z",
     "iopub.status.idle": "2022-11-12T11:04:29.788771Z",
     "shell.execute_reply": "2022-11-12T11:04:29.788295Z",
     "shell.execute_reply.started": "2022-11-12T11:00:01.645913Z"
    },
    "tags": []
   },
   "outputs": [
    {
     "data": {
      "application/vnd.jupyter.widget-view+json": {
       "model_id": "9453641fe83f4bfba3724906a349a9ad",
       "version_major": 2,
       "version_minor": 0
      },
      "text/plain": [
       "VBox()"
      ]
     },
     "metadata": {},
     "output_type": "display_data"
    },
    {
     "data": {
      "application/vnd.jupyter.widget-view+json": {
       "model_id": "",
       "version_major": 2,
       "version_minor": 0
      },
      "text/plain": [
       "FloatProgress(value=0.0, bar_style='info', description='Progress:', layout=Layout(height='25px', width='50%'),…"
      ]
     },
     "metadata": {},
     "output_type": "display_data"
    }
   ],
   "source": [
    "BookingPassenger_Split1.write.mode(\"append\").parquet(\n",
    "                \"s3://sjet-datamart-bucket/22-SpicejetDataMart/BookingPassenger_Split1/\")"
   ]
  },
  {
   "cell_type": "code",
   "execution_count": null,
   "id": "ac373aa8-8a3f-48f4-9c1c-f2a7573e3cd8",
   "metadata": {},
   "outputs": [],
   "source": []
  }
 ],
 "metadata": {
  "kernelspec": {
   "display_name": "PySpark",
   "language": "",
   "name": "pysparkkernel"
  },
  "language_info": {
   "codemirror_mode": {
    "name": "python",
    "version": 3
   },
   "mimetype": "text/x-python",
   "name": "pyspark",
   "pygments_lexer": "python3"
  }
 },
 "nbformat": 4,
 "nbformat_minor": 5
}
