{
 "cells": [
  {
   "cell_type": "code",
   "execution_count": 1,
   "id": "2986eb69-c042-4080-9de7-b50e7840abf2",
   "metadata": {
    "execution": {
     "iopub.execute_input": "2023-01-17T05:07:42.690027Z",
     "iopub.status.busy": "2023-01-17T05:07:42.689802Z",
     "iopub.status.idle": "2023-01-17T05:08:10.373065Z",
     "shell.execute_reply": "2023-01-17T05:08:10.372494Z",
     "shell.execute_reply.started": "2023-01-17T05:07:42.690003Z"
    },
    "tags": []
   },
   "outputs": [
    {
     "data": {
      "application/vnd.jupyter.widget-view+json": {
       "model_id": "84f259d3e80b48d9b6b7bd297d259673",
       "version_major": 2,
       "version_minor": 0
      },
      "text/plain": [
       "VBox()"
      ]
     },
     "metadata": {},
     "output_type": "display_data"
    },
    {
     "name": "stdout",
     "output_type": "stream",
     "text": [
      "Starting Spark application\n"
     ]
    },
    {
     "data": {
      "text/html": [
       "<table>\n",
       "<tr><th>ID</th><th>YARN Application ID</th><th>Kind</th><th>State</th><th>Spark UI</th><th>Driver log</th><th>Current session?</th></tr><tr><td>0</td><td>application_1673931548347_0002</td><td>pyspark</td><td>idle</td><td><a target=\"_blank\" href=\"http://ip-20-0-4-166.ap-south-1.compute.internal:20888/proxy/application_1673931548347_0002/\" class=\"emr-proxy-link\" emr-resource=\"j-W6BAE4IQXSHI\n",
       "\" application-id=\"application_1673931548347_0002\">Link</a></td><td><a target=\"_blank\" href=\"http://ip-20-0-4-35.ap-south-1.compute.internal:8042/node/containerlogs/container_1673931548347_0002_01_000001/livy\" >Link</a></td><td>✔</td></tr></table>"
      ],
      "text/plain": [
       "<IPython.core.display.HTML object>"
      ]
     },
     "metadata": {},
     "output_type": "display_data"
    },
    {
     "data": {
      "application/vnd.jupyter.widget-view+json": {
       "model_id": "",
       "version_major": 2,
       "version_minor": 0
      },
      "text/plain": [
       "FloatProgress(value=0.0, bar_style='info', description='Progress:', layout=Layout(height='25px', width='50%'),…"
      ]
     },
     "metadata": {},
     "output_type": "display_data"
    },
    {
     "name": "stdout",
     "output_type": "stream",
     "text": [
      "SparkSession available as 'spark'.\n"
     ]
    },
    {
     "data": {
      "application/vnd.jupyter.widget-view+json": {
       "model_id": "",
       "version_major": 2,
       "version_minor": 0
      },
      "text/plain": [
       "FloatProgress(value=0.0, bar_style='info', description='Progress:', layout=Layout(height='25px', width='50%'),…"
      ]
     },
     "metadata": {},
     "output_type": "display_data"
    }
   ],
   "source": [
    "from pyspark import SparkConf\n",
    "from pyspark import SparkContext\n",
    "from pyspark.sql import SparkSession\n",
    "from pyspark.sql.types import *\n",
    "from pyspark.sql import functions as F\n",
    "import boto3\n",
    "import sys\n",
    "import re\n",
    "from datetime import datetime\n",
    "import configparser\n",
    "from pyspark.sql.functions import *"
   ]
  },
  {
   "cell_type": "code",
   "execution_count": 2,
   "id": "0a2d32fa-5b09-4e51-b215-0cdb25b660b3",
   "metadata": {
    "execution": {
     "iopub.execute_input": "2023-01-17T05:08:27.420783Z",
     "iopub.status.busy": "2023-01-17T05:08:27.420570Z",
     "iopub.status.idle": "2023-01-17T05:08:32.730730Z",
     "shell.execute_reply": "2023-01-17T05:08:32.730211Z",
     "shell.execute_reply.started": "2023-01-17T05:08:27.420759Z"
    },
    "tags": []
   },
   "outputs": [
    {
     "data": {
      "application/vnd.jupyter.widget-view+json": {
       "model_id": "b547aad55cb940deacd8042651a990e2",
       "version_major": 2,
       "version_minor": 0
      },
      "text/plain": [
       "VBox()"
      ]
     },
     "metadata": {},
     "output_type": "display_data"
    },
    {
     "data": {
      "application/vnd.jupyter.widget-view+json": {
       "model_id": "",
       "version_major": 2,
       "version_minor": 0
      },
      "text/plain": [
       "FloatProgress(value=0.0, bar_style='info', description='Progress:', layout=Layout(height='25px', width='50%'),…"
      ]
     },
     "metadata": {},
     "output_type": "display_data"
    }
   ],
   "source": [
    "Q400_128WPS_1 = spark.sql('''\n",
    "                                SELECT\n",
    "\n",
    "                                ECN,\n",
    "\n",
    "                                UTC_TIMEDATE,\n",
    "\n",
    "                                FileName,\n",
    "\n",
    "                                CAST((MAX(`Time-In-Secs`) - MIN(`Time-In-Secs`)) / 60 AS INT) AS FlightTime\n",
    "\n",
    "                                FROM precogdb.q400128wps\n",
    "\n",
    "                                WHERE FlightDate > '2022-10-31'\n",
    "\n",
    "                                AND `Radio-Altitude` NOT LIKE '%*%'\n",
    "\n",
    "                                AND `Radio-Altitude` <> ''\n",
    "\n",
    "                                AND `Main-WOW` = 'Air (0)'\n",
    "\n",
    "                                --AND  CAST(LoadedDate AS DATE) = CAST (current_timestamp AS DATE)\n",
    "\n",
    "                                GROUP BY ECN, UTC_TIMEDATE, Filename\n",
    "                            ''')"
   ]
  },
  {
   "cell_type": "code",
   "execution_count": 4,
   "id": "bc825c43-0441-4477-9624-e062190f4330",
   "metadata": {
    "execution": {
     "iopub.execute_input": "2023-01-17T05:09:12.490176Z",
     "iopub.status.busy": "2023-01-17T05:09:12.489944Z",
     "iopub.status.idle": "2023-01-17T05:09:13.571165Z",
     "shell.execute_reply": "2023-01-17T05:09:13.570579Z",
     "shell.execute_reply.started": "2023-01-17T05:09:12.490142Z"
    },
    "tags": []
   },
   "outputs": [
    {
     "data": {
      "application/vnd.jupyter.widget-view+json": {
       "model_id": "d2b21f05c31d48bfb4dc7f87dfb4c6a9",
       "version_major": 2,
       "version_minor": 0
      },
      "text/plain": [
       "VBox()"
      ]
     },
     "metadata": {},
     "output_type": "display_data"
    },
    {
     "data": {
      "application/vnd.jupyter.widget-view+json": {
       "model_id": "",
       "version_major": 2,
       "version_minor": 0
      },
      "text/plain": [
       "FloatProgress(value=0.0, bar_style='info', description='Progress:', layout=Layout(height='25px', width='50%'),…"
      ]
     },
     "metadata": {},
     "output_type": "display_data"
    }
   ],
   "source": [
    "Q400_128WPS_1.createOrReplaceTempView('Q400_128WPS_1')"
   ]
  },
  {
   "cell_type": "code",
   "execution_count": 20,
   "id": "0f6da67e-b242-4d14-92eb-e692efa71451",
   "metadata": {
    "execution": {
     "iopub.execute_input": "2023-01-17T05:19:58.796938Z",
     "iopub.status.busy": "2023-01-17T05:19:58.796722Z",
     "iopub.status.idle": "2023-01-17T05:19:59.048317Z",
     "shell.execute_reply": "2023-01-17T05:19:59.047745Z",
     "shell.execute_reply.started": "2023-01-17T05:19:58.796915Z"
    },
    "tags": []
   },
   "outputs": [],
   "source": [
    "Q400_128WPS_2 = spark.sql('''\n",
    "\n",
    "                SELECT MIN(`Time-Per-Sec`) AS AirborneTime,\n",
    "                \n",
    "                flightdate,\n",
    "                \n",
    "                Filename\n",
    "                \n",
    "                FROM precogdb.q400128wps\n",
    "                \n",
    "                WHERE FlightDate > '2022-10-31'\n",
    "                        \n",
    "                AND `Radio-Altitude` NOT LIKE '%*%'\n",
    "                        \n",
    "                AND `Radio-Altitude` <> ''\n",
    "                        \n",
    "                AND `Main-WOW` = 'Air (0)'\n",
    "\n",
    "                --AND  CAST(LoadedDate AS DATE) = CAST (current_timestamp AS DATE)\n",
    "\n",
    "                GROUP BY flightdate,Filename\n",
    "''')\n",
    "\n",
    "Q400_128WPS_2.createOrReplaceTempView('Q400_128WPS_2')\n",
    "\n",
    "Q400_128WPS_2.createOrReplaceTempView('Q400_128WPS_2')\n",
    "\n",
    "Q400_128WPS_2_1 = spark.sql('''SELECT MIN(`Time-Per-Sec`) AS TouchDownTime,\n",
    "                \n",
    "                flightdate,\n",
    "                \n",
    "                Filename\n",
    "                \n",
    "                FROM precogdb.q400128wps\n",
    "                \n",
    "                WHERE FlightDate > '2022-10-31'\n",
    "                        \n",
    "                AND `Radio-Altitude` NOT LIKE '%*%'\n",
    "                        \n",
    "                AND `Radio-Altitude` <> ''\n",
    "                \n",
    "                AND `Main-WOW` = 'Gnd (1)'\n",
    "                \n",
    "                AND `time-in-secs` > 2500\n",
    "                        \n",
    "                --AND  CAST(LoadedDate AS DATE) = CAST (current_timestamp AS DATE)\n",
    "\n",
    "                GROUP BY flightdate,Filename ''')\n",
    "\n",
    "Q400_128WPS_2_1.createOrReplaceTempView('Q400_128WPS_2_1')\n",
    "\n",
    "Q400_128WPS_2_2 = spark.sql('''\n",
    "\n",
    "            SELECT a.AirborneTime, b.TouchDownTime, a.Filename, a.Flightdate\n",
    "            FROM Q400_128WPS_2 a \n",
    "            JOIN Q400_128WPS_2_1 b on a.Filename = b.Filename\n",
    "            AND a.Flightdate = b.Flightdate\n",
    "''')\n",
    "\n",
    "Q400_128WPS_2_2.createOrReplaceTempView('Q400_128WPS_2_2')\n",
    "\n",
    "Q400_128WPS_3 = spark.sql('''\n",
    "\n",
    "                            SELECT filename, flightdate,\n",
    "                            \n",
    "                            CASE \n",
    "                                WHEN LENGTH(CAST(`AirborneTime` as String)) = 1 THEN CONCAT('00000',CAST(`AirborneTime` as String)) \n",
    "                                WHEN LENGTH(CAST(`AirborneTime` as String)) = 2 THEN CONCAT('0000',CAST(`AirborneTime` as String)) \n",
    "                                WHEN LENGTH(CAST(`AirborneTime` as String)) = 3 THEN CONCAT('000',CAST(`AirborneTime` as String))\n",
    "                                WHEN LENGTH(CAST(`AirborneTime` as String)) = 4 THEN CONCAT('00',CAST(`AirborneTime` as String)) \n",
    "                                WHEN LENGTH(CAST(`AirborneTime` as String)) = 5 THEN CONCAT('0',CAST(`AirborneTime` as String))\n",
    "                                ELSE `AirborneTime`\n",
    "                            END As AirborneTime,\n",
    "                            CASE \n",
    "                                WHEN LENGTH(CAST(`TouchdownTime` as String)) = 1 THEN CONCAT('00000',CAST(`TouchdownTime` as String)) \n",
    "                                WHEN LENGTH(CAST(`TouchdownTime` as String)) = 2 THEN CONCAT('0000',CAST(`TouchdownTime` as String)) \n",
    "                                WHEN LENGTH(CAST(`TouchdownTime` as String)) = 3 THEN CONCAT('000',CAST(`TouchdownTime` as String))\n",
    "                                WHEN LENGTH(CAST(`TouchdownTime` as String)) = 4 THEN CONCAT('00',CAST(`TouchdownTime` as String)) \n",
    "                                WHEN LENGTH(CAST(`TouchdownTime` as String)) = 5 THEN CONCAT('0',CAST(`TouchdownTime` as String))\n",
    "                                ELSE `TouchdownTime`\n",
    "                            END As TouchdownTime\n",
    "                            \n",
    "                                                                \n",
    "                            FROM Q400_128WPS_2_2\n",
    "                                                \n",
    "                    ''')\n",
    "\n",
    "Q400_128WPS_3.createOrReplaceTempView('Q400_128WPS_3')\n",
    "\n",
    "Q400_128WPS_4 = Q400_128WPS_3.withColumn(\"AirborneTime\", regexp_replace(col(\"AirborneTime\") , \"(\\\\d{2})(\\\\d{2})(\\\\d{2})\" , \"$1:$2:$3\" )) \\\n",
    "                            .withColumn(\"TouchdownTime\", regexp_replace(col(\"TouchdownTime\") , \"(\\\\d{2})(\\\\d{2})(\\\\d{2})\" , \"$1:$2:$3\" ))\n",
    "\n",
    "Q400_128WPS_4.createOrReplaceTempView('Q400_128WPS_4')\n",
    "\n",
    "Q400_128WPS_4.show(truncate = False)\n",
    "\n",
    "Q400_128WPS_5 = spark.sql('''\n",
    "\n",
    "                SELECT to_timestamp(concat(flightdate,' ',AirborneTime)) AS Airborne_Time,\n",
    "                \n",
    "                to_timestamp(concat(flightdate,' ',TouchdownTime)) AS Touchdown_Time,\n",
    "                \n",
    "                Filename\n",
    "                \n",
    "                FROM Q400_128WPS_4\n",
    "\n",
    "\n",
    "''')\n",
    "\n",
    "Q400_128WPS_5.createOrReplaceTempView('Q400_128WPS_5')"
   ]
  },
  {
   "cell_type": "code",
   "execution_count": null,
   "id": "86ce51be-86cc-49e4-bde4-594a6cc95e5b",
   "metadata": {
    "tags": []
   },
   "outputs": [],
   "source": []
  },
  {
   "cell_type": "code",
   "execution_count": null,
   "id": "2954014d-73f4-4683-9494-0b05869fb857",
   "metadata": {
    "tags": []
   },
   "outputs": [],
   "source": []
  },
  {
   "cell_type": "code",
   "execution_count": null,
   "id": "edd0b3e0-4411-4eef-8dc8-a52e1a97eef0",
   "metadata": {
    "tags": []
   },
   "outputs": [],
   "source": []
  },
  {
   "cell_type": "code",
   "execution_count": null,
   "id": "85e96e02-d8a7-471c-8e99-f881ac7f1838",
   "metadata": {},
   "outputs": [],
   "source": []
  }
 ],
 "metadata": {
  "kernelspec": {
   "display_name": "PySpark",
   "language": "",
   "name": "pysparkkernel"
  },
  "language_info": {
   "codemirror_mode": {
    "name": "python",
    "version": 3
   },
   "mimetype": "text/x-python",
   "name": "pyspark",
   "pygments_lexer": "python3"
  }
 },
 "nbformat": 4,
 "nbformat_minor": 5
}
