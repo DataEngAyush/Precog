{
 "cells": [
  {
   "cell_type": "code",
   "execution_count": 1,
   "id": "f099b117-5487-4b6f-bbd1-dcc96498bc85",
   "metadata": {
    "execution": {
     "iopub.execute_input": "2023-01-06T09:25:35.988909Z",
     "iopub.status.busy": "2023-01-06T09:25:35.988686Z",
     "iopub.status.idle": "2023-01-06T09:25:58.769170Z",
     "shell.execute_reply": "2023-01-06T09:25:58.768681Z",
     "shell.execute_reply.started": "2023-01-06T09:25:35.988884Z"
    },
    "tags": []
   },
   "outputs": [
    {
     "data": {
      "application/vnd.jupyter.widget-view+json": {
       "model_id": "8b0297a151b44cd99bb289f141ff8104",
       "version_major": 2,
       "version_minor": 0
      },
      "text/plain": [
       "VBox()"
      ]
     },
     "metadata": {},
     "output_type": "display_data"
    },
    {
     "name": "stdout",
     "output_type": "stream",
     "text": [
      "Starting Spark application\n"
     ]
    },
    {
     "data": {
      "text/html": [
       "<table>\n",
       "<tr><th>ID</th><th>YARN Application ID</th><th>Kind</th><th>State</th><th>Spark UI</th><th>Driver log</th><th>Current session?</th></tr><tr><td>5</td><td>application_1672984118101_0009</td><td>pyspark</td><td>idle</td><td></td><td></td><td>✔</td></tr></table>"
      ],
      "text/plain": [
       "<IPython.core.display.HTML object>"
      ]
     },
     "metadata": {},
     "output_type": "display_data"
    },
    {
     "data": {
      "application/vnd.jupyter.widget-view+json": {
       "model_id": "",
       "version_major": 2,
       "version_minor": 0
      },
      "text/plain": [
       "FloatProgress(value=0.0, bar_style='info', description='Progress:', layout=Layout(height='25px', width='50%'),…"
      ]
     },
     "metadata": {},
     "output_type": "display_data"
    },
    {
     "name": "stdout",
     "output_type": "stream",
     "text": [
      "SparkSession available as 'spark'.\n"
     ]
    },
    {
     "data": {
      "application/vnd.jupyter.widget-view+json": {
       "model_id": "",
       "version_major": 2,
       "version_minor": 0
      },
      "text/plain": [
       "FloatProgress(value=0.0, bar_style='info', description='Progress:', layout=Layout(height='25px', width='50%'),…"
      ]
     },
     "metadata": {},
     "output_type": "display_data"
    }
   ],
   "source": [
    "from pyspark.sql import SparkSession\n",
    "from pyspark import SparkConf, SparkContext\n",
    "import configparser\n",
    "import boto3\n",
    "import sys\n",
    "from datetime import datetime, timedelta"
   ]
  },
  {
   "cell_type": "code",
   "execution_count": 2,
   "id": "bc4613ad-83eb-4e57-b1d3-e25f33f195c8",
   "metadata": {
    "execution": {
     "iopub.execute_input": "2023-01-06T07:26:11.361039Z",
     "iopub.status.busy": "2023-01-06T07:26:11.360881Z",
     "iopub.status.idle": "2023-01-06T07:26:26.675447Z",
     "shell.execute_reply": "2023-01-06T07:26:26.674947Z",
     "shell.execute_reply.started": "2023-01-06T07:26:11.361019Z"
    }
   },
   "outputs": [
    {
     "data": {
      "application/vnd.jupyter.widget-view+json": {
       "model_id": "d2813b0dfdd1432982dba6fb7f9eba9f",
       "version_major": 2,
       "version_minor": 0
      },
      "text/plain": [
       "VBox()"
      ]
     },
     "metadata": {},
     "output_type": "display_data"
    },
    {
     "data": {
      "application/vnd.jupyter.widget-view+json": {
       "model_id": "",
       "version_major": 2,
       "version_minor": 0
      },
      "text/plain": [
       "FloatProgress(value=0.0, bar_style='info', description='Progress:', layout=Layout(height='25px', width='50%'),…"
      ]
     },
     "metadata": {},
     "output_type": "display_data"
    },
    {
     "name": "stdout",
     "output_type": "stream",
     "text": [
      "++\n",
      "||\n",
      "++\n",
      "++"
     ]
    }
   ],
   "source": [
    "spark.sql('MSCK REPAIR TABLE precogdb.q400512wps;').show()"
   ]
  },
  {
   "cell_type": "code",
   "execution_count": 3,
   "id": "2498db17-88c7-49da-be6c-2550bbced511",
   "metadata": {
    "execution": {
     "iopub.execute_input": "2023-01-06T07:26:55.502275Z",
     "iopub.status.busy": "2023-01-06T07:26:55.502024Z",
     "iopub.status.idle": "2023-01-06T07:26:57.766837Z",
     "shell.execute_reply": "2023-01-06T07:26:57.766218Z",
     "shell.execute_reply.started": "2023-01-06T07:26:55.502249Z"
    }
   },
   "outputs": [
    {
     "data": {
      "application/vnd.jupyter.widget-view+json": {
       "model_id": "e2d6c5e8736f457dabecf8bd50d2ef7f",
       "version_major": 2,
       "version_minor": 0
      },
      "text/plain": [
       "VBox()"
      ]
     },
     "metadata": {},
     "output_type": "display_data"
    },
    {
     "data": {
      "application/vnd.jupyter.widget-view+json": {
       "model_id": "",
       "version_major": 2,
       "version_minor": 0
      },
      "text/plain": [
       "FloatProgress(value=0.0, bar_style='info', description='Progress:', layout=Layout(height='25px', width='50%'),…"
      ]
     },
     "metadata": {},
     "output_type": "display_data"
    }
   ],
   "source": [
    "FlightDataInfo = spark \\\n",
    "        .read \\\n",
    "        .format(\"csv\") \\\n",
    "        .option(\"header\", \"true\") \\\n",
    "        .load('s3://sjet-datamart-bucket/precog/precog-file-info/q400/512-wps/20230104/FileInfo_20230104.csv')"
   ]
  },
  {
   "cell_type": "code",
   "execution_count": 4,
   "id": "97da5958-b0ca-4f08-a749-45b4530c6219",
   "metadata": {
    "execution": {
     "iopub.execute_input": "2023-01-06T07:27:11.616095Z",
     "iopub.status.busy": "2023-01-06T07:27:11.615864Z",
     "iopub.status.idle": "2023-01-06T07:27:11.864230Z",
     "shell.execute_reply": "2023-01-06T07:27:11.863747Z",
     "shell.execute_reply.started": "2023-01-06T07:27:11.616072Z"
    }
   },
   "outputs": [
    {
     "data": {
      "application/vnd.jupyter.widget-view+json": {
       "model_id": "de1151d8f3d0449ea09fed2399f3ab32",
       "version_major": 2,
       "version_minor": 0
      },
      "text/plain": [
       "VBox()"
      ]
     },
     "metadata": {},
     "output_type": "display_data"
    },
    {
     "data": {
      "application/vnd.jupyter.widget-view+json": {
       "model_id": "",
       "version_major": 2,
       "version_minor": 0
      },
      "text/plain": [
       "FloatProgress(value=0.0, bar_style='info', description='Progress:', layout=Layout(height='25px', width='50%'),…"
      ]
     },
     "metadata": {},
     "output_type": "display_data"
    }
   ],
   "source": [
    "FlightDataInfo.select('Year', 'Month').distinct().createOrReplaceTempView('FlightDataInfo')"
   ]
  },
  {
   "cell_type": "code",
   "execution_count": 5,
   "id": "de3ea9e3-af5f-4ff1-b05e-cb305b973aa5",
   "metadata": {
    "execution": {
     "iopub.execute_input": "2023-01-06T07:27:47.885400Z",
     "iopub.status.busy": "2023-01-06T07:27:47.885174Z",
     "iopub.status.idle": "2023-01-06T07:27:53.165281Z",
     "shell.execute_reply": "2023-01-06T07:27:53.164788Z",
     "shell.execute_reply.started": "2023-01-06T07:27:47.885378Z"
    }
   },
   "outputs": [
    {
     "data": {
      "application/vnd.jupyter.widget-view+json": {
       "model_id": "36b08c7c01b644808654c5e8ce1704ad",
       "version_major": 2,
       "version_minor": 0
      },
      "text/plain": [
       "VBox()"
      ]
     },
     "metadata": {},
     "output_type": "display_data"
    },
    {
     "data": {
      "application/vnd.jupyter.widget-view+json": {
       "model_id": "",
       "version_major": 2,
       "version_minor": 0
      },
      "text/plain": [
       "FloatProgress(value=0.0, bar_style='info', description='Progress:', layout=Layout(height='25px', width='50%'),…"
      ]
     },
     "metadata": {},
     "output_type": "display_data"
    }
   ],
   "source": [
    "PartitionList=spark.sql(''' SELECT CONCAT(Year,Month) AS YearMonth FROM FlightDataInfo ''').rdd.flatMap(lambda x: x).collect()"
   ]
  },
  {
   "cell_type": "code",
   "execution_count": 6,
   "id": "4356b02c-9156-4ae7-91e9-c6b12de8b16a",
   "metadata": {
    "execution": {
     "iopub.execute_input": "2023-01-06T07:27:58.699445Z",
     "iopub.status.busy": "2023-01-06T07:27:58.699218Z",
     "iopub.status.idle": "2023-01-06T07:27:58.743669Z",
     "shell.execute_reply": "2023-01-06T07:27:58.743192Z",
     "shell.execute_reply.started": "2023-01-06T07:27:58.699422Z"
    }
   },
   "outputs": [
    {
     "data": {
      "application/vnd.jupyter.widget-view+json": {
       "model_id": "799759fda49c41ae9c858a8bde83d7eb",
       "version_major": 2,
       "version_minor": 0
      },
      "text/plain": [
       "VBox()"
      ]
     },
     "metadata": {},
     "output_type": "display_data"
    },
    {
     "data": {
      "application/vnd.jupyter.widget-view+json": {
       "model_id": "",
       "version_major": 2,
       "version_minor": 0
      },
      "text/plain": [
       "FloatProgress(value=0.0, bar_style='info', description='Progress:', layout=Layout(height='25px', width='50%'),…"
      ]
     },
     "metadata": {},
     "output_type": "display_data"
    }
   ],
   "source": [
    "Partition=str(PartitionList)[1:len(str(PartitionList))-1]"
   ]
  },
  {
   "cell_type": "code",
   "execution_count": 7,
   "id": "aeb56d35-f262-4758-948e-bf84728e2003",
   "metadata": {
    "execution": {
     "iopub.execute_input": "2023-01-06T07:28:11.396687Z",
     "iopub.status.busy": "2023-01-06T07:28:11.396381Z",
     "iopub.status.idle": "2023-01-06T07:28:12.153856Z",
     "shell.execute_reply": "2023-01-06T07:28:12.153324Z",
     "shell.execute_reply.started": "2023-01-06T07:28:11.396650Z"
    }
   },
   "outputs": [
    {
     "data": {
      "application/vnd.jupyter.widget-view+json": {
       "model_id": "da466d0df7cb4013829ea9d304cd1f15",
       "version_major": 2,
       "version_minor": 0
      },
      "text/plain": [
       "VBox()"
      ]
     },
     "metadata": {},
     "output_type": "display_data"
    },
    {
     "data": {
      "application/vnd.jupyter.widget-view+json": {
       "model_id": "",
       "version_major": 2,
       "version_minor": 0
      },
      "text/plain": [
       "FloatProgress(value=0.0, bar_style='info', description='Progress:', layout=Layout(height='25px', width='50%'),…"
      ]
     },
     "metadata": {},
     "output_type": "display_data"
    }
   ],
   "source": [
    "ExistingDataDF = spark.sql(f'''\n",
    "\n",
    "                                SELECT   *\n",
    "                                FROM precogdb.q400512wps\n",
    "                                WHERE CONCAT(Year,Month) \n",
    "                                IN ({Partition})\n",
    "                                                                    ''')"
   ]
  },
  {
   "cell_type": "code",
   "execution_count": 8,
   "id": "4f3a6b24-e2c5-4afa-aff8-485aa93d1029",
   "metadata": {
    "execution": {
     "iopub.execute_input": "2023-01-06T07:28:22.467207Z",
     "iopub.status.busy": "2023-01-06T07:28:22.466982Z",
     "iopub.status.idle": "2023-01-06T07:28:22.719603Z",
     "shell.execute_reply": "2023-01-06T07:28:22.719033Z",
     "shell.execute_reply.started": "2023-01-06T07:28:22.467183Z"
    }
   },
   "outputs": [
    {
     "data": {
      "application/vnd.jupyter.widget-view+json": {
       "model_id": "60223ae2d0b44fb1af186eda6e7142b9",
       "version_major": 2,
       "version_minor": 0
      },
      "text/plain": [
       "VBox()"
      ]
     },
     "metadata": {},
     "output_type": "display_data"
    },
    {
     "data": {
      "application/vnd.jupyter.widget-view+json": {
       "model_id": "",
       "version_major": 2,
       "version_minor": 0
      },
      "text/plain": [
       "FloatProgress(value=0.0, bar_style='info', description='Progress:', layout=Layout(height='25px', width='50%'),…"
      ]
     },
     "metadata": {},
     "output_type": "display_data"
    }
   ],
   "source": [
    "ExistingDataDF.createOrReplaceTempView('ExistingDataDF')"
   ]
  },
  {
   "cell_type": "code",
   "execution_count": 14,
   "id": "c1dfbc67-29cb-406d-9d68-f2b7cf920c5f",
   "metadata": {
    "execution": {
     "iopub.execute_input": "2023-01-06T07:31:25.962111Z",
     "iopub.status.busy": "2023-01-06T07:31:25.961886Z",
     "iopub.status.idle": "2023-01-06T07:31:31.234900Z",
     "shell.execute_reply": "2023-01-06T07:31:31.234359Z",
     "shell.execute_reply.started": "2023-01-06T07:31:25.962087Z"
    }
   },
   "outputs": [
    {
     "data": {
      "application/vnd.jupyter.widget-view+json": {
       "model_id": "470f3335f22c4f2dafbfd4fbadd3f6bf",
       "version_major": 2,
       "version_minor": 0
      },
      "text/plain": [
       "VBox()"
      ]
     },
     "metadata": {},
     "output_type": "display_data"
    },
    {
     "data": {
      "application/vnd.jupyter.widget-view+json": {
       "model_id": "",
       "version_major": 2,
       "version_minor": 0
      },
      "text/plain": [
       "FloatProgress(value=0.0, bar_style='info', description='Progress:', layout=Layout(height='25px', width='50%'),…"
      ]
     },
     "metadata": {},
     "output_type": "display_data"
    },
    {
     "name": "stdout",
     "output_type": "stream",
     "text": [
      "+--------+-----------------+----------------+----------+--------+------+---------+---+------------+----+---------+--------+------+------------+-------------+-------+------+---------+-------+--------+----+------------+------------+---------------------------+--------------+----------------+-----------+----------+-------+-------+-------+-----------+------------+-----------------+--------------+-----------------+----------------------+---------------+----------------------+-------------+-----+-----+--------+--------+-----+-----+----+----+-------------------+--------------+------------+-------------+-------------+------------+------------+----------------+----------------+--------------+--------------+----------+----------+--------------+--------------+----------------+-----------------+-----------------+-----------------+----------+--------+----------+--------+-------------+------------+----+-----+\n",
      "|flightid|desigflightnumber|flightnumberarms|flightdate|fromcity|tocity|blocktime|ecn|employeename|rank|chocksoff|chockson|domint|aircrafttype|aircraftmodel|payload|tailno|departure|arrival|flightno|date|time-in-secs|time-per-sec|baro-corrected-palt-derived|altitude-barol|heading-magnetic|pitch-angle|roll-angle|rad-alt|wow-nlg|wow-mlg|accn-normal|accn-lateral|accn-longitudinal|airspeed-cas-l|afcs-sel-airspeed|vertical-speed-derived|fms-groundspeed|flap-control-pos-gated|flap-position|pla-1|pla-2|torque-1|torque-2|cla-1|cla-2|np-1|np-2|egpws-alert-warning|egpws-gs-alert|afcs-gs-mode|afcs-loc-mode|afcs-vor-mode|ils-gs-dev-1|ils-gs-dev-2|fuel-flow-2-kg-h|fuel-flow-1-kg-h|dme-distance-1|dme-distance-2|vor-freq-1|vor-freq-2|fms-wind-angle|fms-wind-speed|brake-press-left|brake-press-right|prop-beta-range-1|prop-beta-range-2|ap-engaged|filename|loadeddate|loadedby|dataframename|utc_timedate|year|month|\n",
      "+--------+-----------------+----------------+----------+--------+------+---------+---+------------+----+---------+--------+------+------------+-------------+-------+------+---------+-------+--------+----+------------+------------+---------------------------+--------------+----------------+-----------+----------+-------+-------+-------+-----------+------------+-----------------+--------------+-----------------+----------------------+---------------+----------------------+-------------+-----+-----+--------+--------+-----+-----+----+----+-------------------+--------------+------------+-------------+-------------+------------+------------+----------------+----------------+--------------+--------------+----------+----------+--------------+--------------+----------------+-----------------+-----------------+-----------------+----------+--------+----------+--------+-------------+------------+----+-----+\n",
      "+--------+-----------------+----------------+----------+--------+------+---------+---+------------+----+---------+--------+------+------------+-------------+-------+------+---------+-------+--------+----+------------+------------+---------------------------+--------------+----------------+-----------+----------+-------+-------+-------+-----------+------------+-----------------+--------------+-----------------+----------------------+---------------+----------------------+-------------+-----+-----+--------+--------+-----+-----+----+----+-------------------+--------------+------------+-------------+-------------+------------+------------+----------------+----------------+--------------+--------------+----------+----------+--------------+--------------+----------------+-----------------+-----------------+-----------------+----------+--------+----------+--------+-------------+------------+----+-----+"
     ]
    }
   ],
   "source": [
    "spark.sql('''\n",
    "\n",
    "SELECT * FROM ExistingDataDF where filename = 'ALL ac=VT-SQB dep=BOM arr=IXY fn=SG 2903 dt=20230104.csv'\n",
    "\n",
    "\n",
    "\n",
    "''').show()"
   ]
  },
  {
   "cell_type": "code",
   "execution_count": 15,
   "id": "fd0a4324-dc15-4b10-95cf-38d37e40f764",
   "metadata": {
    "execution": {
     "iopub.execute_input": "2023-01-06T09:25:23.185693Z",
     "iopub.status.busy": "2023-01-06T09:25:23.185462Z",
     "iopub.status.idle": "2023-01-06T09:25:23.217965Z",
     "shell.execute_reply": "2023-01-06T09:25:23.217348Z",
     "shell.execute_reply.started": "2023-01-06T09:25:23.185670Z"
    },
    "tags": []
   },
   "outputs": [
    {
     "data": {
      "application/vnd.jupyter.widget-view+json": {
       "model_id": "179a386bdc5c4674996ade46a7646056",
       "version_major": 2,
       "version_minor": 0
      },
      "text/plain": [
       "VBox()"
      ]
     },
     "metadata": {},
     "output_type": "display_data"
    },
    {
     "name": "stderr",
     "output_type": "stream",
     "text": [
      "An error was encountered:\n",
      "Invalid status code '404' from http://localhost:8998/sessions/2 with error payload: {\"msg\":\"Session '2' not found.\"}\n"
     ]
    }
   ],
   "source": [
    "FileLPD = spark.sql('''\n",
    "                            SELECT TailNo,\n",
    "                                FlightNumberARMS,\n",
    "                                Date,\n",
    "                                Departure,\n",
    "                                Arrival,\n",
    "                                LoadedDate,\n",
    "                                FileName, \n",
    "                                Count,\n",
    "                                ROW_NUMBER() OVER(PARTITION BY TailNo,\n",
    "                                                                FlightNumberARMS,\n",
    "                                                                Date,\n",
    "                                                                Departure,\n",
    "                                                                Arrival\n",
    "                                                                ORDER BY Count DESC,\n",
    "                                                                LoadedDate DESC) AS RN\n",
    "                            FROM(\n",
    "                                SELECT \n",
    "                                        TailNo,\n",
    "                                        FlightNumberARMS,\n",
    "                                        Date,\n",
    "                                        Departure,\n",
    "                                        Arrival,\n",
    "                                        LoadedDate,\n",
    "                                        FileName,\n",
    "                                        Count(*) AS Count\n",
    "\n",
    "                                FROM ExistingDataDF\n",
    "                                WHERE FileName NOT LIKE '%(_).csv'\n",
    "                                GROUP BY TailNo,\n",
    "                                            FlightNumberARMS,\n",
    "                                            Date,\n",
    "                                            Departure,\n",
    "                                            Arrival,\n",
    "                                            FileName,\n",
    "                                            LoadedDate)\n",
    "                        \n",
    "                                                    ''')"
   ]
  },
  {
   "cell_type": "code",
   "execution_count": 10,
   "id": "c2b4503d-9603-487b-ab0d-6f6b6bbe3fc3",
   "metadata": {
    "execution": {
     "iopub.execute_input": "2023-01-06T07:28:49.451520Z",
     "iopub.status.busy": "2023-01-06T07:28:49.451294Z",
     "iopub.status.idle": "2023-01-06T07:28:49.702400Z",
     "shell.execute_reply": "2023-01-06T07:28:49.701733Z",
     "shell.execute_reply.started": "2023-01-06T07:28:49.451497Z"
    }
   },
   "outputs": [
    {
     "data": {
      "application/vnd.jupyter.widget-view+json": {
       "model_id": "72d77076f9d04778895bbcb8799e3f67",
       "version_major": 2,
       "version_minor": 0
      },
      "text/plain": [
       "VBox()"
      ]
     },
     "metadata": {},
     "output_type": "display_data"
    },
    {
     "data": {
      "application/vnd.jupyter.widget-view+json": {
       "model_id": "",
       "version_major": 2,
       "version_minor": 0
      },
      "text/plain": [
       "FloatProgress(value=0.0, bar_style='info', description='Progress:', layout=Layout(height='25px', width='50%'),…"
      ]
     },
     "metadata": {},
     "output_type": "display_data"
    }
   ],
   "source": [
    "FileLPD.createOrReplaceTempView('FileLPD')\n",
    "\n",
    "NoDupDF = FileLPD.where(FileLPD.RN == 1)\n",
    "\n",
    "NoDupDF.createOrReplaceTempView('NoDupDF')"
   ]
  },
  {
   "cell_type": "code",
   "execution_count": 11,
   "id": "82195346-b6cb-41ab-a879-91d6b8da9688",
   "metadata": {
    "execution": {
     "iopub.execute_input": "2023-01-06T07:29:02.414064Z",
     "iopub.status.busy": "2023-01-06T07:29:02.413833Z",
     "iopub.status.idle": "2023-01-06T07:29:02.667574Z",
     "shell.execute_reply": "2023-01-06T07:29:02.666920Z",
     "shell.execute_reply.started": "2023-01-06T07:29:02.414040Z"
    }
   },
   "outputs": [
    {
     "data": {
      "application/vnd.jupyter.widget-view+json": {
       "model_id": "0de347c1c521482ab6bba07e333f798b",
       "version_major": 2,
       "version_minor": 0
      },
      "text/plain": [
       "VBox()"
      ]
     },
     "metadata": {},
     "output_type": "display_data"
    },
    {
     "data": {
      "application/vnd.jupyter.widget-view+json": {
       "model_id": "",
       "version_major": 2,
       "version_minor": 0
      },
      "text/plain": [
       "FloatProgress(value=0.0, bar_style='info', description='Progress:', layout=Layout(height='25px', width='50%'),…"
      ]
     },
     "metadata": {},
     "output_type": "display_data"
    }
   ],
   "source": [
    "FinalDF = spark.sql('''\n",
    "        SELECT a.* FROM ExistingDataDF a\n",
    "        INNER JOIN NoDupDF b\n",
    "        ON a.FileName = b.FileName\n",
    "        AND a.LoadedDate = b.LoadedDate\n",
    "        ''').dropDuplicates()"
   ]
  },
  {
   "cell_type": "code",
   "execution_count": 12,
   "id": "95242d00-6c75-4c1b-9e10-cb838b2862e5",
   "metadata": {
    "execution": {
     "iopub.execute_input": "2023-01-06T07:29:30.385461Z",
     "iopub.status.busy": "2023-01-06T07:29:30.385230Z",
     "iopub.status.idle": "2023-01-06T07:29:30.632287Z",
     "shell.execute_reply": "2023-01-06T07:29:30.631691Z",
     "shell.execute_reply.started": "2023-01-06T07:29:30.385437Z"
    }
   },
   "outputs": [
    {
     "data": {
      "application/vnd.jupyter.widget-view+json": {
       "model_id": "12d4196809a44d539094e92b822c5a4c",
       "version_major": 2,
       "version_minor": 0
      },
      "text/plain": [
       "VBox()"
      ]
     },
     "metadata": {},
     "output_type": "display_data"
    },
    {
     "data": {
      "application/vnd.jupyter.widget-view+json": {
       "model_id": "",
       "version_major": 2,
       "version_minor": 0
      },
      "text/plain": [
       "FloatProgress(value=0.0, bar_style='info', description='Progress:', layout=Layout(height='25px', width='50%'),…"
      ]
     },
     "metadata": {},
     "output_type": "display_data"
    }
   ],
   "source": [
    "FinalDF.createOrReplaceTempView('FinalDF')"
   ]
  },
  {
   "cell_type": "code",
   "execution_count": 13,
   "id": "54d032ca-a6c5-4bf3-91d7-4f5bfa77f84f",
   "metadata": {
    "execution": {
     "iopub.execute_input": "2023-01-06T07:30:17.424680Z",
     "iopub.status.busy": "2023-01-06T07:30:17.424449Z",
     "iopub.status.idle": "2023-01-06T07:30:48.781513Z",
     "shell.execute_reply": "2023-01-06T07:30:48.780993Z",
     "shell.execute_reply.started": "2023-01-06T07:30:17.424657Z"
    }
   },
   "outputs": [
    {
     "data": {
      "application/vnd.jupyter.widget-view+json": {
       "model_id": "a56cd2db21f74fc2bac29b2088ddbe49",
       "version_major": 2,
       "version_minor": 0
      },
      "text/plain": [
       "VBox()"
      ]
     },
     "metadata": {},
     "output_type": "display_data"
    },
    {
     "data": {
      "application/vnd.jupyter.widget-view+json": {
       "model_id": "",
       "version_major": 2,
       "version_minor": 0
      },
      "text/plain": [
       "FloatProgress(value=0.0, bar_style='info', description='Progress:', layout=Layout(height='25px', width='50%'),…"
      ]
     },
     "metadata": {},
     "output_type": "display_data"
    },
    {
     "name": "stdout",
     "output_type": "stream",
     "text": [
      "+--------+-----------------+----------------+----------+--------+------+---------+---+------------+----+---------+--------+------+------------+-------------+-------+------+---------+-------+--------+----+------------+------------+---------------------------+--------------+----------------+-----------+----------+-------+-------+-------+-----------+------------+-----------------+--------------+-----------------+----------------------+---------------+----------------------+-------------+-----+-----+--------+--------+-----+-----+----+----+-------------------+--------------+------------+-------------+-------------+------------+------------+----------------+----------------+--------------+--------------+----------+----------+--------------+--------------+----------------+-----------------+-----------------+-----------------+----------+--------+----------+--------+-------------+------------+----+-----+\n",
      "|flightid|desigflightnumber|flightnumberarms|flightdate|fromcity|tocity|blocktime|ecn|employeename|rank|chocksoff|chockson|domint|aircrafttype|aircraftmodel|payload|tailno|departure|arrival|flightno|date|time-in-secs|time-per-sec|baro-corrected-palt-derived|altitude-barol|heading-magnetic|pitch-angle|roll-angle|rad-alt|wow-nlg|wow-mlg|accn-normal|accn-lateral|accn-longitudinal|airspeed-cas-l|afcs-sel-airspeed|vertical-speed-derived|fms-groundspeed|flap-control-pos-gated|flap-position|pla-1|pla-2|torque-1|torque-2|cla-1|cla-2|np-1|np-2|egpws-alert-warning|egpws-gs-alert|afcs-gs-mode|afcs-loc-mode|afcs-vor-mode|ils-gs-dev-1|ils-gs-dev-2|fuel-flow-2-kg-h|fuel-flow-1-kg-h|dme-distance-1|dme-distance-2|vor-freq-1|vor-freq-2|fms-wind-angle|fms-wind-speed|brake-press-left|brake-press-right|prop-beta-range-1|prop-beta-range-2|ap-engaged|filename|loadeddate|loadedby|dataframename|utc_timedate|year|month|\n",
      "+--------+-----------------+----------------+----------+--------+------+---------+---+------------+----+---------+--------+------+------------+-------------+-------+------+---------+-------+--------+----+------------+------------+---------------------------+--------------+----------------+-----------+----------+-------+-------+-------+-----------+------------+-----------------+--------------+-----------------+----------------------+---------------+----------------------+-------------+-----+-----+--------+--------+-----+-----+----+----+-------------------+--------------+------------+-------------+-------------+------------+------------+----------------+----------------+--------------+--------------+----------+----------+--------------+--------------+----------------+-----------------+-----------------+-----------------+----------+--------+----------+--------+-------------+------------+----+-----+\n",
      "+--------+-----------------+----------------+----------+--------+------+---------+---+------------+----+---------+--------+------+------------+-------------+-------+------+---------+-------+--------+----+------------+------------+---------------------------+--------------+----------------+-----------+----------+-------+-------+-------+-----------+------------+-----------------+--------------+-----------------+----------------------+---------------+----------------------+-------------+-----+-----+--------+--------+-----+-----+----+----+-------------------+--------------+------------+-------------+-------------+------------+------------+----------------+----------------+--------------+--------------+----------+----------+--------------+--------------+----------------+-----------------+-----------------+-----------------+----------+--------+----------+--------+-------------+------------+----+-----+"
     ]
    }
   ],
   "source": [
    "spark.sql('''\n",
    "\n",
    "SELECT * FROM FinalDF where filename = 'ALL ac=VT-SQB dep=BOM arr=IXY fn=SG 2903 dt=20230104.csv'\n",
    "\n",
    "''').show()"
   ]
  },
  {
   "cell_type": "code",
   "execution_count": null,
   "id": "e0327c04-e5f9-472b-8067-b895dc741461",
   "metadata": {},
   "outputs": [],
   "source": []
  }
 ],
 "metadata": {
  "kernelspec": {
   "display_name": "PySpark",
   "language": "",
   "name": "pysparkkernel"
  },
  "language_info": {
   "codemirror_mode": {
    "name": "python",
    "version": 3
   },
   "mimetype": "text/x-python",
   "name": "pyspark",
   "pygments_lexer": "python3"
  }
 },
 "nbformat": 4,
 "nbformat_minor": 5
}
