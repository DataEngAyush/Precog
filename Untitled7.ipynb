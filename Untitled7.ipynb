{
 "cells": [
  {
   "cell_type": "code",
   "execution_count": 1,
   "id": "fd0c79cb-9239-4067-a99b-47734c194d61",
   "metadata": {
    "execution": {
     "iopub.execute_input": "2022-11-01T11:10:43.923548Z",
     "iopub.status.busy": "2022-11-01T11:10:43.923386Z",
     "iopub.status.idle": "2022-11-01T11:11:07.577745Z",
     "shell.execute_reply": "2022-11-01T11:11:07.577240Z",
     "shell.execute_reply.started": "2022-11-01T11:10:43.923526Z"
    },
    "tags": []
   },
   "outputs": [
    {
     "data": {
      "application/vnd.jupyter.widget-view+json": {
       "model_id": "a592ca0bef58456aab988f44d4901578",
       "version_major": 2,
       "version_minor": 0
      },
      "text/plain": [
       "VBox()"
      ]
     },
     "metadata": {},
     "output_type": "display_data"
    },
    {
     "name": "stdout",
     "output_type": "stream",
     "text": [
      "Starting Spark application\n"
     ]
    },
    {
     "data": {
      "text/html": [
       "<table>\n",
       "<tr><th>ID</th><th>YARN Application ID</th><th>Kind</th><th>State</th><th>Spark UI</th><th>Driver log</th><th>Current session?</th></tr><tr><td>0</td><td>application_1667300613761_0002</td><td>pyspark</td><td>idle</td><td><a target=\"_blank\" href=\"http://ip-20-0-4-228.ap-south-1.compute.internal:20888/proxy/application_1667300613761_0002/\" class=\"emr-proxy-link\" emr-resource=\"j-K714JJTSO8UT\n",
       "\" application-id=\"application_1667300613761_0002\">Link</a></td><td><a target=\"_blank\" href=\"http://ip-20-0-4-206.ap-south-1.compute.internal:8042/node/containerlogs/container_1667300613761_0002_01_000001/livy\" >Link</a></td><td>✔</td></tr></table>"
      ],
      "text/plain": [
       "<IPython.core.display.HTML object>"
      ]
     },
     "metadata": {},
     "output_type": "display_data"
    },
    {
     "data": {
      "application/vnd.jupyter.widget-view+json": {
       "model_id": "",
       "version_major": 2,
       "version_minor": 0
      },
      "text/plain": [
       "FloatProgress(value=0.0, bar_style='info', description='Progress:', layout=Layout(height='25px', width='50%'),…"
      ]
     },
     "metadata": {},
     "output_type": "display_data"
    },
    {
     "name": "stdout",
     "output_type": "stream",
     "text": [
      "SparkSession available as 'spark'.\n"
     ]
    },
    {
     "data": {
      "application/vnd.jupyter.widget-view+json": {
       "model_id": "",
       "version_major": 2,
       "version_minor": 0
      },
      "text/plain": [
       "FloatProgress(value=0.0, bar_style='info', description='Progress:', layout=Layout(height='25px', width='50%'),…"
      ]
     },
     "metadata": {},
     "output_type": "display_data"
    }
   ],
   "source": [
    "from pyspark import SparkConf\n",
    "from pyspark import SparkContext\n",
    "from pyspark.sql import SparkSession\n",
    "from pyspark.sql.types import *\n",
    "from pyspark.sql import functions as F\n",
    "import boto3\n",
    "import sys\n",
    "import re\n",
    "from datetime import datetime\n",
    "import configparser"
   ]
  },
  {
   "cell_type": "code",
   "execution_count": 27,
   "id": "e13d8e49-5937-4f0d-9f15-21c1a9c3eae0",
   "metadata": {
    "execution": {
     "iopub.execute_input": "2022-11-01T11:46:44.208608Z",
     "iopub.status.busy": "2022-11-01T11:46:44.208363Z",
     "iopub.status.idle": "2022-11-01T11:46:44.963407Z",
     "shell.execute_reply": "2022-11-01T11:46:44.962860Z",
     "shell.execute_reply.started": "2022-11-01T11:46:44.208581Z"
    },
    "tags": []
   },
   "outputs": [
    {
     "data": {
      "application/vnd.jupyter.widget-view+json": {
       "model_id": "98fd15a63ab844c69af573e7aa1d9229",
       "version_major": 2,
       "version_minor": 0
      },
      "text/plain": [
       "VBox()"
      ]
     },
     "metadata": {},
     "output_type": "display_data"
    },
    {
     "data": {
      "application/vnd.jupyter.widget-view+json": {
       "model_id": "",
       "version_major": 2,
       "version_minor": 0
      },
      "text/plain": [
       "FloatProgress(value=0.0, bar_style='info', description='Progress:', layout=Layout(height='25px', width='50%'),…"
      ]
     },
     "metadata": {},
     "output_type": "display_data"
    }
   ],
   "source": [
    "Q400Inter = spark.sql(f'''\n",
    "\n",
    "                            SELECT   *\n",
    "                                        FROM precogdb.q400128wps\n",
    "                                        \n",
    "                                        \n",
    "                      ''')"
   ]
  },
  {
   "cell_type": "code",
   "execution_count": 28,
   "id": "19c19731-d268-4661-b1c8-67205021145d",
   "metadata": {
    "execution": {
     "iopub.execute_input": "2022-11-01T11:46:45.591897Z",
     "iopub.status.busy": "2022-11-01T11:46:45.591685Z",
     "iopub.status.idle": "2022-11-01T11:46:45.847001Z",
     "shell.execute_reply": "2022-11-01T11:46:45.846276Z",
     "shell.execute_reply.started": "2022-11-01T11:46:45.591873Z"
    },
    "tags": []
   },
   "outputs": [
    {
     "data": {
      "application/vnd.jupyter.widget-view+json": {
       "model_id": "73de03147b3947edb184b85acbe7a73f",
       "version_major": 2,
       "version_minor": 0
      },
      "text/plain": [
       "VBox()"
      ]
     },
     "metadata": {},
     "output_type": "display_data"
    },
    {
     "data": {
      "application/vnd.jupyter.widget-view+json": {
       "model_id": "",
       "version_major": 2,
       "version_minor": 0
      },
      "text/plain": [
       "FloatProgress(value=0.0, bar_style='info', description='Progress:', layout=Layout(height='25px', width='50%'),…"
      ]
     },
     "metadata": {},
     "output_type": "display_data"
    }
   ],
   "source": [
    "Q400_stage3_df =  Q400Inter.filter(~(F.col(\"Radio-Altitude\").like (\"%*%\")) \\\n",
    "                                                        & (F.col(\"Radio-Altitude\") != \" \"))\n",
    "\n",
    "Q400_stage3_df.createOrReplaceTempView('Q400Interim')                                              \n"
   ]
  },
  {
   "cell_type": "code",
   "execution_count": 29,
   "id": "69bd1989-181c-4f8b-99cf-47e5f5e0f79b",
   "metadata": {
    "execution": {
     "iopub.execute_input": "2022-11-01T11:46:46.328636Z",
     "iopub.status.busy": "2022-11-01T11:46:46.328404Z",
     "iopub.status.idle": "2022-11-01T11:46:47.090029Z",
     "shell.execute_reply": "2022-11-01T11:46:47.089508Z",
     "shell.execute_reply.started": "2022-11-01T11:46:46.328612Z"
    },
    "tags": []
   },
   "outputs": [
    {
     "data": {
      "application/vnd.jupyter.widget-view+json": {
       "model_id": "88a2fb8f9aea41a288cd39ae70aba77a",
       "version_major": 2,
       "version_minor": 0
      },
      "text/plain": [
       "VBox()"
      ]
     },
     "metadata": {},
     "output_type": "display_data"
    },
    {
     "data": {
      "application/vnd.jupyter.widget-view+json": {
       "model_id": "",
       "version_major": 2,
       "version_minor": 0
      },
      "text/plain": [
       "FloatProgress(value=0.0, bar_style='info', description='Progress:', layout=Layout(height='25px', width='50%'),…"
      ]
     },
     "metadata": {},
     "output_type": "display_data"
    }
   ],
   "source": [
    "FirstQuery  = \"(SELECT FileName, max(cast(`Radio-Altitude` as int)) as RadioAltitude from Q400Interim group by FileName);\"\n",
    "    \n",
    "spark.sql(FirstQuery).createOrReplaceTempView(\"B\")\n",
    "\n",
    "SecondQuery = \"(SELECT a.*, B.RadioAltitude from Q400Interim a inner join B on a.FileName = B.FileName and a.`Radio-Altitude` = B.RadioAltitude)\"\n",
    "\n",
    "spark.sql(SecondQuery).createOrReplaceTempView(\"C\")\n",
    "\n",
    "ThirdQuery = \"(SELECT FileName, RadioAltitude, max(`Time-In-Secs`) as MaxTime, min(`Time-In-Secs`) as MinTime from C group by FileName, RadioAltitude)\"\n",
    "\n",
    "spark.sql(ThirdQuery).createOrReplaceTempView(\"D\")\n",
    "\n",
    "FourthQuery = spark.sql('''\n",
    "                    SELECT a.`Time-In-Secs` as `Time-In-Secs-EX`,\n",
    "                    a.`BARO-CORRECTED-PALT-DERIVED` as `BARO-CORRECTED-PALT-DERIVED-EX`,\n",
    "                    a.`Radio-Altitude` as `Radio-Altitude-EX`,\n",
    "                    a.`Vertical-Speed-Derived` as `Vertical-Speed-Derived-EX`,\n",
    "                    'Low Rate Of Descent' as ExceedanceName,\n",
    "                    CAST(CAST(unix_timestamp(CAST(a.ChocksOff AS Timestamp)) AS INT)+CAST(a.`Time-In-Secs` AS INT) AS TimeStamp) AS OccurenceTime,\n",
    "                    case \n",
    "                    when Cast(`Time-In-Secs` as int)<D.MinTime Then 'TakeOff'\n",
    "                    when Cast(`Time-In-Secs` as int) between D.MinTime and D.MaxTime Then 'Airborne'\n",
    "                    when Cast(`Time-In-Secs` as int)>D.MaxTime Then 'Approach' end Phase,\n",
    "                    case \n",
    "                    when Cast(replace(`Vertical-Speed-Derived`,'*','') as int) < 0\n",
    "                    and Cast(replace(`Vertical-Speed-Derived`,'*','') as int) > -300\n",
    "                    and \n",
    "                    Cast(`Time-In-Secs` as int)>D.MaxTime\n",
    "                    then 'High' else 'Low' end TriggerCondition,\n",
    "                    a.* from Q400Interim a\n",
    "                    inner join D  \n",
    "                    on a.FileName = D.FileName\n",
    "                    where Cast(`Time-In-Secs` as float)>D.MaxTime and `Radio-Altitude` <> 0 and `Main-WOW` = 'Air (0)'\n",
    "                    ''')\n",
    "\n",
    "FourthQuery.createOrReplaceTempView(\"E\")\n",
    "\n",
    "FifthQuery = spark.sql(f'''\n",
    "\n",
    "                SELECT * FROM E \n",
    "                LEFT JOIN precogdb.master_airport_elevation MAE ON E.Arrival=MAE.IATA\n",
    "                WHERE \n",
    "                TriggerCondition = 'High' \n",
    "                and cast(replace(`Vertical-Speed-Derived`,'*','') as int) > -300\n",
    "                and `Radio-Altitude` < 1000\n",
    "                and `Phase` = 'Approach'\n",
    "                AND   CASE \n",
    "                          WHEN MAE.Elevation IS NOT NULL THEN CAST(E.`BARO-CORRECTED-PALT-DERIVED` AS INT) < (CAST(MAE.Elevation AS INT) + 1000 )\n",
    "                          ELSE CAST(E.`BARO-CORRECTED-PALT-DERIVED` AS INT) < 3000\n",
    "                      END\n",
    "                \n",
    "                ''')\n"
   ]
  },
  {
   "cell_type": "code",
   "execution_count": 30,
   "id": "95ffca10-58a0-48f6-978b-b6052813fdb6",
   "metadata": {
    "execution": {
     "iopub.execute_input": "2022-11-01T11:46:48.128193Z",
     "iopub.status.busy": "2022-11-01T11:46:48.127982Z",
     "iopub.status.idle": "2022-11-01T11:46:48.376717Z",
     "shell.execute_reply": "2022-11-01T11:46:48.376214Z",
     "shell.execute_reply.started": "2022-11-01T11:46:48.128169Z"
    },
    "tags": []
   },
   "outputs": [
    {
     "data": {
      "application/vnd.jupyter.widget-view+json": {
       "model_id": "6cab67cc3d95496badded995de8a9a61",
       "version_major": 2,
       "version_minor": 0
      },
      "text/plain": [
       "VBox()"
      ]
     },
     "metadata": {},
     "output_type": "display_data"
    },
    {
     "data": {
      "application/vnd.jupyter.widget-view+json": {
       "model_id": "",
       "version_major": 2,
       "version_minor": 0
      },
      "text/plain": [
       "FloatProgress(value=0.0, bar_style='info', description='Progress:', layout=Layout(height='25px', width='50%'),…"
      ]
     },
     "metadata": {},
     "output_type": "display_data"
    }
   ],
   "source": [
    "FifthQuery.createOrReplaceTempView(\"F\")"
   ]
  },
  {
   "cell_type": "code",
   "execution_count": 31,
   "id": "b1bd4d61-16ff-4898-a836-1aef7088eea8",
   "metadata": {
    "execution": {
     "iopub.execute_input": "2022-11-01T11:46:48.908313Z",
     "iopub.status.busy": "2022-11-01T11:46:48.908092Z",
     "iopub.status.idle": "2022-11-01T11:46:49.159788Z",
     "shell.execute_reply": "2022-11-01T11:46:49.159264Z",
     "shell.execute_reply.started": "2022-11-01T11:46:48.908288Z"
    },
    "tags": []
   },
   "outputs": [
    {
     "data": {
      "application/vnd.jupyter.widget-view+json": {
       "model_id": "e6645d0fae754b14821502b51af0da08",
       "version_major": 2,
       "version_minor": 0
      },
      "text/plain": [
       "VBox()"
      ]
     },
     "metadata": {},
     "output_type": "display_data"
    },
    {
     "data": {
      "application/vnd.jupyter.widget-view+json": {
       "model_id": "",
       "version_major": 2,
       "version_minor": 0
      },
      "text/plain": [
       "FloatProgress(value=0.0, bar_style='info', description='Progress:', layout=Layout(height='25px', width='50%'),…"
      ]
     },
     "metadata": {},
     "output_type": "display_data"
    }
   ],
   "source": [
    "RangeDF=spark.sql('''SELECT `Time-In-Secs` - 1 AS Prev1,\n",
    "                            `Time-In-Secs` - 2 AS Prev2,\n",
    "                            `Time-In-Secs` - 3 AS Prev3,\n",
    "                            `Time-In-Secs` + 1 AS Next1,\n",
    "                            `Time-In-Secs` + 2 AS Next2,\n",
    "                            `Time-In-Secs` + 3 AS Next3,\n",
    "                            `Time-In-Secs`,\n",
    "                            FileName\n",
    "        FROM F ''')\n",
    "\n",
    "RangeDF.createOrReplaceTempView('RangeDF')"
   ]
  },
  {
   "cell_type": "code",
   "execution_count": 32,
   "id": "d0bee364-222e-4549-aa4a-cad1ce93490c",
   "metadata": {
    "execution": {
     "iopub.execute_input": "2022-11-01T11:46:49.628366Z",
     "iopub.status.busy": "2022-11-01T11:46:49.628153Z",
     "iopub.status.idle": "2022-11-01T11:46:50.384445Z",
     "shell.execute_reply": "2022-11-01T11:46:50.383926Z",
     "shell.execute_reply.started": "2022-11-01T11:46:49.628342Z"
    },
    "tags": []
   },
   "outputs": [
    {
     "data": {
      "application/vnd.jupyter.widget-view+json": {
       "model_id": "baa57b75fa714d19967b6c2f5395731a",
       "version_major": 2,
       "version_minor": 0
      },
      "text/plain": [
       "VBox()"
      ]
     },
     "metadata": {},
     "output_type": "display_data"
    },
    {
     "data": {
      "application/vnd.jupyter.widget-view+json": {
       "model_id": "",
       "version_major": 2,
       "version_minor": 0
      },
      "text/plain": [
       "FloatProgress(value=0.0, bar_style='info', description='Progress:', layout=Layout(height='25px', width='50%'),…"
      ]
     },
     "metadata": {},
     "output_type": "display_data"
    }
   ],
   "source": [
    "TempLROD=spark.sql('''\n",
    "            SELECT * FROM (\n",
    "            SELECT \n",
    "                    CASE WHEN \n",
    "                               BL.Prev1 = RP1.`Time-In-Secs`\n",
    "                              AND  BL.Prev2 = RP2.`Time-In-Secs`\n",
    "                              AND  BL.Prev3 = RP3.`Time-In-Secs`\n",
    "                        THEN 'Yes'\n",
    "                        ELSE 'No'\n",
    "                    END PreviosFlag,\n",
    "                    CASE WHEN \n",
    "                              BL.Next1 = RN1.`Time-In-Secs`\n",
    "                              AND  BL.Next2 = RN2.`Time-In-Secs`\n",
    "                              AND  BL.Next3 = RN3.`Time-In-Secs`\n",
    "                        THEN 'Yes'\n",
    "                        ELSE 'No'\n",
    "                    END NextFlag,\n",
    "                    BL.*\n",
    "             \n",
    "            FROM RangeDF BL\n",
    "            LEFT JOIN F RP1 ON BL.FileName=RP1.FileName AND BL.Prev1 = RP1.`Time-In-Secs`\n",
    "            LEFT JOIN F RP2 ON BL.FileName=RP2.FileName AND BL.Prev2 = RP2.`Time-In-Secs`\n",
    "            LEFT JOIN F RP3 ON BL.FileName=RP3.FileName AND BL.Prev3 = RP3.`Time-In-Secs`\n",
    "            LEFT JOIN F RN1 ON BL.FileName=RN1.FileName AND BL.Next1 = RN1.`Time-In-Secs`\n",
    "            LEFT JOIN F RN2 ON BL.FileName=RN2.FileName AND BL.Next2 = RN2.`Time-In-Secs`\n",
    "            LEFT JOIN F RN3 ON BL.FileName=RN3.FileName AND BL.Next3 = RN3.`Time-In-Secs`\n",
    "                 ) FINAL\n",
    "                 \n",
    "        WHERE\n",
    "                FINAL.PreviosFlag='Yes'  OR FINAL.NextFlag='Yes'\n",
    "\n",
    "                                                ''')\n",
    "\n",
    "TempLROD.createOrReplaceTempView('TempLROD')"
   ]
  },
  {
   "cell_type": "code",
   "execution_count": 33,
   "id": "55dcf3b3-8c7b-43d4-b00a-8983b6fd6876",
   "metadata": {
    "execution": {
     "iopub.execute_input": "2022-11-01T11:46:50.968652Z",
     "iopub.status.busy": "2022-11-01T11:46:50.968427Z",
     "iopub.status.idle": "2022-11-01T11:46:51.728131Z",
     "shell.execute_reply": "2022-11-01T11:46:51.727565Z",
     "shell.execute_reply.started": "2022-11-01T11:46:50.968628Z"
    },
    "tags": []
   },
   "outputs": [
    {
     "data": {
      "application/vnd.jupyter.widget-view+json": {
       "model_id": "e288d8003ff74ee2902d14c7e75bec68",
       "version_major": 2,
       "version_minor": 0
      },
      "text/plain": [
       "VBox()"
      ]
     },
     "metadata": {},
     "output_type": "display_data"
    },
    {
     "data": {
      "application/vnd.jupyter.widget-view+json": {
       "model_id": "",
       "version_major": 2,
       "version_minor": 0
      },
      "text/plain": [
       "FloatProgress(value=0.0, bar_style='info', description='Progress:', layout=Layout(height='25px', width='50%'),…"
      ]
     },
     "metadata": {},
     "output_type": "display_data"
    }
   ],
   "source": [
    "FinalLROD=spark.sql('''\n",
    "            SELECT A1.* FROM F A1\n",
    "                        INNER JOIN (\n",
    "\n",
    "                        SELECT Prev1 as Times,filename FROM TempLROD WHERE PreviosFlag='Yes'\n",
    "                        UNION SELECT Prev2 as Times,filename FROM TempLROD WHERE PreviosFlag='Yes'\n",
    "                        UNION SELECT Prev3 as Times,filename FROM TempLROD WHERE PreviosFlag='Yes'\n",
    "                        UNION SELECT Next1 as Times,filename FROM TempLROD WHERE NextFlag='Yes'\n",
    "                        UNION SELECT Next2 as Times,filename FROM TempLROD WHERE NextFlag='Yes'\n",
    "                        UNION SELECT Next3 as Times,filename FROM TempLROD WHERE NextFlag='Yes' ) A2 ON A1.filename=A2.filename   AND A1.`Time-In-Secs`=A2.Times\n",
    "        \n",
    "                        ''')"
   ]
  },
  {
   "cell_type": "code",
   "execution_count": 34,
   "id": "3739dc2e-6167-4c48-988f-4aed6ba1ee3b",
   "metadata": {
    "execution": {
     "iopub.execute_input": "2022-11-01T11:46:52.248328Z",
     "iopub.status.busy": "2022-11-01T11:46:52.248133Z",
     "iopub.status.idle": "2022-11-01T11:46:53.505691Z",
     "shell.execute_reply": "2022-11-01T11:46:53.505051Z",
     "shell.execute_reply.started": "2022-11-01T11:46:52.248305Z"
    },
    "tags": []
   },
   "outputs": [
    {
     "data": {
      "application/vnd.jupyter.widget-view+json": {
       "model_id": "16302b697bf44f41b7b2484c521768d3",
       "version_major": 2,
       "version_minor": 0
      },
      "text/plain": [
       "VBox()"
      ]
     },
     "metadata": {},
     "output_type": "display_data"
    },
    {
     "data": {
      "application/vnd.jupyter.widget-view+json": {
       "model_id": "",
       "version_major": 2,
       "version_minor": 0
      },
      "text/plain": [
       "FloatProgress(value=0.0, bar_style='info', description='Progress:', layout=Layout(height='25px', width='50%'),…"
      ]
     },
     "metadata": {},
     "output_type": "display_data"
    }
   ],
   "source": [
    "FinalLROD.createOrReplaceTempView('FinalLROD')"
   ]
  },
  {
   "cell_type": "code",
   "execution_count": 35,
   "id": "4502c0c2-deef-4309-bdd4-521013742f22",
   "metadata": {
    "execution": {
     "iopub.execute_input": "2022-11-01T11:46:54.108217Z",
     "iopub.status.busy": "2022-11-01T11:46:54.107998Z",
     "iopub.status.idle": "2022-11-01T11:48:31.857635Z",
     "shell.execute_reply": "2022-11-01T11:48:31.239774Z",
     "shell.execute_reply.started": "2022-11-01T11:46:54.108192Z"
    },
    "tags": []
   },
   "outputs": [
    {
     "data": {
      "application/vnd.jupyter.widget-view+json": {
       "model_id": "8bb70c245c8240599c49c531f174a37e",
       "version_major": 2,
       "version_minor": 0
      },
      "text/plain": [
       "VBox()"
      ]
     },
     "metadata": {},
     "output_type": "display_data"
    },
    {
     "data": {
      "application/vnd.jupyter.widget-view+json": {
       "model_id": "",
       "version_major": 2,
       "version_minor": 0
      },
      "text/plain": [
       "FloatProgress(value=0.0, bar_style='info', description='Progress:', layout=Layout(height='25px', width='50%'),…"
      ]
     },
     "metadata": {},
     "output_type": "display_data"
    },
    {
     "name": "stdout",
     "output_type": "stream",
     "text": [
      "6128"
     ]
    }
   ],
   "source": [
    "FinalLROD.count()"
   ]
  },
  {
   "cell_type": "code",
   "execution_count": 17,
   "id": "9811d087-df22-4cd7-b828-0a7e3320b782",
   "metadata": {
    "execution": {
     "iopub.execute_input": "2022-11-01T11:39:31.828954Z",
     "iopub.status.busy": "2022-11-01T11:39:31.828720Z",
     "iopub.status.idle": "2022-11-01T11:41:19.629828Z",
     "shell.execute_reply": "2022-11-01T11:41:19.629309Z",
     "shell.execute_reply.started": "2022-11-01T11:39:31.828930Z"
    },
    "tags": []
   },
   "outputs": [
    {
     "data": {
      "application/vnd.jupyter.widget-view+json": {
       "model_id": "1ff7c322add84bc38cc759943500403d",
       "version_major": 2,
       "version_minor": 0
      },
      "text/plain": [
       "VBox()"
      ]
     },
     "metadata": {},
     "output_type": "display_data"
    },
    {
     "data": {
      "application/vnd.jupyter.widget-view+json": {
       "model_id": "",
       "version_major": 2,
       "version_minor": 0
      },
      "text/plain": [
       "FloatProgress(value=0.0, bar_style='info', description='Progress:', layout=Layout(height='25px', width='50%'),…"
      ]
     },
     "metadata": {},
     "output_type": "display_data"
    },
    {
     "name": "stdout",
     "output_type": "stream",
     "text": [
      "+------------+\n",
      "|Time-In-Secs|\n",
      "+------------+\n",
      "|6241.0      |\n",
      "|6235.0      |\n",
      "|6240.0      |\n",
      "|6237.0      |\n",
      "|6238.0      |\n",
      "|6234.0      |\n",
      "|6242.0      |\n",
      "|6239.0      |\n",
      "|6236.0      |\n",
      "+------------+"
     ]
    }
   ],
   "source": [
    "spark.sql(''' \n",
    "                SELECT distinct(`Time-In-Secs`) FROM FinalLROD \n",
    "                WHERE Filename = 'ALL ac=VT-SUD dep=GOI arr=AMD fn=SEJ2978 dt=20220107.csv'\n",
    "            ''').show(truncate=False)"
   ]
  },
  {
   "cell_type": "code",
   "execution_count": null,
   "id": "825f64ce-6e2a-4948-97f8-a7c2411fad08",
   "metadata": {},
   "outputs": [],
   "source": []
  }
 ],
 "metadata": {
  "kernelspec": {
   "display_name": "PySpark",
   "language": "",
   "name": "pysparkkernel"
  },
  "language_info": {
   "codemirror_mode": {
    "name": "python",
    "version": 3
   },
   "mimetype": "text/x-python",
   "name": "pyspark",
   "pygments_lexer": "python3"
  }
 },
 "nbformat": 4,
 "nbformat_minor": 5
}
