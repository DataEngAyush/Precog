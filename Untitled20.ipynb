{
 "cells": [
  {
   "cell_type": "code",
   "execution_count": 1,
   "id": "9987411d-69cf-4cf9-ad52-d0c23bacbf02",
   "metadata": {
    "execution": {
     "iopub.execute_input": "2023-01-23T05:01:51.019123Z",
     "iopub.status.busy": "2023-01-23T05:01:51.018796Z",
     "iopub.status.idle": "2023-01-23T05:01:51.103769Z",
     "shell.execute_reply": "2023-01-23T05:01:51.103106Z",
     "shell.execute_reply.started": "2023-01-23T05:01:51.019079Z"
    },
    "tags": []
   },
   "outputs": [
    {
     "data": {
      "text/html": [
       "Current session configs: <tt>{'conf': {'spark.jars': 's3://sjet-datamart-bucket/Jars/mssql-jdbc-6.1.0.jre8.jar', 'spark.sql.crossJoin.enabled': 'true'}, 'proxyUser': 'user_ayush_vaishnav', 'kind': 'pyspark'}</tt><br>"
      ],
      "text/plain": [
       "<IPython.core.display.HTML object>"
      ]
     },
     "metadata": {},
     "output_type": "display_data"
    },
    {
     "data": {
      "text/html": [
       "<table>\n",
       "<tr><th>ID</th><th>YARN Application ID</th><th>Kind</th><th>State</th><th>Spark UI</th><th>Driver log</th><th>Current session?</th></tr><tr><td>0</td><td>application_1674448808359_0002</td><td>pyspark</td><td>idle</td><td><a target=\"_blank\" href=\"http://ip-20-0-4-125.ap-south-1.compute.internal:20888/proxy/application_1674448808359_0002/\" class=\"emr-proxy-link\" emr-resource=\"j-2HG9EYRMIXWUV\n",
       "\" application-id=\"application_1674448808359_0002\">Link</a></td><td><a target=\"_blank\" href=\"http://ip-20-0-4-85.ap-south-1.compute.internal:8042/node/containerlogs/container_1674448808359_0002_01_000001/livy\" >Link</a></td><td></td></tr></table>"
      ],
      "text/plain": [
       "<IPython.core.display.HTML object>"
      ]
     },
     "metadata": {},
     "output_type": "display_data"
    }
   ],
   "source": [
    "%%configure -f\n",
    "{\n",
    "    \"conf\": {\n",
    "        \"spark.jars\": \"s3://sjet-datamart-bucket/Jars/mssql-jdbc-6.1.0.jre8.jar\",\n",
    "        \"spark.sql.crossJoin.enabled\": \"true\"\n",
    "    }\n",
    "}"
   ]
  },
  {
   "cell_type": "code",
   "execution_count": 2,
   "id": "b765f5f4-d666-4094-8612-3ecd1b048121",
   "metadata": {
    "execution": {
     "iopub.execute_input": "2023-01-23T05:01:51.104912Z",
     "iopub.status.busy": "2023-01-23T05:01:51.104753Z",
     "iopub.status.idle": "2023-01-23T05:02:17.450943Z",
     "shell.execute_reply": "2023-01-23T05:02:17.450403Z",
     "shell.execute_reply.started": "2023-01-23T05:01:51.104892Z"
    }
   },
   "outputs": [
    {
     "data": {
      "application/vnd.jupyter.widget-view+json": {
       "model_id": "7c0e6d9d6d7a434b91f7b517c9b67eb5",
       "version_major": 2,
       "version_minor": 0
      },
      "text/plain": [
       "VBox()"
      ]
     },
     "metadata": {},
     "output_type": "display_data"
    },
    {
     "name": "stdout",
     "output_type": "stream",
     "text": [
      "Starting Spark application\n"
     ]
    },
    {
     "data": {
      "text/html": [
       "<table>\n",
       "<tr><th>ID</th><th>YARN Application ID</th><th>Kind</th><th>State</th><th>Spark UI</th><th>Driver log</th><th>Current session?</th></tr><tr><td>2</td><td>application_1674448808359_0004</td><td>pyspark</td><td>idle</td><td><a target=\"_blank\" href=\"http://ip-20-0-4-125.ap-south-1.compute.internal:20888/proxy/application_1674448808359_0004/\" class=\"emr-proxy-link\" emr-resource=\"j-2HG9EYRMIXWUV\n",
       "\" application-id=\"application_1674448808359_0004\">Link</a></td><td><a target=\"_blank\" href=\"http://ip-20-0-4-85.ap-south-1.compute.internal:8042/node/containerlogs/container_1674448808359_0004_01_000001/livy\" >Link</a></td><td>✔</td></tr></table>"
      ],
      "text/plain": [
       "<IPython.core.display.HTML object>"
      ]
     },
     "metadata": {},
     "output_type": "display_data"
    },
    {
     "data": {
      "application/vnd.jupyter.widget-view+json": {
       "model_id": "",
       "version_major": 2,
       "version_minor": 0
      },
      "text/plain": [
       "FloatProgress(value=0.0, bar_style='info', description='Progress:', layout=Layout(height='25px', width='50%'),…"
      ]
     },
     "metadata": {},
     "output_type": "display_data"
    },
    {
     "name": "stdout",
     "output_type": "stream",
     "text": [
      "SparkSession available as 'spark'.\n"
     ]
    },
    {
     "data": {
      "application/vnd.jupyter.widget-view+json": {
       "model_id": "",
       "version_major": 2,
       "version_minor": 0
      },
      "text/plain": [
       "FloatProgress(value=0.0, bar_style='info', description='Progress:', layout=Layout(height='25px', width='50%'),…"
      ]
     },
     "metadata": {},
     "output_type": "display_data"
    }
   ],
   "source": [
    "from pyspark import SparkConf\n",
    "from pyspark import SparkContext\n",
    "from pyspark.sql import SparkSession\n",
    "from pyspark.sql.types import *\n",
    "from pyspark.sql import functions as F\n",
    "import boto3\n",
    "import sys\n",
    "import re\n",
    "from datetime import datetime\n",
    "import configparser"
   ]
  },
  {
   "cell_type": "code",
   "execution_count": 3,
   "id": "af1186dd-3611-4e9f-ad6c-ae0de3c20814",
   "metadata": {
    "execution": {
     "iopub.execute_input": "2023-01-23T05:03:20.925839Z",
     "iopub.status.busy": "2023-01-23T05:03:20.925622Z",
     "iopub.status.idle": "2023-01-23T05:03:28.240458Z",
     "shell.execute_reply": "2023-01-23T05:03:28.239621Z",
     "shell.execute_reply.started": "2023-01-23T05:03:20.925816Z"
    }
   },
   "outputs": [
    {
     "data": {
      "application/vnd.jupyter.widget-view+json": {
       "model_id": "4535cb02ab8a4240813c2905f7ebace4",
       "version_major": 2,
       "version_minor": 0
      },
      "text/plain": [
       "VBox()"
      ]
     },
     "metadata": {},
     "output_type": "display_data"
    },
    {
     "data": {
      "application/vnd.jupyter.widget-view+json": {
       "model_id": "",
       "version_major": 2,
       "version_minor": 0
      },
      "text/plain": [
       "FloatProgress(value=0.0, bar_style='info', description='Progress:', layout=Layout(height='25px', width='50%'),…"
      ]
     },
     "metadata": {},
     "output_type": "display_data"
    }
   ],
   "source": [
    "Q400_512WPS_1 = spark.sql('''\n",
    "                        SELECT\n",
    "                        \n",
    "                        ECN,\n",
    "                        \n",
    "                        UTC_TIMEDATE,\n",
    "                        \n",
    "                        FileName,\n",
    "\n",
    "                        CAST((MAX(`Time-In-Secs`) - MIN(`Time-In-Secs`)) / 60 AS INT) AS FlightTime\n",
    "             \n",
    "                        FROM precogdb.q400512wps\n",
    "                        \n",
    "                        WHERE FlightDate > '2022-10-31'\n",
    "                        \n",
    "                        AND `Rad-Alt` NOT LIKE '%*%'\n",
    "                        \n",
    "                        AND `Rad-Alt` <> ''\n",
    "                        \n",
    "                        AND `WOW-MLG` = 'Air (0)'\n",
    "\n",
    "                        --AND  CAST(LoadedDate AS DATE) = CAST (current_timestamp AS DATE)\n",
    "\n",
    "                        GROUP BY ECN, UTC_TIMEDATE, Filename\n",
    "                            ''')\n",
    "\n",
    "Q400_512WPS_1.createOrReplaceTempView('Q400_512WPS_1')\n",
    "\n",
    "Q400_Time = spark.sql('''\n",
    "\n",
    "                                SELECT CAST((MAX(CAST(`Time-in-secs` AS INT)) - MIN(CAST(`Time-in-secs` AS INT))) / 60 AS INT) AS BlockTime_DFDR, filename\n",
    "                                \n",
    "                                FROM precogdb.q400512wps\n",
    "                                \n",
    "                                WHERE FlightDate > '2022-10-31'\n",
    "\n",
    "                                --AND  CAST(LoadedDate AS DATE) = CAST (current_timestamp AS DATE)\n",
    "                                \n",
    "                                group by filename\n",
    "                            ''')\n",
    "\n",
    "Q400_Time.createOrReplaceTempView('Q400_Time')\n",
    "\n",
    "Q400_512WPS_2 = spark.sql('''\n",
    "\n",
    "                        SELECT \n",
    "                        \n",
    "                            DISTINCT\n",
    "                        \n",
    "                               Cast(ChocksOff as Date) AS FlightDate,\n",
    "                               \n",
    "                               TailNo,\n",
    "                               \n",
    "                               Departure,\n",
    "                               \n",
    "                               ChocksOff,\n",
    "                               \n",
    "                               date_format(ChocksOff, 'HH:mm:ss') AS Actual_DEP_Time,\n",
    "                               \n",
    "                               Arrival,\n",
    "                               \n",
    "                               date_format(ChocksOn, 'HH:mm:ss') AS Actual_ARR_Time,\n",
    "                               \n",
    "                               (bigint(to_timestamp(ChocksOn)) - bigint(to_timestamp(ChocksOff))) / 60 AS BlockTime_ARMS, \n",
    "                               \n",
    "                               CONCAT(Departure, '-', Arrival) AS Sector,\n",
    "                                                    \n",
    "                               desigflightnumber AS FlightNo,\n",
    "                               \n",
    "                               Date,\n",
    "                               \n",
    "                               ECN,\n",
    "                               \n",
    "                               UTC_TIMEDATE,\n",
    "                               \n",
    "                               CAST(SUM((CAST (`FUEL-FLOW-2-kg-h` AS INT) + CAST (`FUEL-FLOW-1-kg-h` AS INT))) OVER (PARTITION BY ECN, UTC_TIMEDATE, Filename) / 3600 AS INT) AS FuelConsumed,\n",
    "                               \n",
    "                               FileName,\n",
    "                               \n",
    "                               loadeddate,\n",
    "                               \n",
    "                               year,\n",
    "                               \n",
    "                               month\n",
    "                               \n",
    "                              FROM precogdb.q400512wps\n",
    "                        \n",
    "                        WHERE FlightDate > '2022-10-31'\n",
    "                        \n",
    "                        --AND CAST(LoadedDate AS DATE) = CAST (current_timestamp AS DATE)\n",
    "                        \n",
    "                        AND `Rad-Alt` NOT LIKE '%*%'\n",
    "                        \n",
    "                        AND `Rad-Alt` <> ''\n",
    "                        \n",
    "                        AND UTC_TIMEDATE BETWEEN (ChocksOff - INTERVAL 360 MINUTES) AND (ChocksOff - INTERVAL 300 MINUTES)\n",
    "             \n",
    "                        ''')\n",
    "\n",
    "Q400_512WPS_2.createOrReplaceTempView('Q400_512WPS_2')\n",
    "\n",
    "Q400_512WPS_2_1 = spark.sql('''\n",
    "\n",
    "                        SELECT a.*,b.Blocktime_DFDR\n",
    "                        \n",
    "                        FROM Q400_512WPS_2 a \n",
    "                        \n",
    "                        left JOIN Q400_Time b\n",
    "                        \n",
    "                        ON a.filename = b.filename\n",
    "                    ''')\n",
    "\n",
    "Q400_512WPS_2_1.createOrReplaceTempView('Q400_512WPS_2_1')"
   ]
  },
  {
   "cell_type": "code",
   "execution_count": 4,
   "id": "9d34b71a-61c9-4d4d-a034-9ec3abcaee9c",
   "metadata": {
    "execution": {
     "iopub.execute_input": "2023-01-23T05:17:30.285802Z",
     "iopub.status.busy": "2023-01-23T05:17:30.285588Z",
     "iopub.status.idle": "2023-01-23T05:17:31.046884Z",
     "shell.execute_reply": "2023-01-23T05:17:31.046329Z",
     "shell.execute_reply.started": "2023-01-23T05:17:30.285780Z"
    }
   },
   "outputs": [
    {
     "data": {
      "application/vnd.jupyter.widget-view+json": {
       "model_id": "ca08182ed2054ebe939329ed8ff941d8",
       "version_major": 2,
       "version_minor": 0
      },
      "text/plain": [
       "VBox()"
      ]
     },
     "metadata": {},
     "output_type": "display_data"
    },
    {
     "data": {
      "application/vnd.jupyter.widget-view+json": {
       "model_id": "",
       "version_major": 2,
       "version_minor": 0
      },
      "text/plain": [
       "FloatProgress(value=0.0, bar_style='info', description='Progress:', layout=Layout(height='25px', width='50%'),…"
      ]
     },
     "metadata": {},
     "output_type": "display_data"
    }
   ],
   "source": [
    "ARMSDATADF = spark.read \\\n",
    "  .format(\"jdbc\") \\\n",
    "  .option(\"driver\", \"com.microsoft.sqlserver.jdbc.SQLServerDriver\") \\\n",
    "  .option(\"url\", \"jdbc:sqlserver://10.150.72.22:1433;databaseName=FuelDashBoard\") \\\n",
    "  .option(\"dbtable\", \"ARMSDATA\") \\\n",
    "  .option(\"user\", \"dmbigdata\") \\\n",
    "  .option(\"password\", \"$p!Ce@bigData$db\") \\\n",
    "  .load()"
   ]
  },
  {
   "cell_type": "code",
   "execution_count": 5,
   "id": "ce2f6c2f-3f4a-4a7b-809f-9bb099f1ed7e",
   "metadata": {
    "execution": {
     "iopub.execute_input": "2023-01-23T05:17:59.990713Z",
     "iopub.status.busy": "2023-01-23T05:17:59.990489Z",
     "iopub.status.idle": "2023-01-23T05:18:00.042021Z",
     "shell.execute_reply": "2023-01-23T05:18:00.041380Z",
     "shell.execute_reply.started": "2023-01-23T05:17:59.990689Z"
    }
   },
   "outputs": [
    {
     "data": {
      "application/vnd.jupyter.widget-view+json": {
       "model_id": "325a7e45ba16490f8105254eb0b04ead",
       "version_major": 2,
       "version_minor": 0
      },
      "text/plain": [
       "VBox()"
      ]
     },
     "metadata": {},
     "output_type": "display_data"
    },
    {
     "data": {
      "application/vnd.jupyter.widget-view+json": {
       "model_id": "",
       "version_major": 2,
       "version_minor": 0
      },
      "text/plain": [
       "FloatProgress(value=0.0, bar_style='info', description='Progress:', layout=Layout(height='25px', width='50%'),…"
      ]
     },
     "metadata": {},
     "output_type": "display_data"
    }
   ],
   "source": [
    "ARMSDATADF.createOrReplaceTempView('ARMSDATADF')"
   ]
  },
  {
   "cell_type": "code",
   "execution_count": null,
   "id": "7f799e36-b560-4048-a102-f78f27cbbbe9",
   "metadata": {},
   "outputs": [],
   "source": []
  }
 ],
 "metadata": {
  "kernelspec": {
   "display_name": "PySpark",
   "language": "",
   "name": "pysparkkernel"
  },
  "language_info": {
   "codemirror_mode": {
    "name": "python",
    "version": 3
   },
   "mimetype": "text/x-python",
   "name": "pyspark",
   "pygments_lexer": "python3"
  }
 },
 "nbformat": 4,
 "nbformat_minor": 5
}
