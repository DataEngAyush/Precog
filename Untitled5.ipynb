{
 "cells": [
  {
   "cell_type": "code",
   "execution_count": null,
   "id": "236de990-aee0-461e-a35f-406159d61de4",
   "metadata": {},
   "outputs": [],
   "source": [
    "#ALL ac=VT-SUF dep=JAI arr=PNQ fn=SG 2964 dt=20220609.csv"
   ]
  },
  {
   "cell_type": "code",
   "execution_count": 22,
   "id": "f4a38c11-c10d-4a11-b4f5-e157f71731f7",
   "metadata": {
    "execution": {
     "iopub.execute_input": "2022-10-11T07:33:44.771238Z",
     "iopub.status.busy": "2022-10-11T07:33:44.771018Z",
     "iopub.status.idle": "2022-10-11T07:33:44.820133Z",
     "shell.execute_reply": "2022-10-11T07:33:44.819648Z",
     "shell.execute_reply.started": "2022-10-11T07:33:44.771214Z"
    },
    "tags": []
   },
   "outputs": [
    {
     "data": {
      "application/vnd.jupyter.widget-view+json": {
       "model_id": "8441819c649941c08e57137481d2ac3b",
       "version_major": 2,
       "version_minor": 0
      },
      "text/plain": [
       "VBox()"
      ]
     },
     "metadata": {},
     "output_type": "display_data"
    },
    {
     "data": {
      "application/vnd.jupyter.widget-view+json": {
       "model_id": "",
       "version_major": 2,
       "version_minor": 0
      },
      "text/plain": [
       "FloatProgress(value=0.0, bar_style='info', description='Progress:', layout=Layout(height='25px', width='50%'),…"
      ]
     },
     "metadata": {},
     "output_type": "display_data"
    }
   ],
   "source": [
    "from pyspark.sql.functions import input_file_name, regexp_extract, regexp_replace, col, lit, current_timestamp\n",
    "from pyspark.sql.types import StructType, StringType\n",
    "from  pyspark.sql.functions import input_file_name\n",
    "from pyspark.sql.types import * \n",
    "from pyspark.sql import functions as F\n",
    "from pyspark.sql import SparkSession\n",
    "from pyspark import SparkConf, SparkContext\n",
    "from datetime import date\n",
    "import configparser\n",
    "import boto3\n",
    "import sys\n",
    "import re"
   ]
  },
  {
   "cell_type": "code",
   "execution_count": 23,
   "id": "1b0601c9-42cd-4556-aa2c-a34c8513cea8",
   "metadata": {
    "execution": {
     "iopub.execute_input": "2022-10-11T07:33:45.304870Z",
     "iopub.status.busy": "2022-10-11T07:33:45.304590Z",
     "iopub.status.idle": "2022-10-11T07:33:45.362920Z",
     "shell.execute_reply": "2022-10-11T07:33:45.362261Z",
     "shell.execute_reply.started": "2022-10-11T07:33:45.304845Z"
    },
    "tags": []
   },
   "outputs": [
    {
     "data": {
      "application/vnd.jupyter.widget-view+json": {
       "model_id": "5b4fe8e413324b29959f0e038985031d",
       "version_major": 2,
       "version_minor": 0
      },
      "text/plain": [
       "VBox()"
      ]
     },
     "metadata": {},
     "output_type": "display_data"
    },
    {
     "data": {
      "application/vnd.jupyter.widget-view+json": {
       "model_id": "",
       "version_major": 2,
       "version_minor": 0
      },
      "text/plain": [
       "FloatProgress(value=0.0, bar_style='info', description='Progress:', layout=Layout(height='25px', width='50%'),…"
      ]
     },
     "metadata": {},
     "output_type": "display_data"
    }
   ],
   "source": [
    "RawSchema=StructType([\n",
    "                                    StructField(\"Time-In-Secs\", DoubleType(), nullable=True), \\\n",
    "                                    StructField(\"Time-Per-Sec\", StringType(), nullable=True),\\\n",
    "                                    StructField(\"BARO-CORRECTED-PALT-DERIVED\", StringType(), nullable=True),\\\n",
    "                                    StructField(\"Altitude-BaroL\", StringType(), nullable=True),\\\n",
    "                                    StructField(\"Magnetic-Heading\", StringType(), nullable=True),\\\n",
    "                                    StructField(\"Pitch-Attitude\", StringType(), nullable=True),\\\n",
    "                                    StructField(\"Roll-Attitude\", StringType(), nullable=True),\\\n",
    "                                    StructField(\"Radio-Altitude\", StringType(), nullable=True),\\\n",
    "                                    StructField(\"Nose-WOW\", StringType(), nullable=True),\\\n",
    "                                    StructField(\"Main-WOW\", StringType(), nullable=True),\\\n",
    "                                    StructField(\"Normal-Acceleration\", StringType(), nullable=True),\\\n",
    "                                    StructField(\"Lateral-Acceleration\", StringType(), nullable=True),\\\n",
    "                                    StructField(\"Longitudinal-Acceleration\", StringType(), nullable=True),\\\n",
    "                                    StructField(\"Calibrated-Airspeed-L\", StringType(), nullable=True),\\\n",
    "                                    StructField(\"AFCS-Selected-Speed\", StringType(), nullable=True),\\\n",
    "                                    StructField(\"Vertical-Speed-Derived\", StringType(), nullable=True),\\\n",
    "                                    StructField(\"Ground-Speed\", StringType(), nullable=True),\\\n",
    "                                    StructField(\"Flap-Control-Selection\", StringType(), nullable=True),\\\n",
    "                                    StructField(\"FLAP-POSITION\", StringType(), nullable=True),\\\n",
    "                                    StructField(\"Power-Lever-Pos-L\", StringType(), nullable=True),\\\n",
    "                                    StructField(\"Power-Lever-Pos-R\", StringType(), nullable=True),\\\n",
    "                                    StructField(\"Torque-TQ-Eng-L\", StringType(), nullable=True),\\\n",
    "                                    StructField(\"Torque-TQ-Eng-R\", StringType(), nullable=True),\\\n",
    "                                    StructField(\"Condition-Lever-L\", StringType(), nullable=True),\\\n",
    "                                    StructField(\"Condition-Lever-R\", StringType(), nullable=True),\\\n",
    "                                    StructField(\"Prop-RPM-Np-Eng-L\", StringType(), nullable=True),\\\n",
    "                                    StructField(\"Prop-RPM-Np-Eng-R\", StringType(), nullable=True),\\\n",
    "                                    StructField(\"GPWS-Alert/Warning\", StringType(), nullable=True),\\\n",
    "                                    StructField(\"GPWS-Glideslope-Alert\", StringType(), nullable=True),\\\n",
    "                                    StructField(\"AFCS-Glideslope-Active\", StringType(), nullable=True),\\\n",
    "                                    StructField(\"AFCS-LOC-Active\", StringType(), nullable=True),\\\n",
    "                                    StructField(\"AFCS-VOR-Active\", StringType(), nullable=True),\\\n",
    "                                    StructField(\"GLIDE-PATH-DEV-PILOT-ABOVE\", StringType(), nullable=True),\\\n",
    "                                    StructField(\"GLIDE-PATH-DEV-COPILOT-ABOVE\", StringType(), nullable=True),\\\n",
    "                                    StructField(\"DME-DISTANCE-1\", StringType(), nullable=True),\\\n",
    "                                    StructField(\"DME-DISTANCE-2\", StringType(), nullable=True),\\\n",
    "                                    StructField(\"VOR-1-SELECT-FREQ\", StringType(), nullable=True),\\\n",
    "                                    StructField(\"VOR-2-SELECT-FREQ\", StringType(), nullable=True),\\\n",
    "                                    StructField(\"WIND-ANGLE\", StringType(), nullable=True),\\\n",
    "                                    StructField(\"WIND-SPEED\", StringType(), nullable=True),\\\n",
    "                                    StructField(\"BRAKE-PRESS-LEFT\", StringType(), nullable=True),\\\n",
    "                                    StructField(\"BRAKE-PRESS-RIGHT\", StringType(), nullable=True),\\\n",
    "                                    StructField(\"Thrust-Rev-Low-Beta-Eng-L\", StringType(), nullable=True),\\\n",
    "                                    StructField(\"Thrust-Rev-Low-Beta-Eng-R\", StringType(), nullable=True),\\\n",
    "                                    StructField(\"AFCS-Autopilot-Engaged\", StringType(), nullable=True),\n",
    "                                    ])"
   ]
  },
  {
   "cell_type": "code",
   "execution_count": 24,
   "id": "3c951a71-e897-40ff-a466-18dcf63759bf",
   "metadata": {
    "execution": {
     "iopub.execute_input": "2022-10-11T07:33:45.893143Z",
     "iopub.status.busy": "2022-10-11T07:33:45.892923Z",
     "iopub.status.idle": "2022-10-11T07:33:46.147003Z",
     "shell.execute_reply": "2022-10-11T07:33:46.146497Z",
     "shell.execute_reply.started": "2022-10-11T07:33:45.893120Z"
    },
    "tags": []
   },
   "outputs": [
    {
     "data": {
      "application/vnd.jupyter.widget-view+json": {
       "model_id": "2213623d9a0c45148734885904c76faa",
       "version_major": 2,
       "version_minor": 0
      },
      "text/plain": [
       "VBox()"
      ]
     },
     "metadata": {},
     "output_type": "display_data"
    },
    {
     "data": {
      "application/vnd.jupyter.widget-view+json": {
       "model_id": "",
       "version_major": 2,
       "version_minor": 0
      },
      "text/plain": [
       "FloatProgress(value=0.0, bar_style='info', description='Progress:', layout=Layout(height='25px', width='50%'),…"
      ]
     },
     "metadata": {},
     "output_type": "display_data"
    }
   ],
   "source": [
    "#df1 = spark.read.csv('s3://sjet-datamart-bucket/PrecogFiles/Q400/128 WPS/20220609/ALL ac=VT-SUF dep=JAI arr=PNQ fn=SG 2964 dt=20220609.csv', header = True)\n",
    "raw_df=spark.read.csv('s3://sjet-datamart-bucket/PrecogFiles/Q400/128 WPS/20220601/ALL ac=VT-SUE dep=HYD arr=BLR fn=SEJ7668 dt=20220601.csv',header=True,schema=RawSchema)"
   ]
  },
  {
   "cell_type": "code",
   "execution_count": 25,
   "id": "e078b40d-9647-4727-9983-5868c45402b4",
   "metadata": {
    "execution": {
     "iopub.execute_input": "2022-10-11T07:33:49.684671Z",
     "iopub.status.busy": "2022-10-11T07:33:49.684442Z",
     "iopub.status.idle": "2022-10-11T07:33:56.972849Z",
     "shell.execute_reply": "2022-10-11T07:33:56.972341Z",
     "shell.execute_reply.started": "2022-10-11T07:33:49.684647Z"
    },
    "tags": []
   },
   "outputs": [
    {
     "data": {
      "application/vnd.jupyter.widget-view+json": {
       "model_id": "4a66d55188eb40b998443c3a5e2c5574",
       "version_major": 2,
       "version_minor": 0
      },
      "text/plain": [
       "VBox()"
      ]
     },
     "metadata": {},
     "output_type": "display_data"
    },
    {
     "data": {
      "application/vnd.jupyter.widget-view+json": {
       "model_id": "",
       "version_major": 2,
       "version_minor": 0
      },
      "text/plain": [
       "FloatProgress(value=0.0, bar_style='info', description='Progress:', layout=Layout(height='25px', width='50%'),…"
      ]
     },
     "metadata": {},
     "output_type": "display_data"
    },
    {
     "name": "stdout",
     "output_type": "stream",
     "text": [
      "37888"
     ]
    }
   ],
   "source": [
    "raw_df.count()"
   ]
  },
  {
   "cell_type": "code",
   "execution_count": 26,
   "id": "28f563d8-3fdd-4dce-a9c5-e54a76d70136",
   "metadata": {
    "execution": {
     "iopub.execute_input": "2022-10-11T07:33:58.576686Z",
     "iopub.status.busy": "2022-10-11T07:33:58.576458Z",
     "iopub.status.idle": "2022-10-11T07:33:58.827844Z",
     "shell.execute_reply": "2022-10-11T07:33:58.827259Z",
     "shell.execute_reply.started": "2022-10-11T07:33:58.576663Z"
    },
    "tags": []
   },
   "outputs": [
    {
     "data": {
      "application/vnd.jupyter.widget-view+json": {
       "model_id": "abc69fe0838c4f04b92e807fbf50c7c9",
       "version_major": 2,
       "version_minor": 0
      },
      "text/plain": [
       "VBox()"
      ]
     },
     "metadata": {},
     "output_type": "display_data"
    },
    {
     "data": {
      "application/vnd.jupyter.widget-view+json": {
       "model_id": "",
       "version_major": 2,
       "version_minor": 0
      },
      "text/plain": [
       "FloatProgress(value=0.0, bar_style='info', description='Progress:', layout=Layout(height='25px', width='50%'),…"
      ]
     },
     "metadata": {},
     "output_type": "display_data"
    }
   ],
   "source": [
    "raw_df_withfilename = raw_df.withColumn(\"FileName\", F.regexp_extract(\n",
    "                    F.regexp_replace(F.input_file_name(), '%20', ' '), \"ALL\\s(.*?)\\.(\\w+)$\", 0))"
   ]
  },
  {
   "cell_type": "code",
   "execution_count": 27,
   "id": "e5283395-41ec-4795-8294-2934ba3113c8",
   "metadata": {
    "execution": {
     "iopub.execute_input": "2022-10-11T07:34:02.319801Z",
     "iopub.status.busy": "2022-10-11T07:34:02.319579Z",
     "iopub.status.idle": "2022-10-11T07:34:03.077402Z",
     "shell.execute_reply": "2022-10-11T07:34:03.076822Z",
     "shell.execute_reply.started": "2022-10-11T07:34:02.319777Z"
    },
    "tags": []
   },
   "outputs": [
    {
     "data": {
      "application/vnd.jupyter.widget-view+json": {
       "model_id": "8e590fc8d7fc4b23ae3372722177ec14",
       "version_major": 2,
       "version_minor": 0
      },
      "text/plain": [
       "VBox()"
      ]
     },
     "metadata": {},
     "output_type": "display_data"
    },
    {
     "data": {
      "application/vnd.jupyter.widget-view+json": {
       "model_id": "",
       "version_major": 2,
       "version_minor": 0
      },
      "text/plain": [
       "FloatProgress(value=0.0, bar_style='info', description='Progress:', layout=Layout(height='25px', width='50%'),…"
      ]
     },
     "metadata": {},
     "output_type": "display_data"
    }
   ],
   "source": [
    "flight_data_info = spark \\\n",
    "                            .read \\\n",
    "                            .format(\"csv\") \\\n",
    "                            .option(\"header\", \"true\") \\\n",
    "                            .load('s3://sjet-datamart-bucket/precog/precog-file-info/q400/128-wps/20220601/FileInfo_20220601.csv')"
   ]
  },
  {
   "cell_type": "code",
   "execution_count": 28,
   "id": "553eb185-2aba-44f7-918d-1fcc650cd952",
   "metadata": {
    "execution": {
     "iopub.execute_input": "2022-10-11T07:34:05.023204Z",
     "iopub.status.busy": "2022-10-11T07:34:05.022967Z",
     "iopub.status.idle": "2022-10-11T07:34:05.276576Z",
     "shell.execute_reply": "2022-10-11T07:34:05.276040Z",
     "shell.execute_reply.started": "2022-10-11T07:34:05.023179Z"
    },
    "tags": []
   },
   "outputs": [
    {
     "data": {
      "application/vnd.jupyter.widget-view+json": {
       "model_id": "f6e7376b8951445e8294c719a2d63151",
       "version_major": 2,
       "version_minor": 0
      },
      "text/plain": [
       "VBox()"
      ]
     },
     "metadata": {},
     "output_type": "display_data"
    },
    {
     "data": {
      "application/vnd.jupyter.widget-view+json": {
       "model_id": "",
       "version_major": 2,
       "version_minor": 0
      },
      "text/plain": [
       "FloatProgress(value=0.0, bar_style='info', description='Progress:', layout=Layout(height='25px', width='50%'),…"
      ]
     },
     "metadata": {},
     "output_type": "display_data"
    }
   ],
   "source": [
    "raw_df_withfilename.createOrReplaceTempView(\"RawData\")\n",
    "flight_data_info.dropDuplicates().createOrReplaceTempView(\"FlightInfo\")"
   ]
  },
  {
   "cell_type": "code",
   "execution_count": 29,
   "id": "05326e93-cd8c-476a-a39c-db8bc5f74903",
   "metadata": {
    "execution": {
     "iopub.execute_input": "2022-10-11T07:34:05.946898Z",
     "iopub.status.busy": "2022-10-11T07:34:05.946681Z",
     "iopub.status.idle": "2022-10-11T07:34:06.199921Z",
     "shell.execute_reply": "2022-10-11T07:34:06.199411Z",
     "shell.execute_reply.started": "2022-10-11T07:34:05.946875Z"
    },
    "tags": []
   },
   "outputs": [
    {
     "data": {
      "application/vnd.jupyter.widget-view+json": {
       "model_id": "4a945a3f4eb443eeac9067e933bb6315",
       "version_major": 2,
       "version_minor": 0
      },
      "text/plain": [
       "VBox()"
      ]
     },
     "metadata": {},
     "output_type": "display_data"
    },
    {
     "data": {
      "application/vnd.jupyter.widget-view+json": {
       "model_id": "",
       "version_major": 2,
       "version_minor": 0
      },
      "text/plain": [
       "FloatProgress(value=0.0, bar_style='info', description='Progress:', layout=Layout(height='25px', width='50%'),…"
      ]
     },
     "metadata": {},
     "output_type": "display_data"
    }
   ],
   "source": [
    "flight_data_join_df = spark.sql(f'''\n",
    "\n",
    "                            SELECT\n",
    "                            fi.TailNo,\n",
    "                            fi.Departure,\n",
    "                            fi.Arrival,\n",
    "                            fi.FlightNo,\n",
    "                            fi.FlightDate as `Date`,\n",
    "                            rw.*,\n",
    "                            current_timestamp() as `LoadedDate`,\n",
    "                            'precog-spark' as `LoadedBy`,\n",
    "                            '128 WPS' as `DataFrameName`,\n",
    "                            fi.year,\n",
    "                            fi.month\n",
    "\n",
    "                            FROM RawData rw\n",
    "\n",
    "                            JOIN FlightInfo fi \n",
    "                            ON fi.FileName = rw.FileName\n",
    "            \n",
    "                                        ''')"
   ]
  },
  {
   "cell_type": "code",
   "execution_count": 30,
   "id": "569cabae-d319-4794-bd53-6554f80daade",
   "metadata": {
    "execution": {
     "iopub.execute_input": "2022-10-11T07:34:06.912133Z",
     "iopub.status.busy": "2022-10-11T07:34:06.911924Z",
     "iopub.status.idle": "2022-10-11T07:34:07.165122Z",
     "shell.execute_reply": "2022-10-11T07:34:07.164638Z",
     "shell.execute_reply.started": "2022-10-11T07:34:06.912110Z"
    },
    "tags": []
   },
   "outputs": [
    {
     "data": {
      "application/vnd.jupyter.widget-view+json": {
       "model_id": "d15823112b184e45a9569a1bd459ea45",
       "version_major": 2,
       "version_minor": 0
      },
      "text/plain": [
       "VBox()"
      ]
     },
     "metadata": {},
     "output_type": "display_data"
    },
    {
     "data": {
      "application/vnd.jupyter.widget-view+json": {
       "model_id": "",
       "version_major": 2,
       "version_minor": 0
      },
      "text/plain": [
       "FloatProgress(value=0.0, bar_style='info', description='Progress:', layout=Layout(height='25px', width='50%'),…"
      ]
     },
     "metadata": {},
     "output_type": "display_data"
    }
   ],
   "source": [
    "flight_data_join_df.createOrReplaceTempView('flight_data_join_df')"
   ]
  },
  {
   "cell_type": "code",
   "execution_count": 31,
   "id": "a708715e-c165-4f25-b0a1-043fe913702a",
   "metadata": {
    "execution": {
     "iopub.execute_input": "2022-10-11T07:34:07.895701Z",
     "iopub.status.busy": "2022-10-11T07:34:07.895482Z",
     "iopub.status.idle": "2022-10-11T07:34:08.652398Z",
     "shell.execute_reply": "2022-10-11T07:34:08.651792Z",
     "shell.execute_reply.started": "2022-10-11T07:34:07.895679Z"
    },
    "tags": []
   },
   "outputs": [
    {
     "data": {
      "application/vnd.jupyter.widget-view+json": {
       "model_id": "8c9069cad90d45c48832ebec2a475f69",
       "version_major": 2,
       "version_minor": 0
      },
      "text/plain": [
       "VBox()"
      ]
     },
     "metadata": {},
     "output_type": "display_data"
    },
    {
     "data": {
      "application/vnd.jupyter.widget-view+json": {
       "model_id": "",
       "version_major": 2,
       "version_minor": 0
      },
      "text/plain": [
       "FloatProgress(value=0.0, bar_style='info', description='Progress:', layout=Layout(height='25px', width='50%'),…"
      ]
     },
     "metadata": {},
     "output_type": "display_data"
    }
   ],
   "source": [
    "MainQueryDF = spark.sql('''\n",
    "                        SELECT *,\n",
    "                              CAST(ChocksOff - INTERVAL 314 Minutes AS DATE) AS UTCFlightDate1\n",
    "                        FROM arms.Pilot_Info\n",
    "''')"
   ]
  },
  {
   "cell_type": "code",
   "execution_count": 32,
   "id": "ed43906a-a33a-4ce8-8718-6802baa948a6",
   "metadata": {
    "execution": {
     "iopub.execute_input": "2022-10-11T07:34:09.136746Z",
     "iopub.status.busy": "2022-10-11T07:34:09.136510Z",
     "iopub.status.idle": "2022-10-11T07:34:09.196161Z",
     "shell.execute_reply": "2022-10-11T07:34:09.195661Z",
     "shell.execute_reply.started": "2022-10-11T07:34:09.136723Z"
    },
    "tags": []
   },
   "outputs": [
    {
     "data": {
      "application/vnd.jupyter.widget-view+json": {
       "model_id": "79723f236791446cb203e4a76bcc7c70",
       "version_major": 2,
       "version_minor": 0
      },
      "text/plain": [
       "VBox()"
      ]
     },
     "metadata": {},
     "output_type": "display_data"
    },
    {
     "data": {
      "application/vnd.jupyter.widget-view+json": {
       "model_id": "",
       "version_major": 2,
       "version_minor": 0
      },
      "text/plain": [
       "FloatProgress(value=0.0, bar_style='info', description='Progress:', layout=Layout(height='25px', width='50%'),…"
      ]
     },
     "metadata": {},
     "output_type": "display_data"
    }
   ],
   "source": [
    "MainQueryDF.createOrReplaceTempView('MainQueryDF')"
   ]
  },
  {
   "cell_type": "code",
   "execution_count": 33,
   "id": "2485bb17-17ce-4e2b-b724-d38912176e37",
   "metadata": {
    "execution": {
     "iopub.execute_input": "2022-10-11T07:34:10.104923Z",
     "iopub.status.busy": "2022-10-11T07:34:10.104687Z",
     "iopub.status.idle": "2022-10-11T07:34:10.357219Z",
     "shell.execute_reply": "2022-10-11T07:34:10.356719Z",
     "shell.execute_reply.started": "2022-10-11T07:34:10.104898Z"
    },
    "tags": []
   },
   "outputs": [
    {
     "data": {
      "application/vnd.jupyter.widget-view+json": {
       "model_id": "3ed5ff9a4da0457cbd8ea3fa862f0cff",
       "version_major": 2,
       "version_minor": 0
      },
      "text/plain": [
       "VBox()"
      ]
     },
     "metadata": {},
     "output_type": "display_data"
    },
    {
     "data": {
      "application/vnd.jupyter.widget-view+json": {
       "model_id": "",
       "version_major": 2,
       "version_minor": 0
      },
      "text/plain": [
       "FloatProgress(value=0.0, bar_style='info', description='Progress:', layout=Layout(height='25px', width='50%'),…"
      ]
     },
     "metadata": {},
     "output_type": "display_data"
    }
   ],
   "source": [
    "Arms_Join_DF = spark.sql('''\n",
    "                                            SELECT\n",
    "                                                    AD.FlightID,\n",
    "                                                    AD.DesigFlightNumber,\n",
    "                                                    AD.FlightNumber AS `FlightNumberARMS`,\n",
    "                                                    AD.FlightDate,\n",
    "                                                    AD.FromCity,\n",
    "                                                    AD.ToCity,\n",
    "                                                    AD.BlockTime,\n",
    "                                                    AD.ECN,\n",
    "                                                    AD.EmployeeName,\n",
    "                                                    AD.RANK,\n",
    "                                                    CAST(AD.ChocksOff AS timestamp) AS ChocksOff,\n",
    "                                                    CAST(AD.ChocksOn AS timestamp) AS ChocksOn,\n",
    "                                                    AD.DOMINT,\n",
    "                                                    AD.AircraftType,\n",
    "                                                    AD.AircraftModel,  \n",
    "                                                    AD.Payload,\n",
    "                                                    RDF.*\n",
    "                                                    \n",
    "                                                    FROM flight_data_join_df RDF\n",
    "                                                    INNER JOIN MainQueryDF AD ON RDF.FlightNo=AD.DesigFlightNumber\n",
    "                                                                        AND RDF.TailNo = AD.AcRegNo\n",
    "                                                                        AND (RDF.Date=AD.UTCFlightDate1\n",
    "                                                                        OR RDF.Date=AD.FlightDate)\n",
    "                                                                        AND RDF.Departure=AD.FromCity\n",
    "                                                                        AND RDF.Arrival=AD.Tocity\n",
    "                                        ''')"
   ]
  },
  {
   "cell_type": "code",
   "execution_count": 34,
   "id": "a52cc03a-e78e-409a-8996-86c70387fb5f",
   "metadata": {
    "execution": {
     "iopub.execute_input": "2022-10-11T07:34:11.140735Z",
     "iopub.status.busy": "2022-10-11T07:34:11.140501Z",
     "iopub.status.idle": "2022-10-11T07:34:26.450844Z",
     "shell.execute_reply": "2022-10-11T07:34:26.450334Z",
     "shell.execute_reply.started": "2022-10-11T07:34:11.140712Z"
    },
    "tags": []
   },
   "outputs": [
    {
     "data": {
      "application/vnd.jupyter.widget-view+json": {
       "model_id": "c828d2a54a2e41e5a39a78b0e3fca670",
       "version_major": 2,
       "version_minor": 0
      },
      "text/plain": [
       "VBox()"
      ]
     },
     "metadata": {},
     "output_type": "display_data"
    },
    {
     "data": {
      "application/vnd.jupyter.widget-view+json": {
       "model_id": "",
       "version_major": 2,
       "version_minor": 0
      },
      "text/plain": [
       "FloatProgress(value=0.0, bar_style='info', description='Progress:', layout=Layout(height='25px', width='50%'),…"
      ]
     },
     "metadata": {},
     "output_type": "display_data"
    },
    {
     "name": "stdout",
     "output_type": "stream",
     "text": [
      "75776"
     ]
    }
   ],
   "source": [
    "Arms_Join_DF.count()"
   ]
  },
  {
   "cell_type": "code",
   "execution_count": 1,
   "id": "42d32e05-1b34-4f82-8777-6c7ebef19516",
   "metadata": {
    "execution": {
     "iopub.execute_input": "2022-10-11T10:08:57.639576Z",
     "iopub.status.busy": "2022-10-11T10:08:57.639350Z",
     "iopub.status.idle": "2022-10-11T10:09:25.492846Z",
     "shell.execute_reply": "2022-10-11T10:09:25.492342Z",
     "shell.execute_reply.started": "2022-10-11T10:08:57.639549Z"
    },
    "tags": []
   },
   "outputs": [
    {
     "data": {
      "application/vnd.jupyter.widget-view+json": {
       "model_id": "a84a8a2f8c4e4e59ae656881773bafdb",
       "version_major": 2,
       "version_minor": 0
      },
      "text/plain": [
       "VBox()"
      ]
     },
     "metadata": {},
     "output_type": "display_data"
    },
    {
     "name": "stdout",
     "output_type": "stream",
     "text": [
      "Starting Spark application\n"
     ]
    },
    {
     "data": {
      "text/html": [
       "<table>\n",
       "<tr><th>ID</th><th>YARN Application ID</th><th>Kind</th><th>State</th><th>Spark UI</th><th>Driver log</th><th>Current session?</th></tr><tr><td>1</td><td>application_1665465172904_0018</td><td>pyspark</td><td>idle</td><td><a target=\"_blank\" href=\"http://ip-20-0-4-240.ap-south-1.compute.internal:20888/proxy/application_1665465172904_0018/\" class=\"emr-proxy-link\" emr-resource=\"j-2G0YPV72273M4\n",
       "\" application-id=\"application_1665465172904_0018\">Link</a></td><td><a target=\"_blank\" href=\"http://ip-20-0-4-29.ap-south-1.compute.internal:8042/node/containerlogs/container_1665465172904_0018_01_000001/livy\" >Link</a></td><td>✔</td></tr></table>"
      ],
      "text/plain": [
       "<IPython.core.display.HTML object>"
      ]
     },
     "metadata": {},
     "output_type": "display_data"
    },
    {
     "data": {
      "application/vnd.jupyter.widget-view+json": {
       "model_id": "",
       "version_major": 2,
       "version_minor": 0
      },
      "text/plain": [
       "FloatProgress(value=0.0, bar_style='info', description='Progress:', layout=Layout(height='25px', width='50%'),…"
      ]
     },
     "metadata": {},
     "output_type": "display_data"
    },
    {
     "name": "stdout",
     "output_type": "stream",
     "text": [
      "SparkSession available as 'spark'.\n"
     ]
    },
    {
     "data": {
      "application/vnd.jupyter.widget-view+json": {
       "model_id": "",
       "version_major": 2,
       "version_minor": 0
      },
      "text/plain": [
       "FloatProgress(value=0.0, bar_style='info', description='Progress:', layout=Layout(height='25px', width='50%'),…"
      ]
     },
     "metadata": {},
     "output_type": "display_data"
    }
   ],
   "source": [
    "df = spark.read.parquet('s3://sjet-datamart-bucket/precog/precog-processed-data/q400/q400128wps/year=2022/month=June/part-00000-033f1130-ac23-4c3a-82a9-1d4f2254de9d.c000.snappy.parquet')"
   ]
  },
  {
   "cell_type": "code",
   "execution_count": 2,
   "id": "091c269d-f334-4917-8220-80455b17e915",
   "metadata": {
    "execution": {
     "iopub.execute_input": "2022-10-11T10:09:35.023637Z",
     "iopub.status.busy": "2022-10-11T10:09:35.023414Z",
     "iopub.status.idle": "2022-10-11T10:09:40.360512Z",
     "shell.execute_reply": "2022-10-11T10:09:40.360003Z",
     "shell.execute_reply.started": "2022-10-11T10:09:35.023612Z"
    }
   },
   "outputs": [
    {
     "data": {
      "application/vnd.jupyter.widget-view+json": {
       "model_id": "7ad8da70c6ce4f2d9cb53d530b8bbd7d",
       "version_major": 2,
       "version_minor": 0
      },
      "text/plain": [
       "VBox()"
      ]
     },
     "metadata": {},
     "output_type": "display_data"
    },
    {
     "data": {
      "application/vnd.jupyter.widget-view+json": {
       "model_id": "",
       "version_major": 2,
       "version_minor": 0
      },
      "text/plain": [
       "FloatProgress(value=0.0, bar_style='info', description='Progress:', layout=Layout(height='25px', width='50%'),…"
      ]
     },
     "metadata": {},
     "output_type": "display_data"
    },
    {
     "name": "stdout",
     "output_type": "stream",
     "text": [
      "+--------+-----------------+----------------+----------+--------+------+---------+------+------------+-----+-------------------+-------------------+------+------------+-------------+-------+------+---------+-------+--------+----------+------------+------------+---------------------------+--------------+----------------+--------------+-------------+--------------+--------+--------+-------------------+--------------------+-------------------------+---------------------+-------------------+----------------------+------------+----------------------+-------------+-----------------+-----------------+---------------+---------------+-----------------+-----------------+-----------------+-----------------+------------------+---------------------+----------------------+---------------+---------------+--------------------------+----------------------------+--------------+--------------+-----------------+-----------------+----------+----------+----------------+-----------------+-------------------------+-------------------------+----------------------+--------------------------------------------------------+----------------------+------------+-------------+\n",
      "|FlightID|DesigFlightNumber|FlightNumberARMS|FlightDate|FromCity|ToCity|BlockTime|ECN   |EmployeeName|RANK |ChocksOff          |ChocksOn           |DOMINT|AircraftType|AircraftModel|Payload|TailNo|Departure|Arrival|FlightNo|Date      |Time-In-Secs|Time-Per-Sec|BARO-CORRECTED-PALT-DERIVED|Altitude-BaroL|Magnetic-Heading|Pitch-Attitude|Roll-Attitude|Radio-Altitude|Nose-WOW|Main-WOW|Normal-Acceleration|Lateral-Acceleration|Longitudinal-Acceleration|Calibrated-Airspeed-L|AFCS-Selected-Speed|Vertical-Speed-Derived|Ground-Speed|Flap-Control-Selection|FLAP-POSITION|Power-Lever-Pos-L|Power-Lever-Pos-R|Torque-TQ-Eng-L|Torque-TQ-Eng-R|Condition-Lever-L|Condition-Lever-R|Prop-RPM-Np-Eng-L|Prop-RPM-Np-Eng-R|GPWS-Alert/Warning|GPWS-Glideslope-Alert|AFCS-Glideslope-Active|AFCS-LOC-Active|AFCS-VOR-Active|GLIDE-PATH-DEV-PILOT-ABOVE|GLIDE-PATH-DEV-COPILOT-ABOVE|DME-DISTANCE-1|DME-DISTANCE-2|VOR-1-SELECT-FREQ|VOR-2-SELECT-FREQ|WIND-ANGLE|WIND-SPEED|BRAKE-PRESS-LEFT|BRAKE-PRESS-RIGHT|Thrust-Rev-Low-Beta-Eng-L|Thrust-Rev-Low-Beta-Eng-R|AFCS-Autopilot-Engaged|FileName                                                |LoadedDate            |LoadedBy    |DataFrameName|\n",
      "+--------+-----------------+----------------+----------+--------+------+---------+------+------------+-----+-------------------+-------------------+------+------------+-------------+-------+------+---------+-------+--------+----------+------------+------------+---------------------------+--------------+----------------+--------------+-------------+--------------+--------+--------+-------------------+--------------------+-------------------------+---------------------+-------------------+----------------------+------------+----------------------+-------------+-----------------+-----------------+---------------+---------------+-----------------+-----------------+-----------------+-----------------+------------------+---------------------+----------------------+---------------+---------------+--------------------------+----------------------------+--------------+--------------+-----------------+-----------------+----------+----------+----------------+-----------------+-------------------------+-------------------------+----------------------+--------------------------------------------------------+----------------------+------------+-------------+\n",
      "|2943309 |SG 2962          |2962            |2022-06-13|DEL     |JLR   |01:50:00 |126852|ADITYA  SOOD|CAPT.|2022-06-13 06:00:00|2022-06-13 08:05:00|DOM   |DHC         |DHC-         |Pax    |VT-SUF|DEL      |JLR    |SG 2962 |2022-06-13|0.0         |4124        |0                          |1012          |102.2           |D 0.8         |L 0.2        |5             |Gnd (1) |Gnd (1) |0.989              | 0.00               |-0.01                    |0.0                  |0.0                |1012                  |0           |0.0                   |0.0          |18.7             |18.6             |0.0            |0.0            |-0.615           |35.1             |0                |0                |No Warn (0)       |No Warn (0)          |NOT ACT (0)           |NOT ACT (0)    |NOT ACT (0)    | 0.00                     |0                           |null          |null          |null             |null             |null      |null      |0               |0                |Normal (0)               |Normal (0)               |NOT EN (0)            |ALL ac=VT-SUF dep=DEL arr=JLR fn=SEJ2962 dt=20220613.csv|2022-10-11 09:00:33.44|precog-spark|128 WPS      |\n",
      "|2943309 |SG 2962          |2962            |2022-06-13|DEL     |JLR   |01:50:00 |126852|ADITYA  SOOD|CAPT.|2022-06-13 06:00:00|2022-06-13 08:05:00|DOM   |DHC         |DHC-         |Pax    |VT-SUF|DEL      |JLR    |SG 2962 |2022-06-13|0.125       |null        |null                       |null          |null            |null          |null         |null          |null    |null    |0.988              |null                |null                     |null                 |null               |null                  |null        |null                  |null         |null             |null             |null           |null           |null             |null             |null             |null             |null              |null                 |null                  |null           |null           |null                      |null                        |null          |null          |null             |null             |null      |null      |null            |null             |null                     |null                     |null                  |ALL ac=VT-SUF dep=DEL arr=JLR fn=SEJ2962 dt=20220613.csv|2022-10-11 09:00:33.44|precog-spark|128 WPS      |\n",
      "|2943309 |SG 2962          |2962            |2022-06-13|DEL     |JLR   |01:50:00 |126852|ADITYA  SOOD|CAPT.|2022-06-13 06:00:00|2022-06-13 08:05:00|DOM   |DHC         |DHC-         |Pax    |VT-SUF|DEL      |JLR    |SG 2962 |2022-06-13|0.25        |null        |null                       |null          |null            |D 0.8         |null         |null          |null    |Gnd (1) |1.000              | 0.00               |-0.01                    |null                 |null               |null                  |null        |null                  |null         |null             |null             |null           |null           |null             |null             |null             |null             |null              |null                 |null                  |null           |null           |null                      |null                        |null          |null          |null             |null             |null      |null      |null            |null             |null                     |null                     |null                  |ALL ac=VT-SUF dep=DEL arr=JLR fn=SEJ2962 dt=20220613.csv|2022-10-11 09:00:33.44|precog-spark|128 WPS      |\n",
      "|2943309 |SG 2962          |2962            |2022-06-13|DEL     |JLR   |01:50:00 |126852|ADITYA  SOOD|CAPT.|2022-06-13 06:00:00|2022-06-13 08:05:00|DOM   |DHC         |DHC-         |Pax    |VT-SUF|DEL      |JLR    |SG 2962 |2022-06-13|0.375       |null        |null                       |null          |null            |null          |null         |null          |null    |null    |0.992              |null                |null                     |null                 |null               |null                  |null        |null                  |null         |null             |null             |null           |null           |null             |null             |null             |null             |null              |null                 |null                  |null           |null           |null                      |null                        |null          |null          |null             |null             |null      |null      |null            |null             |null                     |null                     |null                  |ALL ac=VT-SUF dep=DEL arr=JLR fn=SEJ2962 dt=20220613.csv|2022-10-11 09:00:33.44|precog-spark|128 WPS      |\n",
      "|2943309 |SG 2962          |2962            |2022-06-13|DEL     |JLR   |01:50:00 |126852|ADITYA  SOOD|CAPT.|2022-06-13 06:00:00|2022-06-13 08:05:00|DOM   |DHC         |DHC-         |Pax    |VT-SUF|DEL      |JLR    |SG 2962 |2022-06-13|0.5         |null        |null                       |null          |null            |D 0.8         |L 0.2        |null          |null    |Gnd (1) |0.992              | 0.00               |-0.01                    |null                 |null               |null                  |null        |null                  |null         |null             |null             |null           |null           |null             |null             |null             |null             |null              |null                 |null                  |null           |null           |null                      |null                        |null          |null          |null             |null             |null      |null      |null            |null             |null                     |null                     |null                  |ALL ac=VT-SUF dep=DEL arr=JLR fn=SEJ2962 dt=20220613.csv|2022-10-11 09:00:33.44|precog-spark|128 WPS      |\n",
      "|2943309 |SG 2962          |2962            |2022-06-13|DEL     |JLR   |01:50:00 |126852|ADITYA  SOOD|CAPT.|2022-06-13 06:00:00|2022-06-13 08:05:00|DOM   |DHC         |DHC-         |Pax    |VT-SUF|DEL      |JLR    |SG 2962 |2022-06-13|0.625       |null        |null                       |null          |null            |null          |null         |null          |null    |null    |0.992              |null                |null                     |null                 |null               |null                  |null        |null                  |null         |null             |null             |null           |null           |null             |null             |null             |null             |null              |null                 |null                  |null           |null           |null                      |null                        |null          |null          |null             |null             |null      |null      |null            |null             |null                     |null                     |null                  |ALL ac=VT-SUF dep=DEL arr=JLR fn=SEJ2962 dt=20220613.csv|2022-10-11 09:00:33.44|precog-spark|128 WPS      |\n",
      "|2943309 |SG 2962          |2962            |2022-06-13|DEL     |JLR   |01:50:00 |126852|ADITYA  SOOD|CAPT.|2022-06-13 06:00:00|2022-06-13 08:05:00|DOM   |DHC         |DHC-         |Pax    |VT-SUF|DEL      |JLR    |SG 2962 |2022-06-13|0.75        |null        |null                       |null          |null            |D 0.8         |null         |null          |null    |Gnd (1) |0.992              | 0.00               |-0.01                    |null                 |null               |null                  |null        |null                  |null         |null             |null             |null           |null           |null             |null             |null             |null             |null              |null                 |null                  |null           |null           |null                      |null                        |null          |null          |null             |null             |null      |null      |null            |null             |null                     |null                     |null                  |ALL ac=VT-SUF dep=DEL arr=JLR fn=SEJ2962 dt=20220613.csv|2022-10-11 09:00:33.44|precog-spark|128 WPS      |\n",
      "|2943309 |SG 2962          |2962            |2022-06-13|DEL     |JLR   |01:50:00 |126852|ADITYA  SOOD|CAPT.|2022-06-13 06:00:00|2022-06-13 08:05:00|DOM   |DHC         |DHC-         |Pax    |VT-SUF|DEL      |JLR    |SG 2962 |2022-06-13|0.875       |null        |null                       |null          |null            |null          |null         |null          |null    |null    |0.992              |null                |null                     |null                 |null               |null                  |null        |null                  |null         |null             |null             |null           |null           |null             |null             |null             |null             |null              |null                 |null                  |null           |null           |null                      |null                        |null          |null          |null             |null             |null      |null      |null            |null             |null                     |null                     |null                  |ALL ac=VT-SUF dep=DEL arr=JLR fn=SEJ2962 dt=20220613.csv|2022-10-11 09:00:33.44|precog-spark|128 WPS      |\n",
      "|2943309 |SG 2962          |2962            |2022-06-13|DEL     |JLR   |01:50:00 |126852|ADITYA  SOOD|CAPT.|2022-06-13 06:00:00|2022-06-13 08:05:00|DOM   |DHC         |DHC-         |Pax    |VT-SUF|DEL      |JLR    |SG 2962 |2022-06-13|1.0         |null        |0                          |1012          |102.2           |D 0.8         |L 0.2        |5             |Gnd (1) |Gnd (1) |0.997              |R 0.00              |-0.01                    |0.0                  |0.0                |1012                  |0           |null                  |null         |18.7             |18.6             |0.0            |0.0            |-0.527           |35.1             |0                |0                |No Warn (0)       |No Warn (0)          |NOT ACT (0)           |NOT ACT (0)    |NOT ACT (0)    | 0.00                     |0                           |1.125         |1.125         |100              |null             |null      |null      |0               |0                |Normal (0)               |Normal (0)               |NOT EN (0)            |ALL ac=VT-SUF dep=DEL arr=JLR fn=SEJ2962 dt=20220613.csv|2022-10-11 09:00:33.44|precog-spark|128 WPS      |\n",
      "|2943309 |SG 2962          |2962            |2022-06-13|DEL     |JLR   |01:50:00 |126852|ADITYA  SOOD|CAPT.|2022-06-13 06:00:00|2022-06-13 08:05:00|DOM   |DHC         |DHC-         |Pax    |VT-SUF|DEL      |JLR    |SG 2962 |2022-06-13|1.125       |null        |null                       |null          |null            |null          |null         |null          |null    |null    |0.996              |null                |null                     |null                 |null               |null                  |null        |null                  |null         |null             |null             |null           |null           |null             |null             |null             |null             |null              |null                 |null                  |null           |null           |null                      |null                        |null          |null          |null             |null             |null      |null      |null            |null             |null                     |null                     |null                  |ALL ac=VT-SUF dep=DEL arr=JLR fn=SEJ2962 dt=20220613.csv|2022-10-11 09:00:33.44|precog-spark|128 WPS      |\n",
      "|2943309 |SG 2962          |2962            |2022-06-13|DEL     |JLR   |01:50:00 |126852|ADITYA  SOOD|CAPT.|2022-06-13 06:00:00|2022-06-13 08:05:00|DOM   |DHC         |DHC-         |Pax    |VT-SUF|DEL      |JLR    |SG 2962 |2022-06-13|1.25        |null        |null                       |null          |null            |D 0.8         |null         |null          |null    |Gnd (1) |0.992              | 0.00               |-0.01                    |null                 |null               |null                  |null        |null                  |null         |null             |null             |null           |null           |null             |null             |null             |null             |null              |null                 |null                  |null           |null           |null                      |null                        |null          |null          |null             |null             |null      |null      |null            |null             |null                     |null                     |null                  |ALL ac=VT-SUF dep=DEL arr=JLR fn=SEJ2962 dt=20220613.csv|2022-10-11 09:00:33.44|precog-spark|128 WPS      |\n",
      "|2943309 |SG 2962          |2962            |2022-06-13|DEL     |JLR   |01:50:00 |126852|ADITYA  SOOD|CAPT.|2022-06-13 06:00:00|2022-06-13 08:05:00|DOM   |DHC         |DHC-         |Pax    |VT-SUF|DEL      |JLR    |SG 2962 |2022-06-13|1.375       |null        |null                       |null          |null            |null          |null         |null          |null    |null    |0.988              |null                |null                     |null                 |null               |null                  |null        |null                  |null         |null             |null             |null           |null           |null             |null             |null             |null             |null              |null                 |null                  |null           |null           |null                      |null                        |null          |null          |null             |null             |null      |null      |null            |null             |null                     |null                     |null                  |ALL ac=VT-SUF dep=DEL arr=JLR fn=SEJ2962 dt=20220613.csv|2022-10-11 09:00:33.44|precog-spark|128 WPS      |\n",
      "|2943309 |SG 2962          |2962            |2022-06-13|DEL     |JLR   |01:50:00 |126852|ADITYA  SOOD|CAPT.|2022-06-13 06:00:00|2022-06-13 08:05:00|DOM   |DHC         |DHC-         |Pax    |VT-SUF|DEL      |JLR    |SG 2962 |2022-06-13|1.5         |null        |null                       |null          |null            |D 0.8         |L 0.2        |null          |null    |Gnd (1) |0.992              |R 0.01              |-0.01                    |null                 |null               |null                  |null        |null                  |null         |null             |null             |null           |null           |null             |null             |null             |null             |null              |null                 |null                  |null           |null           |null                      |null                        |null          |null          |null             |null             |null      |null      |null            |null             |null                     |null                     |null                  |ALL ac=VT-SUF dep=DEL arr=JLR fn=SEJ2962 dt=20220613.csv|2022-10-11 09:00:33.44|precog-spark|128 WPS      |\n",
      "|2943309 |SG 2962          |2962            |2022-06-13|DEL     |JLR   |01:50:00 |126852|ADITYA  SOOD|CAPT.|2022-06-13 06:00:00|2022-06-13 08:05:00|DOM   |DHC         |DHC-         |Pax    |VT-SUF|DEL      |JLR    |SG 2962 |2022-06-13|1.625       |null        |null                       |null          |null            |null          |null         |null          |null    |null    |0.996              |null                |null                     |null                 |null               |null                  |null        |null                  |null         |null             |null             |null           |null           |null             |null             |null             |null             |null              |null                 |null                  |null           |null           |null                      |null                        |null          |null          |null             |null             |null      |null      |null            |null             |null                     |null                     |null                  |ALL ac=VT-SUF dep=DEL arr=JLR fn=SEJ2962 dt=20220613.csv|2022-10-11 09:00:33.44|precog-spark|128 WPS      |\n",
      "|2943309 |SG 2962          |2962            |2022-06-13|DEL     |JLR   |01:50:00 |126852|ADITYA  SOOD|CAPT.|2022-06-13 06:00:00|2022-06-13 08:05:00|DOM   |DHC         |DHC-         |Pax    |VT-SUF|DEL      |JLR    |SG 2962 |2022-06-13|1.75        |null        |null                       |null          |null            |D 0.8         |null         |null          |null    |Gnd (1) |0.992              | 0.00               |-0.01                    |null                 |null               |null                  |null        |null                  |null         |null             |null             |null           |null           |null             |null             |null             |null             |null              |null                 |null                  |null           |null           |null                      |null                        |null          |null          |null             |null             |null      |null      |null            |null             |null                     |null                     |null                  |ALL ac=VT-SUF dep=DEL arr=JLR fn=SEJ2962 dt=20220613.csv|2022-10-11 09:00:33.44|precog-spark|128 WPS      |\n",
      "|2943309 |SG 2962          |2962            |2022-06-13|DEL     |JLR   |01:50:00 |126852|ADITYA  SOOD|CAPT.|2022-06-13 06:00:00|2022-06-13 08:05:00|DOM   |DHC         |DHC-         |Pax    |VT-SUF|DEL      |JLR    |SG 2962 |2022-06-13|1.875       |null        |null                       |null          |null            |null          |null         |null          |null    |null    |1.000              |null                |null                     |null                 |null               |null                  |null        |null                  |null         |null             |null             |null           |null           |null             |null             |null             |null             |null              |null                 |null                  |null           |null           |null                      |null                        |null          |null          |null             |null             |null      |null      |null            |null             |null                     |null                     |null                  |ALL ac=VT-SUF dep=DEL arr=JLR fn=SEJ2962 dt=20220613.csv|2022-10-11 09:00:33.44|precog-spark|128 WPS      |\n",
      "|2943309 |SG 2962          |2962            |2022-06-13|DEL     |JLR   |01:50:00 |126852|ADITYA  SOOD|CAPT.|2022-06-13 06:00:00|2022-06-13 08:05:00|DOM   |DHC         |DHC-         |Pax    |VT-SUF|DEL      |JLR    |SG 2962 |2022-06-13|2.0         |null        |773                        |1012          |102.2           |D 0.8         |L 0.2        |5             |Gnd (1) |Gnd (1) |0.993              |R 0.00              |-0.01                    |0.0                  |0.0                |0                     |0           |0.0                   |0.0          |18.7             |18.6             |0.0            |0.0            |-0.615           |35.1             |0                |0                |No Warn (0)       |No Warn (0)          |NOT ACT (0)           |NOT ACT (0)    |NOT ACT (0)    | 0.00                     |0                           |null          |null          |null             |null             |0.0       |0         |3.906           |0                |Normal (0)               |Normal (0)               |NOT EN (0)            |ALL ac=VT-SUF dep=DEL arr=JLR fn=SEJ2962 dt=20220613.csv|2022-10-11 09:00:33.44|precog-spark|128 WPS      |\n",
      "|2943309 |SG 2962          |2962            |2022-06-13|DEL     |JLR   |01:50:00 |126852|ADITYA  SOOD|CAPT.|2022-06-13 06:00:00|2022-06-13 08:05:00|DOM   |DHC         |DHC-         |Pax    |VT-SUF|DEL      |JLR    |SG 2962 |2022-06-13|2.125       |null        |null                       |null          |null            |null          |null         |null          |null    |null    |0.988              |null                |null                     |null                 |null               |null                  |null        |null                  |null         |null             |null             |null           |null           |null             |null             |null             |null             |null              |null                 |null                  |null           |null           |null                      |null                        |null          |null          |null             |null             |null      |null      |null            |null             |null                     |null                     |null                  |ALL ac=VT-SUF dep=DEL arr=JLR fn=SEJ2962 dt=20220613.csv|2022-10-11 09:00:33.44|precog-spark|128 WPS      |\n",
      "|2943309 |SG 2962          |2962            |2022-06-13|DEL     |JLR   |01:50:00 |126852|ADITYA  SOOD|CAPT.|2022-06-13 06:00:00|2022-06-13 08:05:00|DOM   |DHC         |DHC-         |Pax    |VT-SUF|DEL      |JLR    |SG 2962 |2022-06-13|2.25        |null        |null                       |null          |null            |D 0.8         |null         |null          |null    |Gnd (1) |0.992              |R 0.01              |-0.01                    |null                 |null               |null                  |null        |null                  |null         |null             |null             |null           |null           |null             |null             |null             |null             |null              |null                 |null                  |null           |null           |null                      |null                        |null          |null          |null             |null             |null      |null      |null            |null             |null                     |null                     |null                  |ALL ac=VT-SUF dep=DEL arr=JLR fn=SEJ2962 dt=20220613.csv|2022-10-11 09:00:33.44|precog-spark|128 WPS      |\n",
      "|2943309 |SG 2962          |2962            |2022-06-13|DEL     |JLR   |01:50:00 |126852|ADITYA  SOOD|CAPT.|2022-06-13 06:00:00|2022-06-13 08:05:00|DOM   |DHC         |DHC-         |Pax    |VT-SUF|DEL      |JLR    |SG 2962 |2022-06-13|2.375       |null        |null                       |null          |null            |null          |null         |null          |null    |null    |0.992              |null                |null                     |null                 |null               |null                  |null        |null                  |null         |null             |null             |null           |null           |null             |null             |null             |null             |null              |null                 |null                  |null           |null           |null                      |null                        |null          |null          |null             |null             |null      |null      |null            |null             |null                     |null                     |null                  |ALL ac=VT-SUF dep=DEL arr=JLR fn=SEJ2962 dt=20220613.csv|2022-10-11 09:00:33.44|precog-spark|128 WPS      |\n",
      "+--------+-----------------+----------------+----------+--------+------+---------+------+------------+-----+-------------------+-------------------+------+------------+-------------+-------+------+---------+-------+--------+----------+------------+------------+---------------------------+--------------+----------------+--------------+-------------+--------------+--------+--------+-------------------+--------------------+-------------------------+---------------------+-------------------+----------------------+------------+----------------------+-------------+-----------------+-----------------+---------------+---------------+-----------------+-----------------+-----------------+-----------------+------------------+---------------------+----------------------+---------------+---------------+--------------------------+----------------------------+--------------+--------------+-----------------+-----------------+----------+----------+----------------+-----------------+-------------------------+-------------------------+----------------------+--------------------------------------------------------+----------------------+------------+-------------+\n",
      "only showing top 20 rows"
     ]
    }
   ],
   "source": [
    "df.show(20,False)"
   ]
  },
  {
   "cell_type": "code",
   "execution_count": null,
   "id": "7be068e8-3f69-4146-b74f-3af0c5181692",
   "metadata": {},
   "outputs": [],
   "source": []
  }
 ],
 "metadata": {
  "kernelspec": {
   "display_name": "PySpark",
   "language": "",
   "name": "pysparkkernel"
  },
  "language_info": {
   "codemirror_mode": {
    "name": "python",
    "version": 3
   },
   "mimetype": "text/x-python",
   "name": "pyspark",
   "pygments_lexer": "python3"
  }
 },
 "nbformat": 4,
 "nbformat_minor": 5
}
