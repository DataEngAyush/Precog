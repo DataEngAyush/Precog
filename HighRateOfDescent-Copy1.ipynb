{
 "cells": [
  {
   "cell_type": "code",
   "execution_count": 3,
   "id": "08bc0164-26a2-4e9d-a4c1-dcdea28f78b1",
   "metadata": {
    "execution": {
     "iopub.execute_input": "2023-01-12T06:31:25.121709Z",
     "iopub.status.busy": "2023-01-12T06:31:25.121491Z",
     "iopub.status.idle": "2023-01-12T06:32:16.399324Z",
     "shell.execute_reply": "2023-01-12T06:32:16.398751Z",
     "shell.execute_reply.started": "2023-01-12T06:31:25.121686Z"
    },
    "tags": []
   },
   "outputs": [
    {
     "name": "stdout",
     "output_type": "stream",
     "text": [
      "Starting Spark application\n"
     ]
    },
    {
     "data": {
      "text/html": [
       "<table>\n",
       "<tr><th>ID</th><th>YARN Application ID</th><th>Kind</th><th>State</th><th>Spark UI</th><th>Driver log</th><th>Current session?</th></tr><tr><td>4</td><td>application_1673498272080_0025</td><td>pyspark</td><td>idle</td><td><a target=\"_blank\" href=\"http://ip-20-0-4-210.ap-south-1.compute.internal:20888/proxy/application_1673498272080_0025/\" class=\"emr-proxy-link\" emr-resource=\"j-1DD9O1Q2DH5EX\n",
       "\" application-id=\"application_1673498272080_0025\">Link</a></td><td><a target=\"_blank\" href=\"http://ip-20-0-4-116.ap-south-1.compute.internal:8042/node/containerlogs/container_1673498272080_0025_01_000001/livy\" >Link</a></td><td>✔</td></tr></table>"
      ],
      "text/plain": [
       "<IPython.core.display.HTML object>"
      ]
     },
     "metadata": {},
     "output_type": "display_data"
    },
    {
     "data": {
      "application/vnd.jupyter.widget-view+json": {
       "model_id": "",
       "version_major": 2,
       "version_minor": 0
      },
      "text/plain": [
       "FloatProgress(value=0.0, bar_style='info', description='Progress:', layout=Layout(height='25px', width='50%'),…"
      ]
     },
     "metadata": {},
     "output_type": "display_data"
    },
    {
     "name": "stdout",
     "output_type": "stream",
     "text": [
      "SparkSession available as 'spark'.\n"
     ]
    },
    {
     "data": {
      "text/html": [
       "Current session configs: <tt>{'conf': {'spark.jars': 's3://sjet-datamart-bucket/Jars/mssql-jdbc-6.1.0.jre8.jar'}, 'proxyUser': 'user_ayush_vaishnav', 'kind': 'pyspark'}</tt><br>"
      ],
      "text/plain": [
       "<IPython.core.display.HTML object>"
      ]
     },
     "metadata": {},
     "output_type": "display_data"
    },
    {
     "data": {
      "text/html": [
       "<table>\n",
       "<tr><th>ID</th><th>YARN Application ID</th><th>Kind</th><th>State</th><th>Spark UI</th><th>Driver log</th><th>Current session?</th></tr><tr><td>2</td><td>application_1673498272080_0023</td><td>pyspark</td><td>dead</td><td><a target=\"_blank\" href=\"http://ip-20-0-4-210.ap-south-1.compute.internal:20888/proxy/application_1673498272080_0023/\" class=\"emr-proxy-link\" emr-resource=\"j-1DD9O1Q2DH5EX\n",
       "\" application-id=\"application_1673498272080_0023\">Link</a></td><td><a target=\"_blank\" href=\"http://ip-20-0-4-210.ap-south-1.compute.internal:8188/applicationhistory/logs/ip-20-0-4-6.ap-south-1.compute.internal:8041/container_1673498272080_0023_01_000001/container_1673498272080_0023_01_000001/livy\" >Link</a></td><td></td></tr><tr><td>4</td><td>application_1673498272080_0025</td><td>pyspark</td><td>idle</td><td><a target=\"_blank\" href=\"http://ip-20-0-4-210.ap-south-1.compute.internal:20888/proxy/application_1673498272080_0025/\" class=\"emr-proxy-link\" emr-resource=\"j-1DD9O1Q2DH5EX\n",
       "\" application-id=\"application_1673498272080_0025\">Link</a></td><td><a target=\"_blank\" href=\"http://ip-20-0-4-116.ap-south-1.compute.internal:8042/node/containerlogs/container_1673498272080_0025_01_000001/livy\" >Link</a></td><td>✔</td></tr></table>"
      ],
      "text/plain": [
       "<IPython.core.display.HTML object>"
      ]
     },
     "metadata": {},
     "output_type": "display_data"
    }
   ],
   "source": [
    "%%configure -f\n",
    "{\n",
    "    \"conf\": {\n",
    "        \"spark.jars\": \"s3://sjet-datamart-bucket/Jars/mssql-jdbc-6.1.0.jre8.jar\"        \n",
    "    }\n",
    "}"
   ]
  },
  {
   "cell_type": "code",
   "execution_count": 4,
   "id": "2c7979ec-5676-4064-b5b4-dce81b8ac0c9",
   "metadata": {
    "execution": {
     "iopub.execute_input": "2023-01-12T06:32:16.400557Z",
     "iopub.status.busy": "2023-01-12T06:32:16.400335Z",
     "iopub.status.idle": "2023-01-12T06:32:21.676917Z",
     "shell.execute_reply": "2023-01-12T06:32:21.676407Z",
     "shell.execute_reply.started": "2023-01-12T06:32:16.400523Z"
    },
    "tags": []
   },
   "outputs": [
    {
     "data": {
      "application/vnd.jupyter.widget-view+json": {
       "model_id": "4a5526b193944ce4b6eb676a13cb2eae",
       "version_major": 2,
       "version_minor": 0
      },
      "text/plain": [
       "VBox()"
      ]
     },
     "metadata": {},
     "output_type": "display_data"
    },
    {
     "data": {
      "application/vnd.jupyter.widget-view+json": {
       "model_id": "",
       "version_major": 2,
       "version_minor": 0
      },
      "text/plain": [
       "FloatProgress(value=0.0, bar_style='info', description='Progress:', layout=Layout(height='25px', width='50%'),…"
      ]
     },
     "metadata": {},
     "output_type": "display_data"
    }
   ],
   "source": [
    "UNION_DF = spark.sql('''\n",
    "\n",
    "                        SELECT * FROM precogdb.df5_red_high_rate_of_descent\n",
    "                        where date > '2021-10-31'\n",
    "                        UNION\n",
    "                        SELECT * FROM precogdb.df5_amber_high_rate_of_descent\n",
    "                        where date > '2021-10-31'\n",
    "                        UNION\n",
    "                        SELECT * FROM precogdb.df5_green_high_rate_of_descent\n",
    "                        where flightdate > '2021-10-31'\n",
    "                        \n",
    "                        \n",
    "                        \n",
    "                        ''')"
   ]
  },
  {
   "cell_type": "code",
   "execution_count": 3,
   "id": "dd6f4219-e741-4da0-80d1-0b4a4b5e4116",
   "metadata": {
    "execution": {
     "iopub.execute_input": "2022-12-05T13:35:22.649306Z",
     "iopub.status.busy": "2022-12-05T13:35:22.649135Z",
     "iopub.status.idle": "2022-12-05T13:35:23.403057Z",
     "shell.execute_reply": "2022-12-05T13:35:23.402538Z",
     "shell.execute_reply.started": "2022-12-05T13:35:22.649285Z"
    },
    "tags": []
   },
   "outputs": [
    {
     "data": {
      "application/vnd.jupyter.widget-view+json": {
       "model_id": "9d00b7dd62774dfea36fe801ec15e070",
       "version_major": 2,
       "version_minor": 0
      },
      "text/plain": [
       "VBox()"
      ]
     },
     "metadata": {},
     "output_type": "display_data"
    },
    {
     "data": {
      "application/vnd.jupyter.widget-view+json": {
       "model_id": "",
       "version_major": 2,
       "version_minor": 0
      },
      "text/plain": [
       "FloatProgress(value=0.0, bar_style='info', description='Progress:', layout=Layout(height='25px', width='50%'),…"
      ]
     },
     "metadata": {},
     "output_type": "display_data"
    },
    {
     "name": "stdout",
     "output_type": "stream",
     "text": [
      "root\n",
      " |-- exceedanceid: long (nullable = true)\n",
      " |-- exceedance: string (nullable = true)\n",
      " |-- phaseid: long (nullable = true)\n",
      " |-- phase: string (nullable = true)\n",
      " |-- ecn: string (nullable = true)\n",
      " |-- employeename: string (nullable = true)\n",
      " |-- rank: string (nullable = true)\n",
      " |-- tailno: string (nullable = true)\n",
      " |-- departure: string (nullable = true)\n",
      " |-- arrival: string (nullable = true)\n",
      " |-- flightno: string (nullable = true)\n",
      " |-- flightdate: string (nullable = true)\n",
      " |-- chocksoff: timestamp (nullable = true)\n",
      " |-- chockson: timestamp (nullable = true)\n",
      " |-- domint: string (nullable = true)\n",
      " |-- manufacturerid: long (nullable = true)\n",
      " |-- manufacturer: string (nullable = true)\n",
      " |-- dataframeid: long (nullable = true)\n",
      " |-- dataframe: string (nullable = true)\n",
      " |-- aircrafttype: string (nullable = true)\n",
      " |-- aircraftmodel: string (nullable = true)\n",
      " |-- payload: string (nullable = true)\n",
      " |-- blocktime_hrs: string (nullable = true)\n",
      " |-- occurance: string (nullable = true)\n",
      " |-- typeid: long (nullable = true)\n",
      " |-- flag: string (nullable = true)\n",
      " |-- trigger_start_hours: string (nullable = true)\n",
      " |-- trigger_end_hours: string (nullable = true)\n",
      " |-- occurence_start_hours: string (nullable = true)\n",
      " |-- occurence_end_hours: string (nullable = true)\n",
      " |-- duration_min: string (nullable = true)\n",
      " |-- vertical-speed-derived: string (nullable = true)\n",
      " |-- radio-altitude: string (nullable = true)\n",
      " |-- main-wow: string (nullable = true)\n",
      " |-- loadeddate: timestamp (nullable = true)\n",
      " |-- filename: string (nullable = true)\n",
      " |-- year: string (nullable = true)\n",
      " |-- month: string (nullable = true)"
     ]
    }
   ],
   "source": [
    "spark.sql('''\n",
    "SELECT * FROM precogdb.df5_green_high_rate_of_descent\n",
    "''').printSchema()"
   ]
  },
  {
   "cell_type": "code",
   "execution_count": null,
   "id": "a0e607e2-51c4-48a3-b7cf-05ab27e1d5db",
   "metadata": {
    "execution": {
     "iopub.status.busy": "2022-11-02T19:26:13.645056Z",
     "iopub.status.idle": "2022-11-02T19:26:13.645332Z",
     "shell.execute_reply": "2022-11-02T19:26:13.645198Z"
    },
    "tags": []
   },
   "outputs": [],
   "source": [
    "UNION_DF.count()"
   ]
  },
  {
   "cell_type": "code",
   "execution_count": 5,
   "id": "ca683674-0e5c-4ac8-9815-2650cdb0f3a3",
   "metadata": {
    "execution": {
     "iopub.execute_input": "2023-01-12T06:32:21.678108Z",
     "iopub.status.busy": "2023-01-12T06:32:21.677894Z",
     "iopub.status.idle": "2023-01-12T06:32:22.434940Z",
     "shell.execute_reply": "2023-01-12T06:32:22.434326Z",
     "shell.execute_reply.started": "2023-01-12T06:32:21.678085Z"
    },
    "tags": []
   },
   "outputs": [
    {
     "data": {
      "application/vnd.jupyter.widget-view+json": {
       "model_id": "74b5af965cf74986ac841d27b9b6f842",
       "version_major": 2,
       "version_minor": 0
      },
      "text/plain": [
       "VBox()"
      ]
     },
     "metadata": {},
     "output_type": "display_data"
    },
    {
     "data": {
      "application/vnd.jupyter.widget-view+json": {
       "model_id": "",
       "version_major": 2,
       "version_minor": 0
      },
      "text/plain": [
       "FloatProgress(value=0.0, bar_style='info', description='Progress:', layout=Layout(height='25px', width='50%'),…"
      ]
     },
     "metadata": {},
     "output_type": "display_data"
    }
   ],
   "source": [
    "UNION_DF.createOrReplaceTempView('union_df')"
   ]
  },
  {
   "cell_type": "code",
   "execution_count": 4,
   "id": "843f95c1-629d-4cfc-87b9-69f23a1819b8",
   "metadata": {
    "execution": {
     "iopub.execute_input": "2022-10-14T16:11:05.968640Z",
     "iopub.status.busy": "2022-10-14T16:11:05.968475Z",
     "iopub.status.idle": "2022-10-14T16:11:11.247529Z",
     "shell.execute_reply": "2022-10-14T16:11:11.247016Z",
     "shell.execute_reply.started": "2022-10-14T16:11:05.968620Z"
    }
   },
   "outputs": [
    {
     "data": {
      "application/vnd.jupyter.widget-view+json": {
       "model_id": "b5654c40107a4618ba3744256b5290c1",
       "version_major": 2,
       "version_minor": 0
      },
      "text/plain": [
       "VBox()"
      ]
     },
     "metadata": {},
     "output_type": "display_data"
    },
    {
     "data": {
      "application/vnd.jupyter.widget-view+json": {
       "model_id": "",
       "version_major": 2,
       "version_minor": 0
      },
      "text/plain": [
       "FloatProgress(value=0.0, bar_style='info', description='Progress:', layout=Layout(height='25px', width='50%'),…"
      ]
     },
     "metadata": {},
     "output_type": "display_data"
    }
   ],
   "source": [
    "PilotInfoDF = spark.read.csv('s3://sjet-datamart-bucket/precog/pilot-info/', header=True)"
   ]
  },
  {
   "cell_type": "code",
   "execution_count": 5,
   "id": "cba0758b-926b-409a-89a2-c0bf4ef0e4c0",
   "metadata": {
    "execution": {
     "iopub.execute_input": "2022-10-14T16:11:11.248557Z",
     "iopub.status.busy": "2022-10-14T16:11:11.248372Z",
     "iopub.status.idle": "2022-10-14T16:11:11.293765Z",
     "shell.execute_reply": "2022-10-14T16:11:11.293270Z",
     "shell.execute_reply.started": "2022-10-14T16:11:11.248536Z"
    }
   },
   "outputs": [
    {
     "data": {
      "application/vnd.jupyter.widget-view+json": {
       "model_id": "aef1babb76844a0b9d35b023fcda69cb",
       "version_major": 2,
       "version_minor": 0
      },
      "text/plain": [
       "VBox()"
      ]
     },
     "metadata": {},
     "output_type": "display_data"
    },
    {
     "data": {
      "application/vnd.jupyter.widget-view+json": {
       "model_id": "",
       "version_major": 2,
       "version_minor": 0
      },
      "text/plain": [
       "FloatProgress(value=0.0, bar_style='info', description='Progress:', layout=Layout(height='25px', width='50%'),…"
      ]
     },
     "metadata": {},
     "output_type": "display_data"
    }
   ],
   "source": [
    "PilotInfoDF.createOrReplaceTempView('PilotInfoDF')"
   ]
  },
  {
   "cell_type": "code",
   "execution_count": 6,
   "id": "5b9b968f-6bcd-40a7-bbaa-d2d8f379f536",
   "metadata": {
    "execution": {
     "iopub.execute_input": "2023-01-12T06:32:58.243235Z",
     "iopub.status.busy": "2023-01-12T06:32:58.243011Z",
     "iopub.status.idle": "2023-01-12T06:32:58.495008Z",
     "shell.execute_reply": "2023-01-12T06:32:58.494450Z",
     "shell.execute_reply.started": "2023-01-12T06:32:58.243213Z"
    },
    "tags": []
   },
   "outputs": [
    {
     "data": {
      "application/vnd.jupyter.widget-view+json": {
       "model_id": "bbe3165a8ec34d169edc4846a75bd6ac",
       "version_major": 2,
       "version_minor": 0
      },
      "text/plain": [
       "VBox()"
      ]
     },
     "metadata": {},
     "output_type": "display_data"
    },
    {
     "data": {
      "application/vnd.jupyter.widget-view+json": {
       "model_id": "",
       "version_major": 2,
       "version_minor": 0
      },
      "text/plain": [
       "FloatProgress(value=0.0, bar_style='info', description='Progress:', layout=Layout(height='25px', width='50%'),…"
      ]
     },
     "metadata": {},
     "output_type": "display_data"
    }
   ],
   "source": [
    "final_df_df5 = spark.sql('''\n",
    "                            SELECT \n",
    "                            CAST(ud.exceedanceid AS INT),\n",
    "                            ud.exceedance,\n",
    "                            CAST(ud.phaseid AS INT),\n",
    "                            ud.phase,\n",
    "                            ud.ecn,\n",
    "                            ud.employeename,\n",
    "                            ud.rank,\n",
    "                            ud.tailno,\n",
    "                            ud.departure,\n",
    "                            ud.arrival,\n",
    "                            ud.flightno AS FlightNumber,\n",
    "                            ud.date as FLightDate ,\n",
    "                            ud.chocksoff,\n",
    "                            ud.chockson,\n",
    "                            ud.domint,\n",
    "                            CAST(ud.manufacturerid AS INT),\n",
    "                            ud.manufacturer,\n",
    "                            CAST(ud.dataframeid AS INT),\n",
    "                            ud.dataframe,\n",
    "                            ud.aircrafttype,\n",
    "                            ud.aircraftmodel,\n",
    "                            ud.payload,\n",
    "                            ud.blocktime_hrs as `Block time`,\n",
    "                            occurance as occurence,\n",
    "                            CAST(typeid AS INT),\n",
    "                            flag as type,\n",
    "                            CAST(trigger_start_hours AS DECIMAL(8,2)) AS `Trigger Start Hours`,\n",
    "                            CAST(trigger_end_hours AS DECIMAL(8,2)) AS `Trigger End Hours`,\n",
    "                            CAST(occurence_start_hours AS DECIMAL(8,2)) AS `Occurence Start Hours`,\n",
    "                            CAST(occurence_end_hours AS DECIMAL(8,2)) AS `Occurence End Hours`,\n",
    "                            CAST(duration_min AS INT) AS  `Duration(Sec)`,\n",
    "                            CAST(`BARO_COR_ALT` AS INT) AS `BARO COR ALT`,\n",
    "                            CAST(`RADIO_HEIGHT` AS INT) AS `RADIO HEIGHT`,\n",
    "                            CAST(`COMPUTED_AIRSPEED` AS FLOAT) AS `COMPUTED AIRSPEED`,\n",
    "                            CAPT_DISPLAY_PITCH_ATTIUDE AS `CAPT. DISPLAY PITCH ATTIUDE`,\n",
    "                            CAST(`CAPT_DISPLAY_HEADING` AS FLOAT) AS `CAPT. DISPLAY HEADING`,\n",
    "                            CAST(`GROUNDSPEED` AS FLOAT) AS `GROUND SPEED`,\n",
    "                            CAST(`VERTICAL_SPEED` AS INT) AS `VERTICAL SPEED`,\n",
    "                            CAST(`FLAP_HANDLE_POSITION` AS INT) AS `FLAP HANDLE POSITION`,\n",
    "                            CAST(`TORQUE_ENG_L` AS FLOAT) AS `LEFT ENGINE N1 \\ TORQUE ENG L`,\n",
    "                            CAST(`TORQUE_ENG_R` AS FLOAT) AS `RIGHT ENGINE N1 \\ TORQUE ENG R`,\n",
    "                            CAST('' AS INT) AS `VREF SPEED`,\n",
    "                            MAIN_WOW AS `LEFT MAIN GEAR AIR/GND`,\n",
    "                            '' AS `RIGHT MAIN GEAR AIR/GND`,\n",
    "                            loadeddate AS LoadDate,\n",
    "                            filename\n",
    "                    FROM union_df ud\n",
    "                    \n",
    "                    \n",
    "                ''')"
   ]
  },
  {
   "cell_type": "code",
   "execution_count": 7,
   "id": "9c3f93db-3c3a-4f90-bde1-daecdd4e01ac",
   "metadata": {
    "execution": {
     "iopub.execute_input": "2023-01-12T06:33:04.098678Z",
     "iopub.status.busy": "2023-01-12T06:33:04.098445Z",
     "iopub.status.idle": "2023-01-12T06:34:07.547323Z",
     "shell.execute_reply": "2023-01-12T06:34:07.546759Z",
     "shell.execute_reply.started": "2023-01-12T06:33:04.098655Z"
    },
    "tags": []
   },
   "outputs": [
    {
     "data": {
      "application/vnd.jupyter.widget-view+json": {
       "model_id": "97094e3551ea4386aa17797c0067d110",
       "version_major": 2,
       "version_minor": 0
      },
      "text/plain": [
       "VBox()"
      ]
     },
     "metadata": {},
     "output_type": "display_data"
    },
    {
     "data": {
      "application/vnd.jupyter.widget-view+json": {
       "model_id": "",
       "version_major": 2,
       "version_minor": 0
      },
      "text/plain": [
       "FloatProgress(value=0.0, bar_style='info', description='Progress:', layout=Layout(height='25px', width='50%'),…"
      ]
     },
     "metadata": {},
     "output_type": "display_data"
    }
   ],
   "source": [
    "final_df_df5 \\\n",
    "  .write \\\n",
    "  .format(\"jdbc\") \\\n",
    "  .mode(\"append\") \\\n",
    "  .option(\"driver\", \"com.microsoft.sqlserver.jdbc.SQLServerDriver\") \\\n",
    "  .option(\"url\", \"jdbc:sqlserver://10.150.72.22:1433;databaseName=precog\") \\\n",
    "  .option(\"dbtable\", \"HighRateOfDescentSTG\") \\\n",
    "  .option(\"user\", \"dmbigdata\") \\\n",
    "  .option(\"password\", \"$p!Ce@bigData$db\") \\\n",
    "  .save()"
   ]
  },
  {
   "cell_type": "code",
   "execution_count": 6,
   "id": "23df047c-b475-4632-b503-88747b74fdaa",
   "metadata": {
    "execution": {
     "iopub.execute_input": "2022-12-29T08:59:07.680823Z",
     "iopub.status.busy": "2022-12-29T08:59:07.680657Z",
     "iopub.status.idle": "2022-12-29T08:59:15.558873Z",
     "shell.execute_reply": "2022-12-29T08:59:15.558118Z",
     "shell.execute_reply.started": "2022-12-29T08:59:07.680802Z"
    },
    "tags": []
   },
   "outputs": [
    {
     "data": {
      "application/vnd.jupyter.widget-view+json": {
       "model_id": "4b9ddb86e7cc44de95cba64e0179b5e0",
       "version_major": 2,
       "version_minor": 0
      },
      "text/plain": [
       "VBox()"
      ]
     },
     "metadata": {},
     "output_type": "display_data"
    },
    {
     "data": {
      "application/vnd.jupyter.widget-view+json": {
       "model_id": "",
       "version_major": 2,
       "version_minor": 0
      },
      "text/plain": [
       "FloatProgress(value=0.0, bar_style='info', description='Progress:', layout=Layout(height='25px', width='50%'),…"
      ]
     },
     "metadata": {},
     "output_type": "display_data"
    },
    {
     "name": "stdout",
     "output_type": "stream",
     "text": [
      "+-----+\n",
      "|Flag |\n",
      "+-----+\n",
      "|Green|\n",
      "|Amber|\n",
      "|Red  |\n",
      "+-----+"
     ]
    }
   ],
   "source": [
    "UNION_DF.select('Flag').distinct().show(truncate = False)"
   ]
  },
  {
   "cell_type": "code",
   "execution_count": 8,
   "id": "0735d970-8a63-4530-bba4-e36436afb31c",
   "metadata": {
    "execution": {
     "iopub.execute_input": "2023-01-12T06:34:12.603148Z",
     "iopub.status.busy": "2023-01-12T06:34:12.602933Z",
     "iopub.status.idle": "2023-01-12T06:34:14.865042Z",
     "shell.execute_reply": "2023-01-12T06:34:14.864475Z",
     "shell.execute_reply.started": "2023-01-12T06:34:12.603125Z"
    },
    "tags": []
   },
   "outputs": [
    {
     "data": {
      "application/vnd.jupyter.widget-view+json": {
       "model_id": "1620c90496e846caa34d551a8c54d0e8",
       "version_major": 2,
       "version_minor": 0
      },
      "text/plain": [
       "VBox()"
      ]
     },
     "metadata": {},
     "output_type": "display_data"
    },
    {
     "data": {
      "application/vnd.jupyter.widget-view+json": {
       "model_id": "",
       "version_major": 2,
       "version_minor": 0
      },
      "text/plain": [
       "FloatProgress(value=0.0, bar_style='info', description='Progress:', layout=Layout(height='25px', width='50%'),…"
      ]
     },
     "metadata": {},
     "output_type": "display_data"
    }
   ],
   "source": [
    "UNION_DF_1 = spark.sql('''\n",
    "\n",
    "                        SELECT * FROM precogdb.df6_red_high_rate_of_descent\n",
    "                        where date > '2021-10-31'\n",
    "                        UNION\n",
    "                        SELECT * FROM precogdb.df6_amber_high_rate_of_descent\n",
    "                        where date > '2021-10-31'\n",
    "                        UNION\n",
    "                        SELECT * FROM precogdb.df6_green_high_rate_of_descent\n",
    "                        where flightdate > '2021-10-31'\n",
    "                        \n",
    "                        ''')"
   ]
  },
  {
   "cell_type": "code",
   "execution_count": 9,
   "id": "c6213afc-afef-4d6e-918f-43a2c67abcc3",
   "metadata": {
    "execution": {
     "iopub.execute_input": "2023-01-12T06:34:15.393906Z",
     "iopub.status.busy": "2023-01-12T06:34:15.393685Z",
     "iopub.status.idle": "2023-01-12T06:34:15.645922Z",
     "shell.execute_reply": "2023-01-12T06:34:15.645416Z",
     "shell.execute_reply.started": "2023-01-12T06:34:15.393882Z"
    },
    "tags": []
   },
   "outputs": [
    {
     "data": {
      "application/vnd.jupyter.widget-view+json": {
       "model_id": "a6c59449f9094b96ad90c23b68aacbb6",
       "version_major": 2,
       "version_minor": 0
      },
      "text/plain": [
       "VBox()"
      ]
     },
     "metadata": {},
     "output_type": "display_data"
    },
    {
     "data": {
      "application/vnd.jupyter.widget-view+json": {
       "model_id": "",
       "version_major": 2,
       "version_minor": 0
      },
      "text/plain": [
       "FloatProgress(value=0.0, bar_style='info', description='Progress:', layout=Layout(height='25px', width='50%'),…"
      ]
     },
     "metadata": {},
     "output_type": "display_data"
    }
   ],
   "source": [
    "UNION_DF_1.createOrReplaceTempView('union_df_1')"
   ]
  },
  {
   "cell_type": "code",
   "execution_count": 10,
   "id": "ad65ecd1-5e67-4a82-977e-0b5cb0dfc705",
   "metadata": {
    "execution": {
     "iopub.execute_input": "2023-01-12T06:34:20.875748Z",
     "iopub.status.busy": "2023-01-12T06:34:20.875529Z",
     "iopub.status.idle": "2023-01-12T06:34:21.125367Z",
     "shell.execute_reply": "2023-01-12T06:34:21.124892Z",
     "shell.execute_reply.started": "2023-01-12T06:34:20.875725Z"
    },
    "tags": []
   },
   "outputs": [
    {
     "data": {
      "application/vnd.jupyter.widget-view+json": {
       "model_id": "ef649904da814fbebb6d8baac11444f0",
       "version_major": 2,
       "version_minor": 0
      },
      "text/plain": [
       "VBox()"
      ]
     },
     "metadata": {},
     "output_type": "display_data"
    },
    {
     "data": {
      "application/vnd.jupyter.widget-view+json": {
       "model_id": "",
       "version_major": 2,
       "version_minor": 0
      },
      "text/plain": [
       "FloatProgress(value=0.0, bar_style='info', description='Progress:', layout=Layout(height='25px', width='50%'),…"
      ]
     },
     "metadata": {},
     "output_type": "display_data"
    }
   ],
   "source": [
    "final_df_df6 = spark.sql('''\n",
    "                            SELECT \n",
    "                            CAST(ud.exceedanceid AS INT),\n",
    "                            ud.exceedance,\n",
    "                            CAST(ud.phaseid AS INT),\n",
    "                            ud.phase,\n",
    "                            ud.ecn,\n",
    "                            ud.employeename,\n",
    "                            ud.rank,\n",
    "                            ud.tailno,\n",
    "                            ud.departure,\n",
    "                            ud.arrival,\n",
    "                            ud.flightno AS FlightNumber,\n",
    "                            ud.date as FLightDate,\n",
    "                            ud.chocksoff,\n",
    "                            ud.chockson,\n",
    "                            ud.domint,\n",
    "                            CAST(ud.manufacturerid AS INT),\n",
    "                            ud.manufacturer,\n",
    "                            CAST(ud.dataframeid AS INT),\n",
    "                            ud.dataframe,\n",
    "                            ud.aircrafttype,\n",
    "                            ud.aircraftmodel,\n",
    "                            ud.payload,\n",
    "                            ud.blocktime_hrs as `Block time`,\n",
    "                            occurance as occurence,\n",
    "                            CAST(typeid AS INT),\n",
    "                            flag as type,\n",
    "                            CAST(trigger_start_hours AS DECIMAL(8,2)) AS `Trigger Start Hours`,\n",
    "                            CAST(trigger_end_hours AS DECIMAL(8,2)) AS `Trigger End Hours`,\n",
    "                            CAST(occurence_start_hours AS DECIMAL(8,2)) AS `Occurence Start Hours`,\n",
    "                            CAST(occurence_end_hours AS DECIMAL(8,2)) AS `Occurence End Hours`,\n",
    "                            CAST(duration_min AS INT) AS  `Duration(Sec)`,\n",
    "                            CAST(`BARO_COR_ALT` AS INT) AS `BARO COR ALT`,\n",
    "                            CAST(`RADIO_HEIGHT` AS INT) AS `RADIO HEIGHT`,\n",
    "                            CAST(`COMPUTED_AIRSPEED` AS FLOAT) AS `COMPUTED AIRSPEED`,\n",
    "                            CAPT_DISPLAY_PITCH_ATTIUDE AS `CAPT. DISPLAY PITCH ATTIUDE`,\n",
    "                            CAST(`CAPT_DISPLAY_HEADING` AS FLOAT) AS `CAPT. DISPLAY HEADING`,\n",
    "                            CAST(`GROUNDSPEED` AS FLOAT) AS `GROUND SPEED`,\n",
    "                            CAST(`VERTICAL_SPEED` AS INT) AS `VERTICAL SPEED`,\n",
    "                            CAST(`FLAP_HANDLE_POSITION` AS INT) AS `FLAP HANDLE POSITION`,\n",
    "                            CAST(`TORQUE_ENG_L` AS FLOAT) AS `LEFT ENGINE N1 \\ TORQUE ENG L`,\n",
    "                            CAST(`TORQUE_ENG_R` AS FLOAT) AS `RIGHT ENGINE N1 \\ TORQUE ENG R`,\n",
    "                            CAST('' AS INT) AS `VREF SPEED`,\n",
    "                            WOW_MLG AS `LEFT MAIN GEAR AIR/GND`,\n",
    "                            '' AS `RIGHT MAIN GEAR AIR/GND`,\n",
    "                            loadeddate AS LoadDate,\n",
    "                            filename\n",
    "                    FROM union_df_1 ud\n",
    "                    \n",
    "                ''')"
   ]
  },
  {
   "cell_type": "code",
   "execution_count": 11,
   "id": "e9d71a83-22b8-4aa1-85c9-7291322bfa68",
   "metadata": {
    "execution": {
     "iopub.execute_input": "2023-01-12T06:34:27.216219Z",
     "iopub.status.busy": "2023-01-12T06:34:27.215985Z",
     "iopub.status.idle": "2023-01-12T06:35:12.604564Z",
     "shell.execute_reply": "2023-01-12T06:35:12.603990Z",
     "shell.execute_reply.started": "2023-01-12T06:34:27.216196Z"
    },
    "tags": []
   },
   "outputs": [
    {
     "data": {
      "application/vnd.jupyter.widget-view+json": {
       "model_id": "bb877498625d44328d0674f29eb1c6a4",
       "version_major": 2,
       "version_minor": 0
      },
      "text/plain": [
       "VBox()"
      ]
     },
     "metadata": {},
     "output_type": "display_data"
    },
    {
     "data": {
      "application/vnd.jupyter.widget-view+json": {
       "model_id": "",
       "version_major": 2,
       "version_minor": 0
      },
      "text/plain": [
       "FloatProgress(value=0.0, bar_style='info', description='Progress:', layout=Layout(height='25px', width='50%'),…"
      ]
     },
     "metadata": {},
     "output_type": "display_data"
    }
   ],
   "source": [
    "final_df_df6 \\\n",
    "  .write \\\n",
    "  .format(\"jdbc\") \\\n",
    "  .mode(\"append\") \\\n",
    "  .option(\"driver\", \"com.microsoft.sqlserver.jdbc.SQLServerDriver\") \\\n",
    "  .option(\"url\", \"jdbc:sqlserver://10.150.72.22:1433;databaseName=precog\") \\\n",
    "  .option(\"dbtable\", \"HighRateOfDescentSTG\") \\\n",
    "  .option(\"user\", \"dmbigdata\") \\\n",
    "  .option(\"password\", \"$p!Ce@bigData$db\") \\\n",
    "  .save()"
   ]
  },
  {
   "cell_type": "code",
   "execution_count": 12,
   "id": "703e6b77-9fbe-4b30-a8d8-f53e68a5a435",
   "metadata": {
    "execution": {
     "iopub.execute_input": "2023-01-12T06:35:15.439166Z",
     "iopub.status.busy": "2023-01-12T06:35:15.438936Z",
     "iopub.status.idle": "2023-01-12T06:35:16.191204Z",
     "shell.execute_reply": "2023-01-12T06:35:16.190680Z",
     "shell.execute_reply.started": "2023-01-12T06:35:15.439141Z"
    },
    "tags": []
   },
   "outputs": [
    {
     "data": {
      "application/vnd.jupyter.widget-view+json": {
       "model_id": "40e8eb017ec64533b0293f90c65425a7",
       "version_major": 2,
       "version_minor": 0
      },
      "text/plain": [
       "VBox()"
      ]
     },
     "metadata": {},
     "output_type": "display_data"
    },
    {
     "data": {
      "application/vnd.jupyter.widget-view+json": {
       "model_id": "",
       "version_major": 2,
       "version_minor": 0
      },
      "text/plain": [
       "FloatProgress(value=0.0, bar_style='info', description='Progress:', layout=Layout(height='25px', width='50%'),…"
      ]
     },
     "metadata": {},
     "output_type": "display_data"
    }
   ],
   "source": [
    "spark.stop()"
   ]
  },
  {
   "cell_type": "code",
   "execution_count": null,
   "id": "84ed9f8d-e108-4607-80cf-cead8e54effa",
   "metadata": {},
   "outputs": [],
   "source": []
  }
 ],
 "metadata": {
  "kernelspec": {
   "display_name": "PySpark",
   "language": "",
   "name": "pysparkkernel"
  },
  "language_info": {
   "codemirror_mode": {
    "name": "python",
    "version": 3
   },
   "mimetype": "text/x-python",
   "name": "pyspark",
   "pygments_lexer": "python3"
  }
 },
 "nbformat": 4,
 "nbformat_minor": 5
}
