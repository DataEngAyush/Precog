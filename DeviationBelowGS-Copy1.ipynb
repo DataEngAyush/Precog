{
 "cells": [
  {
   "cell_type": "code",
   "execution_count": 1,
   "id": "08bc0164-26a2-4e9d-a4c1-dcdea28f78b1",
   "metadata": {
    "execution": {
     "iopub.execute_input": "2023-01-12T05:43:43.371920Z",
     "iopub.status.busy": "2023-01-12T05:43:43.371546Z",
     "iopub.status.idle": "2023-01-12T05:43:43.400479Z",
     "shell.execute_reply": "2023-01-12T05:43:43.399834Z",
     "shell.execute_reply.started": "2023-01-12T05:43:43.371892Z"
    },
    "tags": []
   },
   "outputs": [
    {
     "data": {
      "text/html": [
       "Current session configs: <tt>{'conf': {'spark.jars': 's3://sjet-datamart-bucket/Jars/mssql-jdbc-6.1.0.jre8.jar'}, 'proxyUser': 'user_ayush_vaishnav', 'kind': 'pyspark'}</tt><br>"
      ],
      "text/plain": [
       "<IPython.core.display.HTML object>"
      ]
     },
     "metadata": {},
     "output_type": "display_data"
    },
    {
     "data": {
      "text/html": [
       "<table>\n",
       "<tr><th>ID</th><th>YARN Application ID</th><th>Kind</th><th>State</th><th>Spark UI</th><th>Driver log</th><th>Current session?</th></tr><tr><td>0</td><td>application_1673498272080_0005</td><td>pyspark</td><td>dead</td><td><a target=\"_blank\" href=\"http://ip-20-0-4-210.ap-south-1.compute.internal:20888/proxy/application_1673498272080_0005/\" class=\"emr-proxy-link\" emr-resource=\"j-1DD9O1Q2DH5EX\n",
       "\" application-id=\"application_1673498272080_0005\">Link</a></td><td><a target=\"_blank\" href=\"http://ip-20-0-4-210.ap-south-1.compute.internal:8188/applicationhistory/logs/ip-20-0-4-116.ap-south-1.compute.internal:8041/container_1673498272080_0005_01_000001/container_1673498272080_0005_01_000001/livy\" >Link</a></td><td></td></tr></table>"
      ],
      "text/plain": [
       "<IPython.core.display.HTML object>"
      ]
     },
     "metadata": {},
     "output_type": "display_data"
    }
   ],
   "source": [
    "%%configure -f\n",
    "{\n",
    "    \"conf\": {\n",
    "        \"spark.jars\": \"s3://sjet-datamart-bucket/Jars/mssql-jdbc-6.1.0.jre8.jar\"        \n",
    "    }\n",
    "}"
   ]
  },
  {
   "cell_type": "code",
   "execution_count": 2,
   "id": "2c7979ec-5676-4064-b5b4-dce81b8ac0c9",
   "metadata": {
    "execution": {
     "iopub.execute_input": "2023-01-12T05:43:44.647681Z",
     "iopub.status.busy": "2023-01-12T05:43:44.647461Z",
     "iopub.status.idle": "2023-01-12T05:44:13.979101Z",
     "shell.execute_reply": "2023-01-12T05:44:13.978535Z",
     "shell.execute_reply.started": "2023-01-12T05:43:44.647658Z"
    },
    "tags": []
   },
   "outputs": [
    {
     "data": {
      "application/vnd.jupyter.widget-view+json": {
       "model_id": "30702abc776d406aa6af3b62a23ce26d",
       "version_major": 2,
       "version_minor": 0
      },
      "text/plain": [
       "VBox()"
      ]
     },
     "metadata": {},
     "output_type": "display_data"
    },
    {
     "name": "stdout",
     "output_type": "stream",
     "text": [
      "Starting Spark application\n"
     ]
    },
    {
     "data": {
      "text/html": [
       "<table>\n",
       "<tr><th>ID</th><th>YARN Application ID</th><th>Kind</th><th>State</th><th>Spark UI</th><th>Driver log</th><th>Current session?</th></tr><tr><td>1</td><td>application_1673498272080_0006</td><td>pyspark</td><td>idle</td><td><a target=\"_blank\" href=\"http://ip-20-0-4-210.ap-south-1.compute.internal:20888/proxy/application_1673498272080_0006/\" class=\"emr-proxy-link\" emr-resource=\"j-1DD9O1Q2DH5EX\n",
       "\" application-id=\"application_1673498272080_0006\">Link</a></td><td><a target=\"_blank\" href=\"http://ip-20-0-4-116.ap-south-1.compute.internal:8042/node/containerlogs/container_1673498272080_0006_01_000001/livy\" >Link</a></td><td>✔</td></tr></table>"
      ],
      "text/plain": [
       "<IPython.core.display.HTML object>"
      ]
     },
     "metadata": {},
     "output_type": "display_data"
    },
    {
     "data": {
      "application/vnd.jupyter.widget-view+json": {
       "model_id": "",
       "version_major": 2,
       "version_minor": 0
      },
      "text/plain": [
       "FloatProgress(value=0.0, bar_style='info', description='Progress:', layout=Layout(height='25px', width='50%'),…"
      ]
     },
     "metadata": {},
     "output_type": "display_data"
    },
    {
     "name": "stdout",
     "output_type": "stream",
     "text": [
      "SparkSession available as 'spark'.\n"
     ]
    },
    {
     "data": {
      "application/vnd.jupyter.widget-view+json": {
       "model_id": "",
       "version_major": 2,
       "version_minor": 0
      },
      "text/plain": [
       "FloatProgress(value=0.0, bar_style='info', description='Progress:', layout=Layout(height='25px', width='50%'),…"
      ]
     },
     "metadata": {},
     "output_type": "display_data"
    }
   ],
   "source": [
    "UNION_DF = spark.sql('''\n",
    "\n",
    "                        SELECT * FROM precogdb.df5_red_deviation_below_gs\n",
    "                        where date > '2021-10-31'\n",
    "                        UNION\n",
    "                        SELECT * FROM precogdb.df5_amber_deviation_below_gs\n",
    "                        where date > '2021-10-31'\n",
    "                        UNION\n",
    "                        SELECT * FROM precogdb.df5_green_deviation_below_gs\n",
    "                        where flightdate > '2021-10-31'\n",
    "                        \n",
    "                        ''')"
   ]
  },
  {
   "cell_type": "code",
   "execution_count": 5,
   "id": "ca683674-0e5c-4ac8-9815-2650cdb0f3a3",
   "metadata": {
    "execution": {
     "iopub.execute_input": "2023-01-12T05:44:33.857943Z",
     "iopub.status.busy": "2023-01-12T05:44:33.857724Z",
     "iopub.status.idle": "2023-01-12T05:44:34.109940Z",
     "shell.execute_reply": "2023-01-12T05:44:34.109446Z",
     "shell.execute_reply.started": "2023-01-12T05:44:33.857921Z"
    },
    "tags": []
   },
   "outputs": [
    {
     "data": {
      "application/vnd.jupyter.widget-view+json": {
       "model_id": "b83bf91cf0964389aa57d5a726d114ac",
       "version_major": 2,
       "version_minor": 0
      },
      "text/plain": [
       "VBox()"
      ]
     },
     "metadata": {},
     "output_type": "display_data"
    },
    {
     "data": {
      "application/vnd.jupyter.widget-view+json": {
       "model_id": "",
       "version_major": 2,
       "version_minor": 0
      },
      "text/plain": [
       "FloatProgress(value=0.0, bar_style='info', description='Progress:', layout=Layout(height='25px', width='50%'),…"
      ]
     },
     "metadata": {},
     "output_type": "display_data"
    }
   ],
   "source": [
    "UNION_DF.createOrReplaceTempView('union_df_1')"
   ]
  },
  {
   "cell_type": "code",
   "execution_count": null,
   "id": "843f95c1-629d-4cfc-87b9-69f23a1819b8",
   "metadata": {
    "tags": []
   },
   "outputs": [],
   "source": [
    "PilotInfoDF = spark.read.csv('s3://sjet-datamart-bucket/precog/pilot-info/', header=True)"
   ]
  },
  {
   "cell_type": "code",
   "execution_count": 8,
   "id": "cba0758b-926b-409a-89a2-c0bf4ef0e4c0",
   "metadata": {
    "execution": {
     "iopub.execute_input": "2022-10-14T16:00:11.345950Z",
     "iopub.status.busy": "2022-10-14T16:00:11.345710Z",
     "iopub.status.idle": "2022-10-14T16:00:11.390919Z",
     "shell.execute_reply": "2022-10-14T16:00:11.390432Z",
     "shell.execute_reply.started": "2022-10-14T16:00:11.345924Z"
    }
   },
   "outputs": [
    {
     "data": {
      "application/vnd.jupyter.widget-view+json": {
       "model_id": "90dabaf34b174af0829e1a11384022b1",
       "version_major": 2,
       "version_minor": 0
      },
      "text/plain": [
       "VBox()"
      ]
     },
     "metadata": {},
     "output_type": "display_data"
    },
    {
     "data": {
      "application/vnd.jupyter.widget-view+json": {
       "model_id": "",
       "version_major": 2,
       "version_minor": 0
      },
      "text/plain": [
       "FloatProgress(value=0.0, bar_style='info', description='Progress:', layout=Layout(height='25px', width='50%'),…"
      ]
     },
     "metadata": {},
     "output_type": "display_data"
    }
   ],
   "source": [
    "PilotInfoDF.createOrReplaceTempView('PilotInfoDF')"
   ]
  },
  {
   "cell_type": "code",
   "execution_count": 6,
   "id": "5b9b968f-6bcd-40a7-bbaa-d2d8f379f536",
   "metadata": {
    "execution": {
     "iopub.execute_input": "2023-01-12T05:44:36.340645Z",
     "iopub.status.busy": "2023-01-12T05:44:36.340422Z",
     "iopub.status.idle": "2023-01-12T05:44:36.594753Z",
     "shell.execute_reply": "2023-01-12T05:44:36.594226Z",
     "shell.execute_reply.started": "2023-01-12T05:44:36.340622Z"
    },
    "tags": []
   },
   "outputs": [
    {
     "data": {
      "application/vnd.jupyter.widget-view+json": {
       "model_id": "abfa284e825c4c94adbef29380445937",
       "version_major": 2,
       "version_minor": 0
      },
      "text/plain": [
       "VBox()"
      ]
     },
     "metadata": {},
     "output_type": "display_data"
    },
    {
     "data": {
      "application/vnd.jupyter.widget-view+json": {
       "model_id": "",
       "version_major": 2,
       "version_minor": 0
      },
      "text/plain": [
       "FloatProgress(value=0.0, bar_style='info', description='Progress:', layout=Layout(height='25px', width='50%'),…"
      ]
     },
     "metadata": {},
     "output_type": "display_data"
    }
   ],
   "source": [
    "final_df_df5 = spark.sql('''\n",
    "                            SELECT \n",
    "                            CAST(ud.exceedanceid AS INT),\n",
    "                            ud.exceedance,\n",
    "                            CAST(ud.phaseid AS INT),\n",
    "                            ud.phase,\n",
    "                            ud.ecn,\n",
    "                            ud.employeename,\n",
    "                            ud.rank,\n",
    "                            ud.tailno,\n",
    "                            ud.departure,\n",
    "                            ud.arrival,\n",
    "                            ud.flightno AS FlightNumber,\n",
    "                            ud.date as FLightDate ,\n",
    "                            ud.chocksoff,\n",
    "                            ud.chockson,\n",
    "                            ud.domint,\n",
    "                            CAST(ud.manufacturerid AS INT),\n",
    "                            ud.manufacturer,\n",
    "                            CAST(ud.dataframeid AS INT),\n",
    "                            ud.dataframe,\n",
    "                            ud.aircrafttype,\n",
    "                            ud.aircraftmodel,\n",
    "                            ud.payload,\n",
    "                            ud.blocktime_hrs as `Block time`,\n",
    "                            occurance as occurence,\n",
    "                            CAST(typeid AS INT),\n",
    "                            flag as type,\n",
    "                            CAST(trigger_start_hours AS DECIMAL(8,2)) AS `Trigger Start Hours`,\n",
    "                            CAST(trigger_end_hours AS DECIMAL(8,2)) AS `Trigger End Hours`,\n",
    "                            CAST(occurence_start_hours AS DECIMAL(8,2)) AS `Occurence Start Hours`,\n",
    "                            CAST(occurence_end_hours AS DECIMAL(8,2)) AS `Occurence End Hours`,\n",
    "                            CAST(duration_min AS INT) AS `Duration(Sec)`,\n",
    "                            CAST(`BARO_COR_ALT` AS INT) AS `BARO COR ALT`,\n",
    "                            CAST(`RADIO_HEIGHT` AS INT) AS `RADIO HEIGHT`,\n",
    "                            CAST(`COMPUTED_AIRSPEED` AS FLOAT) AS `COMPUTED AIRSPEED`,\n",
    "                            CAPT_DISPLAY_PITCH_ATTIUDE AS `CAPT. DISPLAY PITCH ATTIUDE`,\n",
    "                            CAST(`CAPT_DISPLAY_HEADING` AS FLOAT) AS `CAPT. DISPLAY HEADING`,\n",
    "                            CAST(`GROUNDSPEED` AS FLOAT) AS `GROUND SPEED`,\n",
    "                            CAST(`VERTICAL_SPEED` AS INT) AS `VERTICAL SPEED`,\n",
    "                            CAST(`FLAP_HANDLE_POSITION` AS INT) AS `FLAP HANDLE POSITION`,\n",
    "                            CAST(`TORQUE_ENG_L` AS FLOAT) AS `LEFT ENGINE N1 \\ TORQUE ENG L`,\n",
    "                            CAST(`TORQUE_ENG_R` AS FLOAT) AS `RIGHT ENGINE N1 \\ TORQUE ENG R`,\n",
    "                            CAST('' AS INT) AS `VREF SPEED`,\n",
    "                            AFCS_Glideslope_Active AS `G/S ENGAGE`,\n",
    "                            GLIDE_PATH_DEV_PILOT_ABOVE AS `GLIDESLOPE DEVIATION - L`,\n",
    "                            GLIDE_PATH_DEV_COPILOT_ABOVE AS `GLIDESLOPE DEVIATION - R`,\n",
    "                            MAIN_WOW AS `LEFT MAIN GEAR AIR/GND`,\n",
    "                            '' AS `RIGHT MAIN GEAR AIR/GND`,\n",
    "                            loadeddate AS LoadDate,\n",
    "                            filename\n",
    "                        FROM union_df_1 ud\n",
    "                    \n",
    "                ''')"
   ]
  },
  {
   "cell_type": "code",
   "execution_count": 7,
   "id": "9c3f93db-3c3a-4f90-bde1-daecdd4e01ac",
   "metadata": {
    "execution": {
     "iopub.execute_input": "2023-01-12T05:44:43.308499Z",
     "iopub.status.busy": "2023-01-12T05:44:43.308281Z",
     "iopub.status.idle": "2023-01-12T05:45:16.708812Z",
     "shell.execute_reply": "2023-01-12T05:45:16.708326Z",
     "shell.execute_reply.started": "2023-01-12T05:44:43.308476Z"
    },
    "tags": []
   },
   "outputs": [
    {
     "data": {
      "application/vnd.jupyter.widget-view+json": {
       "model_id": "882dfc88922944c6960182d7ea19242e",
       "version_major": 2,
       "version_minor": 0
      },
      "text/plain": [
       "VBox()"
      ]
     },
     "metadata": {},
     "output_type": "display_data"
    },
    {
     "data": {
      "application/vnd.jupyter.widget-view+json": {
       "model_id": "",
       "version_major": 2,
       "version_minor": 0
      },
      "text/plain": [
       "FloatProgress(value=0.0, bar_style='info', description='Progress:', layout=Layout(height='25px', width='50%'),…"
      ]
     },
     "metadata": {},
     "output_type": "display_data"
    }
   ],
   "source": [
    "final_df_df5 \\\n",
    "  .write \\\n",
    "  .format(\"jdbc\") \\\n",
    "  .mode(\"append\") \\\n",
    "  .option(\"driver\", \"com.microsoft.sqlserver.jdbc.SQLServerDriver\") \\\n",
    "  .option(\"url\", \"jdbc:sqlserver://10.150.72.22:1433;databaseName=precog\") \\\n",
    "  .option(\"dbtable\", \"DeviationBelowGSSTG\") \\\n",
    "  .option(\"user\", \"dmbigdata\") \\\n",
    "  .option(\"password\", \"$p!Ce@bigData$db\") \\\n",
    "  .save()"
   ]
  },
  {
   "cell_type": "code",
   "execution_count": null,
   "id": "23df047c-b475-4632-b503-88747b74fdaa",
   "metadata": {
    "tags": []
   },
   "outputs": [],
   "source": []
  },
  {
   "cell_type": "code",
   "execution_count": null,
   "id": "c290d0f0-b7fe-41c6-8cef-4f1ea4e070f9",
   "metadata": {
    "tags": []
   },
   "outputs": [],
   "source": []
  },
  {
   "cell_type": "code",
   "execution_count": 17,
   "id": "0735d970-8a63-4530-bba4-e36436afb31c",
   "metadata": {
    "execution": {
     "iopub.execute_input": "2023-01-12T06:17:04.259203Z",
     "iopub.status.busy": "2023-01-12T06:17:04.258974Z",
     "iopub.status.idle": "2023-01-12T06:17:06.522493Z",
     "shell.execute_reply": "2023-01-12T06:17:06.522020Z",
     "shell.execute_reply.started": "2023-01-12T06:17:04.259181Z"
    },
    "tags": []
   },
   "outputs": [
    {
     "data": {
      "application/vnd.jupyter.widget-view+json": {
       "model_id": "0701771861a94a60b65072dde1a8a3b1",
       "version_major": 2,
       "version_minor": 0
      },
      "text/plain": [
       "VBox()"
      ]
     },
     "metadata": {},
     "output_type": "display_data"
    },
    {
     "data": {
      "application/vnd.jupyter.widget-view+json": {
       "model_id": "",
       "version_major": 2,
       "version_minor": 0
      },
      "text/plain": [
       "FloatProgress(value=0.0, bar_style='info', description='Progress:', layout=Layout(height='25px', width='50%'),…"
      ]
     },
     "metadata": {},
     "output_type": "display_data"
    }
   ],
   "source": [
    "UNION_DF_1 = spark.sql('''\n",
    "\n",
    "                        SELECT * FROM precogdb.df6_red_deviation_below_gs\n",
    "                        where date > '2021-10-31'\n",
    "                        UNION\n",
    "                        SELECT * FROM precogdb.df6_amber_deviation_below_gs\n",
    "                        where date > '2021-10-31'\n",
    "                        UNION\n",
    "                        SELECT * FROM precogdb.df6_green_deviation_below_gs\n",
    "                        where flightdate > '2021-10-31'\n",
    "                        ''')"
   ]
  },
  {
   "cell_type": "code",
   "execution_count": 18,
   "id": "c6213afc-afef-4d6e-918f-43a2c67abcc3",
   "metadata": {
    "execution": {
     "iopub.execute_input": "2023-01-12T06:17:09.113556Z",
     "iopub.status.busy": "2023-01-12T06:17:09.113333Z",
     "iopub.status.idle": "2023-01-12T06:17:09.362941Z",
     "shell.execute_reply": "2023-01-12T06:17:09.362414Z",
     "shell.execute_reply.started": "2023-01-12T06:17:09.113533Z"
    },
    "tags": []
   },
   "outputs": [
    {
     "data": {
      "application/vnd.jupyter.widget-view+json": {
       "model_id": "beeaed861d6d46f98bdfabe57f978b00",
       "version_major": 2,
       "version_minor": 0
      },
      "text/plain": [
       "VBox()"
      ]
     },
     "metadata": {},
     "output_type": "display_data"
    },
    {
     "data": {
      "application/vnd.jupyter.widget-view+json": {
       "model_id": "",
       "version_major": 2,
       "version_minor": 0
      },
      "text/plain": [
       "FloatProgress(value=0.0, bar_style='info', description='Progress:', layout=Layout(height='25px', width='50%'),…"
      ]
     },
     "metadata": {},
     "output_type": "display_data"
    }
   ],
   "source": [
    "UNION_DF_1.createOrReplaceTempView('union_df_1')"
   ]
  },
  {
   "cell_type": "code",
   "execution_count": 19,
   "id": "ad65ecd1-5e67-4a82-977e-0b5cb0dfc705",
   "metadata": {
    "execution": {
     "iopub.execute_input": "2023-01-12T06:17:16.033972Z",
     "iopub.status.busy": "2023-01-12T06:17:16.033751Z",
     "iopub.status.idle": "2023-01-12T06:17:16.284387Z",
     "shell.execute_reply": "2023-01-12T06:17:16.283812Z",
     "shell.execute_reply.started": "2023-01-12T06:17:16.033949Z"
    },
    "tags": []
   },
   "outputs": [
    {
     "data": {
      "application/vnd.jupyter.widget-view+json": {
       "model_id": "843bbb1c8a074063ac59daefa6ad920c",
       "version_major": 2,
       "version_minor": 0
      },
      "text/plain": [
       "VBox()"
      ]
     },
     "metadata": {},
     "output_type": "display_data"
    },
    {
     "data": {
      "application/vnd.jupyter.widget-view+json": {
       "model_id": "",
       "version_major": 2,
       "version_minor": 0
      },
      "text/plain": [
       "FloatProgress(value=0.0, bar_style='info', description='Progress:', layout=Layout(height='25px', width='50%'),…"
      ]
     },
     "metadata": {},
     "output_type": "display_data"
    }
   ],
   "source": [
    "final_df_df6 = spark.sql('''\n",
    "                           SELECT \n",
    "                            CAST(ud.exceedanceid AS INT),\n",
    "                            ud.exceedance,\n",
    "                            CAST(ud.phaseid AS INT),\n",
    "                            ud.phase,\n",
    "                            ud.ecn,\n",
    "                            ud.employeename,\n",
    "                            ud.rank,\n",
    "                            ud.tailno,\n",
    "                            ud.departure,\n",
    "                            ud.arrival,\n",
    "                            ud.flightno AS FlightNumber,\n",
    "                            ud.date as FLightDate ,\n",
    "                            ud.chocksoff,\n",
    "                            ud.chockson,\n",
    "                            ud.domint,\n",
    "                            CAST(ud.manufacturerid AS INT),\n",
    "                            ud.manufacturer,\n",
    "                            CAST(ud.dataframeid AS INT),\n",
    "                            ud.dataframe,\n",
    "                            ud.aircrafttype,\n",
    "                            ud.aircraftmodel,\n",
    "                            ud.payload,\n",
    "                            ud.blocktime_hrs as `Block time`,\n",
    "                            occurance as occurence,\n",
    "                            CAST(typeid AS INT),\n",
    "                            flag as type,\n",
    "                            CAST(trigger_start_hours AS DECIMAL(8,2)) AS `Trigger Start Hours`,\n",
    "                            CAST(trigger_end_hours AS DECIMAL(8,2)) AS `Trigger End Hours`,\n",
    "                            CAST(occurence_start_hours AS DECIMAL(8,2)) AS `Occurence Start Hours`,\n",
    "                            CAST(occurence_end_hours AS DECIMAL(8,2)) AS `Occurence End Hours`,\n",
    "                            CAST(duration_min AS INT) AS `Duration(Sec)`,\n",
    "                            CAST(`BARO_COR_ALT` AS INT) AS `BARO COR ALT`,\n",
    "                            CAST(`RADIO_HEIGHT` AS INT) AS `RADIO HEIGHT`,\n",
    "                            CAST(`COMPUTED_AIRSPEED` AS FLOAT) AS `COMPUTED AIRSPEED`,\n",
    "                            CAPT_DISPLAY_PITCH_ATTIUDE AS `CAPT. DISPLAY PITCH ATTIUDE`,\n",
    "                            CAST(`CAPT_DISPLAY_HEADING` AS FLOAT) AS `CAPT. DISPLAY HEADING`,\n",
    "                            CAST(`GROUNDSPEED` AS FLOAT) AS `GROUND SPEED`,\n",
    "                            CAST(`VERTICAL_SPEED` AS INT) AS `VERTICAL SPEED`,\n",
    "                            CAST(`FLAP_HANDLE_POSITION` AS INT) AS `FLAP HANDLE POSITION`,\n",
    "                            CAST(`TORQUE_ENG_L` AS FLOAT) AS `LEFT ENGINE N1 \\ TORQUE ENG L`,\n",
    "                            CAST(`TORQUE_ENG_R` AS FLOAT) AS `RIGHT ENGINE N1 \\ TORQUE ENG R`,\n",
    "                            CAST('' AS INT) AS `VREF SPEED`,\n",
    "                            AFCS_GS_MODE AS `G/S ENGAGE`,\n",
    "                            ILS_GS_DEV_1 AS `GLIDESLOPE DEVIATION - L`,\n",
    "                            ILS_GS_DEV_2 AS `GLIDESLOPE DEVIATION - R`,\n",
    "                            WOW_MLG AS `LEFT MAIN GEAR AIR/GND`,\n",
    "                            '' AS `RIGHT MAIN GEAR AIR/GND`,\n",
    "                            loadeddate AS LoadDate,\n",
    "                            filename\n",
    "                    FROM union_df_1 ud\n",
    "                    \n",
    "                ''')"
   ]
  },
  {
   "cell_type": "code",
   "execution_count": 20,
   "id": "e9d71a83-22b8-4aa1-85c9-7291322bfa68",
   "metadata": {
    "execution": {
     "iopub.execute_input": "2023-01-12T06:17:23.184495Z",
     "iopub.status.busy": "2023-01-12T06:17:23.184274Z",
     "iopub.status.idle": "2023-01-12T06:18:06.566456Z",
     "shell.execute_reply": "2023-01-12T06:18:06.565968Z",
     "shell.execute_reply.started": "2023-01-12T06:17:23.184473Z"
    },
    "tags": []
   },
   "outputs": [
    {
     "data": {
      "application/vnd.jupyter.widget-view+json": {
       "model_id": "758d5d25ab774773855ae032183f6ad1",
       "version_major": 2,
       "version_minor": 0
      },
      "text/plain": [
       "VBox()"
      ]
     },
     "metadata": {},
     "output_type": "display_data"
    },
    {
     "data": {
      "application/vnd.jupyter.widget-view+json": {
       "model_id": "",
       "version_major": 2,
       "version_minor": 0
      },
      "text/plain": [
       "FloatProgress(value=0.0, bar_style='info', description='Progress:', layout=Layout(height='25px', width='50%'),…"
      ]
     },
     "metadata": {},
     "output_type": "display_data"
    }
   ],
   "source": [
    "final_df_df6 \\\n",
    "  .write \\\n",
    "  .format(\"jdbc\") \\\n",
    "  .mode(\"append\") \\\n",
    "  .option(\"driver\", \"com.microsoft.sqlserver.jdbc.SQLServerDriver\") \\\n",
    "  .option(\"url\", \"jdbc:sqlserver://10.150.72.22:1433;databaseName=precog\") \\\n",
    "  .option(\"dbtable\", \"DeviationBelowGSSTG\") \\\n",
    "  .option(\"user\", \"dmbigdata\") \\\n",
    "  .option(\"password\", \"$p!Ce@bigData$db\") \\\n",
    "  .save()"
   ]
  },
  {
   "cell_type": "code",
   "execution_count": 21,
   "id": "703e6b77-9fbe-4b30-a8d8-f53e68a5a435",
   "metadata": {
    "execution": {
     "iopub.execute_input": "2023-01-12T06:19:44.220178Z",
     "iopub.status.busy": "2023-01-12T06:19:44.219909Z",
     "iopub.status.idle": "2023-01-12T06:19:44.972078Z",
     "shell.execute_reply": "2023-01-12T06:19:44.971578Z",
     "shell.execute_reply.started": "2023-01-12T06:19:44.220131Z"
    },
    "tags": []
   },
   "outputs": [
    {
     "data": {
      "application/vnd.jupyter.widget-view+json": {
       "model_id": "0d599a76bece466f92e43582312837a0",
       "version_major": 2,
       "version_minor": 0
      },
      "text/plain": [
       "VBox()"
      ]
     },
     "metadata": {},
     "output_type": "display_data"
    },
    {
     "data": {
      "application/vnd.jupyter.widget-view+json": {
       "model_id": "",
       "version_major": 2,
       "version_minor": 0
      },
      "text/plain": [
       "FloatProgress(value=0.0, bar_style='info', description='Progress:', layout=Layout(height='25px', width='50%'),…"
      ]
     },
     "metadata": {},
     "output_type": "display_data"
    }
   ],
   "source": [
    "spark.stop()"
   ]
  },
  {
   "cell_type": "code",
   "execution_count": null,
   "id": "8dbaccda-3928-41f2-8bc1-4a08d082bd83",
   "metadata": {},
   "outputs": [],
   "source": []
  }
 ],
 "metadata": {
  "kernelspec": {
   "display_name": "PySpark",
   "language": "",
   "name": "pysparkkernel"
  },
  "language_info": {
   "codemirror_mode": {
    "name": "python",
    "version": 3
   },
   "mimetype": "text/x-python",
   "name": "pyspark",
   "pygments_lexer": "python3"
  }
 },
 "nbformat": 4,
 "nbformat_minor": 5
}
