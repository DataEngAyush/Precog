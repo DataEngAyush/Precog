{
 "cells": [
  {
   "cell_type": "code",
   "execution_count": 9,
   "id": "ffe443cf-6828-460b-ac52-2d2865b26770",
   "metadata": {
    "execution": {
     "iopub.execute_input": "2022-11-10T07:08:50.445614Z",
     "iopub.status.busy": "2022-11-10T07:08:50.445402Z",
     "iopub.status.idle": "2022-11-10T07:08:50.449784Z",
     "shell.execute_reply": "2022-11-10T07:08:50.449169Z",
     "shell.execute_reply.started": "2022-11-10T07:08:50.445591Z"
    },
    "tags": []
   },
   "outputs": [
    {
     "name": "stderr",
     "output_type": "stream",
     "text": [
      "Could not parse JSON object from input '{\n",
      "    \"conf\": {\n",
      "        \"spark.jars\": \"s3://sjet-datamart-bucket/Jars/mssql-jdbc-6.1.0.jre8.jar\",\n",
      "        \"spark.dynamicAllocation.enabled\": \"True\",\n",
      "        \"spark.dynamicAllocation.shuffleTracking.enabled\": \"True\",\n",
      "        \"spark.sql.sources.partitionOverwriteMode\": \"dynamic\",\n",
      "        \"spark.dynamicAllocation.minExecutors\", 1,\n",
      "        \"spark.dynamicAllocation.maxExecutors\", 10\n",
      "    };\n",
      "}\n",
      "'\n"
     ]
    }
   ],
   "source": [
    "%%configure -f\n",
    "{\n",
    "    \"conf\": {\n",
    "        \"spark.jars\": \"s3://sjet-datamart-bucket/Jars/mssql-jdbc-6.1.0.jre8.jar\",\n",
    "        \"spark.dynamicAllocation.enabled\": \"True\",\n",
    "        \"spark.dynamicAllocation.shuffleTracking.enabled\": \"True\",\n",
    "        \"spark.sql.sources.partitionOverwriteMode\": \"dynamic\",\n",
    "        \"spark.dynamicAllocation.minExecutors\", 1,\n",
    "        \"spark.dynamicAllocation.maxExecutors\", 10\n",
    "    };\n",
    "}"
   ]
  },
  {
   "cell_type": "code",
   "execution_count": null,
   "id": "39f386b2-88b6-45a9-af96-61b51d690fa8",
   "metadata": {},
   "outputs": [],
   "source": []
  }
 ],
 "metadata": {
  "kernelspec": {
   "display_name": "PySpark",
   "language": "",
   "name": "pysparkkernel"
  },
  "language_info": {
   "codemirror_mode": {
    "name": "python",
    "version": 3
   },
   "mimetype": "text/x-python",
   "name": "pyspark",
   "pygments_lexer": "python3"
  }
 },
 "nbformat": 4,
 "nbformat_minor": 5
}
