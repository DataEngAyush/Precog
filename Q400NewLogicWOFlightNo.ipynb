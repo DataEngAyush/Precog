{
 "cells": [
  {
   "cell_type": "code",
   "execution_count": 1,
   "id": "1884cb5c-1e98-4cdd-a713-db4836fa4921",
   "metadata": {
    "execution": {
     "iopub.execute_input": "2022-12-21T13:02:55.761104Z",
     "iopub.status.busy": "2022-12-21T13:02:55.760934Z",
     "iopub.status.idle": "2022-12-21T13:03:18.561869Z",
     "shell.execute_reply": "2022-12-21T13:03:18.561247Z",
     "shell.execute_reply.started": "2022-12-21T13:02:55.761081Z"
    },
    "tags": []
   },
   "outputs": [
    {
     "data": {
      "application/vnd.jupyter.widget-view+json": {
       "model_id": "fded59b568014067a0a636aa24a9baf3",
       "version_major": 2,
       "version_minor": 0
      },
      "text/plain": [
       "VBox()"
      ]
     },
     "metadata": {},
     "output_type": "display_data"
    },
    {
     "name": "stdout",
     "output_type": "stream",
     "text": [
      "Starting Spark application\n"
     ]
    },
    {
     "data": {
      "text/html": [
       "<table>\n",
       "<tr><th>ID</th><th>YARN Application ID</th><th>Kind</th><th>State</th><th>Spark UI</th><th>Driver log</th><th>Current session?</th></tr><tr><td>6</td><td>application_1671617803236_0008</td><td>pyspark</td><td>idle</td><td><a target=\"_blank\" href=\"http://ip-20-0-4-85.ap-south-1.compute.internal:20888/proxy/application_1671617803236_0008/\" class=\"emr-proxy-link\" emr-resource=\"j-3UWITLABBH96G\n",
       "\" application-id=\"application_1671617803236_0008\">Link</a></td><td><a target=\"_blank\" href=\"http://ip-20-0-4-220.ap-south-1.compute.internal:8042/node/containerlogs/container_1671617803236_0008_01_000001/livy\" >Link</a></td><td>✔</td></tr></table>"
      ],
      "text/plain": [
       "<IPython.core.display.HTML object>"
      ]
     },
     "metadata": {},
     "output_type": "display_data"
    },
    {
     "data": {
      "application/vnd.jupyter.widget-view+json": {
       "model_id": "",
       "version_major": 2,
       "version_minor": 0
      },
      "text/plain": [
       "FloatProgress(value=0.0, bar_style='info', description='Progress:', layout=Layout(height='25px', width='50%'),…"
      ]
     },
     "metadata": {},
     "output_type": "display_data"
    },
    {
     "name": "stdout",
     "output_type": "stream",
     "text": [
      "SparkSession available as 'spark'.\n"
     ]
    },
    {
     "data": {
      "application/vnd.jupyter.widget-view+json": {
       "model_id": "",
       "version_major": 2,
       "version_minor": 0
      },
      "text/plain": [
       "FloatProgress(value=0.0, bar_style='info', description='Progress:', layout=Layout(height='25px', width='50%'),…"
      ]
     },
     "metadata": {},
     "output_type": "display_data"
    }
   ],
   "source": [
    "from pyspark import SparkConf\n",
    "from pyspark import SparkContext\n",
    "from pyspark.sql import SparkSession\n",
    "from pyspark.sql.types import *\n",
    "from pyspark.sql import functions\n",
    "import boto3\n",
    "import sys\n",
    "import re\n",
    "from datetime import datetime\n",
    "import configparser\n",
    "from pyspark.sql.functions import *"
   ]
  },
  {
   "cell_type": "code",
   "execution_count": 2,
   "id": "337888d4-70d2-4408-aa14-d0a16aef7890",
   "metadata": {
    "execution": {
     "iopub.execute_input": "2022-12-21T13:03:49.098701Z",
     "iopub.status.busy": "2022-12-21T13:03:49.098436Z",
     "iopub.status.idle": "2022-12-21T13:03:49.150600Z",
     "shell.execute_reply": "2022-12-21T13:03:49.149801Z",
     "shell.execute_reply.started": "2022-12-21T13:03:49.098674Z"
    },
    "tags": []
   },
   "outputs": [
    {
     "data": {
      "application/vnd.jupyter.widget-view+json": {
       "model_id": "fde8184814624389bd95b07112a8d360",
       "version_major": 2,
       "version_minor": 0
      },
      "text/plain": [
       "VBox()"
      ]
     },
     "metadata": {},
     "output_type": "display_data"
    },
    {
     "data": {
      "application/vnd.jupyter.widget-view+json": {
       "model_id": "",
       "version_major": 2,
       "version_minor": 0
      },
      "text/plain": [
       "FloatProgress(value=0.0, bar_style='info', description='Progress:', layout=Layout(height='25px', width='50%'),…"
      ]
     },
     "metadata": {},
     "output_type": "display_data"
    }
   ],
   "source": [
    "RawSchema=StructType([\n",
    "                                    StructField(\"Time-In-Secs\", DoubleType(), nullable=True), \\\n",
    "                                    StructField(\"Time-Per-Sec\", StringType(), nullable=True),\\\n",
    "                                    StructField(\"BARO-CORRECTED-PALT-DERIVED\", StringType(), nullable=True),\\\n",
    "                                    StructField(\"Altitude-BaroL\", StringType(), nullable=True),\\\n",
    "                                    StructField(\"Magnetic-Heading\", StringType(), nullable=True),\\\n",
    "                                    StructField(\"Pitch-Attitude\", StringType(), nullable=True),\\\n",
    "                                    StructField(\"Roll-Attitude\", StringType(), nullable=True),\\\n",
    "                                    StructField(\"Radio-Altitude\", StringType(), nullable=True),\\\n",
    "                                    StructField(\"Nose-WOW\", StringType(), nullable=True),\\\n",
    "                                    StructField(\"Main-WOW\", StringType(), nullable=True),\\\n",
    "                                    StructField(\"Normal-Acceleration\", StringType(), nullable=True),\\\n",
    "                                    StructField(\"Lateral-Acceleration\", StringType(), nullable=True),\\\n",
    "                                    StructField(\"Longitudinal-Acceleration\", StringType(), nullable=True),\\\n",
    "                                    StructField(\"Calibrated-Airspeed-L\", StringType(), nullable=True),\\\n",
    "                                    StructField(\"AFCS-Selected-Speed\", StringType(), nullable=True),\\\n",
    "                                    StructField(\"Vertical-Speed-Derived\", StringType(), nullable=True),\\\n",
    "                                    StructField(\"Ground-Speed\", StringType(), nullable=True),\\\n",
    "                                    StructField(\"Flap-Control-Selection\", StringType(), nullable=True),\\\n",
    "                                    StructField(\"FLAP-POSITION\", StringType(), nullable=True),\\\n",
    "                                    StructField(\"Power-Lever-Pos-L\", StringType(), nullable=True),\\\n",
    "                                    StructField(\"Power-Lever-Pos-R\", StringType(), nullable=True),\\\n",
    "                                    StructField(\"Torque-TQ-Eng-L\", StringType(), nullable=True),\\\n",
    "                                    StructField(\"Torque-TQ-Eng-R\", StringType(), nullable=True),\\\n",
    "                                    StructField(\"Condition-Lever-L\", StringType(), nullable=True),\\\n",
    "                                    StructField(\"Condition-Lever-R\", StringType(), nullable=True),\\\n",
    "                                    StructField(\"Prop-RPM-Np-Eng-L\", StringType(), nullable=True),\\\n",
    "                                    StructField(\"Prop-RPM-Np-Eng-R\", StringType(), nullable=True),\\\n",
    "                                    StructField(\"GPWS-Alert/Warning\", StringType(), nullable=True),\\\n",
    "                                    StructField(\"GPWS-Glideslope-Alert\", StringType(), nullable=True),\\\n",
    "                                    StructField(\"AFCS-Glideslope-Active\", StringType(), nullable=True),\\\n",
    "                                    StructField(\"AFCS-LOC-Active\", StringType(), nullable=True),\\\n",
    "                                    StructField(\"AFCS-VOR-Active\", StringType(), nullable=True),\\\n",
    "                                    StructField(\"GLIDE-PATH-DEV-PILOT-ABOVE\", StringType(), nullable=True),\\\n",
    "                                    StructField(\"GLIDE-PATH-DEV-COPILOT-ABOVE\", StringType(), nullable=True),\\\n",
    "                                    StructField(\"DME-DISTANCE-1\", StringType(), nullable=True),\\\n",
    "                                    StructField(\"DME-DISTANCE-2\", StringType(), nullable=True),\\\n",
    "                                    StructField(\"VOR-1-SELECT-FREQ\", StringType(), nullable=True),\\\n",
    "                                    StructField(\"VOR-2-SELECT-FREQ\", StringType(), nullable=True),\\\n",
    "                                    StructField(\"WIND-ANGLE\", StringType(), nullable=True),\\\n",
    "                                    StructField(\"WIND-SPEED\", StringType(), nullable=True),\\\n",
    "                                    StructField(\"BRAKE-PRESS-LEFT\", StringType(), nullable=True),\\\n",
    "                                    StructField(\"BRAKE-PRESS-RIGHT\", StringType(), nullable=True),\\\n",
    "                                    StructField(\"Fuel-Flow-No-2-KG\", StringType(), nullable=True),\\\n",
    "                                    StructField(\"Fuel-Flow-No-1-KG\", StringType(), nullable=True),\\\n",
    "                                    StructField(\"Thrust-Rev-Low-Beta-Eng-L\", StringType(), nullable=True),\\\n",
    "                                    StructField(\"Thrust-Rev-Low-Beta-Eng-R\", StringType(), nullable=True),\\\n",
    "                                    StructField(\"AFCS-Autopilot-Engaged\", StringType(), nullable=True),\n",
    "                                    ])\n",
    "    "
   ]
  },
  {
   "cell_type": "code",
   "execution_count": 3,
   "id": "bc391b5e-0859-4b40-8069-cb477186a61d",
   "metadata": {
    "execution": {
     "iopub.execute_input": "2022-12-21T13:03:49.933812Z",
     "iopub.status.busy": "2022-12-21T13:03:49.933591Z",
     "iopub.status.idle": "2022-12-21T13:03:53.204156Z",
     "shell.execute_reply": "2022-12-21T13:03:53.203588Z",
     "shell.execute_reply.started": "2022-12-21T13:03:49.933787Z"
    },
    "tags": []
   },
   "outputs": [
    {
     "data": {
      "application/vnd.jupyter.widget-view+json": {
       "model_id": "05956f502a9f433e8ff46bf0da5ff7f5",
       "version_major": 2,
       "version_minor": 0
      },
      "text/plain": [
       "VBox()"
      ]
     },
     "metadata": {},
     "output_type": "display_data"
    },
    {
     "data": {
      "application/vnd.jupyter.widget-view+json": {
       "model_id": "",
       "version_major": 2,
       "version_minor": 0
      },
      "text/plain": [
       "FloatProgress(value=0.0, bar_style='info', description='Progress:', layout=Layout(height='25px', width='50%'),…"
      ]
     },
     "metadata": {},
     "output_type": "display_data"
    }
   ],
   "source": [
    "InputS3Filepath = 's3://sjet-datamart-bucket/PrecogFiles/Q400/128 WPS/20221208/'\n",
    "raw_df=spark.read.csv(InputS3Filepath,header=True,schema=RawSchema)"
   ]
  },
  {
   "cell_type": "code",
   "execution_count": 4,
   "id": "35996f76-062d-4ad8-b954-caf36da6a3be",
   "metadata": {
    "execution": {
     "iopub.execute_input": "2022-12-21T13:03:53.205209Z",
     "iopub.status.busy": "2022-12-21T13:03:53.205038Z",
     "iopub.status.idle": "2022-12-21T13:03:53.457061Z",
     "shell.execute_reply": "2022-12-21T13:03:53.456448Z",
     "shell.execute_reply.started": "2022-12-21T13:03:53.205188Z"
    },
    "tags": []
   },
   "outputs": [
    {
     "data": {
      "application/vnd.jupyter.widget-view+json": {
       "model_id": "6d26c0efbc5d4171966470780027e681",
       "version_major": 2,
       "version_minor": 0
      },
      "text/plain": [
       "VBox()"
      ]
     },
     "metadata": {},
     "output_type": "display_data"
    },
    {
     "data": {
      "application/vnd.jupyter.widget-view+json": {
       "model_id": "",
       "version_major": 2,
       "version_minor": 0
      },
      "text/plain": [
       "FloatProgress(value=0.0, bar_style='info', description='Progress:', layout=Layout(height='25px', width='50%'),…"
      ]
     },
     "metadata": {},
     "output_type": "display_data"
    }
   ],
   "source": [
    "raw_df_withfilename_1 = raw_df.withColumn(\"FileName\", regexp_extract(\n",
    "                    regexp_replace(input_file_name(), '%20', ' '), \"ALL\\s(.*?)\\.(\\w+)$\", 0))"
   ]
  },
  {
   "cell_type": "code",
   "execution_count": 5,
   "id": "722b0449-95c7-4781-a97f-2220c3533eaa",
   "metadata": {
    "execution": {
     "iopub.execute_input": "2022-12-21T13:03:54.833586Z",
     "iopub.status.busy": "2022-12-21T13:03:54.833364Z",
     "iopub.status.idle": "2022-12-21T13:04:00.161351Z",
     "shell.execute_reply": "2022-12-21T13:04:00.160660Z",
     "shell.execute_reply.started": "2022-12-21T13:03:54.833562Z"
    },
    "tags": []
   },
   "outputs": [
    {
     "data": {
      "application/vnd.jupyter.widget-view+json": {
       "model_id": "8074cbce5f6743b0a7e6b2e51a233bb3",
       "version_major": 2,
       "version_minor": 0
      },
      "text/plain": [
       "VBox()"
      ]
     },
     "metadata": {},
     "output_type": "display_data"
    },
    {
     "data": {
      "application/vnd.jupyter.widget-view+json": {
       "model_id": "",
       "version_major": 2,
       "version_minor": 0
      },
      "text/plain": [
       "FloatProgress(value=0.0, bar_style='info', description='Progress:', layout=Layout(height='25px', width='50%'),…"
      ]
     },
     "metadata": {},
     "output_type": "display_data"
    }
   ],
   "source": [
    "FileInfoS3Filepath = 's3://sjet-datamart-bucket/precog/precog-file-info/q400/128-wps/20221208/FileInfo_20221208.csv'\n",
    "flight_data_info = spark \\\n",
    "                            .read \\\n",
    "                            .format(\"csv\") \\\n",
    "                            .option(\"header\", \"true\") \\\n",
    "                            .load(FileInfoS3Filepath)"
   ]
  },
  {
   "cell_type": "code",
   "execution_count": 7,
   "id": "c0d83c34-1c22-43b5-9e05-317439bf11a5",
   "metadata": {
    "execution": {
     "iopub.execute_input": "2022-12-21T13:05:15.714913Z",
     "iopub.status.busy": "2022-12-21T13:05:15.714691Z",
     "iopub.status.idle": "2022-12-21T13:05:15.970655Z",
     "shell.execute_reply": "2022-12-21T13:05:15.970021Z",
     "shell.execute_reply.started": "2022-12-21T13:05:15.714890Z"
    },
    "tags": []
   },
   "outputs": [
    {
     "data": {
      "application/vnd.jupyter.widget-view+json": {
       "model_id": "08f0e436de2d46779d6852f31fc6179c",
       "version_major": 2,
       "version_minor": 0
      },
      "text/plain": [
       "VBox()"
      ]
     },
     "metadata": {},
     "output_type": "display_data"
    },
    {
     "data": {
      "application/vnd.jupyter.widget-view+json": {
       "model_id": "",
       "version_major": 2,
       "version_minor": 0
      },
      "text/plain": [
       "FloatProgress(value=0.0, bar_style='info', description='Progress:', layout=Layout(height='25px', width='50%'),…"
      ]
     },
     "metadata": {},
     "output_type": "display_data"
    }
   ],
   "source": [
    "raw_df_withfilename_1.createOrReplaceTempView(\"RawData_1\")\n",
    "flight_data_info.dropDuplicates().createOrReplaceTempView(\"FlightInfo\")"
   ]
  },
  {
   "cell_type": "code",
   "execution_count": 8,
   "id": "4d494b86-5cc3-44a9-a1b2-33705a897a3d",
   "metadata": {
    "execution": {
     "iopub.execute_input": "2022-12-21T13:05:17.081329Z",
     "iopub.status.busy": "2022-12-21T13:05:17.081100Z",
     "iopub.status.idle": "2022-12-21T13:05:17.841339Z",
     "shell.execute_reply": "2022-12-21T13:05:17.840741Z",
     "shell.execute_reply.started": "2022-12-21T13:05:17.081305Z"
    },
    "tags": []
   },
   "outputs": [
    {
     "data": {
      "application/vnd.jupyter.widget-view+json": {
       "model_id": "afea5ed32184437aa240c8c3efe4a6a7",
       "version_major": 2,
       "version_minor": 0
      },
      "text/plain": [
       "VBox()"
      ]
     },
     "metadata": {},
     "output_type": "display_data"
    },
    {
     "data": {
      "application/vnd.jupyter.widget-view+json": {
       "model_id": "",
       "version_major": 2,
       "version_minor": 0
      },
      "text/plain": [
       "FloatProgress(value=0.0, bar_style='info', description='Progress:', layout=Layout(height='25px', width='50%'),…"
      ]
     },
     "metadata": {},
     "output_type": "display_data"
    }
   ],
   "source": [
    "raw_df_withfilename_2 = spark.sql('''\n",
    "\n",
    "                            SELECT *,\n",
    "                            \n",
    "                            CASE \n",
    "                                WHEN LENGTH(CAST(`Time-Per-Sec` as String)) = 1 THEN CONCAT('00000',CAST(`Time-Per-Sec` as String)) \n",
    "                                WHEN LENGTH(CAST(`Time-Per-Sec` as String)) = 2 THEN CONCAT('0000',CAST(`Time-Per-Sec` as String)) \n",
    "                                WHEN LENGTH(CAST(`Time-Per-Sec` as String)) = 3 THEN CONCAT('000',CAST(`Time-Per-Sec` as String))\n",
    "                                WHEN LENGTH(CAST(`Time-Per-Sec` as String)) = 4 THEN CONCAT('00',CAST(`Time-Per-Sec` as String)) \n",
    "                                WHEN LENGTH(CAST(`Time-Per-Sec` as String)) = 5 THEN CONCAT('0',CAST(`Time-Per-Sec` as String))\n",
    "                                ELSE `Time-Per-Sec`\n",
    "                            END As Time\n",
    "                                                                \n",
    "                            FROM RawData_1\n",
    "                                                \n",
    "                    ''')\n",
    "\n",
    "raw_df_withfilename_3 = raw_df_withfilename_2.withColumn(\"Time-Per-Sec-1\", regexp_replace(col(\"Time\") , \"(\\\\d{2})(\\\\d{2})(\\\\d{2})\" , \"$1:$2:$3\" ))\n",
    "\n",
    "raw_df_withfilename_3.createOrReplaceTempView('RawData_2')\n",
    "\n",
    "flight_data_join_df = spark.sql(f'''\n",
    "\n",
    "                            SELECT\n",
    "                            fi.TailNo,\n",
    "                            fi.Departure,\n",
    "                            fi.Arrival,\n",
    "                            fi.FlightNo,\n",
    "                            fi.FlightDate as `Date`,\n",
    "                            rw.*,\n",
    "                            current_timestamp() as `LoadedDate`,\n",
    "                            'precog-spark' as `LoadedBy`,\n",
    "                            '128 WPS' as `DataFrameName`,\n",
    "                            fi.year,\n",
    "                            fi.month\n",
    "\n",
    "                            FROM RawData_2 rw\n",
    "\n",
    "                            JOIN FlightInfo fi \n",
    "                            ON fi.FileName == rw.FileName\n",
    "            \n",
    "                                        ''')\n",
    "\n",
    "flight_data_join_df.createOrReplaceTempView('flight_data_join_df')\n",
    "\n",
    "UTC = spark.sql('''\n",
    "\n",
    "                    SELECT TailNo, Departure, Arrival, FlightNo, Date, Filename, to_timestamp(concat(Date,' ',first_value(`Time-Per-Sec-1`,true))) AS UTC_TIMEDATE\n",
    "                    \n",
    "                    FROM flight_data_join_df\n",
    "                    \n",
    "                    Group By TailNo, Departure, Arrival, FlightNo, Date, Filename\n",
    "\n",
    "                            ''')\n",
    "\n",
    "UTC.createOrReplaceTempView('UTC')\n",
    "\n",
    "UTC_TIMEDATE = spark.sql('''\n",
    "\n",
    "                SELECT\n",
    "                            \n",
    "                            \n",
    "                            \n",
    "                            rw.*,\n",
    "                            \n",
    "                            fi.UTC_TIMEDATE\n",
    "                            \n",
    "                            FROM flight_data_join_df rw\n",
    "\n",
    "                            JOIN UTC fi \n",
    "                            \n",
    "                            ON fi.FileName = rw.FileName\n",
    "\n",
    "\n",
    "\n",
    "                            ''')\n",
    "\n",
    "UTC_TIMEDATE.createOrReplaceTempView('UTC_TIMEDATE')"
   ]
  },
  {
   "cell_type": "code",
   "execution_count": 10,
   "id": "8dab7cf4-313c-4845-87fb-6bcb185cb8a0",
   "metadata": {
    "execution": {
     "iopub.execute_input": "2022-12-21T13:05:46.763598Z",
     "iopub.status.busy": "2022-12-21T13:05:46.763344Z",
     "iopub.status.idle": "2022-12-21T13:06:38.162231Z",
     "shell.execute_reply": "2022-12-21T13:06:38.161740Z",
     "shell.execute_reply.started": "2022-12-21T13:05:46.763571Z"
    },
    "tags": []
   },
   "outputs": [
    {
     "data": {
      "application/vnd.jupyter.widget-view+json": {
       "model_id": "ffd8529d126e44a2b06567de85eb8ea4",
       "version_major": 2,
       "version_minor": 0
      },
      "text/plain": [
       "VBox()"
      ]
     },
     "metadata": {},
     "output_type": "display_data"
    },
    {
     "data": {
      "application/vnd.jupyter.widget-view+json": {
       "model_id": "",
       "version_major": 2,
       "version_minor": 0
      },
      "text/plain": [
       "FloatProgress(value=0.0, bar_style='info', description='Progress:', layout=Layout(height='25px', width='50%'),…"
      ]
     },
     "metadata": {},
     "output_type": "display_data"
    }
   ],
   "source": [
    "MainQueryDF = spark.read.csv('s3://sjet-datamart-bucket/precog/pilot-info/', header = True)\n",
    "\n",
    "                \n",
    "\n",
    "MainQueryDF.dropDuplicates().createOrReplaceTempView('MainQueryDF')"
   ]
  },
  {
   "cell_type": "code",
   "execution_count": 11,
   "id": "f3f0e1c3-191f-4d39-a655-5b2efa8e6893",
   "metadata": {
    "execution": {
     "iopub.execute_input": "2022-12-21T13:06:41.142807Z",
     "iopub.status.busy": "2022-12-21T13:06:41.142470Z",
     "iopub.status.idle": "2022-12-21T13:06:41.395163Z",
     "shell.execute_reply": "2022-12-21T13:06:41.394468Z",
     "shell.execute_reply.started": "2022-12-21T13:06:41.142774Z"
    }
   },
   "outputs": [
    {
     "data": {
      "application/vnd.jupyter.widget-view+json": {
       "model_id": "2cac8d309e214a7a867997e2a8680407",
       "version_major": 2,
       "version_minor": 0
      },
      "text/plain": [
       "VBox()"
      ]
     },
     "metadata": {},
     "output_type": "display_data"
    },
    {
     "data": {
      "application/vnd.jupyter.widget-view+json": {
       "model_id": "",
       "version_major": 2,
       "version_minor": 0
      },
      "text/plain": [
       "FloatProgress(value=0.0, bar_style='info', description='Progress:', layout=Layout(height='25px', width='50%'),…"
      ]
     },
     "metadata": {},
     "output_type": "display_data"
    }
   ],
   "source": [
    "Arms_Join_DF = spark.sql('''\n",
    "                                            SELECT\n",
    "                                                    AD.FlightID,\n",
    "                                                    AD.DesigFlightNumber,\n",
    "                                                    AD.FlightNumber AS `FlightNumberARMS`,\n",
    "                                                    AD.FlightDate,\n",
    "                                                    AD.FromCity,\n",
    "                                                    AD.ToCity,\n",
    "                                                    AD.BlockTime,\n",
    "                                                    AD.ECN,\n",
    "                                                    AD.EmployeeName,\n",
    "                                                    AD.RANK,\n",
    "                                                    CAST(AD.ChocksOff AS timestamp) AS ChocksOff,\n",
    "                                                    CAST(AD.ChocksOn AS timestamp) AS ChocksOn,\n",
    "                                                    AD.DOMINT,\n",
    "                                                    AD.AircraftType,\n",
    "                                                    AD.AircraftModel,  \n",
    "                                                    AD.Payload,\n",
    "                                                    RDF.*\n",
    "                                                    \n",
    "                                                    FROM UTC_TIMEDATE RDF\n",
    "                                                    LEFT JOIN MainQueryDF AD ON RDF.FlightNo=AD.DesigFlightNumber\n",
    "                                                                        AND RDF.TailNo = AD.AcRegNo\n",
    "                                                                        AND RDF.Date=AD.UTCFlightDate\n",
    "                                                                        AND RDF.Departure=AD.FromCity\n",
    "                                                                        AND RDF.Arrival=AD.Tocity\n",
    "                                        ''')"
   ]
  },
  {
   "cell_type": "code",
   "execution_count": 12,
   "id": "684ae760-196a-4c1c-88f1-bdf592d97b92",
   "metadata": {
    "execution": {
     "iopub.execute_input": "2022-12-21T13:06:52.641782Z",
     "iopub.status.busy": "2022-12-21T13:06:52.641537Z",
     "iopub.status.idle": "2022-12-21T13:07:24.030104Z",
     "shell.execute_reply": "2022-12-21T13:07:24.015929Z",
     "shell.execute_reply.started": "2022-12-21T13:06:52.641756Z"
    }
   },
   "outputs": [
    {
     "data": {
      "application/vnd.jupyter.widget-view+json": {
       "model_id": "772a7c8341c4459899bd9b518e150e7e",
       "version_major": 2,
       "version_minor": 0
      },
      "text/plain": [
       "VBox()"
      ]
     },
     "metadata": {},
     "output_type": "display_data"
    },
    {
     "data": {
      "application/vnd.jupyter.widget-view+json": {
       "model_id": "",
       "version_major": 2,
       "version_minor": 0
      },
      "text/plain": [
       "FloatProgress(value=0.0, bar_style='info', description='Progress:', layout=Layout(height='25px', width='50%'),…"
      ]
     },
     "metadata": {},
     "output_type": "display_data"
    },
    {
     "name": "stdout",
     "output_type": "stream",
     "text": [
      "+--------+-----------------+----------------+----------+--------+------+---------+------+--------------------+-----+-------------------+-------------------+------+------------+-------------+-------+------+---------+-------+--------+----------+------------+------------+---------------------------+--------------+----------------+--------------+-------------+--------------+--------+--------+-------------------+--------------------+-------------------------+---------------------+-------------------+----------------------+------------+----------------------+-------------+-----------------+-----------------+---------------+---------------+-----------------+-----------------+-----------------+-----------------+------------------+---------------------+----------------------+---------------+---------------+--------------------------+----------------------------+--------------+--------------+-----------------+-----------------+----------+----------+----------------+-----------------+-----------------+-----------------+-------------------------+-------------------------+----------------------+--------------------+------+--------------+--------------------+------------+-------------+----+--------+-------------------+\n",
      "|FlightID|DesigFlightNumber|FlightNumberARMS|FlightDate|FromCity|ToCity|BlockTime|   ECN|        EmployeeName| RANK|          ChocksOff|           ChocksOn|DOMINT|AircraftType|AircraftModel|Payload|TailNo|Departure|Arrival|FlightNo|      Date|Time-In-Secs|Time-Per-Sec|BARO-CORRECTED-PALT-DERIVED|Altitude-BaroL|Magnetic-Heading|Pitch-Attitude|Roll-Attitude|Radio-Altitude|Nose-WOW|Main-WOW|Normal-Acceleration|Lateral-Acceleration|Longitudinal-Acceleration|Calibrated-Airspeed-L|AFCS-Selected-Speed|Vertical-Speed-Derived|Ground-Speed|Flap-Control-Selection|FLAP-POSITION|Power-Lever-Pos-L|Power-Lever-Pos-R|Torque-TQ-Eng-L|Torque-TQ-Eng-R|Condition-Lever-L|Condition-Lever-R|Prop-RPM-Np-Eng-L|Prop-RPM-Np-Eng-R|GPWS-Alert/Warning|GPWS-Glideslope-Alert|AFCS-Glideslope-Active|AFCS-LOC-Active|AFCS-VOR-Active|GLIDE-PATH-DEV-PILOT-ABOVE|GLIDE-PATH-DEV-COPILOT-ABOVE|DME-DISTANCE-1|DME-DISTANCE-2|VOR-1-SELECT-FREQ|VOR-2-SELECT-FREQ|WIND-ANGLE|WIND-SPEED|BRAKE-PRESS-LEFT|BRAKE-PRESS-RIGHT|Fuel-Flow-No-2-KG|Fuel-Flow-No-1-KG|Thrust-Rev-Low-Beta-Eng-L|Thrust-Rev-Low-Beta-Eng-R|AFCS-Autopilot-Engaged|            FileName|  Time|Time-Per-Sec-1|          LoadedDate|    LoadedBy|DataFrameName|year|   month|       UTC_TIMEDATE|\n",
      "+--------+-----------------+----------------+----------+--------+------+---------+------+--------------------+-----+-------------------+-------------------+------+------------+-------------+-------+------+---------+-------+--------+----------+------------+------------+---------------------------+--------------+----------------+--------------+-------------+--------------+--------+--------+-------------------+--------------------+-------------------------+---------------------+-------------------+----------------------+------------+----------------------+-------------+-----------------+-----------------+---------------+---------------+-----------------+-----------------+-----------------+-----------------+------------------+---------------------+----------------------+---------------+---------------+--------------------------+----------------------------+--------------+--------------+-----------------+-----------------+----------+----------+----------------+-----------------+-----------------+-----------------+-------------------------+-------------------------+----------------------+--------------------+------+--------------+--------------------+------------+-------------+----+--------+-------------------+\n",
      "| 2973534|          SG 2910|            2910|2022-12-08|     GOI|   BLR| 01:30:00|115067|RITESH RADHEYRAMA...|CAPT.|2022-12-08 22:17:00|2022-12-08 23:47:00|   DOM|         DHC|         DHC-|    Pax|VT-SUG|      GOI|    BLR| SG 2910|2022-12-08|         0.0|      164907|                          0|           226|           352.4|         D 1.4|        R 0.2|             3| Gnd (1)| Gnd (1)|              1.005|              L 0.00|                    -0.02|                  0.0|                0.0|                   226|           1|                   0.0|          0.0|             19.7|             19.8|            0.0|            0.0|          -1.4063|            34.45|                0|                0|       No Warn (0)|          No Warn (0)|           NOT ACT (0)|    NOT ACT (0)|    NOT ACT (0)|                      0.00|                           0|          null|          null|             null|             null|      null|      null|               0|                0|               98|                0|               Normal (0)|               Normal (0)|            NOT EN (0)|ALL ac=VT-SUG dep...|164907|      16:49:07|2022-12-21 13:06:...|precog-spark|      128 WPS|2022|December|2022-12-08 16:49:07|\n",
      "| 2973534|          SG 2910|            2910|2022-12-08|     GOI|   BLR| 01:30:00|115067|RITESH RADHEYRAMA...|CAPT.|2022-12-08 22:17:00|2022-12-08 23:47:00|   DOM|         DHC|         DHC-|    Pax|VT-SUG|      GOI|    BLR| SG 2910|2022-12-08|       0.125|        null|                       null|          null|            null|          null|         null|          null|    null|    null|              0.988|                null|                     null|                 null|               null|                  null|        null|                  null|         null|             null|             null|           null|           null|             null|             null|             null|             null|              null|                 null|                  null|           null|           null|                      null|                        null|          null|          null|             null|             null|      null|      null|            null|             null|             null|             null|                     null|                     null|                  null|ALL ac=VT-SUG dep...|  null|          null|2022-12-21 13:06:...|precog-spark|      128 WPS|2022|December|2022-12-08 16:49:07|\n",
      "| 2973534|          SG 2910|            2910|2022-12-08|     GOI|   BLR| 01:30:00|115067|RITESH RADHEYRAMA...|CAPT.|2022-12-08 22:17:00|2022-12-08 23:47:00|   DOM|         DHC|         DHC-|    Pax|VT-SUG|      GOI|    BLR| SG 2910|2022-12-08|        0.25|        null|                       null|          null|            null|         D 1.4|         null|          null|    null| Gnd (1)|              0.996|              L 0.00|                    -0.02|                 null|               null|                  null|        null|                  null|         null|             null|             null|           null|           null|             null|             null|             null|             null|              null|                 null|                  null|           null|           null|                      null|                        null|          null|          null|             null|             null|      null|      null|            null|             null|             null|             null|                     null|                     null|                  null|ALL ac=VT-SUG dep...|  null|          null|2022-12-21 13:06:...|precog-spark|      128 WPS|2022|December|2022-12-08 16:49:07|\n",
      "| 2973534|          SG 2910|            2910|2022-12-08|     GOI|   BLR| 01:30:00|115067|RITESH RADHEYRAMA...|CAPT.|2022-12-08 22:17:00|2022-12-08 23:47:00|   DOM|         DHC|         DHC-|    Pax|VT-SUG|      GOI|    BLR| SG 2910|2022-12-08|       0.375|        null|                       null|          null|            null|          null|         null|          null|    null|    null|              0.996|                null|                     null|                 null|               null|                  null|        null|                  null|         null|             null|             null|           null|           null|             null|             null|             null|             null|              null|                 null|                  null|           null|           null|                      null|                        null|          null|          null|             null|             null|      null|      null|            null|             null|             null|             null|                     null|                     null|                  null|ALL ac=VT-SUG dep...|  null|          null|2022-12-21 13:06:...|precog-spark|      128 WPS|2022|December|2022-12-08 16:49:07|\n",
      "| 2973534|          SG 2910|            2910|2022-12-08|     GOI|   BLR| 01:30:00|115067|RITESH RADHEYRAMA...|CAPT.|2022-12-08 22:17:00|2022-12-08 23:47:00|   DOM|         DHC|         DHC-|    Pax|VT-SUG|      GOI|    BLR| SG 2910|2022-12-08|         0.5|        null|                       null|          null|            null|         D 1.4|        R 0.2|          null|    null| Gnd (1)|              0.988|              L 0.01|                    -0.02|                 null|               null|                  null|        null|                  null|         null|             null|             null|           null|           null|             null|             null|             null|             null|              null|                 null|                  null|           null|           null|                      null|                        null|          null|          null|             null|             null|      null|      null|            null|             null|             null|             null|                     null|                     null|                  null|ALL ac=VT-SUG dep...|  null|          null|2022-12-21 13:06:...|precog-spark|      128 WPS|2022|December|2022-12-08 16:49:07|\n",
      "| 2973534|          SG 2910|            2910|2022-12-08|     GOI|   BLR| 01:30:00|115067|RITESH RADHEYRAMA...|CAPT.|2022-12-08 22:17:00|2022-12-08 23:47:00|   DOM|         DHC|         DHC-|    Pax|VT-SUG|      GOI|    BLR| SG 2910|2022-12-08|       0.625|        null|                       null|          null|            null|          null|         null|          null|    null|    null|              0.992|                null|                     null|                 null|               null|                  null|        null|                  null|         null|             null|             null|           null|           null|             null|             null|             null|             null|              null|                 null|                  null|           null|           null|                      null|                        null|          null|          null|             null|             null|      null|      null|            null|             null|             null|             null|                     null|                     null|                  null|ALL ac=VT-SUG dep...|  null|          null|2022-12-21 13:06:...|precog-spark|      128 WPS|2022|December|2022-12-08 16:49:07|\n",
      "| 2973534|          SG 2910|            2910|2022-12-08|     GOI|   BLR| 01:30:00|115067|RITESH RADHEYRAMA...|CAPT.|2022-12-08 22:17:00|2022-12-08 23:47:00|   DOM|         DHC|         DHC-|    Pax|VT-SUG|      GOI|    BLR| SG 2910|2022-12-08|        0.75|        null|                       null|          null|            null|         D 1.4|         null|          null|    null| Gnd (1)|              0.996|              R 0.00|                    -0.02|                 null|               null|                  null|        null|                  null|         null|             null|             null|           null|           null|             null|             null|             null|             null|              null|                 null|                  null|           null|           null|                      null|                        null|          null|          null|             null|             null|      null|      null|            null|             null|             null|             null|                     null|                     null|                  null|ALL ac=VT-SUG dep...|  null|          null|2022-12-21 13:06:...|precog-spark|      128 WPS|2022|December|2022-12-08 16:49:07|\n",
      "| 2973534|          SG 2910|            2910|2022-12-08|     GOI|   BLR| 01:30:00|115067|RITESH RADHEYRAMA...|CAPT.|2022-12-08 22:17:00|2022-12-08 23:47:00|   DOM|         DHC|         DHC-|    Pax|VT-SUG|      GOI|    BLR| SG 2910|2022-12-08|       0.875|        null|                       null|          null|            null|          null|         null|          null|    null|    null|              1.004|                null|                     null|                 null|               null|                  null|        null|                  null|         null|             null|             null|           null|           null|             null|             null|             null|             null|              null|                 null|                  null|           null|           null|                      null|                        null|          null|          null|             null|             null|      null|      null|            null|             null|             null|             null|                     null|                     null|                  null|ALL ac=VT-SUG dep...|  null|          null|2022-12-21 13:06:...|precog-spark|      128 WPS|2022|December|2022-12-08 16:49:07|\n",
      "| 2973534|          SG 2910|            2910|2022-12-08|     GOI|   BLR| 01:30:00|115067|RITESH RADHEYRAMA...|CAPT.|2022-12-08 22:17:00|2022-12-08 23:47:00|   DOM|         DHC|         DHC-|    Pax|VT-SUG|      GOI|    BLR| SG 2910|2022-12-08|         1.0|        null|                          0|           226|           353.1|         D 1.4|        R 0.2|             4| Gnd (1)| Gnd (1)|              0.981|              L 0.00|                    -0.02|                  0.0|                0.0|                   226|           1|                  null|         null|             19.7|             19.8|            0.0|            0.0|          -1.4063|            34.45|                0|                0|       No Warn (0)|          No Warn (0)|           NOT ACT (0)|    NOT ACT (0)|    NOT ACT (0)|                      0.00|                           0|         1.625|         1.625|              100|             null|      null|      null|               0|                0|               91|                0|               Normal (0)|               Normal (0)|            NOT EN (0)|ALL ac=VT-SUG dep...|  null|          null|2022-12-21 13:06:...|precog-spark|      128 WPS|2022|December|2022-12-08 16:49:07|\n",
      "| 2973534|          SG 2910|            2910|2022-12-08|     GOI|   BLR| 01:30:00|115067|RITESH RADHEYRAMA...|CAPT.|2022-12-08 22:17:00|2022-12-08 23:47:00|   DOM|         DHC|         DHC-|    Pax|VT-SUG|      GOI|    BLR| SG 2910|2022-12-08|       1.125|        null|                       null|          null|            null|          null|         null|          null|    null|    null|              0.977|                null|                     null|                 null|               null|                  null|        null|                  null|         null|             null|             null|           null|           null|             null|             null|             null|             null|              null|                 null|                  null|           null|           null|                      null|                        null|          null|          null|             null|             null|      null|      null|            null|             null|             null|             null|                     null|                     null|                  null|ALL ac=VT-SUG dep...|  null|          null|2022-12-21 13:06:...|precog-spark|      128 WPS|2022|December|2022-12-08 16:49:07|\n",
      "| 2973534|          SG 2910|            2910|2022-12-08|     GOI|   BLR| 01:30:00|115067|RITESH RADHEYRAMA...|CAPT.|2022-12-08 22:17:00|2022-12-08 23:47:00|   DOM|         DHC|         DHC-|    Pax|VT-SUG|      GOI|    BLR| SG 2910|2022-12-08|        1.25|        null|                       null|          null|            null|         D 1.4|         null|          null|    null| Gnd (1)|              1.004|              L 0.01|                    -0.03|                 null|               null|                  null|        null|                  null|         null|             null|             null|           null|           null|             null|             null|             null|             null|              null|                 null|                  null|           null|           null|                      null|                        null|          null|          null|             null|             null|      null|      null|            null|             null|             null|             null|                     null|                     null|                  null|ALL ac=VT-SUG dep...|  null|          null|2022-12-21 13:06:...|precog-spark|      128 WPS|2022|December|2022-12-08 16:49:07|\n",
      "| 2973534|          SG 2910|            2910|2022-12-08|     GOI|   BLR| 01:30:00|115067|RITESH RADHEYRAMA...|CAPT.|2022-12-08 22:17:00|2022-12-08 23:47:00|   DOM|         DHC|         DHC-|    Pax|VT-SUG|      GOI|    BLR| SG 2910|2022-12-08|       1.375|        null|                       null|          null|            null|          null|         null|          null|    null|    null|              1.012|                null|                     null|                 null|               null|                  null|        null|                  null|         null|             null|             null|           null|           null|             null|             null|             null|             null|              null|                 null|                  null|           null|           null|                      null|                        null|          null|          null|             null|             null|      null|      null|            null|             null|             null|             null|                     null|                     null|                  null|ALL ac=VT-SUG dep...|  null|          null|2022-12-21 13:06:...|precog-spark|      128 WPS|2022|December|2022-12-08 16:49:07|\n",
      "| 2973534|          SG 2910|            2910|2022-12-08|     GOI|   BLR| 01:30:00|115067|RITESH RADHEYRAMA...|CAPT.|2022-12-08 22:17:00|2022-12-08 23:47:00|   DOM|         DHC|         DHC-|    Pax|VT-SUG|      GOI|    BLR| SG 2910|2022-12-08|         1.5|        null|                       null|          null|            null|         D 1.4|        R 0.2|          null|    null| Gnd (1)|              0.984|              L 0.00|                    -0.02|                 null|               null|                  null|        null|                  null|         null|             null|             null|           null|           null|             null|             null|             null|             null|              null|                 null|                  null|           null|           null|                      null|                        null|          null|          null|             null|             null|      null|      null|            null|             null|             null|             null|                     null|                     null|                  null|ALL ac=VT-SUG dep...|  null|          null|2022-12-21 13:06:...|precog-spark|      128 WPS|2022|December|2022-12-08 16:49:07|\n",
      "| 2973534|          SG 2910|            2910|2022-12-08|     GOI|   BLR| 01:30:00|115067|RITESH RADHEYRAMA...|CAPT.|2022-12-08 22:17:00|2022-12-08 23:47:00|   DOM|         DHC|         DHC-|    Pax|VT-SUG|      GOI|    BLR| SG 2910|2022-12-08|       1.625|        null|                       null|          null|            null|          null|         null|          null|    null|    null|              0.980|                null|                     null|                 null|               null|                  null|        null|                  null|         null|             null|             null|           null|           null|             null|             null|             null|             null|              null|                 null|                  null|           null|           null|                      null|                        null|          null|          null|             null|             null|      null|      null|            null|             null|             null|             null|                     null|                     null|                  null|ALL ac=VT-SUG dep...|  null|          null|2022-12-21 13:06:...|precog-spark|      128 WPS|2022|December|2022-12-08 16:49:07|\n",
      "| 2973534|          SG 2910|            2910|2022-12-08|     GOI|   BLR| 01:30:00|115067|RITESH RADHEYRAMA...|CAPT.|2022-12-08 22:17:00|2022-12-08 23:47:00|   DOM|         DHC|         DHC-|    Pax|VT-SUG|      GOI|    BLR| SG 2910|2022-12-08|        1.75|        null|                       null|          null|            null|         D 1.4|         null|          null|    null| Gnd (1)|              0.992|              L 0.01|                    -0.03|                 null|               null|                  null|        null|                  null|         null|             null|             null|           null|           null|             null|             null|             null|             null|              null|                 null|                  null|           null|           null|                      null|                        null|          null|          null|             null|             null|      null|      null|            null|             null|             null|             null|                     null|                     null|                  null|ALL ac=VT-SUG dep...|  null|          null|2022-12-21 13:06:...|precog-spark|      128 WPS|2022|December|2022-12-08 16:49:07|\n",
      "| 2973534|          SG 2910|            2910|2022-12-08|     GOI|   BLR| 01:30:00|115067|RITESH RADHEYRAMA...|CAPT.|2022-12-08 22:17:00|2022-12-08 23:47:00|   DOM|         DHC|         DHC-|    Pax|VT-SUG|      GOI|    BLR| SG 2910|2022-12-08|       1.875|        null|                       null|          null|            null|          null|         null|          null|    null|    null|              1.004|                null|                     null|                 null|               null|                  null|        null|                  null|         null|             null|             null|           null|           null|             null|             null|             null|             null|              null|                 null|                  null|           null|           null|                      null|                        null|          null|          null|             null|             null|      null|      null|            null|             null|             null|             null|                     null|                     null|                  null|ALL ac=VT-SUG dep...|  null|          null|2022-12-21 13:06:...|precog-spark|      128 WPS|2022|December|2022-12-08 16:49:07|\n",
      "| 2973534|          SG 2910|            2910|2022-12-08|     GOI|   BLR| 01:30:00|115067|RITESH RADHEYRAMA...|CAPT.|2022-12-08 22:17:00|2022-12-08 23:47:00|   DOM|         DHC|         DHC-|    Pax|VT-SUG|      GOI|    BLR| SG 2910|2022-12-08|         2.0|        null|                        142|           226|           353.8|         D 1.3|        R 0.2|             3| Gnd (1)| Gnd (1)|              0.993|                0.00|                    -0.03|                  0.0|                0.0|                     0|           2|                   0.0|          0.0|             19.7|             19.8|            0.0|            0.0|          -1.4063|            34.45|                0|                0|       No Warn (0)|          No Warn (0)|           NOT ACT (0)|    NOT ACT (0)|    NOT ACT (0)|                      0.00|                           0|          null|          null|             null|             null|       0.0|         0|               0|                0|               87|                0|               Normal (0)|               Normal (0)|            NOT EN (0)|ALL ac=VT-SUG dep...|  null|          null|2022-12-21 13:06:...|precog-spark|      128 WPS|2022|December|2022-12-08 16:49:07|\n",
      "| 2973534|          SG 2910|            2910|2022-12-08|     GOI|   BLR| 01:30:00|115067|RITESH RADHEYRAMA...|CAPT.|2022-12-08 22:17:00|2022-12-08 23:47:00|   DOM|         DHC|         DHC-|    Pax|VT-SUG|      GOI|    BLR| SG 2910|2022-12-08|       2.125|        null|                       null|          null|            null|          null|         null|          null|    null|    null|              0.980|                null|                     null|                 null|               null|                  null|        null|                  null|         null|             null|             null|           null|           null|             null|             null|             null|             null|              null|                 null|                  null|           null|           null|                      null|                        null|          null|          null|             null|             null|      null|      null|            null|             null|             null|             null|                     null|                     null|                  null|ALL ac=VT-SUG dep...|  null|          null|2022-12-21 13:06:...|precog-spark|      128 WPS|2022|December|2022-12-08 16:49:07|\n",
      "| 2973534|          SG 2910|            2910|2022-12-08|     GOI|   BLR| 01:30:00|115067|RITESH RADHEYRAMA...|CAPT.|2022-12-08 22:17:00|2022-12-08 23:47:00|   DOM|         DHC|         DHC-|    Pax|VT-SUG|      GOI|    BLR| SG 2910|2022-12-08|        2.25|        null|                       null|          null|            null|         D 1.4|         null|          null|    null| Gnd (1)|              1.000|              L 0.01|                    -0.02|                 null|               null|                  null|        null|                  null|         null|             null|             null|           null|           null|             null|             null|             null|             null|              null|                 null|                  null|           null|           null|                      null|                        null|          null|          null|             null|             null|      null|      null|            null|             null|             null|             null|                     null|                     null|                  null|ALL ac=VT-SUG dep...|  null|          null|2022-12-21 13:06:...|precog-spark|      128 WPS|2022|December|2022-12-08 16:49:07|\n",
      "| 2973534|          SG 2910|            2910|2022-12-08|     GOI|   BLR| 01:30:00|115067|RITESH RADHEYRAMA...|CAPT.|2022-12-08 22:17:00|2022-12-08 23:47:00|   DOM|         DHC|         DHC-|    Pax|VT-SUG|      GOI|    BLR| SG 2910|2022-12-08|       2.375|        null|                       null|          null|            null|          null|         null|          null|    null|    null|              1.008|                null|                     null|                 null|               null|                  null|        null|                  null|         null|             null|             null|           null|           null|             null|             null|             null|             null|              null|                 null|                  null|           null|           null|                      null|                        null|          null|          null|             null|             null|      null|      null|            null|             null|             null|             null|                     null|                     null|                  null|ALL ac=VT-SUG dep...|  null|          null|2022-12-21 13:06:...|precog-spark|      128 WPS|2022|December|2022-12-08 16:49:07|\n",
      "+--------+-----------------+----------------+----------+--------+------+---------+------+--------------------+-----+-------------------+-------------------+------+------------+-------------+-------+------+---------+-------+--------+----------+------------+------------+---------------------------+--------------+----------------+--------------+-------------+--------------+--------+--------+-------------------+--------------------+-------------------------+---------------------+-------------------+----------------------+------------+----------------------+-------------+-----------------+-----------------+---------------+---------------+-----------------+-----------------+-----------------+-----------------+------------------+---------------------+----------------------+---------------+---------------+--------------------------+----------------------------+--------------+--------------+-----------------+-----------------+----------+----------+----------------+-----------------+-----------------+-----------------+-------------------------+-------------------------+----------------------+--------------------+------+--------------+--------------------+------------+-------------+----+--------+-------------------+\n",
      "only showing top 20 rows"
     ]
    }
   ],
   "source": [
    "Arms_Join_DF.show()"
   ]
  },
  {
   "cell_type": "code",
   "execution_count": 7,
   "id": "0e5d9fd9-6185-44fc-98c3-94f64a125446",
   "metadata": {
    "execution": {
     "iopub.execute_input": "2022-12-19T05:37:12.657484Z",
     "iopub.status.busy": "2022-12-19T05:37:12.657223Z",
     "iopub.status.idle": "2022-12-19T05:37:12.922615Z",
     "shell.execute_reply": "2022-12-19T05:37:12.921741Z",
     "shell.execute_reply.started": "2022-12-19T05:37:12.657446Z"
    },
    "tags": []
   },
   "outputs": [
    {
     "data": {
      "application/vnd.jupyter.widget-view+json": {
       "model_id": "6a221eb614bb4b33a899c19995b0d2c3",
       "version_major": 2,
       "version_minor": 0
      },
      "text/plain": [
       "VBox()"
      ]
     },
     "metadata": {},
     "output_type": "display_data"
    },
    {
     "data": {
      "application/vnd.jupyter.widget-view+json": {
       "model_id": "",
       "version_major": 2,
       "version_minor": 0
      },
      "text/plain": [
       "FloatProgress(value=0.0, bar_style='info', description='Progress:', layout=Layout(height='25px', width='50%'),…"
      ]
     },
     "metadata": {},
     "output_type": "display_data"
    }
   ],
   "source": [
    "raw_df_withfilename_2 = spark.sql('''\n",
    "\n",
    "        SELECT *,\n",
    "        \n",
    "        CASE \n",
    "            WHEN LENGTH(CAST(`Time-Per-Sec` as String)) = 1 THEN CONCAT('00000',CAST(`Time-Per-Sec` as String)) \n",
    "            WHEN LENGTH(CAST(`Time-Per-Sec` as String)) = 2 THEN CONCAT('0000',CAST(`Time-Per-Sec` as String)) \n",
    "            WHEN LENGTH(CAST(`Time-Per-Sec` as String)) = 3 THEN CONCAT('000',CAST(`Time-Per-Sec` as String))\n",
    "            WHEN LENGTH(CAST(`Time-Per-Sec` as String)) = 4 THEN CONCAT('00',CAST(`Time-Per-Sec` as String)) \n",
    "            WHEN LENGTH(CAST(`Time-Per-Sec` as String)) = 5 THEN CONCAT('0',CAST(`Time-Per-Sec` as String))\n",
    "            ELSE `Time-Per-Sec`\n",
    "        END As Time\n",
    "                                            \n",
    "        FROM RawData_1\n",
    "                            \n",
    "''')"
   ]
  },
  {
   "cell_type": "code",
   "execution_count": 9,
   "id": "abd031bd-43d3-4a25-9743-9e4316918b3d",
   "metadata": {
    "execution": {
     "iopub.execute_input": "2022-12-19T05:37:29.347441Z",
     "iopub.status.busy": "2022-12-19T05:37:29.347218Z",
     "iopub.status.idle": "2022-12-19T05:37:29.603898Z",
     "shell.execute_reply": "2022-12-19T05:37:29.603402Z",
     "shell.execute_reply.started": "2022-12-19T05:37:29.347417Z"
    },
    "tags": []
   },
   "outputs": [
    {
     "data": {
      "application/vnd.jupyter.widget-view+json": {
       "model_id": "f7b40e415d7847d1bad975c43d32541e",
       "version_major": 2,
       "version_minor": 0
      },
      "text/plain": [
       "VBox()"
      ]
     },
     "metadata": {},
     "output_type": "display_data"
    },
    {
     "data": {
      "application/vnd.jupyter.widget-view+json": {
       "model_id": "",
       "version_major": 2,
       "version_minor": 0
      },
      "text/plain": [
       "FloatProgress(value=0.0, bar_style='info', description='Progress:', layout=Layout(height='25px', width='50%'),…"
      ]
     },
     "metadata": {},
     "output_type": "display_data"
    }
   ],
   "source": [
    "raw_df_withfilename_3 = raw_df_withfilename_2.withColumn(\"Time-Per-Sec-1\", regexp_replace(col(\"Time\") , \"(\\\\d{2})(\\\\d{2})(\\\\d{2})\" , \"$1:$2:$3\" ))"
   ]
  },
  {
   "cell_type": "code",
   "execution_count": 10,
   "id": "6ce5a635-9e0b-4c2d-9740-ddc296beea11",
   "metadata": {
    "execution": {
     "iopub.execute_input": "2022-12-19T05:37:32.039287Z",
     "iopub.status.busy": "2022-12-19T05:37:32.039054Z",
     "iopub.status.idle": "2022-12-19T05:37:32.295213Z",
     "shell.execute_reply": "2022-12-19T05:37:32.294649Z",
     "shell.execute_reply.started": "2022-12-19T05:37:32.039262Z"
    },
    "tags": []
   },
   "outputs": [
    {
     "data": {
      "application/vnd.jupyter.widget-view+json": {
       "model_id": "0556c6ebcc3449179aae36c4e64fd099",
       "version_major": 2,
       "version_minor": 0
      },
      "text/plain": [
       "VBox()"
      ]
     },
     "metadata": {},
     "output_type": "display_data"
    },
    {
     "data": {
      "application/vnd.jupyter.widget-view+json": {
       "model_id": "",
       "version_major": 2,
       "version_minor": 0
      },
      "text/plain": [
       "FloatProgress(value=0.0, bar_style='info', description='Progress:', layout=Layout(height='25px', width='50%'),…"
      ]
     },
     "metadata": {},
     "output_type": "display_data"
    }
   ],
   "source": [
    "raw_df_withfilename_3.createOrReplaceTempView('RawData_2')"
   ]
  },
  {
   "cell_type": "code",
   "execution_count": 113,
   "id": "4008a828-f60f-47e0-9f81-1c54a0ff20b7",
   "metadata": {
    "execution": {
     "iopub.execute_input": "2022-12-19T07:07:04.250629Z",
     "iopub.status.busy": "2022-12-19T07:07:04.250376Z",
     "iopub.status.idle": "2022-12-19T07:07:04.299556Z",
     "shell.execute_reply": "2022-12-19T07:07:04.299035Z",
     "shell.execute_reply.started": "2022-12-19T07:07:04.250603Z"
    },
    "tags": []
   },
   "outputs": [
    {
     "data": {
      "application/vnd.jupyter.widget-view+json": {
       "model_id": "96217e0885fd4f4fbe02550b28dddf5e",
       "version_major": 2,
       "version_minor": 0
      },
      "text/plain": [
       "VBox()"
      ]
     },
     "metadata": {},
     "output_type": "display_data"
    },
    {
     "data": {
      "application/vnd.jupyter.widget-view+json": {
       "model_id": "",
       "version_major": 2,
       "version_minor": 0
      },
      "text/plain": [
       "FloatProgress(value=0.0, bar_style='info', description='Progress:', layout=Layout(height='25px', width='50%'),…"
      ]
     },
     "metadata": {},
     "output_type": "display_data"
    }
   ],
   "source": [
    "#raw_df_withfilename_3.show()"
   ]
  },
  {
   "cell_type": "code",
   "execution_count": 12,
   "id": "657e40b2-2447-4901-b978-19d167d325e4",
   "metadata": {
    "execution": {
     "iopub.execute_input": "2022-12-19T05:37:50.315858Z",
     "iopub.status.busy": "2022-12-19T05:37:50.315514Z",
     "iopub.status.idle": "2022-12-19T05:37:50.577972Z",
     "shell.execute_reply": "2022-12-19T05:37:50.577473Z",
     "shell.execute_reply.started": "2022-12-19T05:37:50.315815Z"
    },
    "tags": []
   },
   "outputs": [
    {
     "data": {
      "application/vnd.jupyter.widget-view+json": {
       "model_id": "b0e66e852aea4f479dbd5149f5cb692d",
       "version_major": 2,
       "version_minor": 0
      },
      "text/plain": [
       "VBox()"
      ]
     },
     "metadata": {},
     "output_type": "display_data"
    },
    {
     "data": {
      "application/vnd.jupyter.widget-view+json": {
       "model_id": "",
       "version_major": 2,
       "version_minor": 0
      },
      "text/plain": [
       "FloatProgress(value=0.0, bar_style='info', description='Progress:', layout=Layout(height='25px', width='50%'),…"
      ]
     },
     "metadata": {},
     "output_type": "display_data"
    }
   ],
   "source": [
    "flight_data_info_With_J = spark.sql('''\n",
    "\n",
    "                SELECT * FROM FlightInfo\n",
    "                \n",
    "                Where Filename Like ('%SEJ%J%')\n",
    "\n",
    "\n",
    "''')"
   ]
  },
  {
   "cell_type": "code",
   "execution_count": 13,
   "id": "11d38d95-79d7-406b-aafe-7614d1bc11d3",
   "metadata": {
    "execution": {
     "iopub.execute_input": "2022-12-19T05:37:51.601378Z",
     "iopub.status.busy": "2022-12-19T05:37:51.601155Z",
     "iopub.status.idle": "2022-12-19T05:37:51.651198Z",
     "shell.execute_reply": "2022-12-19T05:37:51.650676Z",
     "shell.execute_reply.started": "2022-12-19T05:37:51.601354Z"
    },
    "tags": []
   },
   "outputs": [
    {
     "data": {
      "application/vnd.jupyter.widget-view+json": {
       "model_id": "cedc22812c97419793161408d9c09d14",
       "version_major": 2,
       "version_minor": 0
      },
      "text/plain": [
       "VBox()"
      ]
     },
     "metadata": {},
     "output_type": "display_data"
    },
    {
     "data": {
      "application/vnd.jupyter.widget-view+json": {
       "model_id": "",
       "version_major": 2,
       "version_minor": 0
      },
      "text/plain": [
       "FloatProgress(value=0.0, bar_style='info', description='Progress:', layout=Layout(height='25px', width='50%'),…"
      ]
     },
     "metadata": {},
     "output_type": "display_data"
    }
   ],
   "source": [
    "flight_data_info_With_J.createOrReplaceTempView('flight_data_info_With_J')"
   ]
  },
  {
   "cell_type": "code",
   "execution_count": 57,
   "id": "b50db3e1-d8e4-418f-b057-56b4f31d824a",
   "metadata": {
    "execution": {
     "iopub.execute_input": "2022-12-19T06:11:27.563355Z",
     "iopub.status.busy": "2022-12-19T06:11:27.563128Z",
     "iopub.status.idle": "2022-12-19T06:11:35.036982Z",
     "shell.execute_reply": "2022-12-19T06:11:35.036431Z",
     "shell.execute_reply.started": "2022-12-19T06:11:27.563332Z"
    }
   },
   "outputs": [
    {
     "data": {
      "application/vnd.jupyter.widget-view+json": {
       "model_id": "838e6c29a482471b8be59f2a8e042134",
       "version_major": 2,
       "version_minor": 0
      },
      "text/plain": [
       "VBox()"
      ]
     },
     "metadata": {},
     "output_type": "display_data"
    },
    {
     "data": {
      "application/vnd.jupyter.widget-view+json": {
       "model_id": "",
       "version_major": 2,
       "version_minor": 0
      },
      "text/plain": [
       "FloatProgress(value=0.0, bar_style='info', description='Progress:', layout=Layout(height='25px', width='50%'),…"
      ]
     },
     "metadata": {},
     "output_type": "display_data"
    },
    {
     "name": "stdout",
     "output_type": "stream",
     "text": [
      "+------+---------+-------+--------+----------+--------------------+----+--------+\n",
      "|TailNo|Departure|Arrival|FlightNo|FlightDate|            FileName|year|   month|\n",
      "+------+---------+-------+--------+----------+--------------------+----+--------+\n",
      "|VT-SQG|      JAI|    DEL| SG 2J44|2022-12-09|ALL ac=VT-SQG dep...|2022|December|\n",
      "|VT-SUR|      HJR|    DEL| SG 2J32|2022-12-08|ALL ac=VT-SUR dep...|2022|December|\n",
      "|VT-SQG|      DEL|    DHM| SG 2J45|2022-12-09|ALL ac=VT-SQG dep...|2022|December|\n",
      "|VT-SQA|      JAI|    AMD| SG 3J62|2022-12-08|ALL ac=VT-SQA dep...|2022|December|\n",
      "|VT-SQA|      AMD|    PNQ| SG 1J77|2022-12-09|ALL ac=VT-SQA dep...|2022|December|\n",
      "|VT-SQC|      DEL|    JLR| SG 2J54|2022-12-09|ALL ac=VT-SQC dep...|2022|December|\n",
      "|VT-SQB|      HYD|    HYD| SG 2J96|2022-12-09|ALL ac=VT-SQB dep...|2022|December|\n",
      "|VT-SUR|      DEL|    UDR| SG 2J41|2022-12-09|ALL ac=VT-SUR dep...|2022|December|\n",
      "+------+---------+-------+--------+----------+--------------------+----+--------+"
     ]
    }
   ],
   "source": [
    "flight_data_info_With_J.show()"
   ]
  },
  {
   "cell_type": "code",
   "execution_count": 14,
   "id": "24a641e1-8fcf-436f-87d7-eca9a683a5fb",
   "metadata": {
    "execution": {
     "iopub.execute_input": "2022-12-19T05:37:52.156494Z",
     "iopub.status.busy": "2022-12-19T05:37:52.156266Z",
     "iopub.status.idle": "2022-12-19T05:37:52.211461Z",
     "shell.execute_reply": "2022-12-19T05:37:52.210594Z",
     "shell.execute_reply.started": "2022-12-19T05:37:52.156470Z"
    },
    "tags": []
   },
   "outputs": [
    {
     "data": {
      "application/vnd.jupyter.widget-view+json": {
       "model_id": "1c9df2f92e364d318e6d482726e91b0d",
       "version_major": 2,
       "version_minor": 0
      },
      "text/plain": [
       "VBox()"
      ]
     },
     "metadata": {},
     "output_type": "display_data"
    },
    {
     "data": {
      "application/vnd.jupyter.widget-view+json": {
       "model_id": "",
       "version_major": 2,
       "version_minor": 0
      },
      "text/plain": [
       "FloatProgress(value=0.0, bar_style='info', description='Progress:', layout=Layout(height='25px', width='50%'),…"
      ]
     },
     "metadata": {},
     "output_type": "display_data"
    }
   ],
   "source": [
    "flight_data_info_Without_J = spark.sql('''\n",
    "                                            SELECT * FROM FlightInfo\n",
    "                                            \n",
    "                                            WHERE Filename NOT LIKE ('%SEJ%J%')\n",
    "\n",
    "''')"
   ]
  },
  {
   "cell_type": "code",
   "execution_count": 15,
   "id": "a6ace621-f01d-4e2a-acaf-def9ee72ff26",
   "metadata": {
    "execution": {
     "iopub.execute_input": "2022-12-19T05:37:53.236049Z",
     "iopub.status.busy": "2022-12-19T05:37:53.235740Z",
     "iopub.status.idle": "2022-12-19T05:37:53.305046Z",
     "shell.execute_reply": "2022-12-19T05:37:53.304268Z",
     "shell.execute_reply.started": "2022-12-19T05:37:53.236015Z"
    },
    "tags": []
   },
   "outputs": [
    {
     "data": {
      "application/vnd.jupyter.widget-view+json": {
       "model_id": "e7ad737974cb40128dc541a31d18c42f",
       "version_major": 2,
       "version_minor": 0
      },
      "text/plain": [
       "VBox()"
      ]
     },
     "metadata": {},
     "output_type": "display_data"
    },
    {
     "data": {
      "application/vnd.jupyter.widget-view+json": {
       "model_id": "",
       "version_major": 2,
       "version_minor": 0
      },
      "text/plain": [
       "FloatProgress(value=0.0, bar_style='info', description='Progress:', layout=Layout(height='25px', width='50%'),…"
      ]
     },
     "metadata": {},
     "output_type": "display_data"
    }
   ],
   "source": [
    "flight_data_info_Without_J.createOrReplaceTempView('flight_data_info_Without_J')"
   ]
  },
  {
   "cell_type": "code",
   "execution_count": 16,
   "id": "8ef27dcb-7461-4281-8445-f40f34c60136",
   "metadata": {
    "execution": {
     "iopub.execute_input": "2022-12-19T05:38:11.560110Z",
     "iopub.status.busy": "2022-12-19T05:38:11.559864Z",
     "iopub.status.idle": "2022-12-19T05:38:11.609887Z",
     "shell.execute_reply": "2022-12-19T05:38:11.609200Z",
     "shell.execute_reply.started": "2022-12-19T05:38:11.560084Z"
    },
    "tags": []
   },
   "outputs": [
    {
     "data": {
      "application/vnd.jupyter.widget-view+json": {
       "model_id": "30b8530ae5e64c3990dffb58e9469c18",
       "version_major": 2,
       "version_minor": 0
      },
      "text/plain": [
       "VBox()"
      ]
     },
     "metadata": {},
     "output_type": "display_data"
    },
    {
     "data": {
      "application/vnd.jupyter.widget-view+json": {
       "model_id": "",
       "version_major": 2,
       "version_minor": 0
      },
      "text/plain": [
       "FloatProgress(value=0.0, bar_style='info', description='Progress:', layout=Layout(height='25px', width='50%'),…"
      ]
     },
     "metadata": {},
     "output_type": "display_data"
    }
   ],
   "source": [
    "#flight_data_info_Without_J.show()"
   ]
  },
  {
   "cell_type": "code",
   "execution_count": 18,
   "id": "02b66570-70db-448a-a4c2-c8ef84ffbeee",
   "metadata": {
    "execution": {
     "iopub.execute_input": "2022-12-19T05:38:38.419085Z",
     "iopub.status.busy": "2022-12-19T05:38:38.418858Z",
     "iopub.status.idle": "2022-12-19T05:38:38.680283Z",
     "shell.execute_reply": "2022-12-19T05:38:38.679759Z",
     "shell.execute_reply.started": "2022-12-19T05:38:38.419061Z"
    },
    "tags": []
   },
   "outputs": [
    {
     "data": {
      "application/vnd.jupyter.widget-view+json": {
       "model_id": "439c6b6ccd74496cbe5934236d21e457",
       "version_major": 2,
       "version_minor": 0
      },
      "text/plain": [
       "VBox()"
      ]
     },
     "metadata": {},
     "output_type": "display_data"
    },
    {
     "data": {
      "application/vnd.jupyter.widget-view+json": {
       "model_id": "",
       "version_major": 2,
       "version_minor": 0
      },
      "text/plain": [
       "FloatProgress(value=0.0, bar_style='info', description='Progress:', layout=Layout(height='25px', width='50%'),…"
      ]
     },
     "metadata": {},
     "output_type": "display_data"
    }
   ],
   "source": [
    "flight_data_join_df_Without_J = spark.sql(f'''\n",
    "\n",
    "                            \n",
    "                            SELECT\n",
    "                            \n",
    "                                fi.TailNo,\n",
    "\n",
    "                                fi.Departure,\n",
    "\n",
    "                                fi.Arrival,\n",
    "\n",
    "                                fi.FlightNo,\n",
    "\n",
    "                                fi.FlightDate as `Date`,\n",
    "\n",
    "                                rw.*,\n",
    "\n",
    "                                current_timestamp() as `LoadedDate`,\n",
    "\n",
    "                                'precog-spark' as `LoadedBy`,\n",
    "\n",
    "                                '512 WPS' as `DataFrameName`,\n",
    "\n",
    "                                fi.year,\n",
    "\n",
    "                                fi.month\n",
    "\n",
    "                            FROM RawData_2 rw\n",
    "\n",
    "                            JOIN flight_data_info_Without_J fi \n",
    "                            \n",
    "                            ON fi.FileName = rw.FileName\n",
    "            \n",
    "                                        ''')"
   ]
  },
  {
   "cell_type": "code",
   "execution_count": 19,
   "id": "352af170-7ab5-4b81-bafb-b6cc4ac57015",
   "metadata": {
    "execution": {
     "iopub.execute_input": "2022-12-19T05:38:40.834759Z",
     "iopub.status.busy": "2022-12-19T05:38:40.834470Z",
     "iopub.status.idle": "2022-12-19T05:38:40.882585Z",
     "shell.execute_reply": "2022-12-19T05:38:40.882087Z",
     "shell.execute_reply.started": "2022-12-19T05:38:40.834710Z"
    },
    "tags": []
   },
   "outputs": [
    {
     "data": {
      "application/vnd.jupyter.widget-view+json": {
       "model_id": "50d74d07230340c0a0d53c1c37aa1ec6",
       "version_major": 2,
       "version_minor": 0
      },
      "text/plain": [
       "VBox()"
      ]
     },
     "metadata": {},
     "output_type": "display_data"
    },
    {
     "data": {
      "application/vnd.jupyter.widget-view+json": {
       "model_id": "",
       "version_major": 2,
       "version_minor": 0
      },
      "text/plain": [
       "FloatProgress(value=0.0, bar_style='info', description='Progress:', layout=Layout(height='25px', width='50%'),…"
      ]
     },
     "metadata": {},
     "output_type": "display_data"
    }
   ],
   "source": [
    "#flight_data_join_df_Without_J.show()"
   ]
  },
  {
   "cell_type": "code",
   "execution_count": 20,
   "id": "cad365c8-6e25-40ec-84e2-e73949b28646",
   "metadata": {
    "execution": {
     "iopub.execute_input": "2022-12-19T05:38:41.985438Z",
     "iopub.status.busy": "2022-12-19T05:38:41.985217Z",
     "iopub.status.idle": "2022-12-19T05:38:42.246934Z",
     "shell.execute_reply": "2022-12-19T05:38:42.246407Z",
     "shell.execute_reply.started": "2022-12-19T05:38:41.985415Z"
    },
    "tags": []
   },
   "outputs": [
    {
     "data": {
      "application/vnd.jupyter.widget-view+json": {
       "model_id": "f1a87d3981af43d188d067ad570de018",
       "version_major": 2,
       "version_minor": 0
      },
      "text/plain": [
       "VBox()"
      ]
     },
     "metadata": {},
     "output_type": "display_data"
    },
    {
     "data": {
      "application/vnd.jupyter.widget-view+json": {
       "model_id": "",
       "version_major": 2,
       "version_minor": 0
      },
      "text/plain": [
       "FloatProgress(value=0.0, bar_style='info', description='Progress:', layout=Layout(height='25px', width='50%'),…"
      ]
     },
     "metadata": {},
     "output_type": "display_data"
    }
   ],
   "source": [
    "flight_data_join_df_Without_J.createOrReplaceTempView('flight_data_join_df_Without_J')"
   ]
  },
  {
   "cell_type": "code",
   "execution_count": null,
   "id": "4fd9657a-8458-40b4-9367-7a42cfb30895",
   "metadata": {
    "tags": []
   },
   "outputs": [],
   "source": []
  },
  {
   "cell_type": "code",
   "execution_count": null,
   "id": "bd83ad06-78bd-48ef-87b4-4562454fcec5",
   "metadata": {
    "tags": []
   },
   "outputs": [],
   "source": []
  },
  {
   "cell_type": "code",
   "execution_count": 23,
   "id": "a8d38e5f-1c7b-4437-935e-1d438cd94ec0",
   "metadata": {
    "execution": {
     "iopub.execute_input": "2022-12-19T05:39:37.191380Z",
     "iopub.status.busy": "2022-12-19T05:39:37.191147Z",
     "iopub.status.idle": "2022-12-19T05:39:37.452360Z",
     "shell.execute_reply": "2022-12-19T05:39:37.451663Z",
     "shell.execute_reply.started": "2022-12-19T05:39:37.191354Z"
    },
    "tags": []
   },
   "outputs": [
    {
     "data": {
      "application/vnd.jupyter.widget-view+json": {
       "model_id": "e8aa3b1d7fcb4318aad4e7a3306b7010",
       "version_major": 2,
       "version_minor": 0
      },
      "text/plain": [
       "VBox()"
      ]
     },
     "metadata": {},
     "output_type": "display_data"
    },
    {
     "data": {
      "application/vnd.jupyter.widget-view+json": {
       "model_id": "",
       "version_major": 2,
       "version_minor": 0
      },
      "text/plain": [
       "FloatProgress(value=0.0, bar_style='info', description='Progress:', layout=Layout(height='25px', width='50%'),…"
      ]
     },
     "metadata": {},
     "output_type": "display_data"
    }
   ],
   "source": [
    "flight_data_join_df_With_J = spark.sql(f'''\n",
    "\n",
    "                            \n",
    "                            SELECT\n",
    "                            \n",
    "                            fi.TailNo,\n",
    "                            \n",
    "                            fi.Departure,\n",
    "                            \n",
    "                            fi.Arrival,\n",
    "                            \n",
    "                            fi.FlightNo,\n",
    "                            \n",
    "                            fi.FlightDate as `Date`,\n",
    "                            \n",
    "                            rw.*,\n",
    "                            \n",
    "                            current_timestamp() as `LoadedDate`,\n",
    "                            \n",
    "                            'precog-spark' as `LoadedBy`,\n",
    "                            \n",
    "                            '512 WPS' as `DataFrameName`,\n",
    "                            \n",
    "                            fi.year,\n",
    "                            \n",
    "                            fi.month\n",
    "\n",
    "                            FROM RawData_2 rw\n",
    "\n",
    "                            JOIN flight_data_info_With_J fi \n",
    "                            \n",
    "                            ON fi.FileName = rw.FileName\n",
    "                            \n",
    "                            \n",
    "            \n",
    "                                        ''')"
   ]
  },
  {
   "cell_type": "code",
   "execution_count": 24,
   "id": "3b17b536-7744-41a1-b340-ef8975f0250b",
   "metadata": {
    "execution": {
     "iopub.execute_input": "2022-12-19T05:39:40.346714Z",
     "iopub.status.busy": "2022-12-19T05:39:40.346479Z",
     "iopub.status.idle": "2022-12-19T05:39:40.394288Z",
     "shell.execute_reply": "2022-12-19T05:39:40.393803Z",
     "shell.execute_reply.started": "2022-12-19T05:39:40.346692Z"
    },
    "tags": []
   },
   "outputs": [
    {
     "data": {
      "application/vnd.jupyter.widget-view+json": {
       "model_id": "25ce7d7ef32243698e905978064d7765",
       "version_major": 2,
       "version_minor": 0
      },
      "text/plain": [
       "VBox()"
      ]
     },
     "metadata": {},
     "output_type": "display_data"
    },
    {
     "data": {
      "application/vnd.jupyter.widget-view+json": {
       "model_id": "",
       "version_major": 2,
       "version_minor": 0
      },
      "text/plain": [
       "FloatProgress(value=0.0, bar_style='info', description='Progress:', layout=Layout(height='25px', width='50%'),…"
      ]
     },
     "metadata": {},
     "output_type": "display_data"
    }
   ],
   "source": [
    "#flight_data_join_df_With_J.show()"
   ]
  },
  {
   "cell_type": "code",
   "execution_count": 25,
   "id": "f220e8e9-76b4-4364-b1e7-3493c326d0f3",
   "metadata": {
    "execution": {
     "iopub.execute_input": "2022-12-19T05:39:41.096933Z",
     "iopub.status.busy": "2022-12-19T05:39:41.096710Z",
     "iopub.status.idle": "2022-12-19T05:39:41.353759Z",
     "shell.execute_reply": "2022-12-19T05:39:41.353092Z",
     "shell.execute_reply.started": "2022-12-19T05:39:41.096910Z"
    },
    "tags": []
   },
   "outputs": [
    {
     "data": {
      "application/vnd.jupyter.widget-view+json": {
       "model_id": "b8f65ce229ab4e6497e156f828c043ac",
       "version_major": 2,
       "version_minor": 0
      },
      "text/plain": [
       "VBox()"
      ]
     },
     "metadata": {},
     "output_type": "display_data"
    },
    {
     "data": {
      "application/vnd.jupyter.widget-view+json": {
       "model_id": "",
       "version_major": 2,
       "version_minor": 0
      },
      "text/plain": [
       "FloatProgress(value=0.0, bar_style='info', description='Progress:', layout=Layout(height='25px', width='50%'),…"
      ]
     },
     "metadata": {},
     "output_type": "display_data"
    }
   ],
   "source": [
    "flight_data_join_df_With_J.createOrReplaceTempView('flight_data_join_df_With_J')"
   ]
  },
  {
   "cell_type": "code",
   "execution_count": 66,
   "id": "b74fff87-adc9-4c8b-b0c8-60d66d986121",
   "metadata": {
    "execution": {
     "iopub.execute_input": "2022-12-19T06:23:47.739749Z",
     "iopub.status.busy": "2022-12-19T06:23:47.739520Z",
     "iopub.status.idle": "2022-12-19T06:23:47.789416Z",
     "shell.execute_reply": "2022-12-19T06:23:47.788911Z",
     "shell.execute_reply.started": "2022-12-19T06:23:47.739724Z"
    },
    "tags": []
   },
   "outputs": [
    {
     "data": {
      "application/vnd.jupyter.widget-view+json": {
       "model_id": "3dd473006b0d43ecbb0d92506dbe2cfe",
       "version_major": 2,
       "version_minor": 0
      },
      "text/plain": [
       "VBox()"
      ]
     },
     "metadata": {},
     "output_type": "display_data"
    },
    {
     "data": {
      "application/vnd.jupyter.widget-view+json": {
       "model_id": "",
       "version_major": 2,
       "version_minor": 0
      },
      "text/plain": [
       "FloatProgress(value=0.0, bar_style='info', description='Progress:', layout=Layout(height='25px', width='50%'),…"
      ]
     },
     "metadata": {},
     "output_type": "display_data"
    }
   ],
   "source": [
    "UTC_With_J = spark.sql('''\n",
    "\n",
    "                    SELECT TailNo, Departure, Arrival, FlightNo, Date, Filename, to_timestamp(concat(Date,' ',first_value(`Time-Per-Sec-1`,true))) AS UTC_TIMEDATE\n",
    "                    \n",
    "                    FROM flight_data_join_df_With_J\n",
    "                    \n",
    "                    Group By TailNo, Departure, Arrival, FlightNo, Date, Filename\n",
    "\n",
    "''')"
   ]
  },
  {
   "cell_type": "code",
   "execution_count": 61,
   "id": "185a6593-a363-4c36-b0e8-8b8c1d03c06e",
   "metadata": {
    "execution": {
     "iopub.execute_input": "2022-12-19T06:19:46.160679Z",
     "iopub.status.busy": "2022-12-19T06:19:46.160457Z",
     "iopub.status.idle": "2022-12-19T06:19:46.210072Z",
     "shell.execute_reply": "2022-12-19T06:19:46.209576Z",
     "shell.execute_reply.started": "2022-12-19T06:19:46.160656Z"
    },
    "tags": []
   },
   "outputs": [
    {
     "data": {
      "application/vnd.jupyter.widget-view+json": {
       "model_id": "987142536a594d1da3ca728e77ff467e",
       "version_major": 2,
       "version_minor": 0
      },
      "text/plain": [
       "VBox()"
      ]
     },
     "metadata": {},
     "output_type": "display_data"
    },
    {
     "data": {
      "application/vnd.jupyter.widget-view+json": {
       "model_id": "",
       "version_major": 2,
       "version_minor": 0
      },
      "text/plain": [
       "FloatProgress(value=0.0, bar_style='info', description='Progress:', layout=Layout(height='25px', width='50%'),…"
      ]
     },
     "metadata": {},
     "output_type": "display_data"
    }
   ],
   "source": [
    "UTC_With_J.createOrReplaceTempView('UTC_With_J')"
   ]
  },
  {
   "cell_type": "code",
   "execution_count": 71,
   "id": "4358fba3-804e-4e91-ac17-a7f4e1124c0e",
   "metadata": {
    "execution": {
     "iopub.execute_input": "2022-12-19T06:30:47.841654Z",
     "iopub.status.busy": "2022-12-19T06:30:47.841415Z",
     "iopub.status.idle": "2022-12-19T06:30:48.091334Z",
     "shell.execute_reply": "2022-12-19T06:30:48.090789Z",
     "shell.execute_reply.started": "2022-12-19T06:30:47.841629Z"
    },
    "tags": []
   },
   "outputs": [
    {
     "data": {
      "application/vnd.jupyter.widget-view+json": {
       "model_id": "8fe22d69da9140df9b47e71277f85e5f",
       "version_major": 2,
       "version_minor": 0
      },
      "text/plain": [
       "VBox()"
      ]
     },
     "metadata": {},
     "output_type": "display_data"
    },
    {
     "data": {
      "application/vnd.jupyter.widget-view+json": {
       "model_id": "",
       "version_major": 2,
       "version_minor": 0
      },
      "text/plain": [
       "FloatProgress(value=0.0, bar_style='info', description='Progress:', layout=Layout(height='25px', width='50%'),…"
      ]
     },
     "metadata": {},
     "output_type": "display_data"
    }
   ],
   "source": [
    "UTC_TIMEDATE = spark.sql('''\n",
    "\n",
    "                SELECT\n",
    "                            \n",
    "                            \n",
    "                            \n",
    "                            rw.*,\n",
    "                            \n",
    "                            fi.UTC_TIMEDATE\n",
    "                            \n",
    "                            FROM flight_data_join_df_With_J rw\n",
    "\n",
    "                            JOIN UTC_With_J fi \n",
    "                            \n",
    "                            ON fi.FileName = rw.FileName\n",
    "\n",
    "\n",
    "\n",
    "''')"
   ]
  },
  {
   "cell_type": "code",
   "execution_count": 72,
   "id": "c8021325-028a-491a-9f2a-08650ad1a7d2",
   "metadata": {
    "execution": {
     "iopub.execute_input": "2022-12-19T06:31:08.764292Z",
     "iopub.status.busy": "2022-12-19T06:31:08.764052Z",
     "iopub.status.idle": "2022-12-19T06:31:09.017330Z",
     "shell.execute_reply": "2022-12-19T06:31:09.016827Z",
     "shell.execute_reply.started": "2022-12-19T06:31:08.764269Z"
    },
    "tags": []
   },
   "outputs": [
    {
     "data": {
      "application/vnd.jupyter.widget-view+json": {
       "model_id": "62c9e77c0a904009a06aab056c09a5a7",
       "version_major": 2,
       "version_minor": 0
      },
      "text/plain": [
       "VBox()"
      ]
     },
     "metadata": {},
     "output_type": "display_data"
    },
    {
     "data": {
      "application/vnd.jupyter.widget-view+json": {
       "model_id": "",
       "version_major": 2,
       "version_minor": 0
      },
      "text/plain": [
       "FloatProgress(value=0.0, bar_style='info', description='Progress:', layout=Layout(height='25px', width='50%'),…"
      ]
     },
     "metadata": {},
     "output_type": "display_data"
    }
   ],
   "source": [
    "UTC_TIMEDATE.createOrReplaceTempView('UTC_TIMEDATE')"
   ]
  },
  {
   "cell_type": "code",
   "execution_count": 73,
   "id": "149a3070-da37-4429-86e4-0944db19c940",
   "metadata": {
    "execution": {
     "iopub.execute_input": "2022-12-19T06:31:12.294989Z",
     "iopub.status.busy": "2022-12-19T06:31:12.294756Z",
     "iopub.status.idle": "2022-12-19T06:31:19.573392Z",
     "shell.execute_reply": "2022-12-19T06:31:19.572849Z",
     "shell.execute_reply.started": "2022-12-19T06:31:12.294965Z"
    },
    "tags": []
   },
   "outputs": [
    {
     "data": {
      "application/vnd.jupyter.widget-view+json": {
       "model_id": "feb4e27c0b94413d94ee36767b3b0820",
       "version_major": 2,
       "version_minor": 0
      },
      "text/plain": [
       "VBox()"
      ]
     },
     "metadata": {},
     "output_type": "display_data"
    },
    {
     "data": {
      "application/vnd.jupyter.widget-view+json": {
       "model_id": "",
       "version_major": 2,
       "version_minor": 0
      },
      "text/plain": [
       "FloatProgress(value=0.0, bar_style='info', description='Progress:', layout=Layout(height='25px', width='50%'),…"
      ]
     },
     "metadata": {},
     "output_type": "display_data"
    }
   ],
   "source": [
    "MainQueryDF1 = spark.read.csv('s3://sjet-datamart-bucket/precog/pilot-info/', header = True)"
   ]
  },
  {
   "cell_type": "code",
   "execution_count": 74,
   "id": "d370f132-a7b3-456e-bfda-6f1d8d2d1d11",
   "metadata": {
    "execution": {
     "iopub.execute_input": "2022-12-19T06:31:19.574486Z",
     "iopub.status.busy": "2022-12-19T06:31:19.574319Z",
     "iopub.status.idle": "2022-12-19T06:31:19.619659Z",
     "shell.execute_reply": "2022-12-19T06:31:19.619160Z",
     "shell.execute_reply.started": "2022-12-19T06:31:19.574464Z"
    },
    "tags": []
   },
   "outputs": [
    {
     "data": {
      "application/vnd.jupyter.widget-view+json": {
       "model_id": "7003588766cf4a4eb6493275ed324d59",
       "version_major": 2,
       "version_minor": 0
      },
      "text/plain": [
       "VBox()"
      ]
     },
     "metadata": {},
     "output_type": "display_data"
    },
    {
     "data": {
      "application/vnd.jupyter.widget-view+json": {
       "model_id": "",
       "version_major": 2,
       "version_minor": 0
      },
      "text/plain": [
       "FloatProgress(value=0.0, bar_style='info', description='Progress:', layout=Layout(height='25px', width='50%'),…"
      ]
     },
     "metadata": {},
     "output_type": "display_data"
    }
   ],
   "source": [
    "MainQueryDF1.dropDuplicates().createOrReplaceTempView('MainQueryDF1')"
   ]
  },
  {
   "cell_type": "code",
   "execution_count": 75,
   "id": "a1ebb7bd-981f-4855-88a1-d53ee7ff1765",
   "metadata": {
    "execution": {
     "iopub.execute_input": "2022-12-19T06:31:19.620937Z",
     "iopub.status.busy": "2022-12-19T06:31:19.620770Z",
     "iopub.status.idle": "2022-12-19T06:31:19.668227Z",
     "shell.execute_reply": "2022-12-19T06:31:19.667747Z",
     "shell.execute_reply.started": "2022-12-19T06:31:19.620915Z"
    },
    "tags": []
   },
   "outputs": [
    {
     "data": {
      "application/vnd.jupyter.widget-view+json": {
       "model_id": "e9c7a9e8b1c744f998bbb2d4e0acdbff",
       "version_major": 2,
       "version_minor": 0
      },
      "text/plain": [
       "VBox()"
      ]
     },
     "metadata": {},
     "output_type": "display_data"
    },
    {
     "data": {
      "application/vnd.jupyter.widget-view+json": {
       "model_id": "",
       "version_major": 2,
       "version_minor": 0
      },
      "text/plain": [
       "FloatProgress(value=0.0, bar_style='info', description='Progress:', layout=Layout(height='25px', width='50%'),…"
      ]
     },
     "metadata": {},
     "output_type": "display_data"
    }
   ],
   "source": [
    "MainQueryDF = spark.sql('''\n",
    "\n",
    "                            SELECT \n",
    "                                    \n",
    "                                    FlightID,\n",
    "                                    \n",
    "                                    DesigFlightNumber,\n",
    "                                    \n",
    "                                    AcRegNo\n",
    "                                    \n",
    "                                    ,FlightNumber\n",
    "                                    \n",
    "                                    ,FlightDate\n",
    "                                    \n",
    "                                    ,UTCFlightDate\n",
    "                                    \n",
    "                                    ,FromCity\n",
    "                                    \n",
    "                                    ,ToCity\n",
    "                                    \n",
    "                                    ,BlockTime\n",
    "                                    \n",
    "                                    ,ECN\n",
    "                                    \n",
    "                                    ,EmployeeName\n",
    "                                    \n",
    "                                    ,CAST (ChocksOff AS Timestamp)\n",
    "                                    \n",
    "                                    ,CAST (ChocksOn AS Timestamp)\n",
    "                                    \n",
    "                                    ,RANK\n",
    "                                    \n",
    "                                    ,DOMINT\n",
    "                                    \n",
    "                                    ,Payload\n",
    "                                    \n",
    "                                    ,AircraftType\n",
    "                                    \n",
    "                                    ,AircraftModel\n",
    "\n",
    "                            FROM MainQueryDF1\n",
    "\n",
    "''')"
   ]
  },
  {
   "cell_type": "code",
   "execution_count": 76,
   "id": "004f0501-3254-47d1-ae07-d7211472a4f4",
   "metadata": {
    "execution": {
     "iopub.execute_input": "2022-12-19T06:31:19.669241Z",
     "iopub.status.busy": "2022-12-19T06:31:19.669080Z",
     "iopub.status.idle": "2022-12-19T06:31:19.718528Z",
     "shell.execute_reply": "2022-12-19T06:31:19.717769Z",
     "shell.execute_reply.started": "2022-12-19T06:31:19.669220Z"
    },
    "tags": []
   },
   "outputs": [
    {
     "data": {
      "application/vnd.jupyter.widget-view+json": {
       "model_id": "a23715ae474d454cb8d5497c1bb5c58a",
       "version_major": 2,
       "version_minor": 0
      },
      "text/plain": [
       "VBox()"
      ]
     },
     "metadata": {},
     "output_type": "display_data"
    },
    {
     "data": {
      "application/vnd.jupyter.widget-view+json": {
       "model_id": "",
       "version_major": 2,
       "version_minor": 0
      },
      "text/plain": [
       "FloatProgress(value=0.0, bar_style='info', description='Progress:', layout=Layout(height='25px', width='50%'),…"
      ]
     },
     "metadata": {},
     "output_type": "display_data"
    }
   ],
   "source": [
    "MainQueryDF.dropDuplicates().createOrReplaceTempView('MainQueryDF')"
   ]
  },
  {
   "cell_type": "code",
   "execution_count": 77,
   "id": "a9cb4800-653d-4c4e-9fa7-afb1a8e57817",
   "metadata": {
    "execution": {
     "iopub.execute_input": "2022-12-19T06:31:19.719724Z",
     "iopub.status.busy": "2022-12-19T06:31:19.719559Z",
     "iopub.status.idle": "2022-12-19T06:31:19.763849Z",
     "shell.execute_reply": "2022-12-19T06:31:19.763362Z",
     "shell.execute_reply.started": "2022-12-19T06:31:19.719702Z"
    },
    "tags": []
   },
   "outputs": [
    {
     "data": {
      "application/vnd.jupyter.widget-view+json": {
       "model_id": "2f130ade51f846bd81c5eb688bfa3f37",
       "version_major": 2,
       "version_minor": 0
      },
      "text/plain": [
       "VBox()"
      ]
     },
     "metadata": {},
     "output_type": "display_data"
    },
    {
     "data": {
      "application/vnd.jupyter.widget-view+json": {
       "model_id": "",
       "version_major": 2,
       "version_minor": 0
      },
      "text/plain": [
       "FloatProgress(value=0.0, bar_style='info', description='Progress:', layout=Layout(height='25px', width='50%'),…"
      ]
     },
     "metadata": {},
     "output_type": "display_data"
    }
   ],
   "source": [
    "#MainQueryDF.printSchema()"
   ]
  },
  {
   "cell_type": "code",
   "execution_count": 88,
   "id": "0c127793-5900-4ae9-bf97-7b78aed45cd3",
   "metadata": {
    "execution": {
     "iopub.execute_input": "2022-12-19T06:37:48.798987Z",
     "iopub.status.busy": "2022-12-19T06:37:48.798757Z",
     "iopub.status.idle": "2022-12-19T06:37:48.855417Z",
     "shell.execute_reply": "2022-12-19T06:37:48.854719Z",
     "shell.execute_reply.started": "2022-12-19T06:37:48.798964Z"
    },
    "tags": []
   },
   "outputs": [
    {
     "data": {
      "application/vnd.jupyter.widget-view+json": {
       "model_id": "67eb216e4d5a4154ade01147721224eb",
       "version_major": 2,
       "version_minor": 0
      },
      "text/plain": [
       "VBox()"
      ]
     },
     "metadata": {},
     "output_type": "display_data"
    },
    {
     "data": {
      "application/vnd.jupyter.widget-view+json": {
       "model_id": "",
       "version_major": 2,
       "version_minor": 0
      },
      "text/plain": [
       "FloatProgress(value=0.0, bar_style='info', description='Progress:', layout=Layout(height='25px', width='50%'),…"
      ]
     },
     "metadata": {},
     "output_type": "display_data"
    }
   ],
   "source": [
    "Arms_Join_DF_Without_J = spark.sql('''\n",
    "                                            \n",
    "                                            SELECT\n",
    "                                                    \n",
    "                                                    AD.FlightID,\n",
    "                                                    \n",
    "                                                    AD.DesigFlightNumber,\n",
    "                                                    \n",
    "                                                    AD.FlightNumber AS `FlightNumberARMS`,\n",
    "                                                    \n",
    "                                                    AD.FlightDate,\n",
    "                                                    \n",
    "                                                    AD.FromCity,\n",
    "                                                    \n",
    "                                                    AD.ToCity,\n",
    "                                                    \n",
    "                                                    AD.BlockTime,\n",
    "                                                    \n",
    "                                                    AD.ECN,\n",
    "                                                    \n",
    "                                                    AD.EmployeeName,\n",
    "                                                    \n",
    "                                                    AD.RANK,\n",
    "                                                    \n",
    "                                                    CAST(AD.ChocksOff AS timestamp) AS ChocksOff,\n",
    "                                                    \n",
    "                                                    CAST(AD.ChocksOn AS timestamp) AS ChocksOn,\n",
    "                                                    \n",
    "                                                    AD.DOMINT,\n",
    "                                                    \n",
    "                                                    AD.AircraftType,\n",
    "                                                    \n",
    "                                                    AD.AircraftModel,  \n",
    "                                                    \n",
    "                                                    AD.Payload,\n",
    "                                                    \n",
    "                                                    RDF.*\n",
    "                                                    \n",
    "                                                    FROM flight_data_join_df_Without_J RDF\n",
    "                                                    \n",
    "                                                    LEFT JOIN MainQueryDF AD ON RDF.FlightNo=AD.DesigFlightNumber\n",
    "                                                    \n",
    "                                                    AND RDF.TailNo = AD.AcRegNo\n",
    "                                                    \n",
    "                                                    AND RDF.Date=AD.UTCFlightDate\n",
    "                                                    \n",
    "                                                    AND RDF.Departure=AD.FromCity\n",
    "                                                    \n",
    "                                                    AND RDF.Arrival=AD.Tocity\n",
    "                                                    \n",
    "                                                    ''')"
   ]
  },
  {
   "cell_type": "code",
   "execution_count": 105,
   "id": "b441ccfe-12c1-41b1-b445-5667b5664174",
   "metadata": {
    "execution": {
     "iopub.execute_input": "2022-12-19T07:01:45.822787Z",
     "iopub.status.busy": "2022-12-19T07:01:45.822500Z",
     "iopub.status.idle": "2022-12-19T07:01:46.083493Z",
     "shell.execute_reply": "2022-12-19T07:01:46.082995Z",
     "shell.execute_reply.started": "2022-12-19T07:01:45.822749Z"
    },
    "tags": []
   },
   "outputs": [
    {
     "data": {
      "application/vnd.jupyter.widget-view+json": {
       "model_id": "3b0d36be58bf435f98fdffdcb964439f",
       "version_major": 2,
       "version_minor": 0
      },
      "text/plain": [
       "VBox()"
      ]
     },
     "metadata": {},
     "output_type": "display_data"
    },
    {
     "data": {
      "application/vnd.jupyter.widget-view+json": {
       "model_id": "",
       "version_major": 2,
       "version_minor": 0
      },
      "text/plain": [
       "FloatProgress(value=0.0, bar_style='info', description='Progress:', layout=Layout(height='25px', width='50%'),…"
      ]
     },
     "metadata": {},
     "output_type": "display_data"
    }
   ],
   "source": [
    "Arms_Join_DF_Without_J.createOrReplaceTempView('Arms_Join_DF_Without_J')"
   ]
  },
  {
   "cell_type": "code",
   "execution_count": 94,
   "id": "19aa1604-54dd-462d-b0f0-a0c45b63f519",
   "metadata": {
    "execution": {
     "iopub.execute_input": "2022-12-19T06:54:11.241730Z",
     "iopub.status.busy": "2022-12-19T06:54:11.241499Z",
     "iopub.status.idle": "2022-12-19T06:54:11.494502Z",
     "shell.execute_reply": "2022-12-19T06:54:11.493979Z",
     "shell.execute_reply.started": "2022-12-19T06:54:11.241706Z"
    },
    "tags": []
   },
   "outputs": [
    {
     "data": {
      "application/vnd.jupyter.widget-view+json": {
       "model_id": "dd7ba7d5b5754b1c965f5b505533b0a8",
       "version_major": 2,
       "version_minor": 0
      },
      "text/plain": [
       "VBox()"
      ]
     },
     "metadata": {},
     "output_type": "display_data"
    },
    {
     "data": {
      "application/vnd.jupyter.widget-view+json": {
       "model_id": "",
       "version_major": 2,
       "version_minor": 0
      },
      "text/plain": [
       "FloatProgress(value=0.0, bar_style='info', description='Progress:', layout=Layout(height='25px', width='50%'),…"
      ]
     },
     "metadata": {},
     "output_type": "display_data"
    }
   ],
   "source": [
    "Arms_Join_DF_With_J_1 = spark.sql('''\n",
    "                                           SELECT\n",
    "                                                    \n",
    "                                                    AD.FlightID,\n",
    "                                                    \n",
    "                                                    AD.DesigFlightNumber,\n",
    "                                                    \n",
    "                                                    AD.FlightNumber AS `FlightNumberARMS`,\n",
    "                                                    \n",
    "                                                    AD.FlightDate,\n",
    "                                                    \n",
    "                                                    AD.FromCity,\n",
    "                                                    \n",
    "                                                    AD.ToCity,\n",
    "                                                    \n",
    "                                                    AD.BlockTime,\n",
    "                                                    \n",
    "                                                    AD.ECN,\n",
    "                                                    \n",
    "                                                    AD.EmployeeName,\n",
    "                                                    \n",
    "                                                    AD.RANK,\n",
    "                                                    \n",
    "                                                    CAST(AD.ChocksOff AS timestamp) AS ChocksOff,\n",
    "                                                    \n",
    "                                                    CAST(AD.ChocksOn AS timestamp) AS ChocksOn,\n",
    "                                                    \n",
    "                                                    AD.DOMINT,\n",
    "                                                    \n",
    "                                                    AD.AircraftType,\n",
    "                                                    \n",
    "                                                    AD.AircraftModel,  \n",
    "                                                    \n",
    "                                                    AD.Payload,\n",
    "                                                    \n",
    "                                                    RDF.*\n",
    "                                                    \n",
    "                                                    FROM UTC_TIMEDATE RDF\n",
    "                                                    \n",
    "                                                    LEFT JOIN MainQueryDF AD ON \n",
    "                                                    \n",
    "                                                    RDF.TailNo = AD.AcRegNo\n",
    "                                                    \n",
    "                                                    AND RDF.Date = AD.UTCFlightDate\n",
    "                                                    \n",
    "                                                    AND RDF.UTC_TIMEDATE BETWEEN (AD.ChocksOff - INTERVAL 345 MINUTES) AND (AD.ChocksOff - INTERVAL 315 MINUTES)\n",
    "                                                    \n",
    "                                                    AND RDF.Departure=AD.FromCity\n",
    "                                                    \n",
    "                                                    AND RDF.Arrival=AD.Tocity\n",
    "                                                                        \n",
    "                                                ''')"
   ]
  },
  {
   "cell_type": "code",
   "execution_count": 97,
   "id": "c58a77b8-6d08-49f2-9815-c900281443af",
   "metadata": {
    "execution": {
     "iopub.execute_input": "2022-12-19T06:55:19.841635Z",
     "iopub.status.busy": "2022-12-19T06:55:19.841409Z",
     "iopub.status.idle": "2022-12-19T06:55:20.091971Z",
     "shell.execute_reply": "2022-12-19T06:55:20.091478Z",
     "shell.execute_reply.started": "2022-12-19T06:55:19.841610Z"
    },
    "tags": []
   },
   "outputs": [
    {
     "data": {
      "application/vnd.jupyter.widget-view+json": {
       "model_id": "e76130aceea14c35ac915938988d56ae",
       "version_major": 2,
       "version_minor": 0
      },
      "text/plain": [
       "VBox()"
      ]
     },
     "metadata": {},
     "output_type": "display_data"
    },
    {
     "data": {
      "application/vnd.jupyter.widget-view+json": {
       "model_id": "",
       "version_major": 2,
       "version_minor": 0
      },
      "text/plain": [
       "FloatProgress(value=0.0, bar_style='info', description='Progress:', layout=Layout(height='25px', width='50%'),…"
      ]
     },
     "metadata": {},
     "output_type": "display_data"
    }
   ],
   "source": [
    "Arms_Join_DF_With_J_1.createOrReplaceTempView('Arms_Join_DF_With_J_1')"
   ]
  },
  {
   "cell_type": "code",
   "execution_count": 106,
   "id": "74ca3cbd-d86d-4e30-a286-472d8cd654ef",
   "metadata": {
    "execution": {
     "iopub.execute_input": "2022-12-19T07:01:54.302414Z",
     "iopub.status.busy": "2022-12-19T07:01:54.302193Z",
     "iopub.status.idle": "2022-12-19T07:01:54.347728Z",
     "shell.execute_reply": "2022-12-19T07:01:54.347241Z",
     "shell.execute_reply.started": "2022-12-19T07:01:54.302391Z"
    },
    "tags": []
   },
   "outputs": [
    {
     "data": {
      "application/vnd.jupyter.widget-view+json": {
       "model_id": "34014644c8c94931849d712303dbf9a6",
       "version_major": 2,
       "version_minor": 0
      },
      "text/plain": [
       "VBox()"
      ]
     },
     "metadata": {},
     "output_type": "display_data"
    },
    {
     "data": {
      "application/vnd.jupyter.widget-view+json": {
       "model_id": "",
       "version_major": 2,
       "version_minor": 0
      },
      "text/plain": [
       "FloatProgress(value=0.0, bar_style='info', description='Progress:', layout=Layout(height='25px', width='50%'),…"
      ]
     },
     "metadata": {},
     "output_type": "display_data"
    }
   ],
   "source": [
    "#Arms_Join_DF_With_J_1.printSchema()"
   ]
  },
  {
   "cell_type": "code",
   "execution_count": 104,
   "id": "d99ef74f-618d-42bb-bd08-a7392e69edc1",
   "metadata": {
    "execution": {
     "iopub.execute_input": "2022-12-19T07:01:16.105291Z",
     "iopub.status.busy": "2022-12-19T07:01:16.105060Z",
     "iopub.status.idle": "2022-12-19T07:01:16.156537Z",
     "shell.execute_reply": "2022-12-19T07:01:16.156054Z",
     "shell.execute_reply.started": "2022-12-19T07:01:16.105267Z"
    },
    "tags": []
   },
   "outputs": [
    {
     "data": {
      "application/vnd.jupyter.widget-view+json": {
       "model_id": "13afd3ec7cf94da3a21dd97167582a3f",
       "version_major": 2,
       "version_minor": 0
      },
      "text/plain": [
       "VBox()"
      ]
     },
     "metadata": {},
     "output_type": "display_data"
    },
    {
     "data": {
      "application/vnd.jupyter.widget-view+json": {
       "model_id": "",
       "version_major": 2,
       "version_minor": 0
      },
      "text/plain": [
       "FloatProgress(value=0.0, bar_style='info', description='Progress:', layout=Layout(height='25px', width='50%'),…"
      ]
     },
     "metadata": {},
     "output_type": "display_data"
    }
   ],
   "source": [
    "Arms_Join_DF_With_J = spark.sql('''\n",
    "                SELECT \n",
    "                    FlightID, \n",
    "                     DesigFlightNumber, \n",
    "                     FlightNumberARMS, \n",
    "                     FlightDate, \n",
    "                     FromCity, \n",
    "                     ToCity, \n",
    "                     BlockTime, \n",
    "                     ECN, \n",
    "                     EmployeeName, \n",
    "                     RANK, \n",
    "                     ChocksOff, \n",
    "                     ChocksOn, \n",
    "                     DOMINT, \n",
    "                     AircraftType, \n",
    "                     AircraftModel, \n",
    "                     Payload, \n",
    "                     TailNo, \n",
    "                     Departure, \n",
    "                     Arrival, \n",
    "                     FlightNo, \n",
    "                     Date, \n",
    "                     `Time-In-Secs`,\n",
    "                     `Time-Per-Sec`, \n",
    "                     `BARO-CORRECTED-PALT-DERIVED`, \n",
    "                     `Altitude-BaroL`, \n",
    "                     `HEADING-MAGNETIC`, \n",
    "                     `PITCH-ANGLE`, \n",
    "                     `ROLL-ANGLE`, \n",
    "                     `RAD-ALT`, \n",
    "                     `WOW-NLG`, \n",
    "                     `WOW-MLG`, \n",
    "                     `ACCN-NORMAL`, \n",
    "                     `ACCN-LATERAL`, \n",
    "                     `ACCN-LONGITUDINAL`, \n",
    "                     `AIRSPEED-CAS-L`, \n",
    "                     `AFCS-SEL-AIRSPEED`, \n",
    "                     `VERTICAL-SPEED-Derived`, \n",
    "                     `FMS-GROUNDSPEED`, \n",
    "                     `FLAP-CONTROL-POS-Gated`, \n",
    "                     `FLAP-POSITION`, \n",
    "                     `PLA-1`, \n",
    "                     `PLA-2`, \n",
    "                     `TORQUE-1`, \n",
    "                     `TORQUE-2`, \n",
    "                     `CLA-1`, \n",
    "                     `CLA-2`, \n",
    "                     `NP-1`, \n",
    "                     `NP-2`, \n",
    "                     `EGPWS-ALERT-WARNING`, \n",
    "                     `EGPWS-GS-ALERT`, \n",
    "                     `AFCS-GS-MODE`, \n",
    "                     `AFCS-LOC-MODE`, \n",
    "                     `AFCS-VOR-MODE`, \n",
    "                     `ILS-GS-DEV-1`, \n",
    "                     `ILS-GS-DEV-2`, \n",
    "                     `FUEL-FLOW-2-kg-h`, \n",
    "                     `FUEL-FLOW-1-kg-h`, \n",
    "                     `DME-DISTANCE-1`, \n",
    "                     `DME-DISTANCE-2`, \n",
    "                     `VOR-FREQ-1`, \n",
    "                     `VOR-FREQ-2`, \n",
    "                     `FMS-WIND-ANGLE`, \n",
    "                     `FMS-WIND-SPEED`, \n",
    "                     `BRAKE-PRESS-LEFT`, \n",
    "                     `BRAKE-PRESS-RIGHT`, \n",
    "                     `PROP-BETA-RANGE-1`, \n",
    "                     `PROP-BETA-RANGE-2`, \n",
    "                     `AP-ENGAGED`, \n",
    "                     FileName, \n",
    "                     Time, \n",
    "                     `Time-Per-Sec-1`, \n",
    "                     LoadedDate,\n",
    "                     LoadedBy, \n",
    "                     DataFrameName, \n",
    "                     year, \n",
    "                     month\n",
    "\n",
    "                    FROM Arms_Join_DF_With_J_1\n",
    "\n",
    "''')"
   ]
  },
  {
   "cell_type": "code",
   "execution_count": 92,
   "id": "f5536aba-7c7e-49c3-905f-cd01fdb156f9",
   "metadata": {
    "execution": {
     "iopub.execute_input": "2022-12-19T06:50:34.819341Z",
     "iopub.status.busy": "2022-12-19T06:50:34.819114Z",
     "iopub.status.idle": "2022-12-19T06:50:34.866464Z",
     "shell.execute_reply": "2022-12-19T06:50:34.865978Z",
     "shell.execute_reply.started": "2022-12-19T06:50:34.819317Z"
    },
    "tags": []
   },
   "outputs": [
    {
     "data": {
      "application/vnd.jupyter.widget-view+json": {
       "model_id": "095751439ac747d686785ebd8758438c",
       "version_major": 2,
       "version_minor": 0
      },
      "text/plain": [
       "VBox()"
      ]
     },
     "metadata": {},
     "output_type": "display_data"
    },
    {
     "data": {
      "application/vnd.jupyter.widget-view+json": {
       "model_id": "",
       "version_major": 2,
       "version_minor": 0
      },
      "text/plain": [
       "FloatProgress(value=0.0, bar_style='info', description='Progress:', layout=Layout(height='25px', width='50%'),…"
      ]
     },
     "metadata": {},
     "output_type": "display_data"
    }
   ],
   "source": [
    "#spark.sql(\"\"\"SELECT current_timestamp() - INTERVAL 1 MINUTE, current_timestamp() + INTERVAL 1 MINUTE\"\"\").show(truncate = False)"
   ]
  },
  {
   "cell_type": "code",
   "execution_count": 107,
   "id": "143f601e-001a-45ab-afb3-7c3541a16c19",
   "metadata": {
    "execution": {
     "iopub.execute_input": "2022-12-19T07:02:21.581549Z",
     "iopub.status.busy": "2022-12-19T07:02:21.581310Z",
     "iopub.status.idle": "2022-12-19T07:02:21.830210Z",
     "shell.execute_reply": "2022-12-19T07:02:21.829723Z",
     "shell.execute_reply.started": "2022-12-19T07:02:21.581523Z"
    }
   },
   "outputs": [
    {
     "data": {
      "application/vnd.jupyter.widget-view+json": {
       "model_id": "42b50ef5a5c346059b70e73009e9f4d8",
       "version_major": 2,
       "version_minor": 0
      },
      "text/plain": [
       "VBox()"
      ]
     },
     "metadata": {},
     "output_type": "display_data"
    },
    {
     "data": {
      "application/vnd.jupyter.widget-view+json": {
       "model_id": "",
       "version_major": 2,
       "version_minor": 0
      },
      "text/plain": [
       "FloatProgress(value=0.0, bar_style='info', description='Progress:', layout=Layout(height='25px', width='50%'),…"
      ]
     },
     "metadata": {},
     "output_type": "display_data"
    }
   ],
   "source": [
    "Arms_Join_DF_With_J.createOrReplaceTempView('Arms_Join_DF_With_J')"
   ]
  },
  {
   "cell_type": "code",
   "execution_count": 114,
   "id": "e0bb14a0-6629-44a4-b8c6-7e9b2db3f543",
   "metadata": {
    "execution": {
     "iopub.execute_input": "2022-12-19T07:29:58.718185Z",
     "iopub.status.busy": "2022-12-19T07:29:58.717949Z",
     "iopub.status.idle": "2022-12-19T07:30:29.064983Z",
     "shell.execute_reply": "2022-12-19T07:30:29.064398Z",
     "shell.execute_reply.started": "2022-12-19T07:29:58.718160Z"
    }
   },
   "outputs": [
    {
     "data": {
      "application/vnd.jupyter.widget-view+json": {
       "model_id": "74713a3b2c9e47adbf69893ea177cfe1",
       "version_major": 2,
       "version_minor": 0
      },
      "text/plain": [
       "VBox()"
      ]
     },
     "metadata": {},
     "output_type": "display_data"
    },
    {
     "data": {
      "application/vnd.jupyter.widget-view+json": {
       "model_id": "",
       "version_major": 2,
       "version_minor": 0
      },
      "text/plain": [
       "FloatProgress(value=0.0, bar_style='info', description='Progress:', layout=Layout(height='25px', width='50%'),…"
      ]
     },
     "metadata": {},
     "output_type": "display_data"
    },
    {
     "name": "stdout",
     "output_type": "stream",
     "text": [
      "+--------+-----------------+----------------+----------+--------+------+---------+------+----------------+-----+-------------------+-------------------+------+------------+-------------+-------+------+---------+-------+--------+----------+------------+------------+---------------------------+--------------+----------------+-----------+----------+-------+----------+----------+-----------+------------+-----------------+--------------+-----------------+----------------------+---------------+----------------------+-------------+-----+-----+--------+--------+-----+-----+----+----+-------------------+--------------+--------------+--------------+--------------+------------+------------+----------------+----------------+--------------+--------------+----------+----------+--------------+--------------+----------------+-----------------+-----------------+-----------------+--------------+--------------------+------+--------------+--------------------+------------+-------------+----+--------+\n",
      "|FlightID|DesigFlightNumber|FlightNumberARMS|FlightDate|FromCity|ToCity|BlockTime|   ECN|    EmployeeName| RANK|          ChocksOff|           ChocksOn|DOMINT|AircraftType|AircraftModel|Payload|TailNo|Departure|Arrival|FlightNo|      Date|Time-In-Secs|Time-Per-Sec|BARO-CORRECTED-PALT-DERIVED|Altitude-BaroL|HEADING-MAGNETIC|PITCH-ANGLE|ROLL-ANGLE|RAD-ALT|   WOW-NLG|   WOW-MLG|ACCN-NORMAL|ACCN-LATERAL|ACCN-LONGITUDINAL|AIRSPEED-CAS-L|AFCS-SEL-AIRSPEED|VERTICAL-SPEED-Derived|FMS-GROUNDSPEED|FLAP-CONTROL-POS-Gated|FLAP-POSITION|PLA-1|PLA-2|TORQUE-1|TORQUE-2|CLA-1|CLA-2|NP-1|NP-2|EGPWS-ALERT-WARNING|EGPWS-GS-ALERT|  AFCS-GS-MODE| AFCS-LOC-MODE| AFCS-VOR-MODE|ILS-GS-DEV-1|ILS-GS-DEV-2|FUEL-FLOW-2-kg-h|FUEL-FLOW-1-kg-h|DME-DISTANCE-1|DME-DISTANCE-2|VOR-FREQ-1|VOR-FREQ-2|FMS-WIND-ANGLE|FMS-WIND-SPEED|BRAKE-PRESS-LEFT|BRAKE-PRESS-RIGHT|PROP-BETA-RANGE-1|PROP-BETA-RANGE-2|    AP-ENGAGED|            FileName|  Time|Time-Per-Sec-1|          LoadedDate|    LoadedBy|DataFrameName|year|   month|\n",
      "+--------+-----------------+----------------+----------+--------+------+---------+------+----------------+-----+-------------------+-------------------+------+------------+-------------+-------+------+---------+-------+--------+----------+------------+------------+---------------------------+--------------+----------------+-----------+----------+-------+----------+----------+-----------+------------+-----------------+--------------+-----------------+----------------------+---------------+----------------------+-------------+-----+-----+--------+--------+-----+-----+----+----+-------------------+--------------+--------------+--------------+--------------+------------+------------+----------------+----------------+--------------+--------------+----------+----------+--------------+--------------+----------------+-----------------+-----------------+-----------------+--------------+--------------------+------+--------------+--------------------+------------+-------------+----+--------+\n",
      "| 2973917|          SG 2344|            2344|2022-12-09|     JAI|   DEL| 01:00:00|116479|KANISHKA  SHARMA|CAPT.|2022-12-09 06:20:00|2022-12-09 07:20:00|   DOM|         DHC|         DHC-|    Pax|VT-SQG|      JAI|    DEL| SG 2J44|2022-12-09|         0.0|        4951|                          0|          1192|             264|      D 0.9|     L 0.3|      0|GROUND (1)|GROUND (1)|      0.997|      R 0.00|            -0.01|           0.0|                0|                  1192|              0|                     0|          0.1| 19.9| 19.7|       0|       0|   -1|   -0|   0|   0|       NO ALERT (0)|  NO ALERT (0)|Not Active (0)|Not Active (0)|Not Active (0)|        0.00|        0.00|               0|               0|          null|          null|      null|      null|          null|          null|              14|                0|      FORWARD (0)|      FORWARD (0)|DISENGAGED (0)|ALL ac=VT-SQG dep...|004951|      00:49:51|2022-12-19 07:29:...|precog-spark|      512 WPS|2022|December|\n",
      "| 2973917|          SG 2344|            2344|2022-12-09|     JAI|   DEL| 01:00:00|116479|KANISHKA  SHARMA|CAPT.|2022-12-09 06:20:00|2022-12-09 07:20:00|   DOM|         DHC|         DHC-|    Pax|VT-SQG|      JAI|    DEL| SG 2J44|2022-12-09|       0.125|        null|                       null|          null|            null|       null|      null|   null|      null|      null|      0.997|        null|             null|          null|             null|                  null|           null|                  null|         null| null| null|    null|    null| null| null|null|null|               null|          null|          null|          null|          null|        null|        null|            null|            null|          null|          null|      null|      null|          null|          null|            null|             null|             null|             null|          null|ALL ac=VT-SQG dep...|  null|          null|2022-12-19 07:29:...|precog-spark|      512 WPS|2022|December|\n",
      "| 2973917|          SG 2344|            2344|2022-12-09|     JAI|   DEL| 01:00:00|116479|KANISHKA  SHARMA|CAPT.|2022-12-09 06:20:00|2022-12-09 07:20:00|   DOM|         DHC|         DHC-|    Pax|VT-SQG|      JAI|    DEL| SG 2J44|2022-12-09|        0.25|        null|                       null|          null|            null|      D 0.9|      null|   null|      null|GROUND (1)|      0.997|      R 0.00|            -0.02|          null|             null|                  null|           null|                  null|         null| null| null|    null|    null| null| null|null|null|               null|          null|          null|          null|          null|        null|        null|            null|            null|          null|          null|      null|      null|          null|          null|            null|             null|             null|             null|          null|ALL ac=VT-SQG dep...|  null|          null|2022-12-19 07:29:...|precog-spark|      512 WPS|2022|December|\n",
      "| 2973917|          SG 2344|            2344|2022-12-09|     JAI|   DEL| 01:00:00|116479|KANISHKA  SHARMA|CAPT.|2022-12-09 06:20:00|2022-12-09 07:20:00|   DOM|         DHC|         DHC-|    Pax|VT-SQG|      JAI|    DEL| SG 2J44|2022-12-09|       0.375|        null|                       null|          null|            null|       null|      null|   null|      null|      null|      0.997|        null|             null|          null|             null|                  null|           null|                  null|         null| null| null|    null|    null| null| null|null|null|               null|          null|          null|          null|          null|        null|        null|            null|            null|          null|          null|      null|      null|          null|          null|            null|             null|             null|             null|          null|ALL ac=VT-SQG dep...|  null|          null|2022-12-19 07:29:...|precog-spark|      512 WPS|2022|December|\n",
      "| 2973917|          SG 2344|            2344|2022-12-09|     JAI|   DEL| 01:00:00|116479|KANISHKA  SHARMA|CAPT.|2022-12-09 06:20:00|2022-12-09 07:20:00|   DOM|         DHC|         DHC-|    Pax|VT-SQG|      JAI|    DEL| SG 2J44|2022-12-09|         0.5|        null|                       null|          null|            null|      D 0.9|     L 0.3|   null|      null|GROUND (1)|      0.997|      R 0.00|            -0.01|          null|             null|                  null|              0|                  null|         null| null| null|    null|    null| null| null|null|null|               null|          null|          null|          null|          null|        null|        null|            null|            null|          null|          null|      null|      null|          null|          null|            null|             null|             null|             null|          null|ALL ac=VT-SQG dep...|  null|          null|2022-12-19 07:29:...|precog-spark|      512 WPS|2022|December|\n",
      "| 2973917|          SG 2344|            2344|2022-12-09|     JAI|   DEL| 01:00:00|116479|KANISHKA  SHARMA|CAPT.|2022-12-09 06:20:00|2022-12-09 07:20:00|   DOM|         DHC|         DHC-|    Pax|VT-SQG|      JAI|    DEL| SG 2J44|2022-12-09|       0.625|        null|                       null|          null|            null|       null|      null|   null|      null|      null|      0.997|        null|             null|          null|             null|                  null|           null|                  null|         null| null| null|    null|    null| null| null|null|null|               null|          null|          null|          null|          null|        null|        null|            null|            null|          null|          null|      null|      null|          null|          null|            null|             null|             null|             null|          null|ALL ac=VT-SQG dep...|  null|          null|2022-12-19 07:29:...|precog-spark|      512 WPS|2022|December|\n",
      "| 2973917|          SG 2344|            2344|2022-12-09|     JAI|   DEL| 01:00:00|116479|KANISHKA  SHARMA|CAPT.|2022-12-09 06:20:00|2022-12-09 07:20:00|   DOM|         DHC|         DHC-|    Pax|VT-SQG|      JAI|    DEL| SG 2J44|2022-12-09|        0.75|        null|                       null|          null|            null|      D 0.9|      null|   null|      null|GROUND (1)|      0.997|      R 0.00|            -0.01|          null|             null|                  null|           null|                  null|         null| null| null|    null|    null| null| null|null|null|               null|          null|          null|          null|          null|        null|        null|            null|            null|          null|          null|      null|      null|          null|          null|            null|             null|             null|             null|          null|ALL ac=VT-SQG dep...|  null|          null|2022-12-19 07:29:...|precog-spark|      512 WPS|2022|December|\n",
      "| 2973917|          SG 2344|            2344|2022-12-09|     JAI|   DEL| 01:00:00|116479|KANISHKA  SHARMA|CAPT.|2022-12-09 06:20:00|2022-12-09 07:20:00|   DOM|         DHC|         DHC-|    Pax|VT-SQG|      JAI|    DEL| SG 2J44|2022-12-09|       0.875|        null|                       null|          null|            null|       null|      null|   null|      null|      null|      0.997|        null|             null|          null|             null|                  null|           null|                  null|         null| null| null|    null|    null| null| null|null|null|               null|          null|          null|          null|          null|        null|        null|            null|            null|          null|          null|      null|      null|          null|          null|            null|             null|             null|             null|          null|ALL ac=VT-SQG dep...|  null|          null|2022-12-19 07:29:...|precog-spark|      512 WPS|2022|December|\n",
      "| 2973917|          SG 2344|            2344|2022-12-09|     JAI|   DEL| 01:00:00|116479|KANISHKA  SHARMA|CAPT.|2022-12-09 06:20:00|2022-12-09 07:20:00|   DOM|         DHC|         DHC-|    Pax|VT-SQG|      JAI|    DEL| SG 2J44|2022-12-09|         1.0|        null|                          0|          1192|             264|      D 0.9|     L 0.3|      0|GROUND (1)|GROUND (1)|      0.997|      R 0.01|            -0.01|           0.0|                0|                  1192|              0|                  null|         null| 19.9| 19.7|       0|       0|   -1|   35|   0|   0|       NO ALERT (0)|  NO ALERT (0)|Not Active (0)|Not Active (0)|Not Active (0)|      * 0.00|      * 0.00|               0|               0|           1.5|           1.5|    100.00|      null|          null|          null|              14|                0|      FORWARD (0)|      FORWARD (0)|DISENGAGED (0)|ALL ac=VT-SQG dep...|  null|          null|2022-12-19 07:29:...|precog-spark|      512 WPS|2022|December|\n",
      "| 2973917|          SG 2344|            2344|2022-12-09|     JAI|   DEL| 01:00:00|116479|KANISHKA  SHARMA|CAPT.|2022-12-09 06:20:00|2022-12-09 07:20:00|   DOM|         DHC|         DHC-|    Pax|VT-SQG|      JAI|    DEL| SG 2J44|2022-12-09|       1.125|        null|                       null|          null|            null|       null|      null|   null|      null|      null|      0.997|        null|             null|          null|             null|                  null|           null|                  null|         null| null| null|    null|    null| null| null|null|null|               null|          null|          null|          null|          null|        null|        null|            null|            null|          null|          null|      null|      null|          null|          null|            null|             null|             null|             null|          null|ALL ac=VT-SQG dep...|  null|          null|2022-12-19 07:29:...|precog-spark|      512 WPS|2022|December|\n",
      "| 2973917|          SG 2344|            2344|2022-12-09|     JAI|   DEL| 01:00:00|116479|KANISHKA  SHARMA|CAPT.|2022-12-09 06:20:00|2022-12-09 07:20:00|   DOM|         DHC|         DHC-|    Pax|VT-SQG|      JAI|    DEL| SG 2J44|2022-12-09|        1.25|        null|                       null|          null|            null|      D 0.9|      null|   null|      null|GROUND (1)|      0.997|      R 0.00|            -0.01|          null|             null|                  null|           null|                  null|         null| null| null|    null|    null| null| null|null|null|               null|          null|          null|          null|          null|        null|        null|            null|            null|          null|          null|      null|      null|          null|          null|            null|             null|             null|             null|          null|ALL ac=VT-SQG dep...|  null|          null|2022-12-19 07:29:...|precog-spark|      512 WPS|2022|December|\n",
      "| 2973917|          SG 2344|            2344|2022-12-09|     JAI|   DEL| 01:00:00|116479|KANISHKA  SHARMA|CAPT.|2022-12-09 06:20:00|2022-12-09 07:20:00|   DOM|         DHC|         DHC-|    Pax|VT-SQG|      JAI|    DEL| SG 2J44|2022-12-09|       1.375|        null|                       null|          null|            null|       null|      null|   null|      null|      null|      0.997|        null|             null|          null|             null|                  null|           null|                  null|         null| null| null|    null|    null| null| null|null|null|               null|          null|          null|          null|          null|        null|        null|            null|            null|          null|          null|      null|      null|          null|          null|            null|             null|             null|             null|          null|ALL ac=VT-SQG dep...|  null|          null|2022-12-19 07:29:...|precog-spark|      512 WPS|2022|December|\n",
      "| 2973917|          SG 2344|            2344|2022-12-09|     JAI|   DEL| 01:00:00|116479|KANISHKA  SHARMA|CAPT.|2022-12-09 06:20:00|2022-12-09 07:20:00|   DOM|         DHC|         DHC-|    Pax|VT-SQG|      JAI|    DEL| SG 2J44|2022-12-09|         1.5|        null|                       null|          null|            null|      D 0.9|     L 0.3|   null|      null|GROUND (1)|      0.997|      R 0.01|            -0.01|          null|             null|                  null|              0|                  null|         null| null| null|    null|    null| null| null|null|null|               null|          null|          null|          null|          null|        null|        null|            null|            null|          null|          null|      null|      null|          null|          null|            null|             null|             null|             null|          null|ALL ac=VT-SQG dep...|  null|          null|2022-12-19 07:29:...|precog-spark|      512 WPS|2022|December|\n",
      "| 2973917|          SG 2344|            2344|2022-12-09|     JAI|   DEL| 01:00:00|116479|KANISHKA  SHARMA|CAPT.|2022-12-09 06:20:00|2022-12-09 07:20:00|   DOM|         DHC|         DHC-|    Pax|VT-SQG|      JAI|    DEL| SG 2J44|2022-12-09|       1.625|        null|                       null|          null|            null|       null|      null|   null|      null|      null|      0.997|        null|             null|          null|             null|                  null|           null|                  null|         null| null| null|    null|    null| null| null|null|null|               null|          null|          null|          null|          null|        null|        null|            null|            null|          null|          null|      null|      null|          null|          null|            null|             null|             null|             null|          null|ALL ac=VT-SQG dep...|  null|          null|2022-12-19 07:29:...|precog-spark|      512 WPS|2022|December|\n",
      "| 2973917|          SG 2344|            2344|2022-12-09|     JAI|   DEL| 01:00:00|116479|KANISHKA  SHARMA|CAPT.|2022-12-09 06:20:00|2022-12-09 07:20:00|   DOM|         DHC|         DHC-|    Pax|VT-SQG|      JAI|    DEL| SG 2J44|2022-12-09|        1.75|        null|                       null|          null|            null|      D 0.9|      null|   null|      null|GROUND (1)|      0.997|      R 0.00|            -0.01|          null|             null|                  null|           null|                  null|         null| null| null|    null|    null| null| null|null|null|               null|          null|          null|          null|          null|        null|        null|            null|            null|          null|          null|      null|      null|          null|          null|            null|             null|             null|             null|          null|ALL ac=VT-SQG dep...|  null|          null|2022-12-19 07:29:...|precog-spark|      512 WPS|2022|December|\n",
      "| 2973917|          SG 2344|            2344|2022-12-09|     JAI|   DEL| 01:00:00|116479|KANISHKA  SHARMA|CAPT.|2022-12-09 06:20:00|2022-12-09 07:20:00|   DOM|         DHC|         DHC-|    Pax|VT-SQG|      JAI|    DEL| SG 2J44|2022-12-09|       1.875|        null|                       null|          null|            null|       null|      null|   null|      null|      null|      0.993|        null|             null|          null|             null|                  null|           null|                  null|         null| null| null|    null|    null| null| null|null|null|               null|          null|          null|          null|          null|        null|        null|            null|            null|          null|          null|      null|      null|          null|          null|            null|             null|             null|             null|          null|ALL ac=VT-SQG dep...|  null|          null|2022-12-19 07:29:...|precog-spark|      512 WPS|2022|December|\n",
      "| 2973917|          SG 2344|            2344|2022-12-09|     JAI|   DEL| 01:00:00|116479|KANISHKA  SHARMA|CAPT.|2022-12-09 06:20:00|2022-12-09 07:20:00|   DOM|         DHC|         DHC-|    Pax|VT-SQG|      JAI|    DEL| SG 2J44|2022-12-09|         2.0|        null|                       1270|          1192|             264|      D 0.9|     L 0.3|      0|GROUND (1)|GROUND (1)|      0.997|      R 0.00|            -0.02|           0.0|                0|                  1192|              0|                     0|          0.1| 19.9| 19.7|       0|       0|   -1|   35|   0|   0|       NO ALERT (0)|  NO ALERT (0)|Not Active (0)|Not Active (0)|Not Active (0)|      * 0.00|      * 0.00|               0|               0|          null|          null|      null|      null|             0|             0|              14|                0|      FORWARD (0)|      FORWARD (0)|DISENGAGED (0)|ALL ac=VT-SQG dep...|  null|          null|2022-12-19 07:29:...|precog-spark|      512 WPS|2022|December|\n",
      "| 2973917|          SG 2344|            2344|2022-12-09|     JAI|   DEL| 01:00:00|116479|KANISHKA  SHARMA|CAPT.|2022-12-09 06:20:00|2022-12-09 07:20:00|   DOM|         DHC|         DHC-|    Pax|VT-SQG|      JAI|    DEL| SG 2J44|2022-12-09|       2.125|        null|                       null|          null|            null|       null|      null|   null|      null|      null|      0.997|        null|             null|          null|             null|                  null|           null|                  null|         null| null| null|    null|    null| null| null|null|null|               null|          null|          null|          null|          null|        null|        null|            null|            null|          null|          null|      null|      null|          null|          null|            null|             null|             null|             null|          null|ALL ac=VT-SQG dep...|  null|          null|2022-12-19 07:29:...|precog-spark|      512 WPS|2022|December|\n",
      "| 2973917|          SG 2344|            2344|2022-12-09|     JAI|   DEL| 01:00:00|116479|KANISHKA  SHARMA|CAPT.|2022-12-09 06:20:00|2022-12-09 07:20:00|   DOM|         DHC|         DHC-|    Pax|VT-SQG|      JAI|    DEL| SG 2J44|2022-12-09|        2.25|        null|                       null|          null|            null|      D 0.9|      null|   null|      null|GROUND (1)|      0.997|      R 0.01|            -0.01|          null|             null|                  null|           null|                  null|         null| null| null|    null|    null| null| null|null|null|               null|          null|          null|          null|          null|        null|        null|            null|            null|          null|          null|      null|      null|          null|          null|            null|             null|             null|             null|          null|ALL ac=VT-SQG dep...|  null|          null|2022-12-19 07:29:...|precog-spark|      512 WPS|2022|December|\n",
      "| 2973917|          SG 2344|            2344|2022-12-09|     JAI|   DEL| 01:00:00|116479|KANISHKA  SHARMA|CAPT.|2022-12-09 06:20:00|2022-12-09 07:20:00|   DOM|         DHC|         DHC-|    Pax|VT-SQG|      JAI|    DEL| SG 2J44|2022-12-09|       2.375|        null|                       null|          null|            null|       null|      null|   null|      null|      null|      0.997|        null|             null|          null|             null|                  null|           null|                  null|         null| null| null|    null|    null| null| null|null|null|               null|          null|          null|          null|          null|        null|        null|            null|            null|          null|          null|      null|      null|          null|          null|            null|             null|             null|             null|          null|ALL ac=VT-SQG dep...|  null|          null|2022-12-19 07:29:...|precog-spark|      512 WPS|2022|December|\n",
      "+--------+-----------------+----------------+----------+--------+------+---------+------+----------------+-----+-------------------+-------------------+------+------------+-------------+-------+------+---------+-------+--------+----------+------------+------------+---------------------------+--------------+----------------+-----------+----------+-------+----------+----------+-----------+------------+-----------------+--------------+-----------------+----------------------+---------------+----------------------+-------------+-----+-----+--------+--------+-----+-----+----+----+-------------------+--------------+--------------+--------------+--------------+------------+------------+----------------+----------------+--------------+--------------+----------+----------+--------------+--------------+----------------+-----------------+-----------------+-----------------+--------------+--------------------+------+--------------+--------------------+------------+-------------+----+--------+\n",
      "only showing top 20 rows"
     ]
    }
   ],
   "source": [
    "Arms_Join_DF_With_J.show()"
   ]
  },
  {
   "cell_type": "code",
   "execution_count": 109,
   "id": "31c0a266-eeed-46b0-aa80-23c21166a9ec",
   "metadata": {
    "execution": {
     "iopub.execute_input": "2022-12-19T07:03:42.886352Z",
     "iopub.status.busy": "2022-12-19T07:03:42.886117Z",
     "iopub.status.idle": "2022-12-19T07:03:43.136810Z",
     "shell.execute_reply": "2022-12-19T07:03:43.136314Z",
     "shell.execute_reply.started": "2022-12-19T07:03:42.886328Z"
    },
    "tags": []
   },
   "outputs": [
    {
     "data": {
      "application/vnd.jupyter.widget-view+json": {
       "model_id": "a4c6e46ea6a04757b7576c3c343822b6",
       "version_major": 2,
       "version_minor": 0
      },
      "text/plain": [
       "VBox()"
      ]
     },
     "metadata": {},
     "output_type": "display_data"
    },
    {
     "data": {
      "application/vnd.jupyter.widget-view+json": {
       "model_id": "",
       "version_major": 2,
       "version_minor": 0
      },
      "text/plain": [
       "FloatProgress(value=0.0, bar_style='info', description='Progress:', layout=Layout(height='25px', width='50%'),…"
      ]
     },
     "metadata": {},
     "output_type": "display_data"
    }
   ],
   "source": [
    "Arms_Join_DF = spark.sql('''\n",
    "\n",
    "                SELECT * FROM Arms_Join_DF_Without_J\n",
    "                \n",
    "                UNION\n",
    "                 \n",
    "                SELECT * FROM Arms_Join_DF_With_J\n",
    "                \n",
    "\n",
    "''')"
   ]
  },
  {
   "cell_type": "code",
   "execution_count": 110,
   "id": "5bf8d8c4-54c5-486d-a767-f1062889ed20",
   "metadata": {
    "execution": {
     "iopub.execute_input": "2022-12-19T07:04:01.978898Z",
     "iopub.status.busy": "2022-12-19T07:04:01.978640Z",
     "iopub.status.idle": "2022-12-19T07:04:02.228797Z",
     "shell.execute_reply": "2022-12-19T07:04:02.228289Z",
     "shell.execute_reply.started": "2022-12-19T07:04:01.978872Z"
    }
   },
   "outputs": [
    {
     "data": {
      "application/vnd.jupyter.widget-view+json": {
       "model_id": "1562167441ec47ce87a282e5022c40a5",
       "version_major": 2,
       "version_minor": 0
      },
      "text/plain": [
       "VBox()"
      ]
     },
     "metadata": {},
     "output_type": "display_data"
    },
    {
     "data": {
      "application/vnd.jupyter.widget-view+json": {
       "model_id": "",
       "version_major": 2,
       "version_minor": 0
      },
      "text/plain": [
       "FloatProgress(value=0.0, bar_style='info', description='Progress:', layout=Layout(height='25px', width='50%'),…"
      ]
     },
     "metadata": {},
     "output_type": "display_data"
    }
   ],
   "source": [
    "Arms_Join_DF.createOrReplaceTempView('Arms_Join_DF')"
   ]
  },
  {
   "cell_type": "code",
   "execution_count": 112,
   "id": "c026365b-4f8f-4801-b8ce-9ec9d5a92361",
   "metadata": {
    "execution": {
     "iopub.execute_input": "2022-12-19T07:05:48.069982Z",
     "iopub.status.busy": "2022-12-19T07:05:48.069743Z",
     "iopub.status.idle": "2022-12-19T07:06:14.769609Z",
     "shell.execute_reply": "2022-12-19T07:06:14.736869Z",
     "shell.execute_reply.started": "2022-12-19T07:05:48.069958Z"
    },
    "tags": []
   },
   "outputs": [
    {
     "data": {
      "application/vnd.jupyter.widget-view+json": {
       "model_id": "c97ba99e4b53428085b274224e0c06db",
       "version_major": 2,
       "version_minor": 0
      },
      "text/plain": [
       "VBox()"
      ]
     },
     "metadata": {},
     "output_type": "display_data"
    },
    {
     "data": {
      "application/vnd.jupyter.widget-view+json": {
       "model_id": "",
       "version_major": 2,
       "version_minor": 0
      },
      "text/plain": [
       "FloatProgress(value=0.0, bar_style='info', description='Progress:', layout=Layout(height='25px', width='50%'),…"
      ]
     },
     "metadata": {},
     "output_type": "display_data"
    },
    {
     "name": "stdout",
     "output_type": "stream",
     "text": [
      "48"
     ]
    }
   ],
   "source": [
    "spark.sql('''\n",
    "\n",
    "                SELECT Distinct filename\n",
    "                \n",
    "                FROM Arms_Join_DF\n",
    "\n",
    "\n",
    "''')"
   ]
  },
  {
   "cell_type": "code",
   "execution_count": null,
   "id": "9565a773-b599-45b9-ab3b-09db9848ca02",
   "metadata": {},
   "outputs": [],
   "source": []
  }
 ],
 "metadata": {
  "kernelspec": {
   "display_name": "PySpark",
   "language": "",
   "name": "pysparkkernel"
  },
  "language_info": {
   "codemirror_mode": {
    "name": "python",
    "version": 3
   },
   "mimetype": "text/x-python",
   "name": "pyspark",
   "pygments_lexer": "python3"
  }
 },
 "nbformat": 4,
 "nbformat_minor": 5
}
