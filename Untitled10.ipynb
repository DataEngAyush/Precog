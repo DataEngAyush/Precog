{
 "cells": [
  {
   "cell_type": "code",
   "execution_count": null,
   "id": "f6304554-5e28-4e68-9eb3-84542f5ea99b",
   "metadata": {
    "execution": {
     "iopub.execute_input": "2022-11-10T06:37:30.095556Z",
     "iopub.status.busy": "2022-11-10T06:37:30.095319Z"
    }
   },
   "outputs": [
    {
     "data": {
      "application/vnd.jupyter.widget-view+json": {
       "model_id": "2024de48e47a43c08dbe2fc6cbf05287",
       "version_major": 2,
       "version_minor": 0
      },
      "text/plain": [
       "VBox()"
      ]
     },
     "metadata": {},
     "output_type": "display_data"
    },
    {
     "name": "stdout",
     "output_type": "stream",
     "text": [
      "Starting Spark application\n"
     ]
    }
   ],
   "source": [
    "GoldenRecordISPINC_fact = spark.read.format(\"jdbc\")\\\n",
    "        .option(\"url\", \"jdbc:sqlserver://10.150.72.22:1433;databaseName=CustomerHub;\")\\\n",
    "        .option(\"query\",\"SELECT * FROM dbo.GoldenRecordISPINC_fact where AlternateKey between '24057857' and '36086794' \")\\\n",
    "        .option(\"user\", \"dmbigdata\")\\\n",
    "        .option(\"password\", \"$p!Ce@bigData$db\")\\\n",
    "        .option(\"driver\", \"com.microsoft.sqlserver.jdbc.SQLServerDriver\")\\\n",
    "        .load()"
   ]
  },
  {
   "cell_type": "code",
   "execution_count": null,
   "id": "f7ccee77-c03c-45d5-bc5b-ffb9ffebdaac",
   "metadata": {},
   "outputs": [],
   "source": [
    "GoldenRecordISPINC_fact.write.mode(\"append\").parquet(\n",
    "                \"s3://sjet-datamart-bucket/22-CustomerHub/GoldenRecordISPINC_fact/\")"
   ]
  }
 ],
 "metadata": {
  "kernelspec": {
   "display_name": "PySpark",
   "language": "",
   "name": "pysparkkernel"
  },
  "language_info": {
   "codemirror_mode": {
    "name": "python",
    "version": 3
   },
   "mimetype": "text/x-python",
   "name": "pyspark",
   "pygments_lexer": "python3"
  }
 },
 "nbformat": 4,
 "nbformat_minor": 5
}
