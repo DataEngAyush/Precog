{
 "cells": [
  {
   "cell_type": "code",
   "execution_count": 1,
   "id": "7c2ae739-7335-4e36-b2e7-53a26459d42f",
   "metadata": {
    "execution": {
     "iopub.execute_input": "2022-09-30T12:06:49.818889Z",
     "iopub.status.busy": "2022-09-30T12:06:49.818666Z",
     "iopub.status.idle": "2022-09-30T12:06:49.867357Z",
     "shell.execute_reply": "2022-09-30T12:06:49.866842Z",
     "shell.execute_reply.started": "2022-09-30T12:06:49.818864Z"
    },
    "tags": []
   },
   "outputs": [
    {
     "data": {
      "text/html": [
       "Current session configs: <tt>{'conf': {'spark.jars': 's3://sjet-datamart-bucket/Jars/mssql-jdbc-6.1.0.jre8.jar'}, 'proxyUser': 'user_ayush_vaishnav', 'kind': 'pyspark'}</tt><br>"
      ],
      "text/plain": [
       "<IPython.core.display.HTML object>"
      ]
     },
     "metadata": {},
     "output_type": "display_data"
    },
    {
     "data": {
      "text/html": [
       "<table>\n",
       "<tr><th>ID</th><th>YARN Application ID</th><th>Kind</th><th>State</th><th>Spark UI</th><th>Driver log</th><th>Current session?</th></tr><tr><td>14</td><td>application_1664514829412_0141</td><td>pyspark</td><td>busy</td><td><a target=\"_blank\" href=\"http://ip-20-0-4-252.ap-south-1.compute.internal:20888/proxy/application_1664514829412_0141/\" class=\"emr-proxy-link\" emr-resource=\"j-1ESDXZK5FDWQA\n",
       "\" application-id=\"application_1664514829412_0141\">Link</a></td><td><a target=\"_blank\" href=\"http://ip-20-0-4-168.ap-south-1.compute.internal:8042/node/containerlogs/container_1664514829412_0141_01_000001/livy\" >Link</a></td><td></td></tr><tr><td>17</td><td>application_1664514829412_0144</td><td>pyspark</td><td>dead</td><td><a target=\"_blank\" href=\"http://ip-20-0-4-252.ap-south-1.compute.internal:20888/proxy/application_1664514829412_0144/\" class=\"emr-proxy-link\" emr-resource=\"j-1ESDXZK5FDWQA\n",
       "\" application-id=\"application_1664514829412_0144\">Link</a></td><td><a target=\"_blank\" href=\"http://ip-20-0-4-252.ap-south-1.compute.internal:8188/applicationhistory/logs/ip-20-0-4-204.ap-south-1.compute.internal:8041/container_1664514829412_0144_01_000001/container_1664514829412_0144_01_000001/livy\" >Link</a></td><td></td></tr><tr><td>18</td><td>application_1664514829412_0147</td><td>pyspark</td><td>dead</td><td><a target=\"_blank\" href=\"http://ip-20-0-4-252.ap-south-1.compute.internal:20888/proxy/application_1664514829412_0147/\" class=\"emr-proxy-link\" emr-resource=\"j-1ESDXZK5FDWQA\n",
       "\" application-id=\"application_1664514829412_0147\">Link</a></td><td><a target=\"_blank\" href=\"http://ip-20-0-4-252.ap-south-1.compute.internal:8188/applicationhistory/logs/ip-20-0-4-151.ap-south-1.compute.internal:8041/container_1664514829412_0147_01_000001/container_1664514829412_0147_01_000001/livy\" >Link</a></td><td></td></tr><tr><td>19</td><td>application_1664514829412_0149</td><td>pyspark</td><td>idle</td><td><a target=\"_blank\" href=\"http://ip-20-0-4-252.ap-south-1.compute.internal:20888/proxy/application_1664514829412_0149/\" class=\"emr-proxy-link\" emr-resource=\"j-1ESDXZK5FDWQA\n",
       "\" application-id=\"application_1664514829412_0149\">Link</a></td><td><a target=\"_blank\" href=\"http://ip-20-0-4-89.ap-south-1.compute.internal:8042/node/containerlogs/container_1664514829412_0149_01_000001/livy\" >Link</a></td><td></td></tr></table>"
      ],
      "text/plain": [
       "<IPython.core.display.HTML object>"
      ]
     },
     "metadata": {},
     "output_type": "display_data"
    }
   ],
   "source": [
    "%%configure -f\n",
    "{\n",
    "    \"conf\": {\n",
    "        \"spark.jars\": \"s3://sjet-datamart-bucket/Jars/mssql-jdbc-6.1.0.jre8.jar\"        \n",
    "    }\n",
    "}"
   ]
  },
  {
   "cell_type": "code",
   "execution_count": 75,
   "id": "edf16732-ea82-4cbd-8923-6d3822fc1418",
   "metadata": {
    "execution": {
     "iopub.execute_input": "2022-09-30T14:48:02.623118Z",
     "iopub.status.busy": "2022-09-30T14:48:02.622903Z",
     "iopub.status.idle": "2022-09-30T14:48:03.877305Z",
     "shell.execute_reply": "2022-09-30T14:48:03.876777Z",
     "shell.execute_reply.started": "2022-09-30T14:48:02.623096Z"
    },
    "tags": []
   },
   "outputs": [
    {
     "data": {
      "application/vnd.jupyter.widget-view+json": {
       "model_id": "5caf600507a549f19fea4579e597e4de",
       "version_major": 2,
       "version_minor": 0
      },
      "text/plain": [
       "VBox()"
      ]
     },
     "metadata": {},
     "output_type": "display_data"
    },
    {
     "data": {
      "application/vnd.jupyter.widget-view+json": {
       "model_id": "",
       "version_major": 2,
       "version_minor": 0
      },
      "text/plain": [
       "FloatProgress(value=0.0, bar_style='info', description='Progress:', layout=Layout(height='25px', width='50%'),…"
      ]
     },
     "metadata": {},
     "output_type": "display_data"
    }
   ],
   "source": [
    "UNION_DF = spark.sql('''\n",
    "                        \n",
    "                        SELECT * FROM precogdb.df6_red_pitch_attitude_high_approach\n",
    "                        UNION\n",
    "                        SELECT * FROM precogdb.df6_amber_pitch_attitude_high_approach\n",
    "                        UNION\n",
    "                        SELECT * FROM precogdb.df6_green_pitch_attitude_high_approach\n",
    "                        \n",
    "                        ''')"
   ]
  },
  {
   "cell_type": "code",
   "execution_count": null,
   "id": "fb499486-2b1d-4511-b206-7ec1e3d5dac4",
   "metadata": {},
   "outputs": [],
   "source": []
  },
  {
   "cell_type": "code",
   "execution_count": 76,
   "id": "93bf18a3-ff23-4395-b3f3-5a4edb441753",
   "metadata": {
    "execution": {
     "iopub.execute_input": "2022-09-30T14:48:04.827489Z",
     "iopub.status.busy": "2022-09-30T14:48:04.827280Z",
     "iopub.status.idle": "2022-09-30T14:48:05.076229Z",
     "shell.execute_reply": "2022-09-30T14:48:05.075715Z",
     "shell.execute_reply.started": "2022-09-30T14:48:04.827467Z"
    },
    "tags": []
   },
   "outputs": [
    {
     "data": {
      "application/vnd.jupyter.widget-view+json": {
       "model_id": "1ab037b165ab4bda8a44413ec1ef2661",
       "version_major": 2,
       "version_minor": 0
      },
      "text/plain": [
       "VBox()"
      ]
     },
     "metadata": {},
     "output_type": "display_data"
    },
    {
     "data": {
      "application/vnd.jupyter.widget-view+json": {
       "model_id": "",
       "version_major": 2,
       "version_minor": 0
      },
      "text/plain": [
       "FloatProgress(value=0.0, bar_style='info', description='Progress:', layout=Layout(height='25px', width='50%'),…"
      ]
     },
     "metadata": {},
     "output_type": "display_data"
    }
   ],
   "source": [
    "UNION_DF.createOrReplaceTempView('UNION_DF')"
   ]
  },
  {
   "cell_type": "code",
   "execution_count": null,
   "id": "3be5489b-e976-4b88-b89c-4ba1b1c938ea",
   "metadata": {
    "tags": []
   },
   "outputs": [],
   "source": []
  },
  {
   "cell_type": "code",
   "execution_count": null,
   "id": "c927a665-3600-42b2-8664-8329be981b43",
   "metadata": {
    "tags": []
   },
   "outputs": [],
   "source": []
  },
  {
   "cell_type": "code",
   "execution_count": 77,
   "id": "bc74f41d-8263-44ff-b7fb-2a8fc6e3db0c",
   "metadata": {
    "execution": {
     "iopub.execute_input": "2022-09-30T14:48:07.104518Z",
     "iopub.status.busy": "2022-09-30T14:48:07.104242Z",
     "iopub.status.idle": "2022-09-30T14:48:07.353467Z",
     "shell.execute_reply": "2022-09-30T14:48:07.352941Z",
     "shell.execute_reply.started": "2022-09-30T14:48:07.104487Z"
    },
    "tags": []
   },
   "outputs": [
    {
     "data": {
      "application/vnd.jupyter.widget-view+json": {
       "model_id": "2139dc365bf94d6a9e3485ae9829bbad",
       "version_major": 2,
       "version_minor": 0
      },
      "text/plain": [
       "VBox()"
      ]
     },
     "metadata": {},
     "output_type": "display_data"
    },
    {
     "data": {
      "application/vnd.jupyter.widget-view+json": {
       "model_id": "",
       "version_major": 2,
       "version_minor": 0
      },
      "text/plain": [
       "FloatProgress(value=0.0, bar_style='info', description='Progress:', layout=Layout(height='25px', width='50%'),…"
      ]
     },
     "metadata": {},
     "output_type": "display_data"
    }
   ],
   "source": [
    "HRDDF=spark.sql('''SELECT \n",
    "                            CAST(ud.exceedanceid AS INT),\n",
    "                            ud.exceedance,\n",
    "                            CAST(ud.phaseid AS INT),\n",
    "                            ud.phase,\n",
    "                            ud.ecn,\n",
    "                            ud.employeename,\n",
    "                            ud.rank,\n",
    "                            ud.tailno,\n",
    "                            ud.departure,\n",
    "                            ud.arrival,\n",
    "                            ud.flightno AS FlightNumber,\n",
    "                            ud.date as FLightDate ,\n",
    "                            ud.chocksoff,\n",
    "                            ud.chockson,\n",
    "                            ud.domint,\n",
    "                            CAST(ud.manufacturerid AS INT),\n",
    "                            ud.manufacturer,\n",
    "                            CAST(ud.dataframeid AS INT),\n",
    "                            ud.dataframe,\n",
    "                            ud.aircrafttype,\n",
    "                            ud.aircraftmodel,\n",
    "                            ud.payload,\n",
    "                            ad.blocktime as `Block time(Hrs.)`,\n",
    "                            occurance,\n",
    "                            flag as type,\n",
    "                            CAST(trigger_hours AS DECIMAL(8,2)) AS `Trigger Hours`,\n",
    "                            CAST(occurence_hours AS DECIMAL(8,2)) AS `Occurence Hours`,\n",
    "                            CAST(duration_min AS DECIMAL(6,2)) AS  `Duration(Min)`,\n",
    "                            '' AS `CAPT PITCH ATT`,\n",
    "                            '' AS `CAPT DISPLAY PITCH ATT`,\n",
    "                            `Pitch-Angle` AS `PITCH ANGLE`,\n",
    "                            '' AS `Pitch Attitude`,\n",
    "                            '' AS `RADIO HEIGHT (combined)`,\n",
    "                            '' AS `RADIO HEIGHT`,\n",
    "                            '' AS `RADIO ALTITUDE`,\n",
    "                            `Rad-Alt` AS `RAD ALT`, \n",
    "                            '' AS `LEFT MAIN GEAR AIR/GND`,\n",
    "                            '' AS `LT MAIN GEAR AIR/GND`,\n",
    "                            '' AS `RIGHT MAIN GEAR AIR/GND`,\n",
    "                            '' AS `RT MAIN GEAR AIR/GND`,\n",
    "                            '' AS `MAIN WOW`,\n",
    "                            `WOW-MLG` AS `WOW MLG`,\n",
    "                            loadeddate AS LoadDate,\n",
    "                            filename\n",
    "                    FROM UNION_DF ud\n",
    "                    INNER JOIN PilotInfoDF ad ON ud.Flightno=ad.DesigFlightNumber\n",
    "                                                        AND ud.Date=ad.FlightDate\n",
    "                                                        AND ud.Departure=ad.FromCity\n",
    "                                                        AND ud.Arrival=ad.Tocity\n",
    "                                                        AND ud.ECN=ad.ECN\n",
    "\n",
    "\n",
    "''')"
   ]
  },
  {
   "cell_type": "code",
   "execution_count": 5,
   "id": "36e1dba1-25f0-40c7-8ebc-85a274cbaf26",
   "metadata": {
    "execution": {
     "iopub.execute_input": "2022-09-30T12:07:23.506137Z",
     "iopub.status.busy": "2022-09-30T12:07:23.505893Z",
     "iopub.status.idle": "2022-09-30T12:07:23.759082Z",
     "shell.execute_reply": "2022-09-30T12:07:23.758575Z",
     "shell.execute_reply.started": "2022-09-30T12:07:23.506113Z"
    },
    "tags": []
   },
   "outputs": [
    {
     "data": {
      "application/vnd.jupyter.widget-view+json": {
       "model_id": "85c36d3d8753417093f523695c519942",
       "version_major": 2,
       "version_minor": 0
      },
      "text/plain": [
       "VBox()"
      ]
     },
     "metadata": {},
     "output_type": "display_data"
    },
    {
     "data": {
      "application/vnd.jupyter.widget-view+json": {
       "model_id": "",
       "version_major": 2,
       "version_minor": 0
      },
      "text/plain": [
       "FloatProgress(value=0.0, bar_style='info', description='Progress:', layout=Layout(height='25px', width='50%'),…"
      ]
     },
     "metadata": {},
     "output_type": "display_data"
    }
   ],
   "source": [
    "DAGSDF.createOrReplaceTempView('DAGSDF')"
   ]
  },
  {
   "cell_type": "code",
   "execution_count": 6,
   "id": "202f0f89-a19c-4ffb-bdd7-3965cf7ca190",
   "metadata": {
    "execution": {
     "iopub.execute_input": "2022-09-30T12:07:24.386027Z",
     "iopub.status.busy": "2022-09-30T12:07:24.385799Z",
     "iopub.status.idle": "2022-09-30T12:07:29.658533Z",
     "shell.execute_reply": "2022-09-30T12:07:29.658028Z",
     "shell.execute_reply.started": "2022-09-30T12:07:24.386005Z"
    },
    "tags": []
   },
   "outputs": [
    {
     "data": {
      "application/vnd.jupyter.widget-view+json": {
       "model_id": "675e757866b54b20ac84a636f3b211b4",
       "version_major": 2,
       "version_minor": 0
      },
      "text/plain": [
       "VBox()"
      ]
     },
     "metadata": {},
     "output_type": "display_data"
    },
    {
     "data": {
      "application/vnd.jupyter.widget-view+json": {
       "model_id": "",
       "version_major": 2,
       "version_minor": 0
      },
      "text/plain": [
       "FloatProgress(value=0.0, bar_style='info', description='Progress:', layout=Layout(height='25px', width='50%'),…"
      ]
     },
     "metadata": {},
     "output_type": "display_data"
    }
   ],
   "source": [
    "PilotInfoDF = spark.read.csv('s3://sjet-datamart-bucket/precog/pilot-info/', header=True)"
   ]
  },
  {
   "cell_type": "code",
   "execution_count": 7,
   "id": "6da7e286-5573-4f8f-ad4c-b7d41361c0d2",
   "metadata": {
    "execution": {
     "iopub.execute_input": "2022-09-30T12:07:32.094604Z",
     "iopub.status.busy": "2022-09-30T12:07:32.094384Z",
     "iopub.status.idle": "2022-09-30T12:07:32.140656Z",
     "shell.execute_reply": "2022-09-30T12:07:32.140161Z",
     "shell.execute_reply.started": "2022-09-30T12:07:32.094581Z"
    },
    "tags": []
   },
   "outputs": [
    {
     "data": {
      "application/vnd.jupyter.widget-view+json": {
       "model_id": "f96e074a6790456c9153b0f326e07c9c",
       "version_major": 2,
       "version_minor": 0
      },
      "text/plain": [
       "VBox()"
      ]
     },
     "metadata": {},
     "output_type": "display_data"
    },
    {
     "data": {
      "application/vnd.jupyter.widget-view+json": {
       "model_id": "",
       "version_major": 2,
       "version_minor": 0
      },
      "text/plain": [
       "FloatProgress(value=0.0, bar_style='info', description='Progress:', layout=Layout(height='25px', width='50%'),…"
      ]
     },
     "metadata": {},
     "output_type": "display_data"
    }
   ],
   "source": [
    "PilotInfoDF.createOrReplaceTempView('PilotInfoDF')"
   ]
  },
  {
   "cell_type": "code",
   "execution_count": 8,
   "id": "ff68625b-f78c-4628-a63e-6fa45120e228",
   "metadata": {
    "execution": {
     "iopub.execute_input": "2022-09-30T12:07:33.364330Z",
     "iopub.status.busy": "2022-09-30T12:07:33.364104Z",
     "iopub.status.idle": "2022-09-30T12:07:33.615130Z",
     "shell.execute_reply": "2022-09-30T12:07:33.614638Z",
     "shell.execute_reply.started": "2022-09-30T12:07:33.364307Z"
    },
    "tags": []
   },
   "outputs": [
    {
     "data": {
      "application/vnd.jupyter.widget-view+json": {
       "model_id": "cf57b4e3acd14be496434340bacbf4b7",
       "version_major": 2,
       "version_minor": 0
      },
      "text/plain": [
       "VBox()"
      ]
     },
     "metadata": {},
     "output_type": "display_data"
    },
    {
     "data": {
      "application/vnd.jupyter.widget-view+json": {
       "model_id": "",
       "version_major": 2,
       "version_minor": 0
      },
      "text/plain": [
       "FloatProgress(value=0.0, bar_style='info', description='Progress:', layout=Layout(height='25px', width='50%'),…"
      ]
     },
     "metadata": {},
     "output_type": "display_data"
    }
   ],
   "source": [
    "JoinDF = spark.sql('''\n",
    "                        SELECT \n",
    "                            AD1.exceedanceid,\n",
    "                            AD1.exceedance,\n",
    "                            AD1.phaseid,\n",
    "                            AD1.phase,\n",
    "                            AD1.ecn,\n",
    "                            AD1.employeename,\n",
    "                            AD1.rank,\n",
    "                            AD1.tailno,\n",
    "                            AD1.departure,\n",
    "                            AD1.arrival,\n",
    "                            AD1.flightnumber,\n",
    "                            AD1.FLightDate ,\n",
    "                            AD1.chocksoff,\n",
    "                            AD1.chockson,\n",
    "                            AD1.domint,\n",
    "                            AD1.manufacturerid,\n",
    "                            AD1.manufacturer,\n",
    "                            AD1.dataframeid,\n",
    "                            AD1.dataframe,\n",
    "                            AD1.aircrafttype,\n",
    "                            AD1.aircraftmodel,\n",
    "                            AD1.payload,\n",
    "                            PDF.BlockTime AS `Block time(Hrs.)`,\n",
    "                            AD1.occurance,\n",
    "                            AD1.type,\n",
    "                            AD1.`Trigger Start Hours`,\n",
    "                            AD1.`Trigger End Hours`,\n",
    "                            AD1.`Occurence Start Hours`,\n",
    "                            AD1.`Occurence End Hours`,\n",
    "                            AD1.`Duration(Min)`,\n",
    "                            AD1.`G/S ENGAGE`,\n",
    "                            AD1.`AFCS GLIDESLOPE ACTIVE`,\n",
    "                            AD1.`AFCS GS Mode`,\n",
    "                            AD1.`GLIDESLOPE DEVIATION - L`,\n",
    "                            AD1.`GLIDESLOPE DEV/ELEVATION-L (Dots)`,\n",
    "                            AD1.`GLIDE PATH DEV PILOT +=ABOVE`,\n",
    "                            AD1.`ILS GS DEV #1`,\n",
    "                            AD1.`GLIDESLOPE DEVIATION - R`,\n",
    "                            AD1.`GLIDESLOPE DEV/ELEVATION-R (Dots)`,\n",
    "                            AD1.`GLIDE PATH DEV COPILOT +=ABOVE`,\n",
    "                            AD1.`ILS GS DEV #2`,\n",
    "                            AD1.`CAPT G/S DEV`, \n",
    "                            AD1.`LEFT MAIN GEAR AIR/GND`,\n",
    "                            AD1.`LT MAIN GEAR AIR/GND`,\n",
    "                            AD1.`RIGHT MAIN GEAR AIR/GND`,\n",
    "                            AD1.`RT MAIN GEAR AIR/GND`,\n",
    "                            AD1.`MAIN WOW`,\n",
    "                            AD1.`WOW MLG`,\n",
    "                            AD1.`RADIO HEIGHT (combined)`,\n",
    "                            AD1.`RADIO HEIGHT`,\n",
    "                            AD1.`RADIO ALTITUDE`,\n",
    "                            AD1.`RAD ALT`,\n",
    "                            AD1.loaddate,\n",
    "                            AD1.filename\n",
    "                            \n",
    "                            FROM DAGSDF AD1\n",
    "                            JOIN PilotInfoDF PDF \n",
    "                            ON AD1.ecn = PDF.ecn\n",
    "                            AND AD1.departure = PDF.FromCity\n",
    "                            AND AD1.arrival = PDF.ToCity\n",
    "                            AND AD1.Flightnumber = PDF.DesigFlightNumber\n",
    "                            AND AD1.FlightDate = PDF.FlightDate\n",
    "\n",
    "                    ''')"
   ]
  },
  {
   "cell_type": "code",
   "execution_count": null,
   "id": "c3547578-7b48-4418-90ec-6db595753b15",
   "metadata": {},
   "outputs": [],
   "source": []
  },
  {
   "cell_type": "code",
   "execution_count": null,
   "id": "6689dbae-afad-4a6d-bf42-427a4d9e44db",
   "metadata": {},
   "outputs": [],
   "source": []
  },
  {
   "cell_type": "code",
   "execution_count": null,
   "id": "b04af13c-fac9-4fda-bc85-6d345b6cad06",
   "metadata": {},
   "outputs": [],
   "source": []
  },
  {
   "cell_type": "code",
   "execution_count": null,
   "id": "975fe76f-249f-4995-af50-f914b6a0b788",
   "metadata": {},
   "outputs": [],
   "source": []
  },
  {
   "cell_type": "code",
   "execution_count": null,
   "id": "3097d4b8-5104-4d3d-aaa7-18a5934e3daa",
   "metadata": {},
   "outputs": [],
   "source": []
  },
  {
   "cell_type": "code",
   "execution_count": null,
   "id": "b9f11b9f-4d03-4880-94e4-8fba260e9955",
   "metadata": {},
   "outputs": [],
   "source": []
  },
  {
   "cell_type": "code",
   "execution_count": null,
   "id": "5bf04785-af9b-41f1-a5c5-670ce0cadc1d",
   "metadata": {},
   "outputs": [],
   "source": []
  },
  {
   "cell_type": "code",
   "execution_count": null,
   "id": "68082ab4-cc57-4e8c-af7f-31227525bdfd",
   "metadata": {},
   "outputs": [],
   "source": []
  },
  {
   "cell_type": "code",
   "execution_count": 78,
   "id": "9a19cff6-90c0-40dd-bd1b-e408692e0ac8",
   "metadata": {
    "execution": {
     "iopub.execute_input": "2022-09-30T14:48:13.300896Z",
     "iopub.status.busy": "2022-09-30T14:48:13.300675Z",
     "iopub.status.idle": "2022-09-30T14:48:22.597223Z",
     "shell.execute_reply": "2022-09-30T14:48:22.596664Z",
     "shell.execute_reply.started": "2022-09-30T14:48:13.300873Z"
    },
    "tags": []
   },
   "outputs": [
    {
     "data": {
      "application/vnd.jupyter.widget-view+json": {
       "model_id": "c272b94a66e640d0a50e0082cfdc9012",
       "version_major": 2,
       "version_minor": 0
      },
      "text/plain": [
       "VBox()"
      ]
     },
     "metadata": {},
     "output_type": "display_data"
    },
    {
     "data": {
      "application/vnd.jupyter.widget-view+json": {
       "model_id": "",
       "version_major": 2,
       "version_minor": 0
      },
      "text/plain": [
       "FloatProgress(value=0.0, bar_style='info', description='Progress:', layout=Layout(height='25px', width='50%'),…"
      ]
     },
     "metadata": {},
     "output_type": "display_data"
    }
   ],
   "source": [
    "HRDDF \\\n",
    "  .write \\\n",
    "  .format(\"jdbc\") \\\n",
    "  .mode(\"append\") \\\n",
    "  .option(\"driver\", \"com.microsoft.sqlserver.jdbc.SQLServerDriver\") \\\n",
    "  .option(\"url\", \"jdbc:sqlserver://10.150.72.22:1433;databaseName=precog\") \\\n",
    "  .option(\"dbtable\", \"PitchAttitudeHigh\") \\\n",
    "  .option(\"user\", \"dmbigdata\") \\\n",
    "  .option(\"password\", \"$p!Ce@bigData$db\") \\\n",
    "  .save()"
   ]
  },
  {
   "cell_type": "code",
   "execution_count": null,
   "id": "b5f69aec-5e78-4475-982a-cd51a949536e",
   "metadata": {},
   "outputs": [],
   "source": []
  },
  {
   "cell_type": "code",
   "execution_count": null,
   "id": "108ab760-4e46-480f-b47b-6e6236682be3",
   "metadata": {},
   "outputs": [],
   "source": []
  },
  {
   "cell_type": "code",
   "execution_count": null,
   "id": "7d3e50e7-e8f4-486d-9f60-44b69492f3fa",
   "metadata": {},
   "outputs": [],
   "source": []
  }
 ],
 "metadata": {
  "kernelspec": {
   "display_name": "PySpark",
   "language": "",
   "name": "pysparkkernel"
  },
  "language_info": {
   "codemirror_mode": {
    "name": "python",
    "version": 3
   },
   "mimetype": "text/x-python",
   "name": "pyspark",
   "pygments_lexer": "python3"
  }
 },
 "nbformat": 4,
 "nbformat_minor": 5
}
