{
 "cells": [
  {
   "cell_type": "code",
   "execution_count": 1,
   "id": "f599062d-4e63-4e88-bc89-38216946d877",
   "metadata": {
    "execution": {
     "iopub.execute_input": "2022-10-04T09:52:38.237177Z",
     "iopub.status.busy": "2022-10-04T09:52:38.236953Z",
     "iopub.status.idle": "2022-10-04T09:53:01.048238Z",
     "shell.execute_reply": "2022-10-04T09:53:01.047727Z",
     "shell.execute_reply.started": "2022-10-04T09:52:38.237153Z"
    },
    "tags": []
   },
   "outputs": [
    {
     "data": {
      "application/vnd.jupyter.widget-view+json": {
       "model_id": "7ada1b987a3a4156aeefd75c8bafbe73",
       "version_major": 2,
       "version_minor": 0
      },
      "text/plain": [
       "VBox()"
      ]
     },
     "metadata": {},
     "output_type": "display_data"
    },
    {
     "name": "stdout",
     "output_type": "stream",
     "text": [
      "Starting Spark application\n"
     ]
    },
    {
     "data": {
      "text/html": [
       "<table>\n",
       "<tr><th>ID</th><th>YARN Application ID</th><th>Kind</th><th>State</th><th>Spark UI</th><th>Driver log</th><th>Current session?</th></tr><tr><td>2</td><td>application_1664874632079_0004</td><td>pyspark</td><td>idle</td><td><a target=\"_blank\" href=\"http://ip-20-0-4-209.ap-south-1.compute.internal:20888/proxy/application_1664874632079_0004/\" class=\"emr-proxy-link\" emr-resource=\"j-MX2M8NLQZ234\n",
       "\" application-id=\"application_1664874632079_0004\">Link</a></td><td><a target=\"_blank\" href=\"http://ip-20-0-4-180.ap-south-1.compute.internal:8042/node/containerlogs/container_1664874632079_0004_01_000001/livy\" >Link</a></td><td>✔</td></tr></table>"
      ],
      "text/plain": [
       "<IPython.core.display.HTML object>"
      ]
     },
     "metadata": {},
     "output_type": "display_data"
    },
    {
     "data": {
      "application/vnd.jupyter.widget-view+json": {
       "model_id": "",
       "version_major": 2,
       "version_minor": 0
      },
      "text/plain": [
       "FloatProgress(value=0.0, bar_style='info', description='Progress:', layout=Layout(height='25px', width='50%'),…"
      ]
     },
     "metadata": {},
     "output_type": "display_data"
    },
    {
     "name": "stdout",
     "output_type": "stream",
     "text": [
      "SparkSession available as 'spark'.\n"
     ]
    },
    {
     "data": {
      "application/vnd.jupyter.widget-view+json": {
       "model_id": "",
       "version_major": 2,
       "version_minor": 0
      },
      "text/plain": [
       "FloatProgress(value=0.0, bar_style='info', description='Progress:', layout=Layout(height='25px', width='50%'),…"
      ]
     },
     "metadata": {},
     "output_type": "display_data"
    }
   ],
   "source": [
    "from pyspark import SparkConf\n",
    "from pyspark import SparkContext\n",
    "from pyspark.sql import SparkSession\n",
    "from pyspark.sql.types import *\n",
    "from pyspark.sql import functions as F\n",
    "import boto3\n",
    "import sys\n",
    "import re\n",
    "from datetime import datetime\n",
    "import configparser"
   ]
  },
  {
   "cell_type": "code",
   "execution_count": 2,
   "id": "1dbbeaee-6f9f-4cea-a1b0-3c3f8da8d1e0",
   "metadata": {
    "execution": {
     "iopub.execute_input": "2022-10-04T09:53:01.049379Z",
     "iopub.status.busy": "2022-10-04T09:53:01.049207Z",
     "iopub.status.idle": "2022-10-04T09:53:01.095216Z",
     "shell.execute_reply": "2022-10-04T09:53:01.094691Z",
     "shell.execute_reply.started": "2022-10-04T09:53:01.049356Z"
    },
    "tags": []
   },
   "outputs": [
    {
     "data": {
      "application/vnd.jupyter.widget-view+json": {
       "model_id": "5dab8b5566e74154ac5419c33e4b614a",
       "version_major": 2,
       "version_minor": 0
      },
      "text/plain": [
       "VBox()"
      ]
     },
     "metadata": {},
     "output_type": "display_data"
    },
    {
     "data": {
      "application/vnd.jupyter.widget-view+json": {
       "model_id": "",
       "version_major": 2,
       "version_minor": 0
      },
      "text/plain": [
       "FloatProgress(value=0.0, bar_style='info', description='Progress:', layout=Layout(height='25px', width='50%'),…"
      ]
     },
     "metadata": {},
     "output_type": "display_data"
    }
   ],
   "source": [
    "conf = SparkConf()"
   ]
  },
  {
   "cell_type": "code",
   "execution_count": 3,
   "id": "7d5deafc-19ab-413d-b842-2ccc06530d73",
   "metadata": {
    "execution": {
     "iopub.execute_input": "2022-10-04T09:53:01.101093Z",
     "iopub.status.busy": "2022-10-04T09:53:01.100932Z",
     "iopub.status.idle": "2022-10-04T09:53:01.855969Z",
     "shell.execute_reply": "2022-10-04T09:53:01.855303Z",
     "shell.execute_reply.started": "2022-10-04T09:53:01.101072Z"
    },
    "tags": []
   },
   "outputs": [
    {
     "data": {
      "application/vnd.jupyter.widget-view+json": {
       "model_id": "86c71b22edbd44558023db2089b09a82",
       "version_major": 2,
       "version_minor": 0
      },
      "text/plain": [
       "VBox()"
      ]
     },
     "metadata": {},
     "output_type": "display_data"
    },
    {
     "data": {
      "application/vnd.jupyter.widget-view+json": {
       "model_id": "",
       "version_major": 2,
       "version_minor": 0
      },
      "text/plain": [
       "FloatProgress(value=0.0, bar_style='info', description='Progress:', layout=Layout(height='25px', width='50%'),…"
      ]
     },
     "metadata": {},
     "output_type": "display_data"
    }
   ],
   "source": [
    "spark = SparkSession.builder.config(\n",
    "            conf=conf).enableHiveSupport().getOrCreate()"
   ]
  },
  {
   "cell_type": "code",
   "execution_count": 4,
   "id": "cc966327-7c58-4204-b9c8-eeabf7cc44f0",
   "metadata": {
    "execution": {
     "iopub.execute_input": "2022-10-04T09:53:05.988035Z",
     "iopub.status.busy": "2022-10-04T09:53:05.987807Z",
     "iopub.status.idle": "2022-10-04T09:53:09.259763Z",
     "shell.execute_reply": "2022-10-04T09:53:09.259238Z",
     "shell.execute_reply.started": "2022-10-04T09:53:05.988011Z"
    },
    "tags": []
   },
   "outputs": [
    {
     "data": {
      "application/vnd.jupyter.widget-view+json": {
       "model_id": "89d66947fd8b4ef9895fb05c76a99e23",
       "version_major": 2,
       "version_minor": 0
      },
      "text/plain": [
       "VBox()"
      ]
     },
     "metadata": {},
     "output_type": "display_data"
    },
    {
     "data": {
      "application/vnd.jupyter.widget-view+json": {
       "model_id": "",
       "version_major": 2,
       "version_minor": 0
      },
      "text/plain": [
       "FloatProgress(value=0.0, bar_style='info', description='Progress:', layout=Layout(height='25px', width='50%'),…"
      ]
     },
     "metadata": {},
     "output_type": "display_data"
    }
   ],
   "source": [
    "Q400Final = spark.sql('''\n",
    "SELECT * FROM precogdb.q400128wps WHERE filename = 'ALL ac=VT-SUB dep=IXB arr=CCU fn=SG 9223 dt=20220629.csv'\n",
    "''')"
   ]
  },
  {
   "cell_type": "code",
   "execution_count": 5,
   "id": "0304f307-9224-49c3-a79c-d00edf623069",
   "metadata": {
    "execution": {
     "iopub.execute_input": "2022-10-04T09:54:30.378424Z",
     "iopub.status.busy": "2022-10-04T09:54:30.378197Z",
     "iopub.status.idle": "2022-10-04T09:54:31.490211Z",
     "shell.execute_reply": "2022-10-04T09:54:31.489659Z",
     "shell.execute_reply.started": "2022-10-04T09:54:30.378400Z"
    },
    "tags": []
   },
   "outputs": [
    {
     "data": {
      "application/vnd.jupyter.widget-view+json": {
       "model_id": "a22b7534ca7f42938b6e8109adfb2c5f",
       "version_major": 2,
       "version_minor": 0
      },
      "text/plain": [
       "VBox()"
      ]
     },
     "metadata": {},
     "output_type": "display_data"
    },
    {
     "data": {
      "application/vnd.jupyter.widget-view+json": {
       "model_id": "",
       "version_major": 2,
       "version_minor": 0
      },
      "text/plain": [
       "FloatProgress(value=0.0, bar_style='info', description='Progress:', layout=Layout(height='25px', width='50%'),…"
      ]
     },
     "metadata": {},
     "output_type": "display_data"
    }
   ],
   "source": [
    "Q400Final.createOrReplaceTempView('Q400Final')"
   ]
  },
  {
   "cell_type": "code",
   "execution_count": null,
   "id": "0154e7fa-593c-462f-831a-a903399bf451",
   "metadata": {},
   "outputs": [],
   "source": []
  },
  {
   "cell_type": "code",
   "execution_count": null,
   "id": "f0cef716-01ba-475c-b3b3-5fe13db77116",
   "metadata": {},
   "outputs": [],
   "source": []
  },
  {
   "cell_type": "code",
   "execution_count": null,
   "id": "9d29f61e-2982-422a-82e1-65620ede0bbd",
   "metadata": {},
   "outputs": [],
   "source": []
  },
  {
   "cell_type": "code",
   "execution_count": null,
   "id": "d935fe70-ea31-4939-9840-dec775ee0bb5",
   "metadata": {},
   "outputs": [],
   "source": []
  },
  {
   "cell_type": "code",
   "execution_count": null,
   "id": "d4d27132-19d8-4bbb-a529-7dc335e13447",
   "metadata": {},
   "outputs": [],
   "source": []
  },
  {
   "cell_type": "code",
   "execution_count": null,
   "id": "33faeb04-c79f-44a0-8bfb-fec706a1e042",
   "metadata": {},
   "outputs": [],
   "source": []
  },
  {
   "cell_type": "code",
   "execution_count": null,
   "id": "0eca02ef-867d-4943-8e72-fab910595c8c",
   "metadata": {},
   "outputs": [],
   "source": []
  },
  {
   "cell_type": "code",
   "execution_count": 6,
   "id": "988a3430-e7e1-4349-aabe-b7aec4be79cd",
   "metadata": {
    "execution": {
     "iopub.execute_input": "2022-10-04T09:49:48.740487Z",
     "iopub.status.busy": "2022-10-04T09:49:48.740273Z",
     "iopub.status.idle": "2022-10-04T09:49:48.992300Z",
     "shell.execute_reply": "2022-10-04T09:49:48.991747Z",
     "shell.execute_reply.started": "2022-10-04T09:49:48.740463Z"
    },
    "tags": []
   },
   "outputs": [
    {
     "data": {
      "application/vnd.jupyter.widget-view+json": {
       "model_id": "746efcb896194735ae54cbda8bb7a854",
       "version_major": 2,
       "version_minor": 0
      },
      "text/plain": [
       "VBox()"
      ]
     },
     "metadata": {},
     "output_type": "display_data"
    },
    {
     "data": {
      "application/vnd.jupyter.widget-view+json": {
       "model_id": "",
       "version_major": 2,
       "version_minor": 0
      },
      "text/plain": [
       "FloatProgress(value=0.0, bar_style='info', description='Progress:', layout=Layout(height='25px', width='50%'),…"
      ]
     },
     "metadata": {},
     "output_type": "display_data"
    }
   ],
   "source": [
    "Q400_stage3_df = Q400Final.filter(~(F.col(\"Radio-Altitude\").like (\"*\")) \n",
    "                                                        & (F.col(\"Radio-Altitude\") != \" \"))"
   ]
  },
  {
   "cell_type": "code",
   "execution_count": 6,
   "id": "664f2270-86c6-4d39-9c9f-fad0ae2196f2",
   "metadata": {
    "execution": {
     "iopub.execute_input": "2022-10-04T09:54:48.508873Z",
     "iopub.status.busy": "2022-10-04T09:54:48.508640Z",
     "iopub.status.idle": "2022-10-04T09:54:49.268692Z",
     "shell.execute_reply": "2022-10-04T09:54:49.268185Z",
     "shell.execute_reply.started": "2022-10-04T09:54:48.508848Z"
    },
    "tags": []
   },
   "outputs": [
    {
     "data": {
      "application/vnd.jupyter.widget-view+json": {
       "model_id": "f634b80f31a74847966751cf4986d16e",
       "version_major": 2,
       "version_minor": 0
      },
      "text/plain": [
       "VBox()"
      ]
     },
     "metadata": {},
     "output_type": "display_data"
    },
    {
     "data": {
      "application/vnd.jupyter.widget-view+json": {
       "model_id": "",
       "version_major": 2,
       "version_minor": 0
      },
      "text/plain": [
       "FloatProgress(value=0.0, bar_style='info', description='Progress:', layout=Layout(height='25px', width='50%'),…"
      ]
     },
     "metadata": {},
     "output_type": "display_data"
    }
   ],
   "source": [
    "Q400Interim = Q400Final.alias('ED').select(\n",
    "                                                        'ED.FlightID',\n",
    "                                                        'ED.DesigFlightNumber',\n",
    "                                                        'ED.FlightNumberARMS',\n",
    "                                                        'ED.FlightDate',\n",
    "                                                        'ED.FromCity',\n",
    "                                                        'ED.ToCity',\n",
    "                                                        'ED.BlockTime',\n",
    "                                                        'ED.ECN',\n",
    "                                                        'ED.EmployeeName',\n",
    "                                                        'ED.RANK',\n",
    "                                                        'ED.ChocksOff',\n",
    "                                                        'ED.ChocksOn',\n",
    "                                                        'ED.DOMINT',\n",
    "                                                        'ED.AircraftType',\n",
    "                                                        'ED.AircraftModel',  \n",
    "                                                        'ED.Payload',\n",
    "                                                        'ED.TailNo',\n",
    "                                                        'ED.Departure',\n",
    "                                                        'ED.Arrival',\n",
    "                                                        'ED.FlightNo',\n",
    "                                                        'ED.Date',\n",
    "                                                         F.regexp_replace(\n",
    "                                                               F.col('ED.Time-In-Secs'), '\\\\*', '').cast('Double').alias('Time-In-Secs'),\n",
    "                                                        'ED.Time-Per-Sec', \n",
    "                                                        'ED.BARO-CORRECTED-PALT-DERIVED', \n",
    "                                                        'ED.Altitude-BaroL', \n",
    "                                                        'ED.Magnetic-Heading', \n",
    "                                                        F.lit(F.regexp_replace(\n",
    "                                                        'ED.Pitch-Attitude', '\\\\*', '')).alias('Pitch-Attitude'),\n",
    "                                                        'ED.Roll-Attitude',  \n",
    "                                                        F.col('ED.Radio-Altitude').cast('Integer').alias('Radio-Altitude'),\n",
    "                                                        F.lit(F.regexp_replace('ED.Nose-WOW', '\\\\*', '')).alias('Nose-WOW'), \n",
    "                                                        F.lit(F.regexp_replace('ED.Main-WOW', '\\\\*', '')).alias('Main-WOW'),\n",
    "                                                        'ED.Normal-Acceleration', \n",
    "                                                        'ED.Lateral-Acceleration', \n",
    "                                                        'ED.Longitudinal-Acceleration', \n",
    "                                                        'ED.Calibrated-Airspeed-L', \n",
    "                                                        'ED.AFCS-Selected-Speed', \n",
    "                                                        'ED.Vertical-Speed-Derived', \n",
    "                                                        'ED.Ground-Speed', \n",
    "                                                        'ED.Flap-Control-Selection',\n",
    "                                                        F.regexp_replace(F.col('ED.FLAP-POSITION'), '\\\\*', '').alias('FLAP-POSITION'), \n",
    "                                                        'ED.Power-Lever-Pos-L', \n",
    "                                                        'ED.Power-Lever-Pos-R', \n",
    "                                                        'ED.Torque-TQ-Eng-L', \n",
    "                                                        'ED.Torque-TQ-Eng-R', \n",
    "                                                        'ED.Condition-Lever-L', \n",
    "                                                        'ED.Condition-Lever-R', \n",
    "                                                        'ED.Prop-RPM-Np-Eng-L', \n",
    "                                                        'ED.Prop-RPM-Np-Eng-R', \n",
    "                                                        'ED.GPWS-Alert/Warning', \n",
    "                                                        'ED.GPWS-Glideslope-Alert', \n",
    "                                                        F.regexp_replace(F.col('ED.AFCS-Glideslope-Active'), '\\\\*', '').alias(\"AFCS-Glideslope-Active\"),\n",
    "                                                        'ED.AFCS-LOC-Active', \n",
    "                                                        'ED.AFCS-VOR-Active', \n",
    "                                                        F.regexp_replace(F.col('ED.GLIDE-PATH-DEV-PILOT-ABOVE'), '\\\\*', '').alias(\"GLIDE-PATH-DEV-PILOT-ABOVE\"),  \n",
    "                                                        F.regexp_replace(F.col('ED.GLIDE-PATH-DEV-COPILOT-ABOVE'), '\\\\*', '').alias(\"GLIDE-PATH-DEV-COPILOT-ABOVE\"),\n",
    "                                                        'ED.DME-DISTANCE-1', \n",
    "                                                        'ED.DME-DISTANCE-2', \n",
    "                                                        'ED.VOR-1-SELECT-FREQ', \n",
    "                                                        'ED.VOR-2-SELECT-FREQ', \n",
    "                                                        'ED.WIND-ANGLE', \n",
    "                                                        'ED.WIND-SPEED', \n",
    "                                                        'ED.BRAKE-PRESS-LEFT', \n",
    "                                                        'ED.BRAKE-PRESS-RIGHT', \n",
    "                                                        'ED.Thrust-Rev-Low-Beta-Eng-L', \n",
    "                                                        'ED.Thrust-Rev-Low-Beta-Eng-R', \n",
    "                                                        'ED.AFCS-Autopilot-Engaged',\n",
    "                                                        'ED.FileName',\n",
    "                                                        'ED.LoadedDate',\n",
    "                                                        'ED.LoadedBy',\n",
    "                                                        'ED.DataFrameName',\n",
    "                                                        'ED.year',\n",
    "                                                        'ED.month' )\n"
   ]
  },
  {
   "cell_type": "code",
   "execution_count": null,
   "id": "28a53192-8e9f-42c8-b8ac-580b8c5e0ce0",
   "metadata": {},
   "outputs": [],
   "source": []
  },
  {
   "cell_type": "code",
   "execution_count": null,
   "id": "1ce54c10-4c38-48ee-9654-1263a1bcbf14",
   "metadata": {},
   "outputs": [],
   "source": []
  },
  {
   "cell_type": "code",
   "execution_count": 7,
   "id": "495279d6-5d3d-4ee0-bfe3-24f75688f19d",
   "metadata": {
    "execution": {
     "iopub.execute_input": "2022-10-04T09:54:52.498773Z",
     "iopub.status.busy": "2022-10-04T09:54:52.498509Z",
     "iopub.status.idle": "2022-10-04T09:54:52.750968Z",
     "shell.execute_reply": "2022-10-04T09:54:52.750452Z",
     "shell.execute_reply.started": "2022-10-04T09:54:52.498746Z"
    },
    "tags": []
   },
   "outputs": [
    {
     "data": {
      "application/vnd.jupyter.widget-view+json": {
       "model_id": "eea18031fb1b4e5cbe9838797f86f20d",
       "version_major": 2,
       "version_minor": 0
      },
      "text/plain": [
       "VBox()"
      ]
     },
     "metadata": {},
     "output_type": "display_data"
    },
    {
     "data": {
      "application/vnd.jupyter.widget-view+json": {
       "model_id": "",
       "version_major": 2,
       "version_minor": 0
      },
      "text/plain": [
       "FloatProgress(value=0.0, bar_style='info', description='Progress:', layout=Layout(height='25px', width='50%'),…"
      ]
     },
     "metadata": {},
     "output_type": "display_data"
    }
   ],
   "source": [
    "Q400Interim.createOrReplaceTempView('Q400Interim')"
   ]
  },
  {
   "cell_type": "code",
   "execution_count": 118,
   "id": "f37286c5-1ec9-48e0-910c-b72e471e079d",
   "metadata": {
    "execution": {
     "iopub.execute_input": "2022-09-23T11:36:53.238048Z",
     "iopub.status.busy": "2022-09-23T11:36:53.237772Z",
     "iopub.status.idle": "2022-09-23T11:36:56.526803Z",
     "shell.execute_reply": "2022-09-23T11:36:56.526082Z",
     "shell.execute_reply.started": "2022-09-23T11:36:53.238023Z"
    }
   },
   "outputs": [
    {
     "data": {
      "application/vnd.jupyter.widget-view+json": {
       "model_id": "8524d3fefab94db2a47809fd79fc23ab",
       "version_major": 2,
       "version_minor": 0
      },
      "text/plain": [
       "VBox()"
      ]
     },
     "metadata": {},
     "output_type": "display_data"
    },
    {
     "data": {
      "application/vnd.jupyter.widget-view+json": {
       "model_id": "",
       "version_major": 2,
       "version_minor": 0
      },
      "text/plain": [
       "FloatProgress(value=0.0, bar_style='info', description='Progress:', layout=Layout(height='25px', width='50%'),…"
      ]
     },
     "metadata": {},
     "output_type": "display_data"
    },
    {
     "name": "stdout",
     "output_type": "stream",
     "text": [
      "+--------------------------------------------------------+\n",
      "|filename                                                |\n",
      "+--------------------------------------------------------+\n",
      "|ALL ac=VT-SUG dep=GOI arr=RAJ fn=SG 3702 dt=20220819.csv|\n",
      "|ALL ac=VT-SUD dep=BOM arr=IXY fn=SG 3323 dt=20220514.csv|\n",
      "|ALL ac=VT-SUB dep=BOM arr=DEL fn=SEJ7402 dt=20220313.csv|\n",
      "+--------------------------------------------------------+"
     ]
    }
   ],
   "source": [
    "spark.sql('''select distinct(filename) from Q400Interim ''').show(truncate = False)"
   ]
  },
  {
   "cell_type": "code",
   "execution_count": 9,
   "id": "1cf7ed91-c0b8-439a-9c7f-64657539aa63",
   "metadata": {
    "execution": {
     "iopub.execute_input": "2022-10-04T09:57:07.873565Z",
     "iopub.status.busy": "2022-10-04T09:57:07.873338Z",
     "iopub.status.idle": "2022-10-04T09:57:08.123803Z",
     "shell.execute_reply": "2022-10-04T09:57:08.123316Z",
     "shell.execute_reply.started": "2022-10-04T09:57:07.873540Z"
    },
    "tags": []
   },
   "outputs": [
    {
     "data": {
      "application/vnd.jupyter.widget-view+json": {
       "model_id": "644ac45859dd4e1f8711b2d7a73981d2",
       "version_major": 2,
       "version_minor": 0
      },
      "text/plain": [
       "VBox()"
      ]
     },
     "metadata": {},
     "output_type": "display_data"
    },
    {
     "data": {
      "application/vnd.jupyter.widget-view+json": {
       "model_id": "",
       "version_major": 2,
       "version_minor": 0
      },
      "text/plain": [
       "FloatProgress(value=0.0, bar_style='info', description='Progress:', layout=Layout(height='25px', width='50%'),…"
      ]
     },
     "metadata": {},
     "output_type": "display_data"
    }
   ],
   "source": [
    "FirstQuery  = spark.sql('''SELECT FileName, max(cast(`Radio-Altitude` as int)) as RadioAltitude from Q400Final group by FileName''')\n",
    "    \n",
    "FirstQuery.createOrReplaceTempView(\"B\")\n",
    "\n",
    "SecondQuery = spark.sql('''SELECT a.*, B.RadioAltitude from Q400Final a inner join B on a.FileName = B.FileName and a.`Radio-Altitude` = B.RadioAltitude''')\n",
    "\n",
    "SecondQuery.createOrReplaceTempView(\"C\")\n",
    "\n",
    "ThirdQuery = spark.sql('''SELECT FileName, RadioAltitude, max(`Time-In-Secs`) as MaxTime, min(`Time-In-Secs`) as MinTime from C group by FileName, RadioAltitude''')\n",
    "\n",
    "ThirdQuery.createOrReplaceTempView(\"D\")"
   ]
  },
  {
   "cell_type": "code",
   "execution_count": 10,
   "id": "98b0496d-6734-4995-aff7-c218c951cd2d",
   "metadata": {
    "execution": {
     "iopub.execute_input": "2022-10-04T09:57:12.715714Z",
     "iopub.status.busy": "2022-10-04T09:57:12.715487Z",
     "iopub.status.idle": "2022-10-04T09:57:40.083780Z",
     "shell.execute_reply": "2022-10-04T09:57:40.083286Z",
     "shell.execute_reply.started": "2022-10-04T09:57:12.715690Z"
    },
    "tags": []
   },
   "outputs": [
    {
     "data": {
      "application/vnd.jupyter.widget-view+json": {
       "model_id": "f27ca5f12b8f4aa3987327ca6c59e037",
       "version_major": 2,
       "version_minor": 0
      },
      "text/plain": [
       "VBox()"
      ]
     },
     "metadata": {},
     "output_type": "display_data"
    },
    {
     "data": {
      "application/vnd.jupyter.widget-view+json": {
       "model_id": "",
       "version_major": 2,
       "version_minor": 0
      },
      "text/plain": [
       "FloatProgress(value=0.0, bar_style='info', description='Progress:', layout=Layout(height='25px', width='50%'),…"
      ]
     },
     "metadata": {},
     "output_type": "display_data"
    },
    {
     "name": "stdout",
     "output_type": "stream",
     "text": [
      "+--------------------------------------------------------+-------------+-------+-------+\n",
      "|FileName                                                |RadioAltitude|MaxTime|MinTime|\n",
      "+--------------------------------------------------------+-------------+-------+-------+\n",
      "|ALL ac=VT-SUB dep=IXB arr=CCU fn=SG 9223 dt=20220629.csv|2492         |764.0  |764.0  |\n",
      "+--------------------------------------------------------+-------------+-------+-------+"
     ]
    }
   ],
   "source": [
    "ThirdQuery.show(truncate=False)"
   ]
  },
  {
   "cell_type": "code",
   "execution_count": 15,
   "id": "c3bb03a0-b248-41dc-ab6a-5cada7426e1b",
   "metadata": {
    "execution": {
     "iopub.execute_input": "2022-10-04T10:04:26.060269Z",
     "iopub.status.busy": "2022-10-04T10:04:26.060008Z",
     "iopub.status.idle": "2022-10-04T10:04:26.313820Z",
     "shell.execute_reply": "2022-10-04T10:04:26.313305Z",
     "shell.execute_reply.started": "2022-10-04T10:04:26.060244Z"
    },
    "tags": []
   },
   "outputs": [
    {
     "data": {
      "application/vnd.jupyter.widget-view+json": {
       "model_id": "bb0b4db5e3f94bcd9618afcaba182821",
       "version_major": 2,
       "version_minor": 0
      },
      "text/plain": [
       "VBox()"
      ]
     },
     "metadata": {},
     "output_type": "display_data"
    },
    {
     "data": {
      "application/vnd.jupyter.widget-view+json": {
       "model_id": "",
       "version_major": 2,
       "version_minor": 0
      },
      "text/plain": [
       "FloatProgress(value=0.0, bar_style='info', description='Progress:', layout=Layout(height='25px', width='50%'),…"
      ]
     },
     "metadata": {},
     "output_type": "display_data"
    }
   ],
   "source": [
    "FourthQuery = spark.sql(f'''\n",
    "\n",
    "                                        SELECT * FROM \n",
    "                                        \n",
    "                                        (\n",
    "                                        \n",
    "                                        select a1.`Time-In-Secs` as `Time-In-Secs-EX`,\n",
    "                                        \n",
    "                                        a1.`BARO-CORRECTED-PALT-DERIVED` as `BARO-CORRECTED-PALT-DERIVED-EX`,\n",
    "                                        \n",
    "                                        a1.`Radio-Altitude` as `Radio-Altitude-EX`,\n",
    "                                        \n",
    "                                        REPLACE(a1.`FLAP-POSITION`,'*','') as `FLAP-POSITION-EX`,\n",
    "                                        \n",
    "                                        a1.`Main-WOW`,\n",
    "                                        \n",
    "                                        'LateLandingFlap' as ExceedanceName,\n",
    "                                        \n",
    "                                        a1.filename,\n",
    "                                        \n",
    "                                        case \n",
    "                                        \n",
    "                                        when Cast(`Time-In-Secs` as int)<D.MinTime Then 'TakeOff'\n",
    "                                        \n",
    "                                        when Cast(`Time-In-Secs` as int) between D.MinTime and D.MaxTime Then 'Airborne'\n",
    "                                        \n",
    "                                        when Cast(`Time-In-Secs` as int)>D.MaxTime Then 'Approach' end Phase\n",
    "                                        \n",
    "                                        ,ROW_NUMBER() over(partition by a1.filename order by `Time-In-Secs`) RN\n",
    "                                        \n",
    "                                        from Q400Interim a1\n",
    "                                        \n",
    "                                        inner join D  \n",
    "                                        \n",
    "                                        on a1.FileName = D.FileName\n",
    "                                        \n",
    "                                        where Cast(`Time-In-Secs` as float)>D.MaxTime \n",
    "                                        \n",
    "                                        and `Radio-Altitude` < 1000\n",
    "                                        \n",
    "                                        and `Radio-Altitude` <> 0 \n",
    "                                        \n",
    "                                        and `FLAP-POSITION` IS NOT NULL \n",
    "                                        \n",
    "                                        and `Main-WOW` = 'Air (0)' \n",
    "                                        \n",
    "                                        )\n",
    "                                        \n",
    "                                        WHERE RN = 1 \n",
    "                                        \n",
    "                                        ''')"
   ]
  },
  {
   "cell_type": "code",
   "execution_count": 16,
   "id": "75c7a722-e825-4409-b071-b78a8e842486",
   "metadata": {
    "execution": {
     "iopub.execute_input": "2022-10-04T10:04:28.568119Z",
     "iopub.status.busy": "2022-10-04T10:04:28.567896Z",
     "iopub.status.idle": "2022-10-04T10:04:53.907909Z",
     "shell.execute_reply": "2022-10-04T10:04:53.907383Z",
     "shell.execute_reply.started": "2022-10-04T10:04:28.568095Z"
    },
    "tags": []
   },
   "outputs": [
    {
     "data": {
      "application/vnd.jupyter.widget-view+json": {
       "model_id": "ed285d072fe34dd4be84bf50e93b7df3",
       "version_major": 2,
       "version_minor": 0
      },
      "text/plain": [
       "VBox()"
      ]
     },
     "metadata": {},
     "output_type": "display_data"
    },
    {
     "data": {
      "application/vnd.jupyter.widget-view+json": {
       "model_id": "",
       "version_major": 2,
       "version_minor": 0
      },
      "text/plain": [
       "FloatProgress(value=0.0, bar_style='info', description='Progress:', layout=Layout(height='25px', width='50%'),…"
      ]
     },
     "metadata": {},
     "output_type": "display_data"
    },
    {
     "name": "stdout",
     "output_type": "stream",
     "text": [
      "+---------------+------------------------------+-----------------+----------------+--------+---------------+--------------------+--------+---+\n",
      "|Time-In-Secs-EX|BARO-CORRECTED-PALT-DERIVED-EX|Radio-Altitude-EX|FLAP-POSITION-EX|Main-WOW| ExceedanceName|            filename|   Phase| RN|\n",
      "+---------------+------------------------------+-----------------+----------------+--------+---------------+--------------------+--------+---+\n",
      "|          796.0|                          3819|                3|            -0.1| Air (0)|LateLandingFlap|ALL ac=VT-SUB dep...|Approach|  1|\n",
      "+---------------+------------------------------+-----------------+----------------+--------+---------------+--------------------+--------+---+"
     ]
    }
   ],
   "source": [
    "FourthQuery.show()"
   ]
  },
  {
   "cell_type": "code",
   "execution_count": 129,
   "id": "0fd20496-4119-4589-9a24-8ca0933a8f00",
   "metadata": {
    "execution": {
     "iopub.execute_input": "2022-09-23T11:42:52.340970Z",
     "iopub.status.busy": "2022-09-23T11:42:52.340717Z",
     "iopub.status.idle": "2022-09-23T11:42:52.637355Z",
     "shell.execute_reply": "2022-09-23T11:42:52.636638Z",
     "shell.execute_reply.started": "2022-09-23T11:42:52.340939Z"
    },
    "tags": []
   },
   "outputs": [
    {
     "data": {
      "application/vnd.jupyter.widget-view+json": {
       "model_id": "ec839add0808450a977f024c1c6f998f",
       "version_major": 2,
       "version_minor": 0
      },
      "text/plain": [
       "VBox()"
      ]
     },
     "metadata": {},
     "output_type": "display_data"
    },
    {
     "data": {
      "application/vnd.jupyter.widget-view+json": {
       "model_id": "",
       "version_major": 2,
       "version_minor": 0
      },
      "text/plain": [
       "FloatProgress(value=0.0, bar_style='info', description='Progress:', layout=Layout(height='25px', width='50%'),…"
      ]
     },
     "metadata": {},
     "output_type": "display_data"
    }
   ],
   "source": [
    "FifthQuery.createOrReplaceTempView('E')"
   ]
  },
  {
   "cell_type": "code",
   "execution_count": null,
   "id": "2fd8e40a-fc2a-4e8d-bd40-ad448cd1ee7f",
   "metadata": {},
   "outputs": [],
   "source": []
  },
  {
   "cell_type": "code",
   "execution_count": null,
   "id": "49832044-1f9c-49a4-868b-31ad49a29b1b",
   "metadata": {},
   "outputs": [],
   "source": []
  },
  {
   "cell_type": "code",
   "execution_count": null,
   "id": "896be4bf-a328-4a25-97f6-63f7f1e5a712",
   "metadata": {},
   "outputs": [],
   "source": []
  },
  {
   "cell_type": "code",
   "execution_count": null,
   "id": "4770e4a2-c2da-4c44-bd92-60ef38419b8a",
   "metadata": {},
   "outputs": [],
   "source": []
  },
  {
   "cell_type": "code",
   "execution_count": null,
   "id": "f82c9806-f35b-40b8-bd06-fe49e4759e31",
   "metadata": {},
   "outputs": [],
   "source": []
  },
  {
   "cell_type": "markdown",
   "id": "a1b5002b-3eff-407f-8144-de9c1187048b",
   "metadata": {},
   "source": [
    "TESTING"
   ]
  },
  {
   "cell_type": "code",
   "execution_count": 163,
   "id": "6cb4312a-2d8c-490b-ae2b-868f45a217fc",
   "metadata": {
    "execution": {
     "iopub.execute_input": "2022-09-23T12:33:50.590421Z",
     "iopub.status.busy": "2022-09-23T12:33:50.590186Z",
     "iopub.status.idle": "2022-09-23T12:33:50.859227Z",
     "shell.execute_reply": "2022-09-23T12:33:50.858603Z",
     "shell.execute_reply.started": "2022-09-23T12:33:50.590397Z"
    },
    "tags": []
   },
   "outputs": [
    {
     "data": {
      "application/vnd.jupyter.widget-view+json": {
       "model_id": "1b91ad57275044daa4aa457cad3b35b2",
       "version_major": 2,
       "version_minor": 0
      },
      "text/plain": [
       "VBox()"
      ]
     },
     "metadata": {},
     "output_type": "display_data"
    },
    {
     "data": {
      "application/vnd.jupyter.widget-view+json": {
       "model_id": "",
       "version_major": 2,
       "version_minor": 0
      },
      "text/plain": [
       "FloatProgress(value=0.0, bar_style='info', description='Progress:', layout=Layout(height='25px', width='50%'),…"
      ]
     },
     "metadata": {},
     "output_type": "display_data"
    }
   ],
   "source": [
    "FinalDF = spark.sql(f'''\n",
    "            \n",
    "            SELECT \n",
    "                    *\n",
    "            FROM\n",
    "                    (\n",
    "                        SELECT \n",
    "                                `Time-In-Secs` as `Time-In-Secs-EX`,\n",
    "                                `Radio-Altitude` AS `Radio-Altitude-EX` ,\n",
    "                                `Main-WOW` AS `Main-WOW-EX`,\n",
    "                                `Pitch-Attitude` AS `Pitch-Attitude-EX`,\n",
    "                                'PitchAttitudeHigh'  as ExceedanceName,\n",
    "                                DE.Phase,\n",
    "                                CASE\n",
    "                                    WHEN\n",
    "                                            CASE\n",
    "                                            WHEN\n",
    "                                                    `Pitch-Attitude` LIKE 'U%'\n",
    "                                            THEN\n",
    "                                                    CASE\n",
    "                                                    WHEN\n",
    "                                                            INSTR(`Pitch-Attitude`,' ')>0\n",
    "                                                    THEN\n",
    "                                                            SUBSTRING(`Pitch-Attitude`, INSTR(`Pitch-Attitude`,' ')+1, LENGTH(`Pitch-Attitude`))\n",
    "                                                    ELSE\n",
    "                                                            NULL\n",
    "                                                    END\n",
    "                                            END                     > 10.0 \n",
    "                                    THEN\n",
    "                                            'High'\n",
    "                                ELSE\n",
    "                                        'Low'\n",
    "                                END TriggerCondition,\n",
    "                                BC.*\n",
    "                                \n",
    "                                            \n",
    "                                            \n",
    "                        FROM\n",
    "                                Q400Interim BC\n",
    "                        \n",
    "                        INNER JOIN\n",
    "\n",
    "\n",
    "\n",
    "                                (\n",
    "                                    SELECT \n",
    "                                            FileName,\n",
    "                                            Phase,\n",
    "                                            MAX(`Time-In-Secs`) AS TriggerTime\n",
    "                                    FROM \n",
    "                                        (\n",
    "                                            SELECT \n",
    "\n",
    "                                                    CASE\n",
    "                                                        WHEN\n",
    "                                                                `Time-In-Secs` < DJ.MinTime\n",
    "                                                        THEN\n",
    "                                                                'TakeOff'\n",
    "                                                        WHEN\n",
    "                                                                `Time-In-Secs` between DJ.MinTime and DJ.MaxTime\n",
    "                                                        THEN\n",
    "                                                                'Airborne'\n",
    "                                                        WHEN\n",
    "                                                                `Time-In-Secs` >DJ.MaxTime\n",
    "                                                        THEN\n",
    "                                                                'Approach'\n",
    "                                                        END Phase,              \n",
    "\n",
    "                                                    BJ.*\n",
    "\n",
    "                                            FROM Q400Interim AS BJ\n",
    "\n",
    "                                            INNER JOIN(\n",
    "\n",
    "                                    SELECT \n",
    "\n",
    "                                    BI.FileName,\n",
    "                                    BI.`Radio-Altitude`,\n",
    "                                    MIN(`Time-In-Secs`) as MinTime,\n",
    "                                    MAX(`Time-In-Secs`) as MaxTime\n",
    "\n",
    "\n",
    "                                    FROM Q400Interim AS BI\n",
    "                                    INNER JOIN \n",
    "                                        (\n",
    "                                            SELECT \n",
    "                                                    FileName,\n",
    "                                                    MAX(`Radio-Altitude`) AS MaxRadioHeight\n",
    "                                            FROM Q400Interim\n",
    "\n",
    "                                            GROUP BY FileName) T1 \n",
    "                                    ON BI.FileName=T1.FileName \n",
    "                                    AND BI.`Radio-Altitude`=T1.MaxRadioHeight\n",
    "\n",
    "                                    GROUP BY \n",
    "                                        BI.FileName,\n",
    "                                        BI.`Radio-Altitude` ) DJ \n",
    "                        ON BJ.FileName=DJ.FileName ) DD\n",
    "\n",
    "                WHERE DD.Phase='TakeOff'\n",
    "                AND    DD.`Main-WOW` = 'Gnd (1)'\n",
    "                \n",
    "                GROUP BY\n",
    "                        DD.FileName,\n",
    "                        DD.Phase )DE\n",
    "                ON\n",
    "                        BC.FileName    = DE.FileName\n",
    "                AND     BC.`Time-In-Secs` =DE.TriggerTime) FNN\n",
    "                                                            ''')"
   ]
  },
  {
   "cell_type": "code",
   "execution_count": 164,
   "id": "8f8d7e2e-1f76-4186-8d92-31ef6862cd97",
   "metadata": {
    "execution": {
     "iopub.execute_input": "2022-09-23T12:33:51.230088Z",
     "iopub.status.busy": "2022-09-23T12:33:51.229809Z",
     "iopub.status.idle": "2022-09-23T12:34:06.565379Z",
     "shell.execute_reply": "2022-09-23T12:34:06.564695Z",
     "shell.execute_reply.started": "2022-09-23T12:33:51.230060Z"
    },
    "tags": []
   },
   "outputs": [
    {
     "data": {
      "application/vnd.jupyter.widget-view+json": {
       "model_id": "dbe7845538074c4eb25e5ac1156ffcb0",
       "version_major": 2,
       "version_minor": 0
      },
      "text/plain": [
       "VBox()"
      ]
     },
     "metadata": {},
     "output_type": "display_data"
    },
    {
     "data": {
      "application/vnd.jupyter.widget-view+json": {
       "model_id": "",
       "version_major": 2,
       "version_minor": 0
      },
      "text/plain": [
       "FloatProgress(value=0.0, bar_style='info', description='Progress:', layout=Layout(height='25px', width='50%'),…"
      ]
     },
     "metadata": {},
     "output_type": "display_data"
    },
    {
     "name": "stdout",
     "output_type": "stream",
     "text": [
      "+---------------+-----------------+-----------+-----------------+-----------------+-------+----------------+--------+-----------------+----------------+----------+--------+------+---------+------+------------+-----+--------------------+--------------------+------+------------+-------------+-------+------+---------+-------+--------+---------+------------+------------+---------------------------+--------------+----------------+--------------+-------------+--------------+--------+--------+-------------------+--------------------+-------------------------+---------------------+-------------------+----------------------+------------+----------------------+-------------+-----------------+-----------------+---------------+---------------+-----------------+-----------------+-----------------+-----------------+------------------+---------------------+----------------------+---------------+---------------+--------------------------+----------------------------+--------------+--------------+-----------------+-----------------+----------+----------+----------------+-----------------+-------------------------+-------------------------+----------------------+--------------------+--------------------+------------+-------------+----+-----+\n",
      "|Time-In-Secs-EX|Radio-Altitude-EX|Main-WOW-EX|Pitch-Attitude-EX|   ExceedanceName|  Phase|TriggerCondition|FlightID|DesigFlightNumber|FlightNumberARMS|FlightDate|FromCity|ToCity|BlockTime|   ECN|EmployeeName| RANK|           ChocksOff|            ChocksOn|DOMINT|AircraftType|AircraftModel|Payload|TailNo|Departure|Arrival|FlightNo|     Date|Time-In-Secs|Time-Per-Sec|BARO-CORRECTED-PALT-DERIVED|Altitude-BaroL|Magnetic-Heading|Pitch-Attitude|Roll-Attitude|Radio-Altitude|Nose-WOW|Main-WOW|Normal-Acceleration|Lateral-Acceleration|Longitudinal-Acceleration|Calibrated-Airspeed-L|AFCS-Selected-Speed|Vertical-Speed-Derived|Ground-Speed|Flap-Control-Selection|FLAP-POSITION|Power-Lever-Pos-L|Power-Lever-Pos-R|Torque-TQ-Eng-L|Torque-TQ-Eng-R|Condition-Lever-L|Condition-Lever-R|Prop-RPM-Np-Eng-L|Prop-RPM-Np-Eng-R|GPWS-Alert/Warning|GPWS-Glideslope-Alert|AFCS-Glideslope-Active|AFCS-LOC-Active|AFCS-VOR-Active|GLIDE-PATH-DEV-PILOT-ABOVE|GLIDE-PATH-DEV-COPILOT-ABOVE|DME-DISTANCE-1|DME-DISTANCE-2|VOR-1-SELECT-FREQ|VOR-2-SELECT-FREQ|WIND-ANGLE|WIND-SPEED|BRAKE-PRESS-LEFT|BRAKE-PRESS-RIGHT|Thrust-Rev-Low-Beta-Eng-L|Thrust-Rev-Low-Beta-Eng-R|AFCS-Autopilot-Engaged|            FileName|          LoadedDate|    LoadedBy|DataFrameName|year|month|\n",
      "+---------------+-----------------+-----------+-----------------+-----------------+-------+----------------+--------+-----------------+----------------+----------+--------+------+---------+------+------------+-----+--------------------+--------------------+------+------------+-------------+-------+------+---------+-------+--------+---------+------------+------------+---------------------------+--------------+----------------+--------------+-------------+--------------+--------+--------+-------------------+--------------------+-------------------------+---------------------+-------------------+----------------------+------------+----------------------+-------------+-----------------+-----------------+---------------+---------------+-----------------+-----------------+-----------------+-----------------+------------------+---------------------+----------------------+---------------+---------------+--------------------------+----------------------------+--------------+--------------+-----------------+-----------------+----------+----------+----------------+-----------------+-------------------------+-------------------------+----------------------+--------------------+--------------------+------------+-------------+----+-----+\n",
      "|            480|                3|    Gnd (1)|            D 1.1|PitchAttitudeHigh|TakeOff|             Low| 2869931|          SG 3323|            3323| 5/14/2022|     BOM|   IXY|  1:30:00|118092|NIDHI  HANDA|CAPT.|2022-05-14T11:34:...|2022-05-14T13:05:...|   DOM|         DHC|         DHC-|    Pax|VT-SUD|      BOM|    IXY| SG 3323|5/14/2022|         480|       61318|                         34|           222|            88.9|         D 1.1|            0|             3| Gnd (1)| Gnd (1)|              0.997|                   0|                    -0.01|                    0|                  0|                     0|           0|                    10|          9.8|             20.1|             20.2|              1|            2.5|             95.2|             94.6|              658|              658|       No Warn (0)|          No Warn (0)|           NOT ACT (0)|    NOT ACT (0)|    NOT ACT (0)|                         0|                           0|          null|          null|             null|             null|      null|      null|            37.1|             37.1|                  Low (1)|                  Low (1)|            NOT EN (0)|ALL ac=VT-SUD dep...|2022-09-19T09:06:...|precog-spark|      128 WPS|2022|  May|\n",
      "+---------------+-----------------+-----------+-----------------+-----------------+-------+----------------+--------+-----------------+----------------+----------+--------+------+---------+------+------------+-----+--------------------+--------------------+------+------------+-------------+-------+------+---------+-------+--------+---------+------------+------------+---------------------------+--------------+----------------+--------------+-------------+--------------+--------+--------+-------------------+--------------------+-------------------------+---------------------+-------------------+----------------------+------------+----------------------+-------------+-----------------+-----------------+---------------+---------------+-----------------+-----------------+-----------------+-----------------+------------------+---------------------+----------------------+---------------+---------------+--------------------------+----------------------------+--------------+--------------+-----------------+-----------------+----------+----------+----------------+-----------------+-------------------------+-------------------------+----------------------+--------------------+--------------------+------------+-------------+----+-----+"
     ]
    }
   ],
   "source": [
    "FinalDF.where(F.col('FileName') == 'ALL ac=VT-SUD dep=BOM arr=IXY fn=SG 3323 dt=20220514.csv').show()"
   ]
  },
  {
   "cell_type": "code",
   "execution_count": 168,
   "id": "0f97ff0b-9453-48d4-9c28-b7a52db3f235",
   "metadata": {
    "execution": {
     "iopub.execute_input": "2022-09-23T12:53:02.456959Z",
     "iopub.status.busy": "2022-09-23T12:53:02.456722Z",
     "iopub.status.idle": "2022-09-23T12:53:04.739528Z",
     "shell.execute_reply": "2022-09-23T12:53:04.738858Z",
     "shell.execute_reply.started": "2022-09-23T12:53:02.456934Z"
    },
    "tags": []
   },
   "outputs": [
    {
     "data": {
      "application/vnd.jupyter.widget-view+json": {
       "model_id": "140beb78a02643c1ae6b618431b145ad",
       "version_major": 2,
       "version_minor": 0
      },
      "text/plain": [
       "VBox()"
      ]
     },
     "metadata": {},
     "output_type": "display_data"
    },
    {
     "data": {
      "application/vnd.jupyter.widget-view+json": {
       "model_id": "",
       "version_major": 2,
       "version_minor": 0
      },
      "text/plain": [
       "FloatProgress(value=0.0, bar_style='info', description='Progress:', layout=Layout(height='25px', width='50%'),…"
      ]
     },
     "metadata": {},
     "output_type": "display_data"
    },
    {
     "name": "stdout",
     "output_type": "stream",
     "text": [
      "+--------------------------------------------------------+-------+-----------+\n",
      "|FileName                                                |Phase  |TriggerTime|\n",
      "+--------------------------------------------------------+-------+-----------+\n",
      "|ALL ac=VT-SUB dep=BOM arr=DEL fn=SEJ7402 dt=20220313.csv|TakeOff|771.0      |\n",
      "|ALL ac=VT-SUD dep=BOM arr=IXY fn=SG 3323 dt=20220514.csv|TakeOff|1193.0     |\n",
      "|ALL ac=VT-SUG dep=GOI arr=RAJ fn=SG 3702 dt=20220819.csv|TakeOff|628.0      |\n",
      "+--------------------------------------------------------+-------+-----------+"
     ]
    }
   ],
   "source": [
    "spark.sql('''\n",
    "\n",
    "SELECT \n",
    "                        FileName,\n",
    "                        Phase,\n",
    "                        MAX(CAST(`Time-In-Secs` AS FLOAT)) AS TriggerTime\n",
    "                        FROM(\n",
    "                                            SELECT \n",
    "\n",
    "                                                    CASE\n",
    "                                                        WHEN\n",
    "                                                                `Time-In-Secs` < DJ.MinTime\n",
    "                                                        THEN\n",
    "                                                                'TakeOff'\n",
    "                                                        WHEN\n",
    "                                                                `Time-In-Secs` between DJ.MinTime and DJ.MaxTime\n",
    "                                                        THEN\n",
    "                                                                'Airborne'\n",
    "                                                        WHEN\n",
    "                                                                `Time-In-Secs` >DJ.MaxTime\n",
    "                                                        THEN\n",
    "                                                                'Approach'\n",
    "                                                        END Phase,              \n",
    "\n",
    "                                                    BJ.*\n",
    "\n",
    "                                            FROM Q400Interim AS BJ\n",
    "\n",
    "                                            INNER JOIN(\n",
    "\n",
    "                                    SELECT \n",
    "\n",
    "                                    BI.FileName,\n",
    "                                    BI.`Radio-Altitude`,\n",
    "                                    MIN(`Time-In-Secs`) as MinTime,\n",
    "                                    MAX(`Time-In-Secs`) as MaxTime\n",
    "\n",
    "\n",
    "                                    FROM Q400Interim AS BI\n",
    "                                    INNER JOIN \n",
    "                                        (\n",
    "                                            SELECT \n",
    "                                                    FileName,\n",
    "                                                    MAX(`Radio-Altitude`) AS MaxRadioHeight\n",
    "                                            FROM Q400Interim\n",
    "\n",
    "                                            GROUP BY FileName) T1 \n",
    "                                    ON BI.FileName=T1.FileName \n",
    "                                    AND BI.`Radio-Altitude`=T1.MaxRadioHeight\n",
    "\n",
    "                                    GROUP BY \n",
    "                                        BI.FileName,\n",
    "                                        BI.`Radio-Altitude` ) DJ \n",
    "                        ON BJ.FileName=DJ.FileName ) DD\n",
    "                    WHERE DD.Phase='TakeOff'\n",
    "                    AND    DD.`Main-WOW` = 'Gnd (1)'\n",
    "                    \n",
    "                    GROUP BY FileName,\n",
    "                                Phase\n",
    "                                            ''').show(truncate=False)\n",
    "#.where((F.col('FileName') == 'ALL ac=VT-SUD dep=BOM arr=IXY fn=SG 3323 dt=20220514.csv')).show(truncate=False)"
   ]
  },
  {
   "cell_type": "code",
   "execution_count": null,
   "id": "efed0f8c-d345-4e8d-a0fe-af403ded4474",
   "metadata": {},
   "outputs": [],
   "source": []
  },
  {
   "cell_type": "code",
   "execution_count": 166,
   "id": "4c2b1cdd-9205-4fe8-83e7-06bddce655ef",
   "metadata": {
    "execution": {
     "iopub.execute_input": "2022-09-23T12:51:49.753032Z",
     "iopub.status.busy": "2022-09-23T12:51:49.752698Z",
     "iopub.status.idle": "2022-09-23T12:52:05.098966Z",
     "shell.execute_reply": "2022-09-23T12:52:05.098130Z",
     "shell.execute_reply.started": "2022-09-23T12:51:49.752992Z"
    },
    "tags": []
   },
   "outputs": [
    {
     "data": {
      "application/vnd.jupyter.widget-view+json": {
       "model_id": "224a2d305bab4e36a5489159ab79ec10",
       "version_major": 2,
       "version_minor": 0
      },
      "text/plain": [
       "VBox()"
      ]
     },
     "metadata": {},
     "output_type": "display_data"
    },
    {
     "data": {
      "application/vnd.jupyter.widget-view+json": {
       "model_id": "",
       "version_major": 2,
       "version_minor": 0
      },
      "text/plain": [
       "FloatProgress(value=0.0, bar_style='info', description='Progress:', layout=Layout(height='25px', width='50%'),…"
      ]
     },
     "metadata": {},
     "output_type": "display_data"
    },
    {
     "name": "stdout",
     "output_type": "stream",
     "text": [
      "+---------------+-----------------+-----------+-----------------+-----------------+-------+----------------+--------+-----------------+----------------+----------+--------+------+---------+------+----------------+-----+------------------------+------------------------+------+------------+-------------+-------+------+---------+-------+--------+---------+------------+------------+---------------------------+--------------+----------------+--------------+-------------+--------------+--------+--------+-------------------+--------------------+-------------------------+---------------------+-------------------+----------------------+------------+----------------------+-------------+-----------------+-----------------+---------------+---------------+-----------------+-----------------+-----------------+-----------------+------------------+---------------------+----------------------+---------------+---------------+--------------------------+----------------------------+--------------+--------------+-----------------+-----------------+----------+----------+----------------+-----------------+-------------------------+-------------------------+----------------------+--------------------------------------------------------+------------------------+------------+-------------+----+------+\n",
      "|Time-In-Secs-EX|Radio-Altitude-EX|Main-WOW-EX|Pitch-Attitude-EX|ExceedanceName   |Phase  |TriggerCondition|FlightID|DesigFlightNumber|FlightNumberARMS|FlightDate|FromCity|ToCity|BlockTime|ECN   |EmployeeName    |RANK |ChocksOff               |ChocksOn                |DOMINT|AircraftType|AircraftModel|Payload|TailNo|Departure|Arrival|FlightNo|Date     |Time-In-Secs|Time-Per-Sec|BARO-CORRECTED-PALT-DERIVED|Altitude-BaroL|Magnetic-Heading|Pitch-Attitude|Roll-Attitude|Radio-Altitude|Nose-WOW|Main-WOW|Normal-Acceleration|Lateral-Acceleration|Longitudinal-Acceleration|Calibrated-Airspeed-L|AFCS-Selected-Speed|Vertical-Speed-Derived|Ground-Speed|Flap-Control-Selection|FLAP-POSITION|Power-Lever-Pos-L|Power-Lever-Pos-R|Torque-TQ-Eng-L|Torque-TQ-Eng-R|Condition-Lever-L|Condition-Lever-R|Prop-RPM-Np-Eng-L|Prop-RPM-Np-Eng-R|GPWS-Alert/Warning|GPWS-Glideslope-Alert|AFCS-Glideslope-Active|AFCS-LOC-Active|AFCS-VOR-Active|GLIDE-PATH-DEV-PILOT-ABOVE|GLIDE-PATH-DEV-COPILOT-ABOVE|DME-DISTANCE-1|DME-DISTANCE-2|VOR-1-SELECT-FREQ|VOR-2-SELECT-FREQ|WIND-ANGLE|WIND-SPEED|BRAKE-PRESS-LEFT|BRAKE-PRESS-RIGHT|Thrust-Rev-Low-Beta-Eng-L|Thrust-Rev-Low-Beta-Eng-R|AFCS-Autopilot-Engaged|FileName                                                |LoadedDate              |LoadedBy    |DataFrameName|year|month |\n",
      "+---------------+-----------------+-----------+-----------------+-----------------+-------+----------------+--------+-----------------+----------------+----------+--------+------+---------+------+----------------+-----+------------------------+------------------------+------+------------+-------------+-------+------+---------+-------+--------+---------+------------+------------+---------------------------+--------------+----------------+--------------+-------------+--------------+--------+--------+-------------------+--------------------+-------------------------+---------------------+-------------------+----------------------+------------+----------------------+-------------+-----------------+-----------------+---------------+---------------+-----------------+-----------------+-----------------+-----------------+------------------+---------------------+----------------------+---------------+---------------+--------------------------+----------------------------+--------------+--------------+-----------------+-----------------+----------+----------+----------------+-----------------+-------------------------+-------------------------+----------------------+--------------------------------------------------------+------------------------+------------+-------------+----+------+\n",
      "|85             |0                |Gnd (1)    |D 0.7            |PitchAttitudeHigh|TakeOff|Low             |2811429 |SG 7402          |7402            |3/13/2022 |BOM     |DEL   |2:40:00  |126810|VIRENDER  SEJWAL|CAPT.|2022-03-13T06:20:00.000Z|2022-03-13T09:10:00.000Z|DOM   |DHC         |DHC-         |Cargo  |VT-SUB|BOM      |DEL    |SG 7402 |3/13/2022|85          |null        |30                         |140           |28.7            |D 0.7         |R 0.2        |0             |Gnd (1) |Gnd (1) |1.005              |R 0.00              |-0.01                    |0                    |0                  |0                     |0           |null                  |null         |19.7             |18.7             |10.5           |10.5           |95.6             |95.1             |198              |200              |No Warn (0)       |No Warn (0)          |NOT ACT (0)           |NOT ACT (0)    |NOT ACT (0)    |0                         |0                           |1.125         |1.125         |100              |null             |null      |null      |56.6            |33.2             |Normal (0)               |Normal (0)               |NOT EN (0)            |ALL ac=VT-SUB dep=BOM arr=DEL fn=SEJ7402 dt=20220313.csv|2022-09-19T07:22:25.275Z|precog-spark|128 WPS      |2022|March |\n",
      "|628            |4                |Gnd (1)    |D 0.9            |PitchAttitudeHigh|TakeOff|Low             |2905129 |SG 3702          |3702            |8/19/2022 |GOI     |RAJ   |2:00:00  |118613|VISHAL  BHARDWAJ|CAPT.|2022-08-19T13:27:00.000Z|2022-08-19T15:27:00.000Z|DOM   |DHC         |DHC-         |Pax    |VT-SUG|GOI      |RAJ    |SG 3702 |8/19/2022|628         |80918       |166                        |276           |174             |D 0.9         |L 0.1        |4             |Gnd (1) |Gnd (1) |0.997              |R 0.00              |-0.01                    |0                    |0                  |0                     |0           |10                    |9.9          |19.6             |20.1             |4              |2              |96.3             |95.9             |659              |659              |No Warn (0)       |No Warn (0)          |NOT ACT (0)           |NOT ACT (0)    |NOT ACT (0)    |0                         |0                           |null          |null          |null             |null             |null      |null      |52.7            |43               |Low (1)                  |Low (1)                  |NOT EN (0)            |ALL ac=VT-SUG dep=GOI arr=RAJ fn=SG 3702 dt=20220819.csv|2022-09-19T08:07:51.690Z|precog-spark|128 WPS      |2022|August|\n",
      "|480            |3                |Gnd (1)    |D 1.1            |PitchAttitudeHigh|TakeOff|Low             |2869931 |SG 3323          |3323            |5/14/2022 |BOM     |IXY   |1:30:00  |118092|NIDHI  HANDA    |CAPT.|2022-05-14T11:34:00.000Z|2022-05-14T13:05:00.000Z|DOM   |DHC         |DHC-         |Pax    |VT-SUD|BOM      |IXY    |SG 3323 |5/14/2022|480         |61318       |34                         |222           |88.9            |D 1.1         |0            |3             |Gnd (1) |Gnd (1) |0.997              |0                   |-0.01                    |0                    |0                  |0                     |0           |10                    |9.8          |20.1             |20.2             |1              |2.5            |95.2             |94.6             |658              |658              |No Warn (0)       |No Warn (0)          |NOT ACT (0)           |NOT ACT (0)    |NOT ACT (0)    |0                         |0                           |null          |null          |null             |null             |null      |null      |37.1            |37.1             |Low (1)                  |Low (1)                  |NOT EN (0)            |ALL ac=VT-SUD dep=BOM arr=IXY fn=SG 3323 dt=20220514.csv|2022-09-19T09:06:01.237Z|precog-spark|128 WPS      |2022|May   |\n",
      "+---------------+-----------------+-----------+-----------------+-----------------+-------+----------------+--------+-----------------+----------------+----------+--------+------+---------+------+----------------+-----+------------------------+------------------------+------+------------+-------------+-------+------+---------+-------+--------+---------+------------+------------+---------------------------+--------------+----------------+--------------+-------------+--------------+--------+--------+-------------------+--------------------+-------------------------+---------------------+-------------------+----------------------+------------+----------------------+-------------+-----------------+-----------------+---------------+---------------+-----------------+-----------------+-----------------+-----------------+------------------+---------------------+----------------------+---------------+---------------+--------------------------+----------------------------+--------------+--------------+-----------------+-----------------+----------+----------+----------------+-----------------+-------------------------+-------------------------+----------------------+--------------------------------------------------------+------------------------+------------+-------------+----+------+"
     ]
    }
   ],
   "source": [
    "FinalDF.show(truncate=False)"
   ]
  },
  {
   "cell_type": "code",
   "execution_count": 132,
   "id": "3be7b958-6a78-4d1c-9818-f195934e1acb",
   "metadata": {
    "execution": {
     "iopub.execute_input": "2022-09-23T11:47:11.227127Z",
     "iopub.status.busy": "2022-09-23T11:47:11.226897Z",
     "iopub.status.idle": "2022-09-23T11:47:26.568723Z",
     "shell.execute_reply": "2022-09-23T11:47:26.568152Z",
     "shell.execute_reply.started": "2022-09-23T11:47:11.227103Z"
    }
   },
   "outputs": [
    {
     "data": {
      "application/vnd.jupyter.widget-view+json": {
       "model_id": "58bacbb8010d47fcb35c6e8ce9e73247",
       "version_major": 2,
       "version_minor": 0
      },
      "text/plain": [
       "VBox()"
      ]
     },
     "metadata": {},
     "output_type": "display_data"
    },
    {
     "data": {
      "application/vnd.jupyter.widget-view+json": {
       "model_id": "",
       "version_major": 2,
       "version_minor": 0
      },
      "text/plain": [
       "FloatProgress(value=0.0, bar_style='info', description='Progress:', layout=Layout(height='25px', width='50%'),…"
      ]
     },
     "metadata": {},
     "output_type": "display_data"
    },
    {
     "name": "stdout",
     "output_type": "stream",
     "text": [
      "+---------------+-----------------+-----------+-----------------+-----------------+-------+----------------+--------+-----------------+----------------+----------+--------+------+---------+------+----------------+-----+--------------------+--------------------+------+------------+-------------+-------+------+---------+-------+--------+---------+------------+------------+---------------------------+--------------+----------------+--------------+-------------+--------------+--------+--------+-------------------+--------------------+-------------------------+---------------------+-------------------+----------------------+------------+----------------------+-------------+-----------------+-----------------+---------------+---------------+-----------------+-----------------+-----------------+-----------------+------------------+---------------------+----------------------+---------------+---------------+--------------------------+----------------------------+--------------+--------------+-----------------+-----------------+----------+----------+----------------+-----------------+-------------------------+-------------------------+----------------------+--------------------+--------------------+------------+-------------+----+------+\n",
      "|Time-In-Secs-EX|Radio-Altitude-EX|Main-WOW-EX|Pitch-Attitude-EX|   ExceedanceName|  Phase|TriggerCondition|FlightID|DesigFlightNumber|FlightNumberARMS|FlightDate|FromCity|ToCity|BlockTime|   ECN|    EmployeeName| RANK|           ChocksOff|            ChocksOn|DOMINT|AircraftType|AircraftModel|Payload|TailNo|Departure|Arrival|FlightNo|     Date|Time-In-Secs|Time-Per-Sec|BARO-CORRECTED-PALT-DERIVED|Altitude-BaroL|Magnetic-Heading|Pitch-Attitude|Roll-Attitude|Radio-Altitude|Nose-WOW|Main-WOW|Normal-Acceleration|Lateral-Acceleration|Longitudinal-Acceleration|Calibrated-Airspeed-L|AFCS-Selected-Speed|Vertical-Speed-Derived|Ground-Speed|Flap-Control-Selection|FLAP-POSITION|Power-Lever-Pos-L|Power-Lever-Pos-R|Torque-TQ-Eng-L|Torque-TQ-Eng-R|Condition-Lever-L|Condition-Lever-R|Prop-RPM-Np-Eng-L|Prop-RPM-Np-Eng-R|GPWS-Alert/Warning|GPWS-Glideslope-Alert|AFCS-Glideslope-Active|AFCS-LOC-Active|AFCS-VOR-Active|GLIDE-PATH-DEV-PILOT-ABOVE|GLIDE-PATH-DEV-COPILOT-ABOVE|DME-DISTANCE-1|DME-DISTANCE-2|VOR-1-SELECT-FREQ|VOR-2-SELECT-FREQ|WIND-ANGLE|WIND-SPEED|BRAKE-PRESS-LEFT|BRAKE-PRESS-RIGHT|Thrust-Rev-Low-Beta-Eng-L|Thrust-Rev-Low-Beta-Eng-R|AFCS-Autopilot-Engaged|            FileName|          LoadedDate|    LoadedBy|DataFrameName|year| month|\n",
      "+---------------+-----------------+-----------+-----------------+-----------------+-------+----------------+--------+-----------------+----------------+----------+--------+------+---------+------+----------------+-----+--------------------+--------------------+------+------------+-------------+-------+------+---------+-------+--------+---------+------------+------------+---------------------------+--------------+----------------+--------------+-------------+--------------+--------+--------+-------------------+--------------------+-------------------------+---------------------+-------------------+----------------------+------------+----------------------+-------------+-----------------+-----------------+---------------+---------------+-----------------+-----------------+-----------------+-----------------+------------------+---------------------+----------------------+---------------+---------------+--------------------------+----------------------------+--------------+--------------+-----------------+-----------------+----------+----------+----------------+-----------------+-------------------------+-------------------------+----------------------+--------------------+--------------------+------------+-------------+----+------+\n",
      "|             85|                0|    Gnd (1)|            D 0.7|PitchAttitudeHigh|TakeOff|             Low| 2811429|          SG 7402|            7402| 3/13/2022|     BOM|   DEL|  2:40:00|126810|VIRENDER  SEJWAL|CAPT.|2022-03-13T06:20:...|2022-03-13T09:10:...|   DOM|         DHC|         DHC-|  Cargo|VT-SUB|      BOM|    DEL| SG 7402|3/13/2022|          85|        null|                         30|           140|            28.7|         D 0.7|        R 0.2|             0| Gnd (1)| Gnd (1)|              1.005|              R 0.00|                    -0.01|                    0|                  0|                     0|           0|                  null|         null|             19.7|             18.7|           10.5|           10.5|             95.6|             95.1|              198|              200|       No Warn (0)|          No Warn (0)|           NOT ACT (0)|    NOT ACT (0)|    NOT ACT (0)|                         0|                           0|         1.125|         1.125|              100|             null|      null|      null|            56.6|             33.2|               Normal (0)|               Normal (0)|            NOT EN (0)|ALL ac=VT-SUB dep...|2022-09-19T07:22:...|precog-spark|      128 WPS|2022| March|\n",
      "|            628|                4|    Gnd (1)|            D 0.9|PitchAttitudeHigh|TakeOff|             Low| 2905129|          SG 3702|            3702| 8/19/2022|     GOI|   RAJ|  2:00:00|118613|VISHAL  BHARDWAJ|CAPT.|2022-08-19T13:27:...|2022-08-19T15:27:...|   DOM|         DHC|         DHC-|    Pax|VT-SUG|      GOI|    RAJ| SG 3702|8/19/2022|         628|       80918|                        166|           276|             174|         D 0.9|        L 0.1|             4| Gnd (1)| Gnd (1)|              0.997|              R 0.00|                    -0.01|                    0|                  0|                     0|           0|                    10|          9.9|             19.6|             20.1|              4|              2|             96.3|             95.9|              659|              659|       No Warn (0)|          No Warn (0)|           NOT ACT (0)|    NOT ACT (0)|    NOT ACT (0)|                         0|                           0|          null|          null|             null|             null|      null|      null|            52.7|               43|                  Low (1)|                  Low (1)|            NOT EN (0)|ALL ac=VT-SUG dep...|2022-09-19T08:07:...|precog-spark|      128 WPS|2022|August|\n",
      "|            480|                3|    Gnd (1)|            D 1.1|PitchAttitudeHigh|TakeOff|             Low| 2869931|          SG 3323|            3323| 5/14/2022|     BOM|   IXY|  1:30:00|118092|    NIDHI  HANDA|CAPT.|2022-05-14T11:34:...|2022-05-14T13:05:...|   DOM|         DHC|         DHC-|    Pax|VT-SUD|      BOM|    IXY| SG 3323|5/14/2022|         480|       61318|                         34|           222|            88.9|         D 1.1|            0|             3| Gnd (1)| Gnd (1)|              0.997|                   0|                    -0.01|                    0|                  0|                     0|           0|                    10|          9.8|             20.1|             20.2|              1|            2.5|             95.2|             94.6|              658|              658|       No Warn (0)|          No Warn (0)|           NOT ACT (0)|    NOT ACT (0)|    NOT ACT (0)|                         0|                           0|          null|          null|             null|             null|      null|      null|            37.1|             37.1|                  Low (1)|                  Low (1)|            NOT EN (0)|ALL ac=VT-SUD dep...|2022-09-19T09:06:...|precog-spark|      128 WPS|2022|   May|\n",
      "+---------------+-----------------+-----------+-----------------+-----------------+-------+----------------+--------+-----------------+----------------+----------+--------+------+---------+------+----------------+-----+--------------------+--------------------+------+------------+-------------+-------+------+---------+-------+--------+---------+------------+------------+---------------------------+--------------+----------------+--------------+-------------+--------------+--------+--------+-------------------+--------------------+-------------------------+---------------------+-------------------+----------------------+------------+----------------------+-------------+-----------------+-----------------+---------------+---------------+-----------------+-----------------+-----------------+-----------------+------------------+---------------------+----------------------+---------------+---------------+--------------------------+----------------------------+--------------+--------------+-----------------+-----------------+----------+----------+----------------+-----------------+-------------------------+-------------------------+----------------------+--------------------+--------------------+------------+-------------+----+------+"
     ]
    }
   ],
   "source": [
    "spark.sql('''\n",
    "\n",
    "                        SELECT \n",
    "                                `Time-In-Secs` as `Time-In-Secs-EX`,\n",
    "                                `Radio-Altitude` AS `Radio-Altitude-EX` ,\n",
    "                                `Main-WOW` AS `Main-WOW-EX`,\n",
    "                                `Pitch-Attitude` AS `Pitch-Attitude-EX`,\n",
    "                                'PitchAttitudeHigh'  as ExceedanceName,\n",
    "                                DE.Phase,\n",
    "                                CASE\n",
    "                                    WHEN\n",
    "                                            CASE\n",
    "                                            WHEN\n",
    "                                                    `Pitch-Attitude` LIKE 'U%'\n",
    "                                            THEN\n",
    "                                                    CASE\n",
    "                                                    WHEN\n",
    "                                                            INSTR(`Pitch-Attitude`,' ')>0\n",
    "                                                    THEN\n",
    "                                                            SUBSTRING(`Pitch-Attitude`, INSTR(`Pitch-Attitude`,' ')+1, LENGTH(`Pitch-Attitude`))\n",
    "                                                    ELSE\n",
    "                                                            NULL\n",
    "                                                    END\n",
    "                                            END                     > 10.0 \n",
    "                                    THEN\n",
    "                                            'High'\n",
    "                                    ELSE\n",
    "                                            'Low'\n",
    "                                    END TriggerCondition,\n",
    "                                    BC.*\n",
    "                                            \n",
    "                                            \n",
    "                        FROM\n",
    "                                Q400Interim BC\n",
    "                        \n",
    "                        INNER JOIN\n",
    "\n",
    "\n",
    "\n",
    "                                (\n",
    "                                    SELECT \n",
    "                                            FileName,\n",
    "                                            Phase,\n",
    "                                            MAX(`Time-In-Secs`) AS TriggerTime\n",
    "                                    FROM \n",
    "                                        (\n",
    "                                            SELECT \n",
    "\n",
    "                                                    CASE\n",
    "                                                        WHEN\n",
    "                                                                `Time-In-Secs` < DJ.MinTime\n",
    "                                                        THEN\n",
    "                                                                'TakeOff'\n",
    "                                                        WHEN\n",
    "                                                                `Time-In-Secs` between DJ.MinTime and DJ.MaxTime\n",
    "                                                        THEN\n",
    "                                                                'Airborne'\n",
    "                                                        WHEN\n",
    "                                                                `Time-In-Secs` >DJ.MaxTime\n",
    "                                                        THEN\n",
    "                                                                'Approach'\n",
    "                                                        END Phase,              \n",
    "\n",
    "                                                    BJ.*\n",
    "\n",
    "                                            FROM Q400Interim AS BJ\n",
    "\n",
    "                                            INNER JOIN(\n",
    "\n",
    "                                    SELECT \n",
    "\n",
    "                                    BI.FileName,\n",
    "                                    BI.`Radio-Altitude`,\n",
    "                                    MIN(`Time-In-Secs`) as MinTime,\n",
    "                                    MAX(`Time-In-Secs`) as MaxTime\n",
    "\n",
    "\n",
    "                                    FROM Q400Interim AS BI\n",
    "                                    INNER JOIN \n",
    "                                        (\n",
    "                                            SELECT \n",
    "                                                    FileName,\n",
    "                                                    MAX(`Radio-Altitude`) AS MaxRadioHeight\n",
    "                                            FROM Q400Interim\n",
    "\n",
    "                                            GROUP BY FileName) T1 \n",
    "                                    ON BI.FileName=T1.FileName \n",
    "                                    AND BI.`Radio-Altitude`=T1.MaxRadioHeight\n",
    "\n",
    "                                    GROUP BY \n",
    "                                        BI.FileName,\n",
    "                                        BI.`Radio-Altitude` ) DJ \n",
    "                        ON BJ.FileName=DJ.FileName ) DD\n",
    "\n",
    "                WHERE DD.Phase='TakeOff'\n",
    "                AND    DD.`Main-WOW` = 'Gnd (1)'\n",
    "                \n",
    "                GROUP BY\n",
    "                        DD.FileName,\n",
    "                        DD.Phase )DE\n",
    "                ON\n",
    "                        BC.FileName    = DE.FileName\n",
    "                AND     BC.`Time-In-Secs` = DE.TriggerTime\n",
    "''').show()"
   ]
  },
  {
   "cell_type": "code",
   "execution_count": 177,
   "id": "1957d9e4-8220-4027-916d-89d198fe06ea",
   "metadata": {
    "execution": {
     "iopub.execute_input": "2022-09-23T13:10:16.017225Z",
     "iopub.status.busy": "2022-09-23T13:10:16.016980Z",
     "iopub.status.idle": "2022-09-23T13:10:29.341086Z",
     "shell.execute_reply": "2022-09-23T13:10:29.340511Z",
     "shell.execute_reply.started": "2022-09-23T13:10:16.017178Z"
    },
    "tags": []
   },
   "outputs": [
    {
     "data": {
      "application/vnd.jupyter.widget-view+json": {
       "model_id": "9217f25a7fea4ce9bd4d20d501d52945",
       "version_major": 2,
       "version_minor": 0
      },
      "text/plain": [
       "VBox()"
      ]
     },
     "metadata": {},
     "output_type": "display_data"
    },
    {
     "data": {
      "application/vnd.jupyter.widget-view+json": {
       "model_id": "",
       "version_major": 2,
       "version_minor": 0
      },
      "text/plain": [
       "FloatProgress(value=0.0, bar_style='info', description='Progress:', layout=Layout(height='25px', width='50%'),…"
      ]
     },
     "metadata": {},
     "output_type": "display_data"
    },
    {
     "name": "stdout",
     "output_type": "stream",
     "text": [
      "+--------------------------------------------------------+-----------+\n",
      "|FileName                                                |TriggerTime|\n",
      "+--------------------------------------------------------+-----------+\n",
      "|ALL ac=VT-SUG dep=GOI arr=RAJ fn=SG 3702 dt=20220819.csv|628        |\n",
      "|ALL ac=VT-SUD dep=BOM arr=IXY fn=SG 3323 dt=20220514.csv|480        |\n",
      "|ALL ac=VT-SUB dep=BOM arr=DEL fn=SEJ7402 dt=20220313.csv|85         |\n",
      "+--------------------------------------------------------+-----------+"
     ]
    }
   ],
   "source": [
    "spark.sql('''\n",
    "\n",
    "                                    SELECT \n",
    "                                            FileName,\n",
    "                                            MAX(`Time-In-Secs`) AS TriggerTime\n",
    "                                    FROM \n",
    "                                        (\n",
    "                                            SELECT \n",
    "\n",
    "                                                    CASE\n",
    "                                                        WHEN\n",
    "                                                                `Time-In-Secs` < DJ.MinTime\n",
    "                                                        THEN\n",
    "                                                                'TakeOff'\n",
    "                                                        WHEN\n",
    "                                                                `Time-In-Secs` between DJ.MinTime and DJ.MaxTime\n",
    "                                                        THEN\n",
    "                                                                'Airborne'\n",
    "                                                        WHEN\n",
    "                                                                `Time-In-Secs` >DJ.MaxTime\n",
    "                                                        THEN\n",
    "                                                                'Approach'\n",
    "                                                        END Phase,              \n",
    "\n",
    "                                                    BJ.*\n",
    "\n",
    "                                            FROM Q400Interim AS BJ\n",
    "\n",
    "                                            INNER JOIN(\n",
    "\n",
    "                                    SELECT \n",
    "\n",
    "                                    BI.FileName,\n",
    "                                    BI.`Radio-Altitude`,\n",
    "                                    MIN(`Time-In-Secs`) as MinTime,\n",
    "                                    MAX(`Time-In-Secs`) as MaxTime\n",
    "\n",
    "\n",
    "                                    FROM Q400Interim AS BI\n",
    "                                    INNER JOIN \n",
    "                                        (\n",
    "                                            SELECT \n",
    "                                                    FileName,\n",
    "                                                    MAX(`Radio-Altitude`) AS MaxRadioHeight\n",
    "                                            FROM Q400Interim\n",
    "\n",
    "                                            GROUP BY FileName) T1 \n",
    "                                    ON BI.FileName=T1.FileName \n",
    "                                    AND BI.`Radio-Altitude`=T1.MaxRadioHeight\n",
    "\n",
    "                                    GROUP BY \n",
    "                                        BI.FileName,\n",
    "                                        BI.`Radio-Altitude` ) DJ \n",
    "                        ON BJ.FileName=DJ.FileName ) DD\n",
    "\n",
    "                WHERE DD.Phase='TakeOff'\n",
    "                AND    DD.`Main-WOW` = 'Gnd (1)'\n",
    "                \n",
    "                GROUP BY FileName\n",
    "                        ''').show(truncate=False)"
   ]
  },
  {
   "cell_type": "code",
   "execution_count": 174,
   "id": "5b7f1353-48cf-412f-bca3-547caafb3f84",
   "metadata": {
    "execution": {
     "iopub.execute_input": "2022-09-23T13:04:28.465273Z",
     "iopub.status.busy": "2022-09-23T13:04:28.465035Z",
     "iopub.status.idle": "2022-09-23T13:04:29.757886Z",
     "shell.execute_reply": "2022-09-23T13:04:29.757223Z",
     "shell.execute_reply.started": "2022-09-23T13:04:28.465250Z"
    },
    "tags": []
   },
   "outputs": [
    {
     "data": {
      "application/vnd.jupyter.widget-view+json": {
       "model_id": "a6542de00478485cad61afc0cd33c905",
       "version_major": 2,
       "version_minor": 0
      },
      "text/plain": [
       "VBox()"
      ]
     },
     "metadata": {},
     "output_type": "display_data"
    },
    {
     "data": {
      "application/vnd.jupyter.widget-view+json": {
       "model_id": "",
       "version_major": 2,
       "version_minor": 0
      },
      "text/plain": [
       "FloatProgress(value=0.0, bar_style='info', description='Progress:', layout=Layout(height='25px', width='50%'),…"
      ]
     },
     "metadata": {},
     "output_type": "display_data"
    },
    {
     "name": "stdout",
     "output_type": "stream",
     "text": [
      "+---------------------------------+\n",
      "|max(CAST(Time-In-Secs AS DOUBLE))|\n",
      "+---------------------------------+\n",
      "|730.0                            |\n",
      "+---------------------------------+"
     ]
    }
   ],
   "source": [
    "spark.sql(''' SELECT MAX(CAST(`Time-In-Secs` AS DOUBLE))\n",
    "                FROM Q400Interim \n",
    "                WHERE FileName='ALL ac=VT-SUG dep=GOI arr=RAJ fn=SG 3702 dt=20220819.csv'\n",
    "                AND CAST(`Time-In-Secs` AS DOUBLE) < 900\n",
    "               AND `Main-WOW` = 'Gnd (1)' ''').show(truncate=False) "
   ]
  },
  {
   "cell_type": "code",
   "execution_count": 170,
   "id": "c5f5d755-97cb-4f0b-bc3d-e4bdd667df04",
   "metadata": {
    "execution": {
     "iopub.execute_input": "2022-09-23T12:58:42.109190Z",
     "iopub.status.busy": "2022-09-23T12:58:42.108935Z",
     "iopub.status.idle": "2022-09-23T12:58:43.391376Z",
     "shell.execute_reply": "2022-09-23T12:58:43.390730Z",
     "shell.execute_reply.started": "2022-09-23T12:58:42.109165Z"
    },
    "tags": []
   },
   "outputs": [
    {
     "data": {
      "application/vnd.jupyter.widget-view+json": {
       "model_id": "836ee550aaf6487baff4f6b95b1a4146",
       "version_major": 2,
       "version_minor": 0
      },
      "text/plain": [
       "VBox()"
      ]
     },
     "metadata": {},
     "output_type": "display_data"
    },
    {
     "data": {
      "application/vnd.jupyter.widget-view+json": {
       "model_id": "",
       "version_major": 2,
       "version_minor": 0
      },
      "text/plain": [
       "FloatProgress(value=0.0, bar_style='info', description='Progress:', layout=Layout(height='25px', width='50%'),…"
      ]
     },
     "metadata": {},
     "output_type": "display_data"
    },
    {
     "name": "stdout",
     "output_type": "stream",
     "text": [
      "+------------+--------------+--------+--------------+--------------------------------------------------------+\n",
      "|Time-In-Secs|Radio-Altitude|Main-Wow|Pitch-Attitude|FileName                                                |\n",
      "+------------+--------------+--------+--------------+--------------------------------------------------------+\n",
      "|726         |4             |Gnd (1) |D 0.5         |ALL ac=VT-SUG dep=GOI arr=RAJ fn=SG 3702 dt=20220819.csv|\n",
      "|727         |3             |Gnd (1) |D 0.4         |ALL ac=VT-SUG dep=GOI arr=RAJ fn=SG 3702 dt=20220819.csv|\n",
      "|728         |4             |Gnd (1) |D 0.3         |ALL ac=VT-SUG dep=GOI arr=RAJ fn=SG 3702 dt=20220819.csv|\n",
      "|729         |4             |Gnd (1) |U 1.3         |ALL ac=VT-SUG dep=GOI arr=RAJ fn=SG 3702 dt=20220819.csv|\n",
      "|730         |6             |Gnd (1) |U 13.8        |ALL ac=VT-SUG dep=GOI arr=RAJ fn=SG 3702 dt=20220819.csv|\n",
      "|731         |8             |Air (0) |U 5.8         |ALL ac=VT-SUG dep=GOI arr=RAJ fn=SG 3702 dt=20220819.csv|\n",
      "|732         |11            |Air (0) |U 7.8         |ALL ac=VT-SUG dep=GOI arr=RAJ fn=SG 3702 dt=20220819.csv|\n",
      "|733         |20            |Air (0) |U 9.4         |ALL ac=VT-SUG dep=GOI arr=RAJ fn=SG 3702 dt=20220819.csv|\n",
      "|734         |30            |Air (0) |U 10.9        |ALL ac=VT-SUG dep=GOI arr=RAJ fn=SG 3702 dt=20220819.csv|\n",
      "|735         |52            |Air (0) |U 11.8        |ALL ac=VT-SUG dep=GOI arr=RAJ fn=SG 3702 dt=20220819.csv|\n",
      "|736         |93            |Air (0) |U 11.4        |ALL ac=VT-SUG dep=GOI arr=RAJ fn=SG 3702 dt=20220819.csv|\n",
      "|737         |126           |Air (0) |U 11.0        |ALL ac=VT-SUG dep=GOI arr=RAJ fn=SG 3702 dt=20220819.csv|\n",
      "|738         |160           |Air (0) |U 11.5        |ALL ac=VT-SUG dep=GOI arr=RAJ fn=SG 3702 dt=20220819.csv|\n",
      "|739         |199           |Air (0) |U 11.0        |ALL ac=VT-SUG dep=GOI arr=RAJ fn=SG 3702 dt=20220819.csv|\n",
      "|740         |233           |Air (0) |U 10.9        |ALL ac=VT-SUG dep=GOI arr=RAJ fn=SG 3702 dt=20220819.csv|\n",
      "|741         |269           |Air (0) |U 10.7        |ALL ac=VT-SUG dep=GOI arr=RAJ fn=SG 3702 dt=20220819.csv|\n",
      "|742         |304           |Air (0) |U 10.5        |ALL ac=VT-SUG dep=GOI arr=RAJ fn=SG 3702 dt=20220819.csv|\n",
      "|743         |335           |Air (0) |U 10.7        |ALL ac=VT-SUG dep=GOI arr=RAJ fn=SG 3702 dt=20220819.csv|\n",
      "|744         |371           |Air (0) |U 10.8        |ALL ac=VT-SUG dep=GOI arr=RAJ fn=SG 3702 dt=20220819.csv|\n",
      "|745         |407           |Air (0) |U 10.8        |ALL ac=VT-SUG dep=GOI arr=RAJ fn=SG 3702 dt=20220819.csv|\n",
      "+------------+--------------+--------+--------------+--------------------------------------------------------+\n",
      "only showing top 20 rows"
     ]
    }
   ],
   "source": [
    "spark.sql(''' SELECT `Time-In-Secs`,`Radio-Altitude`,`Main-Wow`,`Pitch-Attitude`,FileName\n",
    "                FROM Q400Interim \n",
    "                WHERE FileName='ALL ac=VT-SUG dep=GOI arr=RAJ fn=SG 3702 dt=20220819.csv'\n",
    "                AND `Time-In-Secs` > 725 ''').show(truncate=False)"
   ]
  },
  {
   "cell_type": "code",
   "execution_count": 109,
   "id": "2cf87c1d-005d-4479-a4f7-d6a772a7c4fa",
   "metadata": {
    "execution": {
     "iopub.execute_input": "2022-09-23T11:33:06.209957Z",
     "iopub.status.busy": "2022-09-23T11:33:06.209697Z",
     "iopub.status.idle": "2022-09-23T11:33:15.666157Z",
     "shell.execute_reply": "2022-09-23T11:33:15.665408Z",
     "shell.execute_reply.started": "2022-09-23T11:33:06.209931Z"
    },
    "tags": []
   },
   "outputs": [
    {
     "data": {
      "application/vnd.jupyter.widget-view+json": {
       "model_id": "1f3cbac7c0cb438cb7ad7e292cb97b4e",
       "version_major": 2,
       "version_minor": 0
      },
      "text/plain": [
       "VBox()"
      ]
     },
     "metadata": {},
     "output_type": "display_data"
    },
    {
     "data": {
      "application/vnd.jupyter.widget-view+json": {
       "model_id": "",
       "version_major": 2,
       "version_minor": 0
      },
      "text/plain": [
       "FloatProgress(value=0.0, bar_style='info', description='Progress:', layout=Layout(height='25px', width='50%'),…"
      ]
     },
     "metadata": {},
     "output_type": "display_data"
    },
    {
     "name": "stdout",
     "output_type": "stream",
     "text": [
      "+---------------+-----------------+-----------+-----------------+--------------+-----+----------------+--------+-----------------+----------------+----------+--------+------+---------+---+------------+----+---------+--------+------+------------+-------------+-------+------+---------+-------+--------+----+------------+------------+---------------------------+--------------+----------------+--------------+-------------+--------------+--------+--------+-------------------+--------------------+-------------------------+---------------------+-------------------+----------------------+------------+----------------------+-------------+-----------------+-----------------+---------------+---------------+-----------------+-----------------+-----------------+-----------------+------------------+---------------------+----------------------+---------------+---------------+--------------------------+----------------------------+--------------+--------------+-----------------+-----------------+----------+----------+----------------+-----------------+-------------------------+-------------------------+----------------------+--------+----------+--------+-------------+----+-----+\n",
      "|Time-In-Secs-EX|Radio-Altitude-EX|Main-WOW-EX|Pitch-Attitude-EX|ExceedanceName|Phase|TriggerCondition|FlightID|DesigFlightNumber|FlightNumberARMS|FlightDate|FromCity|ToCity|BlockTime|ECN|EmployeeName|RANK|ChocksOff|ChocksOn|DOMINT|AircraftType|AircraftModel|Payload|TailNo|Departure|Arrival|FlightNo|Date|Time-In-Secs|Time-Per-Sec|BARO-CORRECTED-PALT-DERIVED|Altitude-BaroL|Magnetic-Heading|Pitch-Attitude|Roll-Attitude|Radio-Altitude|Nose-WOW|Main-WOW|Normal-Acceleration|Lateral-Acceleration|Longitudinal-Acceleration|Calibrated-Airspeed-L|AFCS-Selected-Speed|Vertical-Speed-Derived|Ground-Speed|Flap-Control-Selection|FLAP-POSITION|Power-Lever-Pos-L|Power-Lever-Pos-R|Torque-TQ-Eng-L|Torque-TQ-Eng-R|Condition-Lever-L|Condition-Lever-R|Prop-RPM-Np-Eng-L|Prop-RPM-Np-Eng-R|GPWS-Alert/Warning|GPWS-Glideslope-Alert|AFCS-Glideslope-Active|AFCS-LOC-Active|AFCS-VOR-Active|GLIDE-PATH-DEV-PILOT-ABOVE|GLIDE-PATH-DEV-COPILOT-ABOVE|DME-DISTANCE-1|DME-DISTANCE-2|VOR-1-SELECT-FREQ|VOR-2-SELECT-FREQ|WIND-ANGLE|WIND-SPEED|BRAKE-PRESS-LEFT|BRAKE-PRESS-RIGHT|Thrust-Rev-Low-Beta-Eng-L|Thrust-Rev-Low-Beta-Eng-R|AFCS-Autopilot-Engaged|FileName|LoadedDate|LoadedBy|DataFrameName|year|month|\n",
      "+---------------+-----------------+-----------+-----------------+--------------+-----+----------------+--------+-----------------+----------------+----------+--------+------+---------+---+------------+----+---------+--------+------+------------+-------------+-------+------+---------+-------+--------+----+------------+------------+---------------------------+--------------+----------------+--------------+-------------+--------------+--------+--------+-------------------+--------------------+-------------------------+---------------------+-------------------+----------------------+------------+----------------------+-------------+-----------------+-----------------+---------------+---------------+-----------------+-----------------+-----------------+-----------------+------------------+---------------------+----------------------+---------------+---------------+--------------------------+----------------------------+--------------+--------------+-----------------+-----------------+----------+----------+----------------+-----------------+-------------------------+-------------------------+----------------------+--------+----------+--------+-------------+----+-----+\n",
      "+---------------+-----------------+-----------+-----------------+--------------+-----+----------------+--------+-----------------+----------------+----------+--------+------+---------+---+------------+----+---------+--------+------+------------+-------------+-------+------+---------+-------+--------+----+------------+------------+---------------------------+--------------+----------------+--------------+-------------+--------------+--------+--------+-------------------+--------------------+-------------------------+---------------------+-------------------+----------------------+------------+----------------------+-------------+-----------------+-----------------+---------------+---------------+-----------------+-----------------+-----------------+-----------------+------------------+---------------------+----------------------+---------------+---------------+--------------------------+----------------------------+--------------+--------------+-----------------+-----------------+----------+----------+----------------+-----------------+-------------------------+-------------------------+----------------------+--------+----------+--------+-------------+----+-----+"
     ]
    }
   ],
   "source": [
    "FinalDF.show()"
   ]
  },
  {
   "cell_type": "code",
   "execution_count": 83,
   "id": "05509768-7269-4e25-81d7-af04008fdbc3",
   "metadata": {
    "execution": {
     "iopub.execute_input": "2022-09-23T10:39:34.216255Z",
     "iopub.status.busy": "2022-09-23T10:39:34.216024Z",
     "iopub.status.idle": "2022-09-23T10:39:34.276072Z",
     "shell.execute_reply": "2022-09-23T10:39:34.275274Z",
     "shell.execute_reply.started": "2022-09-23T10:39:34.216231Z"
    },
    "tags": []
   },
   "outputs": [
    {
     "data": {
      "application/vnd.jupyter.widget-view+json": {
       "model_id": "dbefcb77e6f84e5a9e291e2906f3937f",
       "version_major": 2,
       "version_minor": 0
      },
      "text/plain": [
       "VBox()"
      ]
     },
     "metadata": {},
     "output_type": "display_data"
    },
    {
     "data": {
      "application/vnd.jupyter.widget-view+json": {
       "model_id": "",
       "version_major": 2,
       "version_minor": 0
      },
      "text/plain": [
       "FloatProgress(value=0.0, bar_style='info', description='Progress:', layout=Layout(height='25px', width='50%'),…"
      ]
     },
     "metadata": {},
     "output_type": "display_data"
    }
   ],
   "source": [
    "FifthQuery = spark.sql(f'''SELECT * FROM E WHERE TriggerCondition = 'High' \n",
    "                        and `Radio-Altitude` < '1000' \n",
    "                        and `Phase` = 'TakeOff' ''')"
   ]
  },
  {
   "cell_type": "code",
   "execution_count": 84,
   "id": "851ebc9c-428a-4649-a05b-7eba49991d45",
   "metadata": {
    "execution": {
     "iopub.execute_input": "2022-09-23T10:39:35.068261Z",
     "iopub.status.busy": "2022-09-23T10:39:35.068025Z",
     "iopub.status.idle": "2022-09-23T10:39:38.576829Z",
     "shell.execute_reply": "2022-09-23T10:39:38.563634Z",
     "shell.execute_reply.started": "2022-09-23T10:39:35.068236Z"
    },
    "tags": []
   },
   "outputs": [
    {
     "data": {
      "application/vnd.jupyter.widget-view+json": {
       "model_id": "7384b544edde43a6b0d73cdedacb73c0",
       "version_major": 2,
       "version_minor": 0
      },
      "text/plain": [
       "VBox()"
      ]
     },
     "metadata": {},
     "output_type": "display_data"
    },
    {
     "data": {
      "application/vnd.jupyter.widget-view+json": {
       "model_id": "",
       "version_major": 2,
       "version_minor": 0
      },
      "text/plain": [
       "FloatProgress(value=0.0, bar_style='info', description='Progress:', layout=Layout(height='25px', width='50%'),…"
      ]
     },
     "metadata": {},
     "output_type": "display_data"
    },
    {
     "name": "stdout",
     "output_type": "stream",
     "text": [
      "+---------------+------------------------------+-----------------+-------------------------+--------------+-----+----------------+--------+-----------------+----------------+----------+--------+------+---------+---+------------+----+---------+--------+------+------------+-------------+-------+------+---------+-------+--------+----+------------+------------+---------------------------+--------------+----------------+--------------+-------------+--------------+--------+--------+-------------------+--------------------+-------------------------+---------------------+-------------------+----------------------+------------+----------------------+-------------+-----------------+-----------------+---------------+---------------+-----------------+-----------------+-----------------+-----------------+------------------+---------------------+----------------------+---------------+---------------+--------------------------+----------------------------+--------------+--------------+-----------------+-----------------+----------+----------+----------------+-----------------+-------------------------+-------------------------+----------------------+--------+----------+--------+-------------+----+-----+\n",
      "|Time-In-Secs-EX|BARO-CORRECTED-PALT-DERIVED-EX|Radio-Altitude-EX|Vertical-Speed-Derived-EX|ExceedanceName|Phase|TriggerCondition|FlightID|DesigFlightNumber|FlightNumberARMS|FlightDate|FromCity|ToCity|BlockTime|ECN|EmployeeName|RANK|ChocksOff|ChocksOn|DOMINT|AircraftType|AircraftModel|Payload|TailNo|Departure|Arrival|FlightNo|Date|Time-In-Secs|Time-Per-Sec|BARO-CORRECTED-PALT-DERIVED|Altitude-BaroL|Magnetic-Heading|Pitch-Attitude|Roll-Attitude|Radio-Altitude|Nose-WOW|Main-WOW|Normal-Acceleration|Lateral-Acceleration|Longitudinal-Acceleration|Calibrated-Airspeed-L|AFCS-Selected-Speed|Vertical-Speed-Derived|Ground-Speed|Flap-Control-Selection|FLAP-POSITION|Power-Lever-Pos-L|Power-Lever-Pos-R|Torque-TQ-Eng-L|Torque-TQ-Eng-R|Condition-Lever-L|Condition-Lever-R|Prop-RPM-Np-Eng-L|Prop-RPM-Np-Eng-R|GPWS-Alert/Warning|GPWS-Glideslope-Alert|AFCS-Glideslope-Active|AFCS-LOC-Active|AFCS-VOR-Active|GLIDE-PATH-DEV-PILOT-ABOVE|GLIDE-PATH-DEV-COPILOT-ABOVE|DME-DISTANCE-1|DME-DISTANCE-2|VOR-1-SELECT-FREQ|VOR-2-SELECT-FREQ|WIND-ANGLE|WIND-SPEED|BRAKE-PRESS-LEFT|BRAKE-PRESS-RIGHT|Thrust-Rev-Low-Beta-Eng-L|Thrust-Rev-Low-Beta-Eng-R|AFCS-Autopilot-Engaged|FileName|LoadedDate|LoadedBy|DataFrameName|year|month|\n",
      "+---------------+------------------------------+-----------------+-------------------------+--------------+-----+----------------+--------+-----------------+----------------+----------+--------+------+---------+---+------------+----+---------+--------+------+------------+-------------+-------+------+---------+-------+--------+----+------------+------------+---------------------------+--------------+----------------+--------------+-------------+--------------+--------+--------+-------------------+--------------------+-------------------------+---------------------+-------------------+----------------------+------------+----------------------+-------------+-----------------+-----------------+---------------+---------------+-----------------+-----------------+-----------------+-----------------+------------------+---------------------+----------------------+---------------+---------------+--------------------------+----------------------------+--------------+--------------+-----------------+-----------------+----------+----------+----------------+-----------------+-------------------------+-------------------------+----------------------+--------+----------+--------+-------------+----+-----+\n",
      "+---------------+------------------------------+-----------------+-------------------------+--------------+-----+----------------+--------+-----------------+----------------+----------+--------+------+---------+---+------------+----+---------+--------+------+------------+-------------+-------+------+---------+-------+--------+----+------------+------------+---------------------------+--------------+----------------+--------------+-------------+--------------+--------+--------+-------------------+--------------------+-------------------------+---------------------+-------------------+----------------------+------------+----------------------+-------------+-----------------+-----------------+---------------+---------------+-----------------+-----------------+-----------------+-----------------+------------------+---------------------+----------------------+---------------+---------------+--------------------------+----------------------------+--------------+--------------+-----------------+-----------------+----------+----------+----------------+-----------------+-------------------------+-------------------------+----------------------+--------+----------+--------+-------------+----+-----+"
     ]
    }
   ],
   "source": [
    "FifthQuery.show()"
   ]
  },
  {
   "cell_type": "code",
   "execution_count": 57,
   "id": "912e44d2-04c3-42eb-b8c5-a6c36497b2c4",
   "metadata": {
    "execution": {
     "iopub.execute_input": "2022-09-23T09:53:37.534283Z",
     "iopub.status.busy": "2022-09-23T09:53:37.534001Z",
     "iopub.status.idle": "2022-09-23T09:53:37.816447Z",
     "shell.execute_reply": "2022-09-23T09:53:37.815689Z",
     "shell.execute_reply.started": "2022-09-23T09:53:37.534234Z"
    },
    "tags": []
   },
   "outputs": [
    {
     "data": {
      "application/vnd.jupyter.widget-view+json": {
       "model_id": "f53cff54d3864c99a04fe0466fbf4c8e",
       "version_major": 2,
       "version_minor": 0
      },
      "text/plain": [
       "VBox()"
      ]
     },
     "metadata": {},
     "output_type": "display_data"
    },
    {
     "data": {
      "application/vnd.jupyter.widget-view+json": {
       "model_id": "",
       "version_major": 2,
       "version_minor": 0
      },
      "text/plain": [
       "FloatProgress(value=0.0, bar_style='info', description='Progress:', layout=Layout(height='25px', width='50%'),…"
      ]
     },
     "metadata": {},
     "output_type": "display_data"
    }
   ],
   "source": [
    "FifthQuery = spark.sql('''\n",
    "\n",
    "                SELECT * FROM E WHERE \n",
    "                TriggerCondition = 'High' \n",
    "                and cast(replace(`Vertical-Speed-Derived`,'*','') as int) > -300\n",
    "                and `Radio-Altitude` < 1000\n",
    "                and `Phase` = 'Approach'\n",
    "                 \n",
    "                ''')\n",
    "#"
   ]
  },
  {
   "cell_type": "code",
   "execution_count": 58,
   "id": "3068430e-a737-4ba0-90f8-ae31c6002026",
   "metadata": {
    "execution": {
     "iopub.execute_input": "2022-09-23T09:53:37.817786Z",
     "iopub.status.busy": "2022-09-23T09:53:37.817492Z",
     "iopub.status.idle": "2022-09-23T09:53:41.131546Z",
     "shell.execute_reply": "2022-09-23T09:53:41.130863Z",
     "shell.execute_reply.started": "2022-09-23T09:53:37.817728Z"
    },
    "tags": []
   },
   "outputs": [
    {
     "data": {
      "application/vnd.jupyter.widget-view+json": {
       "model_id": "ff4284a8b4c742cb8ed1e67b2fe1a42e",
       "version_major": 2,
       "version_minor": 0
      },
      "text/plain": [
       "VBox()"
      ]
     },
     "metadata": {},
     "output_type": "display_data"
    },
    {
     "data": {
      "application/vnd.jupyter.widget-view+json": {
       "model_id": "",
       "version_major": 2,
       "version_minor": 0
      },
      "text/plain": [
       "FloatProgress(value=0.0, bar_style='info', description='Progress:', layout=Layout(height='25px', width='50%'),…"
      ]
     },
     "metadata": {},
     "output_type": "display_data"
    },
    {
     "name": "stdout",
     "output_type": "stream",
     "text": [
      "+---------------+------------------------------+-----------------+-------------------------+-----------------+-------------------+--------+----------------+--------+-----------------+----------------+----------+--------+------+---------+------+----------------+-----+--------------------+--------------------+------+------------+-------------+-------+------+---------+-------+--------+---------+------------+------------+---------------------------+--------------+----------------+--------------+-------------+--------------+--------+--------+-------------------+--------------------+-------------------------+---------------------+-------------------+----------------------+------------+----------------------+-------------+-----------------+-----------------+---------------+---------------+-----------------+-----------------+-----------------+-----------------+------------------+---------------------+----------------------+---------------+---------------+--------------------------+----------------------------+--------------+--------------+-----------------+-----------------+----------+----------+----------------+-----------------+-------------------------+-------------------------+----------------------+--------------------+--------------------+------------+-------------+----+------+\n",
      "|Time-In-Secs-EX|BARO-CORRECTED-PALT-DERIVED-EX|Radio-Altitude-EX|Vertical-Speed-Derived-EX|   ExceedanceName|      OccurenceTime|   Phase|TriggerCondition|FlightID|DesigFlightNumber|FlightNumberARMS|FlightDate|FromCity|ToCity|BlockTime|   ECN|    EmployeeName| RANK|           ChocksOff|            ChocksOn|DOMINT|AircraftType|AircraftModel|Payload|TailNo|Departure|Arrival|FlightNo|     Date|Time-In-Secs|Time-Per-Sec|BARO-CORRECTED-PALT-DERIVED|Altitude-BaroL|Magnetic-Heading|Pitch-Attitude|Roll-Attitude|Radio-Altitude|Nose-WOW|Main-WOW|Normal-Acceleration|Lateral-Acceleration|Longitudinal-Acceleration|Calibrated-Airspeed-L|AFCS-Selected-Speed|Vertical-Speed-Derived|Ground-Speed|Flap-Control-Selection|FLAP-POSITION|Power-Lever-Pos-L|Power-Lever-Pos-R|Torque-TQ-Eng-L|Torque-TQ-Eng-R|Condition-Lever-L|Condition-Lever-R|Prop-RPM-Np-Eng-L|Prop-RPM-Np-Eng-R|GPWS-Alert/Warning|GPWS-Glideslope-Alert|AFCS-Glideslope-Active|AFCS-LOC-Active|AFCS-VOR-Active|GLIDE-PATH-DEV-PILOT-ABOVE|GLIDE-PATH-DEV-COPILOT-ABOVE|DME-DISTANCE-1|DME-DISTANCE-2|VOR-1-SELECT-FREQ|VOR-2-SELECT-FREQ|WIND-ANGLE|WIND-SPEED|BRAKE-PRESS-LEFT|BRAKE-PRESS-RIGHT|Thrust-Rev-Low-Beta-Eng-L|Thrust-Rev-Low-Beta-Eng-R|AFCS-Autopilot-Engaged|            FileName|          LoadedDate|    LoadedBy|DataFrameName|year| month|\n",
      "+---------------+------------------------------+-----------------+-------------------------+-----------------+-------------------+--------+----------------+--------+-----------------+----------------+----------+--------+------+---------+------+----------------+-----+--------------------+--------------------+------+------------+-------------+-------+------+---------+-------+--------+---------+------------+------------+---------------------------+--------------+----------------+--------------+-------------+--------------+--------+--------+-------------------+--------------------+-------------------------+---------------------+-------------------+----------------------+------------+----------------------+-------------+-----------------+-----------------+---------------+---------------+-----------------+-----------------+-----------------+-----------------+------------------+---------------------+----------------------+---------------+---------------+--------------------------+----------------------------+--------------+--------------+-----------------+-----------------+----------+----------+----------------+-----------------+-------------------------+-------------------------+----------------------+--------------------+--------------------+------------+-------------+----+------+\n",
      "|           6529|                          1097|              799|                     -119|HighRateofDescent|2022-08-19 15:15:49|Approach|            High| 2905129|          SG 3702|            3702| 8/19/2022|     GOI|   RAJ|  2:00:00|118613|VISHAL  BHARDWAJ|CAPT.|2022-08-19T13:27:...|2022-08-19T15:27:...|   DOM|         DHC|         DHC-|    Pax|VT-SUG|      GOI|    RAJ| SG 3702|8/19/2022|        6529|        null|                       1097|          1362|           228.1|         D 2.5|        R 0.9|           799| Air (0)| Air (0)|              0.903|              L 0.01|                    -0.05|                128.5|                  0|                  -119|         119|                  null|         null|             46.2|             46.6|             24|             24|             96.4|               96|             1021|             1019|       No Warn (0)|          No Warn (0)|            Active (1)|     Active (1)|    NOT ACT (0)|                   FD 0.11|                       0.268|          2.25|          2.25|            110.9|             null|      null|      null|            56.6|             46.9|               Normal (0)|               Normal (0)|           Engaged (1)|ALL ac=VT-SUG dep...|2022-09-19T08:07:...|precog-spark|      128 WPS|2022|August|\n",
      "|           6530|                          1081|              762|                     -250|HighRateofDescent|2022-08-19 15:15:50|Approach|            High| 2905129|          SG 3702|            3702| 8/19/2022|     GOI|   RAJ|  2:00:00|118613|VISHAL  BHARDWAJ|CAPT.|2022-08-19T13:27:...|2022-08-19T15:27:...|   DOM|         DHC|         DHC-|    Pax|VT-SUG|      GOI|    RAJ| SG 3702|8/19/2022|        6530|        null|                       1081|          1346|           228.4|         D 2.2|        R 1.8|           762| Air (0)| Air (0)|              0.958|              R 0.01|                    -0.04|                  129|                  0|                  -250|         119|                    35|         35.3|             46.2|             46.5|           23.5|           23.5|             96.4|               96|             1018|             1019|       No Warn (0)|          No Warn (0)|            Active (1)|     Active (1)|    NOT ACT (0)|                   FD 0.09|                       0.232|          null|          null|             null|             null|     233.4|        15|            52.7|             46.9|               Normal (0)|               Normal (0)|           Engaged (1)|ALL ac=VT-SUG dep...|2022-09-19T08:07:...|precog-spark|      128 WPS|2022|August|\n",
      "|           6531|                          1053|              782|                     -299|HighRateofDescent|2022-08-19 15:15:51|Approach|            High| 2905129|          SG 3702|            3702| 8/19/2022|     GOI|   RAJ|  2:00:00|118613|VISHAL  BHARDWAJ|CAPT.|2022-08-19T13:27:...|2022-08-19T15:27:...|   DOM|         DHC|         DHC-|    Pax|VT-SUG|      GOI|    RAJ| SG 3702|8/19/2022|        6531|        null|                       1053|          1318|           228.1|         D 1.7|        R 2.6|           782| Air (0)| Air (0)|              1.044|              R 0.03|                    -0.03|                  127|                  0|                  -299|         118|                  null|         null|             46.1|             46.5|           23.5|           23.5|             96.4|             95.9|             1020|             1019|       No Warn (0)|          No Warn (0)|            Active (1)|     Active (1)|    NOT ACT (0)|                   FD 0.04|                       0.179|          null|          null|             null|            110.9|      null|      null|            52.7|               43|               Normal (0)|               Normal (0)|           Engaged (1)|ALL ac=VT-SUG dep...|2022-09-19T08:07:...|precog-spark|      128 WPS|2022|August|\n",
      "|           6543|                           929|              633|                     -150|HighRateofDescent|2022-08-19 15:16:03|Approach|            High| 2905129|          SG 3702|            3702| 8/19/2022|     GOI|   RAJ|  2:00:00|118613|VISHAL  BHARDWAJ|CAPT.|2022-08-19T13:27:...|2022-08-19T15:27:...|   DOM|         DHC|         DHC-|    Pax|VT-SUG|      GOI|    RAJ| SG 3702|8/19/2022|        6543|        null|                        929|          1194|           230.3|         D 0.8|        L 0.3|           633| Air (0)| Air (0)|              0.981|              R 0.01|                    -0.01|                123.5|                  0|                  -150|         116|                  null|         null|             46.8|             47.2|           24.5|           25.5|             96.4|             95.9|             1019|             1019|       No Warn (0)|          No Warn (0)|            Active (1)|     Active (1)|    NOT ACT (0)|                   FD 0.05|                       0.214|          null|          null|             null|            110.9|      null|      null|            52.7|             46.9|               Normal (0)|               Normal (0)|           Engaged (1)|ALL ac=VT-SUG dep...|2022-09-19T08:07:...|precog-spark|      128 WPS|2022|August|\n",
      "|           6573|                           631|              284|                     -240|HighRateofDescent|2022-08-19 15:16:33|Approach|            High| 2905129|          SG 3702|            3702| 8/19/2022|     GOI|   RAJ|  2:00:00|118613|VISHAL  BHARDWAJ|CAPT.|2022-08-19T13:27:...|2022-08-19T15:27:...|   DOM|         DHC|         DHC-|    Pax|VT-SUG|      GOI|    RAJ| SG 3702|8/19/2022|        6573|        null|                        631|           896|           227.5|         D 1.6|        R 1.1|           284| Air (0)| Air (0)|              1.001|              L 0.02|                    -0.05|                  131|                  0|                  -240|         119|                  null|         null|             46.1|             46.5|           22.5|             22|             96.5|               96|             1022|             1020|       No Warn (0)|          No Warn (0)|            Active (1)|     Active (1)|    NOT ACT (0)|                   FD 0.07|                       0.161|          0.75|          0.75|            110.9|             null|      null|      null|            52.7|             46.9|               Normal (0)|               Normal (0)|            NOT EN (0)|ALL ac=VT-SUG dep...|2022-09-19T08:07:...|precog-spark|      128 WPS|2022|August|\n",
      "|           6595|                           393|                8|                      -30|HighRateofDescent|2022-08-19 15:16:55|Approach|            High| 2905129|          SG 3702|            3702| 8/19/2022|     GOI|   RAJ|  2:00:00|118613|VISHAL  BHARDWAJ|CAPT.|2022-08-19T13:27:...|2022-08-19T15:27:...|   DOM|         DHC|         DHC-|    Pax|VT-SUG|      GOI|    RAJ| SG 3702|8/19/2022|        6595|        null|                        393|           658|           226.4|         U 2.7|        L 2.4|             8| Air (0)| Air (0)|              1.114|              L 0.05|                     0.02|                116.5|                  0|                   -30|         115|                  null|         null|             46.4|             46.6|             24|             25|             96.4|               96|             1020|             1018|       No Warn (0)|          No Warn (0)|           NOT ACT (0)|    NOT ACT (0)|    NOT ACT (0)|                         0|                           0|          null|          null|             null|            115.4|      null|      null|            52.7|               43|               Normal (0)|               Normal (0)|            NOT EN (0)|ALL ac=VT-SUG dep...|2022-09-19T08:07:...|precog-spark|      128 WPS|2022|August|\n",
      "|           5008|                           361|              337|                     -270|HighRateofDescent|2022-05-14 12:57:28|Approach|            High| 2869931|          SG 3323|            3323| 5/14/2022|     BOM|   IXY|  1:30:00|118092|    NIDHI  HANDA|CAPT.|2022-05-14T11:34:...|2022-05-14T13:05:...|   DOM|         DHC|         DHC-|    Pax|VT-SUD|      BOM|    IXY| SG 3323|5/14/2022|        5008|       72846|                        361|           704|             233|         U 0.8|        L 0.3|           337| Air (0)| Air (0)|              1.071|              R 0.03|                     0.01|                118.5|                  0|                  -270|         119|                    35|           35|             47.7|               47|           21.5|             22|             95.3|             94.7|             1020|             1019|       No Warn (0)|          No Warn (0)|           NOT ACT (0)|    NOT ACT (0)|    NOT ACT (0)|                         0|                           0|          null|          null|             null|             null|      null|      null|            33.2|             37.1|               Normal (0)|               Normal (0)|            NOT EN (0)|ALL ac=VT-SUD dep...|2022-09-19T09:06:...|precog-spark|      128 WPS|2022|   May|\n",
      "|           5034|                            75|               12|                     -270|HighRateofDescent|2022-05-14 12:57:54|Approach|            High| 2869931|          SG 3323|            3323| 5/14/2022|     BOM|   IXY|  1:30:00|118092|    NIDHI  HANDA|CAPT.|2022-05-14T11:34:...|2022-05-14T13:05:...|   DOM|         DHC|         DHC-|    Pax|VT-SUD|      BOM|    IXY| SG 3323|5/14/2022|        5034|        null|                         75|           418|           230.7|         U 1.2|        L 0.1|            12| Air (0)| Air (0)|              1.021|              L 0.03|                     0.02|                  118|                  0|                  -270|         123|                    35|         34.9|             47.5|             47.2|             27|           25.5|             95.4|             94.6|             1017|             1017|       No Warn (0)|          No Warn (0)|           NOT ACT (0)|    NOT ACT (0)|    NOT ACT (0)|                         0|                           0|          null|          null|             null|             null|     274.2|         5|            37.1|             37.1|               Normal (0)|               Normal (0)|            NOT EN (0)|ALL ac=VT-SUD dep...|2022-09-19T09:06:...|precog-spark|      128 WPS|2022|   May|\n",
      "|           5036|                            69|                8|                      -60|HighRateofDescent|2022-05-14 12:57:56|Approach|            High| 2869931|          SG 3323|            3323| 5/14/2022|     BOM|   IXY|  1:30:00|118092|    NIDHI  HANDA|CAPT.|2022-05-14T11:34:...|2022-05-14T13:05:...|   DOM|         DHC|         DHC-|    Pax|VT-SUD|      BOM|    IXY| SG 3323|5/14/2022|        5036|       72914|                         69|           412|           230.9|         U 1.4|        R 2.0|             8| Air (0)| Air (0)|              0.978|              L 0.00|                    -0.01|                118.5|                  0|                   -60|         123|                    35|         34.9|             45.4|             45.5|           23.5|           20.5|             95.4|             94.7|             1014|             1014|       No Warn (0)|          No Warn (0)|           NOT ACT (0)|    NOT ACT (0)|    NOT ACT (0)|                         0|                           0|          null|          null|             null|             null|      null|      null|            33.2|             37.1|               Normal (0)|               Normal (0)|            NOT EN (0)|ALL ac=VT-SUD dep...|2022-09-19T09:06:...|precog-spark|      128 WPS|2022|   May|\n",
      "|           8795|                           736|                6|                     -180|HighRateofDescent|2022-03-13 08:46:35|Approach|            High| 2811429|          SG 7402|            7402| 3/13/2022|     BOM|   DEL|  2:40:00|126810|VIRENDER  SEJWAL|CAPT.|2022-03-13T06:20:...|2022-03-13T09:10:...|   DOM|         DHC|         DHC-|  Cargo|VT-SUB|      BOM|    DEL| SG 7402|3/13/2022|        8795|        null|                        736|           742|           272.4|         U 2.9|        R 2.4|             6| Air (0)| Air (0)|               0.97|              R 0.02|                     0.05|                125.5|                  0|                  -180|         125|                  null|         null|             45.6|             45.4|           15.5|             15|             95.4|             95.8|             1019|             1019|       No Warn (0)|          No Warn (0)|            Active (1)|     Active (1)|    NOT ACT (0)|                   FU 2.11|                     -1.8929|          null|          null|             null|            110.5|      null|      null|            56.6|             33.2|               Normal (0)|               Normal (0)|            NOT EN (0)|ALL ac=VT-SUB dep...|2022-09-19T07:22:...|precog-spark|      128 WPS|2022| March|\n",
      "+---------------+------------------------------+-----------------+-------------------------+-----------------+-------------------+--------+----------------+--------+-----------------+----------------+----------+--------+------+---------+------+----------------+-----+--------------------+--------------------+------+------------+-------------+-------+------+---------+-------+--------+---------+------------+------------+---------------------------+--------------+----------------+--------------+-------------+--------------+--------+--------+-------------------+--------------------+-------------------------+---------------------+-------------------+----------------------+------------+----------------------+-------------+-----------------+-----------------+---------------+---------------+-----------------+-----------------+-----------------+-----------------+------------------+---------------------+----------------------+---------------+---------------+--------------------------+----------------------------+--------------+--------------+-----------------+-----------------+----------+----------+----------------+-----------------+-------------------------+-------------------------+----------------------+--------------------+--------------------+------------+-------------+----+------+"
     ]
    }
   ],
   "source": [
    "FifthQuery.show()"
   ]
  },
  {
   "cell_type": "code",
   "execution_count": 19,
   "id": "4c5f86b0-074f-4011-aa69-6cb5a516cf64",
   "metadata": {
    "execution": {
     "iopub.execute_input": "2022-09-21T10:00:11.727052Z",
     "iopub.status.busy": "2022-09-21T10:00:11.726735Z",
     "iopub.status.idle": "2022-09-21T10:00:11.788739Z",
     "shell.execute_reply": "2022-09-21T10:00:11.788127Z",
     "shell.execute_reply.started": "2022-09-21T10:00:11.727018Z"
    },
    "tags": []
   },
   "outputs": [
    {
     "data": {
      "application/vnd.jupyter.widget-view+json": {
       "model_id": "32ee451a083d4a66a3af197947197a93",
       "version_major": 2,
       "version_minor": 0
      },
      "text/plain": [
       "VBox()"
      ]
     },
     "metadata": {},
     "output_type": "display_data"
    },
    {
     "data": {
      "application/vnd.jupyter.widget-view+json": {
       "model_id": "",
       "version_major": 2,
       "version_minor": 0
      },
      "text/plain": [
       "FloatProgress(value=0.0, bar_style='info', description='Progress:', layout=Layout(height='25px', width='50%'),…"
      ]
     },
     "metadata": {},
     "output_type": "display_data"
    }
   ],
   "source": [
    "#FourthTestQuery.show(5, False)"
   ]
  },
  {
   "cell_type": "code",
   "execution_count": null,
   "id": "dd641aa0-7037-43d9-be9d-392972db2dfe",
   "metadata": {},
   "outputs": [],
   "source": []
  },
  {
   "cell_type": "code",
   "execution_count": 14,
   "id": "f253e24d-14b5-405b-9379-04e9ac3ed91c",
   "metadata": {
    "execution": {
     "iopub.execute_input": "2022-09-21T11:52:20.063343Z",
     "iopub.status.busy": "2022-09-21T11:52:20.063098Z",
     "iopub.status.idle": "2022-09-21T11:52:20.325998Z",
     "shell.execute_reply": "2022-09-21T11:52:20.325045Z",
     "shell.execute_reply.started": "2022-09-21T11:52:20.063317Z"
    },
    "tags": []
   },
   "outputs": [
    {
     "data": {
      "application/vnd.jupyter.widget-view+json": {
       "model_id": "38896e9dbbb94ae7b0a25c9db963af6e",
       "version_major": 2,
       "version_minor": 0
      },
      "text/plain": [
       "VBox()"
      ]
     },
     "metadata": {},
     "output_type": "display_data"
    },
    {
     "data": {
      "application/vnd.jupyter.widget-view+json": {
       "model_id": "",
       "version_major": 2,
       "version_minor": 0
      },
      "text/plain": [
       "FloatProgress(value=0.0, bar_style='info', description='Progress:', layout=Layout(height='25px', width='50%'),…"
      ]
     },
     "metadata": {},
     "output_type": "display_data"
    }
   ],
   "source": [
    "FifthQuery = spark.sql('''\n",
    "\n",
    "                    SELECT * FROM \n",
    "                    \n",
    "                    (\n",
    "                    \n",
    "                    select a1.`Time-In-Secs` as `Time-In-Secs-EX`,\n",
    "                    \n",
    "                    a1.`BARO-CORRECTED-PALT-DERIVED` as `BARO-CORRECTED-PALT-DERIVED-EX`,\n",
    "                    \n",
    "                    a1.`Radio-Altitude` as `Radio-Altitude-EX`,\n",
    "                    \n",
    "                    REPLACE(a1.`FLAP-POSITION`,'*','') as `FLAP-POSITION-EX`,\n",
    "                    \n",
    "                    a1.`Main-WOW`,\n",
    "                    \n",
    "                    'LateLandingFlap' as ExceedanceName,\n",
    "                    \n",
    "                    a1.filename,\n",
    "                    \n",
    "                    case \n",
    "                    \n",
    "                    when Cast(`Time-In-Secs` as int)<D.MinTime Then 'TakeOff'\n",
    "                    \n",
    "                    when Cast(`Time-In-Secs` as int) between D.MinTime and D.MaxTime Then 'Airborne'\n",
    "                    \n",
    "                    when Cast(`Time-In-Secs` as int)>D.MaxTime Then 'Approach' end Phase,\n",
    "                    \n",
    "                    ROW_NUMBER() over(partition by a1.filename order by `Time-In-Secs`) RN\n",
    "                    \n",
    "                    from Q400Interim a1\n",
    "                    \n",
    "                    inner join D  \n",
    "                    \n",
    "                    on a1.FileName = D.FileName\n",
    "                    \n",
    "                    \n",
    "                    where Cast(`Time-In-Secs` as float)>D.MaxTime \n",
    "                    \n",
    "                    and `Radio-Altitude` < 1000 \n",
    "                    \n",
    "                    and `FLAP-POSITION` IS NOT NULL \n",
    "                    \n",
    "                    and `Main-WOW` = 'Gnd (1)'\n",
    "                    \n",
    "                    )\n",
    "                    \n",
    "                    WHERE RN = 1\n",
    "                    \n",
    "                   ''')"
   ]
  },
  {
   "cell_type": "code",
   "execution_count": 15,
   "id": "8e8318ae-e383-4a7e-9227-eb227c500a6b",
   "metadata": {
    "execution": {
     "iopub.execute_input": "2022-09-21T11:52:21.496466Z",
     "iopub.status.busy": "2022-09-21T11:52:21.496216Z",
     "iopub.status.idle": "2022-09-21T11:52:21.767618Z",
     "shell.execute_reply": "2022-09-21T11:52:21.766960Z",
     "shell.execute_reply.started": "2022-09-21T11:52:21.496442Z"
    },
    "tags": []
   },
   "outputs": [
    {
     "data": {
      "application/vnd.jupyter.widget-view+json": {
       "model_id": "d80cec7565714756a3a75dde6e6a96e4",
       "version_major": 2,
       "version_minor": 0
      },
      "text/plain": [
       "VBox()"
      ]
     },
     "metadata": {},
     "output_type": "display_data"
    },
    {
     "data": {
      "application/vnd.jupyter.widget-view+json": {
       "model_id": "",
       "version_major": 2,
       "version_minor": 0
      },
      "text/plain": [
       "FloatProgress(value=0.0, bar_style='info', description='Progress:', layout=Layout(height='25px', width='50%'),…"
      ]
     },
     "metadata": {},
     "output_type": "display_data"
    }
   ],
   "source": [
    "FifthQuery.createOrReplaceTempView('FifthQuery')"
   ]
  },
  {
   "cell_type": "code",
   "execution_count": 16,
   "id": "2091334c-ffcf-4ceb-afef-6201ca6b8c4d",
   "metadata": {
    "execution": {
     "iopub.execute_input": "2022-09-21T11:52:23.142543Z",
     "iopub.status.busy": "2022-09-21T11:52:23.142312Z",
     "iopub.status.idle": "2022-09-21T11:52:26.442562Z",
     "shell.execute_reply": "2022-09-21T11:52:26.441828Z",
     "shell.execute_reply.started": "2022-09-21T11:52:23.142518Z"
    },
    "tags": []
   },
   "outputs": [
    {
     "data": {
      "application/vnd.jupyter.widget-view+json": {
       "model_id": "3e8b70dc08db4294b282909a7c060264",
       "version_major": 2,
       "version_minor": 0
      },
      "text/plain": [
       "VBox()"
      ]
     },
     "metadata": {},
     "output_type": "display_data"
    },
    {
     "data": {
      "application/vnd.jupyter.widget-view+json": {
       "model_id": "",
       "version_major": 2,
       "version_minor": 0
      },
      "text/plain": [
       "FloatProgress(value=0.0, bar_style='info', description='Progress:', layout=Layout(height='25px', width='50%'),…"
      ]
     },
     "metadata": {},
     "output_type": "display_data"
    },
    {
     "name": "stdout",
     "output_type": "stream",
     "text": [
      "+---------------+------------------------------+-----------------+----------------+--------+---------------+--------------------------------------------------------+--------+---+\n",
      "|Time-In-Secs-EX|BARO-CORRECTED-PALT-DERIVED-EX|Radio-Altitude-EX|FLAP-POSITION-EX|Main-WOW|ExceedanceName |filename                                                |Phase   |RN |\n",
      "+---------------+------------------------------+-----------------+----------------+--------+---------------+--------------------------------------------------------+--------+---+\n",
      "|6600           |419                           |5                |35.3            |Gnd (1) |LateLandingFlap|ALL ac=VT-SUG dep=GOI arr=RAJ fn=SG 3702 dt=20220819.csv|Approach|1  |\n",
      "|5038           |71                            |5                |35              |Gnd (1) |LateLandingFlap|ALL ac=VT-SUD dep=BOM arr=IXY fn=SG 3323 dt=20220514.csv|Approach|1  |\n",
      "|8800           |764                           |0                |14.9            |Gnd (1) |LateLandingFlap|ALL ac=VT-SUB dep=BOM arr=DEL fn=SEJ7402 dt=20220313.csv|Approach|1  |\n",
      "+---------------+------------------------------+-----------------+----------------+--------+---------------+--------------------------------------------------------+--------+---+"
     ]
    }
   ],
   "source": [
    "FifthQuery.show(5,False)"
   ]
  },
  {
   "cell_type": "code",
   "execution_count": 17,
   "id": "0f721a1e-d5a8-4002-b03d-95026eff84cc",
   "metadata": {
    "execution": {
     "iopub.execute_input": "2022-09-21T11:52:36.210733Z",
     "iopub.status.busy": "2022-09-21T11:52:36.210467Z",
     "iopub.status.idle": "2022-09-21T11:52:36.486617Z",
     "shell.execute_reply": "2022-09-21T11:52:36.485981Z",
     "shell.execute_reply.started": "2022-09-21T11:52:36.210707Z"
    },
    "tags": []
   },
   "outputs": [
    {
     "data": {
      "application/vnd.jupyter.widget-view+json": {
       "model_id": "c1108552177b48fba814a5c105dda55d",
       "version_major": 2,
       "version_minor": 0
      },
      "text/plain": [
       "VBox()"
      ]
     },
     "metadata": {},
     "output_type": "display_data"
    },
    {
     "data": {
      "application/vnd.jupyter.widget-view+json": {
       "model_id": "",
       "version_major": 2,
       "version_minor": 0
      },
      "text/plain": [
       "FloatProgress(value=0.0, bar_style='info', description='Progress:', layout=Layout(height='25px', width='50%'),…"
      ]
     },
     "metadata": {},
     "output_type": "display_data"
    }
   ],
   "source": [
    "FifthTestQuery = spark.sql('''\n",
    "                                SELECT\n",
    "                            CASE \n",
    "                                WHEN `FLAP-POSITION-EX` IS NOT NULL THEN \n",
    "                                    CASE WHEN CAST((CAST(`FLAP-POSITION-EX` AS FLOAT)) AS INT)  BETWEEN 14 AND 16 THEN 15\n",
    "                                         WHEN CAST((CAST(`FLAP-POSITION-EX` AS FLOAT)) AS INT)  BETWEEN 34 AND 36 THEN 35\n",
    "                                         ELSE 35\n",
    "                                    END\n",
    "                            END FlapType,\n",
    "                            FQ.FileName\n",
    "                                            \n",
    "                                           \n",
    "             FROM FifthQuery FQ\n",
    "                                ''')"
   ]
  },
  {
   "cell_type": "code",
   "execution_count": 18,
   "id": "ee5ab118-90e6-444c-85f8-25983a11ff7d",
   "metadata": {
    "execution": {
     "iopub.execute_input": "2022-09-21T11:52:38.917730Z",
     "iopub.status.busy": "2022-09-21T11:52:38.917461Z",
     "iopub.status.idle": "2022-09-21T11:52:42.227708Z",
     "shell.execute_reply": "2022-09-21T11:52:42.226976Z",
     "shell.execute_reply.started": "2022-09-21T11:52:38.917703Z"
    },
    "tags": []
   },
   "outputs": [
    {
     "data": {
      "application/vnd.jupyter.widget-view+json": {
       "model_id": "03c2d97817374e32bd92e9e9d1701d76",
       "version_major": 2,
       "version_minor": 0
      },
      "text/plain": [
       "VBox()"
      ]
     },
     "metadata": {},
     "output_type": "display_data"
    },
    {
     "data": {
      "application/vnd.jupyter.widget-view+json": {
       "model_id": "",
       "version_major": 2,
       "version_minor": 0
      },
      "text/plain": [
       "FloatProgress(value=0.0, bar_style='info', description='Progress:', layout=Layout(height='25px', width='50%'),…"
      ]
     },
     "metadata": {},
     "output_type": "display_data"
    },
    {
     "name": "stdout",
     "output_type": "stream",
     "text": [
      "+--------+--------------------------------------------------------+\n",
      "|FlapType|FileName                                                |\n",
      "+--------+--------------------------------------------------------+\n",
      "|35      |ALL ac=VT-SUG dep=GOI arr=RAJ fn=SG 3702 dt=20220819.csv|\n",
      "|35      |ALL ac=VT-SUD dep=BOM arr=IXY fn=SG 3323 dt=20220514.csv|\n",
      "|15      |ALL ac=VT-SUB dep=BOM arr=DEL fn=SEJ7402 dt=20220313.csv|\n",
      "+--------+--------------------------------------------------------+"
     ]
    }
   ],
   "source": [
    "FifthTestQuery.show(5,False)"
   ]
  },
  {
   "cell_type": "code",
   "execution_count": 19,
   "id": "138e1be3-af2c-4a44-9c9b-6f94f1866650",
   "metadata": {
    "execution": {
     "iopub.execute_input": "2022-09-21T11:52:44.583767Z",
     "iopub.status.busy": "2022-09-21T11:52:44.583422Z",
     "iopub.status.idle": "2022-09-21T11:52:44.862291Z",
     "shell.execute_reply": "2022-09-21T11:52:44.861377Z",
     "shell.execute_reply.started": "2022-09-21T11:52:44.583722Z"
    },
    "tags": []
   },
   "outputs": [
    {
     "data": {
      "application/vnd.jupyter.widget-view+json": {
       "model_id": "b439215b1f534c419eeee5e74d2d336b",
       "version_major": 2,
       "version_minor": 0
      },
      "text/plain": [
       "VBox()"
      ]
     },
     "metadata": {},
     "output_type": "display_data"
    },
    {
     "data": {
      "application/vnd.jupyter.widget-view+json": {
       "model_id": "",
       "version_major": 2,
       "version_minor": 0
      },
      "text/plain": [
       "FloatProgress(value=0.0, bar_style='info', description='Progress:', layout=Layout(height='25px', width='50%'),…"
      ]
     },
     "metadata": {},
     "output_type": "display_data"
    }
   ],
   "source": [
    "FifthTestQuery.createOrReplaceTempView('FifthTestQuery')"
   ]
  },
  {
   "cell_type": "code",
   "execution_count": 20,
   "id": "62db19b9-195c-4cd0-b3ab-558668387eb8",
   "metadata": {
    "execution": {
     "iopub.execute_input": "2022-09-21T11:52:51.581172Z",
     "iopub.status.busy": "2022-09-21T11:52:51.580935Z",
     "iopub.status.idle": "2022-09-21T11:52:52.355214Z",
     "shell.execute_reply": "2022-09-21T11:52:52.354569Z",
     "shell.execute_reply.started": "2022-09-21T11:52:51.581147Z"
    },
    "tags": []
   },
   "outputs": [
    {
     "data": {
      "application/vnd.jupyter.widget-view+json": {
       "model_id": "d5230a25175a498aa85733e4e22d2a43",
       "version_major": 2,
       "version_minor": 0
      },
      "text/plain": [
       "VBox()"
      ]
     },
     "metadata": {},
     "output_type": "display_data"
    },
    {
     "data": {
      "application/vnd.jupyter.widget-view+json": {
       "model_id": "",
       "version_major": 2,
       "version_minor": 0
      },
      "text/plain": [
       "FloatProgress(value=0.0, bar_style='info', description='Progress:', layout=Layout(height='25px', width='50%'),…"
      ]
     },
     "metadata": {},
     "output_type": "display_data"
    }
   ],
   "source": [
    "FinalLLF = spark.sql('''\n",
    "              SELECT * FROM (\n",
    "              \n",
    "              SELECT \n",
    "                  \n",
    "                  QI.`Time-In-Secs` as `Time-In-Secs-EX`,\n",
    "                  \n",
    "                  QI.`Radio-Altitude` as `Radio-Altitude-EX`,\n",
    "                  \n",
    "                  FTF.FlapType,\n",
    "                  \n",
    "                  QI.`FLAP-POSITION` as `FLAP-POSITION-EX`,\n",
    "                  \n",
    "                  'LateLandingFlap'  as ExceedanceName,\n",
    "                  \n",
    "                  FQ.Phase,\n",
    "                  \n",
    "                  CASE \n",
    "                            WHEN QI.`FLAP-POSITION` IS NOT NULL THEN\n",
    "                                 CASE \n",
    "                                     WHEN CAST(QI.`FLAP-POSITION` AS FLOAT) > CAST (FTF.FlapType AS Float) +1 \n",
    "                                     OR CAST(QI.`FLAP-POSITION` AS FLOAT) < CAST (FTF.FlapType AS Float) -1  THEN 'High' ELSE 'Low'\n",
    "                                    END\n",
    "                        ELSE 'Low'\n",
    "                        END AS TriggerCondition,\n",
    "                        \n",
    "                        QI.*\n",
    "                        \n",
    "                FROM Q400Interim QI\n",
    "                \n",
    "                INNER JOIN  FifthTestQuery FTF ON QI.FileName= FTF.FileName\n",
    "                INNER JOIN  FourthQuery FQ ON QI.FileName= FQ.FileName\n",
    "                                                    AND QI.`Radio-Altitude` = FQ.`Radio-Altitude-EX`\n",
    "                                                    AND QI.`Time-In-Secs` = FQ.`Time-In-Secs-EX`\n",
    "                                                    \n",
    "                )FNL\n",
    "                WHERE FNL.TriggerCondition ='High'\n",
    "                \n",
    "                ''')"
   ]
  },
  {
   "cell_type": "code",
   "execution_count": 21,
   "id": "57245126-95f2-4a52-8215-c886ce2a8c5c",
   "metadata": {
    "execution": {
     "iopub.execute_input": "2022-09-21T11:52:53.989315Z",
     "iopub.status.busy": "2022-09-21T11:52:53.989091Z",
     "iopub.status.idle": "2022-09-21T11:53:05.325777Z",
     "shell.execute_reply": "2022-09-21T11:53:05.324892Z",
     "shell.execute_reply.started": "2022-09-21T11:52:53.989292Z"
    },
    "tags": []
   },
   "outputs": [
    {
     "data": {
      "application/vnd.jupyter.widget-view+json": {
       "model_id": "b215f3146ed84650a32fd782ad6f40c8",
       "version_major": 2,
       "version_minor": 0
      },
      "text/plain": [
       "VBox()"
      ]
     },
     "metadata": {},
     "output_type": "display_data"
    },
    {
     "data": {
      "application/vnd.jupyter.widget-view+json": {
       "model_id": "",
       "version_major": 2,
       "version_minor": 0
      },
      "text/plain": [
       "FloatProgress(value=0.0, bar_style='info', description='Progress:', layout=Layout(height='25px', width='50%'),…"
      ]
     },
     "metadata": {},
     "output_type": "display_data"
    },
    {
     "name": "stdout",
     "output_type": "stream",
     "text": [
      "+---------------+-----------------+--------+----------------+---------------+--------+----------------+--------+-----------------+----------------+----------+--------+------+---------+------+----------------+-----+--------------------+--------------------+------+------------+-------------+-------+------+---------+-------+--------+---------+------------+------------+---------------------------+--------------+----------------+--------------+-------------+--------------+--------+--------+-------------------+--------------------+-------------------------+---------------------+-------------------+----------------------+------------+----------------------+-------------+-----------------+-----------------+---------------+---------------+-----------------+-----------------+-----------------+-----------------+------------------+---------------------+----------------------+---------------+---------------+--------------------------+----------------------------+--------------+--------------+-----------------+-----------------+----------+----------+----------------+-----------------+-------------------------+-------------------------+----------------------+--------------------+--------------------+------------+-------------+----+------+\n",
      "|Time-In-Secs-EX|Radio-Altitude-EX|FlapType|FLAP-POSITION-EX| ExceedanceName|   Phase|TriggerCondition|FlightID|DesigFlightNumber|FlightNumberARMS|FlightDate|FromCity|ToCity|BlockTime|   ECN|    EmployeeName| RANK|           ChocksOff|            ChocksOn|DOMINT|AircraftType|AircraftModel|Payload|TailNo|Departure|Arrival|FlightNo|     Date|Time-In-Secs|Time-Per-Sec|BARO-CORRECTED-PALT-DERIVED|Altitude-BaroL|Magnetic-Heading|Pitch-Attitude|Roll-Attitude|Radio-Altitude|Nose-WOW|Main-WOW|Normal-Acceleration|Lateral-Acceleration|Longitudinal-Acceleration|Calibrated-Airspeed-L|AFCS-Selected-Speed|Vertical-Speed-Derived|Ground-Speed|Flap-Control-Selection|FLAP-POSITION|Power-Lever-Pos-L|Power-Lever-Pos-R|Torque-TQ-Eng-L|Torque-TQ-Eng-R|Condition-Lever-L|Condition-Lever-R|Prop-RPM-Np-Eng-L|Prop-RPM-Np-Eng-R|GPWS-Alert/Warning|GPWS-Glideslope-Alert|AFCS-Glideslope-Active|AFCS-LOC-Active|AFCS-VOR-Active|GLIDE-PATH-DEV-PILOT-ABOVE|GLIDE-PATH-DEV-COPILOT-ABOVE|DME-DISTANCE-1|DME-DISTANCE-2|VOR-1-SELECT-FREQ|VOR-2-SELECT-FREQ|WIND-ANGLE|WIND-SPEED|BRAKE-PRESS-LEFT|BRAKE-PRESS-RIGHT|Thrust-Rev-Low-Beta-Eng-L|Thrust-Rev-Low-Beta-Eng-R|AFCS-Autopilot-Engaged|            FileName|          LoadedDate|    LoadedBy|DataFrameName|year| month|\n",
      "+---------------+-----------------+--------+----------------+---------------+--------+----------------+--------+-----------------+----------------+----------+--------+------+---------+------+----------------+-----+--------------------+--------------------+------+------------+-------------+-------+------+---------+-------+--------+---------+------------+------------+---------------------------+--------------+----------------+--------------+-------------+--------------+--------+--------+-------------------+--------------------+-------------------------+---------------------+-------------------+----------------------+------------+----------------------+-------------+-----------------+-----------------+---------------+---------------+-----------------+-----------------+-----------------+-----------------+------------------+---------------------+----------------------+---------------+---------------+--------------------------+----------------------------+--------------+--------------+-----------------+-----------------+----------+----------+----------------+-----------------+-------------------------+-------------------------+----------------------+--------------------+--------------------+------------+-------------+----+------+\n",
      "|           6508|              995|      35|            36.4|LateLandingFlap|Approach|            High| 2905129|          SG 3702|            3702| 8/19/2022|     GOI|   RAJ|  2:00:00|118613|VISHAL  BHARDWAJ|CAPT.|2022-08-19T13:27:...|2022-08-19T15:27:...|   DOM|         DHC|         DHC-|    Pax|VT-SUG|      GOI|    RAJ| SG 3702|8/19/2022|        6508|       94717|                       1277|          1542|           228.7|         D 0.4|        R 0.3|           995| Air (0)| Air (0)|              1.028|              R 0.01|                    -0.04|                  125|                  0|                  -540|         117|                    35|         36.4|             45.8|             46.1|           19.5|             20|             96.6|               96|             1019|             1019|       No Warn (0)|          No Warn (0)|            Active (1)|     Active (1)|    NOT ACT (0)|                   FU 0.11|                       0.036|          null|          null|             null|             null|      null|      null|            52.7|               43|               Normal (0)|               Normal (0)|           Engaged (1)|ALL ac=VT-SUG dep...|2022-09-19T08:07:...|precog-spark|      128 WPS|2022|August|\n",
      "|           4960|              987|      35|              33|LateLandingFlap|Approach|            High| 2869931|          SG 3323|            3323| 5/14/2022|     BOM|   IXY|  1:30:00|118092|    NIDHI  HANDA|CAPT.|2022-05-14T11:34:...|2022-05-14T13:05:...|   DOM|         DHC|         DHC-|    Pax|VT-SUD|      BOM|    IXY| SG 3323|5/14/2022|        4960|       72758|                        907|          1250|           233.9|         D 0.8|        L 0.4|           987| Air (0)| Air (0)|              1.032|              L 0.02|                    -0.01|                  119|                  0|                  -750|         117|                    35|           33|             46.7|             46.1|           22.5|             20|             95.3|             94.6|             1018|             1019|       No Warn (0)|          No Warn (0)|           NOT ACT (0)|    NOT ACT (0)|    NOT ACT (0)|                   FD 0.02|                       0.018|          null|          null|             null|             null|      null|      null|            37.1|             37.1|               Normal (0)|               Normal (0)|            NOT EN (0)|ALL ac=VT-SUD dep...|2022-09-19T09:06:...|precog-spark|      128 WPS|2022|   May|\n",
      "|           8706|              990|      15|            16.9|LateLandingFlap|Approach|            High| 2811429|          SG 7402|            7402| 3/13/2022|     BOM|   DEL|  2:40:00|126810|VIRENDER  SEJWAL|CAPT.|2022-03-13T06:20:...|2022-03-13T09:10:...|   DOM|         DHC|         DHC-|  Cargo|VT-SUB|      BOM|    DEL| SG 7402|3/13/2022|        8706|        null|                       1664|          1670|           274.6|         U 0.9|        R 0.4|           990| Air (0)| Air (0)|              1.001|              R 0.00|                     0.01|                131.5|                  0|                  -720|         126|                    15|         16.9|             44.9|             44.7|           13.5|             13|             95.4|             95.7|             1019|             1019|       No Warn (0)|          No Warn (0)|            Active (1)|     Active (1)|    NOT ACT (0)|                   FU 0.04|                      -0.036|          null|          null|             null|             null|     319.2|        14|            60.5|               43|               Normal (0)|               Normal (0)|           Engaged (1)|ALL ac=VT-SUB dep...|2022-09-19T07:22:...|precog-spark|      128 WPS|2022| March|\n",
      "+---------------+-----------------+--------+----------------+---------------+--------+----------------+--------+-----------------+----------------+----------+--------+------+---------+------+----------------+-----+--------------------+--------------------+------+------------+-------------+-------+------+---------+-------+--------+---------+------------+------------+---------------------------+--------------+----------------+--------------+-------------+--------------+--------+--------+-------------------+--------------------+-------------------------+---------------------+-------------------+----------------------+------------+----------------------+-------------+-----------------+-----------------+---------------+---------------+-----------------+-----------------+-----------------+-----------------+------------------+---------------------+----------------------+---------------+---------------+--------------------------+----------------------------+--------------+--------------+-----------------+-----------------+----------+----------+----------------+-----------------+-------------------------+-------------------------+----------------------+--------------------+--------------------+------------+-------------+----+------+"
     ]
    }
   ],
   "source": [
    "FinalLLF.show()"
   ]
  },
  {
   "cell_type": "code",
   "execution_count": null,
   "id": "78eaa72d-0fe3-41a4-8fa7-0b585458548d",
   "metadata": {},
   "outputs": [],
   "source": []
  },
  {
   "cell_type": "code",
   "execution_count": 74,
   "id": "f3180384-117d-4d0e-aec2-4c778f3f07e0",
   "metadata": {
    "execution": {
     "iopub.execute_input": "2022-09-21T06:33:25.594817Z",
     "iopub.status.busy": "2022-09-21T06:33:25.594641Z",
     "iopub.status.idle": "2022-09-21T06:34:09.040187Z",
     "shell.execute_reply": "2022-09-21T06:34:09.039535Z",
     "shell.execute_reply.started": "2022-09-21T06:33:25.594794Z"
    }
   },
   "outputs": [
    {
     "data": {
      "application/vnd.jupyter.widget-view+json": {
       "model_id": "34eefb26f5fa4eba809de0a77a704765",
       "version_major": 2,
       "version_minor": 0
      },
      "text/plain": [
       "VBox()"
      ]
     },
     "metadata": {},
     "output_type": "display_data"
    },
    {
     "data": {
      "application/vnd.jupyter.widget-view+json": {
       "model_id": "",
       "version_major": 2,
       "version_minor": 0
      },
      "text/plain": [
       "FloatProgress(value=0.0, bar_style='info', description='Progress:', layout=Layout(height='25px', width='50%'),…"
      ]
     },
     "metadata": {},
     "output_type": "display_data"
    },
    {
     "name": "stdout",
     "output_type": "stream",
     "text": [
      "+---------------+------------------------------+-----------------+----------------+--------+---------------+--------------------------------------------------------+--------+---+\n",
      "|Time-In-Secs-EX|BARO-CORRECTED-PALT-DERIVED-EX|Radio-Altitude-EX|FLAP-POSITION-EX|Main-WOW|ExceedanceName |filename                                                |Phase   |RN |\n",
      "+---------------+------------------------------+-----------------+----------------+--------+---------------+--------------------------------------------------------+--------+---+\n",
      "|6600.0         |419                           |5                |35.3            |Gnd (1) |LateLandingFlap|ALL ac=VT-SUG dep=GOI arr=RAJ fn=SG 3702 dt=20220819.csv|Approach|1  |\n",
      "|5038.0         |71                            |5                |35.0            |Gnd (1) |LateLandingFlap|ALL ac=VT-SUD dep=BOM arr=IXY fn=SG 3323 dt=20220514.csv|Approach|1  |\n",
      "|8800.0         |764                           |0                |14.9            |Gnd (1) |LateLandingFlap|ALL ac=VT-SUB dep=BOM arr=DEL fn=SEJ7402 dt=20220313.csv|Approach|1  |\n",
      "+---------------+------------------------------+-----------------+----------------+--------+---------------+--------------------------------------------------------+--------+---+"
     ]
    }
   ],
   "source": [
    "FifthQuery.show(5,False)"
   ]
  },
  {
   "cell_type": "code",
   "execution_count": null,
   "id": "9dcadbe2-5176-4ac3-be40-2abe739238ed",
   "metadata": {},
   "outputs": [],
   "source": []
  },
  {
   "cell_type": "code",
   "execution_count": null,
   "id": "964c49ba-fc83-471f-8145-6848b6a3e393",
   "metadata": {},
   "outputs": [],
   "source": []
  },
  {
   "cell_type": "code",
   "execution_count": 59,
   "id": "83cacc9e-a5ca-4bc8-97a3-865c1bebd1f8",
   "metadata": {
    "execution": {
     "iopub.execute_input": "2022-09-21T06:08:00.513500Z",
     "iopub.status.busy": "2022-09-21T06:08:00.513267Z",
     "iopub.status.idle": "2022-09-21T06:08:00.787873Z",
     "shell.execute_reply": "2022-09-21T06:08:00.787133Z",
     "shell.execute_reply.started": "2022-09-21T06:08:00.513476Z"
    },
    "tags": []
   },
   "outputs": [
    {
     "data": {
      "application/vnd.jupyter.widget-view+json": {
       "model_id": "b05ba6d357c74ba0b763c0351f357aa4",
       "version_major": 2,
       "version_minor": 0
      },
      "text/plain": [
       "VBox()"
      ]
     },
     "metadata": {},
     "output_type": "display_data"
    },
    {
     "data": {
      "application/vnd.jupyter.widget-view+json": {
       "model_id": "",
       "version_major": 2,
       "version_minor": 0
      },
      "text/plain": [
       "FloatProgress(value=0.0, bar_style='info', description='Progress:', layout=Layout(height='25px', width='50%'),…"
      ]
     },
     "metadata": {},
     "output_type": "display_data"
    }
   ],
   "source": []
  },
  {
   "cell_type": "code",
   "execution_count": 62,
   "id": "0f1a3564-423b-4af7-983d-21771051ce15",
   "metadata": {
    "execution": {
     "iopub.execute_input": "2022-09-21T06:09:34.733041Z",
     "iopub.status.busy": "2022-09-21T06:09:34.732535Z",
     "iopub.status.idle": "2022-09-21T06:09:34.843429Z",
     "shell.execute_reply": "2022-09-21T06:09:34.841955Z",
     "shell.execute_reply.started": "2022-09-21T06:09:34.733002Z"
    },
    "tags": []
   },
   "outputs": [
    {
     "data": {
      "application/vnd.jupyter.widget-view+json": {
       "model_id": "61ac894db4044275b27ad7bca22397de",
       "version_major": 2,
       "version_minor": 0
      },
      "text/plain": [
       "VBox()"
      ]
     },
     "metadata": {},
     "output_type": "display_data"
    },
    {
     "data": {
      "application/vnd.jupyter.widget-view+json": {
       "model_id": "",
       "version_major": 2,
       "version_minor": 0
      },
      "text/plain": [
       "FloatProgress(value=0.0, bar_style='info', description='Progress:', layout=Layout(height='25px', width='50%'),…"
      ]
     },
     "metadata": {},
     "output_type": "display_data"
    }
   ],
   "source": [
    "SeventhQuery = SixthQuery.select('FileName').distinct()"
   ]
  },
  {
   "cell_type": "code",
   "execution_count": 63,
   "id": "cf719535-7591-4bee-bde6-4a0e112f2e66",
   "metadata": {
    "execution": {
     "iopub.execute_input": "2022-09-21T06:15:22.831780Z",
     "iopub.status.busy": "2022-09-21T06:15:22.831470Z",
     "iopub.status.idle": "2022-09-21T06:16:16.288541Z",
     "shell.execute_reply": "2022-09-21T06:16:16.287830Z",
     "shell.execute_reply.started": "2022-09-21T06:15:22.831752Z"
    }
   },
   "outputs": [
    {
     "data": {
      "application/vnd.jupyter.widget-view+json": {
       "model_id": "e4cdc4a013904b38bb8bbd1fc2b721c7",
       "version_major": 2,
       "version_minor": 0
      },
      "text/plain": [
       "VBox()"
      ]
     },
     "metadata": {},
     "output_type": "display_data"
    },
    {
     "data": {
      "application/vnd.jupyter.widget-view+json": {
       "model_id": "",
       "version_major": 2,
       "version_minor": 0
      },
      "text/plain": [
       "FloatProgress(value=0.0, bar_style='info', description='Progress:', layout=Layout(height='25px', width='50%'),…"
      ]
     },
     "metadata": {},
     "output_type": "display_data"
    },
    {
     "name": "stdout",
     "output_type": "stream",
     "text": [
      "+--------------------------------------------------------+\n",
      "|FileName                                                |\n",
      "+--------------------------------------------------------+\n",
      "|ALL ac=VT-SUG dep=GOI arr=RAJ fn=SG 3702 dt=20220819.csv|\n",
      "|ALL ac=VT-SUD dep=BOM arr=IXY fn=SG 3323 dt=20220514.csv|\n",
      "+--------------------------------------------------------+"
     ]
    }
   ],
   "source": [
    "SeventhQuery.show(5, False)"
   ]
  },
  {
   "cell_type": "code",
   "execution_count": null,
   "id": "d563a5f1-b715-4ab5-a7a5-b083ba83c502",
   "metadata": {},
   "outputs": [],
   "source": []
  },
  {
   "cell_type": "code",
   "execution_count": 27,
   "id": "02a9718a-7dcc-4e5e-8565-49f66d52585a",
   "metadata": {
    "execution": {
     "iopub.execute_input": "2022-09-20T11:39:15.210892Z",
     "iopub.status.busy": "2022-09-20T11:39:15.210655Z",
     "iopub.status.idle": "2022-09-20T11:40:42.778091Z",
     "shell.execute_reply": "2022-09-20T11:40:42.777436Z",
     "shell.execute_reply.started": "2022-09-20T11:39:15.210868Z"
    },
    "tags": []
   },
   "outputs": [
    {
     "data": {
      "application/vnd.jupyter.widget-view+json": {
       "model_id": "3c5dd4568d30452bbcc1c14476b96ea3",
       "version_major": 2,
       "version_minor": 0
      },
      "text/plain": [
       "VBox()"
      ]
     },
     "metadata": {},
     "output_type": "display_data"
    },
    {
     "data": {
      "application/vnd.jupyter.widget-view+json": {
       "model_id": "",
       "version_major": 2,
       "version_minor": 0
      },
      "text/plain": [
       "FloatProgress(value=0.0, bar_style='info', description='Progress:', layout=Layout(height='25px', width='50%'),…"
      ]
     },
     "metadata": {},
     "output_type": "display_data"
    },
    {
     "name": "stdout",
     "output_type": "stream",
     "text": [
      "+--------+--------+\n",
      "|FlapType|FileName|\n",
      "+--------+--------+\n",
      "+--------+--------+"
     ]
    }
   ],
   "source": []
  },
  {
   "cell_type": "code",
   "execution_count": null,
   "id": "1fe58944-bd36-4c72-98a4-423982ba360c",
   "metadata": {},
   "outputs": [],
   "source": []
  },
  {
   "cell_type": "code",
   "execution_count": null,
   "id": "6a7ec143-f286-419d-9cdd-412dbd947762",
   "metadata": {},
   "outputs": [],
   "source": []
  },
  {
   "cell_type": "code",
   "execution_count": null,
   "id": "e40983d9-32fc-4e27-bdc4-e43bfded374e",
   "metadata": {},
   "outputs": [],
   "source": []
  },
  {
   "cell_type": "code",
   "execution_count": null,
   "id": "e7121e69-b10b-444e-ab04-185edc94c130",
   "metadata": {},
   "outputs": [],
   "source": []
  },
  {
   "cell_type": "code",
   "execution_count": 25,
   "id": "976aa87b-a739-4ad1-8357-6cd8a071cd96",
   "metadata": {
    "execution": {
     "iopub.execute_input": "2022-09-20T11:35:09.609236Z",
     "iopub.status.busy": "2022-09-20T11:35:09.608888Z",
     "iopub.status.idle": "2022-09-20T11:36:23.123279Z",
     "shell.execute_reply": "2022-09-20T11:36:23.122632Z",
     "shell.execute_reply.started": "2022-09-20T11:35:09.609199Z"
    },
    "tags": []
   },
   "outputs": [
    {
     "data": {
      "application/vnd.jupyter.widget-view+json": {
       "model_id": "cd2308a7ea3a4c37b9230ac0cf21763d",
       "version_major": 2,
       "version_minor": 0
      },
      "text/plain": [
       "VBox()"
      ]
     },
     "metadata": {},
     "output_type": "display_data"
    },
    {
     "data": {
      "application/vnd.jupyter.widget-view+json": {
       "model_id": "",
       "version_major": 2,
       "version_minor": 0
      },
      "text/plain": [
       "FloatProgress(value=0.0, bar_style='info', description='Progress:', layout=Layout(height='25px', width='50%'),…"
      ]
     },
     "metadata": {},
     "output_type": "display_data"
    },
    {
     "name": "stdout",
     "output_type": "stream",
     "text": [
      "+-------------+--------+------------+--------------+--------------------------------------------------------+\n",
      "|Flap-Position|Main-WOW|Time-In-Secs|Radio-Altitude|FileName                                                |\n",
      "+-------------+--------+------------+--------------+--------------------------------------------------------+\n",
      "|null         |Gnd (1) |5315.0      |2             |ALL ac=VT-SUD dep=BOM arr=IXY fn=SG 3323 dt=20220514.csv|\n",
      "|null         |Gnd (1) |5309.0      |3             |ALL ac=VT-SUD dep=BOM arr=IXY fn=SG 3323 dt=20220514.csv|\n",
      "|null         |Gnd (1) |5251.0      |4             |ALL ac=VT-SUD dep=BOM arr=IXY fn=SG 3323 dt=20220514.csv|\n",
      "|null         |Air (0) |5037.0      |6             |ALL ac=VT-SUD dep=BOM arr=IXY fn=SG 3323 dt=20220514.csv|\n",
      "|null         |Air (0) |5035.0      |8             |ALL ac=VT-SUD dep=BOM arr=IXY fn=SG 3323 dt=20220514.csv|\n",
      "|null         |Air (0) |5033.0      |17            |ALL ac=VT-SUD dep=BOM arr=IXY fn=SG 3323 dt=20220514.csv|\n",
      "|null         |Air (0) |5031.0      |34            |ALL ac=VT-SUD dep=BOM arr=IXY fn=SG 3323 dt=20220514.csv|\n",
      "|null         |Air (0) |5029.0      |57            |ALL ac=VT-SUD dep=BOM arr=IXY fn=SG 3323 dt=20220514.csv|\n",
      "|null         |Air (0) |5027.0      |74            |ALL ac=VT-SUD dep=BOM arr=IXY fn=SG 3323 dt=20220514.csv|\n",
      "|null         |Air (0) |5025.0      |96            |ALL ac=VT-SUD dep=BOM arr=IXY fn=SG 3323 dt=20220514.csv|\n",
      "|null         |Air (0) |5023.0      |123           |ALL ac=VT-SUD dep=BOM arr=IXY fn=SG 3323 dt=20220514.csv|\n",
      "|null         |Air (0) |5021.0      |150           |ALL ac=VT-SUD dep=BOM arr=IXY fn=SG 3323 dt=20220514.csv|\n",
      "|null         |Air (0) |5019.0      |171           |ALL ac=VT-SUD dep=BOM arr=IXY fn=SG 3323 dt=20220514.csv|\n",
      "|null         |Air (0) |5017.0      |209           |ALL ac=VT-SUD dep=BOM arr=IXY fn=SG 3323 dt=20220514.csv|\n",
      "|null         |Air (0) |5015.0      |239           |ALL ac=VT-SUD dep=BOM arr=IXY fn=SG 3323 dt=20220514.csv|\n",
      "|null         |Air (0) |5013.0      |271           |ALL ac=VT-SUD dep=BOM arr=IXY fn=SG 3323 dt=20220514.csv|\n",
      "|null         |Air (0) |5011.0      |296           |ALL ac=VT-SUD dep=BOM arr=IXY fn=SG 3323 dt=20220514.csv|\n",
      "|null         |Air (0) |5009.0      |326           |ALL ac=VT-SUD dep=BOM arr=IXY fn=SG 3323 dt=20220514.csv|\n",
      "|null         |Air (0) |5007.0      |354           |ALL ac=VT-SUD dep=BOM arr=IXY fn=SG 3323 dt=20220514.csv|\n",
      "|null         |Air (0) |5005.0      |389           |ALL ac=VT-SUD dep=BOM arr=IXY fn=SG 3323 dt=20220514.csv|\n",
      "+-------------+--------+------------+--------------+--------------------------------------------------------+\n",
      "only showing top 20 rows"
     ]
    }
   ],
   "source": []
  },
  {
   "cell_type": "code",
   "execution_count": null,
   "id": "37bb7f0c-3fdc-44b1-848f-1c4353f36a55",
   "metadata": {},
   "outputs": [],
   "source": []
  }
 ],
 "metadata": {
  "kernelspec": {
   "display_name": "PySpark",
   "language": "",
   "name": "pysparkkernel"
  },
  "language_info": {
   "codemirror_mode": {
    "name": "python",
    "version": 3
   },
   "mimetype": "text/x-python",
   "name": "pyspark",
   "pygments_lexer": "python3"
  }
 },
 "nbformat": 4,
 "nbformat_minor": 5
}
