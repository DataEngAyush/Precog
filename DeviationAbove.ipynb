{
 "cells": [
  {
   "cell_type": "code",
   "execution_count": 1,
   "id": "dc76c4de-0ebf-4637-a870-a320ab00bbf7",
   "metadata": {
    "execution": {
     "iopub.execute_input": "2022-12-01T05:53:00.268689Z",
     "iopub.status.busy": "2022-12-01T05:53:00.268437Z",
     "iopub.status.idle": "2022-12-01T05:53:30.034950Z",
     "shell.execute_reply": "2022-12-01T05:53:30.034174Z",
     "shell.execute_reply.started": "2022-12-01T05:53:00.268665Z"
    },
    "tags": []
   },
   "outputs": [
    {
     "data": {
      "application/vnd.jupyter.widget-view+json": {
       "model_id": "e6697275858e4e448811c7c9ad66e16f",
       "version_major": 2,
       "version_minor": 0
      },
      "text/plain": [
       "VBox()"
      ]
     },
     "metadata": {},
     "output_type": "display_data"
    },
    {
     "name": "stdout",
     "output_type": "stream",
     "text": [
      "Starting Spark application\n"
     ]
    },
    {
     "data": {
      "text/html": [
       "<table>\n",
       "<tr><th>ID</th><th>YARN Application ID</th><th>Kind</th><th>State</th><th>Spark UI</th><th>Driver log</th><th>Current session?</th></tr><tr><td>0</td><td>application_1669873530948_0002</td><td>pyspark</td><td>idle</td><td><a target=\"_blank\" href=\"http://ip-20-0-4-246.ap-south-1.compute.internal:20888/proxy/application_1669873530948_0002/\" class=\"emr-proxy-link\" emr-resource=\"j-2W5Y8HOM7M89S\n",
       "\" application-id=\"application_1669873530948_0002\">Link</a></td><td><a target=\"_blank\" href=\"http://ip-20-0-4-166.ap-south-1.compute.internal:8042/node/containerlogs/container_1669873530948_0002_01_000001/livy\" >Link</a></td><td>✔</td></tr></table>"
      ],
      "text/plain": [
       "<IPython.core.display.HTML object>"
      ]
     },
     "metadata": {},
     "output_type": "display_data"
    },
    {
     "data": {
      "application/vnd.jupyter.widget-view+json": {
       "model_id": "",
       "version_major": 2,
       "version_minor": 0
      },
      "text/plain": [
       "FloatProgress(value=0.0, bar_style='info', description='Progress:', layout=Layout(height='25px', width='50%'),…"
      ]
     },
     "metadata": {},
     "output_type": "display_data"
    },
    {
     "name": "stdout",
     "output_type": "stream",
     "text": [
      "SparkSession available as 'spark'.\n"
     ]
    },
    {
     "data": {
      "application/vnd.jupyter.widget-view+json": {
       "model_id": "",
       "version_major": 2,
       "version_minor": 0
      },
      "text/plain": [
       "FloatProgress(value=0.0, bar_style='info', description='Progress:', layout=Layout(height='25px', width='50%'),…"
      ]
     },
     "metadata": {},
     "output_type": "display_data"
    }
   ],
   "source": [
    "from pyspark import SparkConf\n",
    "from pyspark import SparkContext\n",
    "from pyspark.sql import SparkSession\n",
    "from pyspark.sql.types import *\n",
    "from pyspark.sql import functions as F\n",
    "import boto3\n",
    "import sys\n",
    "import re\n",
    "from datetime import datetime\n",
    "import configparser"
   ]
  },
  {
   "cell_type": "code",
   "execution_count": 14,
   "id": "d7053072-e50d-48a1-b22a-e0c7304e4dea",
   "metadata": {
    "execution": {
     "iopub.execute_input": "2022-12-01T06:16:27.130738Z",
     "iopub.status.busy": "2022-12-01T06:16:27.130519Z",
     "iopub.status.idle": "2022-12-01T06:16:42.457419Z",
     "shell.execute_reply": "2022-12-01T06:16:42.456783Z",
     "shell.execute_reply.started": "2022-12-01T06:16:27.130716Z"
    },
    "tags": []
   },
   "outputs": [
    {
     "data": {
      "application/vnd.jupyter.widget-view+json": {
       "model_id": "528bcdeb1f754ace95d87e672a78fc2e",
       "version_major": 2,
       "version_minor": 0
      },
      "text/plain": [
       "VBox()"
      ]
     },
     "metadata": {},
     "output_type": "display_data"
    },
    {
     "data": {
      "application/vnd.jupyter.widget-view+json": {
       "model_id": "",
       "version_major": 2,
       "version_minor": 0
      },
      "text/plain": [
       "FloatProgress(value=0.0, bar_style='info', description='Progress:', layout=Layout(height='25px', width='50%'),…"
      ]
     },
     "metadata": {},
     "output_type": "display_data"
    },
    {
     "name": "stdout",
     "output_type": "stream",
     "text": [
      "+-------+\n",
      "|minutes|\n",
      "+-------+\n",
      "|   90.0|\n",
      "+-------+"
     ]
    }
   ],
   "source": [
    "spark.sql('''\n",
    "                    SELECT Distinct\n",
    "                    (bigint(to_timestamp(ChocksOn)) - bigint(to_timestamp(ChocksOff))) / 60 AS minutes\n",
    "                    From precogdb.q400128wps\n",
    "                    WHERE filename = 'ALL ac=VT-SUQ dep=GOI arr=BLR fn=SG 2910 dt=20221120.csv'\n",
    "\n",
    "\n",
    "''').show()\n",
    "\n",
    "#spark.sql(\"\"\"select unix_timestamp(DATE'2021-10-13')-unix_timestamp(DATE'2021-10-01') as seconds\"\"\")"
   ]
  },
  {
   "cell_type": "code",
   "execution_count": 17,
   "id": "ee4c64d1-4f83-465b-ba06-a75ea7714eb3",
   "metadata": {
    "execution": {
     "iopub.execute_input": "2022-12-01T06:30:14.456946Z",
     "iopub.status.busy": "2022-12-01T06:30:14.456724Z",
     "iopub.status.idle": "2022-12-01T06:30:31.781211Z",
     "shell.execute_reply": "2022-12-01T06:30:31.780535Z",
     "shell.execute_reply.started": "2022-12-01T06:30:14.456924Z"
    },
    "tags": []
   },
   "outputs": [
    {
     "data": {
      "application/vnd.jupyter.widget-view+json": {
       "model_id": "beaa04cb9db84e26803411d9f3c86391",
       "version_major": 2,
       "version_minor": 0
      },
      "text/plain": [
       "VBox()"
      ]
     },
     "metadata": {},
     "output_type": "display_data"
    },
    {
     "data": {
      "application/vnd.jupyter.widget-view+json": {
       "model_id": "",
       "version_major": 2,
       "version_minor": 0
      },
      "text/plain": [
       "FloatProgress(value=0.0, bar_style='info', description='Progress:', layout=Layout(height='25px', width='50%'),…"
      ]
     },
     "metadata": {},
     "output_type": "display_data"
    },
    {
     "name": "stdout",
     "output_type": "stream",
     "text": [
      "+-------------------+-------------------+\n",
      "|    Actual_DEP_Time|    Actual_Arr_Time|\n",
      "+-------------------+-------------------+\n",
      "|2022-11-20 22:05:00|2022-11-20 23:35:00|\n",
      "+-------------------+-------------------+"
     ]
    }
   ],
   "source": [
    "spark.sql('''\n",
    "\n",
    "            SELECT Distinct\n",
    "            to_timestamp(ChocksOff) AS Actual_DEP_Time,\n",
    "            to_timestamp(ChocksOn) AS Actual_Arr_Time\n",
    "            From precogdb.q400128wps\n",
    "            WHERE filename = 'ALL ac=VT-SUQ dep=GOI arr=BLR fn=SG 2910 dt=20221120.csv'\n",
    "            \n",
    "\n",
    "''').show()"
   ]
  },
  {
   "cell_type": "code",
   "execution_count": 23,
   "id": "06be8c82-2950-450d-a1ca-53e42dff5852",
   "metadata": {
    "execution": {
     "iopub.execute_input": "2022-12-01T06:41:36.244041Z",
     "iopub.status.busy": "2022-12-01T06:41:36.243824Z",
     "iopub.status.idle": "2022-12-01T06:41:53.570520Z",
     "shell.execute_reply": "2022-12-01T06:41:53.569860Z",
     "shell.execute_reply.started": "2022-12-01T06:41:36.244017Z"
    },
    "tags": []
   },
   "outputs": [
    {
     "data": {
      "application/vnd.jupyter.widget-view+json": {
       "model_id": "846b5314750a47afad1bcaaa015196fc",
       "version_major": 2,
       "version_minor": 0
      },
      "text/plain": [
       "VBox()"
      ]
     },
     "metadata": {},
     "output_type": "display_data"
    },
    {
     "data": {
      "application/vnd.jupyter.widget-view+json": {
       "model_id": "",
       "version_major": 2,
       "version_minor": 0
      },
      "text/plain": [
       "FloatProgress(value=0.0, bar_style='info', description='Progress:', layout=Layout(height='25px', width='50%'),…"
      ]
     },
     "metadata": {},
     "output_type": "display_data"
    },
    {
     "name": "stdout",
     "output_type": "stream",
     "text": [
      "+----------+-------------------+---------+---------------+-------+---------------+\n",
      "|FlightDate|          ChocksOff|Departure|Actual_DEP_Time|Arrival|Actual_ARR_Time|\n",
      "+----------+-------------------+---------+---------------+-------+---------------+\n",
      "|2022-11-20|2022-11-20 22:05:00|      GOI|       22:05:00|    BLR|       23:35:00|\n",
      "+----------+-------------------+---------+---------------+-------+---------------+"
     ]
    }
   ],
   "source": [
    "spark.sql('''\n",
    "\n",
    "            SELECT Distinct\n",
    "            Cast(ChocksOff as Date) AS FlightDate,\n",
    "                                                ChocksOff,\n",
    "                                                Departure,\n",
    "                                                date_format(ChocksOff, 'HH:mm:ss') AS Actual_DEP_Time ,\n",
    "                                                Arrival,\n",
    "                                                date_format(ChocksOn, 'HH:mm:ss') AS Actual_ARR_Time \n",
    "            From precogdb.q400128wps\n",
    "            WHERE filename = 'ALL ac=VT-SUQ dep=GOI arr=BLR fn=SG 2910 dt=20221120.csv'\n",
    "            \n",
    "\n",
    "''').show()"
   ]
  },
  {
   "cell_type": "code",
   "execution_count": 2,
   "id": "88322a4b-ec77-4acc-b936-77e307020b7d",
   "metadata": {
    "execution": {
     "iopub.execute_input": "2022-09-16T10:09:11.493333Z",
     "iopub.status.busy": "2022-09-16T10:09:11.493053Z",
     "iopub.status.idle": "2022-09-16T10:09:18.809694Z",
     "shell.execute_reply": "2022-09-16T10:09:18.809069Z",
     "shell.execute_reply.started": "2022-09-16T10:09:11.493307Z"
    },
    "tags": []
   },
   "outputs": [
    {
     "data": {
      "application/vnd.jupyter.widget-view+json": {
       "model_id": "39c0a31006a24846a6d42a27f3e16a41",
       "version_major": 2,
       "version_minor": 0
      },
      "text/plain": [
       "VBox()"
      ]
     },
     "metadata": {},
     "output_type": "display_data"
    },
    {
     "data": {
      "application/vnd.jupyter.widget-view+json": {
       "model_id": "",
       "version_major": 2,
       "version_minor": 0
      },
      "text/plain": [
       "FloatProgress(value=0.0, bar_style='info', description='Progress:', layout=Layout(height='25px', width='50%'),…"
      ]
     },
     "metadata": {},
     "output_type": "display_data"
    }
   ],
   "source": [
    "Q400Interim = spark.sql('''\n",
    "                    SELECT * \n",
    "                        From precogdb.q400512wps where filename = 'ALL ac=VT-SUV dep=GWL arr=BLR fn=SG 3326 dt=20220407.csv' \n",
    "                ''')"
   ]
  },
  {
   "cell_type": "code",
   "execution_count": 3,
   "id": "e278ceb1-b4e0-4a3c-934d-ad5e593540c7",
   "metadata": {
    "execution": {
     "iopub.execute_input": "2022-09-16T10:09:18.811054Z",
     "iopub.status.busy": "2022-09-16T10:09:18.810868Z",
     "iopub.status.idle": "2022-09-16T10:09:19.579952Z",
     "shell.execute_reply": "2022-09-16T10:09:19.579268Z",
     "shell.execute_reply.started": "2022-09-16T10:09:18.811026Z"
    },
    "tags": []
   },
   "outputs": [
    {
     "data": {
      "application/vnd.jupyter.widget-view+json": {
       "model_id": "da81f2d4a71946f78332e60a2744eb91",
       "version_major": 2,
       "version_minor": 0
      },
      "text/plain": [
       "VBox()"
      ]
     },
     "metadata": {},
     "output_type": "display_data"
    },
    {
     "data": {
      "application/vnd.jupyter.widget-view+json": {
       "model_id": "",
       "version_major": 2,
       "version_minor": 0
      },
      "text/plain": [
       "FloatProgress(value=0.0, bar_style='info', description='Progress:', layout=Layout(height='25px', width='50%'),…"
      ]
     },
     "metadata": {},
     "output_type": "display_data"
    }
   ],
   "source": [
    "Q400Interim.createOrReplaceTempView(\"Q400Interim\")"
   ]
  },
  {
   "cell_type": "code",
   "execution_count": 4,
   "id": "f64a65eb-2e56-4909-a40e-69154f6a74b7",
   "metadata": {
    "execution": {
     "iopub.execute_input": "2022-09-16T10:09:19.581422Z",
     "iopub.status.busy": "2022-09-16T10:09:19.581196Z",
     "iopub.status.idle": "2022-09-16T10:09:19.877237Z",
     "shell.execute_reply": "2022-09-16T10:09:19.876504Z",
     "shell.execute_reply.started": "2022-09-16T10:09:19.581392Z"
    },
    "tags": []
   },
   "outputs": [
    {
     "data": {
      "application/vnd.jupyter.widget-view+json": {
       "model_id": "df08de8e332c4dde8a53d2c172c942d4",
       "version_major": 2,
       "version_minor": 0
      },
      "text/plain": [
       "VBox()"
      ]
     },
     "metadata": {},
     "output_type": "display_data"
    },
    {
     "data": {
      "application/vnd.jupyter.widget-view+json": {
       "model_id": "",
       "version_major": 2,
       "version_minor": 0
      },
      "text/plain": [
       "FloatProgress(value=0.0, bar_style='info', description='Progress:', layout=Layout(height='25px', width='50%'),…"
      ]
     },
     "metadata": {},
     "output_type": "display_data"
    }
   ],
   "source": [
    "FirstQuery  = \"(SELECT FileName, max(cast(`RAD-ALT` as int)) as RADALT from Q400Interim group by FileName);\"\n",
    "\n",
    "spark.sql(FirstQuery).createOrReplaceTempView(\"B\")"
   ]
  },
  {
   "cell_type": "code",
   "execution_count": 5,
   "id": "ec7894e2-8ea8-4ca7-b648-dafe88cb1eae",
   "metadata": {
    "execution": {
     "iopub.execute_input": "2022-09-16T10:09:19.886863Z",
     "iopub.status.busy": "2022-09-16T10:09:19.886619Z",
     "iopub.status.idle": "2022-09-16T10:09:20.177266Z",
     "shell.execute_reply": "2022-09-16T10:09:20.176552Z",
     "shell.execute_reply.started": "2022-09-16T10:09:19.886830Z"
    },
    "tags": []
   },
   "outputs": [
    {
     "data": {
      "application/vnd.jupyter.widget-view+json": {
       "model_id": "2e72f6c9ab2647ad9947a3085bf15bc9",
       "version_major": 2,
       "version_minor": 0
      },
      "text/plain": [
       "VBox()"
      ]
     },
     "metadata": {},
     "output_type": "display_data"
    },
    {
     "data": {
      "application/vnd.jupyter.widget-view+json": {
       "model_id": "",
       "version_major": 2,
       "version_minor": 0
      },
      "text/plain": [
       "FloatProgress(value=0.0, bar_style='info', description='Progress:', layout=Layout(height='25px', width='50%'),…"
      ]
     },
     "metadata": {},
     "output_type": "display_data"
    }
   ],
   "source": [
    "SecondQuery = \"(SELECT a.*, B.RADALT from Q400Interim a inner join B on a.FileName = B.FileName and a.`RAD-ALT` = B.RADALT)\"\n",
    "\n",
    "spark.sql(SecondQuery).createOrReplaceTempView(\"C\")"
   ]
  },
  {
   "cell_type": "code",
   "execution_count": 6,
   "id": "eb35980d-9806-4a39-94a0-832d1105872c",
   "metadata": {
    "execution": {
     "iopub.execute_input": "2022-09-16T10:09:20.178963Z",
     "iopub.status.busy": "2022-09-16T10:09:20.178552Z",
     "iopub.status.idle": "2022-09-16T10:09:20.460395Z",
     "shell.execute_reply": "2022-09-16T10:09:20.459649Z",
     "shell.execute_reply.started": "2022-09-16T10:09:20.178927Z"
    },
    "tags": []
   },
   "outputs": [
    {
     "data": {
      "application/vnd.jupyter.widget-view+json": {
       "model_id": "77cf1d0cf84b46f18ee26ea4d0e8da21",
       "version_major": 2,
       "version_minor": 0
      },
      "text/plain": [
       "VBox()"
      ]
     },
     "metadata": {},
     "output_type": "display_data"
    },
    {
     "data": {
      "application/vnd.jupyter.widget-view+json": {
       "model_id": "",
       "version_major": 2,
       "version_minor": 0
      },
      "text/plain": [
       "FloatProgress(value=0.0, bar_style='info', description='Progress:', layout=Layout(height='25px', width='50%'),…"
      ]
     },
     "metadata": {},
     "output_type": "display_data"
    }
   ],
   "source": [
    "ThirdQuery = \"(SELECT FileName, RADALT, max(`Time-In-Secs`) as MaxTime, min(`Time-In-Secs`) as MinTime from C group by FileName, RADALT)\"\n",
    "\n",
    "spark.sql(ThirdQuery).createOrReplaceTempView(\"D\")\n",
    "\n",
    "DF1 = spark.sql('''SELECT * FROM D''')"
   ]
  },
  {
   "cell_type": "code",
   "execution_count": 7,
   "id": "3d8c5e43-2301-421c-b8d1-dcd3683f455d",
   "metadata": {
    "execution": {
     "iopub.execute_input": "2022-09-16T10:09:20.464314Z",
     "iopub.status.busy": "2022-09-16T10:09:20.464030Z",
     "iopub.status.idle": "2022-09-16T10:10:03.914257Z",
     "shell.execute_reply": "2022-09-16T10:10:03.913456Z",
     "shell.execute_reply.started": "2022-09-16T10:09:20.464280Z"
    },
    "tags": []
   },
   "outputs": [
    {
     "data": {
      "application/vnd.jupyter.widget-view+json": {
       "model_id": "8e3d1f9047944d9a97e73721a6070392",
       "version_major": 2,
       "version_minor": 0
      },
      "text/plain": [
       "VBox()"
      ]
     },
     "metadata": {},
     "output_type": "display_data"
    },
    {
     "data": {
      "application/vnd.jupyter.widget-view+json": {
       "model_id": "",
       "version_major": 2,
       "version_minor": 0
      },
      "text/plain": [
       "FloatProgress(value=0.0, bar_style='info', description='Progress:', layout=Layout(height='25px', width='50%'),…"
      ]
     },
     "metadata": {},
     "output_type": "display_data"
    },
    {
     "name": "stdout",
     "output_type": "stream",
     "text": [
      "+--------------------+------+-------+-------+\n",
      "|            FileName|RADALT|MaxTime|MinTime|\n",
      "+--------------------+------+-------+-------+\n",
      "|ALL ac=VT-SUV dep...|  2491| 9748.0| 9748.0|\n",
      "+--------------------+------+-------+-------+"
     ]
    }
   ],
   "source": [
    "DF1.show()"
   ]
  },
  {
   "cell_type": "code",
   "execution_count": 8,
   "id": "b32c3eb9-46a1-4355-b5e1-14c692480f78",
   "metadata": {
    "execution": {
     "iopub.execute_input": "2022-09-16T10:10:14.156303Z",
     "iopub.status.busy": "2022-09-16T10:10:14.156072Z",
     "iopub.status.idle": "2022-09-16T10:10:14.938221Z",
     "shell.execute_reply": "2022-09-16T10:10:14.937592Z",
     "shell.execute_reply.started": "2022-09-16T10:10:14.156279Z"
    },
    "tags": []
   },
   "outputs": [
    {
     "data": {
      "application/vnd.jupyter.widget-view+json": {
       "model_id": "871ed37a0ec744519d03b82d65753398",
       "version_major": 2,
       "version_minor": 0
      },
      "text/plain": [
       "VBox()"
      ]
     },
     "metadata": {},
     "output_type": "display_data"
    },
    {
     "data": {
      "application/vnd.jupyter.widget-view+json": {
       "model_id": "",
       "version_major": 2,
       "version_minor": 0
      },
      "text/plain": [
       "FloatProgress(value=0.0, bar_style='info', description='Progress:', layout=Layout(height='25px', width='50%'),…"
      ]
     },
     "metadata": {},
     "output_type": "display_data"
    }
   ],
   "source": [
    "FourthQuery = '''(SELECT a.`Time-In-Secs` as `Time-In-Secs-EX`,\n",
    "                        a.`BARO-CORRECTED-PALT-DERIVED` as `BARO-CORRECTED-PALT-DERIVED-EX`,\n",
    "                    a.`RAD-ALT` as `RAD-ALT-EX`,\n",
    "                    REPLACE(a.`ILS-GS-DEV-2`,'*','') as `ILS-GS-DEV-2-EX`,\n",
    "                    REPLACE(a.`ILS-GS-DEV-1`,'*','') as `ILS-GS-DEV-1-EX`,\n",
    "                    'G/SDeviation' as ExceedanceName,\n",
    "                    CAST(CAST(unix_timestamp(CAST(a.ChocksOff AS Timestamp)) AS INT)+CAST(a.`Time-In-Secs` AS INT) AS TimeStamp) AS OccurenceTime,\n",
    "                    case \n",
    "                    when Cast(`Time-In-Secs` as int)<D.MinTime Then 'TakeOff'\n",
    "                    when Cast(`Time-In-Secs` as int) between D.MinTime and D.MaxTime Then 'Airborne'\n",
    "                    when Cast(`Time-In-Secs` as int)>D.MaxTime Then 'Approach' end Phase,\n",
    "                     \n",
    "                    case when\n",
    "                    case when replace(`ILS-GS-DEV-2`,'*','') like 'FU%' then \n",
    "                    CASE WHEN instr(replace(`ILS-GS-DEV-2`,'*',''),' ')>0 \n",
    "                             THEN SUBSTRING(replace(`ILS-GS-DEV-2`,'*',''),\n",
    "                             instr(replace(`ILS-GS-DEV-2`,'*',''),' ')+1,\n",
    "                             LENGTH(replace(`ILS-GS-DEV-2`,'*','')))  \n",
    "                             ELSE NULL END end > 1.00 and \n",
    "                    Cast(`Time-In-Secs` as int)>D.MaxTime Then 'High' else 'Low' end TriggerCondition1,\n",
    "                    \n",
    "                    case when\n",
    "                    case when replace(`ILS-GS-DEV-1`,'*','') like 'FU%' then \n",
    "                    CASE WHEN instr(replace(`ILS-GS-DEV-1`,'*',''),' ')>0 \n",
    "                             THEN SUBSTRING(replace(`ILS-GS-DEV-1`,'*',''),\n",
    "                             instr(replace(`ILS-GS-DEV-1`,'*',''),' ')+1,\n",
    "                             LENGTH(replace(`ILS-GS-DEV-1`,'*',''))) \n",
    "                             ELSE NULL END end > 1.00 and \n",
    "                    Cast(`Time-In-Secs` as int)>D.MaxTime Then 'High' else 'Low' end TriggerCondition2,\n",
    "        \n",
    "                    a.* from Q400Interim a\n",
    "                    inner join D  \n",
    "                    on a.FileName = D.FileName\n",
    "                    where Cast(`Time-In-Secs` as int)>D.MaxTime and`WOW-MLG` = 'Air (0)')'''\n",
    "\n",
    "spark.sql(FourthQuery).createOrReplaceTempView(\"E\")"
   ]
  },
  {
   "cell_type": "code",
   "execution_count": 12,
   "id": "4bf59038-d6c6-4d74-961d-37ef12a3b858",
   "metadata": {
    "execution": {
     "iopub.execute_input": "2022-09-16T10:12:20.109063Z",
     "iopub.status.busy": "2022-09-16T10:12:20.108890Z",
     "iopub.status.idle": "2022-09-16T10:12:20.386883Z",
     "shell.execute_reply": "2022-09-16T10:12:20.386279Z",
     "shell.execute_reply.started": "2022-09-16T10:12:20.109041Z"
    },
    "tags": []
   },
   "outputs": [
    {
     "data": {
      "application/vnd.jupyter.widget-view+json": {
       "model_id": "ccb32b0904de4e41b676a72f9bb21247",
       "version_major": 2,
       "version_minor": 0
      },
      "text/plain": [
       "VBox()"
      ]
     },
     "metadata": {},
     "output_type": "display_data"
    },
    {
     "data": {
      "application/vnd.jupyter.widget-view+json": {
       "model_id": "",
       "version_major": 2,
       "version_minor": 0
      },
      "text/plain": [
       "FloatProgress(value=0.0, bar_style='info', description='Progress:', layout=Layout(height='25px', width='50%'),…"
      ]
     },
     "metadata": {},
     "output_type": "display_data"
    }
   ],
   "source": [
    "FifthQuery = f'''(select * FROM E WHERE TriggerCondition1 = 'High' OR TriggerCondition2 = 'High' and `RAD-ALT` < 1000 and Phase = 'Approach' )'''\n",
    "\n",
    "spark.sql(FifthQuery).createOrReplaceTempView(\"F\")"
   ]
  },
  {
   "cell_type": "code",
   "execution_count": 13,
   "id": "5cdef0f0-5876-44dc-a5fa-1c9e184bd3e4",
   "metadata": {
    "execution": {
     "iopub.execute_input": "2022-09-16T10:12:20.388218Z",
     "iopub.status.busy": "2022-09-16T10:12:20.388037Z",
     "iopub.status.idle": "2022-09-16T10:12:20.662556Z",
     "shell.execute_reply": "2022-09-16T10:12:20.661801Z",
     "shell.execute_reply.started": "2022-09-16T10:12:20.388196Z"
    },
    "tags": []
   },
   "outputs": [
    {
     "data": {
      "application/vnd.jupyter.widget-view+json": {
       "model_id": "dae5f7c9778546dc8e78a0b8c7e0eb7b",
       "version_major": 2,
       "version_minor": 0
      },
      "text/plain": [
       "VBox()"
      ]
     },
     "metadata": {},
     "output_type": "display_data"
    },
    {
     "data": {
      "application/vnd.jupyter.widget-view+json": {
       "model_id": "",
       "version_major": 2,
       "version_minor": 0
      },
      "text/plain": [
       "FloatProgress(value=0.0, bar_style='info', description='Progress:', layout=Layout(height='25px', width='50%'),…"
      ]
     },
     "metadata": {},
     "output_type": "display_data"
    }
   ],
   "source": [
    "Q400SQLDF4 = spark.sql('''SELECT * FROM F''')"
   ]
  },
  {
   "cell_type": "code",
   "execution_count": 15,
   "id": "80205ad8-0e94-4cfc-840a-8bcb29a6bcf0",
   "metadata": {
    "execution": {
     "iopub.execute_input": "2022-09-16T10:13:33.549212Z",
     "iopub.status.busy": "2022-09-16T10:13:33.548988Z",
     "iopub.status.idle": "2022-09-16T10:14:16.971298Z",
     "shell.execute_reply": "2022-09-16T10:14:16.970351Z",
     "shell.execute_reply.started": "2022-09-16T10:13:33.549191Z"
    },
    "tags": []
   },
   "outputs": [
    {
     "data": {
      "application/vnd.jupyter.widget-view+json": {
       "model_id": "6d72a09a402e489fa2dd3d595705dd6a",
       "version_major": 2,
       "version_minor": 0
      },
      "text/plain": [
       "VBox()"
      ]
     },
     "metadata": {},
     "output_type": "display_data"
    },
    {
     "data": {
      "application/vnd.jupyter.widget-view+json": {
       "model_id": "",
       "version_major": 2,
       "version_minor": 0
      },
      "text/plain": [
       "FloatProgress(value=0.0, bar_style='info', description='Progress:', layout=Layout(height='25px', width='50%'),…"
      ]
     },
     "metadata": {},
     "output_type": "display_data"
    },
    {
     "name": "stdout",
     "output_type": "stream",
     "text": [
      "+---------------+------------------------------+----------+---------------+---------------+--------------+-------------------+--------+-----------------+-----------------+--------+-----------------+----------------+----------+--------+------+---------+------+----------------+-----+-------------------+-------------------+------+------------+-------------+-------+------+---------+-------+--------+----------+------------+------------+---------------------------+--------------+----------------+-----------+----------+-------+-------+-------+-----------+------------+-----------------+--------------+-----------------+----------------------+---------------+----------------------+-------------+-----+-----+--------+--------+-----+-----+----+----+-------------------+--------------+------------+-------------+--------------+------------+------------+--------------+--------------+----------+----------+--------------+--------------+----------------+-----------------+-----------------+-----------------+--------------+--------------------+--------------------+------------+-------------+----+-----+\n",
      "|Time-In-Secs-EX|BARO-CORRECTED-PALT-DERIVED-EX|RAD-ALT-EX|ILS-GS-DEV-2-EX|ILS-GS-DEV-1-EX|ExceedanceName|      OccurenceTime|   Phase|TriggerCondition1|TriggerCondition2|flightid|desigflightnumber|flightnumberarms|flightdate|fromcity|tocity|blocktime|   ecn|    employeename| rank|          chocksoff|           chockson|domint|aircrafttype|aircraftmodel|payload|tailno|departure|arrival|flightno|      date|time-in-secs|time-per-sec|baro-corrected-palt-derived|altitude-barol|heading-magnetic|pitch-angle|roll-angle|rad-alt|wow-nlg|wow-mlg|accn-normal|accn-lateral|accn-longitudinal|airspeed-cas-l|afcs-sel-airspeed|vertical-speed-derived|fms-groundspeed|flap-control-pos-gated|flap-position|pla-1|pla-2|torque-1|torque-2|cla-1|cla-2|np-1|np-2|egpws-alert-warning|egpws-gs-alert|afcs-gs-mode|afcs-loc-mode| afcs-vor-mode|ils-gs-dev-1|ils-gs-dev-2|dme-distance-1|dme-distance-2|vor-freq-1|vor-freq-2|fms-wind-angle|fms-wind-speed|brake-press-left|brake-press-right|prop-beta-range-1|prop-beta-range-2|    ap-engaged|            filename|          loadeddate|    loadedby|dataframename|year|month|\n",
      "+---------------+------------------------------+----------+---------------+---------------+--------------+-------------------+--------+-----------------+-----------------+--------+-----------------+----------------+----------+--------+------+---------+------+----------------+-----+-------------------+-------------------+------+------------+-------------+-------+------+---------+-------+--------+----------+------------+------------+---------------------------+--------------+----------------+-----------+----------+-------+-------+-------+-----------+------------+-----------------+--------------+-----------------+----------------------+---------------+----------------------+-------------+-----+-----+--------+--------+-----+-----+----+----+-------------------+--------------+------------+-------------+--------------+------------+------------+--------------+--------------+----------+----------+--------------+--------------+----------------+-----------------+-----------------+-----------------+--------------+--------------------+--------------------+------------+-------------+----+-----+\n",
      "|         9918.0|                          2913|         3|        FU 2.88|        FD 1.05|  G/SDeviation|2022-04-07 11:45:18|Approach|             High|              Low| 2856177|          SG 3326|            3326|2022-04-07|     GWL|   BLR|  2:55:00|118612|ARUNENDRA  PATEL|CAPT.|2022-04-07 09:00:00|2022-04-07 12:00:00|   DOM|         DHC|         DHC-|    Pax|VT-SUV|      GWL|    BLR| SG 3326|2022-04-07|      9918.0|        null|                       2913|          2810|             277|      U 4.0|     R 0.2|      3|Air (0)|Air (0)|      1.079|      L 0.03|             0.03|         132.0|                0|                  -100|            150|                    15|         14.9| 44.3| 44.7|      12|      14|   96|   95|1017|1019|       NO ALERT (0)|  NO ALERT (0)|  Active (1)|   Active (1)|Not Active (0)|    *FD 1.05|    *FU 2.88|          null|          null|      null|      null|            35|            12|              57|               51|      FORWARD (0)|      FORWARD (0)|DISENGAGED (0)|ALL ac=VT-SUV dep...|2022-09-09 10:12:...|precog-spark|      512 WPS|2022|April|\n",
      "|         9919.0|                          2919|         3|        FU 3.22|        FU 1.28|  G/SDeviation|2022-04-07 11:45:19|Approach|             High|             High| 2856177|          SG 3326|            3326|2022-04-07|     GWL|   BLR|  2:55:00|118612|ARUNENDRA  PATEL|CAPT.|2022-04-07 09:00:00|2022-04-07 12:00:00|   DOM|         DHC|         DHC-|    Pax|VT-SUV|      GWL|    BLR| SG 3326|2022-04-07|      9919.0|        null|                       2919|          2816|             277|      U 3.3|     R 0.2|      3|Air (0)|Air (0)|      0.981|      R 0.01|             0.01|         131.5|                0|                   140|            149|                  null|         null| 43.7| 44.2|      11|      12|   96|   95|1019|1018|       NO ALERT (0)|  NO ALERT (0)|  Active (1)|   Active (1)|Not Active (0)|    *FU 1.28|    *FU 3.22|          null|          null|      null|    108.29|          null|          null|              57|               51|      FORWARD (0)|      FORWARD (0)|DISENGAGED (0)|ALL ac=VT-SUV dep...|2022-09-09 10:12:...|precog-spark|      512 WPS|2022|April|\n",
      "+---------------+------------------------------+----------+---------------+---------------+--------------+-------------------+--------+-----------------+-----------------+--------+-----------------+----------------+----------+--------+------+---------+------+----------------+-----+-------------------+-------------------+------+------------+-------------+-------+------+---------+-------+--------+----------+------------+------------+---------------------------+--------------+----------------+-----------+----------+-------+-------+-------+-----------+------------+-----------------+--------------+-----------------+----------------------+---------------+----------------------+-------------+-----+-----+--------+--------+-----+-----+----+----+-------------------+--------------+------------+-------------+--------------+------------+------------+--------------+--------------+----------+----------+--------------+--------------+----------------+-----------------+-----------------+-----------------+--------------+--------------------+--------------------+------------+-------------+----+-----+"
     ]
    }
   ],
   "source": [
    "Q400SQLDF4.show()#count()"
   ]
  },
  {
   "cell_type": "code",
   "execution_count": null,
   "id": "e3917739-ce92-4642-8481-9710fd7ca4b7",
   "metadata": {},
   "outputs": [],
   "source": []
  }
 ],
 "metadata": {
  "kernelspec": {
   "display_name": "PySpark",
   "language": "",
   "name": "pysparkkernel"
  },
  "language_info": {
   "codemirror_mode": {
    "name": "python",
    "version": 3
   },
   "mimetype": "text/x-python",
   "name": "pyspark",
   "pygments_lexer": "python3"
  }
 },
 "nbformat": 4,
 "nbformat_minor": 5
}
