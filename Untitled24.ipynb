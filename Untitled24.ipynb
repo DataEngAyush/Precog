{
 "cells": [
  {
   "cell_type": "code",
   "execution_count": 1,
   "id": "bb1faf16-dd01-46f7-9447-0fa9cabe2840",
   "metadata": {
    "execution": {
     "iopub.execute_input": "2023-01-24T07:08:48.011698Z",
     "iopub.status.busy": "2023-01-24T07:08:48.011470Z",
     "iopub.status.idle": "2023-01-24T07:08:48.027070Z",
     "shell.execute_reply": "2023-01-24T07:08:48.026580Z",
     "shell.execute_reply.started": "2023-01-24T07:08:48.011675Z"
    },
    "tags": []
   },
   "outputs": [
    {
     "data": {
      "text/html": [
       "Current session configs: <tt>{'conf': {'spark.jars': 's3://sjet-datamart-bucket/Jars/mssql-jdbc-6.1.0.jre8.jar', 'spark.sql.crossJoin.enabled': 'true'}, 'proxyUser': 'user_ayush_vaishnav', 'kind': 'pyspark'}</tt><br>"
      ],
      "text/plain": [
       "<IPython.core.display.HTML object>"
      ]
     },
     "metadata": {},
     "output_type": "display_data"
    },
    {
     "data": {
      "text/html": [
       "No active sessions."
      ],
      "text/plain": [
       "<IPython.core.display.HTML object>"
      ]
     },
     "metadata": {},
     "output_type": "display_data"
    }
   ],
   "source": [
    "%%configure -f\n",
    "{\n",
    "    \"conf\": {\n",
    "        \"spark.jars\": \"s3://sjet-datamart-bucket/Jars/mssql-jdbc-6.1.0.jre8.jar\",\n",
    "        \"spark.sql.crossJoin.enabled\": \"true\"\n",
    "    }\n",
    "}"
   ]
  },
  {
   "cell_type": "code",
   "execution_count": 2,
   "id": "6e5ea5d3-453e-41d0-9377-6d0a83969082",
   "metadata": {
    "execution": {
     "iopub.execute_input": "2023-01-24T07:08:48.034815Z",
     "iopub.status.busy": "2023-01-24T07:08:48.034649Z",
     "iopub.status.idle": "2023-01-24T07:09:08.301674Z",
     "shell.execute_reply": "2023-01-24T07:09:08.301190Z",
     "shell.execute_reply.started": "2023-01-24T07:08:48.034787Z"
    },
    "tags": []
   },
   "outputs": [
    {
     "data": {
      "application/vnd.jupyter.widget-view+json": {
       "model_id": "79db6e9720de4d6d82118dc4a7a2ffaa",
       "version_major": 2,
       "version_minor": 0
      },
      "text/plain": [
       "VBox()"
      ]
     },
     "metadata": {},
     "output_type": "display_data"
    },
    {
     "name": "stdout",
     "output_type": "stream",
     "text": [
      "Starting Spark application\n"
     ]
    },
    {
     "data": {
      "text/html": [
       "<table>\n",
       "<tr><th>ID</th><th>YARN Application ID</th><th>Kind</th><th>State</th><th>Spark UI</th><th>Driver log</th><th>Current session?</th></tr><tr><td>4</td><td>application_1674535003907_0014</td><td>pyspark</td><td>idle</td><td></td><td></td><td>✔</td></tr></table>"
      ],
      "text/plain": [
       "<IPython.core.display.HTML object>"
      ]
     },
     "metadata": {},
     "output_type": "display_data"
    },
    {
     "data": {
      "application/vnd.jupyter.widget-view+json": {
       "model_id": "",
       "version_major": 2,
       "version_minor": 0
      },
      "text/plain": [
       "FloatProgress(value=0.0, bar_style='info', description='Progress:', layout=Layout(height='25px', width='50%'),…"
      ]
     },
     "metadata": {},
     "output_type": "display_data"
    },
    {
     "name": "stdout",
     "output_type": "stream",
     "text": [
      "SparkSession available as 'spark'.\n"
     ]
    },
    {
     "data": {
      "application/vnd.jupyter.widget-view+json": {
       "model_id": "",
       "version_major": 2,
       "version_minor": 0
      },
      "text/plain": [
       "FloatProgress(value=0.0, bar_style='info', description='Progress:', layout=Layout(height='25px', width='50%'),…"
      ]
     },
     "metadata": {},
     "output_type": "display_data"
    }
   ],
   "source": [
    "from pyspark import SparkConf\n",
    "from pyspark import SparkContext\n",
    "from pyspark.sql import SparkSession\n",
    "from pyspark.sql.types import *\n",
    "from pyspark.sql import functions as F\n",
    "import boto3\n",
    "import sys\n",
    "import re\n",
    "from datetime import datetime\n",
    "import configparser"
   ]
  },
  {
   "cell_type": "code",
   "execution_count": 3,
   "id": "06429db9-d780-4d3a-8115-9d6ea4c7962f",
   "metadata": {
    "execution": {
     "iopub.execute_input": "2023-01-24T07:09:08.302666Z",
     "iopub.status.busy": "2023-01-24T07:09:08.302507Z",
     "iopub.status.idle": "2023-01-24T07:09:13.573605Z",
     "shell.execute_reply": "2023-01-24T07:09:13.573085Z",
     "shell.execute_reply.started": "2023-01-24T07:09:08.302646Z"
    },
    "tags": []
   },
   "outputs": [
    {
     "data": {
      "application/vnd.jupyter.widget-view+json": {
       "model_id": "065161b18e3f444b9280562d40ce4648",
       "version_major": 2,
       "version_minor": 0
      },
      "text/plain": [
       "VBox()"
      ]
     },
     "metadata": {},
     "output_type": "display_data"
    },
    {
     "data": {
      "application/vnd.jupyter.widget-view+json": {
       "model_id": "",
       "version_major": 2,
       "version_minor": 0
      },
      "text/plain": [
       "FloatProgress(value=0.0, bar_style='info', description='Progress:', layout=Layout(height='25px', width='50%'),…"
      ]
     },
     "metadata": {},
     "output_type": "display_data"
    }
   ],
   "source": [
    "FuelOnBoard = spark.sql(''' SELECT * \n",
    "                          FROM fuel_on_board.fuel_on_board_processed_q400\n",
    "                          WHERE \n",
    "                          --CAST(ProcessedDate AS DATE) >= CAST (current_timestamp AS DATE)\n",
    "                          FlightDate > '2022-08-31'\n",
    "                          ''')\n",
    "\n",
    "FuelOnBoard.dropDuplicates().createOrReplaceTempView('FuelOnBoard')"
   ]
  },
  {
   "cell_type": "code",
   "execution_count": 4,
   "id": "c5d4c79c-df74-48dd-a1f3-aa985dcb2a9d",
   "metadata": {
    "execution": {
     "iopub.execute_input": "2023-01-24T07:09:13.579426Z",
     "iopub.status.busy": "2023-01-24T07:09:13.579213Z",
     "iopub.status.idle": "2023-01-24T07:09:13.832401Z",
     "shell.execute_reply": "2023-01-24T07:09:13.831870Z",
     "shell.execute_reply.started": "2023-01-24T07:09:13.579405Z"
    },
    "tags": []
   },
   "outputs": [
    {
     "data": {
      "application/vnd.jupyter.widget-view+json": {
       "model_id": "3ebaee9d425f44c0888bd65c8d3cef5b",
       "version_major": 2,
       "version_minor": 0
      },
      "text/plain": [
       "VBox()"
      ]
     },
     "metadata": {},
     "output_type": "display_data"
    },
    {
     "data": {
      "application/vnd.jupyter.widget-view+json": {
       "model_id": "",
       "version_major": 2,
       "version_minor": 0
      },
      "text/plain": [
       "FloatProgress(value=0.0, bar_style='info', description='Progress:', layout=Layout(height='25px', width='50%'),…"
      ]
     },
     "metadata": {},
     "output_type": "display_data"
    }
   ],
   "source": [
    "FuelOnBoardFinal = spark.sql(''' SELECT \n",
    "                                       FlightDate\n",
    "                                      ,TailNo\n",
    "                                      ,FlightNo\n",
    "                                      ,Sector\n",
    "                                      ,Departure\n",
    "                                      ,Actual_DEP_time\n",
    "                                      ,Airborne_Time\n",
    "                                      ,Touchdown_Time\n",
    "                                      ,Arrival\n",
    "                                      ,Actual_ARR_time\n",
    "                                      ,fob\n",
    "                                      ,DepartureFuel\n",
    "                                      ,FuelConsumed\n",
    "                                      ,Blocktime_ARMS\n",
    "                                      ,Blocktime_DFDR\n",
    "                                      ,FlightTime\n",
    "                                      ,ArrivalFuel\n",
    "                                      ,FileName\n",
    "                                      ,LoadedDate\n",
    "                                      ,current_timestamp() AS `ProcessedDate`\n",
    "                                      ,Year\n",
    "                                      ,Month\n",
    "                                FROM FuelOnBoard ''')"
   ]
  },
  {
   "cell_type": "code",
   "execution_count": 5,
   "id": "d39f3f65-970c-4af0-9fa7-bf0023797aac",
   "metadata": {
    "execution": {
     "iopub.execute_input": "2023-01-24T07:09:31.371178Z",
     "iopub.status.busy": "2023-01-24T07:09:31.370937Z",
     "iopub.status.idle": "2023-01-24T07:10:10.742755Z",
     "shell.execute_reply": "2023-01-24T07:10:10.742210Z",
     "shell.execute_reply.started": "2023-01-24T07:09:31.371152Z"
    },
    "tags": []
   },
   "outputs": [
    {
     "data": {
      "application/vnd.jupyter.widget-view+json": {
       "model_id": "3544fbfbbdb3426995ec096e9dc3afd3",
       "version_major": 2,
       "version_minor": 0
      },
      "text/plain": [
       "VBox()"
      ]
     },
     "metadata": {},
     "output_type": "display_data"
    },
    {
     "data": {
      "application/vnd.jupyter.widget-view+json": {
       "model_id": "",
       "version_major": 2,
       "version_minor": 0
      },
      "text/plain": [
       "FloatProgress(value=0.0, bar_style='info', description='Progress:', layout=Layout(height='25px', width='50%'),…"
      ]
     },
     "metadata": {},
     "output_type": "display_data"
    }
   ],
   "source": [
    "FuelOnBoardFinal \\\n",
    "  .write \\\n",
    "  .format(\"jdbc\") \\\n",
    "  .mode(\"append\") \\\n",
    "  .option(\"driver\", \"com.microsoft.sqlserver.jdbc.SQLServerDriver\") \\\n",
    "  .option(\"url\", \"jdbc:sqlserver://10.150.72.22:1433;databaseName=FuelDashBoard\") \\\n",
    "  .option(\"dbtable\", \"FuelOnBoard_Q400STG\") \\\n",
    "  .option(\"user\", \"dmbigdata\") \\\n",
    "  .option(\"password\", \"$p!Ce@bigData$db\") \\\n",
    "  .save()"
   ]
  },
  {
   "cell_type": "code",
   "execution_count": null,
   "id": "a8578ade-4391-4329-a96e-76777a73bdb4",
   "metadata": {},
   "outputs": [],
   "source": []
  }
 ],
 "metadata": {
  "kernelspec": {
   "display_name": "PySpark",
   "language": "",
   "name": "pysparkkernel"
  },
  "language_info": {
   "codemirror_mode": {
    "name": "python",
    "version": 3
   },
   "mimetype": "text/x-python",
   "name": "pyspark",
   "pygments_lexer": "python3"
  }
 },
 "nbformat": 4,
 "nbformat_minor": 5
}
