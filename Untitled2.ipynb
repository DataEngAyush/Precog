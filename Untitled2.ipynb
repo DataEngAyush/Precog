{
 "cells": [
  {
   "cell_type": "code",
   "execution_count": 1,
   "id": "d50fc76c-57fd-4fad-b4ea-b57be7c9fe90",
   "metadata": {
    "execution": {
     "iopub.execute_input": "2022-09-30T08:44:11.729738Z",
     "iopub.status.busy": "2022-09-30T08:44:11.729515Z",
     "iopub.status.idle": "2022-09-30T08:44:32.512998Z",
     "shell.execute_reply": "2022-09-30T08:44:32.512388Z",
     "shell.execute_reply.started": "2022-09-30T08:44:11.729714Z"
    },
    "tags": []
   },
   "outputs": [
    {
     "data": {
      "application/vnd.jupyter.widget-view+json": {
       "model_id": "817be4de4f3947ca9d28a16fed8837a1",
       "version_major": 2,
       "version_minor": 0
      },
      "text/plain": [
       "VBox()"
      ]
     },
     "metadata": {},
     "output_type": "display_data"
    },
    {
     "name": "stdout",
     "output_type": "stream",
     "text": [
      "Starting Spark application\n"
     ]
    },
    {
     "data": {
      "text/html": [
       "<table>\n",
       "<tr><th>ID</th><th>YARN Application ID</th><th>Kind</th><th>State</th><th>Spark UI</th><th>Driver log</th><th>Current session?</th></tr><tr><td>4</td><td>application_1664514829412_0090</td><td>pyspark</td><td>idle</td><td><a target=\"_blank\" href=\"http://ip-20-0-4-252.ap-south-1.compute.internal:20888/proxy/application_1664514829412_0090/\" class=\"emr-proxy-link\" emr-resource=\"j-1ESDXZK5FDWQA\n",
       "\" application-id=\"application_1664514829412_0090\">Link</a></td><td><a target=\"_blank\" href=\"http://ip-20-0-4-89.ap-south-1.compute.internal:8042/node/containerlogs/container_1664514829412_0090_01_000001/livy\" >Link</a></td><td>✔</td></tr></table>"
      ],
      "text/plain": [
       "<IPython.core.display.HTML object>"
      ]
     },
     "metadata": {},
     "output_type": "display_data"
    },
    {
     "data": {
      "application/vnd.jupyter.widget-view+json": {
       "model_id": "",
       "version_major": 2,
       "version_minor": 0
      },
      "text/plain": [
       "FloatProgress(value=0.0, bar_style='info', description='Progress:', layout=Layout(height='25px', width='50%'),…"
      ]
     },
     "metadata": {},
     "output_type": "display_data"
    },
    {
     "name": "stdout",
     "output_type": "stream",
     "text": [
      "SparkSession available as 'spark'.\n"
     ]
    },
    {
     "data": {
      "application/vnd.jupyter.widget-view+json": {
       "model_id": "",
       "version_major": 2,
       "version_minor": 0
      },
      "text/plain": [
       "FloatProgress(value=0.0, bar_style='info', description='Progress:', layout=Layout(height='25px', width='50%'),…"
      ]
     },
     "metadata": {},
     "output_type": "display_data"
    }
   ],
   "source": [
    "from pyspark import SparkConf\n",
    "from pyspark import SparkContext\n",
    "from pyspark.sql import SparkSession\n",
    "from pyspark.sql.types import *\n",
    "from pyspark.sql import functions as F\n",
    "import boto3\n",
    "import sys\n",
    "import re\n",
    "from datetime import datetime\n",
    "import configparser"
   ]
  },
  {
   "cell_type": "code",
   "execution_count": 75,
   "id": "ce88f5f8-ee26-4522-b651-b7627b4bc411",
   "metadata": {
    "execution": {
     "iopub.execute_input": "2022-09-28T13:35:55.617512Z",
     "iopub.status.busy": "2022-09-28T13:35:55.617276Z",
     "iopub.status.idle": "2022-09-28T13:35:56.379928Z",
     "shell.execute_reply": "2022-09-28T13:35:56.379388Z",
     "shell.execute_reply.started": "2022-09-28T13:35:55.617489Z"
    },
    "tags": []
   },
   "outputs": [
    {
     "data": {
      "application/vnd.jupyter.widget-view+json": {
       "model_id": "9cbc0aed9aec4c7dbf469f1edc5f757f",
       "version_major": 2,
       "version_minor": 0
      },
      "text/plain": [
       "VBox()"
      ]
     },
     "metadata": {},
     "output_type": "display_data"
    },
    {
     "data": {
      "application/vnd.jupyter.widget-view+json": {
       "model_id": "",
       "version_major": 2,
       "version_minor": 0
      },
      "text/plain": [
       "FloatProgress(value=0.0, bar_style='info', description='Progress:', layout=Layout(height='25px', width='50%'),…"
      ]
     },
     "metadata": {},
     "output_type": "display_data"
    }
   ],
   "source": []
  },
  {
   "cell_type": "code",
   "execution_count": 76,
   "id": "1ea3c04a-ce09-4558-a7a6-c0b3e86fc293",
   "metadata": {
    "execution": {
     "iopub.execute_input": "2022-09-28T13:35:56.908514Z",
     "iopub.status.busy": "2022-09-28T13:35:56.908263Z",
     "iopub.status.idle": "2022-09-28T13:35:56.959627Z",
     "shell.execute_reply": "2022-09-28T13:35:56.959029Z",
     "shell.execute_reply.started": "2022-09-28T13:35:56.908488Z"
    },
    "tags": []
   },
   "outputs": [
    {
     "data": {
      "application/vnd.jupyter.widget-view+json": {
       "model_id": "301b986061e44258a28f5ac6a916411c",
       "version_major": 2,
       "version_minor": 0
      },
      "text/plain": [
       "VBox()"
      ]
     },
     "metadata": {},
     "output_type": "display_data"
    },
    {
     "data": {
      "application/vnd.jupyter.widget-view+json": {
       "model_id": "",
       "version_major": 2,
       "version_minor": 0
      },
      "text/plain": [
       "FloatProgress(value=0.0, bar_style='info', description='Progress:', layout=Layout(height='25px', width='50%'),…"
      ]
     },
     "metadata": {},
     "output_type": "display_data"
    }
   ],
   "source": [
    "Q400_stage3_df = Q400Final.filter(~(F.col(\"Radio-Altitude\").like (\"*\")) \n",
    "                                                        & (F.col(\"Radio-Altitude\") != \" \"))"
   ]
  },
  {
   "cell_type": "code",
   "execution_count": 77,
   "id": "db1e55d2-b2bb-47a8-956f-9f00d947f82a",
   "metadata": {
    "execution": {
     "iopub.execute_input": "2022-09-28T13:35:57.645625Z",
     "iopub.status.busy": "2022-09-28T13:35:57.645394Z",
     "iopub.status.idle": "2022-09-28T13:35:57.910934Z",
     "shell.execute_reply": "2022-09-28T13:35:57.909973Z",
     "shell.execute_reply.started": "2022-09-28T13:35:57.645603Z"
    },
    "tags": []
   },
   "outputs": [
    {
     "data": {
      "application/vnd.jupyter.widget-view+json": {
       "model_id": "a5d803cbcd6e4609b52d3d1f7ef5f112",
       "version_major": 2,
       "version_minor": 0
      },
      "text/plain": [
       "VBox()"
      ]
     },
     "metadata": {},
     "output_type": "display_data"
    },
    {
     "data": {
      "application/vnd.jupyter.widget-view+json": {
       "model_id": "",
       "version_major": 2,
       "version_minor": 0
      },
      "text/plain": [
       "FloatProgress(value=0.0, bar_style='info', description='Progress:', layout=Layout(height='25px', width='50%'),…"
      ]
     },
     "metadata": {},
     "output_type": "display_data"
    }
   ],
   "source": [
    "Q400Interim = Q400_stage3_df.alias('ED').select(\n",
    "                                                        'ED.FlightID',\n",
    "                                                        'ED.DesigFlightNumber',\n",
    "                                                        'ED.FlightNumberARMS',\n",
    "                                                        'ED.FlightDate',\n",
    "                                                        'ED.FromCity',\n",
    "                                                        'ED.ToCity',\n",
    "                                                        'ED.BlockTime',\n",
    "                                                        'ED.ECN',\n",
    "                                                        'ED.EmployeeName',\n",
    "                                                        'ED.RANK',\n",
    "                                                        'ED.ChocksOff',\n",
    "                                                        'ED.ChocksOn',\n",
    "                                                        'ED.DOMINT',\n",
    "                                                        'ED.AircraftType',\n",
    "                                                        'ED.AircraftModel',  \n",
    "                                                        'ED.Payload',\n",
    "                                                        'ED.TailNo',\n",
    "                                                        'ED.Departure',\n",
    "                                                        'ED.Arrival',\n",
    "                                                        'ED.FlightNo',\n",
    "                                                        'ED.Date',\n",
    "                                                        'ED.Time-In-Secs',\n",
    "                                                        'ED.Time-Per-Sec', \n",
    "                                                        'ED.BARO-CORRECTED-PALT-DERIVED', \n",
    "                                                        'ED.Altitude-BaroL', \n",
    "                                                        'ED.Magnetic-Heading', \n",
    "                                                        F.lit(F.regexp_replace(\n",
    "                                                        'ED.Pitch-Attitude', '\\\\*', '')).alias('Pitch-Attitude'),\n",
    "                                                        'ED.Roll-Attitude',  \n",
    "                                                        F.col('ED.Radio-Altitude').cast('Integer').alias('Radio-Altitude'),\n",
    "                                                        F.lit(F.regexp_replace('ED.Nose-WOW', '\\\\*', '')).alias('Nose-WOW'), \n",
    "                                                        F.lit(F.regexp_replace('ED.Main-WOW', '\\\\*', '')).alias('Main-WOW'),\n",
    "                                                        'ED.Normal-Acceleration', \n",
    "                                                        'ED.Lateral-Acceleration', \n",
    "                                                        'ED.Longitudinal-Acceleration', \n",
    "                                                        'ED.Calibrated-Airspeed-L', \n",
    "                                                        'ED.AFCS-Selected-Speed', \n",
    "                                                        'ED.Vertical-Speed-Derived', \n",
    "                                                        'ED.Ground-Speed', \n",
    "                                                        'ED.Flap-Control-Selection',\n",
    "                                                        F.regexp_replace(F.col('ED.FLAP-POSITION'), '\\\\*', '').alias('FLAP-POSITION'), \n",
    "                                                        'ED.Power-Lever-Pos-L', \n",
    "                                                        'ED.Power-Lever-Pos-R', \n",
    "                                                        'ED.Torque-TQ-Eng-L', \n",
    "                                                        'ED.Torque-TQ-Eng-R', \n",
    "                                                        'ED.Condition-Lever-L', \n",
    "                                                        'ED.Condition-Lever-R', \n",
    "                                                        'ED.Prop-RPM-Np-Eng-L', \n",
    "                                                        'ED.Prop-RPM-Np-Eng-R', \n",
    "                                                        'ED.GPWS-Alert/Warning', \n",
    "                                                        'ED.GPWS-Glideslope-Alert', \n",
    "                                                        F.regexp_replace(F.col('ED.AFCS-Glideslope-Active'), '\\\\*', '').alias(\"AFCS-Glideslope-Active\"),\n",
    "                                                        'ED.AFCS-LOC-Active', \n",
    "                                                        'ED.AFCS-VOR-Active', \n",
    "                                                        F.regexp_replace(F.col('ED.GLIDE-PATH-DEV-PILOT-ABOVE'), '\\\\*', '').alias(\"GLIDE-PATH-DEV-PILOT-ABOVE\"),  \n",
    "                                                        F.regexp_replace(F.col('ED.GLIDE-PATH-DEV-COPILOT-ABOVE'), '\\\\*', '').alias(\"GLIDE-PATH-DEV-COPILOT-ABOVE\"),\n",
    "                                                        'ED.DME-DISTANCE-1', \n",
    "                                                        'ED.DME-DISTANCE-2', \n",
    "                                                        'ED.VOR-1-SELECT-FREQ', \n",
    "                                                        'ED.VOR-2-SELECT-FREQ', \n",
    "                                                        'ED.WIND-ANGLE', \n",
    "                                                        'ED.WIND-SPEED', \n",
    "                                                        'ED.BRAKE-PRESS-LEFT', \n",
    "                                                        'ED.BRAKE-PRESS-RIGHT', \n",
    "                                                        'ED.Thrust-Rev-Low-Beta-Eng-L', \n",
    "                                                        'ED.Thrust-Rev-Low-Beta-Eng-R', \n",
    "                                                        'ED.AFCS-Autopilot-Engaged',\n",
    "                                                        'ED.FileName',\n",
    "                                                        'ED.LoadedDate',\n",
    "                                                        'ED.LoadedBy',\n",
    "                                                        'ED.DataFrameName',\n",
    "                                                        'ED.year',\n",
    "                                                        'ED.month' )\n",
    "\n",
    "Q400Interim.createOrReplaceTempView('Q400Interim')"
   ]
  },
  {
   "cell_type": "code",
   "execution_count": 89,
   "id": "d7fc729b-0916-4733-95c7-6517e290ff9f",
   "metadata": {
    "execution": {
     "iopub.execute_input": "2022-09-28T13:41:22.399806Z",
     "iopub.status.busy": "2022-09-28T13:41:22.399477Z",
     "iopub.status.idle": "2022-09-28T13:41:22.559922Z",
     "shell.execute_reply": "2022-09-28T13:41:22.559357Z",
     "shell.execute_reply.started": "2022-09-28T13:41:22.399768Z"
    },
    "tags": []
   },
   "outputs": [
    {
     "data": {
      "application/vnd.jupyter.widget-view+json": {
       "model_id": "71ab2b872c6c4cbf80c0fe58e383e225",
       "version_major": 2,
       "version_minor": 0
      },
      "text/plain": [
       "VBox()"
      ]
     },
     "metadata": {},
     "output_type": "display_data"
    },
    {
     "data": {
      "application/vnd.jupyter.widget-view+json": {
       "model_id": "",
       "version_major": 2,
       "version_minor": 0
      },
      "text/plain": [
       "FloatProgress(value=0.0, bar_style='info', description='Progress:', layout=Layout(height='25px', width='50%'),…"
      ]
     },
     "metadata": {},
     "output_type": "display_data"
    }
   ],
   "source": [
    "FirstQuery  = spark.sql('''\n",
    "                            SELECT `Time-In-Secs`, FileName, \n",
    "                            max(cast(`Radio-Altitude` as int)) as RadioAltitude \n",
    "                            from Q400Interim group by FileName, `Time-In-Secs`\n",
    "''')\n",
    "    \n",
    "FirstQuery.createOrReplaceTempView(\"B\")"
   ]
  },
  {
   "cell_type": "code",
   "execution_count": 90,
   "id": "99d8e6ad-32cc-425e-820e-a1f22224cc4d",
   "metadata": {
    "execution": {
     "iopub.execute_input": "2022-09-28T13:41:25.541979Z",
     "iopub.status.busy": "2022-09-28T13:41:25.541742Z",
     "iopub.status.idle": "2022-09-28T13:41:48.857921Z",
     "shell.execute_reply": "2022-09-28T13:41:48.857398Z",
     "shell.execute_reply.started": "2022-09-28T13:41:25.541955Z"
    },
    "tags": []
   },
   "outputs": [
    {
     "data": {
      "application/vnd.jupyter.widget-view+json": {
       "model_id": "bda464c3886844389cebead9dfc61427",
       "version_major": 2,
       "version_minor": 0
      },
      "text/plain": [
       "VBox()"
      ]
     },
     "metadata": {},
     "output_type": "display_data"
    },
    {
     "data": {
      "application/vnd.jupyter.widget-view+json": {
       "model_id": "",
       "version_major": 2,
       "version_minor": 0
      },
      "text/plain": [
       "FloatProgress(value=0.0, bar_style='info', description='Progress:', layout=Layout(height='25px', width='50%'),…"
      ]
     },
     "metadata": {},
     "output_type": "display_data"
    },
    {
     "name": "stdout",
     "output_type": "stream",
     "text": [
      "+------------+--------------------+-------------+\n",
      "|Time-In-Secs|            FileName|RadioAltitude|\n",
      "+------------+--------------------+-------------+\n",
      "|         1.0|ALL ac=VT-SUB dep...|            0|\n",
      "|       584.0|ALL ac=VT-SUF dep...|            0|\n",
      "|       877.0|ALL ac=VT-SUF dep...|            0|\n",
      "|      1787.0|ALL ac=VT-SUF dep...|            0|\n",
      "|      1947.0|ALL ac=VT-SUF dep...|            0|\n",
      "|      5002.0|ALL ac=VT-SUF dep...|            0|\n",
      "|      5201.0|ALL ac=VT-SUF dep...|         1994|\n",
      "|      5202.0|ALL ac=VT-SUF dep...|         1992|\n",
      "|      1607.0|ALL ac=VT-SUB dep...|            0|\n",
      "|      2543.0|ALL ac=VT-SUB dep...|            0|\n",
      "|      4461.0|ALL ac=VT-SUB dep...|            0|\n",
      "|       509.0|ALL ac=VT-SUF dep...|          920|\n",
      "|      2926.0|ALL ac=VT-SUF dep...|            0|\n",
      "|       279.0|ALL ac=VT-SUO dep...|            1|\n",
      "|       985.0|ALL ac=VT-SUO dep...|            0|\n",
      "|      1517.0|ALL ac=VT-SUO dep...|            0|\n",
      "|      1880.0|ALL ac=VT-SUO dep...|            0|\n",
      "|      3635.0|ALL ac=VT-SUO dep...|            0|\n",
      "|      4939.0|ALL ac=VT-SUO dep...|            0|\n",
      "|       214.0|ALL ac=VT-SUG dep...|            5|\n",
      "+------------+--------------------+-------------+\n",
      "only showing top 20 rows"
     ]
    }
   ],
   "source": [
    "FirstQuery.show()"
   ]
  },
  {
   "cell_type": "code",
   "execution_count": 91,
   "id": "9e6df5d0-bee5-478a-9e02-ea4e2c9e17e3",
   "metadata": {
    "execution": {
     "iopub.execute_input": "2022-09-28T13:42:05.595639Z",
     "iopub.status.busy": "2022-09-28T13:42:05.595400Z",
     "iopub.status.idle": "2022-09-28T13:42:05.848370Z",
     "shell.execute_reply": "2022-09-28T13:42:05.847810Z",
     "shell.execute_reply.started": "2022-09-28T13:42:05.595615Z"
    },
    "tags": []
   },
   "outputs": [
    {
     "data": {
      "application/vnd.jupyter.widget-view+json": {
       "model_id": "00a419d1ed574383b2b4452c1666023b",
       "version_major": 2,
       "version_minor": 0
      },
      "text/plain": [
       "VBox()"
      ]
     },
     "metadata": {},
     "output_type": "display_data"
    },
    {
     "data": {
      "application/vnd.jupyter.widget-view+json": {
       "model_id": "",
       "version_major": 2,
       "version_minor": 0
      },
      "text/plain": [
       "FloatProgress(value=0.0, bar_style='info', description='Progress:', layout=Layout(height='25px', width='50%'),…"
      ]
     },
     "metadata": {},
     "output_type": "display_data"
    }
   ],
   "source": [
    "SecondQuery = spark.sql('''\n",
    "                SELECT a.*, B.RadioAltitude from Q400Interim a \n",
    "                inner join B \n",
    "                on a.FileName = B.FileName \n",
    "                and a.`Radio-Altitude` = B.RadioAltitude \n",
    "''')\n",
    "\n",
    "SecondQuery.createOrReplaceTempView(\"C\")\n",
    "\n",
    "ThirdQuery = spark.sql('''\n",
    "                SELECT FileName, RadioAltitude, max(`Time-In-Secs`) as MaxTime, min(`Time-In-Secs`) as MinTime\n",
    "                from C group by FileName, RadioAltitude\n",
    "                ''')\n",
    "\n",
    "ThirdQuery.createOrReplaceTempView(\"D\")"
   ]
  },
  {
   "cell_type": "code",
   "execution_count": null,
   "id": "63866968-aead-482b-97bc-02674c4b9b48",
   "metadata": {
    "execution": {
     "iopub.execute_input": "2022-09-28T13:42:07.165264Z",
     "iopub.status.busy": "2022-09-28T13:42:07.165034Z"
    },
    "tags": []
   },
   "outputs": [
    {
     "data": {
      "application/vnd.jupyter.widget-view+json": {
       "model_id": "eee626f7525e4ac4b4d156e28a041bb5",
       "version_major": 2,
       "version_minor": 0
      },
      "text/plain": [
       "VBox()"
      ]
     },
     "metadata": {},
     "output_type": "display_data"
    },
    {
     "data": {
      "application/vnd.jupyter.widget-view+json": {
       "model_id": "0711e7056af9419f9ccf3691f29d48da",
       "version_major": 2,
       "version_minor": 0
      },
      "text/plain": [
       "FloatProgress(value=0.0, bar_style='info', description='Progress:', layout=Layout(height='25px', width='50%'),…"
      ]
     },
     "metadata": {},
     "output_type": "display_data"
    }
   ],
   "source": [
    "ThirdQuery.show(20,False)"
   ]
  },
  {
   "cell_type": "code",
   "execution_count": 66,
   "id": "30d62d46-5d43-4702-9cc9-504852fb6ffe",
   "metadata": {
    "execution": {
     "iopub.execute_input": "2022-09-28T13:31:58.311907Z",
     "iopub.status.busy": "2022-09-28T13:31:58.311661Z",
     "iopub.status.idle": "2022-09-28T13:31:58.563378Z",
     "shell.execute_reply": "2022-09-28T13:31:58.562750Z",
     "shell.execute_reply.started": "2022-09-28T13:31:58.311883Z"
    },
    "tags": []
   },
   "outputs": [
    {
     "data": {
      "application/vnd.jupyter.widget-view+json": {
       "model_id": "4a2915613ea14c8eadca1de910c3d2c3",
       "version_major": 2,
       "version_minor": 0
      },
      "text/plain": [
       "VBox()"
      ]
     },
     "metadata": {},
     "output_type": "display_data"
    },
    {
     "data": {
      "application/vnd.jupyter.widget-view+json": {
       "model_id": "",
       "version_major": 2,
       "version_minor": 0
      },
      "text/plain": [
       "FloatProgress(value=0.0, bar_style='info', description='Progress:', layout=Layout(height='25px', width='50%'),…"
      ]
     },
     "metadata": {},
     "output_type": "display_data"
    }
   ],
   "source": [
    "FourthQuery = spark.sql(f'''\n",
    "\n",
    "                                        SELECT * FROM \n",
    "                                        \n",
    "                                        (\n",
    "                                        \n",
    "                                        select a1.`Time-In-Secs` as `Time-In-Secs-EX`,\n",
    "                                        \n",
    "                                        a1.`BARO-CORRECTED-PALT-DERIVED` as `BARO-CORRECTED-PALT-DERIVED-EX`,\n",
    "                                        \n",
    "                                        a1.`Radio-Altitude` as `Radio-Altitude-EX`,\n",
    "                                        \n",
    "                                        REPLACE(a1.`FLAP-POSITION`,'*','') as `FLAP-POSITION-EX`,\n",
    "                                        \n",
    "                                        a1.`Main-WOW`,\n",
    "                                        \n",
    "                                        'LateLandingFlap' as ExceedanceName,\n",
    "                                        \n",
    "                                        a1.filename,\n",
    "                                        \n",
    "                                        case \n",
    "                                        \n",
    "                                        when Cast(`Time-In-Secs` as int)<D.MinTime Then 'TakeOff'\n",
    "                                        \n",
    "                                        when Cast(`Time-In-Secs` as int) between D.MinTime and D.MaxTime Then 'Airborne'\n",
    "                                        \n",
    "                                        when Cast(`Time-In-Secs` as int)>D.MaxTime Then 'Approach' end Phase\n",
    "                                        \n",
    "                                        ,ROW_NUMBER() over(partition by a1.filename order by `Time-In-Secs`) RN\n",
    "                                        \n",
    "                                        from Q400Interim a1\n",
    "                                        \n",
    "                                        inner join D  \n",
    "                                        \n",
    "                                        on a1.FileName = D.FileName\n",
    "                                        \n",
    "                                        where Cast(`Time-In-Secs` as float)>D.MaxTime \n",
    "                                        \n",
    "                                        and `Radio-Altitude` < 1000 \n",
    "                                        \n",
    "                                        and `Radio-Altitude` <> 0 \n",
    "                                        \n",
    "                                        and `FLAP-POSITION` IS NOT NULL \n",
    "                                        \n",
    "                                        and `Main-WOW` = 'Air (0)' \n",
    "                                        \n",
    "                                        \n",
    "                                        )\n",
    "                                        \n",
    "                                        WHERE RN = 1 \n",
    "                                        \n",
    "                                        ''')"
   ]
  },
  {
   "cell_type": "code",
   "execution_count": 67,
   "id": "14971b76-a865-4ba8-8e8a-4e2976cffbf2",
   "metadata": {
    "execution": {
     "iopub.execute_input": "2022-09-28T13:31:59.277563Z",
     "iopub.status.busy": "2022-09-28T13:31:59.277341Z",
     "iopub.status.idle": "2022-09-28T13:31:59.527741Z",
     "shell.execute_reply": "2022-09-28T13:31:59.527185Z",
     "shell.execute_reply.started": "2022-09-28T13:31:59.277541Z"
    },
    "tags": []
   },
   "outputs": [
    {
     "data": {
      "application/vnd.jupyter.widget-view+json": {
       "model_id": "df57eda846a046c59b6a55d1b5aa9a14",
       "version_major": 2,
       "version_minor": 0
      },
      "text/plain": [
       "VBox()"
      ]
     },
     "metadata": {},
     "output_type": "display_data"
    },
    {
     "data": {
      "application/vnd.jupyter.widget-view+json": {
       "model_id": "",
       "version_major": 2,
       "version_minor": 0
      },
      "text/plain": [
       "FloatProgress(value=0.0, bar_style='info', description='Progress:', layout=Layout(height='25px', width='50%'),…"
      ]
     },
     "metadata": {},
     "output_type": "display_data"
    }
   ],
   "source": [
    "FourthQuery.createOrReplaceTempView('FourthQuery')"
   ]
  },
  {
   "cell_type": "code",
   "execution_count": 68,
   "id": "7c9ca75d-d3a7-4702-adae-181135326410",
   "metadata": {
    "execution": {
     "iopub.execute_input": "2022-09-28T13:32:00.287821Z",
     "iopub.status.busy": "2022-09-28T13:32:00.287584Z",
     "iopub.status.idle": "2022-09-28T13:32:15.589785Z",
     "shell.execute_reply": "2022-09-28T13:32:15.589177Z",
     "shell.execute_reply.started": "2022-09-28T13:32:00.287796Z"
    },
    "tags": []
   },
   "outputs": [
    {
     "data": {
      "application/vnd.jupyter.widget-view+json": {
       "model_id": "80c22e8950104408b1e26021399dfd58",
       "version_major": 2,
       "version_minor": 0
      },
      "text/plain": [
       "VBox()"
      ]
     },
     "metadata": {},
     "output_type": "display_data"
    },
    {
     "data": {
      "application/vnd.jupyter.widget-view+json": {
       "model_id": "",
       "version_major": 2,
       "version_minor": 0
      },
      "text/plain": [
       "FloatProgress(value=0.0, bar_style='info', description='Progress:', layout=Layout(height='25px', width='50%'),…"
      ]
     },
     "metadata": {},
     "output_type": "display_data"
    },
    {
     "name": "stdout",
     "output_type": "stream",
     "text": [
      "+---------------+------------------------------+-----------------+----------------+--------+---------------+--------------------+--------+---+\n",
      "|Time-In-Secs-EX|BARO-CORRECTED-PALT-DERIVED-EX|Radio-Altitude-EX|FLAP-POSITION-EX|Main-WOW| ExceedanceName|            filename|   Phase| RN|\n",
      "+---------------+------------------------------+-----------------+----------------+--------+---------------+--------------------+--------+---+\n",
      "|         4960.0|                           907|              987|            35.0| Air (0)|LateLandingFlap|ALL ac=VT-SUD dep...|Approach|  1|\n",
      "+---------------+------------------------------+-----------------+----------------+--------+---------------+--------------------+--------+---+"
     ]
    }
   ],
   "source": [
    "FourthQuery.show()"
   ]
  },
  {
   "cell_type": "code",
   "execution_count": 70,
   "id": "28d78555-d8bd-4ffa-8e88-7f852fd4cf3d",
   "metadata": {
    "execution": {
     "iopub.execute_input": "2022-09-28T13:33:13.602015Z",
     "iopub.status.busy": "2022-09-28T13:33:13.601777Z",
     "iopub.status.idle": "2022-09-28T13:33:13.856663Z",
     "shell.execute_reply": "2022-09-28T13:33:13.855978Z",
     "shell.execute_reply.started": "2022-09-28T13:33:13.601992Z"
    },
    "tags": []
   },
   "outputs": [
    {
     "data": {
      "application/vnd.jupyter.widget-view+json": {
       "model_id": "fd0ea48f57314f5cadd0bfde3af98f5a",
       "version_major": 2,
       "version_minor": 0
      },
      "text/plain": [
       "VBox()"
      ]
     },
     "metadata": {},
     "output_type": "display_data"
    },
    {
     "data": {
      "application/vnd.jupyter.widget-view+json": {
       "model_id": "",
       "version_major": 2,
       "version_minor": 0
      },
      "text/plain": [
       "FloatProgress(value=0.0, bar_style='info', description='Progress:', layout=Layout(height='25px', width='50%'),…"
      ]
     },
     "metadata": {},
     "output_type": "display_data"
    }
   ],
   "source": [
    "FifthQuery = spark.sql(f'''\n",
    "\n",
    "                                            SELECT * FROM \n",
    "                                                \n",
    "                                            (\n",
    "                                                \n",
    "                                            select a1.`Time-In-Secs` as `Time-In-Secs-EX`,\n",
    "                                                \n",
    "                                            a1.`BARO-CORRECTED-PALT-DERIVED` as `BARO-CORRECTED-PALT-DERIVED-EX`,\n",
    "                                                \n",
    "                                            a1.`Radio-Altitude` as `Radio-Altitude-EX`,\n",
    "                                                \n",
    "                                            REPLACE(a1.`FLAP-POSITION`,'*','') as `FLAP-POSITION-EX`,\n",
    "                                                \n",
    "                                            a1.`Main-WOW`,\n",
    "                                                \n",
    "                                            'LateLandingFlap' as ExceedanceName,\n",
    "                                                \n",
    "                                            a1.filename,\n",
    "                                                \n",
    "                                            case \n",
    "                                                \n",
    "                                            when Cast(`Time-In-Secs` as int)<D.MinTime Then 'TakeOff'\n",
    "                                                \n",
    "                                            when Cast(`Time-In-Secs` as int) between D.MinTime and D.MaxTime Then 'Airborne'\n",
    "                                                \n",
    "                                            when Cast(`Time-In-Secs` as int)>D.MaxTime Then 'Approach' end Phase,\n",
    "                                                \n",
    "                                            ROW_NUMBER() over(partition by a1.filename order by `Time-In-Secs`) RN\n",
    "                                                \n",
    "                                            from Q400Interim a1\n",
    "                                                \n",
    "                                            inner join D  \n",
    "                                                \n",
    "                                            on a1.FileName = D.FileName\n",
    "                                                \n",
    "                                            where Cast(`Time-In-Secs` as float)>D.MaxTime \n",
    "                                                \n",
    "                                            and `Radio-Altitude` < 1000 \n",
    "                                                \n",
    "                                            and `FLAP-POSITION` IS NOT NULL \n",
    "                                                \n",
    "                                            and `Main-WOW` = 'Gnd (1)'\n",
    "                                                \n",
    "                                            )\n",
    "                                                \n",
    "                                            WHERE RN = 1\n",
    "                                                \n",
    "                                            ''')"
   ]
  },
  {
   "cell_type": "code",
   "execution_count": 54,
   "id": "cd82fdab-0a98-45cb-9884-0a6d6e65ddbc",
   "metadata": {
    "execution": {
     "iopub.execute_input": "2022-09-28T13:28:11.073220Z",
     "iopub.status.busy": "2022-09-28T13:28:11.073002Z",
     "iopub.status.idle": "2022-09-28T13:28:11.322324Z",
     "shell.execute_reply": "2022-09-28T13:28:11.321800Z",
     "shell.execute_reply.started": "2022-09-28T13:28:11.073197Z"
    },
    "tags": []
   },
   "outputs": [
    {
     "data": {
      "application/vnd.jupyter.widget-view+json": {
       "model_id": "bbc7fed8979e4b36b250fb95c9a67bf0",
       "version_major": 2,
       "version_minor": 0
      },
      "text/plain": [
       "VBox()"
      ]
     },
     "metadata": {},
     "output_type": "display_data"
    },
    {
     "data": {
      "application/vnd.jupyter.widget-view+json": {
       "model_id": "",
       "version_major": 2,
       "version_minor": 0
      },
      "text/plain": [
       "FloatProgress(value=0.0, bar_style='info', description='Progress:', layout=Layout(height='25px', width='50%'),…"
      ]
     },
     "metadata": {},
     "output_type": "display_data"
    }
   ],
   "source": [
    "FifthQuery.createOrReplaceTempView('FifthQuery')"
   ]
  },
  {
   "cell_type": "code",
   "execution_count": 71,
   "id": "9ad735b7-54b9-401a-80a2-901d3bc4acaa",
   "metadata": {
    "execution": {
     "iopub.execute_input": "2022-09-28T13:33:25.641997Z",
     "iopub.status.busy": "2022-09-28T13:33:25.641759Z",
     "iopub.status.idle": "2022-09-28T13:33:56.986096Z",
     "shell.execute_reply": "2022-09-28T13:33:56.985604Z",
     "shell.execute_reply.started": "2022-09-28T13:33:25.641973Z"
    }
   },
   "outputs": [
    {
     "data": {
      "application/vnd.jupyter.widget-view+json": {
       "model_id": "0bb12f8d8d384a0a98c51bece1c31389",
       "version_major": 2,
       "version_minor": 0
      },
      "text/plain": [
       "VBox()"
      ]
     },
     "metadata": {},
     "output_type": "display_data"
    },
    {
     "data": {
      "application/vnd.jupyter.widget-view+json": {
       "model_id": "",
       "version_major": 2,
       "version_minor": 0
      },
      "text/plain": [
       "FloatProgress(value=0.0, bar_style='info', description='Progress:', layout=Layout(height='25px', width='50%'),…"
      ]
     },
     "metadata": {},
     "output_type": "display_data"
    },
    {
     "name": "stdout",
     "output_type": "stream",
     "text": [
      "+---------------+------------------------------+-----------------+----------------+--------+---------------+--------------------+--------+---+\n",
      "|Time-In-Secs-EX|BARO-CORRECTED-PALT-DERIVED-EX|Radio-Altitude-EX|FLAP-POSITION-EX|Main-WOW| ExceedanceName|            filename|   Phase| RN|\n",
      "+---------------+------------------------------+-----------------+----------------+--------+---------------+--------------------+--------+---+\n",
      "|         5038.0|                            71|                5|            35.0| Gnd (1)|LateLandingFlap|ALL ac=VT-SUD dep...|Approach|  1|\n",
      "+---------------+------------------------------+-----------------+----------------+--------+---------------+--------------------+--------+---+"
     ]
    }
   ],
   "source": [
    "FifthQuery.show()"
   ]
  },
  {
   "cell_type": "code",
   "execution_count": 72,
   "id": "b58a064a-c52d-40e5-8a23-abeae3c2d73b",
   "metadata": {
    "execution": {
     "iopub.execute_input": "2022-09-28T13:34:30.060863Z",
     "iopub.status.busy": "2022-09-28T13:34:30.060616Z",
     "iopub.status.idle": "2022-09-28T13:34:30.112121Z",
     "shell.execute_reply": "2022-09-28T13:34:30.111523Z",
     "shell.execute_reply.started": "2022-09-28T13:34:30.060836Z"
    },
    "tags": []
   },
   "outputs": [
    {
     "data": {
      "application/vnd.jupyter.widget-view+json": {
       "model_id": "7a1489abb8ad482999b7f652359df3cf",
       "version_major": 2,
       "version_minor": 0
      },
      "text/plain": [
       "VBox()"
      ]
     },
     "metadata": {},
     "output_type": "display_data"
    },
    {
     "data": {
      "application/vnd.jupyter.widget-view+json": {
       "model_id": "",
       "version_major": 2,
       "version_minor": 0
      },
      "text/plain": [
       "FloatProgress(value=0.0, bar_style='info', description='Progress:', layout=Layout(height='25px', width='50%'),…"
      ]
     },
     "metadata": {},
     "output_type": "display_data"
    }
   ],
   "source": [
    "FifthTestQuery = spark.sql('''\n",
    "                                SELECT\n",
    "                            CASE \n",
    "                                WHEN `FLAP-POSITION-EX` IS NOT NULL THEN \n",
    "                                    CASE WHEN CAST((CAST(`FLAP-POSITION-EX` AS FLOAT)) AS INT)  BETWEEN 14 AND 16 THEN 15\n",
    "                                         WHEN CAST((CAST(`FLAP-POSITION-EX` AS FLOAT)) AS INT)  BETWEEN 34 AND 36 THEN 35\n",
    "                                         ELSE NULL\n",
    "                                    END\n",
    "                            END FlapType,\n",
    "                            FQ.FileName\n",
    "                                            \n",
    "                                           \n",
    "             FROM FifthQuery FQ\n",
    "                                ''')"
   ]
  },
  {
   "cell_type": "code",
   "execution_count": 73,
   "id": "bacfacf3-9abc-49c2-85a7-6550462c1600",
   "metadata": {
    "execution": {
     "iopub.execute_input": "2022-09-28T13:34:33.676891Z",
     "iopub.status.busy": "2022-09-28T13:34:33.676650Z",
     "iopub.status.idle": "2022-09-28T13:34:33.930410Z",
     "shell.execute_reply": "2022-09-28T13:34:33.929714Z",
     "shell.execute_reply.started": "2022-09-28T13:34:33.676867Z"
    },
    "tags": []
   },
   "outputs": [
    {
     "data": {
      "application/vnd.jupyter.widget-view+json": {
       "model_id": "5f9cf0cc775d4456a48901088e6fcaf0",
       "version_major": 2,
       "version_minor": 0
      },
      "text/plain": [
       "VBox()"
      ]
     },
     "metadata": {},
     "output_type": "display_data"
    },
    {
     "data": {
      "application/vnd.jupyter.widget-view+json": {
       "model_id": "",
       "version_major": 2,
       "version_minor": 0
      },
      "text/plain": [
       "FloatProgress(value=0.0, bar_style='info', description='Progress:', layout=Layout(height='25px', width='50%'),…"
      ]
     },
     "metadata": {},
     "output_type": "display_data"
    }
   ],
   "source": [
    "FifthTestQuery.createOrReplaceTempView('FifthTestQuery')"
   ]
  },
  {
   "cell_type": "code",
   "execution_count": 74,
   "id": "58ca2b06-2bd3-46f9-b624-490052749fa2",
   "metadata": {
    "execution": {
     "iopub.execute_input": "2022-09-28T13:34:47.397456Z",
     "iopub.status.busy": "2022-09-28T13:34:47.397217Z",
     "iopub.status.idle": "2022-09-28T13:34:50.671609Z",
     "shell.execute_reply": "2022-09-28T13:34:50.671035Z",
     "shell.execute_reply.started": "2022-09-28T13:34:47.397432Z"
    }
   },
   "outputs": [
    {
     "data": {
      "application/vnd.jupyter.widget-view+json": {
       "model_id": "4ce00503471b4026a95b7674d161671b",
       "version_major": 2,
       "version_minor": 0
      },
      "text/plain": [
       "VBox()"
      ]
     },
     "metadata": {},
     "output_type": "display_data"
    },
    {
     "data": {
      "application/vnd.jupyter.widget-view+json": {
       "model_id": "",
       "version_major": 2,
       "version_minor": 0
      },
      "text/plain": [
       "FloatProgress(value=0.0, bar_style='info', description='Progress:', layout=Layout(height='25px', width='50%'),…"
      ]
     },
     "metadata": {},
     "output_type": "display_data"
    },
    {
     "name": "stdout",
     "output_type": "stream",
     "text": [
      "+--------+--------------------+\n",
      "|FlapType|            FileName|\n",
      "+--------+--------------------+\n",
      "|      35|ALL ac=VT-SUG dep...|\n",
      "|      35|ALL ac=VT-SUD dep...|\n",
      "|      15|ALL ac=VT-SUB dep...|\n",
      "+--------+--------------------+"
     ]
    }
   ],
   "source": [
    "FifthTestQuery.show()"
   ]
  },
  {
   "cell_type": "code",
   "execution_count": 57,
   "id": "244ee677-f427-4b7e-9ac1-119b84118666",
   "metadata": {
    "execution": {
     "iopub.execute_input": "2022-09-28T13:28:19.367496Z",
     "iopub.status.busy": "2022-09-28T13:28:19.367228Z",
     "iopub.status.idle": "2022-09-28T13:28:20.124088Z",
     "shell.execute_reply": "2022-09-28T13:28:20.123431Z",
     "shell.execute_reply.started": "2022-09-28T13:28:19.367472Z"
    },
    "tags": []
   },
   "outputs": [
    {
     "data": {
      "application/vnd.jupyter.widget-view+json": {
       "model_id": "644a7928568a466fb624c473e1d015ca",
       "version_major": 2,
       "version_minor": 0
      },
      "text/plain": [
       "VBox()"
      ]
     },
     "metadata": {},
     "output_type": "display_data"
    },
    {
     "data": {
      "application/vnd.jupyter.widget-view+json": {
       "model_id": "",
       "version_major": 2,
       "version_minor": 0
      },
      "text/plain": [
       "FloatProgress(value=0.0, bar_style='info', description='Progress:', layout=Layout(height='25px', width='50%'),…"
      ]
     },
     "metadata": {},
     "output_type": "display_data"
    }
   ],
   "source": [
    "FinalLLF = spark.sql(f'''\n",
    "                                    SELECT * FROM (\n",
    "                                    \n",
    "                                    SELECT \n",
    "                                        \n",
    "                                        QI.`Time-In-Secs` as `Time-In-Secs-EX`,\n",
    "                                        \n",
    "                                        QI.`Radio-Altitude` as `Radio-Altitude-EX`,\n",
    "                                        \n",
    "                                        FTF.FlapType,\n",
    "                                        \n",
    "                                        QI.`FLAP-POSITION` as `FLAP-POSITION-EX`,\n",
    "                                        \n",
    "                                        'LateLandingFlap'  as ExceedanceName,\n",
    "                                        \n",
    "                                        FQ.Phase,\n",
    "                                        \n",
    "                                        CASE \n",
    "                                                    WHEN QI.`FLAP-POSITION` IS NOT NULL THEN\n",
    "                                                        CASE \n",
    "                                                            WHEN CAST(QI.`FLAP-POSITION` AS FLOAT) > CAST (FTF.FlapType AS Float) +1 \n",
    "                                                            OR CAST(QI.`FLAP-POSITION` AS FLOAT) < CAST (FTF.FlapType AS Float) -1  THEN 'High' ELSE 'Low'\n",
    "                                                            END\n",
    "                                                ELSE 'Low'\n",
    "                                                END AS TriggerCondition,\n",
    "                                                \n",
    "                                                QI.*\n",
    "                                                \n",
    "                                        FROM Q400Interim QI\n",
    "                                        \n",
    "                                        INNER JOIN FifthTestQuery FTF ON QI.FileName= FTF.FileName\n",
    "                                        INNER JOIN FourthQuery FQ ON QI.FileName= FQ.FileName\n",
    "                                                                            AND QI.`Radio-Altitude` = FQ.`Radio-Altitude-EX`\n",
    "                                                                            AND QI.`Time-In-Secs` = FQ.`Time-In-Secs-EX`\n",
    "                                                                            \n",
    "                                        )FNL\n",
    "                                        WHERE FNL.TriggerCondition ='High'\n",
    "                                        \n",
    "                                        ''')\n",
    "\n",
    "FinalLLF.createOrReplaceTempView('FinalLLF')"
   ]
  },
  {
   "cell_type": "code",
   "execution_count": 58,
   "id": "e6159c6e-692d-432f-a400-5a1aae248ccc",
   "metadata": {
    "execution": {
     "iopub.execute_input": "2022-09-28T13:28:20.590182Z",
     "iopub.status.busy": "2022-09-28T13:28:20.589944Z",
     "iopub.status.idle": "2022-09-28T13:28:26.355766Z",
     "shell.execute_reply": "2022-09-28T13:28:26.355100Z",
     "shell.execute_reply.started": "2022-09-28T13:28:20.590159Z"
    },
    "tags": []
   },
   "outputs": [
    {
     "data": {
      "application/vnd.jupyter.widget-view+json": {
       "model_id": "d994e638fee24f3c83a302ecab5dc9e3",
       "version_major": 2,
       "version_minor": 0
      },
      "text/plain": [
       "VBox()"
      ]
     },
     "metadata": {},
     "output_type": "display_data"
    },
    {
     "data": {
      "application/vnd.jupyter.widget-view+json": {
       "model_id": "",
       "version_major": 2,
       "version_minor": 0
      },
      "text/plain": [
       "FloatProgress(value=0.0, bar_style='info', description='Progress:', layout=Layout(height='25px', width='50%'),…"
      ]
     },
     "metadata": {},
     "output_type": "display_data"
    },
    {
     "name": "stdout",
     "output_type": "stream",
     "text": [
      "+---------------+-----------------+--------+----------------+---------------+--------+----------------+--------+-----------------+----------------+----------+--------+------+---------+------+----------------+-----+------------------------+------------------------+------+------------+-------------+-------+------+---------+-------+--------+---------+------------+------------+---------------------------+--------------+----------------+--------------+-------------+--------------+--------+--------+-------------------+--------------------+-------------------------+---------------------+-------------------+----------------------+------------+----------------------+-------------+-----------------+-----------------+---------------+---------------+-----------------+-----------------+-----------------+-----------------+------------------+---------------------+----------------------+---------------+---------------+--------------------------+----------------------------+--------------+--------------+-----------------+-----------------+----------+----------+----------------+-----------------+-------------------------+-------------------------+----------------------+--------------------------------------------------------+------------------------+------------+-------------+----+------+\n",
      "|Time-In-Secs-EX|Radio-Altitude-EX|FlapType|FLAP-POSITION-EX|ExceedanceName |Phase   |TriggerCondition|FlightID|DesigFlightNumber|FlightNumberARMS|FlightDate|FromCity|ToCity|BlockTime|ECN   |EmployeeName    |RANK |ChocksOff               |ChocksOn                |DOMINT|AircraftType|AircraftModel|Payload|TailNo|Departure|Arrival|FlightNo|Date     |Time-In-Secs|Time-Per-Sec|BARO-CORRECTED-PALT-DERIVED|Altitude-BaroL|Magnetic-Heading|Pitch-Attitude|Roll-Attitude|Radio-Altitude|Nose-WOW|Main-WOW|Normal-Acceleration|Lateral-Acceleration|Longitudinal-Acceleration|Calibrated-Airspeed-L|AFCS-Selected-Speed|Vertical-Speed-Derived|Ground-Speed|Flap-Control-Selection|FLAP-POSITION|Power-Lever-Pos-L|Power-Lever-Pos-R|Torque-TQ-Eng-L|Torque-TQ-Eng-R|Condition-Lever-L|Condition-Lever-R|Prop-RPM-Np-Eng-L|Prop-RPM-Np-Eng-R|GPWS-Alert/Warning|GPWS-Glideslope-Alert|AFCS-Glideslope-Active|AFCS-LOC-Active|AFCS-VOR-Active|GLIDE-PATH-DEV-PILOT-ABOVE|GLIDE-PATH-DEV-COPILOT-ABOVE|DME-DISTANCE-1|DME-DISTANCE-2|VOR-1-SELECT-FREQ|VOR-2-SELECT-FREQ|WIND-ANGLE|WIND-SPEED|BRAKE-PRESS-LEFT|BRAKE-PRESS-RIGHT|Thrust-Rev-Low-Beta-Eng-L|Thrust-Rev-Low-Beta-Eng-R|AFCS-Autopilot-Engaged|FileName                                                |LoadedDate              |LoadedBy    |DataFrameName|year|month |\n",
      "+---------------+-----------------+--------+----------------+---------------+--------+----------------+--------+-----------------+----------------+----------+--------+------+---------+------+----------------+-----+------------------------+------------------------+------+------------+-------------+-------+------+---------+-------+--------+---------+------------+------------+---------------------------+--------------+----------------+--------------+-------------+--------------+--------+--------+-------------------+--------------------+-------------------------+---------------------+-------------------+----------------------+------------+----------------------+-------------+-----------------+-----------------+---------------+---------------+-----------------+-----------------+-----------------+-----------------+------------------+---------------------+----------------------+---------------+---------------+--------------------------+----------------------------+--------------+--------------+-----------------+-----------------+----------+----------+----------------+-----------------+-------------------------+-------------------------+----------------------+--------------------------------------------------------+------------------------+------------+-------------+----+------+\n",
      "|4960           |987              |35      |33              |LateLandingFlap|Approach|High            |2869931 |SG 3323          |3323            |5/14/2022 |BOM     |IXY   |1:30:00  |118092|NIDHI  HANDA    |CAPT.|2022-05-14T11:34:00.000Z|2022-05-14T13:05:00.000Z|DOM   |DHC         |DHC-         |Pax    |VT-SUD|BOM      |IXY    |SG 3323 |5/14/2022|4960        |72758       |907                        |1250          |233.9           |D 0.8         |L 0.4        |987           |Air (0) |Air (0) |1.032              |L 0.02              |-0.01                    |119                  |0                  |-750                  |117         |35                    |33           |46.7             |46.1             |22.5           |20             |95.3             |94.6             |1018             |1019             |No Warn (0)       |No Warn (0)          |NOT ACT (0)           |NOT ACT (0)    |NOT ACT (0)    |FD 0.02                   |0.018                       |null          |null          |null             |null             |null      |null      |37.1            |37.1             |Normal (0)               |Normal (0)               |NOT EN (0)            |ALL ac=VT-SUD dep=BOM arr=IXY fn=SG 3323 dt=20220514.csv|2022-09-19T09:06:01.237Z|precog-spark|128 WPS      |2022|May   |\n",
      "|6508           |995              |35      |36.4            |LateLandingFlap|Approach|High            |2905129 |SG 3702          |3702            |8/19/2022 |GOI     |RAJ   |2:00:00  |118613|VISHAL  BHARDWAJ|CAPT.|2022-08-19T13:27:00.000Z|2022-08-19T15:27:00.000Z|DOM   |DHC         |DHC-         |Pax    |VT-SUG|GOI      |RAJ    |SG 3702 |8/19/2022|6508        |94717       |1277                       |1542          |228.7           |D 0.4         |R 0.3        |995           |Air (0) |Air (0) |1.028              |R 0.01              |-0.04                    |125                  |0                  |-540                  |117         |35                    |36.4         |45.8             |46.1             |19.5           |20             |96.6             |96               |1019             |1019             |No Warn (0)       |No Warn (0)          |Active (1)            |Active (1)     |NOT ACT (0)    |FU 0.11                   |0.036                       |null          |null          |null             |null             |null      |null      |52.7            |43               |Normal (0)               |Normal (0)               |Engaged (1)           |ALL ac=VT-SUG dep=GOI arr=RAJ fn=SG 3702 dt=20220819.csv|2022-09-19T08:07:51.690Z|precog-spark|128 WPS      |2022|August|\n",
      "|8706           |990              |15      |16.9            |LateLandingFlap|Approach|High            |2811429 |SG 7402          |7402            |3/13/2022 |BOM     |DEL   |2:40:00  |126810|VIRENDER  SEJWAL|CAPT.|2022-03-13T06:20:00.000Z|2022-03-13T09:10:00.000Z|DOM   |DHC         |DHC-         |Cargo  |VT-SUB|BOM      |DEL    |SG 7402 |3/13/2022|8706        |null        |1664                       |1670          |274.6           |U 0.9         |R 0.4        |990           |Air (0) |Air (0) |1.001              |R 0.00              |0.01                     |131.5                |0                  |-720                  |126         |15                    |16.9         |44.9             |44.7             |13.5           |13             |95.4             |95.7             |1019             |1019             |No Warn (0)       |No Warn (0)          |Active (1)            |Active (1)     |NOT ACT (0)    |FU 0.04                   |-0.036                      |null          |null          |null             |null             |319.2     |14        |60.5            |43               |Normal (0)               |Normal (0)               |Engaged (1)           |ALL ac=VT-SUB dep=BOM arr=DEL fn=SEJ7402 dt=20220313.csv|2022-09-19T07:22:25.275Z|precog-spark|128 WPS      |2022|March |\n",
      "+---------------+-----------------+--------+----------------+---------------+--------+----------------+--------+-----------------+----------------+----------+--------+------+---------+------+----------------+-----+------------------------+------------------------+------+------------+-------------+-------+------+---------+-------+--------+---------+------------+------------+---------------------------+--------------+----------------+--------------+-------------+--------------+--------+--------+-------------------+--------------------+-------------------------+---------------------+-------------------+----------------------+------------+----------------------+-------------+-----------------+-----------------+---------------+---------------+-----------------+-----------------+-----------------+-----------------+------------------+---------------------+----------------------+---------------+---------------+--------------------------+----------------------------+--------------+--------------+-----------------+-----------------+----------+----------+----------------+-----------------+-------------------------+-------------------------+----------------------+--------------------------------------------------------+------------------------+------------+-------------+----+------+"
     ]
    }
   ],
   "source": [
    "FinalLLF.show(truncate=False)"
   ]
  },
  {
   "cell_type": "code",
   "execution_count": null,
   "id": "e3cd9e38-24d5-4c6e-a796-c48d45d1ed4e",
   "metadata": {},
   "outputs": [],
   "source": []
  }
 ],
 "metadata": {
  "kernelspec": {
   "display_name": "PySpark",
   "language": "",
   "name": "pysparkkernel"
  },
  "language_info": {
   "codemirror_mode": {
    "name": "python",
    "version": 3
   },
   "mimetype": "text/x-python",
   "name": "pyspark",
   "pygments_lexer": "python3"
  }
 },
 "nbformat": 4,
 "nbformat_minor": 5
}
