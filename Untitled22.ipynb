{
 "cells": [
  {
   "cell_type": "code",
   "execution_count": 1,
   "id": "57fb56d5-137e-4828-a4af-287e1d62a6a6",
   "metadata": {
    "execution": {
     "iopub.execute_input": "2023-01-23T09:36:31.173412Z",
     "iopub.status.busy": "2023-01-23T09:36:31.173174Z",
     "iopub.status.idle": "2023-01-23T09:36:31.189024Z",
     "shell.execute_reply": "2023-01-23T09:36:31.188539Z",
     "shell.execute_reply.started": "2023-01-23T09:36:31.173386Z"
    },
    "tags": []
   },
   "outputs": [
    {
     "data": {
      "text/html": [
       "Current session configs: <tt>{'conf': {'spark.jars': 's3://sjet-datamart-bucket/Jars/mssql-jdbc-6.1.0.jre8.jar', 'spark.sql.crossJoin.enabled': 'true'}, 'proxyUser': 'user_ayush_vaishnav', 'kind': 'pyspark'}</tt><br>"
      ],
      "text/plain": [
       "<IPython.core.display.HTML object>"
      ]
     },
     "metadata": {},
     "output_type": "display_data"
    },
    {
     "data": {
      "text/html": [
       "No active sessions."
      ],
      "text/plain": [
       "<IPython.core.display.HTML object>"
      ]
     },
     "metadata": {},
     "output_type": "display_data"
    }
   ],
   "source": [
    "%%configure -f\n",
    "{\n",
    "    \"conf\": {\n",
    "        \"spark.jars\": \"s3://sjet-datamart-bucket/Jars/mssql-jdbc-6.1.0.jre8.jar\",\n",
    "        \"spark.sql.crossJoin.enabled\": \"true\"\n",
    "    }\n",
    "}"
   ]
  },
  {
   "cell_type": "code",
   "execution_count": 2,
   "id": "a6016e33-a27c-4da0-9103-76cff44cf270",
   "metadata": {
    "execution": {
     "iopub.execute_input": "2023-01-23T09:36:31.190019Z",
     "iopub.status.busy": "2023-01-23T09:36:31.189860Z",
     "iopub.status.idle": "2023-01-23T09:36:55.493070Z",
     "shell.execute_reply": "2023-01-23T09:36:55.492510Z",
     "shell.execute_reply.started": "2023-01-23T09:36:31.189999Z"
    },
    "tags": []
   },
   "outputs": [
    {
     "data": {
      "application/vnd.jupyter.widget-view+json": {
       "model_id": "5077553bb9a84e51b043dded87ac414e",
       "version_major": 2,
       "version_minor": 0
      },
      "text/plain": [
       "VBox()"
      ]
     },
     "metadata": {},
     "output_type": "display_data"
    },
    {
     "name": "stdout",
     "output_type": "stream",
     "text": [
      "Starting Spark application\n"
     ]
    },
    {
     "data": {
      "text/html": [
       "<table>\n",
       "<tr><th>ID</th><th>YARN Application ID</th><th>Kind</th><th>State</th><th>Spark UI</th><th>Driver log</th><th>Current session?</th></tr><tr><td>1</td><td>application_1674465326848_0003</td><td>pyspark</td><td>idle</td><td><a target=\"_blank\" href=\"http://ip-20-0-4-23.ap-south-1.compute.internal:20888/proxy/application_1674465326848_0003/\" class=\"emr-proxy-link\" emr-resource=\"j-3BWAZMFSNPFOV\n",
       "\" application-id=\"application_1674465326848_0003\">Link</a></td><td><a target=\"_blank\" href=\"http://ip-20-0-4-109.ap-south-1.compute.internal:8042/node/containerlogs/container_1674465326848_0003_01_000001/livy\" >Link</a></td><td>✔</td></tr></table>"
      ],
      "text/plain": [
       "<IPython.core.display.HTML object>"
      ]
     },
     "metadata": {},
     "output_type": "display_data"
    },
    {
     "data": {
      "application/vnd.jupyter.widget-view+json": {
       "model_id": "",
       "version_major": 2,
       "version_minor": 0
      },
      "text/plain": [
       "FloatProgress(value=0.0, bar_style='info', description='Progress:', layout=Layout(height='25px', width='50%'),…"
      ]
     },
     "metadata": {},
     "output_type": "display_data"
    },
    {
     "name": "stdout",
     "output_type": "stream",
     "text": [
      "SparkSession available as 'spark'.\n"
     ]
    },
    {
     "data": {
      "application/vnd.jupyter.widget-view+json": {
       "model_id": "",
       "version_major": 2,
       "version_minor": 0
      },
      "text/plain": [
       "FloatProgress(value=0.0, bar_style='info', description='Progress:', layout=Layout(height='25px', width='50%'),…"
      ]
     },
     "metadata": {},
     "output_type": "display_data"
    }
   ],
   "source": [
    "from pyspark.sql.functions import input_file_name, regexp_extract, regexp_replace, col, lit, current_timestamp\n",
    "from pyspark.sql.types import StructType, StringType\n",
    "from pyspark.sql.functions import input_file_name\n",
    "from pyspark.sql.types import *\n",
    "from pyspark.sql import functions as F\n",
    "from pyspark.sql import SparkSession\n",
    "from pyspark import SparkConf, SparkContext\n",
    "from datetime import datetime, timedelta\n",
    "import configparser\n",
    "import boto3\n",
    "import sys\n",
    "import re"
   ]
  },
  {
   "cell_type": "code",
   "execution_count": 3,
   "id": "ed578ab3-2366-486a-9626-0b048b90f428",
   "metadata": {
    "execution": {
     "iopub.execute_input": "2023-01-23T09:36:55.503426Z",
     "iopub.status.busy": "2023-01-23T09:36:55.503192Z",
     "iopub.status.idle": "2023-01-23T09:36:55.551520Z",
     "shell.execute_reply": "2023-01-23T09:36:55.551065Z",
     "shell.execute_reply.started": "2023-01-23T09:36:55.503389Z"
    },
    "tags": []
   },
   "outputs": [
    {
     "data": {
      "application/vnd.jupyter.widget-view+json": {
       "model_id": "bdfcf3886366430caedbcce165310ff6",
       "version_major": 2,
       "version_minor": 0
      },
      "text/plain": [
       "VBox()"
      ]
     },
     "metadata": {},
     "output_type": "display_data"
    },
    {
     "data": {
      "application/vnd.jupyter.widget-view+json": {
       "model_id": "",
       "version_major": 2,
       "version_minor": 0
      },
      "text/plain": [
       "FloatProgress(value=0.0, bar_style='info', description='Progress:', layout=Layout(height='25px', width='50%'),…"
      ]
     },
     "metadata": {},
     "output_type": "display_data"
    }
   ],
   "source": [
    "InputS3Filepath = 's3://sjet-datamart-bucket/PrecogFiles/History/Q400/512 WPS/October/'\n",
    "OutputS3Filepath = 's3://sjet-datamart-bucket/precog/precog-processed-data/q400/q400512wps/'\n",
    "FileInfoS3Filepath = 's3://sjet-datamart-bucket/precog/precog-file-info-history/q400/512-wps/202210/FileInfo_202210.csv'\n",
    "AuditTableS3Filepath = 's3://sjet-datamart-bucket/precog/precog-audit-tables/q400-512wps-audit/'"
   ]
  },
  {
   "cell_type": "code",
   "execution_count": 4,
   "id": "bbc5b810-343f-4883-998b-ac75f9ebbd23",
   "metadata": {
    "execution": {
     "iopub.execute_input": "2023-01-23T09:36:55.552427Z",
     "iopub.status.busy": "2023-01-23T09:36:55.552275Z",
     "iopub.status.idle": "2023-01-23T09:36:55.594232Z",
     "shell.execute_reply": "2023-01-23T09:36:55.593701Z",
     "shell.execute_reply.started": "2023-01-23T09:36:55.552407Z"
    },
    "tags": []
   },
   "outputs": [
    {
     "data": {
      "application/vnd.jupyter.widget-view+json": {
       "model_id": "7ce9005fd84049419b19766674e23c51",
       "version_major": 2,
       "version_minor": 0
      },
      "text/plain": [
       "VBox()"
      ]
     },
     "metadata": {},
     "output_type": "display_data"
    },
    {
     "data": {
      "application/vnd.jupyter.widget-view+json": {
       "model_id": "",
       "version_major": 2,
       "version_minor": 0
      },
      "text/plain": [
       "FloatProgress(value=0.0, bar_style='info', description='Progress:', layout=Layout(height='25px', width='50%'),…"
      ]
     },
     "metadata": {},
     "output_type": "display_data"
    }
   ],
   "source": [
    "LoadedBy = \"Precog-Spark\"\n",
    "DataFrameName = \"512 WPS\"\n",
    "JobName = \"512 WPS - Spark\""
   ]
  },
  {
   "cell_type": "code",
   "execution_count": 5,
   "id": "7345ef1d-c2ea-4049-a5c5-1663d8f181e9",
   "metadata": {
    "execution": {
     "iopub.execute_input": "2023-01-23T09:36:55.595156Z",
     "iopub.status.busy": "2023-01-23T09:36:55.594999Z",
     "iopub.status.idle": "2023-01-23T09:36:55.640789Z",
     "shell.execute_reply": "2023-01-23T09:36:55.640308Z",
     "shell.execute_reply.started": "2023-01-23T09:36:55.595135Z"
    },
    "tags": []
   },
   "outputs": [
    {
     "data": {
      "application/vnd.jupyter.widget-view+json": {
       "model_id": "338cccbd84de4c49b1035c9ab393094b",
       "version_major": 2,
       "version_minor": 0
      },
      "text/plain": [
       "VBox()"
      ]
     },
     "metadata": {},
     "output_type": "display_data"
    },
    {
     "data": {
      "application/vnd.jupyter.widget-view+json": {
       "model_id": "",
       "version_major": 2,
       "version_minor": 0
      },
      "text/plain": [
       "FloatProgress(value=0.0, bar_style='info', description='Progress:', layout=Layout(height='25px', width='50%'),…"
      ]
     },
     "metadata": {},
     "output_type": "display_data"
    }
   ],
   "source": [
    "RawSchema = StructType([\n",
    "        StructField(\"Time-In-Secs\", DoubleType(), nullable=True),\n",
    "        StructField(\"Time-Per-Sec\", StringType(), nullable=True),\n",
    "        StructField(\"BARO-CORRECTED-PALT-DERIVED\",\n",
    "                    StringType(), nullable=True),\n",
    "        StructField(\"Altitude-BaroL\", StringType(), nullable=True),\n",
    "        StructField(\"HEADING-MAGNETIC\", StringType(), nullable=True),\n",
    "        StructField(\"PITCH-ANGLE\", StringType(), nullable=True),\n",
    "        StructField(\"ROLL-ANGLE\", StringType(), nullable=True),\n",
    "        StructField(\"RAD-ALT\", StringType(), nullable=True),\n",
    "        StructField(\"WOW-NLG\", StringType(), nullable=True),\n",
    "        StructField(\"WOW-MLG\", StringType(), nullable=True),\n",
    "        StructField(\"ACCN-NORMAL\", StringType(), nullable=True),\n",
    "        StructField(\"ACCN-LATERAL\", StringType(), nullable=True),\n",
    "        StructField(\"ACCN-LONGITUDINAL\", StringType(), nullable=True),\n",
    "        StructField(\"AIRSPEED-CAS-L\", StringType(), nullable=True),\n",
    "        StructField(\"AFCS-SEL-AIRSPEED\", StringType(), nullable=True),\n",
    "        StructField(\"VERTICAL-SPEED-Derived\", StringType(), nullable=True),\n",
    "        StructField(\"FMS-GROUNDSPEED\", StringType(), nullable=True),\n",
    "        StructField(\"FLAP-CONTROL-POS-Gated\", StringType(), nullable=True),\n",
    "        StructField(\"FLAP-POSITION\", StringType(), nullable=True),\n",
    "        StructField(\"PLA-1\", StringType(), nullable=True),\n",
    "        StructField(\"PLA-2\", StringType(), nullable=True),\n",
    "        StructField(\"TORQUE-1\", StringType(), nullable=True),\n",
    "        StructField(\"TORQUE-2\", StringType(), nullable=True),\n",
    "        StructField(\"CLA-1\", StringType(), nullable=True),\n",
    "        StructField(\"CLA-2\", StringType(), nullable=True),\n",
    "        StructField(\"NP-1\", StringType(), nullable=True),\n",
    "        StructField(\"NP-2\", StringType(), nullable=True),\n",
    "        StructField(\"EGPWS-ALERT-WARNING\", StringType(), nullable=True),\n",
    "        StructField(\"EGPWS-GS-ALERT\", StringType(), nullable=True),\n",
    "        StructField(\"AFCS-GS-MODE\", StringType(), nullable=True),\n",
    "        StructField(\"AFCS-LOC-MODE\", StringType(), nullable=True),\n",
    "        StructField(\"AFCS-VOR-MODE\", StringType(), nullable=True),\n",
    "        StructField(\"ILS-GS-DEV-1\", StringType(), nullable=True),\n",
    "        StructField(\"ILS-GS-DEV-2\", StringType(), nullable=True),\n",
    "        StructField(\"FUEL-FLOW-2-kg-h\", StringType(), nullable=True),\n",
    "        StructField(\"FUEL-FLOW-1-kg-h\", StringType(), nullable=True),\n",
    "        StructField(\"DME-DISTANCE-1\", StringType(), nullable=True),\n",
    "        StructField(\"DME-DISTANCE-2\", StringType(), nullable=True),\n",
    "        StructField(\"VOR-FREQ-1\", StringType(), nullable=True),\n",
    "        StructField(\"VOR-FREQ-2\", StringType(), nullable=True),\n",
    "        StructField(\"FMS-WIND-ANGLE\", StringType(), nullable=True),\n",
    "        StructField(\"FMS-WIND-SPEED\", StringType(), nullable=True),\n",
    "        StructField(\"BRAKE-PRESS-LEFT\", StringType(), nullable=True),\n",
    "        StructField(\"BRAKE-PRESS-RIGHT\", StringType(), nullable=True),\n",
    "        StructField(\"PROP-BETA-RANGE-1\", StringType(), nullable=True),\n",
    "        StructField(\"PROP-BETA-RANGE-2\", StringType(), nullable=True),\n",
    "        StructField(\"AP-ENGAGED\", StringType(), nullable=True),\n",
    "    ])"
   ]
  },
  {
   "cell_type": "code",
   "execution_count": 6,
   "id": "76208d33-a23a-4eea-9db0-b31909a5eb68",
   "metadata": {
    "execution": {
     "iopub.execute_input": "2023-01-23T09:36:55.641687Z",
     "iopub.status.busy": "2023-01-23T09:36:55.641528Z",
     "iopub.status.idle": "2023-01-23T09:36:57.908847Z",
     "shell.execute_reply": "2023-01-23T09:36:57.908276Z",
     "shell.execute_reply.started": "2023-01-23T09:36:55.641665Z"
    },
    "tags": []
   },
   "outputs": [
    {
     "data": {
      "application/vnd.jupyter.widget-view+json": {
       "model_id": "232aa67c017647c5bf25bcc29042c675",
       "version_major": 2,
       "version_minor": 0
      },
      "text/plain": [
       "VBox()"
      ]
     },
     "metadata": {},
     "output_type": "display_data"
    },
    {
     "data": {
      "application/vnd.jupyter.widget-view+json": {
       "model_id": "",
       "version_major": 2,
       "version_minor": 0
      },
      "text/plain": [
       "FloatProgress(value=0.0, bar_style='info', description='Progress:', layout=Layout(height='25px', width='50%'),…"
      ]
     },
     "metadata": {},
     "output_type": "display_data"
    }
   ],
   "source": [
    "raw_df=spark.read.csv(InputS3Filepath,header=True,schema=RawSchema)\n",
    "\n",
    "raw_df_withfilename_1 = raw_df.withColumn(\"FileName\", regexp_extract(\n",
    "regexp_replace(input_file_name(), '%20', ' '), \"ALL\\s(.*?)\\.(\\w+)$\", 0))"
   ]
  },
  {
   "cell_type": "code",
   "execution_count": 7,
   "id": "35a1125c-46ed-415d-a44a-702a1ffe4d06",
   "metadata": {
    "execution": {
     "iopub.execute_input": "2023-01-23T09:36:57.909868Z",
     "iopub.status.busy": "2023-01-23T09:36:57.909700Z",
     "iopub.status.idle": "2023-01-23T09:37:03.197541Z",
     "shell.execute_reply": "2023-01-23T09:37:03.197030Z",
     "shell.execute_reply.started": "2023-01-23T09:36:57.909845Z"
    },
    "tags": []
   },
   "outputs": [
    {
     "data": {
      "application/vnd.jupyter.widget-view+json": {
       "model_id": "63fbc375f3d34991a7b5b04214cdbf64",
       "version_major": 2,
       "version_minor": 0
      },
      "text/plain": [
       "VBox()"
      ]
     },
     "metadata": {},
     "output_type": "display_data"
    },
    {
     "data": {
      "application/vnd.jupyter.widget-view+json": {
       "model_id": "",
       "version_major": 2,
       "version_minor": 0
      },
      "text/plain": [
       "FloatProgress(value=0.0, bar_style='info', description='Progress:', layout=Layout(height='25px', width='50%'),…"
      ]
     },
     "metadata": {},
     "output_type": "display_data"
    }
   ],
   "source": [
    "flight_data_info = spark \\\n",
    "                            .read \\\n",
    "                            .format(\"csv\") \\\n",
    "                            .option(\"header\", \"true\") \\\n",
    "                            .load(FileInfoS3Filepath)\n",
    "\n",
    "raw_df_withfilename_1.createOrReplaceTempView(\"RawData_1\")\n",
    "flight_data_info.dropDuplicates().createOrReplaceTempView(\"FlightInfo\")"
   ]
  },
  {
   "cell_type": "code",
   "execution_count": 8,
   "id": "1640ee97-d31f-487a-85b7-d2e29583a60a",
   "metadata": {
    "execution": {
     "iopub.execute_input": "2023-01-23T09:39:20.103857Z",
     "iopub.status.busy": "2023-01-23T09:39:20.103632Z",
     "iopub.status.idle": "2023-01-23T09:39:20.869568Z",
     "shell.execute_reply": "2023-01-23T09:39:20.869052Z",
     "shell.execute_reply.started": "2023-01-23T09:39:20.103832Z"
    },
    "tags": []
   },
   "outputs": [
    {
     "data": {
      "application/vnd.jupyter.widget-view+json": {
       "model_id": "7f34b1a1b7b94adba17648c8618cda60",
       "version_major": 2,
       "version_minor": 0
      },
      "text/plain": [
       "VBox()"
      ]
     },
     "metadata": {},
     "output_type": "display_data"
    },
    {
     "data": {
      "application/vnd.jupyter.widget-view+json": {
       "model_id": "",
       "version_major": 2,
       "version_minor": 0
      },
      "text/plain": [
       "FloatProgress(value=0.0, bar_style='info', description='Progress:', layout=Layout(height='25px', width='50%'),…"
      ]
     },
     "metadata": {},
     "output_type": "display_data"
    }
   ],
   "source": [
    "raw_df_withfilename_2 = spark.sql('''\n",
    "\n",
    "                            SELECT *,\n",
    "                            \n",
    "                            CASE \n",
    "                                WHEN LENGTH(CAST(`Time-Per-Sec` as String)) = 1 THEN CONCAT('00000',CAST(`Time-Per-Sec` as String)) \n",
    "                                WHEN LENGTH(CAST(`Time-Per-Sec` as String)) = 2 THEN CONCAT('0000',CAST(`Time-Per-Sec` as String)) \n",
    "                                WHEN LENGTH(CAST(`Time-Per-Sec` as String)) = 3 THEN CONCAT('000',CAST(`Time-Per-Sec` as String))\n",
    "                                WHEN LENGTH(CAST(`Time-Per-Sec` as String)) = 4 THEN CONCAT('00',CAST(`Time-Per-Sec` as String)) \n",
    "                                WHEN LENGTH(CAST(`Time-Per-Sec` as String)) = 5 THEN CONCAT('0',CAST(`Time-Per-Sec` as String))\n",
    "                                ELSE `Time-Per-Sec`\n",
    "                            END As Time\n",
    "                                                                \n",
    "                            FROM RawData_1\n",
    "                                                \n",
    "                    ''')\n",
    "\n",
    "raw_df_withfilename_3 = raw_df_withfilename_2.withColumn(\"Time-Per-Sec-1\", regexp_replace(col(\"Time\") , \"(\\\\d{2})(\\\\d{2})(\\\\d{2})\" , \"$1:$2:$3\" ))\n",
    "\n",
    "raw_df_withfilename_3.createOrReplaceTempView('RawData_2')\n",
    "\n",
    "flight_data_info_With_J = spark.sql('''\n",
    "\n",
    "                                        SELECT * FROM FlightInfo\n",
    "                                        \n",
    "                                        Where Filename Like ('%SEJ%J%')\n",
    "                                                ''')\n",
    "\n",
    "flight_data_info_With_J.createOrReplaceTempView('flight_data_info_With_J')\n",
    "\n",
    "flight_data_info_Without_J = spark.sql('''\n",
    "                                            \n",
    "                                            SELECT * FROM FlightInfo\n",
    "                                            \n",
    "                                            WHERE Filename NOT LIKE ('%SEJ%J%')\n",
    "\n",
    "                                                    ''')\n",
    "\n",
    "flight_data_info_Without_J.createOrReplaceTempView('flight_data_info_Without_J')\n",
    "\n",
    "flight_data_join_df_Without_J = spark.sql(f'''\n",
    "\n",
    "                            \n",
    "                            SELECT\n",
    "                            \n",
    "                                fi.TailNo,\n",
    "\n",
    "                                fi.Departure,\n",
    "\n",
    "                                fi.Arrival,\n",
    "\n",
    "                                fi.FlightNo,\n",
    "\n",
    "                                fi.FlightDate as `Date`,\n",
    "\n",
    "                                rw.*,\n",
    "\n",
    "                                current_timestamp() as `LoadedDate`,\n",
    "\n",
    "                                'precog-spark' as `LoadedBy`,\n",
    "\n",
    "                                '512 WPS' as `DataFrameName`,\n",
    "\n",
    "                                fi.year,\n",
    "\n",
    "                                fi.month\n",
    "\n",
    "                            FROM RawData_2 rw\n",
    "\n",
    "                            JOIN flight_data_info_Without_J fi \n",
    "                            \n",
    "                            ON fi.FileName = rw.FileName\n",
    "            \n",
    "                                        ''')\n",
    "\n",
    "                \n",
    "flight_data_join_df_Without_J.createOrReplaceTempView('flight_data_join_df_Without_J')\n",
    "\n",
    "flight_data_join_df_With_J = spark.sql(f'''\n",
    "\n",
    "                            \n",
    "                            SELECT\n",
    "                            \n",
    "                            fi.TailNo,\n",
    "                            \n",
    "                            fi.Departure,\n",
    "                            \n",
    "                            fi.Arrival,\n",
    "                            \n",
    "                            fi.FlightNo,\n",
    "                            \n",
    "                            fi.FlightDate as `Date`,\n",
    "                            \n",
    "                            rw.*,\n",
    "                            \n",
    "                            current_timestamp() as `LoadedDate`,\n",
    "                            \n",
    "                            'precog-spark' as `LoadedBy`,\n",
    "                            \n",
    "                            '512 WPS' as `DataFrameName`,\n",
    "                            \n",
    "                            fi.year,\n",
    "                            \n",
    "                            fi.month\n",
    "\n",
    "                            FROM RawData_2 rw\n",
    "\n",
    "                            JOIN flight_data_info_With_J fi \n",
    "                            \n",
    "                            ON fi.FileName = rw.FileName\n",
    "                            \n",
    "                            \n",
    "            \n",
    "                                        ''')\n",
    "\n",
    "flight_data_join_df_With_J.createOrReplaceTempView('flight_data_join_df_With_J')\n",
    "\n",
    "UTC_Without_J = spark.sql('''\n",
    "\n",
    "                    SELECT TailNo, Departure, Arrival, FlightNo, Date, Filename, to_timestamp(concat(Date,' ',first_value(`Time-Per-Sec-1`,true))) AS UTC_TIMEDATE\n",
    "                    \n",
    "                    FROM flight_data_join_df_Without_J\n",
    "                    \n",
    "                    Group By TailNo, Departure, Arrival, FlightNo, Date, Filename\n",
    "\n",
    "                            ''')\n",
    "\n",
    "UTC_Without_J.createOrReplaceTempView('UTC_Without_J')\n",
    "\n",
    "UTC_With_J = spark.sql('''\n",
    "\n",
    "                    SELECT TailNo, Departure, Arrival, FlightNo, Date, Filename, to_timestamp(concat(Date,' ',first_value(`Time-Per-Sec-1`,true))) AS UTC_TIMEDATE\n",
    "                    \n",
    "                    FROM flight_data_join_df_With_J\n",
    "                    \n",
    "                    Group By TailNo, Departure, Arrival, FlightNo, Date, Filename\n",
    "\n",
    "                            ''')\n",
    "\n",
    "UTC_With_J.createOrReplaceTempView('UTC_With_J')\n",
    "\n",
    "UTC_TIMEDATE_Without_J = spark.sql('''\n",
    "\n",
    "                SELECT\n",
    "                            \n",
    "                            \n",
    "                            \n",
    "                            rw.*,\n",
    "                            \n",
    "                            fi.UTC_TIMEDATE\n",
    "                            \n",
    "                            FROM flight_data_join_df_Without_J rw\n",
    "\n",
    "                            JOIN UTC_Without_J fi \n",
    "                            \n",
    "                            ON fi.FileName = rw.FileName\n",
    "\n",
    "\n",
    "\n",
    "                            ''')\n",
    "\n",
    "UTC_TIMEDATE_Without_J.createOrReplaceTempView('UTC_TIMEDATE_Without_J')\n",
    "\n",
    "UTC_TIMEDATE_With_J = spark.sql('''\n",
    "\n",
    "                SELECT\n",
    "                            \n",
    "                            \n",
    "                            \n",
    "                            rw.*,\n",
    "                            \n",
    "                            fi.UTC_TIMEDATE\n",
    "                            \n",
    "                            FROM flight_data_join_df_With_J rw\n",
    "\n",
    "                            JOIN UTC_With_J fi \n",
    "                            \n",
    "                            ON fi.FileName = rw.FileName\n",
    "\n",
    "\n",
    "\n",
    "                            ''')\n",
    "\n",
    "UTC_TIMEDATE_With_J.createOrReplaceTempView('UTC_TIMEDATE_With_J')\n",
    "\n",
    "flight_data_join_df = spark.sql('''\n",
    "                \n",
    "                SELECT * FROM flight_data_join_df_Without_J\n",
    "\n",
    "                UNION\n",
    "\n",
    "                SELECT * FROM flight_data_join_df_With_J\n",
    "                \n",
    "                \n",
    "                ''')\n",
    "\n",
    "flight_data_join_df.createOrReplaceTempView('flight_data_join_df')"
   ]
  },
  {
   "cell_type": "code",
   "execution_count": 9,
   "id": "9c688951-0565-479e-8e6d-471946bc2647",
   "metadata": {
    "execution": {
     "iopub.execute_input": "2023-01-23T09:39:20.958172Z",
     "iopub.status.busy": "2023-01-23T09:39:20.957978Z",
     "iopub.status.idle": "2023-01-23T09:39:21.209042Z",
     "shell.execute_reply": "2023-01-23T09:39:21.208522Z",
     "shell.execute_reply.started": "2023-01-23T09:39:20.958149Z"
    },
    "tags": []
   },
   "outputs": [
    {
     "data": {
      "application/vnd.jupyter.widget-view+json": {
       "model_id": "6c4fd14bc87b4136bbaa8debcc638fdd",
       "version_major": 2,
       "version_minor": 0
      },
      "text/plain": [
       "VBox()"
      ]
     },
     "metadata": {},
     "output_type": "display_data"
    },
    {
     "data": {
      "application/vnd.jupyter.widget-view+json": {
       "model_id": "",
       "version_major": 2,
       "version_minor": 0
      },
      "text/plain": [
       "FloatProgress(value=0.0, bar_style='info', description='Progress:', layout=Layout(height='25px', width='50%'),…"
      ]
     },
     "metadata": {},
     "output_type": "display_data"
    }
   ],
   "source": [
    "Q400AD = spark.sql('''SELECT\n",
    "                                        FileName,\n",
    "                                        Count(*) AS `InputRecords`\n",
    "                                FROM flight_data_join_df\n",
    "                                GROUP BY FileName''')\n",
    "\n",
    "Q400AD.createOrReplaceTempView('Q400AD')\n",
    "\n",
    "Q400AD1 = spark.sql(f'''SELECT\n",
    "                                        '{DataFrameName}' AS `DataFrameName`,\n",
    "                                        FileName AS `InputFileName`,\n",
    "                                        InputRecords,\n",
    "                                        '{JobName}' AS `JobName`,\n",
    "                                        current_timestamp () AS `ProcessedDate`\n",
    "\n",
    "                                FROM Q400AD   ''')\n",
    "\n",
    "Q400AD1.createOrReplaceTempView('Q400AD1')"
   ]
  },
  {
   "cell_type": "code",
   "execution_count": 10,
   "id": "6a63aa45-b396-4bac-abad-c5df63e7d667",
   "metadata": {
    "execution": {
     "iopub.execute_input": "2023-01-23T09:39:21.768395Z",
     "iopub.status.busy": "2023-01-23T09:39:21.768154Z",
     "iopub.status.idle": "2023-01-23T09:39:29.051553Z",
     "shell.execute_reply": "2023-01-23T09:39:29.051039Z",
     "shell.execute_reply.started": "2023-01-23T09:39:21.768371Z"
    },
    "tags": []
   },
   "outputs": [
    {
     "data": {
      "application/vnd.jupyter.widget-view+json": {
       "model_id": "096f58b7ec334798a0a7d2f24d03f52e",
       "version_major": 2,
       "version_minor": 0
      },
      "text/plain": [
       "VBox()"
      ]
     },
     "metadata": {},
     "output_type": "display_data"
    },
    {
     "data": {
      "application/vnd.jupyter.widget-view+json": {
       "model_id": "",
       "version_major": 2,
       "version_minor": 0
      },
      "text/plain": [
       "FloatProgress(value=0.0, bar_style='info', description='Progress:', layout=Layout(height='25px', width='50%'),…"
      ]
     },
     "metadata": {},
     "output_type": "display_data"
    }
   ],
   "source": [
    "MainQueryDF1 = spark.read.csv('s3://sjet-datamart-bucket/precog/pilot-info/', header = True)\n",
    "\n",
    "MainQueryDF1.dropDuplicates().createOrReplaceTempView('MainQueryDF1')\n",
    "\n",
    "MainQueryDF = spark.sql('''\n",
    "\n",
    "                            SELECT \n",
    "                                    \n",
    "                                    FlightID,\n",
    "                                    \n",
    "                                    DesigFlightNumber,\n",
    "                                    \n",
    "                                    AcRegNo\n",
    "                                    \n",
    "                                    ,FlightNumber\n",
    "                                    \n",
    "                                    ,FlightDate\n",
    "                                    \n",
    "                                    ,UTCFlightDate\n",
    "                                    \n",
    "                                    ,FromCity\n",
    "                                    \n",
    "                                    ,ToCity\n",
    "                                    \n",
    "                                    ,BlockTime\n",
    "                                    \n",
    "                                    ,ECN\n",
    "                                    \n",
    "                                    ,EmployeeName\n",
    "                                    \n",
    "                                    ,CAST (ChocksOff AS Timestamp)\n",
    "                                    \n",
    "                                    ,CAST (ChocksOn AS Timestamp)\n",
    "                                    \n",
    "                                    ,RANK\n",
    "                                    \n",
    "                                    ,DOMINT\n",
    "                                    \n",
    "                                    ,Payload\n",
    "                                    \n",
    "                                    ,AircraftType\n",
    "                                    \n",
    "                                    ,AircraftModel\n",
    "\n",
    "                            FROM MainQueryDF1\n",
    "\n",
    "                            ''')\n",
    "\n",
    "MainQueryDF.dropDuplicates().createOrReplaceTempView('MainQueryDF')"
   ]
  },
  {
   "cell_type": "code",
   "execution_count": 11,
   "id": "66f7ebf7-5b6c-49b8-a25b-efe98b259854",
   "metadata": {
    "execution": {
     "iopub.execute_input": "2023-01-23T09:39:29.052763Z",
     "iopub.status.busy": "2023-01-23T09:39:29.052487Z",
     "iopub.status.idle": "2023-01-23T09:39:29.303712Z",
     "shell.execute_reply": "2023-01-23T09:39:29.303155Z",
     "shell.execute_reply.started": "2023-01-23T09:39:29.052739Z"
    },
    "tags": []
   },
   "outputs": [
    {
     "data": {
      "application/vnd.jupyter.widget-view+json": {
       "model_id": "58ddb7577c6c4254bae17fbc237bdb60",
       "version_major": 2,
       "version_minor": 0
      },
      "text/plain": [
       "VBox()"
      ]
     },
     "metadata": {},
     "output_type": "display_data"
    },
    {
     "data": {
      "application/vnd.jupyter.widget-view+json": {
       "model_id": "",
       "version_major": 2,
       "version_minor": 0
      },
      "text/plain": [
       "FloatProgress(value=0.0, bar_style='info', description='Progress:', layout=Layout(height='25px', width='50%'),…"
      ]
     },
     "metadata": {},
     "output_type": "display_data"
    }
   ],
   "source": [
    "Arms_Join_DF_Without_J = spark.sql('''\n",
    "                                            \n",
    "                                            SELECT\n",
    "                                                    \n",
    "                                                    AD.FlightID,\n",
    "                                                    \n",
    "                                                    AD.DesigFlightNumber,\n",
    "                                                    \n",
    "                                                    AD.FlightNumber AS `FlightNumberARMS`,\n",
    "                                                    \n",
    "                                                    AD.FlightDate,\n",
    "                                                    \n",
    "                                                    AD.FromCity,\n",
    "                                                    \n",
    "                                                    AD.ToCity,\n",
    "                                                    \n",
    "                                                    AD.BlockTime,\n",
    "                                                    \n",
    "                                                    AD.ECN,\n",
    "                                                    \n",
    "                                                    AD.EmployeeName,\n",
    "                                                    \n",
    "                                                    AD.RANK,\n",
    "                                                    \n",
    "                                                    CAST(AD.ChocksOff AS timestamp) AS ChocksOff,\n",
    "                                                    \n",
    "                                                    CAST(AD.ChocksOn AS timestamp) AS ChocksOn,\n",
    "                                                    \n",
    "                                                    AD.DOMINT,\n",
    "                                                    \n",
    "                                                    AD.AircraftType,\n",
    "                                                    \n",
    "                                                    AD.AircraftModel,  \n",
    "                                                    \n",
    "                                                    AD.Payload,\n",
    "                                                    \n",
    "                                                    RDF.*\n",
    "                                                    \n",
    "                                                    FROM UTC_TIMEDATE_Without_J RDF\n",
    "                                                    \n",
    "                                                    LEFT JOIN MainQueryDF AD ON RDF.FlightNo=AD.DesigFlightNumber\n",
    "                                                    \n",
    "                                                    AND RDF.TailNo = AD.AcRegNo\n",
    "                                                    \n",
    "                                                    AND RDF.Date=AD.UTCFlightDate\n",
    "                                                    \n",
    "                                                    AND RDF.Departure=AD.FromCity\n",
    "                                                    \n",
    "                                                    AND RDF.Arrival=AD.Tocity\n",
    "                                                    \n",
    "                                                    ''')\n",
    "\n",
    "Arms_Join_DF_Without_J.createOrReplaceTempView('Arms_Join_DF_Without_J')\n",
    "\n"
   ]
  },
  {
   "cell_type": "code",
   "execution_count": 12,
   "id": "6a248157-f2a4-4897-b045-786828d1471f",
   "metadata": {
    "execution": {
     "iopub.execute_input": "2023-01-23T09:39:29.305029Z",
     "iopub.status.busy": "2023-01-23T09:39:29.304853Z",
     "iopub.status.idle": "2023-01-23T09:39:30.065674Z",
     "shell.execute_reply": "2023-01-23T09:39:30.065166Z",
     "shell.execute_reply.started": "2023-01-23T09:39:29.305007Z"
    },
    "tags": []
   },
   "outputs": [
    {
     "data": {
      "application/vnd.jupyter.widget-view+json": {
       "model_id": "d5002381f2194174baa9fb181cb48d5f",
       "version_major": 2,
       "version_minor": 0
      },
      "text/plain": [
       "VBox()"
      ]
     },
     "metadata": {},
     "output_type": "display_data"
    },
    {
     "data": {
      "application/vnd.jupyter.widget-view+json": {
       "model_id": "",
       "version_major": 2,
       "version_minor": 0
      },
      "text/plain": [
       "FloatProgress(value=0.0, bar_style='info', description='Progress:', layout=Layout(height='25px', width='50%'),…"
      ]
     },
     "metadata": {},
     "output_type": "display_data"
    }
   ],
   "source": [
    "Arms_Join_DF_With_J_1 = spark.sql('''\n",
    "\n",
    "                                           SELECT\n",
    "                                                    \n",
    "                                                    AD.FlightID,\n",
    "                                                    \n",
    "                                                    AD.DesigFlightNumber,\n",
    "                                                    \n",
    "                                                    AD.FlightNumber AS `FlightNumberARMS`,\n",
    "                                                    \n",
    "                                                    AD.FlightDate,\n",
    "                                                    \n",
    "                                                    AD.FromCity,\n",
    "                                                    \n",
    "                                                    AD.ToCity,\n",
    "                                                    \n",
    "                                                    AD.BlockTime,\n",
    "                                                    \n",
    "                                                    AD.ECN,\n",
    "                                                    \n",
    "                                                    AD.EmployeeName,\n",
    "                                                    \n",
    "                                                    AD.RANK,\n",
    "                                                    \n",
    "                                                    CAST(AD.ChocksOff AS timestamp) AS ChocksOff,\n",
    "                                                    \n",
    "                                                    CAST(AD.ChocksOn AS timestamp) AS ChocksOn,\n",
    "                                                    \n",
    "                                                    AD.DOMINT,\n",
    "                                                    \n",
    "                                                    AD.AircraftType,\n",
    "                                                    \n",
    "                                                    AD.AircraftModel,  \n",
    "                                                    \n",
    "                                                    AD.Payload,\n",
    "                                                    \n",
    "                                                    RDF.*\n",
    "                                                    \n",
    "                                                    FROM UTC_TIMEDATE_With_J RDF\n",
    "                                                    \n",
    "                                                    LEFT JOIN MainQueryDF AD ON \n",
    "                                                    \n",
    "                                                    RDF.TailNo = AD.AcRegNo\n",
    "                                                    \n",
    "                                                    AND RDF.Date = AD.UTCFlightDate\n",
    "                                                    \n",
    "                                                    AND RDF.UTC_TIMEDATE BETWEEN (AD.ChocksOff - INTERVAL 345 MINUTES) AND (AD.ChocksOff - INTERVAL 315 MINUTES)\n",
    "                                                    \n",
    "                                                    AND RDF.Departure=AD.FromCity\n",
    "                                                    \n",
    "                                                    AND RDF.Arrival=AD.Tocity\n",
    "                                                                        \n",
    "                                                ''')\n",
    "\n",
    "Arms_Join_DF_With_J_1.createOrReplaceTempView('Arms_Join_DF_With_J_1')\n",
    "\n",
    "                \n",
    "Arms_Join_DF_With_J = spark.sql('''\n",
    "                                                SELECT \n",
    "                                                    FlightID, \n",
    "                                                    DesigFlightNumber, \n",
    "                                                    FlightNumberARMS, \n",
    "                                                    FlightDate, \n",
    "                                                    FromCity, \n",
    "                                                    ToCity, \n",
    "                                                    BlockTime, \n",
    "                                                    ECN, \n",
    "                                                    EmployeeName, \n",
    "                                                    RANK, \n",
    "                                                    ChocksOff, \n",
    "                                                    ChocksOn, \n",
    "                                                    DOMINT, \n",
    "                                                    AircraftType, \n",
    "                                                    AircraftModel, \n",
    "                                                    Payload, \n",
    "                                                    TailNo, \n",
    "                                                    Departure, \n",
    "                                                    Arrival, \n",
    "                                                    FlightNo, \n",
    "                                                    Date, \n",
    "                                                    `Time-In-Secs`,\n",
    "                                                    `Time-Per-Sec`, \n",
    "                                                    `BARO-CORRECTED-PALT-DERIVED`, \n",
    "                                                    `Altitude-BaroL`, \n",
    "                                                    `HEADING-MAGNETIC`, \n",
    "                                                    `PITCH-ANGLE`, \n",
    "                                                    `ROLL-ANGLE`, \n",
    "                                                    `RAD-ALT`, \n",
    "                                                    `WOW-NLG`, \n",
    "                                                    `WOW-MLG`, \n",
    "                                                    `ACCN-NORMAL`, \n",
    "                                                    `ACCN-LATERAL`, \n",
    "                                                    `ACCN-LONGITUDINAL`, \n",
    "                                                    `AIRSPEED-CAS-L`, \n",
    "                                                    `AFCS-SEL-AIRSPEED`, \n",
    "                                                    `VERTICAL-SPEED-Derived`, \n",
    "                                                    `FMS-GROUNDSPEED`, \n",
    "                                                    `FLAP-CONTROL-POS-Gated`, \n",
    "                                                    `FLAP-POSITION`, \n",
    "                                                    `PLA-1`, \n",
    "                                                    `PLA-2`, \n",
    "                                                    `TORQUE-1`, \n",
    "                                                    `TORQUE-2`, \n",
    "                                                    `CLA-1`, \n",
    "                                                    `CLA-2`, \n",
    "                                                    `NP-1`, \n",
    "                                                    `NP-2`, \n",
    "                                                    `EGPWS-ALERT-WARNING`, \n",
    "                                                    `EGPWS-GS-ALERT`, \n",
    "                                                    `AFCS-GS-MODE`, \n",
    "                                                    `AFCS-LOC-MODE`, \n",
    "                                                    `AFCS-VOR-MODE`, \n",
    "                                                    `ILS-GS-DEV-1`, \n",
    "                                                    `ILS-GS-DEV-2`, \n",
    "                                                    `FUEL-FLOW-2-kg-h`, \n",
    "                                                    `FUEL-FLOW-1-kg-h`, \n",
    "                                                    `DME-DISTANCE-1`, \n",
    "                                                    `DME-DISTANCE-2`, \n",
    "                                                    `VOR-FREQ-1`, \n",
    "                                                    `VOR-FREQ-2`, \n",
    "                                                    `FMS-WIND-ANGLE`, \n",
    "                                                    `FMS-WIND-SPEED`, \n",
    "                                                    `BRAKE-PRESS-LEFT`, \n",
    "                                                    `BRAKE-PRESS-RIGHT`, \n",
    "                                                    `PROP-BETA-RANGE-1`, \n",
    "                                                    `PROP-BETA-RANGE-2`, \n",
    "                                                    `AP-ENGAGED`, \n",
    "                                                    FileName, \n",
    "                                                    Time, \n",
    "                                                    `Time-Per-Sec-1`, \n",
    "                                                    LoadedDate,\n",
    "                                                    LoadedBy, \n",
    "                                                    DataFrameName, \n",
    "                                                    year, \n",
    "                                                    month,\n",
    "                                                    UTC_TIMEDATE\n",
    "\n",
    "                                                    FROM Arms_Join_DF_With_J_1\n",
    "\n",
    "                                            ''')\n",
    "\n",
    "Arms_Join_DF_With_J.createOrReplaceTempView('Arms_Join_DF_With_J')\n",
    "\n",
    "Arms_Join_DF = spark.sql('''\n",
    "\n",
    "                                SELECT * FROM Arms_Join_DF_Without_J\n",
    "                                \n",
    "                                UNION\n",
    "                                \n",
    "                                SELECT * FROM Arms_Join_DF_With_J\n",
    "                \n",
    "\n",
    "                    ''')\n",
    "\n",
    "Arms_Join_DF.createOrReplaceTempView('Arms_Join_DF')"
   ]
  },
  {
   "cell_type": "code",
   "execution_count": 13,
   "id": "1760c017-013f-48e8-a84c-251c72923fef",
   "metadata": {
    "execution": {
     "iopub.execute_input": "2023-01-23T09:39:30.066737Z",
     "iopub.status.busy": "2023-01-23T09:39:30.066570Z",
     "iopub.status.idle": "2023-01-23T09:39:30.821664Z",
     "shell.execute_reply": "2023-01-23T09:39:30.821167Z",
     "shell.execute_reply.started": "2023-01-23T09:39:30.066716Z"
    },
    "tags": []
   },
   "outputs": [
    {
     "data": {
      "application/vnd.jupyter.widget-view+json": {
       "model_id": "d941a902c6f44eaa947ca3bf0ce35d2e",
       "version_major": 2,
       "version_minor": 0
      },
      "text/plain": [
       "VBox()"
      ]
     },
     "metadata": {},
     "output_type": "display_data"
    },
    {
     "data": {
      "application/vnd.jupyter.widget-view+json": {
       "model_id": "",
       "version_major": 2,
       "version_minor": 0
      },
      "text/plain": [
       "FloatProgress(value=0.0, bar_style='info', description='Progress:', layout=Layout(height='25px', width='50%'),…"
      ]
     },
     "metadata": {},
     "output_type": "display_data"
    }
   ],
   "source": [
    "Q400AD2 = spark.sql('''SELECT\n",
    "                                        FileName,\n",
    "                                        Count(*) AS `OutputRecords`\n",
    "                                FROM Arms_Join_DF\n",
    "                                GROUP BY FileName''')\n",
    "\n",
    "Q400AD2.createOrReplaceTempView('Q400AD2')\n",
    "\n",
    "NoArmsMapping = spark.sql('''SELECT DISTINCT\n",
    "                                    FileName                                    \n",
    "                            FROM Arms_Join_DF\n",
    "                            WHERE  FlightID IS NULL\n",
    "                            AND ECN IS NULL ''')\n",
    "\n",
    "NoArmsMapping.createOrReplaceTempView('NoArmsMapping')\n",
    "\n",
    "\n",
    "AuditTableDF = spark.sql(f'''\n",
    "                                    SELECT\n",
    "                                            A.DataFrameName,\n",
    "                                            A.InputFileName,\n",
    "                                            A.InputRecords,\n",
    "                                            A.JobName,\n",
    "                                            B.OutputRecords,\n",
    "                                            CASE \n",
    "                                                        WHEN (B.OutputRecords > 0) AND (C.FileName IS  NULL ) THEN 'Yes' \n",
    "                                                        ELSE 'No'\n",
    "                                            END Successfull,\n",
    "                                            A.ProcessedDate,\n",
    "                                            'September-FOB' AS `Directory`\n",
    "                                    FROM Q400AD1 AS A\n",
    "                                    LEFT JOIN Q400AD2 B ON A.InputFileName=B.FileName\n",
    "                                    LEFT JOIN NoArmsMapping C ON A.InputFileName=C.FileName\n",
    "                                                                        ''')"
   ]
  },
  {
   "cell_type": "code",
   "execution_count": 14,
   "id": "f809c629-41ac-44be-9658-a74dc554b817",
   "metadata": {
    "execution": {
     "iopub.execute_input": "2023-01-23T09:39:33.022848Z",
     "iopub.status.busy": "2023-01-23T09:39:33.022615Z",
     "iopub.status.idle": "2023-01-23T09:44:51.298008Z",
     "shell.execute_reply": "2023-01-23T09:44:51.297511Z",
     "shell.execute_reply.started": "2023-01-23T09:39:33.022822Z"
    },
    "tags": []
   },
   "outputs": [
    {
     "data": {
      "application/vnd.jupyter.widget-view+json": {
       "model_id": "fa59be7ccaf047a28e7dc20a845b53e6",
       "version_major": 2,
       "version_minor": 0
      },
      "text/plain": [
       "VBox()"
      ]
     },
     "metadata": {},
     "output_type": "display_data"
    },
    {
     "data": {
      "application/vnd.jupyter.widget-view+json": {
       "model_id": "",
       "version_major": 2,
       "version_minor": 0
      },
      "text/plain": [
       "FloatProgress(value=0.0, bar_style='info', description='Progress:', layout=Layout(height='25px', width='50%'),…"
      ]
     },
     "metadata": {},
     "output_type": "display_data"
    },
    {
     "name": "stdout",
     "output_type": "stream",
     "text": [
      "+--------+-----------------+----------------+----------+--------+------+---------+------+--------------+-----+-------------------+-------------------+------+------------+-------------+-------+------+---------+-------+--------+----------+------------+------------+---------------------------+--------------+----------------+-----------+----------+-------+-------+----------+-----------+------------+-----------------+--------------+-----------------+----------------------+---------------+----------------------+-------------+-----+-----+--------+--------+-----+-----+----+----+-------------------+--------------+--------------+--------------+--------------+------------+------------+----------------+----------------+--------------+--------------+----------+----------+--------------+--------------+----------------+-----------------+-----------------+-----------------+-----------+--------------------------------------------------------+----+--------------+-----------------------+------------+-------------+----+-------+-------------------+\n",
      "|FlightID|DesigFlightNumber|FlightNumberARMS|FlightDate|FromCity|ToCity|BlockTime|ECN   |EmployeeName  |RANK |ChocksOff          |ChocksOn           |DOMINT|AircraftType|AircraftModel|Payload|TailNo|Departure|Arrival|FlightNo|Date      |Time-In-Secs|Time-Per-Sec|BARO-CORRECTED-PALT-DERIVED|Altitude-BaroL|HEADING-MAGNETIC|PITCH-ANGLE|ROLL-ANGLE|RAD-ALT|WOW-NLG|WOW-MLG   |ACCN-NORMAL|ACCN-LATERAL|ACCN-LONGITUDINAL|AIRSPEED-CAS-L|AFCS-SEL-AIRSPEED|VERTICAL-SPEED-Derived|FMS-GROUNDSPEED|FLAP-CONTROL-POS-Gated|FLAP-POSITION|PLA-1|PLA-2|TORQUE-1|TORQUE-2|CLA-1|CLA-2|NP-1|NP-2|EGPWS-ALERT-WARNING|EGPWS-GS-ALERT|AFCS-GS-MODE  |AFCS-LOC-MODE |AFCS-VOR-MODE |ILS-GS-DEV-1|ILS-GS-DEV-2|FUEL-FLOW-2-kg-h|FUEL-FLOW-1-kg-h|DME-DISTANCE-1|DME-DISTANCE-2|VOR-FREQ-1|VOR-FREQ-2|FMS-WIND-ANGLE|FMS-WIND-SPEED|BRAKE-PRESS-LEFT|BRAKE-PRESS-RIGHT|PROP-BETA-RANGE-1|PROP-BETA-RANGE-2|AP-ENGAGED |FileName                                                |Time|Time-Per-Sec-1|LoadedDate             |LoadedBy    |DataFrameName|year|month  |UTC_TIMEDATE       |\n",
      "+--------+-----------------+----------------+----------+--------+------+---------+------+--------------+-----+-------------------+-------------------+------+------------+-------------+-------+------+---------+-------+--------+----------+------------+------------+---------------------------+--------------+----------------+-----------+----------+-------+-------+----------+-----------+------------+-----------------+--------------+-----------------+----------------------+---------------+----------------------+-------------+-----+-----+--------+--------+-----+-----+----+----+-------------------+--------------+--------------+--------------+--------------+------------+------------+----------------+----------------+--------------+--------------+----------+----------+--------------+--------------+----------------+-----------------+-----------------+-----------------+-----------+--------------------------------------------------------+----+--------------+-----------------------+------------+-------------+----+-------+-------------------+\n",
      "|2923537 |SG 3758          |3758            |2022-10-29|PYG     |DEL   |03:05:00 |109604|BRIGHT  GROVER|CAPT.|2022-10-29 13:45:00|2022-10-29 16:30:00|DOM   |DHC         |DHC-         |Pax    |VT-SQC|PYG      |DEL    |SG 3758 |2022-10-29|324.75      |null        |null                       |null          |null            |D 1.1      |null      |null   |null   |GROUND (1)|0.993      | 0.00       |-0.02            |null          |null             |null                  |null           |null                  |null         |null |null |null    |null    |null |null |null|null|null               |null          |null          |null          |null          |null        |null        |null            |null            |null          |null          |null      |null      |null          |null          |null            |null             |null             |null             |null       |ALL ac=VT-SQC dep=PYG arr=DEL fn=SG 3758 dt=20221029.csv|null|null          |2023-01-23 09:39:33.124|precog-spark|512 WPS      |2022|October|2022-10-29 08:20:08|\n",
      "|2923537 |SG 3758          |3758            |2022-10-29|PYG     |DEL   |03:05:00 |109604|BRIGHT  GROVER|CAPT.|2022-10-29 13:45:00|2022-10-29 16:30:00|DOM   |DHC         |DHC-         |Pax    |VT-SQC|PYG      |DEL    |SG 3758 |2022-10-29|440.375     |null        |null                       |null          |null            |null       |null      |null   |null   |null      |1.028      |null        |null             |null          |null             |null                  |null           |null                  |null         |null |null |null    |null    |null |null |null|null|null               |null          |null          |null          |null          |null        |null        |null            |null            |null          |null          |null      |null      |null          |null          |null            |null             |null             |null             |null       |ALL ac=VT-SQC dep=PYG arr=DEL fn=SG 3758 dt=20221029.csv|null|null          |2023-01-23 09:39:33.124|precog-spark|512 WPS      |2022|October|2022-10-29 08:20:08|\n",
      "|2923537 |SG 3758          |3758            |2022-10-29|PYG     |DEL   |03:05:00 |109604|BRIGHT  GROVER|CAPT.|2022-10-29 13:45:00|2022-10-29 16:30:00|DOM   |DHC         |DHC-         |Pax    |VT-SQC|PYG      |DEL    |SG 3758 |2022-10-29|473.875     |null        |null                       |null          |null            |null       |null      |null   |null   |null      |0.978      |null        |null             |null          |null             |null                  |null           |null                  |null         |null |null |null    |null    |null |null |null|null|null               |null          |null          |null          |null          |null        |null        |null            |null            |null          |null          |null      |null      |null          |null          |null            |null             |null             |null             |null       |ALL ac=VT-SQC dep=PYG arr=DEL fn=SG 3758 dt=20221029.csv|null|null          |2023-01-23 09:39:33.124|precog-spark|512 WPS      |2022|October|2022-10-29 08:20:08|\n",
      "|2923537 |SG 3758          |3758            |2022-10-29|PYG     |DEL   |03:05:00 |109604|BRIGHT  GROVER|CAPT.|2022-10-29 13:45:00|2022-10-29 16:30:00|DOM   |DHC         |DHC-         |Pax    |VT-SQC|PYG      |DEL    |SG 3758 |2022-10-29|598.625     |null        |null                       |null          |null            |null       |null      |null   |null   |null      |0.989      |null        |null             |null          |null             |null                  |null           |null                  |null         |null |null |null    |null    |null |null |null|null|null               |null          |null          |null          |null          |null        |null        |null            |null            |null          |null          |null      |null      |null          |null          |null            |null             |null             |null             |null       |ALL ac=VT-SQC dep=PYG arr=DEL fn=SG 3758 dt=20221029.csv|null|null          |2023-01-23 09:39:33.124|precog-spark|512 WPS      |2022|October|2022-10-29 08:20:08|\n",
      "|2923537 |SG 3758          |3758            |2022-10-29|PYG     |DEL   |03:05:00 |109604|BRIGHT  GROVER|CAPT.|2022-10-29 13:45:00|2022-10-29 16:30:00|DOM   |DHC         |DHC-         |Pax    |VT-SQC|PYG      |DEL    |SG 3758 |2022-10-29|993.375     |null        |null                       |null          |null            |null       |null      |null   |null   |null      |0.985      |null        |null             |null          |null             |null                  |null           |null                  |null         |null |null |null    |null    |null |null |null|null|null               |null          |null          |null          |null          |null        |null        |null            |null            |null          |null          |null      |null      |null          |null          |null            |null             |null             |null             |null       |ALL ac=VT-SQC dep=PYG arr=DEL fn=SG 3758 dt=20221029.csv|null|null          |2023-01-23 09:39:33.124|precog-spark|512 WPS      |2022|October|2022-10-29 08:20:08|\n",
      "|2923537 |SG 3758          |3758            |2022-10-29|PYG     |DEL   |03:05:00 |109604|BRIGHT  GROVER|CAPT.|2022-10-29 13:45:00|2022-10-29 16:30:00|DOM   |DHC         |DHC-         |Pax    |VT-SQC|PYG      |DEL    |SG 3758 |2022-10-29|1213.75     |null        |null                       |null          |null            |U 1.8      |null      |null   |null   |Air (0)   |1.001      |R 0.01      |0.05             |null          |null             |null                  |null           |null                  |null         |null |null |null    |null    |null |null |null|null|null               |null          |null          |null          |null          |null        |null        |null            |null            |null          |null          |null      |null      |null          |null          |null            |null             |null             |null             |null       |ALL ac=VT-SQC dep=PYG arr=DEL fn=SG 3758 dt=20221029.csv|null|null          |2023-01-23 09:39:33.124|precog-spark|512 WPS      |2022|October|2022-10-29 08:20:08|\n",
      "|2923537 |SG 3758          |3758            |2022-10-29|PYG     |DEL   |03:05:00 |109604|BRIGHT  GROVER|CAPT.|2022-10-29 13:45:00|2022-10-29 16:30:00|DOM   |DHC         |DHC-         |Pax    |VT-SQC|PYG      |DEL    |SG 3758 |2022-10-29|1715.875    |null        |null                       |null          |null            |null       |null      |null   |null   |null      |1.001      |null        |null             |null          |null             |null                  |null           |null                  |null         |null |null |null    |null    |null |null |null|null|null               |null          |null          |null          |null          |null        |null        |null            |null            |null          |null          |null      |null      |null          |null          |null            |null             |null             |null             |null       |ALL ac=VT-SQC dep=PYG arr=DEL fn=SG 3758 dt=20221029.csv|null|null          |2023-01-23 09:39:33.124|precog-spark|512 WPS      |2022|October|2022-10-29 08:20:08|\n",
      "|2923537 |SG 3758          |3758            |2022-10-29|PYG     |DEL   |03:05:00 |109604|BRIGHT  GROVER|CAPT.|2022-10-29 13:45:00|2022-10-29 16:30:00|DOM   |DHC         |DHC-         |Pax    |VT-SQC|PYG      |DEL    |SG 3758 |2022-10-29|1745.375    |null        |null                       |null          |null            |null       |null      |null   |null   |null      |1.005      |null        |null             |null          |null             |null                  |null           |null                  |null         |null |null |null    |null    |null |null |null|null|null               |null          |null          |null          |null          |null        |null        |null            |null            |null          |null          |null      |null      |null          |null          |null            |null             |null             |null             |null       |ALL ac=VT-SQC dep=PYG arr=DEL fn=SG 3758 dt=20221029.csv|null|null          |2023-01-23 09:39:33.124|precog-spark|512 WPS      |2022|October|2022-10-29 08:20:08|\n",
      "|2923537 |SG 3758          |3758            |2022-10-29|PYG     |DEL   |03:05:00 |109604|BRIGHT  GROVER|CAPT.|2022-10-29 13:45:00|2022-10-29 16:30:00|DOM   |DHC         |DHC-         |Pax    |VT-SQC|PYG      |DEL    |SG 3758 |2022-10-29|1746.125    |null        |null                       |null          |null            |null       |null      |null   |null   |null      |1.001      |null        |null             |null          |null             |null                  |null           |null                  |null         |null |null |null    |null    |null |null |null|null|null               |null          |null          |null          |null          |null        |null        |null            |null            |null          |null          |null      |null      |null          |null          |null            |null             |null             |null             |null       |ALL ac=VT-SQC dep=PYG arr=DEL fn=SG 3758 dt=20221029.csv|null|null          |2023-01-23 09:39:33.124|precog-spark|512 WPS      |2022|October|2022-10-29 08:20:08|\n",
      "|2923537 |SG 3758          |3758            |2022-10-29|PYG     |DEL   |03:05:00 |109604|BRIGHT  GROVER|CAPT.|2022-10-29 13:45:00|2022-10-29 16:30:00|DOM   |DHC         |DHC-         |Pax    |VT-SQC|PYG      |DEL    |SG 3758 |2022-10-29|1748.375    |null        |null                       |null          |null            |null       |null      |null   |null   |null      |0.993      |null        |null             |null          |null             |null                  |null           |null                  |null         |null |null |null    |null    |null |null |null|null|null               |null          |null          |null          |null          |null        |null        |null            |null            |null          |null          |null      |null      |null          |null          |null            |null             |null             |null             |null       |ALL ac=VT-SQC dep=PYG arr=DEL fn=SG 3758 dt=20221029.csv|null|null          |2023-01-23 09:39:33.124|precog-spark|512 WPS      |2022|October|2022-10-29 08:20:08|\n",
      "|2923537 |SG 3758          |3758            |2022-10-29|PYG     |DEL   |03:05:00 |109604|BRIGHT  GROVER|CAPT.|2022-10-29 13:45:00|2022-10-29 16:30:00|DOM   |DHC         |DHC-         |Pax    |VT-SQC|PYG      |DEL    |SG 3758 |2022-10-29|1947.375    |null        |null                       |null          |null            |null       |null      |null   |null   |null      |0.997      |null        |null             |null          |null             |null                  |null           |null                  |null         |null |null |null    |null    |null |null |null|null|null               |null          |null          |null          |null          |null        |null        |null            |null            |null          |null          |null      |null      |null          |null          |null            |null             |null             |null             |null       |ALL ac=VT-SQC dep=PYG arr=DEL fn=SG 3758 dt=20221029.csv|null|null          |2023-01-23 09:39:33.124|precog-spark|512 WPS      |2022|October|2022-10-29 08:20:08|\n",
      "|2923537 |SG 3758          |3758            |2022-10-29|PYG     |DEL   |03:05:00 |109604|BRIGHT  GROVER|CAPT.|2022-10-29 13:45:00|2022-10-29 16:30:00|DOM   |DHC         |DHC-         |Pax    |VT-SQC|PYG      |DEL    |SG 3758 |2022-10-29|2222.5      |null        |null                       |null          |null            |U 1.4      |L 0.1     |null   |null   |Air (0)   |0.993      |R 0.00      |0.03             |null          |null             |null                  |298            |null                  |null         |null |null |null    |null    |null |null |null|null|null               |null          |null          |null          |null          |null        |null        |null            |null            |null          |null          |null      |null      |null          |null          |null            |null             |null             |null             |null       |ALL ac=VT-SQC dep=PYG arr=DEL fn=SG 3758 dt=20221029.csv|null|null          |2023-01-23 09:39:33.124|precog-spark|512 WPS      |2022|October|2022-10-29 08:20:08|\n",
      "|2923537 |SG 3758          |3758            |2022-10-29|PYG     |DEL   |03:05:00 |109604|BRIGHT  GROVER|CAPT.|2022-10-29 13:45:00|2022-10-29 16:30:00|DOM   |DHC         |DHC-         |Pax    |VT-SQC|PYG      |DEL    |SG 3758 |2022-10-29|2518.0      |null        |21996                      |21996         |272             |U 1.1      | 0.0      |0      |Air (0)|Air (0)   |1.001      |R 0.00      |0.02             |236.5         |0                |-40                   |298            |0                     |0.0          |81.1 |80.6 |61      |61      |55   |55   |849 |849 |NO ALERT (0)       |NO ALERT (0)  |Not Active (0)|Not Active (0)|Not Active (0)|* 0.00      |* 0.00      |523             |515             |null          |null          |null      |null      |269           |43            |37              |37               |FORWARD (0)      |FORWARD (0)      |Engaged (1)|ALL ac=VT-SQC dep=PYG arr=DEL fn=SG 3758 dt=20221029.csv|null|null          |2023-01-23 09:39:33.124|precog-spark|512 WPS      |2022|October|2022-10-29 08:20:08|\n",
      "|2923537 |SG 3758          |3758            |2022-10-29|PYG     |DEL   |03:05:00 |109604|BRIGHT  GROVER|CAPT.|2022-10-29 13:45:00|2022-10-29 16:30:00|DOM   |DHC         |DHC-         |Pax    |VT-SQC|PYG      |DEL    |SG 3758 |2022-10-29|2552.5      |null        |null                       |null          |null            |U 1.2      |R 0.1     |null   |null   |Air (0)   |0.993      | 0.00       |0.02             |null          |null             |null                  |299            |null                  |null         |null |null |null    |null    |null |null |null|null|null               |null          |null          |null          |null          |null        |null        |null            |null            |null          |null          |null      |null      |null          |null          |null            |null             |null             |null             |null       |ALL ac=VT-SQC dep=PYG arr=DEL fn=SG 3758 dt=20221029.csv|null|null          |2023-01-23 09:39:33.124|precog-spark|512 WPS      |2022|October|2022-10-29 08:20:08|\n",
      "|2923537 |SG 3758          |3758            |2022-10-29|PYG     |DEL   |03:05:00 |109604|BRIGHT  GROVER|CAPT.|2022-10-29 13:45:00|2022-10-29 16:30:00|DOM   |DHC         |DHC-         |Pax    |VT-SQC|PYG      |DEL    |SG 3758 |2022-10-29|2569.5      |null        |null                       |null          |null            |U 1.2      |L 0.1     |null   |null   |Air (0)   |0.997      |L 0.00      |0.02             |null          |null             |null                  |299            |null                  |null         |null |null |null    |null    |null |null |null|null|null               |null          |null          |null          |null          |null        |null        |null            |null            |null          |null          |null      |null      |null          |null          |null            |null             |null             |null             |null       |ALL ac=VT-SQC dep=PYG arr=DEL fn=SG 3758 dt=20221029.csv|null|null          |2023-01-23 09:39:33.124|precog-spark|512 WPS      |2022|October|2022-10-29 08:20:08|\n",
      "|2923537 |SG 3758          |3758            |2022-10-29|PYG     |DEL   |03:05:00 |109604|BRIGHT  GROVER|CAPT.|2022-10-29 13:45:00|2022-10-29 16:30:00|DOM   |DHC         |DHC-         |Pax    |VT-SQC|PYG      |DEL    |SG 3758 |2022-10-29|2754.875    |null        |null                       |null          |null            |null       |null      |null   |null   |null      |1.009      |null        |null             |null          |null             |null                  |null           |null                  |null         |null |null |null    |null    |null |null |null|null|null               |null          |null          |null          |null          |null        |null        |null            |null            |null          |null          |null      |null      |null          |null          |null            |null             |null             |null             |null       |ALL ac=VT-SQC dep=PYG arr=DEL fn=SG 3758 dt=20221029.csv|null|null          |2023-01-23 09:39:33.124|precog-spark|512 WPS      |2022|October|2022-10-29 08:20:08|\n",
      "|2923537 |SG 3758          |3758            |2022-10-29|PYG     |DEL   |03:05:00 |109604|BRIGHT  GROVER|CAPT.|2022-10-29 13:45:00|2022-10-29 16:30:00|DOM   |DHC         |DHC-         |Pax    |VT-SQC|PYG      |DEL    |SG 3758 |2022-10-29|2950.5      |null        |null                       |null          |null            |U 1.2      |L 0.3     |null   |null   |Air (0)   |1.005      | 0.00       |0.02             |null          |null             |null                  |300            |null                  |null         |null |null |null    |null    |null |null |null|null|null               |null          |null          |null          |null          |null        |null        |null            |null            |null          |null          |null      |null      |null          |null          |null            |null             |null             |null             |null       |ALL ac=VT-SQC dep=PYG arr=DEL fn=SG 3758 dt=20221029.csv|null|null          |2023-01-23 09:39:33.124|precog-spark|512 WPS      |2022|October|2022-10-29 08:20:08|\n",
      "|2923537 |SG 3758          |3758            |2022-10-29|PYG     |DEL   |03:05:00 |109604|BRIGHT  GROVER|CAPT.|2022-10-29 13:45:00|2022-10-29 16:30:00|DOM   |DHC         |DHC-         |Pax    |VT-SQC|PYG      |DEL    |SG 3758 |2022-10-29|3066.625    |null        |null                       |null          |null            |null       |null      |null   |null   |null      |0.993      |null        |null             |null          |null             |null                  |null           |null                  |null         |null |null |null    |null    |null |null |null|null|null               |null          |null          |null          |null          |null        |null        |null            |null            |null          |null          |null      |null      |null          |null          |null            |null             |null             |null             |null       |ALL ac=VT-SQC dep=PYG arr=DEL fn=SG 3758 dt=20221029.csv|null|null          |2023-01-23 09:39:33.124|precog-spark|512 WPS      |2022|October|2022-10-29 08:20:08|\n",
      "|2923537 |SG 3758          |3758            |2022-10-29|PYG     |DEL   |03:05:00 |109604|BRIGHT  GROVER|CAPT.|2022-10-29 13:45:00|2022-10-29 16:30:00|DOM   |DHC         |DHC-         |Pax    |VT-SQC|PYG      |DEL    |SG 3758 |2022-10-29|3241.75     |null        |null                       |null          |null            |U 1.2      |null      |null   |null   |Air (0)   |1.001      | 0.00       |0.02             |null          |null             |null                  |null           |null                  |null         |null |null |null    |null    |null |null |null|null|null               |null          |null          |null          |null          |null        |null        |null            |null            |null          |null          |null      |null      |null          |null          |null            |null             |null             |null             |null       |ALL ac=VT-SQC dep=PYG arr=DEL fn=SG 3758 dt=20221029.csv|null|null          |2023-01-23 09:39:33.124|precog-spark|512 WPS      |2022|October|2022-10-29 08:20:08|\n",
      "|2923537 |SG 3758          |3758            |2022-10-29|PYG     |DEL   |03:05:00 |109604|BRIGHT  GROVER|CAPT.|2022-10-29 13:45:00|2022-10-29 16:30:00|DOM   |DHC         |DHC-         |Pax    |VT-SQC|PYG      |DEL    |SG 3758 |2022-10-29|3298.0      |null        |22000                      |22000         |272             |U 1.1      |L 0.3     |0      |Air (0)|Air (0)   |0.989      |L 0.00      |0.02             |237.0         |0                |-60                   |302            |0                     |0.0          |81.1 |80.6 |61      |61      |55   |55   |849 |849 |NO ALERT (0)       |NO ALERT (0)  |Not Active (0)|Not Active (0)|Not Active (0)|* 0.00      |* 0.00      |523             |519             |null          |null          |null      |null      |270           |40            |43              |37               |FORWARD (0)      |FORWARD (0)      |Engaged (1)|ALL ac=VT-SQC dep=PYG arr=DEL fn=SG 3758 dt=20221029.csv|null|null          |2023-01-23 09:39:33.124|precog-spark|512 WPS      |2022|October|2022-10-29 08:20:08|\n",
      "+--------+-----------------+----------------+----------+--------+------+---------+------+--------------+-----+-------------------+-------------------+------+------------+-------------+-------+------+---------+-------+--------+----------+------------+------------+---------------------------+--------------+----------------+-----------+----------+-------+-------+----------+-----------+------------+-----------------+--------------+-----------------+----------------------+---------------+----------------------+-------------+-----+-----+--------+--------+-----+-----+----+----+-------------------+--------------+--------------+--------------+--------------+------------+------------+----------------+----------------+--------------+--------------+----------+----------+--------------+--------------+----------------+-----------------+-----------------+-----------------+-----------+--------------------------------------------------------+----+--------------+-----------------------+------------+-------------+----+-------+-------------------+\n",
      "only showing top 20 rows"
     ]
    }
   ],
   "source": [
    "Arms_Join_DF.show(truncate = False)"
   ]
  },
  {
   "cell_type": "code",
   "execution_count": 15,
   "id": "7beeb540-2c2f-412d-842c-fea169187adf",
   "metadata": {
    "execution": {
     "iopub.execute_input": "2023-01-23T09:49:21.193191Z",
     "iopub.status.busy": "2023-01-23T09:49:21.192956Z",
     "iopub.status.idle": "2023-01-23T09:56:33.912180Z",
     "shell.execute_reply": "2023-01-23T09:56:33.911627Z",
     "shell.execute_reply.started": "2023-01-23T09:49:21.193166Z"
    },
    "tags": []
   },
   "outputs": [
    {
     "data": {
      "application/vnd.jupyter.widget-view+json": {
       "model_id": "5d32bf3f199b4fe38588ce9cc164f7d9",
       "version_major": 2,
       "version_minor": 0
      },
      "text/plain": [
       "VBox()"
      ]
     },
     "metadata": {},
     "output_type": "display_data"
    },
    {
     "data": {
      "application/vnd.jupyter.widget-view+json": {
       "model_id": "",
       "version_major": 2,
       "version_minor": 0
      },
      "text/plain": [
       "FloatProgress(value=0.0, bar_style='info', description='Progress:', layout=Layout(height='25px', width='50%'),…"
      ]
     },
     "metadata": {},
     "output_type": "display_data"
    }
   ],
   "source": [
    "Arms_Join_DF.write.mode(\"append\").partitionBy(\n",
    "        \"year\", \"month\").parquet(OutputS3Filepath)\n"
   ]
  },
  {
   "cell_type": "code",
   "execution_count": 16,
   "id": "4815543c-0535-460c-9c17-493c6c8525e2",
   "metadata": {
    "execution": {
     "iopub.execute_input": "2023-01-23T10:01:12.496452Z",
     "iopub.status.busy": "2023-01-23T10:01:12.496228Z",
     "iopub.status.idle": "2023-01-23T10:01:13.249973Z",
     "shell.execute_reply": "2023-01-23T10:01:13.249468Z",
     "shell.execute_reply.started": "2023-01-23T10:01:12.496425Z"
    },
    "tags": []
   },
   "outputs": [
    {
     "data": {
      "application/vnd.jupyter.widget-view+json": {
       "model_id": "39fe577e1e7648f2b95951e36727041a",
       "version_major": 2,
       "version_minor": 0
      },
      "text/plain": [
       "VBox()"
      ]
     },
     "metadata": {},
     "output_type": "display_data"
    },
    {
     "data": {
      "application/vnd.jupyter.widget-view+json": {
       "model_id": "",
       "version_major": 2,
       "version_minor": 0
      },
      "text/plain": [
       "FloatProgress(value=0.0, bar_style='info', description='Progress:', layout=Layout(height='25px', width='50%'),…"
      ]
     },
     "metadata": {},
     "output_type": "display_data"
    }
   ],
   "source": [
    "spark.stop()"
   ]
  },
  {
   "cell_type": "code",
   "execution_count": null,
   "id": "a1a44b26-9e11-414b-80f3-7af04d86cd9e",
   "metadata": {},
   "outputs": [],
   "source": []
  }
 ],
 "metadata": {
  "kernelspec": {
   "display_name": "PySpark",
   "language": "",
   "name": "pysparkkernel"
  },
  "language_info": {
   "codemirror_mode": {
    "name": "python",
    "version": 3
   },
   "mimetype": "text/x-python",
   "name": "pyspark",
   "pygments_lexer": "python3"
  }
 },
 "nbformat": 4,
 "nbformat_minor": 5
}
