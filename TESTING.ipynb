{
 "cells": [
  {
   "cell_type": "code",
   "execution_count": 1,
   "id": "63e2e45d-630e-4791-86fe-afca376daa64",
   "metadata": {
    "execution": {
     "iopub.execute_input": "2022-09-07T10:16:31.860223Z",
     "iopub.status.busy": "2022-09-07T10:16:31.859991Z",
     "iopub.status.idle": "2022-09-07T10:16:58.765666Z",
     "shell.execute_reply": "2022-09-07T10:16:58.764933Z",
     "shell.execute_reply.started": "2022-09-07T10:16:31.860199Z"
    },
    "tags": []
   },
   "outputs": [
    {
     "data": {
      "application/vnd.jupyter.widget-view+json": {
       "model_id": "a97d35489ce7462bb1ab6734d82731e5",
       "version_major": 2,
       "version_minor": 0
      },
      "text/plain": [
       "VBox()"
      ]
     },
     "metadata": {},
     "output_type": "display_data"
    },
    {
     "name": "stdout",
     "output_type": "stream",
     "text": [
      "Starting Spark application\n"
     ]
    },
    {
     "data": {
      "text/html": [
       "<table>\n",
       "<tr><th>ID</th><th>YARN Application ID</th><th>Kind</th><th>State</th><th>Spark UI</th><th>Driver log</th><th>Current session?</th></tr><tr><td>4</td><td>application_1662541423763_0006</td><td>pyspark</td><td>idle</td><td><a target=\"_blank\" href=\"http://ip-20-0-4-34.ap-south-1.compute.internal:20888/proxy/application_1662541423763_0006/\" class=\"emr-proxy-link\" emr-resource=\"j-18ZZYNO18G558\n",
       "\" application-id=\"application_1662541423763_0006\">Link</a></td><td><a target=\"_blank\" href=\"http://ip-20-0-4-14.ap-south-1.compute.internal:8042/node/containerlogs/container_1662541423763_0006_01_000001/livy\" >Link</a></td><td>✔</td></tr></table>"
      ],
      "text/plain": [
       "<IPython.core.display.HTML object>"
      ]
     },
     "metadata": {},
     "output_type": "display_data"
    },
    {
     "data": {
      "application/vnd.jupyter.widget-view+json": {
       "model_id": "",
       "version_major": 2,
       "version_minor": 0
      },
      "text/plain": [
       "FloatProgress(value=0.0, bar_style='info', description='Progress:', layout=Layout(height='25px', width='50%'),…"
      ]
     },
     "metadata": {},
     "output_type": "display_data"
    },
    {
     "name": "stdout",
     "output_type": "stream",
     "text": [
      "SparkSession available as 'spark'.\n"
     ]
    },
    {
     "data": {
      "application/vnd.jupyter.widget-view+json": {
       "model_id": "",
       "version_major": 2,
       "version_minor": 0
      },
      "text/plain": [
       "FloatProgress(value=0.0, bar_style='info', description='Progress:', layout=Layout(height='25px', width='50%'),…"
      ]
     },
     "metadata": {},
     "output_type": "display_data"
    }
   ],
   "source": [
    "from pyspark import SparkConf\n",
    "from pyspark import SparkContext\n",
    "from pyspark.sql import SparkSession\n",
    "from pyspark.sql.types import *\n",
    "from pyspark.sql import functions as F\n",
    "import boto3\n",
    "import sys\n",
    "import re\n",
    "from datetime import datetime\n",
    "import configparser"
   ]
  },
  {
   "cell_type": "code",
   "execution_count": 1,
   "id": "56c662f8-5a54-40d6-afac-5dc9a0472881",
   "metadata": {
    "execution": {
     "iopub.execute_input": "2022-09-08T07:38:33.209582Z",
     "iopub.status.busy": "2022-09-08T07:38:33.209356Z",
     "iopub.status.idle": "2022-09-08T07:38:33.238417Z",
     "shell.execute_reply": "2022-09-08T07:38:33.237791Z",
     "shell.execute_reply.started": "2022-09-08T07:38:33.209555Z"
    },
    "tags": []
   },
   "outputs": [
    {
     "data": {
      "text/html": [
       "Current session configs: <tt>{'conf': {'spark.jars': 's3://sjet-datamart-bucket/Jars/mssql-jdbc-6.1.0.jre8.jar'}, 'proxyUser': 'user_ayush_vaishnav', 'kind': 'pyspark'}</tt><br>"
      ],
      "text/plain": [
       "<IPython.core.display.HTML object>"
      ]
     },
     "metadata": {},
     "output_type": "display_data"
    },
    {
     "data": {
      "text/html": [
       "<table>\n",
       "<tr><th>ID</th><th>YARN Application ID</th><th>Kind</th><th>State</th><th>Spark UI</th><th>Driver log</th><th>Current session?</th></tr><tr><td>2</td><td>application_1662614190151_0006</td><td>pyspark</td><td>busy</td><td><a target=\"_blank\" href=\"http://ip-20-0-4-35.ap-south-1.compute.internal:20888/proxy/application_1662614190151_0006/\" class=\"emr-proxy-link\" emr-resource=\"j-2WPXWNOLTB9IX\n",
       "\" application-id=\"application_1662614190151_0006\">Link</a></td><td><a target=\"_blank\" href=\"http://ip-20-0-4-34.ap-south-1.compute.internal:8042/node/containerlogs/container_1662614190151_0006_01_000001/livy\" >Link</a></td><td></td></tr></table>"
      ],
      "text/plain": [
       "<IPython.core.display.HTML object>"
      ]
     },
     "metadata": {},
     "output_type": "display_data"
    }
   ],
   "source": [
    "%%configure -f\n",
    "{\n",
    "    \"conf\": {\n",
    "        \"spark.jars\": \"s3://sjet-datamart-bucket/Jars/mssql-jdbc-6.1.0.jre8.jar\"        \n",
    "    }\n",
    "}"
   ]
  },
  {
   "cell_type": "code",
   "execution_count": 2,
   "id": "86c2f1be-04e6-441b-a924-43a32322c12c",
   "metadata": {
    "execution": {
     "iopub.execute_input": "2022-09-08T07:38:33.239580Z",
     "iopub.status.busy": "2022-09-08T07:38:33.239407Z",
     "iopub.status.idle": "2022-09-08T07:40:15.361977Z",
     "shell.execute_reply": "2022-09-08T07:40:15.361408Z",
     "shell.execute_reply.started": "2022-09-08T07:38:33.239559Z"
    },
    "tags": []
   },
   "outputs": [
    {
     "data": {
      "application/vnd.jupyter.widget-view+json": {
       "model_id": "c220b558252f47f98dee7852f3f3fae9",
       "version_major": 2,
       "version_minor": 0
      },
      "text/plain": [
       "VBox()"
      ]
     },
     "metadata": {},
     "output_type": "display_data"
    },
    {
     "name": "stdout",
     "output_type": "stream",
     "text": [
      "Starting Spark application\n"
     ]
    },
    {
     "data": {
      "text/html": [
       "<table>\n",
       "<tr><th>ID</th><th>YARN Application ID</th><th>Kind</th><th>State</th><th>Spark UI</th><th>Driver log</th><th>Current session?</th></tr><tr><td>4</td><td>application_1662614190151_0020</td><td>pyspark</td><td>idle</td><td><a target=\"_blank\" href=\"http://ip-20-0-4-35.ap-south-1.compute.internal:20888/proxy/application_1662614190151_0020/\" class=\"emr-proxy-link\" emr-resource=\"j-2WPXWNOLTB9IX\n",
       "\" application-id=\"application_1662614190151_0020\">Link</a></td><td><a target=\"_blank\" href=\"http://ip-20-0-4-247.ap-south-1.compute.internal:8042/node/containerlogs/container_1662614190151_0020_01_000002/livy\" >Link</a></td><td>✔</td></tr></table>"
      ],
      "text/plain": [
       "<IPython.core.display.HTML object>"
      ]
     },
     "metadata": {},
     "output_type": "display_data"
    },
    {
     "data": {
      "application/vnd.jupyter.widget-view+json": {
       "model_id": "",
       "version_major": 2,
       "version_minor": 0
      },
      "text/plain": [
       "FloatProgress(value=0.0, bar_style='info', description='Progress:', layout=Layout(height='25px', width='50%'),…"
      ]
     },
     "metadata": {},
     "output_type": "display_data"
    },
    {
     "name": "stdout",
     "output_type": "stream",
     "text": [
      "SparkSession available as 'spark'.\n"
     ]
    },
    {
     "data": {
      "application/vnd.jupyter.widget-view+json": {
       "model_id": "",
       "version_major": 2,
       "version_minor": 0
      },
      "text/plain": [
       "FloatProgress(value=0.0, bar_style='info', description='Progress:', layout=Layout(height='25px', width='50%'),…"
      ]
     },
     "metadata": {},
     "output_type": "display_data"
    }
   ],
   "source": [
    "ARMSDataDF = spark.read.csv('s3://sjet-datamart-bucket/precog/pilot-info/', header=True)"
   ]
  },
  {
   "cell_type": "code",
   "execution_count": 3,
   "id": "fec2775c-ce54-4ceb-9caa-03321196e1b2",
   "metadata": {
    "execution": {
     "iopub.execute_input": "2022-09-08T10:13:02.913870Z",
     "iopub.status.busy": "2022-09-08T10:13:02.913615Z",
     "iopub.status.idle": "2022-09-08T10:13:10.216247Z",
     "shell.execute_reply": "2022-09-08T10:13:10.215669Z",
     "shell.execute_reply.started": "2022-09-08T10:13:02.913846Z"
    },
    "tags": []
   },
   "outputs": [
    {
     "data": {
      "application/vnd.jupyter.widget-view+json": {
       "model_id": "e67ac9801c3f4c88bf5b136632fea642",
       "version_major": 2,
       "version_minor": 0
      },
      "text/plain": [
       "VBox()"
      ]
     },
     "metadata": {},
     "output_type": "display_data"
    },
    {
     "data": {
      "application/vnd.jupyter.widget-view+json": {
       "model_id": "",
       "version_major": 2,
       "version_minor": 0
      },
      "text/plain": [
       "FloatProgress(value=0.0, bar_style='info', description='Progress:', layout=Layout(height='25px', width='50%'),…"
      ]
     },
     "metadata": {},
     "output_type": "display_data"
    }
   ],
   "source": [
    "dftest = spark.read.parquet('s3://sjet-datamart-bucket/precog/precog-processed-data1/q400/q400128wps/year=2021/month=December/')"
   ]
  },
  {
   "cell_type": "code",
   "execution_count": 4,
   "id": "67a81f80-6433-4e2f-85ae-70097fa77e77",
   "metadata": {
    "execution": {
     "iopub.execute_input": "2022-09-08T10:13:33.363185Z",
     "iopub.status.busy": "2022-09-08T10:13:33.362967Z",
     "iopub.status.idle": "2022-09-08T10:13:38.656326Z",
     "shell.execute_reply": "2022-09-08T10:13:38.655728Z",
     "shell.execute_reply.started": "2022-09-08T10:13:33.363162Z"
    },
    "tags": []
   },
   "outputs": [
    {
     "data": {
      "application/vnd.jupyter.widget-view+json": {
       "model_id": "36972b6683b24abaad35555159e6cc47",
       "version_major": 2,
       "version_minor": 0
      },
      "text/plain": [
       "VBox()"
      ]
     },
     "metadata": {},
     "output_type": "display_data"
    },
    {
     "data": {
      "application/vnd.jupyter.widget-view+json": {
       "model_id": "",
       "version_major": 2,
       "version_minor": 0
      },
      "text/plain": [
       "FloatProgress(value=0.0, bar_style='info', description='Progress:', layout=Layout(height='25px', width='50%'),…"
      ]
     },
     "metadata": {},
     "output_type": "display_data"
    },
    {
     "name": "stdout",
     "output_type": "stream",
     "text": [
      "+--------+-----------------+----------------+----------+--------+------+---------+------+---------------+-----+-------------------+-------------------+-------------------+------+------------+-------------+-------+------+---------+-------+--------+----------+------------+------------+---------------------------+--------------+----------------+--------------+-------------+--------------+--------+--------+-------------------+--------------------+-------------------------+---------------------+-------------------+----------------------+------------+----------------------+-------------+-----------------+-----------------+---------------+---------------+-----------------+-----------------+-----------------+-----------------+------------------+---------------------+----------------------+---------------+---------------+--------------------------+----------------------------+--------------+--------------+-----------------+-----------------+----------+----------+----------------+-----------------+-------------------------+-------------------------+----------------------+--------------------------------------------------------+-----------------------+------------+-------------+\n",
      "|FlightID|DesigFlightNumber|FlightNumberARMS|FlightDate|FromCity|ToCity|BlockTime|ECN   |EmployeeName   |RANK |ChocksOff          |ChocksOn           |CurrentTime        |DOMINT|AircraftType|AircraftModel|Payload|TailNo|Departure|Arrival|FlightNo|Date      |Time-In-Secs|Time-Per-Sec|BARO-CORRECTED-PALT-DERIVED|Altitude-BaroL|Magnetic-Heading|Pitch-Attitude|Roll-Attitude|Radio-Altitude|Nose-WOW|Main-WOW|Normal-Acceleration|Lateral-Acceleration|Longitudinal-Acceleration|Calibrated-Airspeed-L|AFCS-Selected-Speed|Vertical-Speed-Derived|Ground-Speed|Flap-Control-Selection|FLAP-POSITION|Power-Lever-Pos-L|Power-Lever-Pos-R|Torque-TQ-Eng-L|Torque-TQ-Eng-R|Condition-Lever-L|Condition-Lever-R|Prop-RPM-Np-Eng-L|Prop-RPM-Np-Eng-R|GPWS-Alert/Warning|GPWS-Glideslope-Alert|AFCS-Glideslope-Active|AFCS-LOC-Active|AFCS-VOR-Active|GLIDE-PATH-DEV-PILOT-ABOVE|GLIDE-PATH-DEV-COPILOT-ABOVE|DME-DISTANCE-1|DME-DISTANCE-2|VOR-1-SELECT-FREQ|VOR-2-SELECT-FREQ|WIND-ANGLE|WIND-SPEED|BRAKE-PRESS-LEFT|BRAKE-PRESS-RIGHT|Thrust-Rev-Low-Beta-Eng-L|Thrust-Rev-Low-Beta-Eng-R|AFCS-Autopilot-Engaged|FileName                                                |LoadedDate             |LoadedBy    |DataFrameName|\n",
      "+--------+-----------------+----------------+----------+--------+------+---------+------+---------------+-----+-------------------+-------------------+-------------------+------+------------+-------------+-------+------+---------+-------+--------+----------+------------+------------+---------------------------+--------------+----------------+--------------+-------------+--------------+--------+--------+-------------------+--------------------+-------------------------+---------------------+-------------------+----------------------+------------+----------------------+-------------+-----------------+-----------------+---------------+---------------+-----------------+-----------------+-----------------+-----------------+------------------+---------------------+----------------------+---------------+---------------+--------------------------+----------------------------+--------------+--------------+-----------------+-----------------+----------+----------+----------------+-----------------+-------------------------+-------------------------+----------------------+--------------------------------------------------------+-----------------------+------------+-------------+\n",
      "|2807066 |SG 2974          |2974            |2021-12-30|UDR     |JAI   |1:10:00  |122580|NARENDER  KUMAR|CAPT.|2021-12-30 07:40:00|2021-12-30 08:40:00|2021-12-30 07:40:00|DOM   |DHC         |DHC-         |Pax    |VT-SUD|UDR      |JAI    |SG 2974 |2021-12-30|0.0         |21308       |0                          |1400          |276.2           |D 1.4         |R 0.1        |3             |Gnd (1) |Gnd (1) |1.001              |R 0.00              |-0.03                    |0.0                  |0.0                |1400                  |1           |0.0                   |-0.1         |19.8             |19.9             |0.0            |0.0            |-0.967           |34.7             |0                |0                |No Warn (0)       |No Warn (0)          |NOT ACT (0)           |NOT ACT (0)    |NOT ACT (0)    | 0.00                     |0                           |null          |null          |null             |null             |null      |null      |0               |0                |Normal (0)               |Normal (0)               |NOT EN (0)            |ALL ac=VT-SUD dep=UDR arr=JAI fn=SEJ2974 dt=20211230.csv|2022-09-08 09:33:31.674|precog-spark|128 WPS      |\n",
      "|2807066 |SG 2974          |2974            |2021-12-30|UDR     |JAI   |1:10:00  |122580|NARENDER  KUMAR|CAPT.|2021-12-30 07:40:00|2021-12-30 08:40:00|2021-12-30 07:40:01|DOM   |DHC         |DHC-         |Pax    |VT-SUD|UDR      |JAI    |SG 2974 |2021-12-30|1.0         |null        |0                          |1400          |273.9           |D 1.4         |R 0.1        |4             |Gnd (1) |Gnd (1) |0.997              |R 0.00              |-0.04                    |0.0                  |0.0                |1400                  |1           |null                  |null         |19.8             |19.9             |0.0            |0.0            |-0.879           |34.7             |0                |0                |No Warn (0)       |No Warn (0)          |NOT ACT (0)           |NOT ACT (0)    |NOT ACT (0)    | 0.00                     |0                           |0.375         |0.375         |100              |null             |null      |null      |0               |0                |Normal (0)               |Normal (0)               |NOT EN (0)            |ALL ac=VT-SUD dep=UDR arr=JAI fn=SEJ2974 dt=20211230.csv|2022-09-08 09:33:31.674|precog-spark|128 WPS      |\n",
      "|2807066 |SG 2974          |2974            |2021-12-30|UDR     |JAI   |1:10:00  |122580|NARENDER  KUMAR|CAPT.|2021-12-30 07:40:00|2021-12-30 08:40:00|2021-12-30 07:40:02|DOM   |DHC         |DHC-         |Pax    |VT-SUD|UDR      |JAI    |SG 2974 |2021-12-30|2.0         |null        |1626                       |1400          |271.7           |D 1.4         | 0.0         |3             |Gnd (1) |Gnd (1) |0.997              |R 0.00              |-0.03                    |0.0                  |0.0                |0                     |1           |0.0                   |-0.1         |19.8             |19.9             |0.0            |0.0            |-0.879           |34.7             |0                |0                |No Warn (0)       |No Warn (0)          |NOT ACT (0)           |NOT ACT (0)    |NOT ACT (0)    | 0.00                     |0                           |null          |null          |null             |null             |0.0       |0         |0               |0                |Normal (0)               |Normal (0)               |NOT EN (0)            |ALL ac=VT-SUD dep=UDR arr=JAI fn=SEJ2974 dt=20211230.csv|2022-09-08 09:33:31.674|precog-spark|128 WPS      |\n",
      "|2807066 |SG 2974          |2974            |2021-12-30|UDR     |JAI   |1:10:00  |122580|NARENDER  KUMAR|CAPT.|2021-12-30 07:40:00|2021-12-30 08:40:00|2021-12-30 07:40:03|DOM   |DHC         |DHC-         |Pax    |VT-SUD|UDR      |JAI    |SG 2974 |2021-12-30|3.0         |null        |1626                       |1400          |269.6           |D 1.5         | 0.0         |4             |Gnd (1) |Gnd (1) |0.989              |R 0.00              |-0.03                    |0.0                  |0.0                |0                     |1           |null                  |null         |19.8             |19.9             |0.0            |0.0            |-0.879           |34.45            |0                |0                |No Warn (0)       |No Warn (0)          |NOT ACT (0)           |NOT ACT (0)    |NOT ACT (0)    | 0.00                     |0                           |null          |null          |null             |100              |null      |null      |0               |0                |Normal (0)               |Normal (0)               |NOT EN (0)            |ALL ac=VT-SUD dep=UDR arr=JAI fn=SEJ2974 dt=20211230.csv|2022-09-08 09:33:31.674|precog-spark|128 WPS      |\n",
      "|2807066 |SG 2974          |2974            |2021-12-30|UDR     |JAI   |1:10:00  |122580|NARENDER  KUMAR|CAPT.|2021-12-30 07:40:00|2021-12-30 08:40:00|2021-12-30 07:40:04|DOM   |DHC         |DHC-         |Pax    |VT-SUD|UDR      |JAI    |SG 2974 |2021-12-30|4.0         |21312       |1626                       |1400          |267.8           |D 1.5         | 0.0         |4             |Gnd (1) |Gnd (1) |0.985              |L 0.00              |-0.02                    |0.0                  |0.0                |0                     |1           |0.0                   |-0.1         |19.8             |19.9             |0.0            |0.0            |-0.791           |34.7             |0                |0                |No Warn (0)       |No Warn (0)          |NOT ACT (0)           |NOT ACT (0)    |NOT ACT (0)    | 0.00                     |0                           |null          |null          |null             |null             |null      |null      |0               |0                |Normal (0)               |Normal (0)               |NOT EN (0)            |ALL ac=VT-SUD dep=UDR arr=JAI fn=SEJ2974 dt=20211230.csv|2022-09-08 09:33:31.674|precog-spark|128 WPS      |\n",
      "+--------+-----------------+----------------+----------+--------+------+---------+------+---------------+-----+-------------------+-------------------+-------------------+------+------------+-------------+-------+------+---------+-------+--------+----------+------------+------------+---------------------------+--------------+----------------+--------------+-------------+--------------+--------+--------+-------------------+--------------------+-------------------------+---------------------+-------------------+----------------------+------------+----------------------+-------------+-----------------+-----------------+---------------+---------------+-----------------+-----------------+-----------------+-----------------+------------------+---------------------+----------------------+---------------+---------------+--------------------------+----------------------------+--------------+--------------+-----------------+-----------------+----------+----------+----------------+-----------------+-------------------------+-------------------------+----------------------+--------------------------------------------------------+-----------------------+------------+-------------+\n",
      "only showing top 5 rows"
     ]
    }
   ],
   "source": [
    "dftest.show(5,False)"
   ]
  },
  {
   "cell_type": "code",
   "execution_count": 4,
   "id": "c94d6847-7d5e-4001-aa8f-280ba439683c",
   "metadata": {
    "execution": {
     "iopub.execute_input": "2022-09-08T07:40:25.476486Z",
     "iopub.status.busy": "2022-09-08T07:40:25.476199Z",
     "iopub.status.idle": "2022-09-08T07:40:25.740044Z",
     "shell.execute_reply": "2022-09-08T07:40:25.739272Z",
     "shell.execute_reply.started": "2022-09-08T07:40:25.476453Z"
    },
    "tags": []
   },
   "outputs": [
    {
     "data": {
      "application/vnd.jupyter.widget-view+json": {
       "model_id": "0190e09c2dcb49b9832f13e56787d429",
       "version_major": 2,
       "version_minor": 0
      },
      "text/plain": [
       "VBox()"
      ]
     },
     "metadata": {},
     "output_type": "display_data"
    },
    {
     "data": {
      "application/vnd.jupyter.widget-view+json": {
       "model_id": "",
       "version_major": 2,
       "version_minor": 0
      },
      "text/plain": [
       "FloatProgress(value=0.0, bar_style='info', description='Progress:', layout=Layout(height='25px', width='50%'),…"
      ]
     },
     "metadata": {},
     "output_type": "display_data"
    }
   ],
   "source": [
    "ARMSDataDF.createOrReplaceTempView('ARMSDataDF')"
   ]
  },
  {
   "cell_type": "code",
   "execution_count": 66,
   "id": "a8b69ec3-d535-476b-8461-1b2a938ab86e",
   "metadata": {
    "execution": {
     "iopub.execute_input": "2022-09-08T08:13:28.225890Z",
     "iopub.status.busy": "2022-09-08T08:13:28.225664Z",
     "iopub.status.idle": "2022-09-08T08:13:28.989037Z",
     "shell.execute_reply": "2022-09-08T08:13:28.988378Z",
     "shell.execute_reply.started": "2022-09-08T08:13:28.225866Z"
    },
    "tags": []
   },
   "outputs": [
    {
     "data": {
      "application/vnd.jupyter.widget-view+json": {
       "model_id": "a8d5cc308f7f467eab3c88b415d03cde",
       "version_major": 2,
       "version_minor": 0
      },
      "text/plain": [
       "VBox()"
      ]
     },
     "metadata": {},
     "output_type": "display_data"
    },
    {
     "data": {
      "application/vnd.jupyter.widget-view+json": {
       "model_id": "",
       "version_major": 2,
       "version_minor": 0
      },
      "text/plain": [
       "FloatProgress(value=0.0, bar_style='info', description='Progress:', layout=Layout(height='25px', width='50%'),…"
      ]
     },
     "metadata": {},
     "output_type": "display_data"
    }
   ],
   "source": [
    "df = spark.sql('''SELECT * FROM precogdb.boeing_3_256_wps WHERE year = '2021' and month = 'November' ''')\n",
    "df.createOrReplaceTempView('df')"
   ]
  },
  {
   "cell_type": "code",
   "execution_count": 67,
   "id": "8b363421-9b29-4a44-a2f9-2a33082148ea",
   "metadata": {
    "execution": {
     "iopub.execute_input": "2022-09-08T08:13:29.491621Z",
     "iopub.status.busy": "2022-09-08T08:13:29.491403Z",
     "iopub.status.idle": "2022-09-08T08:13:29.540329Z",
     "shell.execute_reply": "2022-09-08T08:13:29.539598Z",
     "shell.execute_reply.started": "2022-09-08T08:13:29.491597Z"
    },
    "tags": []
   },
   "outputs": [
    {
     "data": {
      "application/vnd.jupyter.widget-view+json": {
       "model_id": "b0c434ff027347afab4419b13af40ef1",
       "version_major": 2,
       "version_minor": 0
      },
      "text/plain": [
       "VBox()"
      ]
     },
     "metadata": {},
     "output_type": "display_data"
    },
    {
     "data": {
      "application/vnd.jupyter.widget-view+json": {
       "model_id": "",
       "version_major": 2,
       "version_minor": 0
      },
      "text/plain": [
       "FloatProgress(value=0.0, bar_style='info', description='Progress:', layout=Layout(height='25px', width='50%'),…"
      ]
     },
     "metadata": {},
     "output_type": "display_data"
    }
   ],
   "source": [
    "#df.show(20,False)"
   ]
  },
  {
   "cell_type": "code",
   "execution_count": 68,
   "id": "dffaf274-7f75-42b1-a498-5848753bfd5d",
   "metadata": {
    "execution": {
     "iopub.execute_input": "2022-09-08T08:13:29.932271Z",
     "iopub.status.busy": "2022-09-08T08:13:29.932055Z",
     "iopub.status.idle": "2022-09-08T08:13:29.992126Z",
     "shell.execute_reply": "2022-09-08T08:13:29.991238Z",
     "shell.execute_reply.started": "2022-09-08T08:13:29.932247Z"
    },
    "tags": []
   },
   "outputs": [
    {
     "data": {
      "application/vnd.jupyter.widget-view+json": {
       "model_id": "82a94def2d784a2ca3675288e6de9954",
       "version_major": 2,
       "version_minor": 0
      },
      "text/plain": [
       "VBox()"
      ]
     },
     "metadata": {},
     "output_type": "display_data"
    },
    {
     "data": {
      "application/vnd.jupyter.widget-view+json": {
       "model_id": "",
       "version_major": 2,
       "version_minor": 0
      },
      "text/plain": [
       "FloatProgress(value=0.0, bar_style='info', description='Progress:', layout=Layout(height='25px', width='50%'),…"
      ]
     },
     "metadata": {},
     "output_type": "display_data"
    }
   ],
   "source": [
    "#df.columns"
   ]
  },
  {
   "cell_type": "code",
   "execution_count": 69,
   "id": "f5e5c749-5171-40a3-b15d-98221d6bd890",
   "metadata": {
    "execution": {
     "iopub.execute_input": "2022-09-08T08:13:30.633195Z",
     "iopub.status.busy": "2022-09-08T08:13:30.632978Z",
     "iopub.status.idle": "2022-09-08T08:13:30.706511Z",
     "shell.execute_reply": "2022-09-08T08:13:30.705754Z",
     "shell.execute_reply.started": "2022-09-08T08:13:30.633172Z"
    },
    "tags": []
   },
   "outputs": [
    {
     "data": {
      "application/vnd.jupyter.widget-view+json": {
       "model_id": "9143d27a113d48aaa9d9a7ebf22a8172",
       "version_major": 2,
       "version_minor": 0
      },
      "text/plain": [
       "VBox()"
      ]
     },
     "metadata": {},
     "output_type": "display_data"
    },
    {
     "data": {
      "application/vnd.jupyter.widget-view+json": {
       "model_id": "",
       "version_major": 2,
       "version_minor": 0
      },
      "text/plain": [
       "FloatProgress(value=0.0, bar_style='info', description='Progress:', layout=Layout(height='25px', width='50%'),…"
      ]
     },
     "metadata": {},
     "output_type": "display_data"
    }
   ],
   "source": [
    "Arms_Join_DF = spark.sql('''\n",
    "                                        SELECT\n",
    "                                            \n",
    "                                            DF.*,\n",
    "                                            CAST(AD.ChocksOff AS timestamp) AS ChocksOff,\n",
    "                                            CAST(AD.ChocksOn AS timestamp) AS ChocksOn\n",
    "                                           \n",
    "                                                \n",
    "                                        FROM df DF\n",
    "                                        INNER JOIN ARMSDataDF AD ON DF.FlightNo=AD.DesigFlightNumber\n",
    "                                                            AND DF.Date=AD.FlightDate\n",
    "                                                            AND DF.Departure=AD.FromCity\n",
    "                                                            AND DF.Arrival=AD.Tocity\n",
    "                                    ''')"
   ]
  },
  {
   "cell_type": "code",
   "execution_count": 70,
   "id": "16f7806b-0ca6-4cca-9a81-358a7b63fd9c",
   "metadata": {
    "execution": {
     "iopub.execute_input": "2022-09-08T08:13:31.440957Z",
     "iopub.status.busy": "2022-09-08T08:13:31.440734Z",
     "iopub.status.idle": "2022-09-08T08:13:31.502495Z",
     "shell.execute_reply": "2022-09-08T08:13:31.501779Z",
     "shell.execute_reply.started": "2022-09-08T08:13:31.440933Z"
    },
    "tags": []
   },
   "outputs": [
    {
     "data": {
      "application/vnd.jupyter.widget-view+json": {
       "model_id": "62b52587a8d74c728abc33fe122d441c",
       "version_major": 2,
       "version_minor": 0
      },
      "text/plain": [
       "VBox()"
      ]
     },
     "metadata": {},
     "output_type": "display_data"
    },
    {
     "data": {
      "application/vnd.jupyter.widget-view+json": {
       "model_id": "",
       "version_major": 2,
       "version_minor": 0
      },
      "text/plain": [
       "FloatProgress(value=0.0, bar_style='info', description='Progress:', layout=Layout(height='25px', width='50%'),…"
      ]
     },
     "metadata": {},
     "output_type": "display_data"
    }
   ],
   "source": [
    "#Arms_Join_DF.show(truncate=False)"
   ]
  },
  {
   "cell_type": "code",
   "execution_count": 71,
   "id": "39af2901-bf1d-41f5-962d-06292dd81a00",
   "metadata": {
    "execution": {
     "iopub.execute_input": "2022-09-08T08:13:32.102485Z",
     "iopub.status.busy": "2022-09-08T08:13:32.102256Z",
     "iopub.status.idle": "2022-09-08T08:13:32.397360Z",
     "shell.execute_reply": "2022-09-08T08:13:32.396655Z",
     "shell.execute_reply.started": "2022-09-08T08:13:32.102461Z"
    },
    "tags": []
   },
   "outputs": [
    {
     "data": {
      "application/vnd.jupyter.widget-view+json": {
       "model_id": "c8423dde82d84f9aa154b203b6d94dee",
       "version_major": 2,
       "version_minor": 0
      },
      "text/plain": [
       "VBox()"
      ]
     },
     "metadata": {},
     "output_type": "display_data"
    },
    {
     "data": {
      "application/vnd.jupyter.widget-view+json": {
       "model_id": "",
       "version_major": 2,
       "version_minor": 0
      },
      "text/plain": [
       "FloatProgress(value=0.0, bar_style='info', description='Progress:', layout=Layout(height='25px', width='50%'),…"
      ]
     },
     "metadata": {},
     "output_type": "display_data"
    }
   ],
   "source": [
    "Arms_Join_DF.createOrReplaceTempView('Test')"
   ]
  },
  {
   "cell_type": "code",
   "execution_count": 72,
   "id": "6da1ba55-9aa2-4dc9-9c7d-2615debead14",
   "metadata": {
    "execution": {
     "iopub.execute_input": "2022-09-08T08:13:33.126059Z",
     "iopub.status.busy": "2022-09-08T08:13:33.125787Z",
     "iopub.status.idle": "2022-09-08T08:13:33.202237Z",
     "shell.execute_reply": "2022-09-08T08:13:33.201522Z",
     "shell.execute_reply.started": "2022-09-08T08:13:33.126018Z"
    },
    "tags": []
   },
   "outputs": [
    {
     "data": {
      "application/vnd.jupyter.widget-view+json": {
       "model_id": "d3126233458142d7a1424b13491f4633",
       "version_major": 2,
       "version_minor": 0
      },
      "text/plain": [
       "VBox()"
      ]
     },
     "metadata": {},
     "output_type": "display_data"
    },
    {
     "data": {
      "application/vnd.jupyter.widget-view+json": {
       "model_id": "",
       "version_major": 2,
       "version_minor": 0
      },
      "text/plain": [
       "FloatProgress(value=0.0, bar_style='info', description='Progress:', layout=Layout(height='25px', width='50%'),…"
      ]
     },
     "metadata": {},
     "output_type": "display_data"
    }
   ],
   "source": [
    "#spark.sql('''SELECT DATEADD(ss, 4000, 'ChockOff') AS DateAdd \n",
    "                #FROM Test ''').show(1, False)"
   ]
  },
  {
   "cell_type": "code",
   "execution_count": 73,
   "id": "c3fecf59-7566-4ad5-9e54-17c2357bac37",
   "metadata": {
    "execution": {
     "iopub.execute_input": "2022-09-08T08:13:34.410695Z",
     "iopub.status.busy": "2022-09-08T08:13:34.410475Z",
     "iopub.status.idle": "2022-09-08T08:13:34.460466Z",
     "shell.execute_reply": "2022-09-08T08:13:34.459781Z",
     "shell.execute_reply.started": "2022-09-08T08:13:34.410670Z"
    },
    "tags": []
   },
   "outputs": [
    {
     "data": {
      "application/vnd.jupyter.widget-view+json": {
       "model_id": "421fe4f75852462d85ec8bc23725e35d",
       "version_major": 2,
       "version_minor": 0
      },
      "text/plain": [
       "VBox()"
      ]
     },
     "metadata": {},
     "output_type": "display_data"
    },
    {
     "data": {
      "application/vnd.jupyter.widget-view+json": {
       "model_id": "",
       "version_major": 2,
       "version_minor": 0
      },
      "text/plain": [
       "FloatProgress(value=0.0, bar_style='info', description='Progress:', layout=Layout(height='25px', width='50%'),…"
      ]
     },
     "metadata": {},
     "output_type": "display_data"
    }
   ],
   "source": [
    "from pyspark.sql.functions import *\n",
    "from pyspark.sql.types import StringType"
   ]
  },
  {
   "cell_type": "code",
   "execution_count": 74,
   "id": "3e009271-8b56-41fd-8e94-d75fb1548022",
   "metadata": {
    "execution": {
     "iopub.execute_input": "2022-09-08T08:13:34.962554Z",
     "iopub.status.busy": "2022-09-08T08:13:34.962339Z",
     "iopub.status.idle": "2022-09-08T08:13:35.230807Z",
     "shell.execute_reply": "2022-09-08T08:13:35.230175Z",
     "shell.execute_reply.started": "2022-09-08T08:13:34.962532Z"
    },
    "tags": []
   },
   "outputs": [
    {
     "data": {
      "application/vnd.jupyter.widget-view+json": {
       "model_id": "7231c694e0934d579cdc7dc7c118c7b7",
       "version_major": 2,
       "version_minor": 0
      },
      "text/plain": [
       "VBox()"
      ]
     },
     "metadata": {},
     "output_type": "display_data"
    },
    {
     "data": {
      "application/vnd.jupyter.widget-view+json": {
       "model_id": "",
       "version_major": 2,
       "version_minor": 0
      },
      "text/plain": [
       "FloatProgress(value=0.0, bar_style='info', description='Progress:', layout=Layout(height='25px', width='50%'),…"
      ]
     },
     "metadata": {},
     "output_type": "display_data"
    }
   ],
   "source": [
    "df2 = Arms_Join_DF.withColumn(\"timestamp_1\", unix_timestamp(col(\"ChocksOff\")))"
   ]
  },
  {
   "cell_type": "code",
   "execution_count": 75,
   "id": "b65e1e2c-2738-49eb-bac6-99da78d3fdd1",
   "metadata": {
    "execution": {
     "iopub.execute_input": "2022-09-08T08:13:36.639504Z",
     "iopub.status.busy": "2022-09-08T08:13:36.639265Z",
     "iopub.status.idle": "2022-09-08T08:13:36.907027Z",
     "shell.execute_reply": "2022-09-08T08:13:36.906394Z",
     "shell.execute_reply.started": "2022-09-08T08:13:36.639481Z"
    },
    "tags": []
   },
   "outputs": [
    {
     "data": {
      "application/vnd.jupyter.widget-view+json": {
       "model_id": "10cb3d5d8fee4383b80b0835a857a02a",
       "version_major": 2,
       "version_minor": 0
      },
      "text/plain": [
       "VBox()"
      ]
     },
     "metadata": {},
     "output_type": "display_data"
    },
    {
     "data": {
      "application/vnd.jupyter.widget-view+json": {
       "model_id": "",
       "version_major": 2,
       "version_minor": 0
      },
      "text/plain": [
       "FloatProgress(value=0.0, bar_style='info', description='Progress:', layout=Layout(height='25px', width='50%'),…"
      ]
     },
     "metadata": {},
     "output_type": "display_data"
    }
   ],
   "source": [
    "df2.createOrReplaceTempView('test2')"
   ]
  },
  {
   "cell_type": "code",
   "execution_count": 76,
   "id": "5b5139a4-0980-4aff-9ac7-c33103171df0",
   "metadata": {
    "execution": {
     "iopub.execute_input": "2022-09-08T08:13:38.218738Z",
     "iopub.status.busy": "2022-09-08T08:13:38.218507Z",
     "iopub.status.idle": "2022-09-08T08:13:38.285722Z",
     "shell.execute_reply": "2022-09-08T08:13:38.284903Z",
     "shell.execute_reply.started": "2022-09-08T08:13:38.218714Z"
    },
    "tags": []
   },
   "outputs": [
    {
     "data": {
      "application/vnd.jupyter.widget-view+json": {
       "model_id": "dbb8ab88c23b471584028cd0026a3e21",
       "version_major": 2,
       "version_minor": 0
      },
      "text/plain": [
       "VBox()"
      ]
     },
     "metadata": {},
     "output_type": "display_data"
    },
    {
     "data": {
      "application/vnd.jupyter.widget-view+json": {
       "model_id": "",
       "version_major": 2,
       "version_minor": 0
      },
      "text/plain": [
       "FloatProgress(value=0.0, bar_style='info', description='Progress:', layout=Layout(height='25px', width='50%'),…"
      ]
     },
     "metadata": {},
     "output_type": "display_data"
    }
   ],
   "source": [
    "df3 = spark.sql('''\n",
    "                    SELECT * , CAST(`time_secs` AS INT) + CAST(timestamp_1 AS INT) AS Time1 \n",
    "                    FROM test2 \n",
    "                ''')\n",
    "#df3.show(1,False)"
   ]
  },
  {
   "cell_type": "code",
   "execution_count": 77,
   "id": "3784fdef-86b1-4e0a-a5b5-2af0d3a3866d",
   "metadata": {
    "execution": {
     "iopub.execute_input": "2022-09-08T08:13:39.563872Z",
     "iopub.status.busy": "2022-09-08T08:13:39.563644Z",
     "iopub.status.idle": "2022-09-08T08:13:39.836748Z",
     "shell.execute_reply": "2022-09-08T08:13:39.836129Z",
     "shell.execute_reply.started": "2022-09-08T08:13:39.563846Z"
    },
    "tags": []
   },
   "outputs": [
    {
     "data": {
      "application/vnd.jupyter.widget-view+json": {
       "model_id": "4cda03fdae724405b0a66b43ce1ec7ee",
       "version_major": 2,
       "version_minor": 0
      },
      "text/plain": [
       "VBox()"
      ]
     },
     "metadata": {},
     "output_type": "display_data"
    },
    {
     "data": {
      "application/vnd.jupyter.widget-view+json": {
       "model_id": "",
       "version_major": 2,
       "version_minor": 0
      },
      "text/plain": [
       "FloatProgress(value=0.0, bar_style='info', description='Progress:', layout=Layout(height='25px', width='50%'),…"
      ]
     },
     "metadata": {},
     "output_type": "display_data"
    }
   ],
   "source": [
    "df3.createOrReplaceTempView('test3')"
   ]
  },
  {
   "cell_type": "code",
   "execution_count": 78,
   "id": "f611e4e1-a941-4abc-b74e-e93c1896038b",
   "metadata": {
    "execution": {
     "iopub.execute_input": "2022-09-08T08:13:44.822214Z",
     "iopub.status.busy": "2022-09-08T08:13:44.821866Z",
     "iopub.status.idle": "2022-09-08T08:13:45.095981Z",
     "shell.execute_reply": "2022-09-08T08:13:45.095329Z",
     "shell.execute_reply.started": "2022-09-08T08:13:44.822173Z"
    },
    "tags": []
   },
   "outputs": [
    {
     "data": {
      "application/vnd.jupyter.widget-view+json": {
       "model_id": "1fed66cf0ca54f558a03c7e27f02f440",
       "version_major": 2,
       "version_minor": 0
      },
      "text/plain": [
       "VBox()"
      ]
     },
     "metadata": {},
     "output_type": "display_data"
    },
    {
     "data": {
      "application/vnd.jupyter.widget-view+json": {
       "model_id": "",
       "version_major": 2,
       "version_minor": 0
      },
      "text/plain": [
       "FloatProgress(value=0.0, bar_style='info', description='Progress:', layout=Layout(height='25px', width='50%'),…"
      ]
     },
     "metadata": {},
     "output_type": "display_data"
    }
   ],
   "source": [
    "df4 = df3.withColumn(\"CurrentTime\", col(\"Time1\").cast(\"timestamp\"))\n",
    "df4.createOrReplaceTempView('test3')\n"
   ]
  },
  {
   "cell_type": "code",
   "execution_count": 46,
   "id": "028aa87e-fd66-4bed-bb64-32d5e109cb11",
   "metadata": {
    "execution": {
     "iopub.execute_input": "2022-09-08T07:57:26.542727Z",
     "iopub.status.busy": "2022-09-08T07:57:26.542502Z",
     "iopub.status.idle": "2022-09-08T07:57:33.821937Z",
     "shell.execute_reply": "2022-09-08T07:57:33.821362Z",
     "shell.execute_reply.started": "2022-09-08T07:57:26.542704Z"
    },
    "tags": []
   },
   "outputs": [
    {
     "data": {
      "application/vnd.jupyter.widget-view+json": {
       "model_id": "7c0c61da958646ffb7d25e818d343eac",
       "version_major": 2,
       "version_minor": 0
      },
      "text/plain": [
       "VBox()"
      ]
     },
     "metadata": {},
     "output_type": "display_data"
    },
    {
     "data": {
      "application/vnd.jupyter.widget-view+json": {
       "model_id": "",
       "version_major": 2,
       "version_minor": 0
      },
      "text/plain": [
       "FloatProgress(value=0.0, bar_style='info', description='Progress:', layout=Layout(height='25px', width='50%'),…"
      ]
     },
     "metadata": {},
     "output_type": "display_data"
    },
    {
     "name": "stdout",
     "output_type": "stream",
     "text": [
      "+------------------+\n",
      "|te_flap_posn-right|\n",
      "+------------------+\n",
      "|1.0               |\n",
      "|14.2              |\n",
      "|29.4              |\n",
      "|28.7              |\n",
      "|14.4              |\n",
      "+------------------+\n",
      "only showing top 5 rows"
     ]
    }
   ],
   "source": [
    "#df4.select('te_flap_posn-right').distinct().show(5,False)"
   ]
  },
  {
   "cell_type": "code",
   "execution_count": 79,
   "id": "5bea08c4-2ba0-4e66-9b39-d1d0d5a73818",
   "metadata": {
    "execution": {
     "iopub.execute_input": "2022-09-08T08:13:56.134991Z",
     "iopub.status.busy": "2022-09-08T08:13:56.134768Z",
     "iopub.status.idle": "2022-09-08T08:14:35.508451Z",
     "shell.execute_reply": "2022-09-08T08:14:35.507818Z",
     "shell.execute_reply.started": "2022-09-08T08:13:56.134968Z"
    },
    "tags": []
   },
   "outputs": [
    {
     "data": {
      "application/vnd.jupyter.widget-view+json": {
       "model_id": "e5233b7768494f709312167c083ab127",
       "version_major": 2,
       "version_minor": 0
      },
      "text/plain": [
       "VBox()"
      ]
     },
     "metadata": {},
     "output_type": "display_data"
    },
    {
     "data": {
      "application/vnd.jupyter.widget-view+json": {
       "model_id": "",
       "version_major": 2,
       "version_minor": 0
      },
      "text/plain": [
       "FloatProgress(value=0.0, bar_style='info', description='Progress:', layout=Layout(height='25px', width='50%'),…"
      ]
     },
     "metadata": {},
     "output_type": "display_data"
    }
   ],
   "source": [
    "df4.write.mode(\"append\").partitionBy(\"year\", \"month\").parquet('s3://sjet-datamart-bucket/precog/final/boeing/boeing-3-256-wps/')"
   ]
  },
  {
   "cell_type": "code",
   "execution_count": null,
   "id": "5d3deb00-5aa5-48f7-ab67-a1fa26491aee",
   "metadata": {},
   "outputs": [],
   "source": []
  },
  {
   "cell_type": "code",
   "execution_count": null,
   "id": "a39859ca-7371-49ed-8615-3c06680a7dfe",
   "metadata": {},
   "outputs": [],
   "source": []
  },
  {
   "cell_type": "code",
   "execution_count": null,
   "id": "6eb354f6-ee49-484f-a057-14322b179ebd",
   "metadata": {},
   "outputs": [],
   "source": []
  },
  {
   "cell_type": "code",
   "execution_count": null,
   "id": "d26e2c0c-cf4a-4e7b-adfb-5470a6be22e8",
   "metadata": {},
   "outputs": [],
   "source": []
  },
  {
   "cell_type": "code",
   "execution_count": null,
   "id": "b18c395c-b5fc-4f04-9e41-495398b0a73a",
   "metadata": {},
   "outputs": [],
   "source": []
  },
  {
   "cell_type": "code",
   "execution_count": null,
   "id": "6811d40e-c5be-4c86-be57-a5b43c7c6426",
   "metadata": {},
   "outputs": [],
   "source": []
  },
  {
   "cell_type": "code",
   "execution_count": 20,
   "id": "d30b5085-5c04-410a-97b4-8611201fbaa0",
   "metadata": {
    "execution": {
     "iopub.execute_input": "2022-09-05T07:30:33.736130Z",
     "iopub.status.busy": "2022-09-05T07:30:33.735909Z",
     "iopub.status.idle": "2022-09-05T07:30:41.045544Z",
     "shell.execute_reply": "2022-09-05T07:30:41.044899Z",
     "shell.execute_reply.started": "2022-09-05T07:30:33.736108Z"
    }
   },
   "outputs": [
    {
     "data": {
      "application/vnd.jupyter.widget-view+json": {
       "model_id": "b06feb7b5ce047b2b4d2228aa91b3323",
       "version_major": 2,
       "version_minor": 0
      },
      "text/plain": [
       "VBox()"
      ]
     },
     "metadata": {},
     "output_type": "display_data"
    },
    {
     "data": {
      "application/vnd.jupyter.widget-view+json": {
       "model_id": "",
       "version_major": 2,
       "version_minor": 0
      },
      "text/plain": [
       "FloatProgress(value=0.0, bar_style='info', description='Progress:', layout=Layout(height='25px', width='50%'),…"
      ]
     },
     "metadata": {},
     "output_type": "display_data"
    }
   ],
   "source": []
  },
  {
   "cell_type": "code",
   "execution_count": 21,
   "id": "a40f637b-5521-4778-9905-548fd0c69370",
   "metadata": {
    "execution": {
     "iopub.execute_input": "2022-09-05T07:31:12.922899Z",
     "iopub.status.busy": "2022-09-05T07:31:12.922682Z",
     "iopub.status.idle": "2022-09-05T07:31:15.214187Z",
     "shell.execute_reply": "2022-09-05T07:31:15.213545Z",
     "shell.execute_reply.started": "2022-09-05T07:31:12.922878Z"
    }
   },
   "outputs": [
    {
     "data": {
      "application/vnd.jupyter.widget-view+json": {
       "model_id": "6f1946ace0dc49c8a005b230d930dddc",
       "version_major": 2,
       "version_minor": 0
      },
      "text/plain": [
       "VBox()"
      ]
     },
     "metadata": {},
     "output_type": "display_data"
    },
    {
     "data": {
      "application/vnd.jupyter.widget-view+json": {
       "model_id": "",
       "version_major": 2,
       "version_minor": 0
      },
      "text/plain": [
       "FloatProgress(value=0.0, bar_style='info', description='Progress:', layout=Layout(height='25px', width='50%'),…"
      ]
     },
     "metadata": {},
     "output_type": "display_data"
    },
    {
     "name": "stdout",
     "output_type": "stream",
     "text": [
      "+--------+-----------------+----------------+----------+--------+------+---------+------+----------------+-----+------+------------+-------------+-------+------------+------+---------+-------+--------+----------+------------+------------+---------------------------+--------------+----------------+--------------+-------------+--------------+--------+--------+-------------------+--------------------+-------------------------+---------------------+-------------------+----------------------+------------+----------------------+-------------+-----------------+-----------------+---------------+---------------+-----------------+-----------------+-----------------+-----------------+------------------+---------------------+----------------------+---------------+---------------+--------------------------+----------------------------+--------------+--------------+-----------------+-----------------+----------+----------+----------------+-----------------+-------------------------+-------------------------+----------------------+--------------------------------------------------------+-----------------------+------------+-------------+\n",
      "|FlightID|DesigFlightNumber|FlightNumberARMS|FlightDate|FromCity|ToCity|BlockTime|ECN   |EmployeeName    |RANK |DOMINT|AircraftType|AircraftModel|Payload|Manufacturer|TailNo|Departure|Arrival|FlightNo|Date      |Time-In-Secs|Time-Per-Sec|BARO-CORRECTED-PALT-DERIVED|Altitude-BaroL|Magnetic-Heading|Pitch-Attitude|Roll-Attitude|Radio-Altitude|Nose-WOW|Main-WOW|Normal-Acceleration|Lateral-Acceleration|Longitudinal-Acceleration|Calibrated-Airspeed-L|AFCS-Selected-Speed|Vertical-Speed-Derived|Ground-Speed|Flap-Control-Selection|FLAP-POSITION|Power-Lever-Pos-L|Power-Lever-Pos-R|Torque-TQ-Eng-L|Torque-TQ-Eng-R|Condition-Lever-L|Condition-Lever-R|Prop-RPM-Np-Eng-L|Prop-RPM-Np-Eng-R|GPWS-Alert/Warning|GPWS-Glideslope-Alert|AFCS-Glideslope-Active|AFCS-LOC-Active|AFCS-VOR-Active|GLIDE-PATH-DEV-PILOT-ABOVE|GLIDE-PATH-DEV-COPILOT-ABOVE|DME-DISTANCE-1|DME-DISTANCE-2|VOR-1-SELECT-FREQ|VOR-2-SELECT-FREQ|WIND-ANGLE|WIND-SPEED|BRAKE-PRESS-LEFT|BRAKE-PRESS-RIGHT|Thrust-Rev-Low-Beta-Eng-L|Thrust-Rev-Low-Beta-Eng-R|AFCS-Autopilot-Engaged|FileName                                                |LoadedDate             |LoadedBy    |DataFrameName|\n",
      "+--------+-----------------+----------------+----------+--------+------+---------+------+----------------+-----+------+------------+-------------+-------+------------+------+---------+-------+--------+----------+------------+------------+---------------------------+--------------+----------------+--------------+-------------+--------------+--------+--------+-------------------+--------------------+-------------------------+---------------------+-------------------+----------------------+------------+----------------------+-------------+-----------------+-----------------+---------------+---------------+-----------------+-----------------+-----------------+-----------------+------------------+---------------------+----------------------+---------------+---------------+--------------------------+----------------------------+--------------+--------------+-----------------+-----------------+----------+----------+----------------+-----------------+-------------------------+-------------------------+----------------------+--------------------------------------------------------+-----------------------+------------+-------------+\n",
      "|2797485 |SG 3002          |3002            |2021-11-30|BOM     |KQH   |2:10:00  |126810|VIRENDER  SEJWAL|CAPT.|DOM   |DHC         |DHC-         |Pax    |Q400        |VT-SUO|BOM      |KQH    |SG 3002 |2021-11-30|0.0         |71730       |0                          |84            |116.4           |D 1.4         |R 0.1        |1             |Gnd (1) |Gnd (1) |0.989              |R 0.01              |-0.02                    |0.0                  |0.0                |84                    |2           |0.0                   |-0.1         |19.7             |19.6             |0.0            |0.0            |-1.1426          |34.8             |0                |0                |No Warn (0)       |No Warn (0)          |NOT ACT (0)           |NOT ACT (0)    |NOT ACT (0)    | 0.00                     |0                           |null          |null          |null             |null             |null      |null      |0               |0                |Normal (0)               |Normal (0)               |NOT EN (0)            |ALL ac=VT-SUO dep=BOM arr=KQH fn=SG 3002 dt=20211130.csv|2022-09-05 07:26:22.844|precog-spark|128 WPS      |\n",
      "|2797485 |SG 3002          |3002            |2021-11-30|BOM     |KQH   |2:10:00  |126810|VIRENDER  SEJWAL|CAPT.|DOM   |DHC         |DHC-         |Pax    |Q400        |VT-SUO|BOM      |KQH    |SG 3002 |2021-11-30|1.0         |null        |0                          |84            |118.4           |D 1.4         |R 0.1        |1             |Gnd (1) |Gnd (1) |0.993              |L 0.01              |-0.02                    |0.0                  |0.0                |84                    |2           |null                  |null         |19.7             |19.6             |0.0            |0.0            |-1.1426          |34.8             |0                |0                |No Warn (0)       |No Warn (0)          |NOT ACT (0)           |NOT ACT (0)    |NOT ACT (0)    | 0.00                     |0                           |0.625         |0.625         |100              |null             |null      |null      |0               |0                |Normal (0)               |Normal (0)               |NOT EN (0)            |ALL ac=VT-SUO dep=BOM arr=KQH fn=SG 3002 dt=20211130.csv|2022-09-05 07:26:22.844|precog-spark|128 WPS      |\n",
      "|2797485 |SG 3002          |3002            |2021-11-30|BOM     |KQH   |2:10:00  |126810|VIRENDER  SEJWAL|CAPT.|DOM   |DHC         |DHC-         |Pax    |Q400        |VT-SUO|BOM      |KQH    |SG 3002 |2021-11-30|2.0         |null        |103                        |84            |120.4           |D 1.5         | 0.0         |1             |Gnd (1) |Gnd (1) |0.993              |L 0.03              |-0.02                    |0.0                  |0.0                |0                     |2           |0.0                   |-0.1         |19.7             |19.6             |0.0            |0.0            |-1.1426          |34.8             |0                |0                |No Warn (0)       |No Warn (0)          |NOT ACT (0)           |NOT ACT (0)    |NOT ACT (0)    | 0.00                     |0                           |null          |null          |null             |null             |0.0       |0         |0               |0                |Normal (0)               |Normal (0)               |NOT EN (0)            |ALL ac=VT-SUO dep=BOM arr=KQH fn=SG 3002 dt=20211130.csv|2022-09-05 07:26:22.844|precog-spark|128 WPS      |\n",
      "|2797485 |SG 3002          |3002            |2021-11-30|BOM     |KQH   |2:10:00  |126810|VIRENDER  SEJWAL|CAPT.|DOM   |DHC         |DHC-         |Pax    |Q400        |VT-SUO|BOM      |KQH    |SG 3002 |2021-11-30|3.0         |null        |103                        |84            |122.3           |D 1.5         | 0.0         |1             |Gnd (1) |Gnd (1) |1.001              |L 0.01              |-0.02                    |0.0                  |0.0                |0                     |2           |null                  |null         |19.7             |19.6             |0.0            |0.0            |-1.1426          |34.8             |0                |0                |No Warn (0)       |No Warn (0)          |NOT ACT (0)           |NOT ACT (0)    |NOT ACT (0)    | 0.00                     |0                           |null          |null          |null             |116.6            |null      |null      |0               |0                |Normal (0)               |Normal (0)               |NOT EN (0)            |ALL ac=VT-SUO dep=BOM arr=KQH fn=SG 3002 dt=20211130.csv|2022-09-05 07:26:22.844|precog-spark|128 WPS      |\n",
      "|2797485 |SG 3002          |3002            |2021-11-30|BOM     |KQH   |2:10:00  |126810|VIRENDER  SEJWAL|CAPT.|DOM   |DHC         |DHC-         |Pax    |Q400        |VT-SUO|BOM      |KQH    |SG 3002 |2021-11-30|4.0         |71734       |103                        |84            |124.4           |D 1.5         | 0.0         |2             |Gnd (1) |Gnd (1) |0.997              | 0.00               |-0.02                    |0.0                  |0.0                |0                     |2           |0.0                   |0.0          |19.7             |19.6             |0.0            |0.0            |-1.1426          |34.8             |0                |0                |No Warn (0)       |No Warn (0)          |NOT ACT (0)           |NOT ACT (0)    |NOT ACT (0)    | 0.00                     |0                           |null          |null          |null             |null             |null      |null      |0               |0                |Normal (0)               |Normal (0)               |NOT EN (0)            |ALL ac=VT-SUO dep=BOM arr=KQH fn=SG 3002 dt=20211130.csv|2022-09-05 07:26:22.844|precog-spark|128 WPS      |\n",
      "+--------+-----------------+----------------+----------+--------+------+---------+------+----------------+-----+------+------------+-------------+-------+------------+------+---------+-------+--------+----------+------------+------------+---------------------------+--------------+----------------+--------------+-------------+--------------+--------+--------+-------------------+--------------------+-------------------------+---------------------+-------------------+----------------------+------------+----------------------+-------------+-----------------+-----------------+---------------+---------------+-----------------+-----------------+-----------------+-----------------+------------------+---------------------+----------------------+---------------+---------------+--------------------------+----------------------------+--------------+--------------+-----------------+-----------------+----------+----------+----------------+-----------------+-------------------------+-------------------------+----------------------+--------------------------------------------------------+-----------------------+------------+-------------+\n",
      "only showing top 5 rows"
     ]
    }
   ],
   "source": [
    "df2.show(5,False)"
   ]
  },
  {
   "cell_type": "code",
   "execution_count": null,
   "id": "44cbbdc1-9adb-4435-b6c8-486866e803fd",
   "metadata": {},
   "outputs": [],
   "source": []
  }
 ],
 "metadata": {
  "kernelspec": {
   "display_name": "PySpark",
   "language": "",
   "name": "pysparkkernel"
  },
  "language_info": {
   "codemirror_mode": {
    "name": "python",
    "version": 3
   },
   "mimetype": "text/x-python",
   "name": "pyspark",
   "pygments_lexer": "python3"
  }
 },
 "nbformat": 4,
 "nbformat_minor": 5
}
