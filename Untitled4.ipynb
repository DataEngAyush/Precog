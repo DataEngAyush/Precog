{
 "cells": [
  {
   "cell_type": "code",
   "execution_count": 1,
   "id": "64314162-708f-4200-aa4e-f86e474dbd10",
   "metadata": {
    "execution": {
     "iopub.execute_input": "2022-10-10T07:03:43.432738Z",
     "iopub.status.busy": "2022-10-10T07:03:43.432522Z",
     "iopub.status.idle": "2022-10-10T07:04:23.143865Z",
     "shell.execute_reply": "2022-10-10T07:04:23.143065Z",
     "shell.execute_reply.started": "2022-10-10T07:03:43.432714Z"
    },
    "tags": []
   },
   "outputs": [
    {
     "data": {
      "application/vnd.jupyter.widget-view+json": {
       "model_id": "80f35283b36a48339775d1cc9a7eab4f",
       "version_major": 2,
       "version_minor": 0
      },
      "text/plain": [
       "VBox()"
      ]
     },
     "metadata": {},
     "output_type": "display_data"
    },
    {
     "name": "stdout",
     "output_type": "stream",
     "text": [
      "Starting Spark application\n"
     ]
    },
    {
     "data": {
      "text/html": [
       "<table>\n",
       "<tr><th>ID</th><th>YARN Application ID</th><th>Kind</th><th>State</th><th>Spark UI</th><th>Driver log</th><th>Current session?</th></tr><tr><td>0</td><td>application_1665381138354_0014</td><td>pyspark</td><td>idle</td><td><a target=\"_blank\" href=\"http://ip-20-0-4-217.ap-south-1.compute.internal:20888/proxy/application_1665381138354_0014/\" class=\"emr-proxy-link\" emr-resource=\"j-117JLS9156QV5\n",
       "\" application-id=\"application_1665381138354_0014\">Link</a></td><td><a target=\"_blank\" href=\"http://ip-20-0-4-39.ap-south-1.compute.internal:8042/node/containerlogs/container_1665381138354_0014_01_000001/livy\" >Link</a></td><td>✔</td></tr></table>"
      ],
      "text/plain": [
       "<IPython.core.display.HTML object>"
      ]
     },
     "metadata": {},
     "output_type": "display_data"
    },
    {
     "data": {
      "application/vnd.jupyter.widget-view+json": {
       "model_id": "",
       "version_major": 2,
       "version_minor": 0
      },
      "text/plain": [
       "FloatProgress(value=0.0, bar_style='info', description='Progress:', layout=Layout(height='25px', width='50%'),…"
      ]
     },
     "metadata": {},
     "output_type": "display_data"
    },
    {
     "name": "stdout",
     "output_type": "stream",
     "text": [
      "SparkSession available as 'spark'.\n"
     ]
    },
    {
     "data": {
      "application/vnd.jupyter.widget-view+json": {
       "model_id": "",
       "version_major": 2,
       "version_minor": 0
      },
      "text/plain": [
       "FloatProgress(value=0.0, bar_style='info', description='Progress:', layout=Layout(height='25px', width='50%'),…"
      ]
     },
     "metadata": {},
     "output_type": "display_data"
    }
   ],
   "source": [
    "DF= spark.read.parquet('s3://sjet-datamart-bucket/precog/precog-processed-data/q400/q400512wps/year=2022/month=June/part-00000-fc037936-93e4-4d62-8471-e3c545a8c071.c000.snappy.parquet')"
   ]
  },
  {
   "cell_type": "code",
   "execution_count": 2,
   "id": "71e1062b-7db6-4732-9da0-359d4997c604",
   "metadata": {
    "execution": {
     "iopub.execute_input": "2022-10-10T07:05:30.397030Z",
     "iopub.status.busy": "2022-10-10T07:05:30.396704Z",
     "iopub.status.idle": "2022-10-10T07:05:41.933122Z",
     "shell.execute_reply": "2022-10-10T07:05:41.930098Z",
     "shell.execute_reply.started": "2022-10-10T07:05:30.396991Z"
    }
   },
   "outputs": [
    {
     "data": {
      "application/vnd.jupyter.widget-view+json": {
       "model_id": "7b7b375f453c4ee8b9a12a0ae7936576",
       "version_major": 2,
       "version_minor": 0
      },
      "text/plain": [
       "VBox()"
      ]
     },
     "metadata": {},
     "output_type": "display_data"
    },
    {
     "data": {
      "application/vnd.jupyter.widget-view+json": {
       "model_id": "",
       "version_major": 2,
       "version_minor": 0
      },
      "text/plain": [
       "FloatProgress(value=0.0, bar_style='info', description='Progress:', layout=Layout(height='25px', width='50%'),…"
      ]
     },
     "metadata": {},
     "output_type": "display_data"
    },
    {
     "name": "stdout",
     "output_type": "stream",
     "text": [
      "+--------+-----------------+----------------+----------+--------+------+---------+------+------------------+-----+-------------------+-------------------+------+------------+-------------+-------+------+---------+-------+--------+----------+------------+------------+---------------------------+--------------+----------------+-----------+----------+-------+----------+----------+-----------+------------+-----------------+--------------+-----------------+----------------------+---------------+----------------------+-------------+-----+-----+--------+--------+-----+-----+----+----+-------------------+--------------+--------------+--------------+--------------+------------+------------+--------------+--------------+----------+----------+--------------+--------------+----------------+-----------------+-----------------+-----------------+--------------+--------------------------------------------------------+-----------------------+------------+-------------+\n",
      "|FlightID|DesigFlightNumber|FlightNumberARMS|FlightDate|FromCity|ToCity|BlockTime|ECN   |EmployeeName      |RANK |ChocksOff          |ChocksOn           |DOMINT|AircraftType|AircraftModel|Payload|TailNo|Departure|Arrival|FlightNo|Date      |Time-In-Secs|Time-Per-Sec|BARO-CORRECTED-PALT-DERIVED|Altitude-BaroL|HEADING-MAGNETIC|PITCH-ANGLE|ROLL-ANGLE|RAD-ALT|WOW-NLG   |WOW-MLG   |ACCN-NORMAL|ACCN-LATERAL|ACCN-LONGITUDINAL|AIRSPEED-CAS-L|AFCS-SEL-AIRSPEED|VERTICAL-SPEED-Derived|FMS-GROUNDSPEED|FLAP-CONTROL-POS-Gated|FLAP-POSITION|PLA-1|PLA-2|TORQUE-1|TORQUE-2|CLA-1|CLA-2|NP-1|NP-2|EGPWS-ALERT-WARNING|EGPWS-GS-ALERT|AFCS-GS-MODE  |AFCS-LOC-MODE |AFCS-VOR-MODE |ILS-GS-DEV-1|ILS-GS-DEV-2|DME-DISTANCE-1|DME-DISTANCE-2|VOR-FREQ-1|VOR-FREQ-2|FMS-WIND-ANGLE|FMS-WIND-SPEED|BRAKE-PRESS-LEFT|BRAKE-PRESS-RIGHT|PROP-BETA-RANGE-1|PROP-BETA-RANGE-2|AP-ENGAGED    |FileName                                                |LoadedDate             |LoadedBy    |DataFrameName|\n",
      "+--------+-----------------+----------------+----------+--------+------+---------+------+------------------+-----+-------------------+-------------------+------+------------+-------------+-------+------+---------+-------+--------+----------+------------+------------+---------------------------+--------------+----------------+-----------+----------+-------+----------+----------+-----------+------------+-----------------+--------------+-----------------+----------------------+---------------+----------------------+-------------+-----+-----+--------+--------+-----+-----+----+----+-------------------+--------------+--------------+--------------+--------------+------------+------------+--------------+--------------+----------+----------+--------------+--------------+----------------+-----------------+-----------------+-----------------+--------------+--------------------------------------------------------+-----------------------+------------+-------------+\n",
      "|2880456 |SG 2747          |2747            |2022-06-09|KNU     |GOP   |01:05:00 |106102|PRAMOD KUMAR MALIK|CAPT.|2022-06-09 11:30:00|2022-06-09 12:35:00|DOM   |DHC         |DHC-         |Pax    |VT-SQA|KNU      |GOP    |SG 2747 |2022-06-09|0.0         |60405       |0                          |808           |196             |D 1.1      |R 0.1     |0      |GROUND (1)|GROUND (1)|0.997      |L 0.00      |-0.02            |0.0           |0                |808                   |0              |0                     |0.0          |19.8 |19.6 |11      |1       |34   |95   |190 |658 |NO ALERT (0)       |NO ALERT (0)  |Not Active (0)|Not Active (0)|Not Active (0)| 0.00       | 0.00       |null          |null          |null      |null      |null          |null          |47              |43               |FORWARD (0)      |BETA Range (1)   |DISENGAGED (0)|ALL ac=VT-SQA dep=KNU arr=GOP fn=SG 2747 dt=20220609.csv|2022-10-10 06:58:04.193|precog-spark|512 WPS      |\n",
      "|2880456 |SG 2747          |2747            |2022-06-09|KNU     |GOP   |01:05:00 |106102|PRAMOD KUMAR MALIK|CAPT.|2022-06-09 11:30:00|2022-06-09 12:35:00|DOM   |DHC         |DHC-         |Pax    |VT-SQA|KNU      |GOP    |SG 2747 |2022-06-09|0.125       |null        |null                       |null          |null            |null       |null      |null   |null      |null      |0.993      |null        |null             |null          |null             |null                  |null           |null                  |null         |null |null |null    |null    |null |null |null|null|null               |null          |null          |null          |null          |null        |null        |null          |null          |null      |null      |null          |null          |null            |null             |null             |null             |null          |ALL ac=VT-SQA dep=KNU arr=GOP fn=SG 2747 dt=20220609.csv|2022-10-10 06:58:04.193|precog-spark|512 WPS      |\n",
      "|2880456 |SG 2747          |2747            |2022-06-09|KNU     |GOP   |01:05:00 |106102|PRAMOD KUMAR MALIK|CAPT.|2022-06-09 11:30:00|2022-06-09 12:35:00|DOM   |DHC         |DHC-         |Pax    |VT-SQA|KNU      |GOP    |SG 2747 |2022-06-09|0.25        |null        |null                       |null          |null            |D 1.1      |null      |null   |null      |GROUND (1)|0.997      |L 0.01      |-0.02            |null          |null             |null                  |null           |null                  |null         |null |null |null    |null    |null |null |null|null|null               |null          |null          |null          |null          |null        |null        |null          |null          |null      |null      |null          |null          |null            |null             |null             |null             |null          |ALL ac=VT-SQA dep=KNU arr=GOP fn=SG 2747 dt=20220609.csv|2022-10-10 06:58:04.193|precog-spark|512 WPS      |\n",
      "|2880456 |SG 2747          |2747            |2022-06-09|KNU     |GOP   |01:05:00 |106102|PRAMOD KUMAR MALIK|CAPT.|2022-06-09 11:30:00|2022-06-09 12:35:00|DOM   |DHC         |DHC-         |Pax    |VT-SQA|KNU      |GOP    |SG 2747 |2022-06-09|0.375       |null        |null                       |null          |null            |null       |null      |null   |null      |null      |0.997      |null        |null             |null          |null             |null                  |null           |null                  |null         |null |null |null    |null    |null |null |null|null|null               |null          |null          |null          |null          |null        |null        |null          |null          |null      |null      |null          |null          |null            |null             |null             |null             |null          |ALL ac=VT-SQA dep=KNU arr=GOP fn=SG 2747 dt=20220609.csv|2022-10-10 06:58:04.193|precog-spark|512 WPS      |\n",
      "|2880456 |SG 2747          |2747            |2022-06-09|KNU     |GOP   |01:05:00 |106102|PRAMOD KUMAR MALIK|CAPT.|2022-06-09 11:30:00|2022-06-09 12:35:00|DOM   |DHC         |DHC-         |Pax    |VT-SQA|KNU      |GOP    |SG 2747 |2022-06-09|0.5         |null        |null                       |null          |null            |D 1.1      |R 0.1     |null   |null      |GROUND (1)|0.993      |R 0.00      |-0.02            |null          |null             |null                  |0              |null                  |null         |null |null |null    |null    |null |null |null|null|null               |null          |null          |null          |null          |null        |null        |null          |null          |null      |null      |null          |null          |null            |null             |null             |null             |null          |ALL ac=VT-SQA dep=KNU arr=GOP fn=SG 2747 dt=20220609.csv|2022-10-10 06:58:04.193|precog-spark|512 WPS      |\n",
      "|2880456 |SG 2747          |2747            |2022-06-09|KNU     |GOP   |01:05:00 |106102|PRAMOD KUMAR MALIK|CAPT.|2022-06-09 11:30:00|2022-06-09 12:35:00|DOM   |DHC         |DHC-         |Pax    |VT-SQA|KNU      |GOP    |SG 2747 |2022-06-09|0.625       |null        |null                       |null          |null            |null       |null      |null   |null      |null      |1.001      |null        |null             |null          |null             |null                  |null           |null                  |null         |null |null |null    |null    |null |null |null|null|null               |null          |null          |null          |null          |null        |null        |null          |null          |null      |null      |null          |null          |null            |null             |null             |null             |null          |ALL ac=VT-SQA dep=KNU arr=GOP fn=SG 2747 dt=20220609.csv|2022-10-10 06:58:04.193|precog-spark|512 WPS      |\n",
      "|2880456 |SG 2747          |2747            |2022-06-09|KNU     |GOP   |01:05:00 |106102|PRAMOD KUMAR MALIK|CAPT.|2022-06-09 11:30:00|2022-06-09 12:35:00|DOM   |DHC         |DHC-         |Pax    |VT-SQA|KNU      |GOP    |SG 2747 |2022-06-09|0.75        |null        |null                       |null          |null            |D 1.1      |null      |null   |null      |GROUND (1)|0.993      | 0.00       |-0.02            |null          |null             |null                  |null           |null                  |null         |null |null |null    |null    |null |null |null|null|null               |null          |null          |null          |null          |null        |null        |null          |null          |null      |null      |null          |null          |null            |null             |null             |null             |null          |ALL ac=VT-SQA dep=KNU arr=GOP fn=SG 2747 dt=20220609.csv|2022-10-10 06:58:04.193|precog-spark|512 WPS      |\n",
      "|2880456 |SG 2747          |2747            |2022-06-09|KNU     |GOP   |01:05:00 |106102|PRAMOD KUMAR MALIK|CAPT.|2022-06-09 11:30:00|2022-06-09 12:35:00|DOM   |DHC         |DHC-         |Pax    |VT-SQA|KNU      |GOP    |SG 2747 |2022-06-09|0.875       |null        |null                       |null          |null            |null       |null      |null   |null      |null      |0.997      |null        |null             |null          |null             |null                  |null           |null                  |null         |null |null |null    |null    |null |null |null|null|null               |null          |null          |null          |null          |null        |null        |null          |null          |null      |null      |null          |null          |null            |null             |null             |null             |null          |ALL ac=VT-SQA dep=KNU arr=GOP fn=SG 2747 dt=20220609.csv|2022-10-10 06:58:04.193|precog-spark|512 WPS      |\n",
      "|2880456 |SG 2747          |2747            |2022-06-09|KNU     |GOP   |01:05:00 |106102|PRAMOD KUMAR MALIK|CAPT.|2022-06-09 11:30:00|2022-06-09 12:35:00|DOM   |DHC         |DHC-         |Pax    |VT-SQA|KNU      |GOP    |SG 2747 |2022-06-09|1.0         |null        |0                          |808           |196             |D 1.1      |R 0.1     |0      |GROUND (1)|GROUND (1)|1.001      |L 0.01      |-0.02            |0.0           |0                |808                   |0              |null                  |null         |19.8 |19.6 |11      |1       |34   |95   |192 |659 |NO ALERT (0)       |NO ALERT (0)  |Not Active (0)|Not Active (0)|Not Active (0)|* 0.00      |* 0.00      |0.9           |0.9           |100.00    |null      |null          |null          |43              |43               |FORWARD (0)      |BETA Range (1)   |DISENGAGED (0)|ALL ac=VT-SQA dep=KNU arr=GOP fn=SG 2747 dt=20220609.csv|2022-10-10 06:58:04.193|precog-spark|512 WPS      |\n",
      "|2880456 |SG 2747          |2747            |2022-06-09|KNU     |GOP   |01:05:00 |106102|PRAMOD KUMAR MALIK|CAPT.|2022-06-09 11:30:00|2022-06-09 12:35:00|DOM   |DHC         |DHC-         |Pax    |VT-SQA|KNU      |GOP    |SG 2747 |2022-06-09|1.125       |null        |null                       |null          |null            |null       |null      |null   |null      |null      |0.997      |null        |null             |null          |null             |null                  |null           |null                  |null         |null |null |null    |null    |null |null |null|null|null               |null          |null          |null          |null          |null        |null        |null          |null          |null      |null      |null          |null          |null            |null             |null             |null             |null          |ALL ac=VT-SQA dep=KNU arr=GOP fn=SG 2747 dt=20220609.csv|2022-10-10 06:58:04.193|precog-spark|512 WPS      |\n",
      "|2880456 |SG 2747          |2747            |2022-06-09|KNU     |GOP   |01:05:00 |106102|PRAMOD KUMAR MALIK|CAPT.|2022-06-09 11:30:00|2022-06-09 12:35:00|DOM   |DHC         |DHC-         |Pax    |VT-SQA|KNU      |GOP    |SG 2747 |2022-06-09|1.25        |null        |null                       |null          |null            |D 1.1      |null      |null   |null      |GROUND (1)|0.993      |L 0.00      |-0.02            |null          |null             |null                  |null           |null                  |null         |null |null |null    |null    |null |null |null|null|null               |null          |null          |null          |null          |null        |null        |null          |null          |null      |null      |null          |null          |null            |null             |null             |null             |null          |ALL ac=VT-SQA dep=KNU arr=GOP fn=SG 2747 dt=20220609.csv|2022-10-10 06:58:04.193|precog-spark|512 WPS      |\n",
      "|2880456 |SG 2747          |2747            |2022-06-09|KNU     |GOP   |01:05:00 |106102|PRAMOD KUMAR MALIK|CAPT.|2022-06-09 11:30:00|2022-06-09 12:35:00|DOM   |DHC         |DHC-         |Pax    |VT-SQA|KNU      |GOP    |SG 2747 |2022-06-09|1.375       |null        |null                       |null          |null            |null       |null      |null   |null      |null      |0.997      |null        |null             |null          |null             |null                  |null           |null                  |null         |null |null |null    |null    |null |null |null|null|null               |null          |null          |null          |null          |null        |null        |null          |null          |null      |null      |null          |null          |null            |null             |null             |null             |null          |ALL ac=VT-SQA dep=KNU arr=GOP fn=SG 2747 dt=20220609.csv|2022-10-10 06:58:04.193|precog-spark|512 WPS      |\n",
      "|2880456 |SG 2747          |2747            |2022-06-09|KNU     |GOP   |01:05:00 |106102|PRAMOD KUMAR MALIK|CAPT.|2022-06-09 11:30:00|2022-06-09 12:35:00|DOM   |DHC         |DHC-         |Pax    |VT-SQA|KNU      |GOP    |SG 2747 |2022-06-09|1.5         |null        |null                       |null          |null            |D 1.1      |R 0.1     |null   |null      |GROUND (1)|0.997      |R 0.00      |-0.02            |null          |null             |null                  |0              |null                  |null         |null |null |null    |null    |null |null |null|null|null               |null          |null          |null          |null          |null        |null        |null          |null          |null      |null      |null          |null          |null            |null             |null             |null             |null          |ALL ac=VT-SQA dep=KNU arr=GOP fn=SG 2747 dt=20220609.csv|2022-10-10 06:58:04.193|precog-spark|512 WPS      |\n",
      "|2880456 |SG 2747          |2747            |2022-06-09|KNU     |GOP   |01:05:00 |106102|PRAMOD KUMAR MALIK|CAPT.|2022-06-09 11:30:00|2022-06-09 12:35:00|DOM   |DHC         |DHC-         |Pax    |VT-SQA|KNU      |GOP    |SG 2747 |2022-06-09|1.625       |null        |null                       |null          |null            |null       |null      |null   |null      |null      |0.993      |null        |null             |null          |null             |null                  |null           |null                  |null         |null |null |null    |null    |null |null |null|null|null               |null          |null          |null          |null          |null        |null        |null          |null          |null      |null      |null          |null          |null            |null             |null             |null             |null          |ALL ac=VT-SQA dep=KNU arr=GOP fn=SG 2747 dt=20220609.csv|2022-10-10 06:58:04.193|precog-spark|512 WPS      |\n",
      "|2880456 |SG 2747          |2747            |2022-06-09|KNU     |GOP   |01:05:00 |106102|PRAMOD KUMAR MALIK|CAPT.|2022-06-09 11:30:00|2022-06-09 12:35:00|DOM   |DHC         |DHC-         |Pax    |VT-SQA|KNU      |GOP    |SG 2747 |2022-06-09|1.75        |null        |null                       |null          |null            |D 1.1      |null      |null   |null      |GROUND (1)|0.993      | 0.00       |-0.02            |null          |null             |null                  |null           |null                  |null         |null |null |null    |null    |null |null |null|null|null               |null          |null          |null          |null          |null        |null        |null          |null          |null      |null      |null          |null          |null            |null             |null             |null             |null          |ALL ac=VT-SQA dep=KNU arr=GOP fn=SG 2747 dt=20220609.csv|2022-10-10 06:58:04.193|precog-spark|512 WPS      |\n",
      "|2880456 |SG 2747          |2747            |2022-06-09|KNU     |GOP   |01:05:00 |106102|PRAMOD KUMAR MALIK|CAPT.|2022-06-09 11:30:00|2022-06-09 12:35:00|DOM   |DHC         |DHC-         |Pax    |VT-SQA|KNU      |GOP    |SG 2747 |2022-06-09|1.875       |null        |null                       |null          |null            |null       |null      |null   |null      |null      |0.993      |null        |null             |null          |null             |null                  |null           |null                  |null         |null |null |null    |null    |null |null |null|null|null               |null          |null          |null          |null          |null        |null        |null          |null          |null      |null      |null          |null          |null            |null             |null             |null             |null          |ALL ac=VT-SQA dep=KNU arr=GOP fn=SG 2747 dt=20220609.csv|2022-10-10 06:58:04.193|precog-spark|512 WPS      |\n",
      "|2880456 |SG 2747          |2747            |2022-06-09|KNU     |GOP   |01:05:00 |106102|PRAMOD KUMAR MALIK|CAPT.|2022-06-09 11:30:00|2022-06-09 12:35:00|DOM   |DHC         |DHC-         |Pax    |VT-SQA|KNU      |GOP    |SG 2747 |2022-06-09|2.0         |null        |445                        |808           |196             |D 1.1      |R 0.1     |0      |GROUND (1)|GROUND (1)|0.997      |L 0.00      |-0.02            |0.0           |0                |808                   |0              |0                     |0.0          |19.8 |19.6 |11      |1       |34   |95   |192 |660 |NO ALERT (0)       |NO ALERT (0)  |Not Active (0)|Not Active (0)|Not Active (0)|* 0.00      |* 0.00      |null          |null          |null      |null      |0             |0             |43              |43               |FORWARD (0)      |BETA Range (1)   |DISENGAGED (0)|ALL ac=VT-SQA dep=KNU arr=GOP fn=SG 2747 dt=20220609.csv|2022-10-10 06:58:04.193|precog-spark|512 WPS      |\n",
      "|2880456 |SG 2747          |2747            |2022-06-09|KNU     |GOP   |01:05:00 |106102|PRAMOD KUMAR MALIK|CAPT.|2022-06-09 11:30:00|2022-06-09 12:35:00|DOM   |DHC         |DHC-         |Pax    |VT-SQA|KNU      |GOP    |SG 2747 |2022-06-09|2.125       |null        |null                       |null          |null            |null       |null      |null   |null      |null      |1.001      |null        |null             |null          |null             |null                  |null           |null                  |null         |null |null |null    |null    |null |null |null|null|null               |null          |null          |null          |null          |null        |null        |null          |null          |null      |null      |null          |null          |null            |null             |null             |null             |null          |ALL ac=VT-SQA dep=KNU arr=GOP fn=SG 2747 dt=20220609.csv|2022-10-10 06:58:04.193|precog-spark|512 WPS      |\n",
      "|2880456 |SG 2747          |2747            |2022-06-09|KNU     |GOP   |01:05:00 |106102|PRAMOD KUMAR MALIK|CAPT.|2022-06-09 11:30:00|2022-06-09 12:35:00|DOM   |DHC         |DHC-         |Pax    |VT-SQA|KNU      |GOP    |SG 2747 |2022-06-09|2.25        |null        |null                       |null          |null            |D 1.1      |null      |null   |null      |GROUND (1)|0.993      |L 0.01      |-0.01            |null          |null             |null                  |null           |null                  |null         |null |null |null    |null    |null |null |null|null|null               |null          |null          |null          |null          |null        |null        |null          |null          |null      |null      |null          |null          |null            |null             |null             |null             |null          |ALL ac=VT-SQA dep=KNU arr=GOP fn=SG 2747 dt=20220609.csv|2022-10-10 06:58:04.193|precog-spark|512 WPS      |\n",
      "|2880456 |SG 2747          |2747            |2022-06-09|KNU     |GOP   |01:05:00 |106102|PRAMOD KUMAR MALIK|CAPT.|2022-06-09 11:30:00|2022-06-09 12:35:00|DOM   |DHC         |DHC-         |Pax    |VT-SQA|KNU      |GOP    |SG 2747 |2022-06-09|2.375       |null        |null                       |null          |null            |null       |null      |null   |null      |null      |0.989      |null        |null             |null          |null             |null                  |null           |null                  |null         |null |null |null    |null    |null |null |null|null|null               |null          |null          |null          |null          |null        |null        |null          |null          |null      |null      |null          |null          |null            |null             |null             |null             |null          |ALL ac=VT-SQA dep=KNU arr=GOP fn=SG 2747 dt=20220609.csv|2022-10-10 06:58:04.193|precog-spark|512 WPS      |\n",
      "+--------+-----------------+----------------+----------+--------+------+---------+------+------------------+-----+-------------------+-------------------+------+------------+-------------+-------+------+---------+-------+--------+----------+------------+------------+---------------------------+--------------+----------------+-----------+----------+-------+----------+----------+-----------+------------+-----------------+--------------+-----------------+----------------------+---------------+----------------------+-------------+-----+-----+--------+--------+-----+-----+----+----+-------------------+--------------+--------------+--------------+--------------+------------+------------+--------------+--------------+----------+----------+--------------+--------------+----------------+-----------------+-----------------+-----------------+--------------+--------------------------------------------------------+-----------------------+------------+-------------+\n",
      "only showing top 20 rows"
     ]
    }
   ],
   "source": [
    "DF.show(20,False)"
   ]
  },
  {
   "cell_type": "code",
   "execution_count": null,
   "id": "ad7f8fab-1976-4194-8a52-47bfbfbfbe72",
   "metadata": {},
   "outputs": [],
   "source": []
  }
 ],
 "metadata": {
  "kernelspec": {
   "display_name": "PySpark",
   "language": "",
   "name": "pysparkkernel"
  },
  "language_info": {
   "codemirror_mode": {
    "name": "python",
    "version": 3
   },
   "mimetype": "text/x-python",
   "name": "pyspark",
   "pygments_lexer": "python3"
  }
 },
 "nbformat": 4,
 "nbformat_minor": 5
}
