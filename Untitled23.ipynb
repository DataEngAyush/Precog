{
 "cells": [
  {
   "cell_type": "code",
   "execution_count": 1,
   "id": "b6067283-0d60-412e-8fd6-9dab255cf069",
   "metadata": {
    "execution": {
     "iopub.execute_input": "2023-01-24T06:17:45.477123Z",
     "iopub.status.busy": "2023-01-24T06:17:45.476905Z",
     "iopub.status.idle": "2023-01-24T06:17:45.492411Z",
     "shell.execute_reply": "2023-01-24T06:17:45.491889Z",
     "shell.execute_reply.started": "2023-01-24T06:17:45.477101Z"
    },
    "tags": []
   },
   "outputs": [
    {
     "data": {
      "text/html": [
       "Current session configs: <tt>{'conf': {'spark.jars': 's3://sjet-datamart-bucket/Jars/mssql-jdbc-6.1.0.jre8.jar', 'spark.sql.crossJoin.enabled': 'true'}, 'proxyUser': 'user_ayush_vaishnav', 'kind': 'pyspark'}</tt><br>"
      ],
      "text/plain": [
       "<IPython.core.display.HTML object>"
      ]
     },
     "metadata": {},
     "output_type": "display_data"
    },
    {
     "data": {
      "text/html": [
       "No active sessions."
      ],
      "text/plain": [
       "<IPython.core.display.HTML object>"
      ]
     },
     "metadata": {},
     "output_type": "display_data"
    }
   ],
   "source": [
    "%%configure -f\n",
    "{\n",
    "    \"conf\": {\n",
    "        \"spark.jars\": \"s3://sjet-datamart-bucket/Jars/mssql-jdbc-6.1.0.jre8.jar\",\n",
    "        \"spark.sql.crossJoin.enabled\": \"true\"\n",
    "    }\n",
    "}"
   ]
  },
  {
   "cell_type": "code",
   "execution_count": 2,
   "id": "89ceb381-a18d-473c-ae02-c89aa64231cb",
   "metadata": {
    "execution": {
     "iopub.execute_input": "2023-01-24T06:17:45.498840Z",
     "iopub.status.busy": "2023-01-24T06:17:45.498678Z",
     "iopub.status.idle": "2023-01-24T06:18:05.783628Z",
     "shell.execute_reply": "2023-01-24T06:18:05.783105Z",
     "shell.execute_reply.started": "2023-01-24T06:17:45.498820Z"
    },
    "tags": []
   },
   "outputs": [
    {
     "data": {
      "application/vnd.jupyter.widget-view+json": {
       "model_id": "0733eb56cf1f468fbd8f03e1bc65150c",
       "version_major": 2,
       "version_minor": 0
      },
      "text/plain": [
       "VBox()"
      ]
     },
     "metadata": {},
     "output_type": "display_data"
    },
    {
     "name": "stdout",
     "output_type": "stream",
     "text": [
      "Starting Spark application\n"
     ]
    },
    {
     "data": {
      "text/html": [
       "<table>\n",
       "<tr><th>ID</th><th>YARN Application ID</th><th>Kind</th><th>State</th><th>Spark UI</th><th>Driver log</th><th>Current session?</th></tr><tr><td>2</td><td>application_1674535003907_0012</td><td>pyspark</td><td>idle</td><td></td><td></td><td>✔</td></tr></table>"
      ],
      "text/plain": [
       "<IPython.core.display.HTML object>"
      ]
     },
     "metadata": {},
     "output_type": "display_data"
    },
    {
     "data": {
      "application/vnd.jupyter.widget-view+json": {
       "model_id": "",
       "version_major": 2,
       "version_minor": 0
      },
      "text/plain": [
       "FloatProgress(value=0.0, bar_style='info', description='Progress:', layout=Layout(height='25px', width='50%'),…"
      ]
     },
     "metadata": {},
     "output_type": "display_data"
    },
    {
     "name": "stdout",
     "output_type": "stream",
     "text": [
      "SparkSession available as 'spark'.\n"
     ]
    },
    {
     "data": {
      "application/vnd.jupyter.widget-view+json": {
       "model_id": "",
       "version_major": 2,
       "version_minor": 0
      },
      "text/plain": [
       "FloatProgress(value=0.0, bar_style='info', description='Progress:', layout=Layout(height='25px', width='50%'),…"
      ]
     },
     "metadata": {},
     "output_type": "display_data"
    }
   ],
   "source": [
    "from pyspark import SparkConf\n",
    "from pyspark import SparkContext\n",
    "from pyspark.sql import SparkSession\n",
    "from pyspark.sql.types import *\n",
    "from pyspark.sql import functions as F\n",
    "import boto3\n",
    "import sys\n",
    "import re\n",
    "from datetime import datetime\n",
    "import configparser"
   ]
  },
  {
   "cell_type": "code",
   "execution_count": null,
   "id": "418798cf-62b5-41b5-82f9-93876baf3439",
   "metadata": {},
   "outputs": [],
   "source": []
  },
  {
   "cell_type": "code",
   "execution_count": 9,
   "id": "7947f4fb-c4d6-481b-a2d5-3ff064021af3",
   "metadata": {
    "execution": {
     "iopub.execute_input": "2023-01-24T06:26:57.847157Z",
     "iopub.status.busy": "2023-01-24T06:26:57.846924Z",
     "iopub.status.idle": "2023-01-24T06:27:00.124871Z",
     "shell.execute_reply": "2023-01-24T06:27:00.124353Z",
     "shell.execute_reply.started": "2023-01-24T06:26:57.847134Z"
    },
    "tags": []
   },
   "outputs": [
    {
     "data": {
      "application/vnd.jupyter.widget-view+json": {
       "model_id": "ef628a95d3e0448a924fcc53051c8904",
       "version_major": 2,
       "version_minor": 0
      },
      "text/plain": [
       "VBox()"
      ]
     },
     "metadata": {},
     "output_type": "display_data"
    },
    {
     "data": {
      "application/vnd.jupyter.widget-view+json": {
       "model_id": "",
       "version_major": 2,
       "version_minor": 0
      },
      "text/plain": [
       "FloatProgress(value=0.0, bar_style='info', description='Progress:', layout=Layout(height='25px', width='50%'),…"
      ]
     },
     "metadata": {},
     "output_type": "display_data"
    }
   ],
   "source": [
    "Q400_512WPS_1 = spark.sql('''\n",
    "                        SELECT\n",
    "                        \n",
    "                        ECN,\n",
    "                        \n",
    "                        UTC_TIMEDATE,\n",
    "                        \n",
    "                        FileName,\n",
    "\n",
    "                        CAST((MAX(`Time-In-Secs`) - MIN(`Time-In-Secs`)) / 60 AS INT) AS FlightTime\n",
    "             \n",
    "                        FROM precogdb.q400512wps\n",
    "                        \n",
    "                        WHERE FlightDate > '2022-08-31'\n",
    "                        \n",
    "                        AND `Rad-Alt` NOT LIKE '%*%'\n",
    "                        \n",
    "                        AND `Rad-Alt` <> ''\n",
    "                        \n",
    "                        AND `WOW-MLG` = 'Air (0)'\n",
    "\n",
    "                        --AND  CAST(LoadedDate AS DATE) = CAST (current_timestamp AS DATE)\n",
    "\n",
    "                        GROUP BY ECN, UTC_TIMEDATE, Filename\n",
    "                            ''')\n",
    "\n",
    "Q400_512WPS_1.createOrReplaceTempView('Q400_512WPS_1')\n",
    "\n",
    "Q400_Time = spark.sql('''\n",
    "\n",
    "                                SELECT CAST((MAX(CAST(`Time-in-secs` AS INT)) - MIN(CAST(`Time-in-secs` AS INT))) / 60 AS INT) AS BlockTime_DFDR, filename\n",
    "                                \n",
    "                                FROM precogdb.q400512wps\n",
    "                                \n",
    "                                WHERE FlightDate > '2022-08-31'\n",
    "\n",
    "                                --AND  CAST(LoadedDate AS DATE) = CAST (current_timestamp AS DATE)\n",
    "                                \n",
    "                                group by filename\n",
    "                            ''')\n",
    "\n",
    "Q400_Time.createOrReplaceTempView('Q400_Time')\n",
    "\n",
    "Q400_512WPS_2 = spark.sql('''\n",
    "\n",
    "                        SELECT \n",
    "                        \n",
    "                            DISTINCT\n",
    "                        \n",
    "                               Cast(ChocksOff as Date) AS FlightDate,\n",
    "                               \n",
    "                               TailNo,\n",
    "                               \n",
    "                               Departure,\n",
    "                               \n",
    "                               ChocksOff,\n",
    "                               \n",
    "                               date_format(ChocksOff, 'HH:mm:ss') AS Actual_DEP_Time,\n",
    "                               \n",
    "                               Arrival,\n",
    "                               \n",
    "                               date_format(ChocksOn, 'HH:mm:ss') AS Actual_ARR_Time,\n",
    "                               \n",
    "                               (bigint(to_timestamp(ChocksOn)) - bigint(to_timestamp(ChocksOff))) / 60 AS BlockTime_ARMS, \n",
    "                               \n",
    "                               CONCAT(Departure, '-', Arrival) AS Sector,\n",
    "                                                    \n",
    "                               desigflightnumber AS FlightNo,\n",
    "                               \n",
    "                               Date,\n",
    "                               \n",
    "                               ECN,\n",
    "                               \n",
    "                               UTC_TIMEDATE,\n",
    "                               \n",
    "                               CAST(SUM((CAST (`FUEL-FLOW-2-kg-h` AS INT) + CAST (`FUEL-FLOW-1-kg-h` AS INT))) OVER (PARTITION BY ECN, UTC_TIMEDATE, Filename) / 3600 AS INT) AS FuelConsumed,\n",
    "                               \n",
    "                               FileName,\n",
    "                               \n",
    "                               loadeddate,\n",
    "                               \n",
    "                               year,\n",
    "                               \n",
    "                               month\n",
    "                               \n",
    "                              FROM precogdb.q400512wps\n",
    "                        \n",
    "                        WHERE FlightDate > '2022-08-31'\n",
    "                        \n",
    "                        --AND CAST(LoadedDate AS DATE) = CAST (current_timestamp AS DATE)\n",
    "                        \n",
    "                        AND `Rad-Alt` NOT LIKE '%*%'\n",
    "                        \n",
    "                        AND `Rad-Alt` <> ''\n",
    "                        \n",
    "                        AND UTC_TIMEDATE BETWEEN (ChocksOff - INTERVAL 360 MINUTES) AND (ChocksOff - INTERVAL 300 MINUTES)\n",
    "             \n",
    "                        ''')\n",
    "\n",
    "Q400_512WPS_2.createOrReplaceTempView('Q400_512WPS_2')\n",
    "\n",
    "Q400_512WPS_2_1 = spark.sql('''\n",
    "\n",
    "                        SELECT a.*,b.Blocktime_DFDR\n",
    "                        \n",
    "                        FROM Q400_512WPS_2 a \n",
    "                        \n",
    "                        left JOIN Q400_Time b\n",
    "                        \n",
    "                        ON a.filename = b.filename\n",
    "                    ''')\n",
    "\n",
    "Q400_512WPS_2_1.createOrReplaceTempView('Q400_512WPS_2_1')\n",
    "\n",
    "Q400_512WPS_3 = spark.sql('''\n",
    "\n",
    "                SELECT MIN(`Time-Per-Sec`) AS AirborneTime,\n",
    "                \n",
    "                ECN,\n",
    "                        \n",
    "                UTC_TIMEDATE,\n",
    "                \n",
    "                flightdate,\n",
    "                \n",
    "                Filename\n",
    "                \n",
    "                FROM precogdb.q400512wps\n",
    "                \n",
    "                WHERE FlightDate > '2022-08-31'\n",
    "                        \n",
    "                AND `Rad-Alt` NOT LIKE '%*%'\n",
    "                        \n",
    "                AND `Rad-Alt` <> ''\n",
    "                        \n",
    "                AND `WOW-MLG` = 'Air (0)'\n",
    "\n",
    "                --AND CAST(LoadedDate AS DATE) = CAST (current_timestamp AS DATE)\n",
    "\n",
    "                GROUP BY ECN,\n",
    "                        \n",
    "                        UTC_TIMEDATE,flightdate,Filename\n",
    "            ''')\n",
    "\n",
    "Q400_512WPS_3.createOrReplaceTempView('Q400_512WPS_3')\n",
    "\n",
    "Q400_512WPS_3_1 = spark.sql('''SELECT MIN(`Time-Per-Sec`) AS TouchDownTime,\n",
    "                    \n",
    "                    flightdate,\n",
    "                    \n",
    "                    ECN,\n",
    "                            \n",
    "                    UTC_TIMEDATE,\n",
    "                    \n",
    "                    Filename\n",
    "                    \n",
    "                    FROM precogdb.q400512wps\n",
    "                    \n",
    "                    WHERE FlightDate > '2022-08-31'\n",
    "                            \n",
    "                    AND `Rad-Alt` NOT LIKE '%*%'\n",
    "                            \n",
    "                    AND `Rad-Alt` <> ''\n",
    "                    \n",
    "                    AND `WOW-MLG` = 'GROUND (1)'\n",
    "                    \n",
    "                    AND `time-per-sec` NOT LIKE '%*%'\n",
    "                    \n",
    "                    AND `time-in-secs` > 2500\n",
    "                            \n",
    "                    --AND CAST(LoadedDate AS DATE) = CAST (current_timestamp AS DATE)\n",
    "\n",
    "                    GROUP BY ECN,\n",
    "                            \n",
    "                            UTC_TIMEDATE,flightdate,Filename ''')\n",
    "\n",
    "Q400_512WPS_3_1.createOrReplaceTempView('Q400_512WPS_3_1')\n",
    "\n",
    "Q400_512WPS_3_2 = spark.sql('''\n",
    "\n",
    "                SELECT a.ECN, a.UTC_TIMEDATE, a.AirborneTime, b.TouchDownTime, a.Filename, a.Flightdate\n",
    "                \n",
    "                FROM Q400_512WPS_3 a \n",
    "                \n",
    "                JOIN Q400_512WPS_3_1 b on a.Filename = b.Filename\n",
    "                \n",
    "                AND a.Flightdate = b.Flightdate\n",
    "    ''')\n",
    "\n",
    "Q400_512WPS_3_2.createOrReplaceTempView('Q400_512WPS_3_2')\n",
    "\n",
    "Q400_512WPS_4 = spark.sql('''\n",
    "\n",
    "                                SELECT ECN, UTC_TIMEDATE, filename, flightdate,\n",
    "                                \n",
    "                                CASE \n",
    "                                    WHEN LENGTH(CAST(`AirborneTime` as String)) = 1 THEN CONCAT('00000',CAST(`AirborneTime` as String)) \n",
    "                                    WHEN LENGTH(CAST(`AirborneTime` as String)) = 2 THEN CONCAT('0000',CAST(`AirborneTime` as String)) \n",
    "                                    WHEN LENGTH(CAST(`AirborneTime` as String)) = 3 THEN CONCAT('000',CAST(`AirborneTime` as String))\n",
    "                                    WHEN LENGTH(CAST(`AirborneTime` as String)) = 4 THEN CONCAT('00',CAST(`AirborneTime` as String)) \n",
    "                                    WHEN LENGTH(CAST(`AirborneTime` as String)) = 5 THEN CONCAT('0',CAST(`AirborneTime` as String))\n",
    "                                    ELSE `AirborneTime`\n",
    "                                END As AirborneTime,\n",
    "                                CASE \n",
    "                                    WHEN LENGTH(CAST(`TouchdownTime` as String)) = 1 THEN CONCAT('00000',CAST(`TouchdownTime` as String)) \n",
    "                                    WHEN LENGTH(CAST(`TouchdownTime` as String)) = 2 THEN CONCAT('0000',CAST(`TouchdownTime` as String)) \n",
    "                                    WHEN LENGTH(CAST(`TouchdownTime` as String)) = 3 THEN CONCAT('000',CAST(`TouchdownTime` as String))\n",
    "                                    WHEN LENGTH(CAST(`TouchdownTime` as String)) = 4 THEN CONCAT('00',CAST(`TouchdownTime` as String)) \n",
    "                                    WHEN LENGTH(CAST(`TouchdownTime` as String)) = 5 THEN CONCAT('0',CAST(`TouchdownTime` as String))\n",
    "                                    ELSE `TouchdownTime`\n",
    "                                END As TouchdownTime\n",
    "                                \n",
    "                                                                    \n",
    "                                FROM Q400_512WPS_3_2\n",
    "                                                    \n",
    "                        ''')\n",
    "\n",
    "Q400_512WPS_4.createOrReplaceTempView('Q400_512WPS_4')\n",
    "\n",
    "Q400_512WPS_5 = Q400_512WPS_4.withColumn(\"AirborneTime\", F.regexp_replace(F.col(\"AirborneTime\") , \"(\\\\d{2})(\\\\d{2})(\\\\d{2})\" , \"$1:$2:$3\" )) \\\n",
    "                                .withColumn(\"TouchdownTime\", F.regexp_replace(F.col(\"TouchdownTime\") , \"(\\\\d{2})(\\\\d{2})(\\\\d{2})\" , \"$1:$2:$3\" ))\n",
    "\n",
    "Q400_512WPS_5.createOrReplaceTempView('Q400_512WPS_5')\n",
    "\n",
    "Q400_512WPS_6 = spark.sql('''\n",
    "\n",
    "                    SELECT to_timestamp(concat(flightdate,' ',AirborneTime)) AS Airborne_Time,\n",
    "                    \n",
    "                    to_timestamp(concat(flightdate,' ',TouchdownTime)) AS Touchdown_Time,\n",
    "                    \n",
    "                    Filename,\n",
    "                    \n",
    "                    ECN, \n",
    "                    \n",
    "                    UTC_TIMEDATE\n",
    "                    \n",
    "                    FROM Q400_512WPS_5\n",
    "\n",
    "\n",
    "    ''')\n",
    "\n",
    "Q400_512WPS_6.createOrReplaceTempView('Q400_512WPS_6')\n",
    "\n",
    "Q400_512WPS_7 = spark.sql('''\n",
    "\n",
    "                    SELECT (Airborne_Time + INTERVAL 330 MINUTES) AS AirborneTime, \n",
    "                    \n",
    "                    (Touchdown_Time + INTERVAL 330 MINUTES) AS TouchdownTime,\n",
    "                    \n",
    "                    Filename,\n",
    "                    \n",
    "                    ECN, UTC_TIMEDATE\n",
    "                    \n",
    "                    FROM Q400_512WPS_6\n",
    "                    \n",
    "                    ''')\n",
    "\n",
    "Q400_512WPS_8 = Q400_512WPS_7.withColumn('Airborne_Time', F.date_format('AirborneTime', 'HH:mm:ss')) \\\n",
    "                                .withColumn('Touchdown_Time', F.date_format('TouchdownTime', 'HH:mm:ss'))\n",
    "\n",
    "Q400_512WPS_8.createOrReplaceTempView('Q400_512WPS_8')\n",
    "\n",
    "Q400_FOB_1 = spark.sql('''\n",
    "\n",
    "                        SELECT \n",
    "                        \n",
    "                        b.flightdate,\n",
    "                                \n",
    "                                b.TailNo,\n",
    "                                \n",
    "                                b.Departure,\n",
    "                                \n",
    "                                b.Actual_DEP_Time,\n",
    "                                \n",
    "                                c.Airborne_Time,\n",
    "                                \n",
    "                                c.Touchdown_Time,\n",
    "                                \n",
    "                                b.Arrival,\n",
    "                                \n",
    "                                b.Sector,\n",
    "                                \n",
    "                                b.Actual_ARR_Time,\n",
    "                                \n",
    "                                b.Blocktime_ARMS,\n",
    "                                \n",
    "                                b.Blocktime_DFDR,\n",
    "                                \n",
    "                                a.FlightTime,\n",
    "                                                        \n",
    "                                b.FlightNo,\n",
    "                                \n",
    "                                b.Date,\n",
    "                                \n",
    "                                b.FuelConsumed,\n",
    "                                \n",
    "                                b.FileName,\n",
    "                                \n",
    "                                b.loadeddate,\n",
    "                                \n",
    "                                b.year,\n",
    "                                \n",
    "                                b.month\n",
    "                                \n",
    "                                FROM Q400_512WPS_1 a\n",
    "                                \n",
    "                                INNER JOIN Q400_512WPS_2_1 b\n",
    "                                \n",
    "                                INNER JOIN Q400_512WPS_8 c\n",
    "                                \n",
    "                                on a.filename = b.filename\n",
    "                                \n",
    "                                and a.ECN = b.ECN\n",
    "                                \n",
    "                                and a.UTC_TIMEDATE = b.UTC_TIMEDATE\n",
    "                                \n",
    "                                and a.filename = c.filename\n",
    "                                \n",
    "                                and a.ECN = c.ECN\n",
    "                                \n",
    "                                and a.UTC_TIMEDATE = c.UTC_TIMEDATE\n",
    "                                \n",
    "                            ''')\n",
    "\n",
    "Q400_FOB_1.createOrReplaceTempView('Q400_FOB_1')\n",
    "\n",
    "Q400_FOB = spark.sql('''\n",
    "\n",
    "        SELECT \n",
    "                        \n",
    "                        flightdate,\n",
    "                                \n",
    "                                TailNo,\n",
    "                                \n",
    "                                Departure,\n",
    "                                \n",
    "                                Actual_DEP_Time,\n",
    "                                \n",
    "                                Airborne_Time,\n",
    "                                \n",
    "                                Touchdown_Time,\n",
    "                                \n",
    "                                Arrival,\n",
    "                                \n",
    "                                Sector,\n",
    "                                \n",
    "                                Actual_ARR_Time,\n",
    "                                \n",
    "                                CONCAT( CASE \n",
    "                                        WHEN LENGTH ( CAST(CAST(Blocktime_ARMS / 60 AS INT) AS STRING)) =1\n",
    "                                        THEN CONCAT('0',CAST(CAST(Blocktime_ARMS / 60 AS INT) AS STRING))\n",
    "                                        ELSE CAST(CAST(Blocktime_ARMS / 60 AS INT) AS STRING)\n",
    "                                    END,\n",
    "                                    ':',\n",
    "                                    CASE \n",
    "                                        WHEN LENGTH ( CAST(CAST(Blocktime_ARMS % 60 AS INT) AS STRING)) =1\n",
    "                                        THEN CONCAT('0',CAST(CAST(Blocktime_ARMS % 60 AS INT) AS STRING))\n",
    "                                        ELSE CAST(CAST(Blocktime_ARMS % 60 AS INT) AS STRING)\n",
    "                                    END ) AS BlockTime_ARMS,\n",
    "                                \n",
    "                                    CONCAT( CASE \n",
    "                                        WHEN LENGTH ( CAST(CAST(Blocktime_DFDR / 60 AS INT) AS STRING)) =1\n",
    "                                        THEN CONCAT('0',CAST(CAST(Blocktime_DFDR / 60 AS INT) AS STRING))\n",
    "                                        ELSE CAST(CAST(Blocktime_DFDR / 60 AS INT) AS STRING)\n",
    "                                    END,\n",
    "                                    ':',\n",
    "                                    CASE \n",
    "                                        WHEN LENGTH ( CAST(CAST(Blocktime_DFDR % 60 AS INT) AS STRING)) =1\n",
    "                                        THEN CONCAT('0',CAST(CAST(Blocktime_DFDR % 60 AS INT) AS STRING))\n",
    "                                        ELSE CAST(CAST(Blocktime_DFDR % 60 AS INT) AS STRING)\n",
    "                                    END ) AS BlockTime_DFDR,\n",
    "                                \n",
    "                                    CONCAT( CASE \n",
    "                                        WHEN LENGTH ( CAST(CAST(FlightTime / 60 AS INT) AS STRING)) =1\n",
    "                                        THEN CONCAT('0',CAST(CAST(FlightTime / 60 AS INT) AS STRING))\n",
    "                                        ELSE CAST(CAST(FlightTime / 60 AS INT) AS STRING)\n",
    "                                    END,\n",
    "                                    ':',\n",
    "                                    CASE \n",
    "                                        WHEN LENGTH ( CAST(CAST(FlightTime % 60 AS INT) AS STRING)) =1\n",
    "                                        THEN CONCAT('0',CAST(CAST(FlightTime % 60 AS INT) AS STRING))\n",
    "                                        ELSE CAST(CAST(FlightTime % 60 AS INT) AS STRING)\n",
    "                                    END ) AS FlightTime,\n",
    "                                                        \n",
    "                                    FlightNo,\n",
    "                                \n",
    "                                    Date,\n",
    "                                \n",
    "                                    FuelConsumed,\n",
    "                                \n",
    "                                    FileName,\n",
    "                                \n",
    "                                    loadeddate,\n",
    "                                \n",
    "                                    year,\n",
    "                                \n",
    "                                    month\n",
    "\n",
    "                                    FROM Q400_FOB_1\n",
    "        \n",
    "\n",
    "        \n",
    "        \n",
    "        ''')\n",
    "\n",
    "Q400_FOB.createOrReplaceTempView('Q400_FOB')\n"
   ]
  },
  {
   "cell_type": "code",
   "execution_count": 10,
   "id": "62707a94-c4bf-4ee5-8553-a24926889cb8",
   "metadata": {
    "execution": {
     "iopub.execute_input": "2023-01-24T06:27:01.444085Z",
     "iopub.status.busy": "2023-01-24T06:27:01.443870Z",
     "iopub.status.idle": "2023-01-24T06:28:51.036529Z",
     "shell.execute_reply": "2023-01-24T06:28:51.035872Z",
     "shell.execute_reply.started": "2023-01-24T06:27:01.444062Z"
    },
    "tags": []
   },
   "outputs": [
    {
     "data": {
      "application/vnd.jupyter.widget-view+json": {
       "model_id": "f0b04faca6a14750a33c02c1073876fb",
       "version_major": 2,
       "version_minor": 0
      },
      "text/plain": [
       "VBox()"
      ]
     },
     "metadata": {},
     "output_type": "display_data"
    },
    {
     "data": {
      "application/vnd.jupyter.widget-view+json": {
       "model_id": "",
       "version_major": 2,
       "version_minor": 0
      },
      "text/plain": [
       "FloatProgress(value=0.0, bar_style='info', description='Progress:', layout=Layout(height='25px', width='50%'),…"
      ]
     },
     "metadata": {},
     "output_type": "display_data"
    },
    {
     "name": "stdout",
     "output_type": "stream",
     "text": [
      "+----------+------+---------+---------------+-------------+--------------+-------+-------+---------------+--------------+--------------+----------+--------+----------+------------+--------------------------------------------------------+-----------------------+----+--------+\n",
      "|flightdate|TailNo|Departure|Actual_DEP_Time|Airborne_Time|Touchdown_Time|Arrival|Sector |Actual_ARR_Time|BlockTime_ARMS|BlockTime_DFDR|FlightTime|FlightNo|Date      |FuelConsumed|FileName                                                |loadeddate             |year|month   |\n",
      "+----------+------+---------+---------------+-------------+--------------+-------+-------+---------------+--------------+--------------+----------+--------+----------+------------+--------------------------------------------------------+-----------------------+----+--------+\n",
      "|2023-01-11|VT-SQB|PNY      |11:28:00       |11:36:33     |12:21:27      |BLR    |PNY-BLR|12:28:00       |01:00         |00:58         |00:44     |SG 3999 |2023-01-11|849         |ALL ac=VT-SQB dep=PNY arr=BLR fn=SG 3999 dt=20230111.csv|2023-01-13 00:45:11.11 |2023|January |\n",
      "|2023-01-17|VT-SQB|BOM      |10:25:00       |10:47:36     |11:55:36      |IXY    |BOM-IXY|12:00:00       |01:35         |01:30         |01:08     |SG 2903 |2023-01-17|1335        |ALL ac=VT-SQB dep=BOM arr=IXY fn=SG 2903 dt=20230117.csv|2023-01-19 00:42:35.199|2023|January |\n",
      "|2023-01-02|VT-SQG|BOM      |14:05:00       |15:30:00     |16:13:20      |TIR    |BOM-TIR|16:17:00       |02:12         |02:11         |01:43     |SG 3749 |2023-01-02|1794        |ALL ac=VT-SQG dep=BOM arr=TIR fn=SG 3749 dt=20230102.csv|2023-01-04 00:41:40.031|2023|January |\n",
      "|2022-12-12|VT-SQG|JLR      |18:40:00       |18:48:45     |20:06:28      |DEL    |JLR-DEL|20:15:00       |01:35         |01:28         |01:17     |SG 2955 |2022-12-12|1384        |ALL ac=VT-SQG dep=JLR arr=DEL fn=SG 2955 dt=20221212.csv|2022-12-22 11:56:11.606|2022|December|\n",
      "|2023-01-07|VT-SQE|TIR      |07:30:00       |07:46:05     |09:33:11      |BOM    |TIR-BOM|09:40:00       |02:10         |02:06         |01:47     |SG 2697 |2023-01-07|1846        |ALL ac=VT-SQE dep=TIR arr=BOM fn=SG 2697 dt=20230107.csv|2023-01-09 00:42:34.098|2023|January |\n",
      "|2023-01-13|VT-SUR|SAG      |11:55:00       |12:03:08     |13:04:40      |HYD    |SAG-HYD|13:10:00       |01:15         |01:16         |01:01     |SG 4006 |2023-01-13|1036        |ALL ac=VT-SUR dep=SAG arr=HYD fn=SG 4006 dt=20230113.csv|2023-01-15 00:43:03.098|2023|January |\n",
      "|2022-10-25|VT-SQB|PNQ      |19:15:00       |19:29:31     |20:33:24      |AMD    |PNQ-AMD|20:40:00       |01:25         |01:16         |01:03     |SG 1083 |2022-10-25|1141        |ALL ac=VT-SQB dep=PNQ arr=AMD fn=SG 1083 dt=20221025.csv|2023-01-23 09:49:21.31 |2022|October |\n",
      "|2022-10-18|VT-SQJ|CCU      |16:57:00       |17:07:35     |17:40:48      |DAC    |CCU-DAC|17:47:00       |00:50         |00:48         |00:31     |SG 76   |2022-10-18|663         |ALL ac=VT-SQJ dep=CCU arr=DAC fn=SG 76 dt=20221018.csv  |2023-01-23 09:49:21.31 |2022|October |\n",
      "|2022-10-02|VT-SQA|GAU      |19:38:00       |19:48:06     |21:00:30      |CCU    |GAU-CCU|21:08:00       |01:30         |01:28         |01:12     |SG 3282 |2022-10-02|1249        |ALL ac=VT-SQA dep=GAU arr=CCU fn=SG 3282 dt=20221002.csv|2023-01-23 09:49:21.31 |2022|October |\n",
      "|2022-10-09|VT-SQJ|SAG      |11:55:00       |12:07:10     |13:37:16      |BLR    |SAG-BLR|13:50:00       |01:55         |01:49         |01:30     |SG 4004 |2022-10-09|1644        |ALL ac=VT-SQJ dep=SAG arr=BLR fn=SG 4004 dt=20221009.csv|2023-01-23 09:49:21.31 |2022|October |\n",
      "|2022-10-06|VT-SQA|IXB      |12:03:00       |12:17:34     |13:17:18      |CCU    |IXB-CCU|13:28:00       |01:25         |01:19         |00:59     |SG 4128 |2022-10-06|1084        |ALL ac=VT-SQA dep=IXB arr=CCU fn=SG 4128 dt=20221006.csv|2023-01-23 09:49:21.31 |2022|October |\n",
      "|2022-10-04|VT-SQJ|SAG      |12:05:00       |12:19:51     |13:55:06      |BLR    |SAG-BLR|14:10:00       |02:05         |01:54         |01:35     |SG 4004 |2022-10-04|1555        |ALL ac=VT-SQJ dep=SAG arr=BLR fn=SG 4004 dt=20221004.csv|2023-01-23 09:49:21.31 |2022|October |\n",
      "|2022-10-30|VT-SUR|GAU      |07:14:00       |07:29:05     |08:58:47      |PAT    |GAU-PAT|09:09:00       |01:55         |01:44         |01:29     |SG 3723 |2022-10-30|1555        |ALL ac=VT-SUR dep=GAU arr=PAT fn=SG 3723 dt=20221030.csv|2023-01-23 09:49:21.31 |2022|October |\n",
      "|2022-10-26|VT-SUR|PNQ      |22:45:00       |23:00:54     |00:08:18      |AMD    |PNQ-AMD|00:25:00       |01:40         |01:27         |01:07     |SG 1078 |2022-10-26|1205        |ALL ac=VT-SUR dep=PNQ arr=AMD fn=SG 1078 dt=20221026.csv|2023-01-23 09:49:21.31 |2022|October |\n",
      "|2022-10-23|VT-SQE|PYG      |13:51:00       |15:30:01     |16:25:38      |DEL    |PYG-DEL|16:31:00       |02:40         |02:40         |02:23     |SG 3758 |2022-10-23|2489        |ALL ac=VT-SQE dep=PYG arr=DEL fn=SG 3758 dt=20221023.csv|2023-01-23 09:49:21.31 |2022|October |\n",
      "|2022-10-23|VT-SQE|DEL      |10:54:00       |11:12:05     |13:19:33      |PYG    |DEL-PYG|13:24:00       |02:30         |02:29         |02:07     |SG 3757 |2022-10-23|2131        |ALL ac=VT-SQE dep=DEL arr=PYG fn=SG 3757 dt=20221023.csv|2023-01-23 09:49:21.31 |2022|October |\n",
      "|2022-10-13|VT-SQE|IXY      |15:10:00       |15:30:02     |16:32:46      |BOM    |IXY-BOM|16:40:00       |01:30         |01:25         |01:12     |SG 3324 |2022-10-13|1279        |ALL ac=VT-SQE dep=IXY arr=BOM fn=SG 3324 dt=20221013.csv|2023-01-23 09:49:21.31 |2022|October |\n",
      "|2022-10-24|VT-SQA|HYD      |09:25:00       |09:42:15     |10:36:08      |IXG    |HYD-IXG|10:45:00       |01:20         |01:05         |00:53     |SG 3733 |2022-10-24|957         |ALL ac=VT-SQA dep=HYD arr=IXG fn=SG 3733 dt=20221024.csv|2023-01-23 09:49:21.31 |2022|October |\n",
      "|2022-10-18|VT-SQB|DHM      |13:25:00       |13:33:17     |14:39:38      |DEL    |DHM-DEL|14:45:00       |01:20         |01:18         |01:06     |SG 2973 |2022-10-18|1192        |ALL ac=VT-SQB dep=DHM arr=DEL fn=SG 2973 dt=20221018.csv|2023-01-23 09:49:21.31 |2022|October |\n",
      "|2022-10-31|VT-SQC|RAJ      |08:20:00       |08:26:39     |10:16:41      |DEL    |RAJ-DEL|10:20:00       |02:00         |02:01         |01:50     |SG 3703 |2022-10-31|1780        |ALL ac=VT-SQC dep=RAJ arr=DEL fn=SG 3703 dt=20221031.csv|2023-01-23 09:49:21.31 |2022|October |\n",
      "+----------+------+---------+---------------+-------------+--------------+-------+-------+---------------+--------------+--------------+----------+--------+----------+------------+--------------------------------------------------------+-----------------------+----+--------+\n",
      "only showing top 20 rows"
     ]
    }
   ],
   "source": [
    "Q400_FOB.show(truncate = False)"
   ]
  },
  {
   "cell_type": "code",
   "execution_count": 11,
   "id": "1cbc7e87-164a-4893-89e2-2682719fae23",
   "metadata": {
    "execution": {
     "iopub.execute_input": "2023-01-24T06:29:18.132286Z",
     "iopub.status.busy": "2023-01-24T06:29:18.132030Z",
     "iopub.status.idle": "2023-01-24T06:29:18.886916Z",
     "shell.execute_reply": "2023-01-24T06:29:18.886363Z",
     "shell.execute_reply.started": "2023-01-24T06:29:18.132262Z"
    },
    "tags": []
   },
   "outputs": [
    {
     "data": {
      "application/vnd.jupyter.widget-view+json": {
       "model_id": "cc249c84569340d28b46e6378b8efd6f",
       "version_major": 2,
       "version_minor": 0
      },
      "text/plain": [
       "VBox()"
      ]
     },
     "metadata": {},
     "output_type": "display_data"
    },
    {
     "data": {
      "application/vnd.jupyter.widget-view+json": {
       "model_id": "",
       "version_major": 2,
       "version_minor": 0
      },
      "text/plain": [
       "FloatProgress(value=0.0, bar_style='info', description='Progress:', layout=Layout(height='25px', width='50%'),…"
      ]
     },
     "metadata": {},
     "output_type": "display_data"
    }
   ],
   "source": [
    "SALTDF = spark.read \\\n",
    "  .format(\"jdbc\") \\\n",
    "  .option(\"driver\", \"com.microsoft.sqlserver.jdbc.SQLServerDriver\") \\\n",
    "  .option(\"url\", \"jdbc:sqlserver://10.150.72.22:1433;databaseName=SALT\") \\\n",
    "  .option(\"dbtable\", \"LoadAndTrimDetails\") \\\n",
    "  .option(\"user\", \"dmbigdata\") \\\n",
    "  .option(\"password\", \"$p!Ce@bigData$db\") \\\n",
    "  .load()\n",
    "\n",
    "SALTDF.createOrReplaceTempView('SALTDF')"
   ]
  },
  {
   "cell_type": "code",
   "execution_count": 12,
   "id": "9c7b8ca5-d36d-4f3e-b144-97dff1559944",
   "metadata": {
    "execution": {
     "iopub.execute_input": "2023-01-24T06:29:28.833747Z",
     "iopub.status.busy": "2023-01-24T06:29:28.833515Z",
     "iopub.status.idle": "2023-01-24T06:29:29.085482Z",
     "shell.execute_reply": "2023-01-24T06:29:29.084907Z",
     "shell.execute_reply.started": "2023-01-24T06:29:28.833723Z"
    },
    "tags": []
   },
   "outputs": [
    {
     "data": {
      "application/vnd.jupyter.widget-view+json": {
       "model_id": "562375b5a97b418981ea785eb52681fc",
       "version_major": 2,
       "version_minor": 0
      },
      "text/plain": [
       "VBox()"
      ]
     },
     "metadata": {},
     "output_type": "display_data"
    },
    {
     "data": {
      "application/vnd.jupyter.widget-view+json": {
       "model_id": "",
       "version_major": 2,
       "version_minor": 0
      },
      "text/plain": [
       "FloatProgress(value=0.0, bar_style='info', description='Progress:', layout=Layout(height='25px', width='50%'),…"
      ]
     },
     "metadata": {},
     "output_type": "display_data"
    }
   ],
   "source": [
    "Q400FinalFOBDF = spark.sql('''\n",
    "\n",
    "                    SELECT a.flightdate,\n",
    "                                \n",
    "                                a.TailNo,\n",
    "                                \n",
    "                                a.FlightNo,\n",
    "                                \n",
    "                                a.Sector,\n",
    "                                \n",
    "                                a.Departure,\n",
    "                                \n",
    "                                a.Actual_DEP_Time,\n",
    "                                \n",
    "                                a.Airborne_Time,\n",
    "                                \n",
    "                                a.Touchdown_Time,\n",
    "                                \n",
    "                                a.Arrival,\n",
    "                                \n",
    "                                a.Actual_ARR_Time,\n",
    "                                \n",
    "                                b.FOB,\n",
    "                                \n",
    "                                (CAST (b.FOB AS INT) + 105) AS DepartureFuel,\n",
    "                                \n",
    "                                a.FuelConsumed,\n",
    "                                \n",
    "                                a.BlockTime_ARMS,\n",
    "                                \n",
    "                                a.BlockTime_DFDR,\n",
    "                                \n",
    "                                a.FlightTime,\n",
    "                                                        \n",
    "                                ((CAST (b.FOB AS INT) + 105) - CAST (a.FuelConsumed AS INT)) AS ArrivalFuel,\n",
    "                                \n",
    "                                a.FileName,\n",
    "                                \n",
    "                                a.loadeddate,\n",
    "                                \n",
    "                                a.year,\n",
    "                                \n",
    "                                a.month,\n",
    "\n",
    "                                current_timestamp()   AS `ProcessedDate`\n",
    "\n",
    "                                FROM Q400_FOB a \n",
    "                    \n",
    "                                    LEFT JOIN SALTDF b on a.FlightDate = CAST(b.FlightDate AS date)\n",
    "                                    \n",
    "                                    AND REPLACE(a.FlightNo,' ','') = b.FlightNo\n",
    "                                    \n",
    "                                    AND a.Departure = b.Source\n",
    "                                    \n",
    "                                    AND a.Arrival = b.Destination\n",
    "                    \n",
    "                    ''')"
   ]
  },
  {
   "cell_type": "code",
   "execution_count": 13,
   "id": "ba29cc65-2884-4040-89e6-fd9655ecca24",
   "metadata": {
    "execution": {
     "iopub.execute_input": "2023-01-24T06:29:33.562005Z",
     "iopub.status.busy": "2023-01-24T06:29:33.561784Z",
     "iopub.status.idle": "2023-01-24T06:30:49.045277Z",
     "shell.execute_reply": "2023-01-24T06:30:49.044787Z",
     "shell.execute_reply.started": "2023-01-24T06:29:33.561982Z"
    },
    "tags": []
   },
   "outputs": [
    {
     "data": {
      "application/vnd.jupyter.widget-view+json": {
       "model_id": "fa2c781113c04449856cc309b7da5905",
       "version_major": 2,
       "version_minor": 0
      },
      "text/plain": [
       "VBox()"
      ]
     },
     "metadata": {},
     "output_type": "display_data"
    },
    {
     "data": {
      "application/vnd.jupyter.widget-view+json": {
       "model_id": "",
       "version_major": 2,
       "version_minor": 0
      },
      "text/plain": [
       "FloatProgress(value=0.0, bar_style='info', description='Progress:', layout=Layout(height='25px', width='50%'),…"
      ]
     },
     "metadata": {},
     "output_type": "display_data"
    },
    {
     "name": "stdout",
     "output_type": "stream",
     "text": [
      "+----------+------+--------+-------+---------+---------------+-------------+--------------+-------+---------------+----+-------------+------------+--------------+--------------+----------+-----------+--------------------------------------------------------+-----------------------+----+---------+-----------------------+\n",
      "|flightdate|TailNo|FlightNo|Sector |Departure|Actual_DEP_Time|Airborne_Time|Touchdown_Time|Arrival|Actual_ARR_Time|FOB |DepartureFuel|FuelConsumed|BlockTime_ARMS|BlockTime_DFDR|FlightTime|ArrivalFuel|FileName                                                |loadeddate             |year|month    |ProcessedDate          |\n",
      "+----------+------+--------+-------+---------+---------------+-------------+--------------+-------+---------------+----+-------------+------------+--------------+--------------+----------+-----------+--------------------------------------------------------+-----------------------+----+---------+-----------------------+\n",
      "|2022-09-01|VT-SQJ|SG 3235 |DEL-GOP|DEL      |10:45:00       |10:58:30     |12:22:09      |GOP    |12:35:00       |2695|2800         |1391        |01:50         |01:40         |01:23     |1409       |ALL ac=VT-SQJ dep=DEL arr=GOP fn=SG 3235 dt=20220901.csv|2023-01-23 09:22:45.356|2022|September|2023-01-24 06:29:33.619|\n",
      "|2022-09-01|VT-SQJ|SG 3236 |GOP-DEL|GOP      |12:52:00       |13:00:54     |14:22:18      |DEL    |14:32:00       |3595|3700         |1315        |01:40         |01:35         |01:21     |2385       |ALL ac=VT-SQJ dep=GOP arr=DEL fn=SG 3236 dt=20220901.csv|2023-01-23 09:22:45.356|2022|September|2023-01-24 06:29:33.619|\n",
      "|2022-09-01|VT-SQG|SG 3419 |JAI-STV|JAI      |09:04:00       |09:21:11     |10:42:02      |STV    |10:49:00       |4595|4700         |1367        |01:45         |01:41         |01:20     |3333       |ALL ac=VT-SQG dep=JAI arr=STV fn=SG 3419 dt=20220901.csv|2023-01-23 09:22:45.356|2022|September|2023-01-24 06:29:33.619|\n",
      "|2022-09-01|VT-SQA|SG 4013 |SAG-TIR|SAG      |17:27:00       |17:38:49     |20:00:41      |TIR    |20:05:00       |2945|3050         |2309        |02:38         |02:32         |02:22     |741        |ALL ac=VT-SQA dep=SAG arr=TIR fn=SG 4013 dt=20220901.csv|2023-01-23 09:22:45.356|2022|September|2023-01-24 06:29:33.619|\n",
      "|2022-09-03|VT-SQG|SG 3426 |GOI-STV|GOI      |18:45:00       |18:58:43     |20:16:10      |STV    |20:20:00       |4195|4300         |1386        |01:35         |01:32         |01:17     |2914       |ALL ac=VT-SQG dep=GOI arr=STV fn=SG 3426 dt=20220903.csv|2023-01-23 09:22:45.356|2022|September|2023-01-24 06:29:33.619|\n",
      "|2022-09-03|VT-SQG|SG 3426 |STV-JAI|STV      |20:46:00       |20:58:47     |22:20:10      |JAI    |22:46:00       |3095|3200         |1466        |02:00         |01:31         |01:21     |1734       |ALL ac=VT-SQG dep=STV arr=JAI fn=SG 3426 dt=20220903.csv|2023-01-23 09:22:45.356|2022|September|2023-01-24 06:29:33.619|\n",
      "|2022-09-03|VT-SQB|SG 3509 |CCU-VTZ|CCU      |20:15:00       |20:31:16     |21:59:58      |VTZ    |22:10:00       |3495|3600         |1453        |01:55         |01:41         |01:28     |2147       |ALL ac=VT-SQB dep=CCU arr=VTZ fn=SG 3509 dt=20220903.csv|2023-01-23 09:22:45.356|2022|September|2023-01-24 06:29:33.619|\n",
      "|2022-09-05|VT-SQB|SG 3766 |DED-AMD|DED      |19:25:00       |19:34:13     |21:26:58      |AMD    |21:35:00       |3695|3800         |1828        |02:10         |02:05         |01:52     |1972       |ALL ac=VT-SQB dep=DED arr=AMD fn=SG 3766 dt=20220905.csv|2023-01-23 09:22:45.356|2022|September|2023-01-24 06:29:33.619|\n",
      "|2022-09-06|VT-SUW|SG 1077 |AMD-PNQ|AMD      |06:02:00       |06:30:00     |07:25:17      |PNQ    |07:32:00       |2695|2800         |1095        |01:30         |01:14         |01:02     |1705       |ALL ac=VT-SUW dep=AMD arr=PNQ fn=SG 1077 dt=20220906.csv|2023-01-23 09:22:45.356|2022|September|2023-01-24 06:29:33.619|\n",
      "|2022-09-07|VT-SUR|SG 2950 |DEL-VNS|DEL      |13:15:00       |13:31:25     |14:53:56      |VNS    |15:10:00       |3395|3500         |1431        |01:55         |01:40         |01:22     |2069       |ALL ac=VT-SUR dep=DEL arr=VNS fn=SG 2950 dt=20220907.csv|2023-01-23 09:22:45.356|2022|September|2023-01-24 06:29:33.619|\n",
      "|2022-09-07|VT-SQA|SG 4001 |HYD-ISK|HYD      |06:08:00       |06:30:03     |07:27:36      |ISK    |07:38:00       |2595|2700         |1184        |01:30         |01:18         |01:07     |1516       |ALL ac=VT-SQA dep=HYD arr=ISK fn=SG 4001 dt=20220907.csv|2023-01-23 09:22:45.356|2022|September|2023-01-24 06:29:33.619|\n",
      "|2022-09-08|VT-SQB|SG 3442 |AMD-JAI|AMD      |20:35:00       |21:00:18     |22:09:46      |JAI    |22:20:00       |3345|3450         |1289        |01:45         |01:35         |01:09     |2161       |ALL ac=VT-SQB dep=AMD arr=JAI fn=SG 3442 dt=20220908.csv|2023-01-23 09:22:45.356|2022|September|2023-01-24 06:29:33.619|\n",
      "|2022-09-08|VT-SQA|SG 4001 |HYD-ISK|HYD      |06:05:00       |06:30:02     |07:14:11      |ISK    |07:20:00       |2595|2700         |1066        |01:15         |01:11         |01:01     |1634       |ALL ac=VT-SQA dep=HYD arr=ISK fn=SG 4001 dt=20220908.csv|2023-01-23 09:22:45.356|2022|September|2023-01-24 06:29:33.619|\n",
      "|2022-09-09|VT-SQB|SG 3755 |DEL-RAJ|DEL      |17:25:00       |17:39:08     |19:26:34      |RAJ    |19:35:00       |3195|3300         |1830        |02:10         |02:03         |01:47     |1470       |ALL ac=VT-SQB dep=DEL arr=RAJ fn=SG 3755 dt=20220909.csv|2023-01-23 09:22:45.356|2022|September|2023-01-24 06:29:33.619|\n",
      "|2022-09-09|VT-SQB|SG 3756 |RAJ-DEL|RAJ      |20:00:00       |20:22:03     |22:17:24      |DEL    |22:30:00       |3245|3350         |1982        |02:30         |02:14         |01:55     |1368       |ALL ac=VT-SQB dep=RAJ arr=DEL fn=SG 3756 dt=20220909.csv|2023-01-23 09:22:45.356|2022|September|2023-01-24 06:29:33.619|\n",
      "|2022-09-10|VT-SQE|SG 3002 |CCU-JLR|CCU      |06:00:00       |06:30:00     |07:50:55      |JLR    |08:00:00       |3395|3500         |1469        |02:00         |01:47         |01:30     |2031       |ALL ac=VT-SQE dep=CCU arr=JLR fn=SG 3002 dt=20220910.csv|2023-01-23 09:22:45.356|2022|September|2023-01-24 06:29:33.619|\n",
      "|2022-09-10|VT-SQA|SG 4013 |SAG-TIR|SAG      |16:45:00       |16:55:19     |18:41:17      |TIR    |18:45:00       |3295|3400         |1703        |02:00         |01:58         |01:46     |1697       |ALL ac=VT-SQA dep=SAG arr=TIR fn=SG 4013 dt=20220910.csv|2023-01-23 09:22:45.356|2022|September|2023-01-24 06:29:33.619|\n",
      "|2022-09-11|VT-SQC|SG 2964 |JAI-PNQ|JAI      |08:50:00       |09:07:22     |10:51:20      |PNQ    |11:00:00       |3195|3300         |1836        |02:10         |01:55         |01:44     |1464       |ALL ac=VT-SQC dep=JAI arr=PNQ fn=SG 2964 dt=20220911.csv|2023-01-23 09:22:45.356|2022|September|2023-01-24 06:29:33.619|\n",
      "|2022-09-11|VT-SQA|SG 4051 |TIR-PNQ|TIR      |14:20:00       |15:30:02     |16:09:07      |PNQ    |16:15:00       |3295|3400         |1602        |01:55         |01:49         |01:37     |1798       |ALL ac=VT-SQA dep=TIR arr=PNQ fn=SG 4051 dt=20220911.csv|2023-01-23 09:22:45.356|2022|September|2023-01-24 06:29:33.619|\n",
      "|2022-09-12|VT-SQA|SG 1076 |TIR-HYD|TIR      |07:48:00       |07:57:16     |08:48:49      |HYD    |08:58:00       |3095|3200         |963         |01:10         |01:03         |00:51     |2237       |ALL ac=VT-SQA dep=TIR arr=HYD fn=SG 1076 dt=20220912.csv|2023-01-23 09:22:45.356|2022|September|2023-01-24 06:29:33.619|\n",
      "+----------+------+--------+-------+---------+---------------+-------------+--------------+-------+---------------+----+-------------+------------+--------------+--------------+----------+-----------+--------------------------------------------------------+-----------------------+----+---------+-----------------------+\n",
      "only showing top 20 rows"
     ]
    }
   ],
   "source": [
    "Q400FinalFOBDF.show(truncate = False)"
   ]
  },
  {
   "cell_type": "code",
   "execution_count": 14,
   "id": "2b02f96e-758b-4c97-8e23-355cea7957a6",
   "metadata": {
    "execution": {
     "iopub.execute_input": "2023-01-24T06:30:59.341784Z",
     "iopub.status.busy": "2023-01-24T06:30:59.341561Z",
     "iopub.status.idle": "2023-01-24T06:30:59.590144Z",
     "shell.execute_reply": "2023-01-24T06:30:59.589638Z",
     "shell.execute_reply.started": "2023-01-24T06:30:59.341762Z"
    },
    "tags": []
   },
   "outputs": [
    {
     "data": {
      "application/vnd.jupyter.widget-view+json": {
       "model_id": "64593be772b845d8a82bbfdb0bfccebd",
       "version_major": 2,
       "version_minor": 0
      },
      "text/plain": [
       "VBox()"
      ]
     },
     "metadata": {},
     "output_type": "display_data"
    },
    {
     "data": {
      "application/vnd.jupyter.widget-view+json": {
       "model_id": "",
       "version_major": 2,
       "version_minor": 0
      },
      "text/plain": [
       "FloatProgress(value=0.0, bar_style='info', description='Progress:', layout=Layout(height='25px', width='50%'),…"
      ]
     },
     "metadata": {},
     "output_type": "display_data"
    }
   ],
   "source": [
    "Q400FinalFOBDF.createOrReplaceTempView('Q400FinalFOBDF')"
   ]
  },
  {
   "cell_type": "code",
   "execution_count": 15,
   "id": "8df72d5c-b5c0-497f-9555-09f4a7847aa9",
   "metadata": {
    "execution": {
     "iopub.execute_input": "2023-01-24T06:32:23.443792Z",
     "iopub.status.busy": "2023-01-24T06:32:23.443558Z",
     "iopub.status.idle": "2023-01-24T06:34:31.153857Z",
     "shell.execute_reply": "2023-01-24T06:34:31.153210Z",
     "shell.execute_reply.started": "2023-01-24T06:32:23.443767Z"
    }
   },
   "outputs": [
    {
     "data": {
      "application/vnd.jupyter.widget-view+json": {
       "model_id": "489e5862bbe74cc2b394a127911b343a",
       "version_major": 2,
       "version_minor": 0
      },
      "text/plain": [
       "VBox()"
      ]
     },
     "metadata": {},
     "output_type": "display_data"
    },
    {
     "data": {
      "application/vnd.jupyter.widget-view+json": {
       "model_id": "",
       "version_major": 2,
       "version_minor": 0
      },
      "text/plain": [
       "FloatProgress(value=0.0, bar_style='info', description='Progress:', layout=Layout(height='25px', width='50%'),…"
      ]
     },
     "metadata": {},
     "output_type": "display_data"
    },
    {
     "name": "stdout",
     "output_type": "stream",
     "text": [
      "+----------+------+--------+-------+---------+---------------+-------------+--------------+-------+---------------+----+-------------+------------+--------------+--------------+----------+-----------+------------------------------------------------------------+-----------------------+----+--------+-----------------------+\n",
      "|flightdate|TailNo|FlightNo|Sector |Departure|Actual_DEP_Time|Airborne_Time|Touchdown_Time|Arrival|Actual_ARR_Time|FOB |DepartureFuel|FuelConsumed|BlockTime_ARMS|BlockTime_DFDR|FlightTime|ArrivalFuel|FileName                                                    |loadeddate             |year|month   |ProcessedDate          |\n",
      "+----------+------+--------+-------+---------+---------------+-------------+--------------+-------+---------------+----+-------------+------------+--------------+--------------+----------+-----------+------------------------------------------------------------+-----------------------+----+--------+-----------------------+\n",
      "|2022-10-28|VT-SQA|SG 2902 |RAJ-BOM|RAJ      |16:25:00       |16:38:02     |17:43:06      |BOM    |17:50:00       |2445|2550         |1145        |01:25         |01:18         |01:05     |1405       |ALL ac=VT-SQA dep=RAJ arr=BOM fn=SEJ2J02 dt=20221028.csv    |2023-01-23 09:49:21.31 |2022|October |2023-01-24 06:32:23.511|\n",
      "|2022-10-28|VT-SQE|SG 2964 |JAI-PNQ|JAI      |05:05:00       |05:30:10     |07:01:21      |PNQ    |07:10:00       |3295|3400         |1791        |02:05         |01:56         |01:43     |1609       |ALL ac=VT-SQE dep=JAI arr=PNQ fn=SEJ2J64 dt=20221027.csv    |2023-01-23 09:49:21.31 |2022|October |2023-01-24 06:32:23.511|\n",
      "|2022-10-28|VT-SQA|SG 3023 |BLR-JLR|BLR      |05:57:00       |06:50:28     |06:47:33      |JLR    |08:57:00       |4590|4695         |2184        |03:00         |02:49         |02:01     |2511       |ALL _1_ ac=VT-SQA dep=BLR arr=JLR fn=SEJ3J23 dt=20221028.csv|2023-01-23 09:49:21.31 |2022|October |2023-01-24 06:32:23.511|\n",
      "|2022-10-28|VT-SQA|SG 3023 |BLR-JLR|BLR      |05:57:00       |06:50:28     |06:47:33      |JLR    |08:57:00       |4590|4695         |2184        |03:00         |02:49         |02:01     |2511       |ALL ac=VT-SQA dep=BLR arr=JLR fn=SEJ3J23 dt=20221028.csv    |2023-01-23 09:49:21.31 |2022|October |2023-01-24 06:32:23.511|\n",
      "|2022-10-28|VT-SQE|SG 3262 |UDR-JAI|UDR      |11:25:00       |11:35:39     |12:19:04      |JAI    |12:25:00       |2295|2400         |785         |01:00         |00:56         |00:43     |1615       |ALL ac=VT-SQE dep=UDR arr=JAI fn=SEJ3J62 dt=20221028.csv    |2023-01-23 09:49:21.31 |2022|October |2023-01-24 06:32:23.511|\n",
      "|2022-10-28|VT-SQE|SG 3704 |RAJ-GOI|RAJ      |19:09:00       |19:21:32     |20:58:23      |GOI    |21:04:00       |3595|3700         |1631        |01:55         |01:51         |01:36     |2069       |ALL ac=VT-SQE dep=RAJ arr=GOI fn=SEJ3J04 dt=20221028.csv    |2023-01-23 09:49:21.31 |2022|October |2023-01-24 06:32:23.511|\n",
      "|2022-11-01|VT-SQA|SG 4001 |HYD-GOI|HYD      |05:30:00       |06:30:02     |06:53:53      |GOI    |07:00:00       |3195|3300         |1139        |01:30         |01:26         |01:02     |2161       |ALL ac=VT-SQA dep=HYD arr=GOI fn=SEJ4J01 dt=20221101.csv    |2022-12-22 11:37:29.017|2022|November|2023-01-24 06:32:23.511|\n",
      "|2022-11-04|VT-SQC|SG 2344 |JAI-DEL|JAI      |06:13:00       |06:30:02     |06:54:45      |DEL    |07:03:00       |3895|4000         |749         |00:50         |00:47         |00:35     |3251       |ALL ac=VT-SQC dep=JAI arr=DEL fn=SEJ2J44 dt=20221104.csv    |2022-12-22 11:39:13.706|2022|November|2023-01-24 06:32:23.511|\n",
      "|2022-11-11|VT-SQA|SG 2349 |IXY-DEL|IXY      |17:54:00       |18:09:40     |20:01:09      |DEL    |20:09:00       |3445|3550         |1982        |02:15         |02:08         |01:51     |1568       |ALL ac=VT-SQA dep=IXY arr=DEL fn=SEJ2J49 dt=20221111.csv    |2022-12-22 11:42:59.432|2022|November|2023-01-24 06:32:23.511|\n",
      "|2022-11-11|VT-SQB|SG 2931 |HJR-VNS|HJR      |12:20:00       |12:31:58     |13:19:15      |VNS    |13:25:00       |3195|3300         |808         |01:05         |01:00         |00:47     |2492       |ALL ac=VT-SQB dep=HJR arr=VNS fn=SEJ2J31 dt=20221111.csv    |2022-12-22 11:42:59.432|2022|November|2023-01-24 06:32:23.511|\n",
      "|2022-11-11|VT-SQJ|SG 3749 |BOM-TIR|BOM      |17:23:00       |17:45:29     |19:42:42      |TIR    |19:48:00       |3395|3500         |1897        |02:25         |02:14         |01:57     |1603       |ALL ac=VT-SQJ dep=BOM arr=TIR fn=SEJ3J49 dt=20221111.csv    |2022-12-22 11:42:59.432|2022|November|2023-01-24 06:32:23.511|\n",
      "|2022-11-14|VT-SQJ|SG 3997 |PNY-HYD|PNY      |17:14:00       |17:26:01     |18:39:33      |HYD    |18:49:00       |3095|3200         |1237        |01:35         |01:25         |01:13     |1963       |ALL ac=VT-SQJ dep=PNY arr=HYD fn=SEJ3J97 dt=20221114.csv    |2022-12-22 11:44:15.54 |2022|November|2023-01-24 06:32:23.511|\n",
      "|2022-11-18|VT-SQB|SG 3003 |TIR-HYD|TIR      |22:10:00       |22:19:58     |23:13:39      |HYD    |23:25:00       |null|null         |1003        |01:15         |01:07         |00:53     |null       |ALL ac=VT-SQB dep=TIR arr=HYD fn=SEJ3J03 dt=20221118.csv    |2022-12-22 11:45:58.29 |2022|November|2023-01-24 06:32:23.511|\n",
      "|2022-11-21|VT-SQJ|SG 9992 |UDR-DEL|UDR      |08:12:00       |08:19:43     |09:22:11      |DEL    |09:28:00       |3245|3350         |1052        |01:16         |01:11         |01:02     |2298       |ALL ac=VT-SQJ dep=UDR arr=DEL fn=SEJ9J92 dt=20221121.csv    |2022-12-22 11:47:06.05 |2022|November|2023-01-24 06:32:23.511|\n",
      "|2022-11-25|VT-SUR|SG 2950 |DEL-VNS|DEL      |05:50:00       |06:30:02     |07:20:22      |VNS    |07:25:00       |3595|3700         |1424        |01:35         |01:29         |01:15     |2276       |ALL ac=VT-SUR dep=DEL arr=VNS fn=SEJ2J50 dt=20221125.csv    |2022-12-22 11:48:22.615|2022|November|2023-01-24 06:32:23.511|\n",
      "|2022-12-10|VT-SQB|SG 4001 |HYD-GOI|HYD      |05:10:00       |06:30:00     |06:30:07      |GOI    |06:40:00       |3295|3400         |1081        |01:30         |01:17         |01:01     |2319       |ALL ac=VT-SQB dep=HYD arr=GOI fn=SEJ4J01 dt=20221209.csv    |2022-12-22 11:54:55.951|2022|December|2023-01-24 06:32:23.511|\n",
      "|2022-12-16|VT-SQA|SG 1077 |AMD-PNQ|AMD      |05:45:00       |06:30:01     |06:56:59      |PNQ    |07:10:00       |3245|3350         |1233        |01:25         |01:14         |01:04     |2117       |ALL ac=VT-SQA dep=AMD arr=PNQ fn=SEJ1J77 dt=20221216.csv    |2022-12-22 11:57:23.582|2022|December|2023-01-24 06:32:23.511|\n",
      "|2022-12-18|VT-SQB|SG 3998 |BLR-PNY|BLR      |15:07:00       |15:30:01     |15:54:08      |PNY    |15:57:00       |2790|2895         |713         |00:50         |00:48         |00:37     |2182       |ALL ac=VT-SQB dep=BLR arr=PNY fn=SEJ3J97 dt=20221218.csv    |2022-12-22 11:58:39.055|2022|December|2023-01-24 06:32:23.511|\n",
      "|2022-12-18|VT-SUR|SG 4016 |JSA-JAI|JSA      |09:51:00       |10:02:54     |10:58:50      |JAI    |11:06:00       |2545|2650         |967         |01:15         |01:08         |00:55     |1683       |ALL ac=VT-SUR dep=JSA arr=JAI fn=SEJ4J16 dt=20221218.csv    |2022-12-22 11:59:12.978|2022|December|2023-01-24 06:32:23.511|\n",
      "|2022-12-25|VT-SUR|SG 2906 |JDH-DEL|JDH      |08:03:00       |08:15:15     |09:13:24      |DEL    |09:23:00       |3095|3200         |1088        |01:20         |01:12         |00:58     |2112       |ALL ac=VT-SUR dep=JDH arr=DEL fn=SEJ2J06 dt=20221225.csv    |2022-12-26 01:42:48.516|2022|December|2023-01-24 06:32:23.511|\n",
      "+----------+------+--------+-------+---------+---------------+-------------+--------------+-------+---------------+----+-------------+------------+--------------+--------------+----------+-----------+------------------------------------------------------------+-----------------------+----+--------+-----------------------+\n",
      "only showing top 20 rows"
     ]
    }
   ],
   "source": [
    "spark.sql('''\n",
    "\n",
    "                                    SELECT * FROM Q400FinalFOBDF\n",
    "                                        \n",
    "                                        Where Filename Like ('%SEJ%J%')\n",
    "\n",
    "\n",
    "''').show(truncate = False)"
   ]
  },
  {
   "cell_type": "code",
   "execution_count": 16,
   "id": "c70025b1-4bb9-460c-b1d6-d70731c67d1f",
   "metadata": {
    "execution": {
     "iopub.execute_input": "2023-01-24T06:34:44.812317Z",
     "iopub.status.busy": "2023-01-24T06:34:44.812064Z",
     "iopub.status.idle": "2023-01-24T06:36:04.313141Z",
     "shell.execute_reply": "2023-01-24T06:36:04.312634Z",
     "shell.execute_reply.started": "2023-01-24T06:34:44.812294Z"
    },
    "tags": []
   },
   "outputs": [
    {
     "data": {
      "application/vnd.jupyter.widget-view+json": {
       "model_id": "b59d8b405b57463c8f242efd715feecb",
       "version_major": 2,
       "version_minor": 0
      },
      "text/plain": [
       "VBox()"
      ]
     },
     "metadata": {},
     "output_type": "display_data"
    },
    {
     "data": {
      "application/vnd.jupyter.widget-view+json": {
       "model_id": "",
       "version_major": 2,
       "version_minor": 0
      },
      "text/plain": [
       "FloatProgress(value=0.0, bar_style='info', description='Progress:', layout=Layout(height='25px', width='50%'),…"
      ]
     },
     "metadata": {},
     "output_type": "display_data"
    }
   ],
   "source": [
    "Q400FinalFOBDF.write.mode(\"append\").partitionBy(\n",
    "        \"year\", \"month\").parquet('s3://sjet-datamart-bucket/FuelOnBoard/fuel-on-board-processed-q400/') "
   ]
  },
  {
   "cell_type": "raw",
   "id": "7049640c-710c-43c6-b31a-e741474e65f2",
   "metadata": {},
   "source": []
  },
  {
   "cell_type": "code",
   "execution_count": 17,
   "id": "7bbb5fca-6286-4ad6-816a-3c203363e2e0",
   "metadata": {
    "execution": {
     "iopub.execute_input": "2023-01-24T06:37:18.291599Z",
     "iopub.status.busy": "2023-01-24T06:37:18.291377Z",
     "iopub.status.idle": "2023-01-24T06:37:18.539910Z",
     "shell.execute_reply": "2023-01-24T06:37:18.539425Z",
     "shell.execute_reply.started": "2023-01-24T06:37:18.291575Z"
    }
   },
   "outputs": [
    {
     "data": {
      "application/vnd.jupyter.widget-view+json": {
       "model_id": "9705c5c8c994472bac9853fd7a5687bf",
       "version_major": 2,
       "version_minor": 0
      },
      "text/plain": [
       "VBox()"
      ]
     },
     "metadata": {},
     "output_type": "display_data"
    },
    {
     "data": {
      "application/vnd.jupyter.widget-view+json": {
       "model_id": "",
       "version_major": 2,
       "version_minor": 0
      },
      "text/plain": [
       "FloatProgress(value=0.0, bar_style='info', description='Progress:', layout=Layout(height='25px', width='50%'),…"
      ]
     },
     "metadata": {},
     "output_type": "display_data"
    }
   ],
   "source": [
    "spark.stop()"
   ]
  },
  {
   "cell_type": "code",
   "execution_count": null,
   "id": "ebc725af-9cbe-40a9-bb3d-e52363b20ac0",
   "metadata": {},
   "outputs": [],
   "source": []
  }
 ],
 "metadata": {
  "kernelspec": {
   "display_name": "PySpark",
   "language": "",
   "name": "pysparkkernel"
  },
  "language_info": {
   "codemirror_mode": {
    "name": "python",
    "version": 3
   },
   "mimetype": "text/x-python",
   "name": "pyspark",
   "pygments_lexer": "python3"
  }
 },
 "nbformat": 4,
 "nbformat_minor": 5
}
